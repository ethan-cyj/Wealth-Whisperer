{
 "cells": [
  {
   "cell_type": "code",
   "execution_count": null,
   "metadata": {},
   "outputs": [],
   "source": [
    "# !sudo apt install swig"
   ]
  },
  {
   "cell_type": "code",
   "execution_count": null,
   "metadata": {},
   "outputs": [],
   "source": [
    "# !pip install quantstats\n",
    "# !pip install scikit-learn\n",
    "# !pip install torch\n",
    "# !pip install git+https://github.com/AI4Finance-Foundation/FinRL.git\n",
    "#!pip install vmdpy"
   ]
  },
  {
   "cell_type": "code",
   "execution_count": 2,
   "metadata": {},
   "outputs": [],
   "source": [
    "import logging\n",
    "logging.getLogger('matplotlib.font_manager').disabled = True\n",
    "import torch\n",
    "\n",
    "import numpy as np\n",
    "\n",
    "from sklearn.preprocessing import MaxAbsScaler\n",
    "from finrl.meta.preprocessor.yahoodownloader import YahooDownloader\n",
    "from finrl.meta.preprocessor.preprocessors import GroupByScaler\n",
    "from finrl.meta.env_portfolio_optimization.env_portfolio_optimization import PortfolioOptimizationEnv\n",
    "from finrl.agents.portfolio_optimization.models import DRLAgent\n",
    "from finrl.agents.portfolio_optimization.architectures import EIIE\n",
    "\n",
    "device = 'cuda:0' if torch.cuda.is_available() else 'cpu'"
   ]
  },
  {
   "cell_type": "code",
   "execution_count": 3,
   "metadata": {},
   "outputs": [
    {
     "name": "stdout",
     "output_type": "stream",
     "text": [
      "10\n"
     ]
    },
    {
     "name": "stderr",
     "output_type": "stream",
     "text": [
      "[*********************100%***********************]  1 of 1 completed\n",
      "[*********************100%***********************]  1 of 1 completed\n",
      "[*********************100%***********************]  1 of 1 completed\n",
      "[*********************100%***********************]  1 of 1 completed\n",
      "[*********************100%***********************]  1 of 1 completed\n",
      "[*********************100%***********************]  1 of 1 completed\n",
      "[*********************100%***********************]  1 of 1 completed\n",
      "[*********************100%***********************]  1 of 1 completed\n",
      "[*********************100%***********************]  1 of 1 completed\n",
      "[*********************100%***********************]  1 of 1 completed\n"
     ]
    },
    {
     "name": "stdout",
     "output_type": "stream",
     "text": [
      "Shape of DataFrame:  (60370, 8)\n"
     ]
    },
    {
     "name": "stderr",
     "output_type": "stream",
     "text": [
      "/Users/ethan/Documents/GitHub/DSE4212/venv/lib/python3.10/site-packages/finrl/meta/preprocessor/preprocessors.py:101: FutureWarning: Setting an item of incompatible dtype is deprecated and will raise an error in a future version of pandas. Value '[0.07219385 0.06903832 0.1048719  ... 0.00647939 0.00458792 0.00574385]' has dtype incompatible with int64, please explicitly cast to a compatible dtype first.\n",
      "  X.loc[select_mask, self.columns] = self.scalers[value].transform(\n",
      "/Users/ethan/Documents/GitHub/DSE4212/venv/lib/python3.10/site-packages/finrl/meta/preprocessor/preprocessors.py:101: FutureWarning: Setting an item of incompatible dtype is deprecated and will raise an error in a future version of pandas. Value '[0.   0.25 0.5  ... 0.5  0.75 1.  ]' has dtype incompatible with int32, please explicitly cast to a compatible dtype first.\n",
      "  X.loc[select_mask, self.columns] = self.scalers[value].transform(\n"
     ]
    }
   ],
   "source": [
    "TEST_SET = [\n",
    "    \"AAPL\", \"CVX\", \"GS\", \"JNJ\",\n",
    "    \"JPM\", \"MSFT\", \"PFE\", \"PG\",\n",
    "    \"UL\", \"XOM\"\n",
    "]\n",
    "START_DATE = '2000-01-01'\n",
    "END_DATE = '2023-12-31'\n",
    "print(len(TEST_SET))\n",
    "\n",
    "portfolio_raw_df = YahooDownloader(start_date = START_DATE,\n",
    "                                end_date = END_DATE,\n",
    "                                ticker_list = TEST_SET).fetch_data()\n",
    "portfolio_raw_df\n",
    "portfolio_raw_df.groupby(\"tic\").count()\n",
    "portfolio_norm_df = GroupByScaler(by=\"tic\", scaler=MaxAbsScaler).fit_transform(portfolio_raw_df)\n",
    "portfolio_norm_df\n",
    "df_portfolio = portfolio_norm_df[[\"date\", \"tic\", \"close\", \"high\", \"low\"]]\n",
    "\n",
    "df_portfolio_train = df_portfolio[(df_portfolio[\"date\"] >= START_DATE) & (df_portfolio[\"date\"] < \"2020-12-31\")]\n",
    "df_portfolio_2021 = df_portfolio[(df_portfolio[\"date\"] >= \"2021-01-01\") & (df_portfolio[\"date\"] < \"2021-12-31\")]\n",
    "df_portfolio_2022 = df_portfolio[(df_portfolio[\"date\"] >= \"2022-01-01\") & (df_portfolio[\"date\"] < \"2022-12-31\")]\n",
    "df_portfolio_2023 = df_portfolio[(df_portfolio[\"date\"] >= \"2023-01-01\") & (df_portfolio[\"date\"] < END_DATE)]"
   ]
  },
  {
   "cell_type": "code",
   "execution_count": 4,
   "metadata": {},
   "outputs": [
    {
     "name": "stdout",
     "output_type": "stream",
     "text": [
      "Length mismatch for AAPL: VMD output has 5282 points, expected 5283\n",
      "Length mismatch for CVX: VMD output has 5282 points, expected 5283\n",
      "Length mismatch for GS: VMD output has 5282 points, expected 5283\n",
      "Length mismatch for JNJ: VMD output has 5282 points, expected 5283\n",
      "Length mismatch for JPM: VMD output has 5282 points, expected 5283\n",
      "Length mismatch for MSFT: VMD output has 5282 points, expected 5283\n",
      "Length mismatch for PFE: VMD output has 5282 points, expected 5283\n",
      "Length mismatch for PG: VMD output has 5282 points, expected 5283\n",
      "Length mismatch for UL: VMD output has 5282 points, expected 5283\n",
      "Length mismatch for XOM: VMD output has 5282 points, expected 5283\n",
      "Length mismatch for AAPL: VMD output has 250 points, expected 251\n",
      "Length mismatch for CVX: VMD output has 250 points, expected 251\n",
      "Length mismatch for GS: VMD output has 250 points, expected 251\n",
      "Length mismatch for JNJ: VMD output has 250 points, expected 251\n",
      "Length mismatch for JPM: VMD output has 250 points, expected 251\n",
      "Length mismatch for MSFT: VMD output has 250 points, expected 251\n",
      "Length mismatch for PFE: VMD output has 250 points, expected 251\n",
      "Length mismatch for PG: VMD output has 250 points, expected 251\n",
      "Length mismatch for UL: VMD output has 250 points, expected 251\n",
      "Length mismatch for XOM: VMD output has 250 points, expected 251\n",
      "Length mismatch for AAPL: VMD output has 250 points, expected 251\n",
      "Length mismatch for CVX: VMD output has 250 points, expected 251\n",
      "Length mismatch for GS: VMD output has 250 points, expected 251\n",
      "Length mismatch for JNJ: VMD output has 250 points, expected 251\n",
      "Length mismatch for JPM: VMD output has 250 points, expected 251\n",
      "Length mismatch for MSFT: VMD output has 250 points, expected 251\n",
      "Length mismatch for PFE: VMD output has 250 points, expected 251\n",
      "Length mismatch for PG: VMD output has 250 points, expected 251\n",
      "Length mismatch for UL: VMD output has 250 points, expected 251\n",
      "Length mismatch for XOM: VMD output has 250 points, expected 251\n"
     ]
    }
   ],
   "source": [
    "import pandas as pd\n",
    "from vmdpy import VMD\n",
    "\n",
    "def apply_vmd_to_ticker(df, alpha=5000, tau=0, K=3, DC=0, init=1, tol=1e-7):\n",
    "    \"\"\"Applies VMD to the 'close' price for each ticker in the dataframe\n",
    "    and handles any length mismatch issues.\"\"\"\n",
    "    vmd_features = []\n",
    "    \n",
    "    # Apply VMD per ticker\n",
    "    for tic in df['tic'].unique():\n",
    "        tic_df = df[df['tic'] == tic].copy()  # Filter data for the current ticker\n",
    "        close_prices = tic_df['close'].to_numpy()  # Extract close prices\n",
    "        \n",
    "        # Perform VMD on the close prices\n",
    "        u, _, _ = VMD(close_prices, alpha, tau, K, DC, init, tol)\n",
    "        \n",
    "        # Check if the lengths match, and if not, align them\n",
    "        if u.shape[1] != len(tic_df):\n",
    "            print(f\"Length mismatch for {tic}: VMD output has {u.shape[1]} points, expected {len(tic_df)}\")\n",
    "            min_len = min(u.shape[1], len(tic_df))\n",
    "            tic_df = tic_df.iloc[:min_len]  # Truncate the dataframe to match VMD output length\n",
    "            u = u[:, :min_len]  # Truncate VMD output if necessary\n",
    "        \n",
    "        # Assign VMD modes to columns\n",
    "        for k in range(K):\n",
    "            tic_df[f'vmd_mode_{k}'] = u[k, :]\n",
    "        \n",
    "        # Append the dataframe with VMD modes\n",
    "        vmd_features.append(tic_df)\n",
    "    \n",
    "    # Concatenate all VMD modes into one dataframe\n",
    "    vmd_df = pd.concat(vmd_features, axis=0)\n",
    "    \n",
    "    return vmd_df\n",
    "\n",
    "# Apply VMD to the training data\n",
    "df_portfolio_train_vmd = apply_vmd_to_ticker(df_portfolio_train)\n",
    "df_portfolio_2021_vmd = apply_vmd_to_ticker(df_portfolio_2021)\n",
    "df_portfolio_2022_vmd = apply_vmd_to_ticker(df_portfolio_2022)\n",
    "df_portfolio_2023_vmd = apply_vmd_to_ticker(df_portfolio_2023)\n"
   ]
  },
  {
   "cell_type": "code",
   "execution_count": 5,
   "metadata": {},
   "outputs": [],
   "source": [
    "environment_vmd = PortfolioOptimizationEnv(\n",
    "    df=df_portfolio_train_vmd,\n",
    "    initial_amount=100000,\n",
    "    comission_fee_pct=0.0025,\n",
    "    time_window=50,\n",
    "    features=[\"close\", \"high\", \"low\", \"vmd_mode_0\", \"vmd_mode_1\", \"vmd_mode_2\"],  # Add VMD modes as features\n",
    "    normalize_df=None\n",
    ")\n",
    "\n",
    "# set PolicyGradient parameters\n",
    "model_kwargs = {\n",
    "    \"lr\": 0.01,\n",
    "    \"policy\": EIIE,\n",
    "}\n",
    "\n",
    "# here, we can set EIIE's parameters\n",
    "policy_kwargs = {\n",
    "    \"k_size\": 3,\n",
    "    \"time_window\": 50,\n",
    "    \"initial_features\": 6\n",
    "}\n",
    "\n",
    "model = DRLAgent(environment_vmd).get_model(\"pg\", device, model_kwargs, policy_kwargs)"
   ]
  },
  {
   "cell_type": "code",
   "execution_count": 6,
   "metadata": {},
   "outputs": [
    {
     "name": "stderr",
     "output_type": "stream",
     "text": [
      "  0%|          | 0/50 [00:00<?, ?it/s]"
     ]
    },
    {
     "name": "stdout",
     "output_type": "stream",
     "text": [
      "=================================\n",
      "Initial portfolio value:100000\n",
      "Final portfolio value: 833287.5625\n",
      "Final accumulative portfolio value: 8.332875625\n",
      "Maximum DrawDown: -0.42290616943274806\n",
      "Sharpe ratio: 0.6487505494239127\n",
      "=================================\n"
     ]
    },
    {
     "name": "stderr",
     "output_type": "stream",
     "text": [
      "  2%|▏         | 1/50 [00:18<15:29, 18.97s/it]"
     ]
    },
    {
     "name": "stdout",
     "output_type": "stream",
     "text": [
      "=================================\n",
      "Initial portfolio value:100000\n",
      "Final portfolio value: 1029413.125\n",
      "Final accumulative portfolio value: 10.29413125\n",
      "Maximum DrawDown: -0.4296705430260155\n",
      "Sharpe ratio: 0.6907156301803709\n",
      "=================================\n"
     ]
    },
    {
     "name": "stderr",
     "output_type": "stream",
     "text": [
      "  4%|▍         | 2/50 [00:37<15:06, 18.89s/it]"
     ]
    },
    {
     "name": "stdout",
     "output_type": "stream",
     "text": [
      "=================================\n",
      "Initial portfolio value:100000\n",
      "Final portfolio value: 4589448.0\n",
      "Final accumulative portfolio value: 45.89448\n",
      "Maximum DrawDown: -0.4802978755317988\n",
      "Sharpe ratio: 0.9296149925986501\n",
      "=================================\n"
     ]
    },
    {
     "name": "stderr",
     "output_type": "stream",
     "text": [
      "  6%|▌         | 3/50 [00:58<15:28, 19.75s/it]"
     ]
    },
    {
     "name": "stdout",
     "output_type": "stream",
     "text": [
      "=================================\n",
      "Initial portfolio value:100000\n",
      "Final portfolio value: 9878058.0\n",
      "Final accumulative portfolio value: 98.78058\n",
      "Maximum DrawDown: -0.5845876355214705\n",
      "Sharpe ratio: 1.0126908347300323\n",
      "=================================\n"
     ]
    },
    {
     "name": "stderr",
     "output_type": "stream",
     "text": [
      "  8%|▊         | 4/50 [01:17<14:58, 19.53s/it]"
     ]
    },
    {
     "name": "stdout",
     "output_type": "stream",
     "text": [
      "=================================\n",
      "Initial portfolio value:100000\n",
      "Final portfolio value: 6859878.5\n",
      "Final accumulative portfolio value: 68.598785\n",
      "Maximum DrawDown: -0.45530213411282605\n",
      "Sharpe ratio: 0.9965625086806429\n",
      "=================================\n"
     ]
    },
    {
     "name": "stderr",
     "output_type": "stream",
     "text": [
      " 10%|█         | 5/50 [01:36<14:24, 19.22s/it]"
     ]
    },
    {
     "name": "stdout",
     "output_type": "stream",
     "text": [
      "=================================\n",
      "Initial portfolio value:100000\n",
      "Final portfolio value: 14232241.0\n",
      "Final accumulative portfolio value: 142.32241\n",
      "Maximum DrawDown: -0.5031644798551105\n",
      "Sharpe ratio: 1.064030957753739\n",
      "=================================\n"
     ]
    },
    {
     "name": "stderr",
     "output_type": "stream",
     "text": [
      " 12%|█▏        | 6/50 [01:55<14:08, 19.28s/it]"
     ]
    },
    {
     "name": "stdout",
     "output_type": "stream",
     "text": [
      "=================================\n",
      "Initial portfolio value:100000\n",
      "Final portfolio value: 30488824.0\n",
      "Final accumulative portfolio value: 304.88824\n",
      "Maximum DrawDown: -0.569393299065649\n",
      "Sharpe ratio: 1.1170463263993702\n",
      "=================================\n"
     ]
    },
    {
     "name": "stderr",
     "output_type": "stream",
     "text": [
      " 14%|█▍        | 7/50 [02:15<13:56, 19.46s/it]"
     ]
    },
    {
     "name": "stdout",
     "output_type": "stream",
     "text": [
      "=================================\n",
      "Initial portfolio value:100000\n",
      "Final portfolio value: 9407897.0\n",
      "Final accumulative portfolio value: 94.07897\n",
      "Maximum DrawDown: -0.650981936460312\n",
      "Sharpe ratio: 0.9666993919473029\n",
      "=================================\n"
     ]
    },
    {
     "name": "stderr",
     "output_type": "stream",
     "text": [
      " 16%|█▌        | 8/50 [02:35<13:37, 19.46s/it]"
     ]
    },
    {
     "name": "stdout",
     "output_type": "stream",
     "text": [
      "=================================\n",
      "Initial portfolio value:100000\n",
      "Final portfolio value: 23965724.0\n",
      "Final accumulative portfolio value: 239.65724\n",
      "Maximum DrawDown: -0.5782849943800981\n",
      "Sharpe ratio: 1.040262973376764\n",
      "=================================\n"
     ]
    },
    {
     "name": "stderr",
     "output_type": "stream",
     "text": [
      " 18%|█▊        | 9/50 [02:54<13:17, 19.44s/it]"
     ]
    },
    {
     "name": "stdout",
     "output_type": "stream",
     "text": [
      "=================================\n",
      "Initial portfolio value:100000\n",
      "Final portfolio value: 10113182.0\n",
      "Final accumulative portfolio value: 101.13182\n",
      "Maximum DrawDown: -0.8378161637697515\n",
      "Sharpe ratio: 0.8624176262255104\n",
      "=================================\n"
     ]
    },
    {
     "name": "stderr",
     "output_type": "stream",
     "text": [
      " 20%|██        | 10/50 [03:14<12:58, 19.47s/it]"
     ]
    },
    {
     "name": "stdout",
     "output_type": "stream",
     "text": [
      "=================================\n",
      "Initial portfolio value:100000\n",
      "Final portfolio value: 93563624.0\n",
      "Final accumulative portfolio value: 935.63624\n",
      "Maximum DrawDown: -0.7738847424041859\n",
      "Sharpe ratio: 1.0556268008457672\n",
      "=================================\n"
     ]
    },
    {
     "name": "stderr",
     "output_type": "stream",
     "text": [
      " 22%|██▏       | 11/50 [03:33<12:36, 19.39s/it]"
     ]
    },
    {
     "name": "stdout",
     "output_type": "stream",
     "text": [
      "=================================\n",
      "Initial portfolio value:100000\n",
      "Final portfolio value: 105233016.0\n",
      "Final accumulative portfolio value: 1052.33016\n",
      "Maximum DrawDown: -0.7276085768931795\n",
      "Sharpe ratio: 1.1249810778761882\n",
      "=================================\n"
     ]
    },
    {
     "name": "stderr",
     "output_type": "stream",
     "text": [
      " 24%|██▍       | 12/50 [03:52<12:15, 19.36s/it]"
     ]
    },
    {
     "name": "stdout",
     "output_type": "stream",
     "text": [
      "=================================\n",
      "Initial portfolio value:100000\n",
      "Final portfolio value: 4562541056.0\n",
      "Final accumulative portfolio value: 45625.41056\n",
      "Maximum DrawDown: -0.36841892038492874\n",
      "Sharpe ratio: 1.7767762042000332\n",
      "=================================\n"
     ]
    },
    {
     "name": "stderr",
     "output_type": "stream",
     "text": [
      " 26%|██▌       | 13/50 [04:12<11:57, 19.40s/it]"
     ]
    },
    {
     "name": "stdout",
     "output_type": "stream",
     "text": [
      "=================================\n",
      "Initial portfolio value:100000\n",
      "Final portfolio value: 8003314176.0\n",
      "Final accumulative portfolio value: 80033.14176\n",
      "Maximum DrawDown: -0.33312245995179846\n",
      "Sharpe ratio: 1.9226700190605968\n",
      "=================================\n"
     ]
    },
    {
     "name": "stderr",
     "output_type": "stream",
     "text": [
      " 28%|██▊       | 14/50 [04:32<11:44, 19.56s/it]"
     ]
    },
    {
     "name": "stdout",
     "output_type": "stream",
     "text": [
      "=================================\n",
      "Initial portfolio value:100000\n",
      "Final portfolio value: 919180416.0\n",
      "Final accumulative portfolio value: 9191.80416\n",
      "Maximum DrawDown: -0.5419314738513514\n",
      "Sharpe ratio: 1.4652870703860335\n",
      "=================================\n"
     ]
    },
    {
     "name": "stderr",
     "output_type": "stream",
     "text": [
      " 30%|███       | 15/50 [04:51<11:19, 19.41s/it]"
     ]
    },
    {
     "name": "stdout",
     "output_type": "stream",
     "text": [
      "=================================\n",
      "Initial portfolio value:100000\n",
      "Final portfolio value: 14907469824.0\n",
      "Final accumulative portfolio value: 149074.69824\n",
      "Maximum DrawDown: -0.33318239696585783\n",
      "Sharpe ratio: 1.941408946163328\n",
      "=================================\n"
     ]
    },
    {
     "name": "stderr",
     "output_type": "stream",
     "text": [
      " 32%|███▏      | 16/50 [05:09<10:53, 19.21s/it]"
     ]
    },
    {
     "name": "stdout",
     "output_type": "stream",
     "text": [
      "=================================\n",
      "Initial portfolio value:100000\n",
      "Final portfolio value: 46150881280.0\n",
      "Final accumulative portfolio value: 461508.8128\n",
      "Maximum DrawDown: -0.3331830383526603\n",
      "Sharpe ratio: 2.182740193586492\n",
      "=================================\n"
     ]
    },
    {
     "name": "stderr",
     "output_type": "stream",
     "text": [
      " 34%|███▍      | 17/50 [05:29<10:35, 19.26s/it]"
     ]
    },
    {
     "name": "stdout",
     "output_type": "stream",
     "text": [
      "=================================\n",
      "Initial portfolio value:100000\n",
      "Final portfolio value: 162419736576.0\n",
      "Final accumulative portfolio value: 1624197.36576\n",
      "Maximum DrawDown: -0.3331830380960066\n",
      "Sharpe ratio: 2.4446953304932757\n",
      "=================================\n"
     ]
    },
    {
     "name": "stderr",
     "output_type": "stream",
     "text": [
      " 36%|███▌      | 18/50 [05:48<10:12, 19.13s/it]"
     ]
    },
    {
     "name": "stdout",
     "output_type": "stream",
     "text": [
      "=================================\n",
      "Initial portfolio value:100000\n",
      "Final portfolio value: 62781509632.0\n",
      "Final accumulative portfolio value: 627815.09632\n",
      "Maximum DrawDown: -0.3384856359796634\n",
      "Sharpe ratio: 2.3426976528879018\n",
      "=================================\n"
     ]
    },
    {
     "name": "stderr",
     "output_type": "stream",
     "text": [
      " 38%|███▊      | 19/50 [06:06<09:47, 18.96s/it]"
     ]
    },
    {
     "name": "stdout",
     "output_type": "stream",
     "text": [
      "=================================\n",
      "Initial portfolio value:100000\n",
      "Final portfolio value: 157081534464.0\n",
      "Final accumulative portfolio value: 1570815.34464\n",
      "Maximum DrawDown: -0.2802656188841455\n",
      "Sharpe ratio: 2.5585742119602544\n",
      "=================================\n"
     ]
    },
    {
     "name": "stderr",
     "output_type": "stream",
     "text": [
      " 40%|████      | 20/50 [06:24<09:21, 18.73s/it]"
     ]
    },
    {
     "name": "stdout",
     "output_type": "stream",
     "text": [
      "=================================\n",
      "Initial portfolio value:100000\n",
      "Final portfolio value: 2043380105216.0\n",
      "Final accumulative portfolio value: 20433801.05216\n",
      "Maximum DrawDown: -0.21681626991287373\n",
      "Sharpe ratio: 3.035449136447008\n",
      "=================================\n"
     ]
    },
    {
     "name": "stderr",
     "output_type": "stream",
     "text": [
      " 42%|████▏     | 21/50 [06:43<09:00, 18.62s/it]"
     ]
    },
    {
     "name": "stdout",
     "output_type": "stream",
     "text": [
      "=================================\n",
      "Initial portfolio value:100000\n",
      "Final portfolio value: 4292297472.0\n",
      "Final accumulative portfolio value: 42922.97472\n",
      "Maximum DrawDown: -0.25963898792672657\n",
      "Sharpe ratio: 1.9916496219421576\n",
      "=================================\n"
     ]
    },
    {
     "name": "stderr",
     "output_type": "stream",
     "text": [
      " 44%|████▍     | 22/50 [07:01<08:40, 18.59s/it]"
     ]
    },
    {
     "name": "stdout",
     "output_type": "stream",
     "text": [
      "=================================\n",
      "Initial portfolio value:100000\n",
      "Final portfolio value: 172737003520.0\n",
      "Final accumulative portfolio value: 1727370.0352\n",
      "Maximum DrawDown: -0.23719907610202906\n",
      "Sharpe ratio: 2.767753541234232\n",
      "=================================\n"
     ]
    },
    {
     "name": "stderr",
     "output_type": "stream",
     "text": [
      " 46%|████▌     | 23/50 [07:20<08:22, 18.60s/it]"
     ]
    },
    {
     "name": "stdout",
     "output_type": "stream",
     "text": [
      "=================================\n",
      "Initial portfolio value:100000\n",
      "Final portfolio value: 15291961573376.0\n",
      "Final accumulative portfolio value: 152919615.73376\n",
      "Maximum DrawDown: -0.21001136620886174\n",
      "Sharpe ratio: 3.351062269303805\n",
      "=================================\n"
     ]
    },
    {
     "name": "stderr",
     "output_type": "stream",
     "text": [
      " 48%|████▊     | 24/50 [07:40<08:12, 18.96s/it]"
     ]
    },
    {
     "name": "stdout",
     "output_type": "stream",
     "text": [
      "=================================\n",
      "Initial portfolio value:100000\n",
      "Final portfolio value: 29093651283968.0\n",
      "Final accumulative portfolio value: 290936512.83968\n",
      "Maximum DrawDown: -0.2122906540392362\n",
      "Sharpe ratio: 3.3507314234478094\n",
      "=================================\n"
     ]
    },
    {
     "name": "stderr",
     "output_type": "stream",
     "text": [
      " 50%|█████     | 25/50 [07:59<07:57, 19.09s/it]"
     ]
    },
    {
     "name": "stdout",
     "output_type": "stream",
     "text": [
      "=================================\n",
      "Initial portfolio value:100000\n",
      "Final portfolio value: 74101213364224.0\n",
      "Final accumulative portfolio value: 741012133.64224\n",
      "Maximum DrawDown: -0.20113561036658967\n",
      "Sharpe ratio: 3.4656199150287033\n",
      "=================================\n"
     ]
    },
    {
     "name": "stderr",
     "output_type": "stream",
     "text": [
      " 52%|█████▏    | 26/50 [08:18<07:40, 19.18s/it]"
     ]
    },
    {
     "name": "stdout",
     "output_type": "stream",
     "text": [
      "=================================\n",
      "Initial portfolio value:100000\n",
      "Final portfolio value: 298143946113024.0\n",
      "Final accumulative portfolio value: 2981439461.13024\n",
      "Maximum DrawDown: -0.19506831117162415\n",
      "Sharpe ratio: 3.660119410487391\n",
      "=================================\n"
     ]
    },
    {
     "name": "stderr",
     "output_type": "stream",
     "text": [
      " 54%|█████▍    | 27/50 [08:38<07:26, 19.41s/it]"
     ]
    },
    {
     "name": "stdout",
     "output_type": "stream",
     "text": [
      "=================================\n",
      "Initial portfolio value:100000\n",
      "Final portfolio value: 402644057194496.0\n",
      "Final accumulative portfolio value: 4026440571.94496\n",
      "Maximum DrawDown: -0.19196430199052805\n",
      "Sharpe ratio: 3.665292798592542\n",
      "=================================\n"
     ]
    },
    {
     "name": "stderr",
     "output_type": "stream",
     "text": [
      " 56%|█████▌    | 28/50 [08:58<07:11, 19.61s/it]"
     ]
    },
    {
     "name": "stdout",
     "output_type": "stream",
     "text": [
      "=================================\n",
      "Initial portfolio value:100000\n",
      "Final portfolio value: 521327559573504.0\n",
      "Final accumulative portfolio value: 5213275595.73504\n",
      "Maximum DrawDown: -0.22428351199796326\n",
      "Sharpe ratio: 3.6512668816728078\n",
      "=================================\n"
     ]
    },
    {
     "name": "stderr",
     "output_type": "stream",
     "text": [
      " 58%|█████▊    | 29/50 [09:17<06:46, 19.34s/it]"
     ]
    },
    {
     "name": "stdout",
     "output_type": "stream",
     "text": [
      "=================================\n",
      "Initial portfolio value:100000\n",
      "Final portfolio value: 1082042922041344.0\n",
      "Final accumulative portfolio value: 10820429220.41344\n",
      "Maximum DrawDown: -0.20309940285651773\n",
      "Sharpe ratio: 3.7537914301810607\n",
      "=================================\n"
     ]
    },
    {
     "name": "stderr",
     "output_type": "stream",
     "text": [
      " 60%|██████    | 30/50 [09:36<06:22, 19.10s/it]"
     ]
    },
    {
     "name": "stdout",
     "output_type": "stream",
     "text": [
      "=================================\n",
      "Initial portfolio value:100000\n",
      "Final portfolio value: 1847026929106944.0\n",
      "Final accumulative portfolio value: 18470269291.06944\n",
      "Maximum DrawDown: -0.2004784177683695\n",
      "Sharpe ratio: 3.8642049759132524\n",
      "=================================\n"
     ]
    },
    {
     "name": "stderr",
     "output_type": "stream",
     "text": [
      " 62%|██████▏   | 31/50 [09:54<06:00, 18.95s/it]"
     ]
    },
    {
     "name": "stdout",
     "output_type": "stream",
     "text": [
      "=================================\n",
      "Initial portfolio value:100000\n",
      "Final portfolio value: 1448093589438464.0\n",
      "Final accumulative portfolio value: 14480935894.38464\n",
      "Maximum DrawDown: -0.2101892884249006\n",
      "Sharpe ratio: 3.8510286644934792\n",
      "=================================\n"
     ]
    },
    {
     "name": "stderr",
     "output_type": "stream",
     "text": [
      " 64%|██████▍   | 32/50 [10:13<05:42, 19.00s/it]"
     ]
    },
    {
     "name": "stdout",
     "output_type": "stream",
     "text": [
      "=================================\n",
      "Initial portfolio value:100000\n",
      "Final portfolio value: 3128773079728128.0\n",
      "Final accumulative portfolio value: 31287730797.28128\n",
      "Maximum DrawDown: -0.2053639271107962\n",
      "Sharpe ratio: 3.9738269995923576\n",
      "=================================\n"
     ]
    },
    {
     "name": "stderr",
     "output_type": "stream",
     "text": [
      " 66%|██████▌   | 33/50 [10:33<05:25, 19.15s/it]"
     ]
    },
    {
     "name": "stdout",
     "output_type": "stream",
     "text": [
      "=================================\n",
      "Initial portfolio value:100000\n",
      "Final portfolio value: 5554572755992576.0\n",
      "Final accumulative portfolio value: 55545727559.92576\n",
      "Maximum DrawDown: -0.20501076029687837\n",
      "Sharpe ratio: 4.051430036178532\n",
      "=================================\n"
     ]
    },
    {
     "name": "stderr",
     "output_type": "stream",
     "text": [
      " 68%|██████▊   | 34/50 [10:53<05:10, 19.41s/it]"
     ]
    },
    {
     "name": "stdout",
     "output_type": "stream",
     "text": [
      "=================================\n",
      "Initial portfolio value:100000\n",
      "Final portfolio value: 8547819216437248.0\n",
      "Final accumulative portfolio value: 85478192164.37248\n",
      "Maximum DrawDown: -0.20401503265777698\n",
      "Sharpe ratio: 4.088436956456869\n",
      "=================================\n"
     ]
    },
    {
     "name": "stderr",
     "output_type": "stream",
     "text": [
      " 70%|███████   | 35/50 [11:12<04:48, 19.26s/it]"
     ]
    },
    {
     "name": "stdout",
     "output_type": "stream",
     "text": [
      "=================================\n",
      "Initial portfolio value:100000\n",
      "Final portfolio value: 6041540442980352.0\n",
      "Final accumulative portfolio value: 60415404429.80352\n",
      "Maximum DrawDown: -0.18917799800277924\n",
      "Sharpe ratio: 4.030064408178817\n",
      "=================================\n"
     ]
    },
    {
     "name": "stderr",
     "output_type": "stream",
     "text": [
      " 72%|███████▏  | 36/50 [11:31<04:27, 19.13s/it]"
     ]
    },
    {
     "name": "stdout",
     "output_type": "stream",
     "text": [
      "=================================\n",
      "Initial portfolio value:100000\n",
      "Final portfolio value: 7648555070128128.0\n",
      "Final accumulative portfolio value: 76485550701.28128\n",
      "Maximum DrawDown: -0.18795735933454094\n",
      "Sharpe ratio: 4.051599585454101\n",
      "=================================\n"
     ]
    },
    {
     "name": "stderr",
     "output_type": "stream",
     "text": [
      " 74%|███████▍  | 37/50 [11:50<04:09, 19.19s/it]"
     ]
    },
    {
     "name": "stdout",
     "output_type": "stream",
     "text": [
      "=================================\n",
      "Initial portfolio value:100000\n",
      "Final portfolio value: 9162985234759680.0\n",
      "Final accumulative portfolio value: 91629852347.5968\n",
      "Maximum DrawDown: -0.17827699538657182\n",
      "Sharpe ratio: 4.064138831698585\n",
      "=================================\n"
     ]
    },
    {
     "name": "stderr",
     "output_type": "stream",
     "text": [
      " 76%|███████▌  | 38/50 [12:09<03:51, 19.26s/it]"
     ]
    },
    {
     "name": "stdout",
     "output_type": "stream",
     "text": [
      "=================================\n",
      "Initial portfolio value:100000\n",
      "Final portfolio value: 9848238676901888.0\n",
      "Final accumulative portfolio value: 98482386769.01888\n",
      "Maximum DrawDown: -0.17648294856157343\n",
      "Sharpe ratio: 4.071280322354146\n",
      "=================================\n"
     ]
    },
    {
     "name": "stderr",
     "output_type": "stream",
     "text": [
      " 78%|███████▊  | 39/50 [12:29<03:32, 19.34s/it]"
     ]
    },
    {
     "name": "stdout",
     "output_type": "stream",
     "text": [
      "=================================\n",
      "Initial portfolio value:100000\n",
      "Final portfolio value: 1.0572917771337728e+16\n",
      "Final accumulative portfolio value: 105729177713.37727\n",
      "Maximum DrawDown: -0.1760962386797975\n",
      "Sharpe ratio: 4.086289308939537\n",
      "=================================\n"
     ]
    },
    {
     "name": "stderr",
     "output_type": "stream",
     "text": [
      " 80%|████████  | 40/50 [12:47<03:10, 19.07s/it]"
     ]
    },
    {
     "name": "stdout",
     "output_type": "stream",
     "text": [
      "=================================\n",
      "Initial portfolio value:100000\n",
      "Final portfolio value: 1.4495872180027392e+16\n",
      "Final accumulative portfolio value: 144958721800.27393\n",
      "Maximum DrawDown: -0.17724880887657735\n",
      "Sharpe ratio: 4.103561961806534\n",
      "=================================\n"
     ]
    },
    {
     "name": "stderr",
     "output_type": "stream",
     "text": [
      " 82%|████████▏ | 41/50 [13:06<02:51, 19.00s/it]"
     ]
    },
    {
     "name": "stdout",
     "output_type": "stream",
     "text": [
      "=================================\n",
      "Initial portfolio value:100000\n",
      "Final portfolio value: 9472600837193728.0\n",
      "Final accumulative portfolio value: 94726008371.93729\n",
      "Maximum DrawDown: -0.18114781611470132\n",
      "Sharpe ratio: 4.054202032467631\n",
      "=================================\n"
     ]
    },
    {
     "name": "stderr",
     "output_type": "stream",
     "text": [
      " 84%|████████▍ | 42/50 [13:25<02:31, 18.96s/it]"
     ]
    },
    {
     "name": "stdout",
     "output_type": "stream",
     "text": [
      "=================================\n",
      "Initial portfolio value:100000\n",
      "Final portfolio value: 9038202476167168.0\n",
      "Final accumulative portfolio value: 90382024761.67168\n",
      "Maximum DrawDown: -0.180043042782985\n",
      "Sharpe ratio: 4.063188408878911\n",
      "=================================\n"
     ]
    },
    {
     "name": "stderr",
     "output_type": "stream",
     "text": [
      " 86%|████████▌ | 43/50 [13:44<02:12, 18.91s/it]"
     ]
    },
    {
     "name": "stdout",
     "output_type": "stream",
     "text": [
      "=================================\n",
      "Initial portfolio value:100000\n",
      "Final portfolio value: 3.0911356370681856e+16\n",
      "Final accumulative portfolio value: 309113563706.81854\n",
      "Maximum DrawDown: -0.170257458231994\n",
      "Sharpe ratio: 4.222408187982884\n",
      "=================================\n"
     ]
    },
    {
     "name": "stderr",
     "output_type": "stream",
     "text": [
      " 88%|████████▊ | 44/50 [14:02<01:52, 18.81s/it]"
     ]
    },
    {
     "name": "stdout",
     "output_type": "stream",
     "text": [
      "=================================\n",
      "Initial portfolio value:100000\n",
      "Final portfolio value: 2.249827564702925e+16\n",
      "Final accumulative portfolio value: 224982756470.29248\n",
      "Maximum DrawDown: -0.17494019378335812\n",
      "Sharpe ratio: 4.149602089753065\n",
      "=================================\n"
     ]
    },
    {
     "name": "stderr",
     "output_type": "stream",
     "text": [
      " 90%|█████████ | 45/50 [14:21<01:33, 18.75s/it]"
     ]
    },
    {
     "name": "stdout",
     "output_type": "stream",
     "text": [
      "=================================\n",
      "Initial portfolio value:100000\n",
      "Final portfolio value: 2.4586286882881536e+16\n",
      "Final accumulative portfolio value: 245862868828.81537\n",
      "Maximum DrawDown: -0.17352412648241944\n",
      "Sharpe ratio: 4.187740315772579\n",
      "=================================\n"
     ]
    },
    {
     "name": "stderr",
     "output_type": "stream",
     "text": [
      " 92%|█████████▏| 46/50 [14:39<01:14, 18.63s/it]"
     ]
    },
    {
     "name": "stdout",
     "output_type": "stream",
     "text": [
      "=================================\n",
      "Initial portfolio value:100000\n",
      "Final portfolio value: 9283401085353984.0\n",
      "Final accumulative portfolio value: 92834010853.53984\n",
      "Maximum DrawDown: -0.17082212308976585\n",
      "Sharpe ratio: 3.967761382345304\n",
      "=================================\n"
     ]
    },
    {
     "name": "stderr",
     "output_type": "stream",
     "text": [
      " 94%|█████████▍| 47/50 [14:59<00:56, 18.87s/it]"
     ]
    },
    {
     "name": "stdout",
     "output_type": "stream",
     "text": [
      "=================================\n",
      "Initial portfolio value:100000\n",
      "Final portfolio value: 1.4019209193324544e+16\n",
      "Final accumulative portfolio value: 140192091933.24545\n",
      "Maximum DrawDown: -0.18678870904862677\n",
      "Sharpe ratio: 4.121717525614278\n",
      "=================================\n"
     ]
    },
    {
     "name": "stderr",
     "output_type": "stream",
     "text": [
      " 96%|█████████▌| 48/50 [15:18<00:37, 18.88s/it]"
     ]
    },
    {
     "name": "stdout",
     "output_type": "stream",
     "text": [
      "=================================\n",
      "Initial portfolio value:100000\n",
      "Final portfolio value: 2.2661273950879744e+16\n",
      "Final accumulative portfolio value: 226612739508.79745\n",
      "Maximum DrawDown: -0.1730117826637243\n",
      "Sharpe ratio: 4.188699140797265\n",
      "=================================\n"
     ]
    },
    {
     "name": "stderr",
     "output_type": "stream",
     "text": [
      " 98%|█████████▊| 49/50 [15:36<00:18, 18.81s/it]"
     ]
    },
    {
     "name": "stdout",
     "output_type": "stream",
     "text": [
      "=================================\n",
      "Initial portfolio value:100000\n",
      "Final portfolio value: 3.3877430720528384e+16\n",
      "Final accumulative portfolio value: 338774307205.2838\n",
      "Maximum DrawDown: -0.17515694676074078\n",
      "Sharpe ratio: 4.213258477193621\n",
      "=================================\n"
     ]
    },
    {
     "name": "stderr",
     "output_type": "stream",
     "text": [
      "100%|██████████| 50/50 [15:56<00:00, 19.12s/it]\n"
     ]
    },
    {
     "data": {
      "text/plain": [
       "<finrl.agents.portfolio_optimization.algorithms.PolicyGradient at 0x33d53fa00>"
      ]
     },
     "execution_count": 6,
     "metadata": {},
     "output_type": "execute_result"
    }
   ],
   "source": [
    "DRLAgent.train_model(model, episodes=50)\n"
   ]
  },
  {
   "cell_type": "code",
   "execution_count": 7,
   "metadata": {},
   "outputs": [],
   "source": [
    "torch.save(model.train_policy.state_dict(), \"policy_with_VMD.pt\")"
   ]
  },
  {
   "cell_type": "markdown",
   "metadata": {},
   "source": [
    "Evaluation"
   ]
  },
  {
   "cell_type": "code",
   "execution_count": 10,
   "metadata": {},
   "outputs": [
    {
     "name": "stderr",
     "output_type": "stream",
     "text": [
      "/var/folders/lk/jtg57k7555qg6vh9z23sx18m0000gn/T/ipykernel_71880/4118930828.py:38: FutureWarning: You are using `torch.load` with `weights_only=False` (the current default value), which uses the default pickle module implicitly. It is possible to construct malicious pickle data which will execute arbitrary code during unpickling (See https://github.com/pytorch/pytorch/blob/main/SECURITY.md#untrusted-models for more details). In a future release, the default value for `weights_only` will be flipped to `True`. This limits the functions that could be executed during unpickling. Arbitrary objects will no longer be allowed to be loaded via this mode unless they are explicitly allowlisted by the user via `torch.serialization.add_safe_globals`. We recommend you start setting `weights_only=True` for any use case where you don't have full control of the loaded file. Please open an issue on GitHub for any issues related to this experimental feature.\n",
      "  policy.load_state_dict(torch.load(\"policy_with_VMD.pt\"))\n"
     ]
    },
    {
     "name": "stdout",
     "output_type": "stream",
     "text": [
      "=================================\n",
      "Initial portfolio value:100000\n",
      "Final portfolio value: 1.1892392927952896e+16\n",
      "Final accumulative portfolio value: 118923929279.52896\n",
      "Maximum DrawDown: -0.1729974244690209\n",
      "Sharpe ratio: 4.0288531868574795\n",
      "=================================\n",
      "=================================\n",
      "Initial portfolio value:100000\n",
      "Final portfolio value: 144675.546875\n",
      "Final accumulative portfolio value: 1.44675546875\n",
      "Maximum DrawDown: -0.14204695888082508\n",
      "Sharpe ratio: 1.907739808357341\n",
      "=================================\n",
      "=================================\n",
      "Initial portfolio value:100000\n",
      "Final portfolio value: 207220.8125\n",
      "Final accumulative portfolio value: 2.072208125\n",
      "Maximum DrawDown: -0.17429665635838065\n",
      "Sharpe ratio: 2.9113116990931487\n",
      "=================================\n",
      "=================================\n",
      "Initial portfolio value:100000\n",
      "Final portfolio value: 161391.671875\n",
      "Final accumulative portfolio value: 1.61391671875\n",
      "Maximum DrawDown: -0.0555481684213911\n",
      "Sharpe ratio: 2.747510215294065\n",
      "=================================\n"
     ]
    }
   ],
   "source": [
    "environment_2021 = PortfolioOptimizationEnv(\n",
    "    df_portfolio_2021_vmd,\n",
    "    initial_amount=100000,\n",
    "    comission_fee_pct=0.0025,\n",
    "    time_window=50,\n",
    "    features=[\"close\", \"high\", \"low\", \"vmd_mode_0\", \"vmd_mode_1\", \"vmd_mode_2\"],\n",
    "    normalize_df=None\n",
    ")\n",
    "\n",
    "environment_2022 = PortfolioOptimizationEnv(\n",
    "    df_portfolio_2022_vmd,\n",
    "    initial_amount=100000,\n",
    "    comission_fee_pct=0.0025,\n",
    "    time_window=50,\n",
    "    features=[\"close\", \"high\", \"low\", \"vmd_mode_0\", \"vmd_mode_1\", \"vmd_mode_2\"],\n",
    "    normalize_df=None\n",
    ")\n",
    "\n",
    "environment_2023 = PortfolioOptimizationEnv(\n",
    "    df_portfolio_2023_vmd,\n",
    "    initial_amount=100000,\n",
    "    comission_fee_pct=0.0025,\n",
    "    time_window=50,\n",
    "    features=[\"close\", \"high\", \"low\", \"vmd_mode_0\", \"vmd_mode_1\", \"vmd_mode_2\"],\n",
    "    normalize_df=None\n",
    ")\n",
    "\n",
    "EIIE_results = {\n",
    "    \"train\": {},\n",
    "    \"2021\": {},\n",
    "    \"2022\": {},\n",
    "    \"2023\": {}\n",
    "}\n",
    "\n",
    "# instantiate an architecture with the same arguments used in training\n",
    "# and load with load_state_dict.\n",
    "policy = EIIE(time_window=50,initial_features=6, device=device)\n",
    "policy.load_state_dict(torch.load(\"policy_with_VMD.pt\"))\n",
    "environment_vmd.reset()\n",
    "DRLAgent.DRL_validation(model, environment_vmd, policy=policy)\n",
    "EIIE_results[\"train\"][\"value\"] = environment_vmd._asset_memory[\"final\"]\n",
    "# 2021\n",
    "DRLAgent.DRL_validation(model, environment_2021, policy=policy)\n",
    "EIIE_results[\"2021\"][\"value\"] = environment_2021._asset_memory[\"final\"]\n",
    "\n",
    "# 2022\n",
    "DRLAgent.DRL_validation(model, environment_2022, policy=policy)\n",
    "EIIE_results[\"2022\"][\"value\"] = environment_2022._asset_memory[\"final\"]\n",
    "\n",
    "# 2023\n",
    "DRLAgent.DRL_validation(model, environment_2023, policy=policy)\n",
    "EIIE_results[\"2023\"][\"value\"] = environment_2023._asset_memory[\"final\"]\n",
    "\n",
    "#uniform buy n hold\n",
    "UBAH_results = {\n",
    "    \"train\": {},\n",
    "    \"2021\": {},\n",
    "    \"2022\": {},\n",
    "    \"2023\": {}\n",
    "}\n",
    "\n",
    "PORTFOLIO_SIZE = len(TEST_SET)\n",
    "\n",
    "# train period\n",
    "terminated = False\n",
    "environment_vmd.reset()\n",
    "while not terminated:\n",
    "    action = [0] + [1/PORTFOLIO_SIZE] * PORTFOLIO_SIZE\n",
    "    _, _, terminated, _ = environment_vmd.step(action)\n",
    "UBAH_results[\"train\"][\"value\"] = environment_vmd._asset_memory[\"final\"]\n",
    "\n",
    "# 2021\n",
    "terminated = False\n",
    "environment_2021.reset()\n",
    "while not terminated:\n",
    "    action = [0] + [1/PORTFOLIO_SIZE] * PORTFOLIO_SIZE\n",
    "    _, _, terminated, _ = environment_2021.step(action)\n",
    "UBAH_results[\"2021\"][\"value\"] = environment_2021._asset_memory[\"final\"]\n",
    "\n",
    "# 2022\n",
    "terminated = False\n",
    "environment_2022.reset()\n",
    "while not terminated:\n",
    "    action = [0] + [1/PORTFOLIO_SIZE] * PORTFOLIO_SIZE\n",
    "    _, _, terminated, _ = environment_2022.step(action)\n",
    "UBAH_results[\"2022\"][\"value\"] = environment_2022._asset_memory[\"final\"]\n",
    "\n",
    "# 2023\n",
    "terminated = False\n",
    "environment_2023.reset()\n",
    "while not terminated:\n",
    "    action = [0] + [1/PORTFOLIO_SIZE] * PORTFOLIO_SIZE\n",
    "    _, _, terminated, _ = environment_2023.step(action)\n",
    "UBAH_results[\"2023\"][\"value\"] = environment_2023._asset_memory[\"final\"]"
   ]
  },
  {
   "cell_type": "code",
   "execution_count": 1,
   "metadata": {},
   "outputs": [
    {
     "ename": "NameError",
     "evalue": "name 'UBAH_results' is not defined",
     "output_type": "error",
     "traceback": [
      "\u001b[0;31m---------------------------------------------------------------------------\u001b[0m",
      "\u001b[0;31mNameError\u001b[0m                                 Traceback (most recent call last)",
      "Cell \u001b[0;32mIn[1], line 4\u001b[0m\n\u001b[1;32m      1\u001b[0m \u001b[38;5;28;01mimport\u001b[39;00m \u001b[38;5;21;01mmatplotlib\u001b[39;00m\u001b[38;5;21;01m.\u001b[39;00m\u001b[38;5;21;01mpyplot\u001b[39;00m \u001b[38;5;28;01mas\u001b[39;00m \u001b[38;5;21;01mplt\u001b[39;00m\n\u001b[1;32m      2\u001b[0m get_ipython()\u001b[38;5;241m.\u001b[39mrun_line_magic(\u001b[38;5;124m'\u001b[39m\u001b[38;5;124mmatplotlib\u001b[39m\u001b[38;5;124m'\u001b[39m, \u001b[38;5;124m'\u001b[39m\u001b[38;5;124minline\u001b[39m\u001b[38;5;124m'\u001b[39m)\n\u001b[0;32m----> 4\u001b[0m plt\u001b[38;5;241m.\u001b[39mplot(\u001b[43mUBAH_results\u001b[49m[\u001b[38;5;124m\"\u001b[39m\u001b[38;5;124mtrain\u001b[39m\u001b[38;5;124m\"\u001b[39m][\u001b[38;5;124m\"\u001b[39m\u001b[38;5;124mvalue\u001b[39m\u001b[38;5;124m\"\u001b[39m], label\u001b[38;5;241m=\u001b[39m\u001b[38;5;124m\"\u001b[39m\u001b[38;5;124mBuy and Hold\u001b[39m\u001b[38;5;124m\"\u001b[39m)\n\u001b[1;32m      5\u001b[0m plt\u001b[38;5;241m.\u001b[39mplot(EIIE_results[\u001b[38;5;124m\"\u001b[39m\u001b[38;5;124mtrain\u001b[39m\u001b[38;5;124m\"\u001b[39m][\u001b[38;5;124m\"\u001b[39m\u001b[38;5;124mvalue\u001b[39m\u001b[38;5;124m\"\u001b[39m], label\u001b[38;5;241m=\u001b[39m\u001b[38;5;124m\"\u001b[39m\u001b[38;5;124mEIIE\u001b[39m\u001b[38;5;124m\"\u001b[39m)\n\u001b[1;32m      7\u001b[0m plt\u001b[38;5;241m.\u001b[39mxlabel(\u001b[38;5;124m\"\u001b[39m\u001b[38;5;124mDays\u001b[39m\u001b[38;5;124m\"\u001b[39m)\n",
      "\u001b[0;31mNameError\u001b[0m: name 'UBAH_results' is not defined"
     ]
    }
   ],
   "source": [
    "import matplotlib.pyplot as plt\n",
    "%matplotlib inline \n",
    "\n",
    "plt.plot(UBAH_results[\"train\"][\"value\"], label=\"Buy and Hold\")\n",
    "plt.plot(EIIE_results[\"train\"][\"value\"], label=\"EIIE\")\n",
    "\n",
    "plt.xlabel(\"Days\")\n",
    "plt.ylabel(\"Portfolio Value\")\n",
    "plt.title(\"Performance in training period\")\n",
    "plt.legend()\n",
    "\n",
    "plt.show()\n",
    "\n",
    "plt.plot(UBAH_results[\"2021\"][\"value\"], label=\"Buy and Hold\")\n",
    "plt.plot(EIIE_results[\"2021\"][\"value\"], label=\"EIIE\")\n",
    "\n",
    "plt.xlabel(\"Days\")\n",
    "plt.ylabel(\"Portfolio Value\")\n",
    "plt.title(\"Performance in 2021\")\n",
    "plt.legend()\n",
    "\n",
    "plt.show()\n",
    "\n",
    "plt.plot(UBAH_results[\"2022\"][\"value\"], label=\"Buy and Hold\")\n",
    "plt.plot(EIIE_results[\"2022\"][\"value\"], label=\"EIIE\")\n",
    "\n",
    "plt.xlabel(\"Days\")\n",
    "plt.ylabel(\"Portfolio Value\")\n",
    "plt.title(\"Performance in 2022\")\n",
    "plt.legend()\n",
    "\n",
    "plt.show()\n",
    "\n",
    "plt.plot(UBAH_results[\"2023\"][\"value\"], label=\"Buy and Hold\")\n",
    "plt.plot(EIIE_results[\"2023\"][\"value\"], label=\"EIIE\")\n",
    "\n",
    "plt.xlabel(\"Days\")\n",
    "plt.ylabel(\"Portfolio Value\")\n",
    "plt.title(\"Performance in 2023\")\n",
    "plt.legend()\n",
    "\n",
    "plt.show()"
   ]
  }
 ],
 "metadata": {
  "kernelspec": {
   "display_name": "venv",
   "language": "python",
   "name": "python3"
  },
  "language_info": {
   "codemirror_mode": {
    "name": "ipython",
    "version": 3
   },
   "file_extension": ".py",
   "mimetype": "text/x-python",
   "name": "python",
   "nbconvert_exporter": "python",
   "pygments_lexer": "ipython3",
   "version": "3.10.11"
  }
 },
 "nbformat": 4,
 "nbformat_minor": 2
}

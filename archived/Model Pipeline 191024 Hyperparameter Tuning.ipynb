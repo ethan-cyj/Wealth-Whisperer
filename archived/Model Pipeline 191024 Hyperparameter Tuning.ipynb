{
 "cells": [
  {
   "cell_type": "code",
   "execution_count": 1,
   "metadata": {},
   "outputs": [],
   "source": [
    "# !sudo apt install swig"
   ]
  },
  {
   "cell_type": "code",
   "execution_count": 2,
   "metadata": {},
   "outputs": [],
   "source": [
    "# !pip install quantstats\n",
    "# !pip install scikit-learn\n",
    "# !pip install torch\n",
    "# !pip install git+https://github.com/AI4Finance-Foundation/FinRL.git"
   ]
  },
  {
   "cell_type": "markdown",
   "metadata": {},
   "source": [
    "# Initializing"
   ]
  },
  {
   "cell_type": "code",
   "execution_count": 1,
   "metadata": {},
   "outputs": [],
   "source": [
    "import logging\n",
    "logging.getLogger('matplotlib.font_manager').disabled = True\n",
    "import torch\n",
    "\n",
    "import numpy as np\n",
    "import pandas as pd\n",
    "\n",
    "from sklearn.preprocessing import MaxAbsScaler\n",
    "from finrl.meta.preprocessor.yahoodownloader import YahooDownloader\n",
    "from finrl.meta.preprocessor.preprocessors import GroupByScaler\n",
    "from utils import PortfolioOptimizationEnv, custom_reward_function, sharpe_ratio_reward_function\n",
    "from finrl.agents.portfolio_optimization.models import DRLAgent\n",
    "from finrl.agents.portfolio_optimization.architectures import EIIE\n",
    "\n",
    "device = 'cuda:0' if torch.cuda.is_available() else 'cpu'"
   ]
  },
  {
   "cell_type": "markdown",
   "metadata": {},
   "source": [
    "# Data Import and Preprocessing"
   ]
  },
  {
   "cell_type": "code",
   "execution_count": 2,
   "metadata": {},
   "outputs": [
    {
     "name": "stdout",
     "output_type": "stream",
     "text": [
      "10\n"
     ]
    }
   ],
   "source": [
    "TEST_SET = [\n",
    "    \"AAPL\", \"CVX\", \"GS\", \"JNJ\",\n",
    "    \"JPM\", \"MSFT\", \"PFE\", \"PG\",\n",
    "    \"GOOG\", \"XOM\"\n",
    "]\n",
    "START_DATE = '2011-01-01'\n",
    "END_DATE = '2023-12-31'\n",
    "print(len(TEST_SET))\n",
    "\n",
    "# ##COVARIATE 1: PRICES\n",
    "\n",
    "# portfolio_raw_df = YahooDownloader(start_date = START_DATE,\n",
    "#                                 end_date = END_DATE,\n",
    "#                                 ticker_list = TEST_SET).fetch_data()"
   ]
  },
  {
   "cell_type": "code",
   "execution_count": 3,
   "metadata": {},
   "outputs": [],
   "source": [
    "# df_portfolio_train = df_portfolio[(df_portfolio[\"date\"] >= START_DATE) & (df_portfolio[\"date\"] < \"2020-12-31\")]\n",
    "# df_portfolio_test = df_portfolio[(df_portfolio[\"date\"] >= \"2021-01-01\") & (df_portfolio[\"date\"] < \"2022-12-31\")]\n",
    "\n",
    "\n",
    "df_portfolio = pd.read_parquet('datasets/df_portfolio_train.parquet')\n",
    "df_portfolio_test = pd.read_parquet('datasets/df_portfolio_test.parquet')\n",
    "\n",
    "df_portfolio_train = df_portfolio[df_portfolio['date'] <= \"2020-12-31\"]\n",
    "df_portfolio_vali = df_portfolio[df_portfolio['date'] >= \"2021-01-01\"]\n",
    "df_portfolio_vali = df_portfolio_vali[df_portfolio_vali['date'] <= \"2021-12-31\"]"
   ]
  },
  {
   "cell_type": "markdown",
   "metadata": {},
   "source": [
    "# Feature Selection and DRL Model Parameters"
   ]
  },
  {
   "cell_type": "code",
   "execution_count": 6,
   "metadata": {},
   "outputs": [],
   "source": [
    "import pandas as pd\n",
    "from itertools import product\n",
    "import numpy as np  # for NaN\n",
    "import torch\n",
    "\n",
    "FEATURE_NAMES = [\"close\",\n",
    "                \"vmd_mode_0\",\n",
    "                \"vmd_mode_1\",\n",
    "                \"vmd_mode_2\",\n",
    "                  #\"high\", \n",
    "                  #\"low\",\n",
    "                'High_VIX',\n",
    "                'Low_VIX',\n",
    "                  #'Close_VIX',\n",
    "                'High_SPY',\n",
    "                'Low_SPY',\n",
    "                'Close_SPY',\n",
    "                  #'Volume_SPY',\n",
    "                'Fear Greed', \n",
    "                'ratingScore',\n",
    "                  #'ratingDetailsDCFScore',\n",
    "                'ratingDetailsROEScore',\n",
    "                  #'ratingDetailsROAScore',\n",
    "                  #'ratingDetailsPEScore',\n",
    "                  #'ratingDetailsPBScore',\n",
    "                  #'expenses',\n",
    "                  #'GDP', \n",
    "                'exports', \n",
    "                  #'imports',\n",
    "                'pound_dollar_exchange_rate', \n",
    "                'unemployment',\n",
    "                'ics',\n",
    "                'TTM Revenue(Billion)',\n",
    "                  #'TTM EBITDA(Billion)',\n",
    "                  #'EBITDA Margin',\n",
    "                'Price to Book Ratio',\n",
    "                  #'PE Ratio',\n",
    "                'Price to Sales Ratio',\n",
    "                  #'Assets',\n",
    "                  #'NetIncomeLoss',\n",
    "                'Return on Equity(%)']\n",
    "\n",
    "COMISSION_FEE = 0.001\n",
    "\n",
    "# Define hyperparameter ranges\n",
    "time_windows = [30, 60, 90]\n",
    "k_sizes = [3, 4, 5]\n",
    "conv_mids = [5, 10, 20]\n",
    "conv_finals = [5, 10, 20]\n",
    "lr = [0.01, 0.02]\n",
    "\n",
    "# Function to calculate the final accumulative portfolio value\n",
    "def calculate_cumulative_value(portfolio_values):\n",
    "    initial_value = portfolio_values[0]\n",
    "    final_value = portfolio_values[-1]\n",
    "    return final_value / initial_value\n",
    "\n",
    "# Function to calculate the maximum drawdown\n",
    "def calculate_max_drawdown(portfolio_values):\n",
    "    portfolio_values = np.array(portfolio_values)\n",
    "    running_max = np.maximum.accumulate(portfolio_values)\n",
    "    drawdowns = (portfolio_values - running_max) / running_max\n",
    "    max_drawdown = drawdowns.min()\n",
    "    \n",
    "    return max_drawdown\n",
    "\n",
    "# Function to calculate the Sharpe ratio\n",
    "def calculate_sharpe_ratio(portfolio_values, risk_free_rate=0):\n",
    "    returns = np.diff(portfolio_values) / portfolio_values[:-1]\n",
    "    excess_returns = returns - risk_free_rate\n",
    "    sharpe_ratio = np.mean(excess_returns) / np.std(excess_returns)\n",
    "    sharpe_ratio_annualized = sharpe_ratio * np.sqrt(252)\n",
    "    \n",
    "    return sharpe_ratio_annualized\n",
    "\n",
    "\n",
    "# Define a function to calculate the metrics (this is just a placeholder; replace with actual functions)\n",
    "def calculate_metrics(environment):\n",
    "    final_portfolio_value = environment._asset_memory[\"final\"][-1]\n",
    "    max_drawdown = calculate_max_drawdown(environment._asset_memory[\"final\"])\n",
    "    sharpe_ratio = calculate_sharpe_ratio(environment._asset_memory[\"final\"])\n",
    "    cumulative_value = calculate_cumulative_value(environment._asset_memory[\"final\"])\n",
    "    return final_portfolio_value, max_drawdown, sharpe_ratio, cumulative_value\n",
    "\n",
    "# DataFrame to store results\n",
    "columns = [\"TIME_WINDOW\", \"K_SIZE\", \"CONV_MID\", \"CONV_FINAL\",\"LEARNING_RATE\", \n",
    "        'train_portfolio_value', 'train_drawdown', 'train_sharpe', 'train_cumulative',\n",
    "        'test_portfolio_value', 'test_drawdown', 'test_sharpe', 'test_cumulative']\n",
    "\n",
    "results_df = pd.DataFrame(columns=columns)\n"
   ]
  },
  {
   "cell_type": "code",
   "execution_count": 7,
   "metadata": {},
   "outputs": [
    {
     "name": "stderr",
     "output_type": "stream",
     "text": [
      "  0%|          | 0/10 [00:00<?, ?it/s]"
     ]
    },
    {
     "name": "stdout",
     "output_type": "stream",
     "text": [
      "=================================\n",
      "Initial portfolio value:100000\n",
      "Final portfolio value: 233839.734375\n",
      "Final accumulative portfolio value: 2.33839734375\n",
      "Maximum DrawDown: -0.3369584393609002\n",
      "Sharpe ratio: 0.7787201939109449\n",
      "=================================\n"
     ]
    },
    {
     "name": "stderr",
     "output_type": "stream",
     "text": [
      " 10%|█         | 1/10 [00:33<05:04, 33.80s/it]"
     ]
    },
    {
     "name": "stdout",
     "output_type": "stream",
     "text": [
      "=================================\n",
      "Initial portfolio value:100000\n",
      "Final portfolio value: 283803.71875\n",
      "Final accumulative portfolio value: 2.8380371875\n",
      "Maximum DrawDown: -0.32893914859509377\n",
      "Sharpe ratio: 0.8898131307431343\n",
      "=================================\n"
     ]
    },
    {
     "name": "stderr",
     "output_type": "stream",
     "text": [
      " 20%|██        | 2/10 [01:13<04:55, 36.98s/it]"
     ]
    },
    {
     "name": "stdout",
     "output_type": "stream",
     "text": [
      "=================================\n",
      "Initial portfolio value:100000\n",
      "Final portfolio value: 398664.4375\n",
      "Final accumulative portfolio value: 3.986644375\n",
      "Maximum DrawDown: -0.31967222287581887\n",
      "Sharpe ratio: 1.0570354354068672\n",
      "=================================\n"
     ]
    },
    {
     "name": "stderr",
     "output_type": "stream",
     "text": [
      " 30%|███       | 3/10 [01:56<04:40, 40.08s/it]"
     ]
    },
    {
     "name": "stdout",
     "output_type": "stream",
     "text": [
      "=================================\n",
      "Initial portfolio value:100000\n",
      "Final portfolio value: 544882.25\n",
      "Final accumulative portfolio value: 5.4488225\n",
      "Maximum DrawDown: -0.31677181888906536\n",
      "Sharpe ratio: 1.173185979642463\n",
      "=================================\n"
     ]
    },
    {
     "name": "stderr",
     "output_type": "stream",
     "text": [
      " 40%|████      | 4/10 [02:40<04:09, 41.52s/it]"
     ]
    },
    {
     "name": "stdout",
     "output_type": "stream",
     "text": [
      "=================================\n",
      "Initial portfolio value:100000\n",
      "Final portfolio value: 654166.6875\n",
      "Final accumulative portfolio value: 6.541666875\n",
      "Maximum DrawDown: -0.33454390997185646\n",
      "Sharpe ratio: 1.1989548748399386\n",
      "=================================\n"
     ]
    },
    {
     "name": "stderr",
     "output_type": "stream",
     "text": [
      " 50%|█████     | 5/10 [03:25<03:34, 42.83s/it]"
     ]
    },
    {
     "name": "stdout",
     "output_type": "stream",
     "text": [
      "=================================\n",
      "Initial portfolio value:100000\n",
      "Final portfolio value: 805426.5625\n",
      "Final accumulative portfolio value: 8.054265625\n",
      "Maximum DrawDown: -0.3269703961659679\n",
      "Sharpe ratio: 1.3089229246623624\n",
      "=================================\n"
     ]
    },
    {
     "name": "stderr",
     "output_type": "stream",
     "text": [
      " 60%|██████    | 6/10 [04:09<02:52, 43.09s/it]"
     ]
    },
    {
     "name": "stdout",
     "output_type": "stream",
     "text": [
      "=================================\n",
      "Initial portfolio value:100000\n",
      "Final portfolio value: 936223.875\n",
      "Final accumulative portfolio value: 9.36223875\n",
      "Maximum DrawDown: -0.3125131712217549\n",
      "Sharpe ratio: 1.3815240284374797\n",
      "=================================\n"
     ]
    },
    {
     "name": "stderr",
     "output_type": "stream",
     "text": [
      " 70%|███████   | 7/10 [04:52<02:09, 43.22s/it]"
     ]
    },
    {
     "name": "stdout",
     "output_type": "stream",
     "text": [
      "=================================\n",
      "Initial portfolio value:100000\n",
      "Final portfolio value: 1042357.4375\n",
      "Final accumulative portfolio value: 10.423574375\n",
      "Maximum DrawDown: -0.3139322900189927\n",
      "Sharpe ratio: 1.4244848770162302\n",
      "=================================\n"
     ]
    },
    {
     "name": "stderr",
     "output_type": "stream",
     "text": [
      " 80%|████████  | 8/10 [05:35<01:26, 43.16s/it]"
     ]
    },
    {
     "name": "stdout",
     "output_type": "stream",
     "text": [
      "=================================\n",
      "Initial portfolio value:100000\n",
      "Final portfolio value: 844530.125\n",
      "Final accumulative portfolio value: 8.44530125\n",
      "Maximum DrawDown: -0.3120613728127296\n",
      "Sharpe ratio: 1.2911640090587972\n",
      "=================================\n"
     ]
    },
    {
     "name": "stderr",
     "output_type": "stream",
     "text": [
      " 90%|█████████ | 9/10 [06:18<00:43, 43.05s/it]"
     ]
    },
    {
     "name": "stdout",
     "output_type": "stream",
     "text": [
      "=================================\n",
      "Initial portfolio value:100000\n",
      "Final portfolio value: 1246476.25\n",
      "Final accumulative portfolio value: 12.4647625\n",
      "Maximum DrawDown: -0.3119544413519826\n",
      "Sharpe ratio: 1.475289536188402\n",
      "=================================\n"
     ]
    },
    {
     "name": "stderr",
     "output_type": "stream",
     "text": [
      "100%|██████████| 10/10 [07:01<00:00, 42.15s/it]\n",
      "C:\\Users\\xutia\\AppData\\Local\\Temp\\ipykernel_17836\\976523745.py:42: FutureWarning: You are using `torch.load` with `weights_only=False` (the current default value), which uses the default pickle module implicitly. It is possible to construct malicious pickle data which will execute arbitrary code during unpickling (See https://github.com/pytorch/pytorch/blob/main/SECURITY.md#untrusted-models for more details). In a future release, the default value for `weights_only` will be flipped to `True`. This limits the functions that could be executed during unpickling. Arbitrary objects will no longer be allowed to be loaded via this mode unless they are explicitly allowlisted by the user via `torch.serialization.add_safe_globals`. We recommend you start setting `weights_only=True` for any use case where you don't have full control of the loaded file. Please open an issue on GitHub for any issues related to this experimental feature.\n",
      "  EIIE_policy.load_state_dict(torch.load(model_filename))\n"
     ]
    },
    {
     "name": "stdout",
     "output_type": "stream",
     "text": [
      "=================================\n",
      "Initial portfolio value:100000\n",
      "Final portfolio value: 456237.6875\n",
      "Final accumulative portfolio value: 4.562376875\n",
      "Maximum DrawDown: -0.307901773066646\n",
      "Sharpe ratio: 1.0129403593254172\n",
      "=================================\n",
      "=================================\n",
      "Initial portfolio value:100000\n",
      "Final portfolio value: 123691.015625\n",
      "Final accumulative portfolio value: 1.23691015625\n",
      "Maximum DrawDown: -0.1693255388836229\n",
      "Sharpe ratio: 1.0188781131366085\n",
      "=================================\n"
     ]
    },
    {
     "name": "stderr",
     "output_type": "stream",
     "text": [
      "C:\\Users\\xutia\\AppData\\Local\\Temp\\ipykernel_17836\\976523745.py:71: FutureWarning: The behavior of DataFrame concatenation with empty or all-NA entries is deprecated. In a future version, this will no longer exclude empty or all-NA columns when determining the result dtypes. To retain the old behavior, exclude the relevant entries before the concat operation.\n",
      "  results_df = pd.concat([results_df, temp_df], ignore_index=True)\n",
      "  0%|          | 0/10 [00:00<?, ?it/s]"
     ]
    },
    {
     "name": "stdout",
     "output_type": "stream",
     "text": [
      "=================================\n",
      "Initial portfolio value:100000\n",
      "Final portfolio value: 228290.375\n",
      "Final accumulative portfolio value: 2.28290375\n",
      "Maximum DrawDown: -0.3280019376956327\n",
      "Sharpe ratio: 0.7774576360256085\n",
      "=================================\n"
     ]
    },
    {
     "name": "stderr",
     "output_type": "stream",
     "text": [
      " 10%|█         | 1/10 [00:42<06:21, 42.34s/it]"
     ]
    },
    {
     "name": "stdout",
     "output_type": "stream",
     "text": [
      "=================================\n",
      "Initial portfolio value:100000\n",
      "Final portfolio value: 231859.21875\n",
      "Final accumulative portfolio value: 2.3185921875\n",
      "Maximum DrawDown: -0.33278967151183425\n",
      "Sharpe ratio: 0.7799488429742293\n",
      "=================================\n"
     ]
    },
    {
     "name": "stderr",
     "output_type": "stream",
     "text": [
      " 20%|██        | 2/10 [01:25<05:42, 42.79s/it]"
     ]
    },
    {
     "name": "stdout",
     "output_type": "stream",
     "text": [
      "=================================\n",
      "Initial portfolio value:100000\n",
      "Final portfolio value: 234201.015625\n",
      "Final accumulative portfolio value: 2.34201015625\n",
      "Maximum DrawDown: -0.3363219884821337\n",
      "Sharpe ratio: 0.7803784315655612\n",
      "=================================\n"
     ]
    },
    {
     "name": "stderr",
     "output_type": "stream",
     "text": [
      " 30%|███       | 3/10 [02:08<05:01, 43.07s/it]"
     ]
    },
    {
     "name": "stdout",
     "output_type": "stream",
     "text": [
      "=================================\n",
      "Initial portfolio value:100000\n",
      "Final portfolio value: 235947.25\n",
      "Final accumulative portfolio value: 2.3594725\n",
      "Maximum DrawDown: -0.33896178832831925\n",
      "Sharpe ratio: 0.7806519432588847\n",
      "=================================\n"
     ]
    },
    {
     "name": "stderr",
     "output_type": "stream",
     "text": [
      " 40%|████      | 4/10 [02:47<04:08, 41.47s/it]"
     ]
    },
    {
     "name": "stdout",
     "output_type": "stream",
     "text": [
      "=================================\n",
      "Initial portfolio value:100000\n",
      "Final portfolio value: 237275.6875\n",
      "Final accumulative portfolio value: 2.372756875\n",
      "Maximum DrawDown: -0.34098112844593476\n",
      "Sharpe ratio: 0.7808326104741805\n",
      "=================================\n"
     ]
    },
    {
     "name": "stderr",
     "output_type": "stream",
     "text": [
      " 50%|█████     | 5/10 [03:26<03:21, 40.32s/it]"
     ]
    },
    {
     "name": "stdout",
     "output_type": "stream",
     "text": [
      "=================================\n",
      "Initial portfolio value:100000\n",
      "Final portfolio value: 238312.953125\n",
      "Final accumulative portfolio value: 2.38312953125\n",
      "Maximum DrawDown: -0.3425580606973395\n",
      "Sharpe ratio: 0.7809678315171246\n",
      "=================================\n"
     ]
    },
    {
     "name": "stderr",
     "output_type": "stream",
     "text": [
      " 60%|██████    | 6/10 [04:04<02:38, 39.54s/it]"
     ]
    },
    {
     "name": "stdout",
     "output_type": "stream",
     "text": [
      "=================================\n",
      "Initial portfolio value:100000\n",
      "Final portfolio value: 239136.0\n",
      "Final accumulative portfolio value: 2.39136\n",
      "Maximum DrawDown: -0.343816477610809\n",
      "Sharpe ratio: 0.7810600758886395\n",
      "=================================\n"
     ]
    },
    {
     "name": "stderr",
     "output_type": "stream",
     "text": [
      " 70%|███████   | 7/10 [04:42<01:57, 39.01s/it]"
     ]
    },
    {
     "name": "stdout",
     "output_type": "stream",
     "text": [
      "=================================\n",
      "Initial portfolio value:100000\n",
      "Final portfolio value: 239797.609375\n",
      "Final accumulative portfolio value: 2.39797609375\n",
      "Maximum DrawDown: -0.34484033469927156\n",
      "Sharpe ratio: 0.7811131320635362\n",
      "=================================\n"
     ]
    },
    {
     "name": "stderr",
     "output_type": "stream",
     "text": [
      " 80%|████████  | 8/10 [05:20<01:17, 38.70s/it]"
     ]
    },
    {
     "name": "stdout",
     "output_type": "stream",
     "text": [
      "=================================\n",
      "Initial portfolio value:100000\n",
      "Final portfolio value: 240350.03125\n",
      "Final accumulative portfolio value: 2.4035003125\n",
      "Maximum DrawDown: -0.3456820306086096\n",
      "Sharpe ratio: 0.7811799151651782\n",
      "=================================\n"
     ]
    },
    {
     "name": "stderr",
     "output_type": "stream",
     "text": [
      " 90%|█████████ | 9/10 [05:58<00:38, 38.45s/it]"
     ]
    },
    {
     "name": "stdout",
     "output_type": "stream",
     "text": [
      "=================================\n",
      "Initial portfolio value:100000\n",
      "Final portfolio value: 240808.484375\n",
      "Final accumulative portfolio value: 2.40808484375\n",
      "Maximum DrawDown: -0.34638148731804985\n",
      "Sharpe ratio: 0.7812310167018375\n",
      "=================================\n"
     ]
    },
    {
     "name": "stderr",
     "output_type": "stream",
     "text": [
      "100%|██████████| 10/10 [06:35<00:00, 39.60s/it]\n",
      "C:\\Users\\xutia\\AppData\\Local\\Temp\\ipykernel_17836\\976523745.py:42: FutureWarning: You are using `torch.load` with `weights_only=False` (the current default value), which uses the default pickle module implicitly. It is possible to construct malicious pickle data which will execute arbitrary code during unpickling (See https://github.com/pytorch/pytorch/blob/main/SECURITY.md#untrusted-models for more details). In a future release, the default value for `weights_only` will be flipped to `True`. This limits the functions that could be executed during unpickling. Arbitrary objects will no longer be allowed to be loaded via this mode unless they are explicitly allowlisted by the user via `torch.serialization.add_safe_globals`. We recommend you start setting `weights_only=True` for any use case where you don't have full control of the loaded file. Please open an issue on GitHub for any issues related to this experimental feature.\n",
      "  EIIE_policy.load_state_dict(torch.load(model_filename))\n"
     ]
    },
    {
     "name": "stdout",
     "output_type": "stream",
     "text": [
      "=================================\n",
      "Initial portfolio value:100000\n",
      "Final portfolio value: 241812.515625\n",
      "Final accumulative portfolio value: 2.41812515625\n",
      "Maximum DrawDown: -0.34878669635271176\n",
      "Sharpe ratio: 0.780440454607177\n",
      "=================================\n",
      "=================================\n",
      "Initial portfolio value:100000\n",
      "Final portfolio value: 131050.3125\n",
      "Final accumulative portfolio value: 1.310503125\n",
      "Maximum DrawDown: -0.04379140269095372\n",
      "Sharpe ratio: 2.5987862651875187\n",
      "=================================\n"
     ]
    },
    {
     "name": "stderr",
     "output_type": "stream",
     "text": [
      "  0%|          | 0/10 [00:00<?, ?it/s]"
     ]
    },
    {
     "name": "stdout",
     "output_type": "stream",
     "text": [
      "=================================\n",
      "Initial portfolio value:100000\n",
      "Final portfolio value: 227607.609375\n",
      "Final accumulative portfolio value: 2.27607609375\n",
      "Maximum DrawDown: -0.3293217721361821\n",
      "Sharpe ratio: 0.7743780056153121\n",
      "=================================\n"
     ]
    },
    {
     "name": "stderr",
     "output_type": "stream",
     "text": [
      " 10%|█         | 1/10 [00:38<05:42, 38.02s/it]"
     ]
    },
    {
     "name": "stdout",
     "output_type": "stream",
     "text": [
      "=================================\n",
      "Initial portfolio value:100000\n",
      "Final portfolio value: 244873.21875\n",
      "Final accumulative portfolio value: 2.4487321875\n",
      "Maximum DrawDown: -0.3332353374857929\n",
      "Sharpe ratio: 0.8034494444651998\n",
      "=================================\n"
     ]
    },
    {
     "name": "stderr",
     "output_type": "stream",
     "text": [
      " 20%|██        | 2/10 [01:15<05:03, 37.91s/it]"
     ]
    },
    {
     "name": "stdout",
     "output_type": "stream",
     "text": [
      "=================================\n",
      "Initial portfolio value:100000\n",
      "Final portfolio value: 423334.375\n",
      "Final accumulative portfolio value: 4.23334375\n",
      "Maximum DrawDown: -0.3028806157043339\n",
      "Sharpe ratio: 1.087229012717328\n",
      "=================================\n"
     ]
    },
    {
     "name": "stderr",
     "output_type": "stream",
     "text": [
      " 30%|███       | 3/10 [01:53<04:25, 37.88s/it]"
     ]
    },
    {
     "name": "stdout",
     "output_type": "stream",
     "text": [
      "=================================\n",
      "Initial portfolio value:100000\n",
      "Final portfolio value: 662168.3125\n",
      "Final accumulative portfolio value: 6.621683125\n",
      "Maximum DrawDown: -0.28360592891179603\n",
      "Sharpe ratio: 1.2399823967024615\n",
      "=================================\n"
     ]
    },
    {
     "name": "stderr",
     "output_type": "stream",
     "text": [
      " 40%|████      | 4/10 [02:31<03:46, 37.81s/it]"
     ]
    },
    {
     "name": "stdout",
     "output_type": "stream",
     "text": [
      "=================================\n",
      "Initial portfolio value:100000\n",
      "Final portfolio value: 881344.5\n",
      "Final accumulative portfolio value: 8.813445\n",
      "Maximum DrawDown: -0.3056465163275838\n",
      "Sharpe ratio: 1.352289390449157\n",
      "=================================\n"
     ]
    },
    {
     "name": "stderr",
     "output_type": "stream",
     "text": [
      " 50%|█████     | 5/10 [03:09<03:10, 38.04s/it]"
     ]
    },
    {
     "name": "stdout",
     "output_type": "stream",
     "text": [
      "=================================\n",
      "Initial portfolio value:100000\n",
      "Final portfolio value: 1153517.875\n",
      "Final accumulative portfolio value: 11.53517875\n",
      "Maximum DrawDown: -0.28045392946595715\n",
      "Sharpe ratio: 1.50159126456576\n",
      "=================================\n"
     ]
    },
    {
     "name": "stderr",
     "output_type": "stream",
     "text": [
      " 60%|██████    | 6/10 [03:47<02:32, 38.05s/it]"
     ]
    },
    {
     "name": "stdout",
     "output_type": "stream",
     "text": [
      "=================================\n",
      "Initial portfolio value:100000\n",
      "Final portfolio value: 934786.5625\n",
      "Final accumulative portfolio value: 9.347865625\n",
      "Maximum DrawDown: -0.39870480100869155\n",
      "Sharpe ratio: 1.3079668343131527\n",
      "=================================\n"
     ]
    },
    {
     "name": "stderr",
     "output_type": "stream",
     "text": [
      " 70%|███████   | 7/10 [04:25<01:54, 38.02s/it]"
     ]
    },
    {
     "name": "stdout",
     "output_type": "stream",
     "text": [
      "=================================\n",
      "Initial portfolio value:100000\n",
      "Final portfolio value: 1455672.0\n",
      "Final accumulative portfolio value: 14.55672\n",
      "Maximum DrawDown: -0.28039699890585523\n",
      "Sharpe ratio: 1.6060444876908\n",
      "=================================\n"
     ]
    },
    {
     "name": "stderr",
     "output_type": "stream",
     "text": [
      " 80%|████████  | 8/10 [05:03<01:16, 38.04s/it]"
     ]
    },
    {
     "name": "stdout",
     "output_type": "stream",
     "text": [
      "=================================\n",
      "Initial portfolio value:100000\n",
      "Final portfolio value: 1326155.625\n",
      "Final accumulative portfolio value: 13.26155625\n",
      "Maximum DrawDown: -0.2869888410680098\n",
      "Sharpe ratio: 1.5226557783818904\n",
      "=================================\n"
     ]
    },
    {
     "name": "stderr",
     "output_type": "stream",
     "text": [
      " 90%|█████████ | 9/10 [05:42<00:38, 38.05s/it]"
     ]
    },
    {
     "name": "stdout",
     "output_type": "stream",
     "text": [
      "=================================\n",
      "Initial portfolio value:100000\n",
      "Final portfolio value: 1415213.375\n",
      "Final accumulative portfolio value: 14.15213375\n",
      "Maximum DrawDown: -0.2803955948939806\n",
      "Sharpe ratio: 1.5683235922144918\n",
      "=================================\n"
     ]
    },
    {
     "name": "stderr",
     "output_type": "stream",
     "text": [
      "100%|██████████| 10/10 [06:20<00:00, 38.03s/it]\n",
      "C:\\Users\\xutia\\AppData\\Local\\Temp\\ipykernel_17836\\976523745.py:42: FutureWarning: You are using `torch.load` with `weights_only=False` (the current default value), which uses the default pickle module implicitly. It is possible to construct malicious pickle data which will execute arbitrary code during unpickling (See https://github.com/pytorch/pytorch/blob/main/SECURITY.md#untrusted-models for more details). In a future release, the default value for `weights_only` will be flipped to `True`. This limits the functions that could be executed during unpickling. Arbitrary objects will no longer be allowed to be loaded via this mode unless they are explicitly allowlisted by the user via `torch.serialization.add_safe_globals`. We recommend you start setting `weights_only=True` for any use case where you don't have full control of the loaded file. Please open an issue on GitHub for any issues related to this experimental feature.\n",
      "  EIIE_policy.load_state_dict(torch.load(model_filename))\n"
     ]
    },
    {
     "name": "stdout",
     "output_type": "stream",
     "text": [
      "=================================\n",
      "Initial portfolio value:100000\n",
      "Final portfolio value: 996135.625\n",
      "Final accumulative portfolio value: 9.96135625\n",
      "Maximum DrawDown: -0.28350076811252645\n",
      "Sharpe ratio: 1.3760796203977117\n",
      "=================================\n",
      "=================================\n",
      "Initial portfolio value:100000\n",
      "Final portfolio value: 130281.671875\n",
      "Final accumulative portfolio value: 1.30281671875\n",
      "Maximum DrawDown: -0.1211344752476251\n",
      "Sharpe ratio: 1.3269715055092657\n",
      "=================================\n"
     ]
    },
    {
     "name": "stderr",
     "output_type": "stream",
     "text": [
      "  0%|          | 0/10 [00:00<?, ?it/s]"
     ]
    },
    {
     "name": "stdout",
     "output_type": "stream",
     "text": [
      "=================================\n",
      "Initial portfolio value:100000\n",
      "Final portfolio value: 279113.65625\n",
      "Final accumulative portfolio value: 2.7911365625\n",
      "Maximum DrawDown: -0.3057034971344713\n",
      "Sharpe ratio: 0.8653843697315644\n",
      "=================================\n"
     ]
    },
    {
     "name": "stderr",
     "output_type": "stream",
     "text": [
      " 10%|█         | 1/10 [00:38<05:43, 38.22s/it]"
     ]
    },
    {
     "name": "stdout",
     "output_type": "stream",
     "text": [
      "=================================\n",
      "Initial portfolio value:100000\n",
      "Final portfolio value: 564816.5625\n",
      "Final accumulative portfolio value: 5.648165625\n",
      "Maximum DrawDown: -0.28023505790664727\n",
      "Sharpe ratio: 1.1362812429476936\n",
      "=================================\n"
     ]
    },
    {
     "name": "stderr",
     "output_type": "stream",
     "text": [
      " 20%|██        | 2/10 [01:15<05:03, 37.94s/it]"
     ]
    },
    {
     "name": "stdout",
     "output_type": "stream",
     "text": [
      "=================================\n",
      "Initial portfolio value:100000\n",
      "Final portfolio value: 636548.875\n",
      "Final accumulative portfolio value: 6.36548875\n",
      "Maximum DrawDown: -0.28031982721361914\n",
      "Sharpe ratio: 1.1811415747688023\n",
      "=================================\n"
     ]
    },
    {
     "name": "stderr",
     "output_type": "stream",
     "text": [
      " 30%|███       | 3/10 [01:53<04:24, 37.85s/it]"
     ]
    },
    {
     "name": "stdout",
     "output_type": "stream",
     "text": [
      "=================================\n",
      "Initial portfolio value:100000\n",
      "Final portfolio value: 1055803.375\n",
      "Final accumulative portfolio value: 10.55803375\n",
      "Maximum DrawDown: -0.29347885163357734\n",
      "Sharpe ratio: 1.4597975310242315\n",
      "=================================\n"
     ]
    },
    {
     "name": "stderr",
     "output_type": "stream",
     "text": [
      " 40%|████      | 4/10 [02:31<03:47, 37.90s/it]"
     ]
    },
    {
     "name": "stdout",
     "output_type": "stream",
     "text": [
      "=================================\n",
      "Initial portfolio value:100000\n",
      "Final portfolio value: 1195712.875\n",
      "Final accumulative portfolio value: 11.95712875\n",
      "Maximum DrawDown: -0.2803926168631903\n",
      "Sharpe ratio: 1.4922090372616215\n",
      "=================================\n"
     ]
    },
    {
     "name": "stderr",
     "output_type": "stream",
     "text": [
      " 50%|█████     | 5/10 [03:09<03:09, 37.96s/it]"
     ]
    },
    {
     "name": "stdout",
     "output_type": "stream",
     "text": [
      "=================================\n",
      "Initial portfolio value:100000\n",
      "Final portfolio value: 1517577.0\n",
      "Final accumulative portfolio value: 15.17577\n",
      "Maximum DrawDown: -0.28038730294222003\n",
      "Sharpe ratio: 1.6035242307491366\n",
      "=================================\n"
     ]
    },
    {
     "name": "stderr",
     "output_type": "stream",
     "text": [
      " 60%|██████    | 6/10 [03:47<02:31, 37.93s/it]"
     ]
    },
    {
     "name": "stdout",
     "output_type": "stream",
     "text": [
      "=================================\n",
      "Initial portfolio value:100000\n",
      "Final portfolio value: 593392.4375\n",
      "Final accumulative portfolio value: 5.933924375\n",
      "Maximum DrawDown: -0.44001555602043696\n",
      "Sharpe ratio: 1.0641049051327185\n",
      "=================================\n"
     ]
    },
    {
     "name": "stderr",
     "output_type": "stream",
     "text": [
      " 70%|███████   | 7/10 [04:25<01:53, 37.95s/it]"
     ]
    },
    {
     "name": "stdout",
     "output_type": "stream",
     "text": [
      "=================================\n",
      "Initial portfolio value:100000\n",
      "Final portfolio value: 1007148.1875\n",
      "Final accumulative portfolio value: 10.071481875\n",
      "Maximum DrawDown: -0.2803928701238384\n",
      "Sharpe ratio: 1.400737238089305\n",
      "=================================\n"
     ]
    },
    {
     "name": "stderr",
     "output_type": "stream",
     "text": [
      " 80%|████████  | 8/10 [05:03<01:15, 37.99s/it]"
     ]
    },
    {
     "name": "stdout",
     "output_type": "stream",
     "text": [
      "=================================\n",
      "Initial portfolio value:100000\n",
      "Final portfolio value: 816506.375\n",
      "Final accumulative portfolio value: 8.16506375\n",
      "Maximum DrawDown: -0.280392981235291\n",
      "Sharpe ratio: 1.2940391027872036\n",
      "=================================\n"
     ]
    },
    {
     "name": "stderr",
     "output_type": "stream",
     "text": [
      " 90%|█████████ | 9/10 [05:41<00:38, 38.09s/it]"
     ]
    },
    {
     "name": "stdout",
     "output_type": "stream",
     "text": [
      "=================================\n",
      "Initial portfolio value:100000\n",
      "Final portfolio value: 827051.8125\n",
      "Final accumulative portfolio value: 8.270518125\n",
      "Maximum DrawDown: -0.28039288935617857\n",
      "Sharpe ratio: 1.294628347035151\n",
      "=================================\n"
     ]
    },
    {
     "name": "stderr",
     "output_type": "stream",
     "text": [
      "100%|██████████| 10/10 [06:22<00:00, 38.22s/it]\n",
      "C:\\Users\\xutia\\AppData\\Local\\Temp\\ipykernel_17836\\976523745.py:42: FutureWarning: You are using `torch.load` with `weights_only=False` (the current default value), which uses the default pickle module implicitly. It is possible to construct malicious pickle data which will execute arbitrary code during unpickling (See https://github.com/pytorch/pytorch/blob/main/SECURITY.md#untrusted-models for more details). In a future release, the default value for `weights_only` will be flipped to `True`. This limits the functions that could be executed during unpickling. Arbitrary objects will no longer be allowed to be loaded via this mode unless they are explicitly allowlisted by the user via `torch.serialization.add_safe_globals`. We recommend you start setting `weights_only=True` for any use case where you don't have full control of the loaded file. Please open an issue on GitHub for any issues related to this experimental feature.\n",
      "  EIIE_policy.load_state_dict(torch.load(model_filename))\n"
     ]
    },
    {
     "name": "stdout",
     "output_type": "stream",
     "text": [
      "=================================\n",
      "Initial portfolio value:100000\n",
      "Final portfolio value: 689137.875\n",
      "Final accumulative portfolio value: 6.89137875\n",
      "Maximum DrawDown: -0.284127089407879\n",
      "Sharpe ratio: 1.158905258425225\n",
      "=================================\n",
      "=================================\n",
      "Initial portfolio value:100000\n",
      "Final portfolio value: 120784.7890625\n",
      "Final accumulative portfolio value: 1.207847890625\n",
      "Maximum DrawDown: -0.11002854163582676\n",
      "Sharpe ratio: 1.1524593280115294\n",
      "=================================\n"
     ]
    },
    {
     "name": "stderr",
     "output_type": "stream",
     "text": [
      "  0%|          | 0/10 [00:00<?, ?it/s]"
     ]
    },
    {
     "name": "stdout",
     "output_type": "stream",
     "text": [
      "=================================\n",
      "Initial portfolio value:100000\n",
      "Final portfolio value: 243798.078125\n",
      "Final accumulative portfolio value: 2.43798078125\n",
      "Maximum DrawDown: -0.32852390843937096\n",
      "Sharpe ratio: 0.8071036707279571\n",
      "=================================\n"
     ]
    },
    {
     "name": "stderr",
     "output_type": "stream",
     "text": [
      " 10%|█         | 1/10 [00:38<05:47, 38.58s/it]"
     ]
    },
    {
     "name": "stdout",
     "output_type": "stream",
     "text": [
      "=================================\n",
      "Initial portfolio value:100000\n",
      "Final portfolio value: 363358.5\n",
      "Final accumulative portfolio value: 3.633585\n",
      "Maximum DrawDown: -0.31272495884024376\n",
      "Sharpe ratio: 1.0310563130948316\n",
      "=================================\n"
     ]
    },
    {
     "name": "stderr",
     "output_type": "stream",
     "text": [
      " 20%|██        | 2/10 [01:16<05:04, 38.10s/it]"
     ]
    },
    {
     "name": "stdout",
     "output_type": "stream",
     "text": [
      "=================================\n",
      "Initial portfolio value:100000\n",
      "Final portfolio value: 645676.5\n",
      "Final accumulative portfolio value: 6.456765\n",
      "Maximum DrawDown: -0.2850061103822479\n",
      "Sharpe ratio: 1.245287214593903\n",
      "=================================\n"
     ]
    },
    {
     "name": "stderr",
     "output_type": "stream",
     "text": [
      " 30%|███       | 3/10 [01:53<04:23, 37.59s/it]"
     ]
    },
    {
     "name": "stdout",
     "output_type": "stream",
     "text": [
      "=================================\n",
      "Initial portfolio value:100000\n",
      "Final portfolio value: 755069.0\n",
      "Final accumulative portfolio value: 7.55069\n",
      "Maximum DrawDown: -0.32143407105802835\n",
      "Sharpe ratio: 1.2377932866294903\n",
      "=================================\n"
     ]
    },
    {
     "name": "stderr",
     "output_type": "stream",
     "text": [
      " 40%|████      | 4/10 [02:30<03:44, 37.49s/it]"
     ]
    },
    {
     "name": "stdout",
     "output_type": "stream",
     "text": [
      "=================================\n",
      "Initial portfolio value:100000\n",
      "Final portfolio value: 924627.5\n",
      "Final accumulative portfolio value: 9.246275\n",
      "Maximum DrawDown: -0.2803132627799009\n",
      "Sharpe ratio: 1.3509455175916987\n",
      "=================================\n"
     ]
    },
    {
     "name": "stderr",
     "output_type": "stream",
     "text": [
      " 50%|█████     | 5/10 [03:08<03:07, 37.48s/it]"
     ]
    },
    {
     "name": "stdout",
     "output_type": "stream",
     "text": [
      "=================================\n",
      "Initial portfolio value:100000\n",
      "Final portfolio value: 745784.375\n",
      "Final accumulative portfolio value: 7.45784375\n",
      "Maximum DrawDown: -0.409667217384158\n",
      "Sharpe ratio: 1.187509599886828\n",
      "=================================\n"
     ]
    },
    {
     "name": "stderr",
     "output_type": "stream",
     "text": [
      " 60%|██████    | 6/10 [03:45<02:29, 37.33s/it]"
     ]
    },
    {
     "name": "stdout",
     "output_type": "stream",
     "text": [
      "=================================\n",
      "Initial portfolio value:100000\n",
      "Final portfolio value: 1031432.875\n",
      "Final accumulative portfolio value: 10.31432875\n",
      "Maximum DrawDown: -0.28038146736914804\n",
      "Sharpe ratio: 1.4542024635536563\n",
      "=================================\n"
     ]
    },
    {
     "name": "stderr",
     "output_type": "stream",
     "text": [
      " 70%|███████   | 7/10 [04:22<01:51, 37.26s/it]"
     ]
    },
    {
     "name": "stdout",
     "output_type": "stream",
     "text": [
      "=================================\n",
      "Initial portfolio value:100000\n",
      "Final portfolio value: 797159.4375\n",
      "Final accumulative portfolio value: 7.971594375\n",
      "Maximum DrawDown: -0.43035543427114054\n",
      "Sharpe ratio: 1.2141693072287763\n",
      "=================================\n"
     ]
    },
    {
     "name": "stderr",
     "output_type": "stream",
     "text": [
      " 80%|████████  | 8/10 [04:59<01:14, 37.27s/it]"
     ]
    },
    {
     "name": "stdout",
     "output_type": "stream",
     "text": [
      "=================================\n",
      "Initial portfolio value:100000\n",
      "Final portfolio value: 1066502.625\n",
      "Final accumulative portfolio value: 10.66502625\n",
      "Maximum DrawDown: -0.36821489075148894\n",
      "Sharpe ratio: 1.381317360507791\n",
      "=================================\n"
     ]
    },
    {
     "name": "stderr",
     "output_type": "stream",
     "text": [
      " 90%|█████████ | 9/10 [05:39<00:38, 38.20s/it]"
     ]
    },
    {
     "name": "stdout",
     "output_type": "stream",
     "text": [
      "=================================\n",
      "Initial portfolio value:100000\n",
      "Final portfolio value: 1293225.125\n",
      "Final accumulative portfolio value: 12.93225125\n",
      "Maximum DrawDown: -0.2802269565090306\n",
      "Sharpe ratio: 1.5298512553527437\n",
      "=================================\n"
     ]
    },
    {
     "name": "stderr",
     "output_type": "stream",
     "text": [
      "100%|██████████| 10/10 [06:17<00:00, 37.74s/it]\n",
      "C:\\Users\\xutia\\AppData\\Local\\Temp\\ipykernel_17836\\976523745.py:42: FutureWarning: You are using `torch.load` with `weights_only=False` (the current default value), which uses the default pickle module implicitly. It is possible to construct malicious pickle data which will execute arbitrary code during unpickling (See https://github.com/pytorch/pytorch/blob/main/SECURITY.md#untrusted-models for more details). In a future release, the default value for `weights_only` will be flipped to `True`. This limits the functions that could be executed during unpickling. Arbitrary objects will no longer be allowed to be loaded via this mode unless they are explicitly allowlisted by the user via `torch.serialization.add_safe_globals`. We recommend you start setting `weights_only=True` for any use case where you don't have full control of the loaded file. Please open an issue on GitHub for any issues related to this experimental feature.\n",
      "  EIIE_policy.load_state_dict(torch.load(model_filename))\n"
     ]
    },
    {
     "name": "stdout",
     "output_type": "stream",
     "text": [
      "=================================\n",
      "Initial portfolio value:100000\n",
      "Final portfolio value: 971129.125\n",
      "Final accumulative portfolio value: 9.71129125\n",
      "Maximum DrawDown: -0.39171299091381606\n",
      "Sharpe ratio: 1.3116718197143418\n",
      "=================================\n",
      "=================================\n",
      "Initial portfolio value:100000\n",
      "Final portfolio value: 141142.90625\n",
      "Final accumulative portfolio value: 1.4114290625\n",
      "Maximum DrawDown: -0.10707634916114861\n",
      "Sharpe ratio: 1.8098810254864455\n",
      "=================================\n"
     ]
    },
    {
     "name": "stderr",
     "output_type": "stream",
     "text": [
      "  0%|          | 0/10 [00:00<?, ?it/s]"
     ]
    },
    {
     "name": "stdout",
     "output_type": "stream",
     "text": [
      "=================================\n",
      "Initial portfolio value:100000\n",
      "Final portfolio value: 346542.46875\n",
      "Final accumulative portfolio value: 3.4654246875\n",
      "Maximum DrawDown: -0.29200318386556345\n",
      "Sharpe ratio: 0.9697650318460479\n",
      "=================================\n"
     ]
    },
    {
     "name": "stderr",
     "output_type": "stream",
     "text": [
      " 10%|█         | 1/10 [00:37<05:37, 37.51s/it]"
     ]
    },
    {
     "name": "stdout",
     "output_type": "stream",
     "text": [
      "=================================\n",
      "Initial portfolio value:100000\n",
      "Final portfolio value: 584975.375\n",
      "Final accumulative portfolio value: 5.84975375\n",
      "Maximum DrawDown: -0.2803848632744177\n",
      "Sharpe ratio: 1.147324662689054\n",
      "=================================\n"
     ]
    },
    {
     "name": "stderr",
     "output_type": "stream",
     "text": [
      " 20%|██        | 2/10 [01:14<04:58, 37.33s/it]"
     ]
    },
    {
     "name": "stdout",
     "output_type": "stream",
     "text": [
      "=================================\n",
      "Initial portfolio value:100000\n",
      "Final portfolio value: 691614.6875\n",
      "Final accumulative portfolio value: 6.916146875\n",
      "Maximum DrawDown: -0.29886296276851243\n",
      "Sharpe ratio: 1.1831368878051152\n",
      "=================================\n"
     ]
    },
    {
     "name": "stderr",
     "output_type": "stream",
     "text": [
      " 30%|███       | 3/10 [01:51<04:20, 37.24s/it]"
     ]
    },
    {
     "name": "stdout",
     "output_type": "stream",
     "text": [
      "=================================\n",
      "Initial portfolio value:100000\n",
      "Final portfolio value: 987684.25\n",
      "Final accumulative portfolio value: 9.8768425\n",
      "Maximum DrawDown: -0.2814307693467981\n",
      "Sharpe ratio: 1.3233379005905082\n",
      "=================================\n"
     ]
    },
    {
     "name": "stderr",
     "output_type": "stream",
     "text": [
      " 40%|████      | 4/10 [02:29<03:44, 37.45s/it]"
     ]
    },
    {
     "name": "stdout",
     "output_type": "stream",
     "text": [
      "=================================\n",
      "Initial portfolio value:100000\n",
      "Final portfolio value: 970605.25\n",
      "Final accumulative portfolio value: 9.7060525\n",
      "Maximum DrawDown: -0.28039265157582005\n",
      "Sharpe ratio: 1.3678363648710263\n",
      "=================================\n"
     ]
    },
    {
     "name": "stderr",
     "output_type": "stream",
     "text": [
      " 50%|█████     | 5/10 [03:07<03:07, 37.43s/it]"
     ]
    },
    {
     "name": "stdout",
     "output_type": "stream",
     "text": [
      "=================================\n",
      "Initial portfolio value:100000\n",
      "Final portfolio value: 766619.0\n",
      "Final accumulative portfolio value: 7.66619\n",
      "Maximum DrawDown: -0.2803927837221749\n",
      "Sharpe ratio: 1.2572767826015725\n",
      "=================================\n"
     ]
    },
    {
     "name": "stderr",
     "output_type": "stream",
     "text": [
      " 60%|██████    | 6/10 [03:44<02:29, 37.44s/it]"
     ]
    },
    {
     "name": "stdout",
     "output_type": "stream",
     "text": [
      "=================================\n",
      "Initial portfolio value:100000\n",
      "Final portfolio value: 782741.125\n",
      "Final accumulative portfolio value: 7.82741125\n",
      "Maximum DrawDown: -0.2803929253726545\n",
      "Sharpe ratio: 1.2535501783790886\n",
      "=================================\n"
     ]
    },
    {
     "name": "stderr",
     "output_type": "stream",
     "text": [
      " 70%|███████   | 7/10 [04:21<01:52, 37.43s/it]"
     ]
    },
    {
     "name": "stdout",
     "output_type": "stream",
     "text": [
      "=================================\n",
      "Initial portfolio value:100000\n",
      "Final portfolio value: 728992.4375\n",
      "Final accumulative portfolio value: 7.289924375\n",
      "Maximum DrawDown: -0.28039298405570257\n",
      "Sharpe ratio: 1.238418003055491\n",
      "=================================\n"
     ]
    },
    {
     "name": "stderr",
     "output_type": "stream",
     "text": [
      " 80%|████████  | 8/10 [04:59<01:15, 37.51s/it]"
     ]
    },
    {
     "name": "stdout",
     "output_type": "stream",
     "text": [
      "=================================\n",
      "Initial portfolio value:100000\n",
      "Final portfolio value: 765926.1875\n",
      "Final accumulative portfolio value: 7.659261875\n",
      "Maximum DrawDown: -0.2803929340530016\n",
      "Sharpe ratio: 1.2650298776335127\n",
      "=================================\n"
     ]
    },
    {
     "name": "stderr",
     "output_type": "stream",
     "text": [
      " 90%|█████████ | 9/10 [05:36<00:37, 37.42s/it]"
     ]
    },
    {
     "name": "stdout",
     "output_type": "stream",
     "text": [
      "=================================\n",
      "Initial portfolio value:100000\n",
      "Final portfolio value: 775014.3125\n",
      "Final accumulative portfolio value: 7.750143125\n",
      "Maximum DrawDown: -0.28039308181537703\n",
      "Sharpe ratio: 1.2641039554932105\n",
      "=================================\n"
     ]
    },
    {
     "name": "stderr",
     "output_type": "stream",
     "text": [
      "100%|██████████| 10/10 [06:14<00:00, 37.41s/it]\n",
      "C:\\Users\\xutia\\AppData\\Local\\Temp\\ipykernel_17836\\976523745.py:42: FutureWarning: You are using `torch.load` with `weights_only=False` (the current default value), which uses the default pickle module implicitly. It is possible to construct malicious pickle data which will execute arbitrary code during unpickling (See https://github.com/pytorch/pytorch/blob/main/SECURITY.md#untrusted-models for more details). In a future release, the default value for `weights_only` will be flipped to `True`. This limits the functions that could be executed during unpickling. Arbitrary objects will no longer be allowed to be loaded via this mode unless they are explicitly allowlisted by the user via `torch.serialization.add_safe_globals`. We recommend you start setting `weights_only=True` for any use case where you don't have full control of the loaded file. Please open an issue on GitHub for any issues related to this experimental feature.\n",
      "  EIIE_policy.load_state_dict(torch.load(model_filename))\n"
     ]
    },
    {
     "name": "stdout",
     "output_type": "stream",
     "text": [
      "=================================\n",
      "Initial portfolio value:100000\n",
      "Final portfolio value: 822690.125\n",
      "Final accumulative portfolio value: 8.22690125\n",
      "Maximum DrawDown: -0.3142705117449932\n",
      "Sharpe ratio: 1.2653163441104693\n",
      "=================================\n",
      "=================================\n",
      "Initial portfolio value:100000\n",
      "Final portfolio value: 133073.359375\n",
      "Final accumulative portfolio value: 1.33073359375\n",
      "Maximum DrawDown: -0.11127058927384859\n",
      "Sharpe ratio: 1.661047704910053\n",
      "=================================\n"
     ]
    },
    {
     "name": "stderr",
     "output_type": "stream",
     "text": [
      "  0%|          | 0/10 [00:00<?, ?it/s]"
     ]
    },
    {
     "name": "stdout",
     "output_type": "stream",
     "text": [
      "=================================\n",
      "Initial portfolio value:100000\n",
      "Final portfolio value: 233376.4375\n",
      "Final accumulative portfolio value: 2.333764375\n",
      "Maximum DrawDown: -0.3351479341235918\n",
      "Sharpe ratio: 0.7788425854763845\n",
      "=================================\n"
     ]
    },
    {
     "name": "stderr",
     "output_type": "stream",
     "text": [
      " 10%|█         | 1/10 [00:37<05:38, 37.64s/it]"
     ]
    },
    {
     "name": "stdout",
     "output_type": "stream",
     "text": [
      "=================================\n",
      "Initial portfolio value:100000\n",
      "Final portfolio value: 237554.609375\n",
      "Final accumulative portfolio value: 2.37554609375\n",
      "Maximum DrawDown: -0.3324793889265396\n",
      "Sharpe ratio: 0.7924661476513186\n",
      "=================================\n"
     ]
    },
    {
     "name": "stderr",
     "output_type": "stream",
     "text": [
      " 20%|██        | 2/10 [01:15<05:00, 37.57s/it]"
     ]
    },
    {
     "name": "stdout",
     "output_type": "stream",
     "text": [
      "=================================\n",
      "Initial portfolio value:100000\n",
      "Final portfolio value: 255043.9375\n",
      "Final accumulative portfolio value: 2.550439375\n",
      "Maximum DrawDown: -0.3195908772200029\n",
      "Sharpe ratio: 0.8487026399907838\n",
      "=================================\n"
     ]
    },
    {
     "name": "stderr",
     "output_type": "stream",
     "text": [
      " 30%|███       | 3/10 [01:52<04:21, 37.33s/it]"
     ]
    },
    {
     "name": "stdout",
     "output_type": "stream",
     "text": [
      "=================================\n",
      "Initial portfolio value:100000\n",
      "Final portfolio value: 295027.65625\n",
      "Final accumulative portfolio value: 2.9502765625\n",
      "Maximum DrawDown: -0.32111742429913925\n",
      "Sharpe ratio: 0.9261813488093378\n",
      "=================================\n"
     ]
    },
    {
     "name": "stderr",
     "output_type": "stream",
     "text": [
      " 40%|████      | 4/10 [02:30<03:45, 37.63s/it]"
     ]
    },
    {
     "name": "stdout",
     "output_type": "stream",
     "text": [
      "=================================\n",
      "Initial portfolio value:100000\n",
      "Final portfolio value: 416541.21875\n",
      "Final accumulative portfolio value: 4.1654121875\n",
      "Maximum DrawDown: -0.2824850582408148\n",
      "Sharpe ratio: 1.1416945309552495\n",
      "=================================\n"
     ]
    },
    {
     "name": "stderr",
     "output_type": "stream",
     "text": [
      " 50%|█████     | 5/10 [03:07<03:08, 37.61s/it]"
     ]
    },
    {
     "name": "stdout",
     "output_type": "stream",
     "text": [
      "=================================\n",
      "Initial portfolio value:100000\n",
      "Final portfolio value: 505006.28125\n",
      "Final accumulative portfolio value: 5.0500628125\n",
      "Maximum DrawDown: -0.2979112383927147\n",
      "Sharpe ratio: 1.182936973438586\n",
      "=================================\n"
     ]
    },
    {
     "name": "stderr",
     "output_type": "stream",
     "text": [
      " 60%|██████    | 6/10 [03:46<02:31, 37.83s/it]"
     ]
    },
    {
     "name": "stdout",
     "output_type": "stream",
     "text": [
      "=================================\n",
      "Initial portfolio value:100000\n",
      "Final portfolio value: 428245.90625\n",
      "Final accumulative portfolio value: 4.2824590625\n",
      "Maximum DrawDown: -0.3579450744436997\n",
      "Sharpe ratio: 1.0233504162569325\n",
      "=================================\n"
     ]
    },
    {
     "name": "stderr",
     "output_type": "stream",
     "text": [
      " 70%|███████   | 7/10 [04:23<01:53, 37.75s/it]"
     ]
    },
    {
     "name": "stdout",
     "output_type": "stream",
     "text": [
      "=================================\n",
      "Initial portfolio value:100000\n",
      "Final portfolio value: 350708.0\n",
      "Final accumulative portfolio value: 3.50708\n",
      "Maximum DrawDown: -0.32158496021036664\n",
      "Sharpe ratio: 1.002885715020324\n",
      "=================================\n"
     ]
    },
    {
     "name": "stderr",
     "output_type": "stream",
     "text": [
      " 80%|████████  | 8/10 [05:01<01:15, 37.63s/it]"
     ]
    },
    {
     "name": "stdout",
     "output_type": "stream",
     "text": [
      "=================================\n",
      "Initial portfolio value:100000\n",
      "Final portfolio value: 394706.46875\n",
      "Final accumulative portfolio value: 3.9470646875\n",
      "Maximum DrawDown: -0.2352389658799352\n",
      "Sharpe ratio: 1.1517866118425852\n",
      "=================================\n"
     ]
    },
    {
     "name": "stderr",
     "output_type": "stream",
     "text": [
      " 90%|█████████ | 9/10 [05:38<00:37, 37.52s/it]"
     ]
    },
    {
     "name": "stdout",
     "output_type": "stream",
     "text": [
      "=================================\n",
      "Initial portfolio value:100000\n",
      "Final portfolio value: 467054.875\n",
      "Final accumulative portfolio value: 4.67054875\n",
      "Maximum DrawDown: -0.23120401619374764\n",
      "Sharpe ratio: 1.2104020561986142\n",
      "=================================\n"
     ]
    },
    {
     "name": "stderr",
     "output_type": "stream",
     "text": [
      "100%|██████████| 10/10 [06:15<00:00, 37.57s/it]\n",
      "C:\\Users\\xutia\\AppData\\Local\\Temp\\ipykernel_17836\\976523745.py:42: FutureWarning: You are using `torch.load` with `weights_only=False` (the current default value), which uses the default pickle module implicitly. It is possible to construct malicious pickle data which will execute arbitrary code during unpickling (See https://github.com/pytorch/pytorch/blob/main/SECURITY.md#untrusted-models for more details). In a future release, the default value for `weights_only` will be flipped to `True`. This limits the functions that could be executed during unpickling. Arbitrary objects will no longer be allowed to be loaded via this mode unless they are explicitly allowlisted by the user via `torch.serialization.add_safe_globals`. We recommend you start setting `weights_only=True` for any use case where you don't have full control of the loaded file. Please open an issue on GitHub for any issues related to this experimental feature.\n",
      "  EIIE_policy.load_state_dict(torch.load(model_filename))\n"
     ]
    },
    {
     "name": "stdout",
     "output_type": "stream",
     "text": [
      "=================================\n",
      "Initial portfolio value:100000\n",
      "Final portfolio value: 240071.75\n",
      "Final accumulative portfolio value: 2.4007175\n",
      "Maximum DrawDown: -0.34821781027194343\n",
      "Sharpe ratio: 0.7755286933366347\n",
      "=================================\n",
      "=================================\n",
      "Initial portfolio value:100000\n",
      "Final portfolio value: 120128.21875\n",
      "Final accumulative portfolio value: 1.2012821875\n",
      "Maximum DrawDown: -0.11861426749941151\n",
      "Sharpe ratio: 1.0913025847313518\n",
      "=================================\n"
     ]
    },
    {
     "name": "stderr",
     "output_type": "stream",
     "text": [
      "  0%|          | 0/10 [00:00<?, ?it/s]"
     ]
    },
    {
     "name": "stdout",
     "output_type": "stream",
     "text": [
      "=================================\n",
      "Initial portfolio value:100000\n",
      "Final portfolio value: 293664.8125\n",
      "Final accumulative portfolio value: 2.936648125\n",
      "Maximum DrawDown: -0.29422975409861074\n",
      "Sharpe ratio: 0.9023415568650287\n",
      "=================================\n"
     ]
    },
    {
     "name": "stderr",
     "output_type": "stream",
     "text": [
      " 10%|█         | 1/10 [00:37<05:38, 37.60s/it]"
     ]
    },
    {
     "name": "stdout",
     "output_type": "stream",
     "text": [
      "=================================\n",
      "Initial portfolio value:100000\n",
      "Final portfolio value: 586811.75\n",
      "Final accumulative portfolio value: 5.8681175\n",
      "Maximum DrawDown: -0.280391315883291\n",
      "Sharpe ratio: 1.178337791932991\n",
      "=================================\n"
     ]
    },
    {
     "name": "stderr",
     "output_type": "stream",
     "text": [
      " 20%|██        | 2/10 [01:14<04:59, 37.45s/it]"
     ]
    },
    {
     "name": "stdout",
     "output_type": "stream",
     "text": [
      "=================================\n",
      "Initial portfolio value:100000\n",
      "Final portfolio value: 777859.4375\n",
      "Final accumulative portfolio value: 7.778594375\n",
      "Maximum DrawDown: -0.28039309139927737\n",
      "Sharpe ratio: 1.3262100376800001\n",
      "=================================\n"
     ]
    },
    {
     "name": "stderr",
     "output_type": "stream",
     "text": [
      " 30%|███       | 3/10 [01:52<04:22, 37.45s/it]"
     ]
    },
    {
     "name": "stdout",
     "output_type": "stream",
     "text": [
      "=================================\n",
      "Initial portfolio value:100000\n",
      "Final portfolio value: 715204.8125\n",
      "Final accumulative portfolio value: 7.152048125\n",
      "Maximum DrawDown: -0.2803931450800664\n",
      "Sharpe ratio: 1.2664159717826906\n",
      "=================================\n"
     ]
    },
    {
     "name": "stderr",
     "output_type": "stream",
     "text": [
      " 40%|████      | 4/10 [02:29<03:44, 37.44s/it]"
     ]
    },
    {
     "name": "stdout",
     "output_type": "stream",
     "text": [
      "=================================\n",
      "Initial portfolio value:100000\n",
      "Final portfolio value: 864315.1875\n",
      "Final accumulative portfolio value: 8.643151875\n",
      "Maximum DrawDown: -0.2803930256560089\n",
      "Sharpe ratio: 1.3369524293701829\n",
      "=================================\n"
     ]
    },
    {
     "name": "stderr",
     "output_type": "stream",
     "text": [
      " 50%|█████     | 5/10 [03:07<03:07, 37.51s/it]"
     ]
    },
    {
     "name": "stdout",
     "output_type": "stream",
     "text": [
      "=================================\n",
      "Initial portfolio value:100000\n",
      "Final portfolio value: 724374.6875\n",
      "Final accumulative portfolio value: 7.243746875\n",
      "Maximum DrawDown: -0.2803929919750803\n",
      "Sharpe ratio: 1.253921470673496\n",
      "=================================\n"
     ]
    },
    {
     "name": "stderr",
     "output_type": "stream",
     "text": [
      " 60%|██████    | 6/10 [03:45<02:30, 37.55s/it]"
     ]
    },
    {
     "name": "stdout",
     "output_type": "stream",
     "text": [
      "=================================\n",
      "Initial portfolio value:100000\n",
      "Final portfolio value: 700809.4375\n",
      "Final accumulative portfolio value: 7.008094375\n",
      "Maximum DrawDown: -0.28039306338240255\n",
      "Sharpe ratio: 1.2218125336379262\n",
      "=================================\n"
     ]
    },
    {
     "name": "stderr",
     "output_type": "stream",
     "text": [
      " 70%|███████   | 7/10 [04:22<01:52, 37.62s/it]"
     ]
    },
    {
     "name": "stdout",
     "output_type": "stream",
     "text": [
      "=================================\n",
      "Initial portfolio value:100000\n",
      "Final portfolio value: 709751.5625\n",
      "Final accumulative portfolio value: 7.097515625\n",
      "Maximum DrawDown: -0.28039282304470114\n",
      "Sharpe ratio: 1.2304741170867188\n",
      "=================================\n"
     ]
    },
    {
     "name": "stderr",
     "output_type": "stream",
     "text": [
      " 80%|████████  | 8/10 [05:00<01:15, 37.61s/it]"
     ]
    },
    {
     "name": "stdout",
     "output_type": "stream",
     "text": [
      "=================================\n",
      "Initial portfolio value:100000\n",
      "Final portfolio value: 851247.0625\n",
      "Final accumulative portfolio value: 8.512470625\n",
      "Maximum DrawDown: -0.28039300932711253\n",
      "Sharpe ratio: 1.3389477082309664\n",
      "=================================\n"
     ]
    },
    {
     "name": "stderr",
     "output_type": "stream",
     "text": [
      " 90%|█████████ | 9/10 [05:38<00:37, 37.70s/it]"
     ]
    },
    {
     "name": "stdout",
     "output_type": "stream",
     "text": [
      "=================================\n",
      "Initial portfolio value:100000\n",
      "Final portfolio value: 895001.0\n",
      "Final accumulative portfolio value: 8.95001\n",
      "Maximum DrawDown: -0.2803932258454135\n",
      "Sharpe ratio: 1.3668138582689764\n",
      "=================================\n"
     ]
    },
    {
     "name": "stderr",
     "output_type": "stream",
     "text": [
      "100%|██████████| 10/10 [06:15<00:00, 37.59s/it]\n",
      "C:\\Users\\xutia\\AppData\\Local\\Temp\\ipykernel_17836\\976523745.py:42: FutureWarning: You are using `torch.load` with `weights_only=False` (the current default value), which uses the default pickle module implicitly. It is possible to construct malicious pickle data which will execute arbitrary code during unpickling (See https://github.com/pytorch/pytorch/blob/main/SECURITY.md#untrusted-models for more details). In a future release, the default value for `weights_only` will be flipped to `True`. This limits the functions that could be executed during unpickling. Arbitrary objects will no longer be allowed to be loaded via this mode unless they are explicitly allowlisted by the user via `torch.serialization.add_safe_globals`. We recommend you start setting `weights_only=True` for any use case where you don't have full control of the loaded file. Please open an issue on GitHub for any issues related to this experimental feature.\n",
      "  EIIE_policy.load_state_dict(torch.load(model_filename))\n"
     ]
    },
    {
     "name": "stdout",
     "output_type": "stream",
     "text": [
      "=================================\n",
      "Initial portfolio value:100000\n",
      "Final portfolio value: 544357.625\n",
      "Final accumulative portfolio value: 5.44357625\n",
      "Maximum DrawDown: -0.4117669366940263\n",
      "Sharpe ratio: 0.9995021408929091\n",
      "=================================\n",
      "=================================\n",
      "Initial portfolio value:100000\n",
      "Final portfolio value: 106025.203125\n",
      "Final accumulative portfolio value: 1.06025203125\n",
      "Maximum DrawDown: -0.1118908218878677\n",
      "Sharpe ratio: 0.4354701899363201\n",
      "=================================\n"
     ]
    },
    {
     "name": "stderr",
     "output_type": "stream",
     "text": [
      "  0%|          | 0/10 [00:00<?, ?it/s]"
     ]
    },
    {
     "name": "stdout",
     "output_type": "stream",
     "text": [
      "=================================\n",
      "Initial portfolio value:100000\n",
      "Final portfolio value: 217555.71875\n",
      "Final accumulative portfolio value: 2.1755571875\n",
      "Maximum DrawDown: -0.3338728304281027\n",
      "Sharpe ratio: 0.7421994216812762\n",
      "=================================\n"
     ]
    },
    {
     "name": "stderr",
     "output_type": "stream",
     "text": [
      " 10%|█         | 1/10 [00:37<05:38, 37.66s/it]"
     ]
    },
    {
     "name": "stdout",
     "output_type": "stream",
     "text": [
      "=================================\n",
      "Initial portfolio value:100000\n",
      "Final portfolio value: 229636.53125\n",
      "Final accumulative portfolio value: 2.2963653125\n",
      "Maximum DrawDown: -0.33421672514553247\n",
      "Sharpe ratio: 0.7709787480086518\n",
      "=================================\n"
     ]
    },
    {
     "name": "stderr",
     "output_type": "stream",
     "text": [
      " 20%|██        | 2/10 [01:15<05:00, 37.52s/it]"
     ]
    },
    {
     "name": "stdout",
     "output_type": "stream",
     "text": [
      "=================================\n",
      "Initial portfolio value:100000\n",
      "Final portfolio value: 235597.9375\n",
      "Final accumulative portfolio value: 2.355979375\n",
      "Maximum DrawDown: -0.3387892101679564\n",
      "Sharpe ratio: 0.7807896655589684\n",
      "=================================\n"
     ]
    },
    {
     "name": "stderr",
     "output_type": "stream",
     "text": [
      " 30%|███       | 3/10 [01:52<04:21, 37.37s/it]"
     ]
    },
    {
     "name": "stdout",
     "output_type": "stream",
     "text": [
      "=================================\n",
      "Initial portfolio value:100000\n",
      "Final portfolio value: 260511.40625\n",
      "Final accumulative portfolio value: 2.6051140625\n",
      "Maximum DrawDown: -0.3366244922668359\n",
      "Sharpe ratio: 0.8367389609361746\n",
      "=================================\n"
     ]
    },
    {
     "name": "stderr",
     "output_type": "stream",
     "text": [
      " 40%|████      | 4/10 [02:30<03:45, 37.64s/it]"
     ]
    },
    {
     "name": "stdout",
     "output_type": "stream",
     "text": [
      "=================================\n",
      "Initial portfolio value:100000\n",
      "Final portfolio value: 389324.0625\n",
      "Final accumulative portfolio value: 3.893240625\n",
      "Maximum DrawDown: -0.3193983393459723\n",
      "Sharpe ratio: 1.0612480734182097\n",
      "=================================\n"
     ]
    },
    {
     "name": "stderr",
     "output_type": "stream",
     "text": [
      " 50%|█████     | 5/10 [03:07<03:07, 37.59s/it]"
     ]
    },
    {
     "name": "stdout",
     "output_type": "stream",
     "text": [
      "=================================\n",
      "Initial portfolio value:100000\n",
      "Final portfolio value: 590575.0\n",
      "Final accumulative portfolio value: 5.90575\n",
      "Maximum DrawDown: -0.2985072656429745\n",
      "Sharpe ratio: 1.1814964302603623\n",
      "=================================\n"
     ]
    },
    {
     "name": "stderr",
     "output_type": "stream",
     "text": [
      " 60%|██████    | 6/10 [03:45<02:30, 37.54s/it]"
     ]
    },
    {
     "name": "stdout",
     "output_type": "stream",
     "text": [
      "=================================\n",
      "Initial portfolio value:100000\n",
      "Final portfolio value: 719710.25\n",
      "Final accumulative portfolio value: 7.1971025\n",
      "Maximum DrawDown: -0.28553095972498777\n",
      "Sharpe ratio: 1.2699590048115867\n",
      "=================================\n"
     ]
    },
    {
     "name": "stderr",
     "output_type": "stream",
     "text": [
      " 70%|███████   | 7/10 [04:22<01:52, 37.52s/it]"
     ]
    },
    {
     "name": "stdout",
     "output_type": "stream",
     "text": [
      "=================================\n",
      "Initial portfolio value:100000\n",
      "Final portfolio value: 795692.625\n",
      "Final accumulative portfolio value: 7.95692625\n",
      "Maximum DrawDown: -0.28458964980671053\n",
      "Sharpe ratio: 1.2818926244891007\n",
      "=================================\n"
     ]
    },
    {
     "name": "stderr",
     "output_type": "stream",
     "text": [
      " 80%|████████  | 8/10 [05:00<01:15, 37.59s/it]"
     ]
    },
    {
     "name": "stdout",
     "output_type": "stream",
     "text": [
      "=================================\n",
      "Initial portfolio value:100000\n",
      "Final portfolio value: 874262.625\n",
      "Final accumulative portfolio value: 8.74262625\n",
      "Maximum DrawDown: -0.2863692402495892\n",
      "Sharpe ratio: 1.303247147127572\n",
      "=================================\n"
     ]
    },
    {
     "name": "stderr",
     "output_type": "stream",
     "text": [
      " 90%|█████████ | 9/10 [05:37<00:37, 37.54s/it]"
     ]
    },
    {
     "name": "stdout",
     "output_type": "stream",
     "text": [
      "=================================\n",
      "Initial portfolio value:100000\n",
      "Final portfolio value: 1002301.5\n",
      "Final accumulative portfolio value: 10.023015\n",
      "Maximum DrawDown: -0.29160838076355144\n",
      "Sharpe ratio: 1.345034181728776\n",
      "=================================\n"
     ]
    },
    {
     "name": "stderr",
     "output_type": "stream",
     "text": [
      "100%|██████████| 10/10 [06:15<00:00, 37.52s/it]\n",
      "C:\\Users\\xutia\\AppData\\Local\\Temp\\ipykernel_17836\\976523745.py:42: FutureWarning: You are using `torch.load` with `weights_only=False` (the current default value), which uses the default pickle module implicitly. It is possible to construct malicious pickle data which will execute arbitrary code during unpickling (See https://github.com/pytorch/pytorch/blob/main/SECURITY.md#untrusted-models for more details). In a future release, the default value for `weights_only` will be flipped to `True`. This limits the functions that could be executed during unpickling. Arbitrary objects will no longer be allowed to be loaded via this mode unless they are explicitly allowlisted by the user via `torch.serialization.add_safe_globals`. We recommend you start setting `weights_only=True` for any use case where you don't have full control of the loaded file. Please open an issue on GitHub for any issues related to this experimental feature.\n",
      "  EIIE_policy.load_state_dict(torch.load(model_filename))\n"
     ]
    },
    {
     "name": "stdout",
     "output_type": "stream",
     "text": [
      "=================================\n",
      "Initial portfolio value:100000\n",
      "Final portfolio value: 794672.3125\n",
      "Final accumulative portfolio value: 7.946723125\n",
      "Maximum DrawDown: -0.2874537509507932\n",
      "Sharpe ratio: 1.2172725679455216\n",
      "=================================\n",
      "=================================\n",
      "Initial portfolio value:100000\n",
      "Final portfolio value: 126670.90625\n",
      "Final accumulative portfolio value: 1.2667090625\n",
      "Maximum DrawDown: -0.15823433304083168\n",
      "Sharpe ratio: 1.1933547561833264\n",
      "=================================\n"
     ]
    },
    {
     "name": "stderr",
     "output_type": "stream",
     "text": [
      "  0%|          | 0/10 [00:00<?, ?it/s]"
     ]
    },
    {
     "name": "stdout",
     "output_type": "stream",
     "text": [
      "=================================\n",
      "Initial portfolio value:100000\n",
      "Final portfolio value: 294089.875\n",
      "Final accumulative portfolio value: 2.94089875\n",
      "Maximum DrawDown: -0.292759718602431\n",
      "Sharpe ratio: 0.8972700509978441\n",
      "=================================\n"
     ]
    },
    {
     "name": "stderr",
     "output_type": "stream",
     "text": [
      " 10%|█         | 1/10 [00:37<05:35, 37.25s/it]"
     ]
    },
    {
     "name": "stdout",
     "output_type": "stream",
     "text": [
      "=================================\n",
      "Initial portfolio value:100000\n",
      "Final portfolio value: 653407.9375\n",
      "Final accumulative portfolio value: 6.534079375\n",
      "Maximum DrawDown: -0.2803900003714268\n",
      "Sharpe ratio: 1.2411269557366966\n",
      "=================================\n"
     ]
    },
    {
     "name": "stderr",
     "output_type": "stream",
     "text": [
      " 20%|██        | 2/10 [01:14<04:59, 37.43s/it]"
     ]
    },
    {
     "name": "stdout",
     "output_type": "stream",
     "text": [
      "=================================\n",
      "Initial portfolio value:100000\n",
      "Final portfolio value: 807272.125\n",
      "Final accumulative portfolio value: 8.07272125\n",
      "Maximum DrawDown: -0.2803928223922687\n",
      "Sharpe ratio: 1.324293369028135\n",
      "=================================\n"
     ]
    },
    {
     "name": "stderr",
     "output_type": "stream",
     "text": [
      " 30%|███       | 3/10 [01:52<04:23, 37.60s/it]"
     ]
    },
    {
     "name": "stdout",
     "output_type": "stream",
     "text": [
      "=================================\n",
      "Initial portfolio value:100000\n",
      "Final portfolio value: 498015.6875\n",
      "Final accumulative portfolio value: 4.980156875\n",
      "Maximum DrawDown: -0.2802537562534618\n",
      "Sharpe ratio: 1.0776878972643391\n",
      "=================================\n"
     ]
    },
    {
     "name": "stderr",
     "output_type": "stream",
     "text": [
      " 40%|████      | 4/10 [02:30<03:45, 37.64s/it]"
     ]
    },
    {
     "name": "stdout",
     "output_type": "stream",
     "text": [
      "=================================\n",
      "Initial portfolio value:100000\n",
      "Final portfolio value: 610946.5625\n",
      "Final accumulative portfolio value: 6.109465625\n",
      "Maximum DrawDown: -0.28038957653814967\n",
      "Sharpe ratio: 1.139579438148626\n",
      "=================================\n"
     ]
    },
    {
     "name": "stderr",
     "output_type": "stream",
     "text": [
      " 50%|█████     | 5/10 [03:07<03:08, 37.62s/it]"
     ]
    },
    {
     "name": "stdout",
     "output_type": "stream",
     "text": [
      "=================================\n",
      "Initial portfolio value:100000\n",
      "Final portfolio value: 780196.3125\n",
      "Final accumulative portfolio value: 7.801963125\n",
      "Maximum DrawDown: -0.28039291484145845\n",
      "Sharpe ratio: 1.2805937292680794\n",
      "=================================\n"
     ]
    },
    {
     "name": "stderr",
     "output_type": "stream",
     "text": [
      " 60%|██████    | 6/10 [03:45<02:30, 37.60s/it]"
     ]
    },
    {
     "name": "stdout",
     "output_type": "stream",
     "text": [
      "=================================\n",
      "Initial portfolio value:100000\n",
      "Final portfolio value: 767440.5\n",
      "Final accumulative portfolio value: 7.674405\n",
      "Maximum DrawDown: -0.2803929692399486\n",
      "Sharpe ratio: 1.273776483327198\n",
      "=================================\n"
     ]
    },
    {
     "name": "stderr",
     "output_type": "stream",
     "text": [
      " 70%|███████   | 7/10 [04:23<01:52, 37.64s/it]"
     ]
    },
    {
     "name": "stdout",
     "output_type": "stream",
     "text": [
      "=================================\n",
      "Initial portfolio value:100000\n",
      "Final portfolio value: 750646.875\n",
      "Final accumulative portfolio value: 7.50646875\n",
      "Maximum DrawDown: -0.2803930059936731\n",
      "Sharpe ratio: 1.261237101752291\n",
      "=================================\n"
     ]
    },
    {
     "name": "stderr",
     "output_type": "stream",
     "text": [
      " 80%|████████  | 8/10 [05:01<01:15, 37.72s/it]"
     ]
    },
    {
     "name": "stdout",
     "output_type": "stream",
     "text": [
      "=================================\n",
      "Initial portfolio value:100000\n",
      "Final portfolio value: 775276.75\n",
      "Final accumulative portfolio value: 7.7527675\n",
      "Maximum DrawDown: -0.28039275273718434\n",
      "Sharpe ratio: 1.2755662657757352\n",
      "=================================\n"
     ]
    },
    {
     "name": "stderr",
     "output_type": "stream",
     "text": [
      " 90%|█████████ | 9/10 [05:38<00:37, 37.61s/it]"
     ]
    },
    {
     "name": "stdout",
     "output_type": "stream",
     "text": [
      "=================================\n",
      "Initial portfolio value:100000\n",
      "Final portfolio value: 764202.0\n",
      "Final accumulative portfolio value: 7.64202\n",
      "Maximum DrawDown: -0.28039299283486185\n",
      "Sharpe ratio: 1.2684744090964926\n",
      "=================================\n"
     ]
    },
    {
     "name": "stderr",
     "output_type": "stream",
     "text": [
      "100%|██████████| 10/10 [06:16<00:00, 37.61s/it]\n",
      "C:\\Users\\xutia\\AppData\\Local\\Temp\\ipykernel_17836\\976523745.py:42: FutureWarning: You are using `torch.load` with `weights_only=False` (the current default value), which uses the default pickle module implicitly. It is possible to construct malicious pickle data which will execute arbitrary code during unpickling (See https://github.com/pytorch/pytorch/blob/main/SECURITY.md#untrusted-models for more details). In a future release, the default value for `weights_only` will be flipped to `True`. This limits the functions that could be executed during unpickling. Arbitrary objects will no longer be allowed to be loaded via this mode unless they are explicitly allowlisted by the user via `torch.serialization.add_safe_globals`. We recommend you start setting `weights_only=True` for any use case where you don't have full control of the loaded file. Please open an issue on GitHub for any issues related to this experimental feature.\n",
      "  EIIE_policy.load_state_dict(torch.load(model_filename))\n"
     ]
    },
    {
     "name": "stdout",
     "output_type": "stream",
     "text": [
      "=================================\n",
      "Initial portfolio value:100000\n",
      "Final portfolio value: 556550.5\n",
      "Final accumulative portfolio value: 5.565505\n",
      "Maximum DrawDown: -0.2803930191726077\n",
      "Sharpe ratio: 1.0858052072270286\n",
      "=================================\n",
      "=================================\n",
      "Initial portfolio value:100000\n",
      "Final portfolio value: 113928.3828125\n",
      "Final accumulative portfolio value: 1.139283828125\n",
      "Maximum DrawDown: -0.12335392692176617\n",
      "Sharpe ratio: 0.80282693445357\n",
      "=================================\n"
     ]
    },
    {
     "name": "stderr",
     "output_type": "stream",
     "text": [
      "  0%|          | 0/10 [00:00<?, ?it/s]"
     ]
    },
    {
     "name": "stdout",
     "output_type": "stream",
     "text": [
      "=================================\n",
      "Initial portfolio value:100000\n",
      "Final portfolio value: 233390.515625\n",
      "Final accumulative portfolio value: 2.33390515625\n",
      "Maximum DrawDown: -0.3328479444443665\n",
      "Sharpe ratio: 0.7810519787637376\n",
      "=================================\n"
     ]
    },
    {
     "name": "stderr",
     "output_type": "stream",
     "text": [
      " 10%|█         | 1/10 [00:37<05:41, 37.98s/it]"
     ]
    },
    {
     "name": "stdout",
     "output_type": "stream",
     "text": [
      "=================================\n",
      "Initial portfolio value:100000\n",
      "Final portfolio value: 326523.40625\n",
      "Final accumulative portfolio value: 3.2652340625\n",
      "Maximum DrawDown: -0.31601971074007196\n",
      "Sharpe ratio: 0.9740148946725835\n",
      "=================================\n"
     ]
    },
    {
     "name": "stderr",
     "output_type": "stream",
     "text": [
      " 20%|██        | 2/10 [01:15<05:02, 37.81s/it]"
     ]
    },
    {
     "name": "stdout",
     "output_type": "stream",
     "text": [
      "=================================\n",
      "Initial portfolio value:100000\n",
      "Final portfolio value: 556549.4375\n",
      "Final accumulative portfolio value: 5.565494375\n",
      "Maximum DrawDown: -0.2988882732811339\n",
      "Sharpe ratio: 1.172647568321324\n",
      "=================================\n"
     ]
    },
    {
     "name": "stderr",
     "output_type": "stream",
     "text": [
      " 30%|███       | 3/10 [01:53<04:25, 37.89s/it]"
     ]
    },
    {
     "name": "stdout",
     "output_type": "stream",
     "text": [
      "=================================\n",
      "Initial portfolio value:100000\n",
      "Final portfolio value: 652041.3125\n",
      "Final accumulative portfolio value: 6.520413125\n",
      "Maximum DrawDown: -0.2965943131663461\n",
      "Sharpe ratio: 1.1776886667261377\n",
      "=================================\n"
     ]
    },
    {
     "name": "stderr",
     "output_type": "stream",
     "text": [
      " 40%|████      | 4/10 [02:31<03:46, 37.79s/it]"
     ]
    },
    {
     "name": "stdout",
     "output_type": "stream",
     "text": [
      "=================================\n",
      "Initial portfolio value:100000\n",
      "Final portfolio value: 852646.0625\n",
      "Final accumulative portfolio value: 8.526460625\n",
      "Maximum DrawDown: -0.2834478946203448\n",
      "Sharpe ratio: 1.347945481475742\n",
      "=================================\n"
     ]
    },
    {
     "name": "stderr",
     "output_type": "stream",
     "text": [
      " 50%|█████     | 5/10 [03:09<03:08, 37.78s/it]"
     ]
    },
    {
     "name": "stdout",
     "output_type": "stream",
     "text": [
      "=================================\n",
      "Initial portfolio value:100000\n",
      "Final portfolio value: 925295.9375\n",
      "Final accumulative portfolio value: 9.252959375\n",
      "Maximum DrawDown: -0.28598284976263255\n",
      "Sharpe ratio: 1.3119607878419988\n",
      "=================================\n"
     ]
    },
    {
     "name": "stderr",
     "output_type": "stream",
     "text": [
      " 60%|██████    | 6/10 [03:47<02:32, 38.08s/it]"
     ]
    },
    {
     "name": "stdout",
     "output_type": "stream",
     "text": [
      "=================================\n",
      "Initial portfolio value:100000\n",
      "Final portfolio value: 1060252.375\n",
      "Final accumulative portfolio value: 10.60252375\n",
      "Maximum DrawDown: -0.29387551240860477\n",
      "Sharpe ratio: 1.3460583222774656\n",
      "=================================\n"
     ]
    },
    {
     "name": "stderr",
     "output_type": "stream",
     "text": [
      " 70%|███████   | 7/10 [04:25<01:54, 38.03s/it]"
     ]
    },
    {
     "name": "stdout",
     "output_type": "stream",
     "text": [
      "=================================\n",
      "Initial portfolio value:100000\n",
      "Final portfolio value: 1121394.5\n",
      "Final accumulative portfolio value: 11.213945\n",
      "Maximum DrawDown: -0.2799452752813988\n",
      "Sharpe ratio: 1.4059899634600581\n",
      "=================================\n"
     ]
    },
    {
     "name": "stderr",
     "output_type": "stream",
     "text": [
      " 80%|████████  | 8/10 [05:03<01:15, 37.93s/it]"
     ]
    },
    {
     "name": "stdout",
     "output_type": "stream",
     "text": [
      "=================================\n",
      "Initial portfolio value:100000\n",
      "Final portfolio value: 1028155.25\n",
      "Final accumulative portfolio value: 10.2815525\n",
      "Maximum DrawDown: -0.27993633703452525\n",
      "Sharpe ratio: 1.4078075849240976\n",
      "=================================\n"
     ]
    },
    {
     "name": "stderr",
     "output_type": "stream",
     "text": [
      " 90%|█████████ | 9/10 [05:40<00:37, 37.84s/it]"
     ]
    },
    {
     "name": "stdout",
     "output_type": "stream",
     "text": [
      "=================================\n",
      "Initial portfolio value:100000\n",
      "Final portfolio value: 1056944.0\n",
      "Final accumulative portfolio value: 10.56944\n",
      "Maximum DrawDown: -0.29262957036396176\n",
      "Sharpe ratio: 1.3256567842290623\n",
      "=================================\n"
     ]
    },
    {
     "name": "stderr",
     "output_type": "stream",
     "text": [
      "100%|██████████| 10/10 [06:18<00:00, 37.80s/it]\n",
      "C:\\Users\\xutia\\AppData\\Local\\Temp\\ipykernel_17836\\976523745.py:42: FutureWarning: You are using `torch.load` with `weights_only=False` (the current default value), which uses the default pickle module implicitly. It is possible to construct malicious pickle data which will execute arbitrary code during unpickling (See https://github.com/pytorch/pytorch/blob/main/SECURITY.md#untrusted-models for more details). In a future release, the default value for `weights_only` will be flipped to `True`. This limits the functions that could be executed during unpickling. Arbitrary objects will no longer be allowed to be loaded via this mode unless they are explicitly allowlisted by the user via `torch.serialization.add_safe_globals`. We recommend you start setting `weights_only=True` for any use case where you don't have full control of the loaded file. Please open an issue on GitHub for any issues related to this experimental feature.\n",
      "  EIIE_policy.load_state_dict(torch.load(model_filename))\n"
     ]
    },
    {
     "name": "stdout",
     "output_type": "stream",
     "text": [
      "=================================\n",
      "Initial portfolio value:100000\n",
      "Final portfolio value: 756393.5625\n",
      "Final accumulative portfolio value: 7.563935625\n",
      "Maximum DrawDown: -0.3211149744532511\n",
      "Sharpe ratio: 1.2299144273962224\n",
      "=================================\n",
      "=================================\n",
      "Initial portfolio value:100000\n",
      "Final portfolio value: 134523.625\n",
      "Final accumulative portfolio value: 1.34523625\n",
      "Maximum DrawDown: -0.10892276494907038\n",
      "Sharpe ratio: 1.996906159852707\n",
      "=================================\n"
     ]
    },
    {
     "name": "stderr",
     "output_type": "stream",
     "text": [
      "  0%|          | 0/10 [00:00<?, ?it/s]"
     ]
    },
    {
     "name": "stdout",
     "output_type": "stream",
     "text": [
      "=================================\n",
      "Initial portfolio value:100000\n",
      "Final portfolio value: 266228.5\n",
      "Final accumulative portfolio value: 2.662285\n",
      "Maximum DrawDown: -0.28115416025169016\n",
      "Sharpe ratio: 0.8822426585387233\n",
      "=================================\n"
     ]
    },
    {
     "name": "stderr",
     "output_type": "stream",
     "text": [
      " 10%|█         | 1/10 [00:37<05:37, 37.51s/it]"
     ]
    },
    {
     "name": "stdout",
     "output_type": "stream",
     "text": [
      "=================================\n",
      "Initial portfolio value:100000\n",
      "Final portfolio value: 479887.1875\n",
      "Final accumulative portfolio value: 4.798871875\n",
      "Maximum DrawDown: -0.2763775564393496\n",
      "Sharpe ratio: 1.0409009309485489\n",
      "=================================\n"
     ]
    },
    {
     "name": "stderr",
     "output_type": "stream",
     "text": [
      " 20%|██        | 2/10 [01:15<05:03, 37.89s/it]"
     ]
    },
    {
     "name": "stdout",
     "output_type": "stream",
     "text": [
      "=================================\n",
      "Initial portfolio value:100000\n",
      "Final portfolio value: 684149.5625\n",
      "Final accumulative portfolio value: 6.841495625\n",
      "Maximum DrawDown: -0.2803638240761209\n",
      "Sharpe ratio: 1.278166673913884\n",
      "=================================\n"
     ]
    },
    {
     "name": "stderr",
     "output_type": "stream",
     "text": [
      " 30%|███       | 3/10 [01:53<04:25, 37.86s/it]"
     ]
    },
    {
     "name": "stdout",
     "output_type": "stream",
     "text": [
      "=================================\n",
      "Initial portfolio value:100000\n",
      "Final portfolio value: 724006.125\n",
      "Final accumulative portfolio value: 7.24006125\n",
      "Maximum DrawDown: -0.2803930368709504\n",
      "Sharpe ratio: 1.2670200760271797\n",
      "=================================\n"
     ]
    },
    {
     "name": "stderr",
     "output_type": "stream",
     "text": [
      " 40%|████      | 4/10 [02:30<03:45, 37.66s/it]"
     ]
    },
    {
     "name": "stdout",
     "output_type": "stream",
     "text": [
      "=================================\n",
      "Initial portfolio value:100000\n",
      "Final portfolio value: 665811.8125\n",
      "Final accumulative portfolio value: 6.658118125\n",
      "Maximum DrawDown: -0.2803932483402256\n",
      "Sharpe ratio: 1.2409327633742868\n",
      "=================================\n"
     ]
    },
    {
     "name": "stderr",
     "output_type": "stream",
     "text": [
      " 50%|█████     | 5/10 [03:08<03:07, 37.56s/it]"
     ]
    },
    {
     "name": "stdout",
     "output_type": "stream",
     "text": [
      "=================================\n",
      "Initial portfolio value:100000\n",
      "Final portfolio value: 731664.9375\n",
      "Final accumulative portfolio value: 7.316649375\n",
      "Maximum DrawDown: -0.2803935769605064\n",
      "Sharpe ratio: 1.283911413435806\n",
      "=================================\n"
     ]
    },
    {
     "name": "stderr",
     "output_type": "stream",
     "text": [
      " 60%|██████    | 6/10 [03:45<02:30, 37.61s/it]"
     ]
    },
    {
     "name": "stdout",
     "output_type": "stream",
     "text": [
      "=================================\n",
      "Initial portfolio value:100000\n",
      "Final portfolio value: 950662.0\n",
      "Final accumulative portfolio value: 9.50662\n",
      "Maximum DrawDown: -0.28039304782816266\n",
      "Sharpe ratio: 1.4262441785772826\n",
      "=================================\n"
     ]
    },
    {
     "name": "stderr",
     "output_type": "stream",
     "text": [
      " 70%|███████   | 7/10 [04:23<01:52, 37.57s/it]"
     ]
    },
    {
     "name": "stdout",
     "output_type": "stream",
     "text": [
      "=================================\n",
      "Initial portfolio value:100000\n",
      "Final portfolio value: 696613.125\n",
      "Final accumulative portfolio value: 6.96613125\n",
      "Maximum DrawDown: -0.2803929380951058\n",
      "Sharpe ratio: 1.2210276629022103\n",
      "=================================\n"
     ]
    },
    {
     "name": "stderr",
     "output_type": "stream",
     "text": [
      " 80%|████████  | 8/10 [05:00<01:15, 37.54s/it]"
     ]
    },
    {
     "name": "stdout",
     "output_type": "stream",
     "text": [
      "=================================\n",
      "Initial portfolio value:100000\n",
      "Final portfolio value: 757739.75\n",
      "Final accumulative portfolio value: 7.5773975\n",
      "Maximum DrawDown: -0.2803926562368535\n",
      "Sharpe ratio: 1.2682274422627329\n",
      "=================================\n"
     ]
    },
    {
     "name": "stderr",
     "output_type": "stream",
     "text": [
      " 90%|█████████ | 9/10 [05:38<00:37, 37.51s/it]"
     ]
    },
    {
     "name": "stdout",
     "output_type": "stream",
     "text": [
      "=================================\n",
      "Initial portfolio value:100000\n",
      "Final portfolio value: 736250.0\n",
      "Final accumulative portfolio value: 7.3625\n",
      "Maximum DrawDown: -0.28039323653757264\n",
      "Sharpe ratio: 1.248406640175477\n",
      "=================================\n"
     ]
    },
    {
     "name": "stderr",
     "output_type": "stream",
     "text": [
      "100%|██████████| 10/10 [06:15<00:00, 37.57s/it]\n",
      "C:\\Users\\xutia\\AppData\\Local\\Temp\\ipykernel_17836\\976523745.py:42: FutureWarning: You are using `torch.load` with `weights_only=False` (the current default value), which uses the default pickle module implicitly. It is possible to construct malicious pickle data which will execute arbitrary code during unpickling (See https://github.com/pytorch/pytorch/blob/main/SECURITY.md#untrusted-models for more details). In a future release, the default value for `weights_only` will be flipped to `True`. This limits the functions that could be executed during unpickling. Arbitrary objects will no longer be allowed to be loaded via this mode unless they are explicitly allowlisted by the user via `torch.serialization.add_safe_globals`. We recommend you start setting `weights_only=True` for any use case where you don't have full control of the loaded file. Please open an issue on GitHub for any issues related to this experimental feature.\n",
      "  EIIE_policy.load_state_dict(torch.load(model_filename))\n"
     ]
    },
    {
     "name": "stdout",
     "output_type": "stream",
     "text": [
      "=================================\n",
      "Initial portfolio value:100000\n",
      "Final portfolio value: 703584.125\n",
      "Final accumulative portfolio value: 7.03584125\n",
      "Maximum DrawDown: -0.28039292473898114\n",
      "Sharpe ratio: 1.2273591845705698\n",
      "=================================\n",
      "=================================\n",
      "Initial portfolio value:100000\n",
      "Final portfolio value: 112935.4765625\n",
      "Final accumulative portfolio value: 1.129354765625\n",
      "Maximum DrawDown: -0.11189089958096388\n",
      "Sharpe ratio: 0.8107371099460805\n",
      "=================================\n"
     ]
    },
    {
     "name": "stderr",
     "output_type": "stream",
     "text": [
      "  0%|          | 0/10 [00:00<?, ?it/s]"
     ]
    },
    {
     "name": "stdout",
     "output_type": "stream",
     "text": [
      "=================================\n",
      "Initial portfolio value:100000\n",
      "Final portfolio value: 270677.84375\n",
      "Final accumulative portfolio value: 2.7067784375\n",
      "Maximum DrawDown: -0.3098152487596776\n",
      "Sharpe ratio: 0.8720540833257129\n",
      "=================================\n"
     ]
    },
    {
     "name": "stderr",
     "output_type": "stream",
     "text": [
      " 10%|█         | 1/10 [00:37<05:40, 37.86s/it]"
     ]
    },
    {
     "name": "stdout",
     "output_type": "stream",
     "text": [
      "=================================\n",
      "Initial portfolio value:100000\n",
      "Final portfolio value: 474108.0625\n",
      "Final accumulative portfolio value: 4.741080625\n",
      "Maximum DrawDown: -0.29055487909831135\n",
      "Sharpe ratio: 1.1120585566076202\n",
      "=================================\n"
     ]
    },
    {
     "name": "stderr",
     "output_type": "stream",
     "text": [
      " 20%|██        | 2/10 [01:15<05:01, 37.69s/it]"
     ]
    },
    {
     "name": "stdout",
     "output_type": "stream",
     "text": [
      "=================================\n",
      "Initial portfolio value:100000\n",
      "Final portfolio value: 620840.25\n",
      "Final accumulative portfolio value: 6.2084025\n",
      "Maximum DrawDown: -0.29128929114081004\n",
      "Sharpe ratio: 1.1717397990635405\n",
      "=================================\n"
     ]
    },
    {
     "name": "stderr",
     "output_type": "stream",
     "text": [
      " 30%|███       | 3/10 [01:53<04:23, 37.69s/it]"
     ]
    },
    {
     "name": "stdout",
     "output_type": "stream",
     "text": [
      "=================================\n",
      "Initial portfolio value:100000\n",
      "Final portfolio value: 807076.25\n",
      "Final accumulative portfolio value: 8.0707625\n",
      "Maximum DrawDown: -0.28027013350985874\n",
      "Sharpe ratio: 1.2956758217039936\n",
      "=================================\n"
     ]
    },
    {
     "name": "stderr",
     "output_type": "stream",
     "text": [
      " 40%|████      | 4/10 [02:31<03:47, 37.85s/it]"
     ]
    },
    {
     "name": "stdout",
     "output_type": "stream",
     "text": [
      "=================================\n",
      "Initial portfolio value:100000\n",
      "Final portfolio value: 1049591.875\n",
      "Final accumulative portfolio value: 10.49591875\n",
      "Maximum DrawDown: -0.2865426995657807\n",
      "Sharpe ratio: 1.4378425009404059\n",
      "=================================\n"
     ]
    },
    {
     "name": "stderr",
     "output_type": "stream",
     "text": [
      " 50%|█████     | 5/10 [03:08<03:08, 37.79s/it]"
     ]
    },
    {
     "name": "stdout",
     "output_type": "stream",
     "text": [
      "=================================\n",
      "Initial portfolio value:100000\n",
      "Final portfolio value: 1253863.5\n",
      "Final accumulative portfolio value: 12.538635\n",
      "Maximum DrawDown: -0.28040837434477517\n",
      "Sharpe ratio: 1.5423623561448105\n",
      "=================================\n"
     ]
    },
    {
     "name": "stderr",
     "output_type": "stream",
     "text": [
      " 60%|██████    | 6/10 [03:46<02:31, 37.88s/it]"
     ]
    },
    {
     "name": "stdout",
     "output_type": "stream",
     "text": [
      "=================================\n",
      "Initial portfolio value:100000\n",
      "Final portfolio value: 882109.375\n",
      "Final accumulative portfolio value: 8.82109375\n",
      "Maximum DrawDown: -0.39305253197758017\n",
      "Sharpe ratio: 1.2593664464006882\n",
      "=================================\n"
     ]
    },
    {
     "name": "stderr",
     "output_type": "stream",
     "text": [
      " 70%|███████   | 7/10 [04:24<01:53, 37.89s/it]"
     ]
    },
    {
     "name": "stdout",
     "output_type": "stream",
     "text": [
      "=================================\n",
      "Initial portfolio value:100000\n",
      "Final portfolio value: 1382197.75\n",
      "Final accumulative portfolio value: 13.8219775\n",
      "Maximum DrawDown: -0.280393026888589\n",
      "Sharpe ratio: 1.547449592050611\n",
      "=================================\n"
     ]
    },
    {
     "name": "stderr",
     "output_type": "stream",
     "text": [
      " 80%|████████  | 8/10 [05:02<01:15, 37.86s/it]"
     ]
    },
    {
     "name": "stdout",
     "output_type": "stream",
     "text": [
      "=================================\n",
      "Initial portfolio value:100000\n",
      "Final portfolio value: 1485119.375\n",
      "Final accumulative portfolio value: 14.85119375\n",
      "Maximum DrawDown: -0.2803927789557714\n",
      "Sharpe ratio: 1.5942816077271131\n",
      "=================================\n"
     ]
    },
    {
     "name": "stderr",
     "output_type": "stream",
     "text": [
      " 90%|█████████ | 9/10 [05:40<00:37, 37.88s/it]"
     ]
    },
    {
     "name": "stdout",
     "output_type": "stream",
     "text": [
      "=================================\n",
      "Initial portfolio value:100000\n",
      "Final portfolio value: 1424558.375\n",
      "Final accumulative portfolio value: 14.24558375\n",
      "Maximum DrawDown: -0.2803669969197746\n",
      "Sharpe ratio: 1.5701344694849646\n",
      "=================================\n"
     ]
    },
    {
     "name": "stderr",
     "output_type": "stream",
     "text": [
      "100%|██████████| 10/10 [06:20<00:00, 38.04s/it]\n",
      "C:\\Users\\xutia\\AppData\\Local\\Temp\\ipykernel_17836\\976523745.py:42: FutureWarning: You are using `torch.load` with `weights_only=False` (the current default value), which uses the default pickle module implicitly. It is possible to construct malicious pickle data which will execute arbitrary code during unpickling (See https://github.com/pytorch/pytorch/blob/main/SECURITY.md#untrusted-models for more details). In a future release, the default value for `weights_only` will be flipped to `True`. This limits the functions that could be executed during unpickling. Arbitrary objects will no longer be allowed to be loaded via this mode unless they are explicitly allowlisted by the user via `torch.serialization.add_safe_globals`. We recommend you start setting `weights_only=True` for any use case where you don't have full control of the loaded file. Please open an issue on GitHub for any issues related to this experimental feature.\n",
      "  EIIE_policy.load_state_dict(torch.load(model_filename))\n"
     ]
    },
    {
     "name": "stdout",
     "output_type": "stream",
     "text": [
      "=================================\n",
      "Initial portfolio value:100000\n",
      "Final portfolio value: 1340436.75\n",
      "Final accumulative portfolio value: 13.4043675\n",
      "Maximum DrawDown: -0.27696201276322097\n",
      "Sharpe ratio: 1.537922840299769\n",
      "=================================\n",
      "=================================\n",
      "Initial portfolio value:100000\n",
      "Final portfolio value: 130752.2578125\n",
      "Final accumulative portfolio value: 1.307522578125\n",
      "Maximum DrawDown: -0.1200722418308271\n",
      "Sharpe ratio: 1.3273193084190469\n",
      "=================================\n"
     ]
    },
    {
     "name": "stderr",
     "output_type": "stream",
     "text": [
      "  0%|          | 0/10 [00:00<?, ?it/s]"
     ]
    },
    {
     "name": "stdout",
     "output_type": "stream",
     "text": [
      "=================================\n",
      "Initial portfolio value:100000\n",
      "Final portfolio value: 275154.46875\n",
      "Final accumulative portfolio value: 2.7515446875\n",
      "Maximum DrawDown: -0.3018948071390528\n",
      "Sharpe ratio: 0.8706364103074828\n",
      "=================================\n"
     ]
    },
    {
     "name": "stderr",
     "output_type": "stream",
     "text": [
      " 10%|█         | 1/10 [00:38<05:47, 38.66s/it]"
     ]
    },
    {
     "name": "stdout",
     "output_type": "stream",
     "text": [
      "=================================\n",
      "Initial portfolio value:100000\n",
      "Final portfolio value: 576294.1875\n",
      "Final accumulative portfolio value: 5.762941875\n",
      "Maximum DrawDown: -0.2803898452111062\n",
      "Sharpe ratio: 1.1639724190067533\n",
      "=================================\n"
     ]
    },
    {
     "name": "stderr",
     "output_type": "stream",
     "text": [
      " 20%|██        | 2/10 [01:17<05:09, 38.75s/it]"
     ]
    },
    {
     "name": "stdout",
     "output_type": "stream",
     "text": [
      "=================================\n",
      "Initial portfolio value:100000\n",
      "Final portfolio value: 759338.375\n",
      "Final accumulative portfolio value: 7.59338375\n",
      "Maximum DrawDown: -0.2803930582590235\n",
      "Sharpe ratio: 1.3189543905961412\n",
      "=================================\n"
     ]
    },
    {
     "name": "stderr",
     "output_type": "stream",
     "text": [
      " 30%|███       | 3/10 [01:57<04:36, 39.47s/it]"
     ]
    },
    {
     "name": "stdout",
     "output_type": "stream",
     "text": [
      "=================================\n",
      "Initial portfolio value:100000\n",
      "Final portfolio value: 751579.875\n",
      "Final accumulative portfolio value: 7.51579875\n",
      "Maximum DrawDown: -0.2803928890873696\n",
      "Sharpe ratio: 1.2809149125266202\n",
      "=================================\n"
     ]
    },
    {
     "name": "stderr",
     "output_type": "stream",
     "text": [
      " 40%|████      | 4/10 [02:36<03:55, 39.26s/it]"
     ]
    },
    {
     "name": "stdout",
     "output_type": "stream",
     "text": [
      "=================================\n",
      "Initial portfolio value:100000\n",
      "Final portfolio value: 850799.625\n",
      "Final accumulative portfolio value: 8.50799625\n",
      "Maximum DrawDown: -0.2803930064466924\n",
      "Sharpe ratio: 1.3211702288353722\n",
      "=================================\n"
     ]
    },
    {
     "name": "stderr",
     "output_type": "stream",
     "text": [
      " 50%|█████     | 5/10 [03:15<03:15, 39.06s/it]"
     ]
    },
    {
     "name": "stdout",
     "output_type": "stream",
     "text": [
      "=================================\n",
      "Initial portfolio value:100000\n",
      "Final portfolio value: 714894.0625\n",
      "Final accumulative portfolio value: 7.148940625\n",
      "Maximum DrawDown: -0.21405005867833515\n",
      "Sharpe ratio: 1.3335458851189599\n",
      "=================================\n"
     ]
    },
    {
     "name": "stderr",
     "output_type": "stream",
     "text": [
      " 60%|██████    | 6/10 [03:54<02:35, 38.99s/it]"
     ]
    },
    {
     "name": "stdout",
     "output_type": "stream",
     "text": [
      "=================================\n",
      "Initial portfolio value:100000\n",
      "Final portfolio value: 305176.5625\n",
      "Final accumulative portfolio value: 3.051765625\n",
      "Maximum DrawDown: -0.2691415834179389\n",
      "Sharpe ratio: 0.8748652327012971\n",
      "=================================\n"
     ]
    },
    {
     "name": "stderr",
     "output_type": "stream",
     "text": [
      " 70%|███████   | 7/10 [04:32<01:56, 38.77s/it]"
     ]
    },
    {
     "name": "stdout",
     "output_type": "stream",
     "text": [
      "=================================\n",
      "Initial portfolio value:100000\n",
      "Final portfolio value: 479643.1875\n",
      "Final accumulative portfolio value: 4.796431875\n",
      "Maximum DrawDown: -0.1750833554992146\n",
      "Sharpe ratio: 1.0959511534302169\n",
      "=================================\n"
     ]
    },
    {
     "name": "stderr",
     "output_type": "stream",
     "text": [
      " 80%|████████  | 8/10 [05:11<01:17, 38.83s/it]"
     ]
    },
    {
     "name": "stdout",
     "output_type": "stream",
     "text": [
      "=================================\n",
      "Initial portfolio value:100000\n",
      "Final portfolio value: 437147.15625\n",
      "Final accumulative portfolio value: 4.3714715625\n",
      "Maximum DrawDown: -0.27086375489668013\n",
      "Sharpe ratio: 0.9552723601733518\n",
      "=================================\n"
     ]
    },
    {
     "name": "stderr",
     "output_type": "stream",
     "text": [
      " 90%|█████████ | 9/10 [05:49<00:38, 38.60s/it]"
     ]
    },
    {
     "name": "stdout",
     "output_type": "stream",
     "text": [
      "=================================\n",
      "Initial portfolio value:100000\n",
      "Final portfolio value: 437544.84375\n",
      "Final accumulative portfolio value: 4.3754484375\n",
      "Maximum DrawDown: -0.28039102150385997\n",
      "Sharpe ratio: 0.9584321790584126\n",
      "=================================\n"
     ]
    },
    {
     "name": "stderr",
     "output_type": "stream",
     "text": [
      "100%|██████████| 10/10 [06:28<00:00, 38.88s/it]\n",
      "C:\\Users\\xutia\\AppData\\Local\\Temp\\ipykernel_17836\\976523745.py:42: FutureWarning: You are using `torch.load` with `weights_only=False` (the current default value), which uses the default pickle module implicitly. It is possible to construct malicious pickle data which will execute arbitrary code during unpickling (See https://github.com/pytorch/pytorch/blob/main/SECURITY.md#untrusted-models for more details). In a future release, the default value for `weights_only` will be flipped to `True`. This limits the functions that could be executed during unpickling. Arbitrary objects will no longer be allowed to be loaded via this mode unless they are explicitly allowlisted by the user via `torch.serialization.add_safe_globals`. We recommend you start setting `weights_only=True` for any use case where you don't have full control of the loaded file. Please open an issue on GitHub for any issues related to this experimental feature.\n",
      "  EIIE_policy.load_state_dict(torch.load(model_filename))\n"
     ]
    },
    {
     "name": "stdout",
     "output_type": "stream",
     "text": [
      "=================================\n",
      "Initial portfolio value:100000\n",
      "Final portfolio value: 383164.75\n",
      "Final accumulative portfolio value: 3.8316475\n",
      "Maximum DrawDown: -0.28204025405310584\n",
      "Sharpe ratio: 0.8571664594184579\n",
      "=================================\n",
      "=================================\n",
      "Initial portfolio value:100000\n",
      "Final portfolio value: 108298.859375\n",
      "Final accumulative portfolio value: 1.08298859375\n",
      "Maximum DrawDown: -0.11351430617219238\n",
      "Sharpe ratio: 0.5374747611654443\n",
      "=================================\n"
     ]
    },
    {
     "name": "stderr",
     "output_type": "stream",
     "text": [
      "  0%|          | 0/10 [00:00<?, ?it/s]"
     ]
    },
    {
     "name": "stdout",
     "output_type": "stream",
     "text": [
      "=================================\n",
      "Initial portfolio value:100000\n",
      "Final portfolio value: 237610.5\n",
      "Final accumulative portfolio value: 2.376105\n",
      "Maximum DrawDown: -0.3215704889959585\n",
      "Sharpe ratio: 0.7920702942347649\n",
      "=================================\n"
     ]
    },
    {
     "name": "stderr",
     "output_type": "stream",
     "text": [
      " 10%|█         | 1/10 [00:39<05:52, 39.13s/it]"
     ]
    },
    {
     "name": "stdout",
     "output_type": "stream",
     "text": [
      "=================================\n",
      "Initial portfolio value:100000\n",
      "Final portfolio value: 364348.75\n",
      "Final accumulative portfolio value: 3.6434875\n",
      "Maximum DrawDown: -0.30794891974435523\n",
      "Sharpe ratio: 0.9834433413692744\n",
      "=================================\n"
     ]
    },
    {
     "name": "stderr",
     "output_type": "stream",
     "text": [
      " 20%|██        | 2/10 [01:17<05:10, 38.77s/it]"
     ]
    },
    {
     "name": "stdout",
     "output_type": "stream",
     "text": [
      "=================================\n",
      "Initial portfolio value:100000\n",
      "Final portfolio value: 489420.0625\n",
      "Final accumulative portfolio value: 4.894200625\n",
      "Maximum DrawDown: -0.3131600552307834\n",
      "Sharpe ratio: 1.0971985851859043\n",
      "=================================\n"
     ]
    },
    {
     "name": "stderr",
     "output_type": "stream",
     "text": [
      " 30%|███       | 3/10 [01:56<04:31, 38.80s/it]"
     ]
    },
    {
     "name": "stdout",
     "output_type": "stream",
     "text": [
      "=================================\n",
      "Initial portfolio value:100000\n",
      "Final portfolio value: 586943.3125\n",
      "Final accumulative portfolio value: 5.869433125\n",
      "Maximum DrawDown: -0.3119138094905517\n",
      "Sharpe ratio: 1.1331676860850917\n",
      "=================================\n"
     ]
    },
    {
     "name": "stderr",
     "output_type": "stream",
     "text": [
      " 40%|████      | 4/10 [02:35<03:52, 38.77s/it]"
     ]
    },
    {
     "name": "stdout",
     "output_type": "stream",
     "text": [
      "=================================\n",
      "Initial portfolio value:100000\n",
      "Final portfolio value: 735952.0\n",
      "Final accumulative portfolio value: 7.35952\n",
      "Maximum DrawDown: -0.29362948274997924\n",
      "Sharpe ratio: 1.2840638900482075\n",
      "=================================\n"
     ]
    },
    {
     "name": "stderr",
     "output_type": "stream",
     "text": [
      " 50%|█████     | 5/10 [03:14<03:14, 38.81s/it]"
     ]
    },
    {
     "name": "stdout",
     "output_type": "stream",
     "text": [
      "=================================\n",
      "Initial portfolio value:100000\n",
      "Final portfolio value: 838398.9375\n",
      "Final accumulative portfolio value: 8.383989375\n",
      "Maximum DrawDown: -0.2870028658012296\n",
      "Sharpe ratio: 1.2999168301957813\n",
      "=================================\n"
     ]
    },
    {
     "name": "stderr",
     "output_type": "stream",
     "text": [
      " 60%|██████    | 6/10 [03:53<02:35, 38.96s/it]"
     ]
    },
    {
     "name": "stdout",
     "output_type": "stream",
     "text": [
      "=================================\n",
      "Initial portfolio value:100000\n",
      "Final portfolio value: 932403.875\n",
      "Final accumulative portfolio value: 9.32403875\n",
      "Maximum DrawDown: -0.2915156552994944\n",
      "Sharpe ratio: 1.3005972112847177\n",
      "=================================\n"
     ]
    },
    {
     "name": "stderr",
     "output_type": "stream",
     "text": [
      " 70%|███████   | 7/10 [04:32<01:56, 39.00s/it]"
     ]
    },
    {
     "name": "stdout",
     "output_type": "stream",
     "text": [
      "=================================\n",
      "Initial portfolio value:100000\n",
      "Final portfolio value: 1100556.625\n",
      "Final accumulative portfolio value: 11.00556625\n",
      "Maximum DrawDown: -0.2835875275192865\n",
      "Sharpe ratio: 1.3665469110558184\n",
      "=================================\n"
     ]
    },
    {
     "name": "stderr",
     "output_type": "stream",
     "text": [
      " 80%|████████  | 8/10 [05:11<01:18, 39.03s/it]"
     ]
    },
    {
     "name": "stdout",
     "output_type": "stream",
     "text": [
      "=================================\n",
      "Initial portfolio value:100000\n",
      "Final portfolio value: 1131070.0\n",
      "Final accumulative portfolio value: 11.3107\n",
      "Maximum DrawDown: -0.28391378363469155\n",
      "Sharpe ratio: 1.383847446597906\n",
      "=================================\n"
     ]
    },
    {
     "name": "stderr",
     "output_type": "stream",
     "text": [
      " 90%|█████████ | 9/10 [05:50<00:38, 38.98s/it]"
     ]
    },
    {
     "name": "stdout",
     "output_type": "stream",
     "text": [
      "=================================\n",
      "Initial portfolio value:100000\n",
      "Final portfolio value: 1180645.0\n",
      "Final accumulative portfolio value: 11.80645\n",
      "Maximum DrawDown: -0.2779620929624147\n",
      "Sharpe ratio: 1.4065082206554587\n",
      "=================================\n"
     ]
    },
    {
     "name": "stderr",
     "output_type": "stream",
     "text": [
      "100%|██████████| 10/10 [06:29<00:00, 38.93s/it]\n",
      "C:\\Users\\xutia\\AppData\\Local\\Temp\\ipykernel_17836\\976523745.py:42: FutureWarning: You are using `torch.load` with `weights_only=False` (the current default value), which uses the default pickle module implicitly. It is possible to construct malicious pickle data which will execute arbitrary code during unpickling (See https://github.com/pytorch/pytorch/blob/main/SECURITY.md#untrusted-models for more details). In a future release, the default value for `weights_only` will be flipped to `True`. This limits the functions that could be executed during unpickling. Arbitrary objects will no longer be allowed to be loaded via this mode unless they are explicitly allowlisted by the user via `torch.serialization.add_safe_globals`. We recommend you start setting `weights_only=True` for any use case where you don't have full control of the loaded file. Please open an issue on GitHub for any issues related to this experimental feature.\n",
      "  EIIE_policy.load_state_dict(torch.load(model_filename))\n"
     ]
    },
    {
     "name": "stdout",
     "output_type": "stream",
     "text": [
      "=================================\n",
      "Initial portfolio value:100000\n",
      "Final portfolio value: 646856.875\n",
      "Final accumulative portfolio value: 6.46856875\n",
      "Maximum DrawDown: -0.2803109908700785\n",
      "Sharpe ratio: 1.1504495130390688\n",
      "=================================\n",
      "=================================\n",
      "Initial portfolio value:100000\n",
      "Final portfolio value: 117566.2890625\n",
      "Final accumulative portfolio value: 1.175662890625\n",
      "Maximum DrawDown: -0.206406336051966\n",
      "Sharpe ratio: 0.8341676730203198\n",
      "=================================\n"
     ]
    },
    {
     "name": "stderr",
     "output_type": "stream",
     "text": [
      "  0%|          | 0/10 [00:00<?, ?it/s]"
     ]
    },
    {
     "name": "stdout",
     "output_type": "stream",
     "text": [
      "=================================\n",
      "Initial portfolio value:100000\n",
      "Final portfolio value: 264629.3125\n",
      "Final accumulative portfolio value: 2.646293125\n",
      "Maximum DrawDown: -0.31439474852930804\n",
      "Sharpe ratio: 0.850777490991862\n",
      "=================================\n"
     ]
    },
    {
     "name": "stderr",
     "output_type": "stream",
     "text": [
      " 10%|█         | 1/10 [00:38<05:47, 38.59s/it]"
     ]
    },
    {
     "name": "stdout",
     "output_type": "stream",
     "text": [
      "=================================\n",
      "Initial portfolio value:100000\n",
      "Final portfolio value: 455446.34375\n",
      "Final accumulative portfolio value: 4.5544634375\n",
      "Maximum DrawDown: -0.28953026709956386\n",
      "Sharpe ratio: 1.049542194971313\n",
      "=================================\n"
     ]
    },
    {
     "name": "stderr",
     "output_type": "stream",
     "text": [
      " 20%|██        | 2/10 [01:17<05:09, 38.72s/it]"
     ]
    },
    {
     "name": "stdout",
     "output_type": "stream",
     "text": [
      "=================================\n",
      "Initial portfolio value:100000\n",
      "Final portfolio value: 615036.4375\n",
      "Final accumulative portfolio value: 6.150364375\n",
      "Maximum DrawDown: -0.3065372911433636\n",
      "Sharpe ratio: 1.1451164549961903\n",
      "=================================\n"
     ]
    },
    {
     "name": "stderr",
     "output_type": "stream",
     "text": [
      " 30%|███       | 3/10 [01:56<04:32, 38.87s/it]"
     ]
    },
    {
     "name": "stdout",
     "output_type": "stream",
     "text": [
      "=================================\n",
      "Initial portfolio value:100000\n",
      "Final portfolio value: 804486.8125\n",
      "Final accumulative portfolio value: 8.044868125\n",
      "Maximum DrawDown: -0.2803632577196863\n",
      "Sharpe ratio: 1.279085705411862\n",
      "=================================\n"
     ]
    },
    {
     "name": "stderr",
     "output_type": "stream",
     "text": [
      " 40%|████      | 4/10 [02:35<03:53, 38.95s/it]"
     ]
    },
    {
     "name": "stdout",
     "output_type": "stream",
     "text": [
      "=================================\n",
      "Initial portfolio value:100000\n",
      "Final portfolio value: 999851.25\n",
      "Final accumulative portfolio value: 9.9985125\n",
      "Maximum DrawDown: -0.28029163014125547\n",
      "Sharpe ratio: 1.4141529805258297\n",
      "=================================\n"
     ]
    },
    {
     "name": "stderr",
     "output_type": "stream",
     "text": [
      " 50%|█████     | 5/10 [03:14<03:14, 38.86s/it]"
     ]
    },
    {
     "name": "stdout",
     "output_type": "stream",
     "text": [
      "=================================\n",
      "Initial portfolio value:100000\n",
      "Final portfolio value: 1071151.0\n",
      "Final accumulative portfolio value: 10.71151\n",
      "Maximum DrawDown: -0.28093260632663464\n",
      "Sharpe ratio: 1.4528299609982458\n",
      "=================================\n"
     ]
    },
    {
     "name": "stderr",
     "output_type": "stream",
     "text": [
      " 60%|██████    | 6/10 [03:53<02:35, 38.86s/it]"
     ]
    },
    {
     "name": "stdout",
     "output_type": "stream",
     "text": [
      "=================================\n",
      "Initial portfolio value:100000\n",
      "Final portfolio value: 1152090.875\n",
      "Final accumulative portfolio value: 11.52090875\n",
      "Maximum DrawDown: -0.2952284093329922\n",
      "Sharpe ratio: 1.4443827207444362\n",
      "=================================\n"
     ]
    },
    {
     "name": "stderr",
     "output_type": "stream",
     "text": [
      " 70%|███████   | 7/10 [04:32<01:56, 38.94s/it]"
     ]
    },
    {
     "name": "stdout",
     "output_type": "stream",
     "text": [
      "=================================\n",
      "Initial portfolio value:100000\n",
      "Final portfolio value: 921010.375\n",
      "Final accumulative portfolio value: 9.21010375\n",
      "Maximum DrawDown: -0.2803929098049548\n",
      "Sharpe ratio: 1.3607429197246335\n",
      "=================================\n"
     ]
    },
    {
     "name": "stderr",
     "output_type": "stream",
     "text": [
      " 80%|████████  | 8/10 [05:11<01:17, 38.91s/it]"
     ]
    },
    {
     "name": "stdout",
     "output_type": "stream",
     "text": [
      "=================================\n",
      "Initial portfolio value:100000\n",
      "Final portfolio value: 852232.1875\n",
      "Final accumulative portfolio value: 8.522321875\n",
      "Maximum DrawDown: -0.280393100715879\n",
      "Sharpe ratio: 1.3297926792459407\n",
      "=================================\n"
     ]
    },
    {
     "name": "stderr",
     "output_type": "stream",
     "text": [
      " 90%|█████████ | 9/10 [05:49<00:38, 38.83s/it]"
     ]
    },
    {
     "name": "stdout",
     "output_type": "stream",
     "text": [
      "=================================\n",
      "Initial portfolio value:100000\n",
      "Final portfolio value: 983096.625\n",
      "Final accumulative portfolio value: 9.83096625\n",
      "Maximum DrawDown: -0.28039236044772897\n",
      "Sharpe ratio: 1.392218138370005\n",
      "=================================\n"
     ]
    },
    {
     "name": "stderr",
     "output_type": "stream",
     "text": [
      "100%|██████████| 10/10 [06:28<00:00, 38.87s/it]\n",
      "C:\\Users\\xutia\\AppData\\Local\\Temp\\ipykernel_17836\\976523745.py:42: FutureWarning: You are using `torch.load` with `weights_only=False` (the current default value), which uses the default pickle module implicitly. It is possible to construct malicious pickle data which will execute arbitrary code during unpickling (See https://github.com/pytorch/pytorch/blob/main/SECURITY.md#untrusted-models for more details). In a future release, the default value for `weights_only` will be flipped to `True`. This limits the functions that could be executed during unpickling. Arbitrary objects will no longer be allowed to be loaded via this mode unless they are explicitly allowlisted by the user via `torch.serialization.add_safe_globals`. We recommend you start setting `weights_only=True` for any use case where you don't have full control of the loaded file. Please open an issue on GitHub for any issues related to this experimental feature.\n",
      "  EIIE_policy.load_state_dict(torch.load(model_filename))\n"
     ]
    },
    {
     "name": "stdout",
     "output_type": "stream",
     "text": [
      "=================================\n",
      "Initial portfolio value:100000\n",
      "Final portfolio value: 1050828.125\n",
      "Final accumulative portfolio value: 10.50828125\n",
      "Maximum DrawDown: -0.31997256599620316\n",
      "Sharpe ratio: 1.3867436958284172\n",
      "=================================\n",
      "=================================\n",
      "Initial portfolio value:100000\n",
      "Final portfolio value: 123565.796875\n",
      "Final accumulative portfolio value: 1.23565796875\n",
      "Maximum DrawDown: -0.10669445068605232\n",
      "Sharpe ratio: 1.2514340790021203\n",
      "=================================\n"
     ]
    },
    {
     "name": "stderr",
     "output_type": "stream",
     "text": [
      "  0%|          | 0/10 [00:00<?, ?it/s]"
     ]
    },
    {
     "name": "stdout",
     "output_type": "stream",
     "text": [
      "=================================\n",
      "Initial portfolio value:100000\n",
      "Final portfolio value: 309214.875\n",
      "Final accumulative portfolio value: 3.09214875\n",
      "Maximum DrawDown: -0.31003302112664355\n",
      "Sharpe ratio: 0.9186573134142065\n",
      "=================================\n"
     ]
    },
    {
     "name": "stderr",
     "output_type": "stream",
     "text": [
      " 10%|█         | 1/10 [00:38<05:50, 38.97s/it]"
     ]
    },
    {
     "name": "stdout",
     "output_type": "stream",
     "text": [
      "=================================\n",
      "Initial portfolio value:100000\n",
      "Final portfolio value: 603411.0625\n",
      "Final accumulative portfolio value: 6.034110625\n",
      "Maximum DrawDown: -0.28091730415078175\n",
      "Sharpe ratio: 1.1904257620376524\n",
      "=================================\n"
     ]
    },
    {
     "name": "stderr",
     "output_type": "stream",
     "text": [
      " 20%|██        | 2/10 [01:18<05:12, 39.10s/it]"
     ]
    },
    {
     "name": "stdout",
     "output_type": "stream",
     "text": [
      "=================================\n",
      "Initial portfolio value:100000\n",
      "Final portfolio value: 738662.6875\n",
      "Final accumulative portfolio value: 7.386626875\n",
      "Maximum DrawDown: -0.3094762742043453\n",
      "Sharpe ratio: 1.1820765754630702\n",
      "=================================\n"
     ]
    },
    {
     "name": "stderr",
     "output_type": "stream",
     "text": [
      " 30%|███       | 3/10 [01:57<04:32, 38.99s/it]"
     ]
    },
    {
     "name": "stdout",
     "output_type": "stream",
     "text": [
      "=================================\n",
      "Initial portfolio value:100000\n",
      "Final portfolio value: 865663.4375\n",
      "Final accumulative portfolio value: 8.656634375\n",
      "Maximum DrawDown: -0.2803895299196447\n",
      "Sharpe ratio: 1.302818351202239\n",
      "=================================\n"
     ]
    },
    {
     "name": "stderr",
     "output_type": "stream",
     "text": [
      " 40%|████      | 4/10 [02:36<03:54, 39.01s/it]"
     ]
    },
    {
     "name": "stdout",
     "output_type": "stream",
     "text": [
      "=================================\n",
      "Initial portfolio value:100000\n",
      "Final portfolio value: 1078598.25\n",
      "Final accumulative portfolio value: 10.7859825\n",
      "Maximum DrawDown: -0.2803213178220515\n",
      "Sharpe ratio: 1.415857749423887\n",
      "=================================\n"
     ]
    },
    {
     "name": "stderr",
     "output_type": "stream",
     "text": [
      " 50%|█████     | 5/10 [03:15<03:15, 39.05s/it]"
     ]
    },
    {
     "name": "stdout",
     "output_type": "stream",
     "text": [
      "=================================\n",
      "Initial portfolio value:100000\n",
      "Final portfolio value: 1089593.25\n",
      "Final accumulative portfolio value: 10.8959325\n",
      "Maximum DrawDown: -0.3070170267649208\n",
      "Sharpe ratio: 1.44484965881611\n",
      "=================================\n"
     ]
    },
    {
     "name": "stderr",
     "output_type": "stream",
     "text": [
      " 60%|██████    | 6/10 [03:55<02:38, 39.63s/it]"
     ]
    },
    {
     "name": "stdout",
     "output_type": "stream",
     "text": [
      "=================================\n",
      "Initial portfolio value:100000\n",
      "Final portfolio value: 1449430.375\n",
      "Final accumulative portfolio value: 14.49430375\n",
      "Maximum DrawDown: -0.2803929880930426\n",
      "Sharpe ratio: 1.601949993312079\n",
      "=================================\n"
     ]
    },
    {
     "name": "stderr",
     "output_type": "stream",
     "text": [
      " 70%|███████   | 7/10 [04:35<01:58, 39.49s/it]"
     ]
    },
    {
     "name": "stdout",
     "output_type": "stream",
     "text": [
      "=================================\n",
      "Initial portfolio value:100000\n",
      "Final portfolio value: 1050328.125\n",
      "Final accumulative portfolio value: 10.50328125\n",
      "Maximum DrawDown: -0.3299510659413105\n",
      "Sharpe ratio: 1.3937614217167895\n",
      "=================================\n"
     ]
    },
    {
     "name": "stderr",
     "output_type": "stream",
     "text": [
      " 80%|████████  | 8/10 [05:14<01:18, 39.36s/it]"
     ]
    },
    {
     "name": "stdout",
     "output_type": "stream",
     "text": [
      "=================================\n",
      "Initial portfolio value:100000\n",
      "Final portfolio value: 1168599.75\n",
      "Final accumulative portfolio value: 11.6859975\n",
      "Maximum DrawDown: -0.2803930970534987\n",
      "Sharpe ratio: 1.4851868870358265\n",
      "=================================\n"
     ]
    },
    {
     "name": "stderr",
     "output_type": "stream",
     "text": [
      " 90%|█████████ | 9/10 [05:53<00:39, 39.25s/it]"
     ]
    },
    {
     "name": "stdout",
     "output_type": "stream",
     "text": [
      "=================================\n",
      "Initial portfolio value:100000\n",
      "Final portfolio value: 870394.9375\n",
      "Final accumulative portfolio value: 8.703949375\n",
      "Maximum DrawDown: -0.28039291571368685\n",
      "Sharpe ratio: 1.3046581982847885\n",
      "=================================\n"
     ]
    },
    {
     "name": "stderr",
     "output_type": "stream",
     "text": [
      "100%|██████████| 10/10 [06:32<00:00, 39.20s/it]\n",
      "C:\\Users\\xutia\\AppData\\Local\\Temp\\ipykernel_17836\\976523745.py:42: FutureWarning: You are using `torch.load` with `weights_only=False` (the current default value), which uses the default pickle module implicitly. It is possible to construct malicious pickle data which will execute arbitrary code during unpickling (See https://github.com/pytorch/pytorch/blob/main/SECURITY.md#untrusted-models for more details). In a future release, the default value for `weights_only` will be flipped to `True`. This limits the functions that could be executed during unpickling. Arbitrary objects will no longer be allowed to be loaded via this mode unless they are explicitly allowlisted by the user via `torch.serialization.add_safe_globals`. We recommend you start setting `weights_only=True` for any use case where you don't have full control of the loaded file. Please open an issue on GitHub for any issues related to this experimental feature.\n",
      "  EIIE_policy.load_state_dict(torch.load(model_filename))\n"
     ]
    },
    {
     "name": "stdout",
     "output_type": "stream",
     "text": [
      "=================================\n",
      "Initial portfolio value:100000\n",
      "Final portfolio value: 447429.125\n",
      "Final accumulative portfolio value: 4.47429125\n",
      "Maximum DrawDown: -0.30091135348803166\n",
      "Sharpe ratio: 0.9868460543047582\n",
      "=================================\n",
      "=================================\n",
      "Initial portfolio value:100000\n",
      "Final portfolio value: 135832.515625\n",
      "Final accumulative portfolio value: 1.35832515625\n",
      "Maximum DrawDown: -0.10886366467085118\n",
      "Sharpe ratio: 1.6725296858988832\n",
      "=================================\n"
     ]
    },
    {
     "name": "stderr",
     "output_type": "stream",
     "text": [
      "  0%|          | 0/10 [00:00<?, ?it/s]"
     ]
    },
    {
     "name": "stdout",
     "output_type": "stream",
     "text": [
      "=================================\n",
      "Initial portfolio value:100000\n",
      "Final portfolio value: 311886.375\n",
      "Final accumulative portfolio value: 3.11886375\n",
      "Maximum DrawDown: -0.2956694486345718\n",
      "Sharpe ratio: 0.9178875810881914\n",
      "=================================\n"
     ]
    },
    {
     "name": "stderr",
     "output_type": "stream",
     "text": [
      " 10%|█         | 1/10 [00:38<05:43, 38.22s/it]"
     ]
    },
    {
     "name": "stdout",
     "output_type": "stream",
     "text": [
      "=================================\n",
      "Initial portfolio value:100000\n",
      "Final portfolio value: 664402.0625\n",
      "Final accumulative portfolio value: 6.644020625\n",
      "Maximum DrawDown: -0.28036961411580397\n",
      "Sharpe ratio: 1.242018352819125\n",
      "=================================\n"
     ]
    },
    {
     "name": "stderr",
     "output_type": "stream",
     "text": [
      " 20%|██        | 2/10 [01:17<05:08, 38.58s/it]"
     ]
    },
    {
     "name": "stdout",
     "output_type": "stream",
     "text": [
      "=================================\n",
      "Initial portfolio value:100000\n",
      "Final portfolio value: 363376.40625\n",
      "Final accumulative portfolio value: 3.6337640625\n",
      "Maximum DrawDown: -0.43608688151150277\n",
      "Sharpe ratio: 0.7844288219376754\n",
      "=================================\n"
     ]
    },
    {
     "name": "stderr",
     "output_type": "stream",
     "text": [
      " 30%|███       | 3/10 [01:55<04:29, 38.55s/it]"
     ]
    },
    {
     "name": "stdout",
     "output_type": "stream",
     "text": [
      "=================================\n",
      "Initial portfolio value:100000\n",
      "Final portfolio value: 540252.5625\n",
      "Final accumulative portfolio value: 5.402525625\n",
      "Maximum DrawDown: -0.3851196118697273\n",
      "Sharpe ratio: 0.9881433200904732\n",
      "=================================\n"
     ]
    },
    {
     "name": "stderr",
     "output_type": "stream",
     "text": [
      " 40%|████      | 4/10 [02:34<03:51, 38.54s/it]"
     ]
    },
    {
     "name": "stdout",
     "output_type": "stream",
     "text": [
      "=================================\n",
      "Initial portfolio value:100000\n",
      "Final portfolio value: 621514.9375\n",
      "Final accumulative portfolio value: 6.215149375\n",
      "Maximum DrawDown: -0.38515455233065143\n",
      "Sharpe ratio: 1.0786682645920274\n",
      "=================================\n"
     ]
    },
    {
     "name": "stderr",
     "output_type": "stream",
     "text": [
      " 50%|█████     | 5/10 [03:13<03:13, 38.69s/it]"
     ]
    },
    {
     "name": "stdout",
     "output_type": "stream",
     "text": [
      "=================================\n",
      "Initial portfolio value:100000\n",
      "Final portfolio value: 674616.9375\n",
      "Final accumulative portfolio value: 6.746169375\n",
      "Maximum DrawDown: -0.3851579249874958\n",
      "Sharpe ratio: 1.1380078341352302\n",
      "=================================\n"
     ]
    },
    {
     "name": "stderr",
     "output_type": "stream",
     "text": [
      " 60%|██████    | 6/10 [03:51<02:33, 38.47s/it]"
     ]
    },
    {
     "name": "stdout",
     "output_type": "stream",
     "text": [
      "=================================\n",
      "Initial portfolio value:100000\n",
      "Final portfolio value: 751242.0625\n",
      "Final accumulative portfolio value: 7.512420625\n",
      "Maximum DrawDown: -0.3851583143551214\n",
      "Sharpe ratio: 1.176032165918397\n",
      "=================================\n"
     ]
    },
    {
     "name": "stderr",
     "output_type": "stream",
     "text": [
      " 70%|███████   | 7/10 [04:29<01:55, 38.47s/it]"
     ]
    },
    {
     "name": "stdout",
     "output_type": "stream",
     "text": [
      "=================================\n",
      "Initial portfolio value:100000\n",
      "Final portfolio value: 847376.25\n",
      "Final accumulative portfolio value: 8.4737625\n",
      "Maximum DrawDown: -0.38515876593491327\n",
      "Sharpe ratio: 1.270921602345592\n",
      "=================================\n"
     ]
    },
    {
     "name": "stderr",
     "output_type": "stream",
     "text": [
      " 80%|████████  | 8/10 [05:08<01:17, 38.56s/it]"
     ]
    },
    {
     "name": "stdout",
     "output_type": "stream",
     "text": [
      "=================================\n",
      "Initial portfolio value:100000\n",
      "Final portfolio value: 744594.125\n",
      "Final accumulative portfolio value: 7.44594125\n",
      "Maximum DrawDown: -0.38515851918352895\n",
      "Sharpe ratio: 1.2214296813161274\n",
      "=================================\n"
     ]
    },
    {
     "name": "stderr",
     "output_type": "stream",
     "text": [
      " 90%|█████████ | 9/10 [05:47<00:38, 38.62s/it]"
     ]
    },
    {
     "name": "stdout",
     "output_type": "stream",
     "text": [
      "=================================\n",
      "Initial portfolio value:100000\n",
      "Final portfolio value: 936198.75\n",
      "Final accumulative portfolio value: 9.3619875\n",
      "Maximum DrawDown: -0.38515867161372386\n",
      "Sharpe ratio: 1.3106302329784696\n",
      "=================================\n"
     ]
    },
    {
     "name": "stderr",
     "output_type": "stream",
     "text": [
      "100%|██████████| 10/10 [06:25<00:00, 38.57s/it]\n",
      "C:\\Users\\xutia\\AppData\\Local\\Temp\\ipykernel_17836\\976523745.py:42: FutureWarning: You are using `torch.load` with `weights_only=False` (the current default value), which uses the default pickle module implicitly. It is possible to construct malicious pickle data which will execute arbitrary code during unpickling (See https://github.com/pytorch/pytorch/blob/main/SECURITY.md#untrusted-models for more details). In a future release, the default value for `weights_only` will be flipped to `True`. This limits the functions that could be executed during unpickling. Arbitrary objects will no longer be allowed to be loaded via this mode unless they are explicitly allowlisted by the user via `torch.serialization.add_safe_globals`. We recommend you start setting `weights_only=True` for any use case where you don't have full control of the loaded file. Please open an issue on GitHub for any issues related to this experimental feature.\n",
      "  EIIE_policy.load_state_dict(torch.load(model_filename))\n"
     ]
    },
    {
     "name": "stdout",
     "output_type": "stream",
     "text": [
      "=================================\n",
      "Initial portfolio value:100000\n",
      "Final portfolio value: 769250.4375\n",
      "Final accumulative portfolio value: 7.692504375\n",
      "Maximum DrawDown: -0.3851589133225086\n",
      "Sharpe ratio: 1.224503627812286\n",
      "=================================\n",
      "=================================\n",
      "Initial portfolio value:100000\n",
      "Final portfolio value: 122107.5546875\n",
      "Final accumulative portfolio value: 1.221075546875\n",
      "Maximum DrawDown: -0.17216052006176863\n",
      "Sharpe ratio: 0.9514621997954213\n",
      "=================================\n"
     ]
    },
    {
     "name": "stderr",
     "output_type": "stream",
     "text": [
      "  0%|          | 0/10 [00:00<?, ?it/s]"
     ]
    },
    {
     "name": "stdout",
     "output_type": "stream",
     "text": [
      "=================================\n",
      "Initial portfolio value:100000\n",
      "Final portfolio value: 224517.640625\n",
      "Final accumulative portfolio value: 2.24517640625\n",
      "Maximum DrawDown: -0.3217377602817024\n",
      "Sharpe ratio: 0.7774837025742624\n",
      "=================================\n"
     ]
    },
    {
     "name": "stderr",
     "output_type": "stream",
     "text": [
      " 10%|█         | 1/10 [00:38<05:48, 38.78s/it]"
     ]
    },
    {
     "name": "stdout",
     "output_type": "stream",
     "text": [
      "=================================\n",
      "Initial portfolio value:100000\n",
      "Final portfolio value: 227269.421875\n",
      "Final accumulative portfolio value: 2.27269421875\n",
      "Maximum DrawDown: -0.32436955951436897\n",
      "Sharpe ratio: 0.780416076407685\n",
      "=================================\n"
     ]
    },
    {
     "name": "stderr",
     "output_type": "stream",
     "text": [
      " 20%|██        | 2/10 [01:17<05:08, 38.55s/it]"
     ]
    },
    {
     "name": "stdout",
     "output_type": "stream",
     "text": [
      "=================================\n",
      "Initial portfolio value:100000\n",
      "Final portfolio value: 228925.109375\n",
      "Final accumulative portfolio value: 2.28925109375\n",
      "Maximum DrawDown: -0.3270972455206571\n",
      "Sharpe ratio: 0.7805365559752028\n",
      "=================================\n"
     ]
    },
    {
     "name": "stderr",
     "output_type": "stream",
     "text": [
      " 30%|███       | 3/10 [01:55<04:30, 38.58s/it]"
     ]
    },
    {
     "name": "stdout",
     "output_type": "stream",
     "text": [
      "=================================\n",
      "Initial portfolio value:100000\n",
      "Final portfolio value: 230370.484375\n",
      "Final accumulative portfolio value: 2.30370484375\n",
      "Maximum DrawDown: -0.329450462675683\n",
      "Sharpe ratio: 0.7806667627977752\n",
      "=================================\n"
     ]
    },
    {
     "name": "stderr",
     "output_type": "stream",
     "text": [
      " 40%|████      | 4/10 [02:34<03:51, 38.64s/it]"
     ]
    },
    {
     "name": "stdout",
     "output_type": "stream",
     "text": [
      "=================================\n",
      "Initial portfolio value:100000\n",
      "Final portfolio value: 231631.109375\n",
      "Final accumulative portfolio value: 2.31631109375\n",
      "Maximum DrawDown: -0.3314971618072894\n",
      "Sharpe ratio: 0.780776703187606\n",
      "=================================\n"
     ]
    },
    {
     "name": "stderr",
     "output_type": "stream",
     "text": [
      " 50%|█████     | 5/10 [03:13<03:13, 38.61s/it]"
     ]
    },
    {
     "name": "stdout",
     "output_type": "stream",
     "text": [
      "=================================\n",
      "Initial portfolio value:100000\n",
      "Final portfolio value: 232732.78125\n",
      "Final accumulative portfolio value: 2.3273278125\n",
      "Maximum DrawDown: -0.33328309291427993\n",
      "Sharpe ratio: 0.7808635272511067\n",
      "=================================\n"
     ]
    },
    {
     "name": "stderr",
     "output_type": "stream",
     "text": [
      " 60%|██████    | 6/10 [03:51<02:34, 38.53s/it]"
     ]
    },
    {
     "name": "stdout",
     "output_type": "stream",
     "text": [
      "=================================\n",
      "Initial portfolio value:100000\n",
      "Final portfolio value: 233700.59375\n",
      "Final accumulative portfolio value: 2.3370059375\n",
      "Maximum DrawDown: -0.3348504524371252\n",
      "Sharpe ratio: 0.7809266286814365\n",
      "=================================\n"
     ]
    },
    {
     "name": "stderr",
     "output_type": "stream",
     "text": [
      " 70%|███████   | 7/10 [04:29<01:55, 38.47s/it]"
     ]
    },
    {
     "name": "stdout",
     "output_type": "stream",
     "text": [
      "=================================\n",
      "Initial portfolio value:100000\n",
      "Final portfolio value: 234555.90625\n",
      "Final accumulative portfolio value: 2.3455590625\n",
      "Maximum DrawDown: -0.33623560498109184\n",
      "Sharpe ratio: 0.7809796184103907\n",
      "=================================\n"
     ]
    },
    {
     "name": "stderr",
     "output_type": "stream",
     "text": [
      " 80%|████████  | 8/10 [05:08<01:16, 38.47s/it]"
     ]
    },
    {
     "name": "stdout",
     "output_type": "stream",
     "text": [
      "=================================\n",
      "Initial portfolio value:100000\n",
      "Final portfolio value: 235319.625\n",
      "Final accumulative portfolio value: 2.35319625\n",
      "Maximum DrawDown: -0.33746028424736185\n",
      "Sharpe ratio: 0.7810406957845478\n",
      "=================================\n"
     ]
    },
    {
     "name": "stderr",
     "output_type": "stream",
     "text": [
      " 90%|█████████ | 9/10 [05:46<00:38, 38.48s/it]"
     ]
    },
    {
     "name": "stdout",
     "output_type": "stream",
     "text": [
      "=================================\n",
      "Initial portfolio value:100000\n",
      "Final portfolio value: 236000.34375\n",
      "Final accumulative portfolio value: 2.3600034375\n",
      "Maximum DrawDown: -0.3385519754430989\n",
      "Sharpe ratio: 0.7810923750248959\n",
      "=================================\n"
     ]
    },
    {
     "name": "stderr",
     "output_type": "stream",
     "text": [
      "100%|██████████| 10/10 [06:25<00:00, 38.53s/it]\n",
      "C:\\Users\\xutia\\AppData\\Local\\Temp\\ipykernel_17836\\976523745.py:42: FutureWarning: You are using `torch.load` with `weights_only=False` (the current default value), which uses the default pickle module implicitly. It is possible to construct malicious pickle data which will execute arbitrary code during unpickling (See https://github.com/pytorch/pytorch/blob/main/SECURITY.md#untrusted-models for more details). In a future release, the default value for `weights_only` will be flipped to `True`. This limits the functions that could be executed during unpickling. Arbitrary objects will no longer be allowed to be loaded via this mode unless they are explicitly allowlisted by the user via `torch.serialization.add_safe_globals`. We recommend you start setting `weights_only=True` for any use case where you don't have full control of the loaded file. Please open an issue on GitHub for any issues related to this experimental feature.\n",
      "  EIIE_policy.load_state_dict(torch.load(model_filename))\n"
     ]
    },
    {
     "name": "stdout",
     "output_type": "stream",
     "text": [
      "=================================\n",
      "Initial portfolio value:100000\n",
      "Final portfolio value: 237329.1875\n",
      "Final accumulative portfolio value: 2.373291875\n",
      "Maximum DrawDown: -0.3418328622813267\n",
      "Sharpe ratio: 0.7799633300215568\n",
      "=================================\n",
      "=================================\n",
      "Initial portfolio value:100000\n",
      "Final portfolio value: 130180.21875\n",
      "Final accumulative portfolio value: 1.3018021875\n",
      "Maximum DrawDown: -0.04271118603290791\n",
      "Sharpe ratio: 2.598766686209489\n",
      "=================================\n"
     ]
    },
    {
     "name": "stderr",
     "output_type": "stream",
     "text": [
      "  0%|          | 0/10 [00:00<?, ?it/s]"
     ]
    },
    {
     "name": "stdout",
     "output_type": "stream",
     "text": [
      "=================================\n",
      "Initial portfolio value:100000\n",
      "Final portfolio value: 284667.21875\n",
      "Final accumulative portfolio value: 2.8466721875\n",
      "Maximum DrawDown: -0.3230458998142638\n",
      "Sharpe ratio: 0.8785284370616477\n",
      "=================================\n"
     ]
    },
    {
     "name": "stderr",
     "output_type": "stream",
     "text": [
      " 10%|█         | 1/10 [00:38<05:49, 38.82s/it]"
     ]
    },
    {
     "name": "stdout",
     "output_type": "stream",
     "text": [
      "=================================\n",
      "Initial portfolio value:100000\n",
      "Final portfolio value: 505778.1875\n",
      "Final accumulative portfolio value: 5.057781875\n",
      "Maximum DrawDown: -0.3062607910909999\n",
      "Sharpe ratio: 1.122037060623055\n",
      "=================================\n"
     ]
    },
    {
     "name": "stderr",
     "output_type": "stream",
     "text": [
      " 20%|██        | 2/10 [01:17<05:09, 38.67s/it]"
     ]
    },
    {
     "name": "stdout",
     "output_type": "stream",
     "text": [
      "=================================\n",
      "Initial portfolio value:100000\n",
      "Final portfolio value: 638268.9375\n",
      "Final accumulative portfolio value: 6.382689375\n",
      "Maximum DrawDown: -0.2984297443062913\n",
      "Sharpe ratio: 1.1481777925397543\n",
      "=================================\n"
     ]
    },
    {
     "name": "stderr",
     "output_type": "stream",
     "text": [
      " 30%|███       | 3/10 [01:55<04:30, 38.61s/it]"
     ]
    },
    {
     "name": "stdout",
     "output_type": "stream",
     "text": [
      "=================================\n",
      "Initial portfolio value:100000\n",
      "Final portfolio value: 827966.625\n",
      "Final accumulative portfolio value: 8.27966625\n",
      "Maximum DrawDown: -0.28022755189034854\n",
      "Sharpe ratio: 1.3391405175977242\n",
      "=================================\n"
     ]
    },
    {
     "name": "stderr",
     "output_type": "stream",
     "text": [
      " 40%|████      | 4/10 [02:34<03:50, 38.47s/it]"
     ]
    },
    {
     "name": "stdout",
     "output_type": "stream",
     "text": [
      "=================================\n",
      "Initial portfolio value:100000\n",
      "Final portfolio value: 594679.1875\n",
      "Final accumulative portfolio value: 5.946791875\n",
      "Maximum DrawDown: -0.41561184218964553\n",
      "Sharpe ratio: 1.0545096627263628\n",
      "=================================\n"
     ]
    },
    {
     "name": "stderr",
     "output_type": "stream",
     "text": [
      " 50%|█████     | 5/10 [03:12<03:12, 38.46s/it]"
     ]
    },
    {
     "name": "stdout",
     "output_type": "stream",
     "text": [
      "=================================\n",
      "Initial portfolio value:100000\n",
      "Final portfolio value: 1110448.125\n",
      "Final accumulative portfolio value: 11.10448125\n",
      "Maximum DrawDown: -0.2960120525714738\n",
      "Sharpe ratio: 1.4603072052552364\n",
      "=================================\n"
     ]
    },
    {
     "name": "stderr",
     "output_type": "stream",
     "text": [
      " 60%|██████    | 6/10 [03:51<02:34, 38.53s/it]"
     ]
    },
    {
     "name": "stdout",
     "output_type": "stream",
     "text": [
      "=================================\n",
      "Initial portfolio value:100000\n",
      "Final portfolio value: 1294321.25\n",
      "Final accumulative portfolio value: 12.9432125\n",
      "Maximum DrawDown: -0.2804153384198508\n",
      "Sharpe ratio: 1.5436389550793974\n",
      "=================================\n"
     ]
    },
    {
     "name": "stderr",
     "output_type": "stream",
     "text": [
      " 70%|███████   | 7/10 [04:29<01:55, 38.48s/it]"
     ]
    },
    {
     "name": "stdout",
     "output_type": "stream",
     "text": [
      "=================================\n",
      "Initial portfolio value:100000\n",
      "Final portfolio value: 1156151.375\n",
      "Final accumulative portfolio value: 11.56151375\n",
      "Maximum DrawDown: -0.3320025208360382\n",
      "Sharpe ratio: 1.4319847793600788\n",
      "=================================\n"
     ]
    },
    {
     "name": "stderr",
     "output_type": "stream",
     "text": [
      " 80%|████████  | 8/10 [05:07<01:16, 38.37s/it]"
     ]
    },
    {
     "name": "stdout",
     "output_type": "stream",
     "text": [
      "=================================\n",
      "Initial portfolio value:100000\n",
      "Final portfolio value: 1047911.375\n",
      "Final accumulative portfolio value: 10.47911375\n",
      "Maximum DrawDown: -0.2803931045724998\n",
      "Sharpe ratio: 1.4468799893067397\n",
      "=================================\n"
     ]
    },
    {
     "name": "stderr",
     "output_type": "stream",
     "text": [
      " 90%|█████████ | 9/10 [05:46<00:38, 38.41s/it]"
     ]
    },
    {
     "name": "stdout",
     "output_type": "stream",
     "text": [
      "=================================\n",
      "Initial portfolio value:100000\n",
      "Final portfolio value: 789824.375\n",
      "Final accumulative portfolio value: 7.89824375\n",
      "Maximum DrawDown: -0.44497613343012943\n",
      "Sharpe ratio: 1.2141616355219214\n",
      "=================================\n"
     ]
    },
    {
     "name": "stderr",
     "output_type": "stream",
     "text": [
      "100%|██████████| 10/10 [06:24<00:00, 38.50s/it]\n",
      "C:\\Users\\xutia\\AppData\\Local\\Temp\\ipykernel_17836\\976523745.py:42: FutureWarning: You are using `torch.load` with `weights_only=False` (the current default value), which uses the default pickle module implicitly. It is possible to construct malicious pickle data which will execute arbitrary code during unpickling (See https://github.com/pytorch/pytorch/blob/main/SECURITY.md#untrusted-models for more details). In a future release, the default value for `weights_only` will be flipped to `True`. This limits the functions that could be executed during unpickling. Arbitrary objects will no longer be allowed to be loaded via this mode unless they are explicitly allowlisted by the user via `torch.serialization.add_safe_globals`. We recommend you start setting `weights_only=True` for any use case where you don't have full control of the loaded file. Please open an issue on GitHub for any issues related to this experimental feature.\n",
      "  EIIE_policy.load_state_dict(torch.load(model_filename))\n"
     ]
    },
    {
     "name": "stdout",
     "output_type": "stream",
     "text": [
      "=================================\n",
      "Initial portfolio value:100000\n",
      "Final portfolio value: 812565.25\n",
      "Final accumulative portfolio value: 8.1256525\n",
      "Maximum DrawDown: -0.28205365886100053\n",
      "Sharpe ratio: 1.2568109791404867\n",
      "=================================\n",
      "=================================\n",
      "Initial portfolio value:100000\n",
      "Final portfolio value: 139917.390625\n",
      "Final accumulative portfolio value: 1.39917390625\n",
      "Maximum DrawDown: -0.11857444238591308\n",
      "Sharpe ratio: 1.6630737253911072\n",
      "=================================\n"
     ]
    },
    {
     "name": "stderr",
     "output_type": "stream",
     "text": [
      "  0%|          | 0/10 [00:00<?, ?it/s]"
     ]
    },
    {
     "name": "stdout",
     "output_type": "stream",
     "text": [
      "=================================\n",
      "Initial portfolio value:100000\n",
      "Final portfolio value: 250983.34375\n",
      "Final accumulative portfolio value: 2.5098334375\n",
      "Maximum DrawDown: -0.3205856331832151\n",
      "Sharpe ratio: 0.8164686070025361\n",
      "=================================\n"
     ]
    },
    {
     "name": "stderr",
     "output_type": "stream",
     "text": [
      " 10%|█         | 1/10 [00:38<05:47, 38.65s/it]"
     ]
    },
    {
     "name": "stdout",
     "output_type": "stream",
     "text": [
      "=================================\n",
      "Initial portfolio value:100000\n",
      "Final portfolio value: 425255.5\n",
      "Final accumulative portfolio value: 4.252555\n",
      "Maximum DrawDown: -0.3050555483746693\n",
      "Sharpe ratio: 1.0548392579944894\n",
      "=================================\n"
     ]
    },
    {
     "name": "stderr",
     "output_type": "stream",
     "text": [
      " 20%|██        | 2/10 [01:17<05:09, 38.73s/it]"
     ]
    },
    {
     "name": "stdout",
     "output_type": "stream",
     "text": [
      "=================================\n",
      "Initial portfolio value:100000\n",
      "Final portfolio value: 591819.6875\n",
      "Final accumulative portfolio value: 5.918196875\n",
      "Maximum DrawDown: -0.30487007615217754\n",
      "Sharpe ratio: 1.1433251702685927\n",
      "=================================\n"
     ]
    },
    {
     "name": "stderr",
     "output_type": "stream",
     "text": [
      " 30%|███       | 3/10 [01:56<04:30, 38.71s/it]"
     ]
    },
    {
     "name": "stdout",
     "output_type": "stream",
     "text": [
      "=================================\n",
      "Initial portfolio value:100000\n",
      "Final portfolio value: 776819.8125\n",
      "Final accumulative portfolio value: 7.768198125\n",
      "Maximum DrawDown: -0.2817755438578947\n",
      "Sharpe ratio: 1.3096965809581311\n",
      "=================================\n"
     ]
    },
    {
     "name": "stderr",
     "output_type": "stream",
     "text": [
      " 40%|████      | 4/10 [02:34<03:50, 38.47s/it]"
     ]
    },
    {
     "name": "stdout",
     "output_type": "stream",
     "text": [
      "=================================\n",
      "Initial portfolio value:100000\n",
      "Final portfolio value: 870558.9375\n",
      "Final accumulative portfolio value: 8.705589375\n",
      "Maximum DrawDown: -0.3317635798391695\n",
      "Sharpe ratio: 1.2796414345783471\n",
      "=================================\n"
     ]
    },
    {
     "name": "stderr",
     "output_type": "stream",
     "text": [
      " 50%|█████     | 5/10 [03:12<03:11, 38.34s/it]"
     ]
    },
    {
     "name": "stdout",
     "output_type": "stream",
     "text": [
      "=================================\n",
      "Initial portfolio value:100000\n",
      "Final portfolio value: 1061296.5\n",
      "Final accumulative portfolio value: 10.612965\n",
      "Maximum DrawDown: -0.2803735315195469\n",
      "Sharpe ratio: 1.4518822725525267\n",
      "=================================\n"
     ]
    },
    {
     "name": "stderr",
     "output_type": "stream",
     "text": [
      " 60%|██████    | 6/10 [03:52<02:36, 39.12s/it]"
     ]
    },
    {
     "name": "stdout",
     "output_type": "stream",
     "text": [
      "=================================\n",
      "Initial portfolio value:100000\n",
      "Final portfolio value: 1025967.25\n",
      "Final accumulative portfolio value: 10.2596725\n",
      "Maximum DrawDown: -0.382166421990885\n",
      "Sharpe ratio: 1.3341180929095022\n",
      "=================================\n"
     ]
    },
    {
     "name": "stderr",
     "output_type": "stream",
     "text": [
      " 70%|███████   | 7/10 [04:31<01:56, 38.89s/it]"
     ]
    },
    {
     "name": "stdout",
     "output_type": "stream",
     "text": [
      "=================================\n",
      "Initial portfolio value:100000\n",
      "Final portfolio value: 1347462.75\n",
      "Final accumulative portfolio value: 13.4746275\n",
      "Maximum DrawDown: -0.2803600023308972\n",
      "Sharpe ratio: 1.53353688633182\n",
      "=================================\n"
     ]
    },
    {
     "name": "stderr",
     "output_type": "stream",
     "text": [
      " 80%|████████  | 8/10 [05:09<01:17, 38.76s/it]"
     ]
    },
    {
     "name": "stdout",
     "output_type": "stream",
     "text": [
      "=================================\n",
      "Initial portfolio value:100000\n",
      "Final portfolio value: 1368661.5\n",
      "Final accumulative portfolio value: 13.686615\n",
      "Maximum DrawDown: -0.2803949906438338\n",
      "Sharpe ratio: 1.5639781119657121\n",
      "=================================\n"
     ]
    },
    {
     "name": "stderr",
     "output_type": "stream",
     "text": [
      " 90%|█████████ | 9/10 [05:48<00:38, 38.67s/it]"
     ]
    },
    {
     "name": "stdout",
     "output_type": "stream",
     "text": [
      "=================================\n",
      "Initial portfolio value:100000\n",
      "Final portfolio value: 1399372.75\n",
      "Final accumulative portfolio value: 13.9937275\n",
      "Maximum DrawDown: -0.280394693403731\n",
      "Sharpe ratio: 1.5680703342326274\n",
      "=================================\n"
     ]
    },
    {
     "name": "stderr",
     "output_type": "stream",
     "text": [
      "100%|██████████| 10/10 [06:26<00:00, 38.70s/it]\n",
      "C:\\Users\\xutia\\AppData\\Local\\Temp\\ipykernel_17836\\976523745.py:42: FutureWarning: You are using `torch.load` with `weights_only=False` (the current default value), which uses the default pickle module implicitly. It is possible to construct malicious pickle data which will execute arbitrary code during unpickling (See https://github.com/pytorch/pytorch/blob/main/SECURITY.md#untrusted-models for more details). In a future release, the default value for `weights_only` will be flipped to `True`. This limits the functions that could be executed during unpickling. Arbitrary objects will no longer be allowed to be loaded via this mode unless they are explicitly allowlisted by the user via `torch.serialization.add_safe_globals`. We recommend you start setting `weights_only=True` for any use case where you don't have full control of the loaded file. Please open an issue on GitHub for any issues related to this experimental feature.\n",
      "  EIIE_policy.load_state_dict(torch.load(model_filename))\n"
     ]
    },
    {
     "name": "stdout",
     "output_type": "stream",
     "text": [
      "=================================\n",
      "Initial portfolio value:100000\n",
      "Final portfolio value: 727407.75\n",
      "Final accumulative portfolio value: 7.2740775\n",
      "Maximum DrawDown: -0.2803927585892463\n",
      "Sharpe ratio: 1.1949469105518056\n",
      "=================================\n",
      "=================================\n",
      "Initial portfolio value:100000\n",
      "Final portfolio value: 123198.6015625\n",
      "Final accumulative portfolio value: 1.231986015625\n",
      "Maximum DrawDown: -0.10570147526848306\n",
      "Sharpe ratio: 1.3888376623334866\n",
      "=================================\n"
     ]
    },
    {
     "name": "stderr",
     "output_type": "stream",
     "text": [
      "  0%|          | 0/10 [00:00<?, ?it/s]"
     ]
    },
    {
     "name": "stdout",
     "output_type": "stream",
     "text": [
      "=================================\n",
      "Initial portfolio value:100000\n",
      "Final portfolio value: 273290.28125\n",
      "Final accumulative portfolio value: 2.7329028125\n",
      "Maximum DrawDown: -0.30638174645988514\n",
      "Sharpe ratio: 0.8605183021195564\n",
      "=================================\n"
     ]
    },
    {
     "name": "stderr",
     "output_type": "stream",
     "text": [
      " 10%|█         | 1/10 [00:38<05:45, 38.44s/it]"
     ]
    },
    {
     "name": "stdout",
     "output_type": "stream",
     "text": [
      "=================================\n",
      "Initial portfolio value:100000\n",
      "Final portfolio value: 545111.0\n",
      "Final accumulative portfolio value: 5.45111\n",
      "Maximum DrawDown: -0.2803697675110316\n",
      "Sharpe ratio: 1.1296513956456486\n",
      "=================================\n"
     ]
    },
    {
     "name": "stderr",
     "output_type": "stream",
     "text": [
      " 20%|██        | 2/10 [01:17<05:08, 38.57s/it]"
     ]
    },
    {
     "name": "stdout",
     "output_type": "stream",
     "text": [
      "=================================\n",
      "Initial portfolio value:100000\n",
      "Final portfolio value: 639311.0\n",
      "Final accumulative portfolio value: 6.39311\n",
      "Maximum DrawDown: -0.2803925629237739\n",
      "Sharpe ratio: 1.1754117266828323\n",
      "=================================\n"
     ]
    },
    {
     "name": "stderr",
     "output_type": "stream",
     "text": [
      " 30%|███       | 3/10 [01:55<04:30, 38.59s/it]"
     ]
    },
    {
     "name": "stdout",
     "output_type": "stream",
     "text": [
      "=================================\n",
      "Initial portfolio value:100000\n",
      "Final portfolio value: 769419.8125\n",
      "Final accumulative portfolio value: 7.694198125\n",
      "Maximum DrawDown: -0.2803868902020291\n",
      "Sharpe ratio: 1.296435806717775\n",
      "=================================\n"
     ]
    },
    {
     "name": "stderr",
     "output_type": "stream",
     "text": [
      " 40%|████      | 4/10 [02:34<03:50, 38.49s/it]"
     ]
    },
    {
     "name": "stdout",
     "output_type": "stream",
     "text": [
      "=================================\n",
      "Initial portfolio value:100000\n",
      "Final portfolio value: 804956.0625\n",
      "Final accumulative portfolio value: 8.049560625\n",
      "Maximum DrawDown: -0.4180289870103726\n",
      "Sharpe ratio: 1.1939856908772501\n",
      "=================================\n"
     ]
    },
    {
     "name": "stderr",
     "output_type": "stream",
     "text": [
      " 50%|█████     | 5/10 [03:12<03:12, 38.56s/it]"
     ]
    },
    {
     "name": "stdout",
     "output_type": "stream",
     "text": [
      "=================================\n",
      "Initial portfolio value:100000\n",
      "Final portfolio value: 994944.75\n",
      "Final accumulative portfolio value: 9.9494475\n",
      "Maximum DrawDown: -0.345199211717211\n",
      "Sharpe ratio: 1.2767440325587769\n",
      "=================================\n"
     ]
    },
    {
     "name": "stderr",
     "output_type": "stream",
     "text": [
      " 60%|██████    | 6/10 [03:50<02:33, 38.41s/it]"
     ]
    },
    {
     "name": "stdout",
     "output_type": "stream",
     "text": [
      "=================================\n",
      "Initial portfolio value:100000\n",
      "Final portfolio value: 1080235.625\n",
      "Final accumulative portfolio value: 10.80235625\n",
      "Maximum DrawDown: -0.2803760757551125\n",
      "Sharpe ratio: 1.3941880602801215\n",
      "=================================\n"
     ]
    },
    {
     "name": "stderr",
     "output_type": "stream",
     "text": [
      " 70%|███████   | 7/10 [04:29<01:55, 38.35s/it]"
     ]
    },
    {
     "name": "stdout",
     "output_type": "stream",
     "text": [
      "=================================\n",
      "Initial portfolio value:100000\n",
      "Final portfolio value: 564093.0625\n",
      "Final accumulative portfolio value: 5.640930625\n",
      "Maximum DrawDown: -0.4226559758008199\n",
      "Sharpe ratio: 0.9875474364333223\n",
      "=================================\n"
     ]
    },
    {
     "name": "stderr",
     "output_type": "stream",
     "text": [
      " 80%|████████  | 8/10 [05:07<01:16, 38.36s/it]"
     ]
    },
    {
     "name": "stdout",
     "output_type": "stream",
     "text": [
      "=================================\n",
      "Initial portfolio value:100000\n",
      "Final portfolio value: 731251.3125\n",
      "Final accumulative portfolio value: 7.312513125\n",
      "Maximum DrawDown: -0.42220051769785627\n",
      "Sharpe ratio: 1.1118903092877792\n",
      "=================================\n"
     ]
    },
    {
     "name": "stderr",
     "output_type": "stream",
     "text": [
      " 90%|█████████ | 9/10 [05:45<00:38, 38.38s/it]"
     ]
    },
    {
     "name": "stdout",
     "output_type": "stream",
     "text": [
      "=================================\n",
      "Initial portfolio value:100000\n",
      "Final portfolio value: 1137327.625\n",
      "Final accumulative portfolio value: 11.37327625\n",
      "Maximum DrawDown: -0.2814476335953323\n",
      "Sharpe ratio: 1.4864197777226744\n",
      "=================================\n"
     ]
    },
    {
     "name": "stderr",
     "output_type": "stream",
     "text": [
      "100%|██████████| 10/10 [06:24<00:00, 38.45s/it]\n",
      "C:\\Users\\xutia\\AppData\\Local\\Temp\\ipykernel_17836\\976523745.py:42: FutureWarning: You are using `torch.load` with `weights_only=False` (the current default value), which uses the default pickle module implicitly. It is possible to construct malicious pickle data which will execute arbitrary code during unpickling (See https://github.com/pytorch/pytorch/blob/main/SECURITY.md#untrusted-models for more details). In a future release, the default value for `weights_only` will be flipped to `True`. This limits the functions that could be executed during unpickling. Arbitrary objects will no longer be allowed to be loaded via this mode unless they are explicitly allowlisted by the user via `torch.serialization.add_safe_globals`. We recommend you start setting `weights_only=True` for any use case where you don't have full control of the loaded file. Please open an issue on GitHub for any issues related to this experimental feature.\n",
      "  EIIE_policy.load_state_dict(torch.load(model_filename))\n"
     ]
    },
    {
     "name": "stdout",
     "output_type": "stream",
     "text": [
      "=================================\n",
      "Initial portfolio value:100000\n",
      "Final portfolio value: 875236.875\n",
      "Final accumulative portfolio value: 8.75236875\n",
      "Maximum DrawDown: -0.3002897428832225\n",
      "Sharpe ratio: 1.3564567687727274\n",
      "=================================\n",
      "=================================\n",
      "Initial portfolio value:100000\n",
      "Final portfolio value: 115817.015625\n",
      "Final accumulative portfolio value: 1.15817015625\n",
      "Maximum DrawDown: -0.11173951982976305\n",
      "Sharpe ratio: 0.8957194323267171\n",
      "=================================\n"
     ]
    },
    {
     "name": "stderr",
     "output_type": "stream",
     "text": [
      "  0%|          | 0/10 [00:00<?, ?it/s]"
     ]
    },
    {
     "name": "stdout",
     "output_type": "stream",
     "text": [
      "=================================\n",
      "Initial portfolio value:100000\n",
      "Final portfolio value: 215967.34375\n",
      "Final accumulative portfolio value: 2.1596734375\n",
      "Maximum DrawDown: -0.3229604332398168\n",
      "Sharpe ratio: 0.7488666123921387\n",
      "=================================\n"
     ]
    },
    {
     "name": "stderr",
     "output_type": "stream",
     "text": [
      " 10%|█         | 1/10 [00:38<05:47, 38.56s/it]"
     ]
    },
    {
     "name": "stdout",
     "output_type": "stream",
     "text": [
      "=================================\n",
      "Initial portfolio value:100000\n",
      "Final portfolio value: 228687.5\n",
      "Final accumulative portfolio value: 2.286875\n",
      "Maximum DrawDown: -0.32729370365835386\n",
      "Sharpe ratio: 0.7800296013668958\n",
      "=================================\n"
     ]
    },
    {
     "name": "stderr",
     "output_type": "stream",
     "text": [
      " 20%|██        | 2/10 [01:17<05:09, 38.70s/it]"
     ]
    },
    {
     "name": "stdout",
     "output_type": "stream",
     "text": [
      "=================================\n",
      "Initial portfolio value:100000\n",
      "Final portfolio value: 231630.265625\n",
      "Final accumulative portfolio value: 2.31630265625\n",
      "Maximum DrawDown: -0.3329332620201073\n",
      "Sharpe ratio: 0.779457277466459\n",
      "=================================\n"
     ]
    },
    {
     "name": "stderr",
     "output_type": "stream",
     "text": [
      " 30%|███       | 3/10 [01:56<04:31, 38.77s/it]"
     ]
    },
    {
     "name": "stdout",
     "output_type": "stream",
     "text": [
      "=================================\n",
      "Initial portfolio value:100000\n",
      "Final portfolio value: 235399.828125\n",
      "Final accumulative portfolio value: 2.35399828125\n",
      "Maximum DrawDown: -0.33950527779321327\n",
      "Sharpe ratio: 0.7793400102684005\n",
      "=================================\n"
     ]
    },
    {
     "name": "stderr",
     "output_type": "stream",
     "text": [
      " 40%|████      | 4/10 [02:34<03:51, 38.56s/it]"
     ]
    },
    {
     "name": "stdout",
     "output_type": "stream",
     "text": [
      "=================================\n",
      "Initial portfolio value:100000\n",
      "Final portfolio value: 239000.0\n",
      "Final accumulative portfolio value: 2.39\n",
      "Maximum DrawDown: -0.3449202843585678\n",
      "Sharpe ratio: 0.7799156651331899\n",
      "=================================\n"
     ]
    },
    {
     "name": "stderr",
     "output_type": "stream",
     "text": [
      " 50%|█████     | 5/10 [03:12<03:12, 38.54s/it]"
     ]
    },
    {
     "name": "stdout",
     "output_type": "stream",
     "text": [
      "=================================\n",
      "Initial portfolio value:100000\n",
      "Final portfolio value: 241451.484375\n",
      "Final accumulative portfolio value: 2.41451484375\n",
      "Maximum DrawDown: -0.3481963167270071\n",
      "Sharpe ratio: 0.7805935370087121\n",
      "=================================\n"
     ]
    },
    {
     "name": "stderr",
     "output_type": "stream",
     "text": [
      " 60%|██████    | 6/10 [03:51<02:34, 38.58s/it]"
     ]
    },
    {
     "name": "stdout",
     "output_type": "stream",
     "text": [
      "=================================\n",
      "Initial portfolio value:100000\n",
      "Final portfolio value: 242806.640625\n",
      "Final accumulative portfolio value: 2.42806640625\n",
      "Maximum DrawDown: -0.3499094062646477\n",
      "Sharpe ratio: 0.7810357909307203\n",
      "=================================\n"
     ]
    },
    {
     "name": "stderr",
     "output_type": "stream",
     "text": [
      " 70%|███████   | 7/10 [04:30<01:55, 38.53s/it]"
     ]
    },
    {
     "name": "stdout",
     "output_type": "stream",
     "text": [
      "=================================\n",
      "Initial portfolio value:100000\n",
      "Final portfolio value: 243506.515625\n",
      "Final accumulative portfolio value: 2.43506515625\n",
      "Maximum DrawDown: -0.35081280208604104\n",
      "Sharpe ratio: 0.7812320284549641\n",
      "=================================\n"
     ]
    },
    {
     "name": "stderr",
     "output_type": "stream",
     "text": [
      " 80%|████████  | 8/10 [05:08<01:16, 38.49s/it]"
     ]
    },
    {
     "name": "stdout",
     "output_type": "stream",
     "text": [
      "=================================\n",
      "Initial portfolio value:100000\n",
      "Final portfolio value: 243894.890625\n",
      "Final accumulative portfolio value: 2.43894890625\n",
      "Maximum DrawDown: -0.3513253615880356\n",
      "Sharpe ratio: 0.7813333108645287\n",
      "=================================\n"
     ]
    },
    {
     "name": "stderr",
     "output_type": "stream",
     "text": [
      " 90%|█████████ | 9/10 [05:47<00:38, 38.54s/it]"
     ]
    },
    {
     "name": "stdout",
     "output_type": "stream",
     "text": [
      "=================================\n",
      "Initial portfolio value:100000\n",
      "Final portfolio value: 244117.078125\n",
      "Final accumulative portfolio value: 2.44117078125\n",
      "Maximum DrawDown: -0.35164107135239453\n",
      "Sharpe ratio: 0.7813526887256363\n",
      "=================================\n"
     ]
    },
    {
     "name": "stderr",
     "output_type": "stream",
     "text": [
      "100%|██████████| 10/10 [06:25<00:00, 38.56s/it]\n",
      "C:\\Users\\xutia\\AppData\\Local\\Temp\\ipykernel_17836\\976523745.py:42: FutureWarning: You are using `torch.load` with `weights_only=False` (the current default value), which uses the default pickle module implicitly. It is possible to construct malicious pickle data which will execute arbitrary code during unpickling (See https://github.com/pytorch/pytorch/blob/main/SECURITY.md#untrusted-models for more details). In a future release, the default value for `weights_only` will be flipped to `True`. This limits the functions that could be executed during unpickling. Arbitrary objects will no longer be allowed to be loaded via this mode unless they are explicitly allowlisted by the user via `torch.serialization.add_safe_globals`. We recommend you start setting `weights_only=True` for any use case where you don't have full control of the loaded file. Please open an issue on GitHub for any issues related to this experimental feature.\n",
      "  EIIE_policy.load_state_dict(torch.load(model_filename))\n"
     ]
    },
    {
     "name": "stdout",
     "output_type": "stream",
     "text": [
      "=================================\n",
      "Initial portfolio value:100000\n",
      "Final portfolio value: 244576.28125\n",
      "Final accumulative portfolio value: 2.4457628125\n",
      "Maximum DrawDown: -0.35248622912015015\n",
      "Sharpe ratio: 0.7812467766675653\n",
      "=================================\n",
      "=================================\n",
      "Initial portfolio value:100000\n",
      "Final portfolio value: 131607.125\n",
      "Final accumulative portfolio value: 1.31607125\n",
      "Maximum DrawDown: -0.04445696571489843\n",
      "Sharpe ratio: 2.59889156432278\n",
      "=================================\n"
     ]
    },
    {
     "name": "stderr",
     "output_type": "stream",
     "text": [
      "  0%|          | 0/10 [00:00<?, ?it/s]"
     ]
    },
    {
     "name": "stdout",
     "output_type": "stream",
     "text": [
      "=================================\n",
      "Initial portfolio value:100000\n",
      "Final portfolio value: 260566.265625\n",
      "Final accumulative portfolio value: 2.60566265625\n",
      "Maximum DrawDown: -0.3241697762619087\n",
      "Sharpe ratio: 0.8121631146607666\n",
      "=================================\n"
     ]
    },
    {
     "name": "stderr",
     "output_type": "stream",
     "text": [
      " 10%|█         | 1/10 [00:38<05:50, 38.93s/it]"
     ]
    },
    {
     "name": "stdout",
     "output_type": "stream",
     "text": [
      "=================================\n",
      "Initial portfolio value:100000\n",
      "Final portfolio value: 485096.15625\n",
      "Final accumulative portfolio value: 4.8509615625\n",
      "Maximum DrawDown: -0.30037422819343207\n",
      "Sharpe ratio: 1.1023292027481897\n",
      "=================================\n"
     ]
    },
    {
     "name": "stderr",
     "output_type": "stream",
     "text": [
      " 20%|██        | 2/10 [01:17<05:10, 38.81s/it]"
     ]
    },
    {
     "name": "stdout",
     "output_type": "stream",
     "text": [
      "=================================\n",
      "Initial portfolio value:100000\n",
      "Final portfolio value: 623492.75\n",
      "Final accumulative portfolio value: 6.2349275\n",
      "Maximum DrawDown: -0.30099286031241235\n",
      "Sharpe ratio: 1.1583209880381915\n",
      "=================================\n"
     ]
    },
    {
     "name": "stderr",
     "output_type": "stream",
     "text": [
      " 30%|███       | 3/10 [01:56<04:31, 38.75s/it]"
     ]
    },
    {
     "name": "stdout",
     "output_type": "stream",
     "text": [
      "=================================\n",
      "Initial portfolio value:100000\n",
      "Final portfolio value: 783604.3125\n",
      "Final accumulative portfolio value: 7.836043125\n",
      "Maximum DrawDown: -0.2799315556123715\n",
      "Sharpe ratio: 1.3113479745581607\n",
      "=================================\n"
     ]
    },
    {
     "name": "stderr",
     "output_type": "stream",
     "text": [
      " 40%|████      | 4/10 [02:34<03:52, 38.69s/it]"
     ]
    },
    {
     "name": "stdout",
     "output_type": "stream",
     "text": [
      "=================================\n",
      "Initial portfolio value:100000\n",
      "Final portfolio value: 897620.3125\n",
      "Final accumulative portfolio value: 8.976203125\n",
      "Maximum DrawDown: -0.38857950238117367\n",
      "Sharpe ratio: 1.2463861551982873\n",
      "=================================\n"
     ]
    },
    {
     "name": "stderr",
     "output_type": "stream",
     "text": [
      " 50%|█████     | 5/10 [03:13<03:13, 38.66s/it]"
     ]
    },
    {
     "name": "stdout",
     "output_type": "stream",
     "text": [
      "=================================\n",
      "Initial portfolio value:100000\n",
      "Final portfolio value: 969702.6875\n",
      "Final accumulative portfolio value: 9.697026875\n",
      "Maximum DrawDown: -0.2803913888267743\n",
      "Sharpe ratio: 1.3233461742570398\n",
      "=================================\n"
     ]
    },
    {
     "name": "stderr",
     "output_type": "stream",
     "text": [
      " 60%|██████    | 6/10 [03:52<02:34, 38.65s/it]"
     ]
    },
    {
     "name": "stdout",
     "output_type": "stream",
     "text": [
      "=================================\n",
      "Initial portfolio value:100000\n",
      "Final portfolio value: 909223.4375\n",
      "Final accumulative portfolio value: 9.092234375\n",
      "Maximum DrawDown: -0.280387669236013\n",
      "Sharpe ratio: 1.318722679190905\n",
      "=================================\n"
     ]
    },
    {
     "name": "stderr",
     "output_type": "stream",
     "text": [
      " 70%|███████   | 7/10 [04:30<01:56, 38.68s/it]"
     ]
    },
    {
     "name": "stdout",
     "output_type": "stream",
     "text": [
      "=================================\n",
      "Initial portfolio value:100000\n",
      "Final portfolio value: 1020287.875\n",
      "Final accumulative portfolio value: 10.20287875\n",
      "Maximum DrawDown: -0.28039042725492935\n",
      "Sharpe ratio: 1.4196194520453114\n",
      "=================================\n"
     ]
    },
    {
     "name": "stderr",
     "output_type": "stream",
     "text": [
      " 80%|████████  | 8/10 [05:09<01:17, 38.64s/it]"
     ]
    },
    {
     "name": "stdout",
     "output_type": "stream",
     "text": [
      "=================================\n",
      "Initial portfolio value:100000\n",
      "Final portfolio value: 992017.4375\n",
      "Final accumulative portfolio value: 9.920174375\n",
      "Maximum DrawDown: -0.3885071014230992\n",
      "Sharpe ratio: 1.359017016786831\n",
      "=================================\n"
     ]
    },
    {
     "name": "stderr",
     "output_type": "stream",
     "text": [
      " 90%|█████████ | 9/10 [05:48<00:38, 38.64s/it]"
     ]
    },
    {
     "name": "stdout",
     "output_type": "stream",
     "text": [
      "=================================\n",
      "Initial portfolio value:100000\n",
      "Final portfolio value: 1420348.75\n",
      "Final accumulative portfolio value: 14.2034875\n",
      "Maximum DrawDown: -0.28024324569653625\n",
      "Sharpe ratio: 1.5753094615763568\n",
      "=================================\n"
     ]
    },
    {
     "name": "stderr",
     "output_type": "stream",
     "text": [
      "100%|██████████| 10/10 [06:26<00:00, 38.68s/it]\n",
      "C:\\Users\\xutia\\AppData\\Local\\Temp\\ipykernel_17836\\976523745.py:42: FutureWarning: You are using `torch.load` with `weights_only=False` (the current default value), which uses the default pickle module implicitly. It is possible to construct malicious pickle data which will execute arbitrary code during unpickling (See https://github.com/pytorch/pytorch/blob/main/SECURITY.md#untrusted-models for more details). In a future release, the default value for `weights_only` will be flipped to `True`. This limits the functions that could be executed during unpickling. Arbitrary objects will no longer be allowed to be loaded via this mode unless they are explicitly allowlisted by the user via `torch.serialization.add_safe_globals`. We recommend you start setting `weights_only=True` for any use case where you don't have full control of the loaded file. Please open an issue on GitHub for any issues related to this experimental feature.\n",
      "  EIIE_policy.load_state_dict(torch.load(model_filename))\n"
     ]
    },
    {
     "name": "stdout",
     "output_type": "stream",
     "text": [
      "=================================\n",
      "Initial portfolio value:100000\n",
      "Final portfolio value: 307530.875\n",
      "Final accumulative portfolio value: 3.07530875\n",
      "Maximum DrawDown: -0.3482636199528898\n",
      "Sharpe ratio: 0.9226276558547951\n",
      "=================================\n",
      "=================================\n",
      "Initial portfolio value:100000\n",
      "Final portfolio value: 139279.515625\n",
      "Final accumulative portfolio value: 1.39279515625\n",
      "Maximum DrawDown: -0.11889143896527132\n",
      "Sharpe ratio: 1.7079956660460862\n",
      "=================================\n"
     ]
    },
    {
     "name": "stderr",
     "output_type": "stream",
     "text": [
      "  0%|          | 0/10 [00:00<?, ?it/s]"
     ]
    },
    {
     "name": "stdout",
     "output_type": "stream",
     "text": [
      "=================================\n",
      "Initial portfolio value:100000\n",
      "Final portfolio value: 230916.40625\n",
      "Final accumulative portfolio value: 2.3091640625\n",
      "Maximum DrawDown: -0.33157566785248693\n",
      "Sharpe ratio: 0.7789705364850841\n",
      "=================================\n"
     ]
    },
    {
     "name": "stderr",
     "output_type": "stream",
     "text": [
      " 10%|█         | 1/10 [00:38<05:46, 38.55s/it]"
     ]
    },
    {
     "name": "stdout",
     "output_type": "stream",
     "text": [
      "=================================\n",
      "Initial portfolio value:100000\n",
      "Final portfolio value: 232198.46875\n",
      "Final accumulative portfolio value: 2.3219846875\n",
      "Maximum DrawDown: -0.3338827402231229\n",
      "Sharpe ratio: 0.7791372436086971\n",
      "=================================\n"
     ]
    },
    {
     "name": "stderr",
     "output_type": "stream",
     "text": [
      " 20%|██        | 2/10 [01:17<05:08, 38.62s/it]"
     ]
    },
    {
     "name": "stdout",
     "output_type": "stream",
     "text": [
      "=================================\n",
      "Initial portfolio value:100000\n",
      "Final portfolio value: 234162.65625\n",
      "Final accumulative portfolio value: 2.3416265625\n",
      "Maximum DrawDown: -0.3356964972307377\n",
      "Sharpe ratio: 0.7808759812899878\n",
      "=================================\n"
     ]
    },
    {
     "name": "stderr",
     "output_type": "stream",
     "text": [
      " 30%|███       | 3/10 [01:56<04:30, 38.70s/it]"
     ]
    },
    {
     "name": "stdout",
     "output_type": "stream",
     "text": [
      "=================================\n",
      "Initial portfolio value:100000\n",
      "Final portfolio value: 235107.734375\n",
      "Final accumulative portfolio value: 2.35107734375\n",
      "Maximum DrawDown: -0.3371744080521648\n",
      "Sharpe ratio: 0.7809957987872777\n",
      "=================================\n"
     ]
    },
    {
     "name": "stderr",
     "output_type": "stream",
     "text": [
      " 40%|████      | 4/10 [02:34<03:52, 38.73s/it]"
     ]
    },
    {
     "name": "stdout",
     "output_type": "stream",
     "text": [
      "=================================\n",
      "Initial portfolio value:100000\n",
      "Final portfolio value: 235905.234375\n",
      "Final accumulative portfolio value: 2.35905234375\n",
      "Maximum DrawDown: -0.3384630297857929\n",
      "Sharpe ratio: 0.781025585775303\n",
      "=================================\n"
     ]
    },
    {
     "name": "stderr",
     "output_type": "stream",
     "text": [
      " 50%|█████     | 5/10 [03:13<03:13, 38.74s/it]"
     ]
    },
    {
     "name": "stdout",
     "output_type": "stream",
     "text": [
      "=================================\n",
      "Initial portfolio value:100000\n",
      "Final portfolio value: 236620.859375\n",
      "Final accumulative portfolio value: 2.36620859375\n",
      "Maximum DrawDown: -0.33960178471883073\n",
      "Sharpe ratio: 0.7810883538191407\n",
      "=================================\n"
     ]
    },
    {
     "name": "stderr",
     "output_type": "stream",
     "text": [
      " 60%|██████    | 6/10 [03:52<02:35, 38.77s/it]"
     ]
    },
    {
     "name": "stdout",
     "output_type": "stream",
     "text": [
      "=================================\n",
      "Initial portfolio value:100000\n",
      "Final portfolio value: 237251.46875\n",
      "Final accumulative portfolio value: 2.3725146875\n",
      "Maximum DrawDown: -0.3406071499455716\n",
      "Sharpe ratio: 0.7811292376657578\n",
      "=================================\n"
     ]
    },
    {
     "name": "stderr",
     "output_type": "stream",
     "text": [
      " 70%|███████   | 7/10 [04:31<01:56, 38.81s/it]"
     ]
    },
    {
     "name": "stdout",
     "output_type": "stream",
     "text": [
      "=================================\n",
      "Initial portfolio value:100000\n",
      "Final portfolio value: 237811.09375\n",
      "Final accumulative portfolio value: 2.3781109375\n",
      "Maximum DrawDown: -0.3415054816593246\n",
      "Sharpe ratio: 0.7811558060292609\n",
      "=================================\n"
     ]
    },
    {
     "name": "stderr",
     "output_type": "stream",
     "text": [
      " 80%|████████  | 8/10 [05:09<01:17, 38.53s/it]"
     ]
    },
    {
     "name": "stdout",
     "output_type": "stream",
     "text": [
      "=================================\n",
      "Initial portfolio value:100000\n",
      "Final portfolio value: 238306.71875\n",
      "Final accumulative portfolio value: 2.3830671875\n",
      "Maximum DrawDown: -0.34230621174204345\n",
      "Sharpe ratio: 0.781168541791654\n",
      "=================================\n"
     ]
    },
    {
     "name": "stderr",
     "output_type": "stream",
     "text": [
      " 90%|█████████ | 9/10 [05:47<00:38, 38.53s/it]"
     ]
    },
    {
     "name": "stdout",
     "output_type": "stream",
     "text": [
      "=================================\n",
      "Initial portfolio value:100000\n",
      "Final portfolio value: 238760.578125\n",
      "Final accumulative portfolio value: 2.38760578125\n",
      "Maximum DrawDown: -0.34302187753815006\n",
      "Sharpe ratio: 0.7812102259274323\n",
      "=================================\n"
     ]
    },
    {
     "name": "stderr",
     "output_type": "stream",
     "text": [
      "100%|██████████| 10/10 [06:26<00:00, 38.63s/it]\n",
      "C:\\Users\\xutia\\AppData\\Local\\Temp\\ipykernel_17836\\976523745.py:42: FutureWarning: You are using `torch.load` with `weights_only=False` (the current default value), which uses the default pickle module implicitly. It is possible to construct malicious pickle data which will execute arbitrary code during unpickling (See https://github.com/pytorch/pytorch/blob/main/SECURITY.md#untrusted-models for more details). In a future release, the default value for `weights_only` will be flipped to `True`. This limits the functions that could be executed during unpickling. Arbitrary objects will no longer be allowed to be loaded via this mode unless they are explicitly allowlisted by the user via `torch.serialization.add_safe_globals`. We recommend you start setting `weights_only=True` for any use case where you don't have full control of the loaded file. Please open an issue on GitHub for any issues related to this experimental feature.\n",
      "  EIIE_policy.load_state_dict(torch.load(model_filename))\n"
     ]
    },
    {
     "name": "stdout",
     "output_type": "stream",
     "text": [
      "=================================\n",
      "Initial portfolio value:100000\n",
      "Final portfolio value: 239659.515625\n",
      "Final accumulative portfolio value: 2.39659515625\n",
      "Maximum DrawDown: -0.3452312211448003\n",
      "Sharpe ratio: 0.7804488877907934\n",
      "=================================\n",
      "=================================\n",
      "Initial portfolio value:100000\n",
      "Final portfolio value: 130648.0\n",
      "Final accumulative portfolio value: 1.30648\n",
      "Maximum DrawDown: -0.04328046134230823\n",
      "Sharpe ratio: 2.5987713844438542\n",
      "=================================\n"
     ]
    },
    {
     "name": "stderr",
     "output_type": "stream",
     "text": [
      "  0%|          | 0/10 [00:00<?, ?it/s]"
     ]
    },
    {
     "name": "stdout",
     "output_type": "stream",
     "text": [
      "=================================\n",
      "Initial portfolio value:100000\n",
      "Final portfolio value: 220315.6875\n",
      "Final accumulative portfolio value: 2.203156875\n",
      "Maximum DrawDown: -0.3213061512767895\n",
      "Sharpe ratio: 0.767235886557098\n",
      "=================================\n"
     ]
    },
    {
     "name": "stderr",
     "output_type": "stream",
     "text": [
      " 10%|█         | 1/10 [00:39<05:51, 39.00s/it]"
     ]
    },
    {
     "name": "stdout",
     "output_type": "stream",
     "text": [
      "=================================\n",
      "Initial portfolio value:100000\n",
      "Final portfolio value: 228432.0\n",
      "Final accumulative portfolio value: 2.28432\n",
      "Maximum DrawDown: -0.32736483195469024\n",
      "Sharpe ratio: 0.7795024046518018\n",
      "=================================\n"
     ]
    },
    {
     "name": "stderr",
     "output_type": "stream",
     "text": [
      " 20%|██        | 2/10 [01:17<05:10, 38.86s/it]"
     ]
    },
    {
     "name": "stdout",
     "output_type": "stream",
     "text": [
      "=================================\n",
      "Initial portfolio value:100000\n",
      "Final portfolio value: 231883.25\n",
      "Final accumulative portfolio value: 2.3188325\n",
      "Maximum DrawDown: -0.3335712660132878\n",
      "Sharpe ratio: 0.7792729290520007\n",
      "=================================\n"
     ]
    },
    {
     "name": "stderr",
     "output_type": "stream",
     "text": [
      " 30%|███       | 3/10 [01:56<04:32, 38.93s/it]"
     ]
    },
    {
     "name": "stdout",
     "output_type": "stream",
     "text": [
      "=================================\n",
      "Initial portfolio value:100000\n",
      "Final portfolio value: 235890.75\n",
      "Final accumulative portfolio value: 2.3589075\n",
      "Maximum DrawDown: -0.3404508480614896\n",
      "Sharpe ratio: 0.779226178276542\n",
      "=================================\n"
     ]
    },
    {
     "name": "stderr",
     "output_type": "stream",
     "text": [
      " 40%|████      | 4/10 [02:38<03:59, 39.89s/it]"
     ]
    },
    {
     "name": "stdout",
     "output_type": "stream",
     "text": [
      "=================================\n",
      "Initial portfolio value:100000\n",
      "Final portfolio value: 239546.203125\n",
      "Final accumulative portfolio value: 2.39546203125\n",
      "Maximum DrawDown: -0.34576810191785234\n",
      "Sharpe ratio: 0.7799679270417711\n",
      "=================================\n"
     ]
    },
    {
     "name": "stderr",
     "output_type": "stream",
     "text": [
      " 50%|█████     | 5/10 [03:16<03:17, 39.40s/it]"
     ]
    },
    {
     "name": "stdout",
     "output_type": "stream",
     "text": [
      "=================================\n",
      "Initial portfolio value:100000\n",
      "Final portfolio value: 241869.359375\n",
      "Final accumulative portfolio value: 2.41869359375\n",
      "Maximum DrawDown: -0.3487845993470562\n",
      "Sharpe ratio: 0.7806781186092181\n",
      "=================================\n"
     ]
    },
    {
     "name": "stderr",
     "output_type": "stream",
     "text": [
      " 60%|██████    | 6/10 [03:55<02:36, 39.25s/it]"
     ]
    },
    {
     "name": "stdout",
     "output_type": "stream",
     "text": [
      "=================================\n",
      "Initial portfolio value:100000\n",
      "Final portfolio value: 243072.5625\n",
      "Final accumulative portfolio value: 2.430725625\n",
      "Maximum DrawDown: -0.35029742961524224\n",
      "Sharpe ratio: 0.7810590987665197\n",
      "=================================\n"
     ]
    },
    {
     "name": "stderr",
     "output_type": "stream",
     "text": [
      " 70%|███████   | 7/10 [04:34<01:57, 39.12s/it]"
     ]
    },
    {
     "name": "stdout",
     "output_type": "stream",
     "text": [
      "=================================\n",
      "Initial portfolio value:100000\n",
      "Final portfolio value: 243683.421875\n",
      "Final accumulative portfolio value: 2.43683421875\n",
      "Maximum DrawDown: -0.3510728432244341\n",
      "Sharpe ratio: 0.7812393633750693\n",
      "=================================\n"
     ]
    },
    {
     "name": "stderr",
     "output_type": "stream",
     "text": [
      " 80%|████████  | 8/10 [05:13<01:17, 38.99s/it]"
     ]
    },
    {
     "name": "stdout",
     "output_type": "stream",
     "text": [
      "=================================\n",
      "Initial portfolio value:100000\n",
      "Final portfolio value: 244020.984375\n",
      "Final accumulative portfolio value: 2.44020984375\n",
      "Maximum DrawDown: -0.35150730591588475\n",
      "Sharpe ratio: 0.7813485678856114\n",
      "=================================\n"
     ]
    },
    {
     "name": "stderr",
     "output_type": "stream",
     "text": [
      " 90%|█████████ | 9/10 [05:51<00:38, 38.86s/it]"
     ]
    },
    {
     "name": "stdout",
     "output_type": "stream",
     "text": [
      "=================================\n",
      "Initial portfolio value:100000\n",
      "Final portfolio value: 244206.703125\n",
      "Final accumulative portfolio value: 2.44206703125\n",
      "Maximum DrawDown: -0.3517745521272725\n",
      "Sharpe ratio: 0.7813595917399623\n",
      "=================================\n"
     ]
    },
    {
     "name": "stderr",
     "output_type": "stream",
     "text": [
      "100%|██████████| 10/10 [06:30<00:00, 39.03s/it]\n",
      "C:\\Users\\xutia\\AppData\\Local\\Temp\\ipykernel_17836\\976523745.py:42: FutureWarning: You are using `torch.load` with `weights_only=False` (the current default value), which uses the default pickle module implicitly. It is possible to construct malicious pickle data which will execute arbitrary code during unpickling (See https://github.com/pytorch/pytorch/blob/main/SECURITY.md#untrusted-models for more details). In a future release, the default value for `weights_only` will be flipped to `True`. This limits the functions that could be executed during unpickling. Arbitrary objects will no longer be allowed to be loaded via this mode unless they are explicitly allowlisted by the user via `torch.serialization.add_safe_globals`. We recommend you start setting `weights_only=True` for any use case where you don't have full control of the loaded file. Please open an issue on GitHub for any issues related to this experimental feature.\n",
      "  EIIE_policy.load_state_dict(torch.load(model_filename))\n"
     ]
    },
    {
     "name": "stdout",
     "output_type": "stream",
     "text": [
      "=================================\n",
      "Initial portfolio value:100000\n",
      "Final portfolio value: 244579.96875\n",
      "Final accumulative portfolio value: 2.4457996875\n",
      "Maximum DrawDown: -0.3524694879443808\n",
      "Sharpe ratio: 0.7812649446526139\n",
      "=================================\n",
      "=================================\n",
      "Initial portfolio value:100000\n",
      "Final portfolio value: 131611.734375\n",
      "Final accumulative portfolio value: 1.31611734375\n",
      "Maximum DrawDown: -0.044459144518100735\n",
      "Sharpe ratio: 2.598847589358108\n",
      "=================================\n"
     ]
    },
    {
     "name": "stderr",
     "output_type": "stream",
     "text": [
      "  0%|          | 0/10 [00:00<?, ?it/s]"
     ]
    },
    {
     "name": "stdout",
     "output_type": "stream",
     "text": [
      "=================================\n",
      "Initial portfolio value:100000\n",
      "Final portfolio value: 284696.53125\n",
      "Final accumulative portfolio value: 2.8469653125\n",
      "Maximum DrawDown: -0.30321602447802665\n",
      "Sharpe ratio: 0.8961067568096486\n",
      "=================================\n"
     ]
    },
    {
     "name": "stderr",
     "output_type": "stream",
     "text": [
      " 10%|█         | 1/10 [00:38<05:42, 38.05s/it]"
     ]
    },
    {
     "name": "stdout",
     "output_type": "stream",
     "text": [
      "=================================\n",
      "Initial portfolio value:100000\n",
      "Final portfolio value: 510712.875\n",
      "Final accumulative portfolio value: 5.10712875\n",
      "Maximum DrawDown: -0.28168151810761954\n",
      "Sharpe ratio: 1.1163105705138059\n",
      "=================================\n"
     ]
    },
    {
     "name": "stderr",
     "output_type": "stream",
     "text": [
      " 20%|██        | 2/10 [01:16<05:07, 38.41s/it]"
     ]
    },
    {
     "name": "stdout",
     "output_type": "stream",
     "text": [
      "=================================\n",
      "Initial portfolio value:100000\n",
      "Final portfolio value: 669723.6875\n",
      "Final accumulative portfolio value: 6.697236875\n",
      "Maximum DrawDown: -0.2803544733388713\n",
      "Sharpe ratio: 1.2209993564606412\n",
      "=================================\n"
     ]
    },
    {
     "name": "stderr",
     "output_type": "stream",
     "text": [
      " 30%|███       | 3/10 [01:55<04:30, 38.57s/it]"
     ]
    },
    {
     "name": "stdout",
     "output_type": "stream",
     "text": [
      "=================================\n",
      "Initial portfolio value:100000\n",
      "Final portfolio value: 821211.5\n",
      "Final accumulative portfolio value: 8.212115\n",
      "Maximum DrawDown: -0.30354435170913896\n",
      "Sharpe ratio: 1.2953019411049131\n",
      "=================================\n"
     ]
    },
    {
     "name": "stderr",
     "output_type": "stream",
     "text": [
      " 40%|████      | 4/10 [02:34<03:51, 38.60s/it]"
     ]
    },
    {
     "name": "stdout",
     "output_type": "stream",
     "text": [
      "=================================\n",
      "Initial portfolio value:100000\n",
      "Final portfolio value: 883297.8125\n",
      "Final accumulative portfolio value: 8.832978125\n",
      "Maximum DrawDown: -0.2803913810529022\n",
      "Sharpe ratio: 1.3580078157724136\n",
      "=================================\n"
     ]
    },
    {
     "name": "stderr",
     "output_type": "stream",
     "text": [
      " 50%|█████     | 5/10 [03:12<03:13, 38.61s/it]"
     ]
    },
    {
     "name": "stdout",
     "output_type": "stream",
     "text": [
      "=================================\n",
      "Initial portfolio value:100000\n",
      "Final portfolio value: 809569.75\n",
      "Final accumulative portfolio value: 8.0956975\n",
      "Maximum DrawDown: -0.3944671883223666\n",
      "Sharpe ratio: 1.258976202735334\n",
      "=================================\n"
     ]
    },
    {
     "name": "stderr",
     "output_type": "stream",
     "text": [
      " 60%|██████    | 6/10 [03:51<02:34, 38.65s/it]"
     ]
    },
    {
     "name": "stdout",
     "output_type": "stream",
     "text": [
      "=================================\n",
      "Initial portfolio value:100000\n",
      "Final portfolio value: 1228608.5\n",
      "Final accumulative portfolio value: 12.286085\n",
      "Maximum DrawDown: -0.2803920513521808\n",
      "Sharpe ratio: 1.5302788327849262\n",
      "=================================\n"
     ]
    },
    {
     "name": "stderr",
     "output_type": "stream",
     "text": [
      " 70%|███████   | 7/10 [04:30<01:56, 38.72s/it]"
     ]
    },
    {
     "name": "stdout",
     "output_type": "stream",
     "text": [
      "=================================\n",
      "Initial portfolio value:100000\n",
      "Final portfolio value: 1370698.0\n",
      "Final accumulative portfolio value: 13.70698\n",
      "Maximum DrawDown: -0.2803878329966155\n",
      "Sharpe ratio: 1.5528905430875966\n",
      "=================================\n"
     ]
    },
    {
     "name": "stderr",
     "output_type": "stream",
     "text": [
      " 80%|████████  | 8/10 [05:09<01:17, 38.71s/it]"
     ]
    },
    {
     "name": "stdout",
     "output_type": "stream",
     "text": [
      "=================================\n",
      "Initial portfolio value:100000\n",
      "Final portfolio value: 1284716.625\n",
      "Final accumulative portfolio value: 12.84716625\n",
      "Maximum DrawDown: -0.28141313692760994\n",
      "Sharpe ratio: 1.4972618053455478\n",
      "=================================\n"
     ]
    },
    {
     "name": "stderr",
     "output_type": "stream",
     "text": [
      " 90%|█████████ | 9/10 [05:47<00:38, 38.66s/it]"
     ]
    },
    {
     "name": "stdout",
     "output_type": "stream",
     "text": [
      "=================================\n",
      "Initial portfolio value:100000\n",
      "Final portfolio value: 1493400.25\n",
      "Final accumulative portfolio value: 14.9340025\n",
      "Maximum DrawDown: -0.28031937818579533\n",
      "Sharpe ratio: 1.5849860054380287\n",
      "=================================\n"
     ]
    },
    {
     "name": "stderr",
     "output_type": "stream",
     "text": [
      "100%|██████████| 10/10 [06:26<00:00, 38.64s/it]\n",
      "C:\\Users\\xutia\\AppData\\Local\\Temp\\ipykernel_17836\\976523745.py:42: FutureWarning: You are using `torch.load` with `weights_only=False` (the current default value), which uses the default pickle module implicitly. It is possible to construct malicious pickle data which will execute arbitrary code during unpickling (See https://github.com/pytorch/pytorch/blob/main/SECURITY.md#untrusted-models for more details). In a future release, the default value for `weights_only` will be flipped to `True`. This limits the functions that could be executed during unpickling. Arbitrary objects will no longer be allowed to be loaded via this mode unless they are explicitly allowlisted by the user via `torch.serialization.add_safe_globals`. We recommend you start setting `weights_only=True` for any use case where you don't have full control of the loaded file. Please open an issue on GitHub for any issues related to this experimental feature.\n",
      "  EIIE_policy.load_state_dict(torch.load(model_filename))\n"
     ]
    },
    {
     "name": "stdout",
     "output_type": "stream",
     "text": [
      "=================================\n",
      "Initial portfolio value:100000\n",
      "Final portfolio value: 954618.875\n",
      "Final accumulative portfolio value: 9.54618875\n",
      "Maximum DrawDown: -0.3168052666499779\n",
      "Sharpe ratio: 1.3281445388350523\n",
      "=================================\n",
      "=================================\n",
      "Initial portfolio value:100000\n",
      "Final portfolio value: 149695.171875\n",
      "Final accumulative portfolio value: 1.49695171875\n",
      "Maximum DrawDown: -0.1088771973725986\n",
      "Sharpe ratio: 2.0816985456730275\n",
      "=================================\n"
     ]
    },
    {
     "name": "stderr",
     "output_type": "stream",
     "text": [
      "  0%|          | 0/10 [00:00<?, ?it/s]"
     ]
    },
    {
     "name": "stdout",
     "output_type": "stream",
     "text": [
      "=================================\n",
      "Initial portfolio value:100000\n",
      "Final portfolio value: 210921.296875\n",
      "Final accumulative portfolio value: 2.10921296875\n",
      "Maximum DrawDown: -0.3278422914619594\n",
      "Sharpe ratio: 0.7268409372464304\n",
      "=================================\n"
     ]
    },
    {
     "name": "stderr",
     "output_type": "stream",
     "text": [
      " 10%|█         | 1/10 [00:38<05:49, 38.80s/it]"
     ]
    },
    {
     "name": "stdout",
     "output_type": "stream",
     "text": [
      "=================================\n",
      "Initial portfolio value:100000\n",
      "Final portfolio value: 250253.125\n",
      "Final accumulative portfolio value: 2.50253125\n",
      "Maximum DrawDown: -0.3413670652732319\n",
      "Sharpe ratio: 0.7999307056552123\n",
      "=================================\n"
     ]
    },
    {
     "name": "stderr",
     "output_type": "stream",
     "text": [
      " 20%|██        | 2/10 [01:17<05:11, 38.89s/it]"
     ]
    },
    {
     "name": "stdout",
     "output_type": "stream",
     "text": [
      "=================================\n",
      "Initial portfolio value:100000\n",
      "Final portfolio value: 419124.6875\n",
      "Final accumulative portfolio value: 4.191246875\n",
      "Maximum DrawDown: -0.33070453614639994\n",
      "Sharpe ratio: 1.0256910663102685\n",
      "=================================\n"
     ]
    },
    {
     "name": "stderr",
     "output_type": "stream",
     "text": [
      " 30%|███       | 3/10 [01:56<04:31, 38.84s/it]"
     ]
    },
    {
     "name": "stdout",
     "output_type": "stream",
     "text": [
      "=================================\n",
      "Initial portfolio value:100000\n",
      "Final portfolio value: 607987.0\n",
      "Final accumulative portfolio value: 6.07987\n",
      "Maximum DrawDown: -0.3444969962906007\n",
      "Sharpe ratio: 1.1404465356270568\n",
      "=================================\n"
     ]
    },
    {
     "name": "stderr",
     "output_type": "stream",
     "text": [
      " 40%|████      | 4/10 [02:35<03:52, 38.83s/it]"
     ]
    },
    {
     "name": "stdout",
     "output_type": "stream",
     "text": [
      "=================================\n",
      "Initial portfolio value:100000\n",
      "Final portfolio value: 690537.6875\n",
      "Final accumulative portfolio value: 6.905376875\n",
      "Maximum DrawDown: -0.3042630054654335\n",
      "Sharpe ratio: 1.2280019125670858\n",
      "=================================\n"
     ]
    },
    {
     "name": "stderr",
     "output_type": "stream",
     "text": [
      " 50%|█████     | 5/10 [03:14<03:13, 38.79s/it]"
     ]
    },
    {
     "name": "stdout",
     "output_type": "stream",
     "text": [
      "=================================\n",
      "Initial portfolio value:100000\n",
      "Final portfolio value: 753108.0625\n",
      "Final accumulative portfolio value: 7.531080625\n",
      "Maximum DrawDown: -0.34975594317919\n",
      "Sharpe ratio: 1.240405175915612\n",
      "=================================\n"
     ]
    },
    {
     "name": "stderr",
     "output_type": "stream",
     "text": [
      " 60%|██████    | 6/10 [03:52<02:34, 38.74s/it]"
     ]
    },
    {
     "name": "stdout",
     "output_type": "stream",
     "text": [
      "=================================\n",
      "Initial portfolio value:100000\n",
      "Final portfolio value: 763341.25\n",
      "Final accumulative portfolio value: 7.6334125\n",
      "Maximum DrawDown: -0.30403841866562553\n",
      "Sharpe ratio: 1.2479503775514362\n",
      "=================================\n"
     ]
    },
    {
     "name": "stderr",
     "output_type": "stream",
     "text": [
      " 70%|███████   | 7/10 [04:31<01:56, 38.78s/it]"
     ]
    },
    {
     "name": "stdout",
     "output_type": "stream",
     "text": [
      "=================================\n",
      "Initial portfolio value:100000\n",
      "Final portfolio value: 762909.375\n",
      "Final accumulative portfolio value: 7.62909375\n",
      "Maximum DrawDown: -0.3851357640811195\n",
      "Sharpe ratio: 1.194524957631304\n",
      "=================================\n"
     ]
    },
    {
     "name": "stderr",
     "output_type": "stream",
     "text": [
      " 80%|████████  | 8/10 [05:10<01:17, 38.78s/it]"
     ]
    },
    {
     "name": "stdout",
     "output_type": "stream",
     "text": [
      "=================================\n",
      "Initial portfolio value:100000\n",
      "Final portfolio value: 726182.375\n",
      "Final accumulative portfolio value: 7.26182375\n",
      "Maximum DrawDown: -0.3851583057682897\n",
      "Sharpe ratio: 1.1627715571459485\n",
      "=================================\n"
     ]
    },
    {
     "name": "stderr",
     "output_type": "stream",
     "text": [
      " 90%|█████████ | 9/10 [05:49<00:38, 38.78s/it]"
     ]
    },
    {
     "name": "stdout",
     "output_type": "stream",
     "text": [
      "=================================\n",
      "Initial portfolio value:100000\n",
      "Final portfolio value: 1011885.0625\n",
      "Final accumulative portfolio value: 10.118850625\n",
      "Maximum DrawDown: -0.3851582869068595\n",
      "Sharpe ratio: 1.3335761089797515\n",
      "=================================\n"
     ]
    },
    {
     "name": "stderr",
     "output_type": "stream",
     "text": [
      "100%|██████████| 10/10 [06:27<00:00, 38.78s/it]\n",
      "C:\\Users\\xutia\\AppData\\Local\\Temp\\ipykernel_17836\\976523745.py:42: FutureWarning: You are using `torch.load` with `weights_only=False` (the current default value), which uses the default pickle module implicitly. It is possible to construct malicious pickle data which will execute arbitrary code during unpickling (See https://github.com/pytorch/pytorch/blob/main/SECURITY.md#untrusted-models for more details). In a future release, the default value for `weights_only` will be flipped to `True`. This limits the functions that could be executed during unpickling. Arbitrary objects will no longer be allowed to be loaded via this mode unless they are explicitly allowlisted by the user via `torch.serialization.add_safe_globals`. We recommend you start setting `weights_only=True` for any use case where you don't have full control of the loaded file. Please open an issue on GitHub for any issues related to this experimental feature.\n",
      "  EIIE_policy.load_state_dict(torch.load(model_filename))\n"
     ]
    },
    {
     "name": "stdout",
     "output_type": "stream",
     "text": [
      "=================================\n",
      "Initial portfolio value:100000\n",
      "Final portfolio value: 446359.8125\n",
      "Final accumulative portfolio value: 4.463598125\n",
      "Maximum DrawDown: -0.4118956424993404\n",
      "Sharpe ratio: 0.8831170954569433\n",
      "=================================\n",
      "=================================\n",
      "Initial portfolio value:100000\n",
      "Final portfolio value: 172013.046875\n",
      "Final accumulative portfolio value: 1.72013046875\n",
      "Maximum DrawDown: -0.08796676087645305\n",
      "Sharpe ratio: 2.6905180860658815\n",
      "=================================\n"
     ]
    },
    {
     "name": "stderr",
     "output_type": "stream",
     "text": [
      "  0%|          | 0/10 [00:00<?, ?it/s]"
     ]
    },
    {
     "name": "stdout",
     "output_type": "stream",
     "text": [
      "=================================\n",
      "Initial portfolio value:100000\n",
      "Final portfolio value: 288756.34375\n",
      "Final accumulative portfolio value: 2.8875634375\n",
      "Maximum DrawDown: -0.3112523433613614\n",
      "Sharpe ratio: 0.9025931441432977\n",
      "=================================\n"
     ]
    },
    {
     "name": "stderr",
     "output_type": "stream",
     "text": [
      " 10%|█         | 1/10 [00:38<05:48, 38.69s/it]"
     ]
    },
    {
     "name": "stdout",
     "output_type": "stream",
     "text": [
      "=================================\n",
      "Initial portfolio value:100000\n",
      "Final portfolio value: 510859.1875\n",
      "Final accumulative portfolio value: 5.108591875\n",
      "Maximum DrawDown: -0.2943718256575262\n",
      "Sharpe ratio: 1.0736191280446108\n",
      "=================================\n"
     ]
    },
    {
     "name": "stderr",
     "output_type": "stream",
     "text": [
      " 20%|██        | 2/10 [01:17<05:08, 38.60s/it]"
     ]
    },
    {
     "name": "stdout",
     "output_type": "stream",
     "text": [
      "=================================\n",
      "Initial portfolio value:100000\n",
      "Final portfolio value: 627322.4375\n",
      "Final accumulative portfolio value: 6.273224375\n",
      "Maximum DrawDown: -0.2801145867089784\n",
      "Sharpe ratio: 1.1979860031188294\n",
      "=================================\n"
     ]
    },
    {
     "name": "stderr",
     "output_type": "stream",
     "text": [
      " 30%|███       | 3/10 [01:56<04:30, 38.71s/it]"
     ]
    },
    {
     "name": "stdout",
     "output_type": "stream",
     "text": [
      "=================================\n",
      "Initial portfolio value:100000\n",
      "Final portfolio value: 726771.4375\n",
      "Final accumulative portfolio value: 7.267714375\n",
      "Maximum DrawDown: -0.3375441948236002\n",
      "Sharpe ratio: 1.227096805261011\n",
      "=================================\n"
     ]
    },
    {
     "name": "stderr",
     "output_type": "stream",
     "text": [
      " 40%|████      | 4/10 [02:34<03:52, 38.79s/it]"
     ]
    },
    {
     "name": "stdout",
     "output_type": "stream",
     "text": [
      "=================================\n",
      "Initial portfolio value:100000\n",
      "Final portfolio value: 869965.6875\n",
      "Final accumulative portfolio value: 8.699656875\n",
      "Maximum DrawDown: -0.28038068588155507\n",
      "Sharpe ratio: 1.3590566742838823\n",
      "=================================\n"
     ]
    },
    {
     "name": "stderr",
     "output_type": "stream",
     "text": [
      " 50%|█████     | 5/10 [03:13<03:13, 38.79s/it]"
     ]
    },
    {
     "name": "stdout",
     "output_type": "stream",
     "text": [
      "=================================\n",
      "Initial portfolio value:100000\n",
      "Final portfolio value: 868834.5625\n",
      "Final accumulative portfolio value: 8.688345625\n",
      "Maximum DrawDown: -0.2803477037266\n",
      "Sharpe ratio: 1.3648770925258404\n",
      "=================================\n"
     ]
    },
    {
     "name": "stderr",
     "output_type": "stream",
     "text": [
      " 60%|██████    | 6/10 [03:52<02:34, 38.66s/it]"
     ]
    },
    {
     "name": "stdout",
     "output_type": "stream",
     "text": [
      "=================================\n",
      "Initial portfolio value:100000\n",
      "Final portfolio value: 718920.125\n",
      "Final accumulative portfolio value: 7.18920125\n",
      "Maximum DrawDown: -0.432006388023196\n",
      "Sharpe ratio: 1.1711736901703347\n",
      "=================================\n"
     ]
    },
    {
     "name": "stderr",
     "output_type": "stream",
     "text": [
      " 70%|███████   | 7/10 [04:30<01:56, 38.69s/it]"
     ]
    },
    {
     "name": "stdout",
     "output_type": "stream",
     "text": [
      "=================================\n",
      "Initial portfolio value:100000\n",
      "Final portfolio value: 1226086.25\n",
      "Final accumulative portfolio value: 12.2608625\n",
      "Maximum DrawDown: -0.28037724103729467\n",
      "Sharpe ratio: 1.4971532440118143\n",
      "=================================\n"
     ]
    },
    {
     "name": "stderr",
     "output_type": "stream",
     "text": [
      " 80%|████████  | 8/10 [05:09<01:17, 38.71s/it]"
     ]
    },
    {
     "name": "stdout",
     "output_type": "stream",
     "text": [
      "=================================\n",
      "Initial portfolio value:100000\n",
      "Final portfolio value: 1394316.625\n",
      "Final accumulative portfolio value: 13.94316625\n",
      "Maximum DrawDown: -0.28039251196435877\n",
      "Sharpe ratio: 1.5712117496152513\n",
      "=================================\n"
     ]
    },
    {
     "name": "stderr",
     "output_type": "stream",
     "text": [
      " 90%|█████████ | 9/10 [05:48<00:38, 38.67s/it]"
     ]
    },
    {
     "name": "stdout",
     "output_type": "stream",
     "text": [
      "=================================\n",
      "Initial portfolio value:100000\n",
      "Final portfolio value: 1299088.625\n",
      "Final accumulative portfolio value: 12.99088625\n",
      "Maximum DrawDown: -0.2801146309685456\n",
      "Sharpe ratio: 1.5042516225604636\n",
      "=================================\n"
     ]
    },
    {
     "name": "stderr",
     "output_type": "stream",
     "text": [
      "100%|██████████| 10/10 [06:26<00:00, 38.68s/it]\n",
      "C:\\Users\\xutia\\AppData\\Local\\Temp\\ipykernel_17836\\976523745.py:42: FutureWarning: You are using `torch.load` with `weights_only=False` (the current default value), which uses the default pickle module implicitly. It is possible to construct malicious pickle data which will execute arbitrary code during unpickling (See https://github.com/pytorch/pytorch/blob/main/SECURITY.md#untrusted-models for more details). In a future release, the default value for `weights_only` will be flipped to `True`. This limits the functions that could be executed during unpickling. Arbitrary objects will no longer be allowed to be loaded via this mode unless they are explicitly allowlisted by the user via `torch.serialization.add_safe_globals`. We recommend you start setting `weights_only=True` for any use case where you don't have full control of the loaded file. Please open an issue on GitHub for any issues related to this experimental feature.\n",
      "  EIIE_policy.load_state_dict(torch.load(model_filename))\n"
     ]
    },
    {
     "name": "stdout",
     "output_type": "stream",
     "text": [
      "=================================\n",
      "Initial portfolio value:100000\n",
      "Final portfolio value: 742034.1875\n",
      "Final accumulative portfolio value: 7.420341875\n",
      "Maximum DrawDown: -0.4023097163735442\n",
      "Sharpe ratio: 1.1807620101832559\n",
      "=================================\n",
      "=================================\n",
      "Initial portfolio value:100000\n",
      "Final portfolio value: 136968.1875\n",
      "Final accumulative portfolio value: 1.369681875\n",
      "Maximum DrawDown: -0.12038288955131915\n",
      "Sharpe ratio: 1.5792987673739696\n",
      "=================================\n"
     ]
    },
    {
     "name": "stderr",
     "output_type": "stream",
     "text": [
      "  0%|          | 0/10 [00:00<?, ?it/s]"
     ]
    },
    {
     "name": "stdout",
     "output_type": "stream",
     "text": [
      "=================================\n",
      "Initial portfolio value:100000\n",
      "Final portfolio value: 296870.5\n",
      "Final accumulative portfolio value: 2.968705\n",
      "Maximum DrawDown: -0.28813049344021546\n",
      "Sharpe ratio: 0.9014881130074739\n",
      "=================================\n"
     ]
    },
    {
     "name": "stderr",
     "output_type": "stream",
     "text": [
      " 10%|█         | 1/10 [00:38<05:49, 38.86s/it]"
     ]
    },
    {
     "name": "stdout",
     "output_type": "stream",
     "text": [
      "=================================\n",
      "Initial portfolio value:100000\n",
      "Final portfolio value: 595933.8125\n",
      "Final accumulative portfolio value: 5.959338125\n",
      "Maximum DrawDown: -0.2803691353833093\n",
      "Sharpe ratio: 1.1410227247080136\n",
      "=================================\n"
     ]
    },
    {
     "name": "stderr",
     "output_type": "stream",
     "text": [
      " 20%|██        | 2/10 [01:17<05:10, 38.84s/it]"
     ]
    },
    {
     "name": "stdout",
     "output_type": "stream",
     "text": [
      "=================================\n",
      "Initial portfolio value:100000\n",
      "Final portfolio value: 124165.640625\n",
      "Final accumulative portfolio value: 1.24165640625\n",
      "Maximum DrawDown: -0.17368416872838777\n",
      "Sharpe ratio: 0.2987352556482934\n",
      "=================================\n"
     ]
    },
    {
     "name": "stderr",
     "output_type": "stream",
     "text": [
      " 30%|███       | 3/10 [01:56<04:32, 38.88s/it]"
     ]
    },
    {
     "name": "stdout",
     "output_type": "stream",
     "text": [
      "=================================\n",
      "Initial portfolio value:100000\n",
      "Final portfolio value: 100000.0\n",
      "Final accumulative portfolio value: 1.0\n",
      "Maximum DrawDown: 0.0\n",
      "Sharpe ratio: nan\n",
      "=================================\n"
     ]
    },
    {
     "name": "stderr",
     "output_type": "stream",
     "text": [
      "C:\\Users\\xutia\\AppData\\Roaming\\Python\\Python310\\site-packages\\quantstats\\stats.py:294: RuntimeWarning: invalid value encountered in scalar divide\n",
      "  res = returns.mean() / divisor\n",
      " 40%|████      | 4/10 [02:35<03:52, 38.77s/it]"
     ]
    },
    {
     "name": "stdout",
     "output_type": "stream",
     "text": [
      "=================================\n",
      "Initial portfolio value:100000\n",
      "Final portfolio value: 100000.0\n",
      "Final accumulative portfolio value: 1.0\n",
      "Maximum DrawDown: 0.0\n",
      "Sharpe ratio: nan\n",
      "=================================\n"
     ]
    },
    {
     "name": "stderr",
     "output_type": "stream",
     "text": [
      "C:\\Users\\xutia\\AppData\\Roaming\\Python\\Python310\\site-packages\\quantstats\\stats.py:294: RuntimeWarning: invalid value encountered in scalar divide\n",
      "  res = returns.mean() / divisor\n",
      " 50%|█████     | 5/10 [03:13<03:13, 38.68s/it]"
     ]
    },
    {
     "name": "stdout",
     "output_type": "stream",
     "text": [
      "=================================\n",
      "Initial portfolio value:100000\n",
      "Final portfolio value: 100000.0\n",
      "Final accumulative portfolio value: 1.0\n",
      "Maximum DrawDown: 0.0\n",
      "Sharpe ratio: nan\n",
      "=================================\n"
     ]
    },
    {
     "name": "stderr",
     "output_type": "stream",
     "text": [
      "C:\\Users\\xutia\\AppData\\Roaming\\Python\\Python310\\site-packages\\quantstats\\stats.py:294: RuntimeWarning: invalid value encountered in scalar divide\n",
      "  res = returns.mean() / divisor\n",
      " 60%|██████    | 6/10 [03:52<02:34, 38.64s/it]"
     ]
    },
    {
     "name": "stdout",
     "output_type": "stream",
     "text": [
      "=================================\n",
      "Initial portfolio value:100000\n",
      "Final portfolio value: 100000.0\n",
      "Final accumulative portfolio value: 1.0\n",
      "Maximum DrawDown: 0.0\n",
      "Sharpe ratio: nan\n",
      "=================================\n"
     ]
    },
    {
     "name": "stderr",
     "output_type": "stream",
     "text": [
      "C:\\Users\\xutia\\AppData\\Roaming\\Python\\Python310\\site-packages\\quantstats\\stats.py:294: RuntimeWarning: invalid value encountered in scalar divide\n",
      "  res = returns.mean() / divisor\n",
      " 70%|███████   | 7/10 [04:30<01:55, 38.61s/it]"
     ]
    },
    {
     "name": "stdout",
     "output_type": "stream",
     "text": [
      "=================================\n",
      "Initial portfolio value:100000\n",
      "Final portfolio value: 100000.0\n",
      "Final accumulative portfolio value: 1.0\n",
      "Maximum DrawDown: 0.0\n",
      "Sharpe ratio: nan\n",
      "=================================\n"
     ]
    },
    {
     "name": "stderr",
     "output_type": "stream",
     "text": [
      "C:\\Users\\xutia\\AppData\\Roaming\\Python\\Python310\\site-packages\\quantstats\\stats.py:294: RuntimeWarning: invalid value encountered in scalar divide\n",
      "  res = returns.mean() / divisor\n",
      " 80%|████████  | 8/10 [05:09<01:17, 38.63s/it]"
     ]
    },
    {
     "name": "stdout",
     "output_type": "stream",
     "text": [
      "=================================\n",
      "Initial portfolio value:100000\n",
      "Final portfolio value: 100000.0\n",
      "Final accumulative portfolio value: 1.0\n",
      "Maximum DrawDown: 0.0\n",
      "Sharpe ratio: nan\n",
      "=================================\n"
     ]
    },
    {
     "name": "stderr",
     "output_type": "stream",
     "text": [
      "C:\\Users\\xutia\\AppData\\Roaming\\Python\\Python310\\site-packages\\quantstats\\stats.py:294: RuntimeWarning: invalid value encountered in scalar divide\n",
      "  res = returns.mean() / divisor\n",
      " 90%|█████████ | 9/10 [05:47<00:38, 38.58s/it]"
     ]
    },
    {
     "name": "stdout",
     "output_type": "stream",
     "text": [
      "=================================\n",
      "Initial portfolio value:100000\n",
      "Final portfolio value: 100000.0\n",
      "Final accumulative portfolio value: 1.0\n",
      "Maximum DrawDown: 0.0\n",
      "Sharpe ratio: nan\n",
      "=================================\n"
     ]
    },
    {
     "name": "stderr",
     "output_type": "stream",
     "text": [
      "C:\\Users\\xutia\\AppData\\Roaming\\Python\\Python310\\site-packages\\quantstats\\stats.py:294: RuntimeWarning: invalid value encountered in scalar divide\n",
      "  res = returns.mean() / divisor\n",
      "100%|██████████| 10/10 [06:26<00:00, 38.62s/it]\n",
      "C:\\Users\\xutia\\AppData\\Local\\Temp\\ipykernel_17836\\976523745.py:42: FutureWarning: You are using `torch.load` with `weights_only=False` (the current default value), which uses the default pickle module implicitly. It is possible to construct malicious pickle data which will execute arbitrary code during unpickling (See https://github.com/pytorch/pytorch/blob/main/SECURITY.md#untrusted-models for more details). In a future release, the default value for `weights_only` will be flipped to `True`. This limits the functions that could be executed during unpickling. Arbitrary objects will no longer be allowed to be loaded via this mode unless they are explicitly allowlisted by the user via `torch.serialization.add_safe_globals`. We recommend you start setting `weights_only=True` for any use case where you don't have full control of the loaded file. Please open an issue on GitHub for any issues related to this experimental feature.\n",
      "  EIIE_policy.load_state_dict(torch.load(model_filename))\n"
     ]
    },
    {
     "name": "stdout",
     "output_type": "stream",
     "text": [
      "=================================\n",
      "Initial portfolio value:100000\n",
      "Final portfolio value: 100000.0\n",
      "Final accumulative portfolio value: 1.0\n",
      "Maximum DrawDown: 0.0\n",
      "Sharpe ratio: nan\n",
      "=================================\n"
     ]
    },
    {
     "name": "stderr",
     "output_type": "stream",
     "text": [
      "C:\\Users\\xutia\\AppData\\Roaming\\Python\\Python310\\site-packages\\quantstats\\stats.py:294: RuntimeWarning: invalid value encountered in scalar divide\n",
      "  res = returns.mean() / divisor\n",
      "C:\\Users\\xutia\\AppData\\Local\\Temp\\ipykernel_17836\\1723847985.py:71: RuntimeWarning: invalid value encountered in scalar divide\n",
      "  sharpe_ratio = np.mean(excess_returns) / np.std(excess_returns)\n"
     ]
    },
    {
     "name": "stdout",
     "output_type": "stream",
     "text": [
      "=================================\n",
      "Initial portfolio value:100000\n",
      "Final portfolio value: 100000.0\n",
      "Final accumulative portfolio value: 1.0\n",
      "Maximum DrawDown: 0.0\n",
      "Sharpe ratio: nan\n",
      "=================================\n"
     ]
    },
    {
     "name": "stderr",
     "output_type": "stream",
     "text": [
      "C:\\Users\\xutia\\AppData\\Roaming\\Python\\Python310\\site-packages\\quantstats\\stats.py:294: RuntimeWarning: invalid value encountered in scalar divide\n",
      "  res = returns.mean() / divisor\n",
      "C:\\Users\\xutia\\AppData\\Local\\Temp\\ipykernel_17836\\1723847985.py:71: RuntimeWarning: invalid value encountered in scalar divide\n",
      "  sharpe_ratio = np.mean(excess_returns) / np.std(excess_returns)\n",
      "  0%|          | 0/10 [00:00<?, ?it/s]"
     ]
    },
    {
     "name": "stdout",
     "output_type": "stream",
     "text": [
      "=================================\n",
      "Initial portfolio value:100000\n",
      "Final portfolio value: 267054.84375\n",
      "Final accumulative portfolio value: 2.6705484375\n",
      "Maximum DrawDown: -0.31803080336695166\n",
      "Sharpe ratio: 0.8462241221255018\n",
      "=================================\n"
     ]
    },
    {
     "name": "stderr",
     "output_type": "stream",
     "text": [
      " 10%|█         | 1/10 [00:38<05:49, 38.87s/it]"
     ]
    },
    {
     "name": "stdout",
     "output_type": "stream",
     "text": [
      "=================================\n",
      "Initial portfolio value:100000\n",
      "Final portfolio value: 470723.625\n",
      "Final accumulative portfolio value: 4.70723625\n",
      "Maximum DrawDown: -0.30113295982069366\n",
      "Sharpe ratio: 1.0869004364442516\n",
      "=================================\n"
     ]
    },
    {
     "name": "stderr",
     "output_type": "stream",
     "text": [
      " 20%|██        | 2/10 [01:17<05:10, 38.78s/it]"
     ]
    },
    {
     "name": "stdout",
     "output_type": "stream",
     "text": [
      "=================================\n",
      "Initial portfolio value:100000\n",
      "Final portfolio value: 570207.375\n",
      "Final accumulative portfolio value: 5.70207375\n",
      "Maximum DrawDown: -0.31218442668238244\n",
      "Sharpe ratio: 1.1242065095413911\n",
      "=================================\n"
     ]
    },
    {
     "name": "stderr",
     "output_type": "stream",
     "text": [
      " 30%|███       | 3/10 [01:56<04:31, 38.75s/it]"
     ]
    },
    {
     "name": "stdout",
     "output_type": "stream",
     "text": [
      "=================================\n",
      "Initial portfolio value:100000\n",
      "Final portfolio value: 770013.875\n",
      "Final accumulative portfolio value: 7.70013875\n",
      "Maximum DrawDown: -0.2844599143624018\n",
      "Sharpe ratio: 1.289502926823021\n",
      "=================================\n"
     ]
    },
    {
     "name": "stderr",
     "output_type": "stream",
     "text": [
      " 40%|████      | 4/10 [02:35<03:52, 38.82s/it]"
     ]
    },
    {
     "name": "stdout",
     "output_type": "stream",
     "text": [
      "=================================\n",
      "Initial portfolio value:100000\n",
      "Final portfolio value: 885842.0\n",
      "Final accumulative portfolio value: 8.85842\n",
      "Maximum DrawDown: -0.28979305448897286\n",
      "Sharpe ratio: 1.3078133889500458\n",
      "=================================\n"
     ]
    },
    {
     "name": "stderr",
     "output_type": "stream",
     "text": [
      " 50%|█████     | 5/10 [03:13<03:13, 38.78s/it]"
     ]
    },
    {
     "name": "stdout",
     "output_type": "stream",
     "text": [
      "=================================\n",
      "Initial portfolio value:100000\n",
      "Final portfolio value: 1039342.5625\n",
      "Final accumulative portfolio value: 10.393425625\n",
      "Maximum DrawDown: -0.28010814549851015\n",
      "Sharpe ratio: 1.3966100307937073\n",
      "=================================\n"
     ]
    },
    {
     "name": "stderr",
     "output_type": "stream",
     "text": [
      " 60%|██████    | 6/10 [03:53<02:35, 38.90s/it]"
     ]
    },
    {
     "name": "stdout",
     "output_type": "stream",
     "text": [
      "=================================\n",
      "Initial portfolio value:100000\n",
      "Final portfolio value: 987857.0625\n",
      "Final accumulative portfolio value: 9.878570625\n",
      "Maximum DrawDown: -0.28227781210496783\n",
      "Sharpe ratio: 1.3582857170872669\n",
      "=================================\n"
     ]
    },
    {
     "name": "stderr",
     "output_type": "stream",
     "text": [
      " 70%|███████   | 7/10 [04:32<01:56, 38.98s/it]"
     ]
    },
    {
     "name": "stdout",
     "output_type": "stream",
     "text": [
      "=================================\n",
      "Initial portfolio value:100000\n",
      "Final portfolio value: 1188850.0\n",
      "Final accumulative portfolio value: 11.8885\n",
      "Maximum DrawDown: -0.27977068291445584\n",
      "Sharpe ratio: 1.3925402895379573\n",
      "=================================\n"
     ]
    },
    {
     "name": "stderr",
     "output_type": "stream",
     "text": [
      " 80%|████████  | 8/10 [05:11<01:17, 38.98s/it]"
     ]
    },
    {
     "name": "stdout",
     "output_type": "stream",
     "text": [
      "=================================\n",
      "Initial portfolio value:100000\n",
      "Final portfolio value: 1283245.5\n",
      "Final accumulative portfolio value: 12.832455\n",
      "Maximum DrawDown: -0.2814289534520278\n",
      "Sharpe ratio: 1.4377778007075084\n",
      "=================================\n"
     ]
    },
    {
     "name": "stderr",
     "output_type": "stream",
     "text": [
      " 90%|█████████ | 9/10 [05:49<00:38, 38.87s/it]"
     ]
    },
    {
     "name": "stdout",
     "output_type": "stream",
     "text": [
      "=================================\n",
      "Initial portfolio value:100000\n",
      "Final portfolio value: 1181495.125\n",
      "Final accumulative portfolio value: 11.81495125\n",
      "Maximum DrawDown: -0.2804033391752042\n",
      "Sharpe ratio: 1.4049972633110577\n",
      "=================================\n"
     ]
    },
    {
     "name": "stderr",
     "output_type": "stream",
     "text": [
      "100%|██████████| 10/10 [06:28<00:00, 38.84s/it]\n",
      "C:\\Users\\xutia\\AppData\\Local\\Temp\\ipykernel_17836\\976523745.py:42: FutureWarning: You are using `torch.load` with `weights_only=False` (the current default value), which uses the default pickle module implicitly. It is possible to construct malicious pickle data which will execute arbitrary code during unpickling (See https://github.com/pytorch/pytorch/blob/main/SECURITY.md#untrusted-models for more details). In a future release, the default value for `weights_only` will be flipped to `True`. This limits the functions that could be executed during unpickling. Arbitrary objects will no longer be allowed to be loaded via this mode unless they are explicitly allowlisted by the user via `torch.serialization.add_safe_globals`. We recommend you start setting `weights_only=True` for any use case where you don't have full control of the loaded file. Please open an issue on GitHub for any issues related to this experimental feature.\n",
      "  EIIE_policy.load_state_dict(torch.load(model_filename))\n"
     ]
    },
    {
     "name": "stdout",
     "output_type": "stream",
     "text": [
      "=================================\n",
      "Initial portfolio value:100000\n",
      "Final portfolio value: 876753.3125\n",
      "Final accumulative portfolio value: 8.767533125\n",
      "Maximum DrawDown: -0.31430166545570437\n",
      "Sharpe ratio: 1.3103082549783052\n",
      "=================================\n",
      "=================================\n",
      "Initial portfolio value:100000\n",
      "Final portfolio value: 128768.7890625\n",
      "Final accumulative portfolio value: 1.287687890625\n",
      "Maximum DrawDown: -0.1291565774387896\n",
      "Sharpe ratio: 1.313227021993492\n",
      "=================================\n"
     ]
    },
    {
     "name": "stderr",
     "output_type": "stream",
     "text": [
      "  0%|          | 0/10 [00:00<?, ?it/s]"
     ]
    },
    {
     "name": "stdout",
     "output_type": "stream",
     "text": [
      "=================================\n",
      "Initial portfolio value:100000\n",
      "Final portfolio value: 285724.0\n",
      "Final accumulative portfolio value: 2.85724\n",
      "Maximum DrawDown: -0.32707598232624213\n",
      "Sharpe ratio: 0.844482140247632\n",
      "=================================\n"
     ]
    },
    {
     "name": "stderr",
     "output_type": "stream",
     "text": [
      " 10%|█         | 1/10 [00:39<05:51, 39.00s/it]"
     ]
    },
    {
     "name": "stdout",
     "output_type": "stream",
     "text": [
      "=================================\n",
      "Initial portfolio value:100000\n",
      "Final portfolio value: 538974.4375\n",
      "Final accumulative portfolio value: 5.389744375\n",
      "Maximum DrawDown: -0.3111835166196141\n",
      "Sharpe ratio: 1.0979326480081295\n",
      "=================================\n"
     ]
    },
    {
     "name": "stderr",
     "output_type": "stream",
     "text": [
      " 20%|██        | 2/10 [01:18<05:12, 39.02s/it]"
     ]
    },
    {
     "name": "stdout",
     "output_type": "stream",
     "text": [
      "=================================\n",
      "Initial portfolio value:100000\n",
      "Final portfolio value: 669569.125\n",
      "Final accumulative portfolio value: 6.69569125\n",
      "Maximum DrawDown: -0.29265322906277214\n",
      "Sharpe ratio: 1.208469513930588\n",
      "=================================\n"
     ]
    },
    {
     "name": "stderr",
     "output_type": "stream",
     "text": [
      " 30%|███       | 3/10 [01:59<04:42, 40.29s/it]"
     ]
    },
    {
     "name": "stdout",
     "output_type": "stream",
     "text": [
      "=================================\n",
      "Initial portfolio value:100000\n",
      "Final portfolio value: 732468.5\n",
      "Final accumulative portfolio value: 7.324685\n",
      "Maximum DrawDown: -0.28094732017667723\n",
      "Sharpe ratio: 1.2540859469292374\n",
      "=================================\n"
     ]
    },
    {
     "name": "stderr",
     "output_type": "stream",
     "text": [
      " 40%|████      | 4/10 [02:38<03:58, 39.77s/it]"
     ]
    },
    {
     "name": "stdout",
     "output_type": "stream",
     "text": [
      "=================================\n",
      "Initial portfolio value:100000\n",
      "Final portfolio value: 727410.5625\n",
      "Final accumulative portfolio value: 7.274105625\n",
      "Maximum DrawDown: -0.2803912007282031\n",
      "Sharpe ratio: 1.225036317766745\n",
      "=================================\n"
     ]
    },
    {
     "name": "stderr",
     "output_type": "stream",
     "text": [
      " 50%|█████     | 5/10 [03:17<03:16, 39.34s/it]"
     ]
    },
    {
     "name": "stdout",
     "output_type": "stream",
     "text": [
      "=================================\n",
      "Initial portfolio value:100000\n",
      "Final portfolio value: 766039.875\n",
      "Final accumulative portfolio value: 7.66039875\n",
      "Maximum DrawDown: -0.2795503195506511\n",
      "Sharpe ratio: 1.2528722448771925\n",
      "=================================\n"
     ]
    },
    {
     "name": "stderr",
     "output_type": "stream",
     "text": [
      " 60%|██████    | 6/10 [03:56<02:36, 39.22s/it]"
     ]
    },
    {
     "name": "stdout",
     "output_type": "stream",
     "text": [
      "=================================\n",
      "Initial portfolio value:100000\n",
      "Final portfolio value: 686144.8125\n",
      "Final accumulative portfolio value: 6.861448125\n",
      "Maximum DrawDown: -0.3857929488318418\n",
      "Sharpe ratio: 1.144204943151731\n",
      "=================================\n"
     ]
    },
    {
     "name": "stderr",
     "output_type": "stream",
     "text": [
      " 70%|███████   | 7/10 [04:35<01:57, 39.05s/it]"
     ]
    },
    {
     "name": "stdout",
     "output_type": "stream",
     "text": [
      "=================================\n",
      "Initial portfolio value:100000\n",
      "Final portfolio value: 835844.0\n",
      "Final accumulative portfolio value: 8.35844\n",
      "Maximum DrawDown: -0.2803958220707481\n",
      "Sharpe ratio: 1.3251050990632864\n",
      "=================================\n"
     ]
    },
    {
     "name": "stderr",
     "output_type": "stream",
     "text": [
      " 80%|████████  | 8/10 [05:14<01:18, 39.04s/it]"
     ]
    },
    {
     "name": "stdout",
     "output_type": "stream",
     "text": [
      "=================================\n",
      "Initial portfolio value:100000\n",
      "Final portfolio value: 888922.5\n",
      "Final accumulative portfolio value: 8.889225\n",
      "Maximum DrawDown: -0.2804207826633306\n",
      "Sharpe ratio: 1.378571901582915\n",
      "=================================\n"
     ]
    },
    {
     "name": "stderr",
     "output_type": "stream",
     "text": [
      " 90%|█████████ | 9/10 [05:53<00:39, 39.03s/it]"
     ]
    },
    {
     "name": "stdout",
     "output_type": "stream",
     "text": [
      "=================================\n",
      "Initial portfolio value:100000\n",
      "Final portfolio value: 408909.6875\n",
      "Final accumulative portfolio value: 4.089096875\n",
      "Maximum DrawDown: -0.4534281932558467\n",
      "Sharpe ratio: 0.87571242085294\n",
      "=================================\n"
     ]
    },
    {
     "name": "stderr",
     "output_type": "stream",
     "text": [
      "100%|██████████| 10/10 [06:32<00:00, 39.21s/it]\n",
      "C:\\Users\\xutia\\AppData\\Local\\Temp\\ipykernel_17836\\976523745.py:42: FutureWarning: You are using `torch.load` with `weights_only=False` (the current default value), which uses the default pickle module implicitly. It is possible to construct malicious pickle data which will execute arbitrary code during unpickling (See https://github.com/pytorch/pytorch/blob/main/SECURITY.md#untrusted-models for more details). In a future release, the default value for `weights_only` will be flipped to `True`. This limits the functions that could be executed during unpickling. Arbitrary objects will no longer be allowed to be loaded via this mode unless they are explicitly allowlisted by the user via `torch.serialization.add_safe_globals`. We recommend you start setting `weights_only=True` for any use case where you don't have full control of the loaded file. Please open an issue on GitHub for any issues related to this experimental feature.\n",
      "  EIIE_policy.load_state_dict(torch.load(model_filename))\n"
     ]
    },
    {
     "name": "stdout",
     "output_type": "stream",
     "text": [
      "=================================\n",
      "Initial portfolio value:100000\n",
      "Final portfolio value: 587928.6875\n",
      "Final accumulative portfolio value: 5.879286875\n",
      "Maximum DrawDown: -0.2984685667303416\n",
      "Sharpe ratio: 1.087155027511376\n",
      "=================================\n",
      "=================================\n",
      "Initial portfolio value:100000\n",
      "Final portfolio value: 118728.7734375\n",
      "Final accumulative portfolio value: 1.187287734375\n",
      "Maximum DrawDown: -0.17230064141147372\n",
      "Sharpe ratio: 0.8666927743675672\n",
      "=================================\n"
     ]
    },
    {
     "name": "stderr",
     "output_type": "stream",
     "text": [
      "  0%|          | 0/10 [00:00<?, ?it/s]"
     ]
    },
    {
     "name": "stdout",
     "output_type": "stream",
     "text": [
      "=================================\n",
      "Initial portfolio value:100000\n",
      "Final portfolio value: 257943.78125\n",
      "Final accumulative portfolio value: 2.5794378125\n",
      "Maximum DrawDown: -0.32079216806413724\n",
      "Sharpe ratio: 0.8370258078860484\n",
      "=================================\n"
     ]
    },
    {
     "name": "stderr",
     "output_type": "stream",
     "text": [
      " 10%|█         | 1/10 [00:39<05:51, 39.02s/it]"
     ]
    },
    {
     "name": "stdout",
     "output_type": "stream",
     "text": [
      "=================================\n",
      "Initial portfolio value:100000\n",
      "Final portfolio value: 443403.28125\n",
      "Final accumulative portfolio value: 4.4340328125\n",
      "Maximum DrawDown: -0.30297689813456197\n",
      "Sharpe ratio: 1.092557675741228\n",
      "=================================\n"
     ]
    },
    {
     "name": "stderr",
     "output_type": "stream",
     "text": [
      " 20%|██        | 2/10 [01:17<05:09, 38.75s/it]"
     ]
    },
    {
     "name": "stdout",
     "output_type": "stream",
     "text": [
      "=================================\n",
      "Initial portfolio value:100000\n",
      "Final portfolio value: 619892.1875\n",
      "Final accumulative portfolio value: 6.198921875\n",
      "Maximum DrawDown: -0.29321653275742887\n",
      "Sharpe ratio: 1.169336251679342\n",
      "=================================\n"
     ]
    },
    {
     "name": "stderr",
     "output_type": "stream",
     "text": [
      " 30%|███       | 3/10 [01:56<04:31, 38.77s/it]"
     ]
    },
    {
     "name": "stdout",
     "output_type": "stream",
     "text": [
      "=================================\n",
      "Initial portfolio value:100000\n",
      "Final portfolio value: 870477.125\n",
      "Final accumulative portfolio value: 8.70477125\n",
      "Maximum DrawDown: -0.28025904833367\n",
      "Sharpe ratio: 1.3515629454704092\n",
      "=================================\n"
     ]
    },
    {
     "name": "stderr",
     "output_type": "stream",
     "text": [
      " 40%|████      | 4/10 [02:35<03:53, 38.86s/it]"
     ]
    },
    {
     "name": "stdout",
     "output_type": "stream",
     "text": [
      "=================================\n",
      "Initial portfolio value:100000\n",
      "Final portfolio value: 1057711.875\n",
      "Final accumulative portfolio value: 10.57711875\n",
      "Maximum DrawDown: -0.31602688877717844\n",
      "Sharpe ratio: 1.4268462946597242\n",
      "=================================\n"
     ]
    },
    {
     "name": "stderr",
     "output_type": "stream",
     "text": [
      " 50%|█████     | 5/10 [03:14<03:14, 38.86s/it]"
     ]
    },
    {
     "name": "stdout",
     "output_type": "stream",
     "text": [
      "=================================\n",
      "Initial portfolio value:100000\n",
      "Final portfolio value: 1193386.5\n",
      "Final accumulative portfolio value: 11.933865\n",
      "Maximum DrawDown: -0.28039349281088555\n",
      "Sharpe ratio: 1.515348871834124\n",
      "=================================\n"
     ]
    },
    {
     "name": "stderr",
     "output_type": "stream",
     "text": [
      " 60%|██████    | 6/10 [03:53<02:35, 38.92s/it]"
     ]
    },
    {
     "name": "stdout",
     "output_type": "stream",
     "text": [
      "=================================\n",
      "Initial portfolio value:100000\n",
      "Final portfolio value: 1270513.375\n",
      "Final accumulative portfolio value: 12.70513375\n",
      "Maximum DrawDown: -0.2804745459660314\n",
      "Sharpe ratio: 1.5078439993565722\n",
      "=================================\n"
     ]
    },
    {
     "name": "stderr",
     "output_type": "stream",
     "text": [
      " 70%|███████   | 7/10 [04:31<01:56, 38.76s/it]"
     ]
    },
    {
     "name": "stdout",
     "output_type": "stream",
     "text": [
      "=================================\n",
      "Initial portfolio value:100000\n",
      "Final portfolio value: 1266308.375\n",
      "Final accumulative portfolio value: 12.66308375\n",
      "Maximum DrawDown: -0.2803928727327434\n",
      "Sharpe ratio: 1.5368112139184271\n",
      "=================================\n"
     ]
    },
    {
     "name": "stderr",
     "output_type": "stream",
     "text": [
      " 80%|████████  | 8/10 [05:10<01:17, 38.75s/it]"
     ]
    },
    {
     "name": "stdout",
     "output_type": "stream",
     "text": [
      "=================================\n",
      "Initial portfolio value:100000\n",
      "Final portfolio value: 1316140.75\n",
      "Final accumulative portfolio value: 13.1614075\n",
      "Maximum DrawDown: -0.28042032688839347\n",
      "Sharpe ratio: 1.5577235468738624\n",
      "=================================\n"
     ]
    },
    {
     "name": "stderr",
     "output_type": "stream",
     "text": [
      " 90%|█████████ | 9/10 [05:49<00:38, 38.82s/it]"
     ]
    },
    {
     "name": "stdout",
     "output_type": "stream",
     "text": [
      "=================================\n",
      "Initial portfolio value:100000\n",
      "Final portfolio value: 1154348.375\n",
      "Final accumulative portfolio value: 11.54348375\n",
      "Maximum DrawDown: -0.2803927962162308\n",
      "Sharpe ratio: 1.4956361664433866\n",
      "=================================\n"
     ]
    },
    {
     "name": "stderr",
     "output_type": "stream",
     "text": [
      "100%|██████████| 10/10 [06:28<00:00, 38.82s/it]\n",
      "C:\\Users\\xutia\\AppData\\Local\\Temp\\ipykernel_17836\\976523745.py:42: FutureWarning: You are using `torch.load` with `weights_only=False` (the current default value), which uses the default pickle module implicitly. It is possible to construct malicious pickle data which will execute arbitrary code during unpickling (See https://github.com/pytorch/pytorch/blob/main/SECURITY.md#untrusted-models for more details). In a future release, the default value for `weights_only` will be flipped to `True`. This limits the functions that could be executed during unpickling. Arbitrary objects will no longer be allowed to be loaded via this mode unless they are explicitly allowlisted by the user via `torch.serialization.add_safe_globals`. We recommend you start setting `weights_only=True` for any use case where you don't have full control of the loaded file. Please open an issue on GitHub for any issues related to this experimental feature.\n",
      "  EIIE_policy.load_state_dict(torch.load(model_filename))\n"
     ]
    },
    {
     "name": "stdout",
     "output_type": "stream",
     "text": [
      "=================================\n",
      "Initial portfolio value:100000\n",
      "Final portfolio value: 607261.5\n",
      "Final accumulative portfolio value: 6.072615\n",
      "Maximum DrawDown: -0.37885169325112944\n",
      "Sharpe ratio: 1.1065137860048844\n",
      "=================================\n",
      "=================================\n",
      "Initial portfolio value:100000\n",
      "Final portfolio value: 126840.5078125\n",
      "Final accumulative portfolio value: 1.268405078125\n",
      "Maximum DrawDown: -0.12012896596666289\n",
      "Sharpe ratio: 1.1994440440676513\n",
      "=================================\n"
     ]
    },
    {
     "name": "stderr",
     "output_type": "stream",
     "text": [
      "  0%|          | 0/10 [00:00<?, ?it/s]"
     ]
    },
    {
     "name": "stdout",
     "output_type": "stream",
     "text": [
      "=================================\n",
      "Initial portfolio value:100000\n",
      "Final portfolio value: 280446.75\n",
      "Final accumulative portfolio value: 2.8044675\n",
      "Maximum DrawDown: -0.35090426942621256\n",
      "Sharpe ratio: 0.7531884881865825\n",
      "=================================\n"
     ]
    },
    {
     "name": "stderr",
     "output_type": "stream",
     "text": [
      " 10%|█         | 1/10 [00:39<05:52, 39.21s/it]"
     ]
    },
    {
     "name": "stdout",
     "output_type": "stream",
     "text": [
      "=================================\n",
      "Initial portfolio value:100000\n",
      "Final portfolio value: 665020.1875\n",
      "Final accumulative portfolio value: 6.650201875\n",
      "Maximum DrawDown: -0.31209556357157786\n",
      "Sharpe ratio: 1.2127588792645616\n",
      "=================================\n"
     ]
    },
    {
     "name": "stderr",
     "output_type": "stream",
     "text": [
      " 20%|██        | 2/10 [01:18<05:12, 39.09s/it]"
     ]
    },
    {
     "name": "stdout",
     "output_type": "stream",
     "text": [
      "=================================\n",
      "Initial portfolio value:100000\n",
      "Final portfolio value: 753498.875\n",
      "Final accumulative portfolio value: 7.53498875\n",
      "Maximum DrawDown: -0.31412785495727136\n",
      "Sharpe ratio: 1.2450290683950473\n",
      "=================================\n"
     ]
    },
    {
     "name": "stderr",
     "output_type": "stream",
     "text": [
      " 30%|███       | 3/10 [01:57<04:32, 39.00s/it]"
     ]
    },
    {
     "name": "stdout",
     "output_type": "stream",
     "text": [
      "=================================\n",
      "Initial portfolio value:100000\n",
      "Final portfolio value: 461336.625\n",
      "Final accumulative portfolio value: 4.61336625\n",
      "Maximum DrawDown: -0.30923214475541105\n",
      "Sharpe ratio: 0.9980213825588291\n",
      "=================================\n"
     ]
    },
    {
     "name": "stderr",
     "output_type": "stream",
     "text": [
      " 40%|████      | 4/10 [02:36<03:53, 39.00s/it]"
     ]
    },
    {
     "name": "stdout",
     "output_type": "stream",
     "text": [
      "=================================\n",
      "Initial portfolio value:100000\n",
      "Final portfolio value: 1004813.6875\n",
      "Final accumulative portfolio value: 10.048136875\n",
      "Maximum DrawDown: -0.3644727284461392\n",
      "Sharpe ratio: 1.3660586968721988\n",
      "=================================\n"
     ]
    },
    {
     "name": "stderr",
     "output_type": "stream",
     "text": [
      " 50%|█████     | 5/10 [03:14<03:14, 38.94s/it]"
     ]
    },
    {
     "name": "stdout",
     "output_type": "stream",
     "text": [
      "=================================\n",
      "Initial portfolio value:100000\n",
      "Final portfolio value: 1258947.375\n",
      "Final accumulative portfolio value: 12.58947375\n",
      "Maximum DrawDown: -0.31427283696943686\n",
      "Sharpe ratio: 1.4583179329829314\n",
      "=================================\n"
     ]
    },
    {
     "name": "stderr",
     "output_type": "stream",
     "text": [
      " 60%|██████    | 6/10 [03:54<02:36, 39.01s/it]"
     ]
    },
    {
     "name": "stdout",
     "output_type": "stream",
     "text": [
      "=================================\n",
      "Initial portfolio value:100000\n",
      "Final portfolio value: 1151589.75\n",
      "Final accumulative portfolio value: 11.5158975\n",
      "Maximum DrawDown: -0.3142728893555281\n",
      "Sharpe ratio: 1.4025324882983472\n",
      "=================================\n"
     ]
    },
    {
     "name": "stderr",
     "output_type": "stream",
     "text": [
      " 70%|███████   | 7/10 [04:33<01:56, 38.99s/it]"
     ]
    },
    {
     "name": "stdout",
     "output_type": "stream",
     "text": [
      "=================================\n",
      "Initial portfolio value:100000\n",
      "Final portfolio value: 589905.5625\n",
      "Final accumulative portfolio value: 5.899055625\n",
      "Maximum DrawDown: -0.30438719799714964\n",
      "Sharpe ratio: 1.0704344100836136\n",
      "=================================\n"
     ]
    },
    {
     "name": "stderr",
     "output_type": "stream",
     "text": [
      " 80%|████████  | 8/10 [05:11<01:17, 38.92s/it]"
     ]
    },
    {
     "name": "stdout",
     "output_type": "stream",
     "text": [
      "=================================\n",
      "Initial portfolio value:100000\n",
      "Final portfolio value: 578948.6875\n",
      "Final accumulative portfolio value: 5.789486875\n",
      "Maximum DrawDown: -0.3093411668650654\n",
      "Sharpe ratio: 1.0929151783889361\n",
      "=================================\n"
     ]
    },
    {
     "name": "stderr",
     "output_type": "stream",
     "text": [
      " 90%|█████████ | 9/10 [05:50<00:38, 38.85s/it]"
     ]
    },
    {
     "name": "stdout",
     "output_type": "stream",
     "text": [
      "=================================\n",
      "Initial portfolio value:100000\n",
      "Final portfolio value: 654985.75\n",
      "Final accumulative portfolio value: 6.5498575\n",
      "Maximum DrawDown: -0.31427196134598445\n",
      "Sharpe ratio: 1.1154850815714359\n",
      "=================================\n"
     ]
    },
    {
     "name": "stderr",
     "output_type": "stream",
     "text": [
      "100%|██████████| 10/10 [06:29<00:00, 38.93s/it]\n",
      "C:\\Users\\xutia\\AppData\\Local\\Temp\\ipykernel_17836\\976523745.py:42: FutureWarning: You are using `torch.load` with `weights_only=False` (the current default value), which uses the default pickle module implicitly. It is possible to construct malicious pickle data which will execute arbitrary code during unpickling (See https://github.com/pytorch/pytorch/blob/main/SECURITY.md#untrusted-models for more details). In a future release, the default value for `weights_only` will be flipped to `True`. This limits the functions that could be executed during unpickling. Arbitrary objects will no longer be allowed to be loaded via this mode unless they are explicitly allowlisted by the user via `torch.serialization.add_safe_globals`. We recommend you start setting `weights_only=True` for any use case where you don't have full control of the loaded file. Please open an issue on GitHub for any issues related to this experimental feature.\n",
      "  EIIE_policy.load_state_dict(torch.load(model_filename))\n"
     ]
    },
    {
     "name": "stdout",
     "output_type": "stream",
     "text": [
      "=================================\n",
      "Initial portfolio value:100000\n",
      "Final portfolio value: 661487.9375\n",
      "Final accumulative portfolio value: 6.614879375\n",
      "Maximum DrawDown: -0.3851589009020535\n",
      "Sharpe ratio: 1.1123622306947394\n",
      "=================================\n",
      "=================================\n",
      "Initial portfolio value:100000\n",
      "Final portfolio value: 149268.0\n",
      "Final accumulative portfolio value: 1.49268\n",
      "Maximum DrawDown: -0.11200464886470973\n",
      "Sharpe ratio: 2.0538989535875003\n",
      "=================================\n"
     ]
    },
    {
     "name": "stderr",
     "output_type": "stream",
     "text": [
      "  0%|          | 0/10 [00:00<?, ?it/s]"
     ]
    },
    {
     "name": "stdout",
     "output_type": "stream",
     "text": [
      "=================================\n",
      "Initial portfolio value:100000\n",
      "Final portfolio value: 307789.46875\n",
      "Final accumulative portfolio value: 3.0778946875\n",
      "Maximum DrawDown: -0.29710803148649345\n",
      "Sharpe ratio: 0.9061982646117386\n",
      "=================================\n"
     ]
    },
    {
     "name": "stderr",
     "output_type": "stream",
     "text": [
      " 10%|█         | 1/10 [00:39<05:51, 39.02s/it]"
     ]
    },
    {
     "name": "stdout",
     "output_type": "stream",
     "text": [
      "=================================\n",
      "Initial portfolio value:100000\n",
      "Final portfolio value: 572656.0\n",
      "Final accumulative portfolio value: 5.72656\n",
      "Maximum DrawDown: -0.2803737506470596\n",
      "Sharpe ratio: 1.1607151113701983\n",
      "=================================\n"
     ]
    },
    {
     "name": "stderr",
     "output_type": "stream",
     "text": [
      " 20%|██        | 2/10 [01:17<05:11, 38.91s/it]"
     ]
    },
    {
     "name": "stdout",
     "output_type": "stream",
     "text": [
      "=================================\n",
      "Initial portfolio value:100000\n",
      "Final portfolio value: 693641.0625\n",
      "Final accumulative portfolio value: 6.936410625\n",
      "Maximum DrawDown: -0.2803920033042424\n",
      "Sharpe ratio: 1.258394404937475\n",
      "=================================\n"
     ]
    },
    {
     "name": "stderr",
     "output_type": "stream",
     "text": [
      " 30%|███       | 3/10 [01:57<04:33, 39.02s/it]"
     ]
    },
    {
     "name": "stdout",
     "output_type": "stream",
     "text": [
      "=================================\n",
      "Initial portfolio value:100000\n",
      "Final portfolio value: 874853.625\n",
      "Final accumulative portfolio value: 8.74853625\n",
      "Maximum DrawDown: -0.2803933513258282\n",
      "Sharpe ratio: 1.382159053470188\n",
      "=================================\n"
     ]
    },
    {
     "name": "stderr",
     "output_type": "stream",
     "text": [
      " 40%|████      | 4/10 [02:35<03:53, 38.99s/it]"
     ]
    },
    {
     "name": "stdout",
     "output_type": "stream",
     "text": [
      "=================================\n",
      "Initial portfolio value:100000\n",
      "Final portfolio value: 737877.4375\n",
      "Final accumulative portfolio value: 7.378774375\n",
      "Maximum DrawDown: -0.2803930275779346\n",
      "Sharpe ratio: 1.278113890608396\n",
      "=================================\n"
     ]
    },
    {
     "name": "stderr",
     "output_type": "stream",
     "text": [
      " 50%|█████     | 5/10 [03:15<03:15, 39.08s/it]"
     ]
    },
    {
     "name": "stdout",
     "output_type": "stream",
     "text": [
      "=================================\n",
      "Initial portfolio value:100000\n",
      "Final portfolio value: 839070.0\n",
      "Final accumulative portfolio value: 8.3907\n",
      "Maximum DrawDown: -0.2803929822281065\n",
      "Sharpe ratio: 1.3140194473707663\n",
      "=================================\n"
     ]
    },
    {
     "name": "stderr",
     "output_type": "stream",
     "text": [
      " 60%|██████    | 6/10 [03:54<02:36, 39.12s/it]"
     ]
    },
    {
     "name": "stdout",
     "output_type": "stream",
     "text": [
      "=================================\n",
      "Initial portfolio value:100000\n",
      "Final portfolio value: 509278.65625\n",
      "Final accumulative portfolio value: 5.0927865625\n",
      "Maximum DrawDown: -0.44741579614177884\n",
      "Sharpe ratio: 0.9770471215196764\n",
      "=================================\n"
     ]
    },
    {
     "name": "stderr",
     "output_type": "stream",
     "text": [
      " 70%|███████   | 7/10 [04:33<01:57, 39.13s/it]"
     ]
    },
    {
     "name": "stdout",
     "output_type": "stream",
     "text": [
      "=================================\n",
      "Initial portfolio value:100000\n",
      "Final portfolio value: 700760.875\n",
      "Final accumulative portfolio value: 7.00760875\n",
      "Maximum DrawDown: -0.2797620789834181\n",
      "Sharpe ratio: 1.19021388716124\n",
      "=================================\n"
     ]
    },
    {
     "name": "stderr",
     "output_type": "stream",
     "text": [
      " 80%|████████  | 8/10 [05:12<01:18, 39.06s/it]"
     ]
    },
    {
     "name": "stdout",
     "output_type": "stream",
     "text": [
      "=================================\n",
      "Initial portfolio value:100000\n",
      "Final portfolio value: 811014.8125\n",
      "Final accumulative portfolio value: 8.110148125\n",
      "Maximum DrawDown: -0.27817952879667296\n",
      "Sharpe ratio: 1.248063211578767\n",
      "=================================\n"
     ]
    },
    {
     "name": "stderr",
     "output_type": "stream",
     "text": [
      " 90%|█████████ | 9/10 [05:51<00:39, 39.05s/it]"
     ]
    },
    {
     "name": "stdout",
     "output_type": "stream",
     "text": [
      "=================================\n",
      "Initial portfolio value:100000\n",
      "Final portfolio value: 666929.5\n",
      "Final accumulative portfolio value: 6.669295\n",
      "Maximum DrawDown: -0.38733411730524325\n",
      "Sharpe ratio: 1.1308125087090863\n",
      "=================================\n"
     ]
    },
    {
     "name": "stderr",
     "output_type": "stream",
     "text": [
      "100%|██████████| 10/10 [06:30<00:00, 39.06s/it]\n",
      "C:\\Users\\xutia\\AppData\\Local\\Temp\\ipykernel_17836\\976523745.py:42: FutureWarning: You are using `torch.load` with `weights_only=False` (the current default value), which uses the default pickle module implicitly. It is possible to construct malicious pickle data which will execute arbitrary code during unpickling (See https://github.com/pytorch/pytorch/blob/main/SECURITY.md#untrusted-models for more details). In a future release, the default value for `weights_only` will be flipped to `True`. This limits the functions that could be executed during unpickling. Arbitrary objects will no longer be allowed to be loaded via this mode unless they are explicitly allowlisted by the user via `torch.serialization.add_safe_globals`. We recommend you start setting `weights_only=True` for any use case where you don't have full control of the loaded file. Please open an issue on GitHub for any issues related to this experimental feature.\n",
      "  EIIE_policy.load_state_dict(torch.load(model_filename))\n"
     ]
    },
    {
     "name": "stdout",
     "output_type": "stream",
     "text": [
      "=================================\n",
      "Initial portfolio value:100000\n",
      "Final portfolio value: 463547.59375\n",
      "Final accumulative portfolio value: 4.6354759375\n",
      "Maximum DrawDown: -0.30607312107665774\n",
      "Sharpe ratio: 0.9813749542401208\n",
      "=================================\n",
      "=================================\n",
      "Initial portfolio value:100000\n",
      "Final portfolio value: 119308.4375\n",
      "Final accumulative portfolio value: 1.193084375\n",
      "Maximum DrawDown: -0.12624945918886687\n",
      "Sharpe ratio: 0.9408111378671402\n",
      "=================================\n"
     ]
    },
    {
     "name": "stderr",
     "output_type": "stream",
     "text": [
      "  0%|          | 0/10 [00:00<?, ?it/s]"
     ]
    },
    {
     "name": "stdout",
     "output_type": "stream",
     "text": [
      "=================================\n",
      "Initial portfolio value:100000\n",
      "Final portfolio value: 268129.3125\n",
      "Final accumulative portfolio value: 2.681293125\n",
      "Maximum DrawDown: -0.28258851940172913\n",
      "Sharpe ratio: 0.8409787328882028\n",
      "=================================\n"
     ]
    },
    {
     "name": "stderr",
     "output_type": "stream",
     "text": [
      " 10%|█         | 1/10 [00:39<05:52, 39.12s/it]"
     ]
    },
    {
     "name": "stdout",
     "output_type": "stream",
     "text": [
      "=================================\n",
      "Initial portfolio value:100000\n",
      "Final portfolio value: 572844.75\n",
      "Final accumulative portfolio value: 5.7284475\n",
      "Maximum DrawDown: -0.28037744466417813\n",
      "Sharpe ratio: 1.1642354821757743\n",
      "=================================\n"
     ]
    },
    {
     "name": "stderr",
     "output_type": "stream",
     "text": [
      " 20%|██        | 2/10 [01:18<05:12, 39.04s/it]"
     ]
    },
    {
     "name": "stdout",
     "output_type": "stream",
     "text": [
      "=================================\n",
      "Initial portfolio value:100000\n",
      "Final portfolio value: 873057.9375\n",
      "Final accumulative portfolio value: 8.730579375\n",
      "Maximum DrawDown: -0.35868781331940347\n",
      "Sharpe ratio: 1.2806465774545819\n",
      "=================================\n"
     ]
    },
    {
     "name": "stderr",
     "output_type": "stream",
     "text": [
      " 30%|███       | 3/10 [01:57<04:33, 39.07s/it]"
     ]
    },
    {
     "name": "stdout",
     "output_type": "stream",
     "text": [
      "=================================\n",
      "Initial portfolio value:100000\n",
      "Final portfolio value: 1065728.5\n",
      "Final accumulative portfolio value: 10.657285\n",
      "Maximum DrawDown: -0.28039299486993463\n",
      "Sharpe ratio: 1.4360314106386924\n",
      "=================================\n"
     ]
    },
    {
     "name": "stderr",
     "output_type": "stream",
     "text": [
      " 40%|████      | 4/10 [02:36<03:54, 39.03s/it]"
     ]
    },
    {
     "name": "stdout",
     "output_type": "stream",
     "text": [
      "=================================\n",
      "Initial portfolio value:100000\n",
      "Final portfolio value: 750619.3125\n",
      "Final accumulative portfolio value: 7.506193125\n",
      "Maximum DrawDown: -0.44002279369311703\n",
      "Sharpe ratio: 1.1801896406851102\n",
      "=================================\n"
     ]
    },
    {
     "name": "stderr",
     "output_type": "stream",
     "text": [
      " 50%|█████     | 5/10 [03:15<03:15, 39.13s/it]"
     ]
    },
    {
     "name": "stdout",
     "output_type": "stream",
     "text": [
      "=================================\n",
      "Initial portfolio value:100000\n",
      "Final portfolio value: 1368479.0\n",
      "Final accumulative portfolio value: 13.68479\n",
      "Maximum DrawDown: -0.3094202370952195\n",
      "Sharpe ratio: 1.5289439615050624\n",
      "=================================\n"
     ]
    },
    {
     "name": "stderr",
     "output_type": "stream",
     "text": [
      " 60%|██████    | 6/10 [03:54<02:36, 39.09s/it]"
     ]
    },
    {
     "name": "stdout",
     "output_type": "stream",
     "text": [
      "=================================\n",
      "Initial portfolio value:100000\n",
      "Final portfolio value: 1483583.25\n",
      "Final accumulative portfolio value: 14.8358325\n",
      "Maximum DrawDown: -0.2803910756791894\n",
      "Sharpe ratio: 1.5761997511254682\n",
      "=================================\n"
     ]
    },
    {
     "name": "stderr",
     "output_type": "stream",
     "text": [
      " 70%|███████   | 7/10 [04:34<01:57, 39.25s/it]"
     ]
    },
    {
     "name": "stdout",
     "output_type": "stream",
     "text": [
      "=================================\n",
      "Initial portfolio value:100000\n",
      "Final portfolio value: 1205894.125\n",
      "Final accumulative portfolio value: 12.05894125\n",
      "Maximum DrawDown: -0.2803929672832015\n",
      "Sharpe ratio: 1.4868022434937023\n",
      "=================================\n"
     ]
    },
    {
     "name": "stderr",
     "output_type": "stream",
     "text": [
      " 80%|████████  | 8/10 [05:13<01:18, 39.35s/it]"
     ]
    },
    {
     "name": "stdout",
     "output_type": "stream",
     "text": [
      "=================================\n",
      "Initial portfolio value:100000\n",
      "Final portfolio value: 1357057.125\n",
      "Final accumulative portfolio value: 13.57057125\n",
      "Maximum DrawDown: -0.28039204193219414\n",
      "Sharpe ratio: 1.5314505334133104\n",
      "=================================\n"
     ]
    },
    {
     "name": "stderr",
     "output_type": "stream",
     "text": [
      " 90%|█████████ | 9/10 [05:52<00:39, 39.34s/it]"
     ]
    },
    {
     "name": "stdout",
     "output_type": "stream",
     "text": [
      "=================================\n",
      "Initial portfolio value:100000\n",
      "Final portfolio value: 1267194.5\n",
      "Final accumulative portfolio value: 12.671945\n",
      "Maximum DrawDown: -0.2803376545307792\n",
      "Sharpe ratio: 1.4941267371239053\n",
      "=================================\n"
     ]
    },
    {
     "name": "stderr",
     "output_type": "stream",
     "text": [
      "100%|██████████| 10/10 [06:31<00:00, 39.18s/it]\n",
      "C:\\Users\\xutia\\AppData\\Local\\Temp\\ipykernel_17836\\976523745.py:42: FutureWarning: You are using `torch.load` with `weights_only=False` (the current default value), which uses the default pickle module implicitly. It is possible to construct malicious pickle data which will execute arbitrary code during unpickling (See https://github.com/pytorch/pytorch/blob/main/SECURITY.md#untrusted-models for more details). In a future release, the default value for `weights_only` will be flipped to `True`. This limits the functions that could be executed during unpickling. Arbitrary objects will no longer be allowed to be loaded via this mode unless they are explicitly allowlisted by the user via `torch.serialization.add_safe_globals`. We recommend you start setting `weights_only=True` for any use case where you don't have full control of the loaded file. Please open an issue on GitHub for any issues related to this experimental feature.\n",
      "  EIIE_policy.load_state_dict(torch.load(model_filename))\n"
     ]
    },
    {
     "name": "stdout",
     "output_type": "stream",
     "text": [
      "=================================\n",
      "Initial portfolio value:100000\n",
      "Final portfolio value: 1149934.25\n",
      "Final accumulative portfolio value: 11.4993425\n",
      "Maximum DrawDown: -0.280393014236361\n",
      "Sharpe ratio: 1.432525689996343\n",
      "=================================\n",
      "=================================\n",
      "Initial portfolio value:100000\n",
      "Final portfolio value: 129533.640625\n",
      "Final accumulative portfolio value: 1.29533640625\n",
      "Maximum DrawDown: -0.11317096861514941\n",
      "Sharpe ratio: 1.3265763285535204\n",
      "=================================\n"
     ]
    },
    {
     "name": "stderr",
     "output_type": "stream",
     "text": [
      "  0%|          | 0/10 [00:00<?, ?it/s]"
     ]
    },
    {
     "name": "stdout",
     "output_type": "stream",
     "text": [
      "=================================\n",
      "Initial portfolio value:100000\n",
      "Final portfolio value: 226789.734375\n",
      "Final accumulative portfolio value: 2.26789734375\n",
      "Maximum DrawDown: -0.32410588088490433\n",
      "Sharpe ratio: 0.7796463030029205\n",
      "=================================\n"
     ]
    },
    {
     "name": "stderr",
     "output_type": "stream",
     "text": [
      " 10%|█         | 1/10 [00:38<05:45, 38.43s/it]"
     ]
    },
    {
     "name": "stdout",
     "output_type": "stream",
     "text": [
      "=================================\n",
      "Initial portfolio value:100000\n",
      "Final portfolio value: 227593.703125\n",
      "Final accumulative portfolio value: 2.27593703125\n",
      "Maximum DrawDown: -0.3274343142260423\n",
      "Sharpe ratio: 0.7786120499451389\n",
      "=================================\n"
     ]
    },
    {
     "name": "stderr",
     "output_type": "stream",
     "text": [
      " 20%|██        | 2/10 [01:17<05:10, 38.77s/it]"
     ]
    },
    {
     "name": "stdout",
     "output_type": "stream",
     "text": [
      "=================================\n",
      "Initial portfolio value:100000\n",
      "Final portfolio value: 230634.890625\n",
      "Final accumulative portfolio value: 2.30634890625\n",
      "Maximum DrawDown: -0.3299020576293198\n",
      "Sharpe ratio: 0.7806981992550821\n",
      "=================================\n"
     ]
    },
    {
     "name": "stderr",
     "output_type": "stream",
     "text": [
      " 30%|███       | 3/10 [01:56<04:31, 38.74s/it]"
     ]
    },
    {
     "name": "stdout",
     "output_type": "stream",
     "text": [
      "=================================\n",
      "Initial portfolio value:100000\n",
      "Final portfolio value: 231925.109375\n",
      "Final accumulative portfolio value: 2.31925109375\n",
      "Maximum DrawDown: -0.3319366055935197\n",
      "Sharpe ratio: 0.7809101010500419\n",
      "=================================\n"
     ]
    },
    {
     "name": "stderr",
     "output_type": "stream",
     "text": [
      " 40%|████      | 4/10 [02:34<03:52, 38.73s/it]"
     ]
    },
    {
     "name": "stdout",
     "output_type": "stream",
     "text": [
      "=================================\n",
      "Initial portfolio value:100000\n",
      "Final portfolio value: 233067.875\n",
      "Final accumulative portfolio value: 2.33067875\n",
      "Maximum DrawDown: -0.3337072562540927\n",
      "Sharpe ratio: 0.781179645964377\n",
      "=================================\n"
     ]
    },
    {
     "name": "stderr",
     "output_type": "stream",
     "text": [
      " 50%|█████     | 5/10 [03:13<03:14, 38.87s/it]"
     ]
    },
    {
     "name": "stdout",
     "output_type": "stream",
     "text": [
      "=================================\n",
      "Initial portfolio value:100000\n",
      "Final portfolio value: 232557.703125\n",
      "Final accumulative portfolio value: 2.32557703125\n",
      "Maximum DrawDown: -0.3352633697039895\n",
      "Sharpe ratio: 0.775491177084571\n",
      "=================================\n"
     ]
    },
    {
     "name": "stderr",
     "output_type": "stream",
     "text": [
      " 60%|██████    | 6/10 [03:52<02:35, 38.91s/it]"
     ]
    },
    {
     "name": "stdout",
     "output_type": "stream",
     "text": [
      "=================================\n",
      "Initial portfolio value:100000\n",
      "Final portfolio value: 234855.890625\n",
      "Final accumulative portfolio value: 2.34855890625\n",
      "Maximum DrawDown: -0.3366313551919524\n",
      "Sharpe ratio: 0.7812078981976859\n",
      "=================================\n"
     ]
    },
    {
     "name": "stderr",
     "output_type": "stream",
     "text": [
      " 70%|███████   | 7/10 [04:31<01:56, 38.83s/it]"
     ]
    },
    {
     "name": "stdout",
     "output_type": "stream",
     "text": [
      "=================================\n",
      "Initial portfolio value:100000\n",
      "Final portfolio value: 235554.484375\n",
      "Final accumulative portfolio value: 2.35554484375\n",
      "Maximum DrawDown: -0.3378472354487879\n",
      "Sharpe ratio: 0.7810530658372784\n",
      "=================================\n"
     ]
    },
    {
     "name": "stderr",
     "output_type": "stream",
     "text": [
      " 80%|████████  | 8/10 [05:10<01:17, 38.97s/it]"
     ]
    },
    {
     "name": "stdout",
     "output_type": "stream",
     "text": [
      "=================================\n",
      "Initial portfolio value:100000\n",
      "Final portfolio value: 236224.109375\n",
      "Final accumulative portfolio value: 2.36224109375\n",
      "Maximum DrawDown: -0.33892912992148516\n",
      "Sharpe ratio: 0.781084096473383\n",
      "=================================\n"
     ]
    },
    {
     "name": "stderr",
     "output_type": "stream",
     "text": [
      " 90%|█████████ | 9/10 [05:49<00:38, 38.96s/it]"
     ]
    },
    {
     "name": "stdout",
     "output_type": "stream",
     "text": [
      "=================================\n",
      "Initial portfolio value:100000\n",
      "Final portfolio value: 236830.703125\n",
      "Final accumulative portfolio value: 2.36830703125\n",
      "Maximum DrawDown: -0.3398977915573054\n",
      "Sharpe ratio: 0.781132838733405\n",
      "=================================\n"
     ]
    },
    {
     "name": "stderr",
     "output_type": "stream",
     "text": [
      "100%|██████████| 10/10 [06:28<00:00, 38.85s/it]\n",
      "C:\\Users\\xutia\\AppData\\Local\\Temp\\ipykernel_17836\\976523745.py:42: FutureWarning: You are using `torch.load` with `weights_only=False` (the current default value), which uses the default pickle module implicitly. It is possible to construct malicious pickle data which will execute arbitrary code during unpickling (See https://github.com/pytorch/pytorch/blob/main/SECURITY.md#untrusted-models for more details). In a future release, the default value for `weights_only` will be flipped to `True`. This limits the functions that could be executed during unpickling. Arbitrary objects will no longer be allowed to be loaded via this mode unless they are explicitly allowlisted by the user via `torch.serialization.add_safe_globals`. We recommend you start setting `weights_only=True` for any use case where you don't have full control of the loaded file. Please open an issue on GitHub for any issues related to this experimental feature.\n",
      "  EIIE_policy.load_state_dict(torch.load(model_filename))\n"
     ]
    },
    {
     "name": "stdout",
     "output_type": "stream",
     "text": [
      "=================================\n",
      "Initial portfolio value:100000\n",
      "Final portfolio value: 238027.109375\n",
      "Final accumulative portfolio value: 2.38027109375\n",
      "Maximum DrawDown: -0.34285913394974277\n",
      "Sharpe ratio: 0.7801014181035834\n",
      "=================================\n",
      "=================================\n",
      "Initial portfolio value:100000\n",
      "Final portfolio value: 130320.046875\n",
      "Final accumulative portfolio value: 1.30320046875\n",
      "Maximum DrawDown: -0.04288214740622853\n",
      "Sharpe ratio: 2.598723173539357\n",
      "=================================\n"
     ]
    },
    {
     "name": "stderr",
     "output_type": "stream",
     "text": [
      "  0%|          | 0/10 [00:00<?, ?it/s]"
     ]
    },
    {
     "name": "stdout",
     "output_type": "stream",
     "text": [
      "=================================\n",
      "Initial portfolio value:100000\n",
      "Final portfolio value: 231591.125\n",
      "Final accumulative portfolio value: 2.31591125\n",
      "Maximum DrawDown: -0.3268496149921143\n",
      "Sharpe ratio: 0.7781468171548012\n",
      "=================================\n"
     ]
    },
    {
     "name": "stderr",
     "output_type": "stream",
     "text": [
      " 10%|█         | 1/10 [00:39<05:53, 39.28s/it]"
     ]
    },
    {
     "name": "stdout",
     "output_type": "stream",
     "text": [
      "=================================\n",
      "Initial portfolio value:100000\n",
      "Final portfolio value: 315589.6875\n",
      "Final accumulative portfolio value: 3.155896875\n",
      "Maximum DrawDown: -0.30760491570366677\n",
      "Sharpe ratio: 0.9490343811090736\n",
      "=================================\n"
     ]
    },
    {
     "name": "stderr",
     "output_type": "stream",
     "text": [
      " 20%|██        | 2/10 [01:18<05:12, 39.05s/it]"
     ]
    },
    {
     "name": "stdout",
     "output_type": "stream",
     "text": [
      "=================================\n",
      "Initial portfolio value:100000\n",
      "Final portfolio value: 542542.4375\n",
      "Final accumulative portfolio value: 5.425424375\n",
      "Maximum DrawDown: -0.29253276763837666\n",
      "Sharpe ratio: 1.1353863697528097\n",
      "=================================\n"
     ]
    },
    {
     "name": "stderr",
     "output_type": "stream",
     "text": [
      " 30%|███       | 3/10 [01:57<04:32, 39.00s/it]"
     ]
    },
    {
     "name": "stdout",
     "output_type": "stream",
     "text": [
      "=================================\n",
      "Initial portfolio value:100000\n",
      "Final portfolio value: 595525.5\n",
      "Final accumulative portfolio value: 5.955255\n",
      "Maximum DrawDown: -0.3271414882654966\n",
      "Sharpe ratio: 1.1007851315124682\n",
      "=================================\n"
     ]
    },
    {
     "name": "stderr",
     "output_type": "stream",
     "text": [
      " 40%|████      | 4/10 [02:35<03:53, 38.92s/it]"
     ]
    },
    {
     "name": "stdout",
     "output_type": "stream",
     "text": [
      "=================================\n",
      "Initial portfolio value:100000\n",
      "Final portfolio value: 799087.125\n",
      "Final accumulative portfolio value: 7.99087125\n",
      "Maximum DrawDown: -0.28004920126686283\n",
      "Sharpe ratio: 1.2612047407301152\n",
      "=================================\n"
     ]
    },
    {
     "name": "stderr",
     "output_type": "stream",
     "text": [
      " 50%|█████     | 5/10 [03:14<03:14, 38.90s/it]"
     ]
    },
    {
     "name": "stdout",
     "output_type": "stream",
     "text": [
      "=================================\n",
      "Initial portfolio value:100000\n",
      "Final portfolio value: 808677.9375\n",
      "Final accumulative portfolio value: 8.086779375\n",
      "Maximum DrawDown: -0.2796687391341862\n",
      "Sharpe ratio: 1.2429287080850053\n",
      "=================================\n"
     ]
    },
    {
     "name": "stderr",
     "output_type": "stream",
     "text": [
      " 60%|██████    | 6/10 [03:53<02:35, 38.93s/it]"
     ]
    },
    {
     "name": "stdout",
     "output_type": "stream",
     "text": [
      "=================================\n",
      "Initial portfolio value:100000\n",
      "Final portfolio value: 997328.5\n",
      "Final accumulative portfolio value: 9.973285\n",
      "Maximum DrawDown: -0.2802226248360965\n",
      "Sharpe ratio: 1.3575153320775546\n",
      "=================================\n"
     ]
    },
    {
     "name": "stderr",
     "output_type": "stream",
     "text": [
      " 70%|███████   | 7/10 [04:32<01:56, 38.96s/it]"
     ]
    },
    {
     "name": "stdout",
     "output_type": "stream",
     "text": [
      "=================================\n",
      "Initial portfolio value:100000\n",
      "Final portfolio value: 942058.9375\n",
      "Final accumulative portfolio value: 9.420589375\n",
      "Maximum DrawDown: -0.3484963790544193\n",
      "Sharpe ratio: 1.3371718627162796\n",
      "=================================\n"
     ]
    },
    {
     "name": "stderr",
     "output_type": "stream",
     "text": [
      " 80%|████████  | 8/10 [05:11<01:17, 38.87s/it]"
     ]
    },
    {
     "name": "stdout",
     "output_type": "stream",
     "text": [
      "=================================\n",
      "Initial portfolio value:100000\n",
      "Final portfolio value: 1252662.0\n",
      "Final accumulative portfolio value: 12.52662\n",
      "Maximum DrawDown: -0.28035988833955894\n",
      "Sharpe ratio: 1.494887632891131\n",
      "=================================\n"
     ]
    },
    {
     "name": "stderr",
     "output_type": "stream",
     "text": [
      " 90%|█████████ | 9/10 [05:50<00:38, 38.88s/it]"
     ]
    },
    {
     "name": "stdout",
     "output_type": "stream",
     "text": [
      "=================================\n",
      "Initial portfolio value:100000\n",
      "Final portfolio value: 1398746.625\n",
      "Final accumulative portfolio value: 13.98746625\n",
      "Maximum DrawDown: -0.28039236514987087\n",
      "Sharpe ratio: 1.570036585826609\n",
      "=================================\n"
     ]
    },
    {
     "name": "stderr",
     "output_type": "stream",
     "text": [
      "100%|██████████| 10/10 [06:29<00:00, 38.93s/it]\n",
      "C:\\Users\\xutia\\AppData\\Local\\Temp\\ipykernel_17836\\976523745.py:42: FutureWarning: You are using `torch.load` with `weights_only=False` (the current default value), which uses the default pickle module implicitly. It is possible to construct malicious pickle data which will execute arbitrary code during unpickling (See https://github.com/pytorch/pytorch/blob/main/SECURITY.md#untrusted-models for more details). In a future release, the default value for `weights_only` will be flipped to `True`. This limits the functions that could be executed during unpickling. Arbitrary objects will no longer be allowed to be loaded via this mode unless they are explicitly allowlisted by the user via `torch.serialization.add_safe_globals`. We recommend you start setting `weights_only=True` for any use case where you don't have full control of the loaded file. Please open an issue on GitHub for any issues related to this experimental feature.\n",
      "  EIIE_policy.load_state_dict(torch.load(model_filename))\n"
     ]
    },
    {
     "name": "stdout",
     "output_type": "stream",
     "text": [
      "=================================\n",
      "Initial portfolio value:100000\n",
      "Final portfolio value: 636174.0\n",
      "Final accumulative portfolio value: 6.36174\n",
      "Maximum DrawDown: -0.28039305205316223\n",
      "Sharpe ratio: 1.1634961228992198\n",
      "=================================\n",
      "=================================\n",
      "Initial portfolio value:100000\n",
      "Final portfolio value: 134847.5625\n",
      "Final accumulative portfolio value: 1.348475625\n",
      "Maximum DrawDown: -0.11851685603320905\n",
      "Sharpe ratio: 1.5343414206077313\n",
      "=================================\n"
     ]
    },
    {
     "name": "stderr",
     "output_type": "stream",
     "text": [
      "  0%|          | 0/10 [00:00<?, ?it/s]"
     ]
    },
    {
     "name": "stdout",
     "output_type": "stream",
     "text": [
      "=================================\n",
      "Initial portfolio value:100000\n",
      "Final portfolio value: 267483.03125\n",
      "Final accumulative portfolio value: 2.6748303125\n",
      "Maximum DrawDown: -0.31874693289488587\n",
      "Sharpe ratio: 0.8667871125641494\n",
      "=================================\n"
     ]
    },
    {
     "name": "stderr",
     "output_type": "stream",
     "text": [
      " 10%|█         | 1/10 [00:39<05:52, 39.16s/it]"
     ]
    },
    {
     "name": "stdout",
     "output_type": "stream",
     "text": [
      "=================================\n",
      "Initial portfolio value:100000\n",
      "Final portfolio value: 472618.5625\n",
      "Final accumulative portfolio value: 4.726185625\n",
      "Maximum DrawDown: -0.2978737145802063\n",
      "Sharpe ratio: 1.1167049274490275\n",
      "=================================\n"
     ]
    },
    {
     "name": "stderr",
     "output_type": "stream",
     "text": [
      " 20%|██        | 2/10 [01:17<05:09, 38.69s/it]"
     ]
    },
    {
     "name": "stdout",
     "output_type": "stream",
     "text": [
      "=================================\n",
      "Initial portfolio value:100000\n",
      "Final portfolio value: 651946.9375\n",
      "Final accumulative portfolio value: 6.519469375\n",
      "Maximum DrawDown: -0.2951147179624498\n",
      "Sharpe ratio: 1.1960552359058094\n",
      "=================================\n"
     ]
    },
    {
     "name": "stderr",
     "output_type": "stream",
     "text": [
      " 30%|███       | 3/10 [01:56<04:31, 38.78s/it]"
     ]
    },
    {
     "name": "stdout",
     "output_type": "stream",
     "text": [
      "=================================\n",
      "Initial portfolio value:100000\n",
      "Final portfolio value: 1023957.1875\n",
      "Final accumulative portfolio value: 10.239571875\n",
      "Maximum DrawDown: -0.28068335422245816\n",
      "Sharpe ratio: 1.4469906194860969\n",
      "=================================\n"
     ]
    },
    {
     "name": "stderr",
     "output_type": "stream",
     "text": [
      " 40%|████      | 4/10 [02:35<03:52, 38.75s/it]"
     ]
    },
    {
     "name": "stdout",
     "output_type": "stream",
     "text": [
      "=================================\n",
      "Initial portfolio value:100000\n",
      "Final portfolio value: 1132130.375\n",
      "Final accumulative portfolio value: 11.32130375\n",
      "Maximum DrawDown: -0.30797610168401124\n",
      "Sharpe ratio: 1.4648761099191758\n",
      "=================================\n"
     ]
    },
    {
     "name": "stderr",
     "output_type": "stream",
     "text": [
      " 50%|█████     | 5/10 [03:17<03:20, 40.07s/it]"
     ]
    },
    {
     "name": "stdout",
     "output_type": "stream",
     "text": [
      "=================================\n",
      "Initial portfolio value:100000\n",
      "Final portfolio value: 1170987.125\n",
      "Final accumulative portfolio value: 11.70987125\n",
      "Maximum DrawDown: -0.280392895673112\n",
      "Sharpe ratio: 1.4954589721547817\n",
      "=================================\n"
     ]
    },
    {
     "name": "stderr",
     "output_type": "stream",
     "text": [
      " 60%|██████    | 6/10 [03:56<02:38, 39.72s/it]"
     ]
    },
    {
     "name": "stdout",
     "output_type": "stream",
     "text": [
      "=================================\n",
      "Initial portfolio value:100000\n",
      "Final portfolio value: 1084040.625\n",
      "Final accumulative portfolio value: 10.84040625\n",
      "Maximum DrawDown: -0.3403024384835678\n",
      "Sharpe ratio: 1.3877278733330978\n",
      "=================================\n"
     ]
    },
    {
     "name": "stderr",
     "output_type": "stream",
     "text": [
      " 70%|███████   | 7/10 [04:35<01:58, 39.34s/it]"
     ]
    },
    {
     "name": "stdout",
     "output_type": "stream",
     "text": [
      "=================================\n",
      "Initial portfolio value:100000\n",
      "Final portfolio value: 1444668.125\n",
      "Final accumulative portfolio value: 14.44668125\n",
      "Maximum DrawDown: -0.28039300926524435\n",
      "Sharpe ratio: 1.5708473649949732\n",
      "=================================\n"
     ]
    },
    {
     "name": "stderr",
     "output_type": "stream",
     "text": [
      " 80%|████████  | 8/10 [05:13<01:18, 39.10s/it]"
     ]
    },
    {
     "name": "stdout",
     "output_type": "stream",
     "text": [
      "=================================\n",
      "Initial portfolio value:100000\n",
      "Final portfolio value: 1347184.125\n",
      "Final accumulative portfolio value: 13.47184125\n",
      "Maximum DrawDown: -0.2803930697460365\n",
      "Sharpe ratio: 1.5345304957241561\n",
      "=================================\n"
     ]
    },
    {
     "name": "stderr",
     "output_type": "stream",
     "text": [
      " 90%|█████████ | 9/10 [05:52<00:38, 38.96s/it]"
     ]
    },
    {
     "name": "stdout",
     "output_type": "stream",
     "text": [
      "=================================\n",
      "Initial portfolio value:100000\n",
      "Final portfolio value: 1263456.375\n",
      "Final accumulative portfolio value: 12.63456375\n",
      "Maximum DrawDown: -0.28039291268166544\n",
      "Sharpe ratio: 1.5311664888230485\n",
      "=================================\n"
     ]
    },
    {
     "name": "stderr",
     "output_type": "stream",
     "text": [
      "100%|██████████| 10/10 [06:31<00:00, 39.15s/it]\n",
      "C:\\Users\\xutia\\AppData\\Local\\Temp\\ipykernel_17836\\976523745.py:42: FutureWarning: You are using `torch.load` with `weights_only=False` (the current default value), which uses the default pickle module implicitly. It is possible to construct malicious pickle data which will execute arbitrary code during unpickling (See https://github.com/pytorch/pytorch/blob/main/SECURITY.md#untrusted-models for more details). In a future release, the default value for `weights_only` will be flipped to `True`. This limits the functions that could be executed during unpickling. Arbitrary objects will no longer be allowed to be loaded via this mode unless they are explicitly allowlisted by the user via `torch.serialization.add_safe_globals`. We recommend you start setting `weights_only=True` for any use case where you don't have full control of the loaded file. Please open an issue on GitHub for any issues related to this experimental feature.\n",
      "  EIIE_policy.load_state_dict(torch.load(model_filename))\n"
     ]
    },
    {
     "name": "stdout",
     "output_type": "stream",
     "text": [
      "=================================\n",
      "Initial portfolio value:100000\n",
      "Final portfolio value: 837520.625\n",
      "Final accumulative portfolio value: 8.37520625\n",
      "Maximum DrawDown: -0.2803930292045741\n",
      "Sharpe ratio: 1.3052292952760112\n",
      "=================================\n",
      "=================================\n",
      "Initial portfolio value:100000\n",
      "Final portfolio value: 133436.671875\n",
      "Final accumulative portfolio value: 1.33436671875\n",
      "Maximum DrawDown: -0.1076805415372849\n",
      "Sharpe ratio: 1.5554103618821025\n",
      "=================================\n"
     ]
    },
    {
     "name": "stderr",
     "output_type": "stream",
     "text": [
      "  0%|          | 0/10 [00:00<?, ?it/s]"
     ]
    },
    {
     "name": "stdout",
     "output_type": "stream",
     "text": [
      "=================================\n",
      "Initial portfolio value:100000\n",
      "Final portfolio value: 187824.71875\n",
      "Final accumulative portfolio value: 1.8782471875\n",
      "Maximum DrawDown: -0.34051924190149707\n",
      "Sharpe ratio: 0.6310517065244552\n",
      "=================================\n"
     ]
    },
    {
     "name": "stderr",
     "output_type": "stream",
     "text": [
      " 10%|█         | 1/10 [00:38<05:48, 38.72s/it]"
     ]
    },
    {
     "name": "stdout",
     "output_type": "stream",
     "text": [
      "=================================\n",
      "Initial portfolio value:100000\n",
      "Final portfolio value: 232431.0625\n",
      "Final accumulative portfolio value: 2.324310625\n",
      "Maximum DrawDown: -0.33753125159119823\n",
      "Sharpe ratio: 0.7726466468268042\n",
      "=================================\n"
     ]
    },
    {
     "name": "stderr",
     "output_type": "stream",
     "text": [
      " 20%|██        | 2/10 [01:17<05:09, 38.70s/it]"
     ]
    },
    {
     "name": "stdout",
     "output_type": "stream",
     "text": [
      "=================================\n",
      "Initial portfolio value:100000\n",
      "Final portfolio value: 237802.25\n",
      "Final accumulative portfolio value: 2.3780225\n",
      "Maximum DrawDown: -0.3431345690715457\n",
      "Sharpe ratio: 0.779716999766999\n",
      "=================================\n"
     ]
    },
    {
     "name": "stderr",
     "output_type": "stream",
     "text": [
      " 30%|███       | 3/10 [01:56<04:31, 38.79s/it]"
     ]
    },
    {
     "name": "stdout",
     "output_type": "stream",
     "text": [
      "=================================\n",
      "Initial portfolio value:100000\n",
      "Final portfolio value: 240767.609375\n",
      "Final accumulative portfolio value: 2.40767609375\n",
      "Maximum DrawDown: -0.347470691457177\n",
      "Sharpe ratio: 0.7802414846195291\n",
      "=================================\n"
     ]
    },
    {
     "name": "stderr",
     "output_type": "stream",
     "text": [
      " 40%|████      | 4/10 [02:35<03:52, 38.82s/it]"
     ]
    },
    {
     "name": "stdout",
     "output_type": "stream",
     "text": [
      "=================================\n",
      "Initial portfolio value:100000\n",
      "Final portfolio value: 242665.09375\n",
      "Final accumulative portfolio value: 2.4266509375\n",
      "Maximum DrawDown: -0.34990699883948706\n",
      "Sharpe ratio: 0.7808277518688905\n",
      "=================================\n"
     ]
    },
    {
     "name": "stderr",
     "output_type": "stream",
     "text": [
      " 50%|█████     | 5/10 [03:13<03:13, 38.80s/it]"
     ]
    },
    {
     "name": "stdout",
     "output_type": "stream",
     "text": [
      "=================================\n",
      "Initial portfolio value:100000\n",
      "Final portfolio value: 243622.515625\n",
      "Final accumulative portfolio value: 2.43622515625\n",
      "Maximum DrawDown: -0.35106216789217104\n",
      "Sharpe ratio: 0.7811837538193853\n",
      "=================================\n"
     ]
    },
    {
     "name": "stderr",
     "output_type": "stream",
     "text": [
      " 60%|██████    | 6/10 [03:52<02:34, 38.73s/it]"
     ]
    },
    {
     "name": "stdout",
     "output_type": "stream",
     "text": [
      "=================================\n",
      "Initial portfolio value:100000\n",
      "Final portfolio value: 244068.59375\n",
      "Final accumulative portfolio value: 2.4406859375\n",
      "Maximum DrawDown: -0.35161971014136506\n",
      "Sharpe ratio: 0.7813155748385661\n",
      "=================================\n"
     ]
    },
    {
     "name": "stderr",
     "output_type": "stream",
     "text": [
      " 70%|███████   | 7/10 [04:31<01:56, 38.85s/it]"
     ]
    },
    {
     "name": "stdout",
     "output_type": "stream",
     "text": [
      "=================================\n",
      "Initial portfolio value:100000\n",
      "Final portfolio value: 244292.84375\n",
      "Final accumulative portfolio value: 2.4429284375\n",
      "Maximum DrawDown: -0.3519179233863231\n",
      "Sharpe ratio: 0.7813564194828437\n",
      "=================================\n"
     ]
    },
    {
     "name": "stderr",
     "output_type": "stream",
     "text": [
      " 80%|████████  | 8/10 [05:09<01:17, 38.68s/it]"
     ]
    },
    {
     "name": "stdout",
     "output_type": "stream",
     "text": [
      "=================================\n",
      "Initial portfolio value:100000\n",
      "Final portfolio value: 244430.25\n",
      "Final accumulative portfolio value: 2.4443025\n",
      "Maximum DrawDown: -0.35209767415687165\n",
      "Sharpe ratio: 0.78140636332159\n",
      "=================================\n"
     ]
    },
    {
     "name": "stderr",
     "output_type": "stream",
     "text": [
      " 90%|█████████ | 9/10 [05:48<00:38, 38.73s/it]"
     ]
    },
    {
     "name": "stdout",
     "output_type": "stream",
     "text": [
      "=================================\n",
      "Initial portfolio value:100000\n",
      "Final portfolio value: 244512.984375\n",
      "Final accumulative portfolio value: 2.44512984375\n",
      "Maximum DrawDown: -0.3522098748512964\n",
      "Sharpe ratio: 0.7814215779155632\n",
      "=================================\n"
     ]
    },
    {
     "name": "stderr",
     "output_type": "stream",
     "text": [
      "100%|██████████| 10/10 [06:27<00:00, 38.73s/it]\n",
      "C:\\Users\\xutia\\AppData\\Local\\Temp\\ipykernel_17836\\976523745.py:42: FutureWarning: You are using `torch.load` with `weights_only=False` (the current default value), which uses the default pickle module implicitly. It is possible to construct malicious pickle data which will execute arbitrary code during unpickling (See https://github.com/pytorch/pytorch/blob/main/SECURITY.md#untrusted-models for more details). In a future release, the default value for `weights_only` will be flipped to `True`. This limits the functions that could be executed during unpickling. Arbitrary objects will no longer be allowed to be loaded via this mode unless they are explicitly allowlisted by the user via `torch.serialization.add_safe_globals`. We recommend you start setting `weights_only=True` for any use case where you don't have full control of the loaded file. Please open an issue on GitHub for any issues related to this experimental feature.\n",
      "  EIIE_policy.load_state_dict(torch.load(model_filename))\n"
     ]
    },
    {
     "name": "stdout",
     "output_type": "stream",
     "text": [
      "=================================\n",
      "Initial portfolio value:100000\n",
      "Final portfolio value: 244734.703125\n",
      "Final accumulative portfolio value: 2.44734703125\n",
      "Maximum DrawDown: -0.35259923256030345\n",
      "Sharpe ratio: 0.7813823976963558\n",
      "=================================\n",
      "=================================\n",
      "Initial portfolio value:100000\n",
      "Final portfolio value: 131648.328125\n",
      "Final accumulative portfolio value: 1.31648328125\n",
      "Maximum DrawDown: -0.044497088769954396\n",
      "Sharpe ratio: 2.5988816105760613\n",
      "=================================\n"
     ]
    },
    {
     "name": "stderr",
     "output_type": "stream",
     "text": [
      "  0%|          | 0/10 [00:00<?, ?it/s]"
     ]
    },
    {
     "name": "stdout",
     "output_type": "stream",
     "text": [
      "=================================\n",
      "Initial portfolio value:100000\n",
      "Final portfolio value: 258165.03125\n",
      "Final accumulative portfolio value: 2.5816503125\n",
      "Maximum DrawDown: -0.3320042387084208\n",
      "Sharpe ratio: 0.8080352284249934\n",
      "=================================\n"
     ]
    },
    {
     "name": "stderr",
     "output_type": "stream",
     "text": [
      " 10%|█         | 1/10 [00:39<05:52, 39.20s/it]"
     ]
    },
    {
     "name": "stdout",
     "output_type": "stream",
     "text": [
      "=================================\n",
      "Initial portfolio value:100000\n",
      "Final portfolio value: 448308.03125\n",
      "Final accumulative portfolio value: 4.4830803125\n",
      "Maximum DrawDown: -0.3143141732224983\n",
      "Sharpe ratio: 1.0565722548860188\n",
      "=================================\n"
     ]
    },
    {
     "name": "stderr",
     "output_type": "stream",
     "text": [
      " 20%|██        | 2/10 [01:18<05:12, 39.07s/it]"
     ]
    },
    {
     "name": "stdout",
     "output_type": "stream",
     "text": [
      "=================================\n",
      "Initial portfolio value:100000\n",
      "Final portfolio value: 589723.625\n",
      "Final accumulative portfolio value: 5.89723625\n",
      "Maximum DrawDown: -0.3181327285162585\n",
      "Sharpe ratio: 1.1171881067635334\n",
      "=================================\n"
     ]
    },
    {
     "name": "stderr",
     "output_type": "stream",
     "text": [
      " 30%|███       | 3/10 [01:56<04:31, 38.79s/it]"
     ]
    },
    {
     "name": "stdout",
     "output_type": "stream",
     "text": [
      "=================================\n",
      "Initial portfolio value:100000\n",
      "Final portfolio value: 855127.125\n",
      "Final accumulative portfolio value: 8.55127125\n",
      "Maximum DrawDown: -0.28007742377866707\n",
      "Sharpe ratio: 1.3722695674626733\n",
      "=================================\n"
     ]
    },
    {
     "name": "stderr",
     "output_type": "stream",
     "text": [
      " 40%|████      | 4/10 [02:35<03:53, 38.84s/it]"
     ]
    },
    {
     "name": "stdout",
     "output_type": "stream",
     "text": [
      "=================================\n",
      "Initial portfolio value:100000\n",
      "Final portfolio value: 796845.75\n",
      "Final accumulative portfolio value: 7.9684575\n",
      "Maximum DrawDown: -0.3416263958265817\n",
      "Sharpe ratio: 1.2019529317197901\n",
      "=================================\n"
     ]
    },
    {
     "name": "stderr",
     "output_type": "stream",
     "text": [
      " 50%|█████     | 5/10 [03:14<03:13, 38.79s/it]"
     ]
    },
    {
     "name": "stdout",
     "output_type": "stream",
     "text": [
      "=================================\n",
      "Initial portfolio value:100000\n",
      "Final portfolio value: 810651.5\n",
      "Final accumulative portfolio value: 8.106515\n",
      "Maximum DrawDown: -0.28032376432775763\n",
      "Sharpe ratio: 1.1914840235757878\n",
      "=================================\n"
     ]
    },
    {
     "name": "stderr",
     "output_type": "stream",
     "text": [
      " 60%|██████    | 6/10 [03:53<02:35, 38.87s/it]"
     ]
    },
    {
     "name": "stdout",
     "output_type": "stream",
     "text": [
      "=================================\n",
      "Initial portfolio value:100000\n",
      "Final portfolio value: 1104762.5\n",
      "Final accumulative portfolio value: 11.047625\n",
      "Maximum DrawDown: -0.2800333134378512\n",
      "Sharpe ratio: 1.405874389127079\n",
      "=================================\n"
     ]
    },
    {
     "name": "stderr",
     "output_type": "stream",
     "text": [
      " 70%|███████   | 7/10 [04:32<01:56, 38.84s/it]"
     ]
    },
    {
     "name": "stdout",
     "output_type": "stream",
     "text": [
      "=================================\n",
      "Initial portfolio value:100000\n",
      "Final portfolio value: 1374519.75\n",
      "Final accumulative portfolio value: 13.7451975\n",
      "Maximum DrawDown: -0.2802618232591152\n",
      "Sharpe ratio: 1.5726628011549686\n",
      "=================================\n"
     ]
    },
    {
     "name": "stderr",
     "output_type": "stream",
     "text": [
      " 80%|████████  | 8/10 [05:11<01:17, 38.89s/it]"
     ]
    },
    {
     "name": "stdout",
     "output_type": "stream",
     "text": [
      "=================================\n",
      "Initial portfolio value:100000\n",
      "Final portfolio value: 1309930.5\n",
      "Final accumulative portfolio value: 13.099305\n",
      "Maximum DrawDown: -0.28318223340163184\n",
      "Sharpe ratio: 1.515587887306454\n",
      "=================================\n"
     ]
    },
    {
     "name": "stderr",
     "output_type": "stream",
     "text": [
      " 90%|█████████ | 9/10 [05:49<00:38, 38.87s/it]"
     ]
    },
    {
     "name": "stdout",
     "output_type": "stream",
     "text": [
      "=================================\n",
      "Initial portfolio value:100000\n",
      "Final portfolio value: 1401850.0\n",
      "Final accumulative portfolio value: 14.0185\n",
      "Maximum DrawDown: -0.2803895506399795\n",
      "Sharpe ratio: 1.5690418921351887\n",
      "=================================\n"
     ]
    },
    {
     "name": "stderr",
     "output_type": "stream",
     "text": [
      "100%|██████████| 10/10 [06:28<00:00, 38.85s/it]\n",
      "C:\\Users\\xutia\\AppData\\Local\\Temp\\ipykernel_17836\\976523745.py:42: FutureWarning: You are using `torch.load` with `weights_only=False` (the current default value), which uses the default pickle module implicitly. It is possible to construct malicious pickle data which will execute arbitrary code during unpickling (See https://github.com/pytorch/pytorch/blob/main/SECURITY.md#untrusted-models for more details). In a future release, the default value for `weights_only` will be flipped to `True`. This limits the functions that could be executed during unpickling. Arbitrary objects will no longer be allowed to be loaded via this mode unless they are explicitly allowlisted by the user via `torch.serialization.add_safe_globals`. We recommend you start setting `weights_only=True` for any use case where you don't have full control of the loaded file. Please open an issue on GitHub for any issues related to this experimental feature.\n",
      "  EIIE_policy.load_state_dict(torch.load(model_filename))\n"
     ]
    },
    {
     "name": "stdout",
     "output_type": "stream",
     "text": [
      "=================================\n",
      "Initial portfolio value:100000\n",
      "Final portfolio value: 1244035.25\n",
      "Final accumulative portfolio value: 12.4403525\n",
      "Maximum DrawDown: -0.35911750511650753\n",
      "Sharpe ratio: 1.417249819691174\n",
      "=================================\n",
      "=================================\n",
      "Initial portfolio value:100000\n",
      "Final portfolio value: 126321.78125\n",
      "Final accumulative portfolio value: 1.2632178125\n",
      "Maximum DrawDown: -0.1721524513146585\n",
      "Sharpe ratio: 1.1239468329388065\n",
      "=================================\n"
     ]
    },
    {
     "name": "stderr",
     "output_type": "stream",
     "text": [
      "  0%|          | 0/10 [00:00<?, ?it/s]"
     ]
    },
    {
     "name": "stdout",
     "output_type": "stream",
     "text": [
      "=================================\n",
      "Initial portfolio value:100000\n",
      "Final portfolio value: 342528.25\n",
      "Final accumulative portfolio value: 3.4252825\n",
      "Maximum DrawDown: -0.29827613892190785\n",
      "Sharpe ratio: 0.9519795475082607\n",
      "=================================\n"
     ]
    },
    {
     "name": "stderr",
     "output_type": "stream",
     "text": [
      " 10%|█         | 1/10 [00:38<05:49, 38.80s/it]"
     ]
    },
    {
     "name": "stdout",
     "output_type": "stream",
     "text": [
      "=================================\n",
      "Initial portfolio value:100000\n",
      "Final portfolio value: 597219.875\n",
      "Final accumulative portfolio value: 5.97219875\n",
      "Maximum DrawDown: -0.2801881351922957\n",
      "Sharpe ratio: 1.1522826149321326\n",
      "=================================\n"
     ]
    },
    {
     "name": "stderr",
     "output_type": "stream",
     "text": [
      " 20%|██        | 2/10 [01:17<05:11, 38.89s/it]"
     ]
    },
    {
     "name": "stdout",
     "output_type": "stream",
     "text": [
      "=================================\n",
      "Initial portfolio value:100000\n",
      "Final portfolio value: 794121.25\n",
      "Final accumulative portfolio value: 7.9412125\n",
      "Maximum DrawDown: -0.3657585404997409\n",
      "Sharpe ratio: 1.1992228915596885\n",
      "=================================\n"
     ]
    },
    {
     "name": "stderr",
     "output_type": "stream",
     "text": [
      " 30%|███       | 3/10 [01:56<04:31, 38.80s/it]"
     ]
    },
    {
     "name": "stdout",
     "output_type": "stream",
     "text": [
      "=================================\n",
      "Initial portfolio value:100000\n",
      "Final portfolio value: 937895.125\n",
      "Final accumulative portfolio value: 9.37895125\n",
      "Maximum DrawDown: -0.28039275684435827\n",
      "Sharpe ratio: 1.3867306007316216\n",
      "=================================\n"
     ]
    },
    {
     "name": "stderr",
     "output_type": "stream",
     "text": [
      " 40%|████      | 4/10 [02:35<03:52, 38.80s/it]"
     ]
    },
    {
     "name": "stdout",
     "output_type": "stream",
     "text": [
      "=================================\n",
      "Initial portfolio value:100000\n",
      "Final portfolio value: 575671.25\n",
      "Final accumulative portfolio value: 5.7567125\n",
      "Maximum DrawDown: -0.42318951143787076\n",
      "Sharpe ratio: 0.9962468246055907\n",
      "=================================\n"
     ]
    },
    {
     "name": "stderr",
     "output_type": "stream",
     "text": [
      " 50%|█████     | 5/10 [03:14<03:14, 38.87s/it]"
     ]
    },
    {
     "name": "stdout",
     "output_type": "stream",
     "text": [
      "=================================\n",
      "Initial portfolio value:100000\n",
      "Final portfolio value: 1027607.0625\n",
      "Final accumulative portfolio value: 10.276070625\n",
      "Maximum DrawDown: -0.39646301811515616\n",
      "Sharpe ratio: 1.279680706739598\n",
      "=================================\n"
     ]
    },
    {
     "name": "stderr",
     "output_type": "stream",
     "text": [
      " 60%|██████    | 6/10 [03:52<02:35, 38.81s/it]"
     ]
    },
    {
     "name": "stdout",
     "output_type": "stream",
     "text": [
      "=================================\n",
      "Initial portfolio value:100000\n",
      "Final portfolio value: 1211368.75\n",
      "Final accumulative portfolio value: 12.1136875\n",
      "Maximum DrawDown: -0.2803057702290416\n",
      "Sharpe ratio: 1.424914950973727\n",
      "=================================\n"
     ]
    },
    {
     "name": "stderr",
     "output_type": "stream",
     "text": [
      " 70%|███████   | 7/10 [04:31<01:56, 38.89s/it]"
     ]
    },
    {
     "name": "stdout",
     "output_type": "stream",
     "text": [
      "=================================\n",
      "Initial portfolio value:100000\n",
      "Final portfolio value: 1309069.75\n",
      "Final accumulative portfolio value: 13.0906975\n",
      "Maximum DrawDown: -0.35414188029712235\n",
      "Sharpe ratio: 1.4206415131375325\n",
      "=================================\n"
     ]
    },
    {
     "name": "stderr",
     "output_type": "stream",
     "text": [
      " 80%|████████  | 8/10 [05:11<01:17, 38.96s/it]"
     ]
    },
    {
     "name": "stdout",
     "output_type": "stream",
     "text": [
      "=================================\n",
      "Initial portfolio value:100000\n",
      "Final portfolio value: 1194390.625\n",
      "Final accumulative portfolio value: 11.94390625\n",
      "Maximum DrawDown: -0.2803892868572385\n",
      "Sharpe ratio: 1.3831712989111933\n",
      "=================================\n"
     ]
    },
    {
     "name": "stderr",
     "output_type": "stream",
     "text": [
      " 90%|█████████ | 9/10 [05:49<00:38, 38.91s/it]"
     ]
    },
    {
     "name": "stdout",
     "output_type": "stream",
     "text": [
      "=================================\n",
      "Initial portfolio value:100000\n",
      "Final portfolio value: 722634.9375\n",
      "Final accumulative portfolio value: 7.226349375\n",
      "Maximum DrawDown: -0.31997002660400475\n",
      "Sharpe ratio: 1.1072604525199945\n",
      "=================================\n"
     ]
    },
    {
     "name": "stderr",
     "output_type": "stream",
     "text": [
      "100%|██████████| 10/10 [06:28<00:00, 38.88s/it]\n",
      "C:\\Users\\xutia\\AppData\\Local\\Temp\\ipykernel_17836\\976523745.py:42: FutureWarning: You are using `torch.load` with `weights_only=False` (the current default value), which uses the default pickle module implicitly. It is possible to construct malicious pickle data which will execute arbitrary code during unpickling (See https://github.com/pytorch/pytorch/blob/main/SECURITY.md#untrusted-models for more details). In a future release, the default value for `weights_only` will be flipped to `True`. This limits the functions that could be executed during unpickling. Arbitrary objects will no longer be allowed to be loaded via this mode unless they are explicitly allowlisted by the user via `torch.serialization.add_safe_globals`. We recommend you start setting `weights_only=True` for any use case where you don't have full control of the loaded file. Please open an issue on GitHub for any issues related to this experimental feature.\n",
      "  EIIE_policy.load_state_dict(torch.load(model_filename))\n"
     ]
    },
    {
     "name": "stdout",
     "output_type": "stream",
     "text": [
      "=================================\n",
      "Initial portfolio value:100000\n",
      "Final portfolio value: 643612.125\n",
      "Final accumulative portfolio value: 6.43612125\n",
      "Maximum DrawDown: -0.4328846580279313\n",
      "Sharpe ratio: 1.0321984099459152\n",
      "=================================\n",
      "=================================\n",
      "Initial portfolio value:100000\n",
      "Final portfolio value: 126909.21875\n",
      "Final accumulative portfolio value: 1.2690921875\n",
      "Maximum DrawDown: -0.16300305199416476\n",
      "Sharpe ratio: 1.2229019713526978\n",
      "=================================\n"
     ]
    },
    {
     "name": "stderr",
     "output_type": "stream",
     "text": [
      "  0%|          | 0/10 [00:00<?, ?it/s]"
     ]
    },
    {
     "name": "stdout",
     "output_type": "stream",
     "text": [
      "=================================\n",
      "Initial portfolio value:100000\n",
      "Final portfolio value: 255939.515625\n",
      "Final accumulative portfolio value: 2.55939515625\n",
      "Maximum DrawDown: -0.33230753257059353\n",
      "Sharpe ratio: 0.8205549814595907\n",
      "=================================\n"
     ]
    },
    {
     "name": "stderr",
     "output_type": "stream",
     "text": [
      " 10%|█         | 1/10 [00:38<05:49, 38.86s/it]"
     ]
    },
    {
     "name": "stdout",
     "output_type": "stream",
     "text": [
      "=================================\n",
      "Initial portfolio value:100000\n",
      "Final portfolio value: 419167.3125\n",
      "Final accumulative portfolio value: 4.191673125\n",
      "Maximum DrawDown: -0.3192295663043323\n",
      "Sharpe ratio: 1.0701531765902315\n",
      "=================================\n"
     ]
    },
    {
     "name": "stderr",
     "output_type": "stream",
     "text": [
      " 20%|██        | 2/10 [01:17<05:10, 38.79s/it]"
     ]
    },
    {
     "name": "stdout",
     "output_type": "stream",
     "text": [
      "=================================\n",
      "Initial portfolio value:100000\n",
      "Final portfolio value: 605651.1875\n",
      "Final accumulative portfolio value: 6.056511875\n",
      "Maximum DrawDown: -0.3136493248144524\n",
      "Sharpe ratio: 1.1659394062556632\n",
      "=================================\n"
     ]
    },
    {
     "name": "stderr",
     "output_type": "stream",
     "text": [
      " 30%|███       | 3/10 [01:56<04:30, 38.65s/it]"
     ]
    },
    {
     "name": "stdout",
     "output_type": "stream",
     "text": [
      "=================================\n",
      "Initial portfolio value:100000\n",
      "Final portfolio value: 786933.0625\n",
      "Final accumulative portfolio value: 7.869330625\n",
      "Maximum DrawDown: -0.2889377472051351\n",
      "Sharpe ratio: 1.2980252278396975\n",
      "=================================\n"
     ]
    },
    {
     "name": "stderr",
     "output_type": "stream",
     "text": [
      " 40%|████      | 4/10 [02:35<03:52, 38.77s/it]"
     ]
    },
    {
     "name": "stdout",
     "output_type": "stream",
     "text": [
      "=================================\n",
      "Initial portfolio value:100000\n",
      "Final portfolio value: 876704.9375\n",
      "Final accumulative portfolio value: 8.767049375\n",
      "Maximum DrawDown: -0.2891221930817228\n",
      "Sharpe ratio: 1.3055105849380497\n",
      "=================================\n"
     ]
    },
    {
     "name": "stderr",
     "output_type": "stream",
     "text": [
      " 50%|█████     | 5/10 [03:14<03:14, 38.86s/it]"
     ]
    },
    {
     "name": "stdout",
     "output_type": "stream",
     "text": [
      "=================================\n",
      "Initial portfolio value:100000\n",
      "Final portfolio value: 972730.5\n",
      "Final accumulative portfolio value: 9.727305\n",
      "Maximum DrawDown: -0.2886883771594886\n",
      "Sharpe ratio: 1.3255923713681774\n",
      "=================================\n"
     ]
    },
    {
     "name": "stderr",
     "output_type": "stream",
     "text": [
      " 60%|██████    | 6/10 [03:52<02:34, 38.68s/it]"
     ]
    },
    {
     "name": "stdout",
     "output_type": "stream",
     "text": [
      "=================================\n",
      "Initial portfolio value:100000\n",
      "Final portfolio value: 1082155.5\n",
      "Final accumulative portfolio value: 10.821555\n",
      "Maximum DrawDown: -0.2796351201985483\n",
      "Sharpe ratio: 1.388827457947418\n",
      "=================================\n"
     ]
    },
    {
     "name": "stderr",
     "output_type": "stream",
     "text": [
      " 70%|███████   | 7/10 [04:31<01:56, 38.85s/it]"
     ]
    },
    {
     "name": "stdout",
     "output_type": "stream",
     "text": [
      "=================================\n",
      "Initial portfolio value:100000\n",
      "Final portfolio value: 1038626.0\n",
      "Final accumulative portfolio value: 10.38626\n",
      "Maximum DrawDown: -0.379776231419923\n",
      "Sharpe ratio: 1.2998016176297893\n",
      "=================================\n"
     ]
    },
    {
     "name": "stderr",
     "output_type": "stream",
     "text": [
      " 80%|████████  | 8/10 [05:10<01:17, 38.90s/it]"
     ]
    },
    {
     "name": "stdout",
     "output_type": "stream",
     "text": [
      "=================================\n",
      "Initial portfolio value:100000\n",
      "Final portfolio value: 1150024.375\n",
      "Final accumulative portfolio value: 11.50024375\n",
      "Maximum DrawDown: -0.27995428990116533\n",
      "Sharpe ratio: 1.3939902259735972\n",
      "=================================\n"
     ]
    },
    {
     "name": "stderr",
     "output_type": "stream",
     "text": [
      " 90%|█████████ | 9/10 [05:49<00:38, 38.92s/it]"
     ]
    },
    {
     "name": "stdout",
     "output_type": "stream",
     "text": [
      "=================================\n",
      "Initial portfolio value:100000\n",
      "Final portfolio value: 1198671.375\n",
      "Final accumulative portfolio value: 11.98671375\n",
      "Maximum DrawDown: -0.30044475484368127\n",
      "Sharpe ratio: 1.3988839376411877\n",
      "=================================\n"
     ]
    },
    {
     "name": "stderr",
     "output_type": "stream",
     "text": [
      "100%|██████████| 10/10 [06:28<00:00, 38.85s/it]\n",
      "C:\\Users\\xutia\\AppData\\Local\\Temp\\ipykernel_17836\\976523745.py:42: FutureWarning: You are using `torch.load` with `weights_only=False` (the current default value), which uses the default pickle module implicitly. It is possible to construct malicious pickle data which will execute arbitrary code during unpickling (See https://github.com/pytorch/pytorch/blob/main/SECURITY.md#untrusted-models for more details). In a future release, the default value for `weights_only` will be flipped to `True`. This limits the functions that could be executed during unpickling. Arbitrary objects will no longer be allowed to be loaded via this mode unless they are explicitly allowlisted by the user via `torch.serialization.add_safe_globals`. We recommend you start setting `weights_only=True` for any use case where you don't have full control of the loaded file. Please open an issue on GitHub for any issues related to this experimental feature.\n",
      "  EIIE_policy.load_state_dict(torch.load(model_filename))\n"
     ]
    },
    {
     "name": "stdout",
     "output_type": "stream",
     "text": [
      "=================================\n",
      "Initial portfolio value:100000\n",
      "Final portfolio value: 894521.8125\n",
      "Final accumulative portfolio value: 8.945218125\n",
      "Maximum DrawDown: -0.3190833148570593\n",
      "Sharpe ratio: 1.3401779852503988\n",
      "=================================\n",
      "=================================\n",
      "Initial portfolio value:100000\n",
      "Final portfolio value: 127961.6328125\n",
      "Final accumulative portfolio value: 1.279616328125\n",
      "Maximum DrawDown: -0.17156692348359293\n",
      "Sharpe ratio: 1.2275585896679084\n",
      "=================================\n"
     ]
    },
    {
     "name": "stderr",
     "output_type": "stream",
     "text": [
      "  0%|          | 0/10 [00:00<?, ?it/s]"
     ]
    },
    {
     "name": "stdout",
     "output_type": "stream",
     "text": [
      "=================================\n",
      "Initial portfolio value:100000\n",
      "Final portfolio value: 288730.71875\n",
      "Final accumulative portfolio value: 2.8873071875\n",
      "Maximum DrawDown: -0.32476426201856046\n",
      "Sharpe ratio: 0.8542490592177737\n",
      "=================================\n"
     ]
    },
    {
     "name": "stderr",
     "output_type": "stream",
     "text": [
      " 10%|█         | 1/10 [00:39<05:53, 39.32s/it]"
     ]
    },
    {
     "name": "stdout",
     "output_type": "stream",
     "text": [
      "=================================\n",
      "Initial portfolio value:100000\n",
      "Final portfolio value: 536799.6875\n",
      "Final accumulative portfolio value: 5.367996875\n",
      "Maximum DrawDown: -0.3093215677739747\n",
      "Sharpe ratio: 1.1018316519640041\n",
      "=================================\n"
     ]
    },
    {
     "name": "stderr",
     "output_type": "stream",
     "text": [
      " 20%|██        | 2/10 [01:18<05:12, 39.08s/it]"
     ]
    },
    {
     "name": "stdout",
     "output_type": "stream",
     "text": [
      "=================================\n",
      "Initial portfolio value:100000\n",
      "Final portfolio value: 767544.4375\n",
      "Final accumulative portfolio value: 7.675444375\n",
      "Maximum DrawDown: -0.28927493831956486\n",
      "Sharpe ratio: 1.252957382391182\n",
      "=================================\n"
     ]
    },
    {
     "name": "stderr",
     "output_type": "stream",
     "text": [
      " 30%|███       | 3/10 [01:57<04:32, 38.95s/it]"
     ]
    },
    {
     "name": "stdout",
     "output_type": "stream",
     "text": [
      "=================================\n",
      "Initial portfolio value:100000\n",
      "Final portfolio value: 922207.5625\n",
      "Final accumulative portfolio value: 9.222075625\n",
      "Maximum DrawDown: -0.27991354895918663\n",
      "Sharpe ratio: 1.3598644543047789\n",
      "=================================\n"
     ]
    },
    {
     "name": "stderr",
     "output_type": "stream",
     "text": [
      " 40%|████      | 4/10 [02:36<03:54, 39.02s/it]"
     ]
    },
    {
     "name": "stdout",
     "output_type": "stream",
     "text": [
      "=================================\n",
      "Initial portfolio value:100000\n",
      "Final portfolio value: 518421.53125\n",
      "Final accumulative portfolio value: 5.1842153125\n",
      "Maximum DrawDown: -0.43815000845231755\n",
      "Sharpe ratio: 0.9679037934708196\n",
      "=================================\n"
     ]
    },
    {
     "name": "stderr",
     "output_type": "stream",
     "text": [
      " 50%|█████     | 5/10 [03:15<03:15, 39.02s/it]"
     ]
    },
    {
     "name": "stdout",
     "output_type": "stream",
     "text": [
      "=================================\n",
      "Initial portfolio value:100000\n",
      "Final portfolio value: 855947.625\n",
      "Final accumulative portfolio value: 8.55947625\n",
      "Maximum DrawDown: -0.3851583482752893\n",
      "Sharpe ratio: 1.2369110992379133\n",
      "=================================\n"
     ]
    },
    {
     "name": "stderr",
     "output_type": "stream",
     "text": [
      " 60%|██████    | 6/10 [03:54<02:36, 39.03s/it]"
     ]
    },
    {
     "name": "stdout",
     "output_type": "stream",
     "text": [
      "=================================\n",
      "Initial portfolio value:100000\n",
      "Final portfolio value: 858512.0\n",
      "Final accumulative portfolio value: 8.58512\n",
      "Maximum DrawDown: -0.385158844371179\n",
      "Sharpe ratio: 1.2821125895000853\n",
      "=================================\n"
     ]
    },
    {
     "name": "stderr",
     "output_type": "stream",
     "text": [
      " 70%|███████   | 7/10 [04:33<01:57, 39.02s/it]"
     ]
    },
    {
     "name": "stdout",
     "output_type": "stream",
     "text": [
      "=================================\n",
      "Initial portfolio value:100000\n",
      "Final portfolio value: 896546.0\n",
      "Final accumulative portfolio value: 8.96546\n",
      "Maximum DrawDown: -0.38515904230072995\n",
      "Sharpe ratio: 1.3027824432716955\n",
      "=================================\n"
     ]
    },
    {
     "name": "stderr",
     "output_type": "stream",
     "text": [
      " 80%|████████  | 8/10 [05:12<01:18, 39.10s/it]"
     ]
    },
    {
     "name": "stdout",
     "output_type": "stream",
     "text": [
      "=================================\n",
      "Initial portfolio value:100000\n",
      "Final portfolio value: 931146.4375\n",
      "Final accumulative portfolio value: 9.311464375\n",
      "Maximum DrawDown: -0.3851588284683496\n",
      "Sharpe ratio: 1.3074734801102084\n",
      "=================================\n"
     ]
    },
    {
     "name": "stderr",
     "output_type": "stream",
     "text": [
      " 90%|█████████ | 9/10 [05:51<00:38, 38.97s/it]"
     ]
    },
    {
     "name": "stdout",
     "output_type": "stream",
     "text": [
      "=================================\n",
      "Initial portfolio value:100000\n",
      "Final portfolio value: 949494.4375\n",
      "Final accumulative portfolio value: 9.494944375\n",
      "Maximum DrawDown: -0.3851586676009118\n",
      "Sharpe ratio: 1.3283732726331725\n",
      "=================================\n"
     ]
    },
    {
     "name": "stderr",
     "output_type": "stream",
     "text": [
      "100%|██████████| 10/10 [06:30<00:00, 39.00s/it]\n",
      "C:\\Users\\xutia\\AppData\\Local\\Temp\\ipykernel_17836\\976523745.py:42: FutureWarning: You are using `torch.load` with `weights_only=False` (the current default value), which uses the default pickle module implicitly. It is possible to construct malicious pickle data which will execute arbitrary code during unpickling (See https://github.com/pytorch/pytorch/blob/main/SECURITY.md#untrusted-models for more details). In a future release, the default value for `weights_only` will be flipped to `True`. This limits the functions that could be executed during unpickling. Arbitrary objects will no longer be allowed to be loaded via this mode unless they are explicitly allowlisted by the user via `torch.serialization.add_safe_globals`. We recommend you start setting `weights_only=True` for any use case where you don't have full control of the loaded file. Please open an issue on GitHub for any issues related to this experimental feature.\n",
      "  EIIE_policy.load_state_dict(torch.load(model_filename))\n"
     ]
    },
    {
     "name": "stdout",
     "output_type": "stream",
     "text": [
      "=================================\n",
      "Initial portfolio value:100000\n",
      "Final portfolio value: 793648.6875\n",
      "Final accumulative portfolio value: 7.936486875\n",
      "Maximum DrawDown: -0.2964895992612814\n",
      "Sharpe ratio: 1.254288722415733\n",
      "=================================\n",
      "=================================\n",
      "Initial portfolio value:100000\n",
      "Final portfolio value: 126794.3671875\n",
      "Final accumulative portfolio value: 1.267943671875\n",
      "Maximum DrawDown: -0.17216035431669907\n",
      "Sharpe ratio: 1.1288152981664321\n",
      "=================================\n"
     ]
    },
    {
     "name": "stderr",
     "output_type": "stream",
     "text": [
      "  0%|          | 0/10 [00:00<?, ?it/s]"
     ]
    },
    {
     "name": "stdout",
     "output_type": "stream",
     "text": [
      "=================================\n",
      "Initial portfolio value:100000\n",
      "Final portfolio value: 268321.46875\n",
      "Final accumulative portfolio value: 2.6832146875\n",
      "Maximum DrawDown: -0.3062293404522922\n",
      "Sharpe ratio: 0.8688102619407638\n",
      "=================================\n"
     ]
    },
    {
     "name": "stderr",
     "output_type": "stream",
     "text": [
      " 10%|█         | 1/10 [00:38<05:49, 38.88s/it]"
     ]
    },
    {
     "name": "stdout",
     "output_type": "stream",
     "text": [
      "=================================\n",
      "Initial portfolio value:100000\n",
      "Final portfolio value: 470300.78125\n",
      "Final accumulative portfolio value: 4.7030078125\n",
      "Maximum DrawDown: -0.28706478442652483\n",
      "Sharpe ratio: 1.1003622900222816\n",
      "=================================\n"
     ]
    },
    {
     "name": "stderr",
     "output_type": "stream",
     "text": [
      " 20%|██        | 2/10 [01:17<05:10, 38.87s/it]"
     ]
    },
    {
     "name": "stdout",
     "output_type": "stream",
     "text": [
      "=================================\n",
      "Initial portfolio value:100000\n",
      "Final portfolio value: 658055.3125\n",
      "Final accumulative portfolio value: 6.580553125\n",
      "Maximum DrawDown: -0.28251362023842863\n",
      "Sharpe ratio: 1.235724612885181\n",
      "=================================\n"
     ]
    },
    {
     "name": "stderr",
     "output_type": "stream",
     "text": [
      " 30%|███       | 3/10 [01:56<04:32, 38.93s/it]"
     ]
    },
    {
     "name": "stdout",
     "output_type": "stream",
     "text": [
      "=================================\n",
      "Initial portfolio value:100000\n",
      "Final portfolio value: 778722.625\n",
      "Final accumulative portfolio value: 7.78722625\n",
      "Maximum DrawDown: -0.2907241096648623\n",
      "Sharpe ratio: 1.2750291254285404\n",
      "=================================\n"
     ]
    },
    {
     "name": "stderr",
     "output_type": "stream",
     "text": [
      " 40%|████      | 4/10 [02:35<03:54, 39.02s/it]"
     ]
    },
    {
     "name": "stdout",
     "output_type": "stream",
     "text": [
      "=================================\n",
      "Initial portfolio value:100000\n",
      "Final portfolio value: 1069535.25\n",
      "Final accumulative portfolio value: 10.6953525\n",
      "Maximum DrawDown: -0.28057055178418955\n",
      "Sharpe ratio: 1.4681060528076744\n",
      "=================================\n"
     ]
    },
    {
     "name": "stderr",
     "output_type": "stream",
     "text": [
      " 50%|█████     | 5/10 [03:14<03:14, 38.96s/it]"
     ]
    },
    {
     "name": "stdout",
     "output_type": "stream",
     "text": [
      "=================================\n",
      "Initial portfolio value:100000\n",
      "Final portfolio value: 1111484.625\n",
      "Final accumulative portfolio value: 11.11484625\n",
      "Maximum DrawDown: -0.31718353920329223\n",
      "Sharpe ratio: 1.4441857476798916\n",
      "=================================\n"
     ]
    },
    {
     "name": "stderr",
     "output_type": "stream",
     "text": [
      " 60%|██████    | 6/10 [03:53<02:35, 38.96s/it]"
     ]
    },
    {
     "name": "stdout",
     "output_type": "stream",
     "text": [
      "=================================\n",
      "Initial portfolio value:100000\n",
      "Final portfolio value: 1001079.375\n",
      "Final accumulative portfolio value: 10.01079375\n",
      "Maximum DrawDown: -0.28039268065281386\n",
      "Sharpe ratio: 1.41861061160881\n",
      "=================================\n"
     ]
    },
    {
     "name": "stderr",
     "output_type": "stream",
     "text": [
      " 70%|███████   | 7/10 [04:32<01:57, 39.01s/it]"
     ]
    },
    {
     "name": "stdout",
     "output_type": "stream",
     "text": [
      "=================================\n",
      "Initial portfolio value:100000\n",
      "Final portfolio value: 706476.1875\n",
      "Final accumulative portfolio value: 7.064761875\n",
      "Maximum DrawDown: -0.44236042054479596\n",
      "Sharpe ratio: 1.1484056137778373\n",
      "=================================\n"
     ]
    },
    {
     "name": "stderr",
     "output_type": "stream",
     "text": [
      " 80%|████████  | 8/10 [05:11<01:17, 38.91s/it]"
     ]
    },
    {
     "name": "stdout",
     "output_type": "stream",
     "text": [
      "=================================\n",
      "Initial portfolio value:100000\n",
      "Final portfolio value: 694099.1875\n",
      "Final accumulative portfolio value: 6.940991875\n",
      "Maximum DrawDown: -0.44457106153389914\n",
      "Sharpe ratio: 1.1463367202593264\n",
      "=================================\n"
     ]
    },
    {
     "name": "stderr",
     "output_type": "stream",
     "text": [
      " 90%|█████████ | 9/10 [05:50<00:38, 38.87s/it]"
     ]
    },
    {
     "name": "stdout",
     "output_type": "stream",
     "text": [
      "=================================\n",
      "Initial portfolio value:100000\n",
      "Final portfolio value: 947913.75\n",
      "Final accumulative portfolio value: 9.4791375\n",
      "Maximum DrawDown: -0.4183787896488105\n",
      "Sharpe ratio: 1.2895088957006735\n",
      "=================================\n"
     ]
    },
    {
     "name": "stderr",
     "output_type": "stream",
     "text": [
      "100%|██████████| 10/10 [06:29<00:00, 38.96s/it]\n",
      "C:\\Users\\xutia\\AppData\\Local\\Temp\\ipykernel_17836\\976523745.py:42: FutureWarning: You are using `torch.load` with `weights_only=False` (the current default value), which uses the default pickle module implicitly. It is possible to construct malicious pickle data which will execute arbitrary code during unpickling (See https://github.com/pytorch/pytorch/blob/main/SECURITY.md#untrusted-models for more details). In a future release, the default value for `weights_only` will be flipped to `True`. This limits the functions that could be executed during unpickling. Arbitrary objects will no longer be allowed to be loaded via this mode unless they are explicitly allowlisted by the user via `torch.serialization.add_safe_globals`. We recommend you start setting `weights_only=True` for any use case where you don't have full control of the loaded file. Please open an issue on GitHub for any issues related to this experimental feature.\n",
      "  EIIE_policy.load_state_dict(torch.load(model_filename))\n"
     ]
    },
    {
     "name": "stdout",
     "output_type": "stream",
     "text": [
      "=================================\n",
      "Initial portfolio value:100000\n",
      "Final portfolio value: 928401.6875\n",
      "Final accumulative portfolio value: 9.284016875\n",
      "Maximum DrawDown: -0.2803926916155117\n",
      "Sharpe ratio: 1.3406878500096884\n",
      "=================================\n",
      "=================================\n",
      "Initial portfolio value:100000\n",
      "Final portfolio value: 130555.921875\n",
      "Final accumulative portfolio value: 1.30555921875\n",
      "Maximum DrawDown: -0.12885341795630556\n",
      "Sharpe ratio: 1.3119550458789098\n",
      "=================================\n"
     ]
    },
    {
     "name": "stderr",
     "output_type": "stream",
     "text": [
      "  0%|          | 0/10 [00:00<?, ?it/s]"
     ]
    },
    {
     "name": "stdout",
     "output_type": "stream",
     "text": [
      "=================================\n",
      "Initial portfolio value:100000\n",
      "Final portfolio value: 293491.96875\n",
      "Final accumulative portfolio value: 2.9349196875\n",
      "Maximum DrawDown: -0.31808597292484364\n",
      "Sharpe ratio: 0.8561958526837355\n",
      "=================================\n"
     ]
    },
    {
     "name": "stderr",
     "output_type": "stream",
     "text": [
      " 10%|█         | 1/10 [00:38<05:46, 38.52s/it]"
     ]
    },
    {
     "name": "stdout",
     "output_type": "stream",
     "text": [
      "=================================\n",
      "Initial portfolio value:100000\n",
      "Final portfolio value: 634302.75\n",
      "Final accumulative portfolio value: 6.3430275\n",
      "Maximum DrawDown: -0.2807681104795515\n",
      "Sharpe ratio: 1.194232696342548\n",
      "=================================\n"
     ]
    },
    {
     "name": "stderr",
     "output_type": "stream",
     "text": [
      " 20%|██        | 2/10 [01:17<05:11, 38.95s/it]"
     ]
    },
    {
     "name": "stdout",
     "output_type": "stream",
     "text": [
      "=================================\n",
      "Initial portfolio value:100000\n",
      "Final portfolio value: 734952.375\n",
      "Final accumulative portfolio value: 7.34952375\n",
      "Maximum DrawDown: -0.382035838716259\n",
      "Sharpe ratio: 1.1511876777712315\n",
      "=================================\n"
     ]
    },
    {
     "name": "stderr",
     "output_type": "stream",
     "text": [
      " 30%|███       | 3/10 [01:56<04:32, 38.97s/it]"
     ]
    },
    {
     "name": "stdout",
     "output_type": "stream",
     "text": [
      "=================================\n",
      "Initial portfolio value:100000\n",
      "Final portfolio value: 614568.75\n",
      "Final accumulative portfolio value: 6.1456875\n",
      "Maximum DrawDown: -0.3616366978915979\n",
      "Sharpe ratio: 1.035050996819304\n",
      "=================================\n"
     ]
    },
    {
     "name": "stderr",
     "output_type": "stream",
     "text": [
      " 40%|████      | 4/10 [02:35<03:53, 38.86s/it]"
     ]
    },
    {
     "name": "stdout",
     "output_type": "stream",
     "text": [
      "=================================\n",
      "Initial portfolio value:100000\n",
      "Final portfolio value: 664035.6875\n",
      "Final accumulative portfolio value: 6.640356875\n",
      "Maximum DrawDown: -0.30259071100218105\n",
      "Sharpe ratio: 1.1038039026423894\n",
      "=================================\n"
     ]
    },
    {
     "name": "stderr",
     "output_type": "stream",
     "text": [
      " 50%|█████     | 5/10 [03:14<03:14, 38.92s/it]"
     ]
    },
    {
     "name": "stdout",
     "output_type": "stream",
     "text": [
      "=================================\n",
      "Initial portfolio value:100000\n",
      "Final portfolio value: 418320.65625\n",
      "Final accumulative portfolio value: 4.1832065625\n",
      "Maximum DrawDown: -0.38515532298303257\n",
      "Sharpe ratio: 0.857255492322993\n",
      "=================================\n"
     ]
    },
    {
     "name": "stderr",
     "output_type": "stream",
     "text": [
      " 60%|██████    | 6/10 [03:53<02:36, 39.00s/it]"
     ]
    },
    {
     "name": "stdout",
     "output_type": "stream",
     "text": [
      "=================================\n",
      "Initial portfolio value:100000\n",
      "Final portfolio value: 750878.4375\n",
      "Final accumulative portfolio value: 7.508784375\n",
      "Maximum DrawDown: -0.3851583625550927\n",
      "Sharpe ratio: 1.2024116427146823\n",
      "=================================\n"
     ]
    },
    {
     "name": "stderr",
     "output_type": "stream",
     "text": [
      " 70%|███████   | 7/10 [04:32<01:56, 38.99s/it]"
     ]
    },
    {
     "name": "stdout",
     "output_type": "stream",
     "text": [
      "=================================\n",
      "Initial portfolio value:100000\n",
      "Final portfolio value: 791530.0\n",
      "Final accumulative portfolio value: 7.9153\n",
      "Maximum DrawDown: -0.38482362009811544\n",
      "Sharpe ratio: 1.2189697594271691\n",
      "=================================\n"
     ]
    },
    {
     "name": "stderr",
     "output_type": "stream",
     "text": [
      " 80%|████████  | 8/10 [05:11<01:17, 38.99s/it]"
     ]
    },
    {
     "name": "stdout",
     "output_type": "stream",
     "text": [
      "=================================\n",
      "Initial portfolio value:100000\n",
      "Final portfolio value: 728628.0625\n",
      "Final accumulative portfolio value: 7.286280625\n",
      "Maximum DrawDown: -0.3849886643624105\n",
      "Sharpe ratio: 1.1866395413247601\n",
      "=================================\n"
     ]
    },
    {
     "name": "stderr",
     "output_type": "stream",
     "text": [
      " 90%|█████████ | 9/10 [05:50<00:38, 38.81s/it]"
     ]
    },
    {
     "name": "stdout",
     "output_type": "stream",
     "text": [
      "=================================\n",
      "Initial portfolio value:100000\n",
      "Final portfolio value: 814387.0\n",
      "Final accumulative portfolio value: 8.14387\n",
      "Maximum DrawDown: -0.38515090149589626\n",
      "Sharpe ratio: 1.2476189105757398\n",
      "=================================\n"
     ]
    },
    {
     "name": "stderr",
     "output_type": "stream",
     "text": [
      "100%|██████████| 10/10 [06:29<00:00, 38.91s/it]\n",
      "C:\\Users\\xutia\\AppData\\Local\\Temp\\ipykernel_17836\\976523745.py:42: FutureWarning: You are using `torch.load` with `weights_only=False` (the current default value), which uses the default pickle module implicitly. It is possible to construct malicious pickle data which will execute arbitrary code during unpickling (See https://github.com/pytorch/pytorch/blob/main/SECURITY.md#untrusted-models for more details). In a future release, the default value for `weights_only` will be flipped to `True`. This limits the functions that could be executed during unpickling. Arbitrary objects will no longer be allowed to be loaded via this mode unless they are explicitly allowlisted by the user via `torch.serialization.add_safe_globals`. We recommend you start setting `weights_only=True` for any use case where you don't have full control of the loaded file. Please open an issue on GitHub for any issues related to this experimental feature.\n",
      "  EIIE_policy.load_state_dict(torch.load(model_filename))\n"
     ]
    },
    {
     "name": "stdout",
     "output_type": "stream",
     "text": [
      "=================================\n",
      "Initial portfolio value:100000\n",
      "Final portfolio value: 305605.21875\n",
      "Final accumulative portfolio value: 3.0560521875\n",
      "Maximum DrawDown: -0.34292210814985924\n",
      "Sharpe ratio: 0.7389318349028332\n",
      "=================================\n",
      "=================================\n",
      "Initial portfolio value:100000\n",
      "Final portfolio value: 163536.6875\n",
      "Final accumulative portfolio value: 1.635366875\n",
      "Maximum DrawDown: -0.11200478455565732\n",
      "Sharpe ratio: 2.4799971199771775\n",
      "=================================\n"
     ]
    },
    {
     "name": "stderr",
     "output_type": "stream",
     "text": [
      "  0%|          | 0/10 [00:00<?, ?it/s]"
     ]
    },
    {
     "name": "stdout",
     "output_type": "stream",
     "text": [
      "=================================\n",
      "Initial portfolio value:100000\n",
      "Final portfolio value: 278460.21875\n",
      "Final accumulative portfolio value: 2.7846021875\n",
      "Maximum DrawDown: -0.3206849674964133\n",
      "Sharpe ratio: 0.8545541626830399\n",
      "=================================\n"
     ]
    },
    {
     "name": "stderr",
     "output_type": "stream",
     "text": [
      " 10%|█         | 1/10 [00:38<05:50, 38.92s/it]"
     ]
    },
    {
     "name": "stdout",
     "output_type": "stream",
     "text": [
      "=================================\n",
      "Initial portfolio value:100000\n",
      "Final portfolio value: 590683.3125\n",
      "Final accumulative portfolio value: 5.906833125\n",
      "Maximum DrawDown: -0.2802100196531767\n",
      "Sharpe ratio: 1.1773979555701877\n",
      "=================================\n"
     ]
    },
    {
     "name": "stderr",
     "output_type": "stream",
     "text": [
      " 20%|██        | 2/10 [01:17<05:11, 39.00s/it]"
     ]
    },
    {
     "name": "stdout",
     "output_type": "stream",
     "text": [
      "=================================\n",
      "Initial portfolio value:100000\n",
      "Final portfolio value: 724739.5625\n",
      "Final accumulative portfolio value: 7.247395625\n",
      "Maximum DrawDown: -0.4196975594563004\n",
      "Sharpe ratio: 1.1306583283448124\n",
      "=================================\n"
     ]
    },
    {
     "name": "stderr",
     "output_type": "stream",
     "text": [
      " 30%|███       | 3/10 [01:56<04:33, 39.01s/it]"
     ]
    },
    {
     "name": "stdout",
     "output_type": "stream",
     "text": [
      "=================================\n",
      "Initial portfolio value:100000\n",
      "Final portfolio value: 863036.3125\n",
      "Final accumulative portfolio value: 8.630363125\n",
      "Maximum DrawDown: -0.2803717856985858\n",
      "Sharpe ratio: 1.2251919081591236\n",
      "=================================\n"
     ]
    },
    {
     "name": "stderr",
     "output_type": "stream",
     "text": [
      " 40%|████      | 4/10 [02:35<03:53, 38.98s/it]"
     ]
    },
    {
     "name": "stdout",
     "output_type": "stream",
     "text": [
      "=================================\n",
      "Initial portfolio value:100000\n",
      "Final portfolio value: 1015330.125\n",
      "Final accumulative portfolio value: 10.15330125\n",
      "Maximum DrawDown: -0.28039257446693766\n",
      "Sharpe ratio: 1.4211062204665668\n",
      "=================================\n"
     ]
    },
    {
     "name": "stderr",
     "output_type": "stream",
     "text": [
      " 50%|█████     | 5/10 [03:14<03:14, 38.91s/it]"
     ]
    },
    {
     "name": "stdout",
     "output_type": "stream",
     "text": [
      "=================================\n",
      "Initial portfolio value:100000\n",
      "Final portfolio value: 970833.8125\n",
      "Final accumulative portfolio value: 9.708338125\n",
      "Maximum DrawDown: -0.2803748930243295\n",
      "Sharpe ratio: 1.3708702555306453\n",
      "=================================\n"
     ]
    },
    {
     "name": "stderr",
     "output_type": "stream",
     "text": [
      " 60%|██████    | 6/10 [03:53<02:35, 38.89s/it]"
     ]
    },
    {
     "name": "stdout",
     "output_type": "stream",
     "text": [
      "=================================\n",
      "Initial portfolio value:100000\n",
      "Final portfolio value: 1105474.25\n",
      "Final accumulative portfolio value: 11.0547425\n",
      "Maximum DrawDown: -0.2803913414984792\n",
      "Sharpe ratio: 1.4376362559896736\n",
      "=================================\n"
     ]
    },
    {
     "name": "stderr",
     "output_type": "stream",
     "text": [
      " 70%|███████   | 7/10 [04:32<01:56, 38.93s/it]"
     ]
    },
    {
     "name": "stdout",
     "output_type": "stream",
     "text": [
      "=================================\n",
      "Initial portfolio value:100000\n",
      "Final portfolio value: 464809.25\n",
      "Final accumulative portfolio value: 4.6480925\n",
      "Maximum DrawDown: -0.4541130464880232\n",
      "Sharpe ratio: 0.9296044327482832\n",
      "=================================\n"
     ]
    },
    {
     "name": "stderr",
     "output_type": "stream",
     "text": [
      " 80%|████████  | 8/10 [05:11<01:17, 38.92s/it]"
     ]
    },
    {
     "name": "stdout",
     "output_type": "stream",
     "text": [
      "=================================\n",
      "Initial portfolio value:100000\n",
      "Final portfolio value: 692049.1875\n",
      "Final accumulative portfolio value: 6.920491875\n",
      "Maximum DrawDown: -0.4340173919731214\n",
      "Sharpe ratio: 1.1263254252380934\n",
      "=================================\n"
     ]
    },
    {
     "name": "stderr",
     "output_type": "stream",
     "text": [
      " 90%|█████████ | 9/10 [05:50<00:38, 38.96s/it]"
     ]
    },
    {
     "name": "stdout",
     "output_type": "stream",
     "text": [
      "=================================\n",
      "Initial portfolio value:100000\n",
      "Final portfolio value: 707669.1875\n",
      "Final accumulative portfolio value: 7.076691875\n",
      "Maximum DrawDown: -0.44260803178405117\n",
      "Sharpe ratio: 1.1439282414144283\n",
      "=================================\n"
     ]
    },
    {
     "name": "stderr",
     "output_type": "stream",
     "text": [
      "100%|██████████| 10/10 [06:29<00:00, 38.96s/it]\n",
      "C:\\Users\\xutia\\AppData\\Local\\Temp\\ipykernel_17836\\976523745.py:42: FutureWarning: You are using `torch.load` with `weights_only=False` (the current default value), which uses the default pickle module implicitly. It is possible to construct malicious pickle data which will execute arbitrary code during unpickling (See https://github.com/pytorch/pytorch/blob/main/SECURITY.md#untrusted-models for more details). In a future release, the default value for `weights_only` will be flipped to `True`. This limits the functions that could be executed during unpickling. Arbitrary objects will no longer be allowed to be loaded via this mode unless they are explicitly allowlisted by the user via `torch.serialization.add_safe_globals`. We recommend you start setting `weights_only=True` for any use case where you don't have full control of the loaded file. Please open an issue on GitHub for any issues related to this experimental feature.\n",
      "  EIIE_policy.load_state_dict(torch.load(model_filename))\n"
     ]
    },
    {
     "name": "stdout",
     "output_type": "stream",
     "text": [
      "=================================\n",
      "Initial portfolio value:100000\n",
      "Final portfolio value: 566151.0625\n",
      "Final accumulative portfolio value: 5.661510625\n",
      "Maximum DrawDown: -0.4689915338205719\n",
      "Sharpe ratio: 0.9976285039339775\n",
      "=================================\n",
      "=================================\n",
      "Initial portfolio value:100000\n",
      "Final portfolio value: 137927.234375\n",
      "Final accumulative portfolio value: 1.37927234375\n",
      "Maximum DrawDown: -0.17216032922932667\n",
      "Sharpe ratio: 1.5220237894404134\n",
      "=================================\n"
     ]
    },
    {
     "name": "stderr",
     "output_type": "stream",
     "text": [
      "  0%|          | 0/10 [00:00<?, ?it/s]"
     ]
    },
    {
     "name": "stdout",
     "output_type": "stream",
     "text": [
      "=================================\n",
      "Initial portfolio value:100000\n",
      "Final portfolio value: 199815.578125\n",
      "Final accumulative portfolio value: 1.99815578125\n",
      "Maximum DrawDown: -0.3280228431864304\n",
      "Sharpe ratio: 0.6923216695541979\n",
      "=================================\n"
     ]
    },
    {
     "name": "stderr",
     "output_type": "stream",
     "text": [
      " 10%|█         | 1/10 [00:39<05:52, 39.14s/it]"
     ]
    },
    {
     "name": "stdout",
     "output_type": "stream",
     "text": [
      "=================================\n",
      "Initial portfolio value:100000\n",
      "Final portfolio value: 234281.953125\n",
      "Final accumulative portfolio value: 2.34281953125\n",
      "Maximum DrawDown: -0.3395702934127557\n",
      "Sharpe ratio: 0.7775434427259102\n",
      "=================================\n"
     ]
    },
    {
     "name": "stderr",
     "output_type": "stream",
     "text": [
      " 20%|██        | 2/10 [01:23<05:38, 42.27s/it]"
     ]
    },
    {
     "name": "stdout",
     "output_type": "stream",
     "text": [
      "=================================\n",
      "Initial portfolio value:100000\n",
      "Final portfolio value: 240370.703125\n",
      "Final accumulative portfolio value: 2.40370703125\n",
      "Maximum DrawDown: -0.347849595209372\n",
      "Sharpe ratio: 0.7793764678458454\n",
      "=================================\n"
     ]
    },
    {
     "name": "stderr",
     "output_type": "stream",
     "text": [
      " 30%|███       | 3/10 [02:02<04:45, 40.75s/it]"
     ]
    },
    {
     "name": "stdout",
     "output_type": "stream",
     "text": [
      "=================================\n",
      "Initial portfolio value:100000\n",
      "Final portfolio value: 243220.359375\n",
      "Final accumulative portfolio value: 2.43220359375\n",
      "Maximum DrawDown: -0.35084971336119186\n",
      "Sharpe ratio: 0.7808148647840535\n",
      "=================================\n"
     ]
    },
    {
     "name": "stderr",
     "output_type": "stream",
     "text": [
      " 40%|████      | 4/10 [02:41<04:00, 40.08s/it]"
     ]
    },
    {
     "name": "stdout",
     "output_type": "stream",
     "text": [
      "=================================\n",
      "Initial portfolio value:100000\n",
      "Final portfolio value: 244105.0625\n",
      "Final accumulative portfolio value: 2.441050625\n",
      "Maximum DrawDown: -0.35175248745684684\n",
      "Sharpe ratio: 0.7812555266529673\n",
      "=================================\n"
     ]
    },
    {
     "name": "stderr",
     "output_type": "stream",
     "text": [
      " 50%|█████     | 5/10 [03:20<03:17, 39.60s/it]"
     ]
    },
    {
     "name": "stdout",
     "output_type": "stream",
     "text": [
      "=================================\n",
      "Initial portfolio value:100000\n",
      "Final portfolio value: 244402.6875\n",
      "Final accumulative portfolio value: 2.444026875\n",
      "Maximum DrawDown: -0.35208705029383613\n",
      "Sharpe ratio: 0.7813788308283008\n",
      "=================================\n"
     ]
    },
    {
     "name": "stderr",
     "output_type": "stream",
     "text": [
      " 60%|██████    | 6/10 [03:59<02:37, 39.48s/it]"
     ]
    },
    {
     "name": "stdout",
     "output_type": "stream",
     "text": [
      "=================================\n",
      "Initial portfolio value:100000\n",
      "Final portfolio value: 244526.84375\n",
      "Final accumulative portfolio value: 2.4452684375\n",
      "Maximum DrawDown: -0.35224896925001825\n",
      "Sharpe ratio: 0.7814049865646674\n",
      "=================================\n"
     ]
    },
    {
     "name": "stderr",
     "output_type": "stream",
     "text": [
      " 70%|███████   | 7/10 [04:38<01:57, 39.29s/it]"
     ]
    },
    {
     "name": "stdout",
     "output_type": "stream",
     "text": [
      "=================================\n",
      "Initial portfolio value:100000\n",
      "Final portfolio value: 244593.578125\n",
      "Final accumulative portfolio value: 2.44593578125\n",
      "Maximum DrawDown: -0.3523438630736787\n",
      "Sharpe ratio: 0.7814095897993453\n",
      "=================================\n"
     ]
    },
    {
     "name": "stderr",
     "output_type": "stream",
     "text": [
      " 80%|████████  | 8/10 [05:17<01:18, 39.26s/it]"
     ]
    },
    {
     "name": "stdout",
     "output_type": "stream",
     "text": [
      "=================================\n",
      "Initial portfolio value:100000\n",
      "Final portfolio value: 244635.15625\n",
      "Final accumulative portfolio value: 2.4463515625\n",
      "Maximum DrawDown: -0.3524057700076264\n",
      "Sharpe ratio: 0.7814096905685157\n",
      "=================================\n"
     ]
    },
    {
     "name": "stderr",
     "output_type": "stream",
     "text": [
      " 90%|█████████ | 9/10 [05:56<00:39, 39.16s/it]"
     ]
    },
    {
     "name": "stdout",
     "output_type": "stream",
     "text": [
      "=================================\n",
      "Initial portfolio value:100000\n",
      "Final portfolio value: 244668.3125\n",
      "Final accumulative portfolio value: 2.446683125\n",
      "Maximum DrawDown: -0.35244765036641346\n",
      "Sharpe ratio: 0.7814233585471898\n",
      "=================================\n"
     ]
    },
    {
     "name": "stderr",
     "output_type": "stream",
     "text": [
      "100%|██████████| 10/10 [06:35<00:00, 39.55s/it]\n",
      "C:\\Users\\xutia\\AppData\\Local\\Temp\\ipykernel_17836\\976523745.py:42: FutureWarning: You are using `torch.load` with `weights_only=False` (the current default value), which uses the default pickle module implicitly. It is possible to construct malicious pickle data which will execute arbitrary code during unpickling (See https://github.com/pytorch/pytorch/blob/main/SECURITY.md#untrusted-models for more details). In a future release, the default value for `weights_only` will be flipped to `True`. This limits the functions that could be executed during unpickling. Arbitrary objects will no longer be allowed to be loaded via this mode unless they are explicitly allowlisted by the user via `torch.serialization.add_safe_globals`. We recommend you start setting `weights_only=True` for any use case where you don't have full control of the loaded file. Please open an issue on GitHub for any issues related to this experimental feature.\n",
      "  EIIE_policy.load_state_dict(torch.load(model_filename))\n"
     ]
    },
    {
     "name": "stdout",
     "output_type": "stream",
     "text": [
      "=================================\n",
      "Initial portfolio value:100000\n",
      "Final portfolio value: 244773.640625\n",
      "Final accumulative portfolio value: 2.44773640625\n",
      "Maximum DrawDown: -0.3526186690212515\n",
      "Sharpe ratio: 0.7814261236365896\n",
      "=================================\n",
      "=================================\n",
      "Initial portfolio value:100000\n",
      "Final portfolio value: 131659.46875\n",
      "Final accumulative portfolio value: 1.3165946875\n",
      "Maximum DrawDown: -0.0445063781478352\n",
      "Sharpe ratio: 2.5988220206693162\n",
      "=================================\n"
     ]
    },
    {
     "name": "stderr",
     "output_type": "stream",
     "text": [
      "  0%|          | 0/10 [00:00<?, ?it/s]"
     ]
    },
    {
     "name": "stdout",
     "output_type": "stream",
     "text": [
      "=================================\n",
      "Initial portfolio value:100000\n",
      "Final portfolio value: 238206.0\n",
      "Final accumulative portfolio value: 2.38206\n",
      "Maximum DrawDown: -0.32730258043566807\n",
      "Sharpe ratio: 0.7969703953852861\n",
      "=================================\n"
     ]
    },
    {
     "name": "stderr",
     "output_type": "stream",
     "text": [
      " 10%|█         | 1/10 [00:39<05:51, 39.11s/it]"
     ]
    },
    {
     "name": "stdout",
     "output_type": "stream",
     "text": [
      "=================================\n",
      "Initial portfolio value:100000\n",
      "Final portfolio value: 324641.0625\n",
      "Final accumulative portfolio value: 3.246410625\n",
      "Maximum DrawDown: -0.3258380264539581\n",
      "Sharpe ratio: 0.952427288706867\n",
      "=================================\n"
     ]
    },
    {
     "name": "stderr",
     "output_type": "stream",
     "text": [
      " 20%|██        | 2/10 [01:17<05:11, 38.88s/it]"
     ]
    },
    {
     "name": "stdout",
     "output_type": "stream",
     "text": [
      "=================================\n",
      "Initial portfolio value:100000\n",
      "Final portfolio value: 514534.96875\n",
      "Final accumulative portfolio value: 5.1453496875\n",
      "Maximum DrawDown: -0.3112628055549215\n",
      "Sharpe ratio: 1.1161389924254947\n",
      "=================================\n"
     ]
    },
    {
     "name": "stderr",
     "output_type": "stream",
     "text": [
      " 30%|███       | 3/10 [01:56<04:32, 38.87s/it]"
     ]
    },
    {
     "name": "stdout",
     "output_type": "stream",
     "text": [
      "=================================\n",
      "Initial portfolio value:100000\n",
      "Final portfolio value: 660543.9375\n",
      "Final accumulative portfolio value: 6.605439375\n",
      "Maximum DrawDown: -0.2922658949295691\n",
      "Sharpe ratio: 1.210215275038491\n",
      "=================================\n"
     ]
    },
    {
     "name": "stderr",
     "output_type": "stream",
     "text": [
      " 40%|████      | 4/10 [02:35<03:53, 38.91s/it]"
     ]
    },
    {
     "name": "stdout",
     "output_type": "stream",
     "text": [
      "=================================\n",
      "Initial portfolio value:100000\n",
      "Final portfolio value: 808876.75\n",
      "Final accumulative portfolio value: 8.0887675\n",
      "Maximum DrawDown: -0.2804666107934395\n",
      "Sharpe ratio: 1.3290711376944404\n",
      "=================================\n"
     ]
    },
    {
     "name": "stderr",
     "output_type": "stream",
     "text": [
      " 50%|█████     | 5/10 [03:14<03:15, 39.00s/it]"
     ]
    },
    {
     "name": "stdout",
     "output_type": "stream",
     "text": [
      "=================================\n",
      "Initial portfolio value:100000\n",
      "Final portfolio value: 747134.75\n",
      "Final accumulative portfolio value: 7.4713475\n",
      "Maximum DrawDown: -0.28890036508509465\n",
      "Sharpe ratio: 1.2217829764310375\n",
      "=================================\n"
     ]
    },
    {
     "name": "stderr",
     "output_type": "stream",
     "text": [
      " 60%|██████    | 6/10 [03:53<02:35, 38.95s/it]"
     ]
    },
    {
     "name": "stdout",
     "output_type": "stream",
     "text": [
      "=================================\n",
      "Initial portfolio value:100000\n",
      "Final portfolio value: 873719.6875\n",
      "Final accumulative portfolio value: 8.737196875\n",
      "Maximum DrawDown: -0.2800227379535757\n",
      "Sharpe ratio: 1.3195533836695075\n",
      "=================================\n"
     ]
    },
    {
     "name": "stderr",
     "output_type": "stream",
     "text": [
      " 70%|███████   | 7/10 [04:32<01:57, 39.01s/it]"
     ]
    },
    {
     "name": "stdout",
     "output_type": "stream",
     "text": [
      "=================================\n",
      "Initial portfolio value:100000\n",
      "Final portfolio value: 1057830.125\n",
      "Final accumulative portfolio value: 10.57830125\n",
      "Maximum DrawDown: -0.2802080032398738\n",
      "Sharpe ratio: 1.4597444810520779\n",
      "=================================\n"
     ]
    },
    {
     "name": "stderr",
     "output_type": "stream",
     "text": [
      " 80%|████████  | 8/10 [05:11<01:17, 38.93s/it]"
     ]
    },
    {
     "name": "stdout",
     "output_type": "stream",
     "text": [
      "=================================\n",
      "Initial portfolio value:100000\n",
      "Final portfolio value: 994596.8125\n",
      "Final accumulative portfolio value: 9.945968125\n",
      "Maximum DrawDown: -0.325058168559336\n",
      "Sharpe ratio: 1.3761221364233407\n",
      "=================================\n"
     ]
    },
    {
     "name": "stderr",
     "output_type": "stream",
     "text": [
      " 90%|█████████ | 9/10 [05:50<00:38, 38.91s/it]"
     ]
    },
    {
     "name": "stdout",
     "output_type": "stream",
     "text": [
      "=================================\n",
      "Initial portfolio value:100000\n",
      "Final portfolio value: 1207581.375\n",
      "Final accumulative portfolio value: 12.07581375\n",
      "Maximum DrawDown: -0.2803860205673401\n",
      "Sharpe ratio: 1.526551885839692\n",
      "=================================\n"
     ]
    },
    {
     "name": "stderr",
     "output_type": "stream",
     "text": [
      "100%|██████████| 10/10 [06:28<00:00, 38.88s/it]\n",
      "C:\\Users\\xutia\\AppData\\Local\\Temp\\ipykernel_17836\\976523745.py:42: FutureWarning: You are using `torch.load` with `weights_only=False` (the current default value), which uses the default pickle module implicitly. It is possible to construct malicious pickle data which will execute arbitrary code during unpickling (See https://github.com/pytorch/pytorch/blob/main/SECURITY.md#untrusted-models for more details). In a future release, the default value for `weights_only` will be flipped to `True`. This limits the functions that could be executed during unpickling. Arbitrary objects will no longer be allowed to be loaded via this mode unless they are explicitly allowlisted by the user via `torch.serialization.add_safe_globals`. We recommend you start setting `weights_only=True` for any use case where you don't have full control of the loaded file. Please open an issue on GitHub for any issues related to this experimental feature.\n",
      "  EIIE_policy.load_state_dict(torch.load(model_filename))\n"
     ]
    },
    {
     "name": "stdout",
     "output_type": "stream",
     "text": [
      "=================================\n",
      "Initial portfolio value:100000\n",
      "Final portfolio value: 784107.3125\n",
      "Final accumulative portfolio value: 7.841073125\n",
      "Maximum DrawDown: -0.31538656499069717\n",
      "Sharpe ratio: 1.2567342915432886\n",
      "=================================\n",
      "=================================\n",
      "Initial portfolio value:100000\n",
      "Final portfolio value: 136832.609375\n",
      "Final accumulative portfolio value: 1.36832609375\n",
      "Maximum DrawDown: -0.12459062235689844\n",
      "Sharpe ratio: 1.581869591232878\n",
      "=================================\n"
     ]
    },
    {
     "name": "stderr",
     "output_type": "stream",
     "text": [
      "  0%|          | 0/10 [00:00<?, ?it/s]"
     ]
    },
    {
     "name": "stdout",
     "output_type": "stream",
     "text": [
      "=================================\n",
      "Initial portfolio value:100000\n",
      "Final portfolio value: 229934.71875\n",
      "Final accumulative portfolio value: 2.2993471875\n",
      "Maximum DrawDown: -0.3356427167719849\n",
      "Sharpe ratio: 0.7718361699555328\n",
      "=================================\n"
     ]
    },
    {
     "name": "stderr",
     "output_type": "stream",
     "text": [
      " 10%|█         | 1/10 [00:39<05:53, 39.23s/it]"
     ]
    },
    {
     "name": "stdout",
     "output_type": "stream",
     "text": [
      "=================================\n",
      "Initial portfolio value:100000\n",
      "Final portfolio value: 235688.203125\n",
      "Final accumulative portfolio value: 2.35688203125\n",
      "Maximum DrawDown: -0.3386504282869519\n",
      "Sharpe ratio: 0.7805478693665572\n",
      "=================================\n"
     ]
    },
    {
     "name": "stderr",
     "output_type": "stream",
     "text": [
      " 20%|██        | 2/10 [01:18<05:11, 38.98s/it]"
     ]
    },
    {
     "name": "stdout",
     "output_type": "stream",
     "text": [
      "=================================\n",
      "Initial portfolio value:100000\n",
      "Final portfolio value: 237198.421875\n",
      "Final accumulative portfolio value: 2.37198421875\n",
      "Maximum DrawDown: -0.3409261848545496\n",
      "Sharpe ratio: 0.780782068694651\n",
      "=================================\n"
     ]
    },
    {
     "name": "stderr",
     "output_type": "stream",
     "text": [
      " 30%|███       | 3/10 [01:56<04:31, 38.82s/it]"
     ]
    },
    {
     "name": "stdout",
     "output_type": "stream",
     "text": [
      "=================================\n",
      "Initial portfolio value:100000\n",
      "Final portfolio value: 238356.125\n",
      "Final accumulative portfolio value: 2.38356125\n",
      "Maximum DrawDown: -0.342688347549681\n",
      "Sharpe ratio: 0.780916701892188\n",
      "=================================\n"
     ]
    },
    {
     "name": "stderr",
     "output_type": "stream",
     "text": [
      " 40%|████      | 4/10 [02:35<03:53, 38.98s/it]"
     ]
    },
    {
     "name": "stdout",
     "output_type": "stream",
     "text": [
      "=================================\n",
      "Initial portfolio value:100000\n",
      "Final portfolio value: 239268.234375\n",
      "Final accumulative portfolio value: 2.39268234375\n",
      "Maximum DrawDown: -0.3440729090293173\n",
      "Sharpe ratio: 0.7810328391720868\n",
      "=================================\n"
     ]
    },
    {
     "name": "stderr",
     "output_type": "stream",
     "text": [
      " 50%|█████     | 5/10 [03:14<03:14, 38.91s/it]"
     ]
    },
    {
     "name": "stdout",
     "output_type": "stream",
     "text": [
      "=================================\n",
      "Initial portfolio value:100000\n",
      "Final portfolio value: 239992.453125\n",
      "Final accumulative portfolio value: 2.39992453125\n",
      "Maximum DrawDown: -0.3451759724610831\n",
      "Sharpe ratio: 0.7811143927691662\n",
      "=================================\n"
     ]
    },
    {
     "name": "stderr",
     "output_type": "stream",
     "text": [
      " 60%|██████    | 6/10 [03:53<02:35, 38.99s/it]"
     ]
    },
    {
     "name": "stdout",
     "output_type": "stream",
     "text": [
      "=================================\n",
      "Initial portfolio value:100000\n",
      "Final portfolio value: 240571.75\n",
      "Final accumulative portfolio value: 2.4057175\n",
      "Maximum DrawDown: -0.3460675081944249\n",
      "Sharpe ratio: 0.781159111759427\n",
      "=================================\n"
     ]
    },
    {
     "name": "stderr",
     "output_type": "stream",
     "text": [
      " 70%|███████   | 7/10 [04:32<01:56, 38.86s/it]"
     ]
    },
    {
     "name": "stdout",
     "output_type": "stream",
     "text": [
      "=================================\n",
      "Initial portfolio value:100000\n",
      "Final portfolio value: 241057.53125\n",
      "Final accumulative portfolio value: 2.4105753125\n",
      "Maximum DrawDown: -0.3467988743881749\n",
      "Sharpe ratio: 0.7812286460872333\n",
      "=================================\n"
     ]
    },
    {
     "name": "stderr",
     "output_type": "stream",
     "text": [
      " 80%|████████  | 8/10 [05:11<01:17, 38.86s/it]"
     ]
    },
    {
     "name": "stdout",
     "output_type": "stream",
     "text": [
      "=================================\n",
      "Initial portfolio value:100000\n",
      "Final portfolio value: 241455.609375\n",
      "Final accumulative portfolio value: 2.41455609375\n",
      "Maximum DrawDown: -0.3474057795935004\n",
      "Sharpe ratio: 0.7812724894781008\n",
      "=================================\n"
     ]
    },
    {
     "name": "stderr",
     "output_type": "stream",
     "text": [
      " 90%|█████████ | 9/10 [05:50<00:38, 38.94s/it]"
     ]
    },
    {
     "name": "stdout",
     "output_type": "stream",
     "text": [
      "=================================\n",
      "Initial portfolio value:100000\n",
      "Final portfolio value: 241779.25\n",
      "Final accumulative portfolio value: 2.4177925\n",
      "Maximum DrawDown: -0.3479172852354454\n",
      "Sharpe ratio: 0.7812755412322215\n",
      "=================================\n"
     ]
    },
    {
     "name": "stderr",
     "output_type": "stream",
     "text": [
      "100%|██████████| 10/10 [06:29<00:00, 38.96s/it]\n",
      "C:\\Users\\xutia\\AppData\\Local\\Temp\\ipykernel_17836\\976523745.py:42: FutureWarning: You are using `torch.load` with `weights_only=False` (the current default value), which uses the default pickle module implicitly. It is possible to construct malicious pickle data which will execute arbitrary code during unpickling (See https://github.com/pytorch/pytorch/blob/main/SECURITY.md#untrusted-models for more details). In a future release, the default value for `weights_only` will be flipped to `True`. This limits the functions that could be executed during unpickling. Arbitrary objects will no longer be allowed to be loaded via this mode unless they are explicitly allowlisted by the user via `torch.serialization.add_safe_globals`. We recommend you start setting `weights_only=True` for any use case where you don't have full control of the loaded file. Please open an issue on GitHub for any issues related to this experimental feature.\n",
      "  EIIE_policy.load_state_dict(torch.load(model_filename))\n"
     ]
    },
    {
     "name": "stdout",
     "output_type": "stream",
     "text": [
      "=================================\n",
      "Initial portfolio value:100000\n",
      "Final portfolio value: 242530.828125\n",
      "Final accumulative portfolio value: 2.42530828125\n",
      "Maximum DrawDown: -0.34970377275558084\n",
      "Sharpe ratio: 0.780701356956876\n",
      "=================================\n",
      "=================================\n",
      "Initial portfolio value:100000\n",
      "Final portfolio value: 131201.1875\n",
      "Final accumulative portfolio value: 1.312011875\n",
      "Maximum DrawDown: -0.04396710069519638\n",
      "Sharpe ratio: 2.5988309259003275\n",
      "=================================\n"
     ]
    },
    {
     "name": "stderr",
     "output_type": "stream",
     "text": [
      "  0%|          | 0/10 [00:00<?, ?it/s]"
     ]
    },
    {
     "name": "stdout",
     "output_type": "stream",
     "text": [
      "=================================\n",
      "Initial portfolio value:100000\n",
      "Final portfolio value: 279597.5625\n",
      "Final accumulative portfolio value: 2.795975625\n",
      "Maximum DrawDown: -0.3145413085245463\n",
      "Sharpe ratio: 0.8869096151324817\n",
      "=================================\n"
     ]
    },
    {
     "name": "stderr",
     "output_type": "stream",
     "text": [
      " 10%|█         | 1/10 [00:39<05:54, 39.42s/it]"
     ]
    },
    {
     "name": "stdout",
     "output_type": "stream",
     "text": [
      "=================================\n",
      "Initial portfolio value:100000\n",
      "Final portfolio value: 483995.40625\n",
      "Final accumulative portfolio value: 4.8399540625\n",
      "Maximum DrawDown: -0.2941817999892148\n",
      "Sharpe ratio: 1.1165220399171953\n",
      "=================================\n"
     ]
    },
    {
     "name": "stderr",
     "output_type": "stream",
     "text": [
      " 20%|██        | 2/10 [01:18<05:13, 39.20s/it]"
     ]
    },
    {
     "name": "stdout",
     "output_type": "stream",
     "text": [
      "=================================\n",
      "Initial portfolio value:100000\n",
      "Final portfolio value: 628346.8125\n",
      "Final accumulative portfolio value: 6.283468125\n",
      "Maximum DrawDown: -0.2950407448187533\n",
      "Sharpe ratio: 1.1744334884781764\n",
      "=================================\n"
     ]
    },
    {
     "name": "stderr",
     "output_type": "stream",
     "text": [
      " 30%|███       | 3/10 [01:57<04:35, 39.33s/it]"
     ]
    },
    {
     "name": "stdout",
     "output_type": "stream",
     "text": [
      "=================================\n",
      "Initial portfolio value:100000\n",
      "Final portfolio value: 764706.375\n",
      "Final accumulative portfolio value: 7.64706375\n",
      "Maximum DrawDown: -0.2816413042561666\n",
      "Sharpe ratio: 1.29028088683152\n",
      "=================================\n"
     ]
    },
    {
     "name": "stderr",
     "output_type": "stream",
     "text": [
      " 40%|████      | 4/10 [02:37<03:55, 39.22s/it]"
     ]
    },
    {
     "name": "stdout",
     "output_type": "stream",
     "text": [
      "=================================\n",
      "Initial portfolio value:100000\n",
      "Final portfolio value: 888697.875\n",
      "Final accumulative portfolio value: 8.88697875\n",
      "Maximum DrawDown: -0.2843907726227921\n",
      "Sharpe ratio: 1.3208931356368774\n",
      "=================================\n"
     ]
    },
    {
     "name": "stderr",
     "output_type": "stream",
     "text": [
      " 50%|█████     | 5/10 [03:16<03:16, 39.25s/it]"
     ]
    },
    {
     "name": "stdout",
     "output_type": "stream",
     "text": [
      "=================================\n",
      "Initial portfolio value:100000\n",
      "Final portfolio value: 1090425.375\n",
      "Final accumulative portfolio value: 10.90425375\n",
      "Maximum DrawDown: -0.2868811983495031\n",
      "Sharpe ratio: 1.372319741175335\n",
      "=================================\n"
     ]
    },
    {
     "name": "stderr",
     "output_type": "stream",
     "text": [
      " 60%|██████    | 6/10 [03:55<02:37, 39.31s/it]"
     ]
    },
    {
     "name": "stdout",
     "output_type": "stream",
     "text": [
      "=================================\n",
      "Initial portfolio value:100000\n",
      "Final portfolio value: 1258718.75\n",
      "Final accumulative portfolio value: 12.5871875\n",
      "Maximum DrawDown: -0.28032452734665336\n",
      "Sharpe ratio: 1.5270667321929705\n",
      "=================================\n"
     ]
    },
    {
     "name": "stderr",
     "output_type": "stream",
     "text": [
      " 70%|███████   | 7/10 [04:34<01:57, 39.26s/it]"
     ]
    },
    {
     "name": "stdout",
     "output_type": "stream",
     "text": [
      "=================================\n",
      "Initial portfolio value:100000\n",
      "Final portfolio value: 954032.375\n",
      "Final accumulative portfolio value: 9.54032375\n",
      "Maximum DrawDown: -0.3899587219517424\n",
      "Sharpe ratio: 1.2974202013297065\n",
      "=================================\n"
     ]
    },
    {
     "name": "stderr",
     "output_type": "stream",
     "text": [
      " 80%|████████  | 8/10 [05:14<01:18, 39.27s/it]"
     ]
    },
    {
     "name": "stdout",
     "output_type": "stream",
     "text": [
      "=================================\n",
      "Initial portfolio value:100000\n",
      "Final portfolio value: 1030148.625\n",
      "Final accumulative portfolio value: 10.30148625\n",
      "Maximum DrawDown: -0.28027567245583695\n",
      "Sharpe ratio: 1.3434983841864834\n",
      "=================================\n"
     ]
    },
    {
     "name": "stderr",
     "output_type": "stream",
     "text": [
      " 90%|█████████ | 9/10 [05:53<00:39, 39.27s/it]"
     ]
    },
    {
     "name": "stdout",
     "output_type": "stream",
     "text": [
      "=================================\n",
      "Initial portfolio value:100000\n",
      "Final portfolio value: 1243954.625\n",
      "Final accumulative portfolio value: 12.43954625\n",
      "Maximum DrawDown: -0.2803922634673447\n",
      "Sharpe ratio: 1.4941377617525848\n",
      "=================================\n"
     ]
    },
    {
     "name": "stderr",
     "output_type": "stream",
     "text": [
      "100%|██████████| 10/10 [06:32<00:00, 39.25s/it]\n",
      "C:\\Users\\xutia\\AppData\\Local\\Temp\\ipykernel_17836\\976523745.py:42: FutureWarning: You are using `torch.load` with `weights_only=False` (the current default value), which uses the default pickle module implicitly. It is possible to construct malicious pickle data which will execute arbitrary code during unpickling (See https://github.com/pytorch/pytorch/blob/main/SECURITY.md#untrusted-models for more details). In a future release, the default value for `weights_only` will be flipped to `True`. This limits the functions that could be executed during unpickling. Arbitrary objects will no longer be allowed to be loaded via this mode unless they are explicitly allowlisted by the user via `torch.serialization.add_safe_globals`. We recommend you start setting `weights_only=True` for any use case where you don't have full control of the loaded file. Please open an issue on GitHub for any issues related to this experimental feature.\n",
      "  EIIE_policy.load_state_dict(torch.load(model_filename))\n"
     ]
    },
    {
     "name": "stdout",
     "output_type": "stream",
     "text": [
      "=================================\n",
      "Initial portfolio value:100000\n",
      "Final portfolio value: 737274.3125\n",
      "Final accumulative portfolio value: 7.372743125\n",
      "Maximum DrawDown: -0.42657463238850535\n",
      "Sharpe ratio: 1.1481774098361046\n",
      "=================================\n",
      "=================================\n",
      "Initial portfolio value:100000\n",
      "Final portfolio value: 141258.625\n",
      "Final accumulative portfolio value: 1.41258625\n",
      "Maximum DrawDown: -0.10506801636159946\n",
      "Sharpe ratio: 1.912080072683092\n",
      "=================================\n"
     ]
    },
    {
     "name": "stderr",
     "output_type": "stream",
     "text": [
      "  0%|          | 0/10 [00:00<?, ?it/s]"
     ]
    },
    {
     "name": "stdout",
     "output_type": "stream",
     "text": [
      "=================================\n",
      "Initial portfolio value:100000\n",
      "Final portfolio value: 280308.21875\n",
      "Final accumulative portfolio value: 2.8030821875\n",
      "Maximum DrawDown: -0.2962681731239578\n",
      "Sharpe ratio: 0.8738631735887544\n",
      "=================================\n"
     ]
    },
    {
     "name": "stderr",
     "output_type": "stream",
     "text": [
      " 10%|█         | 1/10 [00:39<05:53, 39.27s/it]"
     ]
    },
    {
     "name": "stdout",
     "output_type": "stream",
     "text": [
      "=================================\n",
      "Initial portfolio value:100000\n",
      "Final portfolio value: 657767.75\n",
      "Final accumulative portfolio value: 6.5776775\n",
      "Maximum DrawDown: -0.28039292584085007\n",
      "Sharpe ratio: 1.2141999714330431\n",
      "=================================\n"
     ]
    },
    {
     "name": "stderr",
     "output_type": "stream",
     "text": [
      " 20%|██        | 2/10 [01:18<05:13, 39.16s/it]"
     ]
    },
    {
     "name": "stdout",
     "output_type": "stream",
     "text": [
      "=================================\n",
      "Initial portfolio value:100000\n",
      "Final portfolio value: 595160.5\n",
      "Final accumulative portfolio value: 5.951605\n",
      "Maximum DrawDown: -0.28039303171049834\n",
      "Sharpe ratio: 1.1451466474789338\n",
      "=================================\n"
     ]
    },
    {
     "name": "stderr",
     "output_type": "stream",
     "text": [
      " 30%|███       | 3/10 [01:57<04:34, 39.19s/it]"
     ]
    },
    {
     "name": "stdout",
     "output_type": "stream",
     "text": [
      "=================================\n",
      "Initial portfolio value:100000\n",
      "Final portfolio value: 575480.1875\n",
      "Final accumulative portfolio value: 5.754801875\n",
      "Maximum DrawDown: -0.455285050849744\n",
      "Sharpe ratio: 1.0144365784936857\n",
      "=================================\n"
     ]
    },
    {
     "name": "stderr",
     "output_type": "stream",
     "text": [
      " 40%|████      | 4/10 [02:36<03:53, 39.00s/it]"
     ]
    },
    {
     "name": "stdout",
     "output_type": "stream",
     "text": [
      "=================================\n",
      "Initial portfolio value:100000\n",
      "Final portfolio value: 322283.875\n",
      "Final accumulative portfolio value: 3.22283875\n",
      "Maximum DrawDown: -0.43417472183863104\n",
      "Sharpe ratio: 0.7303660886569049\n",
      "=================================\n"
     ]
    },
    {
     "name": "stderr",
     "output_type": "stream",
     "text": [
      " 50%|█████     | 5/10 [03:15<03:15, 39.01s/it]"
     ]
    },
    {
     "name": "stdout",
     "output_type": "stream",
     "text": [
      "=================================\n",
      "Initial portfolio value:100000\n",
      "Final portfolio value: 615882.5625\n",
      "Final accumulative portfolio value: 6.158825625\n",
      "Maximum DrawDown: -0.36366279172546134\n",
      "Sharpe ratio: 1.099300582571101\n",
      "=================================\n"
     ]
    },
    {
     "name": "stderr",
     "output_type": "stream",
     "text": [
      " 60%|██████    | 6/10 [03:54<02:36, 39.04s/it]"
     ]
    },
    {
     "name": "stdout",
     "output_type": "stream",
     "text": [
      "=================================\n",
      "Initial portfolio value:100000\n",
      "Final portfolio value: 1026274.25\n",
      "Final accumulative portfolio value: 10.2627425\n",
      "Maximum DrawDown: -0.28039299654826877\n",
      "Sharpe ratio: 1.4155455535729882\n",
      "=================================\n"
     ]
    },
    {
     "name": "stderr",
     "output_type": "stream",
     "text": [
      " 70%|███████   | 7/10 [04:33<01:56, 38.93s/it]"
     ]
    },
    {
     "name": "stdout",
     "output_type": "stream",
     "text": [
      "=================================\n",
      "Initial portfolio value:100000\n",
      "Final portfolio value: 748196.75\n",
      "Final accumulative portfolio value: 7.4819675\n",
      "Maximum DrawDown: -0.40295009310116103\n",
      "Sharpe ratio: 1.178844652500864\n",
      "=================================\n"
     ]
    },
    {
     "name": "stderr",
     "output_type": "stream",
     "text": [
      " 80%|████████  | 8/10 [05:12<01:18, 39.07s/it]"
     ]
    },
    {
     "name": "stdout",
     "output_type": "stream",
     "text": [
      "=================================\n",
      "Initial portfolio value:100000\n",
      "Final portfolio value: 1316013.375\n",
      "Final accumulative portfolio value: 13.16013375\n",
      "Maximum DrawDown: -0.28008241952947743\n",
      "Sharpe ratio: 1.5051748086665941\n",
      "=================================\n"
     ]
    },
    {
     "name": "stderr",
     "output_type": "stream",
     "text": [
      " 90%|█████████ | 9/10 [05:51<00:39, 39.04s/it]"
     ]
    },
    {
     "name": "stdout",
     "output_type": "stream",
     "text": [
      "=================================\n",
      "Initial portfolio value:100000\n",
      "Final portfolio value: 1305113.625\n",
      "Final accumulative portfolio value: 13.05113625\n",
      "Maximum DrawDown: -0.28039295904753847\n",
      "Sharpe ratio: 1.5181828159950848\n",
      "=================================\n"
     ]
    },
    {
     "name": "stderr",
     "output_type": "stream",
     "text": [
      "100%|██████████| 10/10 [06:30<00:00, 39.04s/it]\n",
      "C:\\Users\\xutia\\AppData\\Local\\Temp\\ipykernel_17836\\976523745.py:42: FutureWarning: You are using `torch.load` with `weights_only=False` (the current default value), which uses the default pickle module implicitly. It is possible to construct malicious pickle data which will execute arbitrary code during unpickling (See https://github.com/pytorch/pytorch/blob/main/SECURITY.md#untrusted-models for more details). In a future release, the default value for `weights_only` will be flipped to `True`. This limits the functions that could be executed during unpickling. Arbitrary objects will no longer be allowed to be loaded via this mode unless they are explicitly allowlisted by the user via `torch.serialization.add_safe_globals`. We recommend you start setting `weights_only=True` for any use case where you don't have full control of the loaded file. Please open an issue on GitHub for any issues related to this experimental feature.\n",
      "  EIIE_policy.load_state_dict(torch.load(model_filename))\n"
     ]
    },
    {
     "name": "stdout",
     "output_type": "stream",
     "text": [
      "=================================\n",
      "Initial portfolio value:100000\n",
      "Final portfolio value: 1000781.3125\n",
      "Final accumulative portfolio value: 10.007813125\n",
      "Maximum DrawDown: -0.2803928668715917\n",
      "Sharpe ratio: 1.3959727766247285\n",
      "=================================\n",
      "=================================\n",
      "Initial portfolio value:100000\n",
      "Final portfolio value: 154278.515625\n",
      "Final accumulative portfolio value: 1.54278515625\n",
      "Maximum DrawDown: -0.10887706659046592\n",
      "Sharpe ratio: 2.245337419501443\n",
      "=================================\n"
     ]
    },
    {
     "name": "stderr",
     "output_type": "stream",
     "text": [
      "  0%|          | 0/10 [00:00<?, ?it/s]"
     ]
    },
    {
     "name": "stdout",
     "output_type": "stream",
     "text": [
      "=================================\n",
      "Initial portfolio value:100000\n",
      "Final portfolio value: 277487.40625\n",
      "Final accumulative portfolio value: 2.7748740625\n",
      "Maximum DrawDown: -0.3083868136361644\n",
      "Sharpe ratio: 0.8700438584991208\n",
      "=================================\n"
     ]
    },
    {
     "name": "stderr",
     "output_type": "stream",
     "text": [
      " 10%|█         | 1/10 [00:39<05:53, 39.30s/it]"
     ]
    },
    {
     "name": "stdout",
     "output_type": "stream",
     "text": [
      "=================================\n",
      "Initial portfolio value:100000\n",
      "Final portfolio value: 566612.5\n",
      "Final accumulative portfolio value: 5.666125\n",
      "Maximum DrawDown: -0.28022800364318334\n",
      "Sharpe ratio: 1.1603982048997916\n",
      "=================================\n"
     ]
    },
    {
     "name": "stderr",
     "output_type": "stream",
     "text": [
      " 20%|██        | 2/10 [01:18<05:14, 39.35s/it]"
     ]
    },
    {
     "name": "stdout",
     "output_type": "stream",
     "text": [
      "=================================\n",
      "Initial portfolio value:100000\n",
      "Final portfolio value: 707859.5625\n",
      "Final accumulative portfolio value: 7.078595625\n",
      "Maximum DrawDown: -0.280361352500886\n",
      "Sharpe ratio: 1.2752051771249797\n",
      "=================================\n"
     ]
    },
    {
     "name": "stderr",
     "output_type": "stream",
     "text": [
      " 30%|███       | 3/10 [01:57<04:33, 39.09s/it]"
     ]
    },
    {
     "name": "stdout",
     "output_type": "stream",
     "text": [
      "=================================\n",
      "Initial portfolio value:100000\n",
      "Final portfolio value: 716958.875\n",
      "Final accumulative portfolio value: 7.16958875\n",
      "Maximum DrawDown: -0.3241631965595708\n",
      "Sharpe ratio: 1.2294104514652031\n",
      "=================================\n"
     ]
    },
    {
     "name": "stderr",
     "output_type": "stream",
     "text": [
      " 40%|████      | 4/10 [02:36<03:54, 39.14s/it]"
     ]
    },
    {
     "name": "stdout",
     "output_type": "stream",
     "text": [
      "=================================\n",
      "Initial portfolio value:100000\n",
      "Final portfolio value: 810396.6875\n",
      "Final accumulative portfolio value: 8.103966875\n",
      "Maximum DrawDown: -0.28039286603087554\n",
      "Sharpe ratio: 1.3133251811170787\n",
      "=================================\n"
     ]
    },
    {
     "name": "stderr",
     "output_type": "stream",
     "text": [
      " 50%|█████     | 5/10 [03:15<03:15, 39.09s/it]"
     ]
    },
    {
     "name": "stdout",
     "output_type": "stream",
     "text": [
      "=================================\n",
      "Initial portfolio value:100000\n",
      "Final portfolio value: 743242.0\n",
      "Final accumulative portfolio value: 7.43242\n",
      "Maximum DrawDown: -0.28039273880747784\n",
      "Sharpe ratio: 1.2663578880361506\n",
      "=================================\n"
     ]
    },
    {
     "name": "stderr",
     "output_type": "stream",
     "text": [
      " 60%|██████    | 6/10 [03:54<02:36, 39.10s/it]"
     ]
    },
    {
     "name": "stdout",
     "output_type": "stream",
     "text": [
      "=================================\n",
      "Initial portfolio value:100000\n",
      "Final portfolio value: 803039.6875\n",
      "Final accumulative portfolio value: 8.030396875\n",
      "Maximum DrawDown: -0.2803930046522257\n",
      "Sharpe ratio: 1.3092738030745048\n",
      "=================================\n"
     ]
    },
    {
     "name": "stderr",
     "output_type": "stream",
     "text": [
      " 70%|███████   | 7/10 [04:33<01:57, 39.09s/it]"
     ]
    },
    {
     "name": "stdout",
     "output_type": "stream",
     "text": [
      "=================================\n",
      "Initial portfolio value:100000\n",
      "Final portfolio value: 1068319.875\n",
      "Final accumulative portfolio value: 10.68319875\n",
      "Maximum DrawDown: -0.2803930380097268\n",
      "Sharpe ratio: 1.4478428862818524\n",
      "=================================\n"
     ]
    },
    {
     "name": "stderr",
     "output_type": "stream",
     "text": [
      " 80%|████████  | 8/10 [05:12<01:17, 38.99s/it]"
     ]
    },
    {
     "name": "stdout",
     "output_type": "stream",
     "text": [
      "=================================\n",
      "Initial portfolio value:100000\n",
      "Final portfolio value: 408282.75\n",
      "Final accumulative portfolio value: 4.0828275\n",
      "Maximum DrawDown: -0.5305334783771407\n",
      "Sharpe ratio: 0.8624565957892065\n",
      "=================================\n"
     ]
    },
    {
     "name": "stderr",
     "output_type": "stream",
     "text": [
      " 90%|█████████ | 9/10 [05:51<00:39, 39.04s/it]"
     ]
    },
    {
     "name": "stdout",
     "output_type": "stream",
     "text": [
      "=================================\n",
      "Initial portfolio value:100000\n",
      "Final portfolio value: 781477.6875\n",
      "Final accumulative portfolio value: 7.814776875\n",
      "Maximum DrawDown: -0.41557872259711726\n",
      "Sharpe ratio: 1.1909907781227578\n",
      "=================================\n"
     ]
    },
    {
     "name": "stderr",
     "output_type": "stream",
     "text": [
      "100%|██████████| 10/10 [06:31<00:00, 39.10s/it]\n",
      "C:\\Users\\xutia\\AppData\\Local\\Temp\\ipykernel_17836\\976523745.py:42: FutureWarning: You are using `torch.load` with `weights_only=False` (the current default value), which uses the default pickle module implicitly. It is possible to construct malicious pickle data which will execute arbitrary code during unpickling (See https://github.com/pytorch/pytorch/blob/main/SECURITY.md#untrusted-models for more details). In a future release, the default value for `weights_only` will be flipped to `True`. This limits the functions that could be executed during unpickling. Arbitrary objects will no longer be allowed to be loaded via this mode unless they are explicitly allowlisted by the user via `torch.serialization.add_safe_globals`. We recommend you start setting `weights_only=True` for any use case where you don't have full control of the loaded file. Please open an issue on GitHub for any issues related to this experimental feature.\n",
      "  EIIE_policy.load_state_dict(torch.load(model_filename))\n"
     ]
    },
    {
     "name": "stdout",
     "output_type": "stream",
     "text": [
      "=================================\n",
      "Initial portfolio value:100000\n",
      "Final portfolio value: 859284.375\n",
      "Final accumulative portfolio value: 8.59284375\n",
      "Maximum DrawDown: -0.28039297654191\n",
      "Sharpe ratio: 1.3044687331933937\n",
      "=================================\n",
      "=================================\n",
      "Initial portfolio value:100000\n",
      "Final portfolio value: 138162.65625\n",
      "Final accumulative portfolio value: 1.3816265625\n",
      "Maximum DrawDown: -0.10847367286390885\n",
      "Sharpe ratio: 1.7660685794602904\n",
      "=================================\n"
     ]
    },
    {
     "name": "stderr",
     "output_type": "stream",
     "text": [
      "  0%|          | 0/10 [00:00<?, ?it/s]"
     ]
    },
    {
     "name": "stdout",
     "output_type": "stream",
     "text": [
      "=================================\n",
      "Initial portfolio value:100000\n",
      "Final portfolio value: 227987.5\n",
      "Final accumulative portfolio value: 2.279875\n",
      "Maximum DrawDown: -0.3051288599071976\n",
      "Sharpe ratio: 0.7618914244233495\n",
      "=================================\n"
     ]
    },
    {
     "name": "stderr",
     "output_type": "stream",
     "text": [
      " 10%|█         | 1/10 [00:39<05:53, 39.30s/it]"
     ]
    },
    {
     "name": "stdout",
     "output_type": "stream",
     "text": [
      "=================================\n",
      "Initial portfolio value:100000\n",
      "Final portfolio value: 498693.53125\n",
      "Final accumulative portfolio value: 4.9869353125\n",
      "Maximum DrawDown: -0.28041859208886255\n",
      "Sharpe ratio: 1.0881714891888026\n",
      "=================================\n"
     ]
    },
    {
     "name": "stderr",
     "output_type": "stream",
     "text": [
      " 20%|██        | 2/10 [01:18<05:12, 39.12s/it]"
     ]
    },
    {
     "name": "stdout",
     "output_type": "stream",
     "text": [
      "=================================\n",
      "Initial portfolio value:100000\n",
      "Final portfolio value: 615492.9375\n",
      "Final accumulative portfolio value: 6.154929375\n",
      "Maximum DrawDown: -0.28550471126304355\n",
      "Sharpe ratio: 1.1329048624568425\n",
      "=================================\n"
     ]
    },
    {
     "name": "stderr",
     "output_type": "stream",
     "text": [
      " 30%|███       | 3/10 [01:57<04:33, 39.14s/it]"
     ]
    },
    {
     "name": "stdout",
     "output_type": "stream",
     "text": [
      "=================================\n",
      "Initial portfolio value:100000\n",
      "Final portfolio value: 878530.625\n",
      "Final accumulative portfolio value: 8.78530625\n",
      "Maximum DrawDown: -0.2803906430520704\n",
      "Sharpe ratio: 1.346627906212148\n",
      "=================================\n"
     ]
    },
    {
     "name": "stderr",
     "output_type": "stream",
     "text": [
      " 40%|████      | 4/10 [02:36<03:55, 39.22s/it]"
     ]
    },
    {
     "name": "stdout",
     "output_type": "stream",
     "text": [
      "=================================\n",
      "Initial portfolio value:100000\n",
      "Final portfolio value: 905026.875\n",
      "Final accumulative portfolio value: 9.05026875\n",
      "Maximum DrawDown: -0.4093204112210763\n",
      "Sharpe ratio: 1.253145007106942\n",
      "=================================\n"
     ]
    },
    {
     "name": "stderr",
     "output_type": "stream",
     "text": [
      " 50%|█████     | 5/10 [03:15<03:16, 39.21s/it]"
     ]
    },
    {
     "name": "stdout",
     "output_type": "stream",
     "text": [
      "=================================\n",
      "Initial portfolio value:100000\n",
      "Final portfolio value: 1380671.625\n",
      "Final accumulative portfolio value: 13.80671625\n",
      "Maximum DrawDown: -0.28038967398552783\n",
      "Sharpe ratio: 1.5539151188645712\n",
      "=================================\n"
     ]
    },
    {
     "name": "stderr",
     "output_type": "stream",
     "text": [
      " 60%|██████    | 6/10 [03:55<02:37, 39.25s/it]"
     ]
    },
    {
     "name": "stdout",
     "output_type": "stream",
     "text": [
      "=================================\n",
      "Initial portfolio value:100000\n",
      "Final portfolio value: 1178254.75\n",
      "Final accumulative portfolio value: 11.7825475\n",
      "Maximum DrawDown: -0.3305280186765762\n",
      "Sharpe ratio: 1.4400971782534684\n",
      "=================================\n"
     ]
    },
    {
     "name": "stderr",
     "output_type": "stream",
     "text": [
      " 70%|███████   | 7/10 [04:34<01:57, 39.28s/it]"
     ]
    },
    {
     "name": "stdout",
     "output_type": "stream",
     "text": [
      "=================================\n",
      "Initial portfolio value:100000\n",
      "Final portfolio value: 1080379.25\n",
      "Final accumulative portfolio value: 10.8037925\n",
      "Maximum DrawDown: -0.2803929753382418\n",
      "Sharpe ratio: 1.4512967987466485\n",
      "=================================\n"
     ]
    },
    {
     "name": "stderr",
     "output_type": "stream",
     "text": [
      " 80%|████████  | 8/10 [05:13<01:18, 39.20s/it]"
     ]
    },
    {
     "name": "stdout",
     "output_type": "stream",
     "text": [
      "=================================\n",
      "Initial portfolio value:100000\n",
      "Final portfolio value: 967271.875\n",
      "Final accumulative portfolio value: 9.67271875\n",
      "Maximum DrawDown: -0.2803931281457971\n",
      "Sharpe ratio: 1.3984508110999279\n",
      "=================================\n"
     ]
    },
    {
     "name": "stderr",
     "output_type": "stream",
     "text": [
      " 90%|█████████ | 9/10 [05:52<00:39, 39.21s/it]"
     ]
    },
    {
     "name": "stdout",
     "output_type": "stream",
     "text": [
      "=================================\n",
      "Initial portfolio value:100000\n",
      "Final portfolio value: 832523.5\n",
      "Final accumulative portfolio value: 8.325235\n",
      "Maximum DrawDown: -0.2803928409007078\n",
      "Sharpe ratio: 1.2837598276018634\n",
      "=================================\n"
     ]
    },
    {
     "name": "stderr",
     "output_type": "stream",
     "text": [
      "100%|██████████| 10/10 [06:32<00:00, 39.21s/it]\n",
      "C:\\Users\\xutia\\AppData\\Local\\Temp\\ipykernel_17836\\976523745.py:42: FutureWarning: You are using `torch.load` with `weights_only=False` (the current default value), which uses the default pickle module implicitly. It is possible to construct malicious pickle data which will execute arbitrary code during unpickling (See https://github.com/pytorch/pytorch/blob/main/SECURITY.md#untrusted-models for more details). In a future release, the default value for `weights_only` will be flipped to `True`. This limits the functions that could be executed during unpickling. Arbitrary objects will no longer be allowed to be loaded via this mode unless they are explicitly allowlisted by the user via `torch.serialization.add_safe_globals`. We recommend you start setting `weights_only=True` for any use case where you don't have full control of the loaded file. Please open an issue on GitHub for any issues related to this experimental feature.\n",
      "  EIIE_policy.load_state_dict(torch.load(model_filename))\n"
     ]
    },
    {
     "name": "stdout",
     "output_type": "stream",
     "text": [
      "=================================\n",
      "Initial portfolio value:100000\n",
      "Final portfolio value: 944380.75\n",
      "Final accumulative portfolio value: 9.4438075\n",
      "Maximum DrawDown: -0.28039299114571925\n",
      "Sharpe ratio: 1.374000181513452\n",
      "=================================\n",
      "=================================\n",
      "Initial portfolio value:100000\n",
      "Final portfolio value: 140131.84375\n",
      "Final accumulative portfolio value: 1.4013184375\n",
      "Maximum DrawDown: -0.07633849089818301\n",
      "Sharpe ratio: 1.9525962630684983\n",
      "=================================\n"
     ]
    },
    {
     "data": {
      "text/html": [
       "<div>\n",
       "<style scoped>\n",
       "    .dataframe tbody tr th:only-of-type {\n",
       "        vertical-align: middle;\n",
       "    }\n",
       "\n",
       "    .dataframe tbody tr th {\n",
       "        vertical-align: top;\n",
       "    }\n",
       "\n",
       "    .dataframe thead th {\n",
       "        text-align: right;\n",
       "    }\n",
       "</style>\n",
       "<table border=\"1\" class=\"dataframe\">\n",
       "  <thead>\n",
       "    <tr style=\"text-align: right;\">\n",
       "      <th></th>\n",
       "      <th>TIME_WINDOW</th>\n",
       "      <th>K_SIZE</th>\n",
       "      <th>CONV_MID</th>\n",
       "      <th>CONV_FINAL</th>\n",
       "      <th>LEARNING_RATE</th>\n",
       "      <th>train_portfolio_value</th>\n",
       "      <th>train_drawdown</th>\n",
       "      <th>train_sharpe</th>\n",
       "      <th>train_cumulative</th>\n",
       "      <th>test_portfolio_value</th>\n",
       "      <th>test_drawdown</th>\n",
       "      <th>test_sharpe</th>\n",
       "      <th>test_cumulative</th>\n",
       "    </tr>\n",
       "  </thead>\n",
       "  <tbody>\n",
       "    <tr>\n",
       "      <th>0</th>\n",
       "      <td>30</td>\n",
       "      <td>3</td>\n",
       "      <td>5</td>\n",
       "      <td>5</td>\n",
       "      <td>0.01</td>\n",
       "      <td>4.562377e+05</td>\n",
       "      <td>-0.307902</td>\n",
       "      <td>1.013526</td>\n",
       "      <td>4.562377</td>\n",
       "      <td>123691.015625</td>\n",
       "      <td>-0.169326</td>\n",
       "      <td>1.023473</td>\n",
       "      <td>1.236910</td>\n",
       "    </tr>\n",
       "    <tr>\n",
       "      <th>1</th>\n",
       "      <td>30</td>\n",
       "      <td>3</td>\n",
       "      <td>5</td>\n",
       "      <td>5</td>\n",
       "      <td>0.02</td>\n",
       "      <td>2.418125e+05</td>\n",
       "      <td>-0.348787</td>\n",
       "      <td>0.780890</td>\n",
       "      <td>2.418125</td>\n",
       "      <td>131050.312500</td>\n",
       "      <td>-0.043791</td>\n",
       "      <td>2.610650</td>\n",
       "      <td>1.310503</td>\n",
       "    </tr>\n",
       "    <tr>\n",
       "      <th>2</th>\n",
       "      <td>30</td>\n",
       "      <td>3</td>\n",
       "      <td>5</td>\n",
       "      <td>10</td>\n",
       "      <td>0.01</td>\n",
       "      <td>9.961356e+05</td>\n",
       "      <td>-0.283501</td>\n",
       "      <td>1.376877</td>\n",
       "      <td>9.961356</td>\n",
       "      <td>130281.671875</td>\n",
       "      <td>-0.121134</td>\n",
       "      <td>1.332969</td>\n",
       "      <td>1.302817</td>\n",
       "    </tr>\n",
       "    <tr>\n",
       "      <th>3</th>\n",
       "      <td>30</td>\n",
       "      <td>3</td>\n",
       "      <td>5</td>\n",
       "      <td>10</td>\n",
       "      <td>0.02</td>\n",
       "      <td>6.891379e+05</td>\n",
       "      <td>-0.284127</td>\n",
       "      <td>1.159576</td>\n",
       "      <td>6.891379</td>\n",
       "      <td>120784.789062</td>\n",
       "      <td>-0.110029</td>\n",
       "      <td>1.157663</td>\n",
       "      <td>1.207848</td>\n",
       "    </tr>\n",
       "    <tr>\n",
       "      <th>4</th>\n",
       "      <td>30</td>\n",
       "      <td>3</td>\n",
       "      <td>5</td>\n",
       "      <td>20</td>\n",
       "      <td>0.01</td>\n",
       "      <td>9.711291e+05</td>\n",
       "      <td>-0.391713</td>\n",
       "      <td>1.312430</td>\n",
       "      <td>9.711291</td>\n",
       "      <td>141142.906250</td>\n",
       "      <td>-0.107076</td>\n",
       "      <td>1.818086</td>\n",
       "      <td>1.411429</td>\n",
       "    </tr>\n",
       "    <tr>\n",
       "      <th>5</th>\n",
       "      <td>30</td>\n",
       "      <td>3</td>\n",
       "      <td>5</td>\n",
       "      <td>20</td>\n",
       "      <td>0.02</td>\n",
       "      <td>8.226901e+05</td>\n",
       "      <td>-0.314271</td>\n",
       "      <td>1.266048</td>\n",
       "      <td>8.226901</td>\n",
       "      <td>133073.359375</td>\n",
       "      <td>-0.111271</td>\n",
       "      <td>1.668572</td>\n",
       "      <td>1.330734</td>\n",
       "    </tr>\n",
       "    <tr>\n",
       "      <th>6</th>\n",
       "      <td>30</td>\n",
       "      <td>3</td>\n",
       "      <td>10</td>\n",
       "      <td>5</td>\n",
       "      <td>0.01</td>\n",
       "      <td>2.400718e+05</td>\n",
       "      <td>-0.348218</td>\n",
       "      <td>0.775976</td>\n",
       "      <td>2.400717</td>\n",
       "      <td>120128.218750</td>\n",
       "      <td>-0.118614</td>\n",
       "      <td>1.096229</td>\n",
       "      <td>1.201282</td>\n",
       "    </tr>\n",
       "    <tr>\n",
       "      <th>7</th>\n",
       "      <td>30</td>\n",
       "      <td>3</td>\n",
       "      <td>10</td>\n",
       "      <td>5</td>\n",
       "      <td>0.02</td>\n",
       "      <td>5.443576e+05</td>\n",
       "      <td>-0.411767</td>\n",
       "      <td>1.000080</td>\n",
       "      <td>5.443576</td>\n",
       "      <td>106025.203125</td>\n",
       "      <td>-0.111891</td>\n",
       "      <td>0.437434</td>\n",
       "      <td>1.060252</td>\n",
       "    </tr>\n",
       "    <tr>\n",
       "      <th>8</th>\n",
       "      <td>30</td>\n",
       "      <td>3</td>\n",
       "      <td>10</td>\n",
       "      <td>10</td>\n",
       "      <td>0.01</td>\n",
       "      <td>7.946723e+05</td>\n",
       "      <td>-0.287454</td>\n",
       "      <td>1.217977</td>\n",
       "      <td>7.946723</td>\n",
       "      <td>126670.906250</td>\n",
       "      <td>-0.158234</td>\n",
       "      <td>1.198747</td>\n",
       "      <td>1.266709</td>\n",
       "    </tr>\n",
       "    <tr>\n",
       "      <th>9</th>\n",
       "      <td>30</td>\n",
       "      <td>3</td>\n",
       "      <td>10</td>\n",
       "      <td>10</td>\n",
       "      <td>0.02</td>\n",
       "      <td>5.565505e+05</td>\n",
       "      <td>-0.280393</td>\n",
       "      <td>1.086433</td>\n",
       "      <td>5.565505</td>\n",
       "      <td>113928.382812</td>\n",
       "      <td>-0.123354</td>\n",
       "      <td>0.806448</td>\n",
       "      <td>1.139284</td>\n",
       "    </tr>\n",
       "    <tr>\n",
       "      <th>10</th>\n",
       "      <td>30</td>\n",
       "      <td>3</td>\n",
       "      <td>10</td>\n",
       "      <td>20</td>\n",
       "      <td>0.01</td>\n",
       "      <td>7.563936e+05</td>\n",
       "      <td>-0.321115</td>\n",
       "      <td>1.230626</td>\n",
       "      <td>7.563936</td>\n",
       "      <td>134523.625000</td>\n",
       "      <td>-0.108923</td>\n",
       "      <td>2.005972</td>\n",
       "      <td>1.345236</td>\n",
       "    </tr>\n",
       "    <tr>\n",
       "      <th>11</th>\n",
       "      <td>30</td>\n",
       "      <td>3</td>\n",
       "      <td>10</td>\n",
       "      <td>20</td>\n",
       "      <td>0.02</td>\n",
       "      <td>7.035841e+05</td>\n",
       "      <td>-0.280393</td>\n",
       "      <td>1.228069</td>\n",
       "      <td>7.035841</td>\n",
       "      <td>112935.476562</td>\n",
       "      <td>-0.111891</td>\n",
       "      <td>0.814394</td>\n",
       "      <td>1.129355</td>\n",
       "    </tr>\n",
       "    <tr>\n",
       "      <th>12</th>\n",
       "      <td>30</td>\n",
       "      <td>3</td>\n",
       "      <td>20</td>\n",
       "      <td>5</td>\n",
       "      <td>0.01</td>\n",
       "      <td>1.340437e+06</td>\n",
       "      <td>-0.276962</td>\n",
       "      <td>1.538813</td>\n",
       "      <td>13.404367</td>\n",
       "      <td>130752.257812</td>\n",
       "      <td>-0.120072</td>\n",
       "      <td>1.333319</td>\n",
       "      <td>1.307523</td>\n",
       "    </tr>\n",
       "    <tr>\n",
       "      <th>13</th>\n",
       "      <td>30</td>\n",
       "      <td>3</td>\n",
       "      <td>20</td>\n",
       "      <td>5</td>\n",
       "      <td>0.02</td>\n",
       "      <td>3.831648e+05</td>\n",
       "      <td>-0.282040</td>\n",
       "      <td>0.857661</td>\n",
       "      <td>3.831647</td>\n",
       "      <td>108298.859375</td>\n",
       "      <td>-0.113514</td>\n",
       "      <td>0.539900</td>\n",
       "      <td>1.082989</td>\n",
       "    </tr>\n",
       "    <tr>\n",
       "      <th>14</th>\n",
       "      <td>30</td>\n",
       "      <td>3</td>\n",
       "      <td>20</td>\n",
       "      <td>10</td>\n",
       "      <td>0.01</td>\n",
       "      <td>6.468569e+05</td>\n",
       "      <td>-0.280311</td>\n",
       "      <td>1.151115</td>\n",
       "      <td>6.468569</td>\n",
       "      <td>117566.289062</td>\n",
       "      <td>-0.206406</td>\n",
       "      <td>0.837932</td>\n",
       "      <td>1.175663</td>\n",
       "    </tr>\n",
       "    <tr>\n",
       "      <th>15</th>\n",
       "      <td>30</td>\n",
       "      <td>3</td>\n",
       "      <td>20</td>\n",
       "      <td>10</td>\n",
       "      <td>0.02</td>\n",
       "      <td>1.050828e+06</td>\n",
       "      <td>-0.319973</td>\n",
       "      <td>1.387547</td>\n",
       "      <td>10.508281</td>\n",
       "      <td>123565.796875</td>\n",
       "      <td>-0.106694</td>\n",
       "      <td>1.257087</td>\n",
       "      <td>1.235658</td>\n",
       "    </tr>\n",
       "    <tr>\n",
       "      <th>16</th>\n",
       "      <td>30</td>\n",
       "      <td>3</td>\n",
       "      <td>20</td>\n",
       "      <td>20</td>\n",
       "      <td>0.01</td>\n",
       "      <td>4.474291e+05</td>\n",
       "      <td>-0.300911</td>\n",
       "      <td>0.987416</td>\n",
       "      <td>4.474291</td>\n",
       "      <td>135832.515625</td>\n",
       "      <td>-0.108864</td>\n",
       "      <td>1.680108</td>\n",
       "      <td>1.358325</td>\n",
       "    </tr>\n",
       "    <tr>\n",
       "      <th>17</th>\n",
       "      <td>30</td>\n",
       "      <td>3</td>\n",
       "      <td>20</td>\n",
       "      <td>20</td>\n",
       "      <td>0.02</td>\n",
       "      <td>7.692504e+05</td>\n",
       "      <td>-0.385159</td>\n",
       "      <td>1.225212</td>\n",
       "      <td>7.692504</td>\n",
       "      <td>122107.554688</td>\n",
       "      <td>-0.172161</td>\n",
       "      <td>0.955756</td>\n",
       "      <td>1.221076</td>\n",
       "    </tr>\n",
       "    <tr>\n",
       "      <th>18</th>\n",
       "      <td>30</td>\n",
       "      <td>4</td>\n",
       "      <td>5</td>\n",
       "      <td>5</td>\n",
       "      <td>0.01</td>\n",
       "      <td>2.373292e+05</td>\n",
       "      <td>-0.341833</td>\n",
       "      <td>0.780416</td>\n",
       "      <td>2.373292</td>\n",
       "      <td>130180.218750</td>\n",
       "      <td>-0.042711</td>\n",
       "      <td>2.610640</td>\n",
       "      <td>1.301802</td>\n",
       "    </tr>\n",
       "    <tr>\n",
       "      <th>19</th>\n",
       "      <td>30</td>\n",
       "      <td>4</td>\n",
       "      <td>5</td>\n",
       "      <td>5</td>\n",
       "      <td>0.02</td>\n",
       "      <td>8.125652e+05</td>\n",
       "      <td>-0.282054</td>\n",
       "      <td>1.257538</td>\n",
       "      <td>8.125652</td>\n",
       "      <td>139917.390625</td>\n",
       "      <td>-0.118574</td>\n",
       "      <td>1.670606</td>\n",
       "      <td>1.399174</td>\n",
       "    </tr>\n",
       "    <tr>\n",
       "      <th>20</th>\n",
       "      <td>30</td>\n",
       "      <td>4</td>\n",
       "      <td>5</td>\n",
       "      <td>10</td>\n",
       "      <td>0.01</td>\n",
       "      <td>7.274078e+05</td>\n",
       "      <td>-0.280393</td>\n",
       "      <td>1.195638</td>\n",
       "      <td>7.274077</td>\n",
       "      <td>123198.601562</td>\n",
       "      <td>-0.105701</td>\n",
       "      <td>1.395118</td>\n",
       "      <td>1.231986</td>\n",
       "    </tr>\n",
       "    <tr>\n",
       "      <th>21</th>\n",
       "      <td>30</td>\n",
       "      <td>4</td>\n",
       "      <td>5</td>\n",
       "      <td>10</td>\n",
       "      <td>0.02</td>\n",
       "      <td>8.752369e+05</td>\n",
       "      <td>-0.300290</td>\n",
       "      <td>1.357243</td>\n",
       "      <td>8.752369</td>\n",
       "      <td>115817.015625</td>\n",
       "      <td>-0.111740</td>\n",
       "      <td>0.899762</td>\n",
       "      <td>1.158170</td>\n",
       "    </tr>\n",
       "    <tr>\n",
       "      <th>22</th>\n",
       "      <td>30</td>\n",
       "      <td>4</td>\n",
       "      <td>5</td>\n",
       "      <td>20</td>\n",
       "      <td>0.01</td>\n",
       "      <td>2.445763e+05</td>\n",
       "      <td>-0.352486</td>\n",
       "      <td>0.781698</td>\n",
       "      <td>2.445763</td>\n",
       "      <td>131607.125000</td>\n",
       "      <td>-0.044457</td>\n",
       "      <td>2.610755</td>\n",
       "      <td>1.316071</td>\n",
       "    </tr>\n",
       "    <tr>\n",
       "      <th>23</th>\n",
       "      <td>30</td>\n",
       "      <td>4</td>\n",
       "      <td>5</td>\n",
       "      <td>20</td>\n",
       "      <td>0.02</td>\n",
       "      <td>3.075309e+05</td>\n",
       "      <td>-0.348264</td>\n",
       "      <td>0.923161</td>\n",
       "      <td>3.075309</td>\n",
       "      <td>139279.515625</td>\n",
       "      <td>-0.118891</td>\n",
       "      <td>1.715736</td>\n",
       "      <td>1.392795</td>\n",
       "    </tr>\n",
       "    <tr>\n",
       "      <th>24</th>\n",
       "      <td>30</td>\n",
       "      <td>4</td>\n",
       "      <td>10</td>\n",
       "      <td>5</td>\n",
       "      <td>0.01</td>\n",
       "      <td>2.396595e+05</td>\n",
       "      <td>-0.345231</td>\n",
       "      <td>0.780900</td>\n",
       "      <td>2.396595</td>\n",
       "      <td>130648.000000</td>\n",
       "      <td>-0.043280</td>\n",
       "      <td>2.610633</td>\n",
       "      <td>1.306480</td>\n",
       "    </tr>\n",
       "    <tr>\n",
       "      <th>25</th>\n",
       "      <td>30</td>\n",
       "      <td>4</td>\n",
       "      <td>10</td>\n",
       "      <td>5</td>\n",
       "      <td>0.02</td>\n",
       "      <td>2.445800e+05</td>\n",
       "      <td>-0.352469</td>\n",
       "      <td>0.781717</td>\n",
       "      <td>2.445800</td>\n",
       "      <td>131611.734375</td>\n",
       "      <td>-0.044459</td>\n",
       "      <td>2.610714</td>\n",
       "      <td>1.316117</td>\n",
       "    </tr>\n",
       "    <tr>\n",
       "      <th>26</th>\n",
       "      <td>30</td>\n",
       "      <td>4</td>\n",
       "      <td>10</td>\n",
       "      <td>10</td>\n",
       "      <td>0.01</td>\n",
       "      <td>9.546189e+05</td>\n",
       "      <td>-0.316805</td>\n",
       "      <td>1.328914</td>\n",
       "      <td>9.546189</td>\n",
       "      <td>149695.171875</td>\n",
       "      <td>-0.108877</td>\n",
       "      <td>2.091158</td>\n",
       "      <td>1.496952</td>\n",
       "    </tr>\n",
       "    <tr>\n",
       "      <th>27</th>\n",
       "      <td>30</td>\n",
       "      <td>4</td>\n",
       "      <td>10</td>\n",
       "      <td>10</td>\n",
       "      <td>0.02</td>\n",
       "      <td>4.463598e+05</td>\n",
       "      <td>-0.411896</td>\n",
       "      <td>0.883628</td>\n",
       "      <td>4.463598</td>\n",
       "      <td>172013.046875</td>\n",
       "      <td>-0.087967</td>\n",
       "      <td>2.702813</td>\n",
       "      <td>1.720130</td>\n",
       "    </tr>\n",
       "    <tr>\n",
       "      <th>28</th>\n",
       "      <td>30</td>\n",
       "      <td>4</td>\n",
       "      <td>10</td>\n",
       "      <td>20</td>\n",
       "      <td>0.01</td>\n",
       "      <td>7.420342e+05</td>\n",
       "      <td>-0.402310</td>\n",
       "      <td>1.181446</td>\n",
       "      <td>7.420342</td>\n",
       "      <td>136968.187500</td>\n",
       "      <td>-0.120383</td>\n",
       "      <td>1.586443</td>\n",
       "      <td>1.369682</td>\n",
       "    </tr>\n",
       "    <tr>\n",
       "      <th>29</th>\n",
       "      <td>30</td>\n",
       "      <td>4</td>\n",
       "      <td>10</td>\n",
       "      <td>20</td>\n",
       "      <td>0.02</td>\n",
       "      <td>1.000000e+05</td>\n",
       "      <td>0.000000</td>\n",
       "      <td>NaN</td>\n",
       "      <td>1.000000</td>\n",
       "      <td>100000.000000</td>\n",
       "      <td>0.000000</td>\n",
       "      <td>NaN</td>\n",
       "      <td>1.000000</td>\n",
       "    </tr>\n",
       "    <tr>\n",
       "      <th>30</th>\n",
       "      <td>30</td>\n",
       "      <td>4</td>\n",
       "      <td>20</td>\n",
       "      <td>5</td>\n",
       "      <td>0.01</td>\n",
       "      <td>8.767533e+05</td>\n",
       "      <td>-0.314302</td>\n",
       "      <td>1.311068</td>\n",
       "      <td>8.767533</td>\n",
       "      <td>128768.789062</td>\n",
       "      <td>-0.129157</td>\n",
       "      <td>1.319164</td>\n",
       "      <td>1.287688</td>\n",
       "    </tr>\n",
       "    <tr>\n",
       "      <th>31</th>\n",
       "      <td>30</td>\n",
       "      <td>4</td>\n",
       "      <td>20</td>\n",
       "      <td>5</td>\n",
       "      <td>0.02</td>\n",
       "      <td>5.879287e+05</td>\n",
       "      <td>-0.298469</td>\n",
       "      <td>1.087785</td>\n",
       "      <td>5.879287</td>\n",
       "      <td>118728.773438</td>\n",
       "      <td>-0.172301</td>\n",
       "      <td>0.870599</td>\n",
       "      <td>1.187288</td>\n",
       "    </tr>\n",
       "    <tr>\n",
       "      <th>32</th>\n",
       "      <td>30</td>\n",
       "      <td>4</td>\n",
       "      <td>20</td>\n",
       "      <td>10</td>\n",
       "      <td>0.01</td>\n",
       "      <td>6.072615e+05</td>\n",
       "      <td>-0.378852</td>\n",
       "      <td>1.107154</td>\n",
       "      <td>6.072615</td>\n",
       "      <td>126840.507812</td>\n",
       "      <td>-0.120129</td>\n",
       "      <td>1.204862</td>\n",
       "      <td>1.268405</td>\n",
       "    </tr>\n",
       "    <tr>\n",
       "      <th>33</th>\n",
       "      <td>30</td>\n",
       "      <td>4</td>\n",
       "      <td>20</td>\n",
       "      <td>10</td>\n",
       "      <td>0.02</td>\n",
       "      <td>6.614879e+05</td>\n",
       "      <td>-0.385159</td>\n",
       "      <td>1.113007</td>\n",
       "      <td>6.614879</td>\n",
       "      <td>149268.000000</td>\n",
       "      <td>-0.112005</td>\n",
       "      <td>2.063228</td>\n",
       "      <td>1.492680</td>\n",
       "    </tr>\n",
       "    <tr>\n",
       "      <th>34</th>\n",
       "      <td>30</td>\n",
       "      <td>4</td>\n",
       "      <td>20</td>\n",
       "      <td>20</td>\n",
       "      <td>0.01</td>\n",
       "      <td>4.635476e+05</td>\n",
       "      <td>-0.306073</td>\n",
       "      <td>0.981942</td>\n",
       "      <td>4.635476</td>\n",
       "      <td>119308.437500</td>\n",
       "      <td>-0.126249</td>\n",
       "      <td>0.945056</td>\n",
       "      <td>1.193084</td>\n",
       "    </tr>\n",
       "    <tr>\n",
       "      <th>35</th>\n",
       "      <td>30</td>\n",
       "      <td>4</td>\n",
       "      <td>20</td>\n",
       "      <td>20</td>\n",
       "      <td>0.02</td>\n",
       "      <td>1.149934e+06</td>\n",
       "      <td>-0.280393</td>\n",
       "      <td>1.433356</td>\n",
       "      <td>11.499342</td>\n",
       "      <td>129533.640625</td>\n",
       "      <td>-0.113171</td>\n",
       "      <td>1.332575</td>\n",
       "      <td>1.295336</td>\n",
       "    </tr>\n",
       "    <tr>\n",
       "      <th>36</th>\n",
       "      <td>30</td>\n",
       "      <td>5</td>\n",
       "      <td>5</td>\n",
       "      <td>5</td>\n",
       "      <td>0.01</td>\n",
       "      <td>2.380271e+05</td>\n",
       "      <td>-0.342859</td>\n",
       "      <td>0.780554</td>\n",
       "      <td>2.380271</td>\n",
       "      <td>130320.046875</td>\n",
       "      <td>-0.042882</td>\n",
       "      <td>2.610585</td>\n",
       "      <td>1.303200</td>\n",
       "    </tr>\n",
       "    <tr>\n",
       "      <th>37</th>\n",
       "      <td>30</td>\n",
       "      <td>5</td>\n",
       "      <td>5</td>\n",
       "      <td>5</td>\n",
       "      <td>0.02</td>\n",
       "      <td>6.361740e+05</td>\n",
       "      <td>-0.280393</td>\n",
       "      <td>1.164169</td>\n",
       "      <td>6.361740</td>\n",
       "      <td>134847.562500</td>\n",
       "      <td>-0.118517</td>\n",
       "      <td>1.541284</td>\n",
       "      <td>1.348476</td>\n",
       "    </tr>\n",
       "    <tr>\n",
       "      <th>38</th>\n",
       "      <td>30</td>\n",
       "      <td>5</td>\n",
       "      <td>5</td>\n",
       "      <td>10</td>\n",
       "      <td>0.01</td>\n",
       "      <td>8.375206e+05</td>\n",
       "      <td>-0.280393</td>\n",
       "      <td>1.305984</td>\n",
       "      <td>8.375206</td>\n",
       "      <td>133436.671875</td>\n",
       "      <td>-0.107681</td>\n",
       "      <td>1.562449</td>\n",
       "      <td>1.334367</td>\n",
       "    </tr>\n",
       "    <tr>\n",
       "      <th>39</th>\n",
       "      <td>30</td>\n",
       "      <td>5</td>\n",
       "      <td>5</td>\n",
       "      <td>10</td>\n",
       "      <td>0.02</td>\n",
       "      <td>2.447347e+05</td>\n",
       "      <td>-0.352599</td>\n",
       "      <td>0.781835</td>\n",
       "      <td>2.447347</td>\n",
       "      <td>131648.328125</td>\n",
       "      <td>-0.044497</td>\n",
       "      <td>2.610748</td>\n",
       "      <td>1.316483</td>\n",
       "    </tr>\n",
       "    <tr>\n",
       "      <th>40</th>\n",
       "      <td>30</td>\n",
       "      <td>5</td>\n",
       "      <td>5</td>\n",
       "      <td>20</td>\n",
       "      <td>0.01</td>\n",
       "      <td>1.244035e+06</td>\n",
       "      <td>-0.359118</td>\n",
       "      <td>1.418071</td>\n",
       "      <td>12.440352</td>\n",
       "      <td>126321.781250</td>\n",
       "      <td>-0.172152</td>\n",
       "      <td>1.129022</td>\n",
       "      <td>1.263218</td>\n",
       "    </tr>\n",
       "    <tr>\n",
       "      <th>41</th>\n",
       "      <td>30</td>\n",
       "      <td>5</td>\n",
       "      <td>5</td>\n",
       "      <td>20</td>\n",
       "      <td>0.02</td>\n",
       "      <td>6.436121e+05</td>\n",
       "      <td>-0.432885</td>\n",
       "      <td>1.032796</td>\n",
       "      <td>6.436121</td>\n",
       "      <td>126909.218750</td>\n",
       "      <td>-0.163003</td>\n",
       "      <td>1.228428</td>\n",
       "      <td>1.269092</td>\n",
       "    </tr>\n",
       "    <tr>\n",
       "      <th>42</th>\n",
       "      <td>30</td>\n",
       "      <td>5</td>\n",
       "      <td>10</td>\n",
       "      <td>5</td>\n",
       "      <td>0.01</td>\n",
       "      <td>8.945218e+05</td>\n",
       "      <td>-0.319083</td>\n",
       "      <td>1.340954</td>\n",
       "      <td>8.945218</td>\n",
       "      <td>127961.632812</td>\n",
       "      <td>-0.171567</td>\n",
       "      <td>1.233105</td>\n",
       "      <td>1.279616</td>\n",
       "    </tr>\n",
       "    <tr>\n",
       "      <th>43</th>\n",
       "      <td>30</td>\n",
       "      <td>5</td>\n",
       "      <td>10</td>\n",
       "      <td>5</td>\n",
       "      <td>0.02</td>\n",
       "      <td>7.936487e+05</td>\n",
       "      <td>-0.296490</td>\n",
       "      <td>1.255015</td>\n",
       "      <td>7.936487</td>\n",
       "      <td>126794.367188</td>\n",
       "      <td>-0.172160</td>\n",
       "      <td>1.133914</td>\n",
       "      <td>1.267944</td>\n",
       "    </tr>\n",
       "    <tr>\n",
       "      <th>44</th>\n",
       "      <td>30</td>\n",
       "      <td>5</td>\n",
       "      <td>10</td>\n",
       "      <td>10</td>\n",
       "      <td>0.01</td>\n",
       "      <td>9.284017e+05</td>\n",
       "      <td>-0.280393</td>\n",
       "      <td>1.341465</td>\n",
       "      <td>9.284017</td>\n",
       "      <td>130555.921875</td>\n",
       "      <td>-0.128853</td>\n",
       "      <td>1.317886</td>\n",
       "      <td>1.305559</td>\n",
       "    </tr>\n",
       "    <tr>\n",
       "      <th>45</th>\n",
       "      <td>30</td>\n",
       "      <td>5</td>\n",
       "      <td>10</td>\n",
       "      <td>10</td>\n",
       "      <td>0.02</td>\n",
       "      <td>3.056052e+05</td>\n",
       "      <td>-0.342922</td>\n",
       "      <td>0.739359</td>\n",
       "      <td>3.056052</td>\n",
       "      <td>163536.687500</td>\n",
       "      <td>-0.112005</td>\n",
       "      <td>2.491304</td>\n",
       "      <td>1.635367</td>\n",
       "    </tr>\n",
       "    <tr>\n",
       "      <th>46</th>\n",
       "      <td>30</td>\n",
       "      <td>5</td>\n",
       "      <td>10</td>\n",
       "      <td>20</td>\n",
       "      <td>0.01</td>\n",
       "      <td>5.661511e+05</td>\n",
       "      <td>-0.468992</td>\n",
       "      <td>0.998205</td>\n",
       "      <td>5.661511</td>\n",
       "      <td>137927.234375</td>\n",
       "      <td>-0.172160</td>\n",
       "      <td>1.528912</td>\n",
       "      <td>1.379272</td>\n",
       "    </tr>\n",
       "    <tr>\n",
       "      <th>47</th>\n",
       "      <td>30</td>\n",
       "      <td>5</td>\n",
       "      <td>10</td>\n",
       "      <td>20</td>\n",
       "      <td>0.02</td>\n",
       "      <td>2.447736e+05</td>\n",
       "      <td>-0.352619</td>\n",
       "      <td>0.781878</td>\n",
       "      <td>2.447736</td>\n",
       "      <td>131659.468750</td>\n",
       "      <td>-0.044506</td>\n",
       "      <td>2.610685</td>\n",
       "      <td>1.316595</td>\n",
       "    </tr>\n",
       "    <tr>\n",
       "      <th>48</th>\n",
       "      <td>30</td>\n",
       "      <td>5</td>\n",
       "      <td>20</td>\n",
       "      <td>5</td>\n",
       "      <td>0.01</td>\n",
       "      <td>7.841073e+05</td>\n",
       "      <td>-0.315387</td>\n",
       "      <td>1.257461</td>\n",
       "      <td>7.841073</td>\n",
       "      <td>136832.609375</td>\n",
       "      <td>-0.124591</td>\n",
       "      <td>1.589029</td>\n",
       "      <td>1.368326</td>\n",
       "    </tr>\n",
       "    <tr>\n",
       "      <th>49</th>\n",
       "      <td>30</td>\n",
       "      <td>5</td>\n",
       "      <td>20</td>\n",
       "      <td>5</td>\n",
       "      <td>0.02</td>\n",
       "      <td>2.425308e+05</td>\n",
       "      <td>-0.349704</td>\n",
       "      <td>0.781152</td>\n",
       "      <td>2.425308</td>\n",
       "      <td>131201.187500</td>\n",
       "      <td>-0.043967</td>\n",
       "      <td>2.610693</td>\n",
       "      <td>1.312012</td>\n",
       "    </tr>\n",
       "    <tr>\n",
       "      <th>50</th>\n",
       "      <td>30</td>\n",
       "      <td>5</td>\n",
       "      <td>20</td>\n",
       "      <td>10</td>\n",
       "      <td>0.01</td>\n",
       "      <td>7.372743e+05</td>\n",
       "      <td>-0.426575</td>\n",
       "      <td>1.148842</td>\n",
       "      <td>7.372743</td>\n",
       "      <td>141258.625000</td>\n",
       "      <td>-0.105068</td>\n",
       "      <td>1.920759</td>\n",
       "      <td>1.412586</td>\n",
       "    </tr>\n",
       "    <tr>\n",
       "      <th>51</th>\n",
       "      <td>30</td>\n",
       "      <td>5</td>\n",
       "      <td>20</td>\n",
       "      <td>10</td>\n",
       "      <td>0.02</td>\n",
       "      <td>1.000781e+06</td>\n",
       "      <td>-0.280393</td>\n",
       "      <td>1.396781</td>\n",
       "      <td>10.007813</td>\n",
       "      <td>154278.515625</td>\n",
       "      <td>-0.108877</td>\n",
       "      <td>2.255554</td>\n",
       "      <td>1.542785</td>\n",
       "    </tr>\n",
       "    <tr>\n",
       "      <th>52</th>\n",
       "      <td>30</td>\n",
       "      <td>5</td>\n",
       "      <td>20</td>\n",
       "      <td>20</td>\n",
       "      <td>0.01</td>\n",
       "      <td>8.592844e+05</td>\n",
       "      <td>-0.280393</td>\n",
       "      <td>1.305224</td>\n",
       "      <td>8.592844</td>\n",
       "      <td>138162.656250</td>\n",
       "      <td>-0.108474</td>\n",
       "      <td>1.774074</td>\n",
       "      <td>1.381627</td>\n",
       "    </tr>\n",
       "    <tr>\n",
       "      <th>53</th>\n",
       "      <td>30</td>\n",
       "      <td>5</td>\n",
       "      <td>20</td>\n",
       "      <td>20</td>\n",
       "      <td>0.02</td>\n",
       "      <td>9.443808e+05</td>\n",
       "      <td>-0.280393</td>\n",
       "      <td>1.374797</td>\n",
       "      <td>9.443808</td>\n",
       "      <td>140131.843750</td>\n",
       "      <td>-0.076338</td>\n",
       "      <td>1.961457</td>\n",
       "      <td>1.401318</td>\n",
       "    </tr>\n",
       "  </tbody>\n",
       "</table>\n",
       "</div>"
      ],
      "text/plain": [
       "   TIME_WINDOW K_SIZE CONV_MID CONV_FINAL  LEARNING_RATE  \\\n",
       "0           30      3        5          5           0.01   \n",
       "1           30      3        5          5           0.02   \n",
       "2           30      3        5         10           0.01   \n",
       "3           30      3        5         10           0.02   \n",
       "4           30      3        5         20           0.01   \n",
       "5           30      3        5         20           0.02   \n",
       "6           30      3       10          5           0.01   \n",
       "7           30      3       10          5           0.02   \n",
       "8           30      3       10         10           0.01   \n",
       "9           30      3       10         10           0.02   \n",
       "10          30      3       10         20           0.01   \n",
       "11          30      3       10         20           0.02   \n",
       "12          30      3       20          5           0.01   \n",
       "13          30      3       20          5           0.02   \n",
       "14          30      3       20         10           0.01   \n",
       "15          30      3       20         10           0.02   \n",
       "16          30      3       20         20           0.01   \n",
       "17          30      3       20         20           0.02   \n",
       "18          30      4        5          5           0.01   \n",
       "19          30      4        5          5           0.02   \n",
       "20          30      4        5         10           0.01   \n",
       "21          30      4        5         10           0.02   \n",
       "22          30      4        5         20           0.01   \n",
       "23          30      4        5         20           0.02   \n",
       "24          30      4       10          5           0.01   \n",
       "25          30      4       10          5           0.02   \n",
       "26          30      4       10         10           0.01   \n",
       "27          30      4       10         10           0.02   \n",
       "28          30      4       10         20           0.01   \n",
       "29          30      4       10         20           0.02   \n",
       "30          30      4       20          5           0.01   \n",
       "31          30      4       20          5           0.02   \n",
       "32          30      4       20         10           0.01   \n",
       "33          30      4       20         10           0.02   \n",
       "34          30      4       20         20           0.01   \n",
       "35          30      4       20         20           0.02   \n",
       "36          30      5        5          5           0.01   \n",
       "37          30      5        5          5           0.02   \n",
       "38          30      5        5         10           0.01   \n",
       "39          30      5        5         10           0.02   \n",
       "40          30      5        5         20           0.01   \n",
       "41          30      5        5         20           0.02   \n",
       "42          30      5       10          5           0.01   \n",
       "43          30      5       10          5           0.02   \n",
       "44          30      5       10         10           0.01   \n",
       "45          30      5       10         10           0.02   \n",
       "46          30      5       10         20           0.01   \n",
       "47          30      5       10         20           0.02   \n",
       "48          30      5       20          5           0.01   \n",
       "49          30      5       20          5           0.02   \n",
       "50          30      5       20         10           0.01   \n",
       "51          30      5       20         10           0.02   \n",
       "52          30      5       20         20           0.01   \n",
       "53          30      5       20         20           0.02   \n",
       "\n",
       "    train_portfolio_value  train_drawdown  train_sharpe  train_cumulative  \\\n",
       "0            4.562377e+05       -0.307902      1.013526          4.562377   \n",
       "1            2.418125e+05       -0.348787      0.780890          2.418125   \n",
       "2            9.961356e+05       -0.283501      1.376877          9.961356   \n",
       "3            6.891379e+05       -0.284127      1.159576          6.891379   \n",
       "4            9.711291e+05       -0.391713      1.312430          9.711291   \n",
       "5            8.226901e+05       -0.314271      1.266048          8.226901   \n",
       "6            2.400718e+05       -0.348218      0.775976          2.400717   \n",
       "7            5.443576e+05       -0.411767      1.000080          5.443576   \n",
       "8            7.946723e+05       -0.287454      1.217977          7.946723   \n",
       "9            5.565505e+05       -0.280393      1.086433          5.565505   \n",
       "10           7.563936e+05       -0.321115      1.230626          7.563936   \n",
       "11           7.035841e+05       -0.280393      1.228069          7.035841   \n",
       "12           1.340437e+06       -0.276962      1.538813         13.404367   \n",
       "13           3.831648e+05       -0.282040      0.857661          3.831647   \n",
       "14           6.468569e+05       -0.280311      1.151115          6.468569   \n",
       "15           1.050828e+06       -0.319973      1.387547         10.508281   \n",
       "16           4.474291e+05       -0.300911      0.987416          4.474291   \n",
       "17           7.692504e+05       -0.385159      1.225212          7.692504   \n",
       "18           2.373292e+05       -0.341833      0.780416          2.373292   \n",
       "19           8.125652e+05       -0.282054      1.257538          8.125652   \n",
       "20           7.274078e+05       -0.280393      1.195638          7.274077   \n",
       "21           8.752369e+05       -0.300290      1.357243          8.752369   \n",
       "22           2.445763e+05       -0.352486      0.781698          2.445763   \n",
       "23           3.075309e+05       -0.348264      0.923161          3.075309   \n",
       "24           2.396595e+05       -0.345231      0.780900          2.396595   \n",
       "25           2.445800e+05       -0.352469      0.781717          2.445800   \n",
       "26           9.546189e+05       -0.316805      1.328914          9.546189   \n",
       "27           4.463598e+05       -0.411896      0.883628          4.463598   \n",
       "28           7.420342e+05       -0.402310      1.181446          7.420342   \n",
       "29           1.000000e+05        0.000000           NaN          1.000000   \n",
       "30           8.767533e+05       -0.314302      1.311068          8.767533   \n",
       "31           5.879287e+05       -0.298469      1.087785          5.879287   \n",
       "32           6.072615e+05       -0.378852      1.107154          6.072615   \n",
       "33           6.614879e+05       -0.385159      1.113007          6.614879   \n",
       "34           4.635476e+05       -0.306073      0.981942          4.635476   \n",
       "35           1.149934e+06       -0.280393      1.433356         11.499342   \n",
       "36           2.380271e+05       -0.342859      0.780554          2.380271   \n",
       "37           6.361740e+05       -0.280393      1.164169          6.361740   \n",
       "38           8.375206e+05       -0.280393      1.305984          8.375206   \n",
       "39           2.447347e+05       -0.352599      0.781835          2.447347   \n",
       "40           1.244035e+06       -0.359118      1.418071         12.440352   \n",
       "41           6.436121e+05       -0.432885      1.032796          6.436121   \n",
       "42           8.945218e+05       -0.319083      1.340954          8.945218   \n",
       "43           7.936487e+05       -0.296490      1.255015          7.936487   \n",
       "44           9.284017e+05       -0.280393      1.341465          9.284017   \n",
       "45           3.056052e+05       -0.342922      0.739359          3.056052   \n",
       "46           5.661511e+05       -0.468992      0.998205          5.661511   \n",
       "47           2.447736e+05       -0.352619      0.781878          2.447736   \n",
       "48           7.841073e+05       -0.315387      1.257461          7.841073   \n",
       "49           2.425308e+05       -0.349704      0.781152          2.425308   \n",
       "50           7.372743e+05       -0.426575      1.148842          7.372743   \n",
       "51           1.000781e+06       -0.280393      1.396781         10.007813   \n",
       "52           8.592844e+05       -0.280393      1.305224          8.592844   \n",
       "53           9.443808e+05       -0.280393      1.374797          9.443808   \n",
       "\n",
       "    test_portfolio_value  test_drawdown  test_sharpe  test_cumulative  \n",
       "0          123691.015625      -0.169326     1.023473         1.236910  \n",
       "1          131050.312500      -0.043791     2.610650         1.310503  \n",
       "2          130281.671875      -0.121134     1.332969         1.302817  \n",
       "3          120784.789062      -0.110029     1.157663         1.207848  \n",
       "4          141142.906250      -0.107076     1.818086         1.411429  \n",
       "5          133073.359375      -0.111271     1.668572         1.330734  \n",
       "6          120128.218750      -0.118614     1.096229         1.201282  \n",
       "7          106025.203125      -0.111891     0.437434         1.060252  \n",
       "8          126670.906250      -0.158234     1.198747         1.266709  \n",
       "9          113928.382812      -0.123354     0.806448         1.139284  \n",
       "10         134523.625000      -0.108923     2.005972         1.345236  \n",
       "11         112935.476562      -0.111891     0.814394         1.129355  \n",
       "12         130752.257812      -0.120072     1.333319         1.307523  \n",
       "13         108298.859375      -0.113514     0.539900         1.082989  \n",
       "14         117566.289062      -0.206406     0.837932         1.175663  \n",
       "15         123565.796875      -0.106694     1.257087         1.235658  \n",
       "16         135832.515625      -0.108864     1.680108         1.358325  \n",
       "17         122107.554688      -0.172161     0.955756         1.221076  \n",
       "18         130180.218750      -0.042711     2.610640         1.301802  \n",
       "19         139917.390625      -0.118574     1.670606         1.399174  \n",
       "20         123198.601562      -0.105701     1.395118         1.231986  \n",
       "21         115817.015625      -0.111740     0.899762         1.158170  \n",
       "22         131607.125000      -0.044457     2.610755         1.316071  \n",
       "23         139279.515625      -0.118891     1.715736         1.392795  \n",
       "24         130648.000000      -0.043280     2.610633         1.306480  \n",
       "25         131611.734375      -0.044459     2.610714         1.316117  \n",
       "26         149695.171875      -0.108877     2.091158         1.496952  \n",
       "27         172013.046875      -0.087967     2.702813         1.720130  \n",
       "28         136968.187500      -0.120383     1.586443         1.369682  \n",
       "29         100000.000000       0.000000          NaN         1.000000  \n",
       "30         128768.789062      -0.129157     1.319164         1.287688  \n",
       "31         118728.773438      -0.172301     0.870599         1.187288  \n",
       "32         126840.507812      -0.120129     1.204862         1.268405  \n",
       "33         149268.000000      -0.112005     2.063228         1.492680  \n",
       "34         119308.437500      -0.126249     0.945056         1.193084  \n",
       "35         129533.640625      -0.113171     1.332575         1.295336  \n",
       "36         130320.046875      -0.042882     2.610585         1.303200  \n",
       "37         134847.562500      -0.118517     1.541284         1.348476  \n",
       "38         133436.671875      -0.107681     1.562449         1.334367  \n",
       "39         131648.328125      -0.044497     2.610748         1.316483  \n",
       "40         126321.781250      -0.172152     1.129022         1.263218  \n",
       "41         126909.218750      -0.163003     1.228428         1.269092  \n",
       "42         127961.632812      -0.171567     1.233105         1.279616  \n",
       "43         126794.367188      -0.172160     1.133914         1.267944  \n",
       "44         130555.921875      -0.128853     1.317886         1.305559  \n",
       "45         163536.687500      -0.112005     2.491304         1.635367  \n",
       "46         137927.234375      -0.172160     1.528912         1.379272  \n",
       "47         131659.468750      -0.044506     2.610685         1.316595  \n",
       "48         136832.609375      -0.124591     1.589029         1.368326  \n",
       "49         131201.187500      -0.043967     2.610693         1.312012  \n",
       "50         141258.625000      -0.105068     1.920759         1.412586  \n",
       "51         154278.515625      -0.108877     2.255554         1.542785  \n",
       "52         138162.656250      -0.108474     1.774074         1.381627  \n",
       "53         140131.843750      -0.076338     1.961457         1.401318  "
      ]
     },
     "execution_count": 7,
     "metadata": {},
     "output_type": "execute_result"
    }
   ],
   "source": [
    "# Hyperparameter tuning loop with 5 episodes of training and error handling\n",
    "for TIME_WINDOW, K_SIZE, CONV_MID, CONV_FINAL,LEARNING_RATE in product(time_windows, k_sizes, conv_mids, conv_finals, lr):\n",
    "    try:\n",
    "        # Update the policy_kwargs for the current set of hyperparameters\n",
    "        policy_kwargs = {\n",
    "        \"initial_features\": len(FEATURE_NAMES),\n",
    "        \"k_size\": K_SIZE,\n",
    "        \"time_window\": TIME_WINDOW,\n",
    "        \"conv_mid_features\":CONV_MID,\n",
    "        \"conv_final_features\":CONV_FINAL}\n",
    "\n",
    "        # Create the environment for training and the test years\n",
    "        environment = PortfolioOptimizationEnv(df_portfolio_train, initial_amount=100000, comission_fee_pct=COMISSION_FEE,\n",
    "                                               time_window=TIME_WINDOW, features=FEATURE_NAMES, normalize_df=None,\n",
    "                                               reward_function=custom_reward_function, reward_scaling=1.0)\n",
    "\n",
    "        environment_vali = PortfolioOptimizationEnv(df_portfolio_vali, initial_amount=100000, comission_fee_pct=COMISSION_FEE,\n",
    "                                                    time_window=TIME_WINDOW, features=FEATURE_NAMES, normalize_df=None,\n",
    "                                                    reward_function=custom_reward_function, reward_scaling=1.0)\n",
    "\n",
    "        # Instantiate the model for each combination of hyperparameters\n",
    "        # set PolicyGradient parameters\n",
    "        model_kwargs = {\n",
    "                \"lr\": LEARNING_RATE,\n",
    "                \"policy\": EIIE,\n",
    "                }\n",
    "\n",
    "        EIIE_model = DRLAgent(environment).get_model(\"pg\", device, model_kwargs, policy_kwargs)\n",
    "        EIIE_policy = EIIE(time_window=TIME_WINDOW, device=device, initial_features=len(FEATURE_NAMES),\n",
    "                           k_size=K_SIZE, conv_mid_features=CONV_MID, conv_final_features=CONV_FINAL)\n",
    "\n",
    "        # Train the model for 10 episodes\n",
    "        DRLAgent.train_model(EIIE_model, episodes=10)\n",
    "        \n",
    "        # Save the model policy after training\n",
    "        model_filename = f\"policy_EIIE_{TIME_WINDOW}_{K_SIZE}_{CONV_MID}_{CONV_FINAL}_{LEARNING_RATE}.pt\"\n",
    "        torch.save(EIIE_model.train_policy.state_dict(), model_filename)\n",
    "        \n",
    "        EIIE_policy = EIIE(time_window = TIME_WINDOW, device = device, initial_features = len(FEATURE_NAMES),\n",
    "                          k_size = K_SIZE, conv_mid_features = CONV_MID,conv_final_features = CONV_FINAL)\n",
    "\n",
    "        EIIE_policy.load_state_dict(torch.load(model_filename))\n",
    "\n",
    "        # Training evaluation\n",
    "        environment.reset()\n",
    "        DRLAgent.DRL_validation(EIIE_model, environment, policy=EIIE_policy)\n",
    "        train_final_value, train_drawdown, train_sharpe, train_cumulative = calculate_metrics(environment)\n",
    "\n",
    "        # Test evaluation\n",
    "        environment_vali.reset()\n",
    "        DRLAgent.DRL_validation(EIIE_model, environment_vali, policy=EIIE_policy)\n",
    "        test_final_value, test_drawdown, test_sharpe, test_cumulative = calculate_metrics(environment_vali)\n",
    "\n",
    " \n",
    "\n",
    "    except Exception as e:\n",
    "        print(f\"Error encountered with combination policy_EIIE_{TIME_WINDOW}_{K_SIZE}_{CONV_MID}_{CONV_FINAL}: {e}\")\n",
    "        # If an error occurs, store NaN for all the metrics\n",
    "        train_final_value = train_drawdown = train_sharpe = train_cumulative = np.nan\n",
    "        test_final_value = test_drawdown = test_sharpe = test_cumulative = np.nan\n",
    " \n",
    "\n",
    "    # Create a temporary DataFrame to store the current results\n",
    "    temp_df = pd.DataFrame([{\n",
    "        \"TIME_WINDOW\": TIME_WINDOW, \"K_SIZE\": K_SIZE, \"CONV_MID\": CONV_MID, \"CONV_FINAL\": CONV_FINAL, \"LEARNING_RATE\": LEARNING_RATE,\n",
    "        \"train_portfolio_value\": train_final_value, \"train_drawdown\": train_drawdown, \"train_sharpe\": train_sharpe, \"train_cumulative\": train_cumulative,\n",
    "        \"test_portfolio_value\": test_final_value, \"test_drawdown\": test_drawdown, \"test_sharpe\": test_sharpe, \"test_cumulative\": test_cumulative,\n",
    "        }])\n",
    "    \n",
    "    # Use pd.concat instead of append to add the results to the main DataFrame\n",
    "    results_df = pd.concat([results_df, temp_df], ignore_index=True)\n",
    "    \n",
    "    try:\n",
    "        results_df.to_csv('hyperparams30.csv', index=False)\n",
    "    except Exception as e:\n",
    "        print(f\"An error occurred: {e}\")\n",
    "    \n",
    "results_df"
   ]
  },
  {
   "cell_type": "code",
   "execution_count": 33,
   "metadata": {
    "scrolled": true
   },
   "outputs": [
    {
     "data": {
      "text/html": [
       "<div>\n",
       "<style scoped>\n",
       "    .dataframe tbody tr th:only-of-type {\n",
       "        vertical-align: middle;\n",
       "    }\n",
       "\n",
       "    .dataframe tbody tr th {\n",
       "        vertical-align: top;\n",
       "    }\n",
       "\n",
       "    .dataframe thead th {\n",
       "        text-align: right;\n",
       "    }\n",
       "</style>\n",
       "<table border=\"1\" class=\"dataframe\">\n",
       "  <thead>\n",
       "    <tr style=\"text-align: right;\">\n",
       "      <th></th>\n",
       "      <th>TIME_WINDOW</th>\n",
       "      <th>K_SIZE</th>\n",
       "      <th>CONV_MID</th>\n",
       "      <th>CONV_FINAL</th>\n",
       "      <th>LEARNING_RATE</th>\n",
       "      <th>train_portfolio_value</th>\n",
       "      <th>train_drawdown</th>\n",
       "      <th>train_sharpe</th>\n",
       "      <th>train_cumulative</th>\n",
       "      <th>test_portfolio_value</th>\n",
       "      <th>test_drawdown</th>\n",
       "      <th>test_sharpe</th>\n",
       "      <th>test_cumulative</th>\n",
       "    </tr>\n",
       "  </thead>\n",
       "  <tbody>\n",
       "    <tr>\n",
       "      <th>0</th>\n",
       "      <td>30</td>\n",
       "      <td>3</td>\n",
       "      <td>5</td>\n",
       "      <td>5</td>\n",
       "      <td>0.01</td>\n",
       "      <td>9.354249e+05</td>\n",
       "      <td>-0.384764</td>\n",
       "      <td>1.331227</td>\n",
       "      <td>9.354249</td>\n",
       "      <td>150983.859375</td>\n",
       "      <td>-0.288262</td>\n",
       "      <td>0.909782</td>\n",
       "      <td>1.509839</td>\n",
       "    </tr>\n",
       "    <tr>\n",
       "      <th>1</th>\n",
       "      <td>30</td>\n",
       "      <td>3</td>\n",
       "      <td>5</td>\n",
       "      <td>5</td>\n",
       "      <td>0.02</td>\n",
       "      <td>8.224098e+05</td>\n",
       "      <td>-0.362296</td>\n",
       "      <td>1.247078</td>\n",
       "      <td>8.224097</td>\n",
       "      <td>190940.890625</td>\n",
       "      <td>-0.210293</td>\n",
       "      <td>1.345313</td>\n",
       "      <td>1.909409</td>\n",
       "    </tr>\n",
       "    <tr>\n",
       "      <th>2</th>\n",
       "      <td>30</td>\n",
       "      <td>3</td>\n",
       "      <td>5</td>\n",
       "      <td>10</td>\n",
       "      <td>0.01</td>\n",
       "      <td>2.374833e+05</td>\n",
       "      <td>-0.342059</td>\n",
       "      <td>0.780448</td>\n",
       "      <td>2.374833</td>\n",
       "      <td>128788.664062</td>\n",
       "      <td>-0.153513</td>\n",
       "      <td>0.888851</td>\n",
       "      <td>1.287887</td>\n",
       "    </tr>\n",
       "    <tr>\n",
       "      <th>3</th>\n",
       "      <td>30</td>\n",
       "      <td>3</td>\n",
       "      <td>5</td>\n",
       "      <td>10</td>\n",
       "      <td>0.02</td>\n",
       "      <td>4.528810e+05</td>\n",
       "      <td>-0.284567</td>\n",
       "      <td>0.942631</td>\n",
       "      <td>4.528810</td>\n",
       "      <td>215230.218750</td>\n",
       "      <td>-0.187788</td>\n",
       "      <td>1.645605</td>\n",
       "      <td>2.152302</td>\n",
       "    </tr>\n",
       "    <tr>\n",
       "      <th>4</th>\n",
       "      <td>30</td>\n",
       "      <td>3</td>\n",
       "      <td>5</td>\n",
       "      <td>20</td>\n",
       "      <td>0.01</td>\n",
       "      <td>2.446373e+05</td>\n",
       "      <td>-0.352521</td>\n",
       "      <td>0.781757</td>\n",
       "      <td>2.446373</td>\n",
       "      <td>130033.421875</td>\n",
       "      <td>-0.159296</td>\n",
       "      <td>0.891152</td>\n",
       "      <td>1.300334</td>\n",
       "    </tr>\n",
       "    <tr>\n",
       "      <th>...</th>\n",
       "      <td>...</td>\n",
       "      <td>...</td>\n",
       "      <td>...</td>\n",
       "      <td>...</td>\n",
       "      <td>...</td>\n",
       "      <td>...</td>\n",
       "      <td>...</td>\n",
       "      <td>...</td>\n",
       "      <td>...</td>\n",
       "      <td>...</td>\n",
       "      <td>...</td>\n",
       "      <td>...</td>\n",
       "      <td>...</td>\n",
       "    </tr>\n",
       "    <tr>\n",
       "      <th>157</th>\n",
       "      <td>90</td>\n",
       "      <td>5</td>\n",
       "      <td>20</td>\n",
       "      <td>5</td>\n",
       "      <td>0.02</td>\n",
       "      <td>7.156793e+05</td>\n",
       "      <td>-0.280393</td>\n",
       "      <td>1.239699</td>\n",
       "      <td>7.156793</td>\n",
       "      <td>199785.375000</td>\n",
       "      <td>-0.217284</td>\n",
       "      <td>1.573390</td>\n",
       "      <td>1.997854</td>\n",
       "    </tr>\n",
       "    <tr>\n",
       "      <th>158</th>\n",
       "      <td>90</td>\n",
       "      <td>5</td>\n",
       "      <td>20</td>\n",
       "      <td>10</td>\n",
       "      <td>0.01</td>\n",
       "      <td>1.143282e+06</td>\n",
       "      <td>-0.314273</td>\n",
       "      <td>1.428601</td>\n",
       "      <td>11.432816</td>\n",
       "      <td>182986.265625</td>\n",
       "      <td>-0.205087</td>\n",
       "      <td>1.344036</td>\n",
       "      <td>1.829863</td>\n",
       "    </tr>\n",
       "    <tr>\n",
       "      <th>159</th>\n",
       "      <td>90</td>\n",
       "      <td>5</td>\n",
       "      <td>20</td>\n",
       "      <td>10</td>\n",
       "      <td>0.02</td>\n",
       "      <td>1.000000e+05</td>\n",
       "      <td>0.000000</td>\n",
       "      <td>NaN</td>\n",
       "      <td>1.000000</td>\n",
       "      <td>100000.000000</td>\n",
       "      <td>0.000000</td>\n",
       "      <td>NaN</td>\n",
       "      <td>1.000000</td>\n",
       "    </tr>\n",
       "    <tr>\n",
       "      <th>160</th>\n",
       "      <td>90</td>\n",
       "      <td>5</td>\n",
       "      <td>20</td>\n",
       "      <td>20</td>\n",
       "      <td>0.01</td>\n",
       "      <td>7.675396e+05</td>\n",
       "      <td>-0.385159</td>\n",
       "      <td>1.227981</td>\n",
       "      <td>7.675396</td>\n",
       "      <td>70939.335938</td>\n",
       "      <td>-0.386138</td>\n",
       "      <td>-0.527137</td>\n",
       "      <td>0.709393</td>\n",
       "    </tr>\n",
       "    <tr>\n",
       "      <th>161</th>\n",
       "      <td>90</td>\n",
       "      <td>5</td>\n",
       "      <td>20</td>\n",
       "      <td>20</td>\n",
       "      <td>0.02</td>\n",
       "      <td>6.507372e+05</td>\n",
       "      <td>-0.313959</td>\n",
       "      <td>1.166785</td>\n",
       "      <td>6.507372</td>\n",
       "      <td>101882.953125</td>\n",
       "      <td>-0.371487</td>\n",
       "      <td>0.188131</td>\n",
       "      <td>1.018830</td>\n",
       "    </tr>\n",
       "  </tbody>\n",
       "</table>\n",
       "<p>162 rows × 13 columns</p>\n",
       "</div>"
      ],
      "text/plain": [
       "    TIME_WINDOW K_SIZE CONV_MID CONV_FINAL  LEARNING_RATE  \\\n",
       "0            30      3        5          5           0.01   \n",
       "1            30      3        5          5           0.02   \n",
       "2            30      3        5         10           0.01   \n",
       "3            30      3        5         10           0.02   \n",
       "4            30      3        5         20           0.01   \n",
       "..          ...    ...      ...        ...            ...   \n",
       "157          90      5       20          5           0.02   \n",
       "158          90      5       20         10           0.01   \n",
       "159          90      5       20         10           0.02   \n",
       "160          90      5       20         20           0.01   \n",
       "161          90      5       20         20           0.02   \n",
       "\n",
       "     train_portfolio_value  train_drawdown  train_sharpe  train_cumulative  \\\n",
       "0             9.354249e+05       -0.384764      1.331227          9.354249   \n",
       "1             8.224098e+05       -0.362296      1.247078          8.224097   \n",
       "2             2.374833e+05       -0.342059      0.780448          2.374833   \n",
       "3             4.528810e+05       -0.284567      0.942631          4.528810   \n",
       "4             2.446373e+05       -0.352521      0.781757          2.446373   \n",
       "..                     ...             ...           ...               ...   \n",
       "157           7.156793e+05       -0.280393      1.239699          7.156793   \n",
       "158           1.143282e+06       -0.314273      1.428601         11.432816   \n",
       "159           1.000000e+05        0.000000           NaN          1.000000   \n",
       "160           7.675396e+05       -0.385159      1.227981          7.675396   \n",
       "161           6.507372e+05       -0.313959      1.166785          6.507372   \n",
       "\n",
       "     test_portfolio_value  test_drawdown  test_sharpe  test_cumulative  \n",
       "0           150983.859375      -0.288262     0.909782         1.509839  \n",
       "1           190940.890625      -0.210293     1.345313         1.909409  \n",
       "2           128788.664062      -0.153513     0.888851         1.287887  \n",
       "3           215230.218750      -0.187788     1.645605         2.152302  \n",
       "4           130033.421875      -0.159296     0.891152         1.300334  \n",
       "..                    ...            ...          ...              ...  \n",
       "157         199785.375000      -0.217284     1.573390         1.997854  \n",
       "158         182986.265625      -0.205087     1.344036         1.829863  \n",
       "159         100000.000000       0.000000          NaN         1.000000  \n",
       "160          70939.335938      -0.386138    -0.527137         0.709393  \n",
       "161         101882.953125      -0.371487     0.188131         1.018830  \n",
       "\n",
       "[162 rows x 13 columns]"
      ]
     },
     "execution_count": 33,
     "metadata": {},
     "output_type": "execute_result"
    }
   ],
   "source": [
    "results_df"
   ]
  },
  {
   "cell_type": "code",
   "execution_count": null,
   "metadata": {},
   "outputs": [],
   "source": [
    "results_df2.to_csv('results_df2.csv', index=False)"
   ]
  },
  {
   "cell_type": "code",
   "execution_count": null,
   "metadata": {},
   "outputs": [],
   "source": []
  },
  {
   "cell_type": "code",
   "execution_count": 35,
   "metadata": {},
   "outputs": [],
   "source": [
    "results_df.to_csv('secondhyperparmatuning.csv', index=False)"
   ]
  },
  {
   "cell_type": "code",
   "execution_count": null,
   "metadata": {},
   "outputs": [],
   "source": []
  },
  {
   "cell_type": "code",
   "execution_count": null,
   "metadata": {},
   "outputs": [],
   "source": []
  },
  {
   "cell_type": "code",
   "execution_count": null,
   "metadata": {},
   "outputs": [],
   "source": []
  },
  {
   "cell_type": "code",
   "execution_count": 36,
   "metadata": {},
   "outputs": [],
   "source": [
    "FEATURE_NAMES = ['close',\n",
    "                 'high',\n",
    "                 'low',\n",
    "                 'High_VIX',\n",
    "                 'Low_VIX',\n",
    "                 'Close_VIX',\n",
    "                 'High_SPY',\n",
    "                 'Low_SPY',\n",
    "                 'Close_SPY',\n",
    "                 'Volume_SPY',\n",
    "                 'Fear Greed', \n",
    "                 'ratingScore',\n",
    "                 'ratingDetailsDCFScore',\n",
    "                 'ratingDetailsROEScore',\n",
    "                 'ratingDetailsROAScore',\n",
    "                 'ratingDetailsPEScore',\n",
    "                 'ratingDetailsPBScore',\n",
    "                 'expenses',\n",
    "                 'GDP', \n",
    "                 'exports', \n",
    "                 'imports',\n",
    "                 'pound_dollar_exchange_rate',\n",
    "                 'unemployment',\n",
    "                 'ics',\n",
    "                 'TTM Revenue(Billion)',\n",
    "                 'TTM EBITDA(Billion)',\n",
    "                 'EBITDA Margin',\n",
    "                 'Price to Book Ratio',\n",
    "                 'PE Ratio',\n",
    "                 'Price to Sales Ratio',\n",
    "                 'Assets',\n",
    "                 'NetIncomeLoss',\n",
    "                 'Return on Equity(%)']\n",
    "\n",
    "TIME_WINDOW = 50\n",
    "COMISSION_FEE = 0.0025\n",
    "K_SIZE = 4\n",
    "CONV_MID = 5\n",
    "CONV_FINAL= 20\n",
    "\n",
    "environment = PortfolioOptimizationEnv(\n",
    "        df_portfolio_train,\n",
    "        initial_amount=100000,\n",
    "        comission_fee_pct=COMISSION_FEE,\n",
    "        time_window=TIME_WINDOW,\n",
    "        features=FEATURE_NAMES,\n",
    "        normalize_df=None,\n",
    "        reward_function=custom_reward_function,\n",
    "        reward_scaling=1.0\n",
    "    )\n",
    "\n",
    "# set PolicyGradient parameters\n",
    "model_kwargs = {\n",
    "    \"lr\": 0.01, \n",
    "    \"policy\": EIIE,\n",
    "}\n",
    "\n",
    "# here, we can set EIIE's parameters\n",
    "policy_kwargs = {\n",
    "    \"initial_features\": len(FEATURE_NAMES),\n",
    "    \"k_size\": K_SIZE,\n",
    "    \"time_window\": TIME_WINDOW,\n",
    "    \"conv_mid_features\":CONV_MID,\n",
    "    \"conv_final_features\":CONV_FINAL}\n",
    "\n",
    "EIIE_model = DRLAgent(environment).get_model(\"pg\", device, model_kwargs, policy_kwargs)"
   ]
  },
  {
   "cell_type": "markdown",
   "metadata": {},
   "source": [
    "# DRL Model Training (Jan 2011- Dec 2020)"
   ]
  },
  {
   "cell_type": "code",
   "execution_count": null,
   "metadata": {
    "scrolled": false
   },
   "outputs": [],
   "source": [
    "DRLAgent.train_model(EIIE_model, episodes=5)\n",
    "torch.save(EIIE_model.train_policy.state_dict(), \"policy_EIIE(test).pt\")"
   ]
  },
  {
   "cell_type": "markdown",
   "metadata": {},
   "source": [
    "# DRL Model Evaluation (Jan 2021-Dec 2023)"
   ]
  },
  {
   "cell_type": "code",
   "execution_count": null,
   "metadata": {},
   "outputs": [],
   "source": [
    "import os\n",
    "import shutil\n",
    "\n",
    "environment_2021 = PortfolioOptimizationEnv(\n",
    "    df_portfolio_2021,\n",
    "    initial_amount=100000,\n",
    "    comission_fee_pct=COMISSION_FEE,\n",
    "    time_window=TIME_WINDOW,\n",
    "    features=FEATURE_NAMES,\n",
    "    normalize_df=None,\n",
    "    reward_function=custom_reward_function,\n",
    "    reward_scaling=1.0\n",
    ")\n",
    "\n",
    "environment_2022 = PortfolioOptimizationEnv(\n",
    "    df_portfolio_2022,\n",
    "    initial_amount=100000,\n",
    "    comission_fee_pct=COMISSION_FEE,\n",
    "    time_window=TIME_WINDOW,\n",
    "    features=FEATURE_NAMES,\n",
    "    normalize_df=None,\n",
    "    reward_function=custom_reward_function,\n",
    "    reward_scaling=1.0\n",
    ")\n",
    "\n",
    "environment_2023 = PortfolioOptimizationEnv(\n",
    "    df_portfolio_2023,\n",
    "    initial_amount=100000,\n",
    "    comission_fee_pct=COMISSION_FEE,\n",
    "    time_window=TIME_WINDOW,\n",
    "    features=FEATURE_NAMES,\n",
    "    normalize_df=None,\n",
    "    reward_function=custom_reward_function,\n",
    "    reward_scaling=1.0\n",
    ")\n",
    "\n",
    "EIIE_results = {\n",
    "    \"train\": {},\n",
    "    \"2021\": {},\n",
    "    \"2022\": {},\n",
    "    \"2023\": {}\n",
    "}\n",
    "# EI3_results = {\n",
    "#     \"train\": {},\n",
    "#     \"2021\": {},\n",
    "#     \"2022\": {},\n",
    "#     \"2023\": {}\n",
    "# }\n",
    "\n",
    "# instantiate an architecture with the same arguments used in training\n",
    "# and load with load_state_dict.\n",
    "\n",
    "EIIE_policy = EIIE(time_window = TIME_WINDOW, device = device, initial_features = len(FEATURE_NAMES),\n",
    "              k_size = K_SIZE, conv_mid_features = CONV_MID,conv_final_features = CONV_FINAL)\n",
    "\n",
    "EIIE_policy.load_state_dict(torch.load(\"policy_EIIE(test).pt\"))\n",
    "\n",
    "environment.reset()\n",
    "src_folder = \"results/rl\"\n",
    "dst_folder = \"results/train\"\n",
    "if not os.path.exists(src_folder):\n",
    "    os.makedirs(src_folder)\n",
    "if os.path.exists(dst_folder):\n",
    "    shutil.rmtree(dst_folder)\n",
    "DRLAgent.DRL_validation(EIIE_model, environment, policy=EIIE_policy)\n",
    "os.rename(src_folder, dst_folder)\n",
    "EIIE_results[\"train\"][\"value\"] = environment._asset_memory[\"final\"]\n",
    "EIIE_results[\"train\"][\"actions\"] = environment._actions_memory\n",
    "\n",
    "src_folder = \"results/rl\"\n",
    "dst_folder = \"results/2021\"\n",
    "if not os.path.exists(src_folder):\n",
    "    os.makedirs(src_folder)\n",
    "if os.path.exists(dst_folder):\n",
    "    shutil.rmtree(dst_folder)\n",
    "DRLAgent.DRL_validation(EIIE_model, environment_2021, policy=EIIE_policy)\n",
    "os.rename(src_folder, dst_folder)\n",
    "EIIE_results[\"2021\"][\"value\"] = environment_2021._asset_memory[\"final\"]\n",
    "EIIE_results[\"2021\"][\"actions\"] = environment_2021._actions_memory\n",
    "\n",
    "src_folder = \"results/rl\"\n",
    "dst_folder = \"results/2022\"\n",
    "if not os.path.exists(src_folder):\n",
    "    os.makedirs(src_folder)\n",
    "if os.path.exists(dst_folder):\n",
    "    shutil.rmtree(dst_folder)\n",
    "DRLAgent.DRL_validation(EIIE_model, environment_2022, policy=EIIE_policy)\n",
    "os.rename(src_folder, dst_folder)\n",
    "EIIE_results[\"2022\"][\"value\"] = environment_2022._asset_memory[\"final\"]\n",
    "EIIE_results[\"2022\"][\"actions\"] = environment_2022._actions_memory\n",
    "\n",
    "src_folder = \"results/rl\"\n",
    "dst_folder = \"results/2023\"\n",
    "if not os.path.exists(src_folder):\n",
    "    os.makedirs(src_folder)\n",
    "if os.path.exists(dst_folder):\n",
    "    shutil.rmtree(dst_folder)\n",
    "DRLAgent.DRL_validation(EIIE_model, environment_2023, policy=EIIE_policy)\n",
    "os.rename(src_folder, dst_folder)\n",
    "EIIE_results[\"2023\"][\"value\"] = environment_2023._asset_memory[\"final\"]\n",
    "EIIE_results[\"2023\"][\"actions\"] = environment_2023._actions_memory\n",
    "\n",
    "\n",
    "# EI3_policy = EI3(time_window=50, device=device)\n",
    "# EI3_policy.load_state_dict(torch.load(\"policy_EI3.pt\"))\n",
    "\n",
    "# environment.reset()\n",
    "# DRLAgent.DRL_validation(EI3_model, environment, policy=EI3_policy)\n",
    "# EI3_results[\"train\"][\"value\"] = environment._asset_memory[\"final\"]\n",
    "# environment_2021.reset()\n",
    "# DRLAgent.DRL_validation(EI3_model, environment_2021, policy=EI3_policy)\n",
    "# EI3_results[\"2021\"][\"value\"] = environment_2021._asset_memory[\"final\"]\n",
    "# environment_2022.reset()\n",
    "# DRLAgent.DRL_validation(EI3_model, environment_2022, policy=EI3_policy)\n",
    "# EI3_results[\"2022\"][\"value\"] = environment_2022._asset_memory[\"final\"]\n",
    "# environment_2023.reset()\n",
    "# DRLAgent.DRL_validation(EI3_model, environment_2023, policy=EI3_policy)\n",
    "# EI3_results[\"2023\"][\"value\"] = environment_2023._asset_memory[\"final\"]\n",
    "\n",
    "#uniform buy n hold\n",
    "if not os.path.exists(src_folder):\n",
    "    os.makedirs(src_folder)\n",
    "UBAH_results = {\n",
    "    \"train\": {\"value\": [], \"actions\": []},\n",
    "    \"2021\": {\"value\": [], \"actions\": []},\n",
    "    \"2022\": {\"value\": [], \"actions\": []},\n",
    "    \"2023\": {\"value\": [], \"actions\": []}\n",
    "}\n",
    "\n",
    "PORTFOLIO_SIZE = len(TEST_SET)\n",
    "\n",
    "# train period\n",
    "terminated = False\n",
    "environment.reset()\n",
    "while not terminated:\n",
    "    action = [0] + [1/PORTFOLIO_SIZE] * PORTFOLIO_SIZE\n",
    "    _, _, terminated, _ = environment.step(action)\n",
    "    UBAH_results[\"train\"][\"actions\"].append(action)\n",
    "UBAH_results[\"train\"][\"value\"] = environment._asset_memory[\"final\"]\n",
    "\n",
    "# 2021\n",
    "terminated = False\n",
    "environment_2021.reset()\n",
    "while not terminated:\n",
    "    action = [0] + [1/PORTFOLIO_SIZE] * PORTFOLIO_SIZE\n",
    "    _, _, terminated, _ = environment_2021.step(action)\n",
    "    UBAH_results[\"2021\"][\"actions\"].append(action)\n",
    "UBAH_results[\"2021\"][\"value\"] = environment_2021._asset_memory[\"final\"]\n",
    "\n",
    "# 2022\n",
    "terminated = False\n",
    "environment_2022.reset()\n",
    "while not terminated:\n",
    "    action = [0] + [1/PORTFOLIO_SIZE] * PORTFOLIO_SIZE\n",
    "    _, _, terminated, _ = environment_2022.step(action)\n",
    "    UBAH_results[\"2022\"][\"actions\"].append(action)\n",
    "UBAH_results[\"2022\"][\"value\"] = environment_2022._asset_memory[\"final\"]\n",
    "\n",
    "# 2023\n",
    "terminated = False\n",
    "environment_2023.reset()\n",
    "while not terminated:\n",
    "    action = [0] + [1/PORTFOLIO_SIZE] * PORTFOLIO_SIZE\n",
    "    _, _, terminated, _ = environment_2023.step(action)\n",
    "    UBAH_results[\"2023\"][\"actions\"].append(action)\n",
    "UBAH_results[\"2023\"][\"value\"] = environment_2023._asset_memory[\"final\"]"
   ]
  },
  {
   "cell_type": "code",
   "execution_count": null,
   "metadata": {
    "scrolled": false
   },
   "outputs": [],
   "source": [
    "import matplotlib.pyplot as plt\n",
    "%matplotlib inline \n",
    "\n",
    "plt.plot(UBAH_results[\"train\"][\"value\"], label=\"Buy and Hold\")\n",
    "plt.plot(EIIE_results[\"train\"][\"value\"], label=\"EIIE\")\n",
    "#plt.plot(EI3_results[\"train\"][\"value\"], label=\"EI3\")\n",
    "\n",
    "plt.xlabel(\"Days\")\n",
    "plt.ylabel(\"Portfolio Value\")\n",
    "plt.title(\"Performance in training period\")\n",
    "plt.legend()\n",
    "\n",
    "plt.show()\n",
    "\n",
    "plt.plot(UBAH_results[\"2021\"][\"value\"], label=\"Buy and Hold\")\n",
    "plt.plot(EIIE_results[\"2021\"][\"value\"], label=\"EIIE\")\n",
    "#plt.plot(EI3_results[\"2021\"][\"value\"], label=\"EI3\")\n",
    "\n",
    "plt.xlabel(\"Days\")\n",
    "plt.ylabel(\"Portfolio Value\")\n",
    "plt.title(\"Performance in 2021\")\n",
    "plt.legend()\n",
    "\n",
    "plt.show()\n",
    "\n",
    "plt.plot(UBAH_results[\"2022\"][\"value\"], label=\"Buy and Hold\")\n",
    "plt.plot(EIIE_results[\"2022\"][\"value\"], label=\"EIIE\")\n",
    "#plt.plot(EI3_results[\"2022\"][\"value\"], label=\"EI3\")\n",
    "\n",
    "plt.xlabel(\"Days\")\n",
    "plt.ylabel(\"Portfolio Value\")\n",
    "plt.title(\"Performance in 2022\")\n",
    "plt.legend()\n",
    "\n",
    "plt.show()\n",
    "\n",
    "plt.plot(UBAH_results[\"2023\"][\"value\"], label=\"Buy and Hold\")\n",
    "plt.plot(EIIE_results[\"2023\"][\"value\"], label=\"EIIE\")\n",
    "#plt.plot(EI3_results[\"2023\"][\"value\"], label=\"EI3\")\n",
    "\n",
    "plt.xlabel(\"Days\")\n",
    "plt.ylabel(\"Portfolio Value\")\n",
    "plt.title(\"Performance in 2023\")\n",
    "plt.legend()\n",
    "\n",
    "plt.show()"
   ]
  },
  {
   "cell_type": "markdown",
   "metadata": {},
   "source": [
    "# Portfolio Allocation by Trained DRL Model"
   ]
  },
  {
   "cell_type": "code",
   "execution_count": null,
   "metadata": {
    "scrolled": false
   },
   "outputs": [],
   "source": [
    "# Function to plot action memory\n",
    "def plot_action_memory(actions, tickers, label):\n",
    "    \"\"\"Visualize portfolio allocation over time.\"\"\"\n",
    "    actions_df = pd.DataFrame(actions, columns=[\"cash\"] + tickers)\n",
    "    actions_df.plot(kind=\"line\", figsize=(12, 8), title=f\"Portfolio Allocation Breakdown - {label}\")\n",
    "    plt.ylabel(\"Portfolio Weight\")\n",
    "    plt.xlabel(\"Time Step\")\n",
    "    plt.legend(loc=\"upper left\", bbox_to_anchor=(1, 1))\n",
    "    plt.grid(True)\n",
    "    plt.tight_layout()\n",
    "    plt.show()\n",
    "\n",
    "# Plot EIIE actions for the training period\n",
    "plot_action_memory(EIIE_results[\"train\"][\"actions\"], TEST_SET, \"EIIE - Train\")\n",
    "\n",
    "# Plot EIIE actions for 2021\n",
    "plot_action_memory(EIIE_results[\"2021\"][\"actions\"], TEST_SET, \"EIIE - 2021\")\n",
    "\n",
    "# Plot EIIE actions for 2022\n",
    "plot_action_memory(EIIE_results[\"2022\"][\"actions\"], TEST_SET, \"EIIE - 2022\")\n",
    "\n",
    "# Plot EIIE actions for 2023\n",
    "plot_action_memory(EIIE_results[\"2023\"][\"actions\"], TEST_SET, \"EIIE - 2023\")\n",
    "\n",
    "# Similarly, plot UBAH actions for each period\n",
    "# plot_action_memory(UBAH_results[\"train\"][\"actions\"], TEST_SET, \"UBAH - Train\")\n",
    "# plot_action_memory(UBAH_results[\"2021\"][\"actions\"], TEST_SET, \"UBAH - 2021\")\n",
    "# plot_action_memory(UBAH_results[\"2022\"][\"actions\"], TEST_SET, \"UBAH - 2022\")\n",
    "# plot_action_memory(UBAH_results[\"2023\"][\"actions\"], TEST_SET, \"UBAH - 2023\")"
   ]
  },
  {
   "cell_type": "code",
   "execution_count": null,
   "metadata": {},
   "outputs": [],
   "source": []
  },
  {
   "cell_type": "code",
   "execution_count": null,
   "metadata": {},
   "outputs": [],
   "source": [
    "results_df2 = results_df2[[\"TIME_WINDOW\", \"K_SIZE\", \"CONV_MID\", \"CONV_FINAL\", \n",
    "            'train_portfolio_value', 'train_drawdown', 'train_sharpe','train_cumulative',\n",
    "            '2021_portfolio_value', '2021_drawdown', '2021_sharpe','2021_cumulative',\n",
    "             '2022_portfolio_value', '2022_drawdown', '2022_sharpe','2022_cumulative',\n",
    "             '2023_portfolio_value', '2023_drawdown', '2023_sharpe','2023_cumulative']]"
   ]
  },
  {
   "cell_type": "code",
   "execution_count": null,
   "metadata": {},
   "outputs": [],
   "source": []
  }
 ],
 "metadata": {
  "kernelspec": {
   "display_name": "Python 3",
   "language": "python",
   "name": "python3"
  },
  "language_info": {
   "codemirror_mode": {
    "name": "ipython",
    "version": 3
   },
   "file_extension": ".py",
   "mimetype": "text/x-python",
   "name": "python",
   "nbconvert_exporter": "python",
   "pygments_lexer": "ipython3",
   "version": "3.10.10"
  }
 },
 "nbformat": 4,
 "nbformat_minor": 2
}

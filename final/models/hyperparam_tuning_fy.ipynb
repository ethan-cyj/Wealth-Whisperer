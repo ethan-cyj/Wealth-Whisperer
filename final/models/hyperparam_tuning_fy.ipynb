{
 "cells": [
  {
   "cell_type": "code",
   "execution_count": 1,
   "metadata": {},
   "outputs": [],
   "source": [
    "# !sudo apt install swig"
   ]
  },
  {
   "cell_type": "code",
   "execution_count": 2,
   "metadata": {},
   "outputs": [],
   "source": [
    "# !pip install quantstats\n",
    "# !pip install scikit-learn\n",
    "# !pip install torch\n",
    "# !pip install git+https://github.com/AI4Finance-Foundation/FinRL.git"
   ]
  },
  {
   "cell_type": "markdown",
   "metadata": {},
   "source": [
    "# Initializing"
   ]
  },
  {
   "cell_type": "code",
   "execution_count": 1,
   "metadata": {},
   "outputs": [],
   "source": [
    "import logging\n",
    "logging.getLogger('matplotlib.font_manager').disabled = True\n",
    "import torch\n",
    "\n",
    "import numpy as np\n",
    "import pandas as pd\n",
    "\n",
    "from sklearn.preprocessing import MaxAbsScaler\n",
    "# from utils import PortfolioOptimizationEnv, custom_reward_function, sharpe_ratio_reward_function\n",
    "from packages.custom_utils import PortfolioOptimizationEnv, custom_reward_function, sharpe_ratio_reward_function\n",
    "from packages.models import DRLAgent\n",
    "from packages.architectures import EIIE\n",
    "\n",
    "device = 'cuda:0' if torch.cuda.is_available() else 'cpu'"
   ]
  },
  {
   "cell_type": "markdown",
   "metadata": {},
   "source": [
    "# Data Import and Preprocessing"
   ]
  },
  {
   "cell_type": "code",
   "execution_count": 3,
   "metadata": {},
   "outputs": [],
   "source": [
    "# df_portfolio_train = df_portfolio[(df_portfolio[\"date\"] >= START_DATE) & (df_portfolio[\"date\"] < \"2020-12-31\")]\n",
    "# df_portfolio_test = df_portfolio[(df_portfolio[\"date\"] >= \"2021-01-01\") & (df_portfolio[\"date\"] < \"2022-12-31\")]\n",
    "\n",
    "\n",
    "df_portfolio = pd.read_parquet('datasets/df_portfolio_train.parquet')\n",
    "df_portfolio_test = pd.read_parquet('datasets/df_portfolio_test.parquet')\n",
    "\n",
    "df_portfolio_train = df_portfolio[df_portfolio['date'] <= \"2020-12-31\"]\n",
    "df_portfolio_vali = df_portfolio[df_portfolio['date'] >= \"2021-01-01\"]"
   ]
  },
  {
   "cell_type": "markdown",
   "metadata": {},
   "source": [
    "# Feature Selection and DRL Model Parameters"
   ]
  },
  {
   "cell_type": "code",
   "execution_count": 4,
   "metadata": {},
   "outputs": [],
   "source": [
    "import pandas as pd\n",
    "from itertools import product\n",
    "import numpy as np  # for NaN\n",
    "import torch\n",
    "\n",
    "FEATURE_NAMES = [\"close\",\n",
    "               \"vmd_mode_0\",\n",
    "                \"vmd_mode_1\",\n",
    "                \"vmd_mode_2\",\n",
    "                  #\"high\", \n",
    "                  #\"low\",\n",
    "                'High_VIX',\n",
    "                'Low_VIX',\n",
    "                  #'Close_VIX',\n",
    "                'High_SPY',\n",
    "                'Low_SPY',\n",
    "                'Close_SPY',\n",
    "                  #'Volume_SPY',\n",
    "                'Fear Greed', \n",
    "                'ratingScore',\n",
    "                  #'ratingDetailsDCFScore',\n",
    "                'ratingDetailsROEScore',\n",
    "                  #'ratingDetailsROAScore',\n",
    "                  #'ratingDetailsPEScore',\n",
    "                  #'ratingDetailsPBScore',\n",
    "                  #'expenses',\n",
    "                  #'GDP', \n",
    "                'exports', \n",
    "                  #'imports',\n",
    "                'pound_dollar_exchange_rate', \n",
    "                'unemployment',\n",
    "                'ics',\n",
    "                'TTM Revenue(Billion)',\n",
    "                  #'TTM EBITDA(Billion)',\n",
    "                  #'EBITDA Margin',\n",
    "                'Price to Book Ratio',\n",
    "                  #'PE Ratio',\n",
    "                'Price to Sales Ratio',\n",
    "                  #'Assets',\n",
    "                  #'NetIncomeLoss',\n",
    "                'Return on Equity(%)']\n",
    "\n",
    "COMISSION_FEE = 0.001\n",
    "\n",
    "# Define hyperparameter ranges\n",
    "time_windows = [30, 60 ,90]\n",
    "k_sizes = [3, 4, 5]\n",
    "conv_mids = [5,10, 20]\n",
    "conv_finals = [5, 10, 20]\n",
    "lr = [0.01, 0.02]\n",
    "# Function to calculate the final accumulative portfolio value\n",
    "def calculate_cumulative_value(portfolio_values):\n",
    "    initial_value = portfolio_values[0]\n",
    "    final_value = portfolio_values[-1]\n",
    "    return final_value / initial_value\n",
    "\n",
    "# Function to calculate the maximum drawdown\n",
    "def calculate_max_drawdown(portfolio_values):\n",
    "    portfolio_values = np.array(portfolio_values)\n",
    "    running_max = np.maximum.accumulate(portfolio_values)\n",
    "    drawdowns = (portfolio_values - running_max) / running_max\n",
    "    max_drawdown = drawdowns.min()\n",
    "    \n",
    "    return max_drawdown\n",
    "\n",
    "# Function to calculate the Sharpe ratio\n",
    "def calculate_sharpe_ratio(portfolio_values, risk_free_rate=0):\n",
    "    returns = np.diff(portfolio_values) / portfolio_values[:-1]\n",
    "    excess_returns = returns - risk_free_rate\n",
    "    sharpe_ratio = np.mean(excess_returns) / np.std(excess_returns)\n",
    "    sharpe_ratio_annualized = sharpe_ratio * np.sqrt(252)\n",
    "    \n",
    "    return sharpe_ratio_annualized\n",
    "\n",
    "\n",
    "# Define a function to calculate the metrics (this is just a placeholder; replace with actual functions)\n",
    "def calculate_metrics(environment):\n",
    "    final_portfolio_value = environment._asset_memory[\"final\"][-1]\n",
    "    max_drawdown = calculate_max_drawdown(environment._asset_memory[\"final\"])\n",
    "    sharpe_ratio = calculate_sharpe_ratio(environment._asset_memory[\"final\"])\n",
    "    cumulative_value = calculate_cumulative_value(environment._asset_memory[\"final\"])\n",
    "    return final_portfolio_value, max_drawdown, sharpe_ratio, cumulative_value\n",
    "\n",
    "# DataFrame to store results\n",
    "columns = [\"TIME_WINDOW\", \"K_SIZE\", \"CONV_MID\", \"CONV_FINAL\",\"LEARNING_RATE\", \n",
    "        'train_portfolio_value', 'train_drawdown', 'train_sharpe', 'train_cumulative',\n",
    "        'test_portfolio_value', 'test_drawdown', 'test_sharpe', 'test_cumulative']\n",
    "\n",
    "results_df = pd.DataFrame(columns=columns)\n",
    "\n",
    "hyperparams = list(product(time_windows, k_sizes, conv_mids, conv_finals, lr))"
   ]
  },
  {
   "cell_type": "code",
   "execution_count": 5,
   "metadata": {},
   "outputs": [
    {
     "name": "stdout",
     "output_type": "stream",
     "text": [
      "Training model with TIME_WINDOW=30, K_SIZE=3, CONV_MID=5, CONV_FINAL=5, LEARNING_RATE=0.01\n"
     ]
    },
    {
     "name": "stderr",
     "output_type": "stream",
     "text": [
      "C:\\Users\\xutia\\AppData\\Local\\Temp\\ipykernel_21240\\3616600396.py:59: FutureWarning: You are using `torch.load` with `weights_only=False` (the current default value), which uses the default pickle module implicitly. It is possible to construct malicious pickle data which will execute arbitrary code during unpickling (See https://github.com/pytorch/pytorch/blob/main/SECURITY.md#untrusted-models for more details). In a future release, the default value for `weights_only` will be flipped to `True`. This limits the functions that could be executed during unpickling. Arbitrary objects will no longer be allowed to be loaded via this mode unless they are explicitly allowlisted by the user via `torch.serialization.add_safe_globals`. We recommend you start setting `weights_only=True` for any use case where you don't have full control of the loaded file. Please open an issue on GitHub for any issues related to this experimental feature.\n",
      "  EIIE_policy.load_state_dict(torch.load(model_filename))\n"
     ]
    },
    {
     "name": "stdout",
     "output_type": "stream",
     "text": [
      "=================================\n",
      "Initial portfolio value: 100000\n",
      "Final portfolio value: 1157167.0\n",
      "Final accumulative portfolio return: 11.57167\n",
      "Maximum DrawDown: -0.28039274754974897\n",
      "Sharpe ratio: 1.482615478282271\n",
      "=================================\n",
      "Metrics - train_final_value: 1157167.0, train_drawdown: -0.280392747549749, train_sharpe: 1.4834750702275277, train_cumulative: 11.57167\n",
      "=================================\n",
      "Initial portfolio value: 100000\n",
      "Final portfolio value: 191700.953125\n",
      "Final accumulative portfolio return: 1.91700953125\n",
      "Maximum DrawDown: -0.18684670276284832\n",
      "Sharpe ratio: 1.3998727758620995\n",
      "=================================\n",
      "Metrics - test_final_value: 191700.953125, test_drawdown: -0.18684670276284834, test_sharpe: 1.4028439795712773, test_cumulative: 1.91700953125\n",
      "Training model with TIME_WINDOW=30, K_SIZE=3, CONV_MID=5, CONV_FINAL=5, LEARNING_RATE=0.02\n"
     ]
    },
    {
     "name": "stderr",
     "output_type": "stream",
     "text": [
      "C:\\Users\\xutia\\AppData\\Local\\Temp\\ipykernel_21240\\3616600396.py:89: FutureWarning: The behavior of DataFrame concatenation with empty or all-NA entries is deprecated. In a future version, this will no longer exclude empty or all-NA columns when determining the result dtypes. To retain the old behavior, exclude the relevant entries before the concat operation.\n",
      "  results_df = pd.concat([results_df, temp_df], ignore_index=True)\n",
      "C:\\Users\\xutia\\AppData\\Local\\Temp\\ipykernel_21240\\3616600396.py:59: FutureWarning: You are using `torch.load` with `weights_only=False` (the current default value), which uses the default pickle module implicitly. It is possible to construct malicious pickle data which will execute arbitrary code during unpickling (See https://github.com/pytorch/pytorch/blob/main/SECURITY.md#untrusted-models for more details). In a future release, the default value for `weights_only` will be flipped to `True`. This limits the functions that could be executed during unpickling. Arbitrary objects will no longer be allowed to be loaded via this mode unless they are explicitly allowlisted by the user via `torch.serialization.add_safe_globals`. We recommend you start setting `weights_only=True` for any use case where you don't have full control of the loaded file. Please open an issue on GitHub for any issues related to this experimental feature.\n",
      "  EIIE_policy.load_state_dict(torch.load(model_filename))\n"
     ]
    },
    {
     "name": "stdout",
     "output_type": "stream",
     "text": [
      "=================================\n",
      "Initial portfolio value: 100000\n",
      "Final portfolio value: 509719.71875\n",
      "Final accumulative portfolio return: 5.0971971875\n",
      "Maximum DrawDown: -0.3849643051158901\n",
      "Sharpe ratio: 0.9824704082020347\n",
      "=================================\n",
      "Metrics - train_final_value: 509719.71875, train_drawdown: -0.3849643051158901, train_sharpe: 0.9830371055973451, train_cumulative: 5.0971971875\n",
      "=================================\n",
      "Initial portfolio value: 100000\n",
      "Final portfolio value: 161562.53125\n",
      "Final accumulative portfolio return: 1.6156253125\n",
      "Maximum DrawDown: -0.20936896961209361\n",
      "Sharpe ratio: 1.086904815878446\n",
      "=================================\n",
      "Metrics - test_final_value: 161562.53125, test_drawdown: -0.20936896961209367, test_sharpe: 1.0892106568890108, test_cumulative: 1.6156253125\n",
      "Training model with TIME_WINDOW=30, K_SIZE=3, CONV_MID=5, CONV_FINAL=10, LEARNING_RATE=0.01\n"
     ]
    },
    {
     "name": "stderr",
     "output_type": "stream",
     "text": [
      "C:\\Users\\xutia\\AppData\\Local\\Temp\\ipykernel_21240\\3616600396.py:59: FutureWarning: You are using `torch.load` with `weights_only=False` (the current default value), which uses the default pickle module implicitly. It is possible to construct malicious pickle data which will execute arbitrary code during unpickling (See https://github.com/pytorch/pytorch/blob/main/SECURITY.md#untrusted-models for more details). In a future release, the default value for `weights_only` will be flipped to `True`. This limits the functions that could be executed during unpickling. Arbitrary objects will no longer be allowed to be loaded via this mode unless they are explicitly allowlisted by the user via `torch.serialization.add_safe_globals`. We recommend you start setting `weights_only=True` for any use case where you don't have full control of the loaded file. Please open an issue on GitHub for any issues related to this experimental feature.\n",
      "  EIIE_policy.load_state_dict(torch.load(model_filename))\n"
     ]
    },
    {
     "name": "stdout",
     "output_type": "stream",
     "text": [
      "=================================\n",
      "Initial portfolio value: 100000\n",
      "Final portfolio value: 1002889.8125\n",
      "Final accumulative portfolio return: 10.028898125\n",
      "Maximum DrawDown: -0.4064590774522965\n",
      "Sharpe ratio: 1.3433432627105857\n",
      "=================================\n",
      "Metrics - train_final_value: 1002889.8125, train_drawdown: -0.4064590774522965, train_sharpe: 1.3441210405575066, train_cumulative: 10.028898125\n",
      "=================================\n",
      "Initial portfolio value: 100000\n",
      "Final portfolio value: 195581.609375\n",
      "Final accumulative portfolio return: 1.95581609375\n",
      "Maximum DrawDown: -0.22185107555899897\n",
      "Sharpe ratio: 1.3999387152169465\n",
      "=================================\n",
      "Metrics - test_final_value: 195581.609375, test_drawdown: -0.22185107555899894, test_sharpe: 1.40291111904667, test_cumulative: 1.95581609375\n",
      "Training model with TIME_WINDOW=30, K_SIZE=3, CONV_MID=5, CONV_FINAL=10, LEARNING_RATE=0.02\n"
     ]
    },
    {
     "name": "stderr",
     "output_type": "stream",
     "text": [
      "C:\\Users\\xutia\\AppData\\Local\\Temp\\ipykernel_21240\\3616600396.py:59: FutureWarning: You are using `torch.load` with `weights_only=False` (the current default value), which uses the default pickle module implicitly. It is possible to construct malicious pickle data which will execute arbitrary code during unpickling (See https://github.com/pytorch/pytorch/blob/main/SECURITY.md#untrusted-models for more details). In a future release, the default value for `weights_only` will be flipped to `True`. This limits the functions that could be executed during unpickling. Arbitrary objects will no longer be allowed to be loaded via this mode unless they are explicitly allowlisted by the user via `torch.serialization.add_safe_globals`. We recommend you start setting `weights_only=True` for any use case where you don't have full control of the loaded file. Please open an issue on GitHub for any issues related to this experimental feature.\n",
      "  EIIE_policy.load_state_dict(torch.load(model_filename))\n"
     ]
    },
    {
     "name": "stdout",
     "output_type": "stream",
     "text": [
      "=================================\n",
      "Initial portfolio value: 100000\n",
      "Final portfolio value: 238835.5\n",
      "Final accumulative portfolio return: 2.388355\n",
      "Maximum DrawDown: -0.34492782686291656\n",
      "Sharpe ratio: 0.77938827985673\n",
      "=================================\n",
      "Metrics - train_final_value: 238835.5, train_drawdown: -0.34492782686291656, train_sharpe: 0.7798396152731131, train_cumulative: 2.388355\n",
      "=================================\n",
      "Initial portfolio value: 100000\n",
      "Final portfolio value: 128962.890625\n",
      "Final accumulative portfolio return: 1.28962890625\n",
      "Maximum DrawDown: -0.1548484057834274\n",
      "Sharpe ratio: 0.8853945801473965\n",
      "=================================\n",
      "Metrics - test_final_value: 128962.890625, test_drawdown: -0.15484840578342737, test_sharpe: 0.8872687557569191, test_cumulative: 1.28962890625\n",
      "Training model with TIME_WINDOW=30, K_SIZE=3, CONV_MID=5, CONV_FINAL=20, LEARNING_RATE=0.01\n"
     ]
    },
    {
     "name": "stderr",
     "output_type": "stream",
     "text": [
      "C:\\Users\\xutia\\AppData\\Local\\Temp\\ipykernel_21240\\3616600396.py:59: FutureWarning: You are using `torch.load` with `weights_only=False` (the current default value), which uses the default pickle module implicitly. It is possible to construct malicious pickle data which will execute arbitrary code during unpickling (See https://github.com/pytorch/pytorch/blob/main/SECURITY.md#untrusted-models for more details). In a future release, the default value for `weights_only` will be flipped to `True`. This limits the functions that could be executed during unpickling. Arbitrary objects will no longer be allowed to be loaded via this mode unless they are explicitly allowlisted by the user via `torch.serialization.add_safe_globals`. We recommend you start setting `weights_only=True` for any use case where you don't have full control of the loaded file. Please open an issue on GitHub for any issues related to this experimental feature.\n",
      "  EIIE_policy.load_state_dict(torch.load(model_filename))\n"
     ]
    },
    {
     "name": "stdout",
     "output_type": "stream",
     "text": [
      "=================================\n",
      "Initial portfolio value: 100000\n",
      "Final portfolio value: 1334529.5\n",
      "Final accumulative portfolio return: 13.345295\n",
      "Maximum DrawDown: -0.2810516659817327\n",
      "Sharpe ratio: 1.5430408073888062\n",
      "=================================\n",
      "Metrics - train_final_value: 1334529.5, train_drawdown: -0.2810516659817327, train_sharpe: 1.5439349149734267, train_cumulative: 13.345295\n",
      "=================================\n",
      "Initial portfolio value: 100000\n",
      "Final portfolio value: 189838.953125\n",
      "Final accumulative portfolio return: 1.89838953125\n",
      "Maximum DrawDown: -0.21984797909912268\n",
      "Sharpe ratio: 1.327771825646613\n",
      "=================================\n",
      "Metrics - test_final_value: 189838.953125, test_drawdown: -0.21984797909912265, test_sharpe: 1.3305887545706578, test_cumulative: 1.89838953125\n",
      "Training model with TIME_WINDOW=30, K_SIZE=3, CONV_MID=5, CONV_FINAL=20, LEARNING_RATE=0.02\n"
     ]
    },
    {
     "name": "stderr",
     "output_type": "stream",
     "text": [
      "C:\\Users\\xutia\\AppData\\Local\\Temp\\ipykernel_21240\\3616600396.py:59: FutureWarning: You are using `torch.load` with `weights_only=False` (the current default value), which uses the default pickle module implicitly. It is possible to construct malicious pickle data which will execute arbitrary code during unpickling (See https://github.com/pytorch/pytorch/blob/main/SECURITY.md#untrusted-models for more details). In a future release, the default value for `weights_only` will be flipped to `True`. This limits the functions that could be executed during unpickling. Arbitrary objects will no longer be allowed to be loaded via this mode unless they are explicitly allowlisted by the user via `torch.serialization.add_safe_globals`. We recommend you start setting `weights_only=True` for any use case where you don't have full control of the loaded file. Please open an issue on GitHub for any issues related to this experimental feature.\n",
      "  EIIE_policy.load_state_dict(torch.load(model_filename))\n"
     ]
    },
    {
     "name": "stdout",
     "output_type": "stream",
     "text": [
      "=================================\n",
      "Initial portfolio value: 100000\n",
      "Final portfolio value: 244502.484375\n",
      "Final accumulative portfolio return: 2.44502484375\n",
      "Maximum DrawDown: -0.35252405398733866\n",
      "Sharpe ratio: 0.7810546523952897\n",
      "=================================\n",
      "Metrics - train_final_value: 244502.484375, train_drawdown: -0.35252405398733866, train_sharpe: 0.7815068395884509, train_cumulative: 2.44502484375\n",
      "=================================\n",
      "Initial portfolio value: 100000\n",
      "Final portfolio value: 129978.8046875\n",
      "Final accumulative portfolio return: 1.299788046875\n",
      "Maximum DrawDown: -0.15930897682434753\n",
      "Sharpe ratio: 0.8882214525541965\n",
      "=================================\n",
      "Metrics - test_final_value: 129978.8046875, test_drawdown: -0.1593089768243475, test_sharpe: 0.8900997801855841, test_cumulative: 1.299788046875\n",
      "Training model with TIME_WINDOW=30, K_SIZE=3, CONV_MID=10, CONV_FINAL=5, LEARNING_RATE=0.01\n"
     ]
    },
    {
     "name": "stderr",
     "output_type": "stream",
     "text": [
      "C:\\Users\\xutia\\AppData\\Local\\Temp\\ipykernel_21240\\3616600396.py:59: FutureWarning: You are using `torch.load` with `weights_only=False` (the current default value), which uses the default pickle module implicitly. It is possible to construct malicious pickle data which will execute arbitrary code during unpickling (See https://github.com/pytorch/pytorch/blob/main/SECURITY.md#untrusted-models for more details). In a future release, the default value for `weights_only` will be flipped to `True`. This limits the functions that could be executed during unpickling. Arbitrary objects will no longer be allowed to be loaded via this mode unless they are explicitly allowlisted by the user via `torch.serialization.add_safe_globals`. We recommend you start setting `weights_only=True` for any use case where you don't have full control of the loaded file. Please open an issue on GitHub for any issues related to this experimental feature.\n",
      "  EIIE_policy.load_state_dict(torch.load(model_filename))\n"
     ]
    },
    {
     "name": "stdout",
     "output_type": "stream",
     "text": [
      "=================================\n",
      "Initial portfolio value: 100000\n",
      "Final portfolio value: 230119.625\n",
      "Final accumulative portfolio return: 2.30119625\n",
      "Maximum DrawDown: -0.33108437461329465\n",
      "Sharpe ratio: 0.7783914377839126\n",
      "=================================\n",
      "Metrics - train_final_value: 230119.625, train_drawdown: -0.33108437461329465, train_sharpe: 0.7788419104547971, train_cumulative: 2.30119625\n",
      "=================================\n",
      "Initial portfolio value: 100000\n",
      "Final portfolio value: 127466.53125\n",
      "Final accumulative portfolio return: 1.2746653125\n",
      "Maximum DrawDown: -0.14741215897366167\n",
      "Sharpe ratio: 0.884109412459462\n",
      "=================================\n",
      "Metrics - test_final_value: 127466.53125, test_drawdown: -0.1474121589736617, test_sharpe: 0.8859770374575191, test_cumulative: 1.2746653125\n",
      "Training model with TIME_WINDOW=30, K_SIZE=3, CONV_MID=10, CONV_FINAL=5, LEARNING_RATE=0.02\n"
     ]
    },
    {
     "name": "stderr",
     "output_type": "stream",
     "text": [
      "C:\\Users\\xutia\\AppData\\Local\\Temp\\ipykernel_21240\\3616600396.py:59: FutureWarning: You are using `torch.load` with `weights_only=False` (the current default value), which uses the default pickle module implicitly. It is possible to construct malicious pickle data which will execute arbitrary code during unpickling (See https://github.com/pytorch/pytorch/blob/main/SECURITY.md#untrusted-models for more details). In a future release, the default value for `weights_only` will be flipped to `True`. This limits the functions that could be executed during unpickling. Arbitrary objects will no longer be allowed to be loaded via this mode unless they are explicitly allowlisted by the user via `torch.serialization.add_safe_globals`. We recommend you start setting `weights_only=True` for any use case where you don't have full control of the loaded file. Please open an issue on GitHub for any issues related to this experimental feature.\n",
      "  EIIE_policy.load_state_dict(torch.load(model_filename))\n"
     ]
    },
    {
     "name": "stdout",
     "output_type": "stream",
     "text": [
      "=================================\n",
      "Initial portfolio value: 100000\n",
      "Final portfolio value: 665641.625\n",
      "Final accumulative portfolio return: 6.65641625\n",
      "Maximum DrawDown: -0.44531118388611035\n",
      "Sharpe ratio: 1.1014615661286622\n",
      "=================================\n",
      "Metrics - train_final_value: 665641.625, train_drawdown: -0.44531118388611035, train_sharpe: 1.1020980781943075, train_cumulative: 6.65641625\n",
      "=================================\n",
      "Initial portfolio value: 100000\n",
      "Final portfolio value: 161771.703125\n",
      "Final accumulative portfolio return: 1.61771703125\n",
      "Maximum DrawDown: -0.30755587024895015\n",
      "Sharpe ratio: 1.051844097313758\n",
      "=================================\n",
      "Metrics - test_final_value: 161771.703125, test_drawdown: -0.3075558702489501, test_sharpe: 1.0540742113407582, test_cumulative: 1.61771703125\n",
      "Training model with TIME_WINDOW=30, K_SIZE=3, CONV_MID=10, CONV_FINAL=10, LEARNING_RATE=0.01\n"
     ]
    },
    {
     "name": "stderr",
     "output_type": "stream",
     "text": [
      "C:\\Users\\xutia\\AppData\\Local\\Temp\\ipykernel_21240\\3616600396.py:59: FutureWarning: You are using `torch.load` with `weights_only=False` (the current default value), which uses the default pickle module implicitly. It is possible to construct malicious pickle data which will execute arbitrary code during unpickling (See https://github.com/pytorch/pytorch/blob/main/SECURITY.md#untrusted-models for more details). In a future release, the default value for `weights_only` will be flipped to `True`. This limits the functions that could be executed during unpickling. Arbitrary objects will no longer be allowed to be loaded via this mode unless they are explicitly allowlisted by the user via `torch.serialization.add_safe_globals`. We recommend you start setting `weights_only=True` for any use case where you don't have full control of the loaded file. Please open an issue on GitHub for any issues related to this experimental feature.\n",
      "  EIIE_policy.load_state_dict(torch.load(model_filename))\n"
     ]
    },
    {
     "name": "stdout",
     "output_type": "stream",
     "text": [
      "=================================\n",
      "Initial portfolio value: 100000\n",
      "Final portfolio value: 100000.0\n",
      "Final accumulative portfolio return: 1.0\n",
      "Maximum DrawDown: 0.0\n",
      "Sharpe ratio: nan\n",
      "=================================\n"
     ]
    },
    {
     "name": "stderr",
     "output_type": "stream",
     "text": [
      "C:\\Users\\xutia\\AppData\\Roaming\\Python\\Python310\\site-packages\\quantstats\\stats.py:294: RuntimeWarning: invalid value encountered in scalar divide\n",
      "  res = returns.mean() / divisor\n",
      "C:\\Users\\xutia\\AppData\\Local\\Temp\\ipykernel_21240\\1884595116.py:70: RuntimeWarning: invalid value encountered in scalar divide\n",
      "  sharpe_ratio = np.mean(excess_returns) / np.std(excess_returns)\n"
     ]
    },
    {
     "name": "stdout",
     "output_type": "stream",
     "text": [
      "Metrics - train_final_value: 100000.0, train_drawdown: 0.0, train_sharpe: nan, train_cumulative: 1.0\n",
      "=================================\n",
      "Initial portfolio value: 100000\n",
      "Final portfolio value: 100000.0\n",
      "Final accumulative portfolio return: 1.0\n",
      "Maximum DrawDown: 0.0\n",
      "Sharpe ratio: nan\n",
      "=================================\n"
     ]
    },
    {
     "name": "stderr",
     "output_type": "stream",
     "text": [
      "C:\\Users\\xutia\\AppData\\Roaming\\Python\\Python310\\site-packages\\quantstats\\stats.py:294: RuntimeWarning: invalid value encountered in scalar divide\n",
      "  res = returns.mean() / divisor\n",
      "C:\\Users\\xutia\\AppData\\Local\\Temp\\ipykernel_21240\\1884595116.py:70: RuntimeWarning: invalid value encountered in scalar divide\n",
      "  sharpe_ratio = np.mean(excess_returns) / np.std(excess_returns)\n",
      "C:\\Users\\xutia\\AppData\\Local\\Temp\\ipykernel_21240\\3616600396.py:59: FutureWarning: You are using `torch.load` with `weights_only=False` (the current default value), which uses the default pickle module implicitly. It is possible to construct malicious pickle data which will execute arbitrary code during unpickling (See https://github.com/pytorch/pytorch/blob/main/SECURITY.md#untrusted-models for more details). In a future release, the default value for `weights_only` will be flipped to `True`. This limits the functions that could be executed during unpickling. Arbitrary objects will no longer be allowed to be loaded via this mode unless they are explicitly allowlisted by the user via `torch.serialization.add_safe_globals`. We recommend you start setting `weights_only=True` for any use case where you don't have full control of the loaded file. Please open an issue on GitHub for any issues related to this experimental feature.\n",
      "  EIIE_policy.load_state_dict(torch.load(model_filename))\n"
     ]
    },
    {
     "name": "stdout",
     "output_type": "stream",
     "text": [
      "Metrics - test_final_value: 100000.0, test_drawdown: 0.0, test_sharpe: nan, test_cumulative: 1.0\n",
      "Training model with TIME_WINDOW=30, K_SIZE=3, CONV_MID=10, CONV_FINAL=10, LEARNING_RATE=0.02\n",
      "=================================\n",
      "Initial portfolio value: 100000\n",
      "Final portfolio value: 1262231.875\n",
      "Final accumulative portfolio return: 12.62231875\n",
      "Maximum DrawDown: -0.28039192903420884\n",
      "Sharpe ratio: 1.4807610736180699\n",
      "=================================\n",
      "Metrics - train_final_value: 1262231.875, train_drawdown: -0.28039192903420884, train_sharpe: 1.4816187516865078, train_cumulative: 12.62231875\n",
      "=================================\n",
      "Initial portfolio value: 100000\n",
      "Final portfolio value: 128480.71875\n",
      "Final accumulative portfolio return: 1.2848071875\n",
      "Maximum DrawDown: -0.18432842353780854\n",
      "Sharpe ratio: 0.70634245309482\n",
      "=================================\n",
      "Metrics - test_final_value: 128480.71875, test_drawdown: -0.1843284235378085, test_sharpe: 0.7078399934507542, test_cumulative: 1.2848071875\n",
      "Training model with TIME_WINDOW=30, K_SIZE=3, CONV_MID=10, CONV_FINAL=20, LEARNING_RATE=0.01\n"
     ]
    },
    {
     "name": "stderr",
     "output_type": "stream",
     "text": [
      "C:\\Users\\xutia\\AppData\\Local\\Temp\\ipykernel_21240\\3616600396.py:59: FutureWarning: You are using `torch.load` with `weights_only=False` (the current default value), which uses the default pickle module implicitly. It is possible to construct malicious pickle data which will execute arbitrary code during unpickling (See https://github.com/pytorch/pytorch/blob/main/SECURITY.md#untrusted-models for more details). In a future release, the default value for `weights_only` will be flipped to `True`. This limits the functions that could be executed during unpickling. Arbitrary objects will no longer be allowed to be loaded via this mode unless they are explicitly allowlisted by the user via `torch.serialization.add_safe_globals`. We recommend you start setting `weights_only=True` for any use case where you don't have full control of the loaded file. Please open an issue on GitHub for any issues related to this experimental feature.\n",
      "  EIIE_policy.load_state_dict(torch.load(model_filename))\n"
     ]
    },
    {
     "name": "stdout",
     "output_type": "stream",
     "text": [
      "=================================\n",
      "Initial portfolio value: 100000\n",
      "Final portfolio value: 689456.625\n",
      "Final accumulative portfolio return: 6.89456625\n",
      "Maximum DrawDown: -0.2808453359451687\n",
      "Sharpe ratio: 1.1411198741949535\n",
      "=================================\n",
      "Metrics - train_final_value: 689456.625, train_drawdown: -0.28084533594516875, train_sharpe: 1.1417786715039586, train_cumulative: 6.89456625\n",
      "=================================\n",
      "Initial portfolio value: 100000\n",
      "Final portfolio value: 158826.75\n",
      "Final accumulative portfolio return: 1.5882675\n",
      "Maximum DrawDown: -0.17215346465820103\n",
      "Sharpe ratio: 1.170647824549041\n",
      "=================================\n",
      "Metrics - test_final_value: 158826.75, test_drawdown: -0.17215346465820103, test_sharpe: 1.1731289457805099, test_cumulative: 1.5882675\n",
      "Training model with TIME_WINDOW=30, K_SIZE=3, CONV_MID=10, CONV_FINAL=20, LEARNING_RATE=0.02\n"
     ]
    },
    {
     "name": "stderr",
     "output_type": "stream",
     "text": [
      "C:\\Users\\xutia\\AppData\\Local\\Temp\\ipykernel_21240\\3616600396.py:59: FutureWarning: You are using `torch.load` with `weights_only=False` (the current default value), which uses the default pickle module implicitly. It is possible to construct malicious pickle data which will execute arbitrary code during unpickling (See https://github.com/pytorch/pytorch/blob/main/SECURITY.md#untrusted-models for more details). In a future release, the default value for `weights_only` will be flipped to `True`. This limits the functions that could be executed during unpickling. Arbitrary objects will no longer be allowed to be loaded via this mode unless they are explicitly allowlisted by the user via `torch.serialization.add_safe_globals`. We recommend you start setting `weights_only=True` for any use case where you don't have full control of the loaded file. Please open an issue on GitHub for any issues related to this experimental feature.\n",
      "  EIIE_policy.load_state_dict(torch.load(model_filename))\n"
     ]
    },
    {
     "name": "stdout",
     "output_type": "stream",
     "text": [
      "=================================\n",
      "Initial portfolio value: 100000\n",
      "Final portfolio value: 1135173.875\n",
      "Final accumulative portfolio return: 11.35173875\n",
      "Maximum DrawDown: -0.28039300228832587\n",
      "Sharpe ratio: 1.4359598502906235\n",
      "=================================\n",
      "Metrics - train_final_value: 1135173.875, train_drawdown: -0.2803930022883259, train_sharpe: 1.4367927290353675, train_cumulative: 11.35173875\n",
      "=================================\n",
      "Initial portfolio value: 100000\n",
      "Final portfolio value: 208690.171875\n",
      "Final accumulative portfolio return: 2.08690171875\n",
      "Maximum DrawDown: -0.17551778529024664\n",
      "Sharpe ratio: 1.505793472747769\n",
      "=================================\n",
      "Metrics - test_final_value: 208690.171875, test_drawdown: -0.17551778529024667, test_sharpe: 1.5089925142531806, test_cumulative: 2.08690171875\n",
      "Training model with TIME_WINDOW=30, K_SIZE=3, CONV_MID=20, CONV_FINAL=5, LEARNING_RATE=0.01\n"
     ]
    },
    {
     "name": "stderr",
     "output_type": "stream",
     "text": [
      "C:\\Users\\xutia\\AppData\\Local\\Temp\\ipykernel_21240\\3616600396.py:59: FutureWarning: You are using `torch.load` with `weights_only=False` (the current default value), which uses the default pickle module implicitly. It is possible to construct malicious pickle data which will execute arbitrary code during unpickling (See https://github.com/pytorch/pytorch/blob/main/SECURITY.md#untrusted-models for more details). In a future release, the default value for `weights_only` will be flipped to `True`. This limits the functions that could be executed during unpickling. Arbitrary objects will no longer be allowed to be loaded via this mode unless they are explicitly allowlisted by the user via `torch.serialization.add_safe_globals`. We recommend you start setting `weights_only=True` for any use case where you don't have full control of the loaded file. Please open an issue on GitHub for any issues related to this experimental feature.\n",
      "  EIIE_policy.load_state_dict(torch.load(model_filename))\n"
     ]
    },
    {
     "name": "stdout",
     "output_type": "stream",
     "text": [
      "=================================\n",
      "Initial portfolio value: 100000\n",
      "Final portfolio value: 660032.125\n",
      "Final accumulative portfolio return: 6.60032125\n",
      "Maximum DrawDown: -0.3841191726784182\n",
      "Sharpe ratio: 1.1641829155397407\n",
      "=================================\n",
      "Metrics - train_final_value: 660032.125, train_drawdown: -0.3841191726784182, train_sharpe: 1.1648564259855456, train_cumulative: 6.60032125\n",
      "=================================\n",
      "Initial portfolio value: 100000\n",
      "Final portfolio value: 168103.0625\n",
      "Final accumulative portfolio return: 1.681030625\n",
      "Maximum DrawDown: -0.27992213251913856\n",
      "Sharpe ratio: 1.1077641533449156\n",
      "=================================\n",
      "Metrics - test_final_value: 168103.0625, test_drawdown: -0.27992213251913856, test_sharpe: 1.1101115617184358, test_cumulative: 1.681030625\n",
      "Training model with TIME_WINDOW=30, K_SIZE=3, CONV_MID=20, CONV_FINAL=5, LEARNING_RATE=0.02\n"
     ]
    },
    {
     "name": "stderr",
     "output_type": "stream",
     "text": [
      "C:\\Users\\xutia\\AppData\\Local\\Temp\\ipykernel_21240\\3616600396.py:59: FutureWarning: You are using `torch.load` with `weights_only=False` (the current default value), which uses the default pickle module implicitly. It is possible to construct malicious pickle data which will execute arbitrary code during unpickling (See https://github.com/pytorch/pytorch/blob/main/SECURITY.md#untrusted-models for more details). In a future release, the default value for `weights_only` will be flipped to `True`. This limits the functions that could be executed during unpickling. Arbitrary objects will no longer be allowed to be loaded via this mode unless they are explicitly allowlisted by the user via `torch.serialization.add_safe_globals`. We recommend you start setting `weights_only=True` for any use case where you don't have full control of the loaded file. Please open an issue on GitHub for any issues related to this experimental feature.\n",
      "  EIIE_policy.load_state_dict(torch.load(model_filename))\n"
     ]
    },
    {
     "name": "stdout",
     "output_type": "stream",
     "text": [
      "=================================\n",
      "Initial portfolio value: 100000\n",
      "Final portfolio value: 359620.8125\n",
      "Final accumulative portfolio return: 3.596208125\n",
      "Maximum DrawDown: -0.27366291620982264\n",
      "Sharpe ratio: 0.9962362526327428\n",
      "=================================\n",
      "Metrics - train_final_value: 359620.8125, train_drawdown: -0.27366291620982264, train_sharpe: 0.9968126291248877, train_cumulative: 3.596208125\n",
      "=================================\n",
      "Initial portfolio value: 100000\n",
      "Final portfolio value: 88475.5625\n",
      "Final accumulative portfolio return: 0.884755625\n",
      "Maximum DrawDown: -0.2943135901134022\n",
      "Sharpe ratio: -0.19106381780611606\n",
      "=================================\n",
      "Metrics - test_final_value: 88475.5625, test_drawdown: -0.29431359011340225, test_sharpe: -0.19146489710164039, test_cumulative: 0.884755625\n",
      "Training model with TIME_WINDOW=30, K_SIZE=3, CONV_MID=20, CONV_FINAL=10, LEARNING_RATE=0.01\n"
     ]
    },
    {
     "name": "stderr",
     "output_type": "stream",
     "text": [
      "C:\\Users\\xutia\\AppData\\Local\\Temp\\ipykernel_21240\\3616600396.py:59: FutureWarning: You are using `torch.load` with `weights_only=False` (the current default value), which uses the default pickle module implicitly. It is possible to construct malicious pickle data which will execute arbitrary code during unpickling (See https://github.com/pytorch/pytorch/blob/main/SECURITY.md#untrusted-models for more details). In a future release, the default value for `weights_only` will be flipped to `True`. This limits the functions that could be executed during unpickling. Arbitrary objects will no longer be allowed to be loaded via this mode unless they are explicitly allowlisted by the user via `torch.serialization.add_safe_globals`. We recommend you start setting `weights_only=True` for any use case where you don't have full control of the loaded file. Please open an issue on GitHub for any issues related to this experimental feature.\n",
      "  EIIE_policy.load_state_dict(torch.load(model_filename))\n"
     ]
    },
    {
     "name": "stdout",
     "output_type": "stream",
     "text": [
      "=================================\n",
      "Initial portfolio value: 100000\n",
      "Final portfolio value: 489913.125\n",
      "Final accumulative portfolio return: 4.89913125\n",
      "Maximum DrawDown: -0.33238416369117263\n",
      "Sharpe ratio: 1.1227851538040103\n",
      "=================================\n",
      "Metrics - train_final_value: 489913.125, train_drawdown: -0.3323841636911726, train_sharpe: 1.1234336620496959, train_cumulative: 4.89913125\n",
      "=================================\n",
      "Initial portfolio value: 100000\n",
      "Final portfolio value: 162295.21875\n",
      "Final accumulative portfolio return: 1.6229521875\n",
      "Maximum DrawDown: -0.07124865603831221\n",
      "Sharpe ratio: 1.8995730206103487\n",
      "=================================\n",
      "Metrics - test_final_value: 162295.21875, test_drawdown: -0.07124865603831217, test_sharpe: 1.903618378857896, test_cumulative: 1.6229521875\n",
      "Training model with TIME_WINDOW=30, K_SIZE=3, CONV_MID=20, CONV_FINAL=10, LEARNING_RATE=0.02\n"
     ]
    },
    {
     "name": "stderr",
     "output_type": "stream",
     "text": [
      "C:\\Users\\xutia\\AppData\\Local\\Temp\\ipykernel_21240\\3616600396.py:59: FutureWarning: You are using `torch.load` with `weights_only=False` (the current default value), which uses the default pickle module implicitly. It is possible to construct malicious pickle data which will execute arbitrary code during unpickling (See https://github.com/pytorch/pytorch/blob/main/SECURITY.md#untrusted-models for more details). In a future release, the default value for `weights_only` will be flipped to `True`. This limits the functions that could be executed during unpickling. Arbitrary objects will no longer be allowed to be loaded via this mode unless they are explicitly allowlisted by the user via `torch.serialization.add_safe_globals`. We recommend you start setting `weights_only=True` for any use case where you don't have full control of the loaded file. Please open an issue on GitHub for any issues related to this experimental feature.\n",
      "  EIIE_policy.load_state_dict(torch.load(model_filename))\n"
     ]
    },
    {
     "name": "stdout",
     "output_type": "stream",
     "text": [
      "=================================\n",
      "Initial portfolio value: 100000\n",
      "Final portfolio value: 449430.21875\n",
      "Final accumulative portfolio return: 4.4943021875\n",
      "Maximum DrawDown: -0.3851590820421631\n",
      "Sharpe ratio: 0.9441059916111202\n",
      "=================================\n",
      "Metrics - train_final_value: 449430.21875, train_drawdown: -0.3851590820421631, train_sharpe: 0.9446517637537419, train_cumulative: 4.4943021875\n",
      "=================================\n",
      "Initial portfolio value: 100000\n",
      "Final portfolio value: 130936.2421875\n",
      "Final accumulative portfolio return: 1.309362421875\n",
      "Maximum DrawDown: -0.27564504429874226\n",
      "Sharpe ratio: 0.622926843632233\n",
      "=================================\n",
      "Metrics - test_final_value: 130936.2421875, test_drawdown: -0.27564504429874226, test_sharpe: 0.624245461319669, test_cumulative: 1.309362421875\n",
      "Training model with TIME_WINDOW=30, K_SIZE=3, CONV_MID=20, CONV_FINAL=20, LEARNING_RATE=0.01\n"
     ]
    },
    {
     "name": "stderr",
     "output_type": "stream",
     "text": [
      "C:\\Users\\xutia\\AppData\\Local\\Temp\\ipykernel_21240\\3616600396.py:59: FutureWarning: You are using `torch.load` with `weights_only=False` (the current default value), which uses the default pickle module implicitly. It is possible to construct malicious pickle data which will execute arbitrary code during unpickling (See https://github.com/pytorch/pytorch/blob/main/SECURITY.md#untrusted-models for more details). In a future release, the default value for `weights_only` will be flipped to `True`. This limits the functions that could be executed during unpickling. Arbitrary objects will no longer be allowed to be loaded via this mode unless they are explicitly allowlisted by the user via `torch.serialization.add_safe_globals`. We recommend you start setting `weights_only=True` for any use case where you don't have full control of the loaded file. Please open an issue on GitHub for any issues related to this experimental feature.\n",
      "  EIIE_policy.load_state_dict(torch.load(model_filename))\n"
     ]
    },
    {
     "name": "stdout",
     "output_type": "stream",
     "text": [
      "=================================\n",
      "Initial portfolio value: 100000\n",
      "Final portfolio value: 1004739.5625\n",
      "Final accumulative portfolio return: 10.047395625\n",
      "Maximum DrawDown: -0.28039290333988043\n",
      "Sharpe ratio: 1.366741325058486\n",
      "=================================\n",
      "Metrics - train_final_value: 1004739.5625, train_drawdown: -0.28039290333988043, train_sharpe: 1.3675339390777759, train_cumulative: 10.047395625\n",
      "=================================\n",
      "Initial portfolio value: 100000\n",
      "Final portfolio value: 179970.015625\n",
      "Final accumulative portfolio return: 1.79970015625\n",
      "Maximum DrawDown: -0.19595785367525353\n",
      "Sharpe ratio: 1.24656101474458\n",
      "=================================\n",
      "Metrics - test_final_value: 179970.015625, test_drawdown: -0.19595785367525348, test_sharpe: 1.24920428148977, test_cumulative: 1.79970015625\n",
      "Training model with TIME_WINDOW=30, K_SIZE=3, CONV_MID=20, CONV_FINAL=20, LEARNING_RATE=0.02\n"
     ]
    },
    {
     "name": "stderr",
     "output_type": "stream",
     "text": [
      "C:\\Users\\xutia\\AppData\\Local\\Temp\\ipykernel_21240\\3616600396.py:59: FutureWarning: You are using `torch.load` with `weights_only=False` (the current default value), which uses the default pickle module implicitly. It is possible to construct malicious pickle data which will execute arbitrary code during unpickling (See https://github.com/pytorch/pytorch/blob/main/SECURITY.md#untrusted-models for more details). In a future release, the default value for `weights_only` will be flipped to `True`. This limits the functions that could be executed during unpickling. Arbitrary objects will no longer be allowed to be loaded via this mode unless they are explicitly allowlisted by the user via `torch.serialization.add_safe_globals`. We recommend you start setting `weights_only=True` for any use case where you don't have full control of the loaded file. Please open an issue on GitHub for any issues related to this experimental feature.\n",
      "  EIIE_policy.load_state_dict(torch.load(model_filename))\n"
     ]
    },
    {
     "name": "stdout",
     "output_type": "stream",
     "text": [
      "=================================\n",
      "Initial portfolio value: 100000\n",
      "Final portfolio value: 515359.8125\n",
      "Final accumulative portfolio return: 5.153598125\n",
      "Maximum DrawDown: -0.3346475710112643\n",
      "Sharpe ratio: 1.006153711630635\n",
      "=================================\n",
      "Metrics - train_final_value: 515359.8125, train_drawdown: -0.3346475710112643, train_sharpe: 1.0067348930656304, train_cumulative: 5.153598125\n",
      "=================================\n",
      "Initial portfolio value: 100000\n",
      "Final portfolio value: 176875.796875\n",
      "Final accumulative portfolio return: 1.76875796875\n",
      "Maximum DrawDown: -0.18437961575582418\n",
      "Sharpe ratio: 1.1789682227100955\n",
      "=================================\n",
      "Metrics - test_final_value: 176875.796875, test_drawdown: -0.18437961575582418, test_sharpe: 1.1814676941684203, test_cumulative: 1.76875796875\n",
      "Training model with TIME_WINDOW=30, K_SIZE=4, CONV_MID=5, CONV_FINAL=5, LEARNING_RATE=0.01\n"
     ]
    },
    {
     "name": "stderr",
     "output_type": "stream",
     "text": [
      "C:\\Users\\xutia\\AppData\\Local\\Temp\\ipykernel_21240\\3616600396.py:59: FutureWarning: You are using `torch.load` with `weights_only=False` (the current default value), which uses the default pickle module implicitly. It is possible to construct malicious pickle data which will execute arbitrary code during unpickling (See https://github.com/pytorch/pytorch/blob/main/SECURITY.md#untrusted-models for more details). In a future release, the default value for `weights_only` will be flipped to `True`. This limits the functions that could be executed during unpickling. Arbitrary objects will no longer be allowed to be loaded via this mode unless they are explicitly allowlisted by the user via `torch.serialization.add_safe_globals`. We recommend you start setting `weights_only=True` for any use case where you don't have full control of the loaded file. Please open an issue on GitHub for any issues related to this experimental feature.\n",
      "  EIIE_policy.load_state_dict(torch.load(model_filename))\n"
     ]
    },
    {
     "name": "stdout",
     "output_type": "stream",
     "text": [
      "=================================\n",
      "Initial portfolio value: 100000\n",
      "Final portfolio value: 1080839.5\n",
      "Final accumulative portfolio return: 10.808395\n",
      "Maximum DrawDown: -0.2897144510939845\n",
      "Sharpe ratio: 1.4081544768655259\n",
      "=================================\n",
      "Metrics - train_final_value: 1080839.5, train_drawdown: -0.28971445109398447, train_sharpe: 1.4089695551060903, train_cumulative: 10.808395\n",
      "=================================\n",
      "Initial portfolio value: 100000\n",
      "Final portfolio value: 185624.59375\n",
      "Final accumulative portfolio return: 1.8562459375\n",
      "Maximum DrawDown: -0.19843943685960286\n",
      "Sharpe ratio: 1.284558213252736\n",
      "=================================\n",
      "Metrics - test_final_value: 185624.59375, test_drawdown: -0.1984394368596029, test_sharpe: 1.2872819195578282, test_cumulative: 1.8562459375\n",
      "Training model with TIME_WINDOW=30, K_SIZE=4, CONV_MID=5, CONV_FINAL=5, LEARNING_RATE=0.02\n"
     ]
    },
    {
     "name": "stderr",
     "output_type": "stream",
     "text": [
      "C:\\Users\\xutia\\AppData\\Local\\Temp\\ipykernel_21240\\3616600396.py:59: FutureWarning: You are using `torch.load` with `weights_only=False` (the current default value), which uses the default pickle module implicitly. It is possible to construct malicious pickle data which will execute arbitrary code during unpickling (See https://github.com/pytorch/pytorch/blob/main/SECURITY.md#untrusted-models for more details). In a future release, the default value for `weights_only` will be flipped to `True`. This limits the functions that could be executed during unpickling. Arbitrary objects will no longer be allowed to be loaded via this mode unless they are explicitly allowlisted by the user via `torch.serialization.add_safe_globals`. We recommend you start setting `weights_only=True` for any use case where you don't have full control of the loaded file. Please open an issue on GitHub for any issues related to this experimental feature.\n",
      "  EIIE_policy.load_state_dict(torch.load(model_filename))\n"
     ]
    },
    {
     "name": "stdout",
     "output_type": "stream",
     "text": [
      "=================================\n",
      "Initial portfolio value: 100000\n",
      "Final portfolio value: 239704.09375\n",
      "Final accumulative portfolio return: 2.3970409375\n",
      "Maximum DrawDown: -0.34606234947914183\n",
      "Sharpe ratio: 0.7796899232907071\n",
      "=================================\n",
      "Metrics - train_final_value: 239704.09375, train_drawdown: -0.3460623494791419, train_sharpe: 0.7801412882821595, train_cumulative: 2.3970409375\n",
      "=================================\n",
      "Initial portfolio value: 100000\n",
      "Final portfolio value: 129126.921875\n",
      "Final accumulative portfolio return: 1.29126921875\n",
      "Maximum DrawDown: -0.15552153799789736\n",
      "Sharpe ratio: 0.8860287151590805\n",
      "=================================\n",
      "Metrics - test_final_value: 129126.921875, test_drawdown: -0.15552153799789736, test_sharpe: 0.8879036181370616, test_cumulative: 1.29126921875\n",
      "Training model with TIME_WINDOW=30, K_SIZE=4, CONV_MID=5, CONV_FINAL=10, LEARNING_RATE=0.01\n"
     ]
    },
    {
     "name": "stderr",
     "output_type": "stream",
     "text": [
      "C:\\Users\\xutia\\AppData\\Local\\Temp\\ipykernel_21240\\3616600396.py:59: FutureWarning: You are using `torch.load` with `weights_only=False` (the current default value), which uses the default pickle module implicitly. It is possible to construct malicious pickle data which will execute arbitrary code during unpickling (See https://github.com/pytorch/pytorch/blob/main/SECURITY.md#untrusted-models for more details). In a future release, the default value for `weights_only` will be flipped to `True`. This limits the functions that could be executed during unpickling. Arbitrary objects will no longer be allowed to be loaded via this mode unless they are explicitly allowlisted by the user via `torch.serialization.add_safe_globals`. We recommend you start setting `weights_only=True` for any use case where you don't have full control of the loaded file. Please open an issue on GitHub for any issues related to this experimental feature.\n",
      "  EIIE_policy.load_state_dict(torch.load(model_filename))\n"
     ]
    },
    {
     "name": "stdout",
     "output_type": "stream",
     "text": [
      "=================================\n",
      "Initial portfolio value: 100000\n",
      "Final portfolio value: 233537.15625\n",
      "Final accumulative portfolio return: 2.3353715625\n",
      "Maximum DrawDown: -0.33620852877476537\n",
      "Sharpe ratio: 0.7791794187953993\n",
      "=================================\n",
      "Metrics - train_final_value: 233537.15625, train_drawdown: -0.3362085287747653, train_sharpe: 0.7796313150127067, train_cumulative: 2.3353715625\n",
      "=================================\n",
      "Initial portfolio value: 100000\n",
      "Final portfolio value: 128084.140625\n",
      "Final accumulative portfolio return: 1.28084140625\n",
      "Maximum DrawDown: -0.15026151485577188\n",
      "Sharpe ratio: 0.8855014767939223\n",
      "=================================\n",
      "Metrics - test_final_value: 128084.140625, test_drawdown: -0.1502615148557719, test_sharpe: 0.8873737785362882, test_cumulative: 1.28084140625\n",
      "Training model with TIME_WINDOW=30, K_SIZE=4, CONV_MID=5, CONV_FINAL=10, LEARNING_RATE=0.02\n"
     ]
    },
    {
     "name": "stderr",
     "output_type": "stream",
     "text": [
      "C:\\Users\\xutia\\AppData\\Local\\Temp\\ipykernel_21240\\3616600396.py:59: FutureWarning: You are using `torch.load` with `weights_only=False` (the current default value), which uses the default pickle module implicitly. It is possible to construct malicious pickle data which will execute arbitrary code during unpickling (See https://github.com/pytorch/pytorch/blob/main/SECURITY.md#untrusted-models for more details). In a future release, the default value for `weights_only` will be flipped to `True`. This limits the functions that could be executed during unpickling. Arbitrary objects will no longer be allowed to be loaded via this mode unless they are explicitly allowlisted by the user via `torch.serialization.add_safe_globals`. We recommend you start setting `weights_only=True` for any use case where you don't have full control of the loaded file. Please open an issue on GitHub for any issues related to this experimental feature.\n",
      "  EIIE_policy.load_state_dict(torch.load(model_filename))\n"
     ]
    },
    {
     "name": "stdout",
     "output_type": "stream",
     "text": [
      "=================================\n",
      "Initial portfolio value: 100000\n",
      "Final portfolio value: 429488.125\n",
      "Final accumulative portfolio return: 4.29488125\n",
      "Maximum DrawDown: -0.2804932774752814\n",
      "Sharpe ratio: 0.9833047915290919\n",
      "=================================\n",
      "Metrics - train_final_value: 429488.125, train_drawdown: -0.28049327747528136, train_sharpe: 0.9838739587181171, train_cumulative: 4.29488125\n",
      "=================================\n",
      "Initial portfolio value: 100000\n",
      "Final portfolio value: 117581.1328125\n",
      "Final accumulative portfolio return: 1.175811328125\n",
      "Maximum DrawDown: -0.16622935398444916\n",
      "Sharpe ratio: 0.5197734994320241\n",
      "=================================\n",
      "Metrics - test_final_value: 117581.1328125, test_drawdown: -0.16622935398444916, test_sharpe: 0.5208753531085988, test_cumulative: 1.175811328125\n",
      "Training model with TIME_WINDOW=30, K_SIZE=4, CONV_MID=5, CONV_FINAL=20, LEARNING_RATE=0.01\n"
     ]
    },
    {
     "name": "stderr",
     "output_type": "stream",
     "text": [
      "C:\\Users\\xutia\\AppData\\Local\\Temp\\ipykernel_21240\\3616600396.py:59: FutureWarning: You are using `torch.load` with `weights_only=False` (the current default value), which uses the default pickle module implicitly. It is possible to construct malicious pickle data which will execute arbitrary code during unpickling (See https://github.com/pytorch/pytorch/blob/main/SECURITY.md#untrusted-models for more details). In a future release, the default value for `weights_only` will be flipped to `True`. This limits the functions that could be executed during unpickling. Arbitrary objects will no longer be allowed to be loaded via this mode unless they are explicitly allowlisted by the user via `torch.serialization.add_safe_globals`. We recommend you start setting `weights_only=True` for any use case where you don't have full control of the loaded file. Please open an issue on GitHub for any issues related to this experimental feature.\n",
      "  EIIE_policy.load_state_dict(torch.load(model_filename))\n"
     ]
    },
    {
     "name": "stdout",
     "output_type": "stream",
     "text": [
      "=================================\n",
      "Initial portfolio value: 100000\n",
      "Final portfolio value: 688161.8125\n",
      "Final accumulative portfolio return: 6.881618125\n",
      "Maximum DrawDown: -0.31815551440243905\n",
      "Sharpe ratio: 1.1928595836519655\n",
      "=================================\n",
      "Metrics - train_final_value: 688161.8125, train_drawdown: -0.31815551440243905, train_sharpe: 1.193548952451816, train_cumulative: 6.881618125\n",
      "=================================\n",
      "Initial portfolio value: 100000\n",
      "Final portfolio value: 168657.328125\n",
      "Final accumulative portfolio return: 1.68657328125\n",
      "Maximum DrawDown: -0.18726824136812636\n",
      "Sharpe ratio: 1.1689789197357938\n",
      "=================================\n",
      "Metrics - test_final_value: 168657.328125, test_drawdown: -0.1872682413681264, test_sharpe: 1.1714562372384307, test_cumulative: 1.68657328125\n",
      "Training model with TIME_WINDOW=30, K_SIZE=4, CONV_MID=5, CONV_FINAL=20, LEARNING_RATE=0.02\n"
     ]
    },
    {
     "name": "stderr",
     "output_type": "stream",
     "text": [
      "C:\\Users\\xutia\\AppData\\Local\\Temp\\ipykernel_21240\\3616600396.py:59: FutureWarning: You are using `torch.load` with `weights_only=False` (the current default value), which uses the default pickle module implicitly. It is possible to construct malicious pickle data which will execute arbitrary code during unpickling (See https://github.com/pytorch/pytorch/blob/main/SECURITY.md#untrusted-models for more details). In a future release, the default value for `weights_only` will be flipped to `True`. This limits the functions that could be executed during unpickling. Arbitrary objects will no longer be allowed to be loaded via this mode unless they are explicitly allowlisted by the user via `torch.serialization.add_safe_globals`. We recommend you start setting `weights_only=True` for any use case where you don't have full control of the loaded file. Please open an issue on GitHub for any issues related to this experimental feature.\n",
      "  EIIE_policy.load_state_dict(torch.load(model_filename))\n"
     ]
    },
    {
     "name": "stdout",
     "output_type": "stream",
     "text": [
      "=================================\n",
      "Initial portfolio value: 100000\n",
      "Final portfolio value: 425345.96875\n",
      "Final accumulative portfolio return: 4.2534596875\n",
      "Maximum DrawDown: -0.3159768513947566\n",
      "Sharpe ratio: 0.8913387281014012\n",
      "=================================\n",
      "Metrics - train_final_value: 425345.96875, train_drawdown: -0.3159768513947566, train_sharpe: 0.8918536394438672, train_cumulative: 4.2534596875\n",
      "=================================\n",
      "Initial portfolio value: 100000\n",
      "Final portfolio value: 187308.09375\n",
      "Final accumulative portfolio return: 1.8730809375\n",
      "Maximum DrawDown: -0.24198577666685217\n",
      "Sharpe ratio: 1.3437215253115191\n",
      "=================================\n",
      "Metrics - test_final_value: 187308.09375, test_drawdown: -0.2419857766668522, test_sharpe: 1.346571218128418, test_cumulative: 1.8730809375\n",
      "Training model with TIME_WINDOW=30, K_SIZE=4, CONV_MID=10, CONV_FINAL=5, LEARNING_RATE=0.01\n"
     ]
    },
    {
     "name": "stderr",
     "output_type": "stream",
     "text": [
      "C:\\Users\\xutia\\AppData\\Local\\Temp\\ipykernel_21240\\3616600396.py:59: FutureWarning: You are using `torch.load` with `weights_only=False` (the current default value), which uses the default pickle module implicitly. It is possible to construct malicious pickle data which will execute arbitrary code during unpickling (See https://github.com/pytorch/pytorch/blob/main/SECURITY.md#untrusted-models for more details). In a future release, the default value for `weights_only` will be flipped to `True`. This limits the functions that could be executed during unpickling. Arbitrary objects will no longer be allowed to be loaded via this mode unless they are explicitly allowlisted by the user via `torch.serialization.add_safe_globals`. We recommend you start setting `weights_only=True` for any use case where you don't have full control of the loaded file. Please open an issue on GitHub for any issues related to this experimental feature.\n",
      "  EIIE_policy.load_state_dict(torch.load(model_filename))\n"
     ]
    },
    {
     "name": "stdout",
     "output_type": "stream",
     "text": [
      "=================================\n",
      "Initial portfolio value: 100000\n",
      "Final portfolio value: 1009550.6875\n",
      "Final accumulative portfolio return: 10.095506875\n",
      "Maximum DrawDown: -0.29741526335257995\n",
      "Sharpe ratio: 1.3982199552357235\n",
      "=================================\n",
      "Metrics - train_final_value: 1009550.6875, train_drawdown: -0.29741526335258, train_sharpe: 1.3990301508268637, train_cumulative: 10.095506875\n",
      "=================================\n",
      "Initial portfolio value: 100000\n",
      "Final portfolio value: 189854.90625\n",
      "Final accumulative portfolio return: 1.8985490625\n",
      "Maximum DrawDown: -0.22645318231780798\n",
      "Sharpe ratio: 1.3526699650059733\n",
      "=================================\n",
      "Metrics - test_final_value: 189854.90625, test_drawdown: -0.226453182317808, test_sharpe: 1.3555389347333837, test_cumulative: 1.8985490625\n",
      "Training model with TIME_WINDOW=30, K_SIZE=4, CONV_MID=10, CONV_FINAL=5, LEARNING_RATE=0.02\n"
     ]
    },
    {
     "name": "stderr",
     "output_type": "stream",
     "text": [
      "C:\\Users\\xutia\\AppData\\Local\\Temp\\ipykernel_21240\\3616600396.py:59: FutureWarning: You are using `torch.load` with `weights_only=False` (the current default value), which uses the default pickle module implicitly. It is possible to construct malicious pickle data which will execute arbitrary code during unpickling (See https://github.com/pytorch/pytorch/blob/main/SECURITY.md#untrusted-models for more details). In a future release, the default value for `weights_only` will be flipped to `True`. This limits the functions that could be executed during unpickling. Arbitrary objects will no longer be allowed to be loaded via this mode unless they are explicitly allowlisted by the user via `torch.serialization.add_safe_globals`. We recommend you start setting `weights_only=True` for any use case where you don't have full control of the loaded file. Please open an issue on GitHub for any issues related to this experimental feature.\n",
      "  EIIE_policy.load_state_dict(torch.load(model_filename))\n"
     ]
    },
    {
     "name": "stdout",
     "output_type": "stream",
     "text": [
      "=================================\n",
      "Initial portfolio value: 100000\n",
      "Final portfolio value: 613913.25\n",
      "Final accumulative portfolio return: 6.1391325\n",
      "Maximum DrawDown: -0.3144198404538051\n",
      "Sharpe ratio: 1.1402465039341974\n",
      "=================================\n",
      "Metrics - train_final_value: 613913.25, train_drawdown: -0.31441984045380517, train_sharpe: 1.1409052093824947, train_cumulative: 6.1391325\n",
      "=================================\n",
      "Initial portfolio value: 100000\n",
      "Final portfolio value: 204293.578125\n",
      "Final accumulative portfolio return: 2.04293578125\n",
      "Maximum DrawDown: -0.19273515807843467\n",
      "Sharpe ratio: 1.471948123113313\n",
      "=================================\n",
      "Metrics - test_final_value: 204293.578125, test_drawdown: -0.19273515807843472, test_sharpe: 1.4750722036560258, test_cumulative: 2.04293578125\n",
      "Training model with TIME_WINDOW=30, K_SIZE=4, CONV_MID=10, CONV_FINAL=10, LEARNING_RATE=0.01\n"
     ]
    },
    {
     "name": "stderr",
     "output_type": "stream",
     "text": [
      "C:\\Users\\xutia\\AppData\\Local\\Temp\\ipykernel_21240\\3616600396.py:59: FutureWarning: You are using `torch.load` with `weights_only=False` (the current default value), which uses the default pickle module implicitly. It is possible to construct malicious pickle data which will execute arbitrary code during unpickling (See https://github.com/pytorch/pytorch/blob/main/SECURITY.md#untrusted-models for more details). In a future release, the default value for `weights_only` will be flipped to `True`. This limits the functions that could be executed during unpickling. Arbitrary objects will no longer be allowed to be loaded via this mode unless they are explicitly allowlisted by the user via `torch.serialization.add_safe_globals`. We recommend you start setting `weights_only=True` for any use case where you don't have full control of the loaded file. Please open an issue on GitHub for any issues related to this experimental feature.\n",
      "  EIIE_policy.load_state_dict(torch.load(model_filename))\n"
     ]
    },
    {
     "name": "stdout",
     "output_type": "stream",
     "text": [
      "=================================\n",
      "Initial portfolio value: 100000\n",
      "Final portfolio value: 1028961.5625\n",
      "Final accumulative portfolio return: 10.289615625\n",
      "Maximum DrawDown: -0.28039272273788296\n",
      "Sharpe ratio: 1.3945546791584829\n",
      "=================================\n",
      "Metrics - train_final_value: 1028961.5625, train_drawdown: -0.280392722737883, train_sharpe: 1.395363283549058, train_cumulative: 10.289615625\n",
      "=================================\n",
      "Initial portfolio value: 100000\n",
      "Final portfolio value: 179509.203125\n",
      "Final accumulative portfolio return: 1.79509203125\n",
      "Maximum DrawDown: -0.24405426158691113\n",
      "Sharpe ratio: 1.2391290445878904\n",
      "=================================\n",
      "Metrics - test_final_value: 179509.203125, test_drawdown: -0.24405426158691118, test_sharpe: 1.2417549896273643, test_cumulative: 1.79509203125\n",
      "Training model with TIME_WINDOW=30, K_SIZE=4, CONV_MID=10, CONV_FINAL=10, LEARNING_RATE=0.02\n"
     ]
    },
    {
     "name": "stderr",
     "output_type": "stream",
     "text": [
      "C:\\Users\\xutia\\AppData\\Local\\Temp\\ipykernel_21240\\3616600396.py:59: FutureWarning: You are using `torch.load` with `weights_only=False` (the current default value), which uses the default pickle module implicitly. It is possible to construct malicious pickle data which will execute arbitrary code during unpickling (See https://github.com/pytorch/pytorch/blob/main/SECURITY.md#untrusted-models for more details). In a future release, the default value for `weights_only` will be flipped to `True`. This limits the functions that could be executed during unpickling. Arbitrary objects will no longer be allowed to be loaded via this mode unless they are explicitly allowlisted by the user via `torch.serialization.add_safe_globals`. We recommend you start setting `weights_only=True` for any use case where you don't have full control of the loaded file. Please open an issue on GitHub for any issues related to this experimental feature.\n",
      "  EIIE_policy.load_state_dict(torch.load(model_filename))\n"
     ]
    },
    {
     "name": "stdout",
     "output_type": "stream",
     "text": [
      "=================================\n",
      "Initial portfolio value: 100000\n",
      "Final portfolio value: 590298.625\n",
      "Final accumulative portfolio return: 5.90298625\n",
      "Maximum DrawDown: -0.28039304187912373\n",
      "Sharpe ratio: 1.1076552967546973\n",
      "=================================\n",
      "Metrics - train_final_value: 590298.625, train_drawdown: -0.2803930418791237, train_sharpe: 1.108295823264381, train_cumulative: 5.90298625\n",
      "=================================\n",
      "Initial portfolio value: 100000\n",
      "Final portfolio value: 72042.578125\n",
      "Final accumulative portfolio return: 0.72042578125\n",
      "Maximum DrawDown: -0.5397034694405041\n",
      "Sharpe ratio: -0.5135544217067234\n",
      "=================================\n",
      "Metrics - test_final_value: 72042.578125, test_drawdown: -0.5397034694405041, test_sharpe: -0.5146402730664202, test_cumulative: 0.72042578125\n",
      "Training model with TIME_WINDOW=30, K_SIZE=4, CONV_MID=10, CONV_FINAL=20, LEARNING_RATE=0.01\n"
     ]
    },
    {
     "name": "stderr",
     "output_type": "stream",
     "text": [
      "C:\\Users\\xutia\\AppData\\Local\\Temp\\ipykernel_21240\\3616600396.py:59: FutureWarning: You are using `torch.load` with `weights_only=False` (the current default value), which uses the default pickle module implicitly. It is possible to construct malicious pickle data which will execute arbitrary code during unpickling (See https://github.com/pytorch/pytorch/blob/main/SECURITY.md#untrusted-models for more details). In a future release, the default value for `weights_only` will be flipped to `True`. This limits the functions that could be executed during unpickling. Arbitrary objects will no longer be allowed to be loaded via this mode unless they are explicitly allowlisted by the user via `torch.serialization.add_safe_globals`. We recommend you start setting `weights_only=True` for any use case where you don't have full control of the loaded file. Please open an issue on GitHub for any issues related to this experimental feature.\n",
      "  EIIE_policy.load_state_dict(torch.load(model_filename))\n"
     ]
    },
    {
     "name": "stdout",
     "output_type": "stream",
     "text": [
      "=================================\n",
      "Initial portfolio value: 100000\n",
      "Final portfolio value: 597188.0625\n",
      "Final accumulative portfolio return: 5.971880625\n",
      "Maximum DrawDown: -0.4303896150620925\n",
      "Sharpe ratio: 1.0888196240131116\n",
      "=================================\n",
      "Metrics - train_final_value: 597188.0625, train_drawdown: -0.43038961506209256, train_sharpe: 1.0894490290175098, train_cumulative: 5.971880625\n",
      "=================================\n",
      "Initial portfolio value: 100000\n",
      "Final portfolio value: 145050.109375\n",
      "Final accumulative portfolio return: 1.45050109375\n",
      "Maximum DrawDown: -0.17961531995463187\n",
      "Sharpe ratio: 0.8657668554288231\n",
      "=================================\n",
      "Metrics - test_final_value: 145050.109375, test_drawdown: -0.17961531995463184, test_sharpe: 0.867599495478522, test_cumulative: 1.45050109375\n",
      "Training model with TIME_WINDOW=30, K_SIZE=4, CONV_MID=10, CONV_FINAL=20, LEARNING_RATE=0.02\n"
     ]
    },
    {
     "name": "stderr",
     "output_type": "stream",
     "text": [
      "C:\\Users\\xutia\\AppData\\Local\\Temp\\ipykernel_21240\\3616600396.py:59: FutureWarning: You are using `torch.load` with `weights_only=False` (the current default value), which uses the default pickle module implicitly. It is possible to construct malicious pickle data which will execute arbitrary code during unpickling (See https://github.com/pytorch/pytorch/blob/main/SECURITY.md#untrusted-models for more details). In a future release, the default value for `weights_only` will be flipped to `True`. This limits the functions that could be executed during unpickling. Arbitrary objects will no longer be allowed to be loaded via this mode unless they are explicitly allowlisted by the user via `torch.serialization.add_safe_globals`. We recommend you start setting `weights_only=True` for any use case where you don't have full control of the loaded file. Please open an issue on GitHub for any issues related to this experimental feature.\n",
      "  EIIE_policy.load_state_dict(torch.load(model_filename))\n"
     ]
    },
    {
     "name": "stdout",
     "output_type": "stream",
     "text": [
      "=================================\n",
      "Initial portfolio value: 100000\n",
      "Final portfolio value: 1496763.25\n",
      "Final accumulative portfolio return: 14.9676325\n",
      "Maximum DrawDown: -0.2803969025318752\n",
      "Sharpe ratio: 1.5803983440193274\n",
      "=================================\n",
      "Metrics - train_final_value: 1496763.25, train_drawdown: -0.2803969025318752, train_sharpe: 1.5813149103525745, train_cumulative: 14.9676325\n",
      "=================================\n",
      "Initial portfolio value: 100000\n",
      "Final portfolio value: 162032.796875\n",
      "Final accumulative portfolio return: 1.62032796875\n",
      "Maximum DrawDown: -0.2334689711579998\n",
      "Sharpe ratio: 1.0636932233454892\n",
      "=================================\n",
      "Metrics - test_final_value: 162032.796875, test_drawdown: -0.2334689711579998, test_sharpe: 1.0659483032967825, test_cumulative: 1.62032796875\n",
      "Training model with TIME_WINDOW=30, K_SIZE=4, CONV_MID=20, CONV_FINAL=5, LEARNING_RATE=0.01\n"
     ]
    },
    {
     "name": "stderr",
     "output_type": "stream",
     "text": [
      "C:\\Users\\xutia\\AppData\\Local\\Temp\\ipykernel_21240\\3616600396.py:59: FutureWarning: You are using `torch.load` with `weights_only=False` (the current default value), which uses the default pickle module implicitly. It is possible to construct malicious pickle data which will execute arbitrary code during unpickling (See https://github.com/pytorch/pytorch/blob/main/SECURITY.md#untrusted-models for more details). In a future release, the default value for `weights_only` will be flipped to `True`. This limits the functions that could be executed during unpickling. Arbitrary objects will no longer be allowed to be loaded via this mode unless they are explicitly allowlisted by the user via `torch.serialization.add_safe_globals`. We recommend you start setting `weights_only=True` for any use case where you don't have full control of the loaded file. Please open an issue on GitHub for any issues related to this experimental feature.\n",
      "  EIIE_policy.load_state_dict(torch.load(model_filename))\n"
     ]
    },
    {
     "name": "stdout",
     "output_type": "stream",
     "text": [
      "=================================\n",
      "Initial portfolio value: 100000\n",
      "Final portfolio value: 1309216.875\n",
      "Final accumulative portfolio return: 13.09216875\n",
      "Maximum DrawDown: -0.26124602293055943\n",
      "Sharpe ratio: 1.4832314474185895\n",
      "=================================\n",
      "Metrics - train_final_value: 1309216.875, train_drawdown: -0.2612460229305595, train_sharpe: 1.4840914707055333, train_cumulative: 13.09216875\n",
      "=================================\n",
      "Initial portfolio value: 100000\n",
      "Final portfolio value: 172260.03125\n",
      "Final accumulative portfolio return: 1.7226003125\n",
      "Maximum DrawDown: -0.20706958226571592\n",
      "Sharpe ratio: 1.1935708552990103\n",
      "=================================\n",
      "Metrics - test_final_value: 172260.03125, test_drawdown: -0.20706958226571598, test_sharpe: 1.1960990549756305, test_cumulative: 1.7226003125\n",
      "Training model with TIME_WINDOW=30, K_SIZE=4, CONV_MID=20, CONV_FINAL=5, LEARNING_RATE=0.02\n"
     ]
    },
    {
     "name": "stderr",
     "output_type": "stream",
     "text": [
      "C:\\Users\\xutia\\AppData\\Local\\Temp\\ipykernel_21240\\3616600396.py:59: FutureWarning: You are using `torch.load` with `weights_only=False` (the current default value), which uses the default pickle module implicitly. It is possible to construct malicious pickle data which will execute arbitrary code during unpickling (See https://github.com/pytorch/pytorch/blob/main/SECURITY.md#untrusted-models for more details). In a future release, the default value for `weights_only` will be flipped to `True`. This limits the functions that could be executed during unpickling. Arbitrary objects will no longer be allowed to be loaded via this mode unless they are explicitly allowlisted by the user via `torch.serialization.add_safe_globals`. We recommend you start setting `weights_only=True` for any use case where you don't have full control of the loaded file. Please open an issue on GitHub for any issues related to this experimental feature.\n",
      "  EIIE_policy.load_state_dict(torch.load(model_filename))\n"
     ]
    },
    {
     "name": "stdout",
     "output_type": "stream",
     "text": [
      "=================================\n",
      "Initial portfolio value: 100000\n",
      "Final portfolio value: 679689.875\n",
      "Final accumulative portfolio return: 6.79689875\n",
      "Maximum DrawDown: -0.3851587947205435\n",
      "Sharpe ratio: 1.1335326939522736\n",
      "=================================\n",
      "Metrics - train_final_value: 679689.875, train_drawdown: -0.38515879472054343, train_sharpe: 1.1341885657704969, train_cumulative: 6.79689875\n",
      "=================================\n",
      "Initial portfolio value: 100000\n",
      "Final portfolio value: 166714.890625\n",
      "Final accumulative portfolio return: 1.66714890625\n",
      "Maximum DrawDown: -0.2386156653106718\n",
      "Sharpe ratio: 1.086091203163279\n",
      "=================================\n",
      "Metrics - test_final_value: 166714.890625, test_drawdown: -0.23861566531067174, test_sharpe: 1.0883936208874203, test_cumulative: 1.66714890625\n",
      "Training model with TIME_WINDOW=30, K_SIZE=4, CONV_MID=20, CONV_FINAL=10, LEARNING_RATE=0.01\n"
     ]
    },
    {
     "name": "stderr",
     "output_type": "stream",
     "text": [
      "C:\\Users\\xutia\\AppData\\Local\\Temp\\ipykernel_21240\\3616600396.py:59: FutureWarning: You are using `torch.load` with `weights_only=False` (the current default value), which uses the default pickle module implicitly. It is possible to construct malicious pickle data which will execute arbitrary code during unpickling (See https://github.com/pytorch/pytorch/blob/main/SECURITY.md#untrusted-models for more details). In a future release, the default value for `weights_only` will be flipped to `True`. This limits the functions that could be executed during unpickling. Arbitrary objects will no longer be allowed to be loaded via this mode unless they are explicitly allowlisted by the user via `torch.serialization.add_safe_globals`. We recommend you start setting `weights_only=True` for any use case where you don't have full control of the loaded file. Please open an issue on GitHub for any issues related to this experimental feature.\n",
      "  EIIE_policy.load_state_dict(torch.load(model_filename))\n"
     ]
    },
    {
     "name": "stdout",
     "output_type": "stream",
     "text": [
      "=================================\n",
      "Initial portfolio value: 100000\n",
      "Final portfolio value: 872936.3125\n",
      "Final accumulative portfolio return: 8.729363125\n",
      "Maximum DrawDown: -0.34432318405761575\n",
      "Sharpe ratio: 1.2233408412605158\n",
      "=================================\n",
      "Metrics - train_final_value: 872936.3125, train_drawdown: -0.34432318405761575, train_sharpe: 1.2240485521061972, train_cumulative: 8.729363125\n",
      "=================================\n",
      "Initial portfolio value: 100000\n",
      "Final portfolio value: 124078.8984375\n",
      "Final accumulative portfolio return: 1.240788984375\n",
      "Maximum DrawDown: -0.2891013786819162\n",
      "Sharpe ratio: 0.557282659260529\n",
      "=================================\n",
      "Metrics - test_final_value: 124078.8984375, test_drawdown: -0.28910137868191627, test_sharpe: 0.5584592820926366, test_cumulative: 1.240788984375\n",
      "Training model with TIME_WINDOW=30, K_SIZE=4, CONV_MID=20, CONV_FINAL=10, LEARNING_RATE=0.02\n"
     ]
    },
    {
     "name": "stderr",
     "output_type": "stream",
     "text": [
      "C:\\Users\\xutia\\AppData\\Local\\Temp\\ipykernel_21240\\3616600396.py:59: FutureWarning: You are using `torch.load` with `weights_only=False` (the current default value), which uses the default pickle module implicitly. It is possible to construct malicious pickle data which will execute arbitrary code during unpickling (See https://github.com/pytorch/pytorch/blob/main/SECURITY.md#untrusted-models for more details). In a future release, the default value for `weights_only` will be flipped to `True`. This limits the functions that could be executed during unpickling. Arbitrary objects will no longer be allowed to be loaded via this mode unless they are explicitly allowlisted by the user via `torch.serialization.add_safe_globals`. We recommend you start setting `weights_only=True` for any use case where you don't have full control of the loaded file. Please open an issue on GitHub for any issues related to this experimental feature.\n",
      "  EIIE_policy.load_state_dict(torch.load(model_filename))\n"
     ]
    },
    {
     "name": "stdout",
     "output_type": "stream",
     "text": [
      "=================================\n",
      "Initial portfolio value: 100000\n",
      "Final portfolio value: 713665.1875\n",
      "Final accumulative portfolio return: 7.136651875\n",
      "Maximum DrawDown: -0.28039305062971953\n",
      "Sharpe ratio: 1.2728668461203299\n",
      "=================================\n",
      "Metrics - train_final_value: 713665.1875, train_drawdown: -0.28039305062971953, train_sharpe: 1.2736036367314973, train_cumulative: 7.136651875\n",
      "=================================\n",
      "Initial portfolio value: 100000\n",
      "Final portfolio value: 55196.65234375\n",
      "Final accumulative portfolio return: 0.5519665234375\n",
      "Maximum DrawDown: -0.5199226316719255\n",
      "Sharpe ratio: -0.940663776093203\n",
      "=================================\n",
      "Metrics - test_final_value: 55196.65234375, test_drawdown: -0.5199226316719255, test_sharpe: -0.942655928524437, test_cumulative: 0.5519665234375\n",
      "Training model with TIME_WINDOW=30, K_SIZE=4, CONV_MID=20, CONV_FINAL=20, LEARNING_RATE=0.01\n"
     ]
    },
    {
     "name": "stderr",
     "output_type": "stream",
     "text": [
      "C:\\Users\\xutia\\AppData\\Local\\Temp\\ipykernel_21240\\3616600396.py:59: FutureWarning: You are using `torch.load` with `weights_only=False` (the current default value), which uses the default pickle module implicitly. It is possible to construct malicious pickle data which will execute arbitrary code during unpickling (See https://github.com/pytorch/pytorch/blob/main/SECURITY.md#untrusted-models for more details). In a future release, the default value for `weights_only` will be flipped to `True`. This limits the functions that could be executed during unpickling. Arbitrary objects will no longer be allowed to be loaded via this mode unless they are explicitly allowlisted by the user via `torch.serialization.add_safe_globals`. We recommend you start setting `weights_only=True` for any use case where you don't have full control of the loaded file. Please open an issue on GitHub for any issues related to this experimental feature.\n",
      "  EIIE_policy.load_state_dict(torch.load(model_filename))\n"
     ]
    },
    {
     "name": "stdout",
     "output_type": "stream",
     "text": [
      "=================================\n",
      "Initial portfolio value: 100000\n",
      "Final portfolio value: 625716.25\n",
      "Final accumulative portfolio return: 6.2571625\n",
      "Maximum DrawDown: -0.2803930225932947\n",
      "Sharpe ratio: 1.1511348962901444\n",
      "=================================\n",
      "Metrics - train_final_value: 625716.25, train_drawdown: -0.2803930225932946, train_sharpe: 1.1517999975988886, train_cumulative: 6.2571625\n",
      "=================================\n",
      "Initial portfolio value: 100000\n",
      "Final portfolio value: 81100.859375\n",
      "Final accumulative portfolio return: 0.81100859375\n",
      "Maximum DrawDown: -0.42317151476999404\n",
      "Sharpe ratio: -0.2410426189155078\n",
      "=================================\n",
      "Metrics - test_final_value: 81100.859375, test_drawdown: -0.4231715147699941, test_sharpe: -0.24155354219573005, test_cumulative: 0.81100859375\n",
      "Training model with TIME_WINDOW=30, K_SIZE=4, CONV_MID=20, CONV_FINAL=20, LEARNING_RATE=0.02\n"
     ]
    },
    {
     "name": "stderr",
     "output_type": "stream",
     "text": [
      "C:\\Users\\xutia\\AppData\\Local\\Temp\\ipykernel_21240\\3616600396.py:59: FutureWarning: You are using `torch.load` with `weights_only=False` (the current default value), which uses the default pickle module implicitly. It is possible to construct malicious pickle data which will execute arbitrary code during unpickling (See https://github.com/pytorch/pytorch/blob/main/SECURITY.md#untrusted-models for more details). In a future release, the default value for `weights_only` will be flipped to `True`. This limits the functions that could be executed during unpickling. Arbitrary objects will no longer be allowed to be loaded via this mode unless they are explicitly allowlisted by the user via `torch.serialization.add_safe_globals`. We recommend you start setting `weights_only=True` for any use case where you don't have full control of the loaded file. Please open an issue on GitHub for any issues related to this experimental feature.\n",
      "  EIIE_policy.load_state_dict(torch.load(model_filename))\n"
     ]
    },
    {
     "name": "stdout",
     "output_type": "stream",
     "text": [
      "=================================\n",
      "Initial portfolio value: 100000\n",
      "Final portfolio value: 914703.4375\n",
      "Final accumulative portfolio return: 9.147034375\n",
      "Maximum DrawDown: -0.3418743723051151\n",
      "Sharpe ratio: 1.2993975310358739\n",
      "=================================\n",
      "Metrics - train_final_value: 914703.4375, train_drawdown: -0.341874372305115, train_sharpe: 1.3001501322196238, train_cumulative: 9.147034375\n",
      "=================================\n",
      "Initial portfolio value: 100000\n",
      "Final portfolio value: 102776.640625\n",
      "Final accumulative portfolio return: 1.02776640625\n",
      "Maximum DrawDown: -0.34208505373336684\n",
      "Sharpe ratio: 0.19395804147872123\n",
      "=================================\n",
      "Metrics - test_final_value: 102776.640625, test_drawdown: -0.34208505373336684, test_sharpe: 0.1943696077778838, test_cumulative: 1.02776640625\n",
      "Training model with TIME_WINDOW=30, K_SIZE=5, CONV_MID=5, CONV_FINAL=5, LEARNING_RATE=0.01\n"
     ]
    },
    {
     "name": "stderr",
     "output_type": "stream",
     "text": [
      "C:\\Users\\xutia\\AppData\\Local\\Temp\\ipykernel_21240\\3616600396.py:59: FutureWarning: You are using `torch.load` with `weights_only=False` (the current default value), which uses the default pickle module implicitly. It is possible to construct malicious pickle data which will execute arbitrary code during unpickling (See https://github.com/pytorch/pytorch/blob/main/SECURITY.md#untrusted-models for more details). In a future release, the default value for `weights_only` will be flipped to `True`. This limits the functions that could be executed during unpickling. Arbitrary objects will no longer be allowed to be loaded via this mode unless they are explicitly allowlisted by the user via `torch.serialization.add_safe_globals`. We recommend you start setting `weights_only=True` for any use case where you don't have full control of the loaded file. Please open an issue on GitHub for any issues related to this experimental feature.\n",
      "  EIIE_policy.load_state_dict(torch.load(model_filename))\n"
     ]
    },
    {
     "name": "stdout",
     "output_type": "stream",
     "text": [
      "=================================\n",
      "Initial portfolio value: 100000\n",
      "Final portfolio value: 239880.859375\n",
      "Final accumulative portfolio return: 2.39880859375\n",
      "Maximum DrawDown: -0.3465217552471319\n",
      "Sharpe ratio: 0.7795354359253742\n",
      "=================================\n",
      "Metrics - train_final_value: 239880.859375, train_drawdown: -0.3465217552471319, train_sharpe: 0.7799866576928559, train_cumulative: 2.39880859375\n",
      "=================================\n",
      "Initial portfolio value: 100000\n",
      "Final portfolio value: 129150.8671875\n",
      "Final accumulative portfolio return: 1.291508671875\n",
      "Maximum DrawDown: -0.1556310367206638\n",
      "Sharpe ratio: 0.8860843048342607\n",
      "=================================\n",
      "Metrics - test_final_value: 129150.8671875, test_drawdown: -0.15563103672066375, test_sharpe: 0.8879631153271141, test_cumulative: 1.291508671875\n",
      "Training model with TIME_WINDOW=30, K_SIZE=5, CONV_MID=5, CONV_FINAL=5, LEARNING_RATE=0.02\n"
     ]
    },
    {
     "name": "stderr",
     "output_type": "stream",
     "text": [
      "C:\\Users\\xutia\\AppData\\Local\\Temp\\ipykernel_21240\\3616600396.py:59: FutureWarning: You are using `torch.load` with `weights_only=False` (the current default value), which uses the default pickle module implicitly. It is possible to construct malicious pickle data which will execute arbitrary code during unpickling (See https://github.com/pytorch/pytorch/blob/main/SECURITY.md#untrusted-models for more details). In a future release, the default value for `weights_only` will be flipped to `True`. This limits the functions that could be executed during unpickling. Arbitrary objects will no longer be allowed to be loaded via this mode unless they are explicitly allowlisted by the user via `torch.serialization.add_safe_globals`. We recommend you start setting `weights_only=True` for any use case where you don't have full control of the loaded file. Please open an issue on GitHub for any issues related to this experimental feature.\n",
      "  EIIE_policy.load_state_dict(torch.load(model_filename))\n"
     ]
    },
    {
     "name": "stdout",
     "output_type": "stream",
     "text": [
      "=================================\n",
      "Initial portfolio value: 100000\n",
      "Final portfolio value: 100000.0\n",
      "Final accumulative portfolio return: 1.0\n",
      "Maximum DrawDown: 0.0\n",
      "Sharpe ratio: nan\n",
      "=================================\n"
     ]
    },
    {
     "name": "stderr",
     "output_type": "stream",
     "text": [
      "C:\\Users\\xutia\\AppData\\Roaming\\Python\\Python310\\site-packages\\quantstats\\stats.py:294: RuntimeWarning: invalid value encountered in scalar divide\n",
      "  res = returns.mean() / divisor\n",
      "C:\\Users\\xutia\\AppData\\Local\\Temp\\ipykernel_21240\\1884595116.py:70: RuntimeWarning: invalid value encountered in scalar divide\n",
      "  sharpe_ratio = np.mean(excess_returns) / np.std(excess_returns)\n"
     ]
    },
    {
     "name": "stdout",
     "output_type": "stream",
     "text": [
      "Metrics - train_final_value: 100000.0, train_drawdown: 0.0, train_sharpe: nan, train_cumulative: 1.0\n",
      "=================================\n",
      "Initial portfolio value: 100000\n",
      "Final portfolio value: 100000.0\n",
      "Final accumulative portfolio return: 1.0\n",
      "Maximum DrawDown: 0.0\n",
      "Sharpe ratio: nan\n",
      "=================================\n"
     ]
    },
    {
     "name": "stderr",
     "output_type": "stream",
     "text": [
      "C:\\Users\\xutia\\AppData\\Roaming\\Python\\Python310\\site-packages\\quantstats\\stats.py:294: RuntimeWarning: invalid value encountered in scalar divide\n",
      "  res = returns.mean() / divisor\n",
      "C:\\Users\\xutia\\AppData\\Local\\Temp\\ipykernel_21240\\1884595116.py:70: RuntimeWarning: invalid value encountered in scalar divide\n",
      "  sharpe_ratio = np.mean(excess_returns) / np.std(excess_returns)\n",
      "C:\\Users\\xutia\\AppData\\Local\\Temp\\ipykernel_21240\\3616600396.py:59: FutureWarning: You are using `torch.load` with `weights_only=False` (the current default value), which uses the default pickle module implicitly. It is possible to construct malicious pickle data which will execute arbitrary code during unpickling (See https://github.com/pytorch/pytorch/blob/main/SECURITY.md#untrusted-models for more details). In a future release, the default value for `weights_only` will be flipped to `True`. This limits the functions that could be executed during unpickling. Arbitrary objects will no longer be allowed to be loaded via this mode unless they are explicitly allowlisted by the user via `torch.serialization.add_safe_globals`. We recommend you start setting `weights_only=True` for any use case where you don't have full control of the loaded file. Please open an issue on GitHub for any issues related to this experimental feature.\n",
      "  EIIE_policy.load_state_dict(torch.load(model_filename))\n"
     ]
    },
    {
     "name": "stdout",
     "output_type": "stream",
     "text": [
      "Metrics - test_final_value: 100000.0, test_drawdown: 0.0, test_sharpe: nan, test_cumulative: 1.0\n",
      "Training model with TIME_WINDOW=30, K_SIZE=5, CONV_MID=5, CONV_FINAL=10, LEARNING_RATE=0.01\n",
      "=================================\n",
      "Initial portfolio value: 100000\n",
      "Final portfolio value: 828016.375\n",
      "Final accumulative portfolio return: 8.28016375\n",
      "Maximum DrawDown: -0.28039286775716077\n",
      "Sharpe ratio: 1.308515536324277\n",
      "=================================\n",
      "Metrics - train_final_value: 828016.375, train_drawdown: -0.28039286775716077, train_sharpe: 1.309272132974864, train_cumulative: 8.28016375\n",
      "=================================\n",
      "Initial portfolio value: 100000\n",
      "Final portfolio value: 182499.015625\n",
      "Final accumulative portfolio return: 1.82499015625\n",
      "Maximum DrawDown: -0.2159698324441619\n",
      "Sharpe ratio: 1.3210044138665804\n",
      "=================================\n",
      "Metrics - test_final_value: 182499.015625, test_drawdown: -0.21596983244416185, test_sharpe: 1.3238078451329711, test_cumulative: 1.82499015625\n",
      "Training model with TIME_WINDOW=30, K_SIZE=5, CONV_MID=5, CONV_FINAL=10, LEARNING_RATE=0.02\n"
     ]
    },
    {
     "name": "stderr",
     "output_type": "stream",
     "text": [
      "C:\\Users\\xutia\\AppData\\Local\\Temp\\ipykernel_21240\\3616600396.py:59: FutureWarning: You are using `torch.load` with `weights_only=False` (the current default value), which uses the default pickle module implicitly. It is possible to construct malicious pickle data which will execute arbitrary code during unpickling (See https://github.com/pytorch/pytorch/blob/main/SECURITY.md#untrusted-models for more details). In a future release, the default value for `weights_only` will be flipped to `True`. This limits the functions that could be executed during unpickling. Arbitrary objects will no longer be allowed to be loaded via this mode unless they are explicitly allowlisted by the user via `torch.serialization.add_safe_globals`. We recommend you start setting `weights_only=True` for any use case where you don't have full control of the loaded file. Please open an issue on GitHub for any issues related to this experimental feature.\n",
      "  EIIE_policy.load_state_dict(torch.load(model_filename))\n"
     ]
    },
    {
     "name": "stdout",
     "output_type": "stream",
     "text": [
      "=================================\n",
      "Initial portfolio value: 100000\n",
      "Final portfolio value: 754851.8125\n",
      "Final accumulative portfolio return: 7.548518125\n",
      "Maximum DrawDown: -0.2803928590790994\n",
      "Sharpe ratio: 1.2023079083847301\n",
      "=================================\n",
      "Metrics - train_final_value: 754851.8125, train_drawdown: -0.2803928590790994, train_sharpe: 1.2030041126268398, train_cumulative: 7.548518125\n",
      "=================================\n",
      "Initial portfolio value: 100000\n",
      "Final portfolio value: 197309.671875\n",
      "Final accumulative portfolio return: 1.97309671875\n",
      "Maximum DrawDown: -0.23058627415765243\n",
      "Sharpe ratio: 1.4443215217511411\n",
      "=================================\n",
      "Metrics - test_final_value: 197309.671875, test_drawdown: -0.23058627415765245, test_sharpe: 1.4473875192692602, test_cumulative: 1.97309671875\n",
      "Training model with TIME_WINDOW=30, K_SIZE=5, CONV_MID=5, CONV_FINAL=20, LEARNING_RATE=0.01\n"
     ]
    },
    {
     "name": "stderr",
     "output_type": "stream",
     "text": [
      "C:\\Users\\xutia\\AppData\\Local\\Temp\\ipykernel_21240\\3616600396.py:59: FutureWarning: You are using `torch.load` with `weights_only=False` (the current default value), which uses the default pickle module implicitly. It is possible to construct malicious pickle data which will execute arbitrary code during unpickling (See https://github.com/pytorch/pytorch/blob/main/SECURITY.md#untrusted-models for more details). In a future release, the default value for `weights_only` will be flipped to `True`. This limits the functions that could be executed during unpickling. Arbitrary objects will no longer be allowed to be loaded via this mode unless they are explicitly allowlisted by the user via `torch.serialization.add_safe_globals`. We recommend you start setting `weights_only=True` for any use case where you don't have full control of the loaded file. Please open an issue on GitHub for any issues related to this experimental feature.\n",
      "  EIIE_policy.load_state_dict(torch.load(model_filename))\n"
     ]
    },
    {
     "name": "stdout",
     "output_type": "stream",
     "text": [
      "=================================\n",
      "Initial portfolio value: 100000\n",
      "Final portfolio value: 241259.375\n",
      "Final accumulative portfolio return: 2.41259375\n",
      "Maximum DrawDown: -0.34970260554115096\n",
      "Sharpe ratio: 0.7786535430977934\n",
      "=================================\n",
      "Metrics - train_final_value: 241259.375, train_drawdown: -0.349702605541151, train_sharpe: 0.7791027247119598, train_cumulative: 2.41259375\n",
      "=================================\n",
      "Initial portfolio value: 100000\n",
      "Final portfolio value: 129273.1171875\n",
      "Final accumulative portfolio return: 1.292731171875\n",
      "Maximum DrawDown: -0.15723180204429865\n",
      "Sharpe ratio: 0.8825821567015263\n",
      "=================================\n",
      "Metrics - test_final_value: 129273.1171875, test_drawdown: -0.15723180204429865, test_sharpe: 0.8844548687820866, test_cumulative: 1.292731171875\n",
      "Training model with TIME_WINDOW=30, K_SIZE=5, CONV_MID=5, CONV_FINAL=20, LEARNING_RATE=0.02\n"
     ]
    },
    {
     "name": "stderr",
     "output_type": "stream",
     "text": [
      "C:\\Users\\xutia\\AppData\\Local\\Temp\\ipykernel_21240\\3616600396.py:59: FutureWarning: You are using `torch.load` with `weights_only=False` (the current default value), which uses the default pickle module implicitly. It is possible to construct malicious pickle data which will execute arbitrary code during unpickling (See https://github.com/pytorch/pytorch/blob/main/SECURITY.md#untrusted-models for more details). In a future release, the default value for `weights_only` will be flipped to `True`. This limits the functions that could be executed during unpickling. Arbitrary objects will no longer be allowed to be loaded via this mode unless they are explicitly allowlisted by the user via `torch.serialization.add_safe_globals`. We recommend you start setting `weights_only=True` for any use case where you don't have full control of the loaded file. Please open an issue on GitHub for any issues related to this experimental feature.\n",
      "  EIIE_policy.load_state_dict(torch.load(model_filename))\n"
     ]
    },
    {
     "name": "stdout",
     "output_type": "stream",
     "text": [
      "=================================\n",
      "Initial portfolio value: 100000\n",
      "Final portfolio value: 564440.9375\n",
      "Final accumulative portfolio return: 5.644409375\n",
      "Maximum DrawDown: -0.38515885581949616\n",
      "Sharpe ratio: 1.023379986169455\n",
      "=================================\n",
      "Metrics - train_final_value: 564440.9375, train_drawdown: -0.3851588558194961, train_sharpe: 1.023971574241043, train_cumulative: 5.644409375\n",
      "=================================\n",
      "Initial portfolio value: 100000\n",
      "Final portfolio value: 133850.171875\n",
      "Final accumulative portfolio return: 1.33850171875\n",
      "Maximum DrawDown: -0.151256239099964\n",
      "Sharpe ratio: 0.9564706667298783\n",
      "=================================\n",
      "Metrics - test_final_value: 133850.171875, test_drawdown: -0.15125623909996394, test_sharpe: 0.9584955455863648, test_cumulative: 1.33850171875\n",
      "Training model with TIME_WINDOW=30, K_SIZE=5, CONV_MID=10, CONV_FINAL=5, LEARNING_RATE=0.01\n"
     ]
    },
    {
     "name": "stderr",
     "output_type": "stream",
     "text": [
      "C:\\Users\\xutia\\AppData\\Local\\Temp\\ipykernel_21240\\3616600396.py:59: FutureWarning: You are using `torch.load` with `weights_only=False` (the current default value), which uses the default pickle module implicitly. It is possible to construct malicious pickle data which will execute arbitrary code during unpickling (See https://github.com/pytorch/pytorch/blob/main/SECURITY.md#untrusted-models for more details). In a future release, the default value for `weights_only` will be flipped to `True`. This limits the functions that could be executed during unpickling. Arbitrary objects will no longer be allowed to be loaded via this mode unless they are explicitly allowlisted by the user via `torch.serialization.add_safe_globals`. We recommend you start setting `weights_only=True` for any use case where you don't have full control of the loaded file. Please open an issue on GitHub for any issues related to this experimental feature.\n",
      "  EIIE_policy.load_state_dict(torch.load(model_filename))\n"
     ]
    },
    {
     "name": "stdout",
     "output_type": "stream",
     "text": [
      "=================================\n",
      "Initial portfolio value: 100000\n",
      "Final portfolio value: 235323.0\n",
      "Final accumulative portfolio return: 2.35323\n",
      "Maximum DrawDown: -0.3388634616533769\n",
      "Sharpe ratio: 0.7795659511180082\n",
      "=================================\n",
      "Metrics - train_final_value: 235323.0, train_drawdown: -0.3388634616533769, train_sharpe: 0.7800158303869547, train_cumulative: 2.35323\n",
      "=================================\n",
      "Initial portfolio value: 100000\n",
      "Final portfolio value: 128406.65625\n",
      "Final accumulative portfolio return: 1.2840665625\n",
      "Maximum DrawDown: -0.1517371585361873\n",
      "Sharpe ratio: 0.8862470586094484\n",
      "=================================\n",
      "Metrics - test_final_value: 128406.65625, test_drawdown: -0.15173715853618736, test_sharpe: 0.888121059272925, test_cumulative: 1.2840665625\n",
      "Training model with TIME_WINDOW=30, K_SIZE=5, CONV_MID=10, CONV_FINAL=5, LEARNING_RATE=0.02\n"
     ]
    },
    {
     "name": "stderr",
     "output_type": "stream",
     "text": [
      "C:\\Users\\xutia\\AppData\\Local\\Temp\\ipykernel_21240\\3616600396.py:59: FutureWarning: You are using `torch.load` with `weights_only=False` (the current default value), which uses the default pickle module implicitly. It is possible to construct malicious pickle data which will execute arbitrary code during unpickling (See https://github.com/pytorch/pytorch/blob/main/SECURITY.md#untrusted-models for more details). In a future release, the default value for `weights_only` will be flipped to `True`. This limits the functions that could be executed during unpickling. Arbitrary objects will no longer be allowed to be loaded via this mode unless they are explicitly allowlisted by the user via `torch.serialization.add_safe_globals`. We recommend you start setting `weights_only=True` for any use case where you don't have full control of the loaded file. Please open an issue on GitHub for any issues related to this experimental feature.\n",
      "  EIIE_policy.load_state_dict(torch.load(model_filename))\n"
     ]
    },
    {
     "name": "stdout",
     "output_type": "stream",
     "text": [
      "=================================\n",
      "Initial portfolio value: 100000\n",
      "Final portfolio value: 945285.125\n",
      "Final accumulative portfolio return: 9.45285125\n",
      "Maximum DrawDown: -0.4336366843495356\n",
      "Sharpe ratio: 1.280770947152845\n",
      "=================================\n",
      "Metrics - train_final_value: 945285.125, train_drawdown: -0.43363668434953556, train_sharpe: 1.281512223761827, train_cumulative: 9.45285125\n",
      "=================================\n",
      "Initial portfolio value: 100000\n",
      "Final portfolio value: 195357.46875\n",
      "Final accumulative portfolio return: 1.9535746875\n",
      "Maximum DrawDown: -0.24075652830638394\n",
      "Sharpe ratio: 1.418030215484328\n",
      "=================================\n",
      "Metrics - test_final_value: 195357.46875, test_drawdown: -0.24075652830638392, test_sharpe: 1.421039577105324, test_cumulative: 1.9535746875\n",
      "Training model with TIME_WINDOW=30, K_SIZE=5, CONV_MID=10, CONV_FINAL=10, LEARNING_RATE=0.01\n"
     ]
    },
    {
     "name": "stderr",
     "output_type": "stream",
     "text": [
      "C:\\Users\\xutia\\AppData\\Local\\Temp\\ipykernel_21240\\3616600396.py:59: FutureWarning: You are using `torch.load` with `weights_only=False` (the current default value), which uses the default pickle module implicitly. It is possible to construct malicious pickle data which will execute arbitrary code during unpickling (See https://github.com/pytorch/pytorch/blob/main/SECURITY.md#untrusted-models for more details). In a future release, the default value for `weights_only` will be flipped to `True`. This limits the functions that could be executed during unpickling. Arbitrary objects will no longer be allowed to be loaded via this mode unless they are explicitly allowlisted by the user via `torch.serialization.add_safe_globals`. We recommend you start setting `weights_only=True` for any use case where you don't have full control of the loaded file. Please open an issue on GitHub for any issues related to this experimental feature.\n",
      "  EIIE_policy.load_state_dict(torch.load(model_filename))\n"
     ]
    },
    {
     "name": "stdout",
     "output_type": "stream",
     "text": [
      "=================================\n",
      "Initial portfolio value: 100000\n",
      "Final portfolio value: 235529.8125\n",
      "Final accumulative portfolio return: 2.355298125\n",
      "Maximum DrawDown: -0.3417058744785262\n",
      "Sharpe ratio: 0.7770256393737898\n",
      "=================================\n",
      "Metrics - train_final_value: 235529.8125, train_drawdown: -0.34170587447852624, train_sharpe: 0.7774751594876192, train_cumulative: 2.355298125\n",
      "=================================\n",
      "Initial portfolio value: 100000\n",
      "Final portfolio value: 128261.765625\n",
      "Final accumulative portfolio return: 1.28261765625\n",
      "Maximum DrawDown: -0.1524705217102954\n",
      "Sharpe ratio: 0.881510316603436\n",
      "=================================\n",
      "Metrics - test_final_value: 128261.765625, test_drawdown: -0.15247052171029543, test_sharpe: 0.8833765196379827, test_cumulative: 1.28261765625\n",
      "Training model with TIME_WINDOW=30, K_SIZE=5, CONV_MID=10, CONV_FINAL=10, LEARNING_RATE=0.02\n"
     ]
    },
    {
     "name": "stderr",
     "output_type": "stream",
     "text": [
      "C:\\Users\\xutia\\AppData\\Local\\Temp\\ipykernel_21240\\3616600396.py:59: FutureWarning: You are using `torch.load` with `weights_only=False` (the current default value), which uses the default pickle module implicitly. It is possible to construct malicious pickle data which will execute arbitrary code during unpickling (See https://github.com/pytorch/pytorch/blob/main/SECURITY.md#untrusted-models for more details). In a future release, the default value for `weights_only` will be flipped to `True`. This limits the functions that could be executed during unpickling. Arbitrary objects will no longer be allowed to be loaded via this mode unless they are explicitly allowlisted by the user via `torch.serialization.add_safe_globals`. We recommend you start setting `weights_only=True` for any use case where you don't have full control of the loaded file. Please open an issue on GitHub for any issues related to this experimental feature.\n",
      "  EIIE_policy.load_state_dict(torch.load(model_filename))\n"
     ]
    },
    {
     "name": "stdout",
     "output_type": "stream",
     "text": [
      "=================================\n",
      "Initial portfolio value: 100000\n",
      "Final portfolio value: 100000.0\n",
      "Final accumulative portfolio return: 1.0\n",
      "Maximum DrawDown: 0.0\n",
      "Sharpe ratio: nan\n",
      "=================================\n"
     ]
    },
    {
     "name": "stderr",
     "output_type": "stream",
     "text": [
      "C:\\Users\\xutia\\AppData\\Roaming\\Python\\Python310\\site-packages\\quantstats\\stats.py:294: RuntimeWarning: invalid value encountered in scalar divide\n",
      "  res = returns.mean() / divisor\n",
      "C:\\Users\\xutia\\AppData\\Local\\Temp\\ipykernel_21240\\1884595116.py:70: RuntimeWarning: invalid value encountered in scalar divide\n",
      "  sharpe_ratio = np.mean(excess_returns) / np.std(excess_returns)\n"
     ]
    },
    {
     "name": "stdout",
     "output_type": "stream",
     "text": [
      "Metrics - train_final_value: 100000.0, train_drawdown: 0.0, train_sharpe: nan, train_cumulative: 1.0\n",
      "=================================\n",
      "Initial portfolio value: 100000\n",
      "Final portfolio value: 100000.0\n",
      "Final accumulative portfolio return: 1.0\n",
      "Maximum DrawDown: 0.0\n",
      "Sharpe ratio: nan\n",
      "=================================\n"
     ]
    },
    {
     "name": "stderr",
     "output_type": "stream",
     "text": [
      "C:\\Users\\xutia\\AppData\\Roaming\\Python\\Python310\\site-packages\\quantstats\\stats.py:294: RuntimeWarning: invalid value encountered in scalar divide\n",
      "  res = returns.mean() / divisor\n",
      "C:\\Users\\xutia\\AppData\\Local\\Temp\\ipykernel_21240\\1884595116.py:70: RuntimeWarning: invalid value encountered in scalar divide\n",
      "  sharpe_ratio = np.mean(excess_returns) / np.std(excess_returns)\n",
      "C:\\Users\\xutia\\AppData\\Local\\Temp\\ipykernel_21240\\3616600396.py:59: FutureWarning: You are using `torch.load` with `weights_only=False` (the current default value), which uses the default pickle module implicitly. It is possible to construct malicious pickle data which will execute arbitrary code during unpickling (See https://github.com/pytorch/pytorch/blob/main/SECURITY.md#untrusted-models for more details). In a future release, the default value for `weights_only` will be flipped to `True`. This limits the functions that could be executed during unpickling. Arbitrary objects will no longer be allowed to be loaded via this mode unless they are explicitly allowlisted by the user via `torch.serialization.add_safe_globals`. We recommend you start setting `weights_only=True` for any use case where you don't have full control of the loaded file. Please open an issue on GitHub for any issues related to this experimental feature.\n",
      "  EIIE_policy.load_state_dict(torch.load(model_filename))\n"
     ]
    },
    {
     "name": "stdout",
     "output_type": "stream",
     "text": [
      "Metrics - test_final_value: 100000.0, test_drawdown: 0.0, test_sharpe: nan, test_cumulative: 1.0\n",
      "Training model with TIME_WINDOW=30, K_SIZE=5, CONV_MID=10, CONV_FINAL=20, LEARNING_RATE=0.01\n",
      "=================================\n",
      "Initial portfolio value: 100000\n",
      "Final portfolio value: 792884.9375\n",
      "Final accumulative portfolio return: 7.928849375\n",
      "Maximum DrawDown: -0.3453146100094041\n",
      "Sharpe ratio: 1.2070826529180887\n",
      "=================================\n",
      "Metrics - train_final_value: 792884.9375, train_drawdown: -0.34531461000940417, train_sharpe: 1.2077814928006052, train_cumulative: 7.928849375\n",
      "=================================\n",
      "Initial portfolio value: 100000\n",
      "Final portfolio value: 146965.234375\n",
      "Final accumulative portfolio return: 1.46965234375\n",
      "Maximum DrawDown: -0.30093817517889143\n",
      "Sharpe ratio: 0.8541884380500485\n",
      "=================================\n",
      "Metrics - test_final_value: 146965.234375, test_drawdown: -0.30093817517889143, test_sharpe: 0.8559960229456298, test_cumulative: 1.46965234375\n",
      "Training model with TIME_WINDOW=30, K_SIZE=5, CONV_MID=10, CONV_FINAL=20, LEARNING_RATE=0.02\n"
     ]
    },
    {
     "name": "stderr",
     "output_type": "stream",
     "text": [
      "C:\\Users\\xutia\\AppData\\Local\\Temp\\ipykernel_21240\\3616600396.py:59: FutureWarning: You are using `torch.load` with `weights_only=False` (the current default value), which uses the default pickle module implicitly. It is possible to construct malicious pickle data which will execute arbitrary code during unpickling (See https://github.com/pytorch/pytorch/blob/main/SECURITY.md#untrusted-models for more details). In a future release, the default value for `weights_only` will be flipped to `True`. This limits the functions that could be executed during unpickling. Arbitrary objects will no longer be allowed to be loaded via this mode unless they are explicitly allowlisted by the user via `torch.serialization.add_safe_globals`. We recommend you start setting `weights_only=True` for any use case where you don't have full control of the loaded file. Please open an issue on GitHub for any issues related to this experimental feature.\n",
      "  EIIE_policy.load_state_dict(torch.load(model_filename))\n"
     ]
    },
    {
     "name": "stdout",
     "output_type": "stream",
     "text": [
      "=================================\n",
      "Initial portfolio value: 100000\n",
      "Final portfolio value: 239366.765625\n",
      "Final accumulative portfolio return: 2.39366765625\n",
      "Maximum DrawDown: -0.3497928306566783\n",
      "Sharpe ratio: 0.7754592233461253\n",
      "=================================\n",
      "Metrics - train_final_value: 239366.765625, train_drawdown: -0.34979283065667827, train_sharpe: 0.7759076928251264, train_cumulative: 2.39366765625\n",
      "=================================\n",
      "Initial portfolio value: 100000\n",
      "Final portfolio value: 128731.0859375\n",
      "Final accumulative portfolio return: 1.287310859375\n",
      "Maximum DrawDown: -0.15637196484001048\n",
      "Sharpe ratio: 0.8754371542262736\n",
      "=================================\n",
      "Metrics - test_final_value: 128731.0859375, test_drawdown: -0.15637196484001045, test_sharpe: 0.877291817723817, test_cumulative: 1.287310859375\n",
      "Training model with TIME_WINDOW=30, K_SIZE=5, CONV_MID=20, CONV_FINAL=5, LEARNING_RATE=0.01\n"
     ]
    },
    {
     "name": "stderr",
     "output_type": "stream",
     "text": [
      "C:\\Users\\xutia\\AppData\\Local\\Temp\\ipykernel_21240\\3616600396.py:59: FutureWarning: You are using `torch.load` with `weights_only=False` (the current default value), which uses the default pickle module implicitly. It is possible to construct malicious pickle data which will execute arbitrary code during unpickling (See https://github.com/pytorch/pytorch/blob/main/SECURITY.md#untrusted-models for more details). In a future release, the default value for `weights_only` will be flipped to `True`. This limits the functions that could be executed during unpickling. Arbitrary objects will no longer be allowed to be loaded via this mode unless they are explicitly allowlisted by the user via `torch.serialization.add_safe_globals`. We recommend you start setting `weights_only=True` for any use case where you don't have full control of the loaded file. Please open an issue on GitHub for any issues related to this experimental feature.\n",
      "  EIIE_policy.load_state_dict(torch.load(model_filename))\n"
     ]
    },
    {
     "name": "stdout",
     "output_type": "stream",
     "text": [
      "=================================\n",
      "Initial portfolio value: 100000\n",
      "Final portfolio value: 939149.1875\n",
      "Final accumulative portfolio return: 9.391491875\n",
      "Maximum DrawDown: -0.2803930123194268\n",
      "Sharpe ratio: 1.3805344894989116\n",
      "=================================\n",
      "Metrics - train_final_value: 939149.1875, train_drawdown: -0.2803930123194268, train_sharpe: 1.3813347364048012, train_cumulative: 9.391491875\n",
      "=================================\n",
      "Initial portfolio value: 100000\n",
      "Final portfolio value: 172244.625\n",
      "Final accumulative portfolio return: 1.72244625\n",
      "Maximum DrawDown: -0.22566888875381363\n",
      "Sharpe ratio: 1.1850138683321145\n",
      "=================================\n",
      "Metrics - test_final_value: 172244.625, test_drawdown: -0.22566888875381366, test_sharpe: 1.1875261738187577, test_cumulative: 1.72244625\n",
      "Training model with TIME_WINDOW=30, K_SIZE=5, CONV_MID=20, CONV_FINAL=5, LEARNING_RATE=0.02\n"
     ]
    },
    {
     "name": "stderr",
     "output_type": "stream",
     "text": [
      "C:\\Users\\xutia\\AppData\\Local\\Temp\\ipykernel_21240\\3616600396.py:59: FutureWarning: You are using `torch.load` with `weights_only=False` (the current default value), which uses the default pickle module implicitly. It is possible to construct malicious pickle data which will execute arbitrary code during unpickling (See https://github.com/pytorch/pytorch/blob/main/SECURITY.md#untrusted-models for more details). In a future release, the default value for `weights_only` will be flipped to `True`. This limits the functions that could be executed during unpickling. Arbitrary objects will no longer be allowed to be loaded via this mode unless they are explicitly allowlisted by the user via `torch.serialization.add_safe_globals`. We recommend you start setting `weights_only=True` for any use case where you don't have full control of the loaded file. Please open an issue on GitHub for any issues related to this experimental feature.\n",
      "  EIIE_policy.load_state_dict(torch.load(model_filename))\n"
     ]
    },
    {
     "name": "stdout",
     "output_type": "stream",
     "text": [
      "=================================\n",
      "Initial portfolio value: 100000\n",
      "Final portfolio value: 1092732.875\n",
      "Final accumulative portfolio return: 10.92732875\n",
      "Maximum DrawDown: -0.2922609988249619\n",
      "Sharpe ratio: 1.3370017807427346\n",
      "=================================\n",
      "Metrics - train_final_value: 1092732.875, train_drawdown: -0.29226099882496187, train_sharpe: 1.3377755855946887, train_cumulative: 10.92732875\n",
      "=================================\n",
      "Initial portfolio value: 100000\n",
      "Final portfolio value: 202317.40625\n",
      "Final accumulative portfolio return: 2.0231740625\n",
      "Maximum DrawDown: -0.220285093320023\n",
      "Sharpe ratio: 1.409908072540401\n",
      "=================================\n",
      "Metrics - test_final_value: 202317.40625, test_drawdown: -0.22028509332002302, test_sharpe: 1.4129013545889726, test_cumulative: 2.0231740625\n",
      "Training model with TIME_WINDOW=30, K_SIZE=5, CONV_MID=20, CONV_FINAL=10, LEARNING_RATE=0.01\n"
     ]
    },
    {
     "name": "stderr",
     "output_type": "stream",
     "text": [
      "C:\\Users\\xutia\\AppData\\Local\\Temp\\ipykernel_21240\\3616600396.py:59: FutureWarning: You are using `torch.load` with `weights_only=False` (the current default value), which uses the default pickle module implicitly. It is possible to construct malicious pickle data which will execute arbitrary code during unpickling (See https://github.com/pytorch/pytorch/blob/main/SECURITY.md#untrusted-models for more details). In a future release, the default value for `weights_only` will be flipped to `True`. This limits the functions that could be executed during unpickling. Arbitrary objects will no longer be allowed to be loaded via this mode unless they are explicitly allowlisted by the user via `torch.serialization.add_safe_globals`. We recommend you start setting `weights_only=True` for any use case where you don't have full control of the loaded file. Please open an issue on GitHub for any issues related to this experimental feature.\n",
      "  EIIE_policy.load_state_dict(torch.load(model_filename))\n"
     ]
    },
    {
     "name": "stdout",
     "output_type": "stream",
     "text": [
      "=================================\n",
      "Initial portfolio value: 100000\n",
      "Final portfolio value: 1237263.75\n",
      "Final accumulative portfolio return: 12.3726375\n",
      "Maximum DrawDown: -0.28196732727881224\n",
      "Sharpe ratio: 1.477345350896071\n",
      "=================================\n",
      "Metrics - train_final_value: 1237263.75, train_drawdown: -0.28196732727881224, train_sharpe: 1.4782012274971785, train_cumulative: 12.3726375\n",
      "=================================\n",
      "Initial portfolio value: 100000\n",
      "Final portfolio value: 201487.640625\n",
      "Final accumulative portfolio return: 2.01487640625\n",
      "Maximum DrawDown: -0.18905436094111105\n",
      "Sharpe ratio: 1.4801252603674644\n",
      "=================================\n",
      "Metrics - test_final_value: 201487.640625, test_drawdown: -0.189054360941111, test_sharpe: 1.4832675527545447, test_cumulative: 2.01487640625\n",
      "Training model with TIME_WINDOW=30, K_SIZE=5, CONV_MID=20, CONV_FINAL=10, LEARNING_RATE=0.02\n"
     ]
    },
    {
     "name": "stderr",
     "output_type": "stream",
     "text": [
      "C:\\Users\\xutia\\AppData\\Local\\Temp\\ipykernel_21240\\3616600396.py:59: FutureWarning: You are using `torch.load` with `weights_only=False` (the current default value), which uses the default pickle module implicitly. It is possible to construct malicious pickle data which will execute arbitrary code during unpickling (See https://github.com/pytorch/pytorch/blob/main/SECURITY.md#untrusted-models for more details). In a future release, the default value for `weights_only` will be flipped to `True`. This limits the functions that could be executed during unpickling. Arbitrary objects will no longer be allowed to be loaded via this mode unless they are explicitly allowlisted by the user via `torch.serialization.add_safe_globals`. We recommend you start setting `weights_only=True` for any use case where you don't have full control of the loaded file. Please open an issue on GitHub for any issues related to this experimental feature.\n",
      "  EIIE_policy.load_state_dict(torch.load(model_filename))\n"
     ]
    },
    {
     "name": "stdout",
     "output_type": "stream",
     "text": [
      "=================================\n",
      "Initial portfolio value: 100000\n",
      "Final portfolio value: 100000.0\n",
      "Final accumulative portfolio return: 1.0\n",
      "Maximum DrawDown: 0.0\n",
      "Sharpe ratio: nan\n",
      "=================================\n"
     ]
    },
    {
     "name": "stderr",
     "output_type": "stream",
     "text": [
      "C:\\Users\\xutia\\AppData\\Roaming\\Python\\Python310\\site-packages\\quantstats\\stats.py:294: RuntimeWarning: invalid value encountered in scalar divide\n",
      "  res = returns.mean() / divisor\n",
      "C:\\Users\\xutia\\AppData\\Local\\Temp\\ipykernel_21240\\1884595116.py:70: RuntimeWarning: invalid value encountered in scalar divide\n",
      "  sharpe_ratio = np.mean(excess_returns) / np.std(excess_returns)\n"
     ]
    },
    {
     "name": "stdout",
     "output_type": "stream",
     "text": [
      "Metrics - train_final_value: 100000.0, train_drawdown: 0.0, train_sharpe: nan, train_cumulative: 1.0\n",
      "=================================\n",
      "Initial portfolio value: 100000\n",
      "Final portfolio value: 100000.0\n",
      "Final accumulative portfolio return: 1.0\n",
      "Maximum DrawDown: 0.0\n",
      "Sharpe ratio: nan\n",
      "=================================\n"
     ]
    },
    {
     "name": "stderr",
     "output_type": "stream",
     "text": [
      "C:\\Users\\xutia\\AppData\\Roaming\\Python\\Python310\\site-packages\\quantstats\\stats.py:294: RuntimeWarning: invalid value encountered in scalar divide\n",
      "  res = returns.mean() / divisor\n",
      "C:\\Users\\xutia\\AppData\\Local\\Temp\\ipykernel_21240\\1884595116.py:70: RuntimeWarning: invalid value encountered in scalar divide\n",
      "  sharpe_ratio = np.mean(excess_returns) / np.std(excess_returns)\n",
      "C:\\Users\\xutia\\AppData\\Local\\Temp\\ipykernel_21240\\3616600396.py:59: FutureWarning: You are using `torch.load` with `weights_only=False` (the current default value), which uses the default pickle module implicitly. It is possible to construct malicious pickle data which will execute arbitrary code during unpickling (See https://github.com/pytorch/pytorch/blob/main/SECURITY.md#untrusted-models for more details). In a future release, the default value for `weights_only` will be flipped to `True`. This limits the functions that could be executed during unpickling. Arbitrary objects will no longer be allowed to be loaded via this mode unless they are explicitly allowlisted by the user via `torch.serialization.add_safe_globals`. We recommend you start setting `weights_only=True` for any use case where you don't have full control of the loaded file. Please open an issue on GitHub for any issues related to this experimental feature.\n",
      "  EIIE_policy.load_state_dict(torch.load(model_filename))\n"
     ]
    },
    {
     "name": "stdout",
     "output_type": "stream",
     "text": [
      "Metrics - test_final_value: 100000.0, test_drawdown: 0.0, test_sharpe: nan, test_cumulative: 1.0\n",
      "Training model with TIME_WINDOW=30, K_SIZE=5, CONV_MID=20, CONV_FINAL=20, LEARNING_RATE=0.01\n",
      "=================================\n",
      "Initial portfolio value: 100000\n",
      "Final portfolio value: 741463.5\n",
      "Final accumulative portfolio return: 7.414635\n",
      "Maximum DrawDown: -0.2806808684279404\n",
      "Sharpe ratio: 1.3049950516182305\n",
      "=================================\n",
      "Metrics - train_final_value: 741463.5, train_drawdown: -0.2806808684279404, train_sharpe: 1.3057511529987658, train_cumulative: 7.414635\n",
      "=================================\n",
      "Initial portfolio value: 100000\n",
      "Final portfolio value: 70868.9765625\n",
      "Final accumulative portfolio return: 0.708689765625\n",
      "Maximum DrawDown: -0.4193205119326344\n",
      "Sharpe ratio: -0.5967145588349303\n",
      "=================================\n",
      "Metrics - test_final_value: 70868.9765625, test_drawdown: -0.41932051193263437, test_sharpe: -0.5979774260939373, test_cumulative: 0.708689765625\n",
      "Training model with TIME_WINDOW=30, K_SIZE=5, CONV_MID=20, CONV_FINAL=20, LEARNING_RATE=0.02\n"
     ]
    },
    {
     "name": "stderr",
     "output_type": "stream",
     "text": [
      "C:\\Users\\xutia\\AppData\\Local\\Temp\\ipykernel_21240\\3616600396.py:59: FutureWarning: You are using `torch.load` with `weights_only=False` (the current default value), which uses the default pickle module implicitly. It is possible to construct malicious pickle data which will execute arbitrary code during unpickling (See https://github.com/pytorch/pytorch/blob/main/SECURITY.md#untrusted-models for more details). In a future release, the default value for `weights_only` will be flipped to `True`. This limits the functions that could be executed during unpickling. Arbitrary objects will no longer be allowed to be loaded via this mode unless they are explicitly allowlisted by the user via `torch.serialization.add_safe_globals`. We recommend you start setting `weights_only=True` for any use case where you don't have full control of the loaded file. Please open an issue on GitHub for any issues related to this experimental feature.\n",
      "  EIIE_policy.load_state_dict(torch.load(model_filename))\n"
     ]
    },
    {
     "name": "stdout",
     "output_type": "stream",
     "text": [
      "=================================\n",
      "Initial portfolio value: 100000\n",
      "Final portfolio value: 100000.0\n",
      "Final accumulative portfolio return: 1.0\n",
      "Maximum DrawDown: 0.0\n",
      "Sharpe ratio: nan\n",
      "=================================\n"
     ]
    },
    {
     "name": "stderr",
     "output_type": "stream",
     "text": [
      "C:\\Users\\xutia\\AppData\\Roaming\\Python\\Python310\\site-packages\\quantstats\\stats.py:294: RuntimeWarning: invalid value encountered in scalar divide\n",
      "  res = returns.mean() / divisor\n",
      "C:\\Users\\xutia\\AppData\\Local\\Temp\\ipykernel_21240\\1884595116.py:70: RuntimeWarning: invalid value encountered in scalar divide\n",
      "  sharpe_ratio = np.mean(excess_returns) / np.std(excess_returns)\n"
     ]
    },
    {
     "name": "stdout",
     "output_type": "stream",
     "text": [
      "Metrics - train_final_value: 100000.0, train_drawdown: 0.0, train_sharpe: nan, train_cumulative: 1.0\n",
      "=================================\n",
      "Initial portfolio value: 100000\n",
      "Final portfolio value: 100000.0\n",
      "Final accumulative portfolio return: 1.0\n",
      "Maximum DrawDown: 0.0\n",
      "Sharpe ratio: nan\n",
      "=================================\n"
     ]
    },
    {
     "name": "stderr",
     "output_type": "stream",
     "text": [
      "C:\\Users\\xutia\\AppData\\Roaming\\Python\\Python310\\site-packages\\quantstats\\stats.py:294: RuntimeWarning: invalid value encountered in scalar divide\n",
      "  res = returns.mean() / divisor\n",
      "C:\\Users\\xutia\\AppData\\Local\\Temp\\ipykernel_21240\\1884595116.py:70: RuntimeWarning: invalid value encountered in scalar divide\n",
      "  sharpe_ratio = np.mean(excess_returns) / np.std(excess_returns)\n",
      "C:\\Users\\xutia\\AppData\\Local\\Temp\\ipykernel_21240\\3616600396.py:59: FutureWarning: You are using `torch.load` with `weights_only=False` (the current default value), which uses the default pickle module implicitly. It is possible to construct malicious pickle data which will execute arbitrary code during unpickling (See https://github.com/pytorch/pytorch/blob/main/SECURITY.md#untrusted-models for more details). In a future release, the default value for `weights_only` will be flipped to `True`. This limits the functions that could be executed during unpickling. Arbitrary objects will no longer be allowed to be loaded via this mode unless they are explicitly allowlisted by the user via `torch.serialization.add_safe_globals`. We recommend you start setting `weights_only=True` for any use case where you don't have full control of the loaded file. Please open an issue on GitHub for any issues related to this experimental feature.\n",
      "  EIIE_policy.load_state_dict(torch.load(model_filename))\n"
     ]
    },
    {
     "name": "stdout",
     "output_type": "stream",
     "text": [
      "Metrics - test_final_value: 100000.0, test_drawdown: 0.0, test_sharpe: nan, test_cumulative: 1.0\n",
      "Training model with TIME_WINDOW=60, K_SIZE=3, CONV_MID=5, CONV_FINAL=5, LEARNING_RATE=0.01\n",
      "=================================\n",
      "Initial portfolio value: 100000\n",
      "Final portfolio value: 223601.890625\n",
      "Final accumulative portfolio return: 2.23601890625\n",
      "Maximum DrawDown: -0.3284356223500753\n",
      "Sharpe ratio: 0.7681298837148698\n",
      "=================================\n",
      "Metrics - train_final_value: 223601.890625, train_drawdown: -0.3284356223500753, train_sharpe: 0.7685798374361955, train_cumulative: 2.23601890625\n",
      "=================================\n",
      "Initial portfolio value: 100000\n",
      "Final portfolio value: 123920.3046875\n",
      "Final accumulative portfolio return: 1.239203046875\n",
      "Maximum DrawDown: -0.1462482372462447\n",
      "Sharpe ratio: 0.8353663820194431\n",
      "=================================\n",
      "Metrics - test_final_value: 123920.3046875, test_drawdown: -0.14624823724624472, test_sharpe: 0.8372546762541698, test_cumulative: 1.239203046875\n",
      "Training model with TIME_WINDOW=60, K_SIZE=3, CONV_MID=5, CONV_FINAL=5, LEARNING_RATE=0.02\n"
     ]
    },
    {
     "name": "stderr",
     "output_type": "stream",
     "text": [
      "C:\\Users\\xutia\\AppData\\Local\\Temp\\ipykernel_21240\\3616600396.py:59: FutureWarning: You are using `torch.load` with `weights_only=False` (the current default value), which uses the default pickle module implicitly. It is possible to construct malicious pickle data which will execute arbitrary code during unpickling (See https://github.com/pytorch/pytorch/blob/main/SECURITY.md#untrusted-models for more details). In a future release, the default value for `weights_only` will be flipped to `True`. This limits the functions that could be executed during unpickling. Arbitrary objects will no longer be allowed to be loaded via this mode unless they are explicitly allowlisted by the user via `torch.serialization.add_safe_globals`. We recommend you start setting `weights_only=True` for any use case where you don't have full control of the loaded file. Please open an issue on GitHub for any issues related to this experimental feature.\n",
      "  EIIE_policy.load_state_dict(torch.load(model_filename))\n"
     ]
    },
    {
     "name": "stdout",
     "output_type": "stream",
     "text": [
      "=================================\n",
      "Initial portfolio value: 100000\n",
      "Final portfolio value: 284832.1875\n",
      "Final accumulative portfolio return: 2.848321875\n",
      "Maximum DrawDown: -0.27364253565888175\n",
      "Sharpe ratio: 0.8253393366456073\n",
      "=================================\n",
      "Metrics - train_final_value: 284832.1875, train_drawdown: -0.2736425356588818, train_sharpe: 0.8258255339919202, train_cumulative: 2.848321875\n",
      "=================================\n",
      "Initial portfolio value: 100000\n",
      "Final portfolio value: 93334.375\n",
      "Final accumulative portfolio return: 0.93334375\n",
      "Maximum DrawDown: -0.29923660393431173\n",
      "Sharpe ratio: -0.02895841153841301\n",
      "=================================\n",
      "Metrics - test_final_value: 93334.375, test_drawdown: -0.29923660393431173, test_sharpe: -0.029025893825356155, test_cumulative: 0.93334375\n",
      "Training model with TIME_WINDOW=60, K_SIZE=3, CONV_MID=5, CONV_FINAL=10, LEARNING_RATE=0.01\n"
     ]
    },
    {
     "name": "stderr",
     "output_type": "stream",
     "text": [
      "C:\\Users\\xutia\\AppData\\Local\\Temp\\ipykernel_21240\\3616600396.py:59: FutureWarning: You are using `torch.load` with `weights_only=False` (the current default value), which uses the default pickle module implicitly. It is possible to construct malicious pickle data which will execute arbitrary code during unpickling (See https://github.com/pytorch/pytorch/blob/main/SECURITY.md#untrusted-models for more details). In a future release, the default value for `weights_only` will be flipped to `True`. This limits the functions that could be executed during unpickling. Arbitrary objects will no longer be allowed to be loaded via this mode unless they are explicitly allowlisted by the user via `torch.serialization.add_safe_globals`. We recommend you start setting `weights_only=True` for any use case where you don't have full control of the loaded file. Please open an issue on GitHub for any issues related to this experimental feature.\n",
      "  EIIE_policy.load_state_dict(torch.load(model_filename))\n"
     ]
    },
    {
     "name": "stdout",
     "output_type": "stream",
     "text": [
      "=================================\n",
      "Initial portfolio value: 100000\n",
      "Final portfolio value: 852108.0625\n",
      "Final accumulative portfolio return: 8.521080625\n",
      "Maximum DrawDown: -0.29099948909722473\n",
      "Sharpe ratio: 1.3058993824183962\n",
      "=================================\n",
      "Metrics - train_final_value: 852108.0625, train_drawdown: -0.29099948909722473, train_sharpe: 1.3066690741005025, train_cumulative: 8.521080625\n",
      "=================================\n",
      "Initial portfolio value: 100000\n",
      "Final portfolio value: 62964.48046875\n",
      "Final accumulative portfolio return: 0.6296448046875\n",
      "Maximum DrawDown: -0.5160811555412833\n",
      "Sharpe ratio: -0.7344603811485412\n",
      "=================================\n",
      "Metrics - test_final_value: 62964.48046875, test_drawdown: -0.5160811555412833, test_sharpe: -0.7361207315634519, test_cumulative: 0.6296448046875\n",
      "Training model with TIME_WINDOW=60, K_SIZE=3, CONV_MID=5, CONV_FINAL=10, LEARNING_RATE=0.02\n"
     ]
    },
    {
     "name": "stderr",
     "output_type": "stream",
     "text": [
      "C:\\Users\\xutia\\AppData\\Local\\Temp\\ipykernel_21240\\3616600396.py:59: FutureWarning: You are using `torch.load` with `weights_only=False` (the current default value), which uses the default pickle module implicitly. It is possible to construct malicious pickle data which will execute arbitrary code during unpickling (See https://github.com/pytorch/pytorch/blob/main/SECURITY.md#untrusted-models for more details). In a future release, the default value for `weights_only` will be flipped to `True`. This limits the functions that could be executed during unpickling. Arbitrary objects will no longer be allowed to be loaded via this mode unless they are explicitly allowlisted by the user via `torch.serialization.add_safe_globals`. We recommend you start setting `weights_only=True` for any use case where you don't have full control of the loaded file. Please open an issue on GitHub for any issues related to this experimental feature.\n",
      "  EIIE_policy.load_state_dict(torch.load(model_filename))\n"
     ]
    },
    {
     "name": "stdout",
     "output_type": "stream",
     "text": [
      "=================================\n",
      "Initial portfolio value: 100000\n",
      "Final portfolio value: 1245316.375\n",
      "Final accumulative portfolio return: 12.45316375\n",
      "Maximum DrawDown: -0.30307034200109395\n",
      "Sharpe ratio: 1.5802801891593778\n",
      "=================================\n",
      "Metrics - train_final_value: 1245316.375, train_drawdown: -0.3030703420010939, train_sharpe: 1.5812124429663243, train_cumulative: 12.45316375\n",
      "=================================\n",
      "Initial portfolio value: 100000\n",
      "Final portfolio value: 54742.17578125\n",
      "Final accumulative portfolio return: 0.5474217578125\n",
      "Maximum DrawDown: -0.6121799061281717\n",
      "Sharpe ratio: -1.0580129150861202\n",
      "=================================\n",
      "Metrics - test_final_value: 54742.17578125, test_drawdown: -0.6121799061281717, test_sharpe: -1.0604064602469705, test_cumulative: 0.5474217578125\n",
      "Training model with TIME_WINDOW=60, K_SIZE=3, CONV_MID=5, CONV_FINAL=20, LEARNING_RATE=0.01\n"
     ]
    },
    {
     "name": "stderr",
     "output_type": "stream",
     "text": [
      "C:\\Users\\xutia\\AppData\\Local\\Temp\\ipykernel_21240\\3616600396.py:59: FutureWarning: You are using `torch.load` with `weights_only=False` (the current default value), which uses the default pickle module implicitly. It is possible to construct malicious pickle data which will execute arbitrary code during unpickling (See https://github.com/pytorch/pytorch/blob/main/SECURITY.md#untrusted-models for more details). In a future release, the default value for `weights_only` will be flipped to `True`. This limits the functions that could be executed during unpickling. Arbitrary objects will no longer be allowed to be loaded via this mode unless they are explicitly allowlisted by the user via `torch.serialization.add_safe_globals`. We recommend you start setting `weights_only=True` for any use case where you don't have full control of the loaded file. Please open an issue on GitHub for any issues related to this experimental feature.\n",
      "  EIIE_policy.load_state_dict(torch.load(model_filename))\n"
     ]
    },
    {
     "name": "stdout",
     "output_type": "stream",
     "text": [
      "=================================\n",
      "Initial portfolio value: 100000\n",
      "Final portfolio value: 958190.0\n",
      "Final accumulative portfolio return: 9.5819\n",
      "Maximum DrawDown: -0.3142728040751839\n",
      "Sharpe ratio: 1.3469471592955369\n",
      "=================================\n",
      "Metrics - train_final_value: 958190.0, train_drawdown: -0.3142728040751838, train_sharpe: 1.347740189634677, train_cumulative: 9.5819\n",
      "=================================\n",
      "Initial portfolio value: 100000\n",
      "Final portfolio value: 198076.9375\n",
      "Final accumulative portfolio return: 1.980769375\n",
      "Maximum DrawDown: -0.17361194457150908\n",
      "Sharpe ratio: 1.5263629780212014\n",
      "=================================\n",
      "Metrics - test_final_value: 198076.9375, test_drawdown: -0.1736119445715091, test_sharpe: 1.5298248124893001, test_cumulative: 1.980769375\n",
      "Training model with TIME_WINDOW=60, K_SIZE=3, CONV_MID=5, CONV_FINAL=20, LEARNING_RATE=0.02\n"
     ]
    },
    {
     "name": "stderr",
     "output_type": "stream",
     "text": [
      "C:\\Users\\xutia\\AppData\\Local\\Temp\\ipykernel_21240\\3616600396.py:59: FutureWarning: You are using `torch.load` with `weights_only=False` (the current default value), which uses the default pickle module implicitly. It is possible to construct malicious pickle data which will execute arbitrary code during unpickling (See https://github.com/pytorch/pytorch/blob/main/SECURITY.md#untrusted-models for more details). In a future release, the default value for `weights_only` will be flipped to `True`. This limits the functions that could be executed during unpickling. Arbitrary objects will no longer be allowed to be loaded via this mode unless they are explicitly allowlisted by the user via `torch.serialization.add_safe_globals`. We recommend you start setting `weights_only=True` for any use case where you don't have full control of the loaded file. Please open an issue on GitHub for any issues related to this experimental feature.\n",
      "  EIIE_policy.load_state_dict(torch.load(model_filename))\n"
     ]
    },
    {
     "name": "stdout",
     "output_type": "stream",
     "text": [
      "=================================\n",
      "Initial portfolio value: 100000\n",
      "Final portfolio value: 100000.0\n",
      "Final accumulative portfolio return: 1.0\n",
      "Maximum DrawDown: 0.0\n",
      "Sharpe ratio: nan\n",
      "=================================\n"
     ]
    },
    {
     "name": "stderr",
     "output_type": "stream",
     "text": [
      "C:\\Users\\xutia\\AppData\\Roaming\\Python\\Python310\\site-packages\\quantstats\\stats.py:294: RuntimeWarning: invalid value encountered in scalar divide\n",
      "  res = returns.mean() / divisor\n",
      "C:\\Users\\xutia\\AppData\\Local\\Temp\\ipykernel_21240\\1884595116.py:70: RuntimeWarning: invalid value encountered in scalar divide\n",
      "  sharpe_ratio = np.mean(excess_returns) / np.std(excess_returns)\n"
     ]
    },
    {
     "name": "stdout",
     "output_type": "stream",
     "text": [
      "Metrics - train_final_value: 100000.0, train_drawdown: 0.0, train_sharpe: nan, train_cumulative: 1.0\n",
      "=================================\n",
      "Initial portfolio value: 100000\n",
      "Final portfolio value: 100000.0\n",
      "Final accumulative portfolio return: 1.0\n",
      "Maximum DrawDown: 0.0\n",
      "Sharpe ratio: nan\n",
      "=================================\n"
     ]
    },
    {
     "name": "stderr",
     "output_type": "stream",
     "text": [
      "C:\\Users\\xutia\\AppData\\Roaming\\Python\\Python310\\site-packages\\quantstats\\stats.py:294: RuntimeWarning: invalid value encountered in scalar divide\n",
      "  res = returns.mean() / divisor\n",
      "C:\\Users\\xutia\\AppData\\Local\\Temp\\ipykernel_21240\\1884595116.py:70: RuntimeWarning: invalid value encountered in scalar divide\n",
      "  sharpe_ratio = np.mean(excess_returns) / np.std(excess_returns)\n",
      "C:\\Users\\xutia\\AppData\\Local\\Temp\\ipykernel_21240\\3616600396.py:59: FutureWarning: You are using `torch.load` with `weights_only=False` (the current default value), which uses the default pickle module implicitly. It is possible to construct malicious pickle data which will execute arbitrary code during unpickling (See https://github.com/pytorch/pytorch/blob/main/SECURITY.md#untrusted-models for more details). In a future release, the default value for `weights_only` will be flipped to `True`. This limits the functions that could be executed during unpickling. Arbitrary objects will no longer be allowed to be loaded via this mode unless they are explicitly allowlisted by the user via `torch.serialization.add_safe_globals`. We recommend you start setting `weights_only=True` for any use case where you don't have full control of the loaded file. Please open an issue on GitHub for any issues related to this experimental feature.\n",
      "  EIIE_policy.load_state_dict(torch.load(model_filename))\n"
     ]
    },
    {
     "name": "stdout",
     "output_type": "stream",
     "text": [
      "Metrics - test_final_value: 100000.0, test_drawdown: 0.0, test_sharpe: nan, test_cumulative: 1.0\n",
      "Training model with TIME_WINDOW=60, K_SIZE=3, CONV_MID=10, CONV_FINAL=5, LEARNING_RATE=0.01\n",
      "=================================\n",
      "Initial portfolio value: 100000\n",
      "Final portfolio value: 224214.859375\n",
      "Final accumulative portfolio return: 2.24214859375\n",
      "Maximum DrawDown: -0.3294524075255042\n",
      "Sharpe ratio: 0.7682251752894036\n",
      "=================================\n",
      "Metrics - train_final_value: 224214.859375, train_drawdown: -0.32945240752550414, train_sharpe: 0.7686759382900588, train_cumulative: 2.24214859375\n",
      "=================================\n",
      "Initial portfolio value: 100000\n",
      "Final portfolio value: 124021.5625\n",
      "Final accumulative portfolio return: 1.240215625\n",
      "Maximum DrawDown: -0.14679294117860442\n",
      "Sharpe ratio: 0.8356403616159285\n",
      "=================================\n",
      "Metrics - test_final_value: 124021.5625, test_drawdown: -0.14679294117860442, test_sharpe: 0.837527208036297, test_cumulative: 1.240215625\n",
      "Training model with TIME_WINDOW=60, K_SIZE=3, CONV_MID=10, CONV_FINAL=5, LEARNING_RATE=0.02\n"
     ]
    },
    {
     "name": "stderr",
     "output_type": "stream",
     "text": [
      "C:\\Users\\xutia\\AppData\\Local\\Temp\\ipykernel_21240\\3616600396.py:59: FutureWarning: You are using `torch.load` with `weights_only=False` (the current default value), which uses the default pickle module implicitly. It is possible to construct malicious pickle data which will execute arbitrary code during unpickling (See https://github.com/pytorch/pytorch/blob/main/SECURITY.md#untrusted-models for more details). In a future release, the default value for `weights_only` will be flipped to `True`. This limits the functions that could be executed during unpickling. Arbitrary objects will no longer be allowed to be loaded via this mode unless they are explicitly allowlisted by the user via `torch.serialization.add_safe_globals`. We recommend you start setting `weights_only=True` for any use case where you don't have full control of the loaded file. Please open an issue on GitHub for any issues related to this experimental feature.\n",
      "  EIIE_policy.load_state_dict(torch.load(model_filename))\n"
     ]
    },
    {
     "name": "stdout",
     "output_type": "stream",
     "text": [
      "=================================\n",
      "Initial portfolio value: 100000\n",
      "Final portfolio value: 228754.734375\n",
      "Final accumulative portfolio return: 2.28754734375\n",
      "Maximum DrawDown: -0.33833284447637024\n",
      "Sharpe ratio: 0.7676041153674713\n",
      "=================================\n",
      "Metrics - train_final_value: 228754.734375, train_drawdown: -0.3383328444763702, train_sharpe: 0.7680544266728214, train_cumulative: 2.28754734375\n",
      "=================================\n",
      "Initial portfolio value: 100000\n",
      "Final portfolio value: 124674.015625\n",
      "Final accumulative portfolio return: 1.24674015625\n",
      "Maximum DrawDown: -0.15126780668941442\n",
      "Sharpe ratio: 0.8337106474775291\n",
      "=================================\n",
      "Metrics - test_final_value: 124674.015625, test_drawdown: -0.15126780668941445, test_sharpe: 0.8355940754263806, test_cumulative: 1.24674015625\n",
      "Training model with TIME_WINDOW=60, K_SIZE=3, CONV_MID=10, CONV_FINAL=10, LEARNING_RATE=0.01\n"
     ]
    },
    {
     "name": "stderr",
     "output_type": "stream",
     "text": [
      "C:\\Users\\xutia\\AppData\\Local\\Temp\\ipykernel_21240\\3616600396.py:59: FutureWarning: You are using `torch.load` with `weights_only=False` (the current default value), which uses the default pickle module implicitly. It is possible to construct malicious pickle data which will execute arbitrary code during unpickling (See https://github.com/pytorch/pytorch/blob/main/SECURITY.md#untrusted-models for more details). In a future release, the default value for `weights_only` will be flipped to `True`. This limits the functions that could be executed during unpickling. Arbitrary objects will no longer be allowed to be loaded via this mode unless they are explicitly allowlisted by the user via `torch.serialization.add_safe_globals`. We recommend you start setting `weights_only=True` for any use case where you don't have full control of the loaded file. Please open an issue on GitHub for any issues related to this experimental feature.\n",
      "  EIIE_policy.load_state_dict(torch.load(model_filename))\n"
     ]
    },
    {
     "name": "stdout",
     "output_type": "stream",
     "text": [
      "=================================\n",
      "Initial portfolio value: 100000\n",
      "Final portfolio value: 706387.25\n",
      "Final accumulative portfolio return: 7.0638725\n",
      "Maximum DrawDown: -0.27692510747211263\n",
      "Sharpe ratio: 1.2290035767551943\n",
      "=================================\n",
      "Metrics - train_final_value: 706387.25, train_drawdown: -0.27692510747211263, train_sharpe: 1.2297274055758538, train_cumulative: 7.0638725\n",
      "=================================\n",
      "Initial portfolio value: 100000\n",
      "Final portfolio value: 203687.90625\n",
      "Final accumulative portfolio return: 2.0368790625\n",
      "Maximum DrawDown: -0.21579237281899588\n",
      "Sharpe ratio: 1.5452992885918904\n",
      "=================================\n",
      "Metrics - test_final_value: 203687.90625, test_drawdown: -0.21579237281899583, test_sharpe: 1.5488048395884033, test_cumulative: 2.0368790625\n",
      "Training model with TIME_WINDOW=60, K_SIZE=3, CONV_MID=10, CONV_FINAL=10, LEARNING_RATE=0.02\n"
     ]
    },
    {
     "name": "stderr",
     "output_type": "stream",
     "text": [
      "C:\\Users\\xutia\\AppData\\Local\\Temp\\ipykernel_21240\\3616600396.py:59: FutureWarning: You are using `torch.load` with `weights_only=False` (the current default value), which uses the default pickle module implicitly. It is possible to construct malicious pickle data which will execute arbitrary code during unpickling (See https://github.com/pytorch/pytorch/blob/main/SECURITY.md#untrusted-models for more details). In a future release, the default value for `weights_only` will be flipped to `True`. This limits the functions that could be executed during unpickling. Arbitrary objects will no longer be allowed to be loaded via this mode unless they are explicitly allowlisted by the user via `torch.serialization.add_safe_globals`. We recommend you start setting `weights_only=True` for any use case where you don't have full control of the loaded file. Please open an issue on GitHub for any issues related to this experimental feature.\n",
      "  EIIE_policy.load_state_dict(torch.load(model_filename))\n"
     ]
    },
    {
     "name": "stdout",
     "output_type": "stream",
     "text": [
      "=================================\n",
      "Initial portfolio value: 100000\n",
      "Final portfolio value: 231243.765625\n",
      "Final accumulative portfolio return: 2.31243765625\n",
      "Maximum DrawDown: -0.34181595409142473\n",
      "Sharpe ratio: 0.7685555292794888\n",
      "=================================\n",
      "Metrics - train_final_value: 231243.765625, train_drawdown: -0.3418159540914247, train_sharpe: 0.7690067598308024, train_cumulative: 2.31243765625\n",
      "=================================\n",
      "Initial portfolio value: 100000\n",
      "Final portfolio value: 125089.046875\n",
      "Final accumulative portfolio return: 1.25089046875\n",
      "Maximum DrawDown: -0.15327335159685873\n",
      "Sharpe ratio: 0.8355783412585078\n",
      "=================================\n",
      "Metrics - test_final_value: 125089.046875, test_drawdown: -0.15327335159685873, test_sharpe: 0.8374659507447737, test_cumulative: 1.25089046875\n",
      "Training model with TIME_WINDOW=60, K_SIZE=3, CONV_MID=10, CONV_FINAL=20, LEARNING_RATE=0.01\n"
     ]
    },
    {
     "name": "stderr",
     "output_type": "stream",
     "text": [
      "C:\\Users\\xutia\\AppData\\Local\\Temp\\ipykernel_21240\\3616600396.py:59: FutureWarning: You are using `torch.load` with `weights_only=False` (the current default value), which uses the default pickle module implicitly. It is possible to construct malicious pickle data which will execute arbitrary code during unpickling (See https://github.com/pytorch/pytorch/blob/main/SECURITY.md#untrusted-models for more details). In a future release, the default value for `weights_only` will be flipped to `True`. This limits the functions that could be executed during unpickling. Arbitrary objects will no longer be allowed to be loaded via this mode unless they are explicitly allowlisted by the user via `torch.serialization.add_safe_globals`. We recommend you start setting `weights_only=True` for any use case where you don't have full control of the loaded file. Please open an issue on GitHub for any issues related to this experimental feature.\n",
      "  EIIE_policy.load_state_dict(torch.load(model_filename))\n"
     ]
    },
    {
     "name": "stdout",
     "output_type": "stream",
     "text": [
      "=================================\n",
      "Initial portfolio value: 100000\n",
      "Final portfolio value: 688825.25\n",
      "Final accumulative portfolio return: 6.8882525\n",
      "Maximum DrawDown: -0.2769098691174544\n",
      "Sharpe ratio: 1.2030822219232409\n",
      "=================================\n",
      "Metrics - train_final_value: 688825.25, train_drawdown: -0.2769098691174544, train_sharpe: 1.203791369088397, train_cumulative: 6.8882525\n",
      "=================================\n",
      "Initial portfolio value: 100000\n",
      "Final portfolio value: 209587.25\n",
      "Final accumulative portfolio return: 2.0958725\n",
      "Maximum DrawDown: -0.17498570134362113\n",
      "Sharpe ratio: 1.6426014832053644\n",
      "=================================\n",
      "Metrics - test_final_value: 209587.25, test_drawdown: -0.17498570134362115, test_sharpe: 1.6463265609650488, test_cumulative: 2.0958725\n",
      "Training model with TIME_WINDOW=60, K_SIZE=3, CONV_MID=10, CONV_FINAL=20, LEARNING_RATE=0.02\n",
      "Error encountered with combination policy_EIIE_60_3_10_20: [Errno 2] No such file or directory: 'policy_EIIE_60_3_10_20_0.02.pt'\n",
      "Training model with TIME_WINDOW=60, K_SIZE=3, CONV_MID=20, CONV_FINAL=5, LEARNING_RATE=0.01\n"
     ]
    },
    {
     "name": "stderr",
     "output_type": "stream",
     "text": [
      "C:\\Users\\xutia\\AppData\\Local\\Temp\\ipykernel_21240\\3616600396.py:59: FutureWarning: You are using `torch.load` with `weights_only=False` (the current default value), which uses the default pickle module implicitly. It is possible to construct malicious pickle data which will execute arbitrary code during unpickling (See https://github.com/pytorch/pytorch/blob/main/SECURITY.md#untrusted-models for more details). In a future release, the default value for `weights_only` will be flipped to `True`. This limits the functions that could be executed during unpickling. Arbitrary objects will no longer be allowed to be loaded via this mode unless they are explicitly allowlisted by the user via `torch.serialization.add_safe_globals`. We recommend you start setting `weights_only=True` for any use case where you don't have full control of the loaded file. Please open an issue on GitHub for any issues related to this experimental feature.\n",
      "  EIIE_policy.load_state_dict(torch.load(model_filename))\n",
      "C:\\Users\\xutia\\AppData\\Local\\Temp\\ipykernel_21240\\3616600396.py:89: FutureWarning: The behavior of DataFrame concatenation with empty or all-NA entries is deprecated. In a future version, this will no longer exclude empty or all-NA columns when determining the result dtypes. To retain the old behavior, exclude the relevant entries before the concat operation.\n",
      "  results_df = pd.concat([results_df, temp_df], ignore_index=True)\n",
      "C:\\Users\\xutia\\AppData\\Local\\Temp\\ipykernel_21240\\3616600396.py:59: FutureWarning: You are using `torch.load` with `weights_only=False` (the current default value), which uses the default pickle module implicitly. It is possible to construct malicious pickle data which will execute arbitrary code during unpickling (See https://github.com/pytorch/pytorch/blob/main/SECURITY.md#untrusted-models for more details). In a future release, the default value for `weights_only` will be flipped to `True`. This limits the functions that could be executed during unpickling. Arbitrary objects will no longer be allowed to be loaded via this mode unless they are explicitly allowlisted by the user via `torch.serialization.add_safe_globals`. We recommend you start setting `weights_only=True` for any use case where you don't have full control of the loaded file. Please open an issue on GitHub for any issues related to this experimental feature.\n",
      "  EIIE_policy.load_state_dict(torch.load(model_filename))\n"
     ]
    },
    {
     "name": "stdout",
     "output_type": "stream",
     "text": [
      "=================================\n",
      "Initial portfolio value: 100000\n",
      "Final portfolio value: 224687.609375\n",
      "Final accumulative portfolio return: 2.24687609375\n",
      "Maximum DrawDown: -0.3302053373338494\n",
      "Sharpe ratio: 0.7683427983522351\n",
      "=================================\n",
      "Metrics - train_final_value: 224687.609375, train_drawdown: -0.33020533733384944, train_sharpe: 0.7687932066889054, train_cumulative: 2.24687609375\n",
      "=================================\n",
      "Initial portfolio value: 100000\n",
      "Final portfolio value: 124097.5390625\n",
      "Final accumulative portfolio return: 1.240975390625\n",
      "Maximum DrawDown: -0.147202848173015\n",
      "Sharpe ratio: 0.8358258048313758\n",
      "=================================\n",
      "Metrics - test_final_value: 124097.5390625, test_drawdown: -0.14720284817301496, test_sharpe: 0.8377114000087692, test_cumulative: 1.240975390625\n",
      "Training model with TIME_WINDOW=60, K_SIZE=3, CONV_MID=20, CONV_FINAL=5, LEARNING_RATE=0.02\n"
     ]
    },
    {
     "name": "stderr",
     "output_type": "stream",
     "text": [
      "C:\\Users\\xutia\\AppData\\Local\\Temp\\ipykernel_21240\\3616600396.py:59: FutureWarning: You are using `torch.load` with `weights_only=False` (the current default value), which uses the default pickle module implicitly. It is possible to construct malicious pickle data which will execute arbitrary code during unpickling (See https://github.com/pytorch/pytorch/blob/main/SECURITY.md#untrusted-models for more details). In a future release, the default value for `weights_only` will be flipped to `True`. This limits the functions that could be executed during unpickling. Arbitrary objects will no longer be allowed to be loaded via this mode unless they are explicitly allowlisted by the user via `torch.serialization.add_safe_globals`. We recommend you start setting `weights_only=True` for any use case where you don't have full control of the loaded file. Please open an issue on GitHub for any issues related to this experimental feature.\n",
      "  EIIE_policy.load_state_dict(torch.load(model_filename))\n"
     ]
    },
    {
     "name": "stdout",
     "output_type": "stream",
     "text": [
      "=================================\n",
      "Initial portfolio value: 100000\n",
      "Final portfolio value: 472492.0625\n",
      "Final accumulative portfolio return: 4.724920625\n",
      "Maximum DrawDown: -0.3851588899480991\n",
      "Sharpe ratio: 0.9415172752370687\n",
      "=================================\n",
      "Metrics - train_final_value: 472492.0625, train_drawdown: -0.3851588899480991, train_sharpe: 0.9420715451201837, train_cumulative: 4.724920625\n",
      "=================================\n",
      "Initial portfolio value: 100000\n",
      "Final portfolio value: 224418.75\n",
      "Final accumulative portfolio return: 2.2441875\n",
      "Maximum DrawDown: -0.17498951561360043\n",
      "Sharpe ratio: 1.7433259060094284\n",
      "=================================\n",
      "Metrics - test_final_value: 224418.75, test_drawdown: -0.17498951561360038, test_sharpe: 1.747285700589246, test_cumulative: 2.2441875\n",
      "Training model with TIME_WINDOW=60, K_SIZE=3, CONV_MID=20, CONV_FINAL=10, LEARNING_RATE=0.01\n"
     ]
    },
    {
     "name": "stderr",
     "output_type": "stream",
     "text": [
      "C:\\Users\\xutia\\AppData\\Local\\Temp\\ipykernel_21240\\3616600396.py:59: FutureWarning: You are using `torch.load` with `weights_only=False` (the current default value), which uses the default pickle module implicitly. It is possible to construct malicious pickle data which will execute arbitrary code during unpickling (See https://github.com/pytorch/pytorch/blob/main/SECURITY.md#untrusted-models for more details). In a future release, the default value for `weights_only` will be flipped to `True`. This limits the functions that could be executed during unpickling. Arbitrary objects will no longer be allowed to be loaded via this mode unless they are explicitly allowlisted by the user via `torch.serialization.add_safe_globals`. We recommend you start setting `weights_only=True` for any use case where you don't have full control of the loaded file. Please open an issue on GitHub for any issues related to this experimental feature.\n",
      "  EIIE_policy.load_state_dict(torch.load(model_filename))\n"
     ]
    },
    {
     "name": "stdout",
     "output_type": "stream",
     "text": [
      "=================================\n",
      "Initial portfolio value: 100000\n",
      "Final portfolio value: 100000.0\n",
      "Final accumulative portfolio return: 1.0\n",
      "Maximum DrawDown: 0.0\n",
      "Sharpe ratio: nan\n",
      "=================================\n"
     ]
    },
    {
     "name": "stderr",
     "output_type": "stream",
     "text": [
      "C:\\Users\\xutia\\AppData\\Roaming\\Python\\Python310\\site-packages\\quantstats\\stats.py:294: RuntimeWarning: invalid value encountered in scalar divide\n",
      "  res = returns.mean() / divisor\n",
      "C:\\Users\\xutia\\AppData\\Local\\Temp\\ipykernel_21240\\1884595116.py:70: RuntimeWarning: invalid value encountered in scalar divide\n",
      "  sharpe_ratio = np.mean(excess_returns) / np.std(excess_returns)\n"
     ]
    },
    {
     "name": "stdout",
     "output_type": "stream",
     "text": [
      "Metrics - train_final_value: 100000.0, train_drawdown: 0.0, train_sharpe: nan, train_cumulative: 1.0\n",
      "=================================\n",
      "Initial portfolio value: 100000\n",
      "Final portfolio value: 100000.0\n",
      "Final accumulative portfolio return: 1.0\n",
      "Maximum DrawDown: 0.0\n",
      "Sharpe ratio: nan\n",
      "=================================\n"
     ]
    },
    {
     "name": "stderr",
     "output_type": "stream",
     "text": [
      "C:\\Users\\xutia\\AppData\\Roaming\\Python\\Python310\\site-packages\\quantstats\\stats.py:294: RuntimeWarning: invalid value encountered in scalar divide\n",
      "  res = returns.mean() / divisor\n",
      "C:\\Users\\xutia\\AppData\\Local\\Temp\\ipykernel_21240\\1884595116.py:70: RuntimeWarning: invalid value encountered in scalar divide\n",
      "  sharpe_ratio = np.mean(excess_returns) / np.std(excess_returns)\n",
      "C:\\Users\\xutia\\AppData\\Local\\Temp\\ipykernel_21240\\3616600396.py:59: FutureWarning: You are using `torch.load` with `weights_only=False` (the current default value), which uses the default pickle module implicitly. It is possible to construct malicious pickle data which will execute arbitrary code during unpickling (See https://github.com/pytorch/pytorch/blob/main/SECURITY.md#untrusted-models for more details). In a future release, the default value for `weights_only` will be flipped to `True`. This limits the functions that could be executed during unpickling. Arbitrary objects will no longer be allowed to be loaded via this mode unless they are explicitly allowlisted by the user via `torch.serialization.add_safe_globals`. We recommend you start setting `weights_only=True` for any use case where you don't have full control of the loaded file. Please open an issue on GitHub for any issues related to this experimental feature.\n",
      "  EIIE_policy.load_state_dict(torch.load(model_filename))\n"
     ]
    },
    {
     "name": "stdout",
     "output_type": "stream",
     "text": [
      "Metrics - test_final_value: 100000.0, test_drawdown: 0.0, test_sharpe: nan, test_cumulative: 1.0\n",
      "Training model with TIME_WINDOW=60, K_SIZE=3, CONV_MID=20, CONV_FINAL=10, LEARNING_RATE=0.02\n",
      "=================================\n",
      "Initial portfolio value: 100000\n",
      "Final portfolio value: 495425.6875\n",
      "Final accumulative portfolio return: 4.954256875\n",
      "Maximum DrawDown: -0.5120476074442514\n",
      "Sharpe ratio: 0.9165657865556556\n",
      "=================================\n",
      "Metrics - train_final_value: 495425.6875, train_drawdown: -0.5120476074442514, train_sharpe: 0.9171044990664143, train_cumulative: 4.954256875\n",
      "=================================\n",
      "Initial portfolio value: 100000\n",
      "Final portfolio value: 67719.2265625\n",
      "Final accumulative portfolio return: 0.677192265625\n",
      "Maximum DrawDown: -0.4786293642213413\n",
      "Sharpe ratio: -0.7243474802174378\n",
      "=================================\n",
      "Metrics - test_final_value: 67719.2265625, test_drawdown: -0.4786293642213413, test_sharpe: -0.7259847680701347, test_cumulative: 0.677192265625\n",
      "Training model with TIME_WINDOW=60, K_SIZE=3, CONV_MID=20, CONV_FINAL=20, LEARNING_RATE=0.01\n"
     ]
    },
    {
     "name": "stderr",
     "output_type": "stream",
     "text": [
      "C:\\Users\\xutia\\AppData\\Local\\Temp\\ipykernel_21240\\3616600396.py:59: FutureWarning: You are using `torch.load` with `weights_only=False` (the current default value), which uses the default pickle module implicitly. It is possible to construct malicious pickle data which will execute arbitrary code during unpickling (See https://github.com/pytorch/pytorch/blob/main/SECURITY.md#untrusted-models for more details). In a future release, the default value for `weights_only` will be flipped to `True`. This limits the functions that could be executed during unpickling. Arbitrary objects will no longer be allowed to be loaded via this mode unless they are explicitly allowlisted by the user via `torch.serialization.add_safe_globals`. We recommend you start setting `weights_only=True` for any use case where you don't have full control of the loaded file. Please open an issue on GitHub for any issues related to this experimental feature.\n",
      "  EIIE_policy.load_state_dict(torch.load(model_filename))\n"
     ]
    },
    {
     "name": "stdout",
     "output_type": "stream",
     "text": [
      "=================================\n",
      "Initial portfolio value: 100000\n",
      "Final portfolio value: 402127.8125\n",
      "Final accumulative portfolio return: 4.021278125\n",
      "Maximum DrawDown: -0.308327141523163\n",
      "Sharpe ratio: 0.9428723165738482\n",
      "=================================\n",
      "Metrics - train_final_value: 402127.8125, train_drawdown: -0.30832714152316304, train_sharpe: 0.9434278133875511, train_cumulative: 4.021278125\n",
      "=================================\n",
      "Initial portfolio value: 100000\n",
      "Final portfolio value: 124147.203125\n",
      "Final accumulative portfolio return: 1.24147203125\n",
      "Maximum DrawDown: -0.2823420093437431\n",
      "Sharpe ratio: 0.5835366989641357\n",
      "=================================\n",
      "Metrics - test_final_value: 124147.203125, test_drawdown: -0.28234200934374304, test_sharpe: 0.5848533784318137, test_cumulative: 1.24147203125\n",
      "Training model with TIME_WINDOW=60, K_SIZE=3, CONV_MID=20, CONV_FINAL=20, LEARNING_RATE=0.02\n"
     ]
    },
    {
     "name": "stderr",
     "output_type": "stream",
     "text": [
      "C:\\Users\\xutia\\AppData\\Local\\Temp\\ipykernel_21240\\3616600396.py:59: FutureWarning: You are using `torch.load` with `weights_only=False` (the current default value), which uses the default pickle module implicitly. It is possible to construct malicious pickle data which will execute arbitrary code during unpickling (See https://github.com/pytorch/pytorch/blob/main/SECURITY.md#untrusted-models for more details). In a future release, the default value for `weights_only` will be flipped to `True`. This limits the functions that could be executed during unpickling. Arbitrary objects will no longer be allowed to be loaded via this mode unless they are explicitly allowlisted by the user via `torch.serialization.add_safe_globals`. We recommend you start setting `weights_only=True` for any use case where you don't have full control of the loaded file. Please open an issue on GitHub for any issues related to this experimental feature.\n",
      "  EIIE_policy.load_state_dict(torch.load(model_filename))\n"
     ]
    },
    {
     "name": "stdout",
     "output_type": "stream",
     "text": [
      "=================================\n",
      "Initial portfolio value: 100000\n",
      "Final portfolio value: 267081.0625\n",
      "Final accumulative portfolio return: 2.670810625\n",
      "Maximum DrawDown: -0.2736627622947362\n",
      "Sharpe ratio: 0.7906046332069449\n",
      "=================================\n",
      "Metrics - train_final_value: 267081.0625, train_drawdown: -0.2736627622947362, train_sharpe: 0.7910693383520774, train_cumulative: 2.670810625\n",
      "=================================\n",
      "Initial portfolio value: 100000\n",
      "Final portfolio value: 185995.890625\n",
      "Final accumulative portfolio return: 1.85995890625\n",
      "Maximum DrawDown: -0.21050637482595624\n",
      "Sharpe ratio: 1.3215283278984955\n",
      "=================================\n",
      "Metrics - test_final_value: 185995.890625, test_drawdown: -0.21050637482595624, test_sharpe: 1.3245204918278053, test_cumulative: 1.85995890625\n",
      "Training model with TIME_WINDOW=60, K_SIZE=4, CONV_MID=5, CONV_FINAL=5, LEARNING_RATE=0.01\n"
     ]
    },
    {
     "name": "stderr",
     "output_type": "stream",
     "text": [
      "C:\\Users\\xutia\\AppData\\Local\\Temp\\ipykernel_21240\\3616600396.py:59: FutureWarning: You are using `torch.load` with `weights_only=False` (the current default value), which uses the default pickle module implicitly. It is possible to construct malicious pickle data which will execute arbitrary code during unpickling (See https://github.com/pytorch/pytorch/blob/main/SECURITY.md#untrusted-models for more details). In a future release, the default value for `weights_only` will be flipped to `True`. This limits the functions that could be executed during unpickling. Arbitrary objects will no longer be allowed to be loaded via this mode unless they are explicitly allowlisted by the user via `torch.serialization.add_safe_globals`. We recommend you start setting `weights_only=True` for any use case where you don't have full control of the loaded file. Please open an issue on GitHub for any issues related to this experimental feature.\n",
      "  EIIE_policy.load_state_dict(torch.load(model_filename))\n"
     ]
    },
    {
     "name": "stdout",
     "output_type": "stream",
     "text": [
      "=================================\n",
      "Initial portfolio value: 100000\n",
      "Final portfolio value: 229550.375\n",
      "Final accumulative portfolio return: 2.29550375\n",
      "Maximum DrawDown: -0.33794044312999894\n",
      "Sharpe ratio: 0.7693869131404731\n",
      "=================================\n",
      "Metrics - train_final_value: 229550.375, train_drawdown: -0.33794044312999894, train_sharpe: 0.7698381231587073, train_cumulative: 2.29550375\n",
      "=================================\n",
      "Initial portfolio value: 100000\n",
      "Final portfolio value: 124875.46875\n",
      "Final accumulative portfolio return: 1.2487546875\n",
      "Maximum DrawDown: -0.15141014896331872\n",
      "Sharpe ratio: 0.837671924597872\n",
      "=================================\n",
      "Metrics - test_final_value: 124875.46875, test_drawdown: -0.1514101489633187, test_sharpe: 0.8395675789365339, test_cumulative: 1.2487546875\n",
      "Training model with TIME_WINDOW=60, K_SIZE=4, CONV_MID=5, CONV_FINAL=5, LEARNING_RATE=0.02\n"
     ]
    },
    {
     "name": "stderr",
     "output_type": "stream",
     "text": [
      "C:\\Users\\xutia\\AppData\\Local\\Temp\\ipykernel_21240\\3616600396.py:59: FutureWarning: You are using `torch.load` with `weights_only=False` (the current default value), which uses the default pickle module implicitly. It is possible to construct malicious pickle data which will execute arbitrary code during unpickling (See https://github.com/pytorch/pytorch/blob/main/SECURITY.md#untrusted-models for more details). In a future release, the default value for `weights_only` will be flipped to `True`. This limits the functions that could be executed during unpickling. Arbitrary objects will no longer be allowed to be loaded via this mode unless they are explicitly allowlisted by the user via `torch.serialization.add_safe_globals`. We recommend you start setting `weights_only=True` for any use case where you don't have full control of the loaded file. Please open an issue on GitHub for any issues related to this experimental feature.\n",
      "  EIIE_policy.load_state_dict(torch.load(model_filename))\n"
     ]
    },
    {
     "name": "stdout",
     "output_type": "stream",
     "text": [
      "=================================\n",
      "Initial portfolio value: 100000\n",
      "Final portfolio value: 880623.0\n",
      "Final accumulative portfolio return: 8.80623\n",
      "Maximum DrawDown: -0.3142729542751008\n",
      "Sharpe ratio: 1.324565497315762\n",
      "=================================\n",
      "Metrics - train_final_value: 880623.0, train_drawdown: -0.3142729542751009, train_sharpe: 1.3253460564787833, train_cumulative: 8.80623\n",
      "=================================\n",
      "Initial portfolio value: 100000\n",
      "Final portfolio value: 187620.546875\n",
      "Final accumulative portfolio return: 1.87620546875\n",
      "Maximum DrawDown: -0.1965725808233747\n",
      "Sharpe ratio: 1.3600756560821434\n",
      "=================================\n",
      "Metrics - test_final_value: 187620.546875, test_drawdown: -0.19657258082337473, test_sharpe: 1.3631571881596298, test_cumulative: 1.87620546875\n",
      "Training model with TIME_WINDOW=60, K_SIZE=4, CONV_MID=5, CONV_FINAL=10, LEARNING_RATE=0.01\n"
     ]
    },
    {
     "name": "stderr",
     "output_type": "stream",
     "text": [
      "C:\\Users\\xutia\\AppData\\Local\\Temp\\ipykernel_21240\\3616600396.py:59: FutureWarning: You are using `torch.load` with `weights_only=False` (the current default value), which uses the default pickle module implicitly. It is possible to construct malicious pickle data which will execute arbitrary code during unpickling (See https://github.com/pytorch/pytorch/blob/main/SECURITY.md#untrusted-models for more details). In a future release, the default value for `weights_only` will be flipped to `True`. This limits the functions that could be executed during unpickling. Arbitrary objects will no longer be allowed to be loaded via this mode unless they are explicitly allowlisted by the user via `torch.serialization.add_safe_globals`. We recommend you start setting `weights_only=True` for any use case where you don't have full control of the loaded file. Please open an issue on GitHub for any issues related to this experimental feature.\n",
      "  EIIE_policy.load_state_dict(torch.load(model_filename))\n"
     ]
    },
    {
     "name": "stdout",
     "output_type": "stream",
     "text": [
      "=================================\n",
      "Initial portfolio value: 100000\n",
      "Final portfolio value: 230680.71875\n",
      "Final accumulative portfolio return: 2.3068071875\n",
      "Maximum DrawDown: -0.3397180733905478\n",
      "Sharpe ratio: 0.7696127063573847\n",
      "=================================\n",
      "Metrics - train_final_value: 230680.71875, train_drawdown: -0.3397180733905478, train_sharpe: 0.7700658196099582, train_cumulative: 2.3068071875\n",
      "=================================\n",
      "Initial portfolio value: 100000\n",
      "Final portfolio value: 125055.3828125\n",
      "Final accumulative portfolio return: 1.250553828125\n",
      "Maximum DrawDown: -0.15237401702206121\n",
      "Sharpe ratio: 0.8381208265523201\n",
      "=================================\n",
      "Metrics - test_final_value: 125055.3828125, test_drawdown: -0.15237401702206121, test_sharpe: 0.8400118234430992, test_cumulative: 1.250553828125\n",
      "Training model with TIME_WINDOW=60, K_SIZE=4, CONV_MID=5, CONV_FINAL=10, LEARNING_RATE=0.02\n"
     ]
    },
    {
     "name": "stderr",
     "output_type": "stream",
     "text": [
      "C:\\Users\\xutia\\AppData\\Local\\Temp\\ipykernel_21240\\3616600396.py:59: FutureWarning: You are using `torch.load` with `weights_only=False` (the current default value), which uses the default pickle module implicitly. It is possible to construct malicious pickle data which will execute arbitrary code during unpickling (See https://github.com/pytorch/pytorch/blob/main/SECURITY.md#untrusted-models for more details). In a future release, the default value for `weights_only` will be flipped to `True`. This limits the functions that could be executed during unpickling. Arbitrary objects will no longer be allowed to be loaded via this mode unless they are explicitly allowlisted by the user via `torch.serialization.add_safe_globals`. We recommend you start setting `weights_only=True` for any use case where you don't have full control of the loaded file. Please open an issue on GitHub for any issues related to this experimental feature.\n",
      "  EIIE_policy.load_state_dict(torch.load(model_filename))\n"
     ]
    },
    {
     "name": "stdout",
     "output_type": "stream",
     "text": [
      "=================================\n",
      "Initial portfolio value: 100000\n",
      "Final portfolio value: 232716.546875\n",
      "Final accumulative portfolio return: 2.32716546875\n",
      "Maximum DrawDown: -0.3438724099387046\n",
      "Sharpe ratio: 0.7690825906503981\n",
      "=================================\n",
      "Metrics - train_final_value: 232716.546875, train_drawdown: -0.34387240993870455, train_sharpe: 0.7695345231308918, train_cumulative: 2.32716546875\n",
      "=================================\n",
      "Initial portfolio value: 100000\n",
      "Final portfolio value: 125332.6015625\n",
      "Final accumulative portfolio return: 1.253326015625\n",
      "Maximum DrawDown: -0.15445132224413383\n",
      "Sharpe ratio: 0.836656821399534\n",
      "=================================\n",
      "Metrics - test_final_value: 125332.6015625, test_drawdown: -0.15445132224413385, test_sharpe: 0.8385443932618011, test_cumulative: 1.253326015625\n",
      "Training model with TIME_WINDOW=60, K_SIZE=4, CONV_MID=5, CONV_FINAL=20, LEARNING_RATE=0.01\n"
     ]
    },
    {
     "name": "stderr",
     "output_type": "stream",
     "text": [
      "C:\\Users\\xutia\\AppData\\Local\\Temp\\ipykernel_21240\\3616600396.py:59: FutureWarning: You are using `torch.load` with `weights_only=False` (the current default value), which uses the default pickle module implicitly. It is possible to construct malicious pickle data which will execute arbitrary code during unpickling (See https://github.com/pytorch/pytorch/blob/main/SECURITY.md#untrusted-models for more details). In a future release, the default value for `weights_only` will be flipped to `True`. This limits the functions that could be executed during unpickling. Arbitrary objects will no longer be allowed to be loaded via this mode unless they are explicitly allowlisted by the user via `torch.serialization.add_safe_globals`. We recommend you start setting `weights_only=True` for any use case where you don't have full control of the loaded file. Please open an issue on GitHub for any issues related to this experimental feature.\n",
      "  EIIE_policy.load_state_dict(torch.load(model_filename))\n"
     ]
    },
    {
     "name": "stdout",
     "output_type": "stream",
     "text": [
      "=================================\n",
      "Initial portfolio value: 100000\n",
      "Final portfolio value: 236734.8125\n",
      "Final accumulative portfolio return: 2.367348125\n",
      "Maximum DrawDown: -0.3509674069069304\n",
      "Sharpe ratio: 0.7690664241129788\n",
      "=================================\n",
      "Metrics - train_final_value: 236734.8125, train_drawdown: -0.35096740690693035, train_sharpe: 0.7695189836500301, train_cumulative: 2.367348125\n",
      "=================================\n",
      "Initial portfolio value: 100000\n",
      "Final portfolio value: 125902.59375\n",
      "Final accumulative portfolio return: 1.2590259375\n",
      "Maximum DrawDown: -0.15831497709219355\n",
      "Sharpe ratio: 0.8351434567046732\n",
      "=================================\n",
      "Metrics - test_final_value: 125902.59375, test_drawdown: -0.15831497709219355, test_sharpe: 0.8370295129827675, test_cumulative: 1.2590259375\n",
      "Training model with TIME_WINDOW=60, K_SIZE=4, CONV_MID=5, CONV_FINAL=20, LEARNING_RATE=0.02\n"
     ]
    },
    {
     "name": "stderr",
     "output_type": "stream",
     "text": [
      "C:\\Users\\xutia\\AppData\\Local\\Temp\\ipykernel_21240\\3616600396.py:59: FutureWarning: You are using `torch.load` with `weights_only=False` (the current default value), which uses the default pickle module implicitly. It is possible to construct malicious pickle data which will execute arbitrary code during unpickling (See https://github.com/pytorch/pytorch/blob/main/SECURITY.md#untrusted-models for more details). In a future release, the default value for `weights_only` will be flipped to `True`. This limits the functions that could be executed during unpickling. Arbitrary objects will no longer be allowed to be loaded via this mode unless they are explicitly allowlisted by the user via `torch.serialization.add_safe_globals`. We recommend you start setting `weights_only=True` for any use case where you don't have full control of the loaded file. Please open an issue on GitHub for any issues related to this experimental feature.\n",
      "  EIIE_policy.load_state_dict(torch.load(model_filename))\n"
     ]
    },
    {
     "name": "stdout",
     "output_type": "stream",
     "text": [
      "=================================\n",
      "Initial portfolio value: 100000\n",
      "Final portfolio value: 545615.625\n",
      "Final accumulative portfolio return: 5.45615625\n",
      "Maximum DrawDown: -0.3851588595321408\n",
      "Sharpe ratio: 1.0453015785123196\n",
      "=================================\n",
      "Metrics - train_final_value: 545615.625, train_drawdown: -0.3851588595321408, train_sharpe: 1.0459164578515545, train_cumulative: 5.45615625\n",
      "=================================\n",
      "Initial portfolio value: 100000\n",
      "Final portfolio value: 76123.2265625\n",
      "Final accumulative portfolio return: 0.761232265625\n",
      "Maximum DrawDown: -0.47958168993657735\n",
      "Sharpe ratio: -0.45329481126850457\n",
      "=================================\n",
      "Metrics - test_final_value: 76123.2265625, test_drawdown: -0.4795816899365774, test_sharpe: -0.4543188255493939, test_cumulative: 0.761232265625\n",
      "Training model with TIME_WINDOW=60, K_SIZE=4, CONV_MID=10, CONV_FINAL=5, LEARNING_RATE=0.01\n"
     ]
    },
    {
     "name": "stderr",
     "output_type": "stream",
     "text": [
      "C:\\Users\\xutia\\AppData\\Local\\Temp\\ipykernel_21240\\3616600396.py:59: FutureWarning: You are using `torch.load` with `weights_only=False` (the current default value), which uses the default pickle module implicitly. It is possible to construct malicious pickle data which will execute arbitrary code during unpickling (See https://github.com/pytorch/pytorch/blob/main/SECURITY.md#untrusted-models for more details). In a future release, the default value for `weights_only` will be flipped to `True`. This limits the functions that could be executed during unpickling. Arbitrary objects will no longer be allowed to be loaded via this mode unless they are explicitly allowlisted by the user via `torch.serialization.add_safe_globals`. We recommend you start setting `weights_only=True` for any use case where you don't have full control of the loaded file. Please open an issue on GitHub for any issues related to this experimental feature.\n",
      "  EIIE_policy.load_state_dict(torch.load(model_filename))\n"
     ]
    },
    {
     "name": "stdout",
     "output_type": "stream",
     "text": [
      "=================================\n",
      "Initial portfolio value: 100000\n",
      "Final portfolio value: 225556.03125\n",
      "Final accumulative portfolio return: 2.2555603125\n",
      "Maximum DrawDown: -0.3316062441901465\n",
      "Sharpe ratio: 0.7685233293497101\n",
      "=================================\n",
      "Metrics - train_final_value: 225556.03125, train_drawdown: -0.3316062441901465, train_sharpe: 0.7689738802514354, train_cumulative: 2.2555603125\n",
      "=================================\n",
      "Initial portfolio value: 100000\n",
      "Final portfolio value: 124237.5234375\n",
      "Final accumulative portfolio return: 1.242375234375\n",
      "Maximum DrawDown: -0.14796204208482466\n",
      "Sharpe ratio: 0.8361532672591415\n",
      "=================================\n",
      "Metrics - test_final_value: 124237.5234375, test_drawdown: -0.14796204208482466, test_sharpe: 0.8380450715178863, test_cumulative: 1.242375234375\n",
      "Training model with TIME_WINDOW=60, K_SIZE=4, CONV_MID=10, CONV_FINAL=5, LEARNING_RATE=0.02\n"
     ]
    },
    {
     "name": "stderr",
     "output_type": "stream",
     "text": [
      "C:\\Users\\xutia\\AppData\\Local\\Temp\\ipykernel_21240\\3616600396.py:59: FutureWarning: You are using `torch.load` with `weights_only=False` (the current default value), which uses the default pickle module implicitly. It is possible to construct malicious pickle data which will execute arbitrary code during unpickling (See https://github.com/pytorch/pytorch/blob/main/SECURITY.md#untrusted-models for more details). In a future release, the default value for `weights_only` will be flipped to `True`. This limits the functions that could be executed during unpickling. Arbitrary objects will no longer be allowed to be loaded via this mode unless they are explicitly allowlisted by the user via `torch.serialization.add_safe_globals`. We recommend you start setting `weights_only=True` for any use case where you don't have full control of the loaded file. Please open an issue on GitHub for any issues related to this experimental feature.\n",
      "  EIIE_policy.load_state_dict(torch.load(model_filename))\n"
     ]
    },
    {
     "name": "stdout",
     "output_type": "stream",
     "text": [
      "=================================\n",
      "Initial portfolio value: 100000\n",
      "Final portfolio value: 916436.0625\n",
      "Final accumulative portfolio return: 9.164360625\n",
      "Maximum DrawDown: -0.28039279029468067\n",
      "Sharpe ratio: 1.3384008417970992\n",
      "=================================\n",
      "Metrics - train_final_value: 916436.0625, train_drawdown: -0.2803927902946807, train_sharpe: 1.3391891953927146, train_cumulative: 9.164360625\n",
      "=================================\n",
      "Initial portfolio value: 100000\n",
      "Final portfolio value: 152732.140625\n",
      "Final accumulative portfolio return: 1.52732140625\n",
      "Maximum DrawDown: -0.2521981544712537\n",
      "Sharpe ratio: 0.9954102290117992\n",
      "=================================\n",
      "Metrics - test_final_value: 152732.140625, test_drawdown: -0.25219815447125377, test_sharpe: 0.9976616574838729, test_cumulative: 1.52732140625\n",
      "Training model with TIME_WINDOW=60, K_SIZE=4, CONV_MID=10, CONV_FINAL=10, LEARNING_RATE=0.01\n"
     ]
    },
    {
     "name": "stderr",
     "output_type": "stream",
     "text": [
      "C:\\Users\\xutia\\AppData\\Local\\Temp\\ipykernel_21240\\3616600396.py:59: FutureWarning: You are using `torch.load` with `weights_only=False` (the current default value), which uses the default pickle module implicitly. It is possible to construct malicious pickle data which will execute arbitrary code during unpickling (See https://github.com/pytorch/pytorch/blob/main/SECURITY.md#untrusted-models for more details). In a future release, the default value for `weights_only` will be flipped to `True`. This limits the functions that could be executed during unpickling. Arbitrary objects will no longer be allowed to be loaded via this mode unless they are explicitly allowlisted by the user via `torch.serialization.add_safe_globals`. We recommend you start setting `weights_only=True` for any use case where you don't have full control of the loaded file. Please open an issue on GitHub for any issues related to this experimental feature.\n",
      "  EIIE_policy.load_state_dict(torch.load(model_filename))\n"
     ]
    },
    {
     "name": "stdout",
     "output_type": "stream",
     "text": [
      "=================================\n",
      "Initial portfolio value: 100000\n",
      "Final portfolio value: 228455.59375\n",
      "Final accumulative portfolio return: 2.2845559375\n",
      "Maximum DrawDown: -0.3362217771789344\n",
      "Sharpe ratio: 0.7691443177835353\n",
      "=================================\n",
      "Metrics - train_final_value: 228455.59375, train_drawdown: -0.3362217771789345, train_sharpe: 0.7695965214549749, train_cumulative: 2.2845559375\n",
      "=================================\n",
      "Initial portfolio value: 100000\n",
      "Final portfolio value: 124702.40625\n",
      "Final accumulative portfolio return: 1.2470240625\n",
      "Maximum DrawDown: -0.15047186484225505\n",
      "Sharpe ratio: 0.8372874685990935\n",
      "=================================\n",
      "Metrics - test_final_value: 124702.40625, test_drawdown: -0.1504718648422551, test_sharpe: 0.8391782805544423, test_cumulative: 1.2470240625\n",
      "Training model with TIME_WINDOW=60, K_SIZE=4, CONV_MID=10, CONV_FINAL=10, LEARNING_RATE=0.02\n"
     ]
    },
    {
     "name": "stderr",
     "output_type": "stream",
     "text": [
      "C:\\Users\\xutia\\AppData\\Local\\Temp\\ipykernel_21240\\3616600396.py:59: FutureWarning: You are using `torch.load` with `weights_only=False` (the current default value), which uses the default pickle module implicitly. It is possible to construct malicious pickle data which will execute arbitrary code during unpickling (See https://github.com/pytorch/pytorch/blob/main/SECURITY.md#untrusted-models for more details). In a future release, the default value for `weights_only` will be flipped to `True`. This limits the functions that could be executed during unpickling. Arbitrary objects will no longer be allowed to be loaded via this mode unless they are explicitly allowlisted by the user via `torch.serialization.add_safe_globals`. We recommend you start setting `weights_only=True` for any use case where you don't have full control of the loaded file. Please open an issue on GitHub for any issues related to this experimental feature.\n",
      "  EIIE_policy.load_state_dict(torch.load(model_filename))\n"
     ]
    },
    {
     "name": "stdout",
     "output_type": "stream",
     "text": [
      "=================================\n",
      "Initial portfolio value: 100000\n",
      "Final portfolio value: 667338.8125\n",
      "Final accumulative portfolio return: 6.673388125\n",
      "Maximum DrawDown: -0.2803931373606332\n",
      "Sharpe ratio: 1.1822278450702974\n",
      "=================================\n",
      "Metrics - train_final_value: 667338.8125, train_drawdown: -0.28039313736063315, train_sharpe: 1.1829227845029893, train_cumulative: 6.673388125\n",
      "=================================\n",
      "Initial portfolio value: 100000\n",
      "Final portfolio value: 199208.0\n",
      "Final accumulative portfolio return: 1.99208\n",
      "Maximum DrawDown: -0.21043624125515925\n",
      "Sharpe ratio: 1.5385916858841402\n",
      "=================================\n",
      "Metrics - test_final_value: 199208.0, test_drawdown: -0.2104362412551593, test_sharpe: 1.5420811155304777, test_cumulative: 1.99208\n",
      "Training model with TIME_WINDOW=60, K_SIZE=4, CONV_MID=10, CONV_FINAL=20, LEARNING_RATE=0.01\n"
     ]
    },
    {
     "name": "stderr",
     "output_type": "stream",
     "text": [
      "C:\\Users\\xutia\\AppData\\Local\\Temp\\ipykernel_21240\\3616600396.py:59: FutureWarning: You are using `torch.load` with `weights_only=False` (the current default value), which uses the default pickle module implicitly. It is possible to construct malicious pickle data which will execute arbitrary code during unpickling (See https://github.com/pytorch/pytorch/blob/main/SECURITY.md#untrusted-models for more details). In a future release, the default value for `weights_only` will be flipped to `True`. This limits the functions that could be executed during unpickling. Arbitrary objects will no longer be allowed to be loaded via this mode unless they are explicitly allowlisted by the user via `torch.serialization.add_safe_globals`. We recommend you start setting `weights_only=True` for any use case where you don't have full control of the loaded file. Please open an issue on GitHub for any issues related to this experimental feature.\n",
      "  EIIE_policy.load_state_dict(torch.load(model_filename))\n"
     ]
    },
    {
     "name": "stdout",
     "output_type": "stream",
     "text": [
      "=================================\n",
      "Initial portfolio value: 100000\n",
      "Final portfolio value: 658127.875\n",
      "Final accumulative portfolio return: 6.58127875\n",
      "Maximum DrawDown: -0.2803929181470869\n",
      "Sharpe ratio: 1.1817195856008067\n",
      "=================================\n",
      "Metrics - train_final_value: 658127.875, train_drawdown: -0.2803929181470869, train_sharpe: 1.1824156992564818, train_cumulative: 6.58127875\n",
      "=================================\n",
      "Initial portfolio value: 100000\n",
      "Final portfolio value: 126499.65625\n",
      "Final accumulative portfolio return: 1.2649965625\n",
      "Maximum DrawDown: -0.321472035743101\n",
      "Sharpe ratio: 0.6408132713974263\n",
      "=================================\n",
      "Metrics - test_final_value: 126499.65625, test_drawdown: -0.32147203574310107, test_sharpe: 0.6422613674874991, test_cumulative: 1.2649965625\n",
      "Training model with TIME_WINDOW=60, K_SIZE=4, CONV_MID=10, CONV_FINAL=20, LEARNING_RATE=0.02\n"
     ]
    },
    {
     "name": "stderr",
     "output_type": "stream",
     "text": [
      "C:\\Users\\xutia\\AppData\\Local\\Temp\\ipykernel_21240\\3616600396.py:59: FutureWarning: You are using `torch.load` with `weights_only=False` (the current default value), which uses the default pickle module implicitly. It is possible to construct malicious pickle data which will execute arbitrary code during unpickling (See https://github.com/pytorch/pytorch/blob/main/SECURITY.md#untrusted-models for more details). In a future release, the default value for `weights_only` will be flipped to `True`. This limits the functions that could be executed during unpickling. Arbitrary objects will no longer be allowed to be loaded via this mode unless they are explicitly allowlisted by the user via `torch.serialization.add_safe_globals`. We recommend you start setting `weights_only=True` for any use case where you don't have full control of the loaded file. Please open an issue on GitHub for any issues related to this experimental feature.\n",
      "  EIIE_policy.load_state_dict(torch.load(model_filename))\n"
     ]
    },
    {
     "name": "stdout",
     "output_type": "stream",
     "text": [
      "=================================\n",
      "Initial portfolio value: 100000\n",
      "Final portfolio value: 801301.125\n",
      "Final accumulative portfolio return: 8.01301125\n",
      "Maximum DrawDown: -0.35101776873207335\n",
      "Sharpe ratio: 1.2183677145665757\n",
      "=================================\n",
      "Metrics - train_final_value: 801301.125, train_drawdown: -0.3510177687320733, train_sharpe: 1.2190851372893838, train_cumulative: 8.01301125\n",
      "=================================\n",
      "Initial portfolio value: 100000\n",
      "Final portfolio value: 175093.390625\n",
      "Final accumulative portfolio return: 1.75093390625\n",
      "Maximum DrawDown: -0.2073967446567223\n",
      "Sharpe ratio: 1.3167337880700172\n",
      "=================================\n",
      "Metrics - test_final_value: 175093.390625, test_drawdown: -0.20739674465672236, test_sharpe: 1.3197167416002076, test_cumulative: 1.75093390625\n",
      "Training model with TIME_WINDOW=60, K_SIZE=4, CONV_MID=20, CONV_FINAL=5, LEARNING_RATE=0.01\n"
     ]
    },
    {
     "name": "stderr",
     "output_type": "stream",
     "text": [
      "C:\\Users\\xutia\\AppData\\Local\\Temp\\ipykernel_21240\\3616600396.py:59: FutureWarning: You are using `torch.load` with `weights_only=False` (the current default value), which uses the default pickle module implicitly. It is possible to construct malicious pickle data which will execute arbitrary code during unpickling (See https://github.com/pytorch/pytorch/blob/main/SECURITY.md#untrusted-models for more details). In a future release, the default value for `weights_only` will be flipped to `True`. This limits the functions that could be executed during unpickling. Arbitrary objects will no longer be allowed to be loaded via this mode unless they are explicitly allowlisted by the user via `torch.serialization.add_safe_globals`. We recommend you start setting `weights_only=True` for any use case where you don't have full control of the loaded file. Please open an issue on GitHub for any issues related to this experimental feature.\n",
      "  EIIE_policy.load_state_dict(torch.load(model_filename))\n"
     ]
    },
    {
     "name": "stdout",
     "output_type": "stream",
     "text": [
      "=================================\n",
      "Initial portfolio value: 100000\n",
      "Final portfolio value: 748726.5625\n",
      "Final accumulative portfolio return: 7.487265625\n",
      "Maximum DrawDown: -0.27805864796279145\n",
      "Sharpe ratio: 1.3019487238386087\n",
      "=================================\n",
      "Metrics - train_final_value: 748726.5625, train_drawdown: -0.2780586479627915, train_sharpe: 1.302716887134039, train_cumulative: 7.487265625\n",
      "=================================\n",
      "Initial portfolio value: 100000\n",
      "Final portfolio value: 78759.46875\n",
      "Final accumulative portfolio return: 0.7875946875\n",
      "Maximum DrawDown: -0.41085246638318973\n",
      "Sharpe ratio: -0.361674399804195\n",
      "=================================\n",
      "Metrics - test_final_value: 78759.46875, test_drawdown: -0.41085246638318973, test_sharpe: -0.362490534540966, test_cumulative: 0.7875946875\n",
      "Training model with TIME_WINDOW=60, K_SIZE=4, CONV_MID=20, CONV_FINAL=5, LEARNING_RATE=0.02\n"
     ]
    },
    {
     "name": "stderr",
     "output_type": "stream",
     "text": [
      "C:\\Users\\xutia\\AppData\\Local\\Temp\\ipykernel_21240\\3616600396.py:59: FutureWarning: You are using `torch.load` with `weights_only=False` (the current default value), which uses the default pickle module implicitly. It is possible to construct malicious pickle data which will execute arbitrary code during unpickling (See https://github.com/pytorch/pytorch/blob/main/SECURITY.md#untrusted-models for more details). In a future release, the default value for `weights_only` will be flipped to `True`. This limits the functions that could be executed during unpickling. Arbitrary objects will no longer be allowed to be loaded via this mode unless they are explicitly allowlisted by the user via `torch.serialization.add_safe_globals`. We recommend you start setting `weights_only=True` for any use case where you don't have full control of the loaded file. Please open an issue on GitHub for any issues related to this experimental feature.\n",
      "  EIIE_policy.load_state_dict(torch.load(model_filename))\n"
     ]
    },
    {
     "name": "stdout",
     "output_type": "stream",
     "text": [
      "=================================\n",
      "Initial portfolio value: 100000\n",
      "Final portfolio value: 467951.03125\n",
      "Final accumulative portfolio return: 4.6795103125\n",
      "Maximum DrawDown: -0.429199276619433\n",
      "Sharpe ratio: 0.9828304704934131\n",
      "=================================\n",
      "Metrics - train_final_value: 467951.03125, train_drawdown: -0.4291992766194331, train_sharpe: 0.983409830714987, train_cumulative: 4.6795103125\n",
      "=================================\n",
      "Initial portfolio value: 100000\n",
      "Final portfolio value: 63029.26953125\n",
      "Final accumulative portfolio return: 0.6302926953125\n",
      "Maximum DrawDown: -0.5578117356575567\n",
      "Sharpe ratio: -0.8578744374723265\n",
      "=================================\n",
      "Metrics - test_final_value: 63029.26953125, test_drawdown: -0.5578117356575567, test_sharpe: -0.8598138460837674, test_cumulative: 0.6302926953125\n",
      "Training model with TIME_WINDOW=60, K_SIZE=4, CONV_MID=20, CONV_FINAL=10, LEARNING_RATE=0.01\n"
     ]
    },
    {
     "name": "stderr",
     "output_type": "stream",
     "text": [
      "C:\\Users\\xutia\\AppData\\Local\\Temp\\ipykernel_21240\\3616600396.py:59: FutureWarning: You are using `torch.load` with `weights_only=False` (the current default value), which uses the default pickle module implicitly. It is possible to construct malicious pickle data which will execute arbitrary code during unpickling (See https://github.com/pytorch/pytorch/blob/main/SECURITY.md#untrusted-models for more details). In a future release, the default value for `weights_only` will be flipped to `True`. This limits the functions that could be executed during unpickling. Arbitrary objects will no longer be allowed to be loaded via this mode unless they are explicitly allowlisted by the user via `torch.serialization.add_safe_globals`. We recommend you start setting `weights_only=True` for any use case where you don't have full control of the loaded file. Please open an issue on GitHub for any issues related to this experimental feature.\n",
      "  EIIE_policy.load_state_dict(torch.load(model_filename))\n"
     ]
    },
    {
     "name": "stdout",
     "output_type": "stream",
     "text": [
      "=================================\n",
      "Initial portfolio value: 100000\n",
      "Final portfolio value: 1085212.125\n",
      "Final accumulative portfolio return: 10.85212125\n",
      "Maximum DrawDown: -0.3149455184508674\n",
      "Sharpe ratio: 1.4266263237493415\n",
      "=================================\n",
      "Metrics - train_final_value: 1085212.125, train_drawdown: -0.3149455184508674, train_sharpe: 1.4274676770561405, train_cumulative: 10.85212125\n",
      "=================================\n",
      "Initial portfolio value: 100000\n",
      "Final portfolio value: 202691.5\n",
      "Final accumulative portfolio return: 2.026915\n",
      "Maximum DrawDown: -0.18562481099120443\n",
      "Sharpe ratio: 1.4929613865144513\n",
      "=================================\n",
      "Metrics - test_final_value: 202691.5, test_drawdown: -0.18562481099120443, test_sharpe: 1.4963470482501762, test_cumulative: 2.026915\n",
      "Training model with TIME_WINDOW=60, K_SIZE=4, CONV_MID=20, CONV_FINAL=10, LEARNING_RATE=0.02\n"
     ]
    },
    {
     "name": "stderr",
     "output_type": "stream",
     "text": [
      "C:\\Users\\xutia\\AppData\\Local\\Temp\\ipykernel_21240\\3616600396.py:59: FutureWarning: You are using `torch.load` with `weights_only=False` (the current default value), which uses the default pickle module implicitly. It is possible to construct malicious pickle data which will execute arbitrary code during unpickling (See https://github.com/pytorch/pytorch/blob/main/SECURITY.md#untrusted-models for more details). In a future release, the default value for `weights_only` will be flipped to `True`. This limits the functions that could be executed during unpickling. Arbitrary objects will no longer be allowed to be loaded via this mode unless they are explicitly allowlisted by the user via `torch.serialization.add_safe_globals`. We recommend you start setting `weights_only=True` for any use case where you don't have full control of the loaded file. Please open an issue on GitHub for any issues related to this experimental feature.\n",
      "  EIIE_policy.load_state_dict(torch.load(model_filename))\n"
     ]
    },
    {
     "name": "stdout",
     "output_type": "stream",
     "text": [
      "=================================\n",
      "Initial portfolio value: 100000\n",
      "Final portfolio value: 100000.0\n",
      "Final accumulative portfolio return: 1.0\n",
      "Maximum DrawDown: 0.0\n",
      "Sharpe ratio: nan\n",
      "=================================\n"
     ]
    },
    {
     "name": "stderr",
     "output_type": "stream",
     "text": [
      "C:\\Users\\xutia\\AppData\\Roaming\\Python\\Python310\\site-packages\\quantstats\\stats.py:294: RuntimeWarning: invalid value encountered in scalar divide\n",
      "  res = returns.mean() / divisor\n",
      "C:\\Users\\xutia\\AppData\\Local\\Temp\\ipykernel_21240\\1884595116.py:70: RuntimeWarning: invalid value encountered in scalar divide\n",
      "  sharpe_ratio = np.mean(excess_returns) / np.std(excess_returns)\n"
     ]
    },
    {
     "name": "stdout",
     "output_type": "stream",
     "text": [
      "Metrics - train_final_value: 100000.0, train_drawdown: 0.0, train_sharpe: nan, train_cumulative: 1.0\n",
      "=================================\n",
      "Initial portfolio value: 100000\n",
      "Final portfolio value: 100000.0\n",
      "Final accumulative portfolio return: 1.0\n",
      "Maximum DrawDown: 0.0\n",
      "Sharpe ratio: nan\n",
      "=================================\n"
     ]
    },
    {
     "name": "stderr",
     "output_type": "stream",
     "text": [
      "C:\\Users\\xutia\\AppData\\Roaming\\Python\\Python310\\site-packages\\quantstats\\stats.py:294: RuntimeWarning: invalid value encountered in scalar divide\n",
      "  res = returns.mean() / divisor\n",
      "C:\\Users\\xutia\\AppData\\Local\\Temp\\ipykernel_21240\\1884595116.py:70: RuntimeWarning: invalid value encountered in scalar divide\n",
      "  sharpe_ratio = np.mean(excess_returns) / np.std(excess_returns)\n",
      "C:\\Users\\xutia\\AppData\\Local\\Temp\\ipykernel_21240\\3616600396.py:59: FutureWarning: You are using `torch.load` with `weights_only=False` (the current default value), which uses the default pickle module implicitly. It is possible to construct malicious pickle data which will execute arbitrary code during unpickling (See https://github.com/pytorch/pytorch/blob/main/SECURITY.md#untrusted-models for more details). In a future release, the default value for `weights_only` will be flipped to `True`. This limits the functions that could be executed during unpickling. Arbitrary objects will no longer be allowed to be loaded via this mode unless they are explicitly allowlisted by the user via `torch.serialization.add_safe_globals`. We recommend you start setting `weights_only=True` for any use case where you don't have full control of the loaded file. Please open an issue on GitHub for any issues related to this experimental feature.\n",
      "  EIIE_policy.load_state_dict(torch.load(model_filename))\n"
     ]
    },
    {
     "name": "stdout",
     "output_type": "stream",
     "text": [
      "Metrics - test_final_value: 100000.0, test_drawdown: 0.0, test_sharpe: nan, test_cumulative: 1.0\n",
      "Training model with TIME_WINDOW=60, K_SIZE=4, CONV_MID=20, CONV_FINAL=20, LEARNING_RATE=0.01\n",
      "=================================\n",
      "Initial portfolio value: 100000\n",
      "Final portfolio value: 1067897.875\n",
      "Final accumulative portfolio return: 10.67897875\n",
      "Maximum DrawDown: -0.3142728615687831\n",
      "Sharpe ratio: 1.4147583258151548\n",
      "=================================\n",
      "Metrics - train_final_value: 1067897.875, train_drawdown: -0.31427286156878304, train_sharpe: 1.415593398450184, train_cumulative: 10.67897875\n",
      "=================================\n",
      "Initial portfolio value: 100000\n",
      "Final portfolio value: 73057.0625\n",
      "Final accumulative portfolio return: 0.730570625\n",
      "Maximum DrawDown: -0.4243518756955781\n",
      "Sharpe ratio: -0.4478591572252691\n",
      "=================================\n",
      "Metrics - test_final_value: 73057.0625, test_drawdown: -0.42435187569557814, test_sharpe: -0.44887041675191436, test_cumulative: 0.730570625\n",
      "Training model with TIME_WINDOW=60, K_SIZE=4, CONV_MID=20, CONV_FINAL=20, LEARNING_RATE=0.02\n"
     ]
    },
    {
     "name": "stderr",
     "output_type": "stream",
     "text": [
      "C:\\Users\\xutia\\AppData\\Local\\Temp\\ipykernel_21240\\3616600396.py:59: FutureWarning: You are using `torch.load` with `weights_only=False` (the current default value), which uses the default pickle module implicitly. It is possible to construct malicious pickle data which will execute arbitrary code during unpickling (See https://github.com/pytorch/pytorch/blob/main/SECURITY.md#untrusted-models for more details). In a future release, the default value for `weights_only` will be flipped to `True`. This limits the functions that could be executed during unpickling. Arbitrary objects will no longer be allowed to be loaded via this mode unless they are explicitly allowlisted by the user via `torch.serialization.add_safe_globals`. We recommend you start setting `weights_only=True` for any use case where you don't have full control of the loaded file. Please open an issue on GitHub for any issues related to this experimental feature.\n",
      "  EIIE_policy.load_state_dict(torch.load(model_filename))\n"
     ]
    },
    {
     "name": "stdout",
     "output_type": "stream",
     "text": [
      "=================================\n",
      "Initial portfolio value: 100000\n",
      "Final portfolio value: 763614.375\n",
      "Final accumulative portfolio return: 7.63614375\n",
      "Maximum DrawDown: -0.3142726907204405\n",
      "Sharpe ratio: 1.2439361001551597\n",
      "=================================\n",
      "Metrics - train_final_value: 763614.375, train_drawdown: -0.3142726907204405, train_sharpe: 1.2446690675919259, train_cumulative: 7.63614375\n",
      "=================================\n",
      "Initial portfolio value: 100000\n",
      "Final portfolio value: 172424.515625\n",
      "Final accumulative portfolio return: 1.72424515625\n",
      "Maximum DrawDown: -0.18807524499837447\n",
      "Sharpe ratio: 1.2108302758501492\n",
      "=================================\n",
      "Metrics - test_final_value: 172424.515625, test_drawdown: -0.1880752449983744, test_sharpe: 1.213572227779156, test_cumulative: 1.72424515625\n",
      "Training model with TIME_WINDOW=60, K_SIZE=5, CONV_MID=5, CONV_FINAL=5, LEARNING_RATE=0.01\n"
     ]
    },
    {
     "name": "stderr",
     "output_type": "stream",
     "text": [
      "C:\\Users\\xutia\\AppData\\Local\\Temp\\ipykernel_21240\\3616600396.py:59: FutureWarning: You are using `torch.load` with `weights_only=False` (the current default value), which uses the default pickle module implicitly. It is possible to construct malicious pickle data which will execute arbitrary code during unpickling (See https://github.com/pytorch/pytorch/blob/main/SECURITY.md#untrusted-models for more details). In a future release, the default value for `weights_only` will be flipped to `True`. This limits the functions that could be executed during unpickling. Arbitrary objects will no longer be allowed to be loaded via this mode unless they are explicitly allowlisted by the user via `torch.serialization.add_safe_globals`. We recommend you start setting `weights_only=True` for any use case where you don't have full control of the loaded file. Please open an issue on GitHub for any issues related to this experimental feature.\n",
      "  EIIE_policy.load_state_dict(torch.load(model_filename))\n"
     ]
    },
    {
     "name": "stdout",
     "output_type": "stream",
     "text": [
      "=================================\n",
      "Initial portfolio value: 100000\n",
      "Final portfolio value: 953441.3125\n",
      "Final accumulative portfolio return: 9.534413125\n",
      "Maximum DrawDown: -0.3425134728978301\n",
      "Sharpe ratio: 1.354747563818097\n",
      "=================================\n",
      "Metrics - train_final_value: 953441.3125, train_drawdown: -0.34251347289783, train_sharpe: 1.3555445138174247, train_cumulative: 9.534413125\n",
      "=================================\n",
      "Initial portfolio value: 100000\n",
      "Final portfolio value: 138396.296875\n",
      "Final accumulative portfolio return: 1.38396296875\n",
      "Maximum DrawDown: -0.24091909729623706\n",
      "Sharpe ratio: 0.8196315497613141\n",
      "=================================\n",
      "Metrics - test_final_value: 138396.296875, test_drawdown: -0.24091909729623706, test_sharpe: 0.8214830293628151, test_cumulative: 1.38396296875\n",
      "Training model with TIME_WINDOW=60, K_SIZE=5, CONV_MID=5, CONV_FINAL=5, LEARNING_RATE=0.02\n"
     ]
    },
    {
     "name": "stderr",
     "output_type": "stream",
     "text": [
      "C:\\Users\\xutia\\AppData\\Local\\Temp\\ipykernel_21240\\3616600396.py:59: FutureWarning: You are using `torch.load` with `weights_only=False` (the current default value), which uses the default pickle module implicitly. It is possible to construct malicious pickle data which will execute arbitrary code during unpickling (See https://github.com/pytorch/pytorch/blob/main/SECURITY.md#untrusted-models for more details). In a future release, the default value for `weights_only` will be flipped to `True`. This limits the functions that could be executed during unpickling. Arbitrary objects will no longer be allowed to be loaded via this mode unless they are explicitly allowlisted by the user via `torch.serialization.add_safe_globals`. We recommend you start setting `weights_only=True` for any use case where you don't have full control of the loaded file. Please open an issue on GitHub for any issues related to this experimental feature.\n",
      "  EIIE_policy.load_state_dict(torch.load(model_filename))\n"
     ]
    },
    {
     "name": "stdout",
     "output_type": "stream",
     "text": [
      "=================================\n",
      "Initial portfolio value: 100000\n",
      "Final portfolio value: 100000.0\n",
      "Final accumulative portfolio return: 1.0\n",
      "Maximum DrawDown: 0.0\n",
      "Sharpe ratio: nan\n",
      "=================================\n"
     ]
    },
    {
     "name": "stderr",
     "output_type": "stream",
     "text": [
      "C:\\Users\\xutia\\AppData\\Roaming\\Python\\Python310\\site-packages\\quantstats\\stats.py:294: RuntimeWarning: invalid value encountered in scalar divide\n",
      "  res = returns.mean() / divisor\n",
      "C:\\Users\\xutia\\AppData\\Local\\Temp\\ipykernel_21240\\1884595116.py:70: RuntimeWarning: invalid value encountered in scalar divide\n",
      "  sharpe_ratio = np.mean(excess_returns) / np.std(excess_returns)\n"
     ]
    },
    {
     "name": "stdout",
     "output_type": "stream",
     "text": [
      "Metrics - train_final_value: 100000.0, train_drawdown: 0.0, train_sharpe: nan, train_cumulative: 1.0\n",
      "=================================\n",
      "Initial portfolio value: 100000\n",
      "Final portfolio value: 100000.0\n",
      "Final accumulative portfolio return: 1.0\n",
      "Maximum DrawDown: 0.0\n",
      "Sharpe ratio: nan\n",
      "=================================\n"
     ]
    },
    {
     "name": "stderr",
     "output_type": "stream",
     "text": [
      "C:\\Users\\xutia\\AppData\\Roaming\\Python\\Python310\\site-packages\\quantstats\\stats.py:294: RuntimeWarning: invalid value encountered in scalar divide\n",
      "  res = returns.mean() / divisor\n",
      "C:\\Users\\xutia\\AppData\\Local\\Temp\\ipykernel_21240\\1884595116.py:70: RuntimeWarning: invalid value encountered in scalar divide\n",
      "  sharpe_ratio = np.mean(excess_returns) / np.std(excess_returns)\n",
      "C:\\Users\\xutia\\AppData\\Local\\Temp\\ipykernel_21240\\3616600396.py:59: FutureWarning: You are using `torch.load` with `weights_only=False` (the current default value), which uses the default pickle module implicitly. It is possible to construct malicious pickle data which will execute arbitrary code during unpickling (See https://github.com/pytorch/pytorch/blob/main/SECURITY.md#untrusted-models for more details). In a future release, the default value for `weights_only` will be flipped to `True`. This limits the functions that could be executed during unpickling. Arbitrary objects will no longer be allowed to be loaded via this mode unless they are explicitly allowlisted by the user via `torch.serialization.add_safe_globals`. We recommend you start setting `weights_only=True` for any use case where you don't have full control of the loaded file. Please open an issue on GitHub for any issues related to this experimental feature.\n",
      "  EIIE_policy.load_state_dict(torch.load(model_filename))\n"
     ]
    },
    {
     "name": "stdout",
     "output_type": "stream",
     "text": [
      "Metrics - test_final_value: 100000.0, test_drawdown: 0.0, test_sharpe: nan, test_cumulative: 1.0\n",
      "Training model with TIME_WINDOW=60, K_SIZE=5, CONV_MID=5, CONV_FINAL=10, LEARNING_RATE=0.01\n",
      "=================================\n",
      "Initial portfolio value: 100000\n",
      "Final portfolio value: 229252.9375\n",
      "Final accumulative portfolio return: 2.292529375\n",
      "Maximum DrawDown: -0.33747765745512426\n",
      "Sharpe ratio: 0.7693174872022772\n",
      "=================================\n",
      "Metrics - train_final_value: 229252.9375, train_drawdown: -0.33747765745512426, train_sharpe: 0.7697704643245118, train_cumulative: 2.292529375\n",
      "=================================\n",
      "Initial portfolio value: 100000\n",
      "Final portfolio value: 124829.1171875\n",
      "Final accumulative portfolio return: 1.248291171875\n",
      "Maximum DrawDown: -0.15115498066052535\n",
      "Sharpe ratio: 0.8375886084842913\n",
      "=================================\n",
      "Metrics - test_final_value: 124829.1171875, test_drawdown: -0.15115498066052538, test_sharpe: 0.8394800606258018, test_cumulative: 1.248291171875\n",
      "Training model with TIME_WINDOW=60, K_SIZE=5, CONV_MID=5, CONV_FINAL=10, LEARNING_RATE=0.02\n"
     ]
    },
    {
     "name": "stderr",
     "output_type": "stream",
     "text": [
      "C:\\Users\\xutia\\AppData\\Local\\Temp\\ipykernel_21240\\3616600396.py:59: FutureWarning: You are using `torch.load` with `weights_only=False` (the current default value), which uses the default pickle module implicitly. It is possible to construct malicious pickle data which will execute arbitrary code during unpickling (See https://github.com/pytorch/pytorch/blob/main/SECURITY.md#untrusted-models for more details). In a future release, the default value for `weights_only` will be flipped to `True`. This limits the functions that could be executed during unpickling. Arbitrary objects will no longer be allowed to be loaded via this mode unless they are explicitly allowlisted by the user via `torch.serialization.add_safe_globals`. We recommend you start setting `weights_only=True` for any use case where you don't have full control of the loaded file. Please open an issue on GitHub for any issues related to this experimental feature.\n",
      "  EIIE_policy.load_state_dict(torch.load(model_filename))\n"
     ]
    },
    {
     "name": "stdout",
     "output_type": "stream",
     "text": [
      "=================================\n",
      "Initial portfolio value: 100000\n",
      "Final portfolio value: 649745.875\n",
      "Final accumulative portfolio return: 6.49745875\n",
      "Maximum DrawDown: -0.4562096500884615\n",
      "Sharpe ratio: 1.1538531537000427\n",
      "=================================\n",
      "Metrics - train_final_value: 649745.875, train_drawdown: -0.4562096500884614, train_sharpe: 1.1545323593061028, train_cumulative: 6.49745875\n",
      "=================================\n",
      "Initial portfolio value: 100000\n",
      "Final portfolio value: 76839.859375\n",
      "Final accumulative portfolio return: 0.76839859375\n",
      "Maximum DrawDown: -0.43835974896011587\n",
      "Sharpe ratio: -0.46489612166514804\n",
      "=================================\n",
      "Metrics - test_final_value: 76839.859375, test_drawdown: -0.4383597489601158, test_sharpe: -0.4659456087000936, test_cumulative: 0.76839859375\n",
      "Training model with TIME_WINDOW=60, K_SIZE=5, CONV_MID=5, CONV_FINAL=20, LEARNING_RATE=0.01\n"
     ]
    },
    {
     "name": "stderr",
     "output_type": "stream",
     "text": [
      "C:\\Users\\xutia\\AppData\\Local\\Temp\\ipykernel_21240\\3616600396.py:59: FutureWarning: You are using `torch.load` with `weights_only=False` (the current default value), which uses the default pickle module implicitly. It is possible to construct malicious pickle data which will execute arbitrary code during unpickling (See https://github.com/pytorch/pytorch/blob/main/SECURITY.md#untrusted-models for more details). In a future release, the default value for `weights_only` will be flipped to `True`. This limits the functions that could be executed during unpickling. Arbitrary objects will no longer be allowed to be loaded via this mode unless they are explicitly allowlisted by the user via `torch.serialization.add_safe_globals`. We recommend you start setting `weights_only=True` for any use case where you don't have full control of the loaded file. Please open an issue on GitHub for any issues related to this experimental feature.\n",
      "  EIIE_policy.load_state_dict(torch.load(model_filename))\n"
     ]
    },
    {
     "name": "stdout",
     "output_type": "stream",
     "text": [
      "=================================\n",
      "Initial portfolio value: 100000\n",
      "Final portfolio value: 596380.4375\n",
      "Final accumulative portfolio return: 5.963804375\n",
      "Maximum DrawDown: -0.2804100718889624\n",
      "Sharpe ratio: 1.142771954856522\n",
      "=================================\n",
      "Metrics - train_final_value: 596380.4375, train_drawdown: -0.2804100718889624, train_sharpe: 1.1434444890419813, train_cumulative: 5.963804375\n",
      "=================================\n",
      "Initial portfolio value: 100000\n",
      "Final portfolio value: 171905.28125\n",
      "Final accumulative portfolio return: 1.7190528125\n",
      "Maximum DrawDown: -0.18603965219684337\n",
      "Sharpe ratio: 1.2049448715879223\n",
      "=================================\n",
      "Metrics - test_final_value: 171905.28125, test_drawdown: -0.18603965219684332, test_sharpe: 1.2076711030105967, test_cumulative: 1.7190528125\n",
      "Training model with TIME_WINDOW=60, K_SIZE=5, CONV_MID=5, CONV_FINAL=20, LEARNING_RATE=0.02\n"
     ]
    },
    {
     "name": "stderr",
     "output_type": "stream",
     "text": [
      "C:\\Users\\xutia\\AppData\\Local\\Temp\\ipykernel_21240\\3616600396.py:59: FutureWarning: You are using `torch.load` with `weights_only=False` (the current default value), which uses the default pickle module implicitly. It is possible to construct malicious pickle data which will execute arbitrary code during unpickling (See https://github.com/pytorch/pytorch/blob/main/SECURITY.md#untrusted-models for more details). In a future release, the default value for `weights_only` will be flipped to `True`. This limits the functions that could be executed during unpickling. Arbitrary objects will no longer be allowed to be loaded via this mode unless they are explicitly allowlisted by the user via `torch.serialization.add_safe_globals`. We recommend you start setting `weights_only=True` for any use case where you don't have full control of the loaded file. Please open an issue on GitHub for any issues related to this experimental feature.\n",
      "  EIIE_policy.load_state_dict(torch.load(model_filename))\n"
     ]
    },
    {
     "name": "stdout",
     "output_type": "stream",
     "text": [
      "=================================\n",
      "Initial portfolio value: 100000\n",
      "Final portfolio value: 299847.09375\n",
      "Final accumulative portfolio return: 2.9984709375\n",
      "Maximum DrawDown: -0.3018669551892361\n",
      "Sharpe ratio: 0.7646935920252432\n",
      "=================================\n",
      "Metrics - train_final_value: 299847.09375, train_drawdown: -0.3018669551892361, train_sharpe: 0.7651433873281471, train_cumulative: 2.9984709375\n",
      "=================================\n",
      "Initial portfolio value: 100000\n",
      "Final portfolio value: 66188.34375\n",
      "Final accumulative portfolio return: 0.6618834375\n",
      "Maximum DrawDown: -0.5649137786031773\n",
      "Sharpe ratio: -0.7168709548124941\n",
      "=================================\n",
      "Metrics - test_final_value: 66188.34375, test_drawdown: -0.5649137786031773, test_sharpe: -0.7184912399239232, test_cumulative: 0.6618834375\n",
      "Training model with TIME_WINDOW=60, K_SIZE=5, CONV_MID=10, CONV_FINAL=5, LEARNING_RATE=0.01\n"
     ]
    },
    {
     "name": "stderr",
     "output_type": "stream",
     "text": [
      "C:\\Users\\xutia\\AppData\\Local\\Temp\\ipykernel_21240\\3616600396.py:59: FutureWarning: You are using `torch.load` with `weights_only=False` (the current default value), which uses the default pickle module implicitly. It is possible to construct malicious pickle data which will execute arbitrary code during unpickling (See https://github.com/pytorch/pytorch/blob/main/SECURITY.md#untrusted-models for more details). In a future release, the default value for `weights_only` will be flipped to `True`. This limits the functions that could be executed during unpickling. Arbitrary objects will no longer be allowed to be loaded via this mode unless they are explicitly allowlisted by the user via `torch.serialization.add_safe_globals`. We recommend you start setting `weights_only=True` for any use case where you don't have full control of the loaded file. Please open an issue on GitHub for any issues related to this experimental feature.\n",
      "  EIIE_policy.load_state_dict(torch.load(model_filename))\n"
     ]
    },
    {
     "name": "stdout",
     "output_type": "stream",
     "text": [
      "=================================\n",
      "Initial portfolio value: 100000\n",
      "Final portfolio value: 724691.0625\n",
      "Final accumulative portfolio return: 7.246910625\n",
      "Maximum DrawDown: -0.27240392133079705\n",
      "Sharpe ratio: 1.4078098219355688\n",
      "=================================\n",
      "Metrics - train_final_value: 724691.0625, train_drawdown: -0.27240392133079705, train_sharpe: 1.4086380584766987, train_cumulative: 7.246910625\n",
      "=================================\n",
      "Initial portfolio value: 100000\n",
      "Final portfolio value: 68188.21875\n",
      "Final accumulative portfolio return: 0.6818821875\n",
      "Maximum DrawDown: -0.5146852157805779\n",
      "Sharpe ratio: -0.620314727760233\n",
      "=================================\n",
      "Metrics - test_final_value: 68188.21875, test_drawdown: -0.5146852157805778, test_sharpe: -0.6217169618854945, test_cumulative: 0.6818821875\n",
      "Training model with TIME_WINDOW=60, K_SIZE=5, CONV_MID=10, CONV_FINAL=5, LEARNING_RATE=0.02\n"
     ]
    },
    {
     "name": "stderr",
     "output_type": "stream",
     "text": [
      "C:\\Users\\xutia\\AppData\\Local\\Temp\\ipykernel_21240\\3616600396.py:59: FutureWarning: You are using `torch.load` with `weights_only=False` (the current default value), which uses the default pickle module implicitly. It is possible to construct malicious pickle data which will execute arbitrary code during unpickling (See https://github.com/pytorch/pytorch/blob/main/SECURITY.md#untrusted-models for more details). In a future release, the default value for `weights_only` will be flipped to `True`. This limits the functions that could be executed during unpickling. Arbitrary objects will no longer be allowed to be loaded via this mode unless they are explicitly allowlisted by the user via `torch.serialization.add_safe_globals`. We recommend you start setting `weights_only=True` for any use case where you don't have full control of the loaded file. Please open an issue on GitHub for any issues related to this experimental feature.\n",
      "  EIIE_policy.load_state_dict(torch.load(model_filename))\n"
     ]
    },
    {
     "name": "stdout",
     "output_type": "stream",
     "text": [
      "=================================\n",
      "Initial portfolio value: 100000\n",
      "Final portfolio value: 524080.78125\n",
      "Final accumulative portfolio return: 5.2408078125\n",
      "Maximum DrawDown: -0.32733921321687875\n",
      "Sharpe ratio: 1.0225141878782582\n",
      "=================================\n",
      "Metrics - train_final_value: 524080.78125, train_drawdown: -0.3273392132168787, train_sharpe: 1.0231148046411667, train_cumulative: 5.2408078125\n",
      "=================================\n",
      "Initial portfolio value: 100000\n",
      "Final portfolio value: 216058.234375\n",
      "Final accumulative portfolio return: 2.16058234375\n",
      "Maximum DrawDown: -0.17498961035725646\n",
      "Sharpe ratio: 1.7366233653158616\n",
      "=================================\n",
      "Metrics - test_final_value: 216058.234375, test_drawdown: -0.1749896103572565, test_sharpe: 1.7405679098770734, test_cumulative: 2.16058234375\n",
      "Training model with TIME_WINDOW=60, K_SIZE=5, CONV_MID=10, CONV_FINAL=10, LEARNING_RATE=0.01\n"
     ]
    },
    {
     "name": "stderr",
     "output_type": "stream",
     "text": [
      "C:\\Users\\xutia\\AppData\\Local\\Temp\\ipykernel_21240\\3616600396.py:59: FutureWarning: You are using `torch.load` with `weights_only=False` (the current default value), which uses the default pickle module implicitly. It is possible to construct malicious pickle data which will execute arbitrary code during unpickling (See https://github.com/pytorch/pytorch/blob/main/SECURITY.md#untrusted-models for more details). In a future release, the default value for `weights_only` will be flipped to `True`. This limits the functions that could be executed during unpickling. Arbitrary objects will no longer be allowed to be loaded via this mode unless they are explicitly allowlisted by the user via `torch.serialization.add_safe_globals`. We recommend you start setting `weights_only=True` for any use case where you don't have full control of the loaded file. Please open an issue on GitHub for any issues related to this experimental feature.\n",
      "  EIIE_policy.load_state_dict(torch.load(model_filename))\n"
     ]
    },
    {
     "name": "stdout",
     "output_type": "stream",
     "text": [
      "=================================\n",
      "Initial portfolio value: 100000\n",
      "Final portfolio value: 905841.25\n",
      "Final accumulative portfolio return: 9.0584125\n",
      "Maximum DrawDown: -0.2507137969664287\n",
      "Sharpe ratio: 1.3940952894541612\n",
      "=================================\n",
      "Metrics - train_final_value: 905841.25, train_drawdown: -0.25071379696642876, train_sharpe: 1.3949173787208107, train_cumulative: 9.0584125\n",
      "=================================\n",
      "Initial portfolio value: 100000\n",
      "Final portfolio value: 81945.0546875\n",
      "Final accumulative portfolio return: 0.819450546875\n",
      "Maximum DrawDown: -0.42506340009025234\n",
      "Sharpe ratio: -0.24542994894929843\n",
      "=================================\n",
      "Metrics - test_final_value: 81945.0546875, test_drawdown: -0.42506340009025234, test_sharpe: -0.24598446399697507, test_cumulative: 0.819450546875\n",
      "Training model with TIME_WINDOW=60, K_SIZE=5, CONV_MID=10, CONV_FINAL=10, LEARNING_RATE=0.02\n"
     ]
    },
    {
     "name": "stderr",
     "output_type": "stream",
     "text": [
      "C:\\Users\\xutia\\AppData\\Local\\Temp\\ipykernel_21240\\3616600396.py:59: FutureWarning: You are using `torch.load` with `weights_only=False` (the current default value), which uses the default pickle module implicitly. It is possible to construct malicious pickle data which will execute arbitrary code during unpickling (See https://github.com/pytorch/pytorch/blob/main/SECURITY.md#untrusted-models for more details). In a future release, the default value for `weights_only` will be flipped to `True`. This limits the functions that could be executed during unpickling. Arbitrary objects will no longer be allowed to be loaded via this mode unless they are explicitly allowlisted by the user via `torch.serialization.add_safe_globals`. We recommend you start setting `weights_only=True` for any use case where you don't have full control of the loaded file. Please open an issue on GitHub for any issues related to this experimental feature.\n",
      "  EIIE_policy.load_state_dict(torch.load(model_filename))\n"
     ]
    },
    {
     "name": "stdout",
     "output_type": "stream",
     "text": [
      "=================================\n",
      "Initial portfolio value: 100000\n",
      "Final portfolio value: 513540.8125\n",
      "Final accumulative portfolio return: 5.135408125\n",
      "Maximum DrawDown: -0.4118961010571949\n",
      "Sharpe ratio: 0.9545925281057451\n",
      "=================================\n",
      "Metrics - train_final_value: 513540.8125, train_drawdown: -0.41189610105719493, train_sharpe: 0.955153845510335, train_cumulative: 5.135408125\n",
      "=================================\n",
      "Initial portfolio value: 100000\n",
      "Final portfolio value: 234008.421875\n",
      "Final accumulative portfolio return: 2.34008421875\n",
      "Maximum DrawDown: -0.1749896736497324\n",
      "Sharpe ratio: 1.7932491781927005\n",
      "=================================\n",
      "Metrics - test_final_value: 234008.421875, test_drawdown: -0.17498967364973234, test_sharpe: 1.7973228507603494, test_cumulative: 2.34008421875\n",
      "Training model with TIME_WINDOW=60, K_SIZE=5, CONV_MID=10, CONV_FINAL=20, LEARNING_RATE=0.01\n"
     ]
    },
    {
     "name": "stderr",
     "output_type": "stream",
     "text": [
      "C:\\Users\\xutia\\AppData\\Local\\Temp\\ipykernel_21240\\3616600396.py:59: FutureWarning: You are using `torch.load` with `weights_only=False` (the current default value), which uses the default pickle module implicitly. It is possible to construct malicious pickle data which will execute arbitrary code during unpickling (See https://github.com/pytorch/pytorch/blob/main/SECURITY.md#untrusted-models for more details). In a future release, the default value for `weights_only` will be flipped to `True`. This limits the functions that could be executed during unpickling. Arbitrary objects will no longer be allowed to be loaded via this mode unless they are explicitly allowlisted by the user via `torch.serialization.add_safe_globals`. We recommend you start setting `weights_only=True` for any use case where you don't have full control of the loaded file. Please open an issue on GitHub for any issues related to this experimental feature.\n",
      "  EIIE_policy.load_state_dict(torch.load(model_filename))\n"
     ]
    },
    {
     "name": "stdout",
     "output_type": "stream",
     "text": [
      "=================================\n",
      "Initial portfolio value: 100000\n",
      "Final portfolio value: 726370.75\n",
      "Final accumulative portfolio return: 7.2637075\n",
      "Maximum DrawDown: -0.3832268614745079\n",
      "Sharpe ratio: 1.2401562941542543\n",
      "=================================\n",
      "Metrics - train_final_value: 726370.75, train_drawdown: -0.3832268614745079, train_sharpe: 1.2408860155199781, train_cumulative: 7.2637075\n",
      "=================================\n",
      "Initial portfolio value: 100000\n",
      "Final portfolio value: 93927.21875\n",
      "Final accumulative portfolio return: 0.9392721875\n",
      "Maximum DrawDown: -0.31703921484318387\n",
      "Sharpe ratio: 0.00605036249270087\n",
      "=================================\n",
      "Metrics - test_final_value: 93927.21875, test_drawdown: -0.31703921484318387, test_sharpe: 0.006064124739662689, test_cumulative: 0.9392721875\n",
      "Training model with TIME_WINDOW=60, K_SIZE=5, CONV_MID=10, CONV_FINAL=20, LEARNING_RATE=0.02\n"
     ]
    },
    {
     "name": "stderr",
     "output_type": "stream",
     "text": [
      "C:\\Users\\xutia\\AppData\\Local\\Temp\\ipykernel_21240\\3616600396.py:59: FutureWarning: You are using `torch.load` with `weights_only=False` (the current default value), which uses the default pickle module implicitly. It is possible to construct malicious pickle data which will execute arbitrary code during unpickling (See https://github.com/pytorch/pytorch/blob/main/SECURITY.md#untrusted-models for more details). In a future release, the default value for `weights_only` will be flipped to `True`. This limits the functions that could be executed during unpickling. Arbitrary objects will no longer be allowed to be loaded via this mode unless they are explicitly allowlisted by the user via `torch.serialization.add_safe_globals`. We recommend you start setting `weights_only=True` for any use case where you don't have full control of the loaded file. Please open an issue on GitHub for any issues related to this experimental feature.\n",
      "  EIIE_policy.load_state_dict(torch.load(model_filename))\n"
     ]
    },
    {
     "name": "stdout",
     "output_type": "stream",
     "text": [
      "=================================\n",
      "Initial portfolio value: 100000\n",
      "Final portfolio value: 485912.125\n",
      "Final accumulative portfolio return: 4.85912125\n",
      "Maximum DrawDown: -0.38515879699046274\n",
      "Sharpe ratio: 0.954829412280304\n",
      "=================================\n",
      "Metrics - train_final_value: 485912.125, train_drawdown: -0.38515879699046274, train_sharpe: 0.955390493011297, train_cumulative: 4.85912125\n",
      "=================================\n",
      "Initial portfolio value: 100000\n",
      "Final portfolio value: 222754.65625\n",
      "Final accumulative portfolio return: 2.2275465625\n",
      "Maximum DrawDown: -0.213087474825553\n",
      "Sharpe ratio: 1.6432766251001687\n",
      "=================================\n",
      "Metrics - test_final_value: 222754.65625, test_drawdown: -0.21308747482555304, test_sharpe: 1.6470061549252089, test_cumulative: 2.2275465625\n",
      "Training model with TIME_WINDOW=60, K_SIZE=5, CONV_MID=20, CONV_FINAL=5, LEARNING_RATE=0.01\n",
      "Error encountered with combination policy_EIIE_60_5_20_5: [Errno 2] No such file or directory: 'policy_EIIE_60_5_20_5_0.01.pt'\n",
      "Training model with TIME_WINDOW=60, K_SIZE=5, CONV_MID=20, CONV_FINAL=5, LEARNING_RATE=0.02\n"
     ]
    },
    {
     "name": "stderr",
     "output_type": "stream",
     "text": [
      "C:\\Users\\xutia\\AppData\\Local\\Temp\\ipykernel_21240\\3616600396.py:59: FutureWarning: You are using `torch.load` with `weights_only=False` (the current default value), which uses the default pickle module implicitly. It is possible to construct malicious pickle data which will execute arbitrary code during unpickling (See https://github.com/pytorch/pytorch/blob/main/SECURITY.md#untrusted-models for more details). In a future release, the default value for `weights_only` will be flipped to `True`. This limits the functions that could be executed during unpickling. Arbitrary objects will no longer be allowed to be loaded via this mode unless they are explicitly allowlisted by the user via `torch.serialization.add_safe_globals`. We recommend you start setting `weights_only=True` for any use case where you don't have full control of the loaded file. Please open an issue on GitHub for any issues related to this experimental feature.\n",
      "  EIIE_policy.load_state_dict(torch.load(model_filename))\n",
      "C:\\Users\\xutia\\AppData\\Local\\Temp\\ipykernel_21240\\3616600396.py:89: FutureWarning: The behavior of DataFrame concatenation with empty or all-NA entries is deprecated. In a future version, this will no longer exclude empty or all-NA columns when determining the result dtypes. To retain the old behavior, exclude the relevant entries before the concat operation.\n",
      "  results_df = pd.concat([results_df, temp_df], ignore_index=True)\n",
      "C:\\Users\\xutia\\AppData\\Local\\Temp\\ipykernel_21240\\3616600396.py:59: FutureWarning: You are using `torch.load` with `weights_only=False` (the current default value), which uses the default pickle module implicitly. It is possible to construct malicious pickle data which will execute arbitrary code during unpickling (See https://github.com/pytorch/pytorch/blob/main/SECURITY.md#untrusted-models for more details). In a future release, the default value for `weights_only` will be flipped to `True`. This limits the functions that could be executed during unpickling. Arbitrary objects will no longer be allowed to be loaded via this mode unless they are explicitly allowlisted by the user via `torch.serialization.add_safe_globals`. We recommend you start setting `weights_only=True` for any use case where you don't have full control of the loaded file. Please open an issue on GitHub for any issues related to this experimental feature.\n",
      "  EIIE_policy.load_state_dict(torch.load(model_filename))\n",
      "C:\\Users\\xutia\\AppData\\Local\\Temp\\ipykernel_21240\\3616600396.py:89: FutureWarning: The behavior of DataFrame concatenation with empty or all-NA entries is deprecated. In a future version, this will no longer exclude empty or all-NA columns when determining the result dtypes. To retain the old behavior, exclude the relevant entries before the concat operation.\n",
      "  results_df = pd.concat([results_df, temp_df], ignore_index=True)\n"
     ]
    },
    {
     "name": "stdout",
     "output_type": "stream",
     "text": [
      "Error encountered with combination policy_EIIE_60_5_20_5: [Errno 2] No such file or directory: 'policy_EIIE_60_5_20_5_0.02.pt'\n",
      "Training model with TIME_WINDOW=60, K_SIZE=5, CONV_MID=20, CONV_FINAL=10, LEARNING_RATE=0.01\n",
      "Error encountered with combination policy_EIIE_60_5_20_10: [Errno 2] No such file or directory: 'policy_EIIE_60_5_20_10_0.01.pt'\n",
      "Training model with TIME_WINDOW=60, K_SIZE=5, CONV_MID=20, CONV_FINAL=10, LEARNING_RATE=0.02\n"
     ]
    },
    {
     "name": "stderr",
     "output_type": "stream",
     "text": [
      "C:\\Users\\xutia\\AppData\\Local\\Temp\\ipykernel_21240\\3616600396.py:59: FutureWarning: You are using `torch.load` with `weights_only=False` (the current default value), which uses the default pickle module implicitly. It is possible to construct malicious pickle data which will execute arbitrary code during unpickling (See https://github.com/pytorch/pytorch/blob/main/SECURITY.md#untrusted-models for more details). In a future release, the default value for `weights_only` will be flipped to `True`. This limits the functions that could be executed during unpickling. Arbitrary objects will no longer be allowed to be loaded via this mode unless they are explicitly allowlisted by the user via `torch.serialization.add_safe_globals`. We recommend you start setting `weights_only=True` for any use case where you don't have full control of the loaded file. Please open an issue on GitHub for any issues related to this experimental feature.\n",
      "  EIIE_policy.load_state_dict(torch.load(model_filename))\n",
      "C:\\Users\\xutia\\AppData\\Local\\Temp\\ipykernel_21240\\3616600396.py:89: FutureWarning: The behavior of DataFrame concatenation with empty or all-NA entries is deprecated. In a future version, this will no longer exclude empty or all-NA columns when determining the result dtypes. To retain the old behavior, exclude the relevant entries before the concat operation.\n",
      "  results_df = pd.concat([results_df, temp_df], ignore_index=True)\n",
      "C:\\Users\\xutia\\AppData\\Local\\Temp\\ipykernel_21240\\3616600396.py:59: FutureWarning: You are using `torch.load` with `weights_only=False` (the current default value), which uses the default pickle module implicitly. It is possible to construct malicious pickle data which will execute arbitrary code during unpickling (See https://github.com/pytorch/pytorch/blob/main/SECURITY.md#untrusted-models for more details). In a future release, the default value for `weights_only` will be flipped to `True`. This limits the functions that could be executed during unpickling. Arbitrary objects will no longer be allowed to be loaded via this mode unless they are explicitly allowlisted by the user via `torch.serialization.add_safe_globals`. We recommend you start setting `weights_only=True` for any use case where you don't have full control of the loaded file. Please open an issue on GitHub for any issues related to this experimental feature.\n",
      "  EIIE_policy.load_state_dict(torch.load(model_filename))\n",
      "C:\\Users\\xutia\\AppData\\Local\\Temp\\ipykernel_21240\\3616600396.py:89: FutureWarning: The behavior of DataFrame concatenation with empty or all-NA entries is deprecated. In a future version, this will no longer exclude empty or all-NA columns when determining the result dtypes. To retain the old behavior, exclude the relevant entries before the concat operation.\n",
      "  results_df = pd.concat([results_df, temp_df], ignore_index=True)\n"
     ]
    },
    {
     "name": "stdout",
     "output_type": "stream",
     "text": [
      "Error encountered with combination policy_EIIE_60_5_20_10: [Errno 2] No such file or directory: 'policy_EIIE_60_5_20_10_0.02.pt'\n",
      "Training model with TIME_WINDOW=60, K_SIZE=5, CONV_MID=20, CONV_FINAL=20, LEARNING_RATE=0.01\n"
     ]
    },
    {
     "name": "stderr",
     "output_type": "stream",
     "text": [
      "C:\\Users\\xutia\\AppData\\Local\\Temp\\ipykernel_21240\\3616600396.py:59: FutureWarning: You are using `torch.load` with `weights_only=False` (the current default value), which uses the default pickle module implicitly. It is possible to construct malicious pickle data which will execute arbitrary code during unpickling (See https://github.com/pytorch/pytorch/blob/main/SECURITY.md#untrusted-models for more details). In a future release, the default value for `weights_only` will be flipped to `True`. This limits the functions that could be executed during unpickling. Arbitrary objects will no longer be allowed to be loaded via this mode unless they are explicitly allowlisted by the user via `torch.serialization.add_safe_globals`. We recommend you start setting `weights_only=True` for any use case where you don't have full control of the loaded file. Please open an issue on GitHub for any issues related to this experimental feature.\n",
      "  EIIE_policy.load_state_dict(torch.load(model_filename))\n"
     ]
    },
    {
     "name": "stdout",
     "output_type": "stream",
     "text": [
      "=================================\n",
      "Initial portfolio value: 100000\n",
      "Final portfolio value: 631605.9375\n",
      "Final accumulative portfolio return: 6.316059375\n",
      "Maximum DrawDown: -0.21778125534029713\n",
      "Sharpe ratio: 1.2325645394679092\n",
      "=================================\n",
      "Metrics - train_final_value: 631605.9375, train_drawdown: -0.21778125534029716, train_sharpe: 1.2332907398275048, train_cumulative: 6.316059375\n",
      "=================================\n",
      "Initial portfolio value: 100000\n",
      "Final portfolio value: 98603.2734375\n",
      "Final accumulative portfolio return: 0.986032734375\n",
      "Maximum DrawDown: -0.27966366799063425\n",
      "Sharpe ratio: 0.10597979917658046\n",
      "=================================\n",
      "Metrics - test_final_value: 98603.2734375, test_drawdown: -0.27966366799063425, test_sharpe: 0.10621787444263787, test_cumulative: 0.986032734375\n",
      "Training model with TIME_WINDOW=60, K_SIZE=5, CONV_MID=20, CONV_FINAL=20, LEARNING_RATE=0.02\n"
     ]
    },
    {
     "name": "stderr",
     "output_type": "stream",
     "text": [
      "C:\\Users\\xutia\\AppData\\Local\\Temp\\ipykernel_21240\\3616600396.py:59: FutureWarning: You are using `torch.load` with `weights_only=False` (the current default value), which uses the default pickle module implicitly. It is possible to construct malicious pickle data which will execute arbitrary code during unpickling (See https://github.com/pytorch/pytorch/blob/main/SECURITY.md#untrusted-models for more details). In a future release, the default value for `weights_only` will be flipped to `True`. This limits the functions that could be executed during unpickling. Arbitrary objects will no longer be allowed to be loaded via this mode unless they are explicitly allowlisted by the user via `torch.serialization.add_safe_globals`. We recommend you start setting `weights_only=True` for any use case where you don't have full control of the loaded file. Please open an issue on GitHub for any issues related to this experimental feature.\n",
      "  EIIE_policy.load_state_dict(torch.load(model_filename))\n"
     ]
    },
    {
     "name": "stdout",
     "output_type": "stream",
     "text": [
      "=================================\n",
      "Initial portfolio value: 100000\n",
      "Final portfolio value: 100000.0\n",
      "Final accumulative portfolio return: 1.0\n",
      "Maximum DrawDown: 0.0\n",
      "Sharpe ratio: nan\n",
      "=================================\n"
     ]
    },
    {
     "name": "stderr",
     "output_type": "stream",
     "text": [
      "C:\\Users\\xutia\\AppData\\Roaming\\Python\\Python310\\site-packages\\quantstats\\stats.py:294: RuntimeWarning: invalid value encountered in scalar divide\n",
      "  res = returns.mean() / divisor\n",
      "C:\\Users\\xutia\\AppData\\Local\\Temp\\ipykernel_21240\\1884595116.py:70: RuntimeWarning: invalid value encountered in scalar divide\n",
      "  sharpe_ratio = np.mean(excess_returns) / np.std(excess_returns)\n"
     ]
    },
    {
     "name": "stdout",
     "output_type": "stream",
     "text": [
      "Metrics - train_final_value: 100000.0, train_drawdown: 0.0, train_sharpe: nan, train_cumulative: 1.0\n",
      "=================================\n",
      "Initial portfolio value: 100000\n",
      "Final portfolio value: 100000.0\n",
      "Final accumulative portfolio return: 1.0\n",
      "Maximum DrawDown: 0.0\n",
      "Sharpe ratio: nan\n",
      "=================================\n"
     ]
    },
    {
     "name": "stderr",
     "output_type": "stream",
     "text": [
      "C:\\Users\\xutia\\AppData\\Roaming\\Python\\Python310\\site-packages\\quantstats\\stats.py:294: RuntimeWarning: invalid value encountered in scalar divide\n",
      "  res = returns.mean() / divisor\n",
      "C:\\Users\\xutia\\AppData\\Local\\Temp\\ipykernel_21240\\1884595116.py:70: RuntimeWarning: invalid value encountered in scalar divide\n",
      "  sharpe_ratio = np.mean(excess_returns) / np.std(excess_returns)\n",
      "C:\\Users\\xutia\\AppData\\Local\\Temp\\ipykernel_21240\\3616600396.py:59: FutureWarning: You are using `torch.load` with `weights_only=False` (the current default value), which uses the default pickle module implicitly. It is possible to construct malicious pickle data which will execute arbitrary code during unpickling (See https://github.com/pytorch/pytorch/blob/main/SECURITY.md#untrusted-models for more details). In a future release, the default value for `weights_only` will be flipped to `True`. This limits the functions that could be executed during unpickling. Arbitrary objects will no longer be allowed to be loaded via this mode unless they are explicitly allowlisted by the user via `torch.serialization.add_safe_globals`. We recommend you start setting `weights_only=True` for any use case where you don't have full control of the loaded file. Please open an issue on GitHub for any issues related to this experimental feature.\n",
      "  EIIE_policy.load_state_dict(torch.load(model_filename))\n"
     ]
    },
    {
     "name": "stdout",
     "output_type": "stream",
     "text": [
      "Metrics - test_final_value: 100000.0, test_drawdown: 0.0, test_sharpe: nan, test_cumulative: 1.0\n",
      "Training model with TIME_WINDOW=90, K_SIZE=3, CONV_MID=5, CONV_FINAL=5, LEARNING_RATE=0.01\n",
      "=================================\n",
      "Initial portfolio value: 100000\n",
      "Final portfolio value: 616365.1875\n",
      "Final accumulative portfolio return: 6.163651875\n",
      "Maximum DrawDown: -0.38466777429321897\n",
      "Sharpe ratio: 1.133520392265803\n",
      "=================================\n",
      "Metrics - train_final_value: 616365.1875, train_drawdown: -0.3846677742932189, train_sharpe: 1.1341998426386106, train_cumulative: 6.163651875\n",
      "=================================\n",
      "Initial portfolio value: 100000\n",
      "Final portfolio value: 160391.328125\n",
      "Final accumulative portfolio return: 1.60391328125\n",
      "Maximum DrawDown: -0.19635805764414804\n",
      "Sharpe ratio: 1.1833288344563915\n",
      "=================================\n",
      "Metrics - test_final_value: 160391.328125, test_drawdown: -0.19635805764414807, test_sharpe: 1.1862024678612717, test_cumulative: 1.60391328125\n",
      "Training model with TIME_WINDOW=90, K_SIZE=3, CONV_MID=5, CONV_FINAL=5, LEARNING_RATE=0.02\n"
     ]
    },
    {
     "name": "stderr",
     "output_type": "stream",
     "text": [
      "C:\\Users\\xutia\\AppData\\Local\\Temp\\ipykernel_21240\\3616600396.py:59: FutureWarning: You are using `torch.load` with `weights_only=False` (the current default value), which uses the default pickle module implicitly. It is possible to construct malicious pickle data which will execute arbitrary code during unpickling (See https://github.com/pytorch/pytorch/blob/main/SECURITY.md#untrusted-models for more details). In a future release, the default value for `weights_only` will be flipped to `True`. This limits the functions that could be executed during unpickling. Arbitrary objects will no longer be allowed to be loaded via this mode unless they are explicitly allowlisted by the user via `torch.serialization.add_safe_globals`. We recommend you start setting `weights_only=True` for any use case where you don't have full control of the loaded file. Please open an issue on GitHub for any issues related to this experimental feature.\n",
      "  EIIE_policy.load_state_dict(torch.load(model_filename))\n"
     ]
    },
    {
     "name": "stdout",
     "output_type": "stream",
     "text": [
      "=================================\n",
      "Initial portfolio value: 100000\n",
      "Final portfolio value: 231914.796875\n",
      "Final accumulative portfolio return: 2.31914796875\n",
      "Maximum DrawDown: -0.3440202376163345\n",
      "Sharpe ratio: 0.7749159540432711\n",
      "=================================\n",
      "Metrics - train_final_value: 231914.796875, train_drawdown: -0.3440202376163345, train_sharpe: 0.7753798818288544, train_cumulative: 2.31914796875\n",
      "=================================\n",
      "Initial portfolio value: 100000\n",
      "Final portfolio value: 119788.78125\n",
      "Final accumulative portfolio return: 1.1978878125\n",
      "Maximum DrawDown: -0.1537655113419949\n",
      "Sharpe ratio: 0.7210882253888784\n",
      "=================================\n",
      "Metrics - test_final_value: 119788.78125, test_drawdown: -0.1537655113419949, test_sharpe: 0.7228367353414473, test_cumulative: 1.1978878125\n",
      "Training model with TIME_WINDOW=90, K_SIZE=3, CONV_MID=5, CONV_FINAL=10, LEARNING_RATE=0.01\n"
     ]
    },
    {
     "name": "stderr",
     "output_type": "stream",
     "text": [
      "C:\\Users\\xutia\\AppData\\Local\\Temp\\ipykernel_21240\\3616600396.py:59: FutureWarning: You are using `torch.load` with `weights_only=False` (the current default value), which uses the default pickle module implicitly. It is possible to construct malicious pickle data which will execute arbitrary code during unpickling (See https://github.com/pytorch/pytorch/blob/main/SECURITY.md#untrusted-models for more details). In a future release, the default value for `weights_only` will be flipped to `True`. This limits the functions that could be executed during unpickling. Arbitrary objects will no longer be allowed to be loaded via this mode unless they are explicitly allowlisted by the user via `torch.serialization.add_safe_globals`. We recommend you start setting `weights_only=True` for any use case where you don't have full control of the loaded file. Please open an issue on GitHub for any issues related to this experimental feature.\n",
      "  EIIE_policy.load_state_dict(torch.load(model_filename))\n"
     ]
    },
    {
     "name": "stdout",
     "output_type": "stream",
     "text": [
      "=================================\n",
      "Initial portfolio value: 100000\n",
      "Final portfolio value: 1098878.625\n",
      "Final accumulative portfolio return: 10.98878625\n",
      "Maximum DrawDown: -0.25816512332607966\n",
      "Sharpe ratio: 1.396670963679286\n",
      "=================================\n",
      "Metrics - train_final_value: 1098878.625, train_drawdown: -0.2581651233260797, train_sharpe: 1.3975089265038887, train_cumulative: 10.98878625\n",
      "=================================\n",
      "Initial portfolio value: 100000\n",
      "Final portfolio value: 242962.234375\n",
      "Final accumulative portfolio return: 2.42962234375\n",
      "Maximum DrawDown: -0.20508671762664776\n",
      "Sharpe ratio: 2.063900954469854\n",
      "=================================\n",
      "Metrics - test_final_value: 242962.234375, test_drawdown: -0.20508671762664776, test_sharpe: 2.0689380823322003, test_cumulative: 2.42962234375\n",
      "Training model with TIME_WINDOW=90, K_SIZE=3, CONV_MID=5, CONV_FINAL=10, LEARNING_RATE=0.02\n"
     ]
    },
    {
     "name": "stderr",
     "output_type": "stream",
     "text": [
      "C:\\Users\\xutia\\AppData\\Local\\Temp\\ipykernel_21240\\3616600396.py:59: FutureWarning: You are using `torch.load` with `weights_only=False` (the current default value), which uses the default pickle module implicitly. It is possible to construct malicious pickle data which will execute arbitrary code during unpickling (See https://github.com/pytorch/pytorch/blob/main/SECURITY.md#untrusted-models for more details). In a future release, the default value for `weights_only` will be flipped to `True`. This limits the functions that could be executed during unpickling. Arbitrary objects will no longer be allowed to be loaded via this mode unless they are explicitly allowlisted by the user via `torch.serialization.add_safe_globals`. We recommend you start setting `weights_only=True` for any use case where you don't have full control of the loaded file. Please open an issue on GitHub for any issues related to this experimental feature.\n",
      "  EIIE_policy.load_state_dict(torch.load(model_filename))\n"
     ]
    },
    {
     "name": "stdout",
     "output_type": "stream",
     "text": [
      "=================================\n",
      "Initial portfolio value: 100000\n",
      "Final portfolio value: 225325.671875\n",
      "Final accumulative portfolio return: 2.25325671875\n",
      "Maximum DrawDown: -0.27366280836071444\n",
      "Sharpe ratio: 0.6611991053973347\n",
      "=================================\n",
      "Metrics - train_final_value: 225325.671875, train_drawdown: -0.2736628083607144, train_sharpe: 0.6615937912091324, train_cumulative: 2.25325671875\n",
      "=================================\n",
      "Initial portfolio value: 100000\n",
      "Final portfolio value: 59019.9140625\n",
      "Final accumulative portfolio return: 0.590199140625\n",
      "Maximum DrawDown: -0.4803191378533258\n",
      "Sharpe ratio: -0.8112828823241969\n",
      "=================================\n",
      "Metrics - test_final_value: 59019.9140625, test_drawdown: -0.48031913785332586, test_sharpe: -0.8132505067814814, test_cumulative: 0.590199140625\n",
      "Training model with TIME_WINDOW=90, K_SIZE=3, CONV_MID=5, CONV_FINAL=20, LEARNING_RATE=0.01\n"
     ]
    },
    {
     "name": "stderr",
     "output_type": "stream",
     "text": [
      "C:\\Users\\xutia\\AppData\\Local\\Temp\\ipykernel_21240\\3616600396.py:59: FutureWarning: You are using `torch.load` with `weights_only=False` (the current default value), which uses the default pickle module implicitly. It is possible to construct malicious pickle data which will execute arbitrary code during unpickling (See https://github.com/pytorch/pytorch/blob/main/SECURITY.md#untrusted-models for more details). In a future release, the default value for `weights_only` will be flipped to `True`. This limits the functions that could be executed during unpickling. Arbitrary objects will no longer be allowed to be loaded via this mode unless they are explicitly allowlisted by the user via `torch.serialization.add_safe_globals`. We recommend you start setting `weights_only=True` for any use case where you don't have full control of the loaded file. Please open an issue on GitHub for any issues related to this experimental feature.\n",
      "  EIIE_policy.load_state_dict(torch.load(model_filename))\n"
     ]
    },
    {
     "name": "stdout",
     "output_type": "stream",
     "text": [
      "=================================\n",
      "Initial portfolio value: 100000\n",
      "Final portfolio value: 213182.171875\n",
      "Final accumulative portfolio return: 2.13182171875\n",
      "Maximum DrawDown: -0.3350675840036941\n",
      "Sharpe ratio: 0.7072229608837838\n",
      "=================================\n",
      "Metrics - train_final_value: 213182.171875, train_drawdown: -0.3350675840036941, train_sharpe: 0.7076440318441906, train_cumulative: 2.13182171875\n",
      "=================================\n",
      "Initial portfolio value: 100000\n",
      "Final portfolio value: 162731.96875\n",
      "Final accumulative portfolio return: 1.6273196875\n",
      "Maximum DrawDown: -0.1118973309141702\n",
      "Sharpe ratio: 1.7421427368157638\n",
      "=================================\n",
      "Metrics - test_final_value: 162731.96875, test_drawdown: -0.11189733091417021, test_sharpe: 1.7463879190087443, test_cumulative: 1.6273196875\n",
      "Training model with TIME_WINDOW=90, K_SIZE=3, CONV_MID=5, CONV_FINAL=20, LEARNING_RATE=0.02\n"
     ]
    },
    {
     "name": "stderr",
     "output_type": "stream",
     "text": [
      "C:\\Users\\xutia\\AppData\\Local\\Temp\\ipykernel_21240\\3616600396.py:59: FutureWarning: You are using `torch.load` with `weights_only=False` (the current default value), which uses the default pickle module implicitly. It is possible to construct malicious pickle data which will execute arbitrary code during unpickling (See https://github.com/pytorch/pytorch/blob/main/SECURITY.md#untrusted-models for more details). In a future release, the default value for `weights_only` will be flipped to `True`. This limits the functions that could be executed during unpickling. Arbitrary objects will no longer be allowed to be loaded via this mode unless they are explicitly allowlisted by the user via `torch.serialization.add_safe_globals`. We recommend you start setting `weights_only=True` for any use case where you don't have full control of the loaded file. Please open an issue on GitHub for any issues related to this experimental feature.\n",
      "  EIIE_policy.load_state_dict(torch.load(model_filename))\n"
     ]
    },
    {
     "name": "stdout",
     "output_type": "stream",
     "text": [
      "=================================\n",
      "Initial portfolio value: 100000\n",
      "Final portfolio value: 432927.5625\n",
      "Final accumulative portfolio return: 4.329275625\n",
      "Maximum DrawDown: -0.2801092002116138\n",
      "Sharpe ratio: 1.0055365755578392\n",
      "=================================\n",
      "Metrics - train_final_value: 432927.5625, train_drawdown: -0.2801092002116138, train_sharpe: 1.006138354747985, train_cumulative: 4.329275625\n",
      "=================================\n",
      "Initial portfolio value: 100000\n",
      "Final portfolio value: 88631.0625\n",
      "Final accumulative portfolio return: 0.886310625\n",
      "Maximum DrawDown: -0.29786244979685406\n",
      "Sharpe ratio: -0.13769746348157022\n",
      "=================================\n",
      "Metrics - test_final_value: 88631.0625, test_drawdown: -0.29786244979685406, test_sharpe: -0.13803055918386498, test_cumulative: 0.886310625\n",
      "Training model with TIME_WINDOW=90, K_SIZE=3, CONV_MID=10, CONV_FINAL=5, LEARNING_RATE=0.01\n"
     ]
    },
    {
     "name": "stderr",
     "output_type": "stream",
     "text": [
      "C:\\Users\\xutia\\AppData\\Local\\Temp\\ipykernel_21240\\3616600396.py:59: FutureWarning: You are using `torch.load` with `weights_only=False` (the current default value), which uses the default pickle module implicitly. It is possible to construct malicious pickle data which will execute arbitrary code during unpickling (See https://github.com/pytorch/pytorch/blob/main/SECURITY.md#untrusted-models for more details). In a future release, the default value for `weights_only` will be flipped to `True`. This limits the functions that could be executed during unpickling. Arbitrary objects will no longer be allowed to be loaded via this mode unless they are explicitly allowlisted by the user via `torch.serialization.add_safe_globals`. We recommend you start setting `weights_only=True` for any use case where you don't have full control of the loaded file. Please open an issue on GitHub for any issues related to this experimental feature.\n",
      "  EIIE_policy.load_state_dict(torch.load(model_filename))\n"
     ]
    },
    {
     "name": "stdout",
     "output_type": "stream",
     "text": [
      "=================================\n",
      "Initial portfolio value: 100000\n",
      "Final portfolio value: 746823.875\n",
      "Final accumulative portfolio return: 7.46823875\n",
      "Maximum DrawDown: -0.31410111307923705\n",
      "Sharpe ratio: 1.2639723631312958\n",
      "=================================\n",
      "Metrics - train_final_value: 746823.875, train_drawdown: -0.3141011130792371, train_sharpe: 1.2647300950679097, train_cumulative: 7.46823875\n",
      "=================================\n",
      "Initial portfolio value: 100000\n",
      "Final portfolio value: 231966.59375\n",
      "Final accumulative portfolio return: 2.3196659375\n",
      "Maximum DrawDown: -0.17441364747689303\n",
      "Sharpe ratio: 1.933404661253629\n",
      "=================================\n",
      "Metrics - test_final_value: 231966.59375, test_drawdown: -0.174413647476893, test_sharpe: 1.9381198296372448, test_cumulative: 2.3196659375\n",
      "Training model with TIME_WINDOW=90, K_SIZE=3, CONV_MID=10, CONV_FINAL=5, LEARNING_RATE=0.02\n"
     ]
    },
    {
     "name": "stderr",
     "output_type": "stream",
     "text": [
      "C:\\Users\\xutia\\AppData\\Local\\Temp\\ipykernel_21240\\3616600396.py:59: FutureWarning: You are using `torch.load` with `weights_only=False` (the current default value), which uses the default pickle module implicitly. It is possible to construct malicious pickle data which will execute arbitrary code during unpickling (See https://github.com/pytorch/pytorch/blob/main/SECURITY.md#untrusted-models for more details). In a future release, the default value for `weights_only` will be flipped to `True`. This limits the functions that could be executed during unpickling. Arbitrary objects will no longer be allowed to be loaded via this mode unless they are explicitly allowlisted by the user via `torch.serialization.add_safe_globals`. We recommend you start setting `weights_only=True` for any use case where you don't have full control of the loaded file. Please open an issue on GitHub for any issues related to this experimental feature.\n",
      "  EIIE_policy.load_state_dict(torch.load(model_filename))\n"
     ]
    },
    {
     "name": "stdout",
     "output_type": "stream",
     "text": [
      "=================================\n",
      "Initial portfolio value: 100000\n",
      "Final portfolio value: 416485.75\n",
      "Final accumulative portfolio return: 4.1648575\n",
      "Maximum DrawDown: -0.3079009967655125\n",
      "Sharpe ratio: 0.9537950720621934\n",
      "=================================\n",
      "Metrics - train_final_value: 416485.75, train_drawdown: -0.3079009967655125, train_sharpe: 0.9543660474699037, train_cumulative: 4.1648575\n",
      "=================================\n",
      "Initial portfolio value: 100000\n",
      "Final portfolio value: 64320.6171875\n",
      "Final accumulative portfolio return: 0.643206171875\n",
      "Maximum DrawDown: -0.42661958288325574\n",
      "Sharpe ratio: -0.7360620019215668\n",
      "=================================\n",
      "Metrics - test_final_value: 64320.6171875, test_drawdown: -0.42661958288325574, test_sharpe: -0.7378456807011047, test_cumulative: 0.643206171875\n",
      "Training model with TIME_WINDOW=90, K_SIZE=3, CONV_MID=10, CONV_FINAL=10, LEARNING_RATE=0.01\n"
     ]
    },
    {
     "name": "stderr",
     "output_type": "stream",
     "text": [
      "C:\\Users\\xutia\\AppData\\Local\\Temp\\ipykernel_21240\\3616600396.py:59: FutureWarning: You are using `torch.load` with `weights_only=False` (the current default value), which uses the default pickle module implicitly. It is possible to construct malicious pickle data which will execute arbitrary code during unpickling (See https://github.com/pytorch/pytorch/blob/main/SECURITY.md#untrusted-models for more details). In a future release, the default value for `weights_only` will be flipped to `True`. This limits the functions that could be executed during unpickling. Arbitrary objects will no longer be allowed to be loaded via this mode unless they are explicitly allowlisted by the user via `torch.serialization.add_safe_globals`. We recommend you start setting `weights_only=True` for any use case where you don't have full control of the loaded file. Please open an issue on GitHub for any issues related to this experimental feature.\n",
      "  EIIE_policy.load_state_dict(torch.load(model_filename))\n"
     ]
    },
    {
     "name": "stdout",
     "output_type": "stream",
     "text": [
      "=================================\n",
      "Initial portfolio value: 100000\n",
      "Final portfolio value: 603807.25\n",
      "Final accumulative portfolio return: 6.0380725\n",
      "Maximum DrawDown: -0.3712299840360277\n",
      "Sharpe ratio: 1.1451476263998326\n",
      "=================================\n",
      "Metrics - train_final_value: 603807.25, train_drawdown: -0.3712299840360277, train_sharpe: 1.1458328428993259, train_cumulative: 6.0380725\n",
      "=================================\n",
      "Initial portfolio value: 100000\n",
      "Final portfolio value: 63920.2734375\n",
      "Final accumulative portfolio return: 0.639202734375\n",
      "Maximum DrawDown: -0.48688781307399653\n",
      "Sharpe ratio: -0.8548230951257708\n",
      "=================================\n",
      "Metrics - test_final_value: 63920.2734375, test_drawdown: -0.48688781307399653, test_sharpe: -0.8568982906618781, test_cumulative: 0.639202734375\n",
      "Training model with TIME_WINDOW=90, K_SIZE=3, CONV_MID=10, CONV_FINAL=10, LEARNING_RATE=0.02\n"
     ]
    },
    {
     "name": "stderr",
     "output_type": "stream",
     "text": [
      "C:\\Users\\xutia\\AppData\\Local\\Temp\\ipykernel_21240\\3616600396.py:59: FutureWarning: You are using `torch.load` with `weights_only=False` (the current default value), which uses the default pickle module implicitly. It is possible to construct malicious pickle data which will execute arbitrary code during unpickling (See https://github.com/pytorch/pytorch/blob/main/SECURITY.md#untrusted-models for more details). In a future release, the default value for `weights_only` will be flipped to `True`. This limits the functions that could be executed during unpickling. Arbitrary objects will no longer be allowed to be loaded via this mode unless they are explicitly allowlisted by the user via `torch.serialization.add_safe_globals`. We recommend you start setting `weights_only=True` for any use case where you don't have full control of the loaded file. Please open an issue on GitHub for any issues related to this experimental feature.\n",
      "  EIIE_policy.load_state_dict(torch.load(model_filename))\n"
     ]
    },
    {
     "name": "stdout",
     "output_type": "stream",
     "text": [
      "=================================\n",
      "Initial portfolio value: 100000\n",
      "Final portfolio value: 100000.0\n",
      "Final accumulative portfolio return: 1.0\n",
      "Maximum DrawDown: 0.0\n",
      "Sharpe ratio: nan\n",
      "=================================\n"
     ]
    },
    {
     "name": "stderr",
     "output_type": "stream",
     "text": [
      "C:\\Users\\xutia\\AppData\\Roaming\\Python\\Python310\\site-packages\\quantstats\\stats.py:294: RuntimeWarning: invalid value encountered in scalar divide\n",
      "  res = returns.mean() / divisor\n",
      "C:\\Users\\xutia\\AppData\\Local\\Temp\\ipykernel_21240\\1884595116.py:70: RuntimeWarning: invalid value encountered in scalar divide\n",
      "  sharpe_ratio = np.mean(excess_returns) / np.std(excess_returns)\n"
     ]
    },
    {
     "name": "stdout",
     "output_type": "stream",
     "text": [
      "Metrics - train_final_value: 100000.0, train_drawdown: 0.0, train_sharpe: nan, train_cumulative: 1.0\n",
      "=================================\n",
      "Initial portfolio value: 100000\n",
      "Final portfolio value: 100000.0\n",
      "Final accumulative portfolio return: 1.0\n",
      "Maximum DrawDown: 0.0\n",
      "Sharpe ratio: nan\n",
      "=================================\n"
     ]
    },
    {
     "name": "stderr",
     "output_type": "stream",
     "text": [
      "C:\\Users\\xutia\\AppData\\Roaming\\Python\\Python310\\site-packages\\quantstats\\stats.py:294: RuntimeWarning: invalid value encountered in scalar divide\n",
      "  res = returns.mean() / divisor\n",
      "C:\\Users\\xutia\\AppData\\Local\\Temp\\ipykernel_21240\\1884595116.py:70: RuntimeWarning: invalid value encountered in scalar divide\n",
      "  sharpe_ratio = np.mean(excess_returns) / np.std(excess_returns)\n",
      "C:\\Users\\xutia\\AppData\\Local\\Temp\\ipykernel_21240\\3616600396.py:59: FutureWarning: You are using `torch.load` with `weights_only=False` (the current default value), which uses the default pickle module implicitly. It is possible to construct malicious pickle data which will execute arbitrary code during unpickling (See https://github.com/pytorch/pytorch/blob/main/SECURITY.md#untrusted-models for more details). In a future release, the default value for `weights_only` will be flipped to `True`. This limits the functions that could be executed during unpickling. Arbitrary objects will no longer be allowed to be loaded via this mode unless they are explicitly allowlisted by the user via `torch.serialization.add_safe_globals`. We recommend you start setting `weights_only=True` for any use case where you don't have full control of the loaded file. Please open an issue on GitHub for any issues related to this experimental feature.\n",
      "  EIIE_policy.load_state_dict(torch.load(model_filename))\n"
     ]
    },
    {
     "name": "stdout",
     "output_type": "stream",
     "text": [
      "Metrics - test_final_value: 100000.0, test_drawdown: 0.0, test_sharpe: nan, test_cumulative: 1.0\n",
      "Training model with TIME_WINDOW=90, K_SIZE=3, CONV_MID=10, CONV_FINAL=20, LEARNING_RATE=0.01\n",
      "=================================\n",
      "Initial portfolio value: 100000\n",
      "Final portfolio value: 356384.375\n",
      "Final accumulative portfolio return: 3.56384375\n",
      "Maximum DrawDown: -0.2665642354484412\n",
      "Sharpe ratio: 0.829962291953586\n",
      "=================================\n",
      "Metrics - train_final_value: 356384.375, train_drawdown: -0.2665642354484412, train_sharpe: 0.8304601896586572, train_cumulative: 3.56384375\n",
      "=================================\n",
      "Initial portfolio value: 100000\n",
      "Final portfolio value: 53388.6640625\n",
      "Final accumulative portfolio return: 0.533886640625\n",
      "Maximum DrawDown: -0.5242452073705202\n",
      "Sharpe ratio: -1.166949543591457\n",
      "=================================\n",
      "Metrics - test_final_value: 53388.6640625, test_drawdown: -0.52424520737052, test_sharpe: -1.169782404232415, test_cumulative: 0.533886640625\n",
      "Training model with TIME_WINDOW=90, K_SIZE=3, CONV_MID=10, CONV_FINAL=20, LEARNING_RATE=0.02\n",
      "Error encountered with combination policy_EIIE_90_3_10_20: [Errno 2] No such file or directory: 'policy_EIIE_90_3_10_20_0.02.pt'\n",
      "Training model with TIME_WINDOW=90, K_SIZE=3, CONV_MID=20, CONV_FINAL=5, LEARNING_RATE=0.01\n"
     ]
    },
    {
     "name": "stderr",
     "output_type": "stream",
     "text": [
      "C:\\Users\\xutia\\AppData\\Local\\Temp\\ipykernel_21240\\3616600396.py:59: FutureWarning: You are using `torch.load` with `weights_only=False` (the current default value), which uses the default pickle module implicitly. It is possible to construct malicious pickle data which will execute arbitrary code during unpickling (See https://github.com/pytorch/pytorch/blob/main/SECURITY.md#untrusted-models for more details). In a future release, the default value for `weights_only` will be flipped to `True`. This limits the functions that could be executed during unpickling. Arbitrary objects will no longer be allowed to be loaded via this mode unless they are explicitly allowlisted by the user via `torch.serialization.add_safe_globals`. We recommend you start setting `weights_only=True` for any use case where you don't have full control of the loaded file. Please open an issue on GitHub for any issues related to this experimental feature.\n",
      "  EIIE_policy.load_state_dict(torch.load(model_filename))\n",
      "C:\\Users\\xutia\\AppData\\Local\\Temp\\ipykernel_21240\\3616600396.py:89: FutureWarning: The behavior of DataFrame concatenation with empty or all-NA entries is deprecated. In a future version, this will no longer exclude empty or all-NA columns when determining the result dtypes. To retain the old behavior, exclude the relevant entries before the concat operation.\n",
      "  results_df = pd.concat([results_df, temp_df], ignore_index=True)\n",
      "C:\\Users\\xutia\\AppData\\Local\\Temp\\ipykernel_21240\\3616600396.py:59: FutureWarning: You are using `torch.load` with `weights_only=False` (the current default value), which uses the default pickle module implicitly. It is possible to construct malicious pickle data which will execute arbitrary code during unpickling (See https://github.com/pytorch/pytorch/blob/main/SECURITY.md#untrusted-models for more details). In a future release, the default value for `weights_only` will be flipped to `True`. This limits the functions that could be executed during unpickling. Arbitrary objects will no longer be allowed to be loaded via this mode unless they are explicitly allowlisted by the user via `torch.serialization.add_safe_globals`. We recommend you start setting `weights_only=True` for any use case where you don't have full control of the loaded file. Please open an issue on GitHub for any issues related to this experimental feature.\n",
      "  EIIE_policy.load_state_dict(torch.load(model_filename))\n"
     ]
    },
    {
     "name": "stdout",
     "output_type": "stream",
     "text": [
      "=================================\n",
      "Initial portfolio value: 100000\n",
      "Final portfolio value: 871771.0625\n",
      "Final accumulative portfolio return: 8.717710625\n",
      "Maximum DrawDown: -0.38515894383313265\n",
      "Sharpe ratio: 1.2812563927517544\n",
      "=================================\n",
      "Metrics - train_final_value: 871771.0625, train_drawdown: -0.3851589438331326, train_sharpe: 1.2820249263030732, train_cumulative: 8.717710625\n",
      "=================================\n",
      "Initial portfolio value: 100000\n",
      "Final portfolio value: 185789.5\n",
      "Final accumulative portfolio return: 1.857895\n",
      "Maximum DrawDown: -0.19441624814642455\n",
      "Sharpe ratio: 1.412053276290533\n",
      "=================================\n",
      "Metrics - test_final_value: 185789.5, test_drawdown: -0.19441624814642458, test_sharpe: 1.4154865193296426, test_cumulative: 1.857895\n",
      "Training model with TIME_WINDOW=90, K_SIZE=3, CONV_MID=20, CONV_FINAL=5, LEARNING_RATE=0.02\n"
     ]
    },
    {
     "name": "stderr",
     "output_type": "stream",
     "text": [
      "C:\\Users\\xutia\\AppData\\Local\\Temp\\ipykernel_21240\\3616600396.py:59: FutureWarning: You are using `torch.load` with `weights_only=False` (the current default value), which uses the default pickle module implicitly. It is possible to construct malicious pickle data which will execute arbitrary code during unpickling (See https://github.com/pytorch/pytorch/blob/main/SECURITY.md#untrusted-models for more details). In a future release, the default value for `weights_only` will be flipped to `True`. This limits the functions that could be executed during unpickling. Arbitrary objects will no longer be allowed to be loaded via this mode unless they are explicitly allowlisted by the user via `torch.serialization.add_safe_globals`. We recommend you start setting `weights_only=True` for any use case where you don't have full control of the loaded file. Please open an issue on GitHub for any issues related to this experimental feature.\n",
      "  EIIE_policy.load_state_dict(torch.load(model_filename))\n"
     ]
    },
    {
     "name": "stdout",
     "output_type": "stream",
     "text": [
      "=================================\n",
      "Initial portfolio value: 100000\n",
      "Final portfolio value: 834937.0\n",
      "Final accumulative portfolio return: 8.34937\n",
      "Maximum DrawDown: -0.3142727056558796\n",
      "Sharpe ratio: 1.2620795978331414\n",
      "=================================\n",
      "Metrics - train_final_value: 834937.0, train_drawdown: -0.31427270565587967, train_sharpe: 1.2628359570750982, train_cumulative: 8.34937\n",
      "=================================\n",
      "Initial portfolio value: 100000\n",
      "Final portfolio value: 100000.0\n",
      "Final accumulative portfolio return: 1.0\n",
      "Maximum DrawDown: 0.0\n",
      "Sharpe ratio: nan\n",
      "=================================\n"
     ]
    },
    {
     "name": "stderr",
     "output_type": "stream",
     "text": [
      "C:\\Users\\xutia\\AppData\\Roaming\\Python\\Python310\\site-packages\\quantstats\\stats.py:294: RuntimeWarning: invalid value encountered in scalar divide\n",
      "  res = returns.mean() / divisor\n",
      "C:\\Users\\xutia\\AppData\\Local\\Temp\\ipykernel_21240\\1884595116.py:70: RuntimeWarning: invalid value encountered in scalar divide\n",
      "  sharpe_ratio = np.mean(excess_returns) / np.std(excess_returns)\n",
      "C:\\Users\\xutia\\AppData\\Local\\Temp\\ipykernel_21240\\3616600396.py:59: FutureWarning: You are using `torch.load` with `weights_only=False` (the current default value), which uses the default pickle module implicitly. It is possible to construct malicious pickle data which will execute arbitrary code during unpickling (See https://github.com/pytorch/pytorch/blob/main/SECURITY.md#untrusted-models for more details). In a future release, the default value for `weights_only` will be flipped to `True`. This limits the functions that could be executed during unpickling. Arbitrary objects will no longer be allowed to be loaded via this mode unless they are explicitly allowlisted by the user via `torch.serialization.add_safe_globals`. We recommend you start setting `weights_only=True` for any use case where you don't have full control of the loaded file. Please open an issue on GitHub for any issues related to this experimental feature.\n",
      "  EIIE_policy.load_state_dict(torch.load(model_filename))\n"
     ]
    },
    {
     "name": "stdout",
     "output_type": "stream",
     "text": [
      "Metrics - test_final_value: 100000.0, test_drawdown: 0.0, test_sharpe: nan, test_cumulative: 1.0\n",
      "Training model with TIME_WINDOW=90, K_SIZE=3, CONV_MID=20, CONV_FINAL=10, LEARNING_RATE=0.01\n",
      "=================================\n",
      "Initial portfolio value: 100000\n",
      "Final portfolio value: 100000.0\n",
      "Final accumulative portfolio return: 1.0\n",
      "Maximum DrawDown: 0.0\n",
      "Sharpe ratio: nan\n",
      "=================================\n"
     ]
    },
    {
     "name": "stderr",
     "output_type": "stream",
     "text": [
      "C:\\Users\\xutia\\AppData\\Roaming\\Python\\Python310\\site-packages\\quantstats\\stats.py:294: RuntimeWarning: invalid value encountered in scalar divide\n",
      "  res = returns.mean() / divisor\n",
      "C:\\Users\\xutia\\AppData\\Local\\Temp\\ipykernel_21240\\1884595116.py:70: RuntimeWarning: invalid value encountered in scalar divide\n",
      "  sharpe_ratio = np.mean(excess_returns) / np.std(excess_returns)\n"
     ]
    },
    {
     "name": "stdout",
     "output_type": "stream",
     "text": [
      "Metrics - train_final_value: 100000.0, train_drawdown: 0.0, train_sharpe: nan, train_cumulative: 1.0\n",
      "=================================\n",
      "Initial portfolio value: 100000\n",
      "Final portfolio value: 100000.0\n",
      "Final accumulative portfolio return: 1.0\n",
      "Maximum DrawDown: 0.0\n",
      "Sharpe ratio: nan\n",
      "=================================\n"
     ]
    },
    {
     "name": "stderr",
     "output_type": "stream",
     "text": [
      "C:\\Users\\xutia\\AppData\\Roaming\\Python\\Python310\\site-packages\\quantstats\\stats.py:294: RuntimeWarning: invalid value encountered in scalar divide\n",
      "  res = returns.mean() / divisor\n",
      "C:\\Users\\xutia\\AppData\\Local\\Temp\\ipykernel_21240\\1884595116.py:70: RuntimeWarning: invalid value encountered in scalar divide\n",
      "  sharpe_ratio = np.mean(excess_returns) / np.std(excess_returns)\n",
      "C:\\Users\\xutia\\AppData\\Local\\Temp\\ipykernel_21240\\3616600396.py:59: FutureWarning: You are using `torch.load` with `weights_only=False` (the current default value), which uses the default pickle module implicitly. It is possible to construct malicious pickle data which will execute arbitrary code during unpickling (See https://github.com/pytorch/pytorch/blob/main/SECURITY.md#untrusted-models for more details). In a future release, the default value for `weights_only` will be flipped to `True`. This limits the functions that could be executed during unpickling. Arbitrary objects will no longer be allowed to be loaded via this mode unless they are explicitly allowlisted by the user via `torch.serialization.add_safe_globals`. We recommend you start setting `weights_only=True` for any use case where you don't have full control of the loaded file. Please open an issue on GitHub for any issues related to this experimental feature.\n",
      "  EIIE_policy.load_state_dict(torch.load(model_filename))\n"
     ]
    },
    {
     "name": "stdout",
     "output_type": "stream",
     "text": [
      "Metrics - test_final_value: 100000.0, test_drawdown: 0.0, test_sharpe: nan, test_cumulative: 1.0\n",
      "Training model with TIME_WINDOW=90, K_SIZE=3, CONV_MID=20, CONV_FINAL=10, LEARNING_RATE=0.02\n",
      "=================================\n",
      "Initial portfolio value: 100000\n",
      "Final portfolio value: 522051.0625\n",
      "Final accumulative portfolio return: 5.220510625\n",
      "Maximum DrawDown: -0.4499670766498701\n",
      "Sharpe ratio: 0.921603686950493\n",
      "=================================\n",
      "Metrics - train_final_value: 522051.0625, train_drawdown: -0.44996707664987007, train_sharpe: 0.9221553175737516, train_cumulative: 5.220510625\n",
      "=================================\n",
      "Initial portfolio value: 100000\n",
      "Final portfolio value: 162087.453125\n",
      "Final accumulative portfolio return: 1.62087453125\n",
      "Maximum DrawDown: -0.2533358981117033\n",
      "Sharpe ratio: 1.1047788570807677\n",
      "=================================\n",
      "Metrics - test_final_value: 162087.453125, test_drawdown: -0.25333589811170326, test_sharpe: 1.1074617965259979, test_cumulative: 1.62087453125\n",
      "Training model with TIME_WINDOW=90, K_SIZE=3, CONV_MID=20, CONV_FINAL=20, LEARNING_RATE=0.01\n"
     ]
    },
    {
     "name": "stderr",
     "output_type": "stream",
     "text": [
      "C:\\Users\\xutia\\AppData\\Local\\Temp\\ipykernel_21240\\3616600396.py:59: FutureWarning: You are using `torch.load` with `weights_only=False` (the current default value), which uses the default pickle module implicitly. It is possible to construct malicious pickle data which will execute arbitrary code during unpickling (See https://github.com/pytorch/pytorch/blob/main/SECURITY.md#untrusted-models for more details). In a future release, the default value for `weights_only` will be flipped to `True`. This limits the functions that could be executed during unpickling. Arbitrary objects will no longer be allowed to be loaded via this mode unless they are explicitly allowlisted by the user via `torch.serialization.add_safe_globals`. We recommend you start setting `weights_only=True` for any use case where you don't have full control of the loaded file. Please open an issue on GitHub for any issues related to this experimental feature.\n",
      "  EIIE_policy.load_state_dict(torch.load(model_filename))\n"
     ]
    },
    {
     "name": "stdout",
     "output_type": "stream",
     "text": [
      "=================================\n",
      "Initial portfolio value: 100000\n",
      "Final portfolio value: 100000.0\n",
      "Final accumulative portfolio return: 1.0\n",
      "Maximum DrawDown: 0.0\n",
      "Sharpe ratio: nan\n",
      "=================================\n"
     ]
    },
    {
     "name": "stderr",
     "output_type": "stream",
     "text": [
      "C:\\Users\\xutia\\AppData\\Roaming\\Python\\Python310\\site-packages\\quantstats\\stats.py:294: RuntimeWarning: invalid value encountered in scalar divide\n",
      "  res = returns.mean() / divisor\n",
      "C:\\Users\\xutia\\AppData\\Local\\Temp\\ipykernel_21240\\1884595116.py:70: RuntimeWarning: invalid value encountered in scalar divide\n",
      "  sharpe_ratio = np.mean(excess_returns) / np.std(excess_returns)\n"
     ]
    },
    {
     "name": "stdout",
     "output_type": "stream",
     "text": [
      "Metrics - train_final_value: 100000.0, train_drawdown: 0.0, train_sharpe: nan, train_cumulative: 1.0\n",
      "=================================\n",
      "Initial portfolio value: 100000\n",
      "Final portfolio value: 100000.0\n",
      "Final accumulative portfolio return: 1.0\n",
      "Maximum DrawDown: 0.0\n",
      "Sharpe ratio: nan\n",
      "=================================\n"
     ]
    },
    {
     "name": "stderr",
     "output_type": "stream",
     "text": [
      "C:\\Users\\xutia\\AppData\\Roaming\\Python\\Python310\\site-packages\\quantstats\\stats.py:294: RuntimeWarning: invalid value encountered in scalar divide\n",
      "  res = returns.mean() / divisor\n",
      "C:\\Users\\xutia\\AppData\\Local\\Temp\\ipykernel_21240\\1884595116.py:70: RuntimeWarning: invalid value encountered in scalar divide\n",
      "  sharpe_ratio = np.mean(excess_returns) / np.std(excess_returns)\n",
      "C:\\Users\\xutia\\AppData\\Local\\Temp\\ipykernel_21240\\3616600396.py:59: FutureWarning: You are using `torch.load` with `weights_only=False` (the current default value), which uses the default pickle module implicitly. It is possible to construct malicious pickle data which will execute arbitrary code during unpickling (See https://github.com/pytorch/pytorch/blob/main/SECURITY.md#untrusted-models for more details). In a future release, the default value for `weights_only` will be flipped to `True`. This limits the functions that could be executed during unpickling. Arbitrary objects will no longer be allowed to be loaded via this mode unless they are explicitly allowlisted by the user via `torch.serialization.add_safe_globals`. We recommend you start setting `weights_only=True` for any use case where you don't have full control of the loaded file. Please open an issue on GitHub for any issues related to this experimental feature.\n",
      "  EIIE_policy.load_state_dict(torch.load(model_filename))\n"
     ]
    },
    {
     "name": "stdout",
     "output_type": "stream",
     "text": [
      "Metrics - test_final_value: 100000.0, test_drawdown: 0.0, test_sharpe: nan, test_cumulative: 1.0\n",
      "Training model with TIME_WINDOW=90, K_SIZE=3, CONV_MID=20, CONV_FINAL=20, LEARNING_RATE=0.02\n",
      "=================================\n",
      "Initial portfolio value: 100000\n",
      "Final portfolio value: 866026.25\n",
      "Final accumulative portfolio return: 8.6602625\n",
      "Maximum DrawDown: -0.3851588865337363\n",
      "Sharpe ratio: 1.2748459103386356\n",
      "=================================\n",
      "Metrics - train_final_value: 866026.25, train_drawdown: -0.3851588865337363, train_sharpe: 1.2756101909403872, train_cumulative: 8.6602625\n",
      "=================================\n",
      "Initial portfolio value: 100000\n",
      "Final portfolio value: 189087.84375\n",
      "Final accumulative portfolio return: 1.8908784375\n",
      "Maximum DrawDown: -0.20508642814863975\n",
      "Sharpe ratio: 1.4141431468352657\n",
      "=================================\n",
      "Metrics - test_final_value: 189087.84375, test_drawdown: -0.20508642814863975, test_sharpe: 1.4175813855886845, test_cumulative: 1.8908784375\n",
      "Training model with TIME_WINDOW=90, K_SIZE=4, CONV_MID=5, CONV_FINAL=5, LEARNING_RATE=0.01\n"
     ]
    },
    {
     "name": "stderr",
     "output_type": "stream",
     "text": [
      "C:\\Users\\xutia\\AppData\\Local\\Temp\\ipykernel_21240\\3616600396.py:59: FutureWarning: You are using `torch.load` with `weights_only=False` (the current default value), which uses the default pickle module implicitly. It is possible to construct malicious pickle data which will execute arbitrary code during unpickling (See https://github.com/pytorch/pytorch/blob/main/SECURITY.md#untrusted-models for more details). In a future release, the default value for `weights_only` will be flipped to `True`. This limits the functions that could be executed during unpickling. Arbitrary objects will no longer be allowed to be loaded via this mode unless they are explicitly allowlisted by the user via `torch.serialization.add_safe_globals`. We recommend you start setting `weights_only=True` for any use case where you don't have full control of the loaded file. Please open an issue on GitHub for any issues related to this experimental feature.\n",
      "  EIIE_policy.load_state_dict(torch.load(model_filename))\n"
     ]
    },
    {
     "name": "stdout",
     "output_type": "stream",
     "text": [
      "=================================\n",
      "Initial portfolio value: 100000\n",
      "Final portfolio value: 508685.875\n",
      "Final accumulative portfolio return: 5.08685875\n",
      "Maximum DrawDown: -0.27769279145497827\n",
      "Sharpe ratio: 1.068811216290973\n",
      "=================================\n",
      "Metrics - train_final_value: 508685.875, train_drawdown: -0.27769279145497827, train_sharpe: 1.0694499047282073, train_cumulative: 5.08685875\n",
      "=================================\n",
      "Initial portfolio value: 100000\n",
      "Final portfolio value: 93324.6875\n",
      "Final accumulative portfolio return: 0.933246875\n",
      "Maximum DrawDown: -0.3291573330448395\n",
      "Sharpe ratio: -0.038619536339711845\n",
      "=================================\n",
      "Metrics - test_final_value: 93324.6875, test_drawdown: -0.3291573330448396, test_sharpe: -0.038712127317483885, test_cumulative: 0.933246875\n",
      "Training model with TIME_WINDOW=90, K_SIZE=4, CONV_MID=5, CONV_FINAL=5, LEARNING_RATE=0.02\n"
     ]
    },
    {
     "name": "stderr",
     "output_type": "stream",
     "text": [
      "C:\\Users\\xutia\\AppData\\Local\\Temp\\ipykernel_21240\\3616600396.py:59: FutureWarning: You are using `torch.load` with `weights_only=False` (the current default value), which uses the default pickle module implicitly. It is possible to construct malicious pickle data which will execute arbitrary code during unpickling (See https://github.com/pytorch/pytorch/blob/main/SECURITY.md#untrusted-models for more details). In a future release, the default value for `weights_only` will be flipped to `True`. This limits the functions that could be executed during unpickling. Arbitrary objects will no longer be allowed to be loaded via this mode unless they are explicitly allowlisted by the user via `torch.serialization.add_safe_globals`. We recommend you start setting `weights_only=True` for any use case where you don't have full control of the loaded file. Please open an issue on GitHub for any issues related to this experimental feature.\n",
      "  EIIE_policy.load_state_dict(torch.load(model_filename))\n"
     ]
    },
    {
     "name": "stdout",
     "output_type": "stream",
     "text": [
      "=================================\n",
      "Initial portfolio value: 100000\n",
      "Final portfolio value: 100000.0\n",
      "Final accumulative portfolio return: 1.0\n",
      "Maximum DrawDown: 0.0\n",
      "Sharpe ratio: nan\n",
      "=================================\n"
     ]
    },
    {
     "name": "stderr",
     "output_type": "stream",
     "text": [
      "C:\\Users\\xutia\\AppData\\Roaming\\Python\\Python310\\site-packages\\quantstats\\stats.py:294: RuntimeWarning: invalid value encountered in scalar divide\n",
      "  res = returns.mean() / divisor\n",
      "C:\\Users\\xutia\\AppData\\Local\\Temp\\ipykernel_21240\\1884595116.py:70: RuntimeWarning: invalid value encountered in scalar divide\n",
      "  sharpe_ratio = np.mean(excess_returns) / np.std(excess_returns)\n"
     ]
    },
    {
     "name": "stdout",
     "output_type": "stream",
     "text": [
      "Metrics - train_final_value: 100000.0, train_drawdown: 0.0, train_sharpe: nan, train_cumulative: 1.0\n",
      "=================================\n",
      "Initial portfolio value: 100000\n",
      "Final portfolio value: 100000.0\n",
      "Final accumulative portfolio return: 1.0\n",
      "Maximum DrawDown: 0.0\n",
      "Sharpe ratio: nan\n",
      "=================================\n"
     ]
    },
    {
     "name": "stderr",
     "output_type": "stream",
     "text": [
      "C:\\Users\\xutia\\AppData\\Roaming\\Python\\Python310\\site-packages\\quantstats\\stats.py:294: RuntimeWarning: invalid value encountered in scalar divide\n",
      "  res = returns.mean() / divisor\n",
      "C:\\Users\\xutia\\AppData\\Local\\Temp\\ipykernel_21240\\1884595116.py:70: RuntimeWarning: invalid value encountered in scalar divide\n",
      "  sharpe_ratio = np.mean(excess_returns) / np.std(excess_returns)\n",
      "C:\\Users\\xutia\\AppData\\Local\\Temp\\ipykernel_21240\\3616600396.py:59: FutureWarning: You are using `torch.load` with `weights_only=False` (the current default value), which uses the default pickle module implicitly. It is possible to construct malicious pickle data which will execute arbitrary code during unpickling (See https://github.com/pytorch/pytorch/blob/main/SECURITY.md#untrusted-models for more details). In a future release, the default value for `weights_only` will be flipped to `True`. This limits the functions that could be executed during unpickling. Arbitrary objects will no longer be allowed to be loaded via this mode unless they are explicitly allowlisted by the user via `torch.serialization.add_safe_globals`. We recommend you start setting `weights_only=True` for any use case where you don't have full control of the loaded file. Please open an issue on GitHub for any issues related to this experimental feature.\n",
      "  EIIE_policy.load_state_dict(torch.load(model_filename))\n"
     ]
    },
    {
     "name": "stdout",
     "output_type": "stream",
     "text": [
      "Metrics - test_final_value: 100000.0, test_drawdown: 0.0, test_sharpe: nan, test_cumulative: 1.0\n",
      "Training model with TIME_WINDOW=90, K_SIZE=4, CONV_MID=5, CONV_FINAL=10, LEARNING_RATE=0.01\n",
      "=================================\n",
      "Initial portfolio value: 100000\n",
      "Final portfolio value: 480227.3125\n",
      "Final accumulative portfolio return: 4.802273125\n",
      "Maximum DrawDown: -0.2652916688452024\n",
      "Sharpe ratio: 1.0068118641345765\n",
      "=================================\n",
      "Metrics - train_final_value: 480227.3125, train_drawdown: -0.26529166884520244, train_sharpe: 1.0074146021509538, train_cumulative: 4.802273125\n",
      "=================================\n",
      "Initial portfolio value: 100000\n",
      "Final portfolio value: 35451.04296875\n",
      "Final accumulative portfolio return: 0.3545104296875\n",
      "Maximum DrawDown: -0.6784507298670289\n",
      "Sharpe ratio: -1.9425453581481542\n",
      "=================================\n",
      "Metrics - test_final_value: 35451.04296875, test_drawdown: -0.6784507298670289, test_sharpe: -1.947285506897086, test_cumulative: 0.3545104296875\n",
      "Training model with TIME_WINDOW=90, K_SIZE=4, CONV_MID=5, CONV_FINAL=10, LEARNING_RATE=0.02\n"
     ]
    },
    {
     "name": "stderr",
     "output_type": "stream",
     "text": [
      "C:\\Users\\xutia\\AppData\\Local\\Temp\\ipykernel_21240\\3616600396.py:59: FutureWarning: You are using `torch.load` with `weights_only=False` (the current default value), which uses the default pickle module implicitly. It is possible to construct malicious pickle data which will execute arbitrary code during unpickling (See https://github.com/pytorch/pytorch/blob/main/SECURITY.md#untrusted-models for more details). In a future release, the default value for `weights_only` will be flipped to `True`. This limits the functions that could be executed during unpickling. Arbitrary objects will no longer be allowed to be loaded via this mode unless they are explicitly allowlisted by the user via `torch.serialization.add_safe_globals`. We recommend you start setting `weights_only=True` for any use case where you don't have full control of the loaded file. Please open an issue on GitHub for any issues related to this experimental feature.\n",
      "  EIIE_policy.load_state_dict(torch.load(model_filename))\n"
     ]
    },
    {
     "name": "stdout",
     "output_type": "stream",
     "text": [
      "=================================\n",
      "Initial portfolio value: 100000\n",
      "Final portfolio value: 236850.0625\n",
      "Final accumulative portfolio return: 2.368500625\n",
      "Maximum DrawDown: -0.35183324705729635\n",
      "Sharpe ratio: 0.7757388353748724\n",
      "=================================\n",
      "Metrics - train_final_value: 236850.0625, train_drawdown: -0.35183324705729635, train_sharpe: 0.7762033859561847, train_cumulative: 2.368500625\n",
      "=================================\n",
      "Initial portfolio value: 100000\n",
      "Final portfolio value: 120319.0078125\n",
      "Final accumulative portfolio return: 1.203190078125\n",
      "Maximum DrawDown: -0.15839528657284996\n",
      "Sharpe ratio: 0.720076966278277\n",
      "=================================\n",
      "Metrics - test_final_value: 120319.0078125, test_drawdown: -0.15839528657284996, test_sharpe: 0.72182523740027, test_cumulative: 1.203190078125\n",
      "Training model with TIME_WINDOW=90, K_SIZE=4, CONV_MID=5, CONV_FINAL=20, LEARNING_RATE=0.01\n"
     ]
    },
    {
     "name": "stderr",
     "output_type": "stream",
     "text": [
      "C:\\Users\\xutia\\AppData\\Local\\Temp\\ipykernel_21240\\3616600396.py:59: FutureWarning: You are using `torch.load` with `weights_only=False` (the current default value), which uses the default pickle module implicitly. It is possible to construct malicious pickle data which will execute arbitrary code during unpickling (See https://github.com/pytorch/pytorch/blob/main/SECURITY.md#untrusted-models for more details). In a future release, the default value for `weights_only` will be flipped to `True`. This limits the functions that could be executed during unpickling. Arbitrary objects will no longer be allowed to be loaded via this mode unless they are explicitly allowlisted by the user via `torch.serialization.add_safe_globals`. We recommend you start setting `weights_only=True` for any use case where you don't have full control of the loaded file. Please open an issue on GitHub for any issues related to this experimental feature.\n",
      "  EIIE_policy.load_state_dict(torch.load(model_filename))\n"
     ]
    },
    {
     "name": "stdout",
     "output_type": "stream",
     "text": [
      "=================================\n",
      "Initial portfolio value: 100000\n",
      "Final portfolio value: 421282.375\n",
      "Final accumulative portfolio return: 4.21282375\n",
      "Maximum DrawDown: -0.2804958578483516\n",
      "Sharpe ratio: 0.9678471659874858\n",
      "=================================\n",
      "Metrics - train_final_value: 421282.375, train_drawdown: -0.2804958578483517, train_sharpe: 0.9684273553512941, train_cumulative: 4.21282375\n",
      "=================================\n",
      "Initial portfolio value: 100000\n",
      "Final portfolio value: 52080.00390625\n",
      "Final accumulative portfolio return: 0.5208000390625\n",
      "Maximum DrawDown: -0.5003889346062238\n",
      "Sharpe ratio: -1.9784706977598256\n",
      "=================================\n",
      "Metrics - test_final_value: 52080.00390625, test_drawdown: -0.5003889346062238, test_sharpe: -1.983296325832045, test_cumulative: 0.5208000390625\n",
      "Training model with TIME_WINDOW=90, K_SIZE=4, CONV_MID=5, CONV_FINAL=20, LEARNING_RATE=0.02\n"
     ]
    },
    {
     "name": "stderr",
     "output_type": "stream",
     "text": [
      "C:\\Users\\xutia\\AppData\\Local\\Temp\\ipykernel_21240\\3616600396.py:59: FutureWarning: You are using `torch.load` with `weights_only=False` (the current default value), which uses the default pickle module implicitly. It is possible to construct malicious pickle data which will execute arbitrary code during unpickling (See https://github.com/pytorch/pytorch/blob/main/SECURITY.md#untrusted-models for more details). In a future release, the default value for `weights_only` will be flipped to `True`. This limits the functions that could be executed during unpickling. Arbitrary objects will no longer be allowed to be loaded via this mode unless they are explicitly allowlisted by the user via `torch.serialization.add_safe_globals`. We recommend you start setting `weights_only=True` for any use case where you don't have full control of the loaded file. Please open an issue on GitHub for any issues related to this experimental feature.\n",
      "  EIIE_policy.load_state_dict(torch.load(model_filename))\n"
     ]
    },
    {
     "name": "stdout",
     "output_type": "stream",
     "text": [
      "=================================\n",
      "Initial portfolio value: 100000\n",
      "Final portfolio value: 997709.625\n",
      "Final accumulative portfolio return: 9.97709625\n",
      "Maximum DrawDown: -0.3851589093921488\n",
      "Sharpe ratio: 1.3778389005253173\n",
      "=================================\n",
      "Metrics - train_final_value: 997709.625, train_drawdown: -0.3851589093921488, train_sharpe: 1.3786651834113106, train_cumulative: 9.97709625\n",
      "=================================\n",
      "Initial portfolio value: 100000\n",
      "Final portfolio value: 181643.359375\n",
      "Final accumulative portfolio return: 1.81643359375\n",
      "Maximum DrawDown: -0.20636631108590708\n",
      "Sharpe ratio: 1.3176827372279372\n",
      "=================================\n",
      "Metrics - test_final_value: 181643.359375, test_drawdown: -0.20636631108590706, test_sharpe: 1.3208850450225482, test_cumulative: 1.81643359375\n",
      "Training model with TIME_WINDOW=90, K_SIZE=4, CONV_MID=10, CONV_FINAL=5, LEARNING_RATE=0.01\n"
     ]
    },
    {
     "name": "stderr",
     "output_type": "stream",
     "text": [
      "C:\\Users\\xutia\\AppData\\Local\\Temp\\ipykernel_21240\\3616600396.py:59: FutureWarning: You are using `torch.load` with `weights_only=False` (the current default value), which uses the default pickle module implicitly. It is possible to construct malicious pickle data which will execute arbitrary code during unpickling (See https://github.com/pytorch/pytorch/blob/main/SECURITY.md#untrusted-models for more details). In a future release, the default value for `weights_only` will be flipped to `True`. This limits the functions that could be executed during unpickling. Arbitrary objects will no longer be allowed to be loaded via this mode unless they are explicitly allowlisted by the user via `torch.serialization.add_safe_globals`. We recommend you start setting `weights_only=True` for any use case where you don't have full control of the loaded file. Please open an issue on GitHub for any issues related to this experimental feature.\n",
      "  EIIE_policy.load_state_dict(torch.load(model_filename))\n"
     ]
    },
    {
     "name": "stdout",
     "output_type": "stream",
     "text": [
      "=================================\n",
      "Initial portfolio value: 100000\n",
      "Final portfolio value: 975957.375\n",
      "Final accumulative portfolio return: 9.75957375\n",
      "Maximum DrawDown: -0.296244792819073\n",
      "Sharpe ratio: 1.4039001825007231\n",
      "=================================\n",
      "Metrics - train_final_value: 975957.375, train_drawdown: -0.29624479281907307, train_sharpe: 1.4047421581823227, train_cumulative: 9.75957375\n",
      "=================================\n",
      "Initial portfolio value: 100000\n",
      "Final portfolio value: 218309.78125\n",
      "Final accumulative portfolio return: 2.1830978125\n",
      "Maximum DrawDown: -0.21127704327179897\n",
      "Sharpe ratio: 1.739349249753093\n",
      "=================================\n",
      "Metrics - test_final_value: 218309.78125, test_drawdown: -0.21127704327179894, test_sharpe: 1.743585917039785, test_cumulative: 2.1830978125\n",
      "Training model with TIME_WINDOW=90, K_SIZE=4, CONV_MID=10, CONV_FINAL=5, LEARNING_RATE=0.02\n"
     ]
    },
    {
     "name": "stderr",
     "output_type": "stream",
     "text": [
      "C:\\Users\\xutia\\AppData\\Local\\Temp\\ipykernel_21240\\3616600396.py:59: FutureWarning: You are using `torch.load` with `weights_only=False` (the current default value), which uses the default pickle module implicitly. It is possible to construct malicious pickle data which will execute arbitrary code during unpickling (See https://github.com/pytorch/pytorch/blob/main/SECURITY.md#untrusted-models for more details). In a future release, the default value for `weights_only` will be flipped to `True`. This limits the functions that could be executed during unpickling. Arbitrary objects will no longer be allowed to be loaded via this mode unless they are explicitly allowlisted by the user via `torch.serialization.add_safe_globals`. We recommend you start setting `weights_only=True` for any use case where you don't have full control of the loaded file. Please open an issue on GitHub for any issues related to this experimental feature.\n",
      "  EIIE_policy.load_state_dict(torch.load(model_filename))\n"
     ]
    },
    {
     "name": "stdout",
     "output_type": "stream",
     "text": [
      "=================================\n",
      "Initial portfolio value: 100000\n",
      "Final portfolio value: 233396.953125\n",
      "Final accumulative portfolio return: 2.33396953125\n",
      "Maximum DrawDown: -0.3460766011957962\n",
      "Sharpe ratio: 0.7754835200124416\n",
      "=================================\n",
      "Metrics - train_final_value: 233396.953125, train_drawdown: -0.3460766011957962, train_sharpe: 0.7759468084892052, train_cumulative: 2.33396953125\n",
      "=================================\n",
      "Initial portfolio value: 100000\n",
      "Final portfolio value: 119992.2265625\n",
      "Final accumulative portfolio return: 1.199922265625\n",
      "Maximum DrawDown: -0.15511916661315672\n",
      "Sharpe ratio: 0.7219576047191093\n",
      "=================================\n",
      "Metrics - test_final_value: 119992.2265625, test_drawdown: -0.15511916661315675, test_sharpe: 0.7237058112201151, test_cumulative: 1.199922265625\n",
      "Training model with TIME_WINDOW=90, K_SIZE=4, CONV_MID=10, CONV_FINAL=10, LEARNING_RATE=0.01\n"
     ]
    },
    {
     "name": "stderr",
     "output_type": "stream",
     "text": [
      "C:\\Users\\xutia\\AppData\\Local\\Temp\\ipykernel_21240\\3616600396.py:59: FutureWarning: You are using `torch.load` with `weights_only=False` (the current default value), which uses the default pickle module implicitly. It is possible to construct malicious pickle data which will execute arbitrary code during unpickling (See https://github.com/pytorch/pytorch/blob/main/SECURITY.md#untrusted-models for more details). In a future release, the default value for `weights_only` will be flipped to `True`. This limits the functions that could be executed during unpickling. Arbitrary objects will no longer be allowed to be loaded via this mode unless they are explicitly allowlisted by the user via `torch.serialization.add_safe_globals`. We recommend you start setting `weights_only=True` for any use case where you don't have full control of the loaded file. Please open an issue on GitHub for any issues related to this experimental feature.\n",
      "  EIIE_policy.load_state_dict(torch.load(model_filename))\n"
     ]
    },
    {
     "name": "stdout",
     "output_type": "stream",
     "text": [
      "=================================\n",
      "Initial portfolio value: 100000\n",
      "Final portfolio value: 533302.3125\n",
      "Final accumulative portfolio return: 5.333023125\n",
      "Maximum DrawDown: -0.38515879449282997\n",
      "Sharpe ratio: 1.0130613639568093\n",
      "=================================\n",
      "Metrics - train_final_value: 533302.3125, train_drawdown: -0.3851587944928299, train_sharpe: 1.01366813578062, train_cumulative: 5.333023125\n",
      "=================================\n",
      "Initial portfolio value: 100000\n",
      "Final portfolio value: 85151.203125\n",
      "Final accumulative portfolio return: 0.85151203125\n",
      "Maximum DrawDown: -0.3875413712090603\n",
      "Sharpe ratio: -0.23794691080372057\n",
      "=================================\n",
      "Metrics - test_final_value: 85151.203125, test_drawdown: -0.3875413712090603, test_sharpe: -0.23852338672398088, test_cumulative: 0.85151203125\n",
      "Training model with TIME_WINDOW=90, K_SIZE=4, CONV_MID=10, CONV_FINAL=10, LEARNING_RATE=0.02\n"
     ]
    },
    {
     "name": "stderr",
     "output_type": "stream",
     "text": [
      "C:\\Users\\xutia\\AppData\\Local\\Temp\\ipykernel_21240\\3616600396.py:59: FutureWarning: You are using `torch.load` with `weights_only=False` (the current default value), which uses the default pickle module implicitly. It is possible to construct malicious pickle data which will execute arbitrary code during unpickling (See https://github.com/pytorch/pytorch/blob/main/SECURITY.md#untrusted-models for more details). In a future release, the default value for `weights_only` will be flipped to `True`. This limits the functions that could be executed during unpickling. Arbitrary objects will no longer be allowed to be loaded via this mode unless they are explicitly allowlisted by the user via `torch.serialization.add_safe_globals`. We recommend you start setting `weights_only=True` for any use case where you don't have full control of the loaded file. Please open an issue on GitHub for any issues related to this experimental feature.\n",
      "  EIIE_policy.load_state_dict(torch.load(model_filename))\n"
     ]
    },
    {
     "name": "stdout",
     "output_type": "stream",
     "text": [
      "=================================\n",
      "Initial portfolio value: 100000\n",
      "Final portfolio value: 1046647.875\n",
      "Final accumulative portfolio return: 10.46647875\n",
      "Maximum DrawDown: -0.3142728120872723\n",
      "Sharpe ratio: 1.411294472271619\n",
      "=================================\n",
      "Metrics - train_final_value: 1046647.875, train_drawdown: -0.31427281208727226, train_sharpe: 1.4121413317206586, train_cumulative: 10.46647875\n",
      "=================================\n",
      "Initial portfolio value: 100000\n",
      "Final portfolio value: 188019.578125\n",
      "Final accumulative portfolio return: 1.88019578125\n",
      "Maximum DrawDown: -0.22498017023749783\n",
      "Sharpe ratio: 1.4270953957552202\n",
      "=================================\n",
      "Metrics - test_final_value: 188019.578125, test_drawdown: -0.22498017023749778, test_sharpe: 1.4305643658509448, test_cumulative: 1.88019578125\n",
      "Training model with TIME_WINDOW=90, K_SIZE=4, CONV_MID=10, CONV_FINAL=20, LEARNING_RATE=0.01\n"
     ]
    },
    {
     "name": "stderr",
     "output_type": "stream",
     "text": [
      "C:\\Users\\xutia\\AppData\\Local\\Temp\\ipykernel_21240\\3616600396.py:59: FutureWarning: You are using `torch.load` with `weights_only=False` (the current default value), which uses the default pickle module implicitly. It is possible to construct malicious pickle data which will execute arbitrary code during unpickling (See https://github.com/pytorch/pytorch/blob/main/SECURITY.md#untrusted-models for more details). In a future release, the default value for `weights_only` will be flipped to `True`. This limits the functions that could be executed during unpickling. Arbitrary objects will no longer be allowed to be loaded via this mode unless they are explicitly allowlisted by the user via `torch.serialization.add_safe_globals`. We recommend you start setting `weights_only=True` for any use case where you don't have full control of the loaded file. Please open an issue on GitHub for any issues related to this experimental feature.\n",
      "  EIIE_policy.load_state_dict(torch.load(model_filename))\n"
     ]
    },
    {
     "name": "stdout",
     "output_type": "stream",
     "text": [
      "=================================\n",
      "Initial portfolio value: 100000\n",
      "Final portfolio value: 100000.0\n",
      "Final accumulative portfolio return: 1.0\n",
      "Maximum DrawDown: 0.0\n",
      "Sharpe ratio: nan\n",
      "=================================\n"
     ]
    },
    {
     "name": "stderr",
     "output_type": "stream",
     "text": [
      "C:\\Users\\xutia\\AppData\\Roaming\\Python\\Python310\\site-packages\\quantstats\\stats.py:294: RuntimeWarning: invalid value encountered in scalar divide\n",
      "  res = returns.mean() / divisor\n",
      "C:\\Users\\xutia\\AppData\\Local\\Temp\\ipykernel_21240\\1884595116.py:70: RuntimeWarning: invalid value encountered in scalar divide\n",
      "  sharpe_ratio = np.mean(excess_returns) / np.std(excess_returns)\n"
     ]
    },
    {
     "name": "stdout",
     "output_type": "stream",
     "text": [
      "Metrics - train_final_value: 100000.0, train_drawdown: 0.0, train_sharpe: nan, train_cumulative: 1.0\n",
      "=================================\n",
      "Initial portfolio value: 100000\n",
      "Final portfolio value: 100000.0\n",
      "Final accumulative portfolio return: 1.0\n",
      "Maximum DrawDown: 0.0\n",
      "Sharpe ratio: nan\n",
      "=================================\n"
     ]
    },
    {
     "name": "stderr",
     "output_type": "stream",
     "text": [
      "C:\\Users\\xutia\\AppData\\Roaming\\Python\\Python310\\site-packages\\quantstats\\stats.py:294: RuntimeWarning: invalid value encountered in scalar divide\n",
      "  res = returns.mean() / divisor\n",
      "C:\\Users\\xutia\\AppData\\Local\\Temp\\ipykernel_21240\\1884595116.py:70: RuntimeWarning: invalid value encountered in scalar divide\n",
      "  sharpe_ratio = np.mean(excess_returns) / np.std(excess_returns)\n",
      "C:\\Users\\xutia\\AppData\\Local\\Temp\\ipykernel_21240\\3616600396.py:59: FutureWarning: You are using `torch.load` with `weights_only=False` (the current default value), which uses the default pickle module implicitly. It is possible to construct malicious pickle data which will execute arbitrary code during unpickling (See https://github.com/pytorch/pytorch/blob/main/SECURITY.md#untrusted-models for more details). In a future release, the default value for `weights_only` will be flipped to `True`. This limits the functions that could be executed during unpickling. Arbitrary objects will no longer be allowed to be loaded via this mode unless they are explicitly allowlisted by the user via `torch.serialization.add_safe_globals`. We recommend you start setting `weights_only=True` for any use case where you don't have full control of the loaded file. Please open an issue on GitHub for any issues related to this experimental feature.\n",
      "  EIIE_policy.load_state_dict(torch.load(model_filename))\n"
     ]
    },
    {
     "name": "stdout",
     "output_type": "stream",
     "text": [
      "Metrics - test_final_value: 100000.0, test_drawdown: 0.0, test_sharpe: nan, test_cumulative: 1.0\n",
      "Training model with TIME_WINDOW=90, K_SIZE=4, CONV_MID=10, CONV_FINAL=20, LEARNING_RATE=0.02\n",
      "=================================\n",
      "Initial portfolio value: 100000\n",
      "Final portfolio value: 100000.0\n",
      "Final accumulative portfolio return: 1.0\n",
      "Maximum DrawDown: 0.0\n",
      "Sharpe ratio: nan\n",
      "=================================\n"
     ]
    },
    {
     "name": "stderr",
     "output_type": "stream",
     "text": [
      "C:\\Users\\xutia\\AppData\\Roaming\\Python\\Python310\\site-packages\\quantstats\\stats.py:294: RuntimeWarning: invalid value encountered in scalar divide\n",
      "  res = returns.mean() / divisor\n",
      "C:\\Users\\xutia\\AppData\\Local\\Temp\\ipykernel_21240\\1884595116.py:70: RuntimeWarning: invalid value encountered in scalar divide\n",
      "  sharpe_ratio = np.mean(excess_returns) / np.std(excess_returns)\n"
     ]
    },
    {
     "name": "stdout",
     "output_type": "stream",
     "text": [
      "Metrics - train_final_value: 100000.0, train_drawdown: 0.0, train_sharpe: nan, train_cumulative: 1.0\n",
      "=================================\n",
      "Initial portfolio value: 100000\n",
      "Final portfolio value: 100000.0\n",
      "Final accumulative portfolio return: 1.0\n",
      "Maximum DrawDown: 0.0\n",
      "Sharpe ratio: nan\n",
      "=================================\n"
     ]
    },
    {
     "name": "stderr",
     "output_type": "stream",
     "text": [
      "C:\\Users\\xutia\\AppData\\Roaming\\Python\\Python310\\site-packages\\quantstats\\stats.py:294: RuntimeWarning: invalid value encountered in scalar divide\n",
      "  res = returns.mean() / divisor\n",
      "C:\\Users\\xutia\\AppData\\Local\\Temp\\ipykernel_21240\\1884595116.py:70: RuntimeWarning: invalid value encountered in scalar divide\n",
      "  sharpe_ratio = np.mean(excess_returns) / np.std(excess_returns)\n",
      "C:\\Users\\xutia\\AppData\\Local\\Temp\\ipykernel_21240\\3616600396.py:59: FutureWarning: You are using `torch.load` with `weights_only=False` (the current default value), which uses the default pickle module implicitly. It is possible to construct malicious pickle data which will execute arbitrary code during unpickling (See https://github.com/pytorch/pytorch/blob/main/SECURITY.md#untrusted-models for more details). In a future release, the default value for `weights_only` will be flipped to `True`. This limits the functions that could be executed during unpickling. Arbitrary objects will no longer be allowed to be loaded via this mode unless they are explicitly allowlisted by the user via `torch.serialization.add_safe_globals`. We recommend you start setting `weights_only=True` for any use case where you don't have full control of the loaded file. Please open an issue on GitHub for any issues related to this experimental feature.\n",
      "  EIIE_policy.load_state_dict(torch.load(model_filename))\n"
     ]
    },
    {
     "name": "stdout",
     "output_type": "stream",
     "text": [
      "Metrics - test_final_value: 100000.0, test_drawdown: 0.0, test_sharpe: nan, test_cumulative: 1.0\n",
      "Training model with TIME_WINDOW=90, K_SIZE=4, CONV_MID=20, CONV_FINAL=5, LEARNING_RATE=0.01\n",
      "=================================\n",
      "Initial portfolio value: 100000\n",
      "Final portfolio value: 720256.9375\n",
      "Final accumulative portfolio return: 7.202569375\n",
      "Maximum DrawDown: -0.3614302065503543\n",
      "Sharpe ratio: 1.2158625655079036\n",
      "=================================\n",
      "Metrics - train_final_value: 720256.9375, train_drawdown: -0.3614302065503543, train_sharpe: 1.2165921171417629, train_cumulative: 7.202569375\n",
      "=================================\n",
      "Initial portfolio value: 100000\n",
      "Final portfolio value: 181514.84375\n",
      "Final accumulative portfolio return: 1.8151484375\n",
      "Maximum DrawDown: -0.2171055066880595\n",
      "Sharpe ratio: 1.3376377152995582\n",
      "=================================\n",
      "Metrics - test_final_value: 181514.84375, test_drawdown: -0.21710550668805953, test_sharpe: 1.3408874983246628, test_cumulative: 1.8151484375\n",
      "Training model with TIME_WINDOW=90, K_SIZE=4, CONV_MID=20, CONV_FINAL=5, LEARNING_RATE=0.02\n"
     ]
    },
    {
     "name": "stderr",
     "output_type": "stream",
     "text": [
      "C:\\Users\\xutia\\AppData\\Local\\Temp\\ipykernel_21240\\3616600396.py:59: FutureWarning: You are using `torch.load` with `weights_only=False` (the current default value), which uses the default pickle module implicitly. It is possible to construct malicious pickle data which will execute arbitrary code during unpickling (See https://github.com/pytorch/pytorch/blob/main/SECURITY.md#untrusted-models for more details). In a future release, the default value for `weights_only` will be flipped to `True`. This limits the functions that could be executed during unpickling. Arbitrary objects will no longer be allowed to be loaded via this mode unless they are explicitly allowlisted by the user via `torch.serialization.add_safe_globals`. We recommend you start setting `weights_only=True` for any use case where you don't have full control of the loaded file. Please open an issue on GitHub for any issues related to this experimental feature.\n",
      "  EIIE_policy.load_state_dict(torch.load(model_filename))\n"
     ]
    },
    {
     "name": "stdout",
     "output_type": "stream",
     "text": [
      "=================================\n",
      "Initial portfolio value: 100000\n",
      "Final portfolio value: 230585.375\n",
      "Final accumulative portfolio return: 2.30585375\n",
      "Maximum DrawDown: -0.3421654489951099\n",
      "Sharpe ratio: 0.7743988600847598\n",
      "=================================\n",
      "Metrics - train_final_value: 230585.375, train_drawdown: -0.34216544899510987, train_sharpe: 0.7748631390903755, train_cumulative: 2.30585375\n",
      "=================================\n",
      "Initial portfolio value: 100000\n",
      "Final portfolio value: 119601.265625\n",
      "Final accumulative portfolio return: 1.19601265625\n",
      "Maximum DrawDown: -0.1525394426303911\n",
      "Sharpe ratio: 0.7201910866940526\n",
      "=================================\n",
      "Metrics - test_final_value: 119601.265625, test_drawdown: -0.15253944263039104, test_sharpe: 0.7219390043581319, test_cumulative: 1.19601265625\n",
      "Training model with TIME_WINDOW=90, K_SIZE=4, CONV_MID=20, CONV_FINAL=10, LEARNING_RATE=0.01\n",
      "Error encountered with combination policy_EIIE_90_4_20_10: [Errno 2] No such file or directory: 'policy_EIIE_90_4_20_10_0.01.pt'\n",
      "Training model with TIME_WINDOW=90, K_SIZE=4, CONV_MID=20, CONV_FINAL=10, LEARNING_RATE=0.02\n"
     ]
    },
    {
     "name": "stderr",
     "output_type": "stream",
     "text": [
      "C:\\Users\\xutia\\AppData\\Local\\Temp\\ipykernel_21240\\3616600396.py:59: FutureWarning: You are using `torch.load` with `weights_only=False` (the current default value), which uses the default pickle module implicitly. It is possible to construct malicious pickle data which will execute arbitrary code during unpickling (See https://github.com/pytorch/pytorch/blob/main/SECURITY.md#untrusted-models for more details). In a future release, the default value for `weights_only` will be flipped to `True`. This limits the functions that could be executed during unpickling. Arbitrary objects will no longer be allowed to be loaded via this mode unless they are explicitly allowlisted by the user via `torch.serialization.add_safe_globals`. We recommend you start setting `weights_only=True` for any use case where you don't have full control of the loaded file. Please open an issue on GitHub for any issues related to this experimental feature.\n",
      "  EIIE_policy.load_state_dict(torch.load(model_filename))\n",
      "C:\\Users\\xutia\\AppData\\Local\\Temp\\ipykernel_21240\\3616600396.py:89: FutureWarning: The behavior of DataFrame concatenation with empty or all-NA entries is deprecated. In a future version, this will no longer exclude empty or all-NA columns when determining the result dtypes. To retain the old behavior, exclude the relevant entries before the concat operation.\n",
      "  results_df = pd.concat([results_df, temp_df], ignore_index=True)\n",
      "C:\\Users\\xutia\\AppData\\Local\\Temp\\ipykernel_21240\\3616600396.py:59: FutureWarning: You are using `torch.load` with `weights_only=False` (the current default value), which uses the default pickle module implicitly. It is possible to construct malicious pickle data which will execute arbitrary code during unpickling (See https://github.com/pytorch/pytorch/blob/main/SECURITY.md#untrusted-models for more details). In a future release, the default value for `weights_only` will be flipped to `True`. This limits the functions that could be executed during unpickling. Arbitrary objects will no longer be allowed to be loaded via this mode unless they are explicitly allowlisted by the user via `torch.serialization.add_safe_globals`. We recommend you start setting `weights_only=True` for any use case where you don't have full control of the loaded file. Please open an issue on GitHub for any issues related to this experimental feature.\n",
      "  EIIE_policy.load_state_dict(torch.load(model_filename))\n"
     ]
    },
    {
     "name": "stdout",
     "output_type": "stream",
     "text": [
      "=================================\n",
      "Initial portfolio value: 100000\n",
      "Final portfolio value: 583472.0\n",
      "Final accumulative portfolio return: 5.83472\n",
      "Maximum DrawDown: -0.31540041824917975\n",
      "Sharpe ratio: 1.106089451676185\n",
      "=================================\n",
      "Metrics - train_final_value: 583472.0, train_drawdown: -0.3154004182491797, train_sharpe: 1.1067516454102322, train_cumulative: 5.83472\n",
      "=================================\n",
      "Initial portfolio value: 100000\n",
      "Final portfolio value: 173055.78125\n",
      "Final accumulative portfolio return: 1.7305578125\n",
      "Maximum DrawDown: -0.25783158656122507\n",
      "Sharpe ratio: 1.3127787057340936\n",
      "=================================\n",
      "Metrics - test_final_value: 173055.78125, test_drawdown: -0.2578315865612251, test_sharpe: 1.3159679301652762, test_cumulative: 1.7305578125\n",
      "Training model with TIME_WINDOW=90, K_SIZE=4, CONV_MID=20, CONV_FINAL=20, LEARNING_RATE=0.01\n"
     ]
    },
    {
     "name": "stderr",
     "output_type": "stream",
     "text": [
      "C:\\Users\\xutia\\AppData\\Local\\Temp\\ipykernel_21240\\3616600396.py:59: FutureWarning: You are using `torch.load` with `weights_only=False` (the current default value), which uses the default pickle module implicitly. It is possible to construct malicious pickle data which will execute arbitrary code during unpickling (See https://github.com/pytorch/pytorch/blob/main/SECURITY.md#untrusted-models for more details). In a future release, the default value for `weights_only` will be flipped to `True`. This limits the functions that could be executed during unpickling. Arbitrary objects will no longer be allowed to be loaded via this mode unless they are explicitly allowlisted by the user via `torch.serialization.add_safe_globals`. We recommend you start setting `weights_only=True` for any use case where you don't have full control of the loaded file. Please open an issue on GitHub for any issues related to this experimental feature.\n",
      "  EIIE_policy.load_state_dict(torch.load(model_filename))\n"
     ]
    },
    {
     "name": "stdout",
     "output_type": "stream",
     "text": [
      "=================================\n",
      "Initial portfolio value: 100000\n",
      "Final portfolio value: 587709.375\n",
      "Final accumulative portfolio return: 5.87709375\n",
      "Maximum DrawDown: -0.37970541820094683\n",
      "Sharpe ratio: 1.1184223403317486\n",
      "=================================\n",
      "Metrics - train_final_value: 587709.375, train_drawdown: -0.3797054182009469, train_sharpe: 1.1190926070677336, train_cumulative: 5.87709375\n",
      "=================================\n",
      "Initial portfolio value: 100000\n",
      "Final portfolio value: 76997.40625\n",
      "Final accumulative portfolio return: 0.7699740625\n",
      "Maximum DrawDown: -0.33973335529648874\n",
      "Sharpe ratio: -0.46268324868450156\n",
      "=================================\n",
      "Metrics - test_final_value: 76997.40625, test_drawdown: -0.33973335529648874, test_sharpe: -0.4638070789672982, test_cumulative: 0.7699740625\n",
      "Training model with TIME_WINDOW=90, K_SIZE=4, CONV_MID=20, CONV_FINAL=20, LEARNING_RATE=0.02\n"
     ]
    },
    {
     "name": "stderr",
     "output_type": "stream",
     "text": [
      "C:\\Users\\xutia\\AppData\\Local\\Temp\\ipykernel_21240\\3616600396.py:59: FutureWarning: You are using `torch.load` with `weights_only=False` (the current default value), which uses the default pickle module implicitly. It is possible to construct malicious pickle data which will execute arbitrary code during unpickling (See https://github.com/pytorch/pytorch/blob/main/SECURITY.md#untrusted-models for more details). In a future release, the default value for `weights_only` will be flipped to `True`. This limits the functions that could be executed during unpickling. Arbitrary objects will no longer be allowed to be loaded via this mode unless they are explicitly allowlisted by the user via `torch.serialization.add_safe_globals`. We recommend you start setting `weights_only=True` for any use case where you don't have full control of the loaded file. Please open an issue on GitHub for any issues related to this experimental feature.\n",
      "  EIIE_policy.load_state_dict(torch.load(model_filename))\n"
     ]
    },
    {
     "name": "stdout",
     "output_type": "stream",
     "text": [
      "=================================\n",
      "Initial portfolio value: 100000\n",
      "Final portfolio value: 742727.875\n",
      "Final accumulative portfolio return: 7.42727875\n",
      "Maximum DrawDown: -0.3851588667095047\n",
      "Sharpe ratio: 1.1973450016184404\n",
      "=================================\n",
      "Metrics - train_final_value: 742727.875, train_drawdown: -0.3851588667095048, train_sharpe: 1.1980625971717291, train_cumulative: 7.42727875\n",
      "=================================\n",
      "Initial portfolio value: 100000\n",
      "Final portfolio value: 191656.0625\n",
      "Final accumulative portfolio return: 1.916560625\n",
      "Maximum DrawDown: -0.20508657390829\n",
      "Sharpe ratio: 1.4134193356514766\n",
      "=================================\n",
      "Metrics - test_final_value: 191656.0625, test_drawdown: -0.20508657390828997, test_sharpe: 1.4168557075415236, test_cumulative: 1.916560625\n",
      "Training model with TIME_WINDOW=90, K_SIZE=5, CONV_MID=5, CONV_FINAL=5, LEARNING_RATE=0.01\n"
     ]
    },
    {
     "name": "stderr",
     "output_type": "stream",
     "text": [
      "C:\\Users\\xutia\\AppData\\Local\\Temp\\ipykernel_21240\\3616600396.py:59: FutureWarning: You are using `torch.load` with `weights_only=False` (the current default value), which uses the default pickle module implicitly. It is possible to construct malicious pickle data which will execute arbitrary code during unpickling (See https://github.com/pytorch/pytorch/blob/main/SECURITY.md#untrusted-models for more details). In a future release, the default value for `weights_only` will be flipped to `True`. This limits the functions that could be executed during unpickling. Arbitrary objects will no longer be allowed to be loaded via this mode unless they are explicitly allowlisted by the user via `torch.serialization.add_safe_globals`. We recommend you start setting `weights_only=True` for any use case where you don't have full control of the loaded file. Please open an issue on GitHub for any issues related to this experimental feature.\n",
      "  EIIE_policy.load_state_dict(torch.load(model_filename))\n"
     ]
    },
    {
     "name": "stdout",
     "output_type": "stream",
     "text": [
      "=================================\n",
      "Initial portfolio value: 100000\n",
      "Final portfolio value: 479921.96875\n",
      "Final accumulative portfolio return: 4.7992196875\n",
      "Maximum DrawDown: -0.28038666109103405\n",
      "Sharpe ratio: 1.0469071833199846\n",
      "=================================\n",
      "Metrics - train_final_value: 479921.96875, train_drawdown: -0.28038666109103405, train_sharpe: 1.0475338572816508, train_cumulative: 4.7992196875\n",
      "=================================\n",
      "Initial portfolio value: 100000\n",
      "Final portfolio value: 82640.7578125\n",
      "Final accumulative portfolio return: 0.826407578125\n",
      "Maximum DrawDown: -0.38006638955833527\n",
      "Sharpe ratio: -0.249914586980231\n",
      "=================================\n",
      "Metrics - test_final_value: 82640.7578125, test_drawdown: -0.3800663895583353, test_sharpe: -0.2505198462211326, test_cumulative: 0.826407578125\n",
      "Training model with TIME_WINDOW=90, K_SIZE=5, CONV_MID=5, CONV_FINAL=5, LEARNING_RATE=0.02\n"
     ]
    },
    {
     "name": "stderr",
     "output_type": "stream",
     "text": [
      "C:\\Users\\xutia\\AppData\\Local\\Temp\\ipykernel_21240\\3616600396.py:59: FutureWarning: You are using `torch.load` with `weights_only=False` (the current default value), which uses the default pickle module implicitly. It is possible to construct malicious pickle data which will execute arbitrary code during unpickling (See https://github.com/pytorch/pytorch/blob/main/SECURITY.md#untrusted-models for more details). In a future release, the default value for `weights_only` will be flipped to `True`. This limits the functions that could be executed during unpickling. Arbitrary objects will no longer be allowed to be loaded via this mode unless they are explicitly allowlisted by the user via `torch.serialization.add_safe_globals`. We recommend you start setting `weights_only=True` for any use case where you don't have full control of the loaded file. Please open an issue on GitHub for any issues related to this experimental feature.\n",
      "  EIIE_policy.load_state_dict(torch.load(model_filename))\n"
     ]
    },
    {
     "name": "stdout",
     "output_type": "stream",
     "text": [
      "=================================\n",
      "Initial portfolio value: 100000\n",
      "Final portfolio value: 372863.0\n",
      "Final accumulative portfolio return: 3.72863\n",
      "Maximum DrawDown: -0.2803819196116413\n",
      "Sharpe ratio: 0.9607135595880412\n",
      "=================================\n",
      "Metrics - train_final_value: 372863.0, train_drawdown: -0.2803819196116412, train_sharpe: 0.9612892305192927, train_cumulative: 3.72863\n",
      "=================================\n",
      "Initial portfolio value: 100000\n",
      "Final portfolio value: 147186.59375\n",
      "Final accumulative portfolio return: 1.4718659375\n",
      "Maximum DrawDown: -0.20278802921933003\n",
      "Sharpe ratio: 1.0319414502531097\n",
      "=================================\n",
      "Metrics - test_final_value: 147186.59375, test_drawdown: -0.20278802921933003, test_sharpe: 1.0344474192711373, test_cumulative: 1.4718659375\n",
      "Training model with TIME_WINDOW=90, K_SIZE=5, CONV_MID=5, CONV_FINAL=10, LEARNING_RATE=0.01\n"
     ]
    },
    {
     "name": "stderr",
     "output_type": "stream",
     "text": [
      "C:\\Users\\xutia\\AppData\\Local\\Temp\\ipykernel_21240\\3616600396.py:59: FutureWarning: You are using `torch.load` with `weights_only=False` (the current default value), which uses the default pickle module implicitly. It is possible to construct malicious pickle data which will execute arbitrary code during unpickling (See https://github.com/pytorch/pytorch/blob/main/SECURITY.md#untrusted-models for more details). In a future release, the default value for `weights_only` will be flipped to `True`. This limits the functions that could be executed during unpickling. Arbitrary objects will no longer be allowed to be loaded via this mode unless they are explicitly allowlisted by the user via `torch.serialization.add_safe_globals`. We recommend you start setting `weights_only=True` for any use case where you don't have full control of the loaded file. Please open an issue on GitHub for any issues related to this experimental feature.\n",
      "  EIIE_policy.load_state_dict(torch.load(model_filename))\n"
     ]
    },
    {
     "name": "stdout",
     "output_type": "stream",
     "text": [
      "=================================\n",
      "Initial portfolio value: 100000\n",
      "Final portfolio value: 674744.625\n",
      "Final accumulative portfolio return: 6.74744625\n",
      "Maximum DrawDown: -0.2803926901375492\n",
      "Sharpe ratio: 1.2184250211688556\n",
      "=================================\n",
      "Metrics - train_final_value: 674744.625, train_drawdown: -0.28039269013754925, train_sharpe: 1.219156233128172, train_cumulative: 6.74744625\n",
      "=================================\n",
      "Initial portfolio value: 100000\n",
      "Final portfolio value: 109810.7890625\n",
      "Final accumulative portfolio return: 1.098107890625\n",
      "Maximum DrawDown: -0.14678195091044555\n",
      "Sharpe ratio: 0.40458916367271125\n",
      "=================================\n",
      "Metrics - test_final_value: 109810.7890625, test_drawdown: -0.1467819509104455, test_sharpe: 0.40557138948264293, test_cumulative: 1.098107890625\n",
      "Training model with TIME_WINDOW=90, K_SIZE=5, CONV_MID=5, CONV_FINAL=10, LEARNING_RATE=0.02\n"
     ]
    },
    {
     "name": "stderr",
     "output_type": "stream",
     "text": [
      "C:\\Users\\xutia\\AppData\\Local\\Temp\\ipykernel_21240\\3616600396.py:59: FutureWarning: You are using `torch.load` with `weights_only=False` (the current default value), which uses the default pickle module implicitly. It is possible to construct malicious pickle data which will execute arbitrary code during unpickling (See https://github.com/pytorch/pytorch/blob/main/SECURITY.md#untrusted-models for more details). In a future release, the default value for `weights_only` will be flipped to `True`. This limits the functions that could be executed during unpickling. Arbitrary objects will no longer be allowed to be loaded via this mode unless they are explicitly allowlisted by the user via `torch.serialization.add_safe_globals`. We recommend you start setting `weights_only=True` for any use case where you don't have full control of the loaded file. Please open an issue on GitHub for any issues related to this experimental feature.\n",
      "  EIIE_policy.load_state_dict(torch.load(model_filename))\n"
     ]
    },
    {
     "name": "stdout",
     "output_type": "stream",
     "text": [
      "=================================\n",
      "Initial portfolio value: 100000\n",
      "Final portfolio value: 514603.84375\n",
      "Final accumulative portfolio return: 5.1460384375\n",
      "Maximum DrawDown: -0.335002144983816\n",
      "Sharpe ratio: 1.0327822481114628\n",
      "=================================\n",
      "Metrics - train_final_value: 514603.84375, train_drawdown: -0.33500214498381603, train_sharpe: 1.0334012548711764, train_cumulative: 5.1460384375\n",
      "=================================\n",
      "Initial portfolio value: 100000\n",
      "Final portfolio value: 166905.5\n",
      "Final accumulative portfolio return: 1.669055\n",
      "Maximum DrawDown: -0.29611236141267183\n",
      "Sharpe ratio: 1.11620268210055\n",
      "=================================\n",
      "Metrics - test_final_value: 166905.5, test_drawdown: -0.2961123614126719, test_sharpe: 1.1189132335521355, test_cumulative: 1.669055\n",
      "Training model with TIME_WINDOW=90, K_SIZE=5, CONV_MID=5, CONV_FINAL=20, LEARNING_RATE=0.01\n"
     ]
    },
    {
     "name": "stderr",
     "output_type": "stream",
     "text": [
      "C:\\Users\\xutia\\AppData\\Local\\Temp\\ipykernel_21240\\3616600396.py:59: FutureWarning: You are using `torch.load` with `weights_only=False` (the current default value), which uses the default pickle module implicitly. It is possible to construct malicious pickle data which will execute arbitrary code during unpickling (See https://github.com/pytorch/pytorch/blob/main/SECURITY.md#untrusted-models for more details). In a future release, the default value for `weights_only` will be flipped to `True`. This limits the functions that could be executed during unpickling. Arbitrary objects will no longer be allowed to be loaded via this mode unless they are explicitly allowlisted by the user via `torch.serialization.add_safe_globals`. We recommend you start setting `weights_only=True` for any use case where you don't have full control of the loaded file. Please open an issue on GitHub for any issues related to this experimental feature.\n",
      "  EIIE_policy.load_state_dict(torch.load(model_filename))\n"
     ]
    },
    {
     "name": "stdout",
     "output_type": "stream",
     "text": [
      "=================================\n",
      "Initial portfolio value: 100000\n",
      "Final portfolio value: 658413.875\n",
      "Final accumulative portfolio return: 6.58413875\n",
      "Maximum DrawDown: -0.38515900714255813\n",
      "Sharpe ratio: 1.1341899402450517\n",
      "=================================\n",
      "Metrics - train_final_value: 658413.875, train_drawdown: -0.38515900714255813, train_sharpe: 1.134870068610679, train_cumulative: 6.58413875\n",
      "=================================\n",
      "Initial portfolio value: 100000\n",
      "Final portfolio value: 225613.765625\n",
      "Final accumulative portfolio return: 2.25613765625\n",
      "Maximum DrawDown: -0.2023549477506581\n",
      "Sharpe ratio: 1.8149895828198859\n",
      "=================================\n",
      "Metrics - test_final_value: 225613.765625, test_drawdown: -0.2023549477506581, test_sharpe: 1.8194133163801003, test_cumulative: 2.25613765625\n",
      "Training model with TIME_WINDOW=90, K_SIZE=5, CONV_MID=5, CONV_FINAL=20, LEARNING_RATE=0.02\n"
     ]
    },
    {
     "name": "stderr",
     "output_type": "stream",
     "text": [
      "C:\\Users\\xutia\\AppData\\Local\\Temp\\ipykernel_21240\\3616600396.py:59: FutureWarning: You are using `torch.load` with `weights_only=False` (the current default value), which uses the default pickle module implicitly. It is possible to construct malicious pickle data which will execute arbitrary code during unpickling (See https://github.com/pytorch/pytorch/blob/main/SECURITY.md#untrusted-models for more details). In a future release, the default value for `weights_only` will be flipped to `True`. This limits the functions that could be executed during unpickling. Arbitrary objects will no longer be allowed to be loaded via this mode unless they are explicitly allowlisted by the user via `torch.serialization.add_safe_globals`. We recommend you start setting `weights_only=True` for any use case where you don't have full control of the loaded file. Please open an issue on GitHub for any issues related to this experimental feature.\n",
      "  EIIE_policy.load_state_dict(torch.load(model_filename))\n"
     ]
    },
    {
     "name": "stdout",
     "output_type": "stream",
     "text": [
      "=================================\n",
      "Initial portfolio value: 100000\n",
      "Final portfolio value: 613511.8125\n",
      "Final accumulative portfolio return: 6.135118125\n",
      "Maximum DrawDown: -0.2804281722213876\n",
      "Sharpe ratio: 1.1225433160471663\n",
      "=================================\n",
      "Metrics - train_final_value: 613511.8125, train_drawdown: -0.2804281722213876, train_sharpe: 1.1232166210226788, train_cumulative: 6.135118125\n",
      "=================================\n",
      "Initial portfolio value: 100000\n",
      "Final portfolio value: 68165.1171875\n",
      "Final accumulative portfolio return: 0.681651171875\n",
      "Maximum DrawDown: -0.38633105763032494\n",
      "Sharpe ratio: -0.7035476015257748\n",
      "=================================\n",
      "Metrics - test_final_value: 68165.1171875, test_drawdown: -0.386331057630325, test_sharpe: -0.7052532963622783, test_cumulative: 0.681651171875\n",
      "Training model with TIME_WINDOW=90, K_SIZE=5, CONV_MID=10, CONV_FINAL=5, LEARNING_RATE=0.01\n"
     ]
    },
    {
     "name": "stderr",
     "output_type": "stream",
     "text": [
      "C:\\Users\\xutia\\AppData\\Local\\Temp\\ipykernel_21240\\3616600396.py:59: FutureWarning: You are using `torch.load` with `weights_only=False` (the current default value), which uses the default pickle module implicitly. It is possible to construct malicious pickle data which will execute arbitrary code during unpickling (See https://github.com/pytorch/pytorch/blob/main/SECURITY.md#untrusted-models for more details). In a future release, the default value for `weights_only` will be flipped to `True`. This limits the functions that could be executed during unpickling. Arbitrary objects will no longer be allowed to be loaded via this mode unless they are explicitly allowlisted by the user via `torch.serialization.add_safe_globals`. We recommend you start setting `weights_only=True` for any use case where you don't have full control of the loaded file. Please open an issue on GitHub for any issues related to this experimental feature.\n",
      "  EIIE_policy.load_state_dict(torch.load(model_filename))\n"
     ]
    },
    {
     "name": "stdout",
     "output_type": "stream",
     "text": [
      "=================================\n",
      "Initial portfolio value: 100000\n",
      "Final portfolio value: 591794.1875\n",
      "Final accumulative portfolio return: 5.917941875\n",
      "Maximum DrawDown: -0.3842042219975299\n",
      "Sharpe ratio: 1.1171374663617\n",
      "=================================\n",
      "Metrics - train_final_value: 591794.1875, train_drawdown: -0.38420422199752985, train_sharpe: 1.1178067188713932, train_cumulative: 5.917941875\n",
      "=================================\n",
      "Initial portfolio value: 100000\n",
      "Final portfolio value: 157811.203125\n",
      "Final accumulative portfolio return: 1.57811203125\n",
      "Maximum DrawDown: -0.2042143246293402\n",
      "Sharpe ratio: 1.1583053020641023\n",
      "=================================\n",
      "Metrics - test_final_value: 157811.203125, test_drawdown: -0.20421432462934022, test_sharpe: 1.1611176922168496, test_cumulative: 1.57811203125\n",
      "Training model with TIME_WINDOW=90, K_SIZE=5, CONV_MID=10, CONV_FINAL=5, LEARNING_RATE=0.02\n"
     ]
    },
    {
     "name": "stderr",
     "output_type": "stream",
     "text": [
      "C:\\Users\\xutia\\AppData\\Local\\Temp\\ipykernel_21240\\3616600396.py:59: FutureWarning: You are using `torch.load` with `weights_only=False` (the current default value), which uses the default pickle module implicitly. It is possible to construct malicious pickle data which will execute arbitrary code during unpickling (See https://github.com/pytorch/pytorch/blob/main/SECURITY.md#untrusted-models for more details). In a future release, the default value for `weights_only` will be flipped to `True`. This limits the functions that could be executed during unpickling. Arbitrary objects will no longer be allowed to be loaded via this mode unless they are explicitly allowlisted by the user via `torch.serialization.add_safe_globals`. We recommend you start setting `weights_only=True` for any use case where you don't have full control of the loaded file. Please open an issue on GitHub for any issues related to this experimental feature.\n",
      "  EIIE_policy.load_state_dict(torch.load(model_filename))\n"
     ]
    },
    {
     "name": "stdout",
     "output_type": "stream",
     "text": [
      "=================================\n",
      "Initial portfolio value: 100000\n",
      "Final portfolio value: 353584.96875\n",
      "Final accumulative portfolio return: 3.5358496875\n",
      "Maximum DrawDown: -0.27366267537757283\n",
      "Sharpe ratio: 0.8579554358748394\n",
      "=================================\n",
      "Metrics - train_final_value: 353584.96875, train_drawdown: -0.2736626753775729, train_sharpe: 0.858469452761261, train_cumulative: 3.5358496875\n",
      "=================================\n",
      "Initial portfolio value: 100000\n",
      "Final portfolio value: 119722.703125\n",
      "Final accumulative portfolio return: 1.19722703125\n",
      "Maximum DrawDown: -0.3167763530289368\n",
      "Sharpe ratio: 0.5156118858213563\n",
      "=================================\n",
      "Metrics - test_final_value: 119722.703125, test_drawdown: -0.3167763530289368, test_sharpe: 0.5168606789510293, test_cumulative: 1.19722703125\n",
      "Training model with TIME_WINDOW=90, K_SIZE=5, CONV_MID=10, CONV_FINAL=10, LEARNING_RATE=0.01\n"
     ]
    },
    {
     "name": "stderr",
     "output_type": "stream",
     "text": [
      "C:\\Users\\xutia\\AppData\\Local\\Temp\\ipykernel_21240\\3616600396.py:59: FutureWarning: You are using `torch.load` with `weights_only=False` (the current default value), which uses the default pickle module implicitly. It is possible to construct malicious pickle data which will execute arbitrary code during unpickling (See https://github.com/pytorch/pytorch/blob/main/SECURITY.md#untrusted-models for more details). In a future release, the default value for `weights_only` will be flipped to `True`. This limits the functions that could be executed during unpickling. Arbitrary objects will no longer be allowed to be loaded via this mode unless they are explicitly allowlisted by the user via `torch.serialization.add_safe_globals`. We recommend you start setting `weights_only=True` for any use case where you don't have full control of the loaded file. Please open an issue on GitHub for any issues related to this experimental feature.\n",
      "  EIIE_policy.load_state_dict(torch.load(model_filename))\n"
     ]
    },
    {
     "name": "stdout",
     "output_type": "stream",
     "text": [
      "=================================\n",
      "Initial portfolio value: 100000\n",
      "Final portfolio value: 591606.875\n",
      "Final accumulative portfolio return: 5.91606875\n",
      "Maximum DrawDown: -0.28039290037344133\n",
      "Sharpe ratio: 1.155311658010269\n",
      "=================================\n",
      "Metrics - train_final_value: 591606.875, train_drawdown: -0.28039290037344133, train_sharpe: 1.1560035636494956, train_cumulative: 5.91606875\n",
      "=================================\n",
      "Initial portfolio value: 100000\n",
      "Final portfolio value: 177839.65625\n",
      "Final accumulative portfolio return: 1.7783965625\n",
      "Maximum DrawDown: -0.171884273391685\n",
      "Sharpe ratio: 1.3799630834278083\n",
      "=================================\n",
      "Metrics - test_final_value: 177839.65625, test_drawdown: -0.17188427339168502, test_sharpe: 1.3833172970934335, test_cumulative: 1.7783965625\n",
      "Training model with TIME_WINDOW=90, K_SIZE=5, CONV_MID=10, CONV_FINAL=10, LEARNING_RATE=0.02\n"
     ]
    },
    {
     "name": "stderr",
     "output_type": "stream",
     "text": [
      "C:\\Users\\xutia\\AppData\\Local\\Temp\\ipykernel_21240\\3616600396.py:59: FutureWarning: You are using `torch.load` with `weights_only=False` (the current default value), which uses the default pickle module implicitly. It is possible to construct malicious pickle data which will execute arbitrary code during unpickling (See https://github.com/pytorch/pytorch/blob/main/SECURITY.md#untrusted-models for more details). In a future release, the default value for `weights_only` will be flipped to `True`. This limits the functions that could be executed during unpickling. Arbitrary objects will no longer be allowed to be loaded via this mode unless they are explicitly allowlisted by the user via `torch.serialization.add_safe_globals`. We recommend you start setting `weights_only=True` for any use case where you don't have full control of the loaded file. Please open an issue on GitHub for any issues related to this experimental feature.\n",
      "  EIIE_policy.load_state_dict(torch.load(model_filename))\n"
     ]
    },
    {
     "name": "stdout",
     "output_type": "stream",
     "text": [
      "=================================\n",
      "Initial portfolio value: 100000\n",
      "Final portfolio value: 100000.0\n",
      "Final accumulative portfolio return: 1.0\n",
      "Maximum DrawDown: 0.0\n",
      "Sharpe ratio: nan\n",
      "=================================\n"
     ]
    },
    {
     "name": "stderr",
     "output_type": "stream",
     "text": [
      "C:\\Users\\xutia\\AppData\\Roaming\\Python\\Python310\\site-packages\\quantstats\\stats.py:294: RuntimeWarning: invalid value encountered in scalar divide\n",
      "  res = returns.mean() / divisor\n",
      "C:\\Users\\xutia\\AppData\\Local\\Temp\\ipykernel_21240\\1884595116.py:70: RuntimeWarning: invalid value encountered in scalar divide\n",
      "  sharpe_ratio = np.mean(excess_returns) / np.std(excess_returns)\n"
     ]
    },
    {
     "name": "stdout",
     "output_type": "stream",
     "text": [
      "Metrics - train_final_value: 100000.0, train_drawdown: 0.0, train_sharpe: nan, train_cumulative: 1.0\n",
      "=================================\n",
      "Initial portfolio value: 100000\n",
      "Final portfolio value: 100000.0\n",
      "Final accumulative portfolio return: 1.0\n",
      "Maximum DrawDown: 0.0\n",
      "Sharpe ratio: nan\n",
      "=================================\n"
     ]
    },
    {
     "name": "stderr",
     "output_type": "stream",
     "text": [
      "C:\\Users\\xutia\\AppData\\Roaming\\Python\\Python310\\site-packages\\quantstats\\stats.py:294: RuntimeWarning: invalid value encountered in scalar divide\n",
      "  res = returns.mean() / divisor\n",
      "C:\\Users\\xutia\\AppData\\Local\\Temp\\ipykernel_21240\\1884595116.py:70: RuntimeWarning: invalid value encountered in scalar divide\n",
      "  sharpe_ratio = np.mean(excess_returns) / np.std(excess_returns)\n",
      "C:\\Users\\xutia\\AppData\\Local\\Temp\\ipykernel_21240\\3616600396.py:59: FutureWarning: You are using `torch.load` with `weights_only=False` (the current default value), which uses the default pickle module implicitly. It is possible to construct malicious pickle data which will execute arbitrary code during unpickling (See https://github.com/pytorch/pytorch/blob/main/SECURITY.md#untrusted-models for more details). In a future release, the default value for `weights_only` will be flipped to `True`. This limits the functions that could be executed during unpickling. Arbitrary objects will no longer be allowed to be loaded via this mode unless they are explicitly allowlisted by the user via `torch.serialization.add_safe_globals`. We recommend you start setting `weights_only=True` for any use case where you don't have full control of the loaded file. Please open an issue on GitHub for any issues related to this experimental feature.\n",
      "  EIIE_policy.load_state_dict(torch.load(model_filename))\n"
     ]
    },
    {
     "name": "stdout",
     "output_type": "stream",
     "text": [
      "Metrics - test_final_value: 100000.0, test_drawdown: 0.0, test_sharpe: nan, test_cumulative: 1.0\n",
      "Training model with TIME_WINDOW=90, K_SIZE=5, CONV_MID=10, CONV_FINAL=20, LEARNING_RATE=0.01\n",
      "=================================\n",
      "Initial portfolio value: 100000\n",
      "Final portfolio value: 379526.6875\n",
      "Final accumulative portfolio return: 3.795266875\n",
      "Maximum DrawDown: -0.2887027152608349\n",
      "Sharpe ratio: 0.931108481935461\n",
      "=================================\n",
      "Metrics - train_final_value: 379526.6875, train_drawdown: -0.2887027152608349, train_sharpe: 0.9316657108457107, train_cumulative: 3.795266875\n",
      "=================================\n",
      "Initial portfolio value: 100000\n",
      "Final portfolio value: 115387.265625\n",
      "Final accumulative portfolio return: 1.15387265625\n",
      "Maximum DrawDown: -0.19033794632832934\n",
      "Sharpe ratio: 0.5565704290979608\n",
      "=================================\n",
      "Metrics - test_final_value: 115387.265625, test_drawdown: -0.19033794632832932, test_sharpe: 0.5579176237521746, test_cumulative: 1.15387265625\n",
      "Training model with TIME_WINDOW=90, K_SIZE=5, CONV_MID=10, CONV_FINAL=20, LEARNING_RATE=0.02\n"
     ]
    },
    {
     "name": "stderr",
     "output_type": "stream",
     "text": [
      "C:\\Users\\xutia\\AppData\\Local\\Temp\\ipykernel_21240\\3616600396.py:59: FutureWarning: You are using `torch.load` with `weights_only=False` (the current default value), which uses the default pickle module implicitly. It is possible to construct malicious pickle data which will execute arbitrary code during unpickling (See https://github.com/pytorch/pytorch/blob/main/SECURITY.md#untrusted-models for more details). In a future release, the default value for `weights_only` will be flipped to `True`. This limits the functions that could be executed during unpickling. Arbitrary objects will no longer be allowed to be loaded via this mode unless they are explicitly allowlisted by the user via `torch.serialization.add_safe_globals`. We recommend you start setting `weights_only=True` for any use case where you don't have full control of the loaded file. Please open an issue on GitHub for any issues related to this experimental feature.\n",
      "  EIIE_policy.load_state_dict(torch.load(model_filename))\n"
     ]
    },
    {
     "name": "stdout",
     "output_type": "stream",
     "text": [
      "=================================\n",
      "Initial portfolio value: 100000\n",
      "Final portfolio value: 449115.28125\n",
      "Final accumulative portfolio return: 4.4911528125\n",
      "Maximum DrawDown: -0.17368462505578874\n",
      "Sharpe ratio: 1.2178437647503821\n",
      "=================================\n",
      "Metrics - train_final_value: 449115.28125, train_drawdown: -0.17368462505578877, train_sharpe: 1.2185739784302738, train_cumulative: 4.4911528125\n",
      "=================================\n",
      "Initial portfolio value: 100000\n",
      "Final portfolio value: 266091.09375\n",
      "Final accumulative portfolio return: 2.6609109375\n",
      "Maximum DrawDown: -0.2050866536470517\n",
      "Sharpe ratio: 2.187602381825861\n",
      "=================================\n",
      "Metrics - test_final_value: 266091.09375, test_drawdown: -0.20508665364705167, test_sharpe: 2.192949111473036, test_cumulative: 2.6609109375\n",
      "Training model with TIME_WINDOW=90, K_SIZE=5, CONV_MID=20, CONV_FINAL=5, LEARNING_RATE=0.01\n"
     ]
    },
    {
     "name": "stderr",
     "output_type": "stream",
     "text": [
      "C:\\Users\\xutia\\AppData\\Local\\Temp\\ipykernel_21240\\3616600396.py:59: FutureWarning: You are using `torch.load` with `weights_only=False` (the current default value), which uses the default pickle module implicitly. It is possible to construct malicious pickle data which will execute arbitrary code during unpickling (See https://github.com/pytorch/pytorch/blob/main/SECURITY.md#untrusted-models for more details). In a future release, the default value for `weights_only` will be flipped to `True`. This limits the functions that could be executed during unpickling. Arbitrary objects will no longer be allowed to be loaded via this mode unless they are explicitly allowlisted by the user via `torch.serialization.add_safe_globals`. We recommend you start setting `weights_only=True` for any use case where you don't have full control of the loaded file. Please open an issue on GitHub for any issues related to this experimental feature.\n",
      "  EIIE_policy.load_state_dict(torch.load(model_filename))\n"
     ]
    },
    {
     "name": "stdout",
     "output_type": "stream",
     "text": [
      "=================================\n",
      "Initial portfolio value: 100000\n",
      "Final portfolio value: 743749.5\n",
      "Final accumulative portfolio return: 7.437495\n",
      "Maximum DrawDown: -0.31427281130877494\n",
      "Sharpe ratio: 1.2465862062045803\n",
      "=================================\n",
      "Metrics - train_final_value: 743749.5, train_drawdown: -0.31427281130877494, train_sharpe: 1.247334786855633, train_cumulative: 7.437495\n",
      "=================================\n",
      "Initial portfolio value: 100000\n",
      "Final portfolio value: 93527.6640625\n",
      "Final accumulative portfolio return: 0.935276640625\n",
      "Maximum DrawDown: -0.39889739472158203\n",
      "Sharpe ratio: -0.024385514980838123\n",
      "=================================\n",
      "Metrics - test_final_value: 93527.6640625, test_drawdown: -0.398897394721582, test_sharpe: -0.02444413285822813, test_cumulative: 0.935276640625\n",
      "Training model with TIME_WINDOW=90, K_SIZE=5, CONV_MID=20, CONV_FINAL=5, LEARNING_RATE=0.02\n"
     ]
    },
    {
     "name": "stderr",
     "output_type": "stream",
     "text": [
      "C:\\Users\\xutia\\AppData\\Local\\Temp\\ipykernel_21240\\3616600396.py:59: FutureWarning: You are using `torch.load` with `weights_only=False` (the current default value), which uses the default pickle module implicitly. It is possible to construct malicious pickle data which will execute arbitrary code during unpickling (See https://github.com/pytorch/pytorch/blob/main/SECURITY.md#untrusted-models for more details). In a future release, the default value for `weights_only` will be flipped to `True`. This limits the functions that could be executed during unpickling. Arbitrary objects will no longer be allowed to be loaded via this mode unless they are explicitly allowlisted by the user via `torch.serialization.add_safe_globals`. We recommend you start setting `weights_only=True` for any use case where you don't have full control of the loaded file. Please open an issue on GitHub for any issues related to this experimental feature.\n",
      "  EIIE_policy.load_state_dict(torch.load(model_filename))\n"
     ]
    },
    {
     "name": "stdout",
     "output_type": "stream",
     "text": [
      "=================================\n",
      "Initial portfolio value: 100000\n",
      "Final portfolio value: 318385.25\n",
      "Final accumulative portfolio return: 3.1838525\n",
      "Maximum DrawDown: -0.2803929967565778\n",
      "Sharpe ratio: 0.7979483360342304\n",
      "=================================\n",
      "Metrics - train_final_value: 318385.25, train_drawdown: -0.28039299675657775, train_sharpe: 0.798425858832732, train_cumulative: 3.1838525\n",
      "=================================\n",
      "Initial portfolio value: 100000\n",
      "Final portfolio value: 60583.9296875\n",
      "Final accumulative portfolio return: 0.605839296875\n",
      "Maximum DrawDown: -0.5112160997401543\n",
      "Sharpe ratio: -0.965383675690329\n",
      "=================================\n",
      "Metrics - test_final_value: 60583.9296875, test_drawdown: -0.5112160997401543, test_sharpe: -0.9677261020663839, test_cumulative: 0.605839296875\n",
      "Training model with TIME_WINDOW=90, K_SIZE=5, CONV_MID=20, CONV_FINAL=10, LEARNING_RATE=0.01\n"
     ]
    },
    {
     "name": "stderr",
     "output_type": "stream",
     "text": [
      "C:\\Users\\xutia\\AppData\\Local\\Temp\\ipykernel_21240\\3616600396.py:59: FutureWarning: You are using `torch.load` with `weights_only=False` (the current default value), which uses the default pickle module implicitly. It is possible to construct malicious pickle data which will execute arbitrary code during unpickling (See https://github.com/pytorch/pytorch/blob/main/SECURITY.md#untrusted-models for more details). In a future release, the default value for `weights_only` will be flipped to `True`. This limits the functions that could be executed during unpickling. Arbitrary objects will no longer be allowed to be loaded via this mode unless they are explicitly allowlisted by the user via `torch.serialization.add_safe_globals`. We recommend you start setting `weights_only=True` for any use case where you don't have full control of the loaded file. Please open an issue on GitHub for any issues related to this experimental feature.\n",
      "  EIIE_policy.load_state_dict(torch.load(model_filename))\n"
     ]
    },
    {
     "name": "stdout",
     "output_type": "stream",
     "text": [
      "=================================\n",
      "Initial portfolio value: 100000\n",
      "Final portfolio value: 222779.75\n",
      "Final accumulative portfolio return: 2.2277975\n",
      "Maximum DrawDown: -0.17958792369893561\n",
      "Sharpe ratio: 0.8165572944141333\n",
      "=================================\n",
      "Metrics - train_final_value: 222779.75, train_drawdown: -0.17958792369893561, train_sharpe: 0.8170456042878939, train_cumulative: 2.2277975\n",
      "=================================\n",
      "Initial portfolio value: 100000\n",
      "Final portfolio value: 170773.765625\n",
      "Final accumulative portfolio return: 1.70773765625\n",
      "Maximum DrawDown: -0.2151969445266788\n",
      "Sharpe ratio: 1.3562187815949514\n",
      "=================================\n",
      "Metrics - test_final_value: 170773.765625, test_drawdown: -0.2151969445266788, test_sharpe: 1.3595171622026498, test_cumulative: 1.70773765625\n",
      "Training model with TIME_WINDOW=90, K_SIZE=5, CONV_MID=20, CONV_FINAL=10, LEARNING_RATE=0.02\n"
     ]
    },
    {
     "name": "stderr",
     "output_type": "stream",
     "text": [
      "C:\\Users\\xutia\\AppData\\Local\\Temp\\ipykernel_21240\\3616600396.py:59: FutureWarning: You are using `torch.load` with `weights_only=False` (the current default value), which uses the default pickle module implicitly. It is possible to construct malicious pickle data which will execute arbitrary code during unpickling (See https://github.com/pytorch/pytorch/blob/main/SECURITY.md#untrusted-models for more details). In a future release, the default value for `weights_only` will be flipped to `True`. This limits the functions that could be executed during unpickling. Arbitrary objects will no longer be allowed to be loaded via this mode unless they are explicitly allowlisted by the user via `torch.serialization.add_safe_globals`. We recommend you start setting `weights_only=True` for any use case where you don't have full control of the loaded file. Please open an issue on GitHub for any issues related to this experimental feature.\n",
      "  EIIE_policy.load_state_dict(torch.load(model_filename))\n"
     ]
    },
    {
     "name": "stdout",
     "output_type": "stream",
     "text": [
      "=================================\n",
      "Initial portfolio value: 100000\n",
      "Final portfolio value: 942519.125\n",
      "Final accumulative portfolio return: 9.42519125\n",
      "Maximum DrawDown: -0.3851584276321197\n",
      "Sharpe ratio: 1.3287150842468975\n",
      "=================================\n",
      "Metrics - train_final_value: 942519.125, train_drawdown: -0.38515842763211966, train_sharpe: 1.3295118219803286, train_cumulative: 9.42519125\n",
      "=================================\n",
      "Initial portfolio value: 100000\n",
      "Final portfolio value: 172936.375\n",
      "Final accumulative portfolio return: 1.72936375\n",
      "Maximum DrawDown: -0.2306705666952208\n",
      "Sharpe ratio: 1.2201578537442537\n",
      "=================================\n",
      "Metrics - test_final_value: 172936.375, test_drawdown: -0.23067056669522076, test_sharpe: 1.223122562955367, test_cumulative: 1.72936375\n",
      "Training model with TIME_WINDOW=90, K_SIZE=5, CONV_MID=20, CONV_FINAL=20, LEARNING_RATE=0.01\n"
     ]
    },
    {
     "name": "stderr",
     "output_type": "stream",
     "text": [
      "C:\\Users\\xutia\\AppData\\Local\\Temp\\ipykernel_21240\\3616600396.py:59: FutureWarning: You are using `torch.load` with `weights_only=False` (the current default value), which uses the default pickle module implicitly. It is possible to construct malicious pickle data which will execute arbitrary code during unpickling (See https://github.com/pytorch/pytorch/blob/main/SECURITY.md#untrusted-models for more details). In a future release, the default value for `weights_only` will be flipped to `True`. This limits the functions that could be executed during unpickling. Arbitrary objects will no longer be allowed to be loaded via this mode unless they are explicitly allowlisted by the user via `torch.serialization.add_safe_globals`. We recommend you start setting `weights_only=True` for any use case where you don't have full control of the loaded file. Please open an issue on GitHub for any issues related to this experimental feature.\n",
      "  EIIE_policy.load_state_dict(torch.load(model_filename))\n"
     ]
    },
    {
     "name": "stdout",
     "output_type": "stream",
     "text": [
      "=================================\n",
      "Initial portfolio value: 100000\n",
      "Final portfolio value: 549722.0625\n",
      "Final accumulative portfolio return: 5.497220625\n",
      "Maximum DrawDown: -0.28039188148246263\n",
      "Sharpe ratio: 1.113162536046569\n",
      "=================================\n",
      "Metrics - train_final_value: 549722.0625, train_drawdown: -0.2803918814824627, train_sharpe: 1.1138301089233085, train_cumulative: 5.497220625\n",
      "=================================\n",
      "Initial portfolio value: 100000\n",
      "Final portfolio value: 213941.828125\n",
      "Final accumulative portfolio return: 2.13941828125\n",
      "Maximum DrawDown: -0.18757212864137685\n",
      "Sharpe ratio: 1.727148637037392\n",
      "=================================\n",
      "Metrics - test_final_value: 213941.828125, test_drawdown: -0.18757212864137685, test_sharpe: 1.7313549576018075, test_cumulative: 2.13941828125\n",
      "Training model with TIME_WINDOW=90, K_SIZE=5, CONV_MID=20, CONV_FINAL=20, LEARNING_RATE=0.02\n"
     ]
    },
    {
     "name": "stderr",
     "output_type": "stream",
     "text": [
      "C:\\Users\\xutia\\AppData\\Local\\Temp\\ipykernel_21240\\3616600396.py:59: FutureWarning: You are using `torch.load` with `weights_only=False` (the current default value), which uses the default pickle module implicitly. It is possible to construct malicious pickle data which will execute arbitrary code during unpickling (See https://github.com/pytorch/pytorch/blob/main/SECURITY.md#untrusted-models for more details). In a future release, the default value for `weights_only` will be flipped to `True`. This limits the functions that could be executed during unpickling. Arbitrary objects will no longer be allowed to be loaded via this mode unless they are explicitly allowlisted by the user via `torch.serialization.add_safe_globals`. We recommend you start setting `weights_only=True` for any use case where you don't have full control of the loaded file. Please open an issue on GitHub for any issues related to this experimental feature.\n",
      "  EIIE_policy.load_state_dict(torch.load(model_filename))\n"
     ]
    },
    {
     "name": "stdout",
     "output_type": "stream",
     "text": [
      "=================================\n",
      "Initial portfolio value: 100000\n",
      "Final portfolio value: 462201.46875\n",
      "Final accumulative portfolio return: 4.6220146875\n",
      "Maximum DrawDown: -0.38515865488202117\n",
      "Sharpe ratio: 0.9662875547025123\n",
      "=================================\n",
      "Metrics - train_final_value: 462201.46875, train_drawdown: -0.38515865488202117, train_sharpe: 0.9668664015756228, train_cumulative: 4.6220146875\n",
      "=================================\n",
      "Initial portfolio value: 100000\n",
      "Final portfolio value: 261649.5\n",
      "Final accumulative portfolio return: 2.616495\n",
      "Maximum DrawDown: -0.2050865463004422\n",
      "Sharpe ratio: 2.0422818946077417\n",
      "=================================\n",
      "Metrics - test_final_value: 261649.5, test_drawdown: -0.20508654630044224, test_sharpe: 2.0472695481155405, test_cumulative: 2.616495\n"
     ]
    },
    {
     "data": {
      "text/html": [
       "<div>\n",
       "<style scoped>\n",
       "    .dataframe tbody tr th:only-of-type {\n",
       "        vertical-align: middle;\n",
       "    }\n",
       "\n",
       "    .dataframe tbody tr th {\n",
       "        vertical-align: top;\n",
       "    }\n",
       "\n",
       "    .dataframe thead th {\n",
       "        text-align: right;\n",
       "    }\n",
       "</style>\n",
       "<table border=\"1\" class=\"dataframe\">\n",
       "  <thead>\n",
       "    <tr style=\"text-align: right;\">\n",
       "      <th></th>\n",
       "      <th>TIME_WINDOW</th>\n",
       "      <th>K_SIZE</th>\n",
       "      <th>CONV_MID</th>\n",
       "      <th>CONV_FINAL</th>\n",
       "      <th>LEARNING_RATE</th>\n",
       "      <th>train_portfolio_value</th>\n",
       "      <th>train_drawdown</th>\n",
       "      <th>train_sharpe</th>\n",
       "      <th>train_cumulative</th>\n",
       "      <th>test_portfolio_value</th>\n",
       "      <th>test_drawdown</th>\n",
       "      <th>test_sharpe</th>\n",
       "      <th>test_cumulative</th>\n",
       "    </tr>\n",
       "  </thead>\n",
       "  <tbody>\n",
       "    <tr>\n",
       "      <th>0</th>\n",
       "      <td>30</td>\n",
       "      <td>3</td>\n",
       "      <td>5</td>\n",
       "      <td>5</td>\n",
       "      <td>0.01</td>\n",
       "      <td>1.157167e+06</td>\n",
       "      <td>-0.280393</td>\n",
       "      <td>1.483475</td>\n",
       "      <td>11.571670</td>\n",
       "      <td>191700.953125</td>\n",
       "      <td>-0.186847</td>\n",
       "      <td>1.402844</td>\n",
       "      <td>1.917010</td>\n",
       "    </tr>\n",
       "    <tr>\n",
       "      <th>1</th>\n",
       "      <td>30</td>\n",
       "      <td>3</td>\n",
       "      <td>5</td>\n",
       "      <td>5</td>\n",
       "      <td>0.02</td>\n",
       "      <td>5.097197e+05</td>\n",
       "      <td>-0.384964</td>\n",
       "      <td>0.983037</td>\n",
       "      <td>5.097197</td>\n",
       "      <td>161562.531250</td>\n",
       "      <td>-0.209369</td>\n",
       "      <td>1.089211</td>\n",
       "      <td>1.615625</td>\n",
       "    </tr>\n",
       "    <tr>\n",
       "      <th>2</th>\n",
       "      <td>30</td>\n",
       "      <td>3</td>\n",
       "      <td>5</td>\n",
       "      <td>10</td>\n",
       "      <td>0.01</td>\n",
       "      <td>1.002890e+06</td>\n",
       "      <td>-0.406459</td>\n",
       "      <td>1.344121</td>\n",
       "      <td>10.028898</td>\n",
       "      <td>195581.609375</td>\n",
       "      <td>-0.221851</td>\n",
       "      <td>1.402911</td>\n",
       "      <td>1.955816</td>\n",
       "    </tr>\n",
       "    <tr>\n",
       "      <th>3</th>\n",
       "      <td>30</td>\n",
       "      <td>3</td>\n",
       "      <td>5</td>\n",
       "      <td>10</td>\n",
       "      <td>0.02</td>\n",
       "      <td>2.388355e+05</td>\n",
       "      <td>-0.344928</td>\n",
       "      <td>0.779840</td>\n",
       "      <td>2.388355</td>\n",
       "      <td>128962.890625</td>\n",
       "      <td>-0.154848</td>\n",
       "      <td>0.887269</td>\n",
       "      <td>1.289629</td>\n",
       "    </tr>\n",
       "    <tr>\n",
       "      <th>4</th>\n",
       "      <td>30</td>\n",
       "      <td>3</td>\n",
       "      <td>5</td>\n",
       "      <td>20</td>\n",
       "      <td>0.01</td>\n",
       "      <td>1.334530e+06</td>\n",
       "      <td>-0.281052</td>\n",
       "      <td>1.543935</td>\n",
       "      <td>13.345295</td>\n",
       "      <td>189838.953125</td>\n",
       "      <td>-0.219848</td>\n",
       "      <td>1.330589</td>\n",
       "      <td>1.898390</td>\n",
       "    </tr>\n",
       "    <tr>\n",
       "      <th>...</th>\n",
       "      <td>...</td>\n",
       "      <td>...</td>\n",
       "      <td>...</td>\n",
       "      <td>...</td>\n",
       "      <td>...</td>\n",
       "      <td>...</td>\n",
       "      <td>...</td>\n",
       "      <td>...</td>\n",
       "      <td>...</td>\n",
       "      <td>...</td>\n",
       "      <td>...</td>\n",
       "      <td>...</td>\n",
       "      <td>...</td>\n",
       "    </tr>\n",
       "    <tr>\n",
       "      <th>157</th>\n",
       "      <td>90</td>\n",
       "      <td>5</td>\n",
       "      <td>20</td>\n",
       "      <td>5</td>\n",
       "      <td>0.02</td>\n",
       "      <td>3.183852e+05</td>\n",
       "      <td>-0.280393</td>\n",
       "      <td>0.798426</td>\n",
       "      <td>3.183852</td>\n",
       "      <td>60583.929688</td>\n",
       "      <td>-0.511216</td>\n",
       "      <td>-0.967726</td>\n",
       "      <td>0.605839</td>\n",
       "    </tr>\n",
       "    <tr>\n",
       "      <th>158</th>\n",
       "      <td>90</td>\n",
       "      <td>5</td>\n",
       "      <td>20</td>\n",
       "      <td>10</td>\n",
       "      <td>0.01</td>\n",
       "      <td>2.227798e+05</td>\n",
       "      <td>-0.179588</td>\n",
       "      <td>0.817046</td>\n",
       "      <td>2.227797</td>\n",
       "      <td>170773.765625</td>\n",
       "      <td>-0.215197</td>\n",
       "      <td>1.359517</td>\n",
       "      <td>1.707738</td>\n",
       "    </tr>\n",
       "    <tr>\n",
       "      <th>159</th>\n",
       "      <td>90</td>\n",
       "      <td>5</td>\n",
       "      <td>20</td>\n",
       "      <td>10</td>\n",
       "      <td>0.02</td>\n",
       "      <td>9.425191e+05</td>\n",
       "      <td>-0.385158</td>\n",
       "      <td>1.329512</td>\n",
       "      <td>9.425191</td>\n",
       "      <td>172936.375000</td>\n",
       "      <td>-0.230671</td>\n",
       "      <td>1.223123</td>\n",
       "      <td>1.729364</td>\n",
       "    </tr>\n",
       "    <tr>\n",
       "      <th>160</th>\n",
       "      <td>90</td>\n",
       "      <td>5</td>\n",
       "      <td>20</td>\n",
       "      <td>20</td>\n",
       "      <td>0.01</td>\n",
       "      <td>5.497221e+05</td>\n",
       "      <td>-0.280392</td>\n",
       "      <td>1.113830</td>\n",
       "      <td>5.497221</td>\n",
       "      <td>213941.828125</td>\n",
       "      <td>-0.187572</td>\n",
       "      <td>1.731355</td>\n",
       "      <td>2.139418</td>\n",
       "    </tr>\n",
       "    <tr>\n",
       "      <th>161</th>\n",
       "      <td>90</td>\n",
       "      <td>5</td>\n",
       "      <td>20</td>\n",
       "      <td>20</td>\n",
       "      <td>0.02</td>\n",
       "      <td>4.622015e+05</td>\n",
       "      <td>-0.385159</td>\n",
       "      <td>0.966866</td>\n",
       "      <td>4.622015</td>\n",
       "      <td>261649.500000</td>\n",
       "      <td>-0.205087</td>\n",
       "      <td>2.047270</td>\n",
       "      <td>2.616495</td>\n",
       "    </tr>\n",
       "  </tbody>\n",
       "</table>\n",
       "<p>162 rows × 13 columns</p>\n",
       "</div>"
      ],
      "text/plain": [
       "    TIME_WINDOW K_SIZE CONV_MID CONV_FINAL  LEARNING_RATE  \\\n",
       "0            30      3        5          5           0.01   \n",
       "1            30      3        5          5           0.02   \n",
       "2            30      3        5         10           0.01   \n",
       "3            30      3        5         10           0.02   \n",
       "4            30      3        5         20           0.01   \n",
       "..          ...    ...      ...        ...            ...   \n",
       "157          90      5       20          5           0.02   \n",
       "158          90      5       20         10           0.01   \n",
       "159          90      5       20         10           0.02   \n",
       "160          90      5       20         20           0.01   \n",
       "161          90      5       20         20           0.02   \n",
       "\n",
       "     train_portfolio_value  train_drawdown  train_sharpe  train_cumulative  \\\n",
       "0             1.157167e+06       -0.280393      1.483475         11.571670   \n",
       "1             5.097197e+05       -0.384964      0.983037          5.097197   \n",
       "2             1.002890e+06       -0.406459      1.344121         10.028898   \n",
       "3             2.388355e+05       -0.344928      0.779840          2.388355   \n",
       "4             1.334530e+06       -0.281052      1.543935         13.345295   \n",
       "..                     ...             ...           ...               ...   \n",
       "157           3.183852e+05       -0.280393      0.798426          3.183852   \n",
       "158           2.227798e+05       -0.179588      0.817046          2.227797   \n",
       "159           9.425191e+05       -0.385158      1.329512          9.425191   \n",
       "160           5.497221e+05       -0.280392      1.113830          5.497221   \n",
       "161           4.622015e+05       -0.385159      0.966866          4.622015   \n",
       "\n",
       "     test_portfolio_value  test_drawdown  test_sharpe  test_cumulative  \n",
       "0           191700.953125      -0.186847     1.402844         1.917010  \n",
       "1           161562.531250      -0.209369     1.089211         1.615625  \n",
       "2           195581.609375      -0.221851     1.402911         1.955816  \n",
       "3           128962.890625      -0.154848     0.887269         1.289629  \n",
       "4           189838.953125      -0.219848     1.330589         1.898390  \n",
       "..                    ...            ...          ...              ...  \n",
       "157          60583.929688      -0.511216    -0.967726         0.605839  \n",
       "158         170773.765625      -0.215197     1.359517         1.707738  \n",
       "159         172936.375000      -0.230671     1.223123         1.729364  \n",
       "160         213941.828125      -0.187572     1.731355         2.139418  \n",
       "161         261649.500000      -0.205087     2.047270         2.616495  \n",
       "\n",
       "[162 rows x 13 columns]"
      ]
     },
     "execution_count": 5,
     "metadata": {},
     "output_type": "execute_result"
    }
   ],
   "source": [
    "# Hyperparameter tuning loop with 5 episodes of training and error handling\n",
    "for TIME_WINDOW, K_SIZE, CONV_MID, CONV_FINAL,LEARNING_RATE in hyperparams:\n",
    "    try:\n",
    "        print(f\"Training model with TIME_WINDOW={TIME_WINDOW}, K_SIZE={K_SIZE}, CONV_MID={CONV_MID}, CONV_FINAL={CONV_FINAL}, LEARNING_RATE={LEARNING_RATE}\")\n",
    "        # Update the policy_kwargs for the current set of hyperparameters\n",
    "        policy_kwargs = {\n",
    "        \"initial_features\": len(FEATURE_NAMES),\n",
    "        \"k_size\": K_SIZE,\n",
    "        \"time_window\": TIME_WINDOW,\n",
    "        \"conv_mid_features\":CONV_MID,\n",
    "        \"conv_final_features\":CONV_FINAL}\n",
    "\n",
    "        # Create the environment for training and the test years\n",
    "        \n",
    "        environment = PortfolioOptimizationEnv(\n",
    "            df_portfolio_train,\n",
    "            initial_amount=100000,\n",
    "            comission_fee_pct=COMISSION_FEE,\n",
    "            time_window=TIME_WINDOW,\n",
    "            features=FEATURE_NAMES,\n",
    "            normalize_df=None,\n",
    "            reward_function=custom_reward_function,\n",
    "            reward_scaling=1.0\n",
    "        )   \n",
    "\n",
    "        vali_env = PortfolioOptimizationEnv(\n",
    "            df_portfolio_vali,\n",
    "            initial_amount=100000,\n",
    "            comission_fee_pct=COMISSION_FEE,\n",
    "            time_window=TIME_WINDOW,\n",
    "            features=FEATURE_NAMES,\n",
    "            normalize_df=None,\n",
    "            reward_function=custom_reward_function,\n",
    "            reward_scaling=1.0,\n",
    "        )\n",
    "\n",
    "        # Instantiate the model for each combination of hyperparameters\n",
    "        # set PolicyGradient parameters\n",
    "        model_kwargs = {\n",
    "                \"lr\": LEARNING_RATE,\n",
    "                \"policy\": EIIE,\n",
    "                    \"validation_env\": vali_env,\n",
    "                }\n",
    "\n",
    "        EIIE_model = DRLAgent(environment).get_model(\"pg\", device, model_kwargs, policy_kwargs)\n",
    "        EIIE_policy = EIIE(time_window=TIME_WINDOW, device=device, initial_features=len(FEATURE_NAMES),\n",
    "                            k_size=K_SIZE, conv_mid_features=CONV_MID, conv_final_features=CONV_FINAL)\n",
    "\n",
    "        # Train the model for 10 episodes\n",
    "        # _, best_checkpoint = DRLAgent.train_model(EIIE_model, episodes=100, validation_freq=3, patience=10, threshold = 0.01)\n",
    "        \n",
    "        # Save the model policy after training\n",
    "        model_filename = f\"policy_EIIE_{TIME_WINDOW}_{K_SIZE}_{CONV_MID}_{CONV_FINAL}_{LEARNING_RATE}.pt\"\n",
    "        # torch.save(best_checkpoint, model_filename)\n",
    "        \n",
    "        EIIE_policy = EIIE(time_window = TIME_WINDOW, device = device, initial_features = len(FEATURE_NAMES),\n",
    "                            k_size = K_SIZE, conv_mid_features = CONV_MID,conv_final_features = CONV_FINAL)\n",
    "\n",
    "        EIIE_policy.load_state_dict(torch.load(model_filename))\n",
    "\n",
    "        environment.reset()\n",
    "        DRLAgent.DRL_validation(EIIE_model, environment, policy=EIIE_policy, learning_rate = LEARNING_RATE)\n",
    "        train_final_value, train_drawdown, train_sharpe, train_cumulative = calculate_metrics(environment)\n",
    "\n",
    "        print(f\"Metrics - train_final_value: {train_final_value}, train_drawdown: {train_drawdown}, train_sharpe: {train_sharpe}, train_cumulative: {train_cumulative}\")\n",
    "\n",
    "        # Test evaluation\n",
    "        vali_env.reset()\n",
    "        DRLAgent.DRL_validation(EIIE_model, vali_env, policy=EIIE_policy, learning_rate = LEARNING_RATE)\n",
    "        test_final_value, test_drawdown, test_sharpe, test_cumulative = calculate_metrics(vali_env)\n",
    "\n",
    "        print(f\"Metrics - test_final_value: {test_final_value}, test_drawdown: {test_drawdown}, test_sharpe: {test_sharpe}, test_cumulative: {test_cumulative}\")\n",
    "\n",
    "\n",
    "    except Exception as e:\n",
    "        print(f\"Error encountered with combination policy_EIIE_{TIME_WINDOW}_{K_SIZE}_{CONV_MID}_{CONV_FINAL}: {e}\")\n",
    "        # If an error occurs, store NaN for all the metrics\n",
    "        train_final_value = train_drawdown = train_sharpe = train_cumulative = np.nan\n",
    "        test_final_value = test_drawdown = test_sharpe = test_cumulative = np.nan\n",
    " \n",
    "    # Create a temporary DataFrame to store the current results\n",
    "    temp_df = pd.DataFrame([{\n",
    "        \"TIME_WINDOW\": TIME_WINDOW, \"K_SIZE\": K_SIZE, \"CONV_MID\": CONV_MID, \"CONV_FINAL\": CONV_FINAL, \"LEARNING_RATE\": LEARNING_RATE,\n",
    "        \"train_portfolio_value\": train_final_value, \"train_drawdown\": train_drawdown, \"train_sharpe\": train_sharpe, \"train_cumulative\": train_cumulative,\n",
    "        \"test_portfolio_value\": test_final_value, \"test_drawdown\": test_drawdown, \"test_sharpe\": test_sharpe, \"test_cumulative\": test_cumulative,\n",
    "        }])\n",
    "    \n",
    "    # Use pd.concat instead of append to add the results to the main DataFrame\n",
    "    results_df = pd.concat([results_df, temp_df], ignore_index=True)\n",
    "    \n",
    "    try:\n",
    "        results_df.to_csv('gridsearchvalidaiton.csv', index=False)\n",
    "    except Exception as e:\n",
    "        print(f\"An error occurred: {e}\")\n",
    "        \n",
    "results_df"
   ]
  },
  {
   "cell_type": "code",
   "execution_count": 33,
   "metadata": {
    "scrolled": true
   },
   "outputs": [
    {
     "data": {
      "text/html": [
       "<div>\n",
       "<style scoped>\n",
       "    .dataframe tbody tr th:only-of-type {\n",
       "        vertical-align: middle;\n",
       "    }\n",
       "\n",
       "    .dataframe tbody tr th {\n",
       "        vertical-align: top;\n",
       "    }\n",
       "\n",
       "    .dataframe thead th {\n",
       "        text-align: right;\n",
       "    }\n",
       "</style>\n",
       "<table border=\"1\" class=\"dataframe\">\n",
       "  <thead>\n",
       "    <tr style=\"text-align: right;\">\n",
       "      <th></th>\n",
       "      <th>TIME_WINDOW</th>\n",
       "      <th>K_SIZE</th>\n",
       "      <th>CONV_MID</th>\n",
       "      <th>CONV_FINAL</th>\n",
       "      <th>LEARNING_RATE</th>\n",
       "      <th>train_portfolio_value</th>\n",
       "      <th>train_drawdown</th>\n",
       "      <th>train_sharpe</th>\n",
       "      <th>train_cumulative</th>\n",
       "      <th>test_portfolio_value</th>\n",
       "      <th>test_drawdown</th>\n",
       "      <th>test_sharpe</th>\n",
       "      <th>test_cumulative</th>\n",
       "    </tr>\n",
       "  </thead>\n",
       "  <tbody>\n",
       "    <tr>\n",
       "      <th>0</th>\n",
       "      <td>30</td>\n",
       "      <td>3</td>\n",
       "      <td>5</td>\n",
       "      <td>5</td>\n",
       "      <td>0.01</td>\n",
       "      <td>9.354249e+05</td>\n",
       "      <td>-0.384764</td>\n",
       "      <td>1.331227</td>\n",
       "      <td>9.354249</td>\n",
       "      <td>150983.859375</td>\n",
       "      <td>-0.288262</td>\n",
       "      <td>0.909782</td>\n",
       "      <td>1.509839</td>\n",
       "    </tr>\n",
       "    <tr>\n",
       "      <th>1</th>\n",
       "      <td>30</td>\n",
       "      <td>3</td>\n",
       "      <td>5</td>\n",
       "      <td>5</td>\n",
       "      <td>0.02</td>\n",
       "      <td>8.224098e+05</td>\n",
       "      <td>-0.362296</td>\n",
       "      <td>1.247078</td>\n",
       "      <td>8.224097</td>\n",
       "      <td>190940.890625</td>\n",
       "      <td>-0.210293</td>\n",
       "      <td>1.345313</td>\n",
       "      <td>1.909409</td>\n",
       "    </tr>\n",
       "    <tr>\n",
       "      <th>2</th>\n",
       "      <td>30</td>\n",
       "      <td>3</td>\n",
       "      <td>5</td>\n",
       "      <td>10</td>\n",
       "      <td>0.01</td>\n",
       "      <td>2.374833e+05</td>\n",
       "      <td>-0.342059</td>\n",
       "      <td>0.780448</td>\n",
       "      <td>2.374833</td>\n",
       "      <td>128788.664062</td>\n",
       "      <td>-0.153513</td>\n",
       "      <td>0.888851</td>\n",
       "      <td>1.287887</td>\n",
       "    </tr>\n",
       "    <tr>\n",
       "      <th>3</th>\n",
       "      <td>30</td>\n",
       "      <td>3</td>\n",
       "      <td>5</td>\n",
       "      <td>10</td>\n",
       "      <td>0.02</td>\n",
       "      <td>4.528810e+05</td>\n",
       "      <td>-0.284567</td>\n",
       "      <td>0.942631</td>\n",
       "      <td>4.528810</td>\n",
       "      <td>215230.218750</td>\n",
       "      <td>-0.187788</td>\n",
       "      <td>1.645605</td>\n",
       "      <td>2.152302</td>\n",
       "    </tr>\n",
       "    <tr>\n",
       "      <th>4</th>\n",
       "      <td>30</td>\n",
       "      <td>3</td>\n",
       "      <td>5</td>\n",
       "      <td>20</td>\n",
       "      <td>0.01</td>\n",
       "      <td>2.446373e+05</td>\n",
       "      <td>-0.352521</td>\n",
       "      <td>0.781757</td>\n",
       "      <td>2.446373</td>\n",
       "      <td>130033.421875</td>\n",
       "      <td>-0.159296</td>\n",
       "      <td>0.891152</td>\n",
       "      <td>1.300334</td>\n",
       "    </tr>\n",
       "    <tr>\n",
       "      <th>...</th>\n",
       "      <td>...</td>\n",
       "      <td>...</td>\n",
       "      <td>...</td>\n",
       "      <td>...</td>\n",
       "      <td>...</td>\n",
       "      <td>...</td>\n",
       "      <td>...</td>\n",
       "      <td>...</td>\n",
       "      <td>...</td>\n",
       "      <td>...</td>\n",
       "      <td>...</td>\n",
       "      <td>...</td>\n",
       "      <td>...</td>\n",
       "    </tr>\n",
       "    <tr>\n",
       "      <th>157</th>\n",
       "      <td>90</td>\n",
       "      <td>5</td>\n",
       "      <td>20</td>\n",
       "      <td>5</td>\n",
       "      <td>0.02</td>\n",
       "      <td>7.156793e+05</td>\n",
       "      <td>-0.280393</td>\n",
       "      <td>1.239699</td>\n",
       "      <td>7.156793</td>\n",
       "      <td>199785.375000</td>\n",
       "      <td>-0.217284</td>\n",
       "      <td>1.573390</td>\n",
       "      <td>1.997854</td>\n",
       "    </tr>\n",
       "    <tr>\n",
       "      <th>158</th>\n",
       "      <td>90</td>\n",
       "      <td>5</td>\n",
       "      <td>20</td>\n",
       "      <td>10</td>\n",
       "      <td>0.01</td>\n",
       "      <td>1.143282e+06</td>\n",
       "      <td>-0.314273</td>\n",
       "      <td>1.428601</td>\n",
       "      <td>11.432816</td>\n",
       "      <td>182986.265625</td>\n",
       "      <td>-0.205087</td>\n",
       "      <td>1.344036</td>\n",
       "      <td>1.829863</td>\n",
       "    </tr>\n",
       "    <tr>\n",
       "      <th>159</th>\n",
       "      <td>90</td>\n",
       "      <td>5</td>\n",
       "      <td>20</td>\n",
       "      <td>10</td>\n",
       "      <td>0.02</td>\n",
       "      <td>1.000000e+05</td>\n",
       "      <td>0.000000</td>\n",
       "      <td>NaN</td>\n",
       "      <td>1.000000</td>\n",
       "      <td>100000.000000</td>\n",
       "      <td>0.000000</td>\n",
       "      <td>NaN</td>\n",
       "      <td>1.000000</td>\n",
       "    </tr>\n",
       "    <tr>\n",
       "      <th>160</th>\n",
       "      <td>90</td>\n",
       "      <td>5</td>\n",
       "      <td>20</td>\n",
       "      <td>20</td>\n",
       "      <td>0.01</td>\n",
       "      <td>7.675396e+05</td>\n",
       "      <td>-0.385159</td>\n",
       "      <td>1.227981</td>\n",
       "      <td>7.675396</td>\n",
       "      <td>70939.335938</td>\n",
       "      <td>-0.386138</td>\n",
       "      <td>-0.527137</td>\n",
       "      <td>0.709393</td>\n",
       "    </tr>\n",
       "    <tr>\n",
       "      <th>161</th>\n",
       "      <td>90</td>\n",
       "      <td>5</td>\n",
       "      <td>20</td>\n",
       "      <td>20</td>\n",
       "      <td>0.02</td>\n",
       "      <td>6.507372e+05</td>\n",
       "      <td>-0.313959</td>\n",
       "      <td>1.166785</td>\n",
       "      <td>6.507372</td>\n",
       "      <td>101882.953125</td>\n",
       "      <td>-0.371487</td>\n",
       "      <td>0.188131</td>\n",
       "      <td>1.018830</td>\n",
       "    </tr>\n",
       "  </tbody>\n",
       "</table>\n",
       "<p>162 rows × 13 columns</p>\n",
       "</div>"
      ],
      "text/plain": [
       "    TIME_WINDOW K_SIZE CONV_MID CONV_FINAL  LEARNING_RATE  \\\n",
       "0            30      3        5          5           0.01   \n",
       "1            30      3        5          5           0.02   \n",
       "2            30      3        5         10           0.01   \n",
       "3            30      3        5         10           0.02   \n",
       "4            30      3        5         20           0.01   \n",
       "..          ...    ...      ...        ...            ...   \n",
       "157          90      5       20          5           0.02   \n",
       "158          90      5       20         10           0.01   \n",
       "159          90      5       20         10           0.02   \n",
       "160          90      5       20         20           0.01   \n",
       "161          90      5       20         20           0.02   \n",
       "\n",
       "     train_portfolio_value  train_drawdown  train_sharpe  train_cumulative  \\\n",
       "0             9.354249e+05       -0.384764      1.331227          9.354249   \n",
       "1             8.224098e+05       -0.362296      1.247078          8.224097   \n",
       "2             2.374833e+05       -0.342059      0.780448          2.374833   \n",
       "3             4.528810e+05       -0.284567      0.942631          4.528810   \n",
       "4             2.446373e+05       -0.352521      0.781757          2.446373   \n",
       "..                     ...             ...           ...               ...   \n",
       "157           7.156793e+05       -0.280393      1.239699          7.156793   \n",
       "158           1.143282e+06       -0.314273      1.428601         11.432816   \n",
       "159           1.000000e+05        0.000000           NaN          1.000000   \n",
       "160           7.675396e+05       -0.385159      1.227981          7.675396   \n",
       "161           6.507372e+05       -0.313959      1.166785          6.507372   \n",
       "\n",
       "     test_portfolio_value  test_drawdown  test_sharpe  test_cumulative  \n",
       "0           150983.859375      -0.288262     0.909782         1.509839  \n",
       "1           190940.890625      -0.210293     1.345313         1.909409  \n",
       "2           128788.664062      -0.153513     0.888851         1.287887  \n",
       "3           215230.218750      -0.187788     1.645605         2.152302  \n",
       "4           130033.421875      -0.159296     0.891152         1.300334  \n",
       "..                    ...            ...          ...              ...  \n",
       "157         199785.375000      -0.217284     1.573390         1.997854  \n",
       "158         182986.265625      -0.205087     1.344036         1.829863  \n",
       "159         100000.000000       0.000000          NaN         1.000000  \n",
       "160          70939.335938      -0.386138    -0.527137         0.709393  \n",
       "161         101882.953125      -0.371487     0.188131         1.018830  \n",
       "\n",
       "[162 rows x 13 columns]"
      ]
     },
     "execution_count": 33,
     "metadata": {},
     "output_type": "execute_result"
    }
   ],
   "source": [
    "results_df"
   ]
  },
  {
   "cell_type": "code",
   "execution_count": null,
   "metadata": {},
   "outputs": [],
   "source": [
    "results_df2.to_csv('results_df2.csv', index=False)"
   ]
  },
  {
   "cell_type": "code",
   "execution_count": null,
   "metadata": {},
   "outputs": [],
   "source": []
  },
  {
   "cell_type": "code",
   "execution_count": 35,
   "metadata": {},
   "outputs": [],
   "source": [
    "results_df.to_csv('secondhyperparmatuning.csv', index=False)"
   ]
  },
  {
   "cell_type": "code",
   "execution_count": null,
   "metadata": {},
   "outputs": [],
   "source": []
  },
  {
   "cell_type": "code",
   "execution_count": null,
   "metadata": {},
   "outputs": [],
   "source": []
  },
  {
   "cell_type": "code",
   "execution_count": null,
   "metadata": {},
   "outputs": [],
   "source": []
  },
  {
   "cell_type": "code",
   "execution_count": 36,
   "metadata": {},
   "outputs": [],
   "source": [
    "FEATURE_NAMES = ['close',\n",
    "                 'high',\n",
    "                 'low',\n",
    "                 'High_VIX',\n",
    "                 'Low_VIX',\n",
    "                 'Close_VIX',\n",
    "                 'High_SPY',\n",
    "                 'Low_SPY',\n",
    "                 'Close_SPY',\n",
    "                 'Volume_SPY',\n",
    "                 'Fear Greed', \n",
    "                 'ratingScore',\n",
    "                 'ratingDetailsDCFScore',\n",
    "                 'ratingDetailsROEScore',\n",
    "                 'ratingDetailsROAScore',\n",
    "                 'ratingDetailsPEScore',\n",
    "                 'ratingDetailsPBScore',\n",
    "                 'expenses',\n",
    "                 'GDP', \n",
    "                 'exports', \n",
    "                 'imports',\n",
    "                 'pound_dollar_exchange_rate',\n",
    "                 'unemployment',\n",
    "                 'ics',\n",
    "                 'TTM Revenue(Billion)',\n",
    "                 'TTM EBITDA(Billion)',\n",
    "                 'EBITDA Margin',\n",
    "                 'Price to Book Ratio',\n",
    "                 'PE Ratio',\n",
    "                 'Price to Sales Ratio',\n",
    "                 'Assets',\n",
    "                 'NetIncomeLoss',\n",
    "                 'Return on Equity(%)']\n",
    "\n",
    "TIME_WINDOW = 50\n",
    "COMISSION_FEE = 0.0025\n",
    "K_SIZE = 4\n",
    "CONV_MID = 5\n",
    "CONV_FINAL= 20\n",
    "\n",
    "environment = PortfolioOptimizationEnv(\n",
    "        df_portfolio_train,\n",
    "        initial_amount=100000,\n",
    "        comission_fee_pct=COMISSION_FEE,\n",
    "        time_window=TIME_WINDOW,\n",
    "        features=FEATURE_NAMES,\n",
    "        normalize_df=None,\n",
    "        reward_function=custom_reward_function,\n",
    "        reward_scaling=1.0\n",
    "    )\n",
    "\n",
    "# set PolicyGradient parameters\n",
    "model_kwargs = {\n",
    "    \"lr\": 0.01, \n",
    "    \"policy\": EIIE,\n",
    "}\n",
    "\n",
    "# here, we can set EIIE's parameters\n",
    "policy_kwargs = {\n",
    "    \"initial_features\": len(FEATURE_NAMES),\n",
    "    \"k_size\": K_SIZE,\n",
    "    \"time_window\": TIME_WINDOW,\n",
    "    \"conv_mid_features\":CONV_MID,\n",
    "    \"conv_final_features\":CONV_FINAL}\n",
    "\n",
    "EIIE_model = DRLAgent(environment).get_model(\"pg\", device, model_kwargs, policy_kwargs)"
   ]
  },
  {
   "cell_type": "markdown",
   "metadata": {},
   "source": [
    "# DRL Model Training (Jan 2011- Dec 2020)"
   ]
  },
  {
   "cell_type": "code",
   "execution_count": null,
   "metadata": {
    "scrolled": false
   },
   "outputs": [],
   "source": [
    "DRLAgent.train_model(EIIE_model, episodes=5)\n",
    "torch.save(EIIE_model.train_policy.state_dict(), \"policy_EIIE(test).pt\")"
   ]
  },
  {
   "cell_type": "markdown",
   "metadata": {},
   "source": [
    "# DRL Model Evaluation (Jan 2021-Dec 2023)"
   ]
  },
  {
   "cell_type": "code",
   "execution_count": null,
   "metadata": {},
   "outputs": [],
   "source": [
    "import os\n",
    "import shutil\n",
    "\n",
    "environment_2021 = PortfolioOptimizationEnv(\n",
    "    df_portfolio_2021,\n",
    "    initial_amount=100000,\n",
    "    comission_fee_pct=COMISSION_FEE,\n",
    "    time_window=TIME_WINDOW,\n",
    "    features=FEATURE_NAMES,\n",
    "    normalize_df=None,\n",
    "    reward_function=custom_reward_function,\n",
    "    reward_scaling=1.0\n",
    ")\n",
    "\n",
    "environment_2022 = PortfolioOptimizationEnv(\n",
    "    df_portfolio_2022,\n",
    "    initial_amount=100000,\n",
    "    comission_fee_pct=COMISSION_FEE,\n",
    "    time_window=TIME_WINDOW,\n",
    "    features=FEATURE_NAMES,\n",
    "    normalize_df=None,\n",
    "    reward_function=custom_reward_function,\n",
    "    reward_scaling=1.0\n",
    ")\n",
    "\n",
    "environment_2023 = PortfolioOptimizationEnv(\n",
    "    df_portfolio_2023,\n",
    "    initial_amount=100000,\n",
    "    comission_fee_pct=COMISSION_FEE,\n",
    "    time_window=TIME_WINDOW,\n",
    "    features=FEATURE_NAMES,\n",
    "    normalize_df=None,\n",
    "    reward_function=custom_reward_function,\n",
    "    reward_scaling=1.0\n",
    ")\n",
    "\n",
    "EIIE_results = {\n",
    "    \"train\": {},\n",
    "    \"2021\": {},\n",
    "    \"2022\": {},\n",
    "    \"2023\": {}\n",
    "}\n",
    "# EI3_results = {\n",
    "#     \"train\": {},\n",
    "#     \"2021\": {},\n",
    "#     \"2022\": {},\n",
    "#     \"2023\": {}\n",
    "# }\n",
    "\n",
    "# instantiate an architecture with the same arguments used in training\n",
    "# and load with load_state_dict.\n",
    "\n",
    "EIIE_policy = EIIE(time_window = TIME_WINDOW, device = device, initial_features = len(FEATURE_NAMES),\n",
    "              k_size = K_SIZE, conv_mid_features = CONV_MID,conv_final_features = CONV_FINAL)\n",
    "\n",
    "EIIE_policy.load_state_dict(torch.load(\"policy_EIIE(test).pt\"))\n",
    "\n",
    "environment.reset()\n",
    "src_folder = \"results/rl\"\n",
    "dst_folder = \"results/train\"\n",
    "if not os.path.exists(src_folder):\n",
    "    os.makedirs(src_folder)\n",
    "if os.path.exists(dst_folder):\n",
    "    shutil.rmtree(dst_folder)\n",
    "DRLAgent.DRL_validation(EIIE_model, environment, policy=EIIE_policy)\n",
    "os.rename(src_folder, dst_folder)\n",
    "EIIE_results[\"train\"][\"value\"] = environment._asset_memory[\"final\"]\n",
    "EIIE_results[\"train\"][\"actions\"] = environment._actions_memory\n",
    "\n",
    "src_folder = \"results/rl\"\n",
    "dst_folder = \"results/2021\"\n",
    "if not os.path.exists(src_folder):\n",
    "    os.makedirs(src_folder)\n",
    "if os.path.exists(dst_folder):\n",
    "    shutil.rmtree(dst_folder)\n",
    "DRLAgent.DRL_validation(EIIE_model, environment_2021, policy=EIIE_policy)\n",
    "os.rename(src_folder, dst_folder)\n",
    "EIIE_results[\"2021\"][\"value\"] = environment_2021._asset_memory[\"final\"]\n",
    "EIIE_results[\"2021\"][\"actions\"] = environment_2021._actions_memory\n",
    "\n",
    "src_folder = \"results/rl\"\n",
    "dst_folder = \"results/2022\"\n",
    "if not os.path.exists(src_folder):\n",
    "    os.makedirs(src_folder)\n",
    "if os.path.exists(dst_folder):\n",
    "    shutil.rmtree(dst_folder)\n",
    "DRLAgent.DRL_validation(EIIE_model, environment_2022, policy=EIIE_policy)\n",
    "os.rename(src_folder, dst_folder)\n",
    "EIIE_results[\"2022\"][\"value\"] = environment_2022._asset_memory[\"final\"]\n",
    "EIIE_results[\"2022\"][\"actions\"] = environment_2022._actions_memory\n",
    "\n",
    "src_folder = \"results/rl\"\n",
    "dst_folder = \"results/2023\"\n",
    "if not os.path.exists(src_folder):\n",
    "    os.makedirs(src_folder)\n",
    "if os.path.exists(dst_folder):\n",
    "    shutil.rmtree(dst_folder)\n",
    "DRLAgent.DRL_validation(EIIE_model, environment_2023, policy=EIIE_policy)\n",
    "os.rename(src_folder, dst_folder)\n",
    "EIIE_results[\"2023\"][\"value\"] = environment_2023._asset_memory[\"final\"]\n",
    "EIIE_results[\"2023\"][\"actions\"] = environment_2023._actions_memory\n",
    "\n",
    "\n",
    "# EI3_policy = EI3(time_window=50, device=device)\n",
    "# EI3_policy.load_state_dict(torch.load(\"policy_EI3.pt\"))\n",
    "\n",
    "# environment.reset()\n",
    "# DRLAgent.DRL_validation(EI3_model, environment, policy=EI3_policy)\n",
    "# EI3_results[\"train\"][\"value\"] = environment._asset_memory[\"final\"]\n",
    "# environment_2021.reset()\n",
    "# DRLAgent.DRL_validation(EI3_model, environment_2021, policy=EI3_policy)\n",
    "# EI3_results[\"2021\"][\"value\"] = environment_2021._asset_memory[\"final\"]\n",
    "# environment_2022.reset()\n",
    "# DRLAgent.DRL_validation(EI3_model, environment_2022, policy=EI3_policy)\n",
    "# EI3_results[\"2022\"][\"value\"] = environment_2022._asset_memory[\"final\"]\n",
    "# environment_2023.reset()\n",
    "# DRLAgent.DRL_validation(EI3_model, environment_2023, policy=EI3_policy)\n",
    "# EI3_results[\"2023\"][\"value\"] = environment_2023._asset_memory[\"final\"]\n",
    "\n",
    "#uniform buy n hold\n",
    "if not os.path.exists(src_folder):\n",
    "    os.makedirs(src_folder)\n",
    "UBAH_results = {\n",
    "    \"train\": {\"value\": [], \"actions\": []},\n",
    "    \"2021\": {\"value\": [], \"actions\": []},\n",
    "    \"2022\": {\"value\": [], \"actions\": []},\n",
    "    \"2023\": {\"value\": [], \"actions\": []}\n",
    "}\n",
    "\n",
    "PORTFOLIO_SIZE = len(TEST_SET)\n",
    "\n",
    "# train period\n",
    "terminated = False\n",
    "environment.reset()\n",
    "while not terminated:\n",
    "    action = [0] + [1/PORTFOLIO_SIZE] * PORTFOLIO_SIZE\n",
    "    _, _, terminated, _ = environment.step(action)\n",
    "    UBAH_results[\"train\"][\"actions\"].append(action)\n",
    "UBAH_results[\"train\"][\"value\"] = environment._asset_memory[\"final\"]\n",
    "\n",
    "# 2021\n",
    "terminated = False\n",
    "environment_2021.reset()\n",
    "while not terminated:\n",
    "    action = [0] + [1/PORTFOLIO_SIZE] * PORTFOLIO_SIZE\n",
    "    _, _, terminated, _ = environment_2021.step(action)\n",
    "    UBAH_results[\"2021\"][\"actions\"].append(action)\n",
    "UBAH_results[\"2021\"][\"value\"] = environment_2021._asset_memory[\"final\"]\n",
    "\n",
    "# 2022\n",
    "terminated = False\n",
    "environment_2022.reset()\n",
    "while not terminated:\n",
    "    action = [0] + [1/PORTFOLIO_SIZE] * PORTFOLIO_SIZE\n",
    "    _, _, terminated, _ = environment_2022.step(action)\n",
    "    UBAH_results[\"2022\"][\"actions\"].append(action)\n",
    "UBAH_results[\"2022\"][\"value\"] = environment_2022._asset_memory[\"final\"]\n",
    "\n",
    "# 2023\n",
    "terminated = False\n",
    "environment_2023.reset()\n",
    "while not terminated:\n",
    "    action = [0] + [1/PORTFOLIO_SIZE] * PORTFOLIO_SIZE\n",
    "    _, _, terminated, _ = environment_2023.step(action)\n",
    "    UBAH_results[\"2023\"][\"actions\"].append(action)\n",
    "UBAH_results[\"2023\"][\"value\"] = environment_2023._asset_memory[\"final\"]"
   ]
  },
  {
   "cell_type": "code",
   "execution_count": null,
   "metadata": {
    "scrolled": false
   },
   "outputs": [],
   "source": [
    "import matplotlib.pyplot as plt\n",
    "%matplotlib inline \n",
    "\n",
    "plt.plot(UBAH_results[\"train\"][\"value\"], label=\"Buy and Hold\")\n",
    "plt.plot(EIIE_results[\"train\"][\"value\"], label=\"EIIE\")\n",
    "#plt.plot(EI3_results[\"train\"][\"value\"], label=\"EI3\")\n",
    "\n",
    "plt.xlabel(\"Days\")\n",
    "plt.ylabel(\"Portfolio Value\")\n",
    "plt.title(\"Performance in training period\")\n",
    "plt.legend()\n",
    "\n",
    "plt.show()\n",
    "\n",
    "plt.plot(UBAH_results[\"2021\"][\"value\"], label=\"Buy and Hold\")\n",
    "plt.plot(EIIE_results[\"2021\"][\"value\"], label=\"EIIE\")\n",
    "#plt.plot(EI3_results[\"2021\"][\"value\"], label=\"EI3\")\n",
    "\n",
    "plt.xlabel(\"Days\")\n",
    "plt.ylabel(\"Portfolio Value\")\n",
    "plt.title(\"Performance in 2021\")\n",
    "plt.legend()\n",
    "\n",
    "plt.show()\n",
    "\n",
    "plt.plot(UBAH_results[\"2022\"][\"value\"], label=\"Buy and Hold\")\n",
    "plt.plot(EIIE_results[\"2022\"][\"value\"], label=\"EIIE\")\n",
    "#plt.plot(EI3_results[\"2022\"][\"value\"], label=\"EI3\")\n",
    "\n",
    "plt.xlabel(\"Days\")\n",
    "plt.ylabel(\"Portfolio Value\")\n",
    "plt.title(\"Performance in 2022\")\n",
    "plt.legend()\n",
    "\n",
    "plt.show()\n",
    "\n",
    "plt.plot(UBAH_results[\"2023\"][\"value\"], label=\"Buy and Hold\")\n",
    "plt.plot(EIIE_results[\"2023\"][\"value\"], label=\"EIIE\")\n",
    "#plt.plot(EI3_results[\"2023\"][\"value\"], label=\"EI3\")\n",
    "\n",
    "plt.xlabel(\"Days\")\n",
    "plt.ylabel(\"Portfolio Value\")\n",
    "plt.title(\"Performance in 2023\")\n",
    "plt.legend()\n",
    "\n",
    "plt.show()"
   ]
  },
  {
   "cell_type": "markdown",
   "metadata": {},
   "source": [
    "# Portfolio Allocation by Trained DRL Model"
   ]
  },
  {
   "cell_type": "code",
   "execution_count": null,
   "metadata": {
    "scrolled": false
   },
   "outputs": [],
   "source": [
    "# Function to plot action memory\n",
    "def plot_action_memory(actions, tickers, label):\n",
    "    \"\"\"Visualize portfolio allocation over time.\"\"\"\n",
    "    actions_df = pd.DataFrame(actions, columns=[\"cash\"] + tickers)\n",
    "    actions_df.plot(kind=\"line\", figsize=(12, 8), title=f\"Portfolio Allocation Breakdown - {label}\")\n",
    "    plt.ylabel(\"Portfolio Weight\")\n",
    "    plt.xlabel(\"Time Step\")\n",
    "    plt.legend(loc=\"upper left\", bbox_to_anchor=(1, 1))\n",
    "    plt.grid(True)\n",
    "    plt.tight_layout()\n",
    "    plt.show()\n",
    "\n",
    "# Plot EIIE actions for the training period\n",
    "plot_action_memory(EIIE_results[\"train\"][\"actions\"], TEST_SET, \"EIIE - Train\")\n",
    "\n",
    "# Plot EIIE actions for 2021\n",
    "plot_action_memory(EIIE_results[\"2021\"][\"actions\"], TEST_SET, \"EIIE - 2021\")\n",
    "\n",
    "# Plot EIIE actions for 2022\n",
    "plot_action_memory(EIIE_results[\"2022\"][\"actions\"], TEST_SET, \"EIIE - 2022\")\n",
    "\n",
    "# Plot EIIE actions for 2023\n",
    "plot_action_memory(EIIE_results[\"2023\"][\"actions\"], TEST_SET, \"EIIE - 2023\")\n",
    "\n",
    "# Similarly, plot UBAH actions for each period\n",
    "# plot_action_memory(UBAH_results[\"train\"][\"actions\"], TEST_SET, \"UBAH - Train\")\n",
    "# plot_action_memory(UBAH_results[\"2021\"][\"actions\"], TEST_SET, \"UBAH - 2021\")\n",
    "# plot_action_memory(UBAH_results[\"2022\"][\"actions\"], TEST_SET, \"UBAH - 2022\")\n",
    "# plot_action_memory(UBAH_results[\"2023\"][\"actions\"], TEST_SET, \"UBAH - 2023\")"
   ]
  },
  {
   "cell_type": "code",
   "execution_count": null,
   "metadata": {},
   "outputs": [],
   "source": []
  },
  {
   "cell_type": "code",
   "execution_count": null,
   "metadata": {},
   "outputs": [],
   "source": [
    "results_df2 = results_df2[[\"TIME_WINDOW\", \"K_SIZE\", \"CONV_MID\", \"CONV_FINAL\", \n",
    "            'train_portfolio_value', 'train_drawdown', 'train_sharpe','train_cumulative',\n",
    "            '2021_portfolio_value', '2021_drawdown', '2021_sharpe','2021_cumulative',\n",
    "             '2022_portfolio_value', '2022_drawdown', '2022_sharpe','2022_cumulative',\n",
    "             '2023_portfolio_value', '2023_drawdown', '2023_sharpe','2023_cumulative']]"
   ]
  },
  {
   "cell_type": "code",
   "execution_count": null,
   "metadata": {},
   "outputs": [],
   "source": []
  }
 ],
 "metadata": {
  "kernelspec": {
   "display_name": "Python 3",
   "language": "python",
   "name": "python3"
  },
  "language_info": {
   "codemirror_mode": {
    "name": "ipython",
    "version": 3
   },
   "file_extension": ".py",
   "mimetype": "text/x-python",
   "name": "python",
   "nbconvert_exporter": "python",
   "pygments_lexer": "ipython3",
   "version": "3.10.10"
  }
 },
 "nbformat": 4,
 "nbformat_minor": 2
}

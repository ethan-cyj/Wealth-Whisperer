{
 "cells": [
  {
   "cell_type": "markdown",
   "metadata": {},
   "source": [
    "\n",
    "Hourly Data for 2014 Jan - 2023 Dec \n",
    "- [\"PG\", \"UL\", \"JNJ\", \"PFE\", \"XOM\", \"CVX\", \"JPM\", \"GS\"]\n",
    "- Apple (AAPL)\n",
    "- Microsoft (MSFT)\n",
    "- Procter & Gamble (PG)\n",
    "- Unilever (UL)\n",
    "- Johnson & Johnson (JNJ)\n",
    "- Pfizer (PFE)\n",
    "- ExxonMobil (XOM)\n",
    "- Chevron (CVX)\n",
    "- JPMorgan Chase (JPM)\n",
    "- Goldman Sachs (GS)\n",
    "\n",
    "Before running\n",
    "- create an empty \"log.csv\" with column \"symbol_year_month\"\n",
    "- create an empty \"stocks.csv\" with columns ['date', 'stock_name', 'open', 'high', 'low', 'close', 'volume']"
   ]
  },
  {
   "cell_type": "code",
   "execution_count": null,
   "metadata": {},
   "outputs": [],
   "source": [
    "# imports\n",
    "import requests\n",
    "import pandas as pd\n",
    "import os\n",
    "\n",
    "# config\n",
    "API_KEY = \"\" #replace with api key from https://www.alphavantage.co/\n",
    "STOCKS_CSV = \"stocks.csv\"\n",
    "LOGGING_CSV = \"log.csv\"\n",
    "\n",
    "# create lists of companies and dates to search up\n",
    "symbol_list = [\"AAPL\", \"PG\", \"UL\", \"JNJ\", \"PFE\"]\n",
    "\n",
    "start_date = '2014-01-01'\n",
    "end_date = '2023-12-31'\n",
    "date_range = pd.date_range(start=start_date, end=end_date, freq='M')\n",
    "year_month_list = date_range.strftime('%Y-%m').tolist()"
   ]
  },
  {
   "cell_type": "code",
   "execution_count": null,
   "metadata": {},
   "outputs": [],
   "source": [
    "# test api call\n",
    "url = f\"https://www.alphavantage.co/query?function=TIME_SERIES_INTRADAY&symbol=AAPL&interval=60min&month=2020-07&outputsize=full&apikey={API_KEY}\"\n",
    "response = requests.get(url)\n",
    "print(response.ok, response, response.json())"
   ]
  },
  {
   "cell_type": "code",
   "execution_count": 41,
   "metadata": {},
   "outputs": [],
   "source": [
    "def fetch_data_if_not_exist(symbol_list, year_month_list, api_key = API_KEY, stocks_csv = STOCKS_CSV, log_csv=LOGGING_CSV):\n",
    "    \"\"\"\n",
    "    maintains a log.csv of the successful api requests, \n",
    "    when looping through symbol (company) list and year_month_list, if symbol(company)_year_month is not in the log, make api request \n",
    "    add the data back into stocks.csv\n",
    "    \"\"\"\n",
    "\n",
    "    log_list = pd.read_csv(log_csv).symbol_year_month.to_list()\n",
    "\n",
    "    df_stocks = pd.read_csv(stocks_csv)\n",
    "\n",
    "    api_limit = 0\n",
    "\n",
    "    for symbol in symbol_list:\n",
    "    \n",
    "        for year_month in year_month_list:\n",
    "\n",
    "            # check if the year-month for the symbol has already been done \n",
    "            if f\"{symbol}_{year_month}\" in log_list:\n",
    "                continue\n",
    "            \n",
    "            if api_limit < 25:\n",
    "                print(f\"checking {symbol}_{year_month}\")\n",
    "\n",
    "                # make api request\n",
    "                url = f\"https://www.alphavantage.co/query?function=TIME_SERIES_INTRADAY&symbol={symbol}&interval=60min&month={year_month}&outputsize=full&apikey={api_key}\"\n",
    "                response = requests.get(url)\n",
    "\n",
    "                # parse json response into dict\n",
    "                data = response.json()\n",
    "\n",
    "                # convert to df\n",
    "                df = pd.DataFrame.from_dict(data[\"Time Series (60min)\"], orient='index')\n",
    "\n",
    "                # rename columns + set data type of numeric columns\n",
    "                numeric_columns = ['open', 'high', 'low', 'close', 'volume']\n",
    "                df.columns = numeric_columns\n",
    "                df[numeric_columns] = df[numeric_columns].apply(pd.to_numeric, errors='coerce')\n",
    "\n",
    "                # date is currently the index column, reset index and rename date column\n",
    "                df.index.name = 'date'\n",
    "                df.reset_index(inplace=True)\n",
    "                \n",
    "                # fill up stock_name column\n",
    "                df.insert(1, 'stock_name', symbol)\n",
    "\n",
    "                # add to main dataset\n",
    "                df_stocks = pd.concat([df_stocks, df], axis = 0, ignore_index=True)\n",
    "                log_list += [f\"{symbol}_{year_month}\"]\n",
    "\n",
    "                api_limit += 1\n",
    "\n",
    "    # save as csv\n",
    "    df_stocks.to_csv(stocks_csv, index=False)\n",
    "    df_log = pd.DataFrame(log_list, columns=['symbol_year_month'])\n",
    "    df_log.to_csv(log_csv, index = False)\n",
    "\n",
    "    return df_stocks.shape"
   ]
  },
  {
   "cell_type": "code",
   "execution_count": 74,
   "metadata": {},
   "outputs": [
    {
     "data": {
      "text/plain": [
       "(162719, 7)"
      ]
     },
     "execution_count": 74,
     "metadata": {},
     "output_type": "execute_result"
    }
   ],
   "source": [
    "# just keep runnning this, if the output is df.shape only, it should mean that all data has been retrieved\n",
    "# if the output fails just change the server/ disconnect and reconnect\n",
    "\n",
    "fetch_data_if_not_exist(symbol_list, year_month_list)"
   ]
  },
  {
   "cell_type": "code",
   "execution_count": 2,
   "metadata": {},
   "outputs": [],
   "source": [
    "df_stocks = pd.read_csv(\"stocks.csv\")\n",
    "df_stocks.to_csv(\"AAPL_PG_UL_JNJ_PFE_2014_2023.csv\", index=False)"
   ]
  },
  {
   "cell_type": "code",
   "execution_count": 3,
   "metadata": {},
   "outputs": [],
   "source": [
    "# separate data based on company and save as csv\n",
    "full_df = pd.read_csv(\"AAPL_PG_UL_JNJ_PFE_2014_2023.csv\")\n",
    "\n",
    "for symbol in symbol_list:\n",
    "    symbol_df = full_df[full_df['stock_name'] == symbol]\n",
    "    symbol_df.to_csv(f\"./company_hourly/{symbol}.csv\", index=False)\n"
   ]
  }
 ],
 "metadata": {
  "kernelspec": {
   "display_name": "dse4212",
   "language": "python",
   "name": "python3"
  },
  "language_info": {
   "codemirror_mode": {
    "name": "ipython",
    "version": 3
   },
   "file_extension": ".py",
   "mimetype": "text/x-python",
   "name": "python",
   "nbconvert_exporter": "python",
   "pygments_lexer": "ipython3",
   "version": "3.12.5"
  }
 },
 "nbformat": 4,
 "nbformat_minor": 2
}

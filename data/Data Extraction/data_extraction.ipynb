{
 "cells": [
  {
   "cell_type": "markdown",
   "metadata": {},
   "source": [
    "Calling of API 2 years at a time (Alpha Vantage has a limit of 25 calls per day)"
   ]
  },
  {
   "cell_type": "code",
   "execution_count": 5,
   "metadata": {},
   "outputs": [
    {
     "name": "stdout",
     "output_type": "stream",
     "text": [
      "https://www.alphavantage.co/query?function=TIME_SERIES_INTRADAY&symbol=GS&interval=60min&month=2023-01&outputsize=full&apikey=\n",
      "https://www.alphavantage.co/query?function=TIME_SERIES_INTRADAY&symbol=GS&interval=60min&month=2023-02&outputsize=full&apikey=\n",
      "https://www.alphavantage.co/query?function=TIME_SERIES_INTRADAY&symbol=GS&interval=60min&month=2023-03&outputsize=full&apikey=\n",
      "https://www.alphavantage.co/query?function=TIME_SERIES_INTRADAY&symbol=GS&interval=60min&month=2023-04&outputsize=full&apikey=\n",
      "https://www.alphavantage.co/query?function=TIME_SERIES_INTRADAY&symbol=GS&interval=60min&month=2023-05&outputsize=full&apikey=\n",
      "https://www.alphavantage.co/query?function=TIME_SERIES_INTRADAY&symbol=GS&interval=60min&month=2023-06&outputsize=full&apikey=\n",
      "https://www.alphavantage.co/query?function=TIME_SERIES_INTRADAY&symbol=GS&interval=60min&month=2023-07&outputsize=full&apikey=\n",
      "https://www.alphavantage.co/query?function=TIME_SERIES_INTRADAY&symbol=GS&interval=60min&month=2023-08&outputsize=full&apikey=\n",
      "https://www.alphavantage.co/query?function=TIME_SERIES_INTRADAY&symbol=GS&interval=60min&month=2023-09&outputsize=full&apikey=\n",
      "https://www.alphavantage.co/query?function=TIME_SERIES_INTRADAY&symbol=GS&interval=60min&month=2023-10&outputsize=full&apikey=\n",
      "https://www.alphavantage.co/query?function=TIME_SERIES_INTRADAY&symbol=GS&interval=60min&month=2023-11&outputsize=full&apikey=\n",
      "https://www.alphavantage.co/query?function=TIME_SERIES_INTRADAY&symbol=GS&interval=60min&month=2023-12&outputsize=full&apikey=\n"
     ]
    }
   ],
   "source": [
    "import requests\n",
    "import pandas as pd\n",
    "\n",
    "# url = 'https://www.alphavantage.co/query?function=TIME_SERIES_INTRADAY&symbol=CVX&interval=60min&month=2012-12&outputsize=full&apikey=CVQYOGMXJPDIQROQ'\n",
    "def data_extraction(url,company_name,api_key):\n",
    "    combined_url = url + api_key\n",
    "    r = requests.get(combined_url)\n",
    "    data = r.json()\n",
    "    time_series = data['Time Series (60min)']\n",
    "    # Convert JSON to DataFrame\n",
    "    df = pd.DataFrame.from_dict(time_series, orient='index')\n",
    "    # Rename the columns for readability\n",
    "    df.columns = ['open', 'high', 'low', 'close', 'volume']\n",
    "    # Convert the index to a 'date' column\n",
    "    df.index.name = 'date'\n",
    "    df.reset_index(inplace=True)\n",
    "    # Convert columns to appropriate data types\n",
    "    df['open'] = pd.to_numeric(df['open'])\n",
    "    df['high'] = pd.to_numeric(df['high'])\n",
    "    df['low'] = pd.to_numeric(df['low'])\n",
    "    df['close'] = pd.to_numeric(df['close'])\n",
    "    df['volume'] = pd.to_numeric(df['volume'])\n",
    "    df.insert(1, 'stock_name', company_name)\n",
    "    return df\n",
    "\n",
    "stocks_list = [\"GS\"]\n",
    "for company_name in stocks_list:\n",
    "    column_names = ['date', 'stock_name', 'open', 'high', 'low', 'close', 'volume']\n",
    "    combined_df = pd.DataFrame(columns=column_names)\n",
    "    for year in range(2023,2024):\n",
    "        for month in range(1,13):\n",
    "            if month < 10:\n",
    "                month = \"0\" + str(month)\n",
    "            url = f\"https://www.alphavantage.co/query?function=TIME_SERIES_INTRADAY&symbol={company_name}&interval=60min&month={year}-{month}&outputsize=full&apikey=\"\n",
    "            print(url)\n",
    "            df = data_extraction(url,company_name,api_key = \"\")\n",
    "            combined_df = pd.concat([combined_df, df], axis = 0, ignore_index=True)\n",
    "            combined_df.to_csv(f\"{company_name}_2023.csv\") "
   ]
  },
  {
   "cell_type": "markdown",
   "metadata": {},
   "source": [
    "Combining all of the yearly files into company format"
   ]
  },
  {
   "cell_type": "code",
   "execution_count": 33,
   "metadata": {},
   "outputs": [],
   "source": [
    "import pandas as pd\n",
    "df = pd.read_csv(\"MSFT_2013.csv\")\n",
    "df1 = pd.read_csv(\"MSFT_2014.csv\")\n",
    "df2 = pd.read_csv(\"MSFT_2015.csv\")\n",
    "df3 = pd.read_csv(\"MSFT_2016.csv\")\n",
    "df4 = pd.read_csv(\"MSFT_2017.csv\")\n",
    "df5 = pd.read_csv(\"MSFT_2018_2019.csv\")\n",
    "df6 = pd.read_csv(\"MSFT_2020_2021.csv\")\n",
    "df7 = pd.read_csv(\"MSFT_2022_2023.csv\")\n",
    "combined_msft = pd.concat([df,df1,df2,df3,df4,df5,df6,df7],axis=0,ignore_index=True)\n",
    "combined_msft = combined_msft.drop(columns=\"Unnamed: 0\")\n",
    "combined_msft = combined_msft.set_index('date')\n",
    "combined_msft.to_csv(\"msft.csv\")\n",
    "\n",
    "df = pd.read_csv(\"JPM_2013.csv\")\n",
    "df1 = pd.read_csv(\"JPM_2014.csv\")\n",
    "df2 = pd.read_csv(\"JPM_2015_2016.csv\")\n",
    "df3 = pd.read_csv(\"JPM_2017_2018.csv\")\n",
    "df4 = pd.read_csv(\"JPM_2019_2020.csv\")\n",
    "df5 = pd.read_csv(\"JPM_2021_2022.csv\")\n",
    "df6 = pd.read_csv(\"JPM_2023.csv\")\n",
    "combined_jpm = pd.concat([df,df1,df2,df3,df4,df5,df6],axis=0,ignore_index=True)\n",
    "combined_jpm = combined_jpm.drop(columns=\"Unnamed: 0\")\n",
    "combined_jpm = combined_jpm.set_index('date')\n",
    "combined_jpm.to_csv(\"jpm.csv\")\n",
    "\n",
    "df = pd.read_csv(\"GS_2013_2014.csv\")\n",
    "df1 = pd.read_csv(\"GS_2015_2016.csv\")\n",
    "df2 = pd.read_csv(\"GS_2017_2018.csv\")\n",
    "df3 = pd.read_csv(\"GS_2019_2020.csv\")\n",
    "df4 = pd.read_csv(\"GS_2021_2022.csv\")\n",
    "df5 = pd.read_csv(\"GS_2023.csv\")\n",
    "combined_gs = pd.concat([df,df1,df2,df3,df4,df5],axis=0,ignore_index=True)\n",
    "combined_gs = combined_gs.drop(columns=\"Unnamed: 0\")\n",
    "combined_gs = combined_gs.set_index('date')\n",
    "combined_gs.to_csv(\"gs.csv\")\n",
    "\n",
    "df = pd.read_csv(\"CVX_2013.csv\")\n",
    "df1 = pd.read_csv(\"CVX_2014_2015.csv\")\n",
    "df2 = pd.read_csv(\"CVX_2016_2017.csv\")\n",
    "df3 = pd.read_csv(\"CVX_2018_2019.csv\")\n",
    "df4 = pd.read_csv(\"CVX_2020_2021.csv\")\n",
    "df5 = pd.read_csv(\"CVX_2022_2023.csv\")\n",
    "\n",
    "combined_cvx = pd.concat([df,df1,df2,df3,df4,df5],axis=0,ignore_index=True)\n",
    "combined_cvx = combined_cvx.drop(columns=\"Unnamed: 0\")\n",
    "combined_cvx = combined_cvx.set_index('date')\n",
    "combined_cvx.to_csv(\"cvx.csv\")\n",
    "\n",
    "df = pd.read_csv(\"XOM_2013_2014.csv\")\n",
    "df1 = pd.read_csv(\"XOM_2015_2016.csv\")\n",
    "df2 = pd.read_csv(\"XOM_2017_2018.csv\")\n",
    "df3 = pd.read_csv(\"XOM_2019_2020.csv\")\n",
    "df4 = pd.read_csv(\"XOM_2021_2022.csv\")\n",
    "df5 = pd.read_csv(\"XOM_2023.csv\")\n",
    "\n",
    "combined_xom = pd.concat([df,df1,df2,df3,df4,df5],axis=0,ignore_index=True)\n",
    "combined_xom = combined_xom.drop(columns=\"Unnamed: 0\")\n",
    "combined_xom = combined_xom.set_index('date')\n",
    "combined_xom.to_csv(\"xom.csv\")"
   ]
  }
 ],
 "metadata": {
  "kernelspec": {
   "display_name": "Python 3",
   "language": "python",
   "name": "python3"
  },
  "language_info": {
   "codemirror_mode": {
    "name": "ipython",
    "version": 3
   },
   "file_extension": ".py",
   "mimetype": "text/x-python",
   "name": "python",
   "nbconvert_exporter": "python",
   "pygments_lexer": "ipython3",
   "version": "3.8.10"
  }
 },
 "nbformat": 4,
 "nbformat_minor": 2
}

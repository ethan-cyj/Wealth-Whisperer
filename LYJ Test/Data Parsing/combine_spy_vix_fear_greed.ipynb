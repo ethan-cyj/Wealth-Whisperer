{
 "cells": [
  {
   "cell_type": "code",
   "execution_count": null,
   "metadata": {
    "colab": {
     "base_uri": "https://localhost:8080/"
    },
    "id": "HT2avwWBueum",
    "outputId": "b12fa25c-1818-4a98-c048-9e51b5f0c7be"
   },
   "outputs": [],
   "source": [
    "!pip install yfinance\n"
   ]
  },
  {
   "cell_type": "code",
   "execution_count": 23,
   "metadata": {
    "colab": {
     "base_uri": "https://localhost:8080/"
    },
    "id": "HWYlXZqWusQk",
    "outputId": "54c89a79-7459-49ba-bf79-3688d44a3fc4"
   },
   "outputs": [
    {
     "name": "stdout",
     "output_type": "stream",
     "text": [
      "[*********************100%***********************]  1 of 1 completed\n",
      "[*********************100%***********************]  1 of 1 completed\n"
     ]
    }
   ],
   "source": [
    "import yfinance as yf\n",
    "\n",
    "# Download VIX data\n",
    "vix = yf.download('^VIX', start='2011-01-01', end='2024-01-01')\n",
    "vix.to_csv('vix_2011_2023.csv')\n",
    "\n",
    "# Download SPY data\n",
    "spy = yf.download('SPY', start='2011-01-01', end='2024-01-01')\n",
    "spy.to_csv('spy_2011_2023.csv')"
   ]
  },
  {
   "cell_type": "code",
   "execution_count": 24,
   "metadata": {
    "colab": {
     "base_uri": "https://localhost:8080/"
    },
    "id": "mOGdX3NwxKR4",
    "outputId": "1c79bbe6-d29d-4920-9358-b8f1ea65ca3a"
   },
   "outputs": [
    {
     "name": "stderr",
     "output_type": "stream",
     "text": [
      "--2024-09-22 14:59:47--  https://raw.githubusercontent.com/whit3rabbit/fear-greed-data/main/fear-greed-2011-2023.csv\n",
      "Resolving raw.githubusercontent.com (raw.githubusercontent.com)... 185.199.111.133, 185.199.110.133, 185.199.109.133, ...\n",
      "Connecting to raw.githubusercontent.com (raw.githubusercontent.com)|185.199.111.133|:443... connected.\n",
      "HTTP request sent, awaiting response... 200 OK\n",
      "Length: 42043 (41K) [text/plain]\n",
      "Saving to: 'fear-greed-2011-2023.csv'\n",
      "\n",
      "     0K .......... .......... .......... .......... .         100% 5.19M=0.008s\n",
      "\n",
      "2024-09-22 14:59:47 (5.19 MB/s) - 'fear-greed-2011-2023.csv' saved [42043/42043]\n",
      "\n"
     ]
    }
   ],
   "source": [
    "!wget https://raw.githubusercontent.com/whit3rabbit/fear-greed-data/main/fear-greed-2011-2023.csv"
   ]
  },
  {
   "cell_type": "code",
   "execution_count": 25,
   "metadata": {
    "id": "UEEMXUwBxI--"
   },
   "outputs": [],
   "source": [
    "import pandas as pd\n",
    "\n",
    "# Load the datasets\n",
    "vix_data = pd.read_csv('vix_2011_2023.csv')\n",
    "spy_data = pd.read_csv('spy_2011_2023.csv')\n",
    "fear_greed_data = pd.read_csv('fear-greed-2011-2023.csv')\n",
    "\n",
    "# Standardizing the date format in the Fear & Greed dataset\n",
    "fear_greed_data['Date'] = pd.to_datetime(fear_greed_data['Date'])\n",
    "vix_data['Date'] = pd.to_datetime(vix_data['Date'])\n",
    "spy_data['Date'] = pd.to_datetime(spy_data['Date'])\n",
    "\n",
    "# Merging the datasets on the 'Date' column\n",
    "combined_data = pd.merge(pd.merge(vix_data, spy_data, on='Date', how='left', suffixes=('_VIX', '_SPY')), fear_greed_data, on='Date', how='left')\n",
    "\n",
    "# Removing the dates with missing VIX and SPY data\n",
    "cleaned_combined_data = combined_data.dropna(subset=['Open_VIX', 'Open_SPY'])\n",
    "\n",
    "# Removing the 'Volume_VIX' column from the cleaned dataset since its empty\n",
    "cleaned_combined_data = cleaned_combined_data.drop(columns=['Volume_VIX'])\n"
   ]
  },
  {
   "cell_type": "code",
   "execution_count": 19,
   "metadata": {},
   "outputs": [
    {
     "data": {
      "text/plain": [
       "Date          0\n",
       "Fear Greed    0\n",
       "dtype: int64"
      ]
     },
     "execution_count": 19,
     "metadata": {},
     "output_type": "execute_result"
    }
   ],
   "source": [
    "fear_greed_data.isna().sum()"
   ]
  },
  {
   "cell_type": "code",
   "execution_count": 20,
   "metadata": {},
   "outputs": [
    {
     "data": {
      "text/plain": [
       "Date              0\n",
       "Open_VIX          0\n",
       "High_VIX          0\n",
       "Low_VIX           0\n",
       "Close_VIX         0\n",
       "Adj Close_VIX     0\n",
       "Open_SPY          0\n",
       "High_SPY          0\n",
       "Low_SPY           0\n",
       "Close_SPY         0\n",
       "Adj Close_SPY     0\n",
       "Volume_SPY        0\n",
       "Fear Greed       22\n",
       "dtype: int64"
      ]
     },
     "execution_count": 20,
     "metadata": {},
     "output_type": "execute_result"
    }
   ],
   "source": [
    "cleaned_combined_data.isna().sum()"
   ]
  },
  {
   "cell_type": "code",
   "execution_count": 28,
   "metadata": {},
   "outputs": [],
   "source": [
    "#Fill Na with the average of the FG Index day before and day after the missing period\n",
    "\n",
    "cleaned_combined_data.loc[cleaned_combined_data['Fear Greed'].isna(), 'Fear Greed'] = 60"
   ]
  },
  {
   "cell_type": "code",
   "execution_count": 29,
   "metadata": {},
   "outputs": [],
   "source": [
    "# Saving the cleaned data to a CSV file\n",
    "cleaned_combined_data.to_csv('spy_vix_fear_greed_2011_2023.csv', index=False)"
   ]
  }
 ],
 "metadata": {
  "colab": {
   "provenance": []
  },
  "kernelspec": {
   "display_name": "Python 3 (ipykernel)",
   "language": "python",
   "name": "python3"
  },
  "language_info": {
   "codemirror_mode": {
    "name": "ipython",
    "version": 3
   },
   "file_extension": ".py",
   "mimetype": "text/x-python",
   "name": "python",
   "nbconvert_exporter": "python",
   "pygments_lexer": "ipython3",
   "version": "3.9.13"
  }
 },
 "nbformat": 4,
 "nbformat_minor": 1
}

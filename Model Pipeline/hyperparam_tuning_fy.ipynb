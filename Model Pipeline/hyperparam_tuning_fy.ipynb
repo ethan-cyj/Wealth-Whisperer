{
 "cells": [
  {
   "cell_type": "code",
   "execution_count": 1,
   "metadata": {},
   "outputs": [],
   "source": [
    "# !sudo apt install swig"
   ]
  },
  {
   "cell_type": "code",
   "execution_count": 2,
   "metadata": {},
   "outputs": [],
   "source": [
    "# !pip install quantstats\n",
    "# !pip install scikit-learn\n",
    "# !pip install torch\n",
    "# !pip install git+https://github.com/AI4Finance-Foundation/FinRL.git"
   ]
  },
  {
   "cell_type": "markdown",
   "metadata": {},
   "source": [
    "# Initializing"
   ]
  },
  {
   "cell_type": "code",
   "execution_count": 1,
   "metadata": {},
   "outputs": [],
   "source": [
    "import logging\n",
    "logging.getLogger('matplotlib.font_manager').disabled = True\n",
    "import torch\n",
    "\n",
    "import numpy as np\n",
    "import pandas as pd\n",
    "\n",
    "from sklearn.preprocessing import MaxAbsScaler\n",
    "# from utils import PortfolioOptimizationEnv, custom_reward_function, sharpe_ratio_reward_function\n",
    "from packages.custom_utils import PortfolioOptimizationEnv, custom_reward_function, sharpe_ratio_reward_function\n",
    "from packages.models import DRLAgent\n",
    "from packages.architectures import EIIE\n",
    "\n",
    "device = 'cuda:0' if torch.cuda.is_available() else 'cpu'"
   ]
  },
  {
   "cell_type": "markdown",
   "metadata": {},
   "source": [
    "# Data Import and Preprocessing"
   ]
  },
  {
   "cell_type": "code",
   "execution_count": 2,
   "metadata": {},
   "outputs": [],
   "source": [
    "# df_portfolio_train = df_portfolio[(df_portfolio[\"date\"] >= START_DATE) & (df_portfolio[\"date\"] < \"2020-12-31\")]\n",
    "# df_portfolio_test = df_portfolio[(df_portfolio[\"date\"] >= \"2021-01-01\") & (df_portfolio[\"date\"] < \"2022-12-31\")]\n",
    "\n",
    "\n",
    "df_portfolio = pd.read_parquet('datasets/df_portfolio_train.parquet')\n",
    "df_portfolio_test = pd.read_parquet('datasets/df_portfolio_test.parquet')\n",
    "\n",
    "df_portfolio_train = df_portfolio[df_portfolio['date'] <= \"2020-12-31\"]\n",
    "df_portfolio_vali = df_portfolio[df_portfolio['date'] >= \"2021-01-01\"]"
   ]
  },
  {
   "cell_type": "markdown",
   "metadata": {},
   "source": [
    "# Feature Selection and DRL Model Parameters"
   ]
  },
  {
   "cell_type": "code",
   "execution_count": 3,
   "metadata": {},
   "outputs": [
    {
     "data": {
      "text/plain": [
       "[(30, 5, 10, 10, 0.02),\n",
       " (30, 5, 10, 20, 0.01),\n",
       " (30, 5, 10, 20, 0.02),\n",
       " (30, 5, 20, 5, 0.01),\n",
       " (30, 5, 20, 5, 0.02),\n",
       " (30, 5, 20, 10, 0.01),\n",
       " (30, 5, 20, 10, 0.02),\n",
       " (30, 5, 20, 20, 0.01),\n",
       " (30, 5, 20, 20, 0.02)]"
      ]
     },
     "execution_count": 3,
     "metadata": {},
     "output_type": "execute_result"
    }
   ],
   "source": [
    "import pandas as pd\n",
    "from itertools import product\n",
    "import numpy as np  # for NaN\n",
    "import torch\n",
    "\n",
    "FEATURE_NAMES = [\"close\",\n",
    "               \"vmd_mode_0\",\n",
    "                \"vmd_mode_1\",\n",
    "                \"vmd_mode_2\",\n",
    "                  #\"high\", \n",
    "                  #\"low\",\n",
    "                'High_VIX',\n",
    "                'Low_VIX',\n",
    "                  #'Close_VIX',\n",
    "                'High_SPY',\n",
    "                'Low_SPY',\n",
    "                'Close_SPY',\n",
    "                  #'Volume_SPY',\n",
    "                'Fear Greed', \n",
    "                'ratingScore',\n",
    "                  #'ratingDetailsDCFScore',\n",
    "                'ratingDetailsROEScore',\n",
    "                  #'ratingDetailsROAScore',\n",
    "                  #'ratingDetailsPEScore',\n",
    "                  #'ratingDetailsPBScore',\n",
    "                  #'expenses',\n",
    "                  #'GDP', \n",
    "                'exports', \n",
    "                  #'imports',\n",
    "                'pound_dollar_exchange_rate', \n",
    "                'unemployment',\n",
    "                'ics',\n",
    "                'TTM Revenue(Billion)',\n",
    "                  #'TTM EBITDA(Billion)',\n",
    "                  #'EBITDA Margin',\n",
    "                'Price to Book Ratio',\n",
    "                  #'PE Ratio',\n",
    "                'Price to Sales Ratio',\n",
    "                  #'Assets',\n",
    "                  #'NetIncomeLoss',\n",
    "                'Return on Equity(%)']\n",
    "\n",
    "COMISSION_FEE = 0.001\n",
    "\n",
    "# Define hyperparameter ranges\n",
    "time_windows = [30, 60 ,90]\n",
    "k_sizes = [3, 4, 5]\n",
    "conv_mids = [5,10, 20]\n",
    "conv_finals = [5, 10, 20]\n",
    "lr = [0.01, 0.02]\n",
    "# Function to calculate the final accumulative portfolio value\n",
    "def calculate_cumulative_value(portfolio_values):\n",
    "    initial_value = portfolio_values[0]\n",
    "    final_value = portfolio_values[-1]\n",
    "    return final_value / initial_value\n",
    "\n",
    "# Function to calculate the maximum drawdown\n",
    "def calculate_max_drawdown(portfolio_values):\n",
    "    portfolio_values = np.array(portfolio_values)\n",
    "    running_max = np.maximum.accumulate(portfolio_values)\n",
    "    drawdowns = (portfolio_values - running_max) / running_max\n",
    "    max_drawdown = drawdowns.min()\n",
    "    \n",
    "    return max_drawdown\n",
    "\n",
    "# Function to calculate the Sharpe ratio\n",
    "def calculate_sharpe_ratio(portfolio_values, risk_free_rate=0):\n",
    "    returns = np.diff(portfolio_values) / portfolio_values[:-1]\n",
    "    excess_returns = returns - risk_free_rate\n",
    "    sharpe_ratio = np.mean(excess_returns) / np.std(excess_returns)\n",
    "    sharpe_ratio_annualized = sharpe_ratio * np.sqrt(252)\n",
    "    \n",
    "    return sharpe_ratio_annualized\n",
    "\n",
    "\n",
    "# Define a function to calculate the metrics (this is just a placeholder; replace with actual functions)\n",
    "def calculate_metrics(environment):\n",
    "    final_portfolio_value = environment._asset_memory[\"final\"][-1]\n",
    "    max_drawdown = calculate_max_drawdown(environment._asset_memory[\"final\"])\n",
    "    sharpe_ratio = calculate_sharpe_ratio(environment._asset_memory[\"final\"])\n",
    "    cumulative_value = calculate_cumulative_value(environment._asset_memory[\"final\"])\n",
    "    return final_portfolio_value, max_drawdown, sharpe_ratio, cumulative_value\n",
    "\n",
    "# DataFrame to store results\n",
    "columns = [\"TIME_WINDOW\", \"K_SIZE\", \"CONV_MID\", \"CONV_FINAL\",\"LEARNING_RATE\", \n",
    "        'train_portfolio_value', 'train_drawdown', 'train_sharpe', 'train_cumulative',\n",
    "        'test_portfolio_value', 'test_drawdown', 'test_sharpe', 'test_cumulative']\n",
    "\n",
    "results_df = pd.DataFrame(columns=columns)\n",
    "\n",
    "hyperparams = list(product(time_windows, k_sizes, conv_mids, conv_finals, lr))\n",
    "hyperparams\n",
    "\n"
   ]
  },
  {
   "cell_type": "code",
   "execution_count": 4,
   "metadata": {},
   "outputs": [
    {
     "name": "stdout",
     "output_type": "stream",
     "text": [
      "Training model with TIME_WINDOW=30, K_SIZE=5, CONV_MID=10, CONV_FINAL=10, LEARNING_RATE=0.02\n"
     ]
    },
    {
     "name": "stderr",
     "output_type": "stream",
     "text": [
      "  0%|          | 0/100 [00:00<?, ?it/s]"
     ]
    },
    {
     "name": "stdout",
     "output_type": "stream",
     "text": [
      "=================================\n",
      "Initial portfolio value: 100000\n",
      "Final portfolio value: 108765.6640625\n",
      "Final accumulative portfolio return: 1.087656640625\n",
      "Maximum DrawDown: -0.1192517314647229\n",
      "Sharpe ratio: 0.23809018356244546\n",
      "=================================\n"
     ]
    },
    {
     "name": "stderr",
     "output_type": "stream",
     "text": [
      "  1%|          | 1/100 [00:27<45:53, 27.81s/it]"
     ]
    },
    {
     "name": "stdout",
     "output_type": "stream",
     "text": [
      "=================================\n",
      "Initial portfolio value: 100000\n",
      "Final portfolio value: 100000.0\n",
      "Final accumulative portfolio return: 1.0\n",
      "Maximum DrawDown: 0.0\n",
      "Sharpe ratio: nan\n",
      "=================================\n"
     ]
    },
    {
     "name": "stderr",
     "output_type": "stream",
     "text": [
      "C:\\Users\\xutia\\AppData\\Roaming\\Python\\Python310\\site-packages\\quantstats\\stats.py:294: RuntimeWarning: invalid value encountered in scalar divide\n",
      "  res = returns.mean() / divisor\n",
      "  2%|▏         | 2/100 [00:51<41:45, 25.57s/it]"
     ]
    },
    {
     "name": "stdout",
     "output_type": "stream",
     "text": [
      "=================================\n",
      "Initial portfolio value: 100000\n",
      "Final portfolio value: 100000.0\n",
      "Final accumulative portfolio return: 1.0\n",
      "Maximum DrawDown: 0.0\n",
      "Sharpe ratio: nan\n",
      "=================================\n"
     ]
    },
    {
     "name": "stderr",
     "output_type": "stream",
     "text": [
      "C:\\Users\\xutia\\AppData\\Roaming\\Python\\Python310\\site-packages\\quantstats\\stats.py:294: RuntimeWarning: invalid value encountered in scalar divide\n",
      "  res = returns.mean() / divisor\n"
     ]
    },
    {
     "name": "stdout",
     "output_type": "stream",
     "text": [
      "=================================\n",
      "Initial portfolio value: 100000\n",
      "Final portfolio value: 100000.0\n",
      "Final accumulative portfolio return: 1.0\n",
      "Maximum DrawDown: 0.0\n",
      "Sharpe ratio: nan\n",
      "=================================\n"
     ]
    },
    {
     "name": "stderr",
     "output_type": "stream",
     "text": [
      "C:\\Users\\xutia\\AppData\\Roaming\\Python\\Python310\\site-packages\\quantstats\\stats.py:294: RuntimeWarning: invalid value encountered in scalar divide\n",
      "  res = returns.mean() / divisor\n",
      "  3%|▎         | 3/100 [01:28<49:53, 30.86s/it]"
     ]
    },
    {
     "name": "stdout",
     "output_type": "stream",
     "text": [
      "Validation performance at episode 3: 69314718.05599453\n",
      "New best validation performance: 69314718.05599453\n",
      "=================================\n",
      "Initial portfolio value: 100000\n",
      "Final portfolio value: 100000.0\n",
      "Final accumulative portfolio return: 1.0\n",
      "Maximum DrawDown: 0.0\n",
      "Sharpe ratio: nan\n",
      "=================================\n"
     ]
    },
    {
     "name": "stderr",
     "output_type": "stream",
     "text": [
      "C:\\Users\\xutia\\AppData\\Roaming\\Python\\Python310\\site-packages\\quantstats\\stats.py:294: RuntimeWarning: invalid value encountered in scalar divide\n",
      "  res = returns.mean() / divisor\n",
      "  4%|▍         | 4/100 [02:07<54:01, 33.77s/it]"
     ]
    },
    {
     "name": "stdout",
     "output_type": "stream",
     "text": [
      "=================================\n",
      "Initial portfolio value: 100000\n",
      "Final portfolio value: 100000.0\n",
      "Final accumulative portfolio return: 1.0\n",
      "Maximum DrawDown: 0.0\n",
      "Sharpe ratio: nan\n",
      "=================================\n"
     ]
    },
    {
     "name": "stderr",
     "output_type": "stream",
     "text": [
      "C:\\Users\\xutia\\AppData\\Roaming\\Python\\Python310\\site-packages\\quantstats\\stats.py:294: RuntimeWarning: invalid value encountered in scalar divide\n",
      "  res = returns.mean() / divisor\n",
      "  5%|▌         | 5/100 [02:46<56:22, 35.61s/it]"
     ]
    },
    {
     "name": "stdout",
     "output_type": "stream",
     "text": [
      "=================================\n",
      "Initial portfolio value: 100000\n",
      "Final portfolio value: 100000.0\n",
      "Final accumulative portfolio return: 1.0\n",
      "Maximum DrawDown: 0.0\n",
      "Sharpe ratio: nan\n",
      "=================================\n"
     ]
    },
    {
     "name": "stderr",
     "output_type": "stream",
     "text": [
      "C:\\Users\\xutia\\AppData\\Roaming\\Python\\Python310\\site-packages\\quantstats\\stats.py:294: RuntimeWarning: invalid value encountered in scalar divide\n",
      "  res = returns.mean() / divisor\n"
     ]
    },
    {
     "name": "stdout",
     "output_type": "stream",
     "text": [
      "=================================\n",
      "Initial portfolio value: 100000\n",
      "Final portfolio value: 100000.0\n",
      "Final accumulative portfolio return: 1.0\n",
      "Maximum DrawDown: 0.0\n",
      "Sharpe ratio: nan\n",
      "=================================\n"
     ]
    },
    {
     "name": "stderr",
     "output_type": "stream",
     "text": [
      "C:\\Users\\xutia\\AppData\\Roaming\\Python\\Python310\\site-packages\\quantstats\\stats.py:294: RuntimeWarning: invalid value encountered in scalar divide\n",
      "  res = returns.mean() / divisor\n",
      "  6%|▌         | 6/100 [03:35<1:03:14, 40.37s/it]"
     ]
    },
    {
     "name": "stdout",
     "output_type": "stream",
     "text": [
      "Validation performance at episode 6: 69314718.05599453\n",
      "No improvement for 1 validation(s).\n",
      "=================================\n",
      "Initial portfolio value: 100000\n",
      "Final portfolio value: 100000.0\n",
      "Final accumulative portfolio return: 1.0\n",
      "Maximum DrawDown: 0.0\n",
      "Sharpe ratio: nan\n",
      "=================================\n"
     ]
    },
    {
     "name": "stderr",
     "output_type": "stream",
     "text": [
      "C:\\Users\\xutia\\AppData\\Roaming\\Python\\Python310\\site-packages\\quantstats\\stats.py:294: RuntimeWarning: invalid value encountered in scalar divide\n",
      "  res = returns.mean() / divisor\n",
      "  7%|▋         | 7/100 [04:15<1:02:06, 40.07s/it]"
     ]
    },
    {
     "name": "stdout",
     "output_type": "stream",
     "text": [
      "=================================\n",
      "Initial portfolio value: 100000\n",
      "Final portfolio value: 100000.0\n",
      "Final accumulative portfolio return: 1.0\n",
      "Maximum DrawDown: 0.0\n",
      "Sharpe ratio: nan\n",
      "=================================\n"
     ]
    },
    {
     "name": "stderr",
     "output_type": "stream",
     "text": [
      "C:\\Users\\xutia\\AppData\\Roaming\\Python\\Python310\\site-packages\\quantstats\\stats.py:294: RuntimeWarning: invalid value encountered in scalar divide\n",
      "  res = returns.mean() / divisor\n",
      "  8%|▊         | 8/100 [04:53<1:00:41, 39.58s/it]"
     ]
    },
    {
     "name": "stdout",
     "output_type": "stream",
     "text": [
      "=================================\n",
      "Initial portfolio value: 100000\n",
      "Final portfolio value: 100000.0\n",
      "Final accumulative portfolio return: 1.0\n",
      "Maximum DrawDown: 0.0\n",
      "Sharpe ratio: nan\n",
      "=================================\n"
     ]
    },
    {
     "name": "stderr",
     "output_type": "stream",
     "text": [
      "C:\\Users\\xutia\\AppData\\Roaming\\Python\\Python310\\site-packages\\quantstats\\stats.py:294: RuntimeWarning: invalid value encountered in scalar divide\n",
      "  res = returns.mean() / divisor\n"
     ]
    },
    {
     "name": "stdout",
     "output_type": "stream",
     "text": [
      "=================================\n",
      "Initial portfolio value: 100000\n",
      "Final portfolio value: 100000.0\n",
      "Final accumulative portfolio return: 1.0\n",
      "Maximum DrawDown: 0.0\n",
      "Sharpe ratio: nan\n",
      "=================================\n"
     ]
    },
    {
     "name": "stderr",
     "output_type": "stream",
     "text": [
      "C:\\Users\\xutia\\AppData\\Roaming\\Python\\Python310\\site-packages\\quantstats\\stats.py:294: RuntimeWarning: invalid value encountered in scalar divide\n",
      "  res = returns.mean() / divisor\n",
      "  9%|▉         | 9/100 [05:43<1:04:59, 42.85s/it]"
     ]
    },
    {
     "name": "stdout",
     "output_type": "stream",
     "text": [
      "Validation performance at episode 9: 69314718.05599453\n",
      "No improvement for 2 validation(s).\n",
      "=================================\n",
      "Initial portfolio value: 100000\n",
      "Final portfolio value: 100000.0\n",
      "Final accumulative portfolio return: 1.0\n",
      "Maximum DrawDown: 0.0\n",
      "Sharpe ratio: nan\n",
      "=================================\n"
     ]
    },
    {
     "name": "stderr",
     "output_type": "stream",
     "text": [
      "C:\\Users\\xutia\\AppData\\Roaming\\Python\\Python310\\site-packages\\quantstats\\stats.py:294: RuntimeWarning: invalid value encountered in scalar divide\n",
      "  res = returns.mean() / divisor\n",
      " 10%|█         | 10/100 [06:21<1:02:07, 41.42s/it]"
     ]
    },
    {
     "name": "stdout",
     "output_type": "stream",
     "text": [
      "=================================\n",
      "Initial portfolio value: 100000\n",
      "Final portfolio value: 100000.0\n",
      "Final accumulative portfolio return: 1.0\n",
      "Maximum DrawDown: 0.0\n",
      "Sharpe ratio: nan\n",
      "=================================\n"
     ]
    },
    {
     "name": "stderr",
     "output_type": "stream",
     "text": [
      "C:\\Users\\xutia\\AppData\\Roaming\\Python\\Python310\\site-packages\\quantstats\\stats.py:294: RuntimeWarning: invalid value encountered in scalar divide\n",
      "  res = returns.mean() / divisor\n",
      " 11%|█         | 11/100 [07:00<1:00:11, 40.58s/it]"
     ]
    },
    {
     "name": "stdout",
     "output_type": "stream",
     "text": [
      "=================================\n",
      "Initial portfolio value: 100000\n",
      "Final portfolio value: 100000.0\n",
      "Final accumulative portfolio return: 1.0\n",
      "Maximum DrawDown: 0.0\n",
      "Sharpe ratio: nan\n",
      "=================================\n"
     ]
    },
    {
     "name": "stderr",
     "output_type": "stream",
     "text": [
      "C:\\Users\\xutia\\AppData\\Roaming\\Python\\Python310\\site-packages\\quantstats\\stats.py:294: RuntimeWarning: invalid value encountered in scalar divide\n",
      "  res = returns.mean() / divisor\n"
     ]
    },
    {
     "name": "stdout",
     "output_type": "stream",
     "text": [
      "=================================\n",
      "Initial portfolio value: 100000\n",
      "Final portfolio value: 100000.0\n",
      "Final accumulative portfolio return: 1.0\n",
      "Maximum DrawDown: 0.0\n",
      "Sharpe ratio: nan\n",
      "=================================\n"
     ]
    },
    {
     "name": "stderr",
     "output_type": "stream",
     "text": [
      "C:\\Users\\xutia\\AppData\\Roaming\\Python\\Python310\\site-packages\\quantstats\\stats.py:294: RuntimeWarning: invalid value encountered in scalar divide\n",
      "  res = returns.mean() / divisor\n",
      " 12%|█▏        | 12/100 [07:53<1:04:59, 44.31s/it]"
     ]
    },
    {
     "name": "stdout",
     "output_type": "stream",
     "text": [
      "Validation performance at episode 12: 69314718.05599453\n",
      "No improvement for 3 validation(s).\n",
      "=================================\n",
      "Initial portfolio value: 100000\n",
      "Final portfolio value: 100000.0\n",
      "Final accumulative portfolio return: 1.0\n",
      "Maximum DrawDown: 0.0\n",
      "Sharpe ratio: nan\n",
      "=================================\n"
     ]
    },
    {
     "name": "stderr",
     "output_type": "stream",
     "text": [
      "C:\\Users\\xutia\\AppData\\Roaming\\Python\\Python310\\site-packages\\quantstats\\stats.py:294: RuntimeWarning: invalid value encountered in scalar divide\n",
      "  res = returns.mean() / divisor\n",
      " 13%|█▎        | 13/100 [08:33<1:02:21, 43.01s/it]"
     ]
    },
    {
     "name": "stdout",
     "output_type": "stream",
     "text": [
      "=================================\n",
      "Initial portfolio value: 100000\n",
      "Final portfolio value: 100000.0\n",
      "Final accumulative portfolio return: 1.0\n",
      "Maximum DrawDown: 0.0\n",
      "Sharpe ratio: nan\n",
      "=================================\n"
     ]
    },
    {
     "name": "stderr",
     "output_type": "stream",
     "text": [
      "C:\\Users\\xutia\\AppData\\Roaming\\Python\\Python310\\site-packages\\quantstats\\stats.py:294: RuntimeWarning: invalid value encountered in scalar divide\n",
      "  res = returns.mean() / divisor\n",
      " 14%|█▍        | 14/100 [09:12<59:53, 41.78s/it]  "
     ]
    },
    {
     "name": "stdout",
     "output_type": "stream",
     "text": [
      "=================================\n",
      "Initial portfolio value: 100000\n",
      "Final portfolio value: 100000.0\n",
      "Final accumulative portfolio return: 1.0\n",
      "Maximum DrawDown: 0.0\n",
      "Sharpe ratio: nan\n",
      "=================================\n"
     ]
    },
    {
     "name": "stderr",
     "output_type": "stream",
     "text": [
      "C:\\Users\\xutia\\AppData\\Roaming\\Python\\Python310\\site-packages\\quantstats\\stats.py:294: RuntimeWarning: invalid value encountered in scalar divide\n",
      "  res = returns.mean() / divisor\n"
     ]
    },
    {
     "name": "stdout",
     "output_type": "stream",
     "text": [
      "=================================\n",
      "Initial portfolio value: 100000\n",
      "Final portfolio value: 100000.0\n",
      "Final accumulative portfolio return: 1.0\n",
      "Maximum DrawDown: 0.0\n",
      "Sharpe ratio: nan\n",
      "=================================\n"
     ]
    },
    {
     "name": "stderr",
     "output_type": "stream",
     "text": [
      "C:\\Users\\xutia\\AppData\\Roaming\\Python\\Python310\\site-packages\\quantstats\\stats.py:294: RuntimeWarning: invalid value encountered in scalar divide\n",
      "  res = returns.mean() / divisor\n",
      " 15%|█▌        | 15/100 [10:03<1:03:00, 44.47s/it]"
     ]
    },
    {
     "name": "stdout",
     "output_type": "stream",
     "text": [
      "Validation performance at episode 15: 69314718.05599453\n",
      "No improvement for 4 validation(s).\n",
      "=================================\n",
      "Initial portfolio value: 100000\n",
      "Final portfolio value: 100000.0\n",
      "Final accumulative portfolio return: 1.0\n",
      "Maximum DrawDown: 0.0\n",
      "Sharpe ratio: nan\n",
      "=================================\n"
     ]
    },
    {
     "name": "stderr",
     "output_type": "stream",
     "text": [
      "C:\\Users\\xutia\\AppData\\Roaming\\Python\\Python310\\site-packages\\quantstats\\stats.py:294: RuntimeWarning: invalid value encountered in scalar divide\n",
      "  res = returns.mean() / divisor\n",
      " 16%|█▌        | 16/100 [10:42<59:55, 42.81s/it]  "
     ]
    },
    {
     "name": "stdout",
     "output_type": "stream",
     "text": [
      "=================================\n",
      "Initial portfolio value: 100000\n",
      "Final portfolio value: 100000.0\n",
      "Final accumulative portfolio return: 1.0\n",
      "Maximum DrawDown: 0.0\n",
      "Sharpe ratio: nan\n",
      "=================================\n"
     ]
    },
    {
     "name": "stderr",
     "output_type": "stream",
     "text": [
      "C:\\Users\\xutia\\AppData\\Roaming\\Python\\Python310\\site-packages\\quantstats\\stats.py:294: RuntimeWarning: invalid value encountered in scalar divide\n",
      "  res = returns.mean() / divisor\n",
      " 17%|█▋        | 17/100 [11:20<57:33, 41.61s/it]"
     ]
    },
    {
     "name": "stdout",
     "output_type": "stream",
     "text": [
      "=================================\n",
      "Initial portfolio value: 100000\n",
      "Final portfolio value: 100000.0\n",
      "Final accumulative portfolio return: 1.0\n",
      "Maximum DrawDown: 0.0\n",
      "Sharpe ratio: nan\n",
      "=================================\n"
     ]
    },
    {
     "name": "stderr",
     "output_type": "stream",
     "text": [
      "C:\\Users\\xutia\\AppData\\Roaming\\Python\\Python310\\site-packages\\quantstats\\stats.py:294: RuntimeWarning: invalid value encountered in scalar divide\n",
      "  res = returns.mean() / divisor\n"
     ]
    },
    {
     "name": "stdout",
     "output_type": "stream",
     "text": [
      "=================================\n",
      "Initial portfolio value: 100000\n",
      "Final portfolio value: 100000.0\n",
      "Final accumulative portfolio return: 1.0\n",
      "Maximum DrawDown: 0.0\n",
      "Sharpe ratio: nan\n",
      "=================================\n"
     ]
    },
    {
     "name": "stderr",
     "output_type": "stream",
     "text": [
      "C:\\Users\\xutia\\AppData\\Roaming\\Python\\Python310\\site-packages\\quantstats\\stats.py:294: RuntimeWarning: invalid value encountered in scalar divide\n",
      "  res = returns.mean() / divisor\n",
      " 18%|█▊        | 18/100 [12:17<1:03:11, 46.24s/it]"
     ]
    },
    {
     "name": "stdout",
     "output_type": "stream",
     "text": [
      "Validation performance at episode 18: 69314718.05599453\n",
      "No improvement for 5 validation(s).\n",
      "=================================\n",
      "Initial portfolio value: 100000\n",
      "Final portfolio value: 100000.0\n",
      "Final accumulative portfolio return: 1.0\n",
      "Maximum DrawDown: 0.0\n",
      "Sharpe ratio: nan\n",
      "=================================\n"
     ]
    },
    {
     "name": "stderr",
     "output_type": "stream",
     "text": [
      "C:\\Users\\xutia\\AppData\\Roaming\\Python\\Python310\\site-packages\\quantstats\\stats.py:294: RuntimeWarning: invalid value encountered in scalar divide\n",
      "  res = returns.mean() / divisor\n",
      " 19%|█▉        | 19/100 [12:56<59:15, 43.89s/it]  "
     ]
    },
    {
     "name": "stdout",
     "output_type": "stream",
     "text": [
      "=================================\n",
      "Initial portfolio value: 100000\n",
      "Final portfolio value: 100000.0\n",
      "Final accumulative portfolio return: 1.0\n",
      "Maximum DrawDown: 0.0\n",
      "Sharpe ratio: nan\n",
      "=================================\n"
     ]
    },
    {
     "name": "stderr",
     "output_type": "stream",
     "text": [
      "C:\\Users\\xutia\\AppData\\Roaming\\Python\\Python310\\site-packages\\quantstats\\stats.py:294: RuntimeWarning: invalid value encountered in scalar divide\n",
      "  res = returns.mean() / divisor\n",
      " 20%|██        | 20/100 [13:36<57:14, 42.93s/it]"
     ]
    },
    {
     "name": "stdout",
     "output_type": "stream",
     "text": [
      "=================================\n",
      "Initial portfolio value: 100000\n",
      "Final portfolio value: 100000.0\n",
      "Final accumulative portfolio return: 1.0\n",
      "Maximum DrawDown: 0.0\n",
      "Sharpe ratio: nan\n",
      "=================================\n"
     ]
    },
    {
     "name": "stderr",
     "output_type": "stream",
     "text": [
      "C:\\Users\\xutia\\AppData\\Roaming\\Python\\Python310\\site-packages\\quantstats\\stats.py:294: RuntimeWarning: invalid value encountered in scalar divide\n",
      "  res = returns.mean() / divisor\n"
     ]
    },
    {
     "name": "stdout",
     "output_type": "stream",
     "text": [
      "=================================\n",
      "Initial portfolio value: 100000\n",
      "Final portfolio value: 100000.0\n",
      "Final accumulative portfolio return: 1.0\n",
      "Maximum DrawDown: 0.0\n",
      "Sharpe ratio: nan\n",
      "=================================\n"
     ]
    },
    {
     "name": "stderr",
     "output_type": "stream",
     "text": [
      "C:\\Users\\xutia\\AppData\\Roaming\\Python\\Python310\\site-packages\\quantstats\\stats.py:294: RuntimeWarning: invalid value encountered in scalar divide\n",
      "  res = returns.mean() / divisor\n",
      " 21%|██        | 21/100 [14:30<1:00:34, 46.00s/it]"
     ]
    },
    {
     "name": "stdout",
     "output_type": "stream",
     "text": [
      "Validation performance at episode 21: 69314718.05599453\n",
      "No improvement for 6 validation(s).\n",
      "=================================\n",
      "Initial portfolio value: 100000\n",
      "Final portfolio value: 100000.0\n",
      "Final accumulative portfolio return: 1.0\n",
      "Maximum DrawDown: 0.0\n",
      "Sharpe ratio: nan\n",
      "=================================\n"
     ]
    },
    {
     "name": "stderr",
     "output_type": "stream",
     "text": [
      "C:\\Users\\xutia\\AppData\\Roaming\\Python\\Python310\\site-packages\\quantstats\\stats.py:294: RuntimeWarning: invalid value encountered in scalar divide\n",
      "  res = returns.mean() / divisor\n",
      " 22%|██▏       | 22/100 [15:15<59:37, 45.87s/it]  "
     ]
    },
    {
     "name": "stdout",
     "output_type": "stream",
     "text": [
      "=================================\n",
      "Initial portfolio value: 100000\n",
      "Final portfolio value: 100000.0\n",
      "Final accumulative portfolio return: 1.0\n",
      "Maximum DrawDown: 0.0\n",
      "Sharpe ratio: nan\n",
      "=================================\n"
     ]
    },
    {
     "name": "stderr",
     "output_type": "stream",
     "text": [
      "C:\\Users\\xutia\\AppData\\Roaming\\Python\\Python310\\site-packages\\quantstats\\stats.py:294: RuntimeWarning: invalid value encountered in scalar divide\n",
      "  res = returns.mean() / divisor\n",
      " 23%|██▎       | 23/100 [16:02<59:23, 46.28s/it]"
     ]
    },
    {
     "name": "stdout",
     "output_type": "stream",
     "text": [
      "=================================\n",
      "Initial portfolio value: 100000\n",
      "Final portfolio value: 100000.0\n",
      "Final accumulative portfolio return: 1.0\n",
      "Maximum DrawDown: 0.0\n",
      "Sharpe ratio: nan\n",
      "=================================\n"
     ]
    },
    {
     "name": "stderr",
     "output_type": "stream",
     "text": [
      "C:\\Users\\xutia\\AppData\\Roaming\\Python\\Python310\\site-packages\\quantstats\\stats.py:294: RuntimeWarning: invalid value encountered in scalar divide\n",
      "  res = returns.mean() / divisor\n"
     ]
    },
    {
     "name": "stdout",
     "output_type": "stream",
     "text": [
      "=================================\n",
      "Initial portfolio value: 100000\n",
      "Final portfolio value: 100000.0\n",
      "Final accumulative portfolio return: 1.0\n",
      "Maximum DrawDown: 0.0\n",
      "Sharpe ratio: nan\n",
      "=================================\n"
     ]
    },
    {
     "name": "stderr",
     "output_type": "stream",
     "text": [
      "C:\\Users\\xutia\\AppData\\Roaming\\Python\\Python310\\site-packages\\quantstats\\stats.py:294: RuntimeWarning: invalid value encountered in scalar divide\n",
      "  res = returns.mean() / divisor\n",
      " 24%|██▍       | 24/100 [17:01<1:03:15, 49.94s/it]"
     ]
    },
    {
     "name": "stdout",
     "output_type": "stream",
     "text": [
      "Validation performance at episode 24: 69314718.05599453\n",
      "No improvement for 7 validation(s).\n",
      "=================================\n",
      "Initial portfolio value: 100000\n",
      "Final portfolio value: 100000.0\n",
      "Final accumulative portfolio return: 1.0\n",
      "Maximum DrawDown: 0.0\n",
      "Sharpe ratio: nan\n",
      "=================================\n"
     ]
    },
    {
     "name": "stderr",
     "output_type": "stream",
     "text": [
      "C:\\Users\\xutia\\AppData\\Roaming\\Python\\Python310\\site-packages\\quantstats\\stats.py:294: RuntimeWarning: invalid value encountered in scalar divide\n",
      "  res = returns.mean() / divisor\n",
      " 25%|██▌       | 25/100 [17:47<1:00:55, 48.75s/it]"
     ]
    },
    {
     "name": "stdout",
     "output_type": "stream",
     "text": [
      "=================================\n",
      "Initial portfolio value: 100000\n",
      "Final portfolio value: 100000.0\n",
      "Final accumulative portfolio return: 1.0\n",
      "Maximum DrawDown: 0.0\n",
      "Sharpe ratio: nan\n",
      "=================================\n"
     ]
    },
    {
     "name": "stderr",
     "output_type": "stream",
     "text": [
      "C:\\Users\\xutia\\AppData\\Roaming\\Python\\Python310\\site-packages\\quantstats\\stats.py:294: RuntimeWarning: invalid value encountered in scalar divide\n",
      "  res = returns.mean() / divisor\n",
      " 26%|██▌       | 26/100 [18:43<1:02:56, 51.03s/it]"
     ]
    },
    {
     "name": "stdout",
     "output_type": "stream",
     "text": [
      "=================================\n",
      "Initial portfolio value: 100000\n",
      "Final portfolio value: 100000.0\n",
      "Final accumulative portfolio return: 1.0\n",
      "Maximum DrawDown: 0.0\n",
      "Sharpe ratio: nan\n",
      "=================================\n"
     ]
    },
    {
     "name": "stderr",
     "output_type": "stream",
     "text": [
      "C:\\Users\\xutia\\AppData\\Roaming\\Python\\Python310\\site-packages\\quantstats\\stats.py:294: RuntimeWarning: invalid value encountered in scalar divide\n",
      "  res = returns.mean() / divisor\n"
     ]
    },
    {
     "name": "stdout",
     "output_type": "stream",
     "text": [
      "=================================\n",
      "Initial portfolio value: 100000\n",
      "Final portfolio value: 100000.0\n",
      "Final accumulative portfolio return: 1.0\n",
      "Maximum DrawDown: 0.0\n",
      "Sharpe ratio: nan\n",
      "=================================\n"
     ]
    },
    {
     "name": "stderr",
     "output_type": "stream",
     "text": [
      "C:\\Users\\xutia\\AppData\\Roaming\\Python\\Python310\\site-packages\\quantstats\\stats.py:294: RuntimeWarning: invalid value encountered in scalar divide\n",
      "  res = returns.mean() / divisor\n",
      " 27%|██▋       | 27/100 [19:51<1:08:21, 56.18s/it]"
     ]
    },
    {
     "name": "stdout",
     "output_type": "stream",
     "text": [
      "Validation performance at episode 27: 69314718.05599453\n",
      "No improvement for 8 validation(s).\n",
      "=================================\n",
      "Initial portfolio value: 100000\n",
      "Final portfolio value: 100000.0\n",
      "Final accumulative portfolio return: 1.0\n",
      "Maximum DrawDown: 0.0\n",
      "Sharpe ratio: nan\n",
      "=================================\n"
     ]
    },
    {
     "name": "stderr",
     "output_type": "stream",
     "text": [
      "C:\\Users\\xutia\\AppData\\Roaming\\Python\\Python310\\site-packages\\quantstats\\stats.py:294: RuntimeWarning: invalid value encountered in scalar divide\n",
      "  res = returns.mean() / divisor\n",
      " 28%|██▊       | 28/100 [20:43<1:05:37, 54.68s/it]"
     ]
    },
    {
     "name": "stdout",
     "output_type": "stream",
     "text": [
      "=================================\n",
      "Initial portfolio value: 100000\n",
      "Final portfolio value: 100000.0\n",
      "Final accumulative portfolio return: 1.0\n",
      "Maximum DrawDown: 0.0\n",
      "Sharpe ratio: nan\n",
      "=================================\n"
     ]
    },
    {
     "name": "stderr",
     "output_type": "stream",
     "text": [
      "C:\\Users\\xutia\\AppData\\Roaming\\Python\\Python310\\site-packages\\quantstats\\stats.py:294: RuntimeWarning: invalid value encountered in scalar divide\n",
      "  res = returns.mean() / divisor\n",
      " 29%|██▉       | 29/100 [21:37<1:04:32, 54.55s/it]"
     ]
    },
    {
     "name": "stdout",
     "output_type": "stream",
     "text": [
      "=================================\n",
      "Initial portfolio value: 100000\n",
      "Final portfolio value: 100000.0\n",
      "Final accumulative portfolio return: 1.0\n",
      "Maximum DrawDown: 0.0\n",
      "Sharpe ratio: nan\n",
      "=================================\n"
     ]
    },
    {
     "name": "stderr",
     "output_type": "stream",
     "text": [
      "C:\\Users\\xutia\\AppData\\Roaming\\Python\\Python310\\site-packages\\quantstats\\stats.py:294: RuntimeWarning: invalid value encountered in scalar divide\n",
      "  res = returns.mean() / divisor\n"
     ]
    },
    {
     "name": "stdout",
     "output_type": "stream",
     "text": [
      "=================================\n",
      "Initial portfolio value: 100000\n",
      "Final portfolio value: 100000.0\n",
      "Final accumulative portfolio return: 1.0\n",
      "Maximum DrawDown: 0.0\n",
      "Sharpe ratio: nan\n",
      "=================================\n"
     ]
    },
    {
     "name": "stderr",
     "output_type": "stream",
     "text": [
      "C:\\Users\\xutia\\AppData\\Roaming\\Python\\Python310\\site-packages\\quantstats\\stats.py:294: RuntimeWarning: invalid value encountered in scalar divide\n",
      "  res = returns.mean() / divisor\n",
      " 30%|███       | 30/100 [22:31<1:03:39, 54.57s/it]"
     ]
    },
    {
     "name": "stdout",
     "output_type": "stream",
     "text": [
      "Validation performance at episode 30: 69314718.05599453\n",
      "No improvement for 9 validation(s).\n",
      "=================================\n",
      "Initial portfolio value: 100000\n",
      "Final portfolio value: 100000.0\n",
      "Final accumulative portfolio return: 1.0\n",
      "Maximum DrawDown: 0.0\n",
      "Sharpe ratio: nan\n",
      "=================================\n"
     ]
    },
    {
     "name": "stderr",
     "output_type": "stream",
     "text": [
      "C:\\Users\\xutia\\AppData\\Roaming\\Python\\Python310\\site-packages\\quantstats\\stats.py:294: RuntimeWarning: invalid value encountered in scalar divide\n",
      "  res = returns.mean() / divisor\n",
      " 31%|███       | 31/100 [23:11<57:29, 49.99s/it]  "
     ]
    },
    {
     "name": "stdout",
     "output_type": "stream",
     "text": [
      "=================================\n",
      "Initial portfolio value: 100000\n",
      "Final portfolio value: 100000.0\n",
      "Final accumulative portfolio return: 1.0\n",
      "Maximum DrawDown: 0.0\n",
      "Sharpe ratio: nan\n",
      "=================================\n"
     ]
    },
    {
     "name": "stderr",
     "output_type": "stream",
     "text": [
      "C:\\Users\\xutia\\AppData\\Roaming\\Python\\Python310\\site-packages\\quantstats\\stats.py:294: RuntimeWarning: invalid value encountered in scalar divide\n",
      "  res = returns.mean() / divisor\n",
      " 32%|███▏      | 32/100 [23:51<53:25, 47.14s/it]"
     ]
    },
    {
     "name": "stdout",
     "output_type": "stream",
     "text": [
      "=================================\n",
      "Initial portfolio value: 100000\n",
      "Final portfolio value: 100000.0\n",
      "Final accumulative portfolio return: 1.0\n",
      "Maximum DrawDown: 0.0\n",
      "Sharpe ratio: nan\n",
      "=================================\n"
     ]
    },
    {
     "name": "stderr",
     "output_type": "stream",
     "text": [
      "C:\\Users\\xutia\\AppData\\Roaming\\Python\\Python310\\site-packages\\quantstats\\stats.py:294: RuntimeWarning: invalid value encountered in scalar divide\n",
      "  res = returns.mean() / divisor\n"
     ]
    },
    {
     "name": "stdout",
     "output_type": "stream",
     "text": [
      "=================================\n",
      "Initial portfolio value: 100000\n",
      "Final portfolio value: 100000.0\n",
      "Final accumulative portfolio return: 1.0\n",
      "Maximum DrawDown: 0.0\n",
      "Sharpe ratio: nan\n",
      "=================================\n"
     ]
    },
    {
     "name": "stderr",
     "output_type": "stream",
     "text": [
      "C:\\Users\\xutia\\AppData\\Roaming\\Python\\Python310\\site-packages\\quantstats\\stats.py:294: RuntimeWarning: invalid value encountered in scalar divide\n",
      "  res = returns.mean() / divisor\n",
      " 32%|███▏      | 32/100 [24:41<52:28, 46.31s/it]"
     ]
    },
    {
     "name": "stdout",
     "output_type": "stream",
     "text": [
      "Validation performance at episode 33: 69314718.05599453\n",
      "No improvement for 10 validation(s).\n",
      "Early stopping due to no improvement on validation set.\n",
      "Loaded best model based on validation performance.\n"
     ]
    },
    {
     "name": "stderr",
     "output_type": "stream",
     "text": [
      "\n",
      "C:\\Users\\xutia\\AppData\\Local\\Temp\\ipykernel_28184\\320573626.py:59: FutureWarning: You are using `torch.load` with `weights_only=False` (the current default value), which uses the default pickle module implicitly. It is possible to construct malicious pickle data which will execute arbitrary code during unpickling (See https://github.com/pytorch/pytorch/blob/main/SECURITY.md#untrusted-models for more details). In a future release, the default value for `weights_only` will be flipped to `True`. This limits the functions that could be executed during unpickling. Arbitrary objects will no longer be allowed to be loaded via this mode unless they are explicitly allowlisted by the user via `torch.serialization.add_safe_globals`. We recommend you start setting `weights_only=True` for any use case where you don't have full control of the loaded file. Please open an issue on GitHub for any issues related to this experimental feature.\n",
      "  EIIE_policy.load_state_dict(torch.load(model_filename))\n"
     ]
    },
    {
     "name": "stdout",
     "output_type": "stream",
     "text": [
      "=================================\n",
      "Initial portfolio value: 100000\n",
      "Final portfolio value: 100000.0\n",
      "Final accumulative portfolio return: 1.0\n",
      "Maximum DrawDown: 0.0\n",
      "Sharpe ratio: nan\n",
      "=================================\n"
     ]
    },
    {
     "name": "stderr",
     "output_type": "stream",
     "text": [
      "C:\\Users\\xutia\\AppData\\Roaming\\Python\\Python310\\site-packages\\quantstats\\stats.py:294: RuntimeWarning: invalid value encountered in scalar divide\n",
      "  res = returns.mean() / divisor\n",
      "C:\\Users\\xutia\\AppData\\Local\\Temp\\ipykernel_28184\\3136931484.py:70: RuntimeWarning: invalid value encountered in scalar divide\n",
      "  sharpe_ratio = np.mean(excess_returns) / np.std(excess_returns)\n"
     ]
    },
    {
     "name": "stdout",
     "output_type": "stream",
     "text": [
      "Metrics - train_final_value: 100000.0, train_drawdown: 0.0, train_sharpe: nan, train_cumulative: 1.0\n",
      "=================================\n",
      "Initial portfolio value: 100000\n",
      "Final portfolio value: 100000.0\n",
      "Final accumulative portfolio return: 1.0\n",
      "Maximum DrawDown: 0.0\n",
      "Sharpe ratio: nan\n",
      "=================================\n"
     ]
    },
    {
     "name": "stderr",
     "output_type": "stream",
     "text": [
      "C:\\Users\\xutia\\AppData\\Roaming\\Python\\Python310\\site-packages\\quantstats\\stats.py:294: RuntimeWarning: invalid value encountered in scalar divide\n",
      "  res = returns.mean() / divisor\n",
      "C:\\Users\\xutia\\AppData\\Local\\Temp\\ipykernel_28184\\3136931484.py:70: RuntimeWarning: invalid value encountered in scalar divide\n",
      "  sharpe_ratio = np.mean(excess_returns) / np.std(excess_returns)\n",
      "C:\\Users\\xutia\\AppData\\Local\\Temp\\ipykernel_28184\\320573626.py:89: FutureWarning: The behavior of DataFrame concatenation with empty or all-NA entries is deprecated. In a future version, this will no longer exclude empty or all-NA columns when determining the result dtypes. To retain the old behavior, exclude the relevant entries before the concat operation.\n",
      "  results_df = pd.concat([results_df, temp_df], ignore_index=True)\n"
     ]
    },
    {
     "name": "stdout",
     "output_type": "stream",
     "text": [
      "Metrics - test_final_value: 100000.0, test_drawdown: 0.0, test_sharpe: nan, test_cumulative: 1.0\n",
      "Training model with TIME_WINDOW=30, K_SIZE=5, CONV_MID=10, CONV_FINAL=20, LEARNING_RATE=0.01\n"
     ]
    },
    {
     "name": "stderr",
     "output_type": "stream",
     "text": [
      "  0%|          | 0/100 [00:00<?, ?it/s]"
     ]
    },
    {
     "name": "stdout",
     "output_type": "stream",
     "text": [
      "=================================\n",
      "Initial portfolio value: 100000\n",
      "Final portfolio value: 255975.453125\n",
      "Final accumulative portfolio return: 2.55975453125\n",
      "Maximum DrawDown: -0.32597083782604763\n",
      "Sharpe ratio: 0.8231262273175604\n",
      "=================================\n"
     ]
    },
    {
     "name": "stderr",
     "output_type": "stream",
     "text": [
      "  1%|          | 1/100 [00:40<1:06:29, 40.29s/it]"
     ]
    },
    {
     "name": "stdout",
     "output_type": "stream",
     "text": [
      "=================================\n",
      "Initial portfolio value: 100000\n",
      "Final portfolio value: 422248.0\n",
      "Final accumulative portfolio return: 4.22248\n",
      "Maximum DrawDown: -0.3163831488939892\n",
      "Sharpe ratio: 1.0578386019525707\n",
      "=================================\n"
     ]
    },
    {
     "name": "stderr",
     "output_type": "stream",
     "text": [
      "  2%|▏         | 2/100 [01:18<1:03:51, 39.10s/it]"
     ]
    },
    {
     "name": "stdout",
     "output_type": "stream",
     "text": [
      "=================================\n",
      "Initial portfolio value: 100000\n",
      "Final portfolio value: 587456.0625\n",
      "Final accumulative portfolio return: 5.874560625\n",
      "Maximum DrawDown: -0.31215596900082354\n",
      "Sharpe ratio: 1.1345528216516554\n",
      "=================================\n",
      "=================================\n",
      "Initial portfolio value: 100000\n",
      "Final portfolio value: 163504.015625\n",
      "Final accumulative portfolio return: 1.63504015625\n",
      "Maximum DrawDown: -0.2426583023842327\n",
      "Sharpe ratio: 1.0831806105403345\n",
      "=================================\n"
     ]
    },
    {
     "name": "stderr",
     "output_type": "stream",
     "text": [
      "  3%|▎         | 3/100 [02:07<1:10:33, 43.64s/it]"
     ]
    },
    {
     "name": "stdout",
     "output_type": "stream",
     "text": [
      "Validation performance at episode 3: -1.79942286026455\n",
      "New best validation performance: -1.79942286026455\n",
      "=================================\n",
      "Initial portfolio value: 100000\n",
      "Final portfolio value: 806311.75\n",
      "Final accumulative portfolio return: 8.0631175\n",
      "Maximum DrawDown: -0.2823591546967016\n",
      "Sharpe ratio: 1.3242282300932742\n",
      "=================================\n"
     ]
    },
    {
     "name": "stderr",
     "output_type": "stream",
     "text": [
      "  4%|▍         | 4/100 [02:45<1:06:06, 41.32s/it]"
     ]
    },
    {
     "name": "stdout",
     "output_type": "stream",
     "text": [
      "=================================\n",
      "Initial portfolio value: 100000\n",
      "Final portfolio value: 927230.0\n",
      "Final accumulative portfolio return: 9.2723\n",
      "Maximum DrawDown: -0.2901957136363956\n",
      "Sharpe ratio: 1.3149135069881988\n",
      "=================================\n"
     ]
    },
    {
     "name": "stderr",
     "output_type": "stream",
     "text": [
      "  5%|▌         | 5/100 [03:25<1:04:37, 40.81s/it]"
     ]
    },
    {
     "name": "stdout",
     "output_type": "stream",
     "text": [
      "=================================\n",
      "Initial portfolio value: 100000\n",
      "Final portfolio value: 1078556.375\n",
      "Final accumulative portfolio return: 10.78556375\n",
      "Maximum DrawDown: -0.280276120941062\n",
      "Sharpe ratio: 1.3908370331637543\n",
      "=================================\n",
      "=================================\n",
      "Initial portfolio value: 100000\n",
      "Final portfolio value: 156034.1875\n",
      "Final accumulative portfolio return: 1.560341875\n",
      "Maximum DrawDown: -0.2853453812170669\n",
      "Sharpe ratio: 1.0264512269792878\n",
      "=================================\n"
     ]
    },
    {
     "name": "stderr",
     "output_type": "stream",
     "text": [
      "  6%|▌         | 6/100 [04:17<1:10:06, 44.75s/it]"
     ]
    },
    {
     "name": "stdout",
     "output_type": "stream",
     "text": [
      "Validation performance at episode 6: -1.8692006393518588\n",
      "No improvement for 1 validation(s).\n",
      "=================================\n",
      "Initial portfolio value: 100000\n",
      "Final portfolio value: 967105.5625\n",
      "Final accumulative portfolio return: 9.671055625\n",
      "Maximum DrawDown: -0.2834872240817605\n",
      "Sharpe ratio: 1.3308452326200046\n",
      "=================================\n"
     ]
    },
    {
     "name": "stderr",
     "output_type": "stream",
     "text": [
      "  7%|▋         | 7/100 [04:59<1:08:03, 43.91s/it]"
     ]
    },
    {
     "name": "stdout",
     "output_type": "stream",
     "text": [
      "=================================\n",
      "Initial portfolio value: 100000\n",
      "Final portfolio value: 1106639.75\n",
      "Final accumulative portfolio return: 11.0663975\n",
      "Maximum DrawDown: -0.2900196634133031\n",
      "Sharpe ratio: 1.3532282544877408\n",
      "=================================\n"
     ]
    },
    {
     "name": "stderr",
     "output_type": "stream",
     "text": [
      "  8%|▊         | 8/100 [05:38<1:04:44, 42.22s/it]"
     ]
    },
    {
     "name": "stdout",
     "output_type": "stream",
     "text": [
      "=================================\n",
      "Initial portfolio value: 100000\n",
      "Final portfolio value: 986995.0\n",
      "Final accumulative portfolio return: 9.86995\n",
      "Maximum DrawDown: -0.28026863200878205\n",
      "Sharpe ratio: 1.3606657515164033\n",
      "=================================\n",
      "=================================\n",
      "Initial portfolio value: 100000\n",
      "Final portfolio value: 98376.2265625\n",
      "Final accumulative portfolio return: 0.983762265625\n",
      "Maximum DrawDown: -0.37913404025745845\n",
      "Sharpe ratio: 0.09429334064252874\n",
      "=================================\n"
     ]
    },
    {
     "name": "stderr",
     "output_type": "stream",
     "text": [
      "  9%|▉         | 9/100 [06:43<1:14:44, 49.28s/it]"
     ]
    },
    {
     "name": "stdout",
     "output_type": "stream",
     "text": [
      "Validation performance at episode 9: -2.105706786212458\n",
      "No improvement for 2 validation(s).\n",
      "=================================\n",
      "Initial portfolio value: 100000\n",
      "Final portfolio value: 886268.9375\n",
      "Final accumulative portfolio return: 8.862689375\n",
      "Maximum DrawDown: -0.2803924632769277\n",
      "Sharpe ratio: 1.3311458748837095\n",
      "=================================\n"
     ]
    },
    {
     "name": "stderr",
     "output_type": "stream",
     "text": [
      " 10%|█         | 10/100 [07:28<1:12:00, 48.00s/it]"
     ]
    },
    {
     "name": "stdout",
     "output_type": "stream",
     "text": [
      "=================================\n",
      "Initial portfolio value: 100000\n",
      "Final portfolio value: 1043532.6875\n",
      "Final accumulative portfolio return: 10.435326875\n",
      "Maximum DrawDown: -0.28029535395380145\n",
      "Sharpe ratio: 1.3852377068865214\n",
      "=================================\n"
     ]
    },
    {
     "name": "stderr",
     "output_type": "stream",
     "text": [
      " 11%|█         | 11/100 [08:07<1:07:16, 45.35s/it]"
     ]
    },
    {
     "name": "stdout",
     "output_type": "stream",
     "text": [
      "=================================\n",
      "Initial portfolio value: 100000\n",
      "Final portfolio value: 990761.0\n",
      "Final accumulative portfolio return: 9.90761\n",
      "Maximum DrawDown: -0.28071154909132334\n",
      "Sharpe ratio: 1.3068150651362163\n",
      "=================================\n",
      "=================================\n",
      "Initial portfolio value: 100000\n",
      "Final portfolio value: 163429.953125\n",
      "Final accumulative portfolio return: 1.63429953125\n",
      "Maximum DrawDown: -0.266929919834453\n",
      "Sharpe ratio: 1.0411582896162246\n",
      "=================================\n"
     ]
    },
    {
     "name": "stderr",
     "output_type": "stream",
     "text": [
      " 12%|█▏        | 12/100 [08:56<1:08:11, 46.49s/it]"
     ]
    },
    {
     "name": "stdout",
     "output_type": "stream",
     "text": [
      "Validation performance at episode 12: -1.7001637588944956\n",
      "New best validation performance: -1.7001637588944956\n",
      "=================================\n",
      "Initial portfolio value: 100000\n",
      "Final portfolio value: 1216352.875\n",
      "Final accumulative portfolio return: 12.16352875\n",
      "Maximum DrawDown: -0.28037932432011536\n",
      "Sharpe ratio: 1.3778763764442095\n",
      "=================================\n"
     ]
    },
    {
     "name": "stderr",
     "output_type": "stream",
     "text": [
      " 13%|█▎        | 13/100 [09:34<1:03:31, 43.82s/it]"
     ]
    },
    {
     "name": "stdout",
     "output_type": "stream",
     "text": [
      "=================================\n",
      "Initial portfolio value: 100000\n",
      "Final portfolio value: 1127274.0\n",
      "Final accumulative portfolio return: 11.27274\n",
      "Maximum DrawDown: -0.28039277957691666\n",
      "Sharpe ratio: 1.3580696610046326\n",
      "=================================\n"
     ]
    },
    {
     "name": "stderr",
     "output_type": "stream",
     "text": [
      " 14%|█▍        | 14/100 [10:12<1:00:24, 42.14s/it]"
     ]
    },
    {
     "name": "stdout",
     "output_type": "stream",
     "text": [
      "=================================\n",
      "Initial portfolio value: 100000\n",
      "Final portfolio value: 962792.875\n",
      "Final accumulative portfolio return: 9.62792875\n",
      "Maximum DrawDown: -0.3182109192296302\n",
      "Sharpe ratio: 1.263992578167924\n",
      "=================================\n",
      "=================================\n",
      "Initial portfolio value: 100000\n",
      "Final portfolio value: 157553.40625\n",
      "Final accumulative portfolio return: 1.5755340625\n",
      "Maximum DrawDown: -0.2669365968356442\n",
      "Sharpe ratio: 0.9905593306271664\n",
      "=================================\n"
     ]
    },
    {
     "name": "stderr",
     "output_type": "stream",
     "text": [
      " 15%|█▌        | 15/100 [11:07<1:05:09, 45.99s/it]"
     ]
    },
    {
     "name": "stdout",
     "output_type": "stream",
     "text": [
      "Validation performance at episode 15: -1.939995995471077\n",
      "No improvement for 1 validation(s).\n",
      "=================================\n",
      "Initial portfolio value: 100000\n",
      "Final portfolio value: 1325930.125\n",
      "Final accumulative portfolio return: 13.25930125\n",
      "Maximum DrawDown: -0.2803930538777287\n",
      "Sharpe ratio: 1.4628064071359805\n",
      "=================================\n"
     ]
    },
    {
     "name": "stderr",
     "output_type": "stream",
     "text": [
      " 16%|█▌        | 16/100 [11:51<1:03:37, 45.44s/it]"
     ]
    },
    {
     "name": "stdout",
     "output_type": "stream",
     "text": [
      "=================================\n",
      "Initial portfolio value: 100000\n",
      "Final portfolio value: 1067246.625\n",
      "Final accumulative portfolio return: 10.67246625\n",
      "Maximum DrawDown: -0.28037882591825514\n",
      "Sharpe ratio: 1.398493364277582\n",
      "=================================\n"
     ]
    },
    {
     "name": "stderr",
     "output_type": "stream",
     "text": [
      " 17%|█▋        | 17/100 [12:44<1:05:41, 47.48s/it]"
     ]
    },
    {
     "name": "stdout",
     "output_type": "stream",
     "text": [
      "=================================\n",
      "Initial portfolio value: 100000\n",
      "Final portfolio value: 1077206.75\n",
      "Final accumulative portfolio return: 10.7720675\n",
      "Maximum DrawDown: -0.28197269960563964\n",
      "Sharpe ratio: 1.3495214087572456\n",
      "=================================\n",
      "=================================\n",
      "Initial portfolio value: 100000\n",
      "Final portfolio value: 147498.8125\n",
      "Final accumulative portfolio return: 1.474988125\n",
      "Maximum DrawDown: -0.2850712758308288\n",
      "Sharpe ratio: 0.8738189070895975\n",
      "=================================\n"
     ]
    },
    {
     "name": "stderr",
     "output_type": "stream",
     "text": [
      " 18%|█▊        | 18/100 [13:44<1:10:15, 51.41s/it]"
     ]
    },
    {
     "name": "stdout",
     "output_type": "stream",
     "text": [
      "Validation performance at episode 18: -2.223561531411733\n",
      "No improvement for 2 validation(s).\n",
      "=================================\n",
      "Initial portfolio value: 100000\n",
      "Final portfolio value: 1202884.0\n",
      "Final accumulative portfolio return: 12.02884\n",
      "Maximum DrawDown: -0.30529988014601794\n",
      "Sharpe ratio: 1.3808114924501431\n",
      "=================================\n"
     ]
    },
    {
     "name": "stderr",
     "output_type": "stream",
     "text": [
      " 19%|█▉        | 19/100 [14:27<1:05:54, 48.82s/it]"
     ]
    },
    {
     "name": "stdout",
     "output_type": "stream",
     "text": [
      "=================================\n",
      "Initial portfolio value: 100000\n",
      "Final portfolio value: 1204141.0\n",
      "Final accumulative portfolio return: 12.04141\n",
      "Maximum DrawDown: -0.2803820541204699\n",
      "Sharpe ratio: 1.3773746290745983\n",
      "=================================\n"
     ]
    },
    {
     "name": "stderr",
     "output_type": "stream",
     "text": [
      " 20%|██        | 20/100 [15:13<1:03:59, 47.99s/it]"
     ]
    },
    {
     "name": "stdout",
     "output_type": "stream",
     "text": [
      "=================================\n",
      "Initial portfolio value: 100000\n",
      "Final portfolio value: 1250905.75\n",
      "Final accumulative portfolio return: 12.5090575\n",
      "Maximum DrawDown: -0.3163606323406173\n",
      "Sharpe ratio: 1.3820825793542202\n",
      "=================================\n",
      "=================================\n",
      "Initial portfolio value: 100000\n",
      "Final portfolio value: 178815.234375\n",
      "Final accumulative portfolio return: 1.78815234375\n",
      "Maximum DrawDown: -0.26863521154506065\n",
      "Sharpe ratio: 1.249321656521149\n",
      "=================================\n"
     ]
    },
    {
     "name": "stderr",
     "output_type": "stream",
     "text": [
      " 21%|██        | 21/100 [16:09<1:06:27, 50.47s/it]"
     ]
    },
    {
     "name": "stdout",
     "output_type": "stream",
     "text": [
      "Validation performance at episode 21: -1.818966990039224\n",
      "No improvement for 3 validation(s).\n",
      "=================================\n",
      "Initial portfolio value: 100000\n",
      "Final portfolio value: 904669.1875\n",
      "Final accumulative portfolio return: 9.046691875\n",
      "Maximum DrawDown: -0.2840397363345336\n",
      "Sharpe ratio: 1.2748136244420845\n",
      "=================================\n"
     ]
    },
    {
     "name": "stderr",
     "output_type": "stream",
     "text": [
      " 22%|██▏       | 22/100 [16:48<1:01:00, 46.93s/it]"
     ]
    },
    {
     "name": "stdout",
     "output_type": "stream",
     "text": [
      "=================================\n",
      "Initial portfolio value: 100000\n",
      "Final portfolio value: 1210127.75\n",
      "Final accumulative portfolio return: 12.1012775\n",
      "Maximum DrawDown: -0.28038633443568284\n",
      "Sharpe ratio: 1.3996143638979361\n",
      "=================================\n"
     ]
    },
    {
     "name": "stderr",
     "output_type": "stream",
     "text": [
      " 23%|██▎       | 23/100 [17:27<57:09, 44.54s/it]  "
     ]
    },
    {
     "name": "stdout",
     "output_type": "stream",
     "text": [
      "=================================\n",
      "Initial portfolio value: 100000\n",
      "Final portfolio value: 1186421.625\n",
      "Final accumulative portfolio return: 11.86421625\n",
      "Maximum DrawDown: -0.28039311691204216\n",
      "Sharpe ratio: 1.405573024225534\n",
      "=================================\n",
      "=================================\n",
      "Initial portfolio value: 100000\n",
      "Final portfolio value: 150493.375\n",
      "Final accumulative portfolio return: 1.50493375\n",
      "Maximum DrawDown: -0.3034064095586603\n",
      "Sharpe ratio: 0.9309791433641036\n",
      "=================================\n"
     ]
    },
    {
     "name": "stderr",
     "output_type": "stream",
     "text": [
      " 24%|██▍       | 24/100 [18:17<58:42, 46.34s/it]"
     ]
    },
    {
     "name": "stdout",
     "output_type": "stream",
     "text": [
      "Validation performance at episode 24: -2.1067180774842407\n",
      "No improvement for 4 validation(s).\n",
      "=================================\n",
      "Initial portfolio value: 100000\n",
      "Final portfolio value: 1201732.375\n",
      "Final accumulative portfolio return: 12.01732375\n",
      "Maximum DrawDown: -0.2837648538343118\n",
      "Sharpe ratio: 1.402798286030867\n",
      "=================================\n"
     ]
    },
    {
     "name": "stderr",
     "output_type": "stream",
     "text": [
      " 25%|██▌       | 25/100 [18:56<55:11, 44.16s/it]"
     ]
    },
    {
     "name": "stdout",
     "output_type": "stream",
     "text": [
      "=================================\n",
      "Initial portfolio value: 100000\n",
      "Final portfolio value: 1065985.375\n",
      "Final accumulative portfolio return: 10.65985375\n",
      "Maximum DrawDown: -0.28411241526211384\n",
      "Sharpe ratio: 1.3488820279070868\n",
      "=================================\n"
     ]
    },
    {
     "name": "stderr",
     "output_type": "stream",
     "text": [
      " 26%|██▌       | 26/100 [19:36<52:48, 42.81s/it]"
     ]
    },
    {
     "name": "stdout",
     "output_type": "stream",
     "text": [
      "=================================\n",
      "Initial portfolio value: 100000\n",
      "Final portfolio value: 1199873.875\n",
      "Final accumulative portfolio return: 11.99873875\n",
      "Maximum DrawDown: -0.31002726700141126\n",
      "Sharpe ratio: 1.3831785885339807\n",
      "=================================\n",
      "=================================\n",
      "Initial portfolio value: 100000\n",
      "Final portfolio value: 143814.8125\n",
      "Final accumulative portfolio return: 1.438148125\n",
      "Maximum DrawDown: -0.3530527381968023\n",
      "Sharpe ratio: 0.8119138739729748\n",
      "=================================\n"
     ]
    },
    {
     "name": "stderr",
     "output_type": "stream",
     "text": [
      " 27%|██▋       | 27/100 [20:28<55:32, 45.65s/it]"
     ]
    },
    {
     "name": "stdout",
     "output_type": "stream",
     "text": [
      "Validation performance at episode 27: -2.0840759512209406\n",
      "No improvement for 5 validation(s).\n",
      "=================================\n",
      "Initial portfolio value: 100000\n",
      "Final portfolio value: 1134504.125\n",
      "Final accumulative portfolio return: 11.34504125\n",
      "Maximum DrawDown: -0.29970949520319634\n",
      "Sharpe ratio: 1.359163258786567\n",
      "=================================\n"
     ]
    },
    {
     "name": "stderr",
     "output_type": "stream",
     "text": [
      " 28%|██▊       | 28/100 [21:12<54:11, 45.16s/it]"
     ]
    },
    {
     "name": "stdout",
     "output_type": "stream",
     "text": [
      "=================================\n",
      "Initial portfolio value: 100000\n",
      "Final portfolio value: 1260197.875\n",
      "Final accumulative portfolio return: 12.60197875\n",
      "Maximum DrawDown: -0.29852268452696684\n",
      "Sharpe ratio: 1.4065270804829575\n",
      "=================================\n"
     ]
    },
    {
     "name": "stderr",
     "output_type": "stream",
     "text": [
      " 29%|██▉       | 29/100 [21:53<51:46, 43.76s/it]"
     ]
    },
    {
     "name": "stdout",
     "output_type": "stream",
     "text": [
      "=================================\n",
      "Initial portfolio value: 100000\n",
      "Final portfolio value: 1256123.0\n",
      "Final accumulative portfolio return: 12.56123\n",
      "Maximum DrawDown: -0.29105832452790037\n",
      "Sharpe ratio: 1.3994881133209083\n",
      "=================================\n",
      "=================================\n",
      "Initial portfolio value: 100000\n",
      "Final portfolio value: 143880.421875\n",
      "Final accumulative portfolio return: 1.43880421875\n",
      "Maximum DrawDown: -0.3411650938050108\n",
      "Sharpe ratio: 0.8101096764983821\n",
      "=================================\n"
     ]
    },
    {
     "name": "stderr",
     "output_type": "stream",
     "text": [
      " 30%|███       | 30/100 [22:45<54:03, 46.33s/it]"
     ]
    },
    {
     "name": "stdout",
     "output_type": "stream",
     "text": [
      "Validation performance at episode 30: -2.0804897106261118\n",
      "No improvement for 6 validation(s).\n",
      "=================================\n",
      "Initial portfolio value: 100000\n",
      "Final portfolio value: 1388847.0\n",
      "Final accumulative portfolio return: 13.88847\n",
      "Maximum DrawDown: -0.28416669552687457\n",
      "Sharpe ratio: 1.4445785559338977\n",
      "=================================\n"
     ]
    },
    {
     "name": "stderr",
     "output_type": "stream",
     "text": [
      " 31%|███       | 31/100 [23:23<50:13, 43.67s/it]"
     ]
    },
    {
     "name": "stdout",
     "output_type": "stream",
     "text": [
      "=================================\n",
      "Initial portfolio value: 100000\n",
      "Final portfolio value: 1430211.75\n",
      "Final accumulative portfolio return: 14.3021175\n",
      "Maximum DrawDown: -0.2841879154970204\n",
      "Sharpe ratio: 1.4582123919122414\n",
      "=================================\n"
     ]
    },
    {
     "name": "stderr",
     "output_type": "stream",
     "text": [
      " 32%|███▏      | 32/100 [24:00<47:17, 41.73s/it]"
     ]
    },
    {
     "name": "stdout",
     "output_type": "stream",
     "text": [
      "=================================\n",
      "Initial portfolio value: 100000\n",
      "Final portfolio value: 1458424.25\n",
      "Final accumulative portfolio return: 14.5842425\n",
      "Maximum DrawDown: -0.2841534479501011\n",
      "Sharpe ratio: 1.4681587679353405\n",
      "=================================\n",
      "=================================\n",
      "Initial portfolio value: 100000\n",
      "Final portfolio value: 148047.90625\n",
      "Final accumulative portfolio return: 1.4804790625\n",
      "Maximum DrawDown: -0.3372491478814369\n",
      "Sharpe ratio: 0.8623273993448141\n",
      "=================================\n"
     ]
    },
    {
     "name": "stderr",
     "output_type": "stream",
     "text": [
      " 33%|███▎      | 33/100 [24:48<48:45, 43.66s/it]"
     ]
    },
    {
     "name": "stdout",
     "output_type": "stream",
     "text": [
      "Validation performance at episode 33: -2.1186440654178442\n",
      "No improvement for 7 validation(s).\n",
      "=================================\n",
      "Initial portfolio value: 100000\n",
      "Final portfolio value: 1471272.0\n",
      "Final accumulative portfolio return: 14.71272\n",
      "Maximum DrawDown: -0.2841126499758776\n",
      "Sharpe ratio: 1.4734293673764283\n",
      "=================================\n"
     ]
    },
    {
     "name": "stderr",
     "output_type": "stream",
     "text": [
      " 34%|███▍      | 34/100 [25:25<45:50, 41.67s/it]"
     ]
    },
    {
     "name": "stdout",
     "output_type": "stream",
     "text": [
      "=================================\n",
      "Initial portfolio value: 100000\n",
      "Final portfolio value: 1479130.125\n",
      "Final accumulative portfolio return: 14.79130125\n",
      "Maximum DrawDown: -0.2840905294123025\n",
      "Sharpe ratio: 1.4767466990463518\n",
      "=================================\n"
     ]
    },
    {
     "name": "stderr",
     "output_type": "stream",
     "text": [
      " 35%|███▌      | 35/100 [26:03<43:54, 40.53s/it]"
     ]
    },
    {
     "name": "stdout",
     "output_type": "stream",
     "text": [
      "=================================\n",
      "Initial portfolio value: 100000\n",
      "Final portfolio value: 1484805.25\n",
      "Final accumulative portfolio return: 14.8480525\n",
      "Maximum DrawDown: -0.28408736857392136\n",
      "Sharpe ratio: 1.4790932439704807\n",
      "=================================\n",
      "=================================\n",
      "Initial portfolio value: 100000\n",
      "Final portfolio value: 148388.75\n",
      "Final accumulative portfolio return: 1.4838875\n",
      "Maximum DrawDown: -0.3355990803301272\n",
      "Sharpe ratio: 0.8675157689929933\n",
      "=================================\n"
     ]
    },
    {
     "name": "stderr",
     "output_type": "stream",
     "text": [
      " 36%|███▌      | 36/100 [26:51<45:35, 42.73s/it]"
     ]
    },
    {
     "name": "stdout",
     "output_type": "stream",
     "text": [
      "Validation performance at episode 36: -2.0661209495129595\n",
      "No improvement for 8 validation(s).\n",
      "=================================\n",
      "Initial portfolio value: 100000\n",
      "Final portfolio value: 1490032.625\n",
      "Final accumulative portfolio return: 14.90032625\n",
      "Maximum DrawDown: -0.284094779370483\n",
      "Sharpe ratio: 1.4811614012914307\n",
      "=================================\n"
     ]
    },
    {
     "name": "stderr",
     "output_type": "stream",
     "text": [
      " 37%|███▋      | 37/100 [27:28<43:09, 41.11s/it]"
     ]
    },
    {
     "name": "stdout",
     "output_type": "stream",
     "text": [
      "=================================\n",
      "Initial portfolio value: 100000\n",
      "Final portfolio value: 1495699.75\n",
      "Final accumulative portfolio return: 14.9569975\n",
      "Maximum DrawDown: -0.28410650766955514\n",
      "Sharpe ratio: 1.4832559464536188\n",
      "=================================\n"
     ]
    },
    {
     "name": "stderr",
     "output_type": "stream",
     "text": [
      " 38%|███▊      | 38/100 [28:05<41:04, 39.75s/it]"
     ]
    },
    {
     "name": "stdout",
     "output_type": "stream",
     "text": [
      "=================================\n",
      "Initial portfolio value: 100000\n",
      "Final portfolio value: 1502033.125\n",
      "Final accumulative portfolio return: 15.02033125\n",
      "Maximum DrawDown: -0.28411812682001025\n",
      "Sharpe ratio: 1.4854498511590866\n",
      "=================================\n",
      "=================================\n",
      "Initial portfolio value: 100000\n",
      "Final portfolio value: 150401.296875\n",
      "Final accumulative portfolio return: 1.50401296875\n",
      "Maximum DrawDown: -0.33066193021733115\n",
      "Sharpe ratio: 0.8923500960927659\n",
      "=================================\n"
     ]
    },
    {
     "name": "stderr",
     "output_type": "stream",
     "text": [
      " 39%|███▉      | 39/100 [28:58<44:31, 43.79s/it]"
     ]
    },
    {
     "name": "stdout",
     "output_type": "stream",
     "text": [
      "Validation performance at episode 39: -2.041593012399937\n",
      "No improvement for 9 validation(s).\n",
      "=================================\n",
      "Initial portfolio value: 100000\n",
      "Final portfolio value: 1508307.75\n",
      "Final accumulative portfolio return: 15.0830775\n",
      "Maximum DrawDown: -0.2841256561481983\n",
      "Sharpe ratio: 1.4875417547952812\n",
      "=================================\n"
     ]
    },
    {
     "name": "stderr",
     "output_type": "stream",
     "text": [
      " 40%|████      | 40/100 [29:36<42:05, 42.10s/it]"
     ]
    },
    {
     "name": "stdout",
     "output_type": "stream",
     "text": [
      "=================================\n",
      "Initial portfolio value: 100000\n",
      "Final portfolio value: 1513843.875\n",
      "Final accumulative portfolio return: 15.13843875\n",
      "Maximum DrawDown: -0.28412855942115633\n",
      "Sharpe ratio: 1.4893479692449318\n",
      "=================================\n"
     ]
    },
    {
     "name": "stderr",
     "output_type": "stream",
     "text": [
      " 41%|████      | 41/100 [30:14<40:00, 40.68s/it]"
     ]
    },
    {
     "name": "stdout",
     "output_type": "stream",
     "text": [
      "=================================\n",
      "Initial portfolio value: 100000\n",
      "Final portfolio value: 1518569.5\n",
      "Final accumulative portfolio return: 15.185695\n",
      "Maximum DrawDown: -0.28412943251458334\n",
      "Sharpe ratio: 1.4908676055491283\n",
      "=================================\n",
      "=================================\n",
      "Initial portfolio value: 100000\n",
      "Final portfolio value: 153230.03125\n",
      "Final accumulative portfolio return: 1.5323003125\n",
      "Maximum DrawDown: -0.32494945516142226\n",
      "Sharpe ratio: 0.926358265764447\n",
      "=================================\n"
     ]
    },
    {
     "name": "stderr",
     "output_type": "stream",
     "text": [
      " 41%|████      | 41/100 [31:02<44:39, 45.42s/it]"
     ]
    },
    {
     "name": "stdout",
     "output_type": "stream",
     "text": [
      "Validation performance at episode 42: -2.0220890529924715\n",
      "No improvement for 10 validation(s).\n",
      "Early stopping due to no improvement on validation set.\n",
      "Loaded best model based on validation performance.\n"
     ]
    },
    {
     "name": "stderr",
     "output_type": "stream",
     "text": [
      "\n",
      "C:\\Users\\xutia\\AppData\\Local\\Temp\\ipykernel_28184\\320573626.py:59: FutureWarning: You are using `torch.load` with `weights_only=False` (the current default value), which uses the default pickle module implicitly. It is possible to construct malicious pickle data which will execute arbitrary code during unpickling (See https://github.com/pytorch/pytorch/blob/main/SECURITY.md#untrusted-models for more details). In a future release, the default value for `weights_only` will be flipped to `True`. This limits the functions that could be executed during unpickling. Arbitrary objects will no longer be allowed to be loaded via this mode unless they are explicitly allowlisted by the user via `torch.serialization.add_safe_globals`. We recommend you start setting `weights_only=True` for any use case where you don't have full control of the loaded file. Please open an issue on GitHub for any issues related to this experimental feature.\n",
      "  EIIE_policy.load_state_dict(torch.load(model_filename))\n"
     ]
    },
    {
     "name": "stdout",
     "output_type": "stream",
     "text": [
      "=================================\n",
      "Initial portfolio value: 100000\n",
      "Final portfolio value: 792884.9375\n",
      "Final accumulative portfolio return: 7.928849375\n",
      "Maximum DrawDown: -0.3453146100094041\n",
      "Sharpe ratio: 1.2070826529180887\n",
      "=================================\n",
      "Metrics - train_final_value: 792884.9375, train_drawdown: -0.34531461000940417, train_sharpe: 1.2077814928006052, train_cumulative: 7.928849375\n",
      "=================================\n",
      "Initial portfolio value: 100000\n",
      "Final portfolio value: 146965.234375\n",
      "Final accumulative portfolio return: 1.46965234375\n",
      "Maximum DrawDown: -0.30093817517889143\n",
      "Sharpe ratio: 0.8541884380500485\n",
      "=================================\n",
      "Metrics - test_final_value: 146965.234375, test_drawdown: -0.30093817517889143, test_sharpe: 0.8559960229456298, test_cumulative: 1.46965234375\n",
      "Training model with TIME_WINDOW=30, K_SIZE=5, CONV_MID=10, CONV_FINAL=20, LEARNING_RATE=0.02\n"
     ]
    },
    {
     "name": "stderr",
     "output_type": "stream",
     "text": [
      "  0%|          | 0/100 [00:00<?, ?it/s]"
     ]
    },
    {
     "name": "stdout",
     "output_type": "stream",
     "text": [
      "=================================\n",
      "Initial portfolio value: 100000\n",
      "Final portfolio value: 197634.46875\n",
      "Final accumulative portfolio return: 1.9763446875\n",
      "Maximum DrawDown: -0.32493139365207113\n",
      "Sharpe ratio: 0.6810490339446499\n",
      "=================================\n"
     ]
    },
    {
     "name": "stderr",
     "output_type": "stream",
     "text": [
      "  1%|          | 1/100 [00:38<1:03:31, 38.50s/it]"
     ]
    },
    {
     "name": "stdout",
     "output_type": "stream",
     "text": [
      "=================================\n",
      "Initial portfolio value: 100000\n",
      "Final portfolio value: 230268.703125\n",
      "Final accumulative portfolio return: 2.30268703125\n",
      "Maximum DrawDown: -0.33012221507375894\n",
      "Sharpe ratio: 0.7799124817494522\n",
      "=================================\n"
     ]
    },
    {
     "name": "stderr",
     "output_type": "stream",
     "text": [
      "  2%|▏         | 2/100 [01:16<1:02:25, 38.22s/it]"
     ]
    },
    {
     "name": "stdout",
     "output_type": "stream",
     "text": [
      "=================================\n",
      "Initial portfolio value: 100000\n",
      "Final portfolio value: 232810.765625\n",
      "Final accumulative portfolio return: 2.32810765625\n",
      "Maximum DrawDown: -0.33422108710108933\n",
      "Sharpe ratio: 0.7801347990976779\n",
      "=================================\n",
      "=================================\n",
      "Initial portfolio value: 100000\n",
      "Final portfolio value: 128310.4765625\n",
      "Final accumulative portfolio return: 1.283104765625\n",
      "Maximum DrawDown: -0.15030734853875216\n",
      "Sharpe ratio: 0.8897434963215664\n",
      "=================================\n"
     ]
    },
    {
     "name": "stderr",
     "output_type": "stream",
     "text": [
      "  3%|▎         | 3/100 [02:05<1:09:30, 42.99s/it]"
     ]
    },
    {
     "name": "stdout",
     "output_type": "stream",
     "text": [
      "Validation performance at episode 3: -2.421176123296091\n",
      "New best validation performance: -2.421176123296091\n",
      "=================================\n",
      "Initial portfolio value: 100000\n",
      "Final portfolio value: 235235.21875\n",
      "Final accumulative portfolio return: 2.3523521875\n",
      "Maximum DrawDown: -0.3384312258324944\n",
      "Sharpe ratio: 0.780044334594526\n",
      "=================================\n"
     ]
    },
    {
     "name": "stderr",
     "output_type": "stream",
     "text": [
      "  4%|▍         | 4/100 [02:43<1:05:38, 41.03s/it]"
     ]
    },
    {
     "name": "stdout",
     "output_type": "stream",
     "text": [
      "=================================\n",
      "Initial portfolio value: 100000\n",
      "Final portfolio value: 238026.25\n",
      "Final accumulative portfolio return: 2.3802625\n",
      "Maximum DrawDown: -0.34332230999412516\n",
      "Sharpe ratio: 0.7798746690389896\n",
      "=================================\n"
     ]
    },
    {
     "name": "stderr",
     "output_type": "stream",
     "text": [
      "  5%|▌         | 5/100 [03:21<1:03:10, 39.90s/it]"
     ]
    },
    {
     "name": "stdout",
     "output_type": "stream",
     "text": [
      "=================================\n",
      "Initial portfolio value: 100000\n",
      "Final portfolio value: 240888.671875\n",
      "Final accumulative portfolio return: 2.40888671875\n",
      "Maximum DrawDown: -0.3477160570771026\n",
      "Sharpe ratio: 0.7801925700660245\n",
      "=================================\n",
      "=================================\n",
      "Initial portfolio value: 100000\n",
      "Final portfolio value: 129634.3203125\n",
      "Final accumulative portfolio return: 1.296343203125\n",
      "Maximum DrawDown: -0.15711808735784738\n",
      "Sharpe ratio: 0.8897236322532683\n",
      "=================================\n"
     ]
    },
    {
     "name": "stderr",
     "output_type": "stream",
     "text": [
      "  6%|▌         | 6/100 [04:09<1:07:06, 42.84s/it]"
     ]
    },
    {
     "name": "stdout",
     "output_type": "stream",
     "text": [
      "Validation performance at episode 6: -2.4159071008988637\n",
      "No improvement for 1 validation(s).\n",
      "=================================\n",
      "Initial portfolio value: 100000\n",
      "Final portfolio value: 242851.1875\n",
      "Final accumulative portfolio return: 2.428511875\n",
      "Maximum DrawDown: -0.35021486883646036\n",
      "Sharpe ratio: 0.7808251094361095\n",
      "=================================\n"
     ]
    },
    {
     "name": "stderr",
     "output_type": "stream",
     "text": [
      "  7%|▋         | 7/100 [04:47<1:03:57, 41.27s/it]"
     ]
    },
    {
     "name": "stdout",
     "output_type": "stream",
     "text": [
      "=================================\n",
      "Initial portfolio value: 100000\n",
      "Final portfolio value: 243784.890625\n",
      "Final accumulative portfolio return: 2.43784890625\n",
      "Maximum DrawDown: -0.35131027677614435\n",
      "Sharpe ratio: 0.7811867347979949\n",
      "=================================\n"
     ]
    },
    {
     "name": "stderr",
     "output_type": "stream",
     "text": [
      "  8%|▊         | 8/100 [05:26<1:02:17, 40.63s/it]"
     ]
    },
    {
     "name": "stdout",
     "output_type": "stream",
     "text": [
      "=================================\n",
      "Initial portfolio value: 100000\n",
      "Final portfolio value: 244190.640625\n",
      "Final accumulative portfolio return: 2.44190640625\n",
      "Maximum DrawDown: -0.35179817409489633\n",
      "Sharpe ratio: 0.7813278588373688\n",
      "=================================\n",
      "=================================\n",
      "Initial portfolio value: 100000\n",
      "Final portfolio value: 129998.171875\n",
      "Final accumulative portfolio return: 1.29998171875\n",
      "Maximum DrawDown: -0.15895893437883246\n",
      "Sharpe ratio: 0.8898147605655071\n",
      "=================================\n"
     ]
    },
    {
     "name": "stderr",
     "output_type": "stream",
     "text": [
      "  9%|▉         | 9/100 [06:15<1:05:16, 43.04s/it]"
     ]
    },
    {
     "name": "stdout",
     "output_type": "stream",
     "text": [
      "Validation performance at episode 9: -2.4144589170439845\n",
      "No improvement for 2 validation(s).\n",
      "=================================\n",
      "Initial portfolio value: 100000\n",
      "Final portfolio value: 244388.96875\n",
      "Final accumulative portfolio return: 2.4438896875\n",
      "Maximum DrawDown: -0.3520421054951435\n",
      "Sharpe ratio: 0.7813986340427017\n",
      "=================================\n"
     ]
    },
    {
     "name": "stderr",
     "output_type": "stream",
     "text": [
      " 10%|█         | 10/100 [06:53<1:02:16, 41.51s/it]"
     ]
    },
    {
     "name": "stdout",
     "output_type": "stream",
     "text": [
      "=================================\n",
      "Initial portfolio value: 100000\n",
      "Final portfolio value: 244490.78125\n",
      "Final accumulative portfolio return: 2.4449078125\n",
      "Maximum DrawDown: -0.352187772799731\n",
      "Sharpe ratio: 0.7814062108412122\n",
      "=================================\n"
     ]
    },
    {
     "name": "stderr",
     "output_type": "stream",
     "text": [
      " 11%|█         | 11/100 [07:31<1:00:03, 40.49s/it]"
     ]
    },
    {
     "name": "stdout",
     "output_type": "stream",
     "text": [
      "=================================\n",
      "Initial portfolio value: 100000\n",
      "Final portfolio value: 244558.421875\n",
      "Final accumulative portfolio return: 2.44558421875\n",
      "Maximum DrawDown: -0.35228087836272537\n",
      "Sharpe ratio: 0.7814215916838474\n",
      "=================================\n",
      "=================================\n",
      "Initial portfolio value: 100000\n",
      "Final portfolio value: 130035.0390625\n",
      "Final accumulative portfolio return: 1.300350390625\n",
      "Maximum DrawDown: -0.15920099109849695\n",
      "Sharpe ratio: 0.8896375829856377\n",
      "=================================\n"
     ]
    },
    {
     "name": "stderr",
     "output_type": "stream",
     "text": [
      " 12%|█▏        | 12/100 [08:19<1:02:55, 42.90s/it]"
     ]
    },
    {
     "name": "stdout",
     "output_type": "stream",
     "text": [
      "Validation performance at episode 12: -2.4143656629156585\n",
      "No improvement for 3 validation(s).\n",
      "=================================\n",
      "Initial portfolio value: 100000\n",
      "Final portfolio value: 244605.125\n",
      "Final accumulative portfolio return: 2.44605125\n",
      "Maximum DrawDown: -0.35234472330904076\n",
      "Sharpe ratio: 0.781433583271774\n",
      "=================================\n"
     ]
    },
    {
     "name": "stderr",
     "output_type": "stream",
     "text": [
      " 13%|█▎        | 13/100 [08:58<1:00:08, 41.47s/it]"
     ]
    },
    {
     "name": "stdout",
     "output_type": "stream",
     "text": [
      "=================================\n",
      "Initial portfolio value: 100000\n",
      "Final portfolio value: 244638.1875\n",
      "Final accumulative portfolio return: 2.446381875\n",
      "Maximum DrawDown: -0.35239129301856864\n",
      "Sharpe ratio: 0.7814433320507623\n",
      "=================================\n"
     ]
    },
    {
     "name": "stderr",
     "output_type": "stream",
     "text": [
      " 14%|█▍        | 14/100 [09:36<57:59, 40.46s/it]  "
     ]
    },
    {
     "name": "stdout",
     "output_type": "stream",
     "text": [
      "=================================\n",
      "Initial portfolio value: 100000\n",
      "Final portfolio value: 244667.5\n",
      "Final accumulative portfolio return: 2.446675\n",
      "Maximum DrawDown: -0.3524236139494352\n",
      "Sharpe ratio: 0.7814643781519583\n",
      "=================================\n",
      "=================================\n",
      "Initial portfolio value: 100000\n",
      "Final portfolio value: 130052.484375\n",
      "Final accumulative portfolio return: 1.30052484375\n",
      "Maximum DrawDown: -0.15926307783337235\n",
      "Sharpe ratio: 0.8897287356393556\n",
      "=================================\n"
     ]
    },
    {
     "name": "stderr",
     "output_type": "stream",
     "text": [
      " 15%|█▌        | 15/100 [10:24<1:00:31, 42.72s/it]"
     ]
    },
    {
     "name": "stdout",
     "output_type": "stream",
     "text": [
      "Validation performance at episode 15: -2.4142605634266023\n",
      "No improvement for 4 validation(s).\n",
      "=================================\n",
      "Initial portfolio value: 100000\n",
      "Final portfolio value: 244680.765625\n",
      "Final accumulative portfolio return: 2.44680765625\n",
      "Maximum DrawDown: -0.35244721856192407\n",
      "Sharpe ratio: 0.7814563663030653\n",
      "=================================\n"
     ]
    },
    {
     "name": "stderr",
     "output_type": "stream",
     "text": [
      " 16%|█▌        | 16/100 [11:01<57:37, 41.16s/it]  "
     ]
    },
    {
     "name": "stdout",
     "output_type": "stream",
     "text": [
      "=================================\n",
      "Initial portfolio value: 100000\n",
      "Final portfolio value: 244685.5625\n",
      "Final accumulative portfolio return: 2.446855625\n",
      "Maximum DrawDown: -0.35246995511046986\n",
      "Sharpe ratio: 0.781427735206431\n",
      "=================================\n"
     ]
    },
    {
     "name": "stderr",
     "output_type": "stream",
     "text": [
      " 17%|█▋        | 17/100 [11:39<55:31, 40.14s/it]"
     ]
    },
    {
     "name": "stdout",
     "output_type": "stream",
     "text": [
      "=================================\n",
      "Initial portfolio value: 100000\n",
      "Final portfolio value: 244702.15625\n",
      "Final accumulative portfolio return: 2.4470215625\n",
      "Maximum DrawDown: -0.35248847967032815\n",
      "Sharpe ratio: 0.7814432899172584\n",
      "=================================\n",
      "=================================\n",
      "Initial portfolio value: 100000\n",
      "Final portfolio value: 130059.6796875\n",
      "Final accumulative portfolio return: 1.300596796875\n",
      "Maximum DrawDown: -0.15929464520701875\n",
      "Sharpe ratio: 0.8897479083044445\n",
      "=================================\n"
     ]
    },
    {
     "name": "stderr",
     "output_type": "stream",
     "text": [
      " 18%|█▊        | 18/100 [12:28<58:27, 42.78s/it]"
     ]
    },
    {
     "name": "stdout",
     "output_type": "stream",
     "text": [
      "Validation performance at episode 18: -2.4142268531289033\n",
      "No improvement for 5 validation(s).\n",
      "=================================\n",
      "Initial portfolio value: 100000\n",
      "Final portfolio value: 244712.34375\n",
      "Final accumulative portfolio return: 2.4471234375\n",
      "Maximum DrawDown: -0.3525018283636667\n",
      "Sharpe ratio: 0.7814468005920825\n",
      "=================================\n"
     ]
    },
    {
     "name": "stderr",
     "output_type": "stream",
     "text": [
      " 19%|█▉        | 19/100 [13:06<55:42, 41.26s/it]"
     ]
    },
    {
     "name": "stdout",
     "output_type": "stream",
     "text": [
      "=================================\n",
      "Initial portfolio value: 100000\n",
      "Final portfolio value: 244717.75\n",
      "Final accumulative portfolio return: 2.4471775\n",
      "Maximum DrawDown: -0.352514185430304\n",
      "Sharpe ratio: 0.781439073572546\n",
      "=================================\n"
     ]
    },
    {
     "name": "stderr",
     "output_type": "stream",
     "text": [
      " 20%|██        | 20/100 [13:44<53:47, 40.34s/it]"
     ]
    },
    {
     "name": "stdout",
     "output_type": "stream",
     "text": [
      "=================================\n",
      "Initial portfolio value: 100000\n",
      "Final portfolio value: 244728.9375\n",
      "Final accumulative portfolio return: 2.447289375\n",
      "Maximum DrawDown: -0.3525239943042583\n",
      "Sharpe ratio: 0.7814556915302029\n",
      "=================================\n",
      "=================================\n",
      "Initial portfolio value: 100000\n",
      "Final portfolio value: 130057.0703125\n",
      "Final accumulative portfolio return: 1.300570703125\n",
      "Maximum DrawDown: -0.15932275493089798\n",
      "Sharpe ratio: 0.8896060382615736\n",
      "=================================\n"
     ]
    },
    {
     "name": "stderr",
     "output_type": "stream",
     "text": [
      " 21%|██        | 21/100 [14:33<56:32, 42.94s/it]"
     ]
    },
    {
     "name": "stdout",
     "output_type": "stream",
     "text": [
      "Validation performance at episode 21: -2.4142864892333513\n",
      "No improvement for 6 validation(s).\n",
      "=================================\n",
      "Initial portfolio value: 100000\n",
      "Final portfolio value: 244729.328125\n",
      "Final accumulative portfolio return: 2.44729328125\n",
      "Maximum DrawDown: -0.3525326369775216\n",
      "Sharpe ratio: 0.7814390165542321\n",
      "=================================\n"
     ]
    },
    {
     "name": "stderr",
     "output_type": "stream",
     "text": [
      " 22%|██▏       | 22/100 [15:11<53:54, 41.46s/it]"
     ]
    },
    {
     "name": "stdout",
     "output_type": "stream",
     "text": [
      "=================================\n",
      "Initial portfolio value: 100000\n",
      "Final portfolio value: 244725.4375\n",
      "Final accumulative portfolio return: 2.447254375\n",
      "Maximum DrawDown: -0.35254060760568895\n",
      "Sharpe ratio: 0.7814104683371976\n",
      "=================================\n"
     ]
    },
    {
     "name": "stderr",
     "output_type": "stream",
     "text": [
      " 23%|██▎       | 23/100 [15:49<51:51, 40.41s/it]"
     ]
    },
    {
     "name": "stdout",
     "output_type": "stream",
     "text": [
      "=================================\n",
      "Initial portfolio value: 100000\n",
      "Final portfolio value: 244736.359375\n",
      "Final accumulative portfolio return: 2.44736359375\n",
      "Maximum DrawDown: -0.352547622672458\n",
      "Sharpe ratio: 0.7814305818143519\n",
      "=================================\n",
      "=================================\n",
      "Initial portfolio value: 100000\n",
      "Final portfolio value: 130064.7890625\n",
      "Final accumulative portfolio return: 1.300647890625\n",
      "Maximum DrawDown: -0.15932597683099847\n",
      "Sharpe ratio: 0.8897305070842426\n",
      "=================================\n"
     ]
    },
    {
     "name": "stderr",
     "output_type": "stream",
     "text": [
      " 24%|██▍       | 24/100 [16:38<54:31, 43.04s/it]"
     ]
    },
    {
     "name": "stdout",
     "output_type": "stream",
     "text": [
      "Validation performance at episode 24: -2.414216472794018\n",
      "No improvement for 7 validation(s).\n",
      "=================================\n",
      "Initial portfolio value: 100000\n",
      "Final portfolio value: 244754.375\n",
      "Final accumulative portfolio return: 2.44754375\n",
      "Maximum DrawDown: -0.3525515967875802\n",
      "Sharpe ratio: 0.781476654837816\n",
      "=================================\n"
     ]
    },
    {
     "name": "stderr",
     "output_type": "stream",
     "text": [
      " 25%|██▌       | 25/100 [17:16<51:52, 41.49s/it]"
     ]
    },
    {
     "name": "stdout",
     "output_type": "stream",
     "text": [
      "=================================\n",
      "Initial portfolio value: 100000\n",
      "Final portfolio value: 244745.328125\n",
      "Final accumulative portfolio return: 2.44745328125\n",
      "Maximum DrawDown: -0.3525587887924061\n",
      "Sharpe ratio: 0.7814385344815499\n",
      "=================================\n"
     ]
    },
    {
     "name": "stderr",
     "output_type": "stream",
     "text": [
      " 26%|██▌       | 26/100 [17:54<49:55, 40.48s/it]"
     ]
    },
    {
     "name": "stdout",
     "output_type": "stream",
     "text": [
      "=================================\n",
      "Initial portfolio value: 100000\n",
      "Final portfolio value: 244756.96875\n",
      "Final accumulative portfolio return: 2.4475696875\n",
      "Maximum DrawDown: -0.3525595366763531\n",
      "Sharpe ratio: 0.7814674025290879\n",
      "=================================\n",
      "=================================\n",
      "Initial portfolio value: 100000\n",
      "Final portfolio value: 130064.2578125\n",
      "Final accumulative portfolio return: 1.300642578125\n",
      "Maximum DrawDown: -0.15933577926964015\n",
      "Sharpe ratio: 0.8896932964972247\n",
      "=================================\n"
     ]
    },
    {
     "name": "stderr",
     "output_type": "stream",
     "text": [
      " 27%|██▋       | 27/100 [18:43<52:21, 43.04s/it]"
     ]
    },
    {
     "name": "stdout",
     "output_type": "stream",
     "text": [
      "Validation performance at episode 27: -2.4142310173680808\n",
      "No improvement for 8 validation(s).\n",
      "=================================\n",
      "Initial portfolio value: 100000\n",
      "Final portfolio value: 244752.234375\n",
      "Final accumulative portfolio return: 2.44752234375\n",
      "Maximum DrawDown: -0.35256424943567966\n",
      "Sharpe ratio: 0.7814453433367813\n",
      "=================================\n"
     ]
    },
    {
     "name": "stderr",
     "output_type": "stream",
     "text": [
      " 28%|██▊       | 28/100 [19:21<49:44, 41.44s/it]"
     ]
    },
    {
     "name": "stdout",
     "output_type": "stream",
     "text": [
      "=================================\n",
      "Initial portfolio value: 100000\n",
      "Final portfolio value: 244748.84375\n",
      "Final accumulative portfolio return: 2.4474884375\n",
      "Maximum DrawDown: -0.3525692908559177\n",
      "Sharpe ratio: 0.7814277378895518\n",
      "=================================\n"
     ]
    },
    {
     "name": "stderr",
     "output_type": "stream",
     "text": [
      " 29%|██▉       | 29/100 [19:59<47:52, 40.45s/it]"
     ]
    },
    {
     "name": "stdout",
     "output_type": "stream",
     "text": [
      "=================================\n",
      "Initial portfolio value: 100000\n",
      "Final portfolio value: 244754.328125\n",
      "Final accumulative portfolio return: 2.44754328125\n",
      "Maximum DrawDown: -0.35257291027861837\n",
      "Sharpe ratio: 0.7814388662628108\n",
      "=================================\n",
      "=================================\n",
      "Initial portfolio value: 100000\n",
      "Final portfolio value: 130066.65625\n",
      "Final accumulative portfolio return: 1.3006665625\n",
      "Maximum DrawDown: -0.15933873180162206\n",
      "Sharpe ratio: 0.8897179179740187\n",
      "=================================\n"
     ]
    },
    {
     "name": "stderr",
     "output_type": "stream",
     "text": [
      " 30%|███       | 30/100 [20:48<50:09, 43.00s/it]"
     ]
    },
    {
     "name": "stdout",
     "output_type": "stream",
     "text": [
      "Validation performance at episode 30: -2.414215396213454\n",
      "No improvement for 9 validation(s).\n",
      "=================================\n",
      "Initial portfolio value: 100000\n",
      "Final portfolio value: 244755.8125\n",
      "Final accumulative portfolio return: 2.447558125\n",
      "Maximum DrawDown: -0.352575963560277\n",
      "Sharpe ratio: 0.7814354560551624\n",
      "=================================\n"
     ]
    },
    {
     "name": "stderr",
     "output_type": "stream",
     "text": [
      " 31%|███       | 31/100 [21:27<48:01, 41.76s/it]"
     ]
    },
    {
     "name": "stdout",
     "output_type": "stream",
     "text": [
      "=================================\n",
      "Initial portfolio value: 100000\n",
      "Final portfolio value: 244765.953125\n",
      "Final accumulative portfolio return: 2.44765953125\n",
      "Maximum DrawDown: -0.352578718364292\n",
      "Sharpe ratio: 0.7814614304138878\n",
      "=================================\n"
     ]
    },
    {
     "name": "stderr",
     "output_type": "stream",
     "text": [
      " 32%|███▏      | 32/100 [22:05<46:01, 40.61s/it]"
     ]
    },
    {
     "name": "stdout",
     "output_type": "stream",
     "text": [
      "=================================\n",
      "Initial portfolio value: 100000\n",
      "Final portfolio value: 244765.71875\n",
      "Final accumulative portfolio return: 2.4476571875\n",
      "Maximum DrawDown: -0.35258119295295964\n",
      "Sharpe ratio: 0.7814585607708195\n",
      "=================================\n",
      "=================================\n",
      "Initial portfolio value: 100000\n",
      "Final portfolio value: 130070.34375\n",
      "Final accumulative portfolio return: 1.3007034375\n",
      "Maximum DrawDown: -0.15933741007326296\n",
      "Sharpe ratio: 0.8897934233116458\n",
      "=================================\n"
     ]
    },
    {
     "name": "stderr",
     "output_type": "stream",
     "text": [
      " 32%|███▏      | 32/100 [22:54<48:41, 42.97s/it]"
     ]
    },
    {
     "name": "stdout",
     "output_type": "stream",
     "text": [
      "Validation performance at episode 33: -2.414171922260744\n",
      "No improvement for 10 validation(s).\n",
      "Early stopping due to no improvement on validation set.\n",
      "Loaded best model based on validation performance.\n"
     ]
    },
    {
     "name": "stderr",
     "output_type": "stream",
     "text": [
      "\n",
      "C:\\Users\\xutia\\AppData\\Local\\Temp\\ipykernel_28184\\320573626.py:59: FutureWarning: You are using `torch.load` with `weights_only=False` (the current default value), which uses the default pickle module implicitly. It is possible to construct malicious pickle data which will execute arbitrary code during unpickling (See https://github.com/pytorch/pytorch/blob/main/SECURITY.md#untrusted-models for more details). In a future release, the default value for `weights_only` will be flipped to `True`. This limits the functions that could be executed during unpickling. Arbitrary objects will no longer be allowed to be loaded via this mode unless they are explicitly allowlisted by the user via `torch.serialization.add_safe_globals`. We recommend you start setting `weights_only=True` for any use case where you don't have full control of the loaded file. Please open an issue on GitHub for any issues related to this experimental feature.\n",
      "  EIIE_policy.load_state_dict(torch.load(model_filename))\n"
     ]
    },
    {
     "name": "stdout",
     "output_type": "stream",
     "text": [
      "=================================\n",
      "Initial portfolio value: 100000\n",
      "Final portfolio value: 239366.765625\n",
      "Final accumulative portfolio return: 2.39366765625\n",
      "Maximum DrawDown: -0.3497928306566783\n",
      "Sharpe ratio: 0.7754592233461253\n",
      "=================================\n",
      "Metrics - train_final_value: 239366.765625, train_drawdown: -0.34979283065667827, train_sharpe: 0.7759076928251264, train_cumulative: 2.39366765625\n",
      "=================================\n",
      "Initial portfolio value: 100000\n",
      "Final portfolio value: 128731.0859375\n",
      "Final accumulative portfolio return: 1.287310859375\n",
      "Maximum DrawDown: -0.15637196484001048\n",
      "Sharpe ratio: 0.8754371542262736\n",
      "=================================\n",
      "Metrics - test_final_value: 128731.0859375, test_drawdown: -0.15637196484001045, test_sharpe: 0.877291817723817, test_cumulative: 1.287310859375\n",
      "Training model with TIME_WINDOW=30, K_SIZE=5, CONV_MID=20, CONV_FINAL=5, LEARNING_RATE=0.01\n"
     ]
    },
    {
     "name": "stderr",
     "output_type": "stream",
     "text": [
      "  0%|          | 0/100 [00:00<?, ?it/s]"
     ]
    },
    {
     "name": "stdout",
     "output_type": "stream",
     "text": [
      "=================================\n",
      "Initial portfolio value: 100000\n",
      "Final portfolio value: 264136.21875\n",
      "Final accumulative portfolio return: 2.6413621875\n",
      "Maximum DrawDown: -0.3075158713712678\n",
      "Sharpe ratio: 0.8598761469013281\n",
      "=================================\n"
     ]
    },
    {
     "name": "stderr",
     "output_type": "stream",
     "text": [
      "  1%|          | 1/100 [00:37<1:02:20, 37.78s/it]"
     ]
    },
    {
     "name": "stdout",
     "output_type": "stream",
     "text": [
      "=================================\n",
      "Initial portfolio value: 100000\n",
      "Final portfolio value: 411131.40625\n",
      "Final accumulative portfolio return: 4.1113140625\n",
      "Maximum DrawDown: -0.3015428117575035\n",
      "Sharpe ratio: 1.0386721617126276\n",
      "=================================\n"
     ]
    },
    {
     "name": "stderr",
     "output_type": "stream",
     "text": [
      "  2%|▏         | 2/100 [01:15<1:01:54, 37.90s/it]"
     ]
    },
    {
     "name": "stdout",
     "output_type": "stream",
     "text": [
      "=================================\n",
      "Initial portfolio value: 100000\n",
      "Final portfolio value: 574702.125\n",
      "Final accumulative portfolio return: 5.74702125\n",
      "Maximum DrawDown: -0.2992964432468017\n",
      "Sharpe ratio: 1.185138050381765\n",
      "=================================\n",
      "=================================\n",
      "Initial portfolio value: 100000\n",
      "Final portfolio value: 172618.515625\n",
      "Final accumulative portfolio return: 1.72618515625\n",
      "Maximum DrawDown: -0.2143896557212699\n",
      "Sharpe ratio: 1.2829093157976743\n",
      "=================================\n"
     ]
    },
    {
     "name": "stderr",
     "output_type": "stream",
     "text": [
      "  3%|▎         | 3/100 [02:04<1:08:54, 42.63s/it]"
     ]
    },
    {
     "name": "stdout",
     "output_type": "stream",
     "text": [
      "Validation performance at episode 3: -1.7470109544460604\n",
      "New best validation performance: -1.7470109544460604\n",
      "=================================\n",
      "Initial portfolio value: 100000\n",
      "Final portfolio value: 687948.0\n",
      "Final accumulative portfolio return: 6.87948\n",
      "Maximum DrawDown: -0.28626585233411295\n",
      "Sharpe ratio: 1.2159122111481206\n",
      "=================================\n"
     ]
    },
    {
     "name": "stderr",
     "output_type": "stream",
     "text": [
      "  4%|▍         | 4/100 [02:42<1:05:20, 40.84s/it]"
     ]
    },
    {
     "name": "stdout",
     "output_type": "stream",
     "text": [
      "=================================\n",
      "Initial portfolio value: 100000\n",
      "Final portfolio value: 817930.625\n",
      "Final accumulative portfolio return: 8.17930625\n",
      "Maximum DrawDown: -0.2798426061690985\n",
      "Sharpe ratio: 1.296405727340635\n",
      "=================================\n"
     ]
    },
    {
     "name": "stderr",
     "output_type": "stream",
     "text": [
      "  5%|▌         | 5/100 [03:20<1:03:13, 39.93s/it]"
     ]
    },
    {
     "name": "stdout",
     "output_type": "stream",
     "text": [
      "=================================\n",
      "Initial portfolio value: 100000\n",
      "Final portfolio value: 905000.125\n",
      "Final accumulative portfolio return: 9.05000125\n",
      "Maximum DrawDown: -0.2817687506438471\n",
      "Sharpe ratio: 1.3362525956518339\n",
      "=================================\n",
      "=================================\n",
      "Initial portfolio value: 100000\n",
      "Final portfolio value: 171480.078125\n",
      "Final accumulative portfolio return: 1.71480078125\n",
      "Maximum DrawDown: -0.2751664769591555\n",
      "Sharpe ratio: 1.1769455080661846\n",
      "=================================\n"
     ]
    },
    {
     "name": "stderr",
     "output_type": "stream",
     "text": [
      "  6%|▌         | 6/100 [04:08<1:07:02, 42.79s/it]"
     ]
    },
    {
     "name": "stdout",
     "output_type": "stream",
     "text": [
      "Validation performance at episode 6: -1.8551413959673662\n",
      "No improvement for 1 validation(s).\n",
      "=================================\n",
      "Initial portfolio value: 100000\n",
      "Final portfolio value: 1167823.75\n",
      "Final accumulative portfolio return: 11.6782375\n",
      "Maximum DrawDown: -0.2802749642374808\n",
      "Sharpe ratio: 1.5059543876669343\n",
      "=================================\n"
     ]
    },
    {
     "name": "stderr",
     "output_type": "stream",
     "text": [
      "  7%|▋         | 7/100 [04:46<1:03:59, 41.28s/it]"
     ]
    },
    {
     "name": "stdout",
     "output_type": "stream",
     "text": [
      "=================================\n",
      "Initial portfolio value: 100000\n",
      "Final portfolio value: 1227467.375\n",
      "Final accumulative portfolio return: 12.27467375\n",
      "Maximum DrawDown: -0.2947261659104836\n",
      "Sharpe ratio: 1.510018476779599\n",
      "=================================\n"
     ]
    },
    {
     "name": "stderr",
     "output_type": "stream",
     "text": [
      "  8%|▊         | 8/100 [05:25<1:01:47, 40.30s/it]"
     ]
    },
    {
     "name": "stdout",
     "output_type": "stream",
     "text": [
      "=================================\n",
      "Initial portfolio value: 100000\n",
      "Final portfolio value: 1382736.75\n",
      "Final accumulative portfolio return: 13.8273675\n",
      "Maximum DrawDown: -0.2817965465680966\n",
      "Sharpe ratio: 1.57705785111886\n",
      "=================================\n",
      "=================================\n",
      "Initial portfolio value: 100000\n",
      "Final portfolio value: 200120.96875\n",
      "Final accumulative portfolio return: 2.0012096875\n",
      "Maximum DrawDown: -0.19902497572478461\n",
      "Sharpe ratio: 1.4981462478910363\n",
      "=================================\n"
     ]
    },
    {
     "name": "stderr",
     "output_type": "stream",
     "text": [
      "  9%|▉         | 9/100 [06:14<1:05:12, 42.99s/it]"
     ]
    },
    {
     "name": "stdout",
     "output_type": "stream",
     "text": [
      "Validation performance at episode 9: -1.583259759250961\n",
      "New best validation performance: -1.583259759250961\n",
      "=================================\n",
      "Initial portfolio value: 100000\n",
      "Final portfolio value: 1501877.25\n",
      "Final accumulative portfolio return: 15.0187725\n",
      "Maximum DrawDown: -0.28038985076117096\n",
      "Sharpe ratio: 1.6166326750513895\n",
      "=================================\n"
     ]
    },
    {
     "name": "stderr",
     "output_type": "stream",
     "text": [
      " 10%|█         | 10/100 [06:52<1:02:14, 41.50s/it]"
     ]
    },
    {
     "name": "stdout",
     "output_type": "stream",
     "text": [
      "=================================\n",
      "Initial portfolio value: 100000\n",
      "Final portfolio value: 1553097.125\n",
      "Final accumulative portfolio return: 15.53097125\n",
      "Maximum DrawDown: -0.2803909956896178\n",
      "Sharpe ratio: 1.6318431946917096\n",
      "=================================\n"
     ]
    },
    {
     "name": "stderr",
     "output_type": "stream",
     "text": [
      " 11%|█         | 11/100 [07:30<1:00:05, 40.51s/it]"
     ]
    },
    {
     "name": "stdout",
     "output_type": "stream",
     "text": [
      "=================================\n",
      "Initial portfolio value: 100000\n",
      "Final portfolio value: 1307032.5\n",
      "Final accumulative portfolio return: 13.070325\n",
      "Maximum DrawDown: -0.3505574005563614\n",
      "Sharpe ratio: 1.490142928298537\n",
      "=================================\n",
      "=================================\n",
      "Initial portfolio value: 100000\n",
      "Final portfolio value: 189908.03125\n",
      "Final accumulative portfolio return: 1.8990803125\n",
      "Maximum DrawDown: -0.24323641272179364\n",
      "Sharpe ratio: 1.358199235671945\n",
      "=================================\n"
     ]
    },
    {
     "name": "stderr",
     "output_type": "stream",
     "text": [
      " 12%|█▏        | 12/100 [08:19<1:03:04, 43.01s/it]"
     ]
    },
    {
     "name": "stdout",
     "output_type": "stream",
     "text": [
      "Validation performance at episode 12: -1.6449871090935944\n",
      "No improvement for 1 validation(s).\n",
      "=================================\n",
      "Initial portfolio value: 100000\n",
      "Final portfolio value: 1311331.5\n",
      "Final accumulative portfolio return: 13.113315\n",
      "Maximum DrawDown: -0.2803928266669835\n",
      "Sharpe ratio: 1.551056968887631\n",
      "=================================\n"
     ]
    },
    {
     "name": "stderr",
     "output_type": "stream",
     "text": [
      " 13%|█▎        | 13/100 [08:57<1:00:12, 41.52s/it]"
     ]
    },
    {
     "name": "stdout",
     "output_type": "stream",
     "text": [
      "=================================\n",
      "Initial portfolio value: 100000\n",
      "Final portfolio value: 1215857.0\n",
      "Final accumulative portfolio return: 12.15857\n",
      "Maximum DrawDown: -0.2957275246150839\n",
      "Sharpe ratio: 1.4583402674207702\n",
      "=================================\n"
     ]
    },
    {
     "name": "stderr",
     "output_type": "stream",
     "text": [
      " 14%|█▍        | 14/100 [09:35<58:05, 40.53s/it]  "
     ]
    },
    {
     "name": "stdout",
     "output_type": "stream",
     "text": [
      "=================================\n",
      "Initial portfolio value: 100000\n",
      "Final portfolio value: 1508301.75\n",
      "Final accumulative portfolio return: 15.0830175\n",
      "Maximum DrawDown: -0.2803141043372269\n",
      "Sharpe ratio: 1.5871236844702772\n",
      "=================================\n",
      "=================================\n",
      "Initial portfolio value: 100000\n",
      "Final portfolio value: 192554.6875\n",
      "Final accumulative portfolio return: 1.925546875\n",
      "Maximum DrawDown: -0.2342841491784372\n",
      "Sharpe ratio: 1.3750037923297762\n",
      "=================================\n"
     ]
    },
    {
     "name": "stderr",
     "output_type": "stream",
     "text": [
      " 15%|█▌        | 15/100 [10:24<1:01:10, 43.19s/it]"
     ]
    },
    {
     "name": "stdout",
     "output_type": "stream",
     "text": [
      "Validation performance at episode 15: -1.6187968305299263\n",
      "No improvement for 2 validation(s).\n",
      "=================================\n",
      "Initial portfolio value: 100000\n",
      "Final portfolio value: 1516239.25\n",
      "Final accumulative portfolio return: 15.1623925\n",
      "Maximum DrawDown: -0.28039291788927867\n",
      "Sharpe ratio: 1.6132405608391236\n",
      "=================================\n"
     ]
    },
    {
     "name": "stderr",
     "output_type": "stream",
     "text": [
      " 16%|█▌        | 16/100 [11:03<58:28, 41.77s/it]  "
     ]
    },
    {
     "name": "stdout",
     "output_type": "stream",
     "text": [
      "=================================\n",
      "Initial portfolio value: 100000\n",
      "Final portfolio value: 1563368.0\n",
      "Final accumulative portfolio return: 15.63368\n",
      "Maximum DrawDown: -0.28039299652163585\n",
      "Sharpe ratio: 1.619304843645261\n",
      "=================================\n"
     ]
    },
    {
     "name": "stderr",
     "output_type": "stream",
     "text": [
      " 17%|█▋        | 17/100 [11:41<56:23, 40.77s/it]"
     ]
    },
    {
     "name": "stdout",
     "output_type": "stream",
     "text": [
      "=================================\n",
      "Initial portfolio value: 100000\n",
      "Final portfolio value: 1730392.125\n",
      "Final accumulative portfolio return: 17.30392125\n",
      "Maximum DrawDown: -0.2803927786637904\n",
      "Sharpe ratio: 1.6707603929100503\n",
      "=================================\n",
      "=================================\n",
      "Initial portfolio value: 100000\n",
      "Final portfolio value: 154364.8125\n",
      "Final accumulative portfolio return: 1.543648125\n",
      "Maximum DrawDown: -0.19183263910588766\n",
      "Sharpe ratio: 0.9776478014549347\n",
      "=================================\n"
     ]
    },
    {
     "name": "stderr",
     "output_type": "stream",
     "text": [
      " 18%|█▊        | 18/100 [12:30<59:02, 43.20s/it]"
     ]
    },
    {
     "name": "stdout",
     "output_type": "stream",
     "text": [
      "Validation performance at episode 18: -2.6993772132911165\n",
      "No improvement for 3 validation(s).\n",
      "=================================\n",
      "Initial portfolio value: 100000\n",
      "Final portfolio value: 1683899.375\n",
      "Final accumulative portfolio return: 16.83899375\n",
      "Maximum DrawDown: -0.2803930022085718\n",
      "Sharpe ratio: 1.6596519090820208\n",
      "=================================\n"
     ]
    },
    {
     "name": "stderr",
     "output_type": "stream",
     "text": [
      " 19%|█▉        | 19/100 [13:09<56:25, 41.79s/it]"
     ]
    },
    {
     "name": "stdout",
     "output_type": "stream",
     "text": [
      "=================================\n",
      "Initial portfolio value: 100000\n",
      "Final portfolio value: 1428265.625\n",
      "Final accumulative portfolio return: 14.28265625\n",
      "Maximum DrawDown: -0.28038696982140987\n",
      "Sharpe ratio: 1.5646548484347158\n",
      "=================================\n"
     ]
    },
    {
     "name": "stderr",
     "output_type": "stream",
     "text": [
      " 20%|██        | 20/100 [13:47<54:20, 40.75s/it]"
     ]
    },
    {
     "name": "stdout",
     "output_type": "stream",
     "text": [
      "=================================\n",
      "Initial portfolio value: 100000\n",
      "Final portfolio value: 1414693.0\n",
      "Final accumulative portfolio return: 14.14693\n",
      "Maximum DrawDown: -0.28039311532747035\n",
      "Sharpe ratio: 1.5656290438253424\n",
      "=================================\n",
      "=================================\n",
      "Initial portfolio value: 100000\n",
      "Final portfolio value: 193355.5625\n",
      "Final accumulative portfolio return: 1.933555625\n",
      "Maximum DrawDown: -0.20181913531088091\n",
      "Sharpe ratio: 1.3934624326447433\n",
      "=================================\n"
     ]
    },
    {
     "name": "stderr",
     "output_type": "stream",
     "text": [
      " 21%|██        | 21/100 [14:37<57:09, 43.41s/it]"
     ]
    },
    {
     "name": "stdout",
     "output_type": "stream",
     "text": [
      "Validation performance at episode 21: -1.5824849190904149\n",
      "No improvement for 4 validation(s).\n",
      "=================================\n",
      "Initial portfolio value: 100000\n",
      "Final portfolio value: 1581561.5\n",
      "Final accumulative portfolio return: 15.815615\n",
      "Maximum DrawDown: -0.28039307003057945\n",
      "Sharpe ratio: 1.6207070144178954\n",
      "=================================\n"
     ]
    },
    {
     "name": "stderr",
     "output_type": "stream",
     "text": [
      " 22%|██▏       | 22/100 [15:15<54:34, 41.98s/it]"
     ]
    },
    {
     "name": "stdout",
     "output_type": "stream",
     "text": [
      "=================================\n",
      "Initial portfolio value: 100000\n",
      "Final portfolio value: 1402208.125\n",
      "Final accumulative portfolio return: 14.02208125\n",
      "Maximum DrawDown: -0.2803931053087523\n",
      "Sharpe ratio: 1.5720222619751114\n",
      "=================================\n"
     ]
    },
    {
     "name": "stderr",
     "output_type": "stream",
     "text": [
      " 23%|██▎       | 23/100 [15:54<52:27, 40.87s/it]"
     ]
    },
    {
     "name": "stdout",
     "output_type": "stream",
     "text": [
      "=================================\n",
      "Initial portfolio value: 100000\n",
      "Final portfolio value: 1440034.0\n",
      "Final accumulative portfolio return: 14.40034\n",
      "Maximum DrawDown: -0.28039292186943854\n",
      "Sharpe ratio: 1.5575916800658287\n",
      "=================================\n",
      "=================================\n",
      "Initial portfolio value: 100000\n",
      "Final portfolio value: 133701.71875\n",
      "Final accumulative portfolio return: 1.3370171875\n",
      "Maximum DrawDown: -0.25363581511729727\n",
      "Sharpe ratio: 0.6987672197897239\n",
      "=================================\n"
     ]
    },
    {
     "name": "stderr",
     "output_type": "stream",
     "text": [
      " 24%|██▍       | 24/100 [16:43<55:02, 43.45s/it]"
     ]
    },
    {
     "name": "stdout",
     "output_type": "stream",
     "text": [
      "Validation performance at episode 24: -3.355266204164499\n",
      "No improvement for 5 validation(s).\n",
      "=================================\n",
      "Initial portfolio value: 100000\n",
      "Final portfolio value: 1420377.25\n",
      "Final accumulative portfolio return: 14.2037725\n",
      "Maximum DrawDown: -0.2803926159590959\n",
      "Sharpe ratio: 1.5553077617503606\n",
      "=================================\n"
     ]
    },
    {
     "name": "stderr",
     "output_type": "stream",
     "text": [
      " 25%|██▌       | 25/100 [17:23<53:07, 42.50s/it]"
     ]
    },
    {
     "name": "stdout",
     "output_type": "stream",
     "text": [
      "=================================\n",
      "Initial portfolio value: 100000\n",
      "Final portfolio value: 1581378.0\n",
      "Final accumulative portfolio return: 15.81378\n",
      "Maximum DrawDown: -0.2803556724991637\n",
      "Sharpe ratio: 1.5899446986277153\n",
      "=================================\n"
     ]
    },
    {
     "name": "stderr",
     "output_type": "stream",
     "text": [
      " 26%|██▌       | 26/100 [18:02<50:53, 41.27s/it]"
     ]
    },
    {
     "name": "stdout",
     "output_type": "stream",
     "text": [
      "=================================\n",
      "Initial portfolio value: 100000\n",
      "Final portfolio value: 1567991.25\n",
      "Final accumulative portfolio return: 15.6799125\n",
      "Maximum DrawDown: -0.2803929743079997\n",
      "Sharpe ratio: 1.6098586858794317\n",
      "=================================\n",
      "=================================\n",
      "Initial portfolio value: 100000\n",
      "Final portfolio value: 195583.25\n",
      "Final accumulative portfolio return: 1.9558325\n",
      "Maximum DrawDown: -0.20071281596655421\n",
      "Sharpe ratio: 1.387250088657129\n",
      "=================================\n"
     ]
    },
    {
     "name": "stderr",
     "output_type": "stream",
     "text": [
      " 27%|██▋       | 27/100 [18:50<52:56, 43.51s/it]"
     ]
    },
    {
     "name": "stdout",
     "output_type": "stream",
     "text": [
      "Validation performance at episode 27: -1.61069270053845\n",
      "No improvement for 6 validation(s).\n",
      "=================================\n",
      "Initial portfolio value: 100000\n",
      "Final portfolio value: 1055586.0\n",
      "Final accumulative portfolio return: 10.55586\n",
      "Maximum DrawDown: -0.4229458730316171\n",
      "Sharpe ratio: 1.3410075088686988\n",
      "=================================\n"
     ]
    },
    {
     "name": "stderr",
     "output_type": "stream",
     "text": [
      " 28%|██▊       | 28/100 [19:29<50:16, 41.90s/it]"
     ]
    },
    {
     "name": "stdout",
     "output_type": "stream",
     "text": [
      "=================================\n",
      "Initial portfolio value: 100000\n",
      "Final portfolio value: 1863874.25\n",
      "Final accumulative portfolio return: 18.6387425\n",
      "Maximum DrawDown: -0.280380949277264\n",
      "Sharpe ratio: 1.681624941251552\n",
      "=================================\n"
     ]
    },
    {
     "name": "stderr",
     "output_type": "stream",
     "text": [
      " 29%|██▉       | 29/100 [20:07<48:14, 40.76s/it]"
     ]
    },
    {
     "name": "stdout",
     "output_type": "stream",
     "text": [
      "=================================\n",
      "Initial portfolio value: 100000\n",
      "Final portfolio value: 1544822.625\n",
      "Final accumulative portfolio return: 15.44822625\n",
      "Maximum DrawDown: -0.2803929077158577\n",
      "Sharpe ratio: 1.6032426845716417\n",
      "=================================\n",
      "=================================\n",
      "Initial portfolio value: 100000\n",
      "Final portfolio value: 143630.609375\n",
      "Final accumulative portfolio return: 1.43630609375\n",
      "Maximum DrawDown: -0.2268630709923909\n",
      "Sharpe ratio: 0.8438945431247853\n",
      "=================================\n"
     ]
    },
    {
     "name": "stderr",
     "output_type": "stream",
     "text": [
      " 30%|███       | 30/100 [20:56<50:25, 43.21s/it]"
     ]
    },
    {
     "name": "stdout",
     "output_type": "stream",
     "text": [
      "Validation performance at episode 30: -3.3351838599804693\n",
      "No improvement for 7 validation(s).\n",
      "=================================\n",
      "Initial portfolio value: 100000\n",
      "Final portfolio value: 1606561.625\n",
      "Final accumulative portfolio return: 16.06561625\n",
      "Maximum DrawDown: -0.2803930648845734\n",
      "Sharpe ratio: 1.6253890833701294\n",
      "=================================\n"
     ]
    },
    {
     "name": "stderr",
     "output_type": "stream",
     "text": [
      " 31%|███       | 31/100 [21:34<47:52, 41.63s/it]"
     ]
    },
    {
     "name": "stdout",
     "output_type": "stream",
     "text": [
      "=================================\n",
      "Initial portfolio value: 100000\n",
      "Final portfolio value: 1643055.375\n",
      "Final accumulative portfolio return: 16.43055375\n",
      "Maximum DrawDown: -0.28039296139178493\n",
      "Sharpe ratio: 1.6345316818617033\n",
      "=================================\n"
     ]
    },
    {
     "name": "stderr",
     "output_type": "stream",
     "text": [
      " 32%|███▏      | 32/100 [22:12<46:07, 40.70s/it]"
     ]
    },
    {
     "name": "stdout",
     "output_type": "stream",
     "text": [
      "=================================\n",
      "Initial portfolio value: 100000\n",
      "Final portfolio value: 1499930.5\n",
      "Final accumulative portfolio return: 14.999305\n",
      "Maximum DrawDown: -0.2803928190543903\n",
      "Sharpe ratio: 1.5748610588415684\n",
      "=================================\n",
      "=================================\n",
      "Initial portfolio value: 100000\n",
      "Final portfolio value: 144665.234375\n",
      "Final accumulative portfolio return: 1.44665234375\n",
      "Maximum DrawDown: -0.2191244349682917\n",
      "Sharpe ratio: 0.8381190326623836\n",
      "=================================\n"
     ]
    },
    {
     "name": "stderr",
     "output_type": "stream",
     "text": [
      " 33%|███▎      | 33/100 [23:02<48:35, 43.52s/it]"
     ]
    },
    {
     "name": "stdout",
     "output_type": "stream",
     "text": [
      "Validation performance at episode 33: -3.1265865852595227\n",
      "No improvement for 8 validation(s).\n",
      "=================================\n",
      "Initial portfolio value: 100000\n",
      "Final portfolio value: 1620676.875\n",
      "Final accumulative portfolio return: 16.20676875\n",
      "Maximum DrawDown: -0.2803931246907\n",
      "Sharpe ratio: 1.6167030900253934\n",
      "=================================\n"
     ]
    },
    {
     "name": "stderr",
     "output_type": "stream",
     "text": [
      " 34%|███▍      | 34/100 [23:48<48:29, 44.08s/it]"
     ]
    },
    {
     "name": "stdout",
     "output_type": "stream",
     "text": [
      "=================================\n",
      "Initial portfolio value: 100000\n",
      "Final portfolio value: 1673854.5\n",
      "Final accumulative portfolio return: 16.738545\n",
      "Maximum DrawDown: -0.28039283670533666\n",
      "Sharpe ratio: 1.6390243142543255\n",
      "=================================\n"
     ]
    },
    {
     "name": "stderr",
     "output_type": "stream",
     "text": [
      " 35%|███▌      | 35/100 [24:34<48:24, 44.68s/it]"
     ]
    },
    {
     "name": "stdout",
     "output_type": "stream",
     "text": [
      "=================================\n",
      "Initial portfolio value: 100000\n",
      "Final portfolio value: 1568283.375\n",
      "Final accumulative portfolio return: 15.68283375\n",
      "Maximum DrawDown: -0.2803933617029327\n",
      "Sharpe ratio: 1.5975103727363749\n",
      "=================================\n",
      "=================================\n",
      "Initial portfolio value: 100000\n",
      "Final portfolio value: 169638.390625\n",
      "Final accumulative portfolio return: 1.69638390625\n",
      "Maximum DrawDown: -0.20964314498639058\n",
      "Sharpe ratio: 1.1279866181305171\n",
      "=================================\n"
     ]
    },
    {
     "name": "stderr",
     "output_type": "stream",
     "text": [
      " 36%|███▌      | 36/100 [25:24<49:23, 46.30s/it]"
     ]
    },
    {
     "name": "stdout",
     "output_type": "stream",
     "text": [
      "Validation performance at episode 36: -1.9808532517610116\n",
      "No improvement for 9 validation(s).\n",
      "=================================\n",
      "Initial portfolio value: 100000\n",
      "Final portfolio value: 1637665.75\n",
      "Final accumulative portfolio return: 16.3766575\n",
      "Maximum DrawDown: -0.2803930867461688\n",
      "Sharpe ratio: 1.6227125503772901\n",
      "=================================\n"
     ]
    },
    {
     "name": "stderr",
     "output_type": "stream",
     "text": [
      " 37%|███▋      | 37/100 [26:02<46:00, 43.81s/it]"
     ]
    },
    {
     "name": "stdout",
     "output_type": "stream",
     "text": [
      "=================================\n",
      "Initial portfolio value: 100000\n",
      "Final portfolio value: 1737192.5\n",
      "Final accumulative portfolio return: 17.371925\n",
      "Maximum DrawDown: -0.2803970053008107\n",
      "Sharpe ratio: 1.6560399121659084\n",
      "=================================\n"
     ]
    },
    {
     "name": "stderr",
     "output_type": "stream",
     "text": [
      " 38%|███▊      | 38/100 [26:40<43:39, 42.26s/it]"
     ]
    },
    {
     "name": "stdout",
     "output_type": "stream",
     "text": [
      "=================================\n",
      "Initial portfolio value: 100000\n",
      "Final portfolio value: 1639748.375\n",
      "Final accumulative portfolio return: 16.39748375\n",
      "Maximum DrawDown: -0.2803929217129313\n",
      "Sharpe ratio: 1.641607445596208\n",
      "=================================\n",
      "=================================\n",
      "Initial portfolio value: 100000\n",
      "Final portfolio value: 110811.1328125\n",
      "Final accumulative portfolio return: 1.108111328125\n",
      "Maximum DrawDown: -0.33422625126487093\n",
      "Sharpe ratio: 0.3361290964979765\n",
      "=================================\n"
     ]
    },
    {
     "name": "stderr",
     "output_type": "stream",
     "text": [
      " 38%|███▊      | 38/100 [27:30<44:52, 43.43s/it]"
     ]
    },
    {
     "name": "stdout",
     "output_type": "stream",
     "text": [
      "Validation performance at episode 39: -3.106529331270704\n",
      "No improvement for 10 validation(s).\n",
      "Early stopping due to no improvement on validation set.\n",
      "Loaded best model based on validation performance.\n"
     ]
    },
    {
     "name": "stderr",
     "output_type": "stream",
     "text": [
      "\n",
      "C:\\Users\\xutia\\AppData\\Local\\Temp\\ipykernel_28184\\320573626.py:59: FutureWarning: You are using `torch.load` with `weights_only=False` (the current default value), which uses the default pickle module implicitly. It is possible to construct malicious pickle data which will execute arbitrary code during unpickling (See https://github.com/pytorch/pytorch/blob/main/SECURITY.md#untrusted-models for more details). In a future release, the default value for `weights_only` will be flipped to `True`. This limits the functions that could be executed during unpickling. Arbitrary objects will no longer be allowed to be loaded via this mode unless they are explicitly allowlisted by the user via `torch.serialization.add_safe_globals`. We recommend you start setting `weights_only=True` for any use case where you don't have full control of the loaded file. Please open an issue on GitHub for any issues related to this experimental feature.\n",
      "  EIIE_policy.load_state_dict(torch.load(model_filename))\n"
     ]
    },
    {
     "name": "stdout",
     "output_type": "stream",
     "text": [
      "=================================\n",
      "Initial portfolio value: 100000\n",
      "Final portfolio value: 939149.1875\n",
      "Final accumulative portfolio return: 9.391491875\n",
      "Maximum DrawDown: -0.2803930123194268\n",
      "Sharpe ratio: 1.3805344894989116\n",
      "=================================\n",
      "Metrics - train_final_value: 939149.1875, train_drawdown: -0.2803930123194268, train_sharpe: 1.3813347364048012, train_cumulative: 9.391491875\n",
      "=================================\n",
      "Initial portfolio value: 100000\n",
      "Final portfolio value: 172244.625\n",
      "Final accumulative portfolio return: 1.72244625\n",
      "Maximum DrawDown: -0.22566888875381363\n",
      "Sharpe ratio: 1.1850138683321145\n",
      "=================================\n",
      "Metrics - test_final_value: 172244.625, test_drawdown: -0.22566888875381366, test_sharpe: 1.1875261738187577, test_cumulative: 1.72244625\n",
      "Training model with TIME_WINDOW=30, K_SIZE=5, CONV_MID=20, CONV_FINAL=5, LEARNING_RATE=0.02\n"
     ]
    },
    {
     "name": "stderr",
     "output_type": "stream",
     "text": [
      "  0%|          | 0/100 [00:00<?, ?it/s]"
     ]
    },
    {
     "name": "stdout",
     "output_type": "stream",
     "text": [
      "=================================\n",
      "Initial portfolio value: 100000\n",
      "Final portfolio value: 254458.015625\n",
      "Final accumulative portfolio return: 2.54458015625\n",
      "Maximum DrawDown: -0.3194990486071275\n",
      "Sharpe ratio: 0.8367117266689268\n",
      "=================================\n"
     ]
    },
    {
     "name": "stderr",
     "output_type": "stream",
     "text": [
      "  1%|          | 1/100 [00:37<1:02:30, 37.88s/it]"
     ]
    },
    {
     "name": "stdout",
     "output_type": "stream",
     "text": [
      "=================================\n",
      "Initial portfolio value: 100000\n",
      "Final portfolio value: 527209.875\n",
      "Final accumulative portfolio return: 5.27209875\n",
      "Maximum DrawDown: -0.28299742029142805\n",
      "Sharpe ratio: 1.1373261104465127\n",
      "=================================\n"
     ]
    },
    {
     "name": "stderr",
     "output_type": "stream",
     "text": [
      "  2%|▏         | 2/100 [01:16<1:02:09, 38.05s/it]"
     ]
    },
    {
     "name": "stdout",
     "output_type": "stream",
     "text": [
      "=================================\n",
      "Initial portfolio value: 100000\n",
      "Final portfolio value: 582179.3125\n",
      "Final accumulative portfolio return: 5.821793125\n",
      "Maximum DrawDown: -0.29801431521215727\n",
      "Sharpe ratio: 1.0791130146089127\n",
      "=================================\n",
      "=================================\n",
      "Initial portfolio value: 100000\n",
      "Final portfolio value: 181375.640625\n",
      "Final accumulative portfolio return: 1.81375640625\n",
      "Maximum DrawDown: -0.17856272016518548\n",
      "Sharpe ratio: 1.3444977249242136\n",
      "=================================\n"
     ]
    },
    {
     "name": "stderr",
     "output_type": "stream",
     "text": [
      "  3%|▎         | 3/100 [02:04<1:09:28, 42.97s/it]"
     ]
    },
    {
     "name": "stdout",
     "output_type": "stream",
     "text": [
      "Validation performance at episode 3: -1.7792338096315894\n",
      "New best validation performance: -1.7792338096315894\n",
      "=================================\n",
      "Initial portfolio value: 100000\n",
      "Final portfolio value: 764618.5\n",
      "Final accumulative portfolio return: 7.646185\n",
      "Maximum DrawDown: -0.2803924865446853\n",
      "Sharpe ratio: 1.2511639343837384\n",
      "=================================\n"
     ]
    },
    {
     "name": "stderr",
     "output_type": "stream",
     "text": [
      "  4%|▍         | 4/100 [02:43<1:05:45, 41.09s/it]"
     ]
    },
    {
     "name": "stdout",
     "output_type": "stream",
     "text": [
      "=================================\n",
      "Initial portfolio value: 100000\n",
      "Final portfolio value: 1120181.875\n",
      "Final accumulative portfolio return: 11.20181875\n",
      "Maximum DrawDown: -0.2827063200650489\n",
      "Sharpe ratio: 1.48147002476712\n",
      "=================================\n"
     ]
    },
    {
     "name": "stderr",
     "output_type": "stream",
     "text": [
      "  5%|▌         | 5/100 [03:21<1:03:32, 40.13s/it]"
     ]
    },
    {
     "name": "stdout",
     "output_type": "stream",
     "text": [
      "=================================\n",
      "Initial portfolio value: 100000\n",
      "Final portfolio value: 1267090.5\n",
      "Final accumulative portfolio return: 12.670905\n",
      "Maximum DrawDown: -0.28301871929982225\n",
      "Sharpe ratio: 1.508705331031808\n",
      "=================================\n",
      "=================================\n",
      "Initial portfolio value: 100000\n",
      "Final portfolio value: 170480.90625\n",
      "Final accumulative portfolio return: 1.7048090625\n",
      "Maximum DrawDown: -0.20932941198145272\n",
      "Sharpe ratio: 1.221059976271611\n",
      "=================================\n"
     ]
    },
    {
     "name": "stderr",
     "output_type": "stream",
     "text": [
      "  6%|▌         | 6/100 [04:10<1:07:31, 43.10s/it]"
     ]
    },
    {
     "name": "stdout",
     "output_type": "stream",
     "text": [
      "Validation performance at episode 6: -2.214701249217941\n",
      "No improvement for 1 validation(s).\n",
      "=================================\n",
      "Initial portfolio value: 100000\n",
      "Final portfolio value: 1055916.375\n",
      "Final accumulative portfolio return: 10.55916375\n",
      "Maximum DrawDown: -0.28039299753559166\n",
      "Sharpe ratio: 1.4501306629609951\n",
      "=================================\n"
     ]
    },
    {
     "name": "stderr",
     "output_type": "stream",
     "text": [
      "  7%|▋         | 7/100 [04:48<1:04:22, 41.54s/it]"
     ]
    },
    {
     "name": "stdout",
     "output_type": "stream",
     "text": [
      "=================================\n",
      "Initial portfolio value: 100000\n",
      "Final portfolio value: 505277.375\n",
      "Final accumulative portfolio return: 5.05277375\n",
      "Maximum DrawDown: -0.45295094725929375\n",
      "Sharpe ratio: 0.976861462671097\n",
      "=================================\n"
     ]
    },
    {
     "name": "stderr",
     "output_type": "stream",
     "text": [
      "  8%|▊         | 8/100 [05:26<1:02:06, 40.50s/it]"
     ]
    },
    {
     "name": "stdout",
     "output_type": "stream",
     "text": [
      "=================================\n",
      "Initial portfolio value: 100000\n",
      "Final portfolio value: 975185.5625\n",
      "Final accumulative portfolio return: 9.751855625\n",
      "Maximum DrawDown: -0.4268579604849547\n",
      "Sharpe ratio: 1.3084510383256678\n",
      "=================================\n",
      "=================================\n",
      "Initial portfolio value: 100000\n",
      "Final portfolio value: 199494.234375\n",
      "Final accumulative portfolio return: 1.99494234375\n",
      "Maximum DrawDown: -0.18138162399252333\n",
      "Sharpe ratio: 1.4332811050140757\n",
      "=================================\n"
     ]
    },
    {
     "name": "stderr",
     "output_type": "stream",
     "text": [
      "  9%|▉         | 9/100 [06:15<1:05:20, 43.08s/it]"
     ]
    },
    {
     "name": "stdout",
     "output_type": "stream",
     "text": [
      "Validation performance at episode 9: -1.5853927174506646\n",
      "New best validation performance: -1.5853927174506646\n",
      "=================================\n",
      "Initial portfolio value: 100000\n",
      "Final portfolio value: 1411589.125\n",
      "Final accumulative portfolio return: 14.11589125\n",
      "Maximum DrawDown: -0.29941086364482394\n",
      "Sharpe ratio: 1.5537041551287\n",
      "=================================\n"
     ]
    },
    {
     "name": "stderr",
     "output_type": "stream",
     "text": [
      " 10%|█         | 10/100 [06:54<1:02:36, 41.74s/it]"
     ]
    },
    {
     "name": "stdout",
     "output_type": "stream",
     "text": [
      "=================================\n",
      "Initial portfolio value: 100000\n",
      "Final portfolio value: 1404104.125\n",
      "Final accumulative portfolio return: 14.04104125\n",
      "Maximum DrawDown: -0.29074913636210686\n",
      "Sharpe ratio: 1.533561949208429\n",
      "=================================\n"
     ]
    },
    {
     "name": "stderr",
     "output_type": "stream",
     "text": [
      " 11%|█         | 11/100 [07:33<1:00:35, 40.85s/it]"
     ]
    },
    {
     "name": "stdout",
     "output_type": "stream",
     "text": [
      "=================================\n",
      "Initial portfolio value: 100000\n",
      "Final portfolio value: 1336027.5\n",
      "Final accumulative portfolio return: 13.360275\n",
      "Maximum DrawDown: -0.280393084828521\n",
      "Sharpe ratio: 1.5291060921099342\n",
      "=================================\n",
      "=================================\n",
      "Initial portfolio value: 100000\n",
      "Final portfolio value: 182641.515625\n",
      "Final accumulative portfolio return: 1.82641515625\n",
      "Maximum DrawDown: -0.19637596535623003\n",
      "Sharpe ratio: 1.278828416670673\n",
      "=================================\n"
     ]
    },
    {
     "name": "stderr",
     "output_type": "stream",
     "text": [
      " 12%|█▏        | 12/100 [08:22<1:03:33, 43.34s/it]"
     ]
    },
    {
     "name": "stdout",
     "output_type": "stream",
     "text": [
      "Validation performance at episode 12: -1.909712772490076\n",
      "No improvement for 1 validation(s).\n",
      "=================================\n",
      "Initial portfolio value: 100000\n",
      "Final portfolio value: 1557194.0\n",
      "Final accumulative portfolio return: 15.57194\n",
      "Maximum DrawDown: -0.28038027216490646\n",
      "Sharpe ratio: 1.5993586872630416\n",
      "=================================\n"
     ]
    },
    {
     "name": "stderr",
     "output_type": "stream",
     "text": [
      " 13%|█▎        | 13/100 [09:00<1:00:36, 41.80s/it]"
     ]
    },
    {
     "name": "stdout",
     "output_type": "stream",
     "text": [
      "=================================\n",
      "Initial portfolio value: 100000\n",
      "Final portfolio value: 1486040.75\n",
      "Final accumulative portfolio return: 14.8604075\n",
      "Maximum DrawDown: -0.2803929659294342\n",
      "Sharpe ratio: 1.584784016776445\n",
      "=================================\n"
     ]
    },
    {
     "name": "stderr",
     "output_type": "stream",
     "text": [
      " 14%|█▍        | 14/100 [09:38<58:25, 40.76s/it]  "
     ]
    },
    {
     "name": "stdout",
     "output_type": "stream",
     "text": [
      "=================================\n",
      "Initial portfolio value: 100000\n",
      "Final portfolio value: 1049412.0\n",
      "Final accumulative portfolio return: 10.49412\n",
      "Maximum DrawDown: -0.4147831123454252\n",
      "Sharpe ratio: 1.3414003755330328\n",
      "=================================\n",
      "=================================\n",
      "Initial portfolio value: 100000\n",
      "Final portfolio value: 195412.875\n",
      "Final accumulative portfolio return: 1.95412875\n",
      "Maximum DrawDown: -0.19590868135816175\n",
      "Sharpe ratio: 1.3796008549640866\n",
      "=================================\n"
     ]
    },
    {
     "name": "stderr",
     "output_type": "stream",
     "text": [
      " 15%|█▌        | 15/100 [10:27<1:01:07, 43.15s/it]"
     ]
    },
    {
     "name": "stdout",
     "output_type": "stream",
     "text": [
      "Validation performance at episode 15: -1.5994161029206837\n",
      "No improvement for 2 validation(s).\n",
      "=================================\n",
      "Initial portfolio value: 100000\n",
      "Final portfolio value: 1116763.625\n",
      "Final accumulative portfolio return: 11.16763625\n",
      "Maximum DrawDown: -0.3984957293889577\n",
      "Sharpe ratio: 1.3602407017690188\n",
      "=================================\n"
     ]
    },
    {
     "name": "stderr",
     "output_type": "stream",
     "text": [
      " 16%|█▌        | 16/100 [11:05<58:18, 41.65s/it]  "
     ]
    },
    {
     "name": "stdout",
     "output_type": "stream",
     "text": [
      "=================================\n",
      "Initial portfolio value: 100000\n",
      "Final portfolio value: 1023713.9375\n",
      "Final accumulative portfolio return: 10.237139375\n",
      "Maximum DrawDown: -0.40354258091441153\n",
      "Sharpe ratio: 1.3224666574136459\n",
      "=================================\n"
     ]
    },
    {
     "name": "stderr",
     "output_type": "stream",
     "text": [
      " 17%|█▋        | 17/100 [11:44<56:13, 40.65s/it]"
     ]
    },
    {
     "name": "stdout",
     "output_type": "stream",
     "text": [
      "=================================\n",
      "Initial portfolio value: 100000\n",
      "Final portfolio value: 1664756.125\n",
      "Final accumulative portfolio return: 16.64756125\n",
      "Maximum DrawDown: -0.2812092303022138\n",
      "Sharpe ratio: 1.6348530717047025\n",
      "=================================\n",
      "=================================\n",
      "Initial portfolio value: 100000\n",
      "Final portfolio value: 196815.09375\n",
      "Final accumulative portfolio return: 1.9681509375\n",
      "Maximum DrawDown: -0.2090151082361349\n",
      "Sharpe ratio: 1.4008422002572554\n",
      "=================================\n"
     ]
    },
    {
     "name": "stderr",
     "output_type": "stream",
     "text": [
      " 18%|█▊        | 18/100 [12:34<59:42, 43.69s/it]"
     ]
    },
    {
     "name": "stdout",
     "output_type": "stream",
     "text": [
      "Validation performance at episode 18: -1.610901519457828\n",
      "No improvement for 3 validation(s).\n",
      "=================================\n",
      "Initial portfolio value: 100000\n",
      "Final portfolio value: 1654173.375\n",
      "Final accumulative portfolio return: 16.54173375\n",
      "Maximum DrawDown: -0.28034145475893435\n",
      "Sharpe ratio: 1.632948532274238\n",
      "=================================\n"
     ]
    },
    {
     "name": "stderr",
     "output_type": "stream",
     "text": [
      " 19%|█▉        | 19/100 [13:13<56:49, 42.09s/it]"
     ]
    },
    {
     "name": "stdout",
     "output_type": "stream",
     "text": [
      "=================================\n",
      "Initial portfolio value: 100000\n",
      "Final portfolio value: 1773558.375\n",
      "Final accumulative portfolio return: 17.73558375\n",
      "Maximum DrawDown: -0.28039277519581174\n",
      "Sharpe ratio: 1.6713860168643007\n",
      "=================================\n"
     ]
    },
    {
     "name": "stderr",
     "output_type": "stream",
     "text": [
      " 20%|██        | 20/100 [13:51<54:36, 40.96s/it]"
     ]
    },
    {
     "name": "stdout",
     "output_type": "stream",
     "text": [
      "=================================\n",
      "Initial portfolio value: 100000\n",
      "Final portfolio value: 1738339.25\n",
      "Final accumulative portfolio return: 17.3833925\n",
      "Maximum DrawDown: -0.2797607040424319\n",
      "Sharpe ratio: 1.6534060423267278\n",
      "=================================\n",
      "=================================\n",
      "Initial portfolio value: 100000\n",
      "Final portfolio value: 178926.96875\n",
      "Final accumulative portfolio return: 1.7892696875\n",
      "Maximum DrawDown: -0.23772345392915284\n",
      "Sharpe ratio: 1.2269259763658458\n",
      "=================================\n"
     ]
    },
    {
     "name": "stderr",
     "output_type": "stream",
     "text": [
      " 21%|██        | 21/100 [14:40<57:11, 43.44s/it]"
     ]
    },
    {
     "name": "stdout",
     "output_type": "stream",
     "text": [
      "Validation performance at episode 21: -1.677290618472564\n",
      "No improvement for 4 validation(s).\n",
      "=================================\n",
      "Initial portfolio value: 100000\n",
      "Final portfolio value: 1781446.0\n",
      "Final accumulative portfolio return: 17.81446\n",
      "Maximum DrawDown: -0.2803870059856416\n",
      "Sharpe ratio: 1.6658521739620087\n",
      "=================================\n"
     ]
    },
    {
     "name": "stderr",
     "output_type": "stream",
     "text": [
      " 22%|██▏       | 22/100 [15:19<54:30, 41.93s/it]"
     ]
    },
    {
     "name": "stdout",
     "output_type": "stream",
     "text": [
      "=================================\n",
      "Initial portfolio value: 100000\n",
      "Final portfolio value: 1707262.75\n",
      "Final accumulative portfolio return: 17.0726275\n",
      "Maximum DrawDown: -0.2803929138380472\n",
      "Sharpe ratio: 1.646400297855141\n",
      "=================================\n"
     ]
    },
    {
     "name": "stderr",
     "output_type": "stream",
     "text": [
      " 23%|██▎       | 23/100 [15:57<52:24, 40.83s/it]"
     ]
    },
    {
     "name": "stdout",
     "output_type": "stream",
     "text": [
      "=================================\n",
      "Initial portfolio value: 100000\n",
      "Final portfolio value: 1151159.25\n",
      "Final accumulative portfolio return: 11.5115925\n",
      "Maximum DrawDown: -0.40767957866822646\n",
      "Sharpe ratio: 1.3935017703408734\n",
      "=================================\n",
      "=================================\n",
      "Initial portfolio value: 100000\n",
      "Final portfolio value: 166395.8125\n",
      "Final accumulative portfolio return: 1.663958125\n",
      "Maximum DrawDown: -0.2063450516767935\n",
      "Sharpe ratio: 1.1082606802950394\n",
      "=================================\n"
     ]
    },
    {
     "name": "stderr",
     "output_type": "stream",
     "text": [
      " 24%|██▍       | 24/100 [16:46<54:45, 43.23s/it]"
     ]
    },
    {
     "name": "stdout",
     "output_type": "stream",
     "text": [
      "Validation performance at episode 24: -2.358651947342942\n",
      "No improvement for 5 validation(s).\n",
      "=================================\n",
      "Initial portfolio value: 100000\n",
      "Final portfolio value: 1650853.875\n",
      "Final accumulative portfolio return: 16.50853875\n",
      "Maximum DrawDown: -0.28039271111821773\n",
      "Sharpe ratio: 1.656729504281603\n",
      "=================================\n"
     ]
    },
    {
     "name": "stderr",
     "output_type": "stream",
     "text": [
      " 25%|██▌       | 25/100 [17:25<52:20, 41.87s/it]"
     ]
    },
    {
     "name": "stdout",
     "output_type": "stream",
     "text": [
      "=================================\n",
      "Initial portfolio value: 100000\n",
      "Final portfolio value: 1428682.5\n",
      "Final accumulative portfolio return: 14.286825\n",
      "Maximum DrawDown: -0.3179871541364949\n",
      "Sharpe ratio: 1.5428519384336958\n",
      "=================================\n"
     ]
    },
    {
     "name": "stderr",
     "output_type": "stream",
     "text": [
      " 26%|██▌       | 26/100 [18:03<50:24, 40.87s/it]"
     ]
    },
    {
     "name": "stdout",
     "output_type": "stream",
     "text": [
      "=================================\n",
      "Initial portfolio value: 100000\n",
      "Final portfolio value: 1664953.625\n",
      "Final accumulative portfolio return: 16.64953625\n",
      "Maximum DrawDown: -0.29407098720143066\n",
      "Sharpe ratio: 1.6294556958887711\n",
      "=================================\n",
      "=================================\n",
      "Initial portfolio value: 100000\n",
      "Final portfolio value: 130043.203125\n",
      "Final accumulative portfolio return: 1.30043203125\n",
      "Maximum DrawDown: -0.24755457062881203\n",
      "Sharpe ratio: 0.6433546406363198\n",
      "=================================\n"
     ]
    },
    {
     "name": "stderr",
     "output_type": "stream",
     "text": [
      " 27%|██▋       | 27/100 [18:53<52:52, 43.46s/it]"
     ]
    },
    {
     "name": "stdout",
     "output_type": "stream",
     "text": [
      "Validation performance at episode 27: -3.3709950203815056\n",
      "No improvement for 6 validation(s).\n",
      "=================================\n",
      "Initial portfolio value: 100000\n",
      "Final portfolio value: 1774811.875\n",
      "Final accumulative portfolio return: 17.74811875\n",
      "Maximum DrawDown: -0.2778607975002261\n",
      "Sharpe ratio: 1.660901754630748\n",
      "=================================\n"
     ]
    },
    {
     "name": "stderr",
     "output_type": "stream",
     "text": [
      " 28%|██▊       | 28/100 [19:31<50:20, 41.95s/it]"
     ]
    },
    {
     "name": "stdout",
     "output_type": "stream",
     "text": [
      "=================================\n",
      "Initial portfolio value: 100000\n",
      "Final portfolio value: 1960124.0\n",
      "Final accumulative portfolio return: 19.60124\n",
      "Maximum DrawDown: -0.28356022699895955\n",
      "Sharpe ratio: 1.7111450795816538\n",
      "=================================\n"
     ]
    },
    {
     "name": "stderr",
     "output_type": "stream",
     "text": [
      " 29%|██▉       | 29/100 [20:09<48:18, 40.82s/it]"
     ]
    },
    {
     "name": "stdout",
     "output_type": "stream",
     "text": [
      "=================================\n",
      "Initial portfolio value: 100000\n",
      "Final portfolio value: 2032449.75\n",
      "Final accumulative portfolio return: 20.3244975\n",
      "Maximum DrawDown: -0.2794636654192356\n",
      "Sharpe ratio: 1.7293427291657177\n",
      "=================================\n",
      "=================================\n",
      "Initial portfolio value: 100000\n",
      "Final portfolio value: 133701.140625\n",
      "Final accumulative portfolio return: 1.33701140625\n",
      "Maximum DrawDown: -0.2774318975797363\n",
      "Sharpe ratio: 0.6911194298171996\n",
      "=================================\n"
     ]
    },
    {
     "name": "stderr",
     "output_type": "stream",
     "text": [
      " 30%|███       | 30/100 [20:59<50:41, 43.45s/it]"
     ]
    },
    {
     "name": "stdout",
     "output_type": "stream",
     "text": [
      "Validation performance at episode 30: -3.1361288723306044\n",
      "No improvement for 7 validation(s).\n",
      "=================================\n",
      "Initial portfolio value: 100000\n",
      "Final portfolio value: 1925508.875\n",
      "Final accumulative portfolio return: 19.25508875\n",
      "Maximum DrawDown: -0.2803614618534106\n",
      "Sharpe ratio: 1.711459398773042\n",
      "=================================\n"
     ]
    },
    {
     "name": "stderr",
     "output_type": "stream",
     "text": [
      " 31%|███       | 31/100 [21:37<48:10, 41.89s/it]"
     ]
    },
    {
     "name": "stdout",
     "output_type": "stream",
     "text": [
      "=================================\n",
      "Initial portfolio value: 100000\n",
      "Final portfolio value: 2208619.0\n",
      "Final accumulative portfolio return: 22.08619\n",
      "Maximum DrawDown: -0.2748190428586593\n",
      "Sharpe ratio: 1.770211536078263\n",
      "=================================\n"
     ]
    },
    {
     "name": "stderr",
     "output_type": "stream",
     "text": [
      " 32%|███▏      | 32/100 [22:15<46:08, 40.72s/it]"
     ]
    },
    {
     "name": "stdout",
     "output_type": "stream",
     "text": [
      "=================================\n",
      "Initial portfolio value: 100000\n",
      "Final portfolio value: 905633.25\n",
      "Final accumulative portfolio return: 9.0563325\n",
      "Maximum DrawDown: -0.42965503163484375\n",
      "Sharpe ratio: 1.2536627704759622\n",
      "=================================\n",
      "=================================\n",
      "Initial portfolio value: 100000\n",
      "Final portfolio value: 115209.2734375\n",
      "Final accumulative portfolio return: 1.152092734375\n",
      "Maximum DrawDown: -0.3525985919612198\n",
      "Sharpe ratio: 0.4053787380348823\n",
      "=================================\n"
     ]
    },
    {
     "name": "stderr",
     "output_type": "stream",
     "text": [
      " 33%|███▎      | 33/100 [23:04<48:22, 43.33s/it]"
     ]
    },
    {
     "name": "stdout",
     "output_type": "stream",
     "text": [
      "Validation performance at episode 33: -2.4353588992936466\n",
      "No improvement for 8 validation(s).\n",
      "=================================\n",
      "Initial portfolio value: 100000\n",
      "Final portfolio value: 874434.6875\n",
      "Final accumulative portfolio return: 8.744346875\n",
      "Maximum DrawDown: -0.41155158782600043\n",
      "Sharpe ratio: 1.2427661067138658\n",
      "=================================\n"
     ]
    },
    {
     "name": "stderr",
     "output_type": "stream",
     "text": [
      " 34%|███▍      | 34/100 [23:42<45:55, 41.75s/it]"
     ]
    },
    {
     "name": "stdout",
     "output_type": "stream",
     "text": [
      "=================================\n",
      "Initial portfolio value: 100000\n",
      "Final portfolio value: 1784016.25\n",
      "Final accumulative portfolio return: 17.8401625\n",
      "Maximum DrawDown: -0.29652253209328217\n",
      "Sharpe ratio: 1.6567535878917514\n",
      "=================================\n"
     ]
    },
    {
     "name": "stderr",
     "output_type": "stream",
     "text": [
      " 35%|███▌      | 35/100 [24:21<44:17, 40.88s/it]"
     ]
    },
    {
     "name": "stdout",
     "output_type": "stream",
     "text": [
      "=================================\n",
      "Initial portfolio value: 100000\n",
      "Final portfolio value: 1612256.875\n",
      "Final accumulative portfolio return: 16.12256875\n",
      "Maximum DrawDown: -0.31018745990161534\n",
      "Sharpe ratio: 1.6085771872029784\n",
      "=================================\n",
      "=================================\n",
      "Initial portfolio value: 100000\n",
      "Final portfolio value: 78077.3515625\n",
      "Final accumulative portfolio return: 0.780773515625\n",
      "Maximum DrawDown: -0.40020786789855967\n",
      "Sharpe ratio: -0.34300331303705156\n",
      "=================================\n"
     ]
    },
    {
     "name": "stderr",
     "output_type": "stream",
     "text": [
      " 36%|███▌      | 36/100 [25:11<46:29, 43.59s/it]"
     ]
    },
    {
     "name": "stdout",
     "output_type": "stream",
     "text": [
      "Validation performance at episode 36: -1.5739184643012583\n",
      "No improvement for 9 validation(s).\n",
      "=================================\n",
      "Initial portfolio value: 100000\n",
      "Final portfolio value: 2085813.75\n",
      "Final accumulative portfolio return: 20.8581375\n",
      "Maximum DrawDown: -0.30833213428335926\n",
      "Sharpe ratio: 1.7330558302187002\n",
      "=================================\n"
     ]
    },
    {
     "name": "stderr",
     "output_type": "stream",
     "text": [
      " 37%|███▋      | 37/100 [25:49<43:51, 41.77s/it]"
     ]
    },
    {
     "name": "stdout",
     "output_type": "stream",
     "text": [
      "=================================\n",
      "Initial portfolio value: 100000\n",
      "Final portfolio value: 1876744.5\n",
      "Final accumulative portfolio return: 18.767445\n",
      "Maximum DrawDown: -0.3016441855603744\n",
      "Sharpe ratio: 1.6813373058074574\n",
      "=================================\n"
     ]
    },
    {
     "name": "stderr",
     "output_type": "stream",
     "text": [
      " 38%|███▊      | 38/100 [26:27<41:59, 40.64s/it]"
     ]
    },
    {
     "name": "stdout",
     "output_type": "stream",
     "text": [
      "=================================\n",
      "Initial portfolio value: 100000\n",
      "Final portfolio value: 1599924.25\n",
      "Final accumulative portfolio return: 15.9992425\n",
      "Maximum DrawDown: -0.2803929072985911\n",
      "Sharpe ratio: 1.6101029756724177\n",
      "=================================\n",
      "=================================\n",
      "Initial portfolio value: 100000\n",
      "Final portfolio value: 96244.2734375\n",
      "Final accumulative portfolio return: 0.962442734375\n",
      "Maximum DrawDown: -0.3752830323973404\n",
      "Sharpe ratio: 0.06414413114213365\n",
      "=================================\n"
     ]
    },
    {
     "name": "stderr",
     "output_type": "stream",
     "text": [
      " 38%|███▊      | 38/100 [27:16<44:30, 43.08s/it]"
     ]
    },
    {
     "name": "stdout",
     "output_type": "stream",
     "text": [
      "Validation performance at episode 39: -2.082515758617774\n",
      "No improvement for 10 validation(s).\n",
      "Early stopping due to no improvement on validation set.\n",
      "Loaded best model based on validation performance.\n"
     ]
    },
    {
     "name": "stderr",
     "output_type": "stream",
     "text": [
      "\n",
      "C:\\Users\\xutia\\AppData\\Local\\Temp\\ipykernel_28184\\320573626.py:59: FutureWarning: You are using `torch.load` with `weights_only=False` (the current default value), which uses the default pickle module implicitly. It is possible to construct malicious pickle data which will execute arbitrary code during unpickling (See https://github.com/pytorch/pytorch/blob/main/SECURITY.md#untrusted-models for more details). In a future release, the default value for `weights_only` will be flipped to `True`. This limits the functions that could be executed during unpickling. Arbitrary objects will no longer be allowed to be loaded via this mode unless they are explicitly allowlisted by the user via `torch.serialization.add_safe_globals`. We recommend you start setting `weights_only=True` for any use case where you don't have full control of the loaded file. Please open an issue on GitHub for any issues related to this experimental feature.\n",
      "  EIIE_policy.load_state_dict(torch.load(model_filename))\n"
     ]
    },
    {
     "name": "stdout",
     "output_type": "stream",
     "text": [
      "=================================\n",
      "Initial portfolio value: 100000\n",
      "Final portfolio value: 1092732.875\n",
      "Final accumulative portfolio return: 10.92732875\n",
      "Maximum DrawDown: -0.2922609988249619\n",
      "Sharpe ratio: 1.3370017807427346\n",
      "=================================\n",
      "Metrics - train_final_value: 1092732.875, train_drawdown: -0.29226099882496187, train_sharpe: 1.3377755855946887, train_cumulative: 10.92732875\n",
      "=================================\n",
      "Initial portfolio value: 100000\n",
      "Final portfolio value: 202317.40625\n",
      "Final accumulative portfolio return: 2.0231740625\n",
      "Maximum DrawDown: -0.220285093320023\n",
      "Sharpe ratio: 1.409908072540401\n",
      "=================================\n",
      "Metrics - test_final_value: 202317.40625, test_drawdown: -0.22028509332002302, test_sharpe: 1.4129013545889726, test_cumulative: 2.0231740625\n",
      "Training model with TIME_WINDOW=30, K_SIZE=5, CONV_MID=20, CONV_FINAL=10, LEARNING_RATE=0.01\n"
     ]
    },
    {
     "name": "stderr",
     "output_type": "stream",
     "text": [
      "  0%|          | 0/100 [00:00<?, ?it/s]"
     ]
    },
    {
     "name": "stdout",
     "output_type": "stream",
     "text": [
      "=================================\n",
      "Initial portfolio value: 100000\n",
      "Final portfolio value: 229644.71875\n",
      "Final accumulative portfolio return: 2.2964471875\n",
      "Maximum DrawDown: -0.33126096785806003\n",
      "Sharpe ratio: 0.7708816541296866\n",
      "=================================\n"
     ]
    },
    {
     "name": "stderr",
     "output_type": "stream",
     "text": [
      "  1%|          | 1/100 [00:37<1:01:50, 37.48s/it]"
     ]
    },
    {
     "name": "stdout",
     "output_type": "stream",
     "text": [
      "=================================\n",
      "Initial portfolio value: 100000\n",
      "Final portfolio value: 233945.734375\n",
      "Final accumulative portfolio return: 2.33945734375\n",
      "Maximum DrawDown: -0.3350678532036958\n",
      "Sharpe ratio: 0.7812683174948508\n",
      "=================================\n"
     ]
    },
    {
     "name": "stderr",
     "output_type": "stream",
     "text": [
      "  2%|▏         | 2/100 [01:15<1:01:56, 37.92s/it]"
     ]
    },
    {
     "name": "stdout",
     "output_type": "stream",
     "text": [
      "=================================\n",
      "Initial portfolio value: 100000\n",
      "Final portfolio value: 239812.1875\n",
      "Final accumulative portfolio return: 2.398121875\n",
      "Maximum DrawDown: -0.3323935590083712\n",
      "Sharpe ratio: 0.7960563428835062\n",
      "=================================\n",
      "=================================\n",
      "Initial portfolio value: 100000\n",
      "Final portfolio value: 126444.7734375\n",
      "Final accumulative portfolio return: 1.264447734375\n",
      "Maximum DrawDown: -0.156500976332545\n",
      "Sharpe ratio: 0.8316271845503377\n",
      "=================================\n"
     ]
    },
    {
     "name": "stderr",
     "output_type": "stream",
     "text": [
      "  3%|▎         | 3/100 [02:04<1:09:28, 42.97s/it]"
     ]
    },
    {
     "name": "stdout",
     "output_type": "stream",
     "text": [
      "Validation performance at episode 3: -2.471958683845956\n",
      "New best validation performance: -2.471958683845956\n",
      "=================================\n",
      "Initial portfolio value: 100000\n",
      "Final portfolio value: 249462.234375\n",
      "Final accumulative portfolio return: 2.49462234375\n",
      "Maximum DrawDown: -0.33380110991510026\n",
      "Sharpe ratio: 0.8258126853281207\n",
      "=================================\n"
     ]
    },
    {
     "name": "stderr",
     "output_type": "stream",
     "text": [
      "  4%|▍         | 4/100 [02:42<1:05:35, 40.99s/it]"
     ]
    },
    {
     "name": "stdout",
     "output_type": "stream",
     "text": [
      "=================================\n",
      "Initial portfolio value: 100000\n",
      "Final portfolio value: 299890.0\n",
      "Final accumulative portfolio return: 2.9989\n",
      "Maximum DrawDown: -0.2630032425459019\n",
      "Sharpe ratio: 1.0113456006980968\n",
      "=================================\n"
     ]
    },
    {
     "name": "stderr",
     "output_type": "stream",
     "text": [
      "  5%|▌         | 5/100 [03:20<1:03:23, 40.03s/it]"
     ]
    },
    {
     "name": "stdout",
     "output_type": "stream",
     "text": [
      "=================================\n",
      "Initial portfolio value: 100000\n",
      "Final portfolio value: 373114.71875\n",
      "Final accumulative portfolio return: 3.7311471875\n",
      "Maximum DrawDown: -0.3042722672543201\n",
      "Sharpe ratio: 1.0490294890014715\n",
      "=================================\n",
      "=================================\n",
      "Initial portfolio value: 100000\n",
      "Final portfolio value: 103642.6640625\n",
      "Final accumulative portfolio return: 1.036426640625\n",
      "Maximum DrawDown: -0.06093730200689684\n",
      "Sharpe ratio: 0.33708723641603666\n",
      "=================================\n"
     ]
    },
    {
     "name": "stderr",
     "output_type": "stream",
     "text": [
      "  6%|▌         | 6/100 [04:10<1:08:00, 43.41s/it]"
     ]
    },
    {
     "name": "stdout",
     "output_type": "stream",
     "text": [
      "Validation performance at episode 6: -4.650828028707597\n",
      "No improvement for 1 validation(s).\n",
      "=================================\n",
      "Initial portfolio value: 100000\n",
      "Final portfolio value: 635419.125\n",
      "Final accumulative portfolio return: 6.35419125\n",
      "Maximum DrawDown: -0.2851079710491573\n",
      "Sharpe ratio: 1.2145346035741116\n",
      "=================================\n"
     ]
    },
    {
     "name": "stderr",
     "output_type": "stream",
     "text": [
      "  7%|▋         | 7/100 [04:49<1:04:34, 41.66s/it]"
     ]
    },
    {
     "name": "stdout",
     "output_type": "stream",
     "text": [
      "=================================\n",
      "Initial portfolio value: 100000\n",
      "Final portfolio value: 786537.0625\n",
      "Final accumulative portfolio return: 7.865370625\n",
      "Maximum DrawDown: -0.28050890668055284\n",
      "Sharpe ratio: 1.3028372645618769\n",
      "=================================\n"
     ]
    },
    {
     "name": "stderr",
     "output_type": "stream",
     "text": [
      "  8%|▊         | 8/100 [05:26<1:02:03, 40.47s/it]"
     ]
    },
    {
     "name": "stdout",
     "output_type": "stream",
     "text": [
      "=================================\n",
      "Initial portfolio value: 100000\n",
      "Final portfolio value: 507378.0\n",
      "Final accumulative portfolio return: 5.07378\n",
      "Maximum DrawDown: -0.46650056655463656\n",
      "Sharpe ratio: 0.9756529117507834\n",
      "=================================\n",
      "=================================\n",
      "Initial portfolio value: 100000\n",
      "Final portfolio value: 161899.640625\n",
      "Final accumulative portfolio return: 1.61899640625\n",
      "Maximum DrawDown: -0.22115531712039038\n",
      "Sharpe ratio: 1.0093063497618886\n",
      "=================================\n"
     ]
    },
    {
     "name": "stderr",
     "output_type": "stream",
     "text": [
      "  9%|▉         | 9/100 [06:16<1:05:53, 43.45s/it]"
     ]
    },
    {
     "name": "stdout",
     "output_type": "stream",
     "text": [
      "Validation performance at episode 9: -1.9547413888801821\n",
      "New best validation performance: -1.9547413888801821\n",
      "=================================\n",
      "Initial portfolio value: 100000\n",
      "Final portfolio value: 385049.34375\n",
      "Final accumulative portfolio return: 3.8504934375\n",
      "Maximum DrawDown: -0.3086559338525534\n",
      "Sharpe ratio: 0.9258605807428327\n",
      "=================================\n"
     ]
    },
    {
     "name": "stderr",
     "output_type": "stream",
     "text": [
      " 10%|█         | 10/100 [06:55<1:02:57, 41.98s/it]"
     ]
    },
    {
     "name": "stdout",
     "output_type": "stream",
     "text": [
      "=================================\n",
      "Initial portfolio value: 100000\n",
      "Final portfolio value: 525201.0625\n",
      "Final accumulative portfolio return: 5.252010625\n",
      "Maximum DrawDown: -0.44322128104368286\n",
      "Sharpe ratio: 0.9774636363034506\n",
      "=================================\n"
     ]
    },
    {
     "name": "stderr",
     "output_type": "stream",
     "text": [
      " 11%|█         | 11/100 [07:33<1:00:36, 40.86s/it]"
     ]
    },
    {
     "name": "stdout",
     "output_type": "stream",
     "text": [
      "=================================\n",
      "Initial portfolio value: 100000\n",
      "Final portfolio value: 759111.875\n",
      "Final accumulative portfolio return: 7.59111875\n",
      "Maximum DrawDown: -0.44593953613815696\n",
      "Sharpe ratio: 1.1400562295919365\n",
      "=================================\n",
      "=================================\n",
      "Initial portfolio value: 100000\n",
      "Final portfolio value: 162761.296875\n",
      "Final accumulative portfolio return: 1.62761296875\n",
      "Maximum DrawDown: -0.24732538379876634\n",
      "Sharpe ratio: 1.0234240820929155\n",
      "=================================\n"
     ]
    },
    {
     "name": "stderr",
     "output_type": "stream",
     "text": [
      " 12%|█▏        | 12/100 [08:24<1:04:04, 43.69s/it]"
     ]
    },
    {
     "name": "stdout",
     "output_type": "stream",
     "text": [
      "Validation performance at episode 12: -1.8215360760960286\n",
      "New best validation performance: -1.8215360760960286\n",
      "=================================\n",
      "Initial portfolio value: 100000\n",
      "Final portfolio value: 777861.875\n",
      "Final accumulative portfolio return: 7.77861875\n",
      "Maximum DrawDown: -0.3981638779434352\n",
      "Sharpe ratio: 1.1370936582432352\n",
      "=================================\n"
     ]
    },
    {
     "name": "stderr",
     "output_type": "stream",
     "text": [
      " 13%|█▎        | 13/100 [09:02<1:01:01, 42.09s/it]"
     ]
    },
    {
     "name": "stdout",
     "output_type": "stream",
     "text": [
      "=================================\n",
      "Initial portfolio value: 100000\n",
      "Final portfolio value: 594618.75\n",
      "Final accumulative portfolio return: 5.9461875\n",
      "Maximum DrawDown: -0.30798244481150416\n",
      "Sharpe ratio: 1.060862013223511\n",
      "=================================\n"
     ]
    },
    {
     "name": "stderr",
     "output_type": "stream",
     "text": [
      " 14%|█▍        | 14/100 [09:40<58:36, 40.89s/it]  "
     ]
    },
    {
     "name": "stdout",
     "output_type": "stream",
     "text": [
      "=================================\n",
      "Initial portfolio value: 100000\n",
      "Final portfolio value: 821135.375\n",
      "Final accumulative portfolio return: 8.21135375\n",
      "Maximum DrawDown: -0.30431601743866155\n",
      "Sharpe ratio: 1.273850087698612\n",
      "=================================\n",
      "=================================\n",
      "Initial portfolio value: 100000\n",
      "Final portfolio value: 170424.625\n",
      "Final accumulative portfolio return: 1.70424625\n",
      "Maximum DrawDown: -0.26693054998805255\n",
      "Sharpe ratio: 1.1298472419695658\n",
      "=================================\n"
     ]
    },
    {
     "name": "stderr",
     "output_type": "stream",
     "text": [
      " 15%|█▌        | 15/100 [10:29<1:01:32, 43.44s/it]"
     ]
    },
    {
     "name": "stdout",
     "output_type": "stream",
     "text": [
      "Validation performance at episode 15: -1.977318335276173\n",
      "No improvement for 1 validation(s).\n",
      "=================================\n",
      "Initial portfolio value: 100000\n",
      "Final portfolio value: 976760.4375\n",
      "Final accumulative portfolio return: 9.767604375\n",
      "Maximum DrawDown: -0.28003371902247065\n",
      "Sharpe ratio: 1.33026969252708\n",
      "=================================\n"
     ]
    },
    {
     "name": "stderr",
     "output_type": "stream",
     "text": [
      " 16%|█▌        | 16/100 [11:07<58:31, 41.81s/it]  "
     ]
    },
    {
     "name": "stdout",
     "output_type": "stream",
     "text": [
      "=================================\n",
      "Initial portfolio value: 100000\n",
      "Final portfolio value: 947186.9375\n",
      "Final accumulative portfolio return: 9.471869375\n",
      "Maximum DrawDown: -0.28039042411188175\n",
      "Sharpe ratio: 1.2717234182717392\n",
      "=================================\n"
     ]
    },
    {
     "name": "stderr",
     "output_type": "stream",
     "text": [
      " 17%|█▋        | 17/100 [11:46<56:17, 40.69s/it]"
     ]
    },
    {
     "name": "stdout",
     "output_type": "stream",
     "text": [
      "=================================\n",
      "Initial portfolio value: 100000\n",
      "Final portfolio value: 990854.0625\n",
      "Final accumulative portfolio return: 9.908540625\n",
      "Maximum DrawDown: -0.2803303986100709\n",
      "Sharpe ratio: 1.3053098306265447\n",
      "=================================\n",
      "=================================\n",
      "Initial portfolio value: 100000\n",
      "Final portfolio value: 194234.96875\n",
      "Final accumulative portfolio return: 1.9423496875\n",
      "Maximum DrawDown: -0.2669664493536146\n",
      "Sharpe ratio: 1.4024514853059713\n",
      "=================================\n"
     ]
    },
    {
     "name": "stderr",
     "output_type": "stream",
     "text": [
      " 18%|█▊        | 18/100 [12:35<59:06, 43.25s/it]"
     ]
    },
    {
     "name": "stdout",
     "output_type": "stream",
     "text": [
      "Validation performance at episode 18: -1.9400615537289427\n",
      "No improvement for 2 validation(s).\n",
      "=================================\n",
      "Initial portfolio value: 100000\n",
      "Final portfolio value: 877020.625\n",
      "Final accumulative portfolio return: 8.77020625\n",
      "Maximum DrawDown: -0.28203279150181504\n",
      "Sharpe ratio: 1.2506920516511082\n",
      "=================================\n"
     ]
    },
    {
     "name": "stderr",
     "output_type": "stream",
     "text": [
      " 19%|█▉        | 19/100 [13:13<56:18, 41.71s/it]"
     ]
    },
    {
     "name": "stdout",
     "output_type": "stream",
     "text": [
      "=================================\n",
      "Initial portfolio value: 100000\n",
      "Final portfolio value: 824344.75\n",
      "Final accumulative portfolio return: 8.2434475\n",
      "Maximum DrawDown: -0.28406380202355164\n",
      "Sharpe ratio: 1.2640555040268742\n",
      "=================================\n"
     ]
    },
    {
     "name": "stderr",
     "output_type": "stream",
     "text": [
      " 20%|██        | 20/100 [13:51<54:07, 40.60s/it]"
     ]
    },
    {
     "name": "stdout",
     "output_type": "stream",
     "text": [
      "=================================\n",
      "Initial portfolio value: 100000\n",
      "Final portfolio value: 924022.5\n",
      "Final accumulative portfolio return: 9.240225\n",
      "Maximum DrawDown: -0.28028398655461884\n",
      "Sharpe ratio: 1.3847185249949197\n",
      "=================================\n",
      "=================================\n",
      "Initial portfolio value: 100000\n",
      "Final portfolio value: 181235.796875\n",
      "Final accumulative portfolio return: 1.81235796875\n",
      "Maximum DrawDown: -0.26692818711466826\n",
      "Sharpe ratio: 1.3182978804783367\n",
      "=================================\n"
     ]
    },
    {
     "name": "stderr",
     "output_type": "stream",
     "text": [
      " 21%|██        | 21/100 [14:43<57:52, 43.96s/it]"
     ]
    },
    {
     "name": "stdout",
     "output_type": "stream",
     "text": [
      "Validation performance at episode 21: -1.8210121284460514\n",
      "No improvement for 3 validation(s).\n",
      "=================================\n",
      "Initial portfolio value: 100000\n",
      "Final portfolio value: 405604.28125\n",
      "Final accumulative portfolio return: 4.0560428125\n",
      "Maximum DrawDown: -0.45616283967085947\n",
      "Sharpe ratio: 0.8697133170019298\n",
      "=================================\n"
     ]
    },
    {
     "name": "stderr",
     "output_type": "stream",
     "text": [
      " 22%|██▏       | 22/100 [15:21<54:52, 42.21s/it]"
     ]
    },
    {
     "name": "stdout",
     "output_type": "stream",
     "text": [
      "=================================\n",
      "Initial portfolio value: 100000\n",
      "Final portfolio value: 579078.6875\n",
      "Final accumulative portfolio return: 5.790786875\n",
      "Maximum DrawDown: -0.44184339399943573\n",
      "Sharpe ratio: 1.0643755588117156\n",
      "=================================\n"
     ]
    },
    {
     "name": "stderr",
     "output_type": "stream",
     "text": [
      " 23%|██▎       | 23/100 [15:59<52:32, 40.94s/it]"
     ]
    },
    {
     "name": "stdout",
     "output_type": "stream",
     "text": [
      "=================================\n",
      "Initial portfolio value: 100000\n",
      "Final portfolio value: 1059774.5\n",
      "Final accumulative portfolio return: 10.597745\n",
      "Maximum DrawDown: -0.29957183341547555\n",
      "Sharpe ratio: 1.4478554687985716\n",
      "=================================\n",
      "=================================\n",
      "Initial portfolio value: 100000\n",
      "Final portfolio value: 132787.328125\n",
      "Final accumulative portfolio return: 1.32787328125\n",
      "Maximum DrawDown: -0.3296043229939378\n",
      "Sharpe ratio: 0.7085199473384901\n",
      "=================================\n"
     ]
    },
    {
     "name": "stderr",
     "output_type": "stream",
     "text": [
      " 24%|██▍       | 24/100 [16:48<55:01, 43.44s/it]"
     ]
    },
    {
     "name": "stdout",
     "output_type": "stream",
     "text": [
      "Validation performance at episode 24: -2.239229459144691\n",
      "No improvement for 4 validation(s).\n",
      "=================================\n",
      "Initial portfolio value: 100000\n",
      "Final portfolio value: 1023999.5625\n",
      "Final accumulative portfolio return: 10.239995625\n",
      "Maximum DrawDown: -0.3869304588956396\n",
      "Sharpe ratio: 1.3343042685306548\n",
      "=================================\n"
     ]
    },
    {
     "name": "stderr",
     "output_type": "stream",
     "text": [
      " 25%|██▌       | 25/100 [17:26<52:17, 41.83s/it]"
     ]
    },
    {
     "name": "stdout",
     "output_type": "stream",
     "text": [
      "=================================\n",
      "Initial portfolio value: 100000\n",
      "Final portfolio value: 1214940.75\n",
      "Final accumulative portfolio return: 12.1494075\n",
      "Maximum DrawDown: -0.2803928869492627\n",
      "Sharpe ratio: 1.5062854335429288\n",
      "=================================\n"
     ]
    },
    {
     "name": "stderr",
     "output_type": "stream",
     "text": [
      " 26%|██▌       | 26/100 [18:04<50:14, 40.73s/it]"
     ]
    },
    {
     "name": "stdout",
     "output_type": "stream",
     "text": [
      "=================================\n",
      "Initial portfolio value: 100000\n",
      "Final portfolio value: 669941.0\n",
      "Final accumulative portfolio return: 6.69941\n",
      "Maximum DrawDown: -0.43378644589162096\n",
      "Sharpe ratio: 1.1154140184201302\n",
      "=================================\n",
      "=================================\n",
      "Initial portfolio value: 100000\n",
      "Final portfolio value: 179899.078125\n",
      "Final accumulative portfolio return: 1.79899078125\n",
      "Maximum DrawDown: -0.2415630950091483\n",
      "Sharpe ratio: 1.227638133719639\n",
      "=================================\n"
     ]
    },
    {
     "name": "stderr",
     "output_type": "stream",
     "text": [
      " 27%|██▋       | 27/100 [18:53<52:28, 43.13s/it]"
     ]
    },
    {
     "name": "stdout",
     "output_type": "stream",
     "text": [
      "Validation performance at episode 27: -1.805286697827123\n",
      "No improvement for 5 validation(s).\n",
      "=================================\n",
      "Initial portfolio value: 100000\n",
      "Final portfolio value: 695885.8125\n",
      "Final accumulative portfolio return: 6.958858125\n",
      "Maximum DrawDown: -0.4425562086524696\n",
      "Sharpe ratio: 1.1395144656962384\n",
      "=================================\n"
     ]
    },
    {
     "name": "stderr",
     "output_type": "stream",
     "text": [
      " 28%|██▊       | 28/100 [19:31<49:58, 41.65s/it]"
     ]
    },
    {
     "name": "stdout",
     "output_type": "stream",
     "text": [
      "=================================\n",
      "Initial portfolio value: 100000\n",
      "Final portfolio value: 746458.75\n",
      "Final accumulative portfolio return: 7.4645875\n",
      "Maximum DrawDown: -0.43358257761191965\n",
      "Sharpe ratio: 1.1732694636750356\n",
      "=================================\n"
     ]
    },
    {
     "name": "stderr",
     "output_type": "stream",
     "text": [
      " 29%|██▉       | 29/100 [20:09<48:03, 40.62s/it]"
     ]
    },
    {
     "name": "stdout",
     "output_type": "stream",
     "text": [
      "=================================\n",
      "Initial portfolio value: 100000\n",
      "Final portfolio value: 1015665.1875\n",
      "Final accumulative portfolio return: 10.156651875\n",
      "Maximum DrawDown: -0.4386484251600037\n",
      "Sharpe ratio: 1.3246523331327051\n",
      "=================================\n",
      "=================================\n",
      "Initial portfolio value: 100000\n",
      "Final portfolio value: 219454.171875\n",
      "Final accumulative portfolio return: 2.19454171875\n",
      "Maximum DrawDown: -0.1849783691274467\n",
      "Sharpe ratio: 1.6573271205519824\n",
      "=================================\n"
     ]
    },
    {
     "name": "stderr",
     "output_type": "stream",
     "text": [
      " 30%|███       | 30/100 [20:58<50:15, 43.08s/it]"
     ]
    },
    {
     "name": "stdout",
     "output_type": "stream",
     "text": [
      "Validation performance at episode 30: -1.5043695161971344\n",
      "New best validation performance: -1.5043695161971344\n",
      "=================================\n",
      "Initial portfolio value: 100000\n",
      "Final portfolio value: 1157166.875\n",
      "Final accumulative portfolio return: 11.57166875\n",
      "Maximum DrawDown: -0.4361600846991981\n",
      "Sharpe ratio: 1.400533887508032\n",
      "=================================\n"
     ]
    },
    {
     "name": "stderr",
     "output_type": "stream",
     "text": [
      " 31%|███       | 31/100 [21:36<47:41, 41.47s/it]"
     ]
    },
    {
     "name": "stdout",
     "output_type": "stream",
     "text": [
      "=================================\n",
      "Initial portfolio value: 100000\n",
      "Final portfolio value: 1085311.75\n",
      "Final accumulative portfolio return: 10.8531175\n",
      "Maximum DrawDown: -0.4358019809087256\n",
      "Sharpe ratio: 1.3740776390547256\n",
      "=================================\n"
     ]
    },
    {
     "name": "stderr",
     "output_type": "stream",
     "text": [
      " 32%|███▏      | 32/100 [22:14<45:54, 40.51s/it]"
     ]
    },
    {
     "name": "stdout",
     "output_type": "stream",
     "text": [
      "=================================\n",
      "Initial portfolio value: 100000\n",
      "Final portfolio value: 1265251.375\n",
      "Final accumulative portfolio return: 12.65251375\n",
      "Maximum DrawDown: -0.30101299515629787\n",
      "Sharpe ratio: 1.4907137378659014\n",
      "=================================\n",
      "=================================\n",
      "Initial portfolio value: 100000\n",
      "Final portfolio value: 235404.203125\n",
      "Final accumulative portfolio return: 2.35404203125\n",
      "Maximum DrawDown: -0.18544221857803145\n",
      "Sharpe ratio: 1.8156784348157986\n",
      "=================================\n"
     ]
    },
    {
     "name": "stderr",
     "output_type": "stream",
     "text": [
      " 33%|███▎      | 33/100 [23:04<48:09, 43.13s/it]"
     ]
    },
    {
     "name": "stdout",
     "output_type": "stream",
     "text": [
      "Validation performance at episode 33: -1.440982177856243\n",
      "New best validation performance: -1.440982177856243\n",
      "=================================\n",
      "Initial portfolio value: 100000\n",
      "Final portfolio value: 1191888.875\n",
      "Final accumulative portfolio return: 11.91888875\n",
      "Maximum DrawDown: -0.3785870467266268\n",
      "Sharpe ratio: 1.4121582974773144\n",
      "=================================\n"
     ]
    },
    {
     "name": "stderr",
     "output_type": "stream",
     "text": [
      " 34%|███▍      | 34/100 [23:42<45:50, 41.68s/it]"
     ]
    },
    {
     "name": "stdout",
     "output_type": "stream",
     "text": [
      "=================================\n",
      "Initial portfolio value: 100000\n",
      "Final portfolio value: 1312973.75\n",
      "Final accumulative portfolio return: 13.1297375\n",
      "Maximum DrawDown: -0.32188144406421704\n",
      "Sharpe ratio: 1.4878830317831837\n",
      "=================================\n"
     ]
    },
    {
     "name": "stderr",
     "output_type": "stream",
     "text": [
      " 35%|███▌      | 35/100 [24:21<44:13, 40.82s/it]"
     ]
    },
    {
     "name": "stdout",
     "output_type": "stream",
     "text": [
      "=================================\n",
      "Initial portfolio value: 100000\n",
      "Final portfolio value: 1372671.875\n",
      "Final accumulative portfolio return: 13.72671875\n",
      "Maximum DrawDown: -0.2803928692185589\n",
      "Sharpe ratio: 1.5410328487568512\n",
      "=================================\n",
      "=================================\n",
      "Initial portfolio value: 100000\n",
      "Final portfolio value: 226827.875\n",
      "Final accumulative portfolio return: 2.26827875\n",
      "Maximum DrawDown: -0.211829299734265\n",
      "Sharpe ratio: 1.727444547998198\n",
      "=================================\n"
     ]
    },
    {
     "name": "stderr",
     "output_type": "stream",
     "text": [
      " 36%|███▌      | 36/100 [25:10<46:10, 43.28s/it]"
     ]
    },
    {
     "name": "stdout",
     "output_type": "stream",
     "text": [
      "Validation performance at episode 36: -1.557830527140115\n",
      "No improvement for 1 validation(s).\n",
      "=================================\n",
      "Initial portfolio value: 100000\n",
      "Final portfolio value: 1747905.0\n",
      "Final accumulative portfolio return: 17.47905\n",
      "Maximum DrawDown: -0.28039282293459755\n",
      "Sharpe ratio: 1.6726387874894157\n",
      "=================================\n"
     ]
    },
    {
     "name": "stderr",
     "output_type": "stream",
     "text": [
      " 37%|███▋      | 37/100 [25:48<43:45, 41.67s/it]"
     ]
    },
    {
     "name": "stdout",
     "output_type": "stream",
     "text": [
      "=================================\n",
      "Initial portfolio value: 100000\n",
      "Final portfolio value: 1519760.625\n",
      "Final accumulative portfolio return: 15.19760625\n",
      "Maximum DrawDown: -0.2803928584578521\n",
      "Sharpe ratio: 1.6019831784867455\n",
      "=================================\n"
     ]
    },
    {
     "name": "stderr",
     "output_type": "stream",
     "text": [
      " 38%|███▊      | 38/100 [26:26<42:00, 40.65s/it]"
     ]
    },
    {
     "name": "stdout",
     "output_type": "stream",
     "text": [
      "=================================\n",
      "Initial portfolio value: 100000\n",
      "Final portfolio value: 1444340.125\n",
      "Final accumulative portfolio return: 14.44340125\n",
      "Maximum DrawDown: -0.27857471565859593\n",
      "Sharpe ratio: 1.5529402686390865\n",
      "=================================\n",
      "=================================\n",
      "Initial portfolio value: 100000\n",
      "Final portfolio value: 184250.0\n",
      "Final accumulative portfolio return: 1.8425\n",
      "Maximum DrawDown: -0.265034359909465\n",
      "Sharpe ratio: 1.2944756737742928\n",
      "=================================\n"
     ]
    },
    {
     "name": "stderr",
     "output_type": "stream",
     "text": [
      " 39%|███▉      | 39/100 [27:15<43:57, 43.23s/it]"
     ]
    },
    {
     "name": "stdout",
     "output_type": "stream",
     "text": [
      "Validation performance at episode 39: -1.7326346698152433\n",
      "No improvement for 2 validation(s).\n",
      "=================================\n",
      "Initial portfolio value: 100000\n",
      "Final portfolio value: 1392335.375\n",
      "Final accumulative portfolio return: 13.92335375\n",
      "Maximum DrawDown: -0.2803534436550804\n",
      "Sharpe ratio: 1.543577789516369\n",
      "=================================\n"
     ]
    },
    {
     "name": "stderr",
     "output_type": "stream",
     "text": [
      " 40%|████      | 40/100 [27:54<41:48, 41.81s/it]"
     ]
    },
    {
     "name": "stdout",
     "output_type": "stream",
     "text": [
      "=================================\n",
      "Initial portfolio value: 100000\n",
      "Final portfolio value: 1456548.0\n",
      "Final accumulative portfolio return: 14.56548\n",
      "Maximum DrawDown: -0.2803356655693112\n",
      "Sharpe ratio: 1.5613986180662673\n",
      "=================================\n"
     ]
    },
    {
     "name": "stderr",
     "output_type": "stream",
     "text": [
      " 41%|████      | 41/100 [28:31<39:55, 40.59s/it]"
     ]
    },
    {
     "name": "stdout",
     "output_type": "stream",
     "text": [
      "=================================\n",
      "Initial portfolio value: 100000\n",
      "Final portfolio value: 1637644.125\n",
      "Final accumulative portfolio return: 16.37644125\n",
      "Maximum DrawDown: -0.2803695364840151\n",
      "Sharpe ratio: 1.6241746740951843\n",
      "=================================\n",
      "=================================\n",
      "Initial portfolio value: 100000\n",
      "Final portfolio value: 196748.53125\n",
      "Final accumulative portfolio return: 1.9674853125\n",
      "Maximum DrawDown: -0.2611165354338162\n",
      "Sharpe ratio: 1.4259359791296256\n",
      "=================================\n"
     ]
    },
    {
     "name": "stderr",
     "output_type": "stream",
     "text": [
      " 42%|████▏     | 42/100 [29:20<41:37, 43.07s/it]"
     ]
    },
    {
     "name": "stdout",
     "output_type": "stream",
     "text": [
      "Validation performance at episode 42: -1.6884477034089047\n",
      "No improvement for 3 validation(s).\n",
      "=================================\n",
      "Initial portfolio value: 100000\n",
      "Final portfolio value: 1610358.625\n",
      "Final accumulative portfolio return: 16.10358625\n",
      "Maximum DrawDown: -0.2803924968943622\n",
      "Sharpe ratio: 1.6217746936612265\n",
      "=================================\n"
     ]
    },
    {
     "name": "stderr",
     "output_type": "stream",
     "text": [
      " 43%|████▎     | 43/100 [29:59<39:34, 41.66s/it]"
     ]
    },
    {
     "name": "stdout",
     "output_type": "stream",
     "text": [
      "=================================\n",
      "Initial portfolio value: 100000\n",
      "Final portfolio value: 1164062.0\n",
      "Final accumulative portfolio return: 11.64062\n",
      "Maximum DrawDown: -0.4153970952002881\n",
      "Sharpe ratio: 1.3843212391092046\n",
      "=================================\n"
     ]
    },
    {
     "name": "stderr",
     "output_type": "stream",
     "text": [
      " 44%|████▍     | 44/100 [30:37<38:00, 40.72s/it]"
     ]
    },
    {
     "name": "stdout",
     "output_type": "stream",
     "text": [
      "=================================\n",
      "Initial portfolio value: 100000\n",
      "Final portfolio value: 1142403.75\n",
      "Final accumulative portfolio return: 11.4240375\n",
      "Maximum DrawDown: -0.4208825347381515\n",
      "Sharpe ratio: 1.3789471717579767\n",
      "=================================\n",
      "=================================\n",
      "Initial portfolio value: 100000\n",
      "Final portfolio value: 194281.546875\n",
      "Final accumulative portfolio return: 1.94281546875\n",
      "Maximum DrawDown: -0.2349171308800313\n",
      "Sharpe ratio: 1.3865546892111742\n",
      "=================================\n"
     ]
    },
    {
     "name": "stderr",
     "output_type": "stream",
     "text": [
      " 45%|████▌     | 45/100 [31:26<39:35, 43.20s/it]"
     ]
    },
    {
     "name": "stdout",
     "output_type": "stream",
     "text": [
      "Validation performance at episode 45: -1.7013827146910037\n",
      "No improvement for 4 validation(s).\n",
      "=================================\n",
      "Initial portfolio value: 100000\n",
      "Final portfolio value: 1509078.375\n",
      "Final accumulative portfolio return: 15.09078375\n",
      "Maximum DrawDown: -0.2803568518120305\n",
      "Sharpe ratio: 1.5672879761885983\n",
      "=================================\n"
     ]
    },
    {
     "name": "stderr",
     "output_type": "stream",
     "text": [
      " 46%|████▌     | 46/100 [32:04<37:28, 41.65s/it]"
     ]
    },
    {
     "name": "stdout",
     "output_type": "stream",
     "text": [
      "=================================\n",
      "Initial portfolio value: 100000\n",
      "Final portfolio value: 1540937.75\n",
      "Final accumulative portfolio return: 15.4093775\n",
      "Maximum DrawDown: -0.2803929241652733\n",
      "Sharpe ratio: 1.597495347633528\n",
      "=================================\n"
     ]
    },
    {
     "name": "stderr",
     "output_type": "stream",
     "text": [
      " 47%|████▋     | 47/100 [32:43<35:56, 40.69s/it]"
     ]
    },
    {
     "name": "stdout",
     "output_type": "stream",
     "text": [
      "=================================\n",
      "Initial portfolio value: 100000\n",
      "Final portfolio value: 1706095.75\n",
      "Final accumulative portfolio return: 17.0609575\n",
      "Maximum DrawDown: -0.2803928561396981\n",
      "Sharpe ratio: 1.6431831156988395\n",
      "=================================\n",
      "=================================\n",
      "Initial portfolio value: 100000\n",
      "Final portfolio value: 207511.765625\n",
      "Final accumulative portfolio return: 2.07511765625\n",
      "Maximum DrawDown: -0.24236248639036873\n",
      "Sharpe ratio: 1.5418019241808532\n",
      "=================================\n"
     ]
    },
    {
     "name": "stderr",
     "output_type": "stream",
     "text": [
      " 48%|████▊     | 48/100 [33:32<37:33, 43.34s/it]"
     ]
    },
    {
     "name": "stdout",
     "output_type": "stream",
     "text": [
      "Validation performance at episode 48: -1.6546936897346096\n",
      "No improvement for 5 validation(s).\n",
      "=================================\n",
      "Initial portfolio value: 100000\n",
      "Final portfolio value: 1451687.375\n",
      "Final accumulative portfolio return: 14.51687375\n",
      "Maximum DrawDown: -0.28009074223527386\n",
      "Sharpe ratio: 1.546909879303866\n",
      "=================================\n"
     ]
    },
    {
     "name": "stderr",
     "output_type": "stream",
     "text": [
      " 49%|████▉     | 49/100 [34:10<35:33, 41.84s/it]"
     ]
    },
    {
     "name": "stdout",
     "output_type": "stream",
     "text": [
      "=================================\n",
      "Initial portfolio value: 100000\n",
      "Final portfolio value: 1668600.625\n",
      "Final accumulative portfolio return: 16.68600625\n",
      "Maximum DrawDown: -0.2803929431249549\n",
      "Sharpe ratio: 1.6390182852576776\n",
      "=================================\n"
     ]
    },
    {
     "name": "stderr",
     "output_type": "stream",
     "text": [
      " 50%|█████     | 50/100 [34:48<33:52, 40.65s/it]"
     ]
    },
    {
     "name": "stdout",
     "output_type": "stream",
     "text": [
      "=================================\n",
      "Initial portfolio value: 100000\n",
      "Final portfolio value: 1953480.0\n",
      "Final accumulative portfolio return: 19.5348\n",
      "Maximum DrawDown: -0.28036648172511525\n",
      "Sharpe ratio: 1.7133346541706138\n",
      "=================================\n",
      "=================================\n",
      "Initial portfolio value: 100000\n",
      "Final portfolio value: 192289.921875\n",
      "Final accumulative portfolio return: 1.92289921875\n",
      "Maximum DrawDown: -0.24735899944320572\n",
      "Sharpe ratio: 1.386304470663641\n",
      "=================================\n"
     ]
    },
    {
     "name": "stderr",
     "output_type": "stream",
     "text": [
      " 51%|█████     | 51/100 [35:37<35:15, 43.18s/it]"
     ]
    },
    {
     "name": "stdout",
     "output_type": "stream",
     "text": [
      "Validation performance at episode 51: -1.6430812893446667\n",
      "No improvement for 6 validation(s).\n",
      "=================================\n",
      "Initial portfolio value: 100000\n",
      "Final portfolio value: 1940842.75\n",
      "Final accumulative portfolio return: 19.4084275\n",
      "Maximum DrawDown: -0.2803925642256615\n",
      "Sharpe ratio: 1.7125650849435576\n",
      "=================================\n"
     ]
    },
    {
     "name": "stderr",
     "output_type": "stream",
     "text": [
      " 52%|█████▏    | 52/100 [36:16<33:22, 41.71s/it]"
     ]
    },
    {
     "name": "stdout",
     "output_type": "stream",
     "text": [
      "=================================\n",
      "Initial portfolio value: 100000\n",
      "Final portfolio value: 1972775.875\n",
      "Final accumulative portfolio return: 19.72775875\n",
      "Maximum DrawDown: -0.2803928166454618\n",
      "Sharpe ratio: 1.7200243260829877\n",
      "=================================\n"
     ]
    },
    {
     "name": "stderr",
     "output_type": "stream",
     "text": [
      " 53%|█████▎    | 53/100 [36:54<31:56, 40.77s/it]"
     ]
    },
    {
     "name": "stdout",
     "output_type": "stream",
     "text": [
      "=================================\n",
      "Initial portfolio value: 100000\n",
      "Final portfolio value: 1984066.25\n",
      "Final accumulative portfolio return: 19.8406625\n",
      "Maximum DrawDown: -0.28039238613410844\n",
      "Sharpe ratio: 1.7226434533567567\n",
      "=================================\n",
      "=================================\n",
      "Initial portfolio value: 100000\n",
      "Final portfolio value: 195290.59375\n",
      "Final accumulative portfolio return: 1.9529059375\n",
      "Maximum DrawDown: -0.2522301275744784\n",
      "Sharpe ratio: 1.4249234181503727\n",
      "=================================\n"
     ]
    },
    {
     "name": "stderr",
     "output_type": "stream",
     "text": [
      " 54%|█████▍    | 54/100 [37:43<33:09, 43.26s/it]"
     ]
    },
    {
     "name": "stdout",
     "output_type": "stream",
     "text": [
      "Validation performance at episode 54: -1.627641464652126\n",
      "No improvement for 7 validation(s).\n",
      "=================================\n",
      "Initial portfolio value: 100000\n",
      "Final portfolio value: 1999403.375\n",
      "Final accumulative portfolio return: 19.99403375\n",
      "Maximum DrawDown: -0.2803923050778938\n",
      "Sharpe ratio: 1.7260108435147403\n",
      "=================================\n"
     ]
    },
    {
     "name": "stderr",
     "output_type": "stream",
     "text": [
      " 55%|█████▌    | 55/100 [38:22<31:24, 41.89s/it]"
     ]
    },
    {
     "name": "stdout",
     "output_type": "stream",
     "text": [
      "=================================\n",
      "Initial portfolio value: 100000\n",
      "Final portfolio value: 2008134.75\n",
      "Final accumulative portfolio return: 20.0813475\n",
      "Maximum DrawDown: -0.28039225699633386\n",
      "Sharpe ratio: 1.7279536046403896\n",
      "=================================\n"
     ]
    },
    {
     "name": "stderr",
     "output_type": "stream",
     "text": [
      " 56%|█████▌    | 56/100 [39:00<29:58, 40.86s/it]"
     ]
    },
    {
     "name": "stdout",
     "output_type": "stream",
     "text": [
      "=================================\n",
      "Initial portfolio value: 100000\n",
      "Final portfolio value: 2017565.375\n",
      "Final accumulative portfolio return: 20.17565375\n",
      "Maximum DrawDown: -0.2803924304147175\n",
      "Sharpe ratio: 1.729977012298675\n",
      "=================================\n",
      "=================================\n",
      "Initial portfolio value: 100000\n",
      "Final portfolio value: 195890.328125\n",
      "Final accumulative portfolio return: 1.95890328125\n",
      "Maximum DrawDown: -0.25302137834522\n",
      "Sharpe ratio: 1.43128873210544\n",
      "=================================\n"
     ]
    },
    {
     "name": "stderr",
     "output_type": "stream",
     "text": [
      " 57%|█████▋    | 57/100 [39:50<31:07, 43.43s/it]"
     ]
    },
    {
     "name": "stdout",
     "output_type": "stream",
     "text": [
      "Validation performance at episode 57: -1.628727316141383\n",
      "No improvement for 8 validation(s).\n",
      "=================================\n",
      "Initial portfolio value: 100000\n",
      "Final portfolio value: 2026206.75\n",
      "Final accumulative portfolio return: 20.2620675\n",
      "Maximum DrawDown: -0.2803923507405861\n",
      "Sharpe ratio: 1.7318557258044733\n",
      "=================================\n"
     ]
    },
    {
     "name": "stderr",
     "output_type": "stream",
     "text": [
      " 58%|█████▊    | 58/100 [40:29<29:23, 41.99s/it]"
     ]
    },
    {
     "name": "stdout",
     "output_type": "stream",
     "text": [
      "=================================\n",
      "Initial portfolio value: 100000\n",
      "Final portfolio value: 2034647.75\n",
      "Final accumulative portfolio return: 20.3464775\n",
      "Maximum DrawDown: -0.28039261352357625\n",
      "Sharpe ratio: 1.7337163638581377\n",
      "=================================\n"
     ]
    },
    {
     "name": "stderr",
     "output_type": "stream",
     "text": [
      " 59%|█████▉    | 59/100 [41:07<27:57, 40.91s/it]"
     ]
    },
    {
     "name": "stdout",
     "output_type": "stream",
     "text": [
      "=================================\n",
      "Initial portfolio value: 100000\n",
      "Final portfolio value: 2043199.5\n",
      "Final accumulative portfolio return: 20.431995\n",
      "Maximum DrawDown: -0.280392429866426\n",
      "Sharpe ratio: 1.735650161648014\n",
      "=================================\n",
      "=================================\n",
      "Initial portfolio value: 100000\n",
      "Final portfolio value: 195587.109375\n",
      "Final accumulative portfolio return: 1.95587109375\n",
      "Maximum DrawDown: -0.2538118953337285\n",
      "Sharpe ratio: 1.4283254792958975\n",
      "=================================\n"
     ]
    },
    {
     "name": "stderr",
     "output_type": "stream",
     "text": [
      " 60%|██████    | 60/100 [41:56<28:56, 43.42s/it]"
     ]
    },
    {
     "name": "stdout",
     "output_type": "stream",
     "text": [
      "Validation performance at episode 60: -1.6320087156012462\n",
      "No improvement for 9 validation(s).\n",
      "=================================\n",
      "Initial portfolio value: 100000\n",
      "Final portfolio value: 2052493.75\n",
      "Final accumulative portfolio return: 20.5249375\n",
      "Maximum DrawDown: -0.2803924658109975\n",
      "Sharpe ratio: 1.7378694965092676\n",
      "=================================\n"
     ]
    },
    {
     "name": "stderr",
     "output_type": "stream",
     "text": [
      " 61%|██████    | 61/100 [42:34<27:11, 41.83s/it]"
     ]
    },
    {
     "name": "stdout",
     "output_type": "stream",
     "text": [
      "=================================\n",
      "Initial portfolio value: 100000\n",
      "Final portfolio value: 2063332.125\n",
      "Final accumulative portfolio return: 20.63332125\n",
      "Maximum DrawDown: -0.28039216722091587\n",
      "Sharpe ratio: 1.7405920505168768\n",
      "=================================\n"
     ]
    },
    {
     "name": "stderr",
     "output_type": "stream",
     "text": [
      " 62%|██████▏   | 62/100 [43:12<25:47, 40.72s/it]"
     ]
    },
    {
     "name": "stdout",
     "output_type": "stream",
     "text": [
      "=================================\n",
      "Initial portfolio value: 100000\n",
      "Final portfolio value: 2076580.5\n",
      "Final accumulative portfolio return: 20.765805\n",
      "Maximum DrawDown: -0.2803921910926377\n",
      "Sharpe ratio: 1.7440289912432283\n",
      "=================================\n",
      "=================================\n",
      "Initial portfolio value: 100000\n",
      "Final portfolio value: 194540.953125\n",
      "Final accumulative portfolio return: 1.94540953125\n",
      "Maximum DrawDown: -0.2540252283806914\n",
      "Sharpe ratio: 1.417664723919031\n",
      "=================================\n"
     ]
    },
    {
     "name": "stderr",
     "output_type": "stream",
     "text": [
      " 62%|██████▏   | 62/100 [44:02<26:59, 42.61s/it]"
     ]
    },
    {
     "name": "stdout",
     "output_type": "stream",
     "text": [
      "Validation performance at episode 63: -1.637078915403804\n",
      "No improvement for 10 validation(s).\n",
      "Early stopping due to no improvement on validation set.\n",
      "Loaded best model based on validation performance.\n"
     ]
    },
    {
     "name": "stderr",
     "output_type": "stream",
     "text": [
      "\n",
      "C:\\Users\\xutia\\AppData\\Local\\Temp\\ipykernel_28184\\320573626.py:59: FutureWarning: You are using `torch.load` with `weights_only=False` (the current default value), which uses the default pickle module implicitly. It is possible to construct malicious pickle data which will execute arbitrary code during unpickling (See https://github.com/pytorch/pytorch/blob/main/SECURITY.md#untrusted-models for more details). In a future release, the default value for `weights_only` will be flipped to `True`. This limits the functions that could be executed during unpickling. Arbitrary objects will no longer be allowed to be loaded via this mode unless they are explicitly allowlisted by the user via `torch.serialization.add_safe_globals`. We recommend you start setting `weights_only=True` for any use case where you don't have full control of the loaded file. Please open an issue on GitHub for any issues related to this experimental feature.\n",
      "  EIIE_policy.load_state_dict(torch.load(model_filename))\n"
     ]
    },
    {
     "name": "stdout",
     "output_type": "stream",
     "text": [
      "=================================\n",
      "Initial portfolio value: 100000\n",
      "Final portfolio value: 1237263.75\n",
      "Final accumulative portfolio return: 12.3726375\n",
      "Maximum DrawDown: -0.28196732727881224\n",
      "Sharpe ratio: 1.477345350896071\n",
      "=================================\n",
      "Metrics - train_final_value: 1237263.75, train_drawdown: -0.28196732727881224, train_sharpe: 1.4782012274971785, train_cumulative: 12.3726375\n",
      "=================================\n",
      "Initial portfolio value: 100000\n",
      "Final portfolio value: 201487.640625\n",
      "Final accumulative portfolio return: 2.01487640625\n",
      "Maximum DrawDown: -0.18905436094111105\n",
      "Sharpe ratio: 1.4801252603674644\n",
      "=================================\n",
      "Metrics - test_final_value: 201487.640625, test_drawdown: -0.189054360941111, test_sharpe: 1.4832675527545447, test_cumulative: 2.01487640625\n",
      "Training model with TIME_WINDOW=30, K_SIZE=5, CONV_MID=20, CONV_FINAL=10, LEARNING_RATE=0.02\n"
     ]
    },
    {
     "name": "stderr",
     "output_type": "stream",
     "text": [
      "  0%|          | 0/100 [00:00<?, ?it/s]"
     ]
    },
    {
     "name": "stdout",
     "output_type": "stream",
     "text": [
      "=================================\n",
      "Initial portfolio value: 100000\n",
      "Final portfolio value: 109714.59375\n",
      "Final accumulative portfolio return: 1.0971459375\n",
      "Maximum DrawDown: -0.11182484535634118\n",
      "Sharpe ratio: 0.261665094351219\n",
      "=================================\n"
     ]
    },
    {
     "name": "stderr",
     "output_type": "stream",
     "text": [
      "  1%|          | 1/100 [00:37<1:02:02, 37.60s/it]"
     ]
    },
    {
     "name": "stdout",
     "output_type": "stream",
     "text": [
      "=================================\n",
      "Initial portfolio value: 100000\n",
      "Final portfolio value: 100000.0\n",
      "Final accumulative portfolio return: 1.0\n",
      "Maximum DrawDown: 0.0\n",
      "Sharpe ratio: nan\n",
      "=================================\n"
     ]
    },
    {
     "name": "stderr",
     "output_type": "stream",
     "text": [
      "C:\\Users\\xutia\\AppData\\Roaming\\Python\\Python310\\site-packages\\quantstats\\stats.py:294: RuntimeWarning: invalid value encountered in scalar divide\n",
      "  res = returns.mean() / divisor\n",
      "  2%|▏         | 2/100 [01:15<1:01:25, 37.61s/it]"
     ]
    },
    {
     "name": "stdout",
     "output_type": "stream",
     "text": [
      "=================================\n",
      "Initial portfolio value: 100000\n",
      "Final portfolio value: 100000.0\n",
      "Final accumulative portfolio return: 1.0\n",
      "Maximum DrawDown: 0.0\n",
      "Sharpe ratio: nan\n",
      "=================================\n"
     ]
    },
    {
     "name": "stderr",
     "output_type": "stream",
     "text": [
      "C:\\Users\\xutia\\AppData\\Roaming\\Python\\Python310\\site-packages\\quantstats\\stats.py:294: RuntimeWarning: invalid value encountered in scalar divide\n",
      "  res = returns.mean() / divisor\n"
     ]
    },
    {
     "name": "stdout",
     "output_type": "stream",
     "text": [
      "=================================\n",
      "Initial portfolio value: 100000\n",
      "Final portfolio value: 100000.0\n",
      "Final accumulative portfolio return: 1.0\n",
      "Maximum DrawDown: 0.0\n",
      "Sharpe ratio: nan\n",
      "=================================\n"
     ]
    },
    {
     "name": "stderr",
     "output_type": "stream",
     "text": [
      "C:\\Users\\xutia\\AppData\\Roaming\\Python\\Python310\\site-packages\\quantstats\\stats.py:294: RuntimeWarning: invalid value encountered in scalar divide\n",
      "  res = returns.mean() / divisor\n",
      "  3%|▎         | 3/100 [02:03<1:08:58, 42.67s/it]"
     ]
    },
    {
     "name": "stdout",
     "output_type": "stream",
     "text": [
      "Validation performance at episode 3: 69314718.05599453\n",
      "New best validation performance: 69314718.05599453\n",
      "=================================\n",
      "Initial portfolio value: 100000\n",
      "Final portfolio value: 100000.0\n",
      "Final accumulative portfolio return: 1.0\n",
      "Maximum DrawDown: 0.0\n",
      "Sharpe ratio: nan\n",
      "=================================\n"
     ]
    },
    {
     "name": "stderr",
     "output_type": "stream",
     "text": [
      "C:\\Users\\xutia\\AppData\\Roaming\\Python\\Python310\\site-packages\\quantstats\\stats.py:294: RuntimeWarning: invalid value encountered in scalar divide\n",
      "  res = returns.mean() / divisor\n",
      "  4%|▍         | 4/100 [02:42<1:05:24, 40.88s/it]"
     ]
    },
    {
     "name": "stdout",
     "output_type": "stream",
     "text": [
      "=================================\n",
      "Initial portfolio value: 100000\n",
      "Final portfolio value: 100000.0\n",
      "Final accumulative portfolio return: 1.0\n",
      "Maximum DrawDown: 0.0\n",
      "Sharpe ratio: nan\n",
      "=================================\n"
     ]
    },
    {
     "name": "stderr",
     "output_type": "stream",
     "text": [
      "C:\\Users\\xutia\\AppData\\Roaming\\Python\\Python310\\site-packages\\quantstats\\stats.py:294: RuntimeWarning: invalid value encountered in scalar divide\n",
      "  res = returns.mean() / divisor\n",
      "  5%|▌         | 5/100 [03:19<1:02:55, 39.74s/it]"
     ]
    },
    {
     "name": "stdout",
     "output_type": "stream",
     "text": [
      "=================================\n",
      "Initial portfolio value: 100000\n",
      "Final portfolio value: 100000.0\n",
      "Final accumulative portfolio return: 1.0\n",
      "Maximum DrawDown: 0.0\n",
      "Sharpe ratio: nan\n",
      "=================================\n"
     ]
    },
    {
     "name": "stderr",
     "output_type": "stream",
     "text": [
      "C:\\Users\\xutia\\AppData\\Roaming\\Python\\Python310\\site-packages\\quantstats\\stats.py:294: RuntimeWarning: invalid value encountered in scalar divide\n",
      "  res = returns.mean() / divisor\n"
     ]
    },
    {
     "name": "stdout",
     "output_type": "stream",
     "text": [
      "=================================\n",
      "Initial portfolio value: 100000\n",
      "Final portfolio value: 100000.0\n",
      "Final accumulative portfolio return: 1.0\n",
      "Maximum DrawDown: 0.0\n",
      "Sharpe ratio: nan\n",
      "=================================\n"
     ]
    },
    {
     "name": "stderr",
     "output_type": "stream",
     "text": [
      "C:\\Users\\xutia\\AppData\\Roaming\\Python\\Python310\\site-packages\\quantstats\\stats.py:294: RuntimeWarning: invalid value encountered in scalar divide\n",
      "  res = returns.mean() / divisor\n",
      "  6%|▌         | 6/100 [04:08<1:06:55, 42.72s/it]"
     ]
    },
    {
     "name": "stdout",
     "output_type": "stream",
     "text": [
      "Validation performance at episode 6: 69314718.05599453\n",
      "No improvement for 1 validation(s).\n",
      "=================================\n",
      "Initial portfolio value: 100000\n",
      "Final portfolio value: 100000.0\n",
      "Final accumulative portfolio return: 1.0\n",
      "Maximum DrawDown: 0.0\n",
      "Sharpe ratio: nan\n",
      "=================================\n"
     ]
    },
    {
     "name": "stderr",
     "output_type": "stream",
     "text": [
      "C:\\Users\\xutia\\AppData\\Roaming\\Python\\Python310\\site-packages\\quantstats\\stats.py:294: RuntimeWarning: invalid value encountered in scalar divide\n",
      "  res = returns.mean() / divisor\n",
      "  7%|▋         | 7/100 [04:46<1:03:45, 41.14s/it]"
     ]
    },
    {
     "name": "stdout",
     "output_type": "stream",
     "text": [
      "=================================\n",
      "Initial portfolio value: 100000\n",
      "Final portfolio value: 100000.0\n",
      "Final accumulative portfolio return: 1.0\n",
      "Maximum DrawDown: 0.0\n",
      "Sharpe ratio: nan\n",
      "=================================\n"
     ]
    },
    {
     "name": "stderr",
     "output_type": "stream",
     "text": [
      "C:\\Users\\xutia\\AppData\\Roaming\\Python\\Python310\\site-packages\\quantstats\\stats.py:294: RuntimeWarning: invalid value encountered in scalar divide\n",
      "  res = returns.mean() / divisor\n",
      "  8%|▊         | 8/100 [05:24<1:01:41, 40.24s/it]"
     ]
    },
    {
     "name": "stdout",
     "output_type": "stream",
     "text": [
      "=================================\n",
      "Initial portfolio value: 100000\n",
      "Final portfolio value: 100000.0\n",
      "Final accumulative portfolio return: 1.0\n",
      "Maximum DrawDown: 0.0\n",
      "Sharpe ratio: nan\n",
      "=================================\n"
     ]
    },
    {
     "name": "stderr",
     "output_type": "stream",
     "text": [
      "C:\\Users\\xutia\\AppData\\Roaming\\Python\\Python310\\site-packages\\quantstats\\stats.py:294: RuntimeWarning: invalid value encountered in scalar divide\n",
      "  res = returns.mean() / divisor\n"
     ]
    },
    {
     "name": "stdout",
     "output_type": "stream",
     "text": [
      "=================================\n",
      "Initial portfolio value: 100000\n",
      "Final portfolio value: 100000.0\n",
      "Final accumulative portfolio return: 1.0\n",
      "Maximum DrawDown: 0.0\n",
      "Sharpe ratio: nan\n",
      "=================================\n"
     ]
    },
    {
     "name": "stderr",
     "output_type": "stream",
     "text": [
      "C:\\Users\\xutia\\AppData\\Roaming\\Python\\Python310\\site-packages\\quantstats\\stats.py:294: RuntimeWarning: invalid value encountered in scalar divide\n",
      "  res = returns.mean() / divisor\n",
      "  9%|▉         | 9/100 [06:16<1:06:28, 43.83s/it]"
     ]
    },
    {
     "name": "stdout",
     "output_type": "stream",
     "text": [
      "Validation performance at episode 9: 69314718.05599453\n",
      "No improvement for 2 validation(s).\n",
      "=================================\n",
      "Initial portfolio value: 100000\n",
      "Final portfolio value: 100000.0\n",
      "Final accumulative portfolio return: 1.0\n",
      "Maximum DrawDown: 0.0\n",
      "Sharpe ratio: nan\n",
      "=================================\n"
     ]
    },
    {
     "name": "stderr",
     "output_type": "stream",
     "text": [
      "C:\\Users\\xutia\\AppData\\Roaming\\Python\\Python310\\site-packages\\quantstats\\stats.py:294: RuntimeWarning: invalid value encountered in scalar divide\n",
      "  res = returns.mean() / divisor\n",
      " 10%|█         | 10/100 [06:54<1:03:06, 42.07s/it]"
     ]
    },
    {
     "name": "stdout",
     "output_type": "stream",
     "text": [
      "=================================\n",
      "Initial portfolio value: 100000\n",
      "Final portfolio value: 100000.0\n",
      "Final accumulative portfolio return: 1.0\n",
      "Maximum DrawDown: 0.0\n",
      "Sharpe ratio: nan\n",
      "=================================\n"
     ]
    },
    {
     "name": "stderr",
     "output_type": "stream",
     "text": [
      "C:\\Users\\xutia\\AppData\\Roaming\\Python\\Python310\\site-packages\\quantstats\\stats.py:294: RuntimeWarning: invalid value encountered in scalar divide\n",
      "  res = returns.mean() / divisor\n",
      " 11%|█         | 11/100 [07:32<1:00:24, 40.73s/it]"
     ]
    },
    {
     "name": "stdout",
     "output_type": "stream",
     "text": [
      "=================================\n",
      "Initial portfolio value: 100000\n",
      "Final portfolio value: 100000.0\n",
      "Final accumulative portfolio return: 1.0\n",
      "Maximum DrawDown: 0.0\n",
      "Sharpe ratio: nan\n",
      "=================================\n"
     ]
    },
    {
     "name": "stderr",
     "output_type": "stream",
     "text": [
      "C:\\Users\\xutia\\AppData\\Roaming\\Python\\Python310\\site-packages\\quantstats\\stats.py:294: RuntimeWarning: invalid value encountered in scalar divide\n",
      "  res = returns.mean() / divisor\n"
     ]
    },
    {
     "name": "stdout",
     "output_type": "stream",
     "text": [
      "=================================\n",
      "Initial portfolio value: 100000\n",
      "Final portfolio value: 100000.0\n",
      "Final accumulative portfolio return: 1.0\n",
      "Maximum DrawDown: 0.0\n",
      "Sharpe ratio: nan\n",
      "=================================\n"
     ]
    },
    {
     "name": "stderr",
     "output_type": "stream",
     "text": [
      "C:\\Users\\xutia\\AppData\\Roaming\\Python\\Python310\\site-packages\\quantstats\\stats.py:294: RuntimeWarning: invalid value encountered in scalar divide\n",
      "  res = returns.mean() / divisor\n",
      " 12%|█▏        | 12/100 [08:20<1:03:20, 43.19s/it]"
     ]
    },
    {
     "name": "stdout",
     "output_type": "stream",
     "text": [
      "Validation performance at episode 12: 69314718.05599453\n",
      "No improvement for 3 validation(s).\n",
      "=================================\n",
      "Initial portfolio value: 100000\n",
      "Final portfolio value: 100000.0\n",
      "Final accumulative portfolio return: 1.0\n",
      "Maximum DrawDown: 0.0\n",
      "Sharpe ratio: nan\n",
      "=================================\n"
     ]
    },
    {
     "name": "stderr",
     "output_type": "stream",
     "text": [
      "C:\\Users\\xutia\\AppData\\Roaming\\Python\\Python310\\site-packages\\quantstats\\stats.py:294: RuntimeWarning: invalid value encountered in scalar divide\n",
      "  res = returns.mean() / divisor\n",
      " 13%|█▎        | 13/100 [08:59<1:00:27, 41.70s/it]"
     ]
    },
    {
     "name": "stdout",
     "output_type": "stream",
     "text": [
      "=================================\n",
      "Initial portfolio value: 100000\n",
      "Final portfolio value: 100000.0\n",
      "Final accumulative portfolio return: 1.0\n",
      "Maximum DrawDown: 0.0\n",
      "Sharpe ratio: nan\n",
      "=================================\n"
     ]
    },
    {
     "name": "stderr",
     "output_type": "stream",
     "text": [
      "C:\\Users\\xutia\\AppData\\Roaming\\Python\\Python310\\site-packages\\quantstats\\stats.py:294: RuntimeWarning: invalid value encountered in scalar divide\n",
      "  res = returns.mean() / divisor\n",
      " 14%|█▍        | 14/100 [09:37<58:07, 40.56s/it]  "
     ]
    },
    {
     "name": "stdout",
     "output_type": "stream",
     "text": [
      "=================================\n",
      "Initial portfolio value: 100000\n",
      "Final portfolio value: 100000.0\n",
      "Final accumulative portfolio return: 1.0\n",
      "Maximum DrawDown: 0.0\n",
      "Sharpe ratio: nan\n",
      "=================================\n"
     ]
    },
    {
     "name": "stderr",
     "output_type": "stream",
     "text": [
      "C:\\Users\\xutia\\AppData\\Roaming\\Python\\Python310\\site-packages\\quantstats\\stats.py:294: RuntimeWarning: invalid value encountered in scalar divide\n",
      "  res = returns.mean() / divisor\n"
     ]
    },
    {
     "name": "stdout",
     "output_type": "stream",
     "text": [
      "=================================\n",
      "Initial portfolio value: 100000\n",
      "Final portfolio value: 100000.0\n",
      "Final accumulative portfolio return: 1.0\n",
      "Maximum DrawDown: 0.0\n",
      "Sharpe ratio: nan\n",
      "=================================\n"
     ]
    },
    {
     "name": "stderr",
     "output_type": "stream",
     "text": [
      "C:\\Users\\xutia\\AppData\\Roaming\\Python\\Python310\\site-packages\\quantstats\\stats.py:294: RuntimeWarning: invalid value encountered in scalar divide\n",
      "  res = returns.mean() / divisor\n",
      " 15%|█▌        | 15/100 [10:24<1:00:34, 42.76s/it]"
     ]
    },
    {
     "name": "stdout",
     "output_type": "stream",
     "text": [
      "Validation performance at episode 15: 69314718.05599453\n",
      "No improvement for 4 validation(s).\n",
      "=================================\n",
      "Initial portfolio value: 100000\n",
      "Final portfolio value: 100000.0\n",
      "Final accumulative portfolio return: 1.0\n",
      "Maximum DrawDown: 0.0\n",
      "Sharpe ratio: nan\n",
      "=================================\n"
     ]
    },
    {
     "name": "stderr",
     "output_type": "stream",
     "text": [
      "C:\\Users\\xutia\\AppData\\Roaming\\Python\\Python310\\site-packages\\quantstats\\stats.py:294: RuntimeWarning: invalid value encountered in scalar divide\n",
      "  res = returns.mean() / divisor\n",
      " 16%|█▌        | 16/100 [11:03<58:00, 41.43s/it]  "
     ]
    },
    {
     "name": "stdout",
     "output_type": "stream",
     "text": [
      "=================================\n",
      "Initial portfolio value: 100000\n",
      "Final portfolio value: 100000.0\n",
      "Final accumulative portfolio return: 1.0\n",
      "Maximum DrawDown: 0.0\n",
      "Sharpe ratio: nan\n",
      "=================================\n"
     ]
    },
    {
     "name": "stderr",
     "output_type": "stream",
     "text": [
      "C:\\Users\\xutia\\AppData\\Roaming\\Python\\Python310\\site-packages\\quantstats\\stats.py:294: RuntimeWarning: invalid value encountered in scalar divide\n",
      "  res = returns.mean() / divisor\n",
      " 17%|█▋        | 17/100 [11:41<55:56, 40.45s/it]"
     ]
    },
    {
     "name": "stdout",
     "output_type": "stream",
     "text": [
      "=================================\n",
      "Initial portfolio value: 100000\n",
      "Final portfolio value: 100000.0\n",
      "Final accumulative portfolio return: 1.0\n",
      "Maximum DrawDown: 0.0\n",
      "Sharpe ratio: nan\n",
      "=================================\n"
     ]
    },
    {
     "name": "stderr",
     "output_type": "stream",
     "text": [
      "C:\\Users\\xutia\\AppData\\Roaming\\Python\\Python310\\site-packages\\quantstats\\stats.py:294: RuntimeWarning: invalid value encountered in scalar divide\n",
      "  res = returns.mean() / divisor\n"
     ]
    },
    {
     "name": "stdout",
     "output_type": "stream",
     "text": [
      "=================================\n",
      "Initial portfolio value: 100000\n",
      "Final portfolio value: 100000.0\n",
      "Final accumulative portfolio return: 1.0\n",
      "Maximum DrawDown: 0.0\n",
      "Sharpe ratio: nan\n",
      "=================================\n"
     ]
    },
    {
     "name": "stderr",
     "output_type": "stream",
     "text": [
      "C:\\Users\\xutia\\AppData\\Roaming\\Python\\Python310\\site-packages\\quantstats\\stats.py:294: RuntimeWarning: invalid value encountered in scalar divide\n",
      "  res = returns.mean() / divisor\n",
      " 18%|█▊        | 18/100 [12:30<58:43, 42.97s/it]"
     ]
    },
    {
     "name": "stdout",
     "output_type": "stream",
     "text": [
      "Validation performance at episode 18: 69314718.05599453\n",
      "No improvement for 5 validation(s).\n",
      "=================================\n",
      "Initial portfolio value: 100000\n",
      "Final portfolio value: 100000.0\n",
      "Final accumulative portfolio return: 1.0\n",
      "Maximum DrawDown: 0.0\n",
      "Sharpe ratio: nan\n",
      "=================================\n"
     ]
    },
    {
     "name": "stderr",
     "output_type": "stream",
     "text": [
      "C:\\Users\\xutia\\AppData\\Roaming\\Python\\Python310\\site-packages\\quantstats\\stats.py:294: RuntimeWarning: invalid value encountered in scalar divide\n",
      "  res = returns.mean() / divisor\n",
      " 19%|█▉        | 19/100 [13:08<56:06, 41.56s/it]"
     ]
    },
    {
     "name": "stdout",
     "output_type": "stream",
     "text": [
      "=================================\n",
      "Initial portfolio value: 100000\n",
      "Final portfolio value: 100000.0\n",
      "Final accumulative portfolio return: 1.0\n",
      "Maximum DrawDown: 0.0\n",
      "Sharpe ratio: nan\n",
      "=================================\n"
     ]
    },
    {
     "name": "stderr",
     "output_type": "stream",
     "text": [
      "C:\\Users\\xutia\\AppData\\Roaming\\Python\\Python310\\site-packages\\quantstats\\stats.py:294: RuntimeWarning: invalid value encountered in scalar divide\n",
      "  res = returns.mean() / divisor\n",
      " 20%|██        | 20/100 [13:46<54:05, 40.57s/it]"
     ]
    },
    {
     "name": "stdout",
     "output_type": "stream",
     "text": [
      "=================================\n",
      "Initial portfolio value: 100000\n",
      "Final portfolio value: 100000.0\n",
      "Final accumulative portfolio return: 1.0\n",
      "Maximum DrawDown: 0.0\n",
      "Sharpe ratio: nan\n",
      "=================================\n"
     ]
    },
    {
     "name": "stderr",
     "output_type": "stream",
     "text": [
      "C:\\Users\\xutia\\AppData\\Roaming\\Python\\Python310\\site-packages\\quantstats\\stats.py:294: RuntimeWarning: invalid value encountered in scalar divide\n",
      "  res = returns.mean() / divisor\n"
     ]
    },
    {
     "name": "stdout",
     "output_type": "stream",
     "text": [
      "=================================\n",
      "Initial portfolio value: 100000\n",
      "Final portfolio value: 100000.0\n",
      "Final accumulative portfolio return: 1.0\n",
      "Maximum DrawDown: 0.0\n",
      "Sharpe ratio: nan\n",
      "=================================\n"
     ]
    },
    {
     "name": "stderr",
     "output_type": "stream",
     "text": [
      "C:\\Users\\xutia\\AppData\\Roaming\\Python\\Python310\\site-packages\\quantstats\\stats.py:294: RuntimeWarning: invalid value encountered in scalar divide\n",
      "  res = returns.mean() / divisor\n",
      " 21%|██        | 21/100 [14:35<56:27, 42.88s/it]"
     ]
    },
    {
     "name": "stdout",
     "output_type": "stream",
     "text": [
      "Validation performance at episode 21: 69314718.05599453\n",
      "No improvement for 6 validation(s).\n",
      "=================================\n",
      "Initial portfolio value: 100000\n",
      "Final portfolio value: 100000.0\n",
      "Final accumulative portfolio return: 1.0\n",
      "Maximum DrawDown: 0.0\n",
      "Sharpe ratio: nan\n",
      "=================================\n"
     ]
    },
    {
     "name": "stderr",
     "output_type": "stream",
     "text": [
      "C:\\Users\\xutia\\AppData\\Roaming\\Python\\Python310\\site-packages\\quantstats\\stats.py:294: RuntimeWarning: invalid value encountered in scalar divide\n",
      "  res = returns.mean() / divisor\n",
      " 22%|██▏       | 22/100 [15:12<53:42, 41.31s/it]"
     ]
    },
    {
     "name": "stdout",
     "output_type": "stream",
     "text": [
      "=================================\n",
      "Initial portfolio value: 100000\n",
      "Final portfolio value: 100000.0\n",
      "Final accumulative portfolio return: 1.0\n",
      "Maximum DrawDown: 0.0\n",
      "Sharpe ratio: nan\n",
      "=================================\n"
     ]
    },
    {
     "name": "stderr",
     "output_type": "stream",
     "text": [
      "C:\\Users\\xutia\\AppData\\Roaming\\Python\\Python310\\site-packages\\quantstats\\stats.py:294: RuntimeWarning: invalid value encountered in scalar divide\n",
      "  res = returns.mean() / divisor\n",
      " 23%|██▎       | 23/100 [15:50<51:42, 40.29s/it]"
     ]
    },
    {
     "name": "stdout",
     "output_type": "stream",
     "text": [
      "=================================\n",
      "Initial portfolio value: 100000\n",
      "Final portfolio value: 100000.0\n",
      "Final accumulative portfolio return: 1.0\n",
      "Maximum DrawDown: 0.0\n",
      "Sharpe ratio: nan\n",
      "=================================\n"
     ]
    },
    {
     "name": "stderr",
     "output_type": "stream",
     "text": [
      "C:\\Users\\xutia\\AppData\\Roaming\\Python\\Python310\\site-packages\\quantstats\\stats.py:294: RuntimeWarning: invalid value encountered in scalar divide\n",
      "  res = returns.mean() / divisor\n"
     ]
    },
    {
     "name": "stdout",
     "output_type": "stream",
     "text": [
      "=================================\n",
      "Initial portfolio value: 100000\n",
      "Final portfolio value: 100000.0\n",
      "Final accumulative portfolio return: 1.0\n",
      "Maximum DrawDown: 0.0\n",
      "Sharpe ratio: nan\n",
      "=================================\n"
     ]
    },
    {
     "name": "stderr",
     "output_type": "stream",
     "text": [
      "C:\\Users\\xutia\\AppData\\Roaming\\Python\\Python310\\site-packages\\quantstats\\stats.py:294: RuntimeWarning: invalid value encountered in scalar divide\n",
      "  res = returns.mean() / divisor\n",
      " 24%|██▍       | 24/100 [16:38<54:06, 42.71s/it]"
     ]
    },
    {
     "name": "stdout",
     "output_type": "stream",
     "text": [
      "Validation performance at episode 24: 69314718.05599453\n",
      "No improvement for 7 validation(s).\n",
      "=================================\n",
      "Initial portfolio value: 100000\n",
      "Final portfolio value: 100000.0\n",
      "Final accumulative portfolio return: 1.0\n",
      "Maximum DrawDown: 0.0\n",
      "Sharpe ratio: nan\n",
      "=================================\n"
     ]
    },
    {
     "name": "stderr",
     "output_type": "stream",
     "text": [
      "C:\\Users\\xutia\\AppData\\Roaming\\Python\\Python310\\site-packages\\quantstats\\stats.py:294: RuntimeWarning: invalid value encountered in scalar divide\n",
      "  res = returns.mean() / divisor\n",
      " 25%|██▌       | 25/100 [17:16<51:30, 41.21s/it]"
     ]
    },
    {
     "name": "stdout",
     "output_type": "stream",
     "text": [
      "=================================\n",
      "Initial portfolio value: 100000\n",
      "Final portfolio value: 100000.0\n",
      "Final accumulative portfolio return: 1.0\n",
      "Maximum DrawDown: 0.0\n",
      "Sharpe ratio: nan\n",
      "=================================\n"
     ]
    },
    {
     "name": "stderr",
     "output_type": "stream",
     "text": [
      "C:\\Users\\xutia\\AppData\\Roaming\\Python\\Python310\\site-packages\\quantstats\\stats.py:294: RuntimeWarning: invalid value encountered in scalar divide\n",
      "  res = returns.mean() / divisor\n",
      " 26%|██▌       | 26/100 [17:54<49:35, 40.22s/it]"
     ]
    },
    {
     "name": "stdout",
     "output_type": "stream",
     "text": [
      "=================================\n",
      "Initial portfolio value: 100000\n",
      "Final portfolio value: 100000.0\n",
      "Final accumulative portfolio return: 1.0\n",
      "Maximum DrawDown: 0.0\n",
      "Sharpe ratio: nan\n",
      "=================================\n"
     ]
    },
    {
     "name": "stderr",
     "output_type": "stream",
     "text": [
      "C:\\Users\\xutia\\AppData\\Roaming\\Python\\Python310\\site-packages\\quantstats\\stats.py:294: RuntimeWarning: invalid value encountered in scalar divide\n",
      "  res = returns.mean() / divisor\n"
     ]
    },
    {
     "name": "stdout",
     "output_type": "stream",
     "text": [
      "=================================\n",
      "Initial portfolio value: 100000\n",
      "Final portfolio value: 100000.0\n",
      "Final accumulative portfolio return: 1.0\n",
      "Maximum DrawDown: 0.0\n",
      "Sharpe ratio: nan\n",
      "=================================\n"
     ]
    },
    {
     "name": "stderr",
     "output_type": "stream",
     "text": [
      "C:\\Users\\xutia\\AppData\\Roaming\\Python\\Python310\\site-packages\\quantstats\\stats.py:294: RuntimeWarning: invalid value encountered in scalar divide\n",
      "  res = returns.mean() / divisor\n",
      " 27%|██▋       | 27/100 [18:42<51:54, 42.67s/it]"
     ]
    },
    {
     "name": "stdout",
     "output_type": "stream",
     "text": [
      "Validation performance at episode 27: 69314718.05599453\n",
      "No improvement for 8 validation(s).\n",
      "=================================\n",
      "Initial portfolio value: 100000\n",
      "Final portfolio value: 100000.0\n",
      "Final accumulative portfolio return: 1.0\n",
      "Maximum DrawDown: 0.0\n",
      "Sharpe ratio: nan\n",
      "=================================\n"
     ]
    },
    {
     "name": "stderr",
     "output_type": "stream",
     "text": [
      "C:\\Users\\xutia\\AppData\\Roaming\\Python\\Python310\\site-packages\\quantstats\\stats.py:294: RuntimeWarning: invalid value encountered in scalar divide\n",
      "  res = returns.mean() / divisor\n",
      " 28%|██▊       | 28/100 [19:21<49:35, 41.32s/it]"
     ]
    },
    {
     "name": "stdout",
     "output_type": "stream",
     "text": [
      "=================================\n",
      "Initial portfolio value: 100000\n",
      "Final portfolio value: 100000.0\n",
      "Final accumulative portfolio return: 1.0\n",
      "Maximum DrawDown: 0.0\n",
      "Sharpe ratio: nan\n",
      "=================================\n"
     ]
    },
    {
     "name": "stderr",
     "output_type": "stream",
     "text": [
      "C:\\Users\\xutia\\AppData\\Roaming\\Python\\Python310\\site-packages\\quantstats\\stats.py:294: RuntimeWarning: invalid value encountered in scalar divide\n",
      "  res = returns.mean() / divisor\n",
      " 29%|██▉       | 29/100 [19:58<47:37, 40.25s/it]"
     ]
    },
    {
     "name": "stdout",
     "output_type": "stream",
     "text": [
      "=================================\n",
      "Initial portfolio value: 100000\n",
      "Final portfolio value: 100000.0\n",
      "Final accumulative portfolio return: 1.0\n",
      "Maximum DrawDown: 0.0\n",
      "Sharpe ratio: nan\n",
      "=================================\n"
     ]
    },
    {
     "name": "stderr",
     "output_type": "stream",
     "text": [
      "C:\\Users\\xutia\\AppData\\Roaming\\Python\\Python310\\site-packages\\quantstats\\stats.py:294: RuntimeWarning: invalid value encountered in scalar divide\n",
      "  res = returns.mean() / divisor\n"
     ]
    },
    {
     "name": "stdout",
     "output_type": "stream",
     "text": [
      "=================================\n",
      "Initial portfolio value: 100000\n",
      "Final portfolio value: 100000.0\n",
      "Final accumulative portfolio return: 1.0\n",
      "Maximum DrawDown: 0.0\n",
      "Sharpe ratio: nan\n",
      "=================================\n"
     ]
    },
    {
     "name": "stderr",
     "output_type": "stream",
     "text": [
      "C:\\Users\\xutia\\AppData\\Roaming\\Python\\Python310\\site-packages\\quantstats\\stats.py:294: RuntimeWarning: invalid value encountered in scalar divide\n",
      "  res = returns.mean() / divisor\n",
      " 30%|███       | 30/100 [20:47<49:50, 42.72s/it]"
     ]
    },
    {
     "name": "stdout",
     "output_type": "stream",
     "text": [
      "Validation performance at episode 30: 69314718.05599453\n",
      "No improvement for 9 validation(s).\n",
      "=================================\n",
      "Initial portfolio value: 100000\n",
      "Final portfolio value: 100000.0\n",
      "Final accumulative portfolio return: 1.0\n",
      "Maximum DrawDown: 0.0\n",
      "Sharpe ratio: nan\n",
      "=================================\n"
     ]
    },
    {
     "name": "stderr",
     "output_type": "stream",
     "text": [
      "C:\\Users\\xutia\\AppData\\Roaming\\Python\\Python310\\site-packages\\quantstats\\stats.py:294: RuntimeWarning: invalid value encountered in scalar divide\n",
      "  res = returns.mean() / divisor\n",
      " 31%|███       | 31/100 [21:25<47:33, 41.35s/it]"
     ]
    },
    {
     "name": "stdout",
     "output_type": "stream",
     "text": [
      "=================================\n",
      "Initial portfolio value: 100000\n",
      "Final portfolio value: 100000.0\n",
      "Final accumulative portfolio return: 1.0\n",
      "Maximum DrawDown: 0.0\n",
      "Sharpe ratio: nan\n",
      "=================================\n"
     ]
    },
    {
     "name": "stderr",
     "output_type": "stream",
     "text": [
      "C:\\Users\\xutia\\AppData\\Roaming\\Python\\Python310\\site-packages\\quantstats\\stats.py:294: RuntimeWarning: invalid value encountered in scalar divide\n",
      "  res = returns.mean() / divisor\n",
      " 32%|███▏      | 32/100 [22:03<45:45, 40.38s/it]"
     ]
    },
    {
     "name": "stdout",
     "output_type": "stream",
     "text": [
      "=================================\n",
      "Initial portfolio value: 100000\n",
      "Final portfolio value: 100000.0\n",
      "Final accumulative portfolio return: 1.0\n",
      "Maximum DrawDown: 0.0\n",
      "Sharpe ratio: nan\n",
      "=================================\n"
     ]
    },
    {
     "name": "stderr",
     "output_type": "stream",
     "text": [
      "C:\\Users\\xutia\\AppData\\Roaming\\Python\\Python310\\site-packages\\quantstats\\stats.py:294: RuntimeWarning: invalid value encountered in scalar divide\n",
      "  res = returns.mean() / divisor\n"
     ]
    },
    {
     "name": "stdout",
     "output_type": "stream",
     "text": [
      "=================================\n",
      "Initial portfolio value: 100000\n",
      "Final portfolio value: 100000.0\n",
      "Final accumulative portfolio return: 1.0\n",
      "Maximum DrawDown: 0.0\n",
      "Sharpe ratio: nan\n",
      "=================================\n"
     ]
    },
    {
     "name": "stderr",
     "output_type": "stream",
     "text": [
      "C:\\Users\\xutia\\AppData\\Roaming\\Python\\Python310\\site-packages\\quantstats\\stats.py:294: RuntimeWarning: invalid value encountered in scalar divide\n",
      "  res = returns.mean() / divisor\n",
      " 32%|███▏      | 32/100 [22:52<48:36, 42.88s/it]"
     ]
    },
    {
     "name": "stdout",
     "output_type": "stream",
     "text": [
      "Validation performance at episode 33: 69314718.05599453\n",
      "No improvement for 10 validation(s).\n",
      "Early stopping due to no improvement on validation set.\n",
      "Loaded best model based on validation performance.\n"
     ]
    },
    {
     "name": "stderr",
     "output_type": "stream",
     "text": [
      "\n",
      "C:\\Users\\xutia\\AppData\\Local\\Temp\\ipykernel_28184\\320573626.py:59: FutureWarning: You are using `torch.load` with `weights_only=False` (the current default value), which uses the default pickle module implicitly. It is possible to construct malicious pickle data which will execute arbitrary code during unpickling (See https://github.com/pytorch/pytorch/blob/main/SECURITY.md#untrusted-models for more details). In a future release, the default value for `weights_only` will be flipped to `True`. This limits the functions that could be executed during unpickling. Arbitrary objects will no longer be allowed to be loaded via this mode unless they are explicitly allowlisted by the user via `torch.serialization.add_safe_globals`. We recommend you start setting `weights_only=True` for any use case where you don't have full control of the loaded file. Please open an issue on GitHub for any issues related to this experimental feature.\n",
      "  EIIE_policy.load_state_dict(torch.load(model_filename))\n"
     ]
    },
    {
     "name": "stdout",
     "output_type": "stream",
     "text": [
      "=================================\n",
      "Initial portfolio value: 100000\n",
      "Final portfolio value: 100000.0\n",
      "Final accumulative portfolio return: 1.0\n",
      "Maximum DrawDown: 0.0\n",
      "Sharpe ratio: nan\n",
      "=================================\n"
     ]
    },
    {
     "name": "stderr",
     "output_type": "stream",
     "text": [
      "C:\\Users\\xutia\\AppData\\Roaming\\Python\\Python310\\site-packages\\quantstats\\stats.py:294: RuntimeWarning: invalid value encountered in scalar divide\n",
      "  res = returns.mean() / divisor\n",
      "C:\\Users\\xutia\\AppData\\Local\\Temp\\ipykernel_28184\\3136931484.py:70: RuntimeWarning: invalid value encountered in scalar divide\n",
      "  sharpe_ratio = np.mean(excess_returns) / np.std(excess_returns)\n"
     ]
    },
    {
     "name": "stdout",
     "output_type": "stream",
     "text": [
      "Metrics - train_final_value: 100000.0, train_drawdown: 0.0, train_sharpe: nan, train_cumulative: 1.0\n",
      "=================================\n",
      "Initial portfolio value: 100000\n",
      "Final portfolio value: 100000.0\n",
      "Final accumulative portfolio return: 1.0\n",
      "Maximum DrawDown: 0.0\n",
      "Sharpe ratio: nan\n",
      "=================================\n"
     ]
    },
    {
     "name": "stderr",
     "output_type": "stream",
     "text": [
      "C:\\Users\\xutia\\AppData\\Roaming\\Python\\Python310\\site-packages\\quantstats\\stats.py:294: RuntimeWarning: invalid value encountered in scalar divide\n",
      "  res = returns.mean() / divisor\n",
      "C:\\Users\\xutia\\AppData\\Local\\Temp\\ipykernel_28184\\3136931484.py:70: RuntimeWarning: invalid value encountered in scalar divide\n",
      "  sharpe_ratio = np.mean(excess_returns) / np.std(excess_returns)\n"
     ]
    },
    {
     "name": "stdout",
     "output_type": "stream",
     "text": [
      "Metrics - test_final_value: 100000.0, test_drawdown: 0.0, test_sharpe: nan, test_cumulative: 1.0\n",
      "Training model with TIME_WINDOW=30, K_SIZE=5, CONV_MID=20, CONV_FINAL=20, LEARNING_RATE=0.01\n"
     ]
    },
    {
     "name": "stderr",
     "output_type": "stream",
     "text": [
      "  0%|          | 0/100 [00:00<?, ?it/s]"
     ]
    },
    {
     "name": "stdout",
     "output_type": "stream",
     "text": [
      "=================================\n",
      "Initial portfolio value: 100000\n",
      "Final portfolio value: 282054.28125\n",
      "Final accumulative portfolio return: 2.8205428125\n",
      "Maximum DrawDown: -0.3024198212731014\n",
      "Sharpe ratio: 0.8713159197273583\n",
      "=================================\n"
     ]
    },
    {
     "name": "stderr",
     "output_type": "stream",
     "text": [
      "  1%|          | 1/100 [00:37<1:02:36, 37.94s/it]"
     ]
    },
    {
     "name": "stdout",
     "output_type": "stream",
     "text": [
      "=================================\n",
      "Initial portfolio value: 100000\n",
      "Final portfolio value: 563125.0625\n",
      "Final accumulative portfolio return: 5.631250625\n",
      "Maximum DrawDown: -0.28038302652304825\n",
      "Sharpe ratio: 1.1523745960363612\n",
      "=================================\n"
     ]
    },
    {
     "name": "stderr",
     "output_type": "stream",
     "text": [
      "  2%|▏         | 2/100 [01:15<1:02:01, 37.98s/it]"
     ]
    },
    {
     "name": "stdout",
     "output_type": "stream",
     "text": [
      "=================================\n",
      "Initial portfolio value: 100000\n",
      "Final portfolio value: 713068.25\n",
      "Final accumulative portfolio return: 7.1306825\n",
      "Maximum DrawDown: -0.2803929438625833\n",
      "Sharpe ratio: 1.2636484512790405\n",
      "=================================\n",
      "=================================\n",
      "Initial portfolio value: 100000\n",
      "Final portfolio value: 87007.4765625\n",
      "Final accumulative portfolio return: 0.870074765625\n",
      "Maximum DrawDown: -0.4337771442688827\n",
      "Sharpe ratio: -0.16458075258382684\n",
      "=================================\n"
     ]
    },
    {
     "name": "stderr",
     "output_type": "stream",
     "text": [
      "  3%|▎         | 3/100 [02:05<1:09:43, 43.13s/it]"
     ]
    },
    {
     "name": "stdout",
     "output_type": "stream",
     "text": [
      "Validation performance at episode 3: -1.8062667040827758\n",
      "New best validation performance: -1.8062667040827758\n",
      "=================================\n",
      "Initial portfolio value: 100000\n",
      "Final portfolio value: 948933.75\n",
      "Final accumulative portfolio return: 9.4893375\n",
      "Maximum DrawDown: -0.2803929554622968\n",
      "Sharpe ratio: 1.4293417157694701\n",
      "=================================\n"
     ]
    },
    {
     "name": "stderr",
     "output_type": "stream",
     "text": [
      "  4%|▍         | 4/100 [02:43<1:05:42, 41.07s/it]"
     ]
    },
    {
     "name": "stdout",
     "output_type": "stream",
     "text": [
      "=================================\n",
      "Initial portfolio value: 100000\n",
      "Final portfolio value: 546392.5625\n",
      "Final accumulative portfolio return: 5.463925625\n",
      "Maximum DrawDown: -0.28039293847679625\n",
      "Sharpe ratio: 1.1149555502456079\n",
      "=================================\n"
     ]
    },
    {
     "name": "stderr",
     "output_type": "stream",
     "text": [
      "  5%|▌         | 5/100 [03:21<1:03:20, 40.01s/it]"
     ]
    },
    {
     "name": "stdout",
     "output_type": "stream",
     "text": [
      "=================================\n",
      "Initial portfolio value: 100000\n",
      "Final portfolio value: 533764.5625\n",
      "Final accumulative portfolio return: 5.337645625\n",
      "Maximum DrawDown: -0.2803929927663864\n",
      "Sharpe ratio: 1.1569594965467425\n",
      "=================================\n",
      "=================================\n",
      "Initial portfolio value: 100000\n",
      "Final portfolio value: 61190.390625\n",
      "Final accumulative portfolio return: 0.61190390625\n",
      "Maximum DrawDown: -0.49101793458747267\n",
      "Sharpe ratio: -0.8233912552363207\n",
      "=================================\n"
     ]
    },
    {
     "name": "stderr",
     "output_type": "stream",
     "text": [
      "  6%|▌         | 6/100 [04:10<1:07:33, 43.12s/it]"
     ]
    },
    {
     "name": "stdout",
     "output_type": "stream",
     "text": [
      "Validation performance at episode 6: -1.581951019237857\n",
      "New best validation performance: -1.581951019237857\n",
      "=================================\n",
      "Initial portfolio value: 100000\n",
      "Final portfolio value: 623653.0\n",
      "Final accumulative portfolio return: 6.23653\n",
      "Maximum DrawDown: -0.21448188466171036\n",
      "Sharpe ratio: 1.2887772035053429\n",
      "=================================\n"
     ]
    },
    {
     "name": "stderr",
     "output_type": "stream",
     "text": [
      "  7%|▋         | 7/100 [04:48<1:04:16, 41.47s/it]"
     ]
    },
    {
     "name": "stdout",
     "output_type": "stream",
     "text": [
      "=================================\n",
      "Initial portfolio value: 100000\n",
      "Final portfolio value: 836583.9375\n",
      "Final accumulative portfolio return: 8.365839375\n",
      "Maximum DrawDown: -0.2795451697808442\n",
      "Sharpe ratio: 1.4391910252338032\n",
      "=================================\n"
     ]
    },
    {
     "name": "stderr",
     "output_type": "stream",
     "text": [
      "  8%|▊         | 8/100 [05:26<1:01:58, 40.41s/it]"
     ]
    },
    {
     "name": "stdout",
     "output_type": "stream",
     "text": [
      "=================================\n",
      "Initial portfolio value: 100000\n",
      "Final portfolio value: 337007.0\n",
      "Final accumulative portfolio return: 3.37007\n",
      "Maximum DrawDown: -0.30301189736472445\n",
      "Sharpe ratio: 0.8302549051885142\n",
      "=================================\n",
      "=================================\n",
      "Initial portfolio value: 100000\n",
      "Final portfolio value: 109690.65625\n",
      "Final accumulative portfolio return: 1.0969065625\n",
      "Maximum DrawDown: -0.24619744490008832\n",
      "Sharpe ratio: 0.3143820625784557\n",
      "=================================\n"
     ]
    },
    {
     "name": "stderr",
     "output_type": "stream",
     "text": [
      "  9%|▉         | 9/100 [06:15<1:05:23, 43.11s/it]"
     ]
    },
    {
     "name": "stdout",
     "output_type": "stream",
     "text": [
      "Validation performance at episode 9: -3.144202467663608\n",
      "No improvement for 1 validation(s).\n",
      "=================================\n",
      "Initial portfolio value: 100000\n",
      "Final portfolio value: 426276.53125\n",
      "Final accumulative portfolio return: 4.2627653125\n",
      "Maximum DrawDown: -0.2791176272669509\n",
      "Sharpe ratio: 0.976938692314477\n",
      "=================================\n"
     ]
    },
    {
     "name": "stderr",
     "output_type": "stream",
     "text": [
      " 10%|█         | 10/100 [06:53<1:02:23, 41.59s/it]"
     ]
    },
    {
     "name": "stdout",
     "output_type": "stream",
     "text": [
      "=================================\n",
      "Initial portfolio value: 100000\n",
      "Final portfolio value: 663180.3125\n",
      "Final accumulative portfolio return: 6.631803125\n",
      "Maximum DrawDown: -0.2792160345764062\n",
      "Sharpe ratio: 1.2508624012861398\n",
      "=================================\n"
     ]
    },
    {
     "name": "stderr",
     "output_type": "stream",
     "text": [
      " 11%|█         | 11/100 [07:32<1:00:17, 40.65s/it]"
     ]
    },
    {
     "name": "stdout",
     "output_type": "stream",
     "text": [
      "=================================\n",
      "Initial portfolio value: 100000\n",
      "Final portfolio value: 500861.0625\n",
      "Final accumulative portfolio return: 5.008610625\n",
      "Maximum DrawDown: -0.2652751221726326\n",
      "Sharpe ratio: 1.0824910270798203\n",
      "=================================\n",
      "=================================\n",
      "Initial portfolio value: 100000\n",
      "Final portfolio value: 93862.546875\n",
      "Final accumulative portfolio return: 0.93862546875\n",
      "Maximum DrawDown: -0.3666021812483614\n",
      "Sharpe ratio: 0.027470540550136046\n",
      "=================================\n"
     ]
    },
    {
     "name": "stderr",
     "output_type": "stream",
     "text": [
      " 12%|█▏        | 12/100 [08:21<1:03:26, 43.26s/it]"
     ]
    },
    {
     "name": "stdout",
     "output_type": "stream",
     "text": [
      "Validation performance at episode 12: -2.731351344228711\n",
      "No improvement for 2 validation(s).\n",
      "=================================\n",
      "Initial portfolio value: 100000\n",
      "Final portfolio value: 593975.625\n",
      "Final accumulative portfolio return: 5.93975625\n",
      "Maximum DrawDown: -0.264797103122135\n",
      "Sharpe ratio: 1.2152706518992795\n",
      "=================================\n"
     ]
    },
    {
     "name": "stderr",
     "output_type": "stream",
     "text": [
      " 13%|█▎        | 13/100 [08:59<1:00:22, 41.63s/it]"
     ]
    },
    {
     "name": "stdout",
     "output_type": "stream",
     "text": [
      "=================================\n",
      "Initial portfolio value: 100000\n",
      "Final portfolio value: 782694.25\n",
      "Final accumulative portfolio return: 7.8269425\n",
      "Maximum DrawDown: -0.2611268324909991\n",
      "Sharpe ratio: 1.3479360869500787\n",
      "=================================\n"
     ]
    },
    {
     "name": "stderr",
     "output_type": "stream",
     "text": [
      " 14%|█▍        | 14/100 [09:37<58:12, 40.61s/it]  "
     ]
    },
    {
     "name": "stdout",
     "output_type": "stream",
     "text": [
      "=================================\n",
      "Initial portfolio value: 100000\n",
      "Final portfolio value: 732114.8125\n",
      "Final accumulative portfolio return: 7.321148125\n",
      "Maximum DrawDown: -0.23736406034176794\n",
      "Sharpe ratio: 1.2959296590724863\n",
      "=================================\n",
      "=================================\n",
      "Initial portfolio value: 100000\n",
      "Final portfolio value: 98555.4296875\n",
      "Final accumulative portfolio return: 0.985554296875\n",
      "Maximum DrawDown: -0.32014688802224334\n",
      "Sharpe ratio: 0.11988477477400396\n",
      "=================================\n"
     ]
    },
    {
     "name": "stderr",
     "output_type": "stream",
     "text": [
      " 15%|█▌        | 15/100 [10:27<1:01:20, 43.30s/it]"
     ]
    },
    {
     "name": "stdout",
     "output_type": "stream",
     "text": [
      "Validation performance at episode 15: -3.1009747401503236\n",
      "No improvement for 3 validation(s).\n",
      "=================================\n",
      "Initial portfolio value: 100000\n",
      "Final portfolio value: 850413.25\n",
      "Final accumulative portfolio return: 8.5041325\n",
      "Maximum DrawDown: -0.28214573351868\n",
      "Sharpe ratio: 1.4372493903737427\n",
      "=================================\n"
     ]
    },
    {
     "name": "stderr",
     "output_type": "stream",
     "text": [
      " 16%|█▌        | 16/100 [11:05<58:29, 41.78s/it]  "
     ]
    },
    {
     "name": "stdout",
     "output_type": "stream",
     "text": [
      "=================================\n",
      "Initial portfolio value: 100000\n",
      "Final portfolio value: 812013.4375\n",
      "Final accumulative portfolio return: 8.120134375\n",
      "Maximum DrawDown: -0.27649209058520985\n",
      "Sharpe ratio: 1.465996263805534\n",
      "=================================\n"
     ]
    },
    {
     "name": "stderr",
     "output_type": "stream",
     "text": [
      " 17%|█▋        | 17/100 [11:43<56:21, 40.75s/it]"
     ]
    },
    {
     "name": "stdout",
     "output_type": "stream",
     "text": [
      "=================================\n",
      "Initial portfolio value: 100000\n",
      "Final portfolio value: 918818.5\n",
      "Final accumulative portfolio return: 9.188185\n",
      "Maximum DrawDown: -0.3197582150430608\n",
      "Sharpe ratio: 1.4484096626683036\n",
      "=================================\n",
      "=================================\n",
      "Initial portfolio value: 100000\n",
      "Final portfolio value: 117113.03125\n",
      "Final accumulative portfolio return: 1.1711303125\n",
      "Maximum DrawDown: -0.2455340389654873\n",
      "Sharpe ratio: 0.4380458708777252\n",
      "=================================\n"
     ]
    },
    {
     "name": "stderr",
     "output_type": "stream",
     "text": [
      " 18%|█▊        | 18/100 [12:33<59:25, 43.48s/it]"
     ]
    },
    {
     "name": "stdout",
     "output_type": "stream",
     "text": [
      "Validation performance at episode 18: -2.1365746705511417\n",
      "No improvement for 4 validation(s).\n",
      "=================================\n",
      "Initial portfolio value: 100000\n",
      "Final portfolio value: 836979.875\n",
      "Final accumulative portfolio return: 8.36979875\n",
      "Maximum DrawDown: -0.2830005097894046\n",
      "Sharpe ratio: 1.4141390392570732\n",
      "=================================\n"
     ]
    },
    {
     "name": "stderr",
     "output_type": "stream",
     "text": [
      " 19%|█▉        | 19/100 [13:12<56:39, 41.97s/it]"
     ]
    },
    {
     "name": "stdout",
     "output_type": "stream",
     "text": [
      "=================================\n",
      "Initial portfolio value: 100000\n",
      "Final portfolio value: 1122050.375\n",
      "Final accumulative portfolio return: 11.22050375\n",
      "Maximum DrawDown: -0.2686760947104403\n",
      "Sharpe ratio: 1.583447098753792\n",
      "=================================\n"
     ]
    },
    {
     "name": "stderr",
     "output_type": "stream",
     "text": [
      " 20%|██        | 20/100 [13:50<54:31, 40.90s/it]"
     ]
    },
    {
     "name": "stdout",
     "output_type": "stream",
     "text": [
      "=================================\n",
      "Initial portfolio value: 100000\n",
      "Final portfolio value: 1059121.125\n",
      "Final accumulative portfolio return: 10.59121125\n",
      "Maximum DrawDown: -0.29250930828045596\n",
      "Sharpe ratio: 1.532138328466749\n",
      "=================================\n",
      "=================================\n",
      "Initial portfolio value: 100000\n",
      "Final portfolio value: 88447.0234375\n",
      "Final accumulative portfolio return: 0.884470234375\n",
      "Maximum DrawDown: -0.30212241789589944\n",
      "Sharpe ratio: -0.1027172803954905\n",
      "=================================\n"
     ]
    },
    {
     "name": "stderr",
     "output_type": "stream",
     "text": [
      " 21%|██        | 21/100 [14:39<56:58, 43.28s/it]"
     ]
    },
    {
     "name": "stdout",
     "output_type": "stream",
     "text": [
      "Validation performance at episode 21: -2.589977593364399\n",
      "No improvement for 5 validation(s).\n",
      "=================================\n",
      "Initial portfolio value: 100000\n",
      "Final portfolio value: 1304456.25\n",
      "Final accumulative portfolio return: 13.0445625\n",
      "Maximum DrawDown: -0.29326289846061027\n",
      "Sharpe ratio: 1.6652729303519347\n",
      "=================================\n"
     ]
    },
    {
     "name": "stderr",
     "output_type": "stream",
     "text": [
      " 22%|██▏       | 22/100 [15:17<54:19, 41.78s/it]"
     ]
    },
    {
     "name": "stdout",
     "output_type": "stream",
     "text": [
      "=================================\n",
      "Initial portfolio value: 100000\n",
      "Final portfolio value: 1417169.375\n",
      "Final accumulative portfolio return: 14.17169375\n",
      "Maximum DrawDown: -0.29324890367291856\n",
      "Sharpe ratio: 1.7066573935034\n",
      "=================================\n"
     ]
    },
    {
     "name": "stderr",
     "output_type": "stream",
     "text": [
      " 23%|██▎       | 23/100 [15:55<52:16, 40.73s/it]"
     ]
    },
    {
     "name": "stdout",
     "output_type": "stream",
     "text": [
      "=================================\n",
      "Initial portfolio value: 100000\n",
      "Final portfolio value: 1281232.125\n",
      "Final accumulative portfolio return: 12.81232125\n",
      "Maximum DrawDown: -0.2945370785433369\n",
      "Sharpe ratio: 1.6630653046767567\n",
      "=================================\n",
      "=================================\n",
      "Initial portfolio value: 100000\n",
      "Final portfolio value: 92342.0703125\n",
      "Final accumulative portfolio return: 0.923420703125\n",
      "Maximum DrawDown: -0.3298780041424314\n",
      "Sharpe ratio: -0.004232974546898663\n",
      "=================================\n"
     ]
    },
    {
     "name": "stderr",
     "output_type": "stream",
     "text": [
      " 24%|██▍       | 24/100 [16:45<54:53, 43.33s/it]"
     ]
    },
    {
     "name": "stdout",
     "output_type": "stream",
     "text": [
      "Validation performance at episode 24: -2.7167815475990587\n",
      "No improvement for 6 validation(s).\n",
      "=================================\n",
      "Initial portfolio value: 100000\n",
      "Final portfolio value: 1342917.625\n",
      "Final accumulative portfolio return: 13.42917625\n",
      "Maximum DrawDown: -0.29222636973780547\n",
      "Sharpe ratio: 1.6624922297703861\n",
      "=================================\n"
     ]
    },
    {
     "name": "stderr",
     "output_type": "stream",
     "text": [
      " 25%|██▌       | 25/100 [17:23<52:13, 41.77s/it]"
     ]
    },
    {
     "name": "stdout",
     "output_type": "stream",
     "text": [
      "=================================\n",
      "Initial portfolio value: 100000\n",
      "Final portfolio value: 1414169.375\n",
      "Final accumulative portfolio return: 14.14169375\n",
      "Maximum DrawDown: -0.29375594883402534\n",
      "Sharpe ratio: 1.6997826542610002\n",
      "=================================\n"
     ]
    },
    {
     "name": "stderr",
     "output_type": "stream",
     "text": [
      " 26%|██▌       | 26/100 [18:02<50:18, 40.79s/it]"
     ]
    },
    {
     "name": "stdout",
     "output_type": "stream",
     "text": [
      "=================================\n",
      "Initial portfolio value: 100000\n",
      "Final portfolio value: 1499165.0\n",
      "Final accumulative portfolio return: 14.99165\n",
      "Maximum DrawDown: -0.29486181735197226\n",
      "Sharpe ratio: 1.742552554804876\n",
      "=================================\n",
      "=================================\n",
      "Initial portfolio value: 100000\n",
      "Final portfolio value: 91039.8046875\n",
      "Final accumulative portfolio return: 0.910398046875\n",
      "Maximum DrawDown: -0.32708570818868654\n",
      "Sharpe ratio: -0.033582189588220686\n",
      "=================================\n"
     ]
    },
    {
     "name": "stderr",
     "output_type": "stream",
     "text": [
      " 27%|██▋       | 27/100 [18:51<52:51, 43.45s/it]"
     ]
    },
    {
     "name": "stdout",
     "output_type": "stream",
     "text": [
      "Validation performance at episode 27: -2.610554067863637\n",
      "No improvement for 7 validation(s).\n",
      "=================================\n",
      "Initial portfolio value: 100000\n",
      "Final portfolio value: 1596090.0\n",
      "Final accumulative portfolio return: 15.9609\n",
      "Maximum DrawDown: -0.2948857240887012\n",
      "Sharpe ratio: 1.7873100169108778\n",
      "=================================\n"
     ]
    },
    {
     "name": "stderr",
     "output_type": "stream",
     "text": [
      " 28%|██▊       | 28/100 [19:29<50:10, 41.81s/it]"
     ]
    },
    {
     "name": "stdout",
     "output_type": "stream",
     "text": [
      "=================================\n",
      "Initial portfolio value: 100000\n",
      "Final portfolio value: 1642842.5\n",
      "Final accumulative portfolio return: 16.428425\n",
      "Maximum DrawDown: -0.2948783686168942\n",
      "Sharpe ratio: 1.8052212028709893\n",
      "=================================\n"
     ]
    },
    {
     "name": "stderr",
     "output_type": "stream",
     "text": [
      " 29%|██▉       | 29/100 [20:08<48:17, 40.81s/it]"
     ]
    },
    {
     "name": "stdout",
     "output_type": "stream",
     "text": [
      "=================================\n",
      "Initial portfolio value: 100000\n",
      "Final portfolio value: 1675049.875\n",
      "Final accumulative portfolio return: 16.75049875\n",
      "Maximum DrawDown: -0.29489156659797233\n",
      "Sharpe ratio: 1.8185433094997085\n",
      "=================================\n",
      "=================================\n",
      "Initial portfolio value: 100000\n",
      "Final portfolio value: 92007.921875\n",
      "Final accumulative portfolio return: 0.92007921875\n",
      "Maximum DrawDown: -0.3345806533649358\n",
      "Sharpe ratio: -0.015235927102233371\n",
      "=================================\n"
     ]
    },
    {
     "name": "stderr",
     "output_type": "stream",
     "text": [
      " 30%|███       | 30/100 [20:57<50:44, 43.49s/it]"
     ]
    },
    {
     "name": "stdout",
     "output_type": "stream",
     "text": [
      "Validation performance at episode 30: -2.6864526948299847\n",
      "No improvement for 8 validation(s).\n",
      "=================================\n",
      "Initial portfolio value: 100000\n",
      "Final portfolio value: 1700152.25\n",
      "Final accumulative portfolio return: 17.0015225\n",
      "Maximum DrawDown: -0.2948930424346392\n",
      "Sharpe ratio: 1.8264644698907024\n",
      "=================================\n"
     ]
    },
    {
     "name": "stderr",
     "output_type": "stream",
     "text": [
      " 31%|███       | 31/100 [21:36<48:14, 41.95s/it]"
     ]
    },
    {
     "name": "stdout",
     "output_type": "stream",
     "text": [
      "=================================\n",
      "Initial portfolio value: 100000\n",
      "Final portfolio value: 1721706.625\n",
      "Final accumulative portfolio return: 17.21706625\n",
      "Maximum DrawDown: -0.29489487527605385\n",
      "Sharpe ratio: 1.8342407460902967\n",
      "=================================\n"
     ]
    },
    {
     "name": "stderr",
     "output_type": "stream",
     "text": [
      " 32%|███▏      | 32/100 [22:14<46:22, 40.93s/it]"
     ]
    },
    {
     "name": "stdout",
     "output_type": "stream",
     "text": [
      "=================================\n",
      "Initial portfolio value: 100000\n",
      "Final portfolio value: 1736972.625\n",
      "Final accumulative portfolio return: 17.36972625\n",
      "Maximum DrawDown: -0.29489548334951465\n",
      "Sharpe ratio: 1.8390187550712325\n",
      "=================================\n",
      "=================================\n",
      "Initial portfolio value: 100000\n",
      "Final portfolio value: 90986.953125\n",
      "Final accumulative portfolio return: 0.90986953125\n",
      "Maximum DrawDown: -0.3486584417378844\n",
      "Sharpe ratio: -0.03625135133571322\n",
      "=================================\n"
     ]
    },
    {
     "name": "stderr",
     "output_type": "stream",
     "text": [
      " 33%|███▎      | 33/100 [23:04<48:38, 43.55s/it]"
     ]
    },
    {
     "name": "stdout",
     "output_type": "stream",
     "text": [
      "Validation performance at episode 33: -2.544543218485595\n",
      "No improvement for 9 validation(s).\n",
      "=================================\n",
      "Initial portfolio value: 100000\n",
      "Final portfolio value: 1750672.0\n",
      "Final accumulative portfolio return: 17.50672\n",
      "Maximum DrawDown: -0.2948956944231481\n",
      "Sharpe ratio: 1.8436442593895144\n",
      "=================================\n"
     ]
    },
    {
     "name": "stderr",
     "output_type": "stream",
     "text": [
      " 34%|███▍      | 34/100 [23:42<46:09, 41.97s/it]"
     ]
    },
    {
     "name": "stdout",
     "output_type": "stream",
     "text": [
      "=================================\n",
      "Initial portfolio value: 100000\n",
      "Final portfolio value: 1761821.5\n",
      "Final accumulative portfolio return: 17.618215\n",
      "Maximum DrawDown: -0.2948962980725217\n",
      "Sharpe ratio: 1.846969078905968\n",
      "=================================\n"
     ]
    },
    {
     "name": "stderr",
     "output_type": "stream",
     "text": [
      " 35%|███▌      | 35/100 [24:21<44:21, 40.95s/it]"
     ]
    },
    {
     "name": "stdout",
     "output_type": "stream",
     "text": [
      "=================================\n",
      "Initial portfolio value: 100000\n",
      "Final portfolio value: 1772448.25\n",
      "Final accumulative portfolio return: 17.7244825\n",
      "Maximum DrawDown: -0.2948963492016886\n",
      "Sharpe ratio: 1.8504725563332864\n",
      "=================================\n",
      "=================================\n",
      "Initial portfolio value: 100000\n",
      "Final portfolio value: 90724.4140625\n",
      "Final accumulative portfolio return: 0.907244140625\n",
      "Maximum DrawDown: -0.3552894870941966\n",
      "Sharpe ratio: -0.04225379564545358\n",
      "=================================\n"
     ]
    },
    {
     "name": "stderr",
     "output_type": "stream",
     "text": [
      " 35%|███▌      | 35/100 [25:10<46:45, 43.17s/it]"
     ]
    },
    {
     "name": "stdout",
     "output_type": "stream",
     "text": [
      "Validation performance at episode 36: -2.463062429362074\n",
      "No improvement for 10 validation(s).\n",
      "Early stopping due to no improvement on validation set.\n",
      "Loaded best model based on validation performance.\n"
     ]
    },
    {
     "name": "stderr",
     "output_type": "stream",
     "text": [
      "\n",
      "C:\\Users\\xutia\\AppData\\Local\\Temp\\ipykernel_28184\\320573626.py:59: FutureWarning: You are using `torch.load` with `weights_only=False` (the current default value), which uses the default pickle module implicitly. It is possible to construct malicious pickle data which will execute arbitrary code during unpickling (See https://github.com/pytorch/pytorch/blob/main/SECURITY.md#untrusted-models for more details). In a future release, the default value for `weights_only` will be flipped to `True`. This limits the functions that could be executed during unpickling. Arbitrary objects will no longer be allowed to be loaded via this mode unless they are explicitly allowlisted by the user via `torch.serialization.add_safe_globals`. We recommend you start setting `weights_only=True` for any use case where you don't have full control of the loaded file. Please open an issue on GitHub for any issues related to this experimental feature.\n",
      "  EIIE_policy.load_state_dict(torch.load(model_filename))\n"
     ]
    },
    {
     "name": "stdout",
     "output_type": "stream",
     "text": [
      "=================================\n",
      "Initial portfolio value: 100000\n",
      "Final portfolio value: 741463.5\n",
      "Final accumulative portfolio return: 7.414635\n",
      "Maximum DrawDown: -0.2806808684279404\n",
      "Sharpe ratio: 1.3049950516182305\n",
      "=================================\n",
      "Metrics - train_final_value: 741463.5, train_drawdown: -0.2806808684279404, train_sharpe: 1.3057511529987658, train_cumulative: 7.414635\n",
      "=================================\n",
      "Initial portfolio value: 100000\n",
      "Final portfolio value: 70868.9765625\n",
      "Final accumulative portfolio return: 0.708689765625\n",
      "Maximum DrawDown: -0.4193205119326344\n",
      "Sharpe ratio: -0.5967145588349303\n",
      "=================================\n",
      "Metrics - test_final_value: 70868.9765625, test_drawdown: -0.41932051193263437, test_sharpe: -0.5979774260939373, test_cumulative: 0.708689765625\n",
      "Training model with TIME_WINDOW=30, K_SIZE=5, CONV_MID=20, CONV_FINAL=20, LEARNING_RATE=0.02\n"
     ]
    },
    {
     "name": "stderr",
     "output_type": "stream",
     "text": [
      "  0%|          | 0/100 [00:00<?, ?it/s]"
     ]
    },
    {
     "name": "stdout",
     "output_type": "stream",
     "text": [
      "=================================\n",
      "Initial portfolio value: 100000\n",
      "Final portfolio value: 376357.71875\n",
      "Final accumulative portfolio return: 3.7635771875\n",
      "Maximum DrawDown: -0.2919992757800378\n",
      "Sharpe ratio: 0.9273774903034651\n",
      "=================================\n"
     ]
    },
    {
     "name": "stderr",
     "output_type": "stream",
     "text": [
      "  1%|          | 1/100 [00:41<1:08:42, 41.65s/it]"
     ]
    },
    {
     "name": "stdout",
     "output_type": "stream",
     "text": [
      "=================================\n",
      "Initial portfolio value: 100000\n",
      "Final portfolio value: 589683.8125\n",
      "Final accumulative portfolio return: 5.896838125\n",
      "Maximum DrawDown: -0.2803906701972848\n",
      "Sharpe ratio: 1.039213970318381\n",
      "=================================\n"
     ]
    },
    {
     "name": "stderr",
     "output_type": "stream",
     "text": [
      "  2%|▏         | 2/100 [01:19<1:04:35, 39.54s/it]"
     ]
    },
    {
     "name": "stdout",
     "output_type": "stream",
     "text": [
      "=================================\n",
      "Initial portfolio value: 100000\n",
      "Final portfolio value: 667507.375\n",
      "Final accumulative portfolio return: 6.67507375\n",
      "Maximum DrawDown: -0.3142728885435795\n",
      "Sharpe ratio: 1.0897590650286588\n",
      "=================================\n",
      "=================================\n",
      "Initial portfolio value: 100000\n",
      "Final portfolio value: 217383.234375\n",
      "Final accumulative portfolio return: 2.17383234375\n",
      "Maximum DrawDown: -0.21925424579479946\n",
      "Sharpe ratio: 1.5153017492898853\n",
      "=================================\n"
     ]
    },
    {
     "name": "stderr",
     "output_type": "stream",
     "text": [
      "  3%|▎         | 3/100 [02:08<1:10:52, 43.84s/it]"
     ]
    },
    {
     "name": "stdout",
     "output_type": "stream",
     "text": [
      "Validation performance at episode 3: -1.380421032560587\n",
      "New best validation performance: -1.380421032560587\n",
      "=================================\n",
      "Initial portfolio value: 100000\n",
      "Final portfolio value: 351052.71875\n",
      "Final accumulative portfolio return: 3.5105271875\n",
      "Maximum DrawDown: -0.38515887590863773\n",
      "Sharpe ratio: 0.7844307182247173\n",
      "=================================\n"
     ]
    },
    {
     "name": "stderr",
     "output_type": "stream",
     "text": [
      "  4%|▍         | 4/100 [02:46<1:06:29, 41.56s/it]"
     ]
    },
    {
     "name": "stdout",
     "output_type": "stream",
     "text": [
      "=================================\n",
      "Initial portfolio value: 100000\n",
      "Final portfolio value: 552206.8125\n",
      "Final accumulative portfolio return: 5.522068125\n",
      "Maximum DrawDown: -0.3845397096973089\n",
      "Sharpe ratio: 1.031373844056814\n",
      "=================================\n"
     ]
    },
    {
     "name": "stderr",
     "output_type": "stream",
     "text": [
      "  5%|▌         | 5/100 [03:25<1:03:57, 40.40s/it]"
     ]
    },
    {
     "name": "stdout",
     "output_type": "stream",
     "text": [
      "=================================\n",
      "Initial portfolio value: 100000\n",
      "Final portfolio value: 116423.5625\n",
      "Final accumulative portfolio return: 1.164235625\n",
      "Maximum DrawDown: -0.17985774537905663\n",
      "Sharpe ratio: 0.2444236807850658\n",
      "=================================\n",
      "=================================\n",
      "Initial portfolio value: 100000\n",
      "Final portfolio value: 100000.0\n",
      "Final accumulative portfolio return: 1.0\n",
      "Maximum DrawDown: 0.0\n",
      "Sharpe ratio: nan\n",
      "=================================\n"
     ]
    },
    {
     "name": "stderr",
     "output_type": "stream",
     "text": [
      "C:\\Users\\xutia\\AppData\\Roaming\\Python\\Python310\\site-packages\\quantstats\\stats.py:294: RuntimeWarning: invalid value encountered in scalar divide\n",
      "  res = returns.mean() / divisor\n",
      "  6%|▌         | 6/100 [04:13<1:07:34, 43.14s/it]"
     ]
    },
    {
     "name": "stdout",
     "output_type": "stream",
     "text": [
      "Validation performance at episode 6: 69314718.05599453\n",
      "New best validation performance: 69314718.05599453\n",
      "=================================\n",
      "Initial portfolio value: 100000\n",
      "Final portfolio value: 100000.0\n",
      "Final accumulative portfolio return: 1.0\n",
      "Maximum DrawDown: 0.0\n",
      "Sharpe ratio: nan\n",
      "=================================\n"
     ]
    },
    {
     "name": "stderr",
     "output_type": "stream",
     "text": [
      "C:\\Users\\xutia\\AppData\\Roaming\\Python\\Python310\\site-packages\\quantstats\\stats.py:294: RuntimeWarning: invalid value encountered in scalar divide\n",
      "  res = returns.mean() / divisor\n",
      "  7%|▋         | 7/100 [04:51<1:04:18, 41.49s/it]"
     ]
    },
    {
     "name": "stdout",
     "output_type": "stream",
     "text": [
      "=================================\n",
      "Initial portfolio value: 100000\n",
      "Final portfolio value: 100000.0\n",
      "Final accumulative portfolio return: 1.0\n",
      "Maximum DrawDown: 0.0\n",
      "Sharpe ratio: nan\n",
      "=================================\n"
     ]
    },
    {
     "name": "stderr",
     "output_type": "stream",
     "text": [
      "C:\\Users\\xutia\\AppData\\Roaming\\Python\\Python310\\site-packages\\quantstats\\stats.py:294: RuntimeWarning: invalid value encountered in scalar divide\n",
      "  res = returns.mean() / divisor\n",
      "  8%|▊         | 8/100 [05:29<1:01:54, 40.37s/it]"
     ]
    },
    {
     "name": "stdout",
     "output_type": "stream",
     "text": [
      "=================================\n",
      "Initial portfolio value: 100000\n",
      "Final portfolio value: 100000.0\n",
      "Final accumulative portfolio return: 1.0\n",
      "Maximum DrawDown: 0.0\n",
      "Sharpe ratio: nan\n",
      "=================================\n"
     ]
    },
    {
     "name": "stderr",
     "output_type": "stream",
     "text": [
      "C:\\Users\\xutia\\AppData\\Roaming\\Python\\Python310\\site-packages\\quantstats\\stats.py:294: RuntimeWarning: invalid value encountered in scalar divide\n",
      "  res = returns.mean() / divisor\n"
     ]
    },
    {
     "name": "stdout",
     "output_type": "stream",
     "text": [
      "=================================\n",
      "Initial portfolio value: 100000\n",
      "Final portfolio value: 100000.0\n",
      "Final accumulative portfolio return: 1.0\n",
      "Maximum DrawDown: 0.0\n",
      "Sharpe ratio: nan\n",
      "=================================\n"
     ]
    },
    {
     "name": "stderr",
     "output_type": "stream",
     "text": [
      "C:\\Users\\xutia\\AppData\\Roaming\\Python\\Python310\\site-packages\\quantstats\\stats.py:294: RuntimeWarning: invalid value encountered in scalar divide\n",
      "  res = returns.mean() / divisor\n",
      "  9%|▉         | 9/100 [06:18<1:05:09, 42.96s/it]"
     ]
    },
    {
     "name": "stdout",
     "output_type": "stream",
     "text": [
      "Validation performance at episode 9: 69314718.05599453\n",
      "No improvement for 1 validation(s).\n",
      "=================================\n",
      "Initial portfolio value: 100000\n",
      "Final portfolio value: 100000.0\n",
      "Final accumulative portfolio return: 1.0\n",
      "Maximum DrawDown: 0.0\n",
      "Sharpe ratio: nan\n",
      "=================================\n"
     ]
    },
    {
     "name": "stderr",
     "output_type": "stream",
     "text": [
      "C:\\Users\\xutia\\AppData\\Roaming\\Python\\Python310\\site-packages\\quantstats\\stats.py:294: RuntimeWarning: invalid value encountered in scalar divide\n",
      "  res = returns.mean() / divisor\n",
      " 10%|█         | 10/100 [06:55<1:01:54, 41.27s/it]"
     ]
    },
    {
     "name": "stdout",
     "output_type": "stream",
     "text": [
      "=================================\n",
      "Initial portfolio value: 100000\n",
      "Final portfolio value: 100000.0\n",
      "Final accumulative portfolio return: 1.0\n",
      "Maximum DrawDown: 0.0\n",
      "Sharpe ratio: nan\n",
      "=================================\n"
     ]
    },
    {
     "name": "stderr",
     "output_type": "stream",
     "text": [
      "C:\\Users\\xutia\\AppData\\Roaming\\Python\\Python310\\site-packages\\quantstats\\stats.py:294: RuntimeWarning: invalid value encountered in scalar divide\n",
      "  res = returns.mean() / divisor\n",
      " 11%|█         | 11/100 [07:33<59:50, 40.34s/it]  "
     ]
    },
    {
     "name": "stdout",
     "output_type": "stream",
     "text": [
      "=================================\n",
      "Initial portfolio value: 100000\n",
      "Final portfolio value: 100000.0\n",
      "Final accumulative portfolio return: 1.0\n",
      "Maximum DrawDown: 0.0\n",
      "Sharpe ratio: nan\n",
      "=================================\n"
     ]
    },
    {
     "name": "stderr",
     "output_type": "stream",
     "text": [
      "C:\\Users\\xutia\\AppData\\Roaming\\Python\\Python310\\site-packages\\quantstats\\stats.py:294: RuntimeWarning: invalid value encountered in scalar divide\n",
      "  res = returns.mean() / divisor\n"
     ]
    },
    {
     "name": "stdout",
     "output_type": "stream",
     "text": [
      "=================================\n",
      "Initial portfolio value: 100000\n",
      "Final portfolio value: 100000.0\n",
      "Final accumulative portfolio return: 1.0\n",
      "Maximum DrawDown: 0.0\n",
      "Sharpe ratio: nan\n",
      "=================================\n"
     ]
    },
    {
     "name": "stderr",
     "output_type": "stream",
     "text": [
      "C:\\Users\\xutia\\AppData\\Roaming\\Python\\Python310\\site-packages\\quantstats\\stats.py:294: RuntimeWarning: invalid value encountered in scalar divide\n",
      "  res = returns.mean() / divisor\n",
      " 12%|█▏        | 12/100 [08:23<1:03:02, 42.99s/it]"
     ]
    },
    {
     "name": "stdout",
     "output_type": "stream",
     "text": [
      "Validation performance at episode 12: 69314718.05599453\n",
      "No improvement for 2 validation(s).\n",
      "=================================\n",
      "Initial portfolio value: 100000\n",
      "Final portfolio value: 100000.0\n",
      "Final accumulative portfolio return: 1.0\n",
      "Maximum DrawDown: 0.0\n",
      "Sharpe ratio: nan\n",
      "=================================\n"
     ]
    },
    {
     "name": "stderr",
     "output_type": "stream",
     "text": [
      "C:\\Users\\xutia\\AppData\\Roaming\\Python\\Python310\\site-packages\\quantstats\\stats.py:294: RuntimeWarning: invalid value encountered in scalar divide\n",
      "  res = returns.mean() / divisor\n",
      " 13%|█▎        | 13/100 [09:01<1:00:13, 41.53s/it]"
     ]
    },
    {
     "name": "stdout",
     "output_type": "stream",
     "text": [
      "=================================\n",
      "Initial portfolio value: 100000\n",
      "Final portfolio value: 100000.0\n",
      "Final accumulative portfolio return: 1.0\n",
      "Maximum DrawDown: 0.0\n",
      "Sharpe ratio: nan\n",
      "=================================\n"
     ]
    },
    {
     "name": "stderr",
     "output_type": "stream",
     "text": [
      "C:\\Users\\xutia\\AppData\\Roaming\\Python\\Python310\\site-packages\\quantstats\\stats.py:294: RuntimeWarning: invalid value encountered in scalar divide\n",
      "  res = returns.mean() / divisor\n",
      " 14%|█▍        | 14/100 [09:39<58:10, 40.59s/it]  "
     ]
    },
    {
     "name": "stdout",
     "output_type": "stream",
     "text": [
      "=================================\n",
      "Initial portfolio value: 100000\n",
      "Final portfolio value: 100000.0\n",
      "Final accumulative portfolio return: 1.0\n",
      "Maximum DrawDown: 0.0\n",
      "Sharpe ratio: nan\n",
      "=================================\n"
     ]
    },
    {
     "name": "stderr",
     "output_type": "stream",
     "text": [
      "C:\\Users\\xutia\\AppData\\Roaming\\Python\\Python310\\site-packages\\quantstats\\stats.py:294: RuntimeWarning: invalid value encountered in scalar divide\n",
      "  res = returns.mean() / divisor\n"
     ]
    },
    {
     "name": "stdout",
     "output_type": "stream",
     "text": [
      "=================================\n",
      "Initial portfolio value: 100000\n",
      "Final portfolio value: 100000.0\n",
      "Final accumulative portfolio return: 1.0\n",
      "Maximum DrawDown: 0.0\n",
      "Sharpe ratio: nan\n",
      "=================================\n"
     ]
    },
    {
     "name": "stderr",
     "output_type": "stream",
     "text": [
      "C:\\Users\\xutia\\AppData\\Roaming\\Python\\Python310\\site-packages\\quantstats\\stats.py:294: RuntimeWarning: invalid value encountered in scalar divide\n",
      "  res = returns.mean() / divisor\n",
      " 15%|█▌        | 15/100 [10:28<1:01:09, 43.16s/it]"
     ]
    },
    {
     "name": "stdout",
     "output_type": "stream",
     "text": [
      "Validation performance at episode 15: 69314718.05599453\n",
      "No improvement for 3 validation(s).\n",
      "=================================\n",
      "Initial portfolio value: 100000\n",
      "Final portfolio value: 100000.0\n",
      "Final accumulative portfolio return: 1.0\n",
      "Maximum DrawDown: 0.0\n",
      "Sharpe ratio: nan\n",
      "=================================\n"
     ]
    },
    {
     "name": "stderr",
     "output_type": "stream",
     "text": [
      "C:\\Users\\xutia\\AppData\\Roaming\\Python\\Python310\\site-packages\\quantstats\\stats.py:294: RuntimeWarning: invalid value encountered in scalar divide\n",
      "  res = returns.mean() / divisor\n",
      " 16%|█▌        | 16/100 [11:07<58:23, 41.70s/it]  "
     ]
    },
    {
     "name": "stdout",
     "output_type": "stream",
     "text": [
      "=================================\n",
      "Initial portfolio value: 100000\n",
      "Final portfolio value: 100000.0\n",
      "Final accumulative portfolio return: 1.0\n",
      "Maximum DrawDown: 0.0\n",
      "Sharpe ratio: nan\n",
      "=================================\n"
     ]
    },
    {
     "name": "stderr",
     "output_type": "stream",
     "text": [
      "C:\\Users\\xutia\\AppData\\Roaming\\Python\\Python310\\site-packages\\quantstats\\stats.py:294: RuntimeWarning: invalid value encountered in scalar divide\n",
      "  res = returns.mean() / divisor\n",
      " 17%|█▋        | 17/100 [11:45<56:09, 40.60s/it]"
     ]
    },
    {
     "name": "stdout",
     "output_type": "stream",
     "text": [
      "=================================\n",
      "Initial portfolio value: 100000\n",
      "Final portfolio value: 100000.0\n",
      "Final accumulative portfolio return: 1.0\n",
      "Maximum DrawDown: 0.0\n",
      "Sharpe ratio: nan\n",
      "=================================\n"
     ]
    },
    {
     "name": "stderr",
     "output_type": "stream",
     "text": [
      "C:\\Users\\xutia\\AppData\\Roaming\\Python\\Python310\\site-packages\\quantstats\\stats.py:294: RuntimeWarning: invalid value encountered in scalar divide\n",
      "  res = returns.mean() / divisor\n"
     ]
    },
    {
     "name": "stdout",
     "output_type": "stream",
     "text": [
      "=================================\n",
      "Initial portfolio value: 100000\n",
      "Final portfolio value: 100000.0\n",
      "Final accumulative portfolio return: 1.0\n",
      "Maximum DrawDown: 0.0\n",
      "Sharpe ratio: nan\n",
      "=================================\n"
     ]
    },
    {
     "name": "stderr",
     "output_type": "stream",
     "text": [
      "C:\\Users\\xutia\\AppData\\Roaming\\Python\\Python310\\site-packages\\quantstats\\stats.py:294: RuntimeWarning: invalid value encountered in scalar divide\n",
      "  res = returns.mean() / divisor\n",
      " 18%|█▊        | 18/100 [12:33<58:48, 43.03s/it]"
     ]
    },
    {
     "name": "stdout",
     "output_type": "stream",
     "text": [
      "Validation performance at episode 18: 69314718.05599453\n",
      "No improvement for 4 validation(s).\n",
      "=================================\n",
      "Initial portfolio value: 100000\n",
      "Final portfolio value: 100000.0\n",
      "Final accumulative portfolio return: 1.0\n",
      "Maximum DrawDown: 0.0\n",
      "Sharpe ratio: nan\n",
      "=================================\n"
     ]
    },
    {
     "name": "stderr",
     "output_type": "stream",
     "text": [
      "C:\\Users\\xutia\\AppData\\Roaming\\Python\\Python310\\site-packages\\quantstats\\stats.py:294: RuntimeWarning: invalid value encountered in scalar divide\n",
      "  res = returns.mean() / divisor\n",
      " 19%|█▉        | 19/100 [13:12<56:22, 41.76s/it]"
     ]
    },
    {
     "name": "stdout",
     "output_type": "stream",
     "text": [
      "=================================\n",
      "Initial portfolio value: 100000\n",
      "Final portfolio value: 100000.0\n",
      "Final accumulative portfolio return: 1.0\n",
      "Maximum DrawDown: 0.0\n",
      "Sharpe ratio: nan\n",
      "=================================\n"
     ]
    },
    {
     "name": "stderr",
     "output_type": "stream",
     "text": [
      "C:\\Users\\xutia\\AppData\\Roaming\\Python\\Python310\\site-packages\\quantstats\\stats.py:294: RuntimeWarning: invalid value encountered in scalar divide\n",
      "  res = returns.mean() / divisor\n",
      " 20%|██        | 20/100 [13:51<54:27, 40.84s/it]"
     ]
    },
    {
     "name": "stdout",
     "output_type": "stream",
     "text": [
      "=================================\n",
      "Initial portfolio value: 100000\n",
      "Final portfolio value: 100000.0\n",
      "Final accumulative portfolio return: 1.0\n",
      "Maximum DrawDown: 0.0\n",
      "Sharpe ratio: nan\n",
      "=================================\n"
     ]
    },
    {
     "name": "stderr",
     "output_type": "stream",
     "text": [
      "C:\\Users\\xutia\\AppData\\Roaming\\Python\\Python310\\site-packages\\quantstats\\stats.py:294: RuntimeWarning: invalid value encountered in scalar divide\n",
      "  res = returns.mean() / divisor\n"
     ]
    },
    {
     "name": "stdout",
     "output_type": "stream",
     "text": [
      "=================================\n",
      "Initial portfolio value: 100000\n",
      "Final portfolio value: 100000.0\n",
      "Final accumulative portfolio return: 1.0\n",
      "Maximum DrawDown: 0.0\n",
      "Sharpe ratio: nan\n",
      "=================================\n"
     ]
    },
    {
     "name": "stderr",
     "output_type": "stream",
     "text": [
      "C:\\Users\\xutia\\AppData\\Roaming\\Python\\Python310\\site-packages\\quantstats\\stats.py:294: RuntimeWarning: invalid value encountered in scalar divide\n",
      "  res = returns.mean() / divisor\n",
      " 21%|██        | 21/100 [14:41<57:24, 43.60s/it]"
     ]
    },
    {
     "name": "stdout",
     "output_type": "stream",
     "text": [
      "Validation performance at episode 21: 69314718.05599453\n",
      "No improvement for 5 validation(s).\n",
      "=================================\n",
      "Initial portfolio value: 100000\n",
      "Final portfolio value: 100000.0\n",
      "Final accumulative portfolio return: 1.0\n",
      "Maximum DrawDown: 0.0\n",
      "Sharpe ratio: nan\n",
      "=================================\n"
     ]
    },
    {
     "name": "stderr",
     "output_type": "stream",
     "text": [
      "C:\\Users\\xutia\\AppData\\Roaming\\Python\\Python310\\site-packages\\quantstats\\stats.py:294: RuntimeWarning: invalid value encountered in scalar divide\n",
      "  res = returns.mean() / divisor\n",
      " 22%|██▏       | 22/100 [15:19<54:35, 42.00s/it]"
     ]
    },
    {
     "name": "stdout",
     "output_type": "stream",
     "text": [
      "=================================\n",
      "Initial portfolio value: 100000\n",
      "Final portfolio value: 100000.0\n",
      "Final accumulative portfolio return: 1.0\n",
      "Maximum DrawDown: 0.0\n",
      "Sharpe ratio: nan\n",
      "=================================\n"
     ]
    },
    {
     "name": "stderr",
     "output_type": "stream",
     "text": [
      "C:\\Users\\xutia\\AppData\\Roaming\\Python\\Python310\\site-packages\\quantstats\\stats.py:294: RuntimeWarning: invalid value encountered in scalar divide\n",
      "  res = returns.mean() / divisor\n",
      " 23%|██▎       | 23/100 [15:58<52:33, 40.95s/it]"
     ]
    },
    {
     "name": "stdout",
     "output_type": "stream",
     "text": [
      "=================================\n",
      "Initial portfolio value: 100000\n",
      "Final portfolio value: 100000.0\n",
      "Final accumulative portfolio return: 1.0\n",
      "Maximum DrawDown: 0.0\n",
      "Sharpe ratio: nan\n",
      "=================================\n"
     ]
    },
    {
     "name": "stderr",
     "output_type": "stream",
     "text": [
      "C:\\Users\\xutia\\AppData\\Roaming\\Python\\Python310\\site-packages\\quantstats\\stats.py:294: RuntimeWarning: invalid value encountered in scalar divide\n",
      "  res = returns.mean() / divisor\n"
     ]
    },
    {
     "name": "stdout",
     "output_type": "stream",
     "text": [
      "=================================\n",
      "Initial portfolio value: 100000\n",
      "Final portfolio value: 100000.0\n",
      "Final accumulative portfolio return: 1.0\n",
      "Maximum DrawDown: 0.0\n",
      "Sharpe ratio: nan\n",
      "=================================\n"
     ]
    },
    {
     "name": "stderr",
     "output_type": "stream",
     "text": [
      "C:\\Users\\xutia\\AppData\\Roaming\\Python\\Python310\\site-packages\\quantstats\\stats.py:294: RuntimeWarning: invalid value encountered in scalar divide\n",
      "  res = returns.mean() / divisor\n",
      " 24%|██▍       | 24/100 [16:47<55:11, 43.57s/it]"
     ]
    },
    {
     "name": "stdout",
     "output_type": "stream",
     "text": [
      "Validation performance at episode 24: 69314718.05599453\n",
      "No improvement for 6 validation(s).\n",
      "=================================\n",
      "Initial portfolio value: 100000\n",
      "Final portfolio value: 100000.0\n",
      "Final accumulative portfolio return: 1.0\n",
      "Maximum DrawDown: 0.0\n",
      "Sharpe ratio: nan\n",
      "=================================\n"
     ]
    },
    {
     "name": "stderr",
     "output_type": "stream",
     "text": [
      "C:\\Users\\xutia\\AppData\\Roaming\\Python\\Python310\\site-packages\\quantstats\\stats.py:294: RuntimeWarning: invalid value encountered in scalar divide\n",
      "  res = returns.mean() / divisor\n",
      " 25%|██▌       | 25/100 [17:25<52:26, 41.95s/it]"
     ]
    },
    {
     "name": "stdout",
     "output_type": "stream",
     "text": [
      "=================================\n",
      "Initial portfolio value: 100000\n",
      "Final portfolio value: 100000.0\n",
      "Final accumulative portfolio return: 1.0\n",
      "Maximum DrawDown: 0.0\n",
      "Sharpe ratio: nan\n",
      "=================================\n"
     ]
    },
    {
     "name": "stderr",
     "output_type": "stream",
     "text": [
      "C:\\Users\\xutia\\AppData\\Roaming\\Python\\Python310\\site-packages\\quantstats\\stats.py:294: RuntimeWarning: invalid value encountered in scalar divide\n",
      "  res = returns.mean() / divisor\n",
      " 26%|██▌       | 26/100 [18:03<50:11, 40.69s/it]"
     ]
    },
    {
     "name": "stdout",
     "output_type": "stream",
     "text": [
      "=================================\n",
      "Initial portfolio value: 100000\n",
      "Final portfolio value: 100000.0\n",
      "Final accumulative portfolio return: 1.0\n",
      "Maximum DrawDown: 0.0\n",
      "Sharpe ratio: nan\n",
      "=================================\n"
     ]
    },
    {
     "name": "stderr",
     "output_type": "stream",
     "text": [
      "C:\\Users\\xutia\\AppData\\Roaming\\Python\\Python310\\site-packages\\quantstats\\stats.py:294: RuntimeWarning: invalid value encountered in scalar divide\n",
      "  res = returns.mean() / divisor\n"
     ]
    },
    {
     "name": "stdout",
     "output_type": "stream",
     "text": [
      "=================================\n",
      "Initial portfolio value: 100000\n",
      "Final portfolio value: 100000.0\n",
      "Final accumulative portfolio return: 1.0\n",
      "Maximum DrawDown: 0.0\n",
      "Sharpe ratio: nan\n",
      "=================================\n"
     ]
    },
    {
     "name": "stderr",
     "output_type": "stream",
     "text": [
      "C:\\Users\\xutia\\AppData\\Roaming\\Python\\Python310\\site-packages\\quantstats\\stats.py:294: RuntimeWarning: invalid value encountered in scalar divide\n",
      "  res = returns.mean() / divisor\n",
      " 27%|██▋       | 27/100 [18:53<52:47, 43.39s/it]"
     ]
    },
    {
     "name": "stdout",
     "output_type": "stream",
     "text": [
      "Validation performance at episode 27: 69314718.05599453\n",
      "No improvement for 7 validation(s).\n",
      "=================================\n",
      "Initial portfolio value: 100000\n",
      "Final portfolio value: 100000.0\n",
      "Final accumulative portfolio return: 1.0\n",
      "Maximum DrawDown: 0.0\n",
      "Sharpe ratio: nan\n",
      "=================================\n"
     ]
    },
    {
     "name": "stderr",
     "output_type": "stream",
     "text": [
      "C:\\Users\\xutia\\AppData\\Roaming\\Python\\Python310\\site-packages\\quantstats\\stats.py:294: RuntimeWarning: invalid value encountered in scalar divide\n",
      "  res = returns.mean() / divisor\n",
      " 28%|██▊       | 28/100 [19:31<50:14, 41.86s/it]"
     ]
    },
    {
     "name": "stdout",
     "output_type": "stream",
     "text": [
      "=================================\n",
      "Initial portfolio value: 100000\n",
      "Final portfolio value: 100000.0\n",
      "Final accumulative portfolio return: 1.0\n",
      "Maximum DrawDown: 0.0\n",
      "Sharpe ratio: nan\n",
      "=================================\n"
     ]
    },
    {
     "name": "stderr",
     "output_type": "stream",
     "text": [
      "C:\\Users\\xutia\\AppData\\Roaming\\Python\\Python310\\site-packages\\quantstats\\stats.py:294: RuntimeWarning: invalid value encountered in scalar divide\n",
      "  res = returns.mean() / divisor\n",
      " 29%|██▉       | 29/100 [20:09<48:10, 40.71s/it]"
     ]
    },
    {
     "name": "stdout",
     "output_type": "stream",
     "text": [
      "=================================\n",
      "Initial portfolio value: 100000\n",
      "Final portfolio value: 100000.0\n",
      "Final accumulative portfolio return: 1.0\n",
      "Maximum DrawDown: 0.0\n",
      "Sharpe ratio: nan\n",
      "=================================\n"
     ]
    },
    {
     "name": "stderr",
     "output_type": "stream",
     "text": [
      "C:\\Users\\xutia\\AppData\\Roaming\\Python\\Python310\\site-packages\\quantstats\\stats.py:294: RuntimeWarning: invalid value encountered in scalar divide\n",
      "  res = returns.mean() / divisor\n"
     ]
    },
    {
     "name": "stdout",
     "output_type": "stream",
     "text": [
      "=================================\n",
      "Initial portfolio value: 100000\n",
      "Final portfolio value: 100000.0\n",
      "Final accumulative portfolio return: 1.0\n",
      "Maximum DrawDown: 0.0\n",
      "Sharpe ratio: nan\n",
      "=================================\n"
     ]
    },
    {
     "name": "stderr",
     "output_type": "stream",
     "text": [
      "C:\\Users\\xutia\\AppData\\Roaming\\Python\\Python310\\site-packages\\quantstats\\stats.py:294: RuntimeWarning: invalid value encountered in scalar divide\n",
      "  res = returns.mean() / divisor\n",
      " 30%|███       | 30/100 [20:58<50:29, 43.28s/it]"
     ]
    },
    {
     "name": "stdout",
     "output_type": "stream",
     "text": [
      "Validation performance at episode 30: 69314718.05599453\n",
      "No improvement for 8 validation(s).\n",
      "=================================\n",
      "Initial portfolio value: 100000\n",
      "Final portfolio value: 100000.0\n",
      "Final accumulative portfolio return: 1.0\n",
      "Maximum DrawDown: 0.0\n",
      "Sharpe ratio: nan\n",
      "=================================\n"
     ]
    },
    {
     "name": "stderr",
     "output_type": "stream",
     "text": [
      "C:\\Users\\xutia\\AppData\\Roaming\\Python\\Python310\\site-packages\\quantstats\\stats.py:294: RuntimeWarning: invalid value encountered in scalar divide\n",
      "  res = returns.mean() / divisor\n",
      " 31%|███       | 31/100 [21:37<48:10, 41.89s/it]"
     ]
    },
    {
     "name": "stdout",
     "output_type": "stream",
     "text": [
      "=================================\n",
      "Initial portfolio value: 100000\n",
      "Final portfolio value: 100000.0\n",
      "Final accumulative portfolio return: 1.0\n",
      "Maximum DrawDown: 0.0\n",
      "Sharpe ratio: nan\n",
      "=================================\n"
     ]
    },
    {
     "name": "stderr",
     "output_type": "stream",
     "text": [
      "C:\\Users\\xutia\\AppData\\Roaming\\Python\\Python310\\site-packages\\quantstats\\stats.py:294: RuntimeWarning: invalid value encountered in scalar divide\n",
      "  res = returns.mean() / divisor\n",
      " 32%|███▏      | 32/100 [22:16<46:18, 40.87s/it]"
     ]
    },
    {
     "name": "stdout",
     "output_type": "stream",
     "text": [
      "=================================\n",
      "Initial portfolio value: 100000\n",
      "Final portfolio value: 100000.0\n",
      "Final accumulative portfolio return: 1.0\n",
      "Maximum DrawDown: 0.0\n",
      "Sharpe ratio: nan\n",
      "=================================\n"
     ]
    },
    {
     "name": "stderr",
     "output_type": "stream",
     "text": [
      "C:\\Users\\xutia\\AppData\\Roaming\\Python\\Python310\\site-packages\\quantstats\\stats.py:294: RuntimeWarning: invalid value encountered in scalar divide\n",
      "  res = returns.mean() / divisor\n"
     ]
    },
    {
     "name": "stdout",
     "output_type": "stream",
     "text": [
      "=================================\n",
      "Initial portfolio value: 100000\n",
      "Final portfolio value: 100000.0\n",
      "Final accumulative portfolio return: 1.0\n",
      "Maximum DrawDown: 0.0\n",
      "Sharpe ratio: nan\n",
      "=================================\n"
     ]
    },
    {
     "name": "stderr",
     "output_type": "stream",
     "text": [
      "C:\\Users\\xutia\\AppData\\Roaming\\Python\\Python310\\site-packages\\quantstats\\stats.py:294: RuntimeWarning: invalid value encountered in scalar divide\n",
      "  res = returns.mean() / divisor\n",
      " 33%|███▎      | 33/100 [23:05<48:29, 43.43s/it]"
     ]
    },
    {
     "name": "stdout",
     "output_type": "stream",
     "text": [
      "Validation performance at episode 33: 69314718.05599453\n",
      "No improvement for 9 validation(s).\n",
      "=================================\n",
      "Initial portfolio value: 100000\n",
      "Final portfolio value: 100000.0\n",
      "Final accumulative portfolio return: 1.0\n",
      "Maximum DrawDown: 0.0\n",
      "Sharpe ratio: nan\n",
      "=================================\n"
     ]
    },
    {
     "name": "stderr",
     "output_type": "stream",
     "text": [
      "C:\\Users\\xutia\\AppData\\Roaming\\Python\\Python310\\site-packages\\quantstats\\stats.py:294: RuntimeWarning: invalid value encountered in scalar divide\n",
      "  res = returns.mean() / divisor\n",
      " 34%|███▍      | 34/100 [23:44<46:09, 41.97s/it]"
     ]
    },
    {
     "name": "stdout",
     "output_type": "stream",
     "text": [
      "=================================\n",
      "Initial portfolio value: 100000\n",
      "Final portfolio value: 100000.0\n",
      "Final accumulative portfolio return: 1.0\n",
      "Maximum DrawDown: 0.0\n",
      "Sharpe ratio: nan\n",
      "=================================\n"
     ]
    },
    {
     "name": "stderr",
     "output_type": "stream",
     "text": [
      "C:\\Users\\xutia\\AppData\\Roaming\\Python\\Python310\\site-packages\\quantstats\\stats.py:294: RuntimeWarning: invalid value encountered in scalar divide\n",
      "  res = returns.mean() / divisor\n",
      " 35%|███▌      | 35/100 [24:22<44:15, 40.86s/it]"
     ]
    },
    {
     "name": "stdout",
     "output_type": "stream",
     "text": [
      "=================================\n",
      "Initial portfolio value: 100000\n",
      "Final portfolio value: 100000.0\n",
      "Final accumulative portfolio return: 1.0\n",
      "Maximum DrawDown: 0.0\n",
      "Sharpe ratio: nan\n",
      "=================================\n"
     ]
    },
    {
     "name": "stderr",
     "output_type": "stream",
     "text": [
      "C:\\Users\\xutia\\AppData\\Roaming\\Python\\Python310\\site-packages\\quantstats\\stats.py:294: RuntimeWarning: invalid value encountered in scalar divide\n",
      "  res = returns.mean() / divisor\n"
     ]
    },
    {
     "name": "stdout",
     "output_type": "stream",
     "text": [
      "=================================\n",
      "Initial portfolio value: 100000\n",
      "Final portfolio value: 100000.0\n",
      "Final accumulative portfolio return: 1.0\n",
      "Maximum DrawDown: 0.0\n",
      "Sharpe ratio: nan\n",
      "=================================\n"
     ]
    },
    {
     "name": "stderr",
     "output_type": "stream",
     "text": [
      "C:\\Users\\xutia\\AppData\\Roaming\\Python\\Python310\\site-packages\\quantstats\\stats.py:294: RuntimeWarning: invalid value encountered in scalar divide\n",
      "  res = returns.mean() / divisor\n",
      " 35%|███▌      | 35/100 [25:11<46:47, 43.19s/it]"
     ]
    },
    {
     "name": "stdout",
     "output_type": "stream",
     "text": [
      "Validation performance at episode 36: 69314718.05599453\n",
      "No improvement for 10 validation(s).\n",
      "Early stopping due to no improvement on validation set.\n",
      "Loaded best model based on validation performance.\n"
     ]
    },
    {
     "name": "stderr",
     "output_type": "stream",
     "text": [
      "\n",
      "C:\\Users\\xutia\\AppData\\Local\\Temp\\ipykernel_28184\\320573626.py:59: FutureWarning: You are using `torch.load` with `weights_only=False` (the current default value), which uses the default pickle module implicitly. It is possible to construct malicious pickle data which will execute arbitrary code during unpickling (See https://github.com/pytorch/pytorch/blob/main/SECURITY.md#untrusted-models for more details). In a future release, the default value for `weights_only` will be flipped to `True`. This limits the functions that could be executed during unpickling. Arbitrary objects will no longer be allowed to be loaded via this mode unless they are explicitly allowlisted by the user via `torch.serialization.add_safe_globals`. We recommend you start setting `weights_only=True` for any use case where you don't have full control of the loaded file. Please open an issue on GitHub for any issues related to this experimental feature.\n",
      "  EIIE_policy.load_state_dict(torch.load(model_filename))\n"
     ]
    },
    {
     "name": "stdout",
     "output_type": "stream",
     "text": [
      "=================================\n",
      "Initial portfolio value: 100000\n",
      "Final portfolio value: 100000.0\n",
      "Final accumulative portfolio return: 1.0\n",
      "Maximum DrawDown: 0.0\n",
      "Sharpe ratio: nan\n",
      "=================================\n"
     ]
    },
    {
     "name": "stderr",
     "output_type": "stream",
     "text": [
      "C:\\Users\\xutia\\AppData\\Roaming\\Python\\Python310\\site-packages\\quantstats\\stats.py:294: RuntimeWarning: invalid value encountered in scalar divide\n",
      "  res = returns.mean() / divisor\n",
      "C:\\Users\\xutia\\AppData\\Local\\Temp\\ipykernel_28184\\3136931484.py:70: RuntimeWarning: invalid value encountered in scalar divide\n",
      "  sharpe_ratio = np.mean(excess_returns) / np.std(excess_returns)\n"
     ]
    },
    {
     "name": "stdout",
     "output_type": "stream",
     "text": [
      "Metrics - train_final_value: 100000.0, train_drawdown: 0.0, train_sharpe: nan, train_cumulative: 1.0\n",
      "=================================\n",
      "Initial portfolio value: 100000\n",
      "Final portfolio value: 100000.0\n",
      "Final accumulative portfolio return: 1.0\n",
      "Maximum DrawDown: 0.0\n",
      "Sharpe ratio: nan\n",
      "=================================\n"
     ]
    },
    {
     "name": "stderr",
     "output_type": "stream",
     "text": [
      "C:\\Users\\xutia\\AppData\\Roaming\\Python\\Python310\\site-packages\\quantstats\\stats.py:294: RuntimeWarning: invalid value encountered in scalar divide\n",
      "  res = returns.mean() / divisor\n"
     ]
    },
    {
     "name": "stdout",
     "output_type": "stream",
     "text": [
      "Metrics - test_final_value: 100000.0, test_drawdown: 0.0, test_sharpe: nan, test_cumulative: 1.0\n"
     ]
    },
    {
     "name": "stderr",
     "output_type": "stream",
     "text": [
      "C:\\Users\\xutia\\AppData\\Local\\Temp\\ipykernel_28184\\3136931484.py:70: RuntimeWarning: invalid value encountered in scalar divide\n",
      "  sharpe_ratio = np.mean(excess_returns) / np.std(excess_returns)\n"
     ]
    },
    {
     "data": {
      "text/html": [
       "<div>\n",
       "<style scoped>\n",
       "    .dataframe tbody tr th:only-of-type {\n",
       "        vertical-align: middle;\n",
       "    }\n",
       "\n",
       "    .dataframe tbody tr th {\n",
       "        vertical-align: top;\n",
       "    }\n",
       "\n",
       "    .dataframe thead th {\n",
       "        text-align: right;\n",
       "    }\n",
       "</style>\n",
       "<table border=\"1\" class=\"dataframe\">\n",
       "  <thead>\n",
       "    <tr style=\"text-align: right;\">\n",
       "      <th></th>\n",
       "      <th>TIME_WINDOW</th>\n",
       "      <th>K_SIZE</th>\n",
       "      <th>CONV_MID</th>\n",
       "      <th>CONV_FINAL</th>\n",
       "      <th>LEARNING_RATE</th>\n",
       "      <th>train_portfolio_value</th>\n",
       "      <th>train_drawdown</th>\n",
       "      <th>train_sharpe</th>\n",
       "      <th>train_cumulative</th>\n",
       "      <th>test_portfolio_value</th>\n",
       "      <th>test_drawdown</th>\n",
       "      <th>test_sharpe</th>\n",
       "      <th>test_cumulative</th>\n",
       "    </tr>\n",
       "  </thead>\n",
       "  <tbody>\n",
       "    <tr>\n",
       "      <th>0</th>\n",
       "      <td>30</td>\n",
       "      <td>5</td>\n",
       "      <td>10</td>\n",
       "      <td>10</td>\n",
       "      <td>0.02</td>\n",
       "      <td>1.000000e+05</td>\n",
       "      <td>0.000000</td>\n",
       "      <td>NaN</td>\n",
       "      <td>1.000000</td>\n",
       "      <td>100000.000000</td>\n",
       "      <td>0.000000</td>\n",
       "      <td>NaN</td>\n",
       "      <td>1.000000</td>\n",
       "    </tr>\n",
       "    <tr>\n",
       "      <th>1</th>\n",
       "      <td>30</td>\n",
       "      <td>5</td>\n",
       "      <td>10</td>\n",
       "      <td>20</td>\n",
       "      <td>0.01</td>\n",
       "      <td>7.928849e+05</td>\n",
       "      <td>-0.345315</td>\n",
       "      <td>1.207781</td>\n",
       "      <td>7.928849</td>\n",
       "      <td>146965.234375</td>\n",
       "      <td>-0.300938</td>\n",
       "      <td>0.855996</td>\n",
       "      <td>1.469652</td>\n",
       "    </tr>\n",
       "    <tr>\n",
       "      <th>2</th>\n",
       "      <td>30</td>\n",
       "      <td>5</td>\n",
       "      <td>10</td>\n",
       "      <td>20</td>\n",
       "      <td>0.02</td>\n",
       "      <td>2.393668e+05</td>\n",
       "      <td>-0.349793</td>\n",
       "      <td>0.775908</td>\n",
       "      <td>2.393668</td>\n",
       "      <td>128731.085938</td>\n",
       "      <td>-0.156372</td>\n",
       "      <td>0.877292</td>\n",
       "      <td>1.287311</td>\n",
       "    </tr>\n",
       "    <tr>\n",
       "      <th>3</th>\n",
       "      <td>30</td>\n",
       "      <td>5</td>\n",
       "      <td>20</td>\n",
       "      <td>5</td>\n",
       "      <td>0.01</td>\n",
       "      <td>9.391492e+05</td>\n",
       "      <td>-0.280393</td>\n",
       "      <td>1.381335</td>\n",
       "      <td>9.391492</td>\n",
       "      <td>172244.625000</td>\n",
       "      <td>-0.225669</td>\n",
       "      <td>1.187526</td>\n",
       "      <td>1.722446</td>\n",
       "    </tr>\n",
       "    <tr>\n",
       "      <th>4</th>\n",
       "      <td>30</td>\n",
       "      <td>5</td>\n",
       "      <td>20</td>\n",
       "      <td>5</td>\n",
       "      <td>0.02</td>\n",
       "      <td>1.092733e+06</td>\n",
       "      <td>-0.292261</td>\n",
       "      <td>1.337776</td>\n",
       "      <td>10.927329</td>\n",
       "      <td>202317.406250</td>\n",
       "      <td>-0.220285</td>\n",
       "      <td>1.412901</td>\n",
       "      <td>2.023174</td>\n",
       "    </tr>\n",
       "    <tr>\n",
       "      <th>5</th>\n",
       "      <td>30</td>\n",
       "      <td>5</td>\n",
       "      <td>20</td>\n",
       "      <td>10</td>\n",
       "      <td>0.01</td>\n",
       "      <td>1.237264e+06</td>\n",
       "      <td>-0.281967</td>\n",
       "      <td>1.478201</td>\n",
       "      <td>12.372637</td>\n",
       "      <td>201487.640625</td>\n",
       "      <td>-0.189054</td>\n",
       "      <td>1.483268</td>\n",
       "      <td>2.014876</td>\n",
       "    </tr>\n",
       "    <tr>\n",
       "      <th>6</th>\n",
       "      <td>30</td>\n",
       "      <td>5</td>\n",
       "      <td>20</td>\n",
       "      <td>10</td>\n",
       "      <td>0.02</td>\n",
       "      <td>1.000000e+05</td>\n",
       "      <td>0.000000</td>\n",
       "      <td>NaN</td>\n",
       "      <td>1.000000</td>\n",
       "      <td>100000.000000</td>\n",
       "      <td>0.000000</td>\n",
       "      <td>NaN</td>\n",
       "      <td>1.000000</td>\n",
       "    </tr>\n",
       "    <tr>\n",
       "      <th>7</th>\n",
       "      <td>30</td>\n",
       "      <td>5</td>\n",
       "      <td>20</td>\n",
       "      <td>20</td>\n",
       "      <td>0.01</td>\n",
       "      <td>7.414635e+05</td>\n",
       "      <td>-0.280681</td>\n",
       "      <td>1.305751</td>\n",
       "      <td>7.414635</td>\n",
       "      <td>70868.976562</td>\n",
       "      <td>-0.419321</td>\n",
       "      <td>-0.597977</td>\n",
       "      <td>0.708690</td>\n",
       "    </tr>\n",
       "    <tr>\n",
       "      <th>8</th>\n",
       "      <td>30</td>\n",
       "      <td>5</td>\n",
       "      <td>20</td>\n",
       "      <td>20</td>\n",
       "      <td>0.02</td>\n",
       "      <td>1.000000e+05</td>\n",
       "      <td>0.000000</td>\n",
       "      <td>NaN</td>\n",
       "      <td>1.000000</td>\n",
       "      <td>100000.000000</td>\n",
       "      <td>0.000000</td>\n",
       "      <td>NaN</td>\n",
       "      <td>1.000000</td>\n",
       "    </tr>\n",
       "  </tbody>\n",
       "</table>\n",
       "</div>"
      ],
      "text/plain": [
       "  TIME_WINDOW K_SIZE CONV_MID CONV_FINAL  LEARNING_RATE  \\\n",
       "0          30      5       10         10           0.02   \n",
       "1          30      5       10         20           0.01   \n",
       "2          30      5       10         20           0.02   \n",
       "3          30      5       20          5           0.01   \n",
       "4          30      5       20          5           0.02   \n",
       "5          30      5       20         10           0.01   \n",
       "6          30      5       20         10           0.02   \n",
       "7          30      5       20         20           0.01   \n",
       "8          30      5       20         20           0.02   \n",
       "\n",
       "   train_portfolio_value  train_drawdown  train_sharpe  train_cumulative  \\\n",
       "0           1.000000e+05        0.000000           NaN          1.000000   \n",
       "1           7.928849e+05       -0.345315      1.207781          7.928849   \n",
       "2           2.393668e+05       -0.349793      0.775908          2.393668   \n",
       "3           9.391492e+05       -0.280393      1.381335          9.391492   \n",
       "4           1.092733e+06       -0.292261      1.337776         10.927329   \n",
       "5           1.237264e+06       -0.281967      1.478201         12.372637   \n",
       "6           1.000000e+05        0.000000           NaN          1.000000   \n",
       "7           7.414635e+05       -0.280681      1.305751          7.414635   \n",
       "8           1.000000e+05        0.000000           NaN          1.000000   \n",
       "\n",
       "   test_portfolio_value  test_drawdown  test_sharpe  test_cumulative  \n",
       "0         100000.000000       0.000000          NaN         1.000000  \n",
       "1         146965.234375      -0.300938     0.855996         1.469652  \n",
       "2         128731.085938      -0.156372     0.877292         1.287311  \n",
       "3         172244.625000      -0.225669     1.187526         1.722446  \n",
       "4         202317.406250      -0.220285     1.412901         2.023174  \n",
       "5         201487.640625      -0.189054     1.483268         2.014876  \n",
       "6         100000.000000       0.000000          NaN         1.000000  \n",
       "7          70868.976562      -0.419321    -0.597977         0.708690  \n",
       "8         100000.000000       0.000000          NaN         1.000000  "
      ]
     },
     "execution_count": 4,
     "metadata": {},
     "output_type": "execute_result"
    }
   ],
   "source": [
    "# Hyperparameter tuning loop with 5 episodes of training and error handling\n",
    "for TIME_WINDOW, K_SIZE, CONV_MID, CONV_FINAL,LEARNING_RATE in hyperparams:\n",
    "    try:\n",
    "        print(f\"Training model with TIME_WINDOW={TIME_WINDOW}, K_SIZE={K_SIZE}, CONV_MID={CONV_MID}, CONV_FINAL={CONV_FINAL}, LEARNING_RATE={LEARNING_RATE}\")\n",
    "        # Update the policy_kwargs for the current set of hyperparameters\n",
    "        policy_kwargs = {\n",
    "        \"initial_features\": len(FEATURE_NAMES),\n",
    "        \"k_size\": K_SIZE,\n",
    "        \"time_window\": TIME_WINDOW,\n",
    "        \"conv_mid_features\":CONV_MID,\n",
    "        \"conv_final_features\":CONV_FINAL}\n",
    "\n",
    "        # Create the environment for training and the test years\n",
    "        \n",
    "        environment = PortfolioOptimizationEnv(\n",
    "            df_portfolio_train,\n",
    "            initial_amount=100000,\n",
    "            comission_fee_pct=COMISSION_FEE,\n",
    "            time_window=TIME_WINDOW,\n",
    "            features=FEATURE_NAMES,\n",
    "            normalize_df=None,\n",
    "            reward_function=custom_reward_function,\n",
    "            reward_scaling=1.0\n",
    "        )   \n",
    "\n",
    "        vali_env = PortfolioOptimizationEnv(\n",
    "            df_portfolio_vali,\n",
    "            initial_amount=100000,\n",
    "            comission_fee_pct=COMISSION_FEE,\n",
    "            time_window=TIME_WINDOW,\n",
    "            features=FEATURE_NAMES,\n",
    "            normalize_df=None,\n",
    "            reward_function=custom_reward_function,\n",
    "            reward_scaling=1.0,\n",
    "        )\n",
    "\n",
    "        # Instantiate the model for each combination of hyperparameters\n",
    "        # set PolicyGradient parameters\n",
    "        model_kwargs = {\n",
    "                \"lr\": LEARNING_RATE,\n",
    "                \"policy\": EIIE,\n",
    "                    \"validation_env\": vali_env,\n",
    "                }\n",
    "\n",
    "        EIIE_model = DRLAgent(environment).get_model(\"pg\", device, model_kwargs, policy_kwargs)\n",
    "        EIIE_policy = EIIE(time_window=TIME_WINDOW, device=device, initial_features=len(FEATURE_NAMES),\n",
    "                            k_size=K_SIZE, conv_mid_features=CONV_MID, conv_final_features=CONV_FINAL)\n",
    "\n",
    "        # Train the model for 10 episodes\n",
    "        _, best_checkpoint = DRLAgent.train_model(EIIE_model, episodes=100, validation_freq=3, patience=10, threshold = 0.01)\n",
    "        \n",
    "        # Save the model policy after training\n",
    "        model_filename = f\"policy_EIIE_{TIME_WINDOW}_{K_SIZE}_{CONV_MID}_{CONV_FINAL}_{LEARNING_RATE}.pt\"\n",
    "        torch.save(best_checkpoint, model_filename)\n",
    "        \n",
    "        EIIE_policy = EIIE(time_window = TIME_WINDOW, device = device, initial_features = len(FEATURE_NAMES),\n",
    "                            k_size = K_SIZE, conv_mid_features = CONV_MID,conv_final_features = CONV_FINAL)\n",
    "\n",
    "        EIIE_policy.load_state_dict(torch.load(model_filename))\n",
    "\n",
    "        environment.reset()\n",
    "        DRLAgent.DRL_validation(EIIE_model, environment, policy=EIIE_policy, learning_rate = LEARNING_RATE)\n",
    "        train_final_value, train_drawdown, train_sharpe, train_cumulative = calculate_metrics(environment)\n",
    "\n",
    "        print(f\"Metrics - train_final_value: {train_final_value}, train_drawdown: {train_drawdown}, train_sharpe: {train_sharpe}, train_cumulative: {train_cumulative}\")\n",
    "\n",
    "        # Test evaluation\n",
    "        vali_env.reset()\n",
    "        DRLAgent.DRL_validation(EIIE_model, vali_env, policy=EIIE_policy, learning_rate = LEARNING_RATE)\n",
    "        test_final_value, test_drawdown, test_sharpe, test_cumulative = calculate_metrics(vali_env)\n",
    "\n",
    "        print(f\"Metrics - test_final_value: {test_final_value}, test_drawdown: {test_drawdown}, test_sharpe: {test_sharpe}, test_cumulative: {test_cumulative}\")\n",
    "\n",
    "\n",
    "    except Exception as e:\n",
    "        print(f\"Error encountered with combination policy_EIIE_{TIME_WINDOW}_{K_SIZE}_{CONV_MID}_{CONV_FINAL}: {e}\")\n",
    "        # If an error occurs, store NaN for all the metrics\n",
    "        train_final_value = train_drawdown = train_sharpe = train_cumulative = np.nan\n",
    "        test_final_value = test_drawdown = test_sharpe = test_cumulative = np.nan\n",
    " \n",
    "    # Create a temporary DataFrame to store the current results\n",
    "    temp_df = pd.DataFrame([{\n",
    "        \"TIME_WINDOW\": TIME_WINDOW, \"K_SIZE\": K_SIZE, \"CONV_MID\": CONV_MID, \"CONV_FINAL\": CONV_FINAL, \"LEARNING_RATE\": LEARNING_RATE,\n",
    "        \"train_portfolio_value\": train_final_value, \"train_drawdown\": train_drawdown, \"train_sharpe\": train_sharpe, \"train_cumulative\": train_cumulative,\n",
    "        \"test_portfolio_value\": test_final_value, \"test_drawdown\": test_drawdown, \"test_sharpe\": test_sharpe, \"test_cumulative\": test_cumulative,\n",
    "        }])\n",
    "    \n",
    "    # Use pd.concat instead of append to add the results to the main DataFrame\n",
    "    results_df = pd.concat([results_df, temp_df], ignore_index=True)\n",
    "    \n",
    "    try:\n",
    "        results_df.to_csv('hyperparams.csv', index=False)\n",
    "    except Exception as e:\n",
    "        print(f\"An error occurred: {e}\")\n",
    "        \n",
    "results_df"
   ]
  },
  {
   "cell_type": "code",
   "execution_count": 33,
   "metadata": {
    "scrolled": true
   },
   "outputs": [
    {
     "data": {
      "text/html": [
       "<div>\n",
       "<style scoped>\n",
       "    .dataframe tbody tr th:only-of-type {\n",
       "        vertical-align: middle;\n",
       "    }\n",
       "\n",
       "    .dataframe tbody tr th {\n",
       "        vertical-align: top;\n",
       "    }\n",
       "\n",
       "    .dataframe thead th {\n",
       "        text-align: right;\n",
       "    }\n",
       "</style>\n",
       "<table border=\"1\" class=\"dataframe\">\n",
       "  <thead>\n",
       "    <tr style=\"text-align: right;\">\n",
       "      <th></th>\n",
       "      <th>TIME_WINDOW</th>\n",
       "      <th>K_SIZE</th>\n",
       "      <th>CONV_MID</th>\n",
       "      <th>CONV_FINAL</th>\n",
       "      <th>LEARNING_RATE</th>\n",
       "      <th>train_portfolio_value</th>\n",
       "      <th>train_drawdown</th>\n",
       "      <th>train_sharpe</th>\n",
       "      <th>train_cumulative</th>\n",
       "      <th>test_portfolio_value</th>\n",
       "      <th>test_drawdown</th>\n",
       "      <th>test_sharpe</th>\n",
       "      <th>test_cumulative</th>\n",
       "    </tr>\n",
       "  </thead>\n",
       "  <tbody>\n",
       "    <tr>\n",
       "      <th>0</th>\n",
       "      <td>30</td>\n",
       "      <td>3</td>\n",
       "      <td>5</td>\n",
       "      <td>5</td>\n",
       "      <td>0.01</td>\n",
       "      <td>9.354249e+05</td>\n",
       "      <td>-0.384764</td>\n",
       "      <td>1.331227</td>\n",
       "      <td>9.354249</td>\n",
       "      <td>150983.859375</td>\n",
       "      <td>-0.288262</td>\n",
       "      <td>0.909782</td>\n",
       "      <td>1.509839</td>\n",
       "    </tr>\n",
       "    <tr>\n",
       "      <th>1</th>\n",
       "      <td>30</td>\n",
       "      <td>3</td>\n",
       "      <td>5</td>\n",
       "      <td>5</td>\n",
       "      <td>0.02</td>\n",
       "      <td>8.224098e+05</td>\n",
       "      <td>-0.362296</td>\n",
       "      <td>1.247078</td>\n",
       "      <td>8.224097</td>\n",
       "      <td>190940.890625</td>\n",
       "      <td>-0.210293</td>\n",
       "      <td>1.345313</td>\n",
       "      <td>1.909409</td>\n",
       "    </tr>\n",
       "    <tr>\n",
       "      <th>2</th>\n",
       "      <td>30</td>\n",
       "      <td>3</td>\n",
       "      <td>5</td>\n",
       "      <td>10</td>\n",
       "      <td>0.01</td>\n",
       "      <td>2.374833e+05</td>\n",
       "      <td>-0.342059</td>\n",
       "      <td>0.780448</td>\n",
       "      <td>2.374833</td>\n",
       "      <td>128788.664062</td>\n",
       "      <td>-0.153513</td>\n",
       "      <td>0.888851</td>\n",
       "      <td>1.287887</td>\n",
       "    </tr>\n",
       "    <tr>\n",
       "      <th>3</th>\n",
       "      <td>30</td>\n",
       "      <td>3</td>\n",
       "      <td>5</td>\n",
       "      <td>10</td>\n",
       "      <td>0.02</td>\n",
       "      <td>4.528810e+05</td>\n",
       "      <td>-0.284567</td>\n",
       "      <td>0.942631</td>\n",
       "      <td>4.528810</td>\n",
       "      <td>215230.218750</td>\n",
       "      <td>-0.187788</td>\n",
       "      <td>1.645605</td>\n",
       "      <td>2.152302</td>\n",
       "    </tr>\n",
       "    <tr>\n",
       "      <th>4</th>\n",
       "      <td>30</td>\n",
       "      <td>3</td>\n",
       "      <td>5</td>\n",
       "      <td>20</td>\n",
       "      <td>0.01</td>\n",
       "      <td>2.446373e+05</td>\n",
       "      <td>-0.352521</td>\n",
       "      <td>0.781757</td>\n",
       "      <td>2.446373</td>\n",
       "      <td>130033.421875</td>\n",
       "      <td>-0.159296</td>\n",
       "      <td>0.891152</td>\n",
       "      <td>1.300334</td>\n",
       "    </tr>\n",
       "    <tr>\n",
       "      <th>...</th>\n",
       "      <td>...</td>\n",
       "      <td>...</td>\n",
       "      <td>...</td>\n",
       "      <td>...</td>\n",
       "      <td>...</td>\n",
       "      <td>...</td>\n",
       "      <td>...</td>\n",
       "      <td>...</td>\n",
       "      <td>...</td>\n",
       "      <td>...</td>\n",
       "      <td>...</td>\n",
       "      <td>...</td>\n",
       "      <td>...</td>\n",
       "    </tr>\n",
       "    <tr>\n",
       "      <th>157</th>\n",
       "      <td>90</td>\n",
       "      <td>5</td>\n",
       "      <td>20</td>\n",
       "      <td>5</td>\n",
       "      <td>0.02</td>\n",
       "      <td>7.156793e+05</td>\n",
       "      <td>-0.280393</td>\n",
       "      <td>1.239699</td>\n",
       "      <td>7.156793</td>\n",
       "      <td>199785.375000</td>\n",
       "      <td>-0.217284</td>\n",
       "      <td>1.573390</td>\n",
       "      <td>1.997854</td>\n",
       "    </tr>\n",
       "    <tr>\n",
       "      <th>158</th>\n",
       "      <td>90</td>\n",
       "      <td>5</td>\n",
       "      <td>20</td>\n",
       "      <td>10</td>\n",
       "      <td>0.01</td>\n",
       "      <td>1.143282e+06</td>\n",
       "      <td>-0.314273</td>\n",
       "      <td>1.428601</td>\n",
       "      <td>11.432816</td>\n",
       "      <td>182986.265625</td>\n",
       "      <td>-0.205087</td>\n",
       "      <td>1.344036</td>\n",
       "      <td>1.829863</td>\n",
       "    </tr>\n",
       "    <tr>\n",
       "      <th>159</th>\n",
       "      <td>90</td>\n",
       "      <td>5</td>\n",
       "      <td>20</td>\n",
       "      <td>10</td>\n",
       "      <td>0.02</td>\n",
       "      <td>1.000000e+05</td>\n",
       "      <td>0.000000</td>\n",
       "      <td>NaN</td>\n",
       "      <td>1.000000</td>\n",
       "      <td>100000.000000</td>\n",
       "      <td>0.000000</td>\n",
       "      <td>NaN</td>\n",
       "      <td>1.000000</td>\n",
       "    </tr>\n",
       "    <tr>\n",
       "      <th>160</th>\n",
       "      <td>90</td>\n",
       "      <td>5</td>\n",
       "      <td>20</td>\n",
       "      <td>20</td>\n",
       "      <td>0.01</td>\n",
       "      <td>7.675396e+05</td>\n",
       "      <td>-0.385159</td>\n",
       "      <td>1.227981</td>\n",
       "      <td>7.675396</td>\n",
       "      <td>70939.335938</td>\n",
       "      <td>-0.386138</td>\n",
       "      <td>-0.527137</td>\n",
       "      <td>0.709393</td>\n",
       "    </tr>\n",
       "    <tr>\n",
       "      <th>161</th>\n",
       "      <td>90</td>\n",
       "      <td>5</td>\n",
       "      <td>20</td>\n",
       "      <td>20</td>\n",
       "      <td>0.02</td>\n",
       "      <td>6.507372e+05</td>\n",
       "      <td>-0.313959</td>\n",
       "      <td>1.166785</td>\n",
       "      <td>6.507372</td>\n",
       "      <td>101882.953125</td>\n",
       "      <td>-0.371487</td>\n",
       "      <td>0.188131</td>\n",
       "      <td>1.018830</td>\n",
       "    </tr>\n",
       "  </tbody>\n",
       "</table>\n",
       "<p>162 rows × 13 columns</p>\n",
       "</div>"
      ],
      "text/plain": [
       "    TIME_WINDOW K_SIZE CONV_MID CONV_FINAL  LEARNING_RATE  \\\n",
       "0            30      3        5          5           0.01   \n",
       "1            30      3        5          5           0.02   \n",
       "2            30      3        5         10           0.01   \n",
       "3            30      3        5         10           0.02   \n",
       "4            30      3        5         20           0.01   \n",
       "..          ...    ...      ...        ...            ...   \n",
       "157          90      5       20          5           0.02   \n",
       "158          90      5       20         10           0.01   \n",
       "159          90      5       20         10           0.02   \n",
       "160          90      5       20         20           0.01   \n",
       "161          90      5       20         20           0.02   \n",
       "\n",
       "     train_portfolio_value  train_drawdown  train_sharpe  train_cumulative  \\\n",
       "0             9.354249e+05       -0.384764      1.331227          9.354249   \n",
       "1             8.224098e+05       -0.362296      1.247078          8.224097   \n",
       "2             2.374833e+05       -0.342059      0.780448          2.374833   \n",
       "3             4.528810e+05       -0.284567      0.942631          4.528810   \n",
       "4             2.446373e+05       -0.352521      0.781757          2.446373   \n",
       "..                     ...             ...           ...               ...   \n",
       "157           7.156793e+05       -0.280393      1.239699          7.156793   \n",
       "158           1.143282e+06       -0.314273      1.428601         11.432816   \n",
       "159           1.000000e+05        0.000000           NaN          1.000000   \n",
       "160           7.675396e+05       -0.385159      1.227981          7.675396   \n",
       "161           6.507372e+05       -0.313959      1.166785          6.507372   \n",
       "\n",
       "     test_portfolio_value  test_drawdown  test_sharpe  test_cumulative  \n",
       "0           150983.859375      -0.288262     0.909782         1.509839  \n",
       "1           190940.890625      -0.210293     1.345313         1.909409  \n",
       "2           128788.664062      -0.153513     0.888851         1.287887  \n",
       "3           215230.218750      -0.187788     1.645605         2.152302  \n",
       "4           130033.421875      -0.159296     0.891152         1.300334  \n",
       "..                    ...            ...          ...              ...  \n",
       "157         199785.375000      -0.217284     1.573390         1.997854  \n",
       "158         182986.265625      -0.205087     1.344036         1.829863  \n",
       "159         100000.000000       0.000000          NaN         1.000000  \n",
       "160          70939.335938      -0.386138    -0.527137         0.709393  \n",
       "161         101882.953125      -0.371487     0.188131         1.018830  \n",
       "\n",
       "[162 rows x 13 columns]"
      ]
     },
     "execution_count": 33,
     "metadata": {},
     "output_type": "execute_result"
    }
   ],
   "source": [
    "results_df"
   ]
  },
  {
   "cell_type": "code",
   "execution_count": null,
   "metadata": {},
   "outputs": [],
   "source": [
    "results_df2.to_csv('results_df2.csv', index=False)"
   ]
  },
  {
   "cell_type": "code",
   "execution_count": null,
   "metadata": {},
   "outputs": [],
   "source": []
  },
  {
   "cell_type": "code",
   "execution_count": 35,
   "metadata": {},
   "outputs": [],
   "source": [
    "results_df.to_csv('secondhyperparmatuning.csv', index=False)"
   ]
  },
  {
   "cell_type": "code",
   "execution_count": null,
   "metadata": {},
   "outputs": [],
   "source": []
  },
  {
   "cell_type": "code",
   "execution_count": null,
   "metadata": {},
   "outputs": [],
   "source": []
  },
  {
   "cell_type": "code",
   "execution_count": null,
   "metadata": {},
   "outputs": [],
   "source": []
  },
  {
   "cell_type": "code",
   "execution_count": 36,
   "metadata": {},
   "outputs": [],
   "source": [
    "FEATURE_NAMES = ['close',\n",
    "                 'high',\n",
    "                 'low',\n",
    "                 'High_VIX',\n",
    "                 'Low_VIX',\n",
    "                 'Close_VIX',\n",
    "                 'High_SPY',\n",
    "                 'Low_SPY',\n",
    "                 'Close_SPY',\n",
    "                 'Volume_SPY',\n",
    "                 'Fear Greed', \n",
    "                 'ratingScore',\n",
    "                 'ratingDetailsDCFScore',\n",
    "                 'ratingDetailsROEScore',\n",
    "                 'ratingDetailsROAScore',\n",
    "                 'ratingDetailsPEScore',\n",
    "                 'ratingDetailsPBScore',\n",
    "                 'expenses',\n",
    "                 'GDP', \n",
    "                 'exports', \n",
    "                 'imports',\n",
    "                 'pound_dollar_exchange_rate',\n",
    "                 'unemployment',\n",
    "                 'ics',\n",
    "                 'TTM Revenue(Billion)',\n",
    "                 'TTM EBITDA(Billion)',\n",
    "                 'EBITDA Margin',\n",
    "                 'Price to Book Ratio',\n",
    "                 'PE Ratio',\n",
    "                 'Price to Sales Ratio',\n",
    "                 'Assets',\n",
    "                 'NetIncomeLoss',\n",
    "                 'Return on Equity(%)']\n",
    "\n",
    "TIME_WINDOW = 50\n",
    "COMISSION_FEE = 0.0025\n",
    "K_SIZE = 4\n",
    "CONV_MID = 5\n",
    "CONV_FINAL= 20\n",
    "\n",
    "environment = PortfolioOptimizationEnv(\n",
    "        df_portfolio_train,\n",
    "        initial_amount=100000,\n",
    "        comission_fee_pct=COMISSION_FEE,\n",
    "        time_window=TIME_WINDOW,\n",
    "        features=FEATURE_NAMES,\n",
    "        normalize_df=None,\n",
    "        reward_function=custom_reward_function,\n",
    "        reward_scaling=1.0\n",
    "    )\n",
    "\n",
    "# set PolicyGradient parameters\n",
    "model_kwargs = {\n",
    "    \"lr\": 0.01, \n",
    "    \"policy\": EIIE,\n",
    "}\n",
    "\n",
    "# here, we can set EIIE's parameters\n",
    "policy_kwargs = {\n",
    "    \"initial_features\": len(FEATURE_NAMES),\n",
    "    \"k_size\": K_SIZE,\n",
    "    \"time_window\": TIME_WINDOW,\n",
    "    \"conv_mid_features\":CONV_MID,\n",
    "    \"conv_final_features\":CONV_FINAL}\n",
    "\n",
    "EIIE_model = DRLAgent(environment).get_model(\"pg\", device, model_kwargs, policy_kwargs)"
   ]
  },
  {
   "cell_type": "markdown",
   "metadata": {},
   "source": [
    "# DRL Model Training (Jan 2011- Dec 2020)"
   ]
  },
  {
   "cell_type": "code",
   "execution_count": null,
   "metadata": {
    "scrolled": false
   },
   "outputs": [],
   "source": [
    "DRLAgent.train_model(EIIE_model, episodes=5)\n",
    "torch.save(EIIE_model.train_policy.state_dict(), \"policy_EIIE(test).pt\")"
   ]
  },
  {
   "cell_type": "markdown",
   "metadata": {},
   "source": [
    "# DRL Model Evaluation (Jan 2021-Dec 2023)"
   ]
  },
  {
   "cell_type": "code",
   "execution_count": null,
   "metadata": {},
   "outputs": [],
   "source": [
    "import os\n",
    "import shutil\n",
    "\n",
    "environment_2021 = PortfolioOptimizationEnv(\n",
    "    df_portfolio_2021,\n",
    "    initial_amount=100000,\n",
    "    comission_fee_pct=COMISSION_FEE,\n",
    "    time_window=TIME_WINDOW,\n",
    "    features=FEATURE_NAMES,\n",
    "    normalize_df=None,\n",
    "    reward_function=custom_reward_function,\n",
    "    reward_scaling=1.0\n",
    ")\n",
    "\n",
    "environment_2022 = PortfolioOptimizationEnv(\n",
    "    df_portfolio_2022,\n",
    "    initial_amount=100000,\n",
    "    comission_fee_pct=COMISSION_FEE,\n",
    "    time_window=TIME_WINDOW,\n",
    "    features=FEATURE_NAMES,\n",
    "    normalize_df=None,\n",
    "    reward_function=custom_reward_function,\n",
    "    reward_scaling=1.0\n",
    ")\n",
    "\n",
    "environment_2023 = PortfolioOptimizationEnv(\n",
    "    df_portfolio_2023,\n",
    "    initial_amount=100000,\n",
    "    comission_fee_pct=COMISSION_FEE,\n",
    "    time_window=TIME_WINDOW,\n",
    "    features=FEATURE_NAMES,\n",
    "    normalize_df=None,\n",
    "    reward_function=custom_reward_function,\n",
    "    reward_scaling=1.0\n",
    ")\n",
    "\n",
    "EIIE_results = {\n",
    "    \"train\": {},\n",
    "    \"2021\": {},\n",
    "    \"2022\": {},\n",
    "    \"2023\": {}\n",
    "}\n",
    "# EI3_results = {\n",
    "#     \"train\": {},\n",
    "#     \"2021\": {},\n",
    "#     \"2022\": {},\n",
    "#     \"2023\": {}\n",
    "# }\n",
    "\n",
    "# instantiate an architecture with the same arguments used in training\n",
    "# and load with load_state_dict.\n",
    "\n",
    "EIIE_policy = EIIE(time_window = TIME_WINDOW, device = device, initial_features = len(FEATURE_NAMES),\n",
    "              k_size = K_SIZE, conv_mid_features = CONV_MID,conv_final_features = CONV_FINAL)\n",
    "\n",
    "EIIE_policy.load_state_dict(torch.load(\"policy_EIIE(test).pt\"))\n",
    "\n",
    "environment.reset()\n",
    "src_folder = \"results/rl\"\n",
    "dst_folder = \"results/train\"\n",
    "if not os.path.exists(src_folder):\n",
    "    os.makedirs(src_folder)\n",
    "if os.path.exists(dst_folder):\n",
    "    shutil.rmtree(dst_folder)\n",
    "DRLAgent.DRL_validation(EIIE_model, environment, policy=EIIE_policy)\n",
    "os.rename(src_folder, dst_folder)\n",
    "EIIE_results[\"train\"][\"value\"] = environment._asset_memory[\"final\"]\n",
    "EIIE_results[\"train\"][\"actions\"] = environment._actions_memory\n",
    "\n",
    "src_folder = \"results/rl\"\n",
    "dst_folder = \"results/2021\"\n",
    "if not os.path.exists(src_folder):\n",
    "    os.makedirs(src_folder)\n",
    "if os.path.exists(dst_folder):\n",
    "    shutil.rmtree(dst_folder)\n",
    "DRLAgent.DRL_validation(EIIE_model, environment_2021, policy=EIIE_policy)\n",
    "os.rename(src_folder, dst_folder)\n",
    "EIIE_results[\"2021\"][\"value\"] = environment_2021._asset_memory[\"final\"]\n",
    "EIIE_results[\"2021\"][\"actions\"] = environment_2021._actions_memory\n",
    "\n",
    "src_folder = \"results/rl\"\n",
    "dst_folder = \"results/2022\"\n",
    "if not os.path.exists(src_folder):\n",
    "    os.makedirs(src_folder)\n",
    "if os.path.exists(dst_folder):\n",
    "    shutil.rmtree(dst_folder)\n",
    "DRLAgent.DRL_validation(EIIE_model, environment_2022, policy=EIIE_policy)\n",
    "os.rename(src_folder, dst_folder)\n",
    "EIIE_results[\"2022\"][\"value\"] = environment_2022._asset_memory[\"final\"]\n",
    "EIIE_results[\"2022\"][\"actions\"] = environment_2022._actions_memory\n",
    "\n",
    "src_folder = \"results/rl\"\n",
    "dst_folder = \"results/2023\"\n",
    "if not os.path.exists(src_folder):\n",
    "    os.makedirs(src_folder)\n",
    "if os.path.exists(dst_folder):\n",
    "    shutil.rmtree(dst_folder)\n",
    "DRLAgent.DRL_validation(EIIE_model, environment_2023, policy=EIIE_policy)\n",
    "os.rename(src_folder, dst_folder)\n",
    "EIIE_results[\"2023\"][\"value\"] = environment_2023._asset_memory[\"final\"]\n",
    "EIIE_results[\"2023\"][\"actions\"] = environment_2023._actions_memory\n",
    "\n",
    "\n",
    "# EI3_policy = EI3(time_window=50, device=device)\n",
    "# EI3_policy.load_state_dict(torch.load(\"policy_EI3.pt\"))\n",
    "\n",
    "# environment.reset()\n",
    "# DRLAgent.DRL_validation(EI3_model, environment, policy=EI3_policy)\n",
    "# EI3_results[\"train\"][\"value\"] = environment._asset_memory[\"final\"]\n",
    "# environment_2021.reset()\n",
    "# DRLAgent.DRL_validation(EI3_model, environment_2021, policy=EI3_policy)\n",
    "# EI3_results[\"2021\"][\"value\"] = environment_2021._asset_memory[\"final\"]\n",
    "# environment_2022.reset()\n",
    "# DRLAgent.DRL_validation(EI3_model, environment_2022, policy=EI3_policy)\n",
    "# EI3_results[\"2022\"][\"value\"] = environment_2022._asset_memory[\"final\"]\n",
    "# environment_2023.reset()\n",
    "# DRLAgent.DRL_validation(EI3_model, environment_2023, policy=EI3_policy)\n",
    "# EI3_results[\"2023\"][\"value\"] = environment_2023._asset_memory[\"final\"]\n",
    "\n",
    "#uniform buy n hold\n",
    "if not os.path.exists(src_folder):\n",
    "    os.makedirs(src_folder)\n",
    "UBAH_results = {\n",
    "    \"train\": {\"value\": [], \"actions\": []},\n",
    "    \"2021\": {\"value\": [], \"actions\": []},\n",
    "    \"2022\": {\"value\": [], \"actions\": []},\n",
    "    \"2023\": {\"value\": [], \"actions\": []}\n",
    "}\n",
    "\n",
    "PORTFOLIO_SIZE = len(TEST_SET)\n",
    "\n",
    "# train period\n",
    "terminated = False\n",
    "environment.reset()\n",
    "while not terminated:\n",
    "    action = [0] + [1/PORTFOLIO_SIZE] * PORTFOLIO_SIZE\n",
    "    _, _, terminated, _ = environment.step(action)\n",
    "    UBAH_results[\"train\"][\"actions\"].append(action)\n",
    "UBAH_results[\"train\"][\"value\"] = environment._asset_memory[\"final\"]\n",
    "\n",
    "# 2021\n",
    "terminated = False\n",
    "environment_2021.reset()\n",
    "while not terminated:\n",
    "    action = [0] + [1/PORTFOLIO_SIZE] * PORTFOLIO_SIZE\n",
    "    _, _, terminated, _ = environment_2021.step(action)\n",
    "    UBAH_results[\"2021\"][\"actions\"].append(action)\n",
    "UBAH_results[\"2021\"][\"value\"] = environment_2021._asset_memory[\"final\"]\n",
    "\n",
    "# 2022\n",
    "terminated = False\n",
    "environment_2022.reset()\n",
    "while not terminated:\n",
    "    action = [0] + [1/PORTFOLIO_SIZE] * PORTFOLIO_SIZE\n",
    "    _, _, terminated, _ = environment_2022.step(action)\n",
    "    UBAH_results[\"2022\"][\"actions\"].append(action)\n",
    "UBAH_results[\"2022\"][\"value\"] = environment_2022._asset_memory[\"final\"]\n",
    "\n",
    "# 2023\n",
    "terminated = False\n",
    "environment_2023.reset()\n",
    "while not terminated:\n",
    "    action = [0] + [1/PORTFOLIO_SIZE] * PORTFOLIO_SIZE\n",
    "    _, _, terminated, _ = environment_2023.step(action)\n",
    "    UBAH_results[\"2023\"][\"actions\"].append(action)\n",
    "UBAH_results[\"2023\"][\"value\"] = environment_2023._asset_memory[\"final\"]"
   ]
  },
  {
   "cell_type": "code",
   "execution_count": null,
   "metadata": {
    "scrolled": false
   },
   "outputs": [],
   "source": [
    "import matplotlib.pyplot as plt\n",
    "%matplotlib inline \n",
    "\n",
    "plt.plot(UBAH_results[\"train\"][\"value\"], label=\"Buy and Hold\")\n",
    "plt.plot(EIIE_results[\"train\"][\"value\"], label=\"EIIE\")\n",
    "#plt.plot(EI3_results[\"train\"][\"value\"], label=\"EI3\")\n",
    "\n",
    "plt.xlabel(\"Days\")\n",
    "plt.ylabel(\"Portfolio Value\")\n",
    "plt.title(\"Performance in training period\")\n",
    "plt.legend()\n",
    "\n",
    "plt.show()\n",
    "\n",
    "plt.plot(UBAH_results[\"2021\"][\"value\"], label=\"Buy and Hold\")\n",
    "plt.plot(EIIE_results[\"2021\"][\"value\"], label=\"EIIE\")\n",
    "#plt.plot(EI3_results[\"2021\"][\"value\"], label=\"EI3\")\n",
    "\n",
    "plt.xlabel(\"Days\")\n",
    "plt.ylabel(\"Portfolio Value\")\n",
    "plt.title(\"Performance in 2021\")\n",
    "plt.legend()\n",
    "\n",
    "plt.show()\n",
    "\n",
    "plt.plot(UBAH_results[\"2022\"][\"value\"], label=\"Buy and Hold\")\n",
    "plt.plot(EIIE_results[\"2022\"][\"value\"], label=\"EIIE\")\n",
    "#plt.plot(EI3_results[\"2022\"][\"value\"], label=\"EI3\")\n",
    "\n",
    "plt.xlabel(\"Days\")\n",
    "plt.ylabel(\"Portfolio Value\")\n",
    "plt.title(\"Performance in 2022\")\n",
    "plt.legend()\n",
    "\n",
    "plt.show()\n",
    "\n",
    "plt.plot(UBAH_results[\"2023\"][\"value\"], label=\"Buy and Hold\")\n",
    "plt.plot(EIIE_results[\"2023\"][\"value\"], label=\"EIIE\")\n",
    "#plt.plot(EI3_results[\"2023\"][\"value\"], label=\"EI3\")\n",
    "\n",
    "plt.xlabel(\"Days\")\n",
    "plt.ylabel(\"Portfolio Value\")\n",
    "plt.title(\"Performance in 2023\")\n",
    "plt.legend()\n",
    "\n",
    "plt.show()"
   ]
  },
  {
   "cell_type": "markdown",
   "metadata": {},
   "source": [
    "# Portfolio Allocation by Trained DRL Model"
   ]
  },
  {
   "cell_type": "code",
   "execution_count": null,
   "metadata": {
    "scrolled": false
   },
   "outputs": [],
   "source": [
    "# Function to plot action memory\n",
    "def plot_action_memory(actions, tickers, label):\n",
    "    \"\"\"Visualize portfolio allocation over time.\"\"\"\n",
    "    actions_df = pd.DataFrame(actions, columns=[\"cash\"] + tickers)\n",
    "    actions_df.plot(kind=\"line\", figsize=(12, 8), title=f\"Portfolio Allocation Breakdown - {label}\")\n",
    "    plt.ylabel(\"Portfolio Weight\")\n",
    "    plt.xlabel(\"Time Step\")\n",
    "    plt.legend(loc=\"upper left\", bbox_to_anchor=(1, 1))\n",
    "    plt.grid(True)\n",
    "    plt.tight_layout()\n",
    "    plt.show()\n",
    "\n",
    "# Plot EIIE actions for the training period\n",
    "plot_action_memory(EIIE_results[\"train\"][\"actions\"], TEST_SET, \"EIIE - Train\")\n",
    "\n",
    "# Plot EIIE actions for 2021\n",
    "plot_action_memory(EIIE_results[\"2021\"][\"actions\"], TEST_SET, \"EIIE - 2021\")\n",
    "\n",
    "# Plot EIIE actions for 2022\n",
    "plot_action_memory(EIIE_results[\"2022\"][\"actions\"], TEST_SET, \"EIIE - 2022\")\n",
    "\n",
    "# Plot EIIE actions for 2023\n",
    "plot_action_memory(EIIE_results[\"2023\"][\"actions\"], TEST_SET, \"EIIE - 2023\")\n",
    "\n",
    "# Similarly, plot UBAH actions for each period\n",
    "# plot_action_memory(UBAH_results[\"train\"][\"actions\"], TEST_SET, \"UBAH - Train\")\n",
    "# plot_action_memory(UBAH_results[\"2021\"][\"actions\"], TEST_SET, \"UBAH - 2021\")\n",
    "# plot_action_memory(UBAH_results[\"2022\"][\"actions\"], TEST_SET, \"UBAH - 2022\")\n",
    "# plot_action_memory(UBAH_results[\"2023\"][\"actions\"], TEST_SET, \"UBAH - 2023\")"
   ]
  },
  {
   "cell_type": "code",
   "execution_count": null,
   "metadata": {},
   "outputs": [],
   "source": []
  },
  {
   "cell_type": "code",
   "execution_count": null,
   "metadata": {},
   "outputs": [],
   "source": [
    "results_df2 = results_df2[[\"TIME_WINDOW\", \"K_SIZE\", \"CONV_MID\", \"CONV_FINAL\", \n",
    "            'train_portfolio_value', 'train_drawdown', 'train_sharpe','train_cumulative',\n",
    "            '2021_portfolio_value', '2021_drawdown', '2021_sharpe','2021_cumulative',\n",
    "             '2022_portfolio_value', '2022_drawdown', '2022_sharpe','2022_cumulative',\n",
    "             '2023_portfolio_value', '2023_drawdown', '2023_sharpe','2023_cumulative']]"
   ]
  },
  {
   "cell_type": "code",
   "execution_count": null,
   "metadata": {},
   "outputs": [],
   "source": []
  }
 ],
 "metadata": {
  "kernelspec": {
   "display_name": "Python 3",
   "language": "python",
   "name": "python3"
  },
  "language_info": {
   "codemirror_mode": {
    "name": "ipython",
    "version": 3
   },
   "file_extension": ".py",
   "mimetype": "text/x-python",
   "name": "python",
   "nbconvert_exporter": "python",
   "pygments_lexer": "ipython3",
   "version": "3.10.10"
  }
 },
 "nbformat": 4,
 "nbformat_minor": 2
}

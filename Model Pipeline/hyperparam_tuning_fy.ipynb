{
 "cells": [
  {
   "cell_type": "code",
   "execution_count": 1,
   "metadata": {},
   "outputs": [],
   "source": [
    "# !sudo apt install swig"
   ]
  },
  {
   "cell_type": "code",
   "execution_count": 2,
   "metadata": {},
   "outputs": [],
   "source": [
    "# !pip install quantstats\n",
    "# !pip install scikit-learn\n",
    "# !pip install torch\n",
    "# !pip install git+https://github.com/AI4Finance-Foundation/FinRL.git"
   ]
  },
  {
   "cell_type": "markdown",
   "metadata": {},
   "source": [
    "# Initializing"
   ]
  },
  {
   "cell_type": "code",
   "execution_count": 1,
   "metadata": {},
   "outputs": [],
   "source": [
    "import logging\n",
    "logging.getLogger('matplotlib.font_manager').disabled = True\n",
    "import torch\n",
    "\n",
    "import numpy as np\n",
    "import pandas as pd\n",
    "\n",
    "from sklearn.preprocessing import MaxAbsScaler\n",
    "# from utils import PortfolioOptimizationEnv, custom_reward_function, sharpe_ratio_reward_function\n",
    "from packages.custom_utils import PortfolioOptimizationEnv, custom_reward_function, sharpe_ratio_reward_function\n",
    "from packages.models import DRLAgent\n",
    "from packages.architectures import EIIE\n",
    "\n",
    "device = 'cuda:0' if torch.cuda.is_available() else 'cpu'"
   ]
  },
  {
   "cell_type": "markdown",
   "metadata": {},
   "source": [
    "# Data Import and Preprocessing"
   ]
  },
  {
   "cell_type": "code",
   "execution_count": 2,
   "metadata": {},
   "outputs": [],
   "source": [
    "# df_portfolio_train = df_portfolio[(df_portfolio[\"date\"] >= START_DATE) & (df_portfolio[\"date\"] < \"2020-12-31\")]\n",
    "# df_portfolio_test = df_portfolio[(df_portfolio[\"date\"] >= \"2021-01-01\") & (df_portfolio[\"date\"] < \"2022-12-31\")]\n",
    "\n",
    "\n",
    "df_portfolio = pd.read_parquet('datasets/df_portfolio_train.parquet')\n",
    "df_portfolio_test = pd.read_parquet('datasets/df_portfolio_test.parquet')\n",
    "\n",
    "df_portfolio_train = df_portfolio[df_portfolio['date'] <= \"2020-12-31\"]\n",
    "df_portfolio_vali = df_portfolio[df_portfolio['date'] >= \"2021-01-01\"]"
   ]
  },
  {
   "cell_type": "markdown",
   "metadata": {},
   "source": [
    "# Feature Selection and DRL Model Parameters"
   ]
  },
  {
   "cell_type": "code",
   "execution_count": 3,
   "metadata": {},
   "outputs": [],
   "source": [
    "import pandas as pd\n",
    "from itertools import product\n",
    "import numpy as np  # for NaN\n",
    "import torch\n",
    "\n",
    "FEATURE_NAMES = [\"close\",\n",
    "               \"vmd_mode_0\",\n",
    "                \"vmd_mode_1\",\n",
    "                \"vmd_mode_2\",\n",
    "                  #\"high\", \n",
    "                  #\"low\",\n",
    "                'High_VIX',\n",
    "                'Low_VIX',\n",
    "                  #'Close_VIX',\n",
    "                'High_SPY',\n",
    "                'Low_SPY',\n",
    "                'Close_SPY',\n",
    "                  #'Volume_SPY',\n",
    "                'Fear Greed', \n",
    "                'ratingScore',\n",
    "                  #'ratingDetailsDCFScore',\n",
    "                'ratingDetailsROEScore',\n",
    "                  #'ratingDetailsROAScore',\n",
    "                  #'ratingDetailsPEScore',\n",
    "                  #'ratingDetailsPBScore',\n",
    "                  #'expenses',\n",
    "                  #'GDP', \n",
    "                'exports', \n",
    "                  #'imports',\n",
    "                'pound_dollar_exchange_rate', \n",
    "                'unemployment',\n",
    "                'ics',\n",
    "                'TTM Revenue(Billion)',\n",
    "                  #'TTM EBITDA(Billion)',\n",
    "                  #'EBITDA Margin',\n",
    "                'Price to Book Ratio',\n",
    "                  #'PE Ratio',\n",
    "                'Price to Sales Ratio',\n",
    "                  #'Assets',\n",
    "                  #'NetIncomeLoss',\n",
    "                'Return on Equity(%)']\n",
    "\n",
    "COMISSION_FEE = 0.001\n",
    "\n",
    "# Define hyperparameter ranges\n",
    "time_windows = [30]\n",
    "k_sizes = [3, 4, 5]\n",
    "conv_mids = [5,10, 20]\n",
    "conv_finals = [5, 10, 20]\n",
    "lr = [0.01, 0.02]\n",
    "\n",
    "# Function to calculate the final accumulative portfolio value\n",
    "def calculate_cumulative_value(portfolio_values):\n",
    "    initial_value = portfolio_values[0]\n",
    "    final_value = portfolio_values[-1]\n",
    "    return final_value / initial_value\n",
    "\n",
    "# Function to calculate the maximum drawdown\n",
    "def calculate_max_drawdown(portfolio_values):\n",
    "    portfolio_values = np.array(portfolio_values)\n",
    "    running_max = np.maximum.accumulate(portfolio_values)\n",
    "    drawdowns = (portfolio_values - running_max) / running_max\n",
    "    max_drawdown = drawdowns.min()\n",
    "    \n",
    "    return max_drawdown\n",
    "\n",
    "# Function to calculate the Sharpe ratio\n",
    "def calculate_sharpe_ratio(portfolio_values, risk_free_rate=0):\n",
    "    returns = np.diff(portfolio_values) / portfolio_values[:-1]\n",
    "    excess_returns = returns - risk_free_rate\n",
    "    sharpe_ratio = np.mean(excess_returns) / np.std(excess_returns)\n",
    "    sharpe_ratio_annualized = sharpe_ratio * np.sqrt(252)\n",
    "    \n",
    "    return sharpe_ratio_annualized\n",
    "\n",
    "\n",
    "# Define a function to calculate the metrics (this is just a placeholder; replace with actual functions)\n",
    "def calculate_metrics(environment):\n",
    "    final_portfolio_value = environment._asset_memory[\"final\"][-1]\n",
    "    max_drawdown = calculate_max_drawdown(environment._asset_memory[\"final\"])\n",
    "    sharpe_ratio = calculate_sharpe_ratio(environment._asset_memory[\"final\"])\n",
    "    cumulative_value = calculate_cumulative_value(environment._asset_memory[\"final\"])\n",
    "    return final_portfolio_value, max_drawdown, sharpe_ratio, cumulative_value\n",
    "\n",
    "# DataFrame to store results\n",
    "columns = [\"TIME_WINDOW\", \"K_SIZE\", \"CONV_MID\", \"CONV_FINAL\",\"LEARNING_RATE\", \n",
    "        'train_portfolio_value', 'train_drawdown', 'train_sharpe', 'train_cumulative',\n",
    "        'test_portfolio_value', 'test_drawdown', 'test_sharpe', 'test_cumulative']\n",
    "\n",
    "results_df = pd.DataFrame(columns=columns)"
   ]
  },
  {
   "cell_type": "code",
   "execution_count": null,
   "metadata": {},
   "outputs": [
    {
     "name": "stdout",
     "output_type": "stream",
     "text": [
      "Training model with TIME_WINDOW=30, K_SIZE=3, CONV_MID=5, CONV_FINAL=5, LEARNING_RATE=0.01\n"
     ]
    },
    {
     "name": "stderr",
     "output_type": "stream",
     "text": [
      "  0%|          | 0/100 [00:00<?, ?it/s]"
     ]
    },
    {
     "name": "stdout",
     "output_type": "stream",
     "text": [
      "=================================\n",
      "Initial portfolio value: 100000\n",
      "Final portfolio value: 227074.65625\n",
      "Final accumulative portfolio return: 2.2707465625\n",
      "Maximum DrawDown: -0.32921190249454524\n",
      "Sharpe ratio: 0.7755374015901209\n",
      "=================================\n"
     ]
    },
    {
     "name": "stderr",
     "output_type": "stream",
     "text": [
      "  1%|          | 1/100 [00:29<49:14, 29.85s/it]"
     ]
    },
    {
     "name": "stdout",
     "output_type": "stream",
     "text": [
      "=================================\n",
      "Initial portfolio value: 100000\n",
      "Final portfolio value: 265422.71875\n",
      "Final accumulative portfolio return: 2.6542271875\n",
      "Maximum DrawDown: -0.3378394064079555\n",
      "Sharpe ratio: 0.8457756322730435\n",
      "=================================\n"
     ]
    },
    {
     "name": "stderr",
     "output_type": "stream",
     "text": [
      "  2%|▏         | 2/100 [01:05<54:45, 33.53s/it]"
     ]
    },
    {
     "name": "stdout",
     "output_type": "stream",
     "text": [
      "=================================\n",
      "Initial portfolio value: 100000\n",
      "Final portfolio value: 384895.84375\n",
      "Final accumulative portfolio return: 3.8489584375\n",
      "Maximum DrawDown: -0.32214276223808624\n",
      "Sharpe ratio: 1.0483026922751422\n",
      "=================================\n",
      "=================================\n",
      "Initial portfolio value: 100000\n",
      "Final portfolio value: 120232.359375\n",
      "Final accumulative portfolio return: 1.20232359375\n",
      "Maximum DrawDown: -0.21829256314135737\n",
      "Sharpe ratio: 0.5477051183823335\n",
      "=================================\n"
     ]
    },
    {
     "name": "stderr",
     "output_type": "stream",
     "text": [
      "  3%|▎         | 3/100 [01:55<1:05:58, 40.81s/it]"
     ]
    },
    {
     "name": "stdout",
     "output_type": "stream",
     "text": [
      "Validation performance at episode 3: -2.4109144195941177\n",
      "New best validation performance: -2.4109144195941177\n",
      "=================================\n",
      "Initial portfolio value: 100000\n",
      "Final portfolio value: 569930.8125\n",
      "Final accumulative portfolio return: 5.699308125\n",
      "Maximum DrawDown: -0.3017439105248827\n",
      "Sharpe ratio: 1.2034793534124981\n",
      "=================================\n"
     ]
    },
    {
     "name": "stderr",
     "output_type": "stream",
     "text": [
      "  4%|▍         | 4/100 [02:33<1:03:17, 39.55s/it]"
     ]
    },
    {
     "name": "stdout",
     "output_type": "stream",
     "text": [
      "=================================\n",
      "Initial portfolio value: 100000\n",
      "Final portfolio value: 684822.75\n",
      "Final accumulative portfolio return: 6.8482275\n",
      "Maximum DrawDown: -0.29233287599972135\n",
      "Sharpe ratio: 1.2327607872903164\n",
      "=================================\n"
     ]
    },
    {
     "name": "stderr",
     "output_type": "stream",
     "text": [
      "  5%|▌         | 5/100 [03:10<1:01:41, 38.96s/it]"
     ]
    },
    {
     "name": "stdout",
     "output_type": "stream",
     "text": [
      "=================================\n",
      "Initial portfolio value: 100000\n",
      "Final portfolio value: 808136.6875\n",
      "Final accumulative portfolio return: 8.081366875\n",
      "Maximum DrawDown: -0.284536178588803\n",
      "Sharpe ratio: 1.3034376870952702\n",
      "=================================\n",
      "=================================\n",
      "Initial portfolio value: 100000\n",
      "Final portfolio value: 196436.59375\n",
      "Final accumulative portfolio return: 1.9643659375\n",
      "Maximum DrawDown: -0.22359971921431543\n",
      "Sharpe ratio: 1.5240249717457608\n",
      "=================================\n"
     ]
    },
    {
     "name": "stderr",
     "output_type": "stream",
     "text": [
      "  6%|▌         | 6/100 [04:00<1:06:44, 42.61s/it]"
     ]
    },
    {
     "name": "stdout",
     "output_type": "stream",
     "text": [
      "Validation performance at episode 6: -1.8970955774612137\n",
      "New best validation performance: -1.8970955774612137\n",
      "=================================\n",
      "Initial portfolio value: 100000\n",
      "Final portfolio value: 951951.125\n",
      "Final accumulative portfolio return: 9.51951125\n",
      "Maximum DrawDown: -0.2860966253102878\n",
      "Sharpe ratio: 1.3833157938627838\n",
      "=================================\n"
     ]
    },
    {
     "name": "stderr",
     "output_type": "stream",
     "text": [
      "  7%|▋         | 7/100 [04:38<1:03:49, 41.18s/it]"
     ]
    },
    {
     "name": "stdout",
     "output_type": "stream",
     "text": [
      "=================================\n",
      "Initial portfolio value: 100000\n",
      "Final portfolio value: 1162824.75\n",
      "Final accumulative portfolio return: 11.6282475\n",
      "Maximum DrawDown: -0.29070342821159667\n",
      "Sharpe ratio: 1.4963128289918755\n",
      "=================================\n"
     ]
    },
    {
     "name": "stderr",
     "output_type": "stream",
     "text": [
      "  8%|▊         | 8/100 [05:17<1:01:46, 40.29s/it]"
     ]
    },
    {
     "name": "stdout",
     "output_type": "stream",
     "text": [
      "=================================\n",
      "Initial portfolio value: 100000\n",
      "Final portfolio value: 1282854.875\n",
      "Final accumulative portfolio return: 12.82854875\n",
      "Maximum DrawDown: -0.28152926064946804\n",
      "Sharpe ratio: 1.557493297853803\n",
      "=================================\n",
      "=================================\n",
      "Initial portfolio value: 100000\n",
      "Final portfolio value: 199398.765625\n",
      "Final accumulative portfolio return: 1.99398765625\n",
      "Maximum DrawDown: -0.18839736837042054\n",
      "Sharpe ratio: 1.5181962954582586\n",
      "=================================\n"
     ]
    },
    {
     "name": "stderr",
     "output_type": "stream",
     "text": [
      "  9%|▉         | 9/100 [06:07<1:05:55, 43.46s/it]"
     ]
    },
    {
     "name": "stdout",
     "output_type": "stream",
     "text": [
      "Validation performance at episode 9: -1.7089473320760664\n",
      "New best validation performance: -1.7089473320760664\n",
      "=================================\n",
      "Initial portfolio value: 100000\n",
      "Final portfolio value: 1251249.0\n",
      "Final accumulative portfolio return: 12.51249\n",
      "Maximum DrawDown: -0.2896853465979099\n",
      "Sharpe ratio: 1.5131109777022704\n",
      "=================================\n"
     ]
    },
    {
     "name": "stderr",
     "output_type": "stream",
     "text": [
      " 10%|█         | 10/100 [06:46<1:03:04, 42.05s/it]"
     ]
    },
    {
     "name": "stdout",
     "output_type": "stream",
     "text": [
      "=================================\n",
      "Initial portfolio value: 100000\n",
      "Final portfolio value: 1438173.125\n",
      "Final accumulative portfolio return: 14.38173125\n",
      "Maximum DrawDown: -0.28051128202363207\n",
      "Sharpe ratio: 1.5997866247659414\n",
      "=================================\n"
     ]
    },
    {
     "name": "stderr",
     "output_type": "stream",
     "text": [
      " 11%|█         | 11/100 [07:25<1:00:52, 41.04s/it]"
     ]
    },
    {
     "name": "stdout",
     "output_type": "stream",
     "text": [
      "=================================\n",
      "Initial portfolio value: 100000\n",
      "Final portfolio value: 1345445.625\n",
      "Final accumulative portfolio return: 13.45445625\n",
      "Maximum DrawDown: -0.280677995867895\n",
      "Sharpe ratio: 1.5514337161456238\n",
      "=================================\n",
      "=================================\n",
      "Initial portfolio value: 100000\n",
      "Final portfolio value: 223155.796875\n",
      "Final accumulative portfolio return: 2.23155796875\n",
      "Maximum DrawDown: -0.18520402606505393\n",
      "Sharpe ratio: 1.7213062945165631\n",
      "=================================\n"
     ]
    },
    {
     "name": "stderr",
     "output_type": "stream",
     "text": [
      " 12%|█▏        | 12/100 [08:15<1:04:16, 43.83s/it]"
     ]
    },
    {
     "name": "stdout",
     "output_type": "stream",
     "text": [
      "Validation performance at episode 12: -1.5818771071525362\n",
      "New best validation performance: -1.5818771071525362\n",
      "=================================\n",
      "Initial portfolio value: 100000\n",
      "Final portfolio value: 1569697.75\n",
      "Final accumulative portfolio return: 15.6969775\n",
      "Maximum DrawDown: -0.28049962374295945\n",
      "Sharpe ratio: 1.6360106799832579\n",
      "=================================\n"
     ]
    },
    {
     "name": "stderr",
     "output_type": "stream",
     "text": [
      " 13%|█▎        | 13/100 [08:53<1:01:09, 42.18s/it]"
     ]
    },
    {
     "name": "stdout",
     "output_type": "stream",
     "text": [
      "=================================\n",
      "Initial portfolio value: 100000\n",
      "Final portfolio value: 1486668.375\n",
      "Final accumulative portfolio return: 14.86668375\n",
      "Maximum DrawDown: -0.280526480448944\n",
      "Sharpe ratio: 1.603153234084415\n",
      "=================================\n"
     ]
    },
    {
     "name": "stderr",
     "output_type": "stream",
     "text": [
      " 14%|█▍        | 14/100 [09:32<58:49, 41.05s/it]  "
     ]
    },
    {
     "name": "stdout",
     "output_type": "stream",
     "text": [
      "=================================\n",
      "Initial portfolio value: 100000\n",
      "Final portfolio value: 1576262.125\n",
      "Final accumulative portfolio return: 15.76262125\n",
      "Maximum DrawDown: -0.2804647485604068\n",
      "Sharpe ratio: 1.632809896239446\n",
      "=================================\n",
      "=================================\n",
      "Initial portfolio value: 100000\n",
      "Final portfolio value: 179016.078125\n",
      "Final accumulative portfolio return: 1.79016078125\n",
      "Maximum DrawDown: -0.18504427667145906\n",
      "Sharpe ratio: 1.2942740735194267\n",
      "=================================\n"
     ]
    },
    {
     "name": "stderr",
     "output_type": "stream",
     "text": [
      " 15%|█▌        | 15/100 [10:22<1:02:01, 43.78s/it]"
     ]
    },
    {
     "name": "stdout",
     "output_type": "stream",
     "text": [
      "Validation performance at episode 15: -2.2128167517966366\n",
      "No improvement for 1 validation(s).\n",
      "=================================\n",
      "Initial portfolio value: 100000\n",
      "Final portfolio value: 1335986.625\n",
      "Final accumulative portfolio return: 13.35986625\n",
      "Maximum DrawDown: -0.3110505415226964\n",
      "Sharpe ratio: 1.5099849909817387\n",
      "=================================\n"
     ]
    },
    {
     "name": "stderr",
     "output_type": "stream",
     "text": [
      " 16%|█▌        | 16/100 [11:00<59:03, 42.19s/it]  "
     ]
    },
    {
     "name": "stdout",
     "output_type": "stream",
     "text": [
      "=================================\n",
      "Initial portfolio value: 100000\n",
      "Final portfolio value: 1484287.5\n",
      "Final accumulative portfolio return: 14.842875\n",
      "Maximum DrawDown: -0.28039436993343747\n",
      "Sharpe ratio: 1.5980842651504186\n",
      "=================================\n"
     ]
    },
    {
     "name": "stderr",
     "output_type": "stream",
     "text": [
      " 17%|█▋        | 17/100 [11:39<57:00, 41.21s/it]"
     ]
    },
    {
     "name": "stdout",
     "output_type": "stream",
     "text": [
      "=================================\n",
      "Initial portfolio value: 100000\n",
      "Final portfolio value: 1391684.625\n",
      "Final accumulative portfolio return: 13.91684625\n",
      "Maximum DrawDown: -0.28049195577021613\n",
      "Sharpe ratio: 1.5434706343350835\n",
      "=================================\n",
      "=================================\n",
      "Initial portfolio value: 100000\n",
      "Final portfolio value: 228849.8125\n",
      "Final accumulative portfolio return: 2.288498125\n",
      "Maximum DrawDown: -0.19028796702891304\n",
      "Sharpe ratio: 1.7466222902724469\n",
      "=================================\n"
     ]
    },
    {
     "name": "stderr",
     "output_type": "stream",
     "text": [
      " 18%|█▊        | 18/100 [12:29<59:49, 43.77s/it]"
     ]
    },
    {
     "name": "stdout",
     "output_type": "stream",
     "text": [
      "Validation performance at episode 18: -1.573157876952962\n",
      "No improvement for 2 validation(s).\n",
      "=================================\n",
      "Initial portfolio value: 100000\n",
      "Final portfolio value: 1593235.75\n",
      "Final accumulative portfolio return: 15.9323575\n",
      "Maximum DrawDown: -0.280393504265151\n",
      "Sharpe ratio: 1.6308917791839141\n",
      "=================================\n"
     ]
    },
    {
     "name": "stderr",
     "output_type": "stream",
     "text": [
      " 19%|█▉        | 19/100 [13:08<56:54, 42.15s/it]"
     ]
    },
    {
     "name": "stdout",
     "output_type": "stream",
     "text": [
      "=================================\n",
      "Initial portfolio value: 100000\n",
      "Final portfolio value: 1569307.25\n",
      "Final accumulative portfolio return: 15.6930725\n",
      "Maximum DrawDown: -0.2803966144731912\n",
      "Sharpe ratio: 1.6207368288682131\n",
      "=================================\n"
     ]
    },
    {
     "name": "stderr",
     "output_type": "stream",
     "text": [
      " 20%|██        | 20/100 [13:46<54:43, 41.04s/it]"
     ]
    },
    {
     "name": "stdout",
     "output_type": "stream",
     "text": [
      "=================================\n",
      "Initial portfolio value: 100000\n",
      "Final portfolio value: 1435304.5\n",
      "Final accumulative portfolio return: 14.353045\n",
      "Maximum DrawDown: -0.2805306624085536\n",
      "Sharpe ratio: 1.571133055595317\n",
      "=================================\n",
      "=================================\n",
      "Initial portfolio value: 100000\n",
      "Final portfolio value: 225507.6875\n",
      "Final accumulative portfolio return: 2.255076875\n",
      "Maximum DrawDown: -0.1898687538248337\n",
      "Sharpe ratio: 1.702998476416679\n",
      "=================================\n"
     ]
    },
    {
     "name": "stderr",
     "output_type": "stream",
     "text": [
      " 21%|██        | 21/100 [14:36<57:47, 43.89s/it]"
     ]
    },
    {
     "name": "stdout",
     "output_type": "stream",
     "text": [
      "Validation performance at episode 21: -1.5737097999740093\n",
      "No improvement for 3 validation(s).\n",
      "=================================\n",
      "Initial portfolio value: 100000\n",
      "Final portfolio value: 1350688.0\n",
      "Final accumulative portfolio return: 13.50688\n",
      "Maximum DrawDown: -0.2854885485371482\n",
      "Sharpe ratio: 1.5252661562963667\n",
      "=================================\n"
     ]
    },
    {
     "name": "stderr",
     "output_type": "stream",
     "text": [
      " 22%|██▏       | 22/100 [15:15<54:48, 42.16s/it]"
     ]
    },
    {
     "name": "stdout",
     "output_type": "stream",
     "text": [
      "=================================\n",
      "Initial portfolio value: 100000\n",
      "Final portfolio value: 1470031.625\n",
      "Final accumulative portfolio return: 14.70031625\n",
      "Maximum DrawDown: -0.2803996031049464\n",
      "Sharpe ratio: 1.5929447814042008\n",
      "=================================\n"
     ]
    },
    {
     "name": "stderr",
     "output_type": "stream",
     "text": [
      " 23%|██▎       | 23/100 [15:53<52:33, 40.95s/it]"
     ]
    },
    {
     "name": "stdout",
     "output_type": "stream",
     "text": [
      "=================================\n",
      "Initial portfolio value: 100000\n",
      "Final portfolio value: 1464048.375\n",
      "Final accumulative portfolio return: 14.64048375\n",
      "Maximum DrawDown: -0.28039369060019304\n",
      "Sharpe ratio: 1.6045939476043343\n",
      "=================================\n",
      "=================================\n",
      "Initial portfolio value: 100000\n",
      "Final portfolio value: 189326.28125\n",
      "Final accumulative portfolio return: 1.8932628125\n",
      "Maximum DrawDown: -0.1893684487519548\n",
      "Sharpe ratio: 1.4031695065573973\n",
      "=================================\n"
     ]
    },
    {
     "name": "stderr",
     "output_type": "stream",
     "text": [
      " 24%|██▍       | 24/100 [16:42<55:12, 43.59s/it]"
     ]
    },
    {
     "name": "stdout",
     "output_type": "stream",
     "text": [
      "Validation performance at episode 24: -1.9681871299306624\n",
      "No improvement for 4 validation(s).\n",
      "=================================\n",
      "Initial portfolio value: 100000\n",
      "Final portfolio value: 1452564.75\n",
      "Final accumulative portfolio return: 14.5256475\n",
      "Maximum DrawDown: -0.28609237263013765\n",
      "Sharpe ratio: 1.5556311445475501\n",
      "=================================\n"
     ]
    },
    {
     "name": "stderr",
     "output_type": "stream",
     "text": [
      " 25%|██▌       | 25/100 [17:21<52:31, 42.02s/it]"
     ]
    },
    {
     "name": "stdout",
     "output_type": "stream",
     "text": [
      "=================================\n",
      "Initial portfolio value: 100000\n",
      "Final portfolio value: 1569929.875\n",
      "Final accumulative portfolio return: 15.69929875\n",
      "Maximum DrawDown: -0.2803990038756432\n",
      "Sharpe ratio: 1.6332063322531498\n",
      "=================================\n"
     ]
    },
    {
     "name": "stderr",
     "output_type": "stream",
     "text": [
      " 26%|██▌       | 26/100 [17:59<50:32, 40.98s/it]"
     ]
    },
    {
     "name": "stdout",
     "output_type": "stream",
     "text": [
      "=================================\n",
      "Initial portfolio value: 100000\n",
      "Final portfolio value: 1246472.0\n",
      "Final accumulative portfolio return: 12.46472\n",
      "Maximum DrawDown: -0.2803927136272022\n",
      "Sharpe ratio: 1.5089437443101263\n",
      "=================================\n",
      "=================================\n",
      "Initial portfolio value: 100000\n",
      "Final portfolio value: 128472.0703125\n",
      "Final accumulative portfolio return: 1.284720703125\n",
      "Maximum DrawDown: -0.2630566193762758\n",
      "Sharpe ratio: 0.6363579833595062\n",
      "=================================\n"
     ]
    },
    {
     "name": "stderr",
     "output_type": "stream",
     "text": [
      " 27%|██▋       | 27/100 [18:50<53:13, 43.74s/it]"
     ]
    },
    {
     "name": "stdout",
     "output_type": "stream",
     "text": [
      "Validation performance at episode 27: -4.023544396054081\n",
      "No improvement for 5 validation(s).\n",
      "=================================\n",
      "Initial portfolio value: 100000\n",
      "Final portfolio value: 1454457.75\n",
      "Final accumulative portfolio return: 14.5445775\n",
      "Maximum DrawDown: -0.28039322217716445\n",
      "Sharpe ratio: 1.588011790324641\n",
      "=================================\n"
     ]
    },
    {
     "name": "stderr",
     "output_type": "stream",
     "text": [
      " 28%|██▊       | 28/100 [19:28<50:31, 42.10s/it]"
     ]
    },
    {
     "name": "stdout",
     "output_type": "stream",
     "text": [
      "=================================\n",
      "Initial portfolio value: 100000\n",
      "Final portfolio value: 1457692.625\n",
      "Final accumulative portfolio return: 14.57692625\n",
      "Maximum DrawDown: -0.28076214266344535\n",
      "Sharpe ratio: 1.569885107098419\n",
      "=================================\n"
     ]
    },
    {
     "name": "stderr",
     "output_type": "stream",
     "text": [
      " 29%|██▉       | 29/100 [20:06<48:29, 40.98s/it]"
     ]
    },
    {
     "name": "stdout",
     "output_type": "stream",
     "text": [
      "=================================\n",
      "Initial portfolio value: 100000\n",
      "Final portfolio value: 1544724.25\n",
      "Final accumulative portfolio return: 15.4472425\n",
      "Maximum DrawDown: -0.2806662699733252\n",
      "Sharpe ratio: 1.5902649930443955\n",
      "=================================\n",
      "=================================\n",
      "Initial portfolio value: 100000\n",
      "Final portfolio value: 200116.5\n",
      "Final accumulative portfolio return: 2.001165\n",
      "Maximum DrawDown: -0.24290432908493031\n",
      "Sharpe ratio: 1.446245684695485\n",
      "=================================\n"
     ]
    },
    {
     "name": "stderr",
     "output_type": "stream",
     "text": [
      " 30%|███       | 30/100 [20:57<51:08, 43.84s/it]"
     ]
    },
    {
     "name": "stdout",
     "output_type": "stream",
     "text": [
      "Validation performance at episode 30: -1.710578581937504\n",
      "No improvement for 6 validation(s).\n",
      "=================================\n",
      "Initial portfolio value: 100000\n",
      "Final portfolio value: 1572306.75\n",
      "Final accumulative portfolio return: 15.7230675\n",
      "Maximum DrawDown: -0.28077733736742094\n",
      "Sharpe ratio: 1.6048544180982538\n",
      "=================================\n"
     ]
    },
    {
     "name": "stderr",
     "output_type": "stream",
     "text": [
      " 31%|███       | 31/100 [21:35<48:32, 42.20s/it]"
     ]
    },
    {
     "name": "stdout",
     "output_type": "stream",
     "text": [
      "=================================\n",
      "Initial portfolio value: 100000\n",
      "Final portfolio value: 1641954.5\n",
      "Final accumulative portfolio return: 16.419545\n",
      "Maximum DrawDown: -0.2803935131486103\n",
      "Sharpe ratio: 1.6527288913927825\n",
      "=================================\n"
     ]
    },
    {
     "name": "stderr",
     "output_type": "stream",
     "text": [
      " 32%|███▏      | 32/100 [22:14<46:39, 41.16s/it]"
     ]
    },
    {
     "name": "stdout",
     "output_type": "stream",
     "text": [
      "=================================\n",
      "Initial portfolio value: 100000\n",
      "Final portfolio value: 1528408.875\n",
      "Final accumulative portfolio return: 15.28408875\n",
      "Maximum DrawDown: -0.28039291491647966\n",
      "Sharpe ratio: 1.6139811342787298\n",
      "=================================\n",
      "=================================\n",
      "Initial portfolio value: 100000\n",
      "Final portfolio value: 130379.703125\n",
      "Final accumulative portfolio return: 1.30379703125\n",
      "Maximum DrawDown: -0.3170434274401609\n",
      "Sharpe ratio: 0.6531284398539019\n",
      "=================================\n"
     ]
    },
    {
     "name": "stderr",
     "output_type": "stream",
     "text": [
      " 33%|███▎      | 33/100 [23:04<48:52, 43.77s/it]"
     ]
    },
    {
     "name": "stdout",
     "output_type": "stream",
     "text": [
      "Validation performance at episode 33: -2.893277466325724\n",
      "No improvement for 7 validation(s).\n",
      "=================================\n",
      "Initial portfolio value: 100000\n",
      "Final portfolio value: 1505861.75\n",
      "Final accumulative portfolio return: 15.0586175\n",
      "Maximum DrawDown: -0.28043874674045544\n",
      "Sharpe ratio: 1.589276917117096\n",
      "=================================\n"
     ]
    },
    {
     "name": "stderr",
     "output_type": "stream",
     "text": [
      " 34%|███▍      | 34/100 [23:42<46:17, 42.08s/it]"
     ]
    },
    {
     "name": "stdout",
     "output_type": "stream",
     "text": [
      "=================================\n",
      "Initial portfolio value: 100000\n",
      "Final portfolio value: 1609360.75\n",
      "Final accumulative portfolio return: 16.0936075\n",
      "Maximum DrawDown: -0.2805404354632539\n",
      "Sharpe ratio: 1.6237470847980653\n",
      "=================================\n"
     ]
    },
    {
     "name": "stderr",
     "output_type": "stream",
     "text": [
      " 35%|███▌      | 35/100 [24:20<44:19, 40.91s/it]"
     ]
    },
    {
     "name": "stdout",
     "output_type": "stream",
     "text": [
      "=================================\n",
      "Initial portfolio value: 100000\n",
      "Final portfolio value: 1638302.0\n",
      "Final accumulative portfolio return: 16.38302\n",
      "Maximum DrawDown: -0.2857527825178877\n",
      "Sharpe ratio: 1.6272210112080547\n",
      "=================================\n",
      "=================================\n",
      "Initial portfolio value: 100000\n",
      "Final portfolio value: 160831.125\n",
      "Final accumulative portfolio return: 1.60831125\n",
      "Maximum DrawDown: -0.2538096129787082\n",
      "Sharpe ratio: 1.0484497039635567\n",
      "=================================\n"
     ]
    },
    {
     "name": "stderr",
     "output_type": "stream",
     "text": [
      " 36%|███▌      | 36/100 [25:10<46:31, 43.61s/it]"
     ]
    },
    {
     "name": "stdout",
     "output_type": "stream",
     "text": [
      "Validation performance at episode 36: -2.346584538159355\n",
      "No improvement for 8 validation(s).\n",
      "=================================\n",
      "Initial portfolio value: 100000\n",
      "Final portfolio value: 1597332.75\n",
      "Final accumulative portfolio return: 15.9733275\n",
      "Maximum DrawDown: -0.2803929678965036\n",
      "Sharpe ratio: 1.6286719266229557\n",
      "=================================\n"
     ]
    },
    {
     "name": "stderr",
     "output_type": "stream",
     "text": [
      " 37%|███▋      | 37/100 [25:48<44:09, 42.06s/it]"
     ]
    },
    {
     "name": "stdout",
     "output_type": "stream",
     "text": [
      "=================================\n",
      "Initial portfolio value: 100000\n",
      "Final portfolio value: 1696379.0\n",
      "Final accumulative portfolio return: 16.96379\n",
      "Maximum DrawDown: -0.2804022102920677\n",
      "Sharpe ratio: 1.6620224317543197\n",
      "=================================\n"
     ]
    },
    {
     "name": "stderr",
     "output_type": "stream",
     "text": [
      " 38%|███▊      | 38/100 [26:27<42:19, 40.96s/it]"
     ]
    },
    {
     "name": "stdout",
     "output_type": "stream",
     "text": [
      "=================================\n",
      "Initial portfolio value: 100000\n",
      "Final portfolio value: 1695634.5\n",
      "Final accumulative portfolio return: 16.956345\n",
      "Maximum DrawDown: -0.2806043537077664\n",
      "Sharpe ratio: 1.6563998035315946\n",
      "=================================\n",
      "=================================\n",
      "Initial portfolio value: 100000\n",
      "Final portfolio value: 151070.515625\n",
      "Final accumulative portfolio return: 1.51070515625\n",
      "Maximum DrawDown: -0.24290431427947756\n",
      "Sharpe ratio: 0.9247090360588188\n",
      "=================================\n"
     ]
    },
    {
     "name": "stderr",
     "output_type": "stream",
     "text": [
      " 39%|███▉      | 39/100 [27:17<44:23, 43.66s/it]"
     ]
    },
    {
     "name": "stdout",
     "output_type": "stream",
     "text": [
      "Validation performance at episode 39: -2.563498982975827\n",
      "No improvement for 9 validation(s).\n",
      "=================================\n",
      "Initial portfolio value: 100000\n",
      "Final portfolio value: 1741447.0\n",
      "Final accumulative portfolio return: 17.41447\n",
      "Maximum DrawDown: -0.2806471960973179\n",
      "Sharpe ratio: 1.6668913968895822\n",
      "=================================\n"
     ]
    },
    {
     "name": "stderr",
     "output_type": "stream",
     "text": [
      " 40%|████      | 40/100 [27:55<42:08, 42.14s/it]"
     ]
    },
    {
     "name": "stdout",
     "output_type": "stream",
     "text": [
      "=================================\n",
      "Initial portfolio value: 100000\n",
      "Final portfolio value: 1755942.5\n",
      "Final accumulative portfolio return: 17.559425\n",
      "Maximum DrawDown: -0.28072417858183374\n",
      "Sharpe ratio: 1.6707671179247876\n",
      "=================================\n"
     ]
    },
    {
     "name": "stderr",
     "output_type": "stream",
     "text": [
      " 41%|████      | 41/100 [28:34<40:17, 40.98s/it]"
     ]
    },
    {
     "name": "stdout",
     "output_type": "stream",
     "text": [
      "=================================\n",
      "Initial portfolio value: 100000\n",
      "Final portfolio value: 1771481.25\n",
      "Final accumulative portfolio return: 17.7148125\n",
      "Maximum DrawDown: -0.2807959952665958\n",
      "Sharpe ratio: 1.6746743048367083\n",
      "=================================\n",
      "=================================\n",
      "Initial portfolio value: 100000\n",
      "Final portfolio value: 150852.953125\n",
      "Final accumulative portfolio return: 1.50852953125\n",
      "Maximum DrawDown: -0.2443990164054033\n",
      "Sharpe ratio: 0.9223821099438142\n",
      "=================================\n"
     ]
    },
    {
     "name": "stderr",
     "output_type": "stream",
     "text": [
      " 41%|████      | 41/100 [29:24<42:18, 43.03s/it]"
     ]
    },
    {
     "name": "stdout",
     "output_type": "stream",
     "text": [
      "Validation performance at episode 42: -2.5677990417453818\n",
      "No improvement for 10 validation(s).\n",
      "Early stopping due to no improvement on validation set.\n",
      "Loaded best model based on validation performance.\n"
     ]
    },
    {
     "name": "stderr",
     "output_type": "stream",
     "text": [
      "\n",
      "C:\\Users\\xutia\\AppData\\Local\\Temp\\ipykernel_26128\\4180739837.py:59: FutureWarning: You are using `torch.load` with `weights_only=False` (the current default value), which uses the default pickle module implicitly. It is possible to construct malicious pickle data which will execute arbitrary code during unpickling (See https://github.com/pytorch/pytorch/blob/main/SECURITY.md#untrusted-models for more details). In a future release, the default value for `weights_only` will be flipped to `True`. This limits the functions that could be executed during unpickling. Arbitrary objects will no longer be allowed to be loaded via this mode unless they are explicitly allowlisted by the user via `torch.serialization.add_safe_globals`. We recommend you start setting `weights_only=True` for any use case where you don't have full control of the loaded file. Please open an issue on GitHub for any issues related to this experimental feature.\n",
      "  EIIE_policy.load_state_dict(torch.load(model_filename))\n"
     ]
    },
    {
     "name": "stdout",
     "output_type": "stream",
     "text": [
      "=================================\n",
      "Initial portfolio value: 100000\n",
      "Final portfolio value: 1157167.0\n",
      "Final accumulative portfolio return: 11.57167\n",
      "Maximum DrawDown: -0.28039274754974897\n",
      "Sharpe ratio: 1.482615478282271\n",
      "=================================\n",
      "Metrics - train_final_value: 1157167.0, train_drawdown: -0.280392747549749, train_sharpe: 1.4834750702275277, train_cumulative: 11.57167\n",
      "=================================\n",
      "Initial portfolio value: 100000\n",
      "Final portfolio value: 191700.953125\n",
      "Final accumulative portfolio return: 1.91700953125\n",
      "Maximum DrawDown: -0.18684670276284832\n",
      "Sharpe ratio: 1.3998727758620995\n",
      "=================================\n"
     ]
    },
    {
     "name": "stderr",
     "output_type": "stream",
     "text": [
      "C:\\Users\\xutia\\AppData\\Local\\Temp\\ipykernel_26128\\4180739837.py:89: FutureWarning: The behavior of DataFrame concatenation with empty or all-NA entries is deprecated. In a future version, this will no longer exclude empty or all-NA columns when determining the result dtypes. To retain the old behavior, exclude the relevant entries before the concat operation.\n",
      "  results_df = pd.concat([results_df, temp_df], ignore_index=True)\n"
     ]
    },
    {
     "name": "stdout",
     "output_type": "stream",
     "text": [
      "Metrics - test_final_value: 191700.953125, test_drawdown: -0.18684670276284834, test_sharpe: 1.4028439795712773, test_cumulative: 1.91700953125\n",
      "Training model with TIME_WINDOW=30, K_SIZE=3, CONV_MID=5, CONV_FINAL=5, LEARNING_RATE=0.02\n"
     ]
    },
    {
     "name": "stderr",
     "output_type": "stream",
     "text": [
      "  0%|          | 0/100 [00:00<?, ?it/s]"
     ]
    },
    {
     "name": "stdout",
     "output_type": "stream",
     "text": [
      "=================================\n",
      "Initial portfolio value: 100000\n",
      "Final portfolio value: 265237.59375\n",
      "Final accumulative portfolio return: 2.6523759375\n",
      "Maximum DrawDown: -0.3090263423697628\n",
      "Sharpe ratio: 0.8576082412138981\n",
      "=================================\n"
     ]
    },
    {
     "name": "stderr",
     "output_type": "stream",
     "text": [
      "  1%|          | 1/100 [00:37<1:02:40, 37.99s/it]"
     ]
    },
    {
     "name": "stdout",
     "output_type": "stream",
     "text": [
      "=================================\n",
      "Initial portfolio value: 100000\n",
      "Final portfolio value: 464976.375\n",
      "Final accumulative portfolio return: 4.64976375\n",
      "Maximum DrawDown: -0.2945962385535493\n",
      "Sharpe ratio: 1.104466247282501\n",
      "=================================\n"
     ]
    },
    {
     "name": "stderr",
     "output_type": "stream",
     "text": [
      "  2%|▏         | 2/100 [01:16<1:02:36, 38.33s/it]"
     ]
    },
    {
     "name": "stdout",
     "output_type": "stream",
     "text": [
      "=================================\n",
      "Initial portfolio value: 100000\n",
      "Final portfolio value: 605255.0\n",
      "Final accumulative portfolio return: 6.05255\n",
      "Maximum DrawDown: -0.30088699359771054\n",
      "Sharpe ratio: 1.155908480316117\n",
      "=================================\n",
      "=================================\n",
      "Initial portfolio value: 100000\n",
      "Final portfolio value: 178554.96875\n",
      "Final accumulative portfolio return: 1.7855496875\n",
      "Maximum DrawDown: -0.22797552092643059\n",
      "Sharpe ratio: 1.3156564249121068\n",
      "=================================\n"
     ]
    },
    {
     "name": "stderr",
     "output_type": "stream",
     "text": [
      "  3%|▎         | 3/100 [02:06<1:10:24, 43.55s/it]"
     ]
    },
    {
     "name": "stdout",
     "output_type": "stream",
     "text": [
      "Validation performance at episode 3: -1.6518014869740916\n",
      "New best validation performance: -1.6518014869740916\n",
      "=================================\n",
      "Initial portfolio value: 100000\n",
      "Final portfolio value: 825348.1875\n",
      "Final accumulative portfolio return: 8.253481875\n",
      "Maximum DrawDown: -0.280332222448875\n",
      "Sharpe ratio: 1.3295216303992636\n",
      "=================================\n"
     ]
    },
    {
     "name": "stderr",
     "output_type": "stream",
     "text": [
      "  4%|▍         | 4/100 [02:44<1:06:15, 41.41s/it]"
     ]
    },
    {
     "name": "stdout",
     "output_type": "stream",
     "text": [
      "=================================\n",
      "Initial portfolio value: 100000\n",
      "Final portfolio value: 812246.6875\n",
      "Final accumulative portfolio return: 8.122466875\n",
      "Maximum DrawDown: -0.3397877650824638\n",
      "Sharpe ratio: 1.2568012945470022\n",
      "=================================\n"
     ]
    },
    {
     "name": "stderr",
     "output_type": "stream",
     "text": [
      "  5%|▌         | 5/100 [03:22<1:03:47, 40.29s/it]"
     ]
    },
    {
     "name": "stdout",
     "output_type": "stream",
     "text": [
      "=================================\n",
      "Initial portfolio value: 100000\n",
      "Final portfolio value: 1169281.625\n",
      "Final accumulative portfolio return: 11.69281625\n",
      "Maximum DrawDown: -0.28038481336529897\n",
      "Sharpe ratio: 1.5009248529460015\n",
      "=================================\n",
      "=================================\n",
      "Initial portfolio value: 100000\n",
      "Final portfolio value: 180659.375\n",
      "Final accumulative portfolio return: 1.80659375\n",
      "Maximum DrawDown: -0.22187809150358828\n",
      "Sharpe ratio: 1.3716526093610597\n",
      "=================================\n"
     ]
    },
    {
     "name": "stderr",
     "output_type": "stream",
     "text": [
      "  6%|▌         | 6/100 [04:12<1:08:07, 43.48s/it]"
     ]
    },
    {
     "name": "stdout",
     "output_type": "stream",
     "text": [
      "Validation performance at episode 6: -1.7639474627930125\n",
      "No improvement for 1 validation(s).\n",
      "=================================\n",
      "Initial portfolio value: 100000\n",
      "Final portfolio value: 1155480.0\n",
      "Final accumulative portfolio return: 11.5548\n",
      "Maximum DrawDown: -0.3049542041588801\n",
      "Sharpe ratio: 1.447352371676575\n",
      "=================================\n"
     ]
    },
    {
     "name": "stderr",
     "output_type": "stream",
     "text": [
      "  7%|▋         | 7/100 [04:50<1:04:43, 41.76s/it]"
     ]
    },
    {
     "name": "stdout",
     "output_type": "stream",
     "text": [
      "=================================\n",
      "Initial portfolio value: 100000\n",
      "Final portfolio value: 1210091.375\n",
      "Final accumulative portfolio return: 12.10091375\n",
      "Maximum DrawDown: -0.28039341899821946\n",
      "Sharpe ratio: 1.5038684762571393\n",
      "=================================\n"
     ]
    },
    {
     "name": "stderr",
     "output_type": "stream",
     "text": [
      "  8%|▊         | 8/100 [05:29<1:02:42, 40.90s/it]"
     ]
    },
    {
     "name": "stdout",
     "output_type": "stream",
     "text": [
      "=================================\n",
      "Initial portfolio value: 100000\n",
      "Final portfolio value: 1153958.875\n",
      "Final accumulative portfolio return: 11.53958875\n",
      "Maximum DrawDown: -0.3039970931662147\n",
      "Sharpe ratio: 1.4256259865008722\n",
      "=================================\n",
      "=================================\n",
      "Initial portfolio value: 100000\n",
      "Final portfolio value: 193030.15625\n",
      "Final accumulative portfolio return: 1.9303015625\n",
      "Maximum DrawDown: -0.2530233285695912\n",
      "Sharpe ratio: 1.390251439896705\n",
      "=================================\n"
     ]
    },
    {
     "name": "stderr",
     "output_type": "stream",
     "text": [
      "  9%|▉         | 9/100 [06:19<1:06:13, 43.66s/it]"
     ]
    },
    {
     "name": "stdout",
     "output_type": "stream",
     "text": [
      "Validation performance at episode 9: -1.7160284256789082\n",
      "No improvement for 2 validation(s).\n",
      "=================================\n",
      "Initial portfolio value: 100000\n",
      "Final portfolio value: 1298021.875\n",
      "Final accumulative portfolio return: 12.98021875\n",
      "Maximum DrawDown: -0.2803913111736174\n",
      "Sharpe ratio: 1.5167438114875944\n",
      "=================================\n"
     ]
    },
    {
     "name": "stderr",
     "output_type": "stream",
     "text": [
      " 10%|█         | 10/100 [06:57<1:02:51, 41.91s/it]"
     ]
    },
    {
     "name": "stdout",
     "output_type": "stream",
     "text": [
      "=================================\n",
      "Initial portfolio value: 100000\n",
      "Final portfolio value: 1408504.875\n",
      "Final accumulative portfolio return: 14.08504875\n",
      "Maximum DrawDown: -0.28034521548669766\n",
      "Sharpe ratio: 1.5522032204698444\n",
      "=================================\n"
     ]
    },
    {
     "name": "stderr",
     "output_type": "stream",
     "text": [
      " 11%|█         | 11/100 [07:35<1:00:33, 40.83s/it]"
     ]
    },
    {
     "name": "stdout",
     "output_type": "stream",
     "text": [
      "=================================\n",
      "Initial portfolio value: 100000\n",
      "Final portfolio value: 1170823.125\n",
      "Final accumulative portfolio return: 11.70823125\n",
      "Maximum DrawDown: -0.3823451254051703\n",
      "Sharpe ratio: 1.4099356392392084\n",
      "=================================\n",
      "=================================\n",
      "Initial portfolio value: 100000\n",
      "Final portfolio value: 151996.5625\n",
      "Final accumulative portfolio return: 1.519965625\n",
      "Maximum DrawDown: -0.25558789796547043\n",
      "Sharpe ratio: 0.9407504577060762\n",
      "=================================\n"
     ]
    },
    {
     "name": "stderr",
     "output_type": "stream",
     "text": [
      " 12%|█▏        | 12/100 [08:25<1:03:44, 43.46s/it]"
     ]
    },
    {
     "name": "stdout",
     "output_type": "stream",
     "text": [
      "Validation performance at episode 12: -2.6174723015704267\n",
      "No improvement for 3 validation(s).\n",
      "=================================\n",
      "Initial portfolio value: 100000\n",
      "Final portfolio value: 943445.1875\n",
      "Final accumulative portfolio return: 9.434451875\n",
      "Maximum DrawDown: -0.28039297701416344\n",
      "Sharpe ratio: 1.3826954116478356\n",
      "=================================\n"
     ]
    },
    {
     "name": "stderr",
     "output_type": "stream",
     "text": [
      " 13%|█▎        | 13/100 [09:03<1:00:46, 41.91s/it]"
     ]
    },
    {
     "name": "stdout",
     "output_type": "stream",
     "text": [
      "=================================\n",
      "Initial portfolio value: 100000\n",
      "Final portfolio value: 786505.75\n",
      "Final accumulative portfolio return: 7.8650575\n",
      "Maximum DrawDown: -0.2803928316942944\n",
      "Sharpe ratio: 1.298318561464077\n",
      "=================================\n"
     ]
    },
    {
     "name": "stderr",
     "output_type": "stream",
     "text": [
      " 14%|█▍        | 14/100 [09:41<58:32, 40.84s/it]  "
     ]
    },
    {
     "name": "stdout",
     "output_type": "stream",
     "text": [
      "=================================\n",
      "Initial portfolio value: 100000\n",
      "Final portfolio value: 781338.125\n",
      "Final accumulative portfolio return: 7.81338125\n",
      "Maximum DrawDown: -0.28039300507001885\n",
      "Sharpe ratio: 1.2959120220371463\n",
      "=================================\n",
      "=================================\n",
      "Initial portfolio value: 100000\n",
      "Final portfolio value: 62966.4375\n",
      "Final accumulative portfolio return: 0.629664375\n",
      "Maximum DrawDown: -0.4631364132534279\n",
      "Sharpe ratio: -0.7306103422132385\n",
      "=================================\n"
     ]
    },
    {
     "name": "stderr",
     "output_type": "stream",
     "text": [
      " 15%|█▌        | 15/100 [10:31<1:01:43, 43.57s/it]"
     ]
    },
    {
     "name": "stdout",
     "output_type": "stream",
     "text": [
      "Validation performance at episode 15: -1.7583710474261558\n",
      "No improvement for 4 validation(s).\n",
      "=================================\n",
      "Initial portfolio value: 100000\n",
      "Final portfolio value: 816246.625\n",
      "Final accumulative portfolio return: 8.16246625\n",
      "Maximum DrawDown: -0.280392948947666\n",
      "Sharpe ratio: 1.3208770985638998\n",
      "=================================\n"
     ]
    },
    {
     "name": "stderr",
     "output_type": "stream",
     "text": [
      " 16%|█▌        | 16/100 [11:09<58:40, 41.91s/it]  "
     ]
    },
    {
     "name": "stdout",
     "output_type": "stream",
     "text": [
      "=================================\n",
      "Initial portfolio value: 100000\n",
      "Final portfolio value: 842514.75\n",
      "Final accumulative portfolio return: 8.4251475\n",
      "Maximum DrawDown: -0.2803930919477218\n",
      "Sharpe ratio: 1.338258457466237\n",
      "=================================\n"
     ]
    },
    {
     "name": "stderr",
     "output_type": "stream",
     "text": [
      " 17%|█▋        | 17/100 [11:47<56:20, 40.73s/it]"
     ]
    },
    {
     "name": "stdout",
     "output_type": "stream",
     "text": [
      "=================================\n",
      "Initial portfolio value: 100000\n",
      "Final portfolio value: 823131.9375\n",
      "Final accumulative portfolio return: 8.231319375\n",
      "Maximum DrawDown: -0.28039300669814116\n",
      "Sharpe ratio: 1.3229608460531124\n",
      "=================================\n",
      "=================================\n",
      "Initial portfolio value: 100000\n",
      "Final portfolio value: 65418.71875\n",
      "Final accumulative portfolio return: 0.6541871875\n",
      "Maximum DrawDown: -0.42894066592721236\n",
      "Sharpe ratio: -0.6423943021017645\n",
      "=================================\n"
     ]
    },
    {
     "name": "stderr",
     "output_type": "stream",
     "text": [
      " 18%|█▊        | 18/100 [12:37<59:14, 43.35s/it]"
     ]
    },
    {
     "name": "stdout",
     "output_type": "stream",
     "text": [
      "Validation performance at episode 18: -2.108639444658098\n",
      "No improvement for 5 validation(s).\n",
      "=================================\n",
      "Initial portfolio value: 100000\n",
      "Final portfolio value: 850819.25\n",
      "Final accumulative portfolio return: 8.5081925\n",
      "Maximum DrawDown: -0.28039299362823245\n",
      "Sharpe ratio: 1.3447601801967044\n",
      "=================================\n"
     ]
    },
    {
     "name": "stderr",
     "output_type": "stream",
     "text": [
      " 19%|█▉        | 19/100 [13:15<56:28, 41.84s/it]"
     ]
    },
    {
     "name": "stdout",
     "output_type": "stream",
     "text": [
      "=================================\n",
      "Initial portfolio value: 100000\n",
      "Final portfolio value: 856001.8125\n",
      "Final accumulative portfolio return: 8.560018125\n",
      "Maximum DrawDown: -0.2803932244193652\n",
      "Sharpe ratio: 1.3458299335068376\n",
      "=================================\n"
     ]
    },
    {
     "name": "stderr",
     "output_type": "stream",
     "text": [
      " 20%|██        | 20/100 [13:52<53:39, 40.25s/it]"
     ]
    },
    {
     "name": "stdout",
     "output_type": "stream",
     "text": [
      "=================================\n",
      "Initial portfolio value: 100000\n",
      "Final portfolio value: 858936.3125\n",
      "Final accumulative portfolio return: 8.589363125\n",
      "Maximum DrawDown: -0.28039295631840555\n",
      "Sharpe ratio: 1.3617799401020543\n",
      "=================================\n",
      "=================================\n",
      "Initial portfolio value: 100000\n",
      "Final portfolio value: 79423.2890625\n",
      "Final accumulative portfolio return: 0.794232890625\n",
      "Maximum DrawDown: -0.3225739586726828\n",
      "Sharpe ratio: -0.3000016011072598\n",
      "=================================\n"
     ]
    },
    {
     "name": "stderr",
     "output_type": "stream",
     "text": [
      " 21%|██        | 21/100 [14:42<56:45, 43.11s/it]"
     ]
    },
    {
     "name": "stdout",
     "output_type": "stream",
     "text": [
      "Validation performance at episode 21: -2.4080774884493295\n",
      "No improvement for 6 validation(s).\n",
      "=================================\n",
      "Initial portfolio value: 100000\n",
      "Final portfolio value: 660643.75\n",
      "Final accumulative portfolio return: 6.6064375\n",
      "Maximum DrawDown: -0.2803929529950244\n",
      "Sharpe ratio: 1.239846257465413\n",
      "=================================\n"
     ]
    },
    {
     "name": "stderr",
     "output_type": "stream",
     "text": [
      " 22%|██▏       | 22/100 [15:20<54:20, 41.80s/it]"
     ]
    },
    {
     "name": "stdout",
     "output_type": "stream",
     "text": [
      "=================================\n",
      "Initial portfolio value: 100000\n",
      "Final portfolio value: 823735.25\n",
      "Final accumulative portfolio return: 8.2373525\n",
      "Maximum DrawDown: -0.2803927937737789\n",
      "Sharpe ratio: 1.3505518950860878\n",
      "=================================\n"
     ]
    },
    {
     "name": "stderr",
     "output_type": "stream",
     "text": [
      " 23%|██▎       | 23/100 [15:59<52:22, 40.81s/it]"
     ]
    },
    {
     "name": "stdout",
     "output_type": "stream",
     "text": [
      "=================================\n",
      "Initial portfolio value: 100000\n",
      "Final portfolio value: 836978.875\n",
      "Final accumulative portfolio return: 8.36978875\n",
      "Maximum DrawDown: -0.2803929629896149\n",
      "Sharpe ratio: 1.3573653847899867\n",
      "=================================\n",
      "=================================\n",
      "Initial portfolio value: 100000\n",
      "Final portfolio value: 75755.609375\n",
      "Final accumulative portfolio return: 0.75755609375\n",
      "Maximum DrawDown: -0.3408143569608194\n",
      "Sharpe ratio: -0.3881081976037461\n",
      "=================================\n"
     ]
    },
    {
     "name": "stderr",
     "output_type": "stream",
     "text": [
      " 24%|██▍       | 24/100 [16:49<55:23, 43.74s/it]"
     ]
    },
    {
     "name": "stdout",
     "output_type": "stream",
     "text": [
      "Validation performance at episode 24: -2.361998120727628\n",
      "No improvement for 7 validation(s).\n",
      "=================================\n",
      "Initial portfolio value: 100000\n",
      "Final portfolio value: 847412.6875\n",
      "Final accumulative portfolio return: 8.474126875\n",
      "Maximum DrawDown: -0.2803931043116721\n",
      "Sharpe ratio: 1.3641520056736198\n",
      "=================================\n"
     ]
    },
    {
     "name": "stderr",
     "output_type": "stream",
     "text": [
      " 25%|██▌       | 25/100 [17:28<52:37, 42.10s/it]"
     ]
    },
    {
     "name": "stdout",
     "output_type": "stream",
     "text": [
      "=================================\n",
      "Initial portfolio value: 100000\n",
      "Final portfolio value: 862766.8125\n",
      "Final accumulative portfolio return: 8.627668125\n",
      "Maximum DrawDown: -0.2803928976101673\n",
      "Sharpe ratio: 1.3745480053531867\n",
      "=================================\n"
     ]
    },
    {
     "name": "stderr",
     "output_type": "stream",
     "text": [
      " 26%|██▌       | 26/100 [18:06<50:42, 41.11s/it]"
     ]
    },
    {
     "name": "stdout",
     "output_type": "stream",
     "text": [
      "=================================\n",
      "Initial portfolio value: 100000\n",
      "Final portfolio value: 887220.1875\n",
      "Final accumulative portfolio return: 8.872201875\n",
      "Maximum DrawDown: -0.2803929889123946\n",
      "Sharpe ratio: 1.3907812449764057\n",
      "=================================\n",
      "=================================\n",
      "Initial portfolio value: 100000\n",
      "Final portfolio value: 66469.5546875\n",
      "Final accumulative portfolio return: 0.664695546875\n",
      "Maximum DrawDown: -0.4128955071286714\n",
      "Sharpe ratio: -0.6372317413789887\n",
      "=================================\n"
     ]
    },
    {
     "name": "stderr",
     "output_type": "stream",
     "text": [
      " 27%|██▋       | 27/100 [18:56<53:10, 43.71s/it]"
     ]
    },
    {
     "name": "stdout",
     "output_type": "stream",
     "text": [
      "Validation performance at episode 27: -1.841902491414146\n",
      "No improvement for 8 validation(s).\n",
      "=================================\n",
      "Initial portfolio value: 100000\n",
      "Final portfolio value: 911523.1875\n",
      "Final accumulative portfolio return: 9.115231875\n",
      "Maximum DrawDown: -0.28039300099896824\n",
      "Sharpe ratio: 1.406313440267884\n",
      "=================================\n"
     ]
    },
    {
     "name": "stderr",
     "output_type": "stream",
     "text": [
      " 28%|██▊       | 28/100 [19:35<50:30, 42.09s/it]"
     ]
    },
    {
     "name": "stdout",
     "output_type": "stream",
     "text": [
      "=================================\n",
      "Initial portfolio value: 100000\n",
      "Final portfolio value: 922928.75\n",
      "Final accumulative portfolio return: 9.2292875\n",
      "Maximum DrawDown: -0.2803930098632401\n",
      "Sharpe ratio: 1.4134735902374345\n",
      "=================================\n"
     ]
    },
    {
     "name": "stderr",
     "output_type": "stream",
     "text": [
      " 29%|██▉       | 29/100 [20:13<48:39, 41.12s/it]"
     ]
    },
    {
     "name": "stdout",
     "output_type": "stream",
     "text": [
      "=================================\n",
      "Initial portfolio value: 100000\n",
      "Final portfolio value: 930087.875\n",
      "Final accumulative portfolio return: 9.30087875\n",
      "Maximum DrawDown: -0.2803927702256399\n",
      "Sharpe ratio: 1.417852448529596\n",
      "=================================\n",
      "=================================\n",
      "Initial portfolio value: 100000\n",
      "Final portfolio value: 66659.8203125\n",
      "Final accumulative portfolio return: 0.666598203125\n",
      "Maximum DrawDown: -0.4139541471670638\n",
      "Sharpe ratio: -0.6276529868079006\n",
      "=================================\n"
     ]
    },
    {
     "name": "stderr",
     "output_type": "stream",
     "text": [
      " 30%|███       | 30/100 [21:03<51:01, 43.74s/it]"
     ]
    },
    {
     "name": "stdout",
     "output_type": "stream",
     "text": [
      "Validation performance at episode 30: -1.824723403378307\n",
      "No improvement for 9 validation(s).\n",
      "=================================\n",
      "Initial portfolio value: 100000\n",
      "Final portfolio value: 935897.0625\n",
      "Final accumulative portfolio return: 9.358970625\n",
      "Maximum DrawDown: -0.2803929537452211\n",
      "Sharpe ratio: 1.4212739214138148\n",
      "=================================\n"
     ]
    },
    {
     "name": "stderr",
     "output_type": "stream",
     "text": [
      " 31%|███       | 31/100 [21:42<48:36, 42.27s/it]"
     ]
    },
    {
     "name": "stdout",
     "output_type": "stream",
     "text": [
      "=================================\n",
      "Initial portfolio value: 100000\n",
      "Final portfolio value: 940924.875\n",
      "Final accumulative portfolio return: 9.40924875\n",
      "Maximum DrawDown: -0.2803929935477715\n",
      "Sharpe ratio: 1.4241384195756406\n",
      "=================================\n"
     ]
    },
    {
     "name": "stderr",
     "output_type": "stream",
     "text": [
      " 32%|███▏      | 32/100 [22:21<46:46, 41.28s/it]"
     ]
    },
    {
     "name": "stdout",
     "output_type": "stream",
     "text": [
      "=================================\n",
      "Initial portfolio value: 100000\n",
      "Final portfolio value: 945367.9375\n",
      "Final accumulative portfolio return: 9.453679375\n",
      "Maximum DrawDown: -0.2803930396453499\n",
      "Sharpe ratio: 1.4265940595403421\n",
      "=================================\n",
      "=================================\n",
      "Initial portfolio value: 100000\n",
      "Final portfolio value: 66106.078125\n",
      "Final accumulative portfolio return: 0.66106078125\n",
      "Maximum DrawDown: -0.4272772938005204\n",
      "Sharpe ratio: -0.6421717669382834\n",
      "=================================\n"
     ]
    },
    {
     "name": "stderr",
     "output_type": "stream",
     "text": [
      " 32%|███▏      | 32/100 [23:10<49:15, 43.47s/it]"
     ]
    },
    {
     "name": "stdout",
     "output_type": "stream",
     "text": [
      "Validation performance at episode 33: -1.7677053818248678\n",
      "No improvement for 10 validation(s).\n",
      "Early stopping due to no improvement on validation set.\n",
      "Loaded best model based on validation performance.\n"
     ]
    },
    {
     "name": "stderr",
     "output_type": "stream",
     "text": [
      "\n",
      "C:\\Users\\xutia\\AppData\\Local\\Temp\\ipykernel_26128\\4180739837.py:59: FutureWarning: You are using `torch.load` with `weights_only=False` (the current default value), which uses the default pickle module implicitly. It is possible to construct malicious pickle data which will execute arbitrary code during unpickling (See https://github.com/pytorch/pytorch/blob/main/SECURITY.md#untrusted-models for more details). In a future release, the default value for `weights_only` will be flipped to `True`. This limits the functions that could be executed during unpickling. Arbitrary objects will no longer be allowed to be loaded via this mode unless they are explicitly allowlisted by the user via `torch.serialization.add_safe_globals`. We recommend you start setting `weights_only=True` for any use case where you don't have full control of the loaded file. Please open an issue on GitHub for any issues related to this experimental feature.\n",
      "  EIIE_policy.load_state_dict(torch.load(model_filename))\n"
     ]
    },
    {
     "name": "stdout",
     "output_type": "stream",
     "text": [
      "=================================\n",
      "Initial portfolio value: 100000\n",
      "Final portfolio value: 509719.71875\n",
      "Final accumulative portfolio return: 5.0971971875\n",
      "Maximum DrawDown: -0.3849643051158901\n",
      "Sharpe ratio: 0.9824704082020347\n",
      "=================================\n",
      "Metrics - train_final_value: 509719.71875, train_drawdown: -0.3849643051158901, train_sharpe: 0.9830371055973451, train_cumulative: 5.0971971875\n",
      "=================================\n",
      "Initial portfolio value: 100000\n",
      "Final portfolio value: 161562.53125\n",
      "Final accumulative portfolio return: 1.6156253125\n",
      "Maximum DrawDown: -0.20936896961209361\n",
      "Sharpe ratio: 1.086904815878446\n",
      "=================================\n",
      "Metrics - test_final_value: 161562.53125, test_drawdown: -0.20936896961209367, test_sharpe: 1.0892106568890108, test_cumulative: 1.6156253125\n",
      "Training model with TIME_WINDOW=30, K_SIZE=3, CONV_MID=5, CONV_FINAL=10, LEARNING_RATE=0.01\n"
     ]
    },
    {
     "name": "stderr",
     "output_type": "stream",
     "text": [
      "  0%|          | 0/100 [00:00<?, ?it/s]"
     ]
    },
    {
     "name": "stdout",
     "output_type": "stream",
     "text": [
      "=================================\n",
      "Initial portfolio value: 100000\n",
      "Final portfolio value: 231566.515625\n",
      "Final accumulative portfolio return: 2.31566515625\n",
      "Maximum DrawDown: -0.32943233343180645\n",
      "Sharpe ratio: 0.7838450543460534\n",
      "=================================\n"
     ]
    },
    {
     "name": "stderr",
     "output_type": "stream",
     "text": [
      "  1%|          | 1/100 [00:38<1:03:10, 38.28s/it]"
     ]
    },
    {
     "name": "stdout",
     "output_type": "stream",
     "text": [
      "=================================\n",
      "Initial portfolio value: 100000\n",
      "Final portfolio value: 267874.71875\n",
      "Final accumulative portfolio return: 2.6787471875\n",
      "Maximum DrawDown: -0.3278328909838434\n",
      "Sharpe ratio: 0.8616551040566834\n",
      "=================================\n"
     ]
    },
    {
     "name": "stderr",
     "output_type": "stream",
     "text": [
      "  2%|▏         | 2/100 [01:16<1:02:49, 38.46s/it]"
     ]
    },
    {
     "name": "stdout",
     "output_type": "stream",
     "text": [
      "=================================\n",
      "Initial portfolio value: 100000\n",
      "Final portfolio value: 410721.625\n",
      "Final accumulative portfolio return: 4.10721625\n",
      "Maximum DrawDown: -0.31209420117782916\n",
      "Sharpe ratio: 1.0879355909382142\n",
      "=================================\n",
      "=================================\n",
      "Initial portfolio value: 100000\n",
      "Final portfolio value: 128860.15625\n",
      "Final accumulative portfolio return: 1.2886015625\n",
      "Maximum DrawDown: -0.2351351562325178\n",
      "Sharpe ratio: 0.7272045372553689\n",
      "=================================\n"
     ]
    },
    {
     "name": "stderr",
     "output_type": "stream",
     "text": [
      "  3%|▎         | 3/100 [02:06<1:10:41, 43.73s/it]"
     ]
    },
    {
     "name": "stdout",
     "output_type": "stream",
     "text": [
      "Validation performance at episode 3: -2.2137469333288253\n",
      "New best validation performance: -2.2137469333288253\n",
      "=================================\n",
      "Initial portfolio value: 100000\n",
      "Final portfolio value: 546874.125\n",
      "Final accumulative portfolio return: 5.46874125\n",
      "Maximum DrawDown: -0.3170008812044852\n",
      "Sharpe ratio: 1.1253084784978986\n",
      "=================================\n"
     ]
    },
    {
     "name": "stderr",
     "output_type": "stream",
     "text": [
      "  4%|▍         | 4/100 [02:45<1:06:53, 41.81s/it]"
     ]
    },
    {
     "name": "stdout",
     "output_type": "stream",
     "text": [
      "=================================\n",
      "Initial portfolio value: 100000\n",
      "Final portfolio value: 662329.25\n",
      "Final accumulative portfolio return: 6.6232925\n",
      "Maximum DrawDown: -0.31178665972122854\n",
      "Sharpe ratio: 1.205256464933255\n",
      "=================================\n"
     ]
    },
    {
     "name": "stderr",
     "output_type": "stream",
     "text": [
      "  5%|▌         | 5/100 [03:24<1:04:24, 40.68s/it]"
     ]
    },
    {
     "name": "stdout",
     "output_type": "stream",
     "text": [
      "=================================\n",
      "Initial portfolio value: 100000\n",
      "Final portfolio value: 834688.1875\n",
      "Final accumulative portfolio return: 8.346881875\n",
      "Maximum DrawDown: -0.28866685755599886\n",
      "Sharpe ratio: 1.354808895359118\n",
      "=================================\n",
      "=================================\n",
      "Initial portfolio value: 100000\n",
      "Final portfolio value: 171103.875\n",
      "Final accumulative portfolio return: 1.71103875\n",
      "Maximum DrawDown: -0.25784582003482437\n",
      "Sharpe ratio: 1.2240892282720095\n",
      "=================================\n"
     ]
    },
    {
     "name": "stderr",
     "output_type": "stream",
     "text": [
      "  6%|▌         | 6/100 [04:14<1:08:52, 43.96s/it]"
     ]
    },
    {
     "name": "stdout",
     "output_type": "stream",
     "text": [
      "Validation performance at episode 6: -1.76339559433299\n",
      "New best validation performance: -1.76339559433299\n",
      "=================================\n",
      "Initial portfolio value: 100000\n",
      "Final portfolio value: 889885.0625\n",
      "Final accumulative portfolio return: 8.898850625\n",
      "Maximum DrawDown: -0.2900971785095767\n",
      "Sharpe ratio: 1.3501158287951212\n",
      "=================================\n"
     ]
    },
    {
     "name": "stderr",
     "output_type": "stream",
     "text": [
      "  7%|▋         | 7/100 [04:53<1:05:39, 42.36s/it]"
     ]
    },
    {
     "name": "stdout",
     "output_type": "stream",
     "text": [
      "=================================\n",
      "Initial portfolio value: 100000\n",
      "Final portfolio value: 1114234.25\n",
      "Final accumulative portfolio return: 11.1423425\n",
      "Maximum DrawDown: -0.2831907521679804\n",
      "Sharpe ratio: 1.4757845302521122\n",
      "=================================\n"
     ]
    },
    {
     "name": "stderr",
     "output_type": "stream",
     "text": [
      "  8%|▊         | 8/100 [05:33<1:03:49, 41.63s/it]"
     ]
    },
    {
     "name": "stdout",
     "output_type": "stream",
     "text": [
      "=================================\n",
      "Initial portfolio value: 100000\n",
      "Final portfolio value: 1233610.5\n",
      "Final accumulative portfolio return: 12.336105\n",
      "Maximum DrawDown: -0.28495410205941907\n",
      "Sharpe ratio: 1.513151227058188\n",
      "=================================\n",
      "=================================\n",
      "Initial portfolio value: 100000\n",
      "Final portfolio value: 180119.734375\n",
      "Final accumulative portfolio return: 1.80119734375\n",
      "Maximum DrawDown: -0.23627267072244817\n",
      "Sharpe ratio: 1.3127134507085783\n",
      "=================================\n"
     ]
    },
    {
     "name": "stderr",
     "output_type": "stream",
     "text": [
      "  9%|▉         | 9/100 [06:23<1:07:06, 44.25s/it]"
     ]
    },
    {
     "name": "stdout",
     "output_type": "stream",
     "text": [
      "Validation performance at episode 9: -1.6319982426170585\n",
      "New best validation performance: -1.6319982426170585\n",
      "=================================\n",
      "Initial portfolio value: 100000\n",
      "Final portfolio value: 1335256.75\n",
      "Final accumulative portfolio return: 13.3525675\n",
      "Maximum DrawDown: -0.28077250723173497\n",
      "Sharpe ratio: 1.553769496201833\n",
      "=================================\n"
     ]
    },
    {
     "name": "stderr",
     "output_type": "stream",
     "text": [
      " 10%|█         | 10/100 [07:02<1:03:50, 42.56s/it]"
     ]
    },
    {
     "name": "stdout",
     "output_type": "stream",
     "text": [
      "=================================\n",
      "Initial portfolio value: 100000\n",
      "Final portfolio value: 1415100.25\n",
      "Final accumulative portfolio return: 14.1510025\n",
      "Maximum DrawDown: -0.28401659505692467\n",
      "Sharpe ratio: 1.5776030278176212\n",
      "=================================\n"
     ]
    },
    {
     "name": "stderr",
     "output_type": "stream",
     "text": [
      " 11%|█         | 11/100 [07:41<1:01:29, 41.45s/it]"
     ]
    },
    {
     "name": "stdout",
     "output_type": "stream",
     "text": [
      "=================================\n",
      "Initial portfolio value: 100000\n",
      "Final portfolio value: 1428110.25\n",
      "Final accumulative portfolio return: 14.2811025\n",
      "Maximum DrawDown: -0.28042823460681887\n",
      "Sharpe ratio: 1.5958026101978315\n",
      "=================================\n",
      "=================================\n",
      "Initial portfolio value: 100000\n",
      "Final portfolio value: 195057.203125\n",
      "Final accumulative portfolio return: 1.95057203125\n",
      "Maximum DrawDown: -0.23112102205922214\n",
      "Sharpe ratio: 1.439945553532136\n",
      "=================================\n"
     ]
    },
    {
     "name": "stderr",
     "output_type": "stream",
     "text": [
      " 12%|█▏        | 12/100 [08:31<1:04:42, 44.12s/it]"
     ]
    },
    {
     "name": "stdout",
     "output_type": "stream",
     "text": [
      "Validation performance at episode 12: -1.6109068888021698\n",
      "New best validation performance: -1.6109068888021698\n",
      "=================================\n",
      "Initial portfolio value: 100000\n",
      "Final portfolio value: 1308315.5\n",
      "Final accumulative portfolio return: 13.083155\n",
      "Maximum DrawDown: -0.2881254156702113\n",
      "Sharpe ratio: 1.5174183160375292\n",
      "=================================\n"
     ]
    },
    {
     "name": "stderr",
     "output_type": "stream",
     "text": [
      " 13%|█▎        | 13/100 [09:10<1:01:39, 42.52s/it]"
     ]
    },
    {
     "name": "stdout",
     "output_type": "stream",
     "text": [
      "=================================\n",
      "Initial portfolio value: 100000\n",
      "Final portfolio value: 1407191.125\n",
      "Final accumulative portfolio return: 14.07191125\n",
      "Maximum DrawDown: -0.2804317479777906\n",
      "Sharpe ratio: 1.5731938593264532\n",
      "=================================\n"
     ]
    },
    {
     "name": "stderr",
     "output_type": "stream",
     "text": [
      " 14%|█▍        | 14/100 [09:49<59:22, 41.43s/it]  "
     ]
    },
    {
     "name": "stdout",
     "output_type": "stream",
     "text": [
      "=================================\n",
      "Initial portfolio value: 100000\n",
      "Final portfolio value: 1277504.75\n",
      "Final accumulative portfolio return: 12.7750475\n",
      "Maximum DrawDown: -0.2803948539697342\n",
      "Sharpe ratio: 1.55302875702193\n",
      "=================================\n",
      "=================================\n",
      "Initial portfolio value: 100000\n",
      "Final portfolio value: 213407.796875\n",
      "Final accumulative portfolio return: 2.13407796875\n",
      "Maximum DrawDown: -0.18972573882210153\n",
      "Sharpe ratio: 1.6407754693236352\n",
      "=================================\n"
     ]
    },
    {
     "name": "stderr",
     "output_type": "stream",
     "text": [
      " 15%|█▌        | 15/100 [10:40<1:02:35, 44.19s/it]"
     ]
    },
    {
     "name": "stdout",
     "output_type": "stream",
     "text": [
      "Validation performance at episode 15: -1.5337510010027926\n",
      "New best validation performance: -1.5337510010027926\n",
      "=================================\n",
      "Initial portfolio value: 100000\n",
      "Final portfolio value: 1401576.25\n",
      "Final accumulative portfolio return: 14.0157625\n",
      "Maximum DrawDown: -0.3040106512740066\n",
      "Sharpe ratio: 1.5541328569151749\n",
      "=================================\n"
     ]
    },
    {
     "name": "stderr",
     "output_type": "stream",
     "text": [
      " 16%|█▌        | 16/100 [11:18<59:32, 42.53s/it]  "
     ]
    },
    {
     "name": "stdout",
     "output_type": "stream",
     "text": [
      "=================================\n",
      "Initial portfolio value: 100000\n",
      "Final portfolio value: 1432036.125\n",
      "Final accumulative portfolio return: 14.32036125\n",
      "Maximum DrawDown: -0.2867327667555969\n",
      "Sharpe ratio: 1.553623740513135\n",
      "=================================\n"
     ]
    },
    {
     "name": "stderr",
     "output_type": "stream",
     "text": [
      " 17%|█▋        | 17/100 [11:57<57:16, 41.40s/it]"
     ]
    },
    {
     "name": "stdout",
     "output_type": "stream",
     "text": [
      "=================================\n",
      "Initial portfolio value: 100000\n",
      "Final portfolio value: 1243959.25\n",
      "Final accumulative portfolio return: 12.4395925\n",
      "Maximum DrawDown: -0.2803929120979286\n",
      "Sharpe ratio: 1.520567040390628\n",
      "=================================\n",
      "=================================\n",
      "Initial portfolio value: 100000\n",
      "Final portfolio value: 125860.15625\n",
      "Final accumulative portfolio return: 1.2586015625\n",
      "Maximum DrawDown: -0.2885786282649667\n",
      "Sharpe ratio: 0.5938587064824655\n",
      "=================================\n"
     ]
    },
    {
     "name": "stderr",
     "output_type": "stream",
     "text": [
      " 18%|█▊        | 18/100 [12:47<1:00:03, 43.95s/it]"
     ]
    },
    {
     "name": "stdout",
     "output_type": "stream",
     "text": [
      "Validation performance at episode 18: -3.963737187437376\n",
      "No improvement for 1 validation(s).\n",
      "=================================\n",
      "Initial portfolio value: 100000\n",
      "Final portfolio value: 1425982.625\n",
      "Final accumulative portfolio return: 14.25982625\n",
      "Maximum DrawDown: -0.28039275762226523\n",
      "Sharpe ratio: 1.5916136072228093\n",
      "=================================\n"
     ]
    },
    {
     "name": "stderr",
     "output_type": "stream",
     "text": [
      " 19%|█▉        | 19/100 [13:26<57:17, 42.43s/it]  "
     ]
    },
    {
     "name": "stdout",
     "output_type": "stream",
     "text": [
      "=================================\n",
      "Initial portfolio value: 100000\n",
      "Final portfolio value: 1444344.375\n",
      "Final accumulative portfolio return: 14.44344375\n",
      "Maximum DrawDown: -0.2803879929343591\n",
      "Sharpe ratio: 1.5668348116183488\n",
      "=================================\n"
     ]
    },
    {
     "name": "stderr",
     "output_type": "stream",
     "text": [
      " 20%|██        | 20/100 [14:07<56:13, 42.17s/it]"
     ]
    },
    {
     "name": "stdout",
     "output_type": "stream",
     "text": [
      "=================================\n",
      "Initial portfolio value: 100000\n",
      "Final portfolio value: 1282964.875\n",
      "Final accumulative portfolio return: 12.82964875\n",
      "Maximum DrawDown: -0.2803930447283587\n",
      "Sharpe ratio: 1.5323597264462108\n",
      "=================================\n",
      "=================================\n",
      "Initial portfolio value: 100000\n",
      "Final portfolio value: 111015.5859375\n",
      "Final accumulative portfolio return: 1.110155859375\n",
      "Maximum DrawDown: -0.3298576070239294\n",
      "Sharpe ratio: 0.34423808975865827\n",
      "=================================\n"
     ]
    },
    {
     "name": "stderr",
     "output_type": "stream",
     "text": [
      " 21%|██        | 21/100 [14:59<59:23, 45.10s/it]"
     ]
    },
    {
     "name": "stdout",
     "output_type": "stream",
     "text": [
      "Validation performance at episode 21: -3.1931887066216316\n",
      "No improvement for 2 validation(s).\n",
      "=================================\n",
      "Initial portfolio value: 100000\n",
      "Final portfolio value: 1494793.0\n",
      "Final accumulative portfolio return: 14.94793\n",
      "Maximum DrawDown: -0.28039329135704427\n",
      "Sharpe ratio: 1.605770204535498\n",
      "=================================\n"
     ]
    },
    {
     "name": "stderr",
     "output_type": "stream",
     "text": [
      " 22%|██▏       | 22/100 [15:41<57:25, 44.17s/it]"
     ]
    },
    {
     "name": "stdout",
     "output_type": "stream",
     "text": [
      "=================================\n",
      "Initial portfolio value: 100000\n",
      "Final portfolio value: 1368570.625\n",
      "Final accumulative portfolio return: 13.68570625\n",
      "Maximum DrawDown: -0.2802195456365535\n",
      "Sharpe ratio: 1.524160921987128\n",
      "=================================\n"
     ]
    },
    {
     "name": "stderr",
     "output_type": "stream",
     "text": [
      " 23%|██▎       | 23/100 [16:20<54:31, 42.49s/it]"
     ]
    },
    {
     "name": "stdout",
     "output_type": "stream",
     "text": [
      "=================================\n",
      "Initial portfolio value: 100000\n",
      "Final portfolio value: 1491526.125\n",
      "Final accumulative portfolio return: 14.91526125\n",
      "Maximum DrawDown: -0.28037992342698714\n",
      "Sharpe ratio: 1.5710282562388433\n",
      "=================================\n",
      "=================================\n",
      "Initial portfolio value: 100000\n",
      "Final portfolio value: 199178.90625\n",
      "Final accumulative portfolio return: 1.9917890625\n",
      "Maximum DrawDown: -0.20613612041046125\n",
      "Sharpe ratio: 1.4305129276940824\n",
      "=================================\n"
     ]
    },
    {
     "name": "stderr",
     "output_type": "stream",
     "text": [
      " 24%|██▍       | 24/100 [17:09<56:28, 44.58s/it]"
     ]
    },
    {
     "name": "stdout",
     "output_type": "stream",
     "text": [
      "Validation performance at episode 24: -1.5579797722213402\n",
      "No improvement for 3 validation(s).\n",
      "=================================\n",
      "Initial portfolio value: 100000\n",
      "Final portfolio value: 1544922.5\n",
      "Final accumulative portfolio return: 15.449225\n",
      "Maximum DrawDown: -0.2803925715527741\n",
      "Sharpe ratio: 1.5930117009606322\n",
      "=================================\n"
     ]
    },
    {
     "name": "stderr",
     "output_type": "stream",
     "text": [
      " 25%|██▌       | 25/100 [17:48<53:20, 42.67s/it]"
     ]
    },
    {
     "name": "stdout",
     "output_type": "stream",
     "text": [
      "=================================\n",
      "Initial portfolio value: 100000\n",
      "Final portfolio value: 1483324.625\n",
      "Final accumulative portfolio return: 14.83324625\n",
      "Maximum DrawDown: -0.2803912868927769\n",
      "Sharpe ratio: 1.5793868059076\n",
      "=================================\n"
     ]
    },
    {
     "name": "stderr",
     "output_type": "stream",
     "text": [
      " 26%|██▌       | 26/100 [18:27<51:26, 41.71s/it]"
     ]
    },
    {
     "name": "stdout",
     "output_type": "stream",
     "text": [
      "=================================\n",
      "Initial portfolio value: 100000\n",
      "Final portfolio value: 1590144.375\n",
      "Final accumulative portfolio return: 15.90144375\n",
      "Maximum DrawDown: -0.28039444440883243\n",
      "Sharpe ratio: 1.5945204184402488\n",
      "=================================\n",
      "=================================\n",
      "Initial portfolio value: 100000\n",
      "Final portfolio value: 197425.90625\n",
      "Final accumulative portfolio return: 1.9742590625\n",
      "Maximum DrawDown: -0.21858197532524182\n",
      "Sharpe ratio: 1.4197654836146905\n",
      "=================================\n"
     ]
    },
    {
     "name": "stderr",
     "output_type": "stream",
     "text": [
      " 27%|██▋       | 27/100 [19:20<54:53, 45.12s/it]"
     ]
    },
    {
     "name": "stdout",
     "output_type": "stream",
     "text": [
      "Validation performance at episode 27: -1.564617045879531\n",
      "No improvement for 4 validation(s).\n",
      "=================================\n",
      "Initial portfolio value: 100000\n",
      "Final portfolio value: 1709876.875\n",
      "Final accumulative portfolio return: 17.09876875\n",
      "Maximum DrawDown: -0.2804225137954107\n",
      "Sharpe ratio: 1.6348747384174254\n",
      "=================================\n"
     ]
    },
    {
     "name": "stderr",
     "output_type": "stream",
     "text": [
      " 28%|██▊       | 28/100 [20:02<52:56, 44.12s/it]"
     ]
    },
    {
     "name": "stdout",
     "output_type": "stream",
     "text": [
      "=================================\n",
      "Initial portfolio value: 100000\n",
      "Final portfolio value: 1609631.75\n",
      "Final accumulative portfolio return: 16.0963175\n",
      "Maximum DrawDown: -0.28039299389872174\n",
      "Sharpe ratio: 1.631258919911154\n",
      "=================================\n"
     ]
    },
    {
     "name": "stderr",
     "output_type": "stream",
     "text": [
      " 29%|██▉       | 29/100 [20:42<50:45, 42.89s/it]"
     ]
    },
    {
     "name": "stdout",
     "output_type": "stream",
     "text": [
      "=================================\n",
      "Initial portfolio value: 100000\n",
      "Final portfolio value: 1708860.25\n",
      "Final accumulative portfolio return: 17.0886025\n",
      "Maximum DrawDown: -0.28039235546417096\n",
      "Sharpe ratio: 1.6422244226209584\n",
      "=================================\n",
      "=================================\n",
      "Initial portfolio value: 100000\n",
      "Final portfolio value: 144488.109375\n",
      "Final accumulative portfolio return: 1.44488109375\n",
      "Maximum DrawDown: -0.23459958373871237\n",
      "Sharpe ratio: 0.8404600653707924\n",
      "=================================\n"
     ]
    },
    {
     "name": "stderr",
     "output_type": "stream",
     "text": [
      " 30%|███       | 30/100 [21:35<53:33, 45.90s/it]"
     ]
    },
    {
     "name": "stdout",
     "output_type": "stream",
     "text": [
      "Validation performance at episode 30: -2.8441047491457816\n",
      "No improvement for 5 validation(s).\n",
      "=================================\n",
      "Initial portfolio value: 100000\n",
      "Final portfolio value: 1869787.5\n",
      "Final accumulative portfolio return: 18.697875\n",
      "Maximum DrawDown: -0.28038429782781593\n",
      "Sharpe ratio: 1.6867359134145612\n",
      "=================================\n"
     ]
    },
    {
     "name": "stderr",
     "output_type": "stream",
     "text": [
      " 31%|███       | 31/100 [22:17<51:24, 44.70s/it]"
     ]
    },
    {
     "name": "stdout",
     "output_type": "stream",
     "text": [
      "=================================\n",
      "Initial portfolio value: 100000\n",
      "Final portfolio value: 1926183.125\n",
      "Final accumulative portfolio return: 19.26183125\n",
      "Maximum DrawDown: -0.28039290032173936\n",
      "Sharpe ratio: 1.7063596695009644\n",
      "=================================\n"
     ]
    },
    {
     "name": "stderr",
     "output_type": "stream",
     "text": [
      " 32%|███▏      | 32/100 [23:01<50:39, 44.69s/it]"
     ]
    },
    {
     "name": "stdout",
     "output_type": "stream",
     "text": [
      "=================================\n",
      "Initial portfolio value: 100000\n",
      "Final portfolio value: 2002291.125\n",
      "Final accumulative portfolio return: 20.02291125\n",
      "Maximum DrawDown: -0.2803929653542999\n",
      "Sharpe ratio: 1.7280946088427558\n",
      "=================================\n",
      "=================================\n",
      "Initial portfolio value: 100000\n",
      "Final portfolio value: 147405.859375\n",
      "Final accumulative portfolio return: 1.47405859375\n",
      "Maximum DrawDown: -0.22634094490854295\n",
      "Sharpe ratio: 0.8805142808692629\n",
      "=================================\n"
     ]
    },
    {
     "name": "stderr",
     "output_type": "stream",
     "text": [
      " 33%|███▎      | 33/100 [23:56<53:06, 47.55s/it]"
     ]
    },
    {
     "name": "stdout",
     "output_type": "stream",
     "text": [
      "Validation performance at episode 33: -2.777028318323337\n",
      "No improvement for 6 validation(s).\n",
      "=================================\n",
      "Initial portfolio value: 100000\n",
      "Final portfolio value: 2220690.25\n",
      "Final accumulative portfolio return: 22.2069025\n",
      "Maximum DrawDown: -0.28039285147414683\n",
      "Sharpe ratio: 1.7815378446863843\n",
      "=================================\n"
     ]
    },
    {
     "name": "stderr",
     "output_type": "stream",
     "text": [
      " 34%|███▍      | 34/100 [24:37<50:08, 45.59s/it]"
     ]
    },
    {
     "name": "stdout",
     "output_type": "stream",
     "text": [
      "=================================\n",
      "Initial portfolio value: 100000\n",
      "Final portfolio value: 2315699.5\n",
      "Final accumulative portfolio return: 23.156995\n",
      "Maximum DrawDown: -0.2803931734287213\n",
      "Sharpe ratio: 1.8047419358966423\n",
      "=================================\n"
     ]
    },
    {
     "name": "stderr",
     "output_type": "stream",
     "text": [
      " 35%|███▌      | 35/100 [25:18<48:05, 44.39s/it]"
     ]
    },
    {
     "name": "stdout",
     "output_type": "stream",
     "text": [
      "=================================\n",
      "Initial portfolio value: 100000\n",
      "Final portfolio value: 2362149.5\n",
      "Final accumulative portfolio return: 23.621495\n",
      "Maximum DrawDown: -0.2803930454151409\n",
      "Sharpe ratio: 1.814994385631309\n",
      "=================================\n",
      "=================================\n",
      "Initial portfolio value: 100000\n",
      "Final portfolio value: 138314.421875\n",
      "Final accumulative portfolio return: 1.38314421875\n",
      "Maximum DrawDown: -0.22423323423683705\n",
      "Sharpe ratio: 0.760192301028046\n",
      "=================================\n"
     ]
    },
    {
     "name": "stderr",
     "output_type": "stream",
     "text": [
      " 36%|███▌      | 36/100 [26:13<50:30, 47.35s/it]"
     ]
    },
    {
     "name": "stdout",
     "output_type": "stream",
     "text": [
      "Validation performance at episode 36: -3.4515050116027792\n",
      "No improvement for 7 validation(s).\n",
      "=================================\n",
      "Initial portfolio value: 100000\n",
      "Final portfolio value: 2390233.25\n",
      "Final accumulative portfolio return: 23.9023325\n",
      "Maximum DrawDown: -0.2803928722535084\n",
      "Sharpe ratio: 1.8207503214383942\n",
      "=================================\n"
     ]
    },
    {
     "name": "stderr",
     "output_type": "stream",
     "text": [
      " 37%|███▋      | 37/100 [26:55<48:01, 45.74s/it]"
     ]
    },
    {
     "name": "stdout",
     "output_type": "stream",
     "text": [
      "=================================\n",
      "Initial portfolio value: 100000\n",
      "Final portfolio value: 2410450.5\n",
      "Final accumulative portfolio return: 24.104505\n",
      "Maximum DrawDown: -0.2803928139643993\n",
      "Sharpe ratio: 1.8250245374867806\n",
      "=================================\n"
     ]
    },
    {
     "name": "stderr",
     "output_type": "stream",
     "text": [
      " 38%|███▊      | 38/100 [27:36<45:51, 44.39s/it]"
     ]
    },
    {
     "name": "stdout",
     "output_type": "stream",
     "text": [
      "=================================\n",
      "Initial portfolio value: 100000\n",
      "Final portfolio value: 2425334.75\n",
      "Final accumulative portfolio return: 24.2533475\n",
      "Maximum DrawDown: -0.2803927831371563\n",
      "Sharpe ratio: 1.8281652262416135\n",
      "=================================\n",
      "=================================\n",
      "Initial portfolio value: 100000\n",
      "Final portfolio value: 136036.640625\n",
      "Final accumulative portfolio return: 1.36036640625\n",
      "Maximum DrawDown: -0.23109381430028886\n",
      "Sharpe ratio: 0.7292907876383403\n",
      "=================================\n"
     ]
    },
    {
     "name": "stderr",
     "output_type": "stream",
     "text": [
      " 39%|███▉      | 39/100 [28:29<47:43, 46.94s/it]"
     ]
    },
    {
     "name": "stdout",
     "output_type": "stream",
     "text": [
      "Validation performance at episode 39: -3.5920199275297677\n",
      "No improvement for 8 validation(s).\n",
      "=================================\n",
      "Initial portfolio value: 100000\n",
      "Final portfolio value: 2436595.75\n",
      "Final accumulative portfolio return: 24.3659575\n",
      "Maximum DrawDown: -0.28039276472987995\n",
      "Sharpe ratio: 1.8305020536946695\n",
      "=================================\n"
     ]
    },
    {
     "name": "stderr",
     "output_type": "stream",
     "text": [
      " 40%|████      | 40/100 [29:11<45:38, 45.64s/it]"
     ]
    },
    {
     "name": "stdout",
     "output_type": "stream",
     "text": [
      "=================================\n",
      "Initial portfolio value: 100000\n",
      "Final portfolio value: 2446096.5\n",
      "Final accumulative portfolio return: 24.460965\n",
      "Maximum DrawDown: -0.28039315088132355\n",
      "Sharpe ratio: 1.8324414931107373\n",
      "=================================\n"
     ]
    },
    {
     "name": "stderr",
     "output_type": "stream",
     "text": [
      " 41%|████      | 41/100 [29:53<43:39, 44.40s/it]"
     ]
    },
    {
     "name": "stdout",
     "output_type": "stream",
     "text": [
      "=================================\n",
      "Initial portfolio value: 100000\n",
      "Final portfolio value: 2454419.75\n",
      "Final accumulative portfolio return: 24.5441975\n",
      "Maximum DrawDown: -0.280392988914412\n",
      "Sharpe ratio: 1.834116356545709\n",
      "=================================\n",
      "=================================\n",
      "Initial portfolio value: 100000\n",
      "Final portfolio value: 134762.984375\n",
      "Final accumulative portfolio return: 1.34762984375\n",
      "Maximum DrawDown: -0.235625147414539\n",
      "Sharpe ratio: 0.7116388824387628\n",
      "=================================\n"
     ]
    },
    {
     "name": "stderr",
     "output_type": "stream",
     "text": [
      " 42%|████▏     | 42/100 [30:46<45:31, 47.10s/it]"
     ]
    },
    {
     "name": "stdout",
     "output_type": "stream",
     "text": [
      "Validation performance at episode 42: -3.654549390207959\n",
      "No improvement for 9 validation(s).\n",
      "=================================\n",
      "Initial portfolio value: 100000\n",
      "Final portfolio value: 2462511.25\n",
      "Final accumulative portfolio return: 24.6251125\n",
      "Maximum DrawDown: -0.28039265628372656\n",
      "Sharpe ratio: 1.835733753576204\n",
      "=================================\n"
     ]
    },
    {
     "name": "stderr",
     "output_type": "stream",
     "text": [
      " 43%|████▎     | 43/100 [31:28<43:08, 45.41s/it]"
     ]
    },
    {
     "name": "stdout",
     "output_type": "stream",
     "text": [
      "=================================\n",
      "Initial portfolio value: 100000\n",
      "Final portfolio value: 2469204.0\n",
      "Final accumulative portfolio return: 24.69204\n",
      "Maximum DrawDown: -0.2803931565625566\n",
      "Sharpe ratio: 1.8370676065024518\n",
      "=================================\n"
     ]
    },
    {
     "name": "stderr",
     "output_type": "stream",
     "text": [
      " 44%|████▍     | 44/100 [32:10<41:25, 44.38s/it]"
     ]
    },
    {
     "name": "stdout",
     "output_type": "stream",
     "text": [
      "=================================\n",
      "Initial portfolio value: 100000\n",
      "Final portfolio value: 2476755.5\n",
      "Final accumulative portfolio return: 24.767555\n",
      "Maximum DrawDown: -0.28039290133126593\n",
      "Sharpe ratio: 1.8385232620100802\n",
      "=================================\n",
      "=================================\n",
      "Initial portfolio value: 100000\n",
      "Final portfolio value: 134017.53125\n",
      "Final accumulative portfolio return: 1.3401753125\n",
      "Maximum DrawDown: -0.23811772566469303\n",
      "Sharpe ratio: 0.7011692051072481\n",
      "=================================\n"
     ]
    },
    {
     "name": "stderr",
     "output_type": "stream",
     "text": [
      " 44%|████▍     | 44/100 [33:03<42:04, 45.08s/it]"
     ]
    },
    {
     "name": "stdout",
     "output_type": "stream",
     "text": [
      "Validation performance at episode 45: -3.693064834470574\n",
      "No improvement for 10 validation(s).\n",
      "Early stopping due to no improvement on validation set.\n",
      "Loaded best model based on validation performance.\n"
     ]
    },
    {
     "name": "stderr",
     "output_type": "stream",
     "text": [
      "\n",
      "C:\\Users\\xutia\\AppData\\Local\\Temp\\ipykernel_26128\\4180739837.py:59: FutureWarning: You are using `torch.load` with `weights_only=False` (the current default value), which uses the default pickle module implicitly. It is possible to construct malicious pickle data which will execute arbitrary code during unpickling (See https://github.com/pytorch/pytorch/blob/main/SECURITY.md#untrusted-models for more details). In a future release, the default value for `weights_only` will be flipped to `True`. This limits the functions that could be executed during unpickling. Arbitrary objects will no longer be allowed to be loaded via this mode unless they are explicitly allowlisted by the user via `torch.serialization.add_safe_globals`. We recommend you start setting `weights_only=True` for any use case where you don't have full control of the loaded file. Please open an issue on GitHub for any issues related to this experimental feature.\n",
      "  EIIE_policy.load_state_dict(torch.load(model_filename))\n"
     ]
    },
    {
     "name": "stdout",
     "output_type": "stream",
     "text": [
      "=================================\n",
      "Initial portfolio value: 100000\n",
      "Final portfolio value: 1002889.8125\n",
      "Final accumulative portfolio return: 10.028898125\n",
      "Maximum DrawDown: -0.4064590774522965\n",
      "Sharpe ratio: 1.3433432627105857\n",
      "=================================\n",
      "Metrics - train_final_value: 1002889.8125, train_drawdown: -0.4064590774522965, train_sharpe: 1.3441210405575066, train_cumulative: 10.028898125\n",
      "=================================\n",
      "Initial portfolio value: 100000\n",
      "Final portfolio value: 195581.609375\n",
      "Final accumulative portfolio return: 1.95581609375\n",
      "Maximum DrawDown: -0.22185107555899897\n",
      "Sharpe ratio: 1.3999387152169465\n",
      "=================================\n",
      "Metrics - test_final_value: 195581.609375, test_drawdown: -0.22185107555899894, test_sharpe: 1.40291111904667, test_cumulative: 1.95581609375\n",
      "Training model with TIME_WINDOW=30, K_SIZE=3, CONV_MID=5, CONV_FINAL=10, LEARNING_RATE=0.02\n"
     ]
    },
    {
     "name": "stderr",
     "output_type": "stream",
     "text": [
      "  0%|          | 0/100 [00:00<?, ?it/s]"
     ]
    },
    {
     "name": "stdout",
     "output_type": "stream",
     "text": [
      "=================================\n",
      "Initial portfolio value: 100000\n",
      "Final portfolio value: 228251.0625\n",
      "Final accumulative portfolio return: 2.282510625\n",
      "Maximum DrawDown: -0.3331440912663307\n",
      "Sharpe ratio: 0.7621650995142292\n",
      "=================================\n"
     ]
    },
    {
     "name": "stderr",
     "output_type": "stream",
     "text": [
      "  1%|          | 1/100 [00:40<1:07:10, 40.71s/it]"
     ]
    },
    {
     "name": "stdout",
     "output_type": "stream",
     "text": [
      "=================================\n",
      "Initial portfolio value: 100000\n",
      "Final portfolio value: 234546.34375\n",
      "Final accumulative portfolio return: 2.3454634375\n",
      "Maximum DrawDown: -0.3369973075716626\n",
      "Sharpe ratio: 0.7803122335275052\n",
      "=================================\n"
     ]
    },
    {
     "name": "stderr",
     "output_type": "stream",
     "text": [
      "  2%|▏         | 2/100 [01:21<1:06:42, 40.84s/it]"
     ]
    },
    {
     "name": "stdout",
     "output_type": "stream",
     "text": [
      "=================================\n",
      "Initial portfolio value: 100000\n",
      "Final portfolio value: 236417.28125\n",
      "Final accumulative portfolio return: 2.3641728125\n",
      "Maximum DrawDown: -0.33979500125663353\n",
      "Sharpe ratio: 0.7806170626536736\n",
      "=================================\n",
      "=================================\n",
      "Initial portfolio value: 100000\n",
      "Final portfolio value: 128830.7265625\n",
      "Final accumulative portfolio return: 1.288307265625\n",
      "Maximum DrawDown: -0.1530056827643098\n",
      "Sharpe ratio: 0.8896637102438721\n",
      "=================================\n"
     ]
    },
    {
     "name": "stderr",
     "output_type": "stream",
     "text": [
      "  3%|▎         | 3/100 [02:15<1:15:21, 46.62s/it]"
     ]
    },
    {
     "name": "stdout",
     "output_type": "stream",
     "text": [
      "Validation performance at episode 3: -2.419140385184133\n",
      "New best validation performance: -2.419140385184133\n",
      "=================================\n",
      "Initial portfolio value: 100000\n",
      "Final portfolio value: 237802.0\n",
      "Final accumulative portfolio return: 2.37802\n",
      "Maximum DrawDown: -0.34187225016051026\n",
      "Sharpe ratio: 0.7808239747748406\n",
      "=================================\n"
     ]
    },
    {
     "name": "stderr",
     "output_type": "stream",
     "text": [
      "  4%|▍         | 4/100 [02:56<1:10:58, 44.36s/it]"
     ]
    },
    {
     "name": "stdout",
     "output_type": "stream",
     "text": [
      "=================================\n",
      "Initial portfolio value: 100000\n",
      "Final portfolio value: 238850.09375\n",
      "Final accumulative portfolio return: 2.3885009375\n",
      "Maximum DrawDown: -0.34345570274751724\n",
      "Sharpe ratio: 0.7809579184688261\n",
      "=================================\n"
     ]
    },
    {
     "name": "stderr",
     "output_type": "stream",
     "text": [
      "  5%|▌         | 5/100 [03:37<1:08:30, 43.27s/it]"
     ]
    },
    {
     "name": "stdout",
     "output_type": "stream",
     "text": [
      "=================================\n",
      "Initial portfolio value: 100000\n",
      "Final portfolio value: 239670.28125\n",
      "Final accumulative portfolio return: 2.3967028125\n",
      "Maximum DrawDown: -0.3446890492777066\n",
      "Sharpe ratio: 0.7810686128664526\n",
      "=================================\n",
      "=================================\n",
      "Initial portfolio value: 100000\n",
      "Final portfolio value: 129297.171875\n",
      "Final accumulative portfolio return: 1.29297171875\n",
      "Maximum DrawDown: -0.1553908722195816\n",
      "Sharpe ratio: 0.8897021780773207\n",
      "=================================\n"
     ]
    },
    {
     "name": "stderr",
     "output_type": "stream",
     "text": [
      "  6%|▌         | 6/100 [04:30<1:12:50, 46.50s/it]"
     ]
    },
    {
     "name": "stdout",
     "output_type": "stream",
     "text": [
      "Validation performance at episode 6: -2.4172511907760534\n",
      "No improvement for 1 validation(s).\n",
      "=================================\n",
      "Initial portfolio value: 100000\n",
      "Final portfolio value: 240318.578125\n",
      "Final accumulative portfolio return: 2.40318578125\n",
      "Maximum DrawDown: -0.3456747009903067\n",
      "Sharpe ratio: 0.7811429156957926\n",
      "=================================\n"
     ]
    },
    {
     "name": "stderr",
     "output_type": "stream",
     "text": [
      "  7%|▋         | 7/100 [05:11<1:09:36, 44.91s/it]"
     ]
    },
    {
     "name": "stdout",
     "output_type": "stream",
     "text": [
      "=================================\n",
      "Initial portfolio value: 100000\n",
      "Final portfolio value: 240848.71875\n",
      "Final accumulative portfolio return: 2.4084871875\n",
      "Maximum DrawDown: -0.3464736663018788\n",
      "Sharpe ratio: 0.7812174124289304\n",
      "=================================\n"
     ]
    },
    {
     "name": "stderr",
     "output_type": "stream",
     "text": [
      "  8%|▊         | 8/100 [05:52<1:07:02, 43.72s/it]"
     ]
    },
    {
     "name": "stdout",
     "output_type": "stream",
     "text": [
      "=================================\n",
      "Initial portfolio value: 100000\n",
      "Final portfolio value: 241268.203125\n",
      "Final accumulative portfolio return: 2.41268203125\n",
      "Maximum DrawDown: -0.3471347027924556\n",
      "Sharpe ratio: 0.7812252086988615\n",
      "=================================\n",
      "=================================\n",
      "Initial portfolio value: 100000\n",
      "Final portfolio value: 129527.171875\n",
      "Final accumulative portfolio return: 1.29527171875\n",
      "Maximum DrawDown: -0.15660793708530074\n",
      "Sharpe ratio: 0.8895771034487536\n",
      "=================================\n"
     ]
    },
    {
     "name": "stderr",
     "output_type": "stream",
     "text": [
      "  9%|▉         | 9/100 [06:46<1:10:48, 46.69s/it]"
     ]
    },
    {
     "name": "stdout",
     "output_type": "stream",
     "text": [
      "Validation performance at episode 9: -2.416384386974457\n",
      "No improvement for 2 validation(s).\n",
      "=================================\n",
      "Initial portfolio value: 100000\n",
      "Final portfolio value: 241624.09375\n",
      "Final accumulative portfolio return: 2.4162409375\n",
      "Maximum DrawDown: -0.3476847720913314\n",
      "Sharpe ratio: 0.7812466111348008\n",
      "=================================\n"
     ]
    },
    {
     "name": "stderr",
     "output_type": "stream",
     "text": [
      " 10%|█         | 10/100 [07:27<1:07:32, 45.02s/it]"
     ]
    },
    {
     "name": "stdout",
     "output_type": "stream",
     "text": [
      "=================================\n",
      "Initial portfolio value: 100000\n",
      "Final portfolio value: 241936.796875\n",
      "Final accumulative portfolio return: 2.41936796875\n",
      "Maximum DrawDown: -0.3481484027424059\n",
      "Sharpe ratio: 0.7813087620239352\n",
      "=================================\n"
     ]
    },
    {
     "name": "stderr",
     "output_type": "stream",
     "text": [
      " 11%|█         | 11/100 [08:10<1:05:48, 44.36s/it]"
     ]
    },
    {
     "name": "stdout",
     "output_type": "stream",
     "text": [
      "=================================\n",
      "Initial portfolio value: 100000\n",
      "Final portfolio value: 242194.46875\n",
      "Final accumulative portfolio return: 2.4219446875\n",
      "Maximum DrawDown: -0.3485446285532966\n",
      "Sharpe ratio: 0.7813310096545518\n",
      "=================================\n",
      "=================================\n",
      "Initial portfolio value: 100000\n",
      "Final portfolio value: 129665.203125\n",
      "Final accumulative portfolio return: 1.29665203125\n",
      "Maximum DrawDown: -0.15730985268429554\n",
      "Sharpe ratio: 0.889606501189901\n",
      "=================================\n"
     ]
    },
    {
     "name": "stderr",
     "output_type": "stream",
     "text": [
      " 12%|█▏        | 12/100 [09:04<1:09:36, 47.46s/it]"
     ]
    },
    {
     "name": "stdout",
     "output_type": "stream",
     "text": [
      "Validation performance at episode 12: -2.4158164224820453\n",
      "No improvement for 3 validation(s).\n",
      "=================================\n",
      "Initial portfolio value: 100000\n",
      "Final portfolio value: 242418.0625\n",
      "Final accumulative portfolio return: 2.424180625\n",
      "Maximum DrawDown: -0.34888295490915056\n",
      "Sharpe ratio: 0.7813590412948045\n",
      "=================================\n"
     ]
    },
    {
     "name": "stderr",
     "output_type": "stream",
     "text": [
      " 13%|█▎        | 13/100 [09:48<1:06:58, 46.19s/it]"
     ]
    },
    {
     "name": "stdout",
     "output_type": "stream",
     "text": [
      "=================================\n",
      "Initial portfolio value: 100000\n",
      "Final portfolio value: 242601.09375\n",
      "Final accumulative portfolio return: 2.4260109375\n",
      "Maximum DrawDown: -0.34917998817115026\n",
      "Sharpe ratio: 0.7813481098089804\n",
      "=================================\n"
     ]
    },
    {
     "name": "stderr",
     "output_type": "stream",
     "text": [
      " 14%|█▍        | 14/100 [10:29<1:03:58, 44.64s/it]"
     ]
    },
    {
     "name": "stdout",
     "output_type": "stream",
     "text": [
      "=================================\n",
      "Initial portfolio value: 100000\n",
      "Final portfolio value: 242766.9375\n",
      "Final accumulative portfolio return: 2.427669375\n",
      "Maximum DrawDown: -0.34944042413950027\n",
      "Sharpe ratio: 0.7813571934098271\n",
      "=================================\n",
      "=================================\n",
      "Initial portfolio value: 100000\n",
      "Final portfolio value: 129754.1875\n",
      "Final accumulative portfolio return: 1.297541875\n",
      "Maximum DrawDown: -0.15775459866437214\n",
      "Sharpe ratio: 0.8896457707208719\n",
      "=================================\n"
     ]
    },
    {
     "name": "stderr",
     "output_type": "stream",
     "text": [
      " 15%|█▌        | 15/100 [11:22<1:06:49, 47.17s/it]"
     ]
    },
    {
     "name": "stdout",
     "output_type": "stream",
     "text": [
      "Validation performance at episode 15: -2.4154569966966637\n",
      "No improvement for 4 validation(s).\n",
      "=================================\n",
      "Initial portfolio value: 100000\n",
      "Final portfolio value: 242909.28125\n",
      "Final accumulative portfolio return: 2.4290928125\n",
      "Maximum DrawDown: -0.3496683939525025\n",
      "Sharpe ratio: 0.7813523339879062\n",
      "=================================\n"
     ]
    },
    {
     "name": "stderr",
     "output_type": "stream",
     "text": [
      " 16%|█▌        | 16/100 [12:03<1:03:29, 45.36s/it]"
     ]
    },
    {
     "name": "stdout",
     "output_type": "stream",
     "text": [
      "=================================\n",
      "Initial portfolio value: 100000\n",
      "Final portfolio value: 243037.796875\n",
      "Final accumulative portfolio return: 2.43037796875\n",
      "Maximum DrawDown: -0.34986963459260667\n",
      "Sharpe ratio: 0.7813566454002258\n",
      "=================================\n"
     ]
    },
    {
     "name": "stderr",
     "output_type": "stream",
     "text": [
      " 17%|█▋        | 17/100 [12:44<1:01:00, 44.11s/it]"
     ]
    },
    {
     "name": "stdout",
     "output_type": "stream",
     "text": [
      "=================================\n",
      "Initial portfolio value: 100000\n",
      "Final portfolio value: 243159.703125\n",
      "Final accumulative portfolio return: 2.43159703125\n",
      "Maximum DrawDown: -0.3500487756057914\n",
      "Sharpe ratio: 0.7813816227977272\n",
      "=================================\n",
      "=================================\n",
      "Initial portfolio value: 100000\n",
      "Final portfolio value: 129818.34375\n",
      "Final accumulative portfolio return: 1.2981834375\n",
      "Maximum DrawDown: -0.1580536741408053\n",
      "Sharpe ratio: 0.8897523441590918\n",
      "=================================\n"
     ]
    },
    {
     "name": "stderr",
     "output_type": "stream",
     "text": [
      " 18%|█▊        | 18/100 [13:38<1:04:07, 46.92s/it]"
     ]
    },
    {
     "name": "stdout",
     "output_type": "stream",
     "text": [
      "Validation performance at episode 18: -2.415170108028666\n",
      "No improvement for 5 validation(s).\n",
      "=================================\n",
      "Initial portfolio value: 100000\n",
      "Final portfolio value: 243258.546875\n",
      "Final accumulative portfolio return: 2.43258546875\n",
      "Maximum DrawDown: -0.3502094741397289\n",
      "Sharpe ratio: 0.7813776843562509\n",
      "=================================\n"
     ]
    },
    {
     "name": "stderr",
     "output_type": "stream",
     "text": [
      " 19%|█▉        | 19/100 [14:19<1:01:05, 45.26s/it]"
     ]
    },
    {
     "name": "stdout",
     "output_type": "stream",
     "text": [
      "=================================\n",
      "Initial portfolio value: 100000\n",
      "Final portfolio value: 243357.078125\n",
      "Final accumulative portfolio return: 2.43357078125\n",
      "Maximum DrawDown: -0.3503524966087914\n",
      "Sharpe ratio: 0.7814040103271283\n",
      "=================================\n"
     ]
    },
    {
     "name": "stderr",
     "output_type": "stream",
     "text": [
      " 20%|██        | 20/100 [15:00<58:47, 44.10s/it]  "
     ]
    },
    {
     "name": "stdout",
     "output_type": "stream",
     "text": [
      "=================================\n",
      "Initial portfolio value: 100000\n",
      "Final portfolio value: 243440.6875\n",
      "Final accumulative portfolio return: 2.434406875\n",
      "Maximum DrawDown: -0.35048246998196353\n",
      "Sharpe ratio: 0.7814086870726632\n",
      "=================================\n",
      "=================================\n",
      "Initial portfolio value: 100000\n",
      "Final portfolio value: 129857.6796875\n",
      "Final accumulative portfolio return: 1.298576796875\n",
      "Maximum DrawDown: -0.15827847898713177\n",
      "Sharpe ratio: 0.8896702566602795\n",
      "=================================\n"
     ]
    },
    {
     "name": "stderr",
     "output_type": "stream",
     "text": [
      " 21%|██        | 21/100 [15:53<1:01:36, 46.79s/it]"
     ]
    },
    {
     "name": "stdout",
     "output_type": "stream",
     "text": [
      "Validation performance at episode 21: -2.4150333997548623\n",
      "No improvement for 6 validation(s).\n",
      "=================================\n",
      "Initial portfolio value: 100000\n",
      "Final portfolio value: 243513.109375\n",
      "Final accumulative portfolio return: 2.43513109375\n",
      "Maximum DrawDown: -0.35059922761537143\n",
      "Sharpe ratio: 0.7814033318203907\n",
      "=================================\n"
     ]
    },
    {
     "name": "stderr",
     "output_type": "stream",
     "text": [
      " 22%|██▏       | 22/100 [16:35<58:41, 45.15s/it]  "
     ]
    },
    {
     "name": "stdout",
     "output_type": "stream",
     "text": [
      "=================================\n",
      "Initial portfolio value: 100000\n",
      "Final portfolio value: 243585.859375\n",
      "Final accumulative portfolio return: 2.43585859375\n",
      "Maximum DrawDown: -0.3507074717909652\n",
      "Sharpe ratio: 0.7814201287757806\n",
      "=================================\n"
     ]
    },
    {
     "name": "stderr",
     "output_type": "stream",
     "text": [
      " 23%|██▎       | 23/100 [17:16<56:27, 44.00s/it]"
     ]
    },
    {
     "name": "stdout",
     "output_type": "stream",
     "text": [
      "=================================\n",
      "Initial portfolio value: 100000\n",
      "Final portfolio value: 243651.015625\n",
      "Final accumulative portfolio return: 2.43651015625\n",
      "Maximum DrawDown: -0.3508052337289542\n",
      "Sharpe ratio: 0.7814345470324395\n",
      "=================================\n",
      "=================================\n",
      "Initial portfolio value: 100000\n",
      "Final portfolio value: 129890.765625\n",
      "Final accumulative portfolio return: 1.29890765625\n",
      "Maximum DrawDown: -0.15843943499986324\n",
      "Sharpe ratio: 0.8897036261172558\n",
      "=================================\n"
     ]
    },
    {
     "name": "stderr",
     "output_type": "stream",
     "text": [
      " 24%|██▍       | 24/100 [18:09<59:18, 46.83s/it]"
     ]
    },
    {
     "name": "stdout",
     "output_type": "stream",
     "text": [
      "Validation performance at episode 24: -2.41489384870798\n",
      "No improvement for 7 validation(s).\n",
      "=================================\n",
      "Initial portfolio value: 100000\n",
      "Final portfolio value: 243702.515625\n",
      "Final accumulative portfolio return: 2.43702515625\n",
      "Maximum DrawDown: -0.3508963435460495\n",
      "Sharpe ratio: 0.7814207686088669\n",
      "=================================\n"
     ]
    },
    {
     "name": "stderr",
     "output_type": "stream",
     "text": [
      " 25%|██▌       | 25/100 [18:51<56:42, 45.36s/it]"
     ]
    },
    {
     "name": "stdout",
     "output_type": "stream",
     "text": [
      "=================================\n",
      "Initial portfolio value: 100000\n",
      "Final portfolio value: 243758.0625\n",
      "Final accumulative portfolio return: 2.437580625\n",
      "Maximum DrawDown: -0.35097856196976496\n",
      "Sharpe ratio: 0.7814336075109568\n",
      "=================================\n"
     ]
    },
    {
     "name": "stderr",
     "output_type": "stream",
     "text": [
      " 26%|██▌       | 26/100 [19:33<54:33, 44.24s/it]"
     ]
    },
    {
     "name": "stdout",
     "output_type": "stream",
     "text": [
      "=================================\n",
      "Initial portfolio value: 100000\n",
      "Final portfolio value: 243806.28125\n",
      "Final accumulative portfolio return: 2.4380628125\n",
      "Maximum DrawDown: -0.35105098677289104\n",
      "Sharpe ratio: 0.7814352350231907\n",
      "=================================\n",
      "=================================\n",
      "Initial portfolio value: 100000\n",
      "Final portfolio value: 129914.0390625\n",
      "Final accumulative portfolio return: 1.299140390625\n",
      "Maximum DrawDown: -0.15856638552118385\n",
      "Sharpe ratio: 0.8896795096063042\n",
      "=================================\n"
     ]
    },
    {
     "name": "stderr",
     "output_type": "stream",
     "text": [
      " 27%|██▋       | 27/100 [20:27<57:17, 47.09s/it]"
     ]
    },
    {
     "name": "stdout",
     "output_type": "stream",
     "text": [
      "Validation performance at episode 27: -2.414813412768761\n",
      "No improvement for 8 validation(s).\n",
      "=================================\n",
      "Initial portfolio value: 100000\n",
      "Final portfolio value: 243838.078125\n",
      "Final accumulative portfolio return: 2.43838078125\n",
      "Maximum DrawDown: -0.35112114741325906\n",
      "Sharpe ratio: 0.7813988643746963\n",
      "=================================\n"
     ]
    },
    {
     "name": "stderr",
     "output_type": "stream",
     "text": [
      " 28%|██▊       | 28/100 [21:09<54:46, 45.65s/it]"
     ]
    },
    {
     "name": "stdout",
     "output_type": "stream",
     "text": [
      "=================================\n",
      "Initial portfolio value: 100000\n",
      "Final portfolio value: 243892.328125\n",
      "Final accumulative portfolio return: 2.43892328125\n",
      "Maximum DrawDown: -0.3511868756890202\n",
      "Sharpe ratio: 0.7814417665894654\n",
      "=================================\n"
     ]
    },
    {
     "name": "stderr",
     "output_type": "stream",
     "text": [
      " 29%|██▉       | 29/100 [21:51<52:37, 44.47s/it]"
     ]
    },
    {
     "name": "stdout",
     "output_type": "stream",
     "text": [
      "=================================\n",
      "Initial portfolio value: 100000\n",
      "Final portfolio value: 243920.125\n",
      "Final accumulative portfolio return: 2.43920125\n",
      "Maximum DrawDown: -0.3512479489188206\n",
      "Sharpe ratio: 0.7814106392972876\n",
      "=================================\n",
      "=================================\n",
      "Initial portfolio value: 100000\n",
      "Final portfolio value: 129936.578125\n",
      "Final accumulative portfolio return: 1.29936578125\n",
      "Maximum DrawDown: -0.1586592609363231\n",
      "Sharpe ratio: 0.889759587927427\n",
      "=================================\n"
     ]
    },
    {
     "name": "stderr",
     "output_type": "stream",
     "text": [
      " 30%|███       | 30/100 [22:44<54:50, 47.01s/it]"
     ]
    },
    {
     "name": "stdout",
     "output_type": "stream",
     "text": [
      "Validation performance at episode 30: -2.414704707632683\n",
      "No improvement for 9 validation(s).\n",
      "=================================\n",
      "Initial portfolio value: 100000\n",
      "Final portfolio value: 243955.390625\n",
      "Final accumulative portfolio return: 2.43955390625\n",
      "Maximum DrawDown: -0.35130427772129835\n",
      "Sharpe ratio: 0.7814129013861997\n",
      "=================================\n"
     ]
    },
    {
     "name": "stderr",
     "output_type": "stream",
     "text": [
      " 31%|███       | 31/100 [23:25<52:12, 45.41s/it]"
     ]
    },
    {
     "name": "stdout",
     "output_type": "stream",
     "text": [
      "=================================\n",
      "Initial portfolio value: 100000\n",
      "Final portfolio value: 243994.828125\n",
      "Final accumulative portfolio return: 2.43994828125\n",
      "Maximum DrawDown: -0.35135419262098033\n",
      "Sharpe ratio: 0.7814330609617137\n",
      "=================================\n"
     ]
    },
    {
     "name": "stderr",
     "output_type": "stream",
     "text": [
      " 32%|███▏      | 32/100 [24:09<50:44, 44.77s/it]"
     ]
    },
    {
     "name": "stdout",
     "output_type": "stream",
     "text": [
      "=================================\n",
      "Initial portfolio value: 100000\n",
      "Final portfolio value: 244022.59375\n",
      "Final accumulative portfolio return: 2.4402259375\n",
      "Maximum DrawDown: -0.3514030207346279\n",
      "Sharpe ratio: 0.7814238861956808\n",
      "=================================\n",
      "=================================\n",
      "Initial portfolio value: 100000\n",
      "Final portfolio value: 129948.7265625\n",
      "Final accumulative portfolio return: 1.299487265625\n",
      "Maximum DrawDown: -0.15874434929618875\n",
      "Sharpe ratio: 0.8896791350405471\n",
      "=================================\n"
     ]
    },
    {
     "name": "stderr",
     "output_type": "stream",
     "text": [
      " 32%|███▏      | 32/100 [25:03<53:14, 46.98s/it]"
     ]
    },
    {
     "name": "stdout",
     "output_type": "stream",
     "text": [
      "Validation performance at episode 33: -2.4146829252088837\n",
      "No improvement for 10 validation(s).\n",
      "Early stopping due to no improvement on validation set.\n",
      "Loaded best model based on validation performance.\n"
     ]
    },
    {
     "name": "stderr",
     "output_type": "stream",
     "text": [
      "\n",
      "C:\\Users\\xutia\\AppData\\Local\\Temp\\ipykernel_26128\\4180739837.py:59: FutureWarning: You are using `torch.load` with `weights_only=False` (the current default value), which uses the default pickle module implicitly. It is possible to construct malicious pickle data which will execute arbitrary code during unpickling (See https://github.com/pytorch/pytorch/blob/main/SECURITY.md#untrusted-models for more details). In a future release, the default value for `weights_only` will be flipped to `True`. This limits the functions that could be executed during unpickling. Arbitrary objects will no longer be allowed to be loaded via this mode unless they are explicitly allowlisted by the user via `torch.serialization.add_safe_globals`. We recommend you start setting `weights_only=True` for any use case where you don't have full control of the loaded file. Please open an issue on GitHub for any issues related to this experimental feature.\n",
      "  EIIE_policy.load_state_dict(torch.load(model_filename))\n"
     ]
    },
    {
     "name": "stdout",
     "output_type": "stream",
     "text": [
      "=================================\n",
      "Initial portfolio value: 100000\n",
      "Final portfolio value: 238835.5\n",
      "Final accumulative portfolio return: 2.388355\n",
      "Maximum DrawDown: -0.34492782686291656\n",
      "Sharpe ratio: 0.77938827985673\n",
      "=================================\n",
      "Metrics - train_final_value: 238835.5, train_drawdown: -0.34492782686291656, train_sharpe: 0.7798396152731131, train_cumulative: 2.388355\n",
      "=================================\n",
      "Initial portfolio value: 100000\n",
      "Final portfolio value: 128962.890625\n",
      "Final accumulative portfolio return: 1.28962890625\n",
      "Maximum DrawDown: -0.1548484057834274\n",
      "Sharpe ratio: 0.8853945801473965\n",
      "=================================\n",
      "Metrics - test_final_value: 128962.890625, test_drawdown: -0.15484840578342737, test_sharpe: 0.8872687557569191, test_cumulative: 1.28962890625\n",
      "Training model with TIME_WINDOW=30, K_SIZE=3, CONV_MID=5, CONV_FINAL=20, LEARNING_RATE=0.01\n"
     ]
    },
    {
     "name": "stderr",
     "output_type": "stream",
     "text": [
      "  0%|          | 0/100 [00:00<?, ?it/s]"
     ]
    },
    {
     "name": "stdout",
     "output_type": "stream",
     "text": [
      "=================================\n",
      "Initial portfolio value: 100000\n",
      "Final portfolio value: 240575.09375\n",
      "Final accumulative portfolio return: 2.4057509375\n",
      "Maximum DrawDown: -0.324609657497412\n",
      "Sharpe ratio: 0.7964056680802157\n",
      "=================================\n"
     ]
    },
    {
     "name": "stderr",
     "output_type": "stream",
     "text": [
      "  1%|          | 1/100 [00:41<1:08:53, 41.75s/it]"
     ]
    },
    {
     "name": "stdout",
     "output_type": "stream",
     "text": [
      "=================================\n",
      "Initial portfolio value: 100000\n",
      "Final portfolio value: 341300.1875\n",
      "Final accumulative portfolio return: 3.413001875\n",
      "Maximum DrawDown: -0.30866233738882554\n",
      "Sharpe ratio: 0.9877040943645331\n",
      "=================================\n"
     ]
    },
    {
     "name": "stderr",
     "output_type": "stream",
     "text": [
      "  2%|▏         | 2/100 [01:22<1:07:23, 41.26s/it]"
     ]
    },
    {
     "name": "stdout",
     "output_type": "stream",
     "text": [
      "=================================\n",
      "Initial portfolio value: 100000\n",
      "Final portfolio value: 592007.75\n",
      "Final accumulative portfolio return: 5.9200775\n",
      "Maximum DrawDown: -0.28342930006079925\n",
      "Sharpe ratio: 1.2169614077718112\n",
      "=================================\n",
      "=================================\n",
      "Initial portfolio value: 100000\n",
      "Final portfolio value: 159265.328125\n",
      "Final accumulative portfolio return: 1.59265328125\n",
      "Maximum DrawDown: -0.23448138695306842\n",
      "Sharpe ratio: 1.1579794805270025\n",
      "=================================\n"
     ]
    },
    {
     "name": "stderr",
     "output_type": "stream",
     "text": [
      "  3%|▎         | 3/100 [02:16<1:15:41, 46.82s/it]"
     ]
    },
    {
     "name": "stdout",
     "output_type": "stream",
     "text": [
      "Validation performance at episode 3: -1.713762364819993\n",
      "New best validation performance: -1.713762364819993\n",
      "=================================\n",
      "Initial portfolio value: 100000\n",
      "Final portfolio value: 726180.875\n",
      "Final accumulative portfolio return: 7.26180875\n",
      "Maximum DrawDown: -0.30313392450406973\n",
      "Sharpe ratio: 1.1984440288204303\n",
      "=================================\n"
     ]
    },
    {
     "name": "stderr",
     "output_type": "stream",
     "text": [
      "  4%|▍         | 4/100 [02:58<1:12:15, 45.16s/it]"
     ]
    },
    {
     "name": "stdout",
     "output_type": "stream",
     "text": [
      "=================================\n",
      "Initial portfolio value: 100000\n",
      "Final portfolio value: 823327.8125\n",
      "Final accumulative portfolio return: 8.233278125\n",
      "Maximum DrawDown: -0.28049235248020754\n",
      "Sharpe ratio: 1.2824548679947803\n",
      "=================================\n"
     ]
    },
    {
     "name": "stderr",
     "output_type": "stream",
     "text": [
      "  5%|▌         | 5/100 [03:40<1:09:29, 43.88s/it]"
     ]
    },
    {
     "name": "stdout",
     "output_type": "stream",
     "text": [
      "=================================\n",
      "Initial portfolio value: 100000\n",
      "Final portfolio value: 1148901.0\n",
      "Final accumulative portfolio return: 11.48901\n",
      "Maximum DrawDown: -0.28052459044142997\n",
      "Sharpe ratio: 1.4969792994378919\n",
      "=================================\n",
      "=================================\n",
      "Initial portfolio value: 100000\n",
      "Final portfolio value: 149919.078125\n",
      "Final accumulative portfolio return: 1.49919078125\n",
      "Maximum DrawDown: -0.2265734808198413\n",
      "Sharpe ratio: 0.9752139254527205\n",
      "=================================\n"
     ]
    },
    {
     "name": "stderr",
     "output_type": "stream",
     "text": [
      "  6%|▌         | 6/100 [04:31<1:12:24, 46.22s/it]"
     ]
    },
    {
     "name": "stdout",
     "output_type": "stream",
     "text": [
      "Validation performance at episode 6: -2.6624023181645704\n",
      "No improvement for 1 validation(s).\n",
      "=================================\n",
      "Initial portfolio value: 100000\n",
      "Final portfolio value: 1128357.25\n",
      "Final accumulative portfolio return: 11.2835725\n",
      "Maximum DrawDown: -0.3356993943935015\n",
      "Sharpe ratio: 1.4369314365086387\n",
      "=================================\n"
     ]
    },
    {
     "name": "stderr",
     "output_type": "stream",
     "text": [
      "  7%|▋         | 7/100 [05:10<1:08:10, 43.98s/it]"
     ]
    },
    {
     "name": "stdout",
     "output_type": "stream",
     "text": [
      "=================================\n",
      "Initial portfolio value: 100000\n",
      "Final portfolio value: 937336.125\n",
      "Final accumulative portfolio return: 9.37336125\n",
      "Maximum DrawDown: -0.2803931547444375\n",
      "Sharpe ratio: 1.3809002712712597\n",
      "=================================\n"
     ]
    },
    {
     "name": "stderr",
     "output_type": "stream",
     "text": [
      "  8%|▊         | 8/100 [05:51<1:05:54, 42.98s/it]"
     ]
    },
    {
     "name": "stdout",
     "output_type": "stream",
     "text": [
      "=================================\n",
      "Initial portfolio value: 100000\n",
      "Final portfolio value: 1103412.125\n",
      "Final accumulative portfolio return: 11.03412125\n",
      "Maximum DrawDown: -0.2802817220223387\n",
      "Sharpe ratio: 1.45831287738407\n",
      "=================================\n",
      "=================================\n",
      "Initial portfolio value: 100000\n",
      "Final portfolio value: 204024.265625\n",
      "Final accumulative portfolio return: 2.04024265625\n",
      "Maximum DrawDown: -0.23802500053139175\n",
      "Sharpe ratio: 1.52096503333954\n",
      "=================================\n"
     ]
    },
    {
     "name": "stderr",
     "output_type": "stream",
     "text": [
      "  9%|▉         | 9/100 [06:44<1:10:10, 46.27s/it]"
     ]
    },
    {
     "name": "stdout",
     "output_type": "stream",
     "text": [
      "Validation performance at episode 9: -1.6347836965981395\n",
      "New best validation performance: -1.6347836965981395\n",
      "=================================\n",
      "Initial portfolio value: 100000\n",
      "Final portfolio value: 1174521.25\n",
      "Final accumulative portfolio return: 11.7452125\n",
      "Maximum DrawDown: -0.2803929857871459\n",
      "Sharpe ratio: 1.5061710106193926\n",
      "=================================\n"
     ]
    },
    {
     "name": "stderr",
     "output_type": "stream",
     "text": [
      " 10%|█         | 10/100 [07:27<1:07:39, 45.10s/it]"
     ]
    },
    {
     "name": "stdout",
     "output_type": "stream",
     "text": [
      "=================================\n",
      "Initial portfolio value: 100000\n",
      "Final portfolio value: 1147945.5\n",
      "Final accumulative portfolio return: 11.479455\n",
      "Maximum DrawDown: -0.3223784270700105\n",
      "Sharpe ratio: 1.4523890889286888\n",
      "=================================\n"
     ]
    },
    {
     "name": "stderr",
     "output_type": "stream",
     "text": [
      " 11%|█         | 11/100 [08:08<1:05:12, 43.96s/it]"
     ]
    },
    {
     "name": "stdout",
     "output_type": "stream",
     "text": [
      "=================================\n",
      "Initial portfolio value: 100000\n",
      "Final portfolio value: 1277911.0\n",
      "Final accumulative portfolio return: 12.77911\n",
      "Maximum DrawDown: -0.2803930340723505\n",
      "Sharpe ratio: 1.541107980592342\n",
      "=================================\n",
      "=================================\n",
      "Initial portfolio value: 100000\n",
      "Final portfolio value: 129302.6640625\n",
      "Final accumulative portfolio return: 1.293026640625\n",
      "Maximum DrawDown: -0.2898498603173866\n",
      "Sharpe ratio: 0.6465632813420951\n",
      "=================================\n"
     ]
    },
    {
     "name": "stderr",
     "output_type": "stream",
     "text": [
      " 12%|█▏        | 12/100 [09:02<1:08:50, 46.94s/it]"
     ]
    },
    {
     "name": "stdout",
     "output_type": "stream",
     "text": [
      "Validation performance at episode 12: -3.069106761248666\n",
      "No improvement for 1 validation(s).\n",
      "=================================\n",
      "Initial portfolio value: 100000\n",
      "Final portfolio value: 1425614.75\n",
      "Final accumulative portfolio return: 14.2561475\n",
      "Maximum DrawDown: -0.2803928299693138\n",
      "Sharpe ratio: 1.5737601996528994\n",
      "=================================\n"
     ]
    },
    {
     "name": "stderr",
     "output_type": "stream",
     "text": [
      " 13%|█▎        | 13/100 [09:47<1:07:24, 46.49s/it]"
     ]
    },
    {
     "name": "stdout",
     "output_type": "stream",
     "text": [
      "=================================\n",
      "Initial portfolio value: 100000\n",
      "Final portfolio value: 1480605.375\n",
      "Final accumulative portfolio return: 14.80605375\n",
      "Maximum DrawDown: -0.2803892746027009\n",
      "Sharpe ratio: 1.5915103943459934\n",
      "=================================\n"
     ]
    },
    {
     "name": "stderr",
     "output_type": "stream",
     "text": [
      " 14%|█▍        | 14/100 [10:29<1:04:42, 45.14s/it]"
     ]
    },
    {
     "name": "stdout",
     "output_type": "stream",
     "text": [
      "=================================\n",
      "Initial portfolio value: 100000\n",
      "Final portfolio value: 1316923.25\n",
      "Final accumulative portfolio return: 13.1692325\n",
      "Maximum DrawDown: -0.2803928696683279\n",
      "Sharpe ratio: 1.561009337937622\n",
      "=================================\n",
      "=================================\n",
      "Initial portfolio value: 100000\n",
      "Final portfolio value: 145463.3125\n",
      "Final accumulative portfolio return: 1.454633125\n",
      "Maximum DrawDown: -0.263233788693474\n",
      "Sharpe ratio: 0.8769836690676066\n",
      "=================================\n"
     ]
    },
    {
     "name": "stderr",
     "output_type": "stream",
     "text": [
      " 15%|█▌        | 15/100 [11:25<1:08:19, 48.23s/it]"
     ]
    },
    {
     "name": "stdout",
     "output_type": "stream",
     "text": [
      "Validation performance at episode 15: -2.620108463633215\n",
      "No improvement for 2 validation(s).\n",
      "=================================\n",
      "Initial portfolio value: 100000\n",
      "Final portfolio value: 1400714.125\n",
      "Final accumulative portfolio return: 14.00714125\n",
      "Maximum DrawDown: -0.2803933858028871\n",
      "Sharpe ratio: 1.5548723319190807\n",
      "=================================\n"
     ]
    },
    {
     "name": "stderr",
     "output_type": "stream",
     "text": [
      " 16%|█▌        | 16/100 [12:07<1:04:49, 46.30s/it]"
     ]
    },
    {
     "name": "stdout",
     "output_type": "stream",
     "text": [
      "=================================\n",
      "Initial portfolio value: 100000\n",
      "Final portfolio value: 1597289.0\n",
      "Final accumulative portfolio return: 15.97289\n",
      "Maximum DrawDown: -0.2803932653506701\n",
      "Sharpe ratio: 1.627669417261199\n",
      "=================================\n"
     ]
    },
    {
     "name": "stderr",
     "output_type": "stream",
     "text": [
      " 17%|█▋        | 17/100 [12:49<1:02:24, 45.12s/it]"
     ]
    },
    {
     "name": "stdout",
     "output_type": "stream",
     "text": [
      "=================================\n",
      "Initial portfolio value: 100000\n",
      "Final portfolio value: 1433303.25\n",
      "Final accumulative portfolio return: 14.3330325\n",
      "Maximum DrawDown: -0.2804318422211768\n",
      "Sharpe ratio: 1.5534370241478166\n",
      "=================================\n",
      "=================================\n",
      "Initial portfolio value: 100000\n",
      "Final portfolio value: 195271.71875\n",
      "Final accumulative portfolio return: 1.9527171875\n",
      "Maximum DrawDown: -0.2011302863299257\n",
      "Sharpe ratio: 1.3971436621779423\n",
      "=================================\n"
     ]
    },
    {
     "name": "stderr",
     "output_type": "stream",
     "text": [
      " 18%|█▊        | 18/100 [13:42<1:04:58, 47.54s/it]"
     ]
    },
    {
     "name": "stdout",
     "output_type": "stream",
     "text": [
      "Validation performance at episode 18: -1.5905461843342106\n",
      "New best validation performance: -1.5905461843342106\n",
      "=================================\n",
      "Initial portfolio value: 100000\n",
      "Final portfolio value: 1547178.125\n",
      "Final accumulative portfolio return: 15.47178125\n",
      "Maximum DrawDown: -0.28039315607340665\n",
      "Sharpe ratio: 1.6061411564005161\n",
      "=================================\n"
     ]
    },
    {
     "name": "stderr",
     "output_type": "stream",
     "text": [
      " 19%|█▉        | 19/100 [14:25<1:02:23, 46.22s/it]"
     ]
    },
    {
     "name": "stdout",
     "output_type": "stream",
     "text": [
      "=================================\n",
      "Initial portfolio value: 100000\n",
      "Final portfolio value: 1368739.25\n",
      "Final accumulative portfolio return: 13.6873925\n",
      "Maximum DrawDown: -0.2872155762615938\n",
      "Sharpe ratio: 1.519542296175071\n",
      "=================================\n"
     ]
    },
    {
     "name": "stderr",
     "output_type": "stream",
     "text": [
      " 20%|██        | 20/100 [15:08<1:00:14, 45.18s/it]"
     ]
    },
    {
     "name": "stdout",
     "output_type": "stream",
     "text": [
      "=================================\n",
      "Initial portfolio value: 100000\n",
      "Final portfolio value: 1789350.5\n",
      "Final accumulative portfolio return: 17.893505\n",
      "Maximum DrawDown: -0.28039435100595256\n",
      "Sharpe ratio: 1.6714465938197183\n",
      "=================================\n",
      "=================================\n",
      "Initial portfolio value: 100000\n",
      "Final portfolio value: 172632.875\n",
      "Final accumulative portfolio return: 1.72632875\n",
      "Maximum DrawDown: -0.2205329975586532\n",
      "Sharpe ratio: 1.1884346632389116\n",
      "=================================\n"
     ]
    },
    {
     "name": "stderr",
     "output_type": "stream",
     "text": [
      " 21%|██        | 21/100 [16:02<1:02:48, 47.71s/it]"
     ]
    },
    {
     "name": "stdout",
     "output_type": "stream",
     "text": [
      "Validation performance at episode 21: -2.0529591947997607\n",
      "No improvement for 1 validation(s).\n",
      "=================================\n",
      "Initial portfolio value: 100000\n",
      "Final portfolio value: 1808657.5\n",
      "Final accumulative portfolio return: 18.086575\n",
      "Maximum DrawDown: -0.28039304858691383\n",
      "Sharpe ratio: 1.6952218972984479\n",
      "=================================\n"
     ]
    },
    {
     "name": "stderr",
     "output_type": "stream",
     "text": [
      " 22%|██▏       | 22/100 [16:44<59:44, 45.96s/it]  "
     ]
    },
    {
     "name": "stdout",
     "output_type": "stream",
     "text": [
      "=================================\n",
      "Initial portfolio value: 100000\n",
      "Final portfolio value: 1240184.875\n",
      "Final accumulative portfolio return: 12.40184875\n",
      "Maximum DrawDown: -0.28039298443327765\n",
      "Sharpe ratio: 1.5139520370451638\n",
      "=================================\n"
     ]
    },
    {
     "name": "stderr",
     "output_type": "stream",
     "text": [
      " 23%|██▎       | 23/100 [17:25<57:12, 44.58s/it]"
     ]
    },
    {
     "name": "stdout",
     "output_type": "stream",
     "text": [
      "=================================\n",
      "Initial portfolio value: 100000\n",
      "Final portfolio value: 1054352.125\n",
      "Final accumulative portfolio return: 10.54352125\n",
      "Maximum DrawDown: -0.2804635143063795\n",
      "Sharpe ratio: 1.443259577013431\n",
      "=================================\n",
      "=================================\n",
      "Initial portfolio value: 100000\n",
      "Final portfolio value: 109151.703125\n",
      "Final accumulative portfolio return: 1.09151703125\n",
      "Maximum DrawDown: -0.31755797365740823\n",
      "Sharpe ratio: 0.30643057890763714\n",
      "=================================\n"
     ]
    },
    {
     "name": "stderr",
     "output_type": "stream",
     "text": [
      " 24%|██▍       | 24/100 [18:19<59:56, 47.32s/it]"
     ]
    },
    {
     "name": "stdout",
     "output_type": "stream",
     "text": [
      "Validation performance at episode 24: -2.4858371947314586\n",
      "No improvement for 2 validation(s).\n",
      "=================================\n",
      "Initial portfolio value: 100000\n",
      "Final portfolio value: 1091518.25\n",
      "Final accumulative portfolio return: 10.9151825\n",
      "Maximum DrawDown: -0.26349780686437774\n",
      "Sharpe ratio: 1.4181577397932377\n",
      "=================================\n"
     ]
    },
    {
     "name": "stderr",
     "output_type": "stream",
     "text": [
      " 25%|██▌       | 25/100 [19:00<56:53, 45.51s/it]"
     ]
    },
    {
     "name": "stdout",
     "output_type": "stream",
     "text": [
      "=================================\n",
      "Initial portfolio value: 100000\n",
      "Final portfolio value: 1771796.375\n",
      "Final accumulative portfolio return: 17.71796375\n",
      "Maximum DrawDown: -0.260833855104054\n",
      "Sharpe ratio: 1.6739180814341292\n",
      "=================================\n"
     ]
    },
    {
     "name": "stderr",
     "output_type": "stream",
     "text": [
      " 26%|██▌       | 26/100 [19:41<54:38, 44.30s/it]"
     ]
    },
    {
     "name": "stdout",
     "output_type": "stream",
     "text": [
      "=================================\n",
      "Initial portfolio value: 100000\n",
      "Final portfolio value: 1605948.0\n",
      "Final accumulative portfolio return: 16.05948\n",
      "Maximum DrawDown: -0.2927980867522131\n",
      "Sharpe ratio: 1.6338582320614745\n",
      "=================================\n",
      "=================================\n",
      "Initial portfolio value: 100000\n",
      "Final portfolio value: 92038.984375\n",
      "Final accumulative portfolio return: 0.92038984375\n",
      "Maximum DrawDown: -0.41711582050580287\n",
      "Sharpe ratio: -0.0218269013308885\n",
      "=================================\n"
     ]
    },
    {
     "name": "stderr",
     "output_type": "stream",
     "text": [
      " 27%|██▋       | 27/100 [20:37<57:58, 47.65s/it]"
     ]
    },
    {
     "name": "stdout",
     "output_type": "stream",
     "text": [
      "Validation performance at episode 27: -2.10853638951116\n",
      "No improvement for 3 validation(s).\n",
      "=================================\n",
      "Initial portfolio value: 100000\n",
      "Final portfolio value: 1796309.0\n",
      "Final accumulative portfolio return: 17.96309\n",
      "Maximum DrawDown: -0.27649420397903646\n",
      "Sharpe ratio: 1.7135196771658092\n",
      "=================================\n"
     ]
    },
    {
     "name": "stderr",
     "output_type": "stream",
     "text": [
      " 28%|██▊       | 28/100 [21:18<54:57, 45.80s/it]"
     ]
    },
    {
     "name": "stdout",
     "output_type": "stream",
     "text": [
      "=================================\n",
      "Initial portfolio value: 100000\n",
      "Final portfolio value: 1770994.25\n",
      "Final accumulative portfolio return: 17.7099425\n",
      "Maximum DrawDown: -0.27936137555489615\n",
      "Sharpe ratio: 1.700704638644222\n",
      "=================================\n"
     ]
    },
    {
     "name": "stderr",
     "output_type": "stream",
     "text": [
      " 29%|██▉       | 29/100 [22:01<53:01, 44.81s/it]"
     ]
    },
    {
     "name": "stdout",
     "output_type": "stream",
     "text": [
      "=================================\n",
      "Initial portfolio value: 100000\n",
      "Final portfolio value: 2070827.125\n",
      "Final accumulative portfolio return: 20.70827125\n",
      "Maximum DrawDown: -0.26388170755951235\n",
      "Sharpe ratio: 1.7750085145126537\n",
      "=================================\n",
      "=================================\n",
      "Initial portfolio value: 100000\n",
      "Final portfolio value: 88626.8828125\n",
      "Final accumulative portfolio return: 0.886268828125\n",
      "Maximum DrawDown: -0.3911247970199868\n",
      "Sharpe ratio: -0.09352795481116755\n",
      "=================================\n"
     ]
    },
    {
     "name": "stderr",
     "output_type": "stream",
     "text": [
      " 30%|███       | 30/100 [22:55<55:42, 47.75s/it]"
     ]
    },
    {
     "name": "stdout",
     "output_type": "stream",
     "text": [
      "Validation performance at episode 30: -2.193592860194627\n",
      "No improvement for 4 validation(s).\n",
      "=================================\n",
      "Initial portfolio value: 100000\n",
      "Final portfolio value: 2035006.125\n",
      "Final accumulative portfolio return: 20.35006125\n",
      "Maximum DrawDown: -0.25982764869796005\n",
      "Sharpe ratio: 1.7484763532229564\n",
      "=================================\n"
     ]
    },
    {
     "name": "stderr",
     "output_type": "stream",
     "text": [
      " 31%|███       | 31/100 [23:37<52:40, 45.80s/it]"
     ]
    },
    {
     "name": "stdout",
     "output_type": "stream",
     "text": [
      "=================================\n",
      "Initial portfolio value: 100000\n",
      "Final portfolio value: 1669585.0\n",
      "Final accumulative portfolio return: 16.69585\n",
      "Maximum DrawDown: -0.26046815224349396\n",
      "Sharpe ratio: 1.6280810643259152\n",
      "=================================\n"
     ]
    },
    {
     "name": "stderr",
     "output_type": "stream",
     "text": [
      " 32%|███▏      | 32/100 [24:18<50:32, 44.59s/it]"
     ]
    },
    {
     "name": "stdout",
     "output_type": "stream",
     "text": [
      "=================================\n",
      "Initial portfolio value: 100000\n",
      "Final portfolio value: 1981551.375\n",
      "Final accumulative portfolio return: 19.81551375\n",
      "Maximum DrawDown: -0.2640917517197019\n",
      "Sharpe ratio: 1.7505782252270186\n",
      "=================================\n",
      "=================================\n",
      "Initial portfolio value: 100000\n",
      "Final portfolio value: 86165.6328125\n",
      "Final accumulative portfolio return: 0.861656328125\n",
      "Maximum DrawDown: -0.4042239758166878\n",
      "Sharpe ratio: -0.14677993798035313\n",
      "=================================\n"
     ]
    },
    {
     "name": "stderr",
     "output_type": "stream",
     "text": [
      " 33%|███▎      | 33/100 [25:13<53:03, 47.51s/it]"
     ]
    },
    {
     "name": "stdout",
     "output_type": "stream",
     "text": [
      "Validation performance at episode 33: -2.049933795180639\n",
      "No improvement for 5 validation(s).\n",
      "=================================\n",
      "Initial portfolio value: 100000\n",
      "Final portfolio value: 2004656.5\n",
      "Final accumulative portfolio return: 20.046565\n",
      "Maximum DrawDown: -0.26044819668168717\n",
      "Sharpe ratio: 1.755645478939693\n",
      "=================================\n"
     ]
    },
    {
     "name": "stderr",
     "output_type": "stream",
     "text": [
      " 34%|███▍      | 34/100 [25:54<50:16, 45.70s/it]"
     ]
    },
    {
     "name": "stdout",
     "output_type": "stream",
     "text": [
      "=================================\n",
      "Initial portfolio value: 100000\n",
      "Final portfolio value: 2073244.625\n",
      "Final accumulative portfolio return: 20.73244625\n",
      "Maximum DrawDown: -0.26017673453615575\n",
      "Sharpe ratio: 1.7531123279710208\n",
      "=================================\n"
     ]
    },
    {
     "name": "stderr",
     "output_type": "stream",
     "text": [
      " 35%|███▌      | 35/100 [26:36<48:22, 44.65s/it]"
     ]
    },
    {
     "name": "stdout",
     "output_type": "stream",
     "text": [
      "=================================\n",
      "Initial portfolio value: 100000\n",
      "Final portfolio value: 2222446.5\n",
      "Final accumulative portfolio return: 22.224465\n",
      "Maximum DrawDown: -0.26012927380782325\n",
      "Sharpe ratio: 1.8060504810253775\n",
      "=================================\n",
      "=================================\n",
      "Initial portfolio value: 100000\n",
      "Final portfolio value: 102278.5703125\n",
      "Final accumulative portfolio return: 1.022785703125\n",
      "Maximum DrawDown: -0.3712626989517709\n",
      "Sharpe ratio: 0.18155556545769322\n",
      "=================================\n"
     ]
    },
    {
     "name": "stderr",
     "output_type": "stream",
     "text": [
      " 36%|███▌      | 36/100 [27:31<50:52, 47.69s/it]"
     ]
    },
    {
     "name": "stdout",
     "output_type": "stream",
     "text": [
      "Validation performance at episode 36: -2.624895287059501\n",
      "No improvement for 6 validation(s).\n",
      "=================================\n",
      "Initial portfolio value: 100000\n",
      "Final portfolio value: 1706395.75\n",
      "Final accumulative portfolio return: 17.0639575\n",
      "Maximum DrawDown: -0.26191416127743694\n",
      "Sharpe ratio: 1.6427434726983712\n",
      "=================================\n"
     ]
    },
    {
     "name": "stderr",
     "output_type": "stream",
     "text": [
      " 37%|███▋      | 37/100 [28:13<48:13, 45.92s/it]"
     ]
    },
    {
     "name": "stdout",
     "output_type": "stream",
     "text": [
      "=================================\n",
      "Initial portfolio value: 100000\n",
      "Final portfolio value: 1868767.875\n",
      "Final accumulative portfolio return: 18.68767875\n",
      "Maximum DrawDown: -0.2605830602035536\n",
      "Sharpe ratio: 1.6947500475712596\n",
      "=================================\n"
     ]
    },
    {
     "name": "stderr",
     "output_type": "stream",
     "text": [
      " 38%|███▊      | 38/100 [28:55<46:18, 44.81s/it]"
     ]
    },
    {
     "name": "stdout",
     "output_type": "stream",
     "text": [
      "=================================\n",
      "Initial portfolio value: 100000\n",
      "Final portfolio value: 2268848.0\n",
      "Final accumulative portfolio return: 22.68848\n",
      "Maximum DrawDown: -0.25939937236689803\n",
      "Sharpe ratio: 1.8113305949915002\n",
      "=================================\n",
      "=================================\n",
      "Initial portfolio value: 100000\n",
      "Final portfolio value: 98899.9140625\n",
      "Final accumulative portfolio return: 0.988999140625\n",
      "Maximum DrawDown: -0.37974591710213257\n",
      "Sharpe ratio: 0.1156431514803055\n",
      "=================================\n"
     ]
    },
    {
     "name": "stderr",
     "output_type": "stream",
     "text": [
      " 39%|███▉      | 39/100 [29:47<47:47, 47.01s/it]"
     ]
    },
    {
     "name": "stdout",
     "output_type": "stream",
     "text": [
      "Validation performance at episode 39: -2.3517016165617335\n",
      "No improvement for 7 validation(s).\n",
      "=================================\n",
      "Initial portfolio value: 100000\n",
      "Final portfolio value: 2691856.0\n",
      "Final accumulative portfolio return: 26.91856\n",
      "Maximum DrawDown: -0.2598192858105588\n",
      "Sharpe ratio: 1.8909108501645262\n",
      "=================================\n"
     ]
    },
    {
     "name": "stderr",
     "output_type": "stream",
     "text": [
      " 40%|████      | 40/100 [30:27<44:45, 44.77s/it]"
     ]
    },
    {
     "name": "stdout",
     "output_type": "stream",
     "text": [
      "=================================\n",
      "Initial portfolio value: 100000\n",
      "Final portfolio value: 2733602.75\n",
      "Final accumulative portfolio return: 27.3360275\n",
      "Maximum DrawDown: -0.25958366368083585\n",
      "Sharpe ratio: 1.8963348717432338\n",
      "=================================\n"
     ]
    },
    {
     "name": "stderr",
     "output_type": "stream",
     "text": [
      " 41%|████      | 41/100 [31:07<42:33, 43.28s/it]"
     ]
    },
    {
     "name": "stdout",
     "output_type": "stream",
     "text": [
      "=================================\n",
      "Initial portfolio value: 100000\n",
      "Final portfolio value: 2852266.0\n",
      "Final accumulative portfolio return: 28.52266\n",
      "Maximum DrawDown: -0.2593545038745171\n",
      "Sharpe ratio: 1.9170073632068467\n",
      "=================================\n",
      "=================================\n",
      "Initial portfolio value: 100000\n",
      "Final portfolio value: 101333.265625\n",
      "Final accumulative portfolio return: 1.01333265625\n",
      "Maximum DrawDown: -0.37903678692020615\n",
      "Sharpe ratio: 0.1624262879591764\n",
      "=================================\n"
     ]
    },
    {
     "name": "stderr",
     "output_type": "stream",
     "text": [
      " 42%|████▏     | 42/100 [31:58<44:10, 45.70s/it]"
     ]
    },
    {
     "name": "stdout",
     "output_type": "stream",
     "text": [
      "Validation performance at episode 42: -2.349591061389121\n",
      "No improvement for 8 validation(s).\n",
      "=================================\n",
      "Initial portfolio value: 100000\n",
      "Final portfolio value: 3032299.75\n",
      "Final accumulative portfolio return: 30.3229975\n",
      "Maximum DrawDown: -0.25967622456518047\n",
      "Sharpe ratio: 1.9447595409352656\n",
      "=================================\n"
     ]
    },
    {
     "name": "stderr",
     "output_type": "stream",
     "text": [
      " 43%|████▎     | 43/100 [32:38<41:41, 43.89s/it]"
     ]
    },
    {
     "name": "stdout",
     "output_type": "stream",
     "text": [
      "=================================\n",
      "Initial portfolio value: 100000\n",
      "Final portfolio value: 3086325.75\n",
      "Final accumulative portfolio return: 30.8632575\n",
      "Maximum DrawDown: -0.25919898572330546\n",
      "Sharpe ratio: 1.9537248575721449\n",
      "=================================\n"
     ]
    },
    {
     "name": "stderr",
     "output_type": "stream",
     "text": [
      " 44%|████▍     | 44/100 [33:18<39:50, 42.69s/it]"
     ]
    },
    {
     "name": "stdout",
     "output_type": "stream",
     "text": [
      "=================================\n",
      "Initial portfolio value: 100000\n",
      "Final portfolio value: 3132186.75\n",
      "Final accumulative portfolio return: 31.3218675\n",
      "Maximum DrawDown: -0.25923841917255674\n",
      "Sharpe ratio: 1.9606737466190924\n",
      "=================================\n",
      "=================================\n",
      "Initial portfolio value: 100000\n",
      "Final portfolio value: 101372.7421875\n",
      "Final accumulative portfolio return: 1.013727421875\n",
      "Maximum DrawDown: -0.38263828474250416\n",
      "Sharpe ratio: 0.1633558161030985\n",
      "=================================\n"
     ]
    },
    {
     "name": "stderr",
     "output_type": "stream",
     "text": [
      " 45%|████▌     | 45/100 [34:09<41:30, 45.28s/it]"
     ]
    },
    {
     "name": "stdout",
     "output_type": "stream",
     "text": [
      "Validation performance at episode 45: -2.3203523730695896\n",
      "No improvement for 9 validation(s).\n",
      "=================================\n",
      "Initial portfolio value: 100000\n",
      "Final portfolio value: 3148938.75\n",
      "Final accumulative portfolio return: 31.4893875\n",
      "Maximum DrawDown: -0.2591354730388723\n",
      "Sharpe ratio: 1.9634425458709812\n",
      "=================================\n"
     ]
    },
    {
     "name": "stderr",
     "output_type": "stream",
     "text": [
      " 46%|████▌     | 46/100 [34:49<39:22, 43.76s/it]"
     ]
    },
    {
     "name": "stdout",
     "output_type": "stream",
     "text": [
      "=================================\n",
      "Initial portfolio value: 100000\n",
      "Final portfolio value: 3169984.25\n",
      "Final accumulative portfolio return: 31.6998425\n",
      "Maximum DrawDown: -0.2591360199256729\n",
      "Sharpe ratio: 1.9664948950437122\n",
      "=================================\n"
     ]
    },
    {
     "name": "stderr",
     "output_type": "stream",
     "text": [
      " 47%|████▋     | 47/100 [35:32<38:28, 43.55s/it]"
     ]
    },
    {
     "name": "stdout",
     "output_type": "stream",
     "text": [
      "=================================\n",
      "Initial portfolio value: 100000\n",
      "Final portfolio value: 3183746.5\n",
      "Final accumulative portfolio return: 31.837465\n",
      "Maximum DrawDown: -0.2591124718838612\n",
      "Sharpe ratio: 1.9684768426858121\n",
      "=================================\n",
      "=================================\n",
      "Initial portfolio value: 100000\n",
      "Final portfolio value: 100621.203125\n",
      "Final accumulative portfolio return: 1.00621203125\n",
      "Maximum DrawDown: -0.38933109116205644\n",
      "Sharpe ratio: 0.14918839999017508\n",
      "=================================\n"
     ]
    },
    {
     "name": "stderr",
     "output_type": "stream",
     "text": [
      " 47%|████▋     | 47/100 [36:29<41:08, 46.58s/it]"
     ]
    },
    {
     "name": "stdout",
     "output_type": "stream",
     "text": [
      "Validation performance at episode 48: -2.2511903709603134\n",
      "No improvement for 10 validation(s).\n",
      "Early stopping due to no improvement on validation set.\n",
      "Loaded best model based on validation performance.\n"
     ]
    },
    {
     "name": "stderr",
     "output_type": "stream",
     "text": [
      "\n",
      "C:\\Users\\xutia\\AppData\\Local\\Temp\\ipykernel_26128\\4180739837.py:59: FutureWarning: You are using `torch.load` with `weights_only=False` (the current default value), which uses the default pickle module implicitly. It is possible to construct malicious pickle data which will execute arbitrary code during unpickling (See https://github.com/pytorch/pytorch/blob/main/SECURITY.md#untrusted-models for more details). In a future release, the default value for `weights_only` will be flipped to `True`. This limits the functions that could be executed during unpickling. Arbitrary objects will no longer be allowed to be loaded via this mode unless they are explicitly allowlisted by the user via `torch.serialization.add_safe_globals`. We recommend you start setting `weights_only=True` for any use case where you don't have full control of the loaded file. Please open an issue on GitHub for any issues related to this experimental feature.\n",
      "  EIIE_policy.load_state_dict(torch.load(model_filename))\n"
     ]
    },
    {
     "name": "stdout",
     "output_type": "stream",
     "text": [
      "=================================\n",
      "Initial portfolio value: 100000\n",
      "Final portfolio value: 1334529.5\n",
      "Final accumulative portfolio return: 13.345295\n",
      "Maximum DrawDown: -0.2810516659817327\n",
      "Sharpe ratio: 1.5430408073888062\n",
      "=================================\n",
      "Metrics - train_final_value: 1334529.5, train_drawdown: -0.2810516659817327, train_sharpe: 1.5439349149734267, train_cumulative: 13.345295\n",
      "=================================\n",
      "Initial portfolio value: 100000\n",
      "Final portfolio value: 189838.953125\n",
      "Final accumulative portfolio return: 1.89838953125\n",
      "Maximum DrawDown: -0.21984797909912268\n",
      "Sharpe ratio: 1.327771825646613\n",
      "=================================\n",
      "Metrics - test_final_value: 189838.953125, test_drawdown: -0.21984797909912265, test_sharpe: 1.3305887545706578, test_cumulative: 1.89838953125\n",
      "Training model with TIME_WINDOW=30, K_SIZE=3, CONV_MID=5, CONV_FINAL=20, LEARNING_RATE=0.02\n"
     ]
    },
    {
     "name": "stderr",
     "output_type": "stream",
     "text": [
      "  0%|          | 0/100 [00:00<?, ?it/s]"
     ]
    },
    {
     "name": "stdout",
     "output_type": "stream",
     "text": [
      "=================================\n",
      "Initial portfolio value: 100000\n",
      "Final portfolio value: 222888.625\n",
      "Final accumulative portfolio return: 2.22888625\n",
      "Maximum DrawDown: -0.328415699056145\n",
      "Sharpe ratio: 0.7692163877562862\n",
      "=================================\n"
     ]
    },
    {
     "name": "stderr",
     "output_type": "stream",
     "text": [
      "  1%|          | 1/100 [00:44<1:12:41, 44.06s/it]"
     ]
    },
    {
     "name": "stdout",
     "output_type": "stream",
     "text": [
      "=================================\n",
      "Initial portfolio value: 100000\n",
      "Final portfolio value: 235311.3125\n",
      "Final accumulative portfolio return: 2.353113125\n",
      "Maximum DrawDown: -0.3419172567824392\n",
      "Sharpe ratio: 0.7770183628913083\n",
      "=================================\n"
     ]
    },
    {
     "name": "stderr",
     "output_type": "stream",
     "text": [
      "  2%|▏         | 2/100 [01:30<1:14:27, 45.59s/it]"
     ]
    },
    {
     "name": "stdout",
     "output_type": "stream",
     "text": [
      "=================================\n",
      "Initial portfolio value: 100000\n",
      "Final portfolio value: 241727.25\n",
      "Final accumulative portfolio return: 2.4172725\n",
      "Maximum DrawDown: -0.3497122567254676\n",
      "Sharpe ratio: 0.779707315219065\n",
      "=================================\n",
      "=================================\n",
      "Initial portfolio value: 100000\n",
      "Final portfolio value: 129835.0\n",
      "Final accumulative portfolio return: 1.29835\n",
      "Maximum DrawDown: -0.15815183409454514\n",
      "Sharpe ratio: 0.889715173618852\n",
      "=================================\n"
     ]
    },
    {
     "name": "stderr",
     "output_type": "stream",
     "text": [
      "  3%|▎         | 3/100 [02:25<1:20:44, 49.95s/it]"
     ]
    },
    {
     "name": "stdout",
     "output_type": "stream",
     "text": [
      "Validation performance at episode 3: -2.4151375684367022\n",
      "New best validation performance: -2.4151375684367022\n",
      "=================================\n",
      "Initial portfolio value: 100000\n",
      "Final portfolio value: 243909.0\n",
      "Final accumulative portfolio return: 2.43909\n",
      "Maximum DrawDown: -0.3516598280938128\n",
      "Sharpe ratio: 0.7810667921478445\n",
      "=================================\n"
     ]
    },
    {
     "name": "stderr",
     "output_type": "stream",
     "text": [
      "  4%|▍         | 4/100 [03:08<1:15:14, 47.03s/it]"
     ]
    },
    {
     "name": "stdout",
     "output_type": "stream",
     "text": [
      "=================================\n",
      "Initial portfolio value: 100000\n",
      "Final portfolio value: 244410.1875\n",
      "Final accumulative portfolio return: 2.444101875\n",
      "Maximum DrawDown: -0.3521358785858296\n",
      "Sharpe ratio: 0.7813438824375535\n",
      "=================================\n"
     ]
    },
    {
     "name": "stderr",
     "output_type": "stream",
     "text": [
      "  5%|▌         | 5/100 [03:51<1:12:07, 45.55s/it]"
     ]
    },
    {
     "name": "stdout",
     "output_type": "stream",
     "text": [
      "=================================\n",
      "Initial portfolio value: 100000\n",
      "Final portfolio value: 244564.03125\n",
      "Final accumulative portfolio return: 2.4456403125\n",
      "Maximum DrawDown: -0.35230501265698577\n",
      "Sharpe ratio: 0.7814104395339811\n",
      "=================================\n",
      "=================================\n",
      "Initial portfolio value: 100000\n",
      "Final portfolio value: 130043.1484375\n",
      "Final accumulative portfolio return: 1.300431484375\n",
      "Maximum DrawDown: -0.159208699275179\n",
      "Sharpe ratio: 0.8897513160637868\n",
      "=================================\n"
     ]
    },
    {
     "name": "stderr",
     "output_type": "stream",
     "text": [
      "  6%|▌         | 6/100 [04:48<1:17:47, 49.66s/it]"
     ]
    },
    {
     "name": "stdout",
     "output_type": "stream",
     "text": [
      "Validation performance at episode 6: -2.4142966816206064\n",
      "No improvement for 1 validation(s).\n",
      "=================================\n",
      "Initial portfolio value: 100000\n",
      "Final portfolio value: 244631.953125\n",
      "Final accumulative portfolio return: 2.44631953125\n",
      "Maximum DrawDown: -0.3523927347783864\n",
      "Sharpe ratio: 0.7814297708078226\n",
      "=================================\n"
     ]
    },
    {
     "name": "stderr",
     "output_type": "stream",
     "text": [
      "  7%|▋         | 7/100 [05:31<1:13:24, 47.36s/it]"
     ]
    },
    {
     "name": "stdout",
     "output_type": "stream",
     "text": [
      "=================================\n",
      "Initial portfolio value: 100000\n",
      "Final portfolio value: 244663.828125\n",
      "Final accumulative portfolio return: 2.44663828125\n",
      "Maximum DrawDown: -0.3524467262094475\n",
      "Sharpe ratio: 0.7814176670722762\n",
      "=================================\n"
     ]
    },
    {
     "name": "stderr",
     "output_type": "stream",
     "text": [
      "  8%|▊         | 8/100 [06:15<1:10:46, 46.16s/it]"
     ]
    },
    {
     "name": "stdout",
     "output_type": "stream",
     "text": [
      "=================================\n",
      "Initial portfolio value: 100000\n",
      "Final portfolio value: 244698.4375\n",
      "Final accumulative portfolio return: 2.446984375\n",
      "Maximum DrawDown: -0.35247912411850424\n",
      "Sharpe ratio: 0.7814552571952385\n",
      "=================================\n",
      "=================================\n",
      "Initial portfolio value: 100000\n",
      "Final portfolio value: 130055.8046875\n",
      "Final accumulative portfolio return: 1.300558046875\n",
      "Maximum DrawDown: -0.15929715003926648\n",
      "Sharpe ratio: 0.8896735047240318\n",
      "=================================\n"
     ]
    },
    {
     "name": "stderr",
     "output_type": "stream",
     "text": [
      "  9%|▉         | 9/100 [07:10<1:14:28, 49.11s/it]"
     ]
    },
    {
     "name": "stdout",
     "output_type": "stream",
     "text": [
      "Validation performance at episode 9: -2.4142674908059836\n",
      "No improvement for 2 validation(s).\n",
      "=================================\n",
      "Initial portfolio value: 100000\n",
      "Final portfolio value: 244713.28125\n",
      "Final accumulative portfolio return: 2.4471328125\n",
      "Maximum DrawDown: -0.35250490571068394\n",
      "Sharpe ratio: 0.7814465949970837\n",
      "=================================\n"
     ]
    },
    {
     "name": "stderr",
     "output_type": "stream",
     "text": [
      " 10%|█         | 10/100 [07:53<1:10:43, 47.16s/it]"
     ]
    },
    {
     "name": "stdout",
     "output_type": "stream",
     "text": [
      "=================================\n",
      "Initial portfolio value: 100000\n",
      "Final portfolio value: 244728.171875\n",
      "Final accumulative portfolio return: 2.44728171875\n",
      "Maximum DrawDown: -0.35252294410235596\n",
      "Sharpe ratio: 0.7814565725562119\n",
      "=================================\n"
     ]
    },
    {
     "name": "stderr",
     "output_type": "stream",
     "text": [
      " 11%|█         | 11/100 [08:36<1:08:01, 45.86s/it]"
     ]
    },
    {
     "name": "stdout",
     "output_type": "stream",
     "text": [
      "=================================\n",
      "Initial portfolio value: 100000\n",
      "Final portfolio value: 244734.9375\n",
      "Final accumulative portfolio return: 2.447349375\n",
      "Maximum DrawDown: -0.3525372568848104\n",
      "Sharpe ratio: 0.781449696161055\n",
      "=================================\n",
      "=================================\n",
      "Initial portfolio value: 100000\n",
      "Final portfolio value: 130060.609375\n",
      "Final accumulative portfolio return: 1.30060609375\n",
      "Maximum DrawDown: -0.15932629796005837\n",
      "Sharpe ratio: 0.8896571035791133\n",
      "=================================\n"
     ]
    },
    {
     "name": "stderr",
     "output_type": "stream",
     "text": [
      " 12%|█▏        | 12/100 [09:31<1:11:23, 48.67s/it]"
     ]
    },
    {
     "name": "stdout",
     "output_type": "stream",
     "text": [
      "Validation performance at episode 12: -2.4142526007836174\n",
      "No improvement for 3 validation(s).\n",
      "=================================\n",
      "Initial portfolio value: 100000\n",
      "Final portfolio value: 244738.390625\n",
      "Final accumulative portfolio return: 2.44738390625\n",
      "Maximum DrawDown: -0.3525494138230698\n",
      "Sharpe ratio: 0.7814385913547784\n",
      "=================================\n"
     ]
    },
    {
     "name": "stderr",
     "output_type": "stream",
     "text": [
      " 13%|█▎        | 13/100 [10:14<1:07:54, 46.83s/it]"
     ]
    },
    {
     "name": "stdout",
     "output_type": "stream",
     "text": [
      "=================================\n",
      "Initial portfolio value: 100000\n",
      "Final portfolio value: 244751.78125\n",
      "Final accumulative portfolio return: 2.4475178125\n",
      "Maximum DrawDown: -0.3525569156600059\n",
      "Sharpe ratio: 0.7814605976413309\n",
      "=================================\n"
     ]
    },
    {
     "name": "stderr",
     "output_type": "stream",
     "text": [
      " 14%|█▍        | 14/100 [10:57<1:05:27, 45.67s/it]"
     ]
    },
    {
     "name": "stdout",
     "output_type": "stream",
     "text": [
      "=================================\n",
      "Initial portfolio value: 100000\n",
      "Final portfolio value: 244748.03125\n",
      "Final accumulative portfolio return: 2.4474803125\n",
      "Maximum DrawDown: -0.3525647186243056\n",
      "Sharpe ratio: 0.7814341496953933\n",
      "=================================\n",
      "=================================\n",
      "Initial portfolio value: 100000\n",
      "Final portfolio value: 130062.25\n",
      "Final accumulative portfolio return: 1.3006225\n",
      "Maximum DrawDown: -0.15934225473394914\n",
      "Sharpe ratio: 0.8896330606503875\n",
      "=================================\n"
     ]
    },
    {
     "name": "stderr",
     "output_type": "stream",
     "text": [
      " 15%|█▌        | 15/100 [11:53<1:09:02, 48.74s/it]"
     ]
    },
    {
     "name": "stdout",
     "output_type": "stream",
     "text": [
      "Validation performance at episode 15: -2.4142507011421928\n",
      "No improvement for 4 validation(s).\n",
      "=================================\n",
      "Initial portfolio value: 100000\n",
      "Final portfolio value: 244761.953125\n",
      "Final accumulative portfolio return: 2.44761953125\n",
      "Maximum DrawDown: -0.3525707632689986\n",
      "Sharpe ratio: 0.7814662715959564\n",
      "=================================\n"
     ]
    },
    {
     "name": "stderr",
     "output_type": "stream",
     "text": [
      " 16%|█▌        | 16/100 [12:36<1:05:51, 47.04s/it]"
     ]
    },
    {
     "name": "stdout",
     "output_type": "stream",
     "text": [
      "=================================\n",
      "Initial portfolio value: 100000\n",
      "Final portfolio value: 244752.953125\n",
      "Final accumulative portfolio return: 2.44752953125\n",
      "Maximum DrawDown: -0.35257685651709136\n",
      "Sharpe ratio: 0.7814268286141761\n",
      "=================================\n"
     ]
    },
    {
     "name": "stderr",
     "output_type": "stream",
     "text": [
      " 17%|█▋        | 17/100 [13:19<1:03:27, 45.87s/it]"
     ]
    },
    {
     "name": "stdout",
     "output_type": "stream",
     "text": [
      "=================================\n",
      "Initial portfolio value: 100000\n",
      "Final portfolio value: 244764.40625\n",
      "Final accumulative portfolio return: 2.4476440625\n",
      "Maximum DrawDown: -0.3525823532676512\n",
      "Sharpe ratio: 0.781452225599997\n",
      "=================================\n",
      "=================================\n",
      "Initial portfolio value: 100000\n",
      "Final portfolio value: 130071.5546875\n",
      "Final accumulative portfolio return: 1.300715546875\n",
      "Maximum DrawDown: -0.15933717877446807\n",
      "Sharpe ratio: 0.8898122174699752\n",
      "=================================\n"
     ]
    },
    {
     "name": "stderr",
     "output_type": "stream",
     "text": [
      " 18%|█▊        | 18/100 [14:14<1:06:35, 48.72s/it]"
     ]
    },
    {
     "name": "stdout",
     "output_type": "stream",
     "text": [
      "Validation performance at episode 18: -2.4141614415477473\n",
      "No improvement for 5 validation(s).\n",
      "=================================\n",
      "Initial portfolio value: 100000\n",
      "Final portfolio value: 244765.9375\n",
      "Final accumulative portfolio return: 2.447659375\n",
      "Maximum DrawDown: -0.35258407810649284\n",
      "Sharpe ratio: 0.7814492629733203\n",
      "=================================\n"
     ]
    },
    {
     "name": "stderr",
     "output_type": "stream",
     "text": [
      " 19%|█▉        | 19/100 [14:57<1:03:13, 46.83s/it]"
     ]
    },
    {
     "name": "stdout",
     "output_type": "stream",
     "text": [
      "=================================\n",
      "Initial portfolio value: 100000\n",
      "Final portfolio value: 244764.375\n",
      "Final accumulative portfolio return: 2.44764375\n",
      "Maximum DrawDown: -0.35259025443531133\n",
      "Sharpe ratio: 0.7814375843177082\n",
      "=================================\n"
     ]
    },
    {
     "name": "stderr",
     "output_type": "stream",
     "text": [
      " 20%|██        | 20/100 [15:40<1:00:59, 45.74s/it]"
     ]
    },
    {
     "name": "stdout",
     "output_type": "stream",
     "text": [
      "=================================\n",
      "Initial portfolio value: 100000\n",
      "Final portfolio value: 244767.046875\n",
      "Final accumulative portfolio return: 2.44767046875\n",
      "Maximum DrawDown: -0.3525918883878626\n",
      "Sharpe ratio: 0.7814403544205867\n",
      "=================================\n",
      "=================================\n",
      "Initial portfolio value: 100000\n",
      "Final portfolio value: 130065.046875\n",
      "Final accumulative portfolio return: 1.30065046875\n",
      "Maximum DrawDown: -0.159355790286137\n",
      "Sharpe ratio: 0.8896355474969907\n",
      "=================================\n"
     ]
    },
    {
     "name": "stderr",
     "output_type": "stream",
     "text": [
      " 21%|██        | 21/100 [16:35<1:04:05, 48.68s/it]"
     ]
    },
    {
     "name": "stdout",
     "output_type": "stream",
     "text": [
      "Validation performance at episode 21: -2.414247923965964\n",
      "No improvement for 6 validation(s).\n",
      "=================================\n",
      "Initial portfolio value: 100000\n",
      "Final portfolio value: 244781.390625\n",
      "Final accumulative portfolio return: 2.44781390625\n",
      "Maximum DrawDown: -0.35259269946656835\n",
      "Sharpe ratio: 0.7814777870325165\n",
      "=================================\n"
     ]
    },
    {
     "name": "stderr",
     "output_type": "stream",
     "text": [
      " 22%|██▏       | 22/100 [17:18<1:00:53, 46.84s/it]"
     ]
    },
    {
     "name": "stdout",
     "output_type": "stream",
     "text": [
      "=================================\n",
      "Initial portfolio value: 100000\n",
      "Final portfolio value: 244776.078125\n",
      "Final accumulative portfolio return: 2.44776078125\n",
      "Maximum DrawDown: -0.35259527868819585\n",
      "Sharpe ratio: 0.7814612334176242\n",
      "=================================\n"
     ]
    },
    {
     "name": "stderr",
     "output_type": "stream",
     "text": [
      " 23%|██▎       | 23/100 [18:01<58:36, 45.67s/it]  "
     ]
    },
    {
     "name": "stdout",
     "output_type": "stream",
     "text": [
      "=================================\n",
      "Initial portfolio value: 100000\n",
      "Final portfolio value: 244779.609375\n",
      "Final accumulative portfolio return: 2.44779609375\n",
      "Maximum DrawDown: -0.3525973608627433\n",
      "Sharpe ratio: 0.7814678164169961\n",
      "=================================\n",
      "=================================\n",
      "Initial portfolio value: 100000\n",
      "Final portfolio value: 130069.546875\n",
      "Final accumulative portfolio return: 1.30069546875\n",
      "Maximum DrawDown: -0.15935021296566199\n",
      "Sharpe ratio: 0.8897284000469706\n",
      "=================================\n"
     ]
    },
    {
     "name": "stderr",
     "output_type": "stream",
     "text": [
      " 24%|██▍       | 24/100 [18:56<1:01:20, 48.43s/it]"
     ]
    },
    {
     "name": "stdout",
     "output_type": "stream",
     "text": [
      "Validation performance at episode 24: -2.414201188500771\n",
      "No improvement for 7 validation(s).\n",
      "=================================\n",
      "Initial portfolio value: 100000\n",
      "Final portfolio value: 244774.921875\n",
      "Final accumulative portfolio return: 2.44774921875\n",
      "Maximum DrawDown: -0.35259790902722554\n",
      "Sharpe ratio: 0.7814519975679421\n",
      "=================================\n"
     ]
    },
    {
     "name": "stderr",
     "output_type": "stream",
     "text": [
      " 25%|██▌       | 25/100 [19:38<58:10, 46.53s/it]  "
     ]
    },
    {
     "name": "stdout",
     "output_type": "stream",
     "text": [
      "=================================\n",
      "Initial portfolio value: 100000\n",
      "Final portfolio value: 244782.4375\n",
      "Final accumulative portfolio return: 2.447824375\n",
      "Maximum DrawDown: -0.35260021502501193\n",
      "Sharpe ratio: 0.7814733788131214\n",
      "=================================\n"
     ]
    },
    {
     "name": "stderr",
     "output_type": "stream",
     "text": [
      " 26%|██▌       | 26/100 [20:21<56:03, 45.45s/it]"
     ]
    },
    {
     "name": "stdout",
     "output_type": "stream",
     "text": [
      "=================================\n",
      "Initial portfolio value: 100000\n",
      "Final portfolio value: 244781.890625\n",
      "Final accumulative portfolio return: 2.44781890625\n",
      "Maximum DrawDown: -0.35260087552791686\n",
      "Sharpe ratio: 0.7814681445080129\n",
      "=================================\n",
      "=================================\n",
      "Initial portfolio value: 100000\n",
      "Final portfolio value: 130072.5390625\n",
      "Final accumulative portfolio return: 1.300725390625\n",
      "Maximum DrawDown: -0.1593466761956438\n",
      "Sharpe ratio: 0.8897918235136602\n",
      "=================================\n"
     ]
    },
    {
     "name": "stderr",
     "output_type": "stream",
     "text": [
      " 27%|██▋       | 27/100 [21:15<58:38, 48.20s/it]"
     ]
    },
    {
     "name": "stdout",
     "output_type": "stream",
     "text": [
      "Validation performance at episode 27: -2.4141636249067746\n",
      "No improvement for 8 validation(s).\n",
      "=================================\n",
      "Initial portfolio value: 100000\n",
      "Final portfolio value: 244780.546875\n",
      "Final accumulative portfolio return: 2.44780546875\n",
      "Maximum DrawDown: -0.3525997231516922\n",
      "Sharpe ratio: 0.7814618576710719\n",
      "=================================\n"
     ]
    },
    {
     "name": "stderr",
     "output_type": "stream",
     "text": [
      " 28%|██▊       | 28/100 [21:58<55:55, 46.61s/it]"
     ]
    },
    {
     "name": "stdout",
     "output_type": "stream",
     "text": [
      "=================================\n",
      "Initial portfolio value: 100000\n",
      "Final portfolio value: 244781.578125\n",
      "Final accumulative portfolio return: 2.44781578125\n",
      "Maximum DrawDown: -0.35260225328865136\n",
      "Sharpe ratio: 0.7814645681073156\n",
      "=================================\n"
     ]
    },
    {
     "name": "stderr",
     "output_type": "stream",
     "text": [
      " 29%|██▉       | 29/100 [22:42<53:59, 45.63s/it]"
     ]
    },
    {
     "name": "stdout",
     "output_type": "stream",
     "text": [
      "=================================\n",
      "Initial portfolio value: 100000\n",
      "Final portfolio value: 244773.0\n",
      "Final accumulative portfolio return: 2.44773\n",
      "Maximum DrawDown: -0.3526021929476386\n",
      "Sharpe ratio: 0.7814369068010762\n",
      "=================================\n",
      "=================================\n",
      "Initial portfolio value: 100000\n",
      "Final portfolio value: 130067.265625\n",
      "Final accumulative portfolio return: 1.30067265625\n",
      "Maximum DrawDown: -0.15935933680635694\n",
      "Sharpe ratio: 0.8896658054122322\n",
      "=================================\n"
     ]
    },
    {
     "name": "stderr",
     "output_type": "stream",
     "text": [
      " 30%|███       | 30/100 [23:37<56:31, 48.45s/it]"
     ]
    },
    {
     "name": "stdout",
     "output_type": "stream",
     "text": [
      "Validation performance at episode 30: -2.4142290743257884\n",
      "No improvement for 9 validation(s).\n",
      "=================================\n",
      "Initial portfolio value: 100000\n",
      "Final portfolio value: 244772.03125\n",
      "Final accumulative portfolio return: 2.4477203125\n",
      "Maximum DrawDown: -0.35260581555929793\n",
      "Sharpe ratio: 0.7814292688541592\n",
      "=================================\n"
     ]
    },
    {
     "name": "stderr",
     "output_type": "stream",
     "text": [
      " 31%|███       | 31/100 [24:20<53:49, 46.80s/it]"
     ]
    },
    {
     "name": "stdout",
     "output_type": "stream",
     "text": [
      "=================================\n",
      "Initial portfolio value: 100000\n",
      "Final portfolio value: 244784.84375\n",
      "Final accumulative portfolio return: 2.4478484375\n",
      "Maximum DrawDown: -0.3526056378532223\n",
      "Sharpe ratio: 0.7814651265728121\n",
      "=================================\n"
     ]
    },
    {
     "name": "stderr",
     "output_type": "stream",
     "text": [
      " 32%|███▏      | 32/100 [25:02<51:42, 45.62s/it]"
     ]
    },
    {
     "name": "stdout",
     "output_type": "stream",
     "text": [
      "=================================\n",
      "Initial portfolio value: 100000\n",
      "Final portfolio value: 244783.0625\n",
      "Final accumulative portfolio return: 2.447830625\n",
      "Maximum DrawDown: -0.352606992273082\n",
      "Sharpe ratio: 0.7814596189335941\n",
      "=================================\n",
      "=================================\n",
      "Initial portfolio value: 100000\n",
      "Final portfolio value: 130071.7265625\n",
      "Final accumulative portfolio return: 1.300717265625\n",
      "Maximum DrawDown: -0.15935375698698606\n",
      "Sharpe ratio: 0.8897562196082335\n",
      "=================================\n"
     ]
    },
    {
     "name": "stderr",
     "output_type": "stream",
     "text": [
      " 32%|███▏      | 32/100 [25:58<55:10, 48.69s/it]"
     ]
    },
    {
     "name": "stdout",
     "output_type": "stream",
     "text": [
      "Validation performance at episode 33: -2.414182526479233\n",
      "No improvement for 10 validation(s).\n",
      "Early stopping due to no improvement on validation set.\n",
      "Loaded best model based on validation performance.\n"
     ]
    },
    {
     "name": "stderr",
     "output_type": "stream",
     "text": [
      "\n",
      "C:\\Users\\xutia\\AppData\\Local\\Temp\\ipykernel_26128\\4180739837.py:59: FutureWarning: You are using `torch.load` with `weights_only=False` (the current default value), which uses the default pickle module implicitly. It is possible to construct malicious pickle data which will execute arbitrary code during unpickling (See https://github.com/pytorch/pytorch/blob/main/SECURITY.md#untrusted-models for more details). In a future release, the default value for `weights_only` will be flipped to `True`. This limits the functions that could be executed during unpickling. Arbitrary objects will no longer be allowed to be loaded via this mode unless they are explicitly allowlisted by the user via `torch.serialization.add_safe_globals`. We recommend you start setting `weights_only=True` for any use case where you don't have full control of the loaded file. Please open an issue on GitHub for any issues related to this experimental feature.\n",
      "  EIIE_policy.load_state_dict(torch.load(model_filename))\n"
     ]
    },
    {
     "name": "stdout",
     "output_type": "stream",
     "text": [
      "=================================\n",
      "Initial portfolio value: 100000\n",
      "Final portfolio value: 244502.484375\n",
      "Final accumulative portfolio return: 2.44502484375\n",
      "Maximum DrawDown: -0.35252405398733866\n",
      "Sharpe ratio: 0.7810546523952897\n",
      "=================================\n",
      "Metrics - train_final_value: 244502.484375, train_drawdown: -0.35252405398733866, train_sharpe: 0.7815068395884509, train_cumulative: 2.44502484375\n",
      "=================================\n",
      "Initial portfolio value: 100000\n",
      "Final portfolio value: 129978.8046875\n",
      "Final accumulative portfolio return: 1.299788046875\n",
      "Maximum DrawDown: -0.15930897682434753\n",
      "Sharpe ratio: 0.8882214525541965\n",
      "=================================\n",
      "Metrics - test_final_value: 129978.8046875, test_drawdown: -0.1593089768243475, test_sharpe: 0.8900997801855841, test_cumulative: 1.299788046875\n",
      "Training model with TIME_WINDOW=30, K_SIZE=3, CONV_MID=10, CONV_FINAL=5, LEARNING_RATE=0.01\n"
     ]
    },
    {
     "name": "stderr",
     "output_type": "stream",
     "text": [
      "  0%|          | 0/100 [00:00<?, ?it/s]"
     ]
    },
    {
     "name": "stdout",
     "output_type": "stream",
     "text": [
      "=================================\n",
      "Initial portfolio value: 100000\n",
      "Final portfolio value: 220232.296875\n",
      "Final accumulative portfolio return: 2.20232296875\n",
      "Maximum DrawDown: -0.3179348270624428\n",
      "Sharpe ratio: 0.7720447820953656\n",
      "=================================\n"
     ]
    },
    {
     "name": "stderr",
     "output_type": "stream",
     "text": [
      "  1%|          | 1/100 [00:42<1:09:43, 42.26s/it]"
     ]
    },
    {
     "name": "stdout",
     "output_type": "stream",
     "text": [
      "=================================\n",
      "Initial portfolio value: 100000\n",
      "Final portfolio value: 225484.203125\n",
      "Final accumulative portfolio return: 2.25484203125\n",
      "Maximum DrawDown: -0.3213865387889262\n",
      "Sharpe ratio: 0.7802312858491502\n",
      "=================================\n"
     ]
    },
    {
     "name": "stderr",
     "output_type": "stream",
     "text": [
      "  2%|▏         | 2/100 [01:24<1:09:08, 42.33s/it]"
     ]
    },
    {
     "name": "stdout",
     "output_type": "stream",
     "text": [
      "=================================\n",
      "Initial portfolio value: 100000\n",
      "Final portfolio value: 227291.9375\n",
      "Final accumulative portfolio return: 2.272919375\n",
      "Maximum DrawDown: -0.3243499663062013\n",
      "Sharpe ratio: 0.780452040450937\n",
      "=================================\n",
      "=================================\n",
      "Initial portfolio value: 100000\n",
      "Final portfolio value: 127319.296875\n",
      "Final accumulative portfolio return: 1.27319296875\n",
      "Maximum DrawDown: -0.1452399709768989\n",
      "Sharpe ratio: 0.8895950739272906\n",
      "=================================\n"
     ]
    },
    {
     "name": "stderr",
     "output_type": "stream",
     "text": [
      "  3%|▎         | 3/100 [02:18<1:17:14, 47.78s/it]"
     ]
    },
    {
     "name": "stdout",
     "output_type": "stream",
     "text": [
      "Validation performance at episode 3: -2.4251373017195337\n",
      "New best validation performance: -2.4251373017195337\n",
      "=================================\n",
      "Initial portfolio value: 100000\n",
      "Final portfolio value: 228850.921875\n",
      "Final accumulative portfolio return: 2.28850921875\n",
      "Maximum DrawDown: -0.32692387878955453\n",
      "Sharpe ratio: 0.7805671453115135\n",
      "=================================\n"
     ]
    },
    {
     "name": "stderr",
     "output_type": "stream",
     "text": [
      "  4%|▍         | 4/100 [03:01<1:13:08, 45.72s/it]"
     ]
    },
    {
     "name": "stdout",
     "output_type": "stream",
     "text": [
      "=================================\n",
      "Initial portfolio value: 100000\n",
      "Final portfolio value: 230224.53125\n",
      "Final accumulative portfolio return: 2.3022453125\n",
      "Maximum DrawDown: -0.32916911393258164\n",
      "Sharpe ratio: 0.7806878070277092\n",
      "=================================\n"
     ]
    },
    {
     "name": "stderr",
     "output_type": "stream",
     "text": [
      "  5%|▌         | 5/100 [03:46<1:11:54, 45.42s/it]"
     ]
    },
    {
     "name": "stdout",
     "output_type": "stream",
     "text": [
      "=================================\n",
      "Initial portfolio value: 100000\n",
      "Final portfolio value: 231423.453125\n",
      "Final accumulative portfolio return: 2.31423453125\n",
      "Maximum DrawDown: -0.3311418409580057\n",
      "Sharpe ratio: 0.7807528625718047\n",
      "=================================\n",
      "=================================\n",
      "Initial portfolio value: 100000\n",
      "Final portfolio value: 127969.375\n",
      "Final accumulative portfolio return: 1.27969375\n",
      "Maximum DrawDown: -0.14858161796748015\n",
      "Sharpe ratio: 0.8896191796000563\n",
      "=================================\n"
     ]
    },
    {
     "name": "stderr",
     "output_type": "stream",
     "text": [
      "  6%|▌         | 6/100 [04:39<1:15:14, 48.02s/it]"
     ]
    },
    {
     "name": "stdout",
     "output_type": "stream",
     "text": [
      "Validation performance at episode 6: -2.4225139072205186\n",
      "No improvement for 1 validation(s).\n",
      "=================================\n",
      "Initial portfolio value: 100000\n",
      "Final portfolio value: 232492.578125\n",
      "Final accumulative portfolio return: 2.32492578125\n",
      "Maximum DrawDown: -0.33287692220638876\n",
      "Sharpe ratio: 0.7808405506219115\n",
      "=================================\n"
     ]
    },
    {
     "name": "stderr",
     "output_type": "stream",
     "text": [
      "  7%|▋         | 7/100 [05:19<1:10:36, 45.55s/it]"
     ]
    },
    {
     "name": "stdout",
     "output_type": "stream",
     "text": [
      "=================================\n",
      "Initial portfolio value: 100000\n",
      "Final portfolio value: 233442.734375\n",
      "Final accumulative portfolio return: 2.33442734375\n",
      "Maximum DrawDown: -0.3344100079038933\n",
      "Sharpe ratio: 0.7809237265850167\n",
      "=================================\n"
     ]
    },
    {
     "name": "stderr",
     "output_type": "stream",
     "text": [
      "  8%|▊         | 8/100 [06:00<1:07:16, 43.87s/it]"
     ]
    },
    {
     "name": "stdout",
     "output_type": "stream",
     "text": [
      "=================================\n",
      "Initial portfolio value: 100000\n",
      "Final portfolio value: 234279.875\n",
      "Final accumulative portfolio return: 2.34279875\n",
      "Maximum DrawDown: -0.335770796897631\n",
      "Sharpe ratio: 0.7809673020661955\n",
      "=================================\n",
      "=================================\n",
      "Initial portfolio value: 100000\n",
      "Final portfolio value: 128419.171875\n",
      "Final accumulative portfolio return: 1.28419171875\n",
      "Maximum DrawDown: -0.1508704402436526\n",
      "Sharpe ratio: 0.8897147139346844\n",
      "=================================\n"
     ]
    },
    {
     "name": "stderr",
     "output_type": "stream",
     "text": [
      "  9%|▉         | 9/100 [06:51<1:09:51, 46.06s/it]"
     ]
    },
    {
     "name": "stdout",
     "output_type": "stream",
     "text": [
      "Validation performance at episode 9: -2.4207052974780505\n",
      "No improvement for 2 validation(s).\n",
      "=================================\n",
      "Initial portfolio value: 100000\n",
      "Final portfolio value: 235034.78125\n",
      "Final accumulative portfolio return: 2.3503478125\n",
      "Maximum DrawDown: -0.3369853291424876\n",
      "Sharpe ratio: 0.7810301094476821\n",
      "=================================\n"
     ]
    },
    {
     "name": "stderr",
     "output_type": "stream",
     "text": [
      " 10%|█         | 10/100 [07:30<1:06:02, 44.03s/it]"
     ]
    },
    {
     "name": "stdout",
     "output_type": "stream",
     "text": [
      "=================================\n",
      "Initial portfolio value: 100000\n",
      "Final portfolio value: 235705.890625\n",
      "Final accumulative portfolio return: 2.35705890625\n",
      "Maximum DrawDown: -0.3380688077324435\n",
      "Sharpe ratio: 0.7810686430733624\n",
      "=================================\n"
     ]
    },
    {
     "name": "stderr",
     "output_type": "stream",
     "text": [
      " 11%|█         | 11/100 [08:10<1:03:15, 42.64s/it]"
     ]
    },
    {
     "name": "stdout",
     "output_type": "stream",
     "text": [
      "=================================\n",
      "Initial portfolio value: 100000\n",
      "Final portfolio value: 236311.25\n",
      "Final accumulative portfolio return: 2.3631125\n",
      "Maximum DrawDown: -0.3390438508253374\n",
      "Sharpe ratio: 0.7811097639824236\n",
      "=================================\n",
      "=================================\n",
      "Initial portfolio value: 100000\n",
      "Final portfolio value: 128729.484375\n",
      "Final accumulative portfolio return: 1.28729484375\n",
      "Maximum DrawDown: -0.15251042868739884\n",
      "Sharpe ratio: 0.8895504859146591\n",
      "=================================\n"
     ]
    },
    {
     "name": "stderr",
     "output_type": "stream",
     "text": [
      " 12%|█▏        | 12/100 [09:00<1:06:12, 45.14s/it]"
     ]
    },
    {
     "name": "stdout",
     "output_type": "stream",
     "text": [
      "Validation performance at episode 12: -2.4195033219453626\n",
      "No improvement for 3 validation(s).\n",
      "=================================\n",
      "Initial portfolio value: 100000\n",
      "Final portfolio value: 236854.6875\n",
      "Final accumulative portfolio return: 2.368546875\n",
      "Maximum DrawDown: -0.33992015236188966\n",
      "Sharpe ratio: 0.7811358839241969\n",
      "=================================\n"
     ]
    },
    {
     "name": "stderr",
     "output_type": "stream",
     "text": [
      " 13%|█▎        | 13/100 [09:40<1:03:05, 43.51s/it]"
     ]
    },
    {
     "name": "stdout",
     "output_type": "stream",
     "text": [
      "=================================\n",
      "Initial portfolio value: 100000\n",
      "Final portfolio value: 237347.84375\n",
      "Final accumulative portfolio return: 2.3734784375\n",
      "Maximum DrawDown: -0.34071294087933346\n",
      "Sharpe ratio: 0.7811629111307605\n",
      "=================================\n"
     ]
    },
    {
     "name": "stderr",
     "output_type": "stream",
     "text": [
      " 14%|█▍        | 14/100 [10:20<1:00:55, 42.51s/it]"
     ]
    },
    {
     "name": "stdout",
     "output_type": "stream",
     "text": [
      "=================================\n",
      "Initial portfolio value: 100000\n",
      "Final portfolio value: 237796.34375\n",
      "Final accumulative portfolio return: 2.3779634375\n",
      "Maximum DrawDown: -0.3414294245325572\n",
      "Sharpe ratio: 0.7811924784846492\n",
      "=================================\n",
      "=================================\n",
      "Initial portfolio value: 100000\n",
      "Final portfolio value: 128960.609375\n",
      "Final accumulative portfolio return: 1.28960609375\n",
      "Maximum DrawDown: -0.1537074929414387\n",
      "Sharpe ratio: 0.8895240399406031\n",
      "=================================\n"
     ]
    },
    {
     "name": "stderr",
     "output_type": "stream",
     "text": [
      " 15%|█▌        | 15/100 [11:12<1:04:06, 45.25s/it]"
     ]
    },
    {
     "name": "stdout",
     "output_type": "stream",
     "text": [
      "Validation performance at episode 15: -2.4185928601475926\n",
      "No improvement for 4 validation(s).\n",
      "=================================\n",
      "Initial portfolio value: 100000\n",
      "Final portfolio value: 238203.28125\n",
      "Final accumulative portfolio return: 2.3820328125\n",
      "Maximum DrawDown: -0.34208248231313987\n",
      "Sharpe ratio: 0.7812145692569589\n",
      "=================================\n"
     ]
    },
    {
     "name": "stderr",
     "output_type": "stream",
     "text": [
      " 16%|█▌        | 16/100 [11:52<1:01:11, 43.71s/it]"
     ]
    },
    {
     "name": "stdout",
     "output_type": "stream",
     "text": [
      "=================================\n",
      "Initial portfolio value: 100000\n",
      "Final portfolio value: 238578.078125\n",
      "Final accumulative portfolio return: 2.38578078125\n",
      "Maximum DrawDown: -0.34267725192583653\n",
      "Sharpe ratio: 0.7812450551632799\n",
      "=================================\n"
     ]
    },
    {
     "name": "stderr",
     "output_type": "stream",
     "text": [
      " 17%|█▋        | 17/100 [12:32<58:44, 42.46s/it]  "
     ]
    },
    {
     "name": "stdout",
     "output_type": "stream",
     "text": [
      "=================================\n",
      "Initial portfolio value: 100000\n",
      "Final portfolio value: 238917.265625\n",
      "Final accumulative portfolio return: 2.38917265625\n",
      "Maximum DrawDown: -0.3432201692050658\n",
      "Sharpe ratio: 0.7812617905717857\n",
      "=================================\n",
      "=================================\n",
      "Initial portfolio value: 100000\n",
      "Final portfolio value: 129140.625\n",
      "Final accumulative portfolio return: 1.29140625\n",
      "Maximum DrawDown: -0.15459682004353592\n",
      "Sharpe ratio: 0.8896489917822495\n",
      "=================================\n"
     ]
    },
    {
     "name": "stderr",
     "output_type": "stream",
     "text": [
      " 18%|█▊        | 18/100 [13:23<1:01:42, 45.16s/it]"
     ]
    },
    {
     "name": "stdout",
     "output_type": "stream",
     "text": [
      "Validation performance at episode 18: -2.417845908907735\n",
      "No improvement for 5 validation(s).\n",
      "=================================\n",
      "Initial portfolio value: 100000\n",
      "Final portfolio value: 239228.46875\n",
      "Final accumulative portfolio return: 2.3922846875\n",
      "Maximum DrawDown: -0.34371896580635763\n",
      "Sharpe ratio: 0.7812768706525677\n",
      "=================================\n"
     ]
    },
    {
     "name": "stderr",
     "output_type": "stream",
     "text": [
      " 19%|█▉        | 19/100 [14:03<58:54, 43.64s/it]  "
     ]
    },
    {
     "name": "stdout",
     "output_type": "stream",
     "text": [
      "=================================\n",
      "Initial portfolio value: 100000\n",
      "Final portfolio value: 239511.40625\n",
      "Final accumulative portfolio return: 2.3951140625\n",
      "Maximum DrawDown: -0.3441770056016592\n",
      "Sharpe ratio: 0.7812792026175148\n",
      "=================================\n"
     ]
    },
    {
     "name": "stderr",
     "output_type": "stream",
     "text": [
      " 20%|██        | 20/100 [14:42<56:26, 42.33s/it]"
     ]
    },
    {
     "name": "stdout",
     "output_type": "stream",
     "text": [
      "=================================\n",
      "Initial portfolio value: 100000\n",
      "Final portfolio value: 239773.375\n",
      "Final accumulative portfolio return: 2.39773375\n",
      "Maximum DrawDown: -0.3446005226922094\n",
      "Sharpe ratio: 0.7812869819447574\n",
      "=================================\n",
      "=================================\n",
      "Initial portfolio value: 100000\n",
      "Final portfolio value: 129275.3203125\n",
      "Final accumulative portfolio return: 1.292753203125\n",
      "Maximum DrawDown: -0.15529103875206107\n",
      "Sharpe ratio: 0.8896463960408899\n",
      "=================================\n"
     ]
    },
    {
     "name": "stderr",
     "output_type": "stream",
     "text": [
      " 21%|██        | 21/100 [15:34<59:18, 45.04s/it]"
     ]
    },
    {
     "name": "stdout",
     "output_type": "stream",
     "text": [
      "Validation performance at episode 21: -2.41730293192477\n",
      "No improvement for 6 validation(s).\n",
      "=================================\n",
      "Initial portfolio value: 100000\n",
      "Final portfolio value: 240022.40625\n",
      "Final accumulative portfolio return: 2.4002240625\n",
      "Maximum DrawDown: -0.3449901486503367\n",
      "Sharpe ratio: 0.7813148019516137\n",
      "=================================\n"
     ]
    },
    {
     "name": "stderr",
     "output_type": "stream",
     "text": [
      " 22%|██▏       | 22/100 [16:13<56:27, 43.43s/it]"
     ]
    },
    {
     "name": "stdout",
     "output_type": "stream",
     "text": [
      "=================================\n",
      "Initial portfolio value: 100000\n",
      "Final portfolio value: 240248.8125\n",
      "Final accumulative portfolio return: 2.402488125\n",
      "Maximum DrawDown: -0.3453490071475843\n",
      "Sharpe ratio: 0.7813268517887298\n",
      "=================================\n"
     ]
    },
    {
     "name": "stderr",
     "output_type": "stream",
     "text": [
      " 23%|██▎       | 23/100 [16:53<54:18, 42.32s/it]"
     ]
    },
    {
     "name": "stdout",
     "output_type": "stream",
     "text": [
      "=================================\n",
      "Initial portfolio value: 100000\n",
      "Final portfolio value: 240454.09375\n",
      "Final accumulative portfolio return: 2.4045409375\n",
      "Maximum DrawDown: -0.3456834672803969\n",
      "Sharpe ratio: 0.7813252242490404\n",
      "=================================\n",
      "=================================\n",
      "Initial portfolio value: 100000\n",
      "Final portfolio value: 129381.9140625\n",
      "Final accumulative portfolio return: 1.293819140625\n",
      "Maximum DrawDown: -0.15583775193538807\n",
      "Sharpe ratio: 0.8896480699113547\n",
      "=================================\n"
     ]
    },
    {
     "name": "stderr",
     "output_type": "stream",
     "text": [
      " 24%|██▍       | 24/100 [17:48<58:20, 46.06s/it]"
     ]
    },
    {
     "name": "stdout",
     "output_type": "stream",
     "text": [
      "Validation performance at episode 24: -2.4168857076980084\n",
      "No improvement for 7 validation(s).\n",
      "=================================\n",
      "Initial portfolio value: 100000\n",
      "Final portfolio value: 240649.578125\n",
      "Final accumulative portfolio return: 2.40649578125\n",
      "Maximum DrawDown: -0.34599353601098304\n",
      "Sharpe ratio: 0.7813387522518753\n",
      "=================================\n"
     ]
    },
    {
     "name": "stderr",
     "output_type": "stream",
     "text": [
      " 25%|██▌       | 25/100 [18:28<55:18, 44.24s/it]"
     ]
    },
    {
     "name": "stdout",
     "output_type": "stream",
     "text": [
      "=================================\n",
      "Initial portfolio value: 100000\n",
      "Final portfolio value: 240818.265625\n",
      "Final accumulative portfolio return: 2.40818265625\n",
      "Maximum DrawDown: -0.34628463633782003\n",
      "Sharpe ratio: 0.7813065862405045\n",
      "=================================\n"
     ]
    },
    {
     "name": "stderr",
     "output_type": "stream",
     "text": [
      " 26%|██▌       | 26/100 [19:08<52:58, 42.95s/it]"
     ]
    },
    {
     "name": "stdout",
     "output_type": "stream",
     "text": [
      "=================================\n",
      "Initial portfolio value: 100000\n",
      "Final portfolio value: 240996.140625\n",
      "Final accumulative portfolio return: 2.40996140625\n",
      "Maximum DrawDown: -0.34655425812362306\n",
      "Sharpe ratio: 0.7813423948511911\n",
      "=================================\n",
      "=================================\n",
      "Initial portfolio value: 100000\n",
      "Final portfolio value: 129464.9921875\n",
      "Final accumulative portfolio return: 1.294649921875\n",
      "Maximum DrawDown: -0.15628142791118738\n",
      "Sharpe ratio: 0.889594633840662\n",
      "=================================\n"
     ]
    },
    {
     "name": "stderr",
     "output_type": "stream",
     "text": [
      " 27%|██▋       | 27/100 [19:59<55:12, 45.37s/it]"
     ]
    },
    {
     "name": "stdout",
     "output_type": "stream",
     "text": [
      "Validation performance at episode 27: -2.416575586070992\n",
      "No improvement for 8 validation(s).\n",
      "=================================\n",
      "Initial portfolio value: 100000\n",
      "Final portfolio value: 241160.453125\n",
      "Final accumulative portfolio return: 2.41160453125\n",
      "Maximum DrawDown: -0.34680522448940376\n",
      "Sharpe ratio: 0.7813727105165249\n",
      "=================================\n"
     ]
    },
    {
     "name": "stderr",
     "output_type": "stream",
     "text": [
      " 28%|██▊       | 28/100 [20:39<52:28, 43.73s/it]"
     ]
    },
    {
     "name": "stdout",
     "output_type": "stream",
     "text": [
      "=================================\n",
      "Initial portfolio value: 100000\n",
      "Final portfolio value: 241299.84375\n",
      "Final accumulative portfolio return: 2.4129984375\n",
      "Maximum DrawDown: -0.3470399685361063\n",
      "Sharpe ratio: 0.7813533871057634\n",
      "=================================\n"
     ]
    },
    {
     "name": "stderr",
     "output_type": "stream",
     "text": [
      " 29%|██▉       | 29/100 [21:19<50:22, 42.56s/it]"
     ]
    },
    {
     "name": "stdout",
     "output_type": "stream",
     "text": [
      "=================================\n",
      "Initial portfolio value: 100000\n",
      "Final portfolio value: 241438.0625\n",
      "Final accumulative portfolio return: 2.414380625\n",
      "Maximum DrawDown: -0.3472620409050443\n",
      "Sharpe ratio: 0.7813579082658476\n",
      "=================================\n",
      "=================================\n",
      "Initial portfolio value: 100000\n",
      "Final portfolio value: 129533.2578125\n",
      "Final accumulative portfolio return: 1.295332578125\n",
      "Maximum DrawDown: -0.1566409842028169\n",
      "Sharpe ratio: 0.8895595452347141\n",
      "=================================\n"
     ]
    },
    {
     "name": "stderr",
     "output_type": "stream",
     "text": [
      " 30%|███       | 30/100 [22:10<52:40, 45.15s/it]"
     ]
    },
    {
     "name": "stdout",
     "output_type": "stream",
     "text": [
      "Validation performance at episode 30: -2.416324538215329\n",
      "No improvement for 9 validation(s).\n",
      "=================================\n",
      "Initial portfolio value: 100000\n",
      "Final portfolio value: 241563.296875\n",
      "Final accumulative portfolio return: 2.41563296875\n",
      "Maximum DrawDown: -0.34746878362321154\n",
      "Sharpe ratio: 0.7813483021787706\n",
      "=================================\n"
     ]
    },
    {
     "name": "stderr",
     "output_type": "stream",
     "text": [
      " 31%|███       | 31/100 [22:50<50:03, 43.53s/it]"
     ]
    },
    {
     "name": "stdout",
     "output_type": "stream",
     "text": [
      "=================================\n",
      "Initial portfolio value: 100000\n",
      "Final portfolio value: 241689.796875\n",
      "Final accumulative portfolio return: 2.41689796875\n",
      "Maximum DrawDown: -0.34766121172064335\n",
      "Sharpe ratio: 0.7813685271873023\n",
      "=================================\n"
     ]
    },
    {
     "name": "stderr",
     "output_type": "stream",
     "text": [
      " 32%|███▏      | 32/100 [23:29<47:55, 42.29s/it]"
     ]
    },
    {
     "name": "stdout",
     "output_type": "stream",
     "text": [
      "=================================\n",
      "Initial portfolio value: 100000\n",
      "Final portfolio value: 241803.71875\n",
      "Final accumulative portfolio return: 2.4180371875\n",
      "Maximum DrawDown: -0.34784371608311837\n",
      "Sharpe ratio: 0.7813690256404083\n",
      "=================================\n",
      "=================================\n",
      "Initial portfolio value: 100000\n",
      "Final portfolio value: 129596.90625\n",
      "Final accumulative portfolio return: 1.2959690625\n",
      "Maximum DrawDown: -0.15692730486134443\n",
      "Sharpe ratio: 0.8897040358592541\n",
      "=================================\n"
     ]
    },
    {
     "name": "stderr",
     "output_type": "stream",
     "text": [
      " 32%|███▏      | 32/100 [24:21<51:44, 45.66s/it]"
     ]
    },
    {
     "name": "stdout",
     "output_type": "stream",
     "text": [
      "Validation performance at episode 33: -2.4160308214112014\n",
      "No improvement for 10 validation(s).\n",
      "Early stopping due to no improvement on validation set.\n",
      "Loaded best model based on validation performance.\n"
     ]
    },
    {
     "name": "stderr",
     "output_type": "stream",
     "text": [
      "\n",
      "C:\\Users\\xutia\\AppData\\Local\\Temp\\ipykernel_26128\\4180739837.py:59: FutureWarning: You are using `torch.load` with `weights_only=False` (the current default value), which uses the default pickle module implicitly. It is possible to construct malicious pickle data which will execute arbitrary code during unpickling (See https://github.com/pytorch/pytorch/blob/main/SECURITY.md#untrusted-models for more details). In a future release, the default value for `weights_only` will be flipped to `True`. This limits the functions that could be executed during unpickling. Arbitrary objects will no longer be allowed to be loaded via this mode unless they are explicitly allowlisted by the user via `torch.serialization.add_safe_globals`. We recommend you start setting `weights_only=True` for any use case where you don't have full control of the loaded file. Please open an issue on GitHub for any issues related to this experimental feature.\n",
      "  EIIE_policy.load_state_dict(torch.load(model_filename))\n"
     ]
    },
    {
     "name": "stdout",
     "output_type": "stream",
     "text": [
      "=================================\n",
      "Initial portfolio value: 100000\n",
      "Final portfolio value: 230119.625\n",
      "Final accumulative portfolio return: 2.30119625\n",
      "Maximum DrawDown: -0.33108437461329465\n",
      "Sharpe ratio: 0.7783914377839126\n",
      "=================================\n",
      "Metrics - train_final_value: 230119.625, train_drawdown: -0.33108437461329465, train_sharpe: 0.7788419104547971, train_cumulative: 2.30119625\n",
      "=================================\n",
      "Initial portfolio value: 100000\n",
      "Final portfolio value: 127466.53125\n",
      "Final accumulative portfolio return: 1.2746653125\n",
      "Maximum DrawDown: -0.14741215897366167\n",
      "Sharpe ratio: 0.884109412459462\n",
      "=================================\n",
      "Metrics - test_final_value: 127466.53125, test_drawdown: -0.1474121589736617, test_sharpe: 0.8859770374575191, test_cumulative: 1.2746653125\n",
      "Training model with TIME_WINDOW=30, K_SIZE=3, CONV_MID=10, CONV_FINAL=5, LEARNING_RATE=0.02\n"
     ]
    },
    {
     "name": "stderr",
     "output_type": "stream",
     "text": [
      "  0%|          | 0/100 [00:00<?, ?it/s]"
     ]
    },
    {
     "name": "stdout",
     "output_type": "stream",
     "text": [
      "=================================\n",
      "Initial portfolio value: 100000\n",
      "Final portfolio value: 287073.09375\n",
      "Final accumulative portfolio return: 2.8707309375\n",
      "Maximum DrawDown: -0.30897110917421655\n",
      "Sharpe ratio: 0.8945406023030765\n",
      "=================================\n"
     ]
    },
    {
     "name": "stderr",
     "output_type": "stream",
     "text": [
      "  1%|          | 1/100 [00:39<1:04:38, 39.18s/it]"
     ]
    },
    {
     "name": "stdout",
     "output_type": "stream",
     "text": [
      "=================================\n",
      "Initial portfolio value: 100000\n",
      "Final portfolio value: 455975.78125\n",
      "Final accumulative portfolio return: 4.5597578125\n",
      "Maximum DrawDown: -0.31001850066624537\n",
      "Sharpe ratio: 1.0234119093114038\n",
      "=================================\n"
     ]
    },
    {
     "name": "stderr",
     "output_type": "stream",
     "text": [
      "  2%|▏         | 2/100 [01:18<1:04:19, 39.38s/it]"
     ]
    },
    {
     "name": "stdout",
     "output_type": "stream",
     "text": [
      "=================================\n",
      "Initial portfolio value: 100000\n",
      "Final portfolio value: 632308.75\n",
      "Final accumulative portfolio return: 6.3230875\n",
      "Maximum DrawDown: -0.2895171655029736\n",
      "Sharpe ratio: 1.1626784596520672\n",
      "=================================\n",
      "=================================\n",
      "Initial portfolio value: 100000\n",
      "Final portfolio value: 171533.015625\n",
      "Final accumulative portfolio return: 1.71533015625\n",
      "Maximum DrawDown: -0.25986061864525023\n",
      "Sharpe ratio: 1.2337516565990452\n",
      "=================================\n"
     ]
    },
    {
     "name": "stderr",
     "output_type": "stream",
     "text": [
      "  3%|▎         | 3/100 [02:09<1:12:20, 44.74s/it]"
     ]
    },
    {
     "name": "stdout",
     "output_type": "stream",
     "text": [
      "Validation performance at episode 3: -1.684388689789562\n",
      "New best validation performance: -1.684388689789562\n",
      "=================================\n",
      "Initial portfolio value: 100000\n",
      "Final portfolio value: 863698.5\n",
      "Final accumulative portfolio return: 8.636985\n",
      "Maximum DrawDown: -0.27993579704980287\n",
      "Sharpe ratio: 1.3082509918753595\n",
      "=================================\n"
     ]
    },
    {
     "name": "stderr",
     "output_type": "stream",
     "text": [
      "  4%|▍         | 4/100 [02:49<1:08:10, 42.61s/it]"
     ]
    },
    {
     "name": "stdout",
     "output_type": "stream",
     "text": [
      "=================================\n",
      "Initial portfolio value: 100000\n",
      "Final portfolio value: 706508.75\n",
      "Final accumulative portfolio return: 7.0650875\n",
      "Maximum DrawDown: -0.3577760269980864\n",
      "Sharpe ratio: 1.138431657916478\n",
      "=================================\n"
     ]
    },
    {
     "name": "stderr",
     "output_type": "stream",
     "text": [
      "  5%|▌         | 5/100 [03:29<1:05:54, 41.63s/it]"
     ]
    },
    {
     "name": "stdout",
     "output_type": "stream",
     "text": [
      "=================================\n",
      "Initial portfolio value: 100000\n",
      "Final portfolio value: 1035716.3125\n",
      "Final accumulative portfolio return: 10.357163125\n",
      "Maximum DrawDown: -0.2803696556047033\n",
      "Sharpe ratio: 1.4346379824657187\n",
      "=================================\n",
      "=================================\n",
      "Initial portfolio value: 100000\n",
      "Final portfolio value: 92505.3125\n",
      "Final accumulative portfolio return: 0.925053125\n",
      "Maximum DrawDown: -0.37882781967924595\n",
      "Sharpe ratio: -0.03826694910606852\n",
      "=================================\n"
     ]
    },
    {
     "name": "stderr",
     "output_type": "stream",
     "text": [
      "  6%|▌         | 6/100 [04:20<1:10:19, 44.88s/it]"
     ]
    },
    {
     "name": "stdout",
     "output_type": "stream",
     "text": [
      "Validation performance at episode 6: -1.905058544034327\n",
      "No improvement for 1 validation(s).\n",
      "=================================\n",
      "Initial portfolio value: 100000\n",
      "Final portfolio value: 908029.375\n",
      "Final accumulative portfolio return: 9.08029375\n",
      "Maximum DrawDown: -0.2796213336146407\n",
      "Sharpe ratio: 1.3274315020687963\n",
      "=================================\n"
     ]
    },
    {
     "name": "stderr",
     "output_type": "stream",
     "text": [
      "  7%|▋         | 7/100 [05:00<1:07:00, 43.23s/it]"
     ]
    },
    {
     "name": "stdout",
     "output_type": "stream",
     "text": [
      "=================================\n",
      "Initial portfolio value: 100000\n",
      "Final portfolio value: 1101325.25\n",
      "Final accumulative portfolio return: 11.0132525\n",
      "Maximum DrawDown: -0.3097695746334216\n",
      "Sharpe ratio: 1.3326648512686532\n",
      "=================================\n"
     ]
    },
    {
     "name": "stderr",
     "output_type": "stream",
     "text": [
      "  8%|▊         | 8/100 [05:39<1:04:36, 42.13s/it]"
     ]
    },
    {
     "name": "stdout",
     "output_type": "stream",
     "text": [
      "=================================\n",
      "Initial portfolio value: 100000\n",
      "Final portfolio value: 1093608.125\n",
      "Final accumulative portfolio return: 10.93608125\n",
      "Maximum DrawDown: -0.28027213777037163\n",
      "Sharpe ratio: 1.3673698690073994\n",
      "=================================\n",
      "=================================\n",
      "Initial portfolio value: 100000\n",
      "Final portfolio value: 171053.859375\n",
      "Final accumulative portfolio return: 1.71053859375\n",
      "Maximum DrawDown: -0.2671018866985908\n",
      "Sharpe ratio: 1.201623664098223\n",
      "=================================\n"
     ]
    },
    {
     "name": "stderr",
     "output_type": "stream",
     "text": [
      "  9%|▉         | 9/100 [06:31<1:08:22, 45.08s/it]"
     ]
    },
    {
     "name": "stdout",
     "output_type": "stream",
     "text": [
      "Validation performance at episode 9: -1.7045109482589695\n",
      "No improvement for 2 validation(s).\n",
      "=================================\n",
      "Initial portfolio value: 100000\n",
      "Final portfolio value: 1228742.0\n",
      "Final accumulative portfolio return: 12.28742\n",
      "Maximum DrawDown: -0.2802880041819592\n",
      "Sharpe ratio: 1.3951259101272617\n",
      "=================================\n"
     ]
    },
    {
     "name": "stderr",
     "output_type": "stream",
     "text": [
      " 10%|█         | 10/100 [07:10<1:04:58, 43.32s/it]"
     ]
    },
    {
     "name": "stdout",
     "output_type": "stream",
     "text": [
      "=================================\n",
      "Initial portfolio value: 100000\n",
      "Final portfolio value: 1191325.875\n",
      "Final accumulative portfolio return: 11.91325875\n",
      "Maximum DrawDown: -0.28033557359549455\n",
      "Sharpe ratio: 1.3858421894066255\n",
      "=================================\n"
     ]
    },
    {
     "name": "stderr",
     "output_type": "stream",
     "text": [
      " 11%|█         | 11/100 [07:50<1:02:34, 42.18s/it]"
     ]
    },
    {
     "name": "stdout",
     "output_type": "stream",
     "text": [
      "=================================\n",
      "Initial portfolio value: 100000\n",
      "Final portfolio value: 1253611.625\n",
      "Final accumulative portfolio return: 12.53611625\n",
      "Maximum DrawDown: -0.28036651038252614\n",
      "Sharpe ratio: 1.3950375479268784\n",
      "=================================\n",
      "=================================\n",
      "Initial portfolio value: 100000\n",
      "Final portfolio value: 169544.5625\n",
      "Final accumulative portfolio return: 1.695445625\n",
      "Maximum DrawDown: -0.313444445202562\n",
      "Sharpe ratio: 1.1402889981334634\n",
      "=================================\n"
     ]
    },
    {
     "name": "stderr",
     "output_type": "stream",
     "text": [
      " 12%|█▏        | 12/100 [08:42<1:06:23, 45.27s/it]"
     ]
    },
    {
     "name": "stdout",
     "output_type": "stream",
     "text": [
      "Validation performance at episode 12: -1.8661142564048145\n",
      "No improvement for 3 validation(s).\n",
      "=================================\n",
      "Initial portfolio value: 100000\n",
      "Final portfolio value: 1158379.875\n",
      "Final accumulative portfolio return: 11.58379875\n",
      "Maximum DrawDown: -0.2904375475559017\n",
      "Sharpe ratio: 1.3501165310586314\n",
      "=================================\n"
     ]
    },
    {
     "name": "stderr",
     "output_type": "stream",
     "text": [
      " 13%|█▎        | 13/100 [09:22<1:03:16, 43.63s/it]"
     ]
    },
    {
     "name": "stdout",
     "output_type": "stream",
     "text": [
      "=================================\n",
      "Initial portfolio value: 100000\n",
      "Final portfolio value: 1108668.875\n",
      "Final accumulative portfolio return: 11.08668875\n",
      "Maximum DrawDown: -0.2803927061597479\n",
      "Sharpe ratio: 1.418495861091165\n",
      "=================================\n"
     ]
    },
    {
     "name": "stderr",
     "output_type": "stream",
     "text": [
      " 14%|█▍        | 14/100 [10:02<1:00:51, 42.46s/it]"
     ]
    },
    {
     "name": "stdout",
     "output_type": "stream",
     "text": [
      "=================================\n",
      "Initial portfolio value: 100000\n",
      "Final portfolio value: 1289592.125\n",
      "Final accumulative portfolio return: 12.89592125\n",
      "Maximum DrawDown: -0.2803925655915299\n",
      "Sharpe ratio: 1.5105692363786476\n",
      "=================================\n",
      "=================================\n",
      "Initial portfolio value: 100000\n",
      "Final portfolio value: 171268.640625\n",
      "Final accumulative portfolio return: 1.71268640625\n",
      "Maximum DrawDown: -0.26700957000270964\n",
      "Sharpe ratio: 1.1946859772611318\n",
      "=================================\n"
     ]
    },
    {
     "name": "stderr",
     "output_type": "stream",
     "text": [
      " 15%|█▌        | 15/100 [10:53<1:04:00, 45.18s/it]"
     ]
    },
    {
     "name": "stdout",
     "output_type": "stream",
     "text": [
      "Validation performance at episode 15: -1.4805403324472572\n",
      "New best validation performance: -1.4805403324472572\n",
      "=================================\n",
      "Initial portfolio value: 100000\n",
      "Final portfolio value: 1132392.5\n",
      "Final accumulative portfolio return: 11.323925\n",
      "Maximum DrawDown: -0.2803827007739931\n",
      "Sharpe ratio: 1.3506728813430964\n",
      "=================================\n"
     ]
    },
    {
     "name": "stderr",
     "output_type": "stream",
     "text": [
      " 16%|█▌        | 16/100 [11:33<1:00:47, 43.42s/it]"
     ]
    },
    {
     "name": "stdout",
     "output_type": "stream",
     "text": [
      "=================================\n",
      "Initial portfolio value: 100000\n",
      "Final portfolio value: 1093371.75\n",
      "Final accumulative portfolio return: 10.9337175\n",
      "Maximum DrawDown: -0.2840715682945\n",
      "Sharpe ratio: 1.3334849359191576\n",
      "=================================\n"
     ]
    },
    {
     "name": "stderr",
     "output_type": "stream",
     "text": [
      " 17%|█▋        | 17/100 [12:12<58:31, 42.31s/it]  "
     ]
    },
    {
     "name": "stdout",
     "output_type": "stream",
     "text": [
      "=================================\n",
      "Initial portfolio value: 100000\n",
      "Final portfolio value: 859643.8125\n",
      "Final accumulative portfolio return: 8.596438125\n",
      "Maximum DrawDown: -0.35745943958624204\n",
      "Sharpe ratio: 1.1879581653721225\n",
      "=================================\n",
      "=================================\n",
      "Initial portfolio value: 100000\n",
      "Final portfolio value: 150989.328125\n",
      "Final accumulative portfolio return: 1.50989328125\n",
      "Maximum DrawDown: -0.3310267163851722\n",
      "Sharpe ratio: 0.8927927851992962\n",
      "=================================\n"
     ]
    },
    {
     "name": "stderr",
     "output_type": "stream",
     "text": [
      " 18%|█▊        | 18/100 [13:04<1:01:33, 45.05s/it]"
     ]
    },
    {
     "name": "stdout",
     "output_type": "stream",
     "text": [
      "Validation performance at episode 18: -1.9932050898608216\n",
      "No improvement for 1 validation(s).\n",
      "=================================\n",
      "Initial portfolio value: 100000\n",
      "Final portfolio value: 949490.1875\n",
      "Final accumulative portfolio return: 9.494901875\n",
      "Maximum DrawDown: -0.3271279079908104\n",
      "Sharpe ratio: 1.2237454491227093\n",
      "=================================\n"
     ]
    },
    {
     "name": "stderr",
     "output_type": "stream",
     "text": [
      " 19%|█▉        | 19/100 [13:43<58:34, 43.39s/it]  "
     ]
    },
    {
     "name": "stdout",
     "output_type": "stream",
     "text": [
      "=================================\n",
      "Initial portfolio value: 100000\n",
      "Final portfolio value: 847220.3125\n",
      "Final accumulative portfolio return: 8.472203125\n",
      "Maximum DrawDown: -0.328700857173858\n",
      "Sharpe ratio: 1.180551835472675\n",
      "=================================\n"
     ]
    },
    {
     "name": "stderr",
     "output_type": "stream",
     "text": [
      " 20%|██        | 20/100 [14:23<56:21, 42.27s/it]"
     ]
    },
    {
     "name": "stdout",
     "output_type": "stream",
     "text": [
      "=================================\n",
      "Initial portfolio value: 100000\n",
      "Final portfolio value: 1165149.25\n",
      "Final accumulative portfolio return: 11.6514925\n",
      "Maximum DrawDown: -0.28410053017642967\n",
      "Sharpe ratio: 1.4027638967318727\n",
      "=================================\n",
      "=================================\n",
      "Initial portfolio value: 100000\n",
      "Final portfolio value: 162804.71875\n",
      "Final accumulative portfolio return: 1.6280471875\n",
      "Maximum DrawDown: -0.2761488368963255\n",
      "Sharpe ratio: 1.06347118560481\n",
      "=================================\n"
     ]
    },
    {
     "name": "stderr",
     "output_type": "stream",
     "text": [
      " 21%|██        | 21/100 [15:15<59:20, 45.07s/it]"
     ]
    },
    {
     "name": "stdout",
     "output_type": "stream",
     "text": [
      "Validation performance at episode 21: -1.6926972149732291\n",
      "No improvement for 2 validation(s).\n",
      "=================================\n",
      "Initial portfolio value: 100000\n",
      "Final portfolio value: 1500011.0\n",
      "Final accumulative portfolio return: 15.00011\n",
      "Maximum DrawDown: -0.28450455890845483\n",
      "Sharpe ratio: 1.5082247610014041\n",
      "=================================\n"
     ]
    },
    {
     "name": "stderr",
     "output_type": "stream",
     "text": [
      " 22%|██▏       | 22/100 [15:54<56:28, 43.44s/it]"
     ]
    },
    {
     "name": "stdout",
     "output_type": "stream",
     "text": [
      "=================================\n",
      "Initial portfolio value: 100000\n",
      "Final portfolio value: 1290491.125\n",
      "Final accumulative portfolio return: 12.90491125\n",
      "Maximum DrawDown: -0.28039361548013364\n",
      "Sharpe ratio: 1.465687267831407\n",
      "=================================\n"
     ]
    },
    {
     "name": "stderr",
     "output_type": "stream",
     "text": [
      " 23%|██▎       | 23/100 [16:34<54:24, 42.39s/it]"
     ]
    },
    {
     "name": "stdout",
     "output_type": "stream",
     "text": [
      "=================================\n",
      "Initial portfolio value: 100000\n",
      "Final portfolio value: 1490192.25\n",
      "Final accumulative portfolio return: 14.9019225\n",
      "Maximum DrawDown: -0.2938420616827888\n",
      "Sharpe ratio: 1.5653405659551638\n",
      "=================================\n",
      "=================================\n",
      "Initial portfolio value: 100000\n",
      "Final portfolio value: 144869.765625\n",
      "Final accumulative portfolio return: 1.44869765625\n",
      "Maximum DrawDown: -0.3419380413742029\n",
      "Sharpe ratio: 0.8938905567148513\n",
      "=================================\n"
     ]
    },
    {
     "name": "stderr",
     "output_type": "stream",
     "text": [
      " 24%|██▍       | 24/100 [17:25<56:56, 44.96s/it]"
     ]
    },
    {
     "name": "stdout",
     "output_type": "stream",
     "text": [
      "Validation performance at episode 24: -1.7876434789493394\n",
      "No improvement for 3 validation(s).\n",
      "=================================\n",
      "Initial portfolio value: 100000\n",
      "Final portfolio value: 1296661.375\n",
      "Final accumulative portfolio return: 12.96661375\n",
      "Maximum DrawDown: -0.30411764679430386\n",
      "Sharpe ratio: 1.5241236294980276\n",
      "=================================\n"
     ]
    },
    {
     "name": "stderr",
     "output_type": "stream",
     "text": [
      " 25%|██▌       | 25/100 [18:05<54:15, 43.41s/it]"
     ]
    },
    {
     "name": "stdout",
     "output_type": "stream",
     "text": [
      "=================================\n",
      "Initial portfolio value: 100000\n",
      "Final portfolio value: 1574472.125\n",
      "Final accumulative portfolio return: 15.74472125\n",
      "Maximum DrawDown: -0.2803195063509004\n",
      "Sharpe ratio: 1.6369567814377481\n",
      "=================================\n"
     ]
    },
    {
     "name": "stderr",
     "output_type": "stream",
     "text": [
      " 26%|██▌       | 26/100 [18:45<52:15, 42.38s/it]"
     ]
    },
    {
     "name": "stdout",
     "output_type": "stream",
     "text": [
      "=================================\n",
      "Initial portfolio value: 100000\n",
      "Final portfolio value: 1859755.25\n",
      "Final accumulative portfolio return: 18.5975525\n",
      "Maximum DrawDown: -0.28664794265527194\n",
      "Sharpe ratio: 1.7077096053699843\n",
      "=================================\n",
      "=================================\n",
      "Initial portfolio value: 100000\n",
      "Final portfolio value: 152663.921875\n",
      "Final accumulative portfolio return: 1.52663921875\n",
      "Maximum DrawDown: -0.2963261869351902\n",
      "Sharpe ratio: 0.9721961458523578\n",
      "=================================\n"
     ]
    },
    {
     "name": "stderr",
     "output_type": "stream",
     "text": [
      " 27%|██▋       | 27/100 [19:36<54:52, 45.10s/it]"
     ]
    },
    {
     "name": "stdout",
     "output_type": "stream",
     "text": [
      "Validation performance at episode 27: -1.9376586654868424\n",
      "No improvement for 4 validation(s).\n",
      "=================================\n",
      "Initial portfolio value: 100000\n",
      "Final portfolio value: 1847697.0\n",
      "Final accumulative portfolio return: 18.47697\n",
      "Maximum DrawDown: -0.2803604959790833\n",
      "Sharpe ratio: 1.7162749351366124\n",
      "=================================\n"
     ]
    },
    {
     "name": "stderr",
     "output_type": "stream",
     "text": [
      " 28%|██▊       | 28/100 [20:16<52:10, 43.47s/it]"
     ]
    },
    {
     "name": "stdout",
     "output_type": "stream",
     "text": [
      "=================================\n",
      "Initial portfolio value: 100000\n",
      "Final portfolio value: 2038455.625\n",
      "Final accumulative portfolio return: 20.38455625\n",
      "Maximum DrawDown: -0.28038852544649107\n",
      "Sharpe ratio: 1.763302201571567\n",
      "=================================\n"
     ]
    },
    {
     "name": "stderr",
     "output_type": "stream",
     "text": [
      " 29%|██▉       | 29/100 [20:56<50:16, 42.48s/it]"
     ]
    },
    {
     "name": "stdout",
     "output_type": "stream",
     "text": [
      "=================================\n",
      "Initial portfolio value: 100000\n",
      "Final portfolio value: 1978037.5\n",
      "Final accumulative portfolio return: 19.780375\n",
      "Maximum DrawDown: -0.2803897995504149\n",
      "Sharpe ratio: 1.7305897149675618\n",
      "=================================\n",
      "=================================\n",
      "Initial portfolio value: 100000\n",
      "Final portfolio value: 155287.984375\n",
      "Final accumulative portfolio return: 1.55287984375\n",
      "Maximum DrawDown: -0.2924007748327736\n",
      "Sharpe ratio: 0.9974847570231715\n",
      "=================================\n"
     ]
    },
    {
     "name": "stderr",
     "output_type": "stream",
     "text": [
      " 30%|███       | 30/100 [21:48<52:51, 45.31s/it]"
     ]
    },
    {
     "name": "stdout",
     "output_type": "stream",
     "text": [
      "Validation performance at episode 30: -1.9528976826624718\n",
      "No improvement for 5 validation(s).\n",
      "=================================\n",
      "Initial portfolio value: 100000\n",
      "Final portfolio value: 1897953.5\n",
      "Final accumulative portfolio return: 18.979535\n",
      "Maximum DrawDown: -0.29965955179218984\n",
      "Sharpe ratio: 1.7064395946208608\n",
      "=================================\n"
     ]
    },
    {
     "name": "stderr",
     "output_type": "stream",
     "text": [
      " 31%|███       | 31/100 [22:28<50:06, 43.57s/it]"
     ]
    },
    {
     "name": "stdout",
     "output_type": "stream",
     "text": [
      "=================================\n",
      "Initial portfolio value: 100000\n",
      "Final portfolio value: 1956080.5\n",
      "Final accumulative portfolio return: 19.560805\n",
      "Maximum DrawDown: -0.2803729866487189\n",
      "Sharpe ratio: 1.75072231342327\n",
      "=================================\n"
     ]
    },
    {
     "name": "stderr",
     "output_type": "stream",
     "text": [
      " 32%|███▏      | 32/100 [23:08<48:13, 42.55s/it]"
     ]
    },
    {
     "name": "stdout",
     "output_type": "stream",
     "text": [
      "=================================\n",
      "Initial portfolio value: 100000\n",
      "Final portfolio value: 1618981.875\n",
      "Final accumulative portfolio return: 16.18981875\n",
      "Maximum DrawDown: -0.27287538763398556\n",
      "Sharpe ratio: 1.5899369225836844\n",
      "=================================\n",
      "=================================\n",
      "Initial portfolio value: 100000\n",
      "Final portfolio value: 129397.96875\n",
      "Final accumulative portfolio return: 1.2939796875\n",
      "Maximum DrawDown: -0.14066375790048047\n",
      "Sharpe ratio: 0.9187574694519252\n",
      "=================================\n"
     ]
    },
    {
     "name": "stderr",
     "output_type": "stream",
     "text": [
      " 33%|███▎      | 33/100 [24:00<50:43, 45.43s/it]"
     ]
    },
    {
     "name": "stdout",
     "output_type": "stream",
     "text": [
      "Validation performance at episode 33: -4.691651376872152\n",
      "No improvement for 6 validation(s).\n",
      "=================================\n",
      "Initial portfolio value: 100000\n",
      "Final portfolio value: 1938176.375\n",
      "Final accumulative portfolio return: 19.38176375\n",
      "Maximum DrawDown: -0.28384808960727415\n",
      "Sharpe ratio: 1.7068193052728877\n",
      "=================================\n"
     ]
    },
    {
     "name": "stderr",
     "output_type": "stream",
     "text": [
      " 34%|███▍      | 34/100 [24:40<48:05, 43.72s/it]"
     ]
    },
    {
     "name": "stdout",
     "output_type": "stream",
     "text": [
      "=================================\n",
      "Initial portfolio value: 100000\n",
      "Final portfolio value: 2127907.25\n",
      "Final accumulative portfolio return: 21.2790725\n",
      "Maximum DrawDown: -0.27748976092773403\n",
      "Sharpe ratio: 1.7655173590569302\n",
      "=================================\n"
     ]
    },
    {
     "name": "stderr",
     "output_type": "stream",
     "text": [
      " 35%|███▌      | 35/100 [25:20<46:11, 42.63s/it]"
     ]
    },
    {
     "name": "stdout",
     "output_type": "stream",
     "text": [
      "=================================\n",
      "Initial portfolio value: 100000\n",
      "Final portfolio value: 2116297.0\n",
      "Final accumulative portfolio return: 21.16297\n",
      "Maximum DrawDown: -0.27876849154338035\n",
      "Sharpe ratio: 1.7618088336107858\n",
      "=================================\n",
      "=================================\n",
      "Initial portfolio value: 100000\n",
      "Final portfolio value: 128989.375\n",
      "Final accumulative portfolio return: 1.28989375\n",
      "Maximum DrawDown: -0.2900747029732055\n",
      "Sharpe ratio: 0.6732083192332395\n",
      "=================================\n"
     ]
    },
    {
     "name": "stderr",
     "output_type": "stream",
     "text": [
      " 36%|███▌      | 36/100 [26:12<48:28, 45.45s/it]"
     ]
    },
    {
     "name": "stdout",
     "output_type": "stream",
     "text": [
      "Validation performance at episode 36: -2.658483364096028\n",
      "No improvement for 7 validation(s).\n",
      "=================================\n",
      "Initial portfolio value: 100000\n",
      "Final portfolio value: 2186034.75\n",
      "Final accumulative portfolio return: 21.8603475\n",
      "Maximum DrawDown: -0.27721716811908204\n",
      "Sharpe ratio: 1.7825538730286232\n",
      "=================================\n"
     ]
    },
    {
     "name": "stderr",
     "output_type": "stream",
     "text": [
      " 37%|███▋      | 37/100 [26:52<45:56, 43.75s/it]"
     ]
    },
    {
     "name": "stdout",
     "output_type": "stream",
     "text": [
      "=================================\n",
      "Initial portfolio value: 100000\n",
      "Final portfolio value: 2219447.25\n",
      "Final accumulative portfolio return: 22.1944725\n",
      "Maximum DrawDown: -0.2765101498324094\n",
      "Sharpe ratio: 1.7915895700051856\n",
      "=================================\n"
     ]
    },
    {
     "name": "stderr",
     "output_type": "stream",
     "text": [
      " 38%|███▊      | 38/100 [27:31<44:00, 42.58s/it]"
     ]
    },
    {
     "name": "stdout",
     "output_type": "stream",
     "text": [
      "=================================\n",
      "Initial portfolio value: 100000\n",
      "Final portfolio value: 2253215.5\n",
      "Final accumulative portfolio return: 22.532155\n",
      "Maximum DrawDown: -0.2758918945279035\n",
      "Sharpe ratio: 1.7985098307437026\n",
      "=================================\n",
      "=================================\n",
      "Initial portfolio value: 100000\n",
      "Final portfolio value: 124097.8203125\n",
      "Final accumulative portfolio return: 1.240978203125\n",
      "Maximum DrawDown: -0.3296183541829555\n",
      "Sharpe ratio: 0.5611166528684264\n",
      "=================================\n"
     ]
    },
    {
     "name": "stderr",
     "output_type": "stream",
     "text": [
      " 39%|███▉      | 39/100 [28:26<46:54, 46.14s/it]"
     ]
    },
    {
     "name": "stdout",
     "output_type": "stream",
     "text": [
      "Validation performance at episode 39: -2.5526860980333352\n",
      "No improvement for 8 validation(s).\n",
      "=================================\n",
      "Initial portfolio value: 100000\n",
      "Final portfolio value: 2301414.0\n",
      "Final accumulative portfolio return: 23.01414\n",
      "Maximum DrawDown: -0.2747315513282864\n",
      "Sharpe ratio: 1.806875891126715\n",
      "=================================\n"
     ]
    },
    {
     "name": "stderr",
     "output_type": "stream",
     "text": [
      " 40%|████      | 40/100 [29:08<44:48, 44.80s/it]"
     ]
    },
    {
     "name": "stdout",
     "output_type": "stream",
     "text": [
      "=================================\n",
      "Initial portfolio value: 100000\n",
      "Final portfolio value: 2344059.5\n",
      "Final accumulative portfolio return: 23.440595\n",
      "Maximum DrawDown: -0.2734714480643219\n",
      "Sharpe ratio: 1.813967085525317\n",
      "=================================\n"
     ]
    },
    {
     "name": "stderr",
     "output_type": "stream",
     "text": [
      " 41%|████      | 41/100 [29:49<43:00, 43.74s/it]"
     ]
    },
    {
     "name": "stdout",
     "output_type": "stream",
     "text": [
      "=================================\n",
      "Initial portfolio value: 100000\n",
      "Final portfolio value: 2373604.25\n",
      "Final accumulative portfolio return: 23.7360425\n",
      "Maximum DrawDown: -0.27222648647226\n",
      "Sharpe ratio: 1.8213872029753901\n",
      "=================================\n",
      "=================================\n",
      "Initial portfolio value: 100000\n",
      "Final portfolio value: 125151.3828125\n",
      "Final accumulative portfolio return: 1.251513828125\n",
      "Maximum DrawDown: -0.3260430973393942\n",
      "Sharpe ratio: 0.576102333657584\n",
      "=================================\n"
     ]
    },
    {
     "name": "stderr",
     "output_type": "stream",
     "text": [
      " 42%|████▏     | 42/100 [30:42<45:02, 46.59s/it]"
     ]
    },
    {
     "name": "stdout",
     "output_type": "stream",
     "text": [
      "Validation performance at episode 42: -2.5166661913076975\n",
      "No improvement for 9 validation(s).\n",
      "=================================\n",
      "Initial portfolio value: 100000\n",
      "Final portfolio value: 2399353.25\n",
      "Final accumulative portfolio return: 23.9935325\n",
      "Maximum DrawDown: -0.2709596578183002\n",
      "Sharpe ratio: 1.827947362295688\n",
      "=================================\n"
     ]
    },
    {
     "name": "stderr",
     "output_type": "stream",
     "text": [
      " 43%|████▎     | 43/100 [31:24<42:54, 45.16s/it]"
     ]
    },
    {
     "name": "stdout",
     "output_type": "stream",
     "text": [
      "=================================\n",
      "Initial portfolio value: 100000\n",
      "Final portfolio value: 2425236.5\n",
      "Final accumulative portfolio return: 24.252365\n",
      "Maximum DrawDown: -0.26955025184746695\n",
      "Sharpe ratio: 1.8338151665276148\n",
      "=================================\n"
     ]
    },
    {
     "name": "stderr",
     "output_type": "stream",
     "text": [
      " 44%|████▍     | 44/100 [32:06<41:23, 44.35s/it]"
     ]
    },
    {
     "name": "stdout",
     "output_type": "stream",
     "text": [
      "=================================\n",
      "Initial portfolio value: 100000\n",
      "Final portfolio value: 2450504.5\n",
      "Final accumulative portfolio return: 24.505045\n",
      "Maximum DrawDown: -0.2680134514121538\n",
      "Sharpe ratio: 1.8390820182011096\n",
      "=================================\n",
      "=================================\n",
      "Initial portfolio value: 100000\n",
      "Final portfolio value: 126361.5859375\n",
      "Final accumulative portfolio return: 1.263615859375\n",
      "Maximum DrawDown: -0.32248154032482446\n",
      "Sharpe ratio: 0.5944539490892052\n",
      "=================================\n"
     ]
    },
    {
     "name": "stderr",
     "output_type": "stream",
     "text": [
      " 44%|████▍     | 44/100 [33:04<42:05, 45.11s/it]"
     ]
    },
    {
     "name": "stdout",
     "output_type": "stream",
     "text": [
      "Validation performance at episode 45: -2.507114411801057\n",
      "No improvement for 10 validation(s).\n",
      "Early stopping due to no improvement on validation set.\n",
      "Loaded best model based on validation performance.\n"
     ]
    },
    {
     "name": "stderr",
     "output_type": "stream",
     "text": [
      "\n",
      "C:\\Users\\xutia\\AppData\\Local\\Temp\\ipykernel_26128\\4180739837.py:59: FutureWarning: You are using `torch.load` with `weights_only=False` (the current default value), which uses the default pickle module implicitly. It is possible to construct malicious pickle data which will execute arbitrary code during unpickling (See https://github.com/pytorch/pytorch/blob/main/SECURITY.md#untrusted-models for more details). In a future release, the default value for `weights_only` will be flipped to `True`. This limits the functions that could be executed during unpickling. Arbitrary objects will no longer be allowed to be loaded via this mode unless they are explicitly allowlisted by the user via `torch.serialization.add_safe_globals`. We recommend you start setting `weights_only=True` for any use case where you don't have full control of the loaded file. Please open an issue on GitHub for any issues related to this experimental feature.\n",
      "  EIIE_policy.load_state_dict(torch.load(model_filename))\n"
     ]
    },
    {
     "name": "stdout",
     "output_type": "stream",
     "text": [
      "=================================\n",
      "Initial portfolio value: 100000\n",
      "Final portfolio value: 665641.625\n",
      "Final accumulative portfolio return: 6.65641625\n",
      "Maximum DrawDown: -0.44531118388611035\n",
      "Sharpe ratio: 1.1014615661286622\n",
      "=================================\n",
      "Metrics - train_final_value: 665641.625, train_drawdown: -0.44531118388611035, train_sharpe: 1.1020980781943075, train_cumulative: 6.65641625\n",
      "=================================\n",
      "Initial portfolio value: 100000\n",
      "Final portfolio value: 161771.703125\n",
      "Final accumulative portfolio return: 1.61771703125\n",
      "Maximum DrawDown: -0.30755587024895015\n",
      "Sharpe ratio: 1.051844097313758\n",
      "=================================\n",
      "Metrics - test_final_value: 161771.703125, test_drawdown: -0.3075558702489501, test_sharpe: 1.0540742113407582, test_cumulative: 1.61771703125\n",
      "Training model with TIME_WINDOW=30, K_SIZE=3, CONV_MID=10, CONV_FINAL=10, LEARNING_RATE=0.01\n"
     ]
    },
    {
     "name": "stderr",
     "output_type": "stream",
     "text": [
      "  0%|          | 0/100 [00:00<?, ?it/s]"
     ]
    },
    {
     "name": "stdout",
     "output_type": "stream",
     "text": [
      "=================================\n",
      "Initial portfolio value: 100000\n",
      "Final portfolio value: 251451.6875\n",
      "Final accumulative portfolio return: 2.514516875\n",
      "Maximum DrawDown: -0.3213714294984864\n",
      "Sharpe ratio: 0.8252415129729289\n",
      "=================================\n"
     ]
    },
    {
     "name": "stderr",
     "output_type": "stream",
     "text": [
      "  1%|          | 1/100 [00:41<1:08:14, 41.36s/it]"
     ]
    },
    {
     "name": "stdout",
     "output_type": "stream",
     "text": [
      "=================================\n",
      "Initial portfolio value: 100000\n",
      "Final portfolio value: 384881.46875\n",
      "Final accumulative portfolio return: 3.8488146875\n",
      "Maximum DrawDown: -0.31732464666068716\n",
      "Sharpe ratio: 0.9881045904717137\n",
      "=================================\n"
     ]
    },
    {
     "name": "stderr",
     "output_type": "stream",
     "text": [
      "  2%|▏         | 2/100 [01:23<1:08:08, 41.72s/it]"
     ]
    },
    {
     "name": "stdout",
     "output_type": "stream",
     "text": [
      "=================================\n",
      "Initial portfolio value: 100000\n",
      "Final portfolio value: 510134.78125\n",
      "Final accumulative portfolio return: 5.1013478125\n",
      "Maximum DrawDown: -0.3298301916280223\n",
      "Sharpe ratio: 1.0799477327876135\n",
      "=================================\n",
      "=================================\n",
      "Initial portfolio value: 100000\n",
      "Final portfolio value: 165229.421875\n",
      "Final accumulative portfolio return: 1.65229421875\n",
      "Maximum DrawDown: -0.19698758661685245\n",
      "Sharpe ratio: 1.1498616611127181\n",
      "=================================\n"
     ]
    },
    {
     "name": "stderr",
     "output_type": "stream",
     "text": [
      "  3%|▎         | 3/100 [02:17<1:16:40, 47.43s/it]"
     ]
    },
    {
     "name": "stdout",
     "output_type": "stream",
     "text": [
      "Validation performance at episode 3: -1.7806954080616477\n",
      "New best validation performance: -1.7806954080616477\n",
      "=================================\n",
      "Initial portfolio value: 100000\n",
      "Final portfolio value: 634421.875\n",
      "Final accumulative portfolio return: 6.34421875\n",
      "Maximum DrawDown: -0.31157959570657023\n",
      "Sharpe ratio: 1.1871516056241473\n",
      "=================================\n"
     ]
    },
    {
     "name": "stderr",
     "output_type": "stream",
     "text": [
      "  4%|▍         | 4/100 [02:59<1:12:24, 45.25s/it]"
     ]
    },
    {
     "name": "stdout",
     "output_type": "stream",
     "text": [
      "=================================\n",
      "Initial portfolio value: 100000\n",
      "Final portfolio value: 683600.1875\n",
      "Final accumulative portfolio return: 6.836001875\n",
      "Maximum DrawDown: -0.3019571699141772\n",
      "Sharpe ratio: 1.2420521101578195\n",
      "=================================\n"
     ]
    },
    {
     "name": "stderr",
     "output_type": "stream",
     "text": [
      "  5%|▌         | 5/100 [03:41<1:09:48, 44.09s/it]"
     ]
    },
    {
     "name": "stdout",
     "output_type": "stream",
     "text": [
      "=================================\n",
      "Initial portfolio value: 100000\n",
      "Final portfolio value: 783335.625\n",
      "Final accumulative portfolio return: 7.83335625\n",
      "Maximum DrawDown: -0.30151011526896576\n",
      "Sharpe ratio: 1.2894462436294098\n",
      "=================================\n",
      "=================================\n",
      "Initial portfolio value: 100000\n",
      "Final portfolio value: 161310.359375\n",
      "Final accumulative portfolio return: 1.61310359375\n",
      "Maximum DrawDown: -0.25695252104879207\n",
      "Sharpe ratio: 1.0434965714138167\n",
      "=================================\n"
     ]
    },
    {
     "name": "stderr",
     "output_type": "stream",
     "text": [
      "  6%|▌         | 6/100 [04:38<1:16:12, 48.64s/it]"
     ]
    },
    {
     "name": "stdout",
     "output_type": "stream",
     "text": [
      "Validation performance at episode 6: -1.967677097364138\n",
      "No improvement for 1 validation(s).\n",
      "=================================\n",
      "Initial portfolio value: 100000\n",
      "Final portfolio value: 936808.125\n",
      "Final accumulative portfolio return: 9.36808125\n",
      "Maximum DrawDown: -0.3006092108372195\n",
      "Sharpe ratio: 1.3626408574745577\n",
      "=================================\n"
     ]
    },
    {
     "name": "stderr",
     "output_type": "stream",
     "text": [
      "  7%|▋         | 7/100 [05:21<1:12:06, 46.53s/it]"
     ]
    },
    {
     "name": "stdout",
     "output_type": "stream",
     "text": [
      "=================================\n",
      "Initial portfolio value: 100000\n",
      "Final portfolio value: 1107724.0\n",
      "Final accumulative portfolio return: 11.07724\n",
      "Maximum DrawDown: -0.302104027831525\n",
      "Sharpe ratio: 1.434361477907501\n",
      "=================================\n"
     ]
    },
    {
     "name": "stderr",
     "output_type": "stream",
     "text": [
      "  8%|▊         | 8/100 [06:04<1:09:36, 45.39s/it]"
     ]
    },
    {
     "name": "stdout",
     "output_type": "stream",
     "text": [
      "=================================\n",
      "Initial portfolio value: 100000\n",
      "Final portfolio value: 1278082.25\n",
      "Final accumulative portfolio return: 12.7808225\n",
      "Maximum DrawDown: -0.3068591117742543\n",
      "Sharpe ratio: 1.4792916748741165\n",
      "=================================\n",
      "=================================\n",
      "Initial portfolio value: 100000\n",
      "Final portfolio value: 176314.75\n",
      "Final accumulative portfolio return: 1.7631475\n",
      "Maximum DrawDown: -0.26598337210152145\n",
      "Sharpe ratio: 1.1793192758639368\n",
      "=================================\n"
     ]
    },
    {
     "name": "stderr",
     "output_type": "stream",
     "text": [
      "  9%|▉         | 9/100 [06:57<1:12:38, 47.89s/it]"
     ]
    },
    {
     "name": "stdout",
     "output_type": "stream",
     "text": [
      "Validation performance at episode 9: -2.0891255752322\n",
      "No improvement for 2 validation(s).\n",
      "=================================\n",
      "Initial portfolio value: 100000\n",
      "Final portfolio value: 1350443.625\n",
      "Final accumulative portfolio return: 13.50443625\n",
      "Maximum DrawDown: -0.3101078165221193\n",
      "Sharpe ratio: 1.504092016870277\n",
      "=================================\n"
     ]
    },
    {
     "name": "stderr",
     "output_type": "stream",
     "text": [
      " 10%|█         | 10/100 [07:37<1:08:19, 45.55s/it]"
     ]
    },
    {
     "name": "stdout",
     "output_type": "stream",
     "text": [
      "=================================\n",
      "Initial portfolio value: 100000\n",
      "Final portfolio value: 414525.28125\n",
      "Final accumulative portfolio return: 4.1452528125\n",
      "Maximum DrawDown: -0.18444367392599026\n",
      "Sharpe ratio: 1.1831700261648714\n",
      "=================================\n"
     ]
    },
    {
     "name": "stderr",
     "output_type": "stream",
     "text": [
      " 11%|█         | 11/100 [08:18<1:05:30, 44.16s/it]"
     ]
    },
    {
     "name": "stdout",
     "output_type": "stream",
     "text": [
      "=================================\n",
      "Initial portfolio value: 100000\n",
      "Final portfolio value: 99999.9140625\n",
      "Final accumulative portfolio return: 0.999999140625\n",
      "Maximum DrawDown: -1.4062500000022737e-06\n",
      "Sharpe ratio: -0.24038536790961387\n",
      "=================================\n",
      "=================================\n",
      "Initial portfolio value: 100000\n",
      "Final portfolio value: 100000.0\n",
      "Final accumulative portfolio return: 1.0\n",
      "Maximum DrawDown: 0.0\n",
      "Sharpe ratio: nan\n",
      "=================================\n"
     ]
    },
    {
     "name": "stderr",
     "output_type": "stream",
     "text": [
      "C:\\Users\\xutia\\AppData\\Roaming\\Python\\Python310\\site-packages\\quantstats\\stats.py:294: RuntimeWarning: invalid value encountered in scalar divide\n",
      "  res = returns.mean() / divisor\n",
      " 12%|█▏        | 12/100 [09:12<1:09:11, 47.18s/it]"
     ]
    },
    {
     "name": "stdout",
     "output_type": "stream",
     "text": [
      "Validation performance at episode 12: 69314718.05599453\n",
      "New best validation performance: 69314718.05599453\n",
      "=================================\n",
      "Initial portfolio value: 100000\n",
      "Final portfolio value: 100000.0\n",
      "Final accumulative portfolio return: 1.0\n",
      "Maximum DrawDown: 0.0\n",
      "Sharpe ratio: nan\n",
      "=================================\n"
     ]
    },
    {
     "name": "stderr",
     "output_type": "stream",
     "text": [
      "C:\\Users\\xutia\\AppData\\Roaming\\Python\\Python310\\site-packages\\quantstats\\stats.py:294: RuntimeWarning: invalid value encountered in scalar divide\n",
      "  res = returns.mean() / divisor\n",
      " 13%|█▎        | 13/100 [09:54<1:05:55, 45.47s/it]"
     ]
    },
    {
     "name": "stdout",
     "output_type": "stream",
     "text": [
      "=================================\n",
      "Initial portfolio value: 100000\n",
      "Final portfolio value: 100000.0\n",
      "Final accumulative portfolio return: 1.0\n",
      "Maximum DrawDown: 0.0\n",
      "Sharpe ratio: nan\n",
      "=================================\n"
     ]
    },
    {
     "name": "stderr",
     "output_type": "stream",
     "text": [
      "C:\\Users\\xutia\\AppData\\Roaming\\Python\\Python310\\site-packages\\quantstats\\stats.py:294: RuntimeWarning: invalid value encountered in scalar divide\n",
      "  res = returns.mean() / divisor\n",
      " 14%|█▍        | 14/100 [10:36<1:03:43, 44.46s/it]"
     ]
    },
    {
     "name": "stdout",
     "output_type": "stream",
     "text": [
      "=================================\n",
      "Initial portfolio value: 100000\n",
      "Final portfolio value: 100000.0\n",
      "Final accumulative portfolio return: 1.0\n",
      "Maximum DrawDown: 0.0\n",
      "Sharpe ratio: nan\n",
      "=================================\n"
     ]
    },
    {
     "name": "stderr",
     "output_type": "stream",
     "text": [
      "C:\\Users\\xutia\\AppData\\Roaming\\Python\\Python310\\site-packages\\quantstats\\stats.py:294: RuntimeWarning: invalid value encountered in scalar divide\n",
      "  res = returns.mean() / divisor\n"
     ]
    },
    {
     "name": "stdout",
     "output_type": "stream",
     "text": [
      "=================================\n",
      "Initial portfolio value: 100000\n",
      "Final portfolio value: 100000.0\n",
      "Final accumulative portfolio return: 1.0\n",
      "Maximum DrawDown: 0.0\n",
      "Sharpe ratio: nan\n",
      "=================================\n"
     ]
    },
    {
     "name": "stderr",
     "output_type": "stream",
     "text": [
      "C:\\Users\\xutia\\AppData\\Roaming\\Python\\Python310\\site-packages\\quantstats\\stats.py:294: RuntimeWarning: invalid value encountered in scalar divide\n",
      "  res = returns.mean() / divisor\n",
      " 15%|█▌        | 15/100 [11:31<1:07:30, 47.65s/it]"
     ]
    },
    {
     "name": "stdout",
     "output_type": "stream",
     "text": [
      "Validation performance at episode 15: 69314718.05599453\n",
      "No improvement for 1 validation(s).\n",
      "=================================\n",
      "Initial portfolio value: 100000\n",
      "Final portfolio value: 100000.0\n",
      "Final accumulative portfolio return: 1.0\n",
      "Maximum DrawDown: 0.0\n",
      "Sharpe ratio: nan\n",
      "=================================\n"
     ]
    },
    {
     "name": "stderr",
     "output_type": "stream",
     "text": [
      "C:\\Users\\xutia\\AppData\\Roaming\\Python\\Python310\\site-packages\\quantstats\\stats.py:294: RuntimeWarning: invalid value encountered in scalar divide\n",
      "  res = returns.mean() / divisor\n",
      " 16%|█▌        | 16/100 [12:15<1:04:57, 46.39s/it]"
     ]
    },
    {
     "name": "stdout",
     "output_type": "stream",
     "text": [
      "=================================\n",
      "Initial portfolio value: 100000\n",
      "Final portfolio value: 100000.0\n",
      "Final accumulative portfolio return: 1.0\n",
      "Maximum DrawDown: 0.0\n",
      "Sharpe ratio: nan\n",
      "=================================\n"
     ]
    },
    {
     "name": "stderr",
     "output_type": "stream",
     "text": [
      "C:\\Users\\xutia\\AppData\\Roaming\\Python\\Python310\\site-packages\\quantstats\\stats.py:294: RuntimeWarning: invalid value encountered in scalar divide\n",
      "  res = returns.mean() / divisor\n",
      " 17%|█▋        | 17/100 [12:56<1:02:12, 44.97s/it]"
     ]
    },
    {
     "name": "stdout",
     "output_type": "stream",
     "text": [
      "=================================\n",
      "Initial portfolio value: 100000\n",
      "Final portfolio value: 100000.0\n",
      "Final accumulative portfolio return: 1.0\n",
      "Maximum DrawDown: 0.0\n",
      "Sharpe ratio: nan\n",
      "=================================\n"
     ]
    },
    {
     "name": "stderr",
     "output_type": "stream",
     "text": [
      "C:\\Users\\xutia\\AppData\\Roaming\\Python\\Python310\\site-packages\\quantstats\\stats.py:294: RuntimeWarning: invalid value encountered in scalar divide\n",
      "  res = returns.mean() / divisor\n"
     ]
    },
    {
     "name": "stdout",
     "output_type": "stream",
     "text": [
      "=================================\n",
      "Initial portfolio value: 100000\n",
      "Final portfolio value: 100000.0\n",
      "Final accumulative portfolio return: 1.0\n",
      "Maximum DrawDown: 0.0\n",
      "Sharpe ratio: nan\n",
      "=================================\n"
     ]
    },
    {
     "name": "stderr",
     "output_type": "stream",
     "text": [
      "C:\\Users\\xutia\\AppData\\Roaming\\Python\\Python310\\site-packages\\quantstats\\stats.py:294: RuntimeWarning: invalid value encountered in scalar divide\n",
      "  res = returns.mean() / divisor\n",
      " 18%|█▊        | 18/100 [13:49<1:04:42, 47.34s/it]"
     ]
    },
    {
     "name": "stdout",
     "output_type": "stream",
     "text": [
      "Validation performance at episode 18: 69314718.05599453\n",
      "No improvement for 2 validation(s).\n",
      "=================================\n",
      "Initial portfolio value: 100000\n",
      "Final portfolio value: 100000.0\n",
      "Final accumulative portfolio return: 1.0\n",
      "Maximum DrawDown: 0.0\n",
      "Sharpe ratio: nan\n",
      "=================================\n"
     ]
    },
    {
     "name": "stderr",
     "output_type": "stream",
     "text": [
      "C:\\Users\\xutia\\AppData\\Roaming\\Python\\Python310\\site-packages\\quantstats\\stats.py:294: RuntimeWarning: invalid value encountered in scalar divide\n",
      "  res = returns.mean() / divisor\n",
      " 19%|█▉        | 19/100 [14:29<1:00:41, 44.96s/it]"
     ]
    },
    {
     "name": "stdout",
     "output_type": "stream",
     "text": [
      "=================================\n",
      "Initial portfolio value: 100000\n",
      "Final portfolio value: 100000.0\n",
      "Final accumulative portfolio return: 1.0\n",
      "Maximum DrawDown: 0.0\n",
      "Sharpe ratio: nan\n",
      "=================================\n"
     ]
    },
    {
     "name": "stderr",
     "output_type": "stream",
     "text": [
      "C:\\Users\\xutia\\AppData\\Roaming\\Python\\Python310\\site-packages\\quantstats\\stats.py:294: RuntimeWarning: invalid value encountered in scalar divide\n",
      "  res = returns.mean() / divisor\n",
      " 20%|██        | 20/100 [15:08<57:43, 43.29s/it]  "
     ]
    },
    {
     "name": "stdout",
     "output_type": "stream",
     "text": [
      "=================================\n",
      "Initial portfolio value: 100000\n",
      "Final portfolio value: 100000.0\n",
      "Final accumulative portfolio return: 1.0\n",
      "Maximum DrawDown: 0.0\n",
      "Sharpe ratio: nan\n",
      "=================================\n"
     ]
    },
    {
     "name": "stderr",
     "output_type": "stream",
     "text": [
      "C:\\Users\\xutia\\AppData\\Roaming\\Python\\Python310\\site-packages\\quantstats\\stats.py:294: RuntimeWarning: invalid value encountered in scalar divide\n",
      "  res = returns.mean() / divisor\n"
     ]
    },
    {
     "name": "stdout",
     "output_type": "stream",
     "text": [
      "=================================\n",
      "Initial portfolio value: 100000\n",
      "Final portfolio value: 100000.0\n",
      "Final accumulative portfolio return: 1.0\n",
      "Maximum DrawDown: 0.0\n",
      "Sharpe ratio: nan\n",
      "=================================\n"
     ]
    },
    {
     "name": "stderr",
     "output_type": "stream",
     "text": [
      "C:\\Users\\xutia\\AppData\\Roaming\\Python\\Python310\\site-packages\\quantstats\\stats.py:294: RuntimeWarning: invalid value encountered in scalar divide\n",
      "  res = returns.mean() / divisor\n",
      " 21%|██        | 21/100 [15:59<59:56, 45.53s/it]"
     ]
    },
    {
     "name": "stdout",
     "output_type": "stream",
     "text": [
      "Validation performance at episode 21: 69314718.05599453\n",
      "No improvement for 3 validation(s).\n",
      "=================================\n",
      "Initial portfolio value: 100000\n",
      "Final portfolio value: 100000.0\n",
      "Final accumulative portfolio return: 1.0\n",
      "Maximum DrawDown: 0.0\n",
      "Sharpe ratio: nan\n",
      "=================================\n"
     ]
    },
    {
     "name": "stderr",
     "output_type": "stream",
     "text": [
      "C:\\Users\\xutia\\AppData\\Roaming\\Python\\Python310\\site-packages\\quantstats\\stats.py:294: RuntimeWarning: invalid value encountered in scalar divide\n",
      "  res = returns.mean() / divisor\n",
      " 22%|██▏       | 22/100 [16:38<56:48, 43.69s/it]"
     ]
    },
    {
     "name": "stdout",
     "output_type": "stream",
     "text": [
      "=================================\n",
      "Initial portfolio value: 100000\n",
      "Final portfolio value: 100000.0\n",
      "Final accumulative portfolio return: 1.0\n",
      "Maximum DrawDown: 0.0\n",
      "Sharpe ratio: nan\n",
      "=================================\n"
     ]
    },
    {
     "name": "stderr",
     "output_type": "stream",
     "text": [
      "C:\\Users\\xutia\\AppData\\Roaming\\Python\\Python310\\site-packages\\quantstats\\stats.py:294: RuntimeWarning: invalid value encountered in scalar divide\n",
      "  res = returns.mean() / divisor\n",
      " 23%|██▎       | 23/100 [17:17<54:12, 42.24s/it]"
     ]
    },
    {
     "name": "stdout",
     "output_type": "stream",
     "text": [
      "=================================\n",
      "Initial portfolio value: 100000\n",
      "Final portfolio value: 100000.0\n",
      "Final accumulative portfolio return: 1.0\n",
      "Maximum DrawDown: 0.0\n",
      "Sharpe ratio: nan\n",
      "=================================\n"
     ]
    },
    {
     "name": "stderr",
     "output_type": "stream",
     "text": [
      "C:\\Users\\xutia\\AppData\\Roaming\\Python\\Python310\\site-packages\\quantstats\\stats.py:294: RuntimeWarning: invalid value encountered in scalar divide\n",
      "  res = returns.mean() / divisor\n"
     ]
    },
    {
     "name": "stdout",
     "output_type": "stream",
     "text": [
      "=================================\n",
      "Initial portfolio value: 100000\n",
      "Final portfolio value: 100000.0\n",
      "Final accumulative portfolio return: 1.0\n",
      "Maximum DrawDown: 0.0\n",
      "Sharpe ratio: nan\n",
      "=================================\n"
     ]
    },
    {
     "name": "stderr",
     "output_type": "stream",
     "text": [
      "C:\\Users\\xutia\\AppData\\Roaming\\Python\\Python310\\site-packages\\quantstats\\stats.py:294: RuntimeWarning: invalid value encountered in scalar divide\n",
      "  res = returns.mean() / divisor\n",
      " 24%|██▍       | 24/100 [18:08<56:49, 44.87s/it]"
     ]
    },
    {
     "name": "stdout",
     "output_type": "stream",
     "text": [
      "Validation performance at episode 24: 69314718.05599453\n",
      "No improvement for 4 validation(s).\n",
      "=================================\n",
      "Initial portfolio value: 100000\n",
      "Final portfolio value: 100000.0\n",
      "Final accumulative portfolio return: 1.0\n",
      "Maximum DrawDown: 0.0\n",
      "Sharpe ratio: nan\n",
      "=================================\n"
     ]
    },
    {
     "name": "stderr",
     "output_type": "stream",
     "text": [
      "C:\\Users\\xutia\\AppData\\Roaming\\Python\\Python310\\site-packages\\quantstats\\stats.py:294: RuntimeWarning: invalid value encountered in scalar divide\n",
      "  res = returns.mean() / divisor\n",
      " 25%|██▌       | 25/100 [18:47<53:55, 43.14s/it]"
     ]
    },
    {
     "name": "stdout",
     "output_type": "stream",
     "text": [
      "=================================\n",
      "Initial portfolio value: 100000\n",
      "Final portfolio value: 100000.0\n",
      "Final accumulative portfolio return: 1.0\n",
      "Maximum DrawDown: 0.0\n",
      "Sharpe ratio: nan\n",
      "=================================\n"
     ]
    },
    {
     "name": "stderr",
     "output_type": "stream",
     "text": [
      "C:\\Users\\xutia\\AppData\\Roaming\\Python\\Python310\\site-packages\\quantstats\\stats.py:294: RuntimeWarning: invalid value encountered in scalar divide\n",
      "  res = returns.mean() / divisor\n",
      " 26%|██▌       | 26/100 [19:26<51:38, 41.88s/it]"
     ]
    },
    {
     "name": "stdout",
     "output_type": "stream",
     "text": [
      "=================================\n",
      "Initial portfolio value: 100000\n",
      "Final portfolio value: 100000.0\n",
      "Final accumulative portfolio return: 1.0\n",
      "Maximum DrawDown: 0.0\n",
      "Sharpe ratio: nan\n",
      "=================================\n"
     ]
    },
    {
     "name": "stderr",
     "output_type": "stream",
     "text": [
      "C:\\Users\\xutia\\AppData\\Roaming\\Python\\Python310\\site-packages\\quantstats\\stats.py:294: RuntimeWarning: invalid value encountered in scalar divide\n",
      "  res = returns.mean() / divisor\n"
     ]
    },
    {
     "name": "stdout",
     "output_type": "stream",
     "text": [
      "=================================\n",
      "Initial portfolio value: 100000\n",
      "Final portfolio value: 100000.0\n",
      "Final accumulative portfolio return: 1.0\n",
      "Maximum DrawDown: 0.0\n",
      "Sharpe ratio: nan\n",
      "=================================\n"
     ]
    },
    {
     "name": "stderr",
     "output_type": "stream",
     "text": [
      "C:\\Users\\xutia\\AppData\\Roaming\\Python\\Python310\\site-packages\\quantstats\\stats.py:294: RuntimeWarning: invalid value encountered in scalar divide\n",
      "  res = returns.mean() / divisor\n",
      " 27%|██▋       | 27/100 [20:16<54:05, 44.47s/it]"
     ]
    },
    {
     "name": "stdout",
     "output_type": "stream",
     "text": [
      "Validation performance at episode 27: 69314718.05599453\n",
      "No improvement for 5 validation(s).\n",
      "=================================\n",
      "Initial portfolio value: 100000\n",
      "Final portfolio value: 100000.0\n",
      "Final accumulative portfolio return: 1.0\n",
      "Maximum DrawDown: 0.0\n",
      "Sharpe ratio: nan\n",
      "=================================\n"
     ]
    },
    {
     "name": "stderr",
     "output_type": "stream",
     "text": [
      "C:\\Users\\xutia\\AppData\\Roaming\\Python\\Python310\\site-packages\\quantstats\\stats.py:294: RuntimeWarning: invalid value encountered in scalar divide\n",
      "  res = returns.mean() / divisor\n",
      " 28%|██▊       | 28/100 [20:56<51:26, 42.87s/it]"
     ]
    },
    {
     "name": "stdout",
     "output_type": "stream",
     "text": [
      "=================================\n",
      "Initial portfolio value: 100000\n",
      "Final portfolio value: 100000.0\n",
      "Final accumulative portfolio return: 1.0\n",
      "Maximum DrawDown: 0.0\n",
      "Sharpe ratio: nan\n",
      "=================================\n"
     ]
    },
    {
     "name": "stderr",
     "output_type": "stream",
     "text": [
      "C:\\Users\\xutia\\AppData\\Roaming\\Python\\Python310\\site-packages\\quantstats\\stats.py:294: RuntimeWarning: invalid value encountered in scalar divide\n",
      "  res = returns.mean() / divisor\n",
      " 29%|██▉       | 29/100 [21:36<49:40, 41.97s/it]"
     ]
    },
    {
     "name": "stdout",
     "output_type": "stream",
     "text": [
      "=================================\n",
      "Initial portfolio value: 100000\n",
      "Final portfolio value: 100000.0\n",
      "Final accumulative portfolio return: 1.0\n",
      "Maximum DrawDown: 0.0\n",
      "Sharpe ratio: nan\n",
      "=================================\n"
     ]
    },
    {
     "name": "stderr",
     "output_type": "stream",
     "text": [
      "C:\\Users\\xutia\\AppData\\Roaming\\Python\\Python310\\site-packages\\quantstats\\stats.py:294: RuntimeWarning: invalid value encountered in scalar divide\n",
      "  res = returns.mean() / divisor\n"
     ]
    },
    {
     "name": "stdout",
     "output_type": "stream",
     "text": [
      "=================================\n",
      "Initial portfolio value: 100000\n",
      "Final portfolio value: 100000.0\n",
      "Final accumulative portfolio return: 1.0\n",
      "Maximum DrawDown: 0.0\n",
      "Sharpe ratio: nan\n",
      "=================================\n"
     ]
    },
    {
     "name": "stderr",
     "output_type": "stream",
     "text": [
      "C:\\Users\\xutia\\AppData\\Roaming\\Python\\Python310\\site-packages\\quantstats\\stats.py:294: RuntimeWarning: invalid value encountered in scalar divide\n",
      "  res = returns.mean() / divisor\n",
      " 30%|███       | 30/100 [22:30<53:26, 45.81s/it]"
     ]
    },
    {
     "name": "stdout",
     "output_type": "stream",
     "text": [
      "Validation performance at episode 30: 69314718.05599453\n",
      "No improvement for 6 validation(s).\n",
      "=================================\n",
      "Initial portfolio value: 100000\n",
      "Final portfolio value: 100000.0\n",
      "Final accumulative portfolio return: 1.0\n",
      "Maximum DrawDown: 0.0\n",
      "Sharpe ratio: nan\n",
      "=================================\n"
     ]
    },
    {
     "name": "stderr",
     "output_type": "stream",
     "text": [
      "C:\\Users\\xutia\\AppData\\Roaming\\Python\\Python310\\site-packages\\quantstats\\stats.py:294: RuntimeWarning: invalid value encountered in scalar divide\n",
      "  res = returns.mean() / divisor\n",
      " 31%|███       | 31/100 [23:12<51:21, 44.66s/it]"
     ]
    },
    {
     "name": "stdout",
     "output_type": "stream",
     "text": [
      "=================================\n",
      "Initial portfolio value: 100000\n",
      "Final portfolio value: 100000.0\n",
      "Final accumulative portfolio return: 1.0\n",
      "Maximum DrawDown: 0.0\n",
      "Sharpe ratio: nan\n",
      "=================================\n"
     ]
    },
    {
     "name": "stderr",
     "output_type": "stream",
     "text": [
      "C:\\Users\\xutia\\AppData\\Roaming\\Python\\Python310\\site-packages\\quantstats\\stats.py:294: RuntimeWarning: invalid value encountered in scalar divide\n",
      "  res = returns.mean() / divisor\n",
      " 32%|███▏      | 32/100 [23:54<49:33, 43.73s/it]"
     ]
    },
    {
     "name": "stdout",
     "output_type": "stream",
     "text": [
      "=================================\n",
      "Initial portfolio value: 100000\n",
      "Final portfolio value: 100000.0\n",
      "Final accumulative portfolio return: 1.0\n",
      "Maximum DrawDown: 0.0\n",
      "Sharpe ratio: nan\n",
      "=================================\n"
     ]
    },
    {
     "name": "stderr",
     "output_type": "stream",
     "text": [
      "C:\\Users\\xutia\\AppData\\Roaming\\Python\\Python310\\site-packages\\quantstats\\stats.py:294: RuntimeWarning: invalid value encountered in scalar divide\n",
      "  res = returns.mean() / divisor\n"
     ]
    },
    {
     "name": "stdout",
     "output_type": "stream",
     "text": [
      "=================================\n",
      "Initial portfolio value: 100000\n",
      "Final portfolio value: 100000.0\n",
      "Final accumulative portfolio return: 1.0\n",
      "Maximum DrawDown: 0.0\n",
      "Sharpe ratio: nan\n",
      "=================================\n"
     ]
    },
    {
     "name": "stderr",
     "output_type": "stream",
     "text": [
      "C:\\Users\\xutia\\AppData\\Roaming\\Python\\Python310\\site-packages\\quantstats\\stats.py:294: RuntimeWarning: invalid value encountered in scalar divide\n",
      "  res = returns.mean() / divisor\n",
      " 33%|███▎      | 33/100 [24:50<52:57, 47.42s/it]"
     ]
    },
    {
     "name": "stdout",
     "output_type": "stream",
     "text": [
      "Validation performance at episode 33: 69314718.05599453\n",
      "No improvement for 7 validation(s).\n",
      "=================================\n",
      "Initial portfolio value: 100000\n",
      "Final portfolio value: 100000.0\n",
      "Final accumulative portfolio return: 1.0\n",
      "Maximum DrawDown: 0.0\n",
      "Sharpe ratio: nan\n",
      "=================================\n"
     ]
    },
    {
     "name": "stderr",
     "output_type": "stream",
     "text": [
      "C:\\Users\\xutia\\AppData\\Roaming\\Python\\Python310\\site-packages\\quantstats\\stats.py:294: RuntimeWarning: invalid value encountered in scalar divide\n",
      "  res = returns.mean() / divisor\n",
      " 34%|███▍      | 34/100 [25:34<51:10, 46.52s/it]"
     ]
    },
    {
     "name": "stdout",
     "output_type": "stream",
     "text": [
      "=================================\n",
      "Initial portfolio value: 100000\n",
      "Final portfolio value: 100000.0\n",
      "Final accumulative portfolio return: 1.0\n",
      "Maximum DrawDown: 0.0\n",
      "Sharpe ratio: nan\n",
      "=================================\n"
     ]
    },
    {
     "name": "stderr",
     "output_type": "stream",
     "text": [
      "C:\\Users\\xutia\\AppData\\Roaming\\Python\\Python310\\site-packages\\quantstats\\stats.py:294: RuntimeWarning: invalid value encountered in scalar divide\n",
      "  res = returns.mean() / divisor\n",
      " 35%|███▌      | 35/100 [26:16<48:51, 45.09s/it]"
     ]
    },
    {
     "name": "stdout",
     "output_type": "stream",
     "text": [
      "=================================\n",
      "Initial portfolio value: 100000\n",
      "Final portfolio value: 100000.0\n",
      "Final accumulative portfolio return: 1.0\n",
      "Maximum DrawDown: 0.0\n",
      "Sharpe ratio: nan\n",
      "=================================\n"
     ]
    },
    {
     "name": "stderr",
     "output_type": "stream",
     "text": [
      "C:\\Users\\xutia\\AppData\\Roaming\\Python\\Python310\\site-packages\\quantstats\\stats.py:294: RuntimeWarning: invalid value encountered in scalar divide\n",
      "  res = returns.mean() / divisor\n"
     ]
    },
    {
     "name": "stdout",
     "output_type": "stream",
     "text": [
      "=================================\n",
      "Initial portfolio value: 100000\n",
      "Final portfolio value: 100000.0\n",
      "Final accumulative portfolio return: 1.0\n",
      "Maximum DrawDown: 0.0\n",
      "Sharpe ratio: nan\n",
      "=================================\n"
     ]
    },
    {
     "name": "stderr",
     "output_type": "stream",
     "text": [
      "C:\\Users\\xutia\\AppData\\Roaming\\Python\\Python310\\site-packages\\quantstats\\stats.py:294: RuntimeWarning: invalid value encountered in scalar divide\n",
      "  res = returns.mean() / divisor\n",
      " 36%|███▌      | 36/100 [27:12<51:35, 48.37s/it]"
     ]
    },
    {
     "name": "stdout",
     "output_type": "stream",
     "text": [
      "Validation performance at episode 36: 69314718.05599453\n",
      "No improvement for 8 validation(s).\n",
      "=================================\n",
      "Initial portfolio value: 100000\n",
      "Final portfolio value: 100000.0\n",
      "Final accumulative portfolio return: 1.0\n",
      "Maximum DrawDown: 0.0\n",
      "Sharpe ratio: nan\n",
      "=================================\n"
     ]
    },
    {
     "name": "stderr",
     "output_type": "stream",
     "text": [
      "C:\\Users\\xutia\\AppData\\Roaming\\Python\\Python310\\site-packages\\quantstats\\stats.py:294: RuntimeWarning: invalid value encountered in scalar divide\n",
      "  res = returns.mean() / divisor\n",
      " 37%|███▋      | 37/100 [27:55<49:04, 46.74s/it]"
     ]
    },
    {
     "name": "stdout",
     "output_type": "stream",
     "text": [
      "=================================\n",
      "Initial portfolio value: 100000\n",
      "Final portfolio value: 100000.0\n",
      "Final accumulative portfolio return: 1.0\n",
      "Maximum DrawDown: 0.0\n",
      "Sharpe ratio: nan\n",
      "=================================\n"
     ]
    },
    {
     "name": "stderr",
     "output_type": "stream",
     "text": [
      "C:\\Users\\xutia\\AppData\\Roaming\\Python\\Python310\\site-packages\\quantstats\\stats.py:294: RuntimeWarning: invalid value encountered in scalar divide\n",
      "  res = returns.mean() / divisor\n",
      " 38%|███▊      | 38/100 [28:38<47:05, 45.56s/it]"
     ]
    },
    {
     "name": "stdout",
     "output_type": "stream",
     "text": [
      "=================================\n",
      "Initial portfolio value: 100000\n",
      "Final portfolio value: 100000.0\n",
      "Final accumulative portfolio return: 1.0\n",
      "Maximum DrawDown: 0.0\n",
      "Sharpe ratio: nan\n",
      "=================================\n"
     ]
    },
    {
     "name": "stderr",
     "output_type": "stream",
     "text": [
      "C:\\Users\\xutia\\AppData\\Roaming\\Python\\Python310\\site-packages\\quantstats\\stats.py:294: RuntimeWarning: invalid value encountered in scalar divide\n",
      "  res = returns.mean() / divisor\n"
     ]
    },
    {
     "name": "stdout",
     "output_type": "stream",
     "text": [
      "=================================\n",
      "Initial portfolio value: 100000\n",
      "Final portfolio value: 100000.0\n",
      "Final accumulative portfolio return: 1.0\n",
      "Maximum DrawDown: 0.0\n",
      "Sharpe ratio: nan\n",
      "=================================\n"
     ]
    },
    {
     "name": "stderr",
     "output_type": "stream",
     "text": [
      "C:\\Users\\xutia\\AppData\\Roaming\\Python\\Python310\\site-packages\\quantstats\\stats.py:294: RuntimeWarning: invalid value encountered in scalar divide\n",
      "  res = returns.mean() / divisor\n",
      " 39%|███▉      | 39/100 [29:33<49:13, 48.41s/it]"
     ]
    },
    {
     "name": "stdout",
     "output_type": "stream",
     "text": [
      "Validation performance at episode 39: 69314718.05599453\n",
      "No improvement for 9 validation(s).\n",
      "=================================\n",
      "Initial portfolio value: 100000\n",
      "Final portfolio value: 100000.0\n",
      "Final accumulative portfolio return: 1.0\n",
      "Maximum DrawDown: 0.0\n",
      "Sharpe ratio: nan\n",
      "=================================\n"
     ]
    },
    {
     "name": "stderr",
     "output_type": "stream",
     "text": [
      "C:\\Users\\xutia\\AppData\\Roaming\\Python\\Python310\\site-packages\\quantstats\\stats.py:294: RuntimeWarning: invalid value encountered in scalar divide\n",
      "  res = returns.mean() / divisor\n",
      " 40%|████      | 40/100 [30:16<46:43, 46.72s/it]"
     ]
    },
    {
     "name": "stdout",
     "output_type": "stream",
     "text": [
      "=================================\n",
      "Initial portfolio value: 100000\n",
      "Final portfolio value: 100000.0\n",
      "Final accumulative portfolio return: 1.0\n",
      "Maximum DrawDown: 0.0\n",
      "Sharpe ratio: nan\n",
      "=================================\n"
     ]
    },
    {
     "name": "stderr",
     "output_type": "stream",
     "text": [
      "C:\\Users\\xutia\\AppData\\Roaming\\Python\\Python310\\site-packages\\quantstats\\stats.py:294: RuntimeWarning: invalid value encountered in scalar divide\n",
      "  res = returns.mean() / divisor\n",
      " 41%|████      | 41/100 [30:58<44:44, 45.49s/it]"
     ]
    },
    {
     "name": "stdout",
     "output_type": "stream",
     "text": [
      "=================================\n",
      "Initial portfolio value: 100000\n",
      "Final portfolio value: 100000.0\n",
      "Final accumulative portfolio return: 1.0\n",
      "Maximum DrawDown: 0.0\n",
      "Sharpe ratio: nan\n",
      "=================================\n"
     ]
    },
    {
     "name": "stderr",
     "output_type": "stream",
     "text": [
      "C:\\Users\\xutia\\AppData\\Roaming\\Python\\Python310\\site-packages\\quantstats\\stats.py:294: RuntimeWarning: invalid value encountered in scalar divide\n",
      "  res = returns.mean() / divisor\n"
     ]
    },
    {
     "name": "stdout",
     "output_type": "stream",
     "text": [
      "=================================\n",
      "Initial portfolio value: 100000\n",
      "Final portfolio value: 100000.0\n",
      "Final accumulative portfolio return: 1.0\n",
      "Maximum DrawDown: 0.0\n",
      "Sharpe ratio: nan\n",
      "=================================\n"
     ]
    },
    {
     "name": "stderr",
     "output_type": "stream",
     "text": [
      "C:\\Users\\xutia\\AppData\\Roaming\\Python\\Python310\\site-packages\\quantstats\\stats.py:294: RuntimeWarning: invalid value encountered in scalar divide\n",
      "  res = returns.mean() / divisor\n",
      " 41%|████      | 41/100 [31:54<45:54, 46.69s/it]"
     ]
    },
    {
     "name": "stdout",
     "output_type": "stream",
     "text": [
      "Validation performance at episode 42: 69314718.05599453\n",
      "No improvement for 10 validation(s).\n",
      "Early stopping due to no improvement on validation set.\n",
      "Loaded best model based on validation performance.\n"
     ]
    },
    {
     "name": "stderr",
     "output_type": "stream",
     "text": [
      "\n",
      "C:\\Users\\xutia\\AppData\\Local\\Temp\\ipykernel_26128\\4180739837.py:59: FutureWarning: You are using `torch.load` with `weights_only=False` (the current default value), which uses the default pickle module implicitly. It is possible to construct malicious pickle data which will execute arbitrary code during unpickling (See https://github.com/pytorch/pytorch/blob/main/SECURITY.md#untrusted-models for more details). In a future release, the default value for `weights_only` will be flipped to `True`. This limits the functions that could be executed during unpickling. Arbitrary objects will no longer be allowed to be loaded via this mode unless they are explicitly allowlisted by the user via `torch.serialization.add_safe_globals`. We recommend you start setting `weights_only=True` for any use case where you don't have full control of the loaded file. Please open an issue on GitHub for any issues related to this experimental feature.\n",
      "  EIIE_policy.load_state_dict(torch.load(model_filename))\n"
     ]
    },
    {
     "name": "stdout",
     "output_type": "stream",
     "text": [
      "=================================\n",
      "Initial portfolio value: 100000\n",
      "Final portfolio value: 100000.0\n",
      "Final accumulative portfolio return: 1.0\n",
      "Maximum DrawDown: 0.0\n",
      "Sharpe ratio: nan\n",
      "=================================\n"
     ]
    },
    {
     "name": "stderr",
     "output_type": "stream",
     "text": [
      "C:\\Users\\xutia\\AppData\\Roaming\\Python\\Python310\\site-packages\\quantstats\\stats.py:294: RuntimeWarning: invalid value encountered in scalar divide\n",
      "  res = returns.mean() / divisor\n",
      "C:\\Users\\xutia\\AppData\\Local\\Temp\\ipykernel_26128\\1019621346.py:71: RuntimeWarning: invalid value encountered in scalar divide\n",
      "  sharpe_ratio = np.mean(excess_returns) / np.std(excess_returns)\n"
     ]
    },
    {
     "name": "stdout",
     "output_type": "stream",
     "text": [
      "Metrics - train_final_value: 100000.0, train_drawdown: 0.0, train_sharpe: nan, train_cumulative: 1.0\n",
      "=================================\n",
      "Initial portfolio value: 100000\n",
      "Final portfolio value: 100000.0\n",
      "Final accumulative portfolio return: 1.0\n",
      "Maximum DrawDown: 0.0\n",
      "Sharpe ratio: nan\n",
      "=================================\n"
     ]
    },
    {
     "name": "stderr",
     "output_type": "stream",
     "text": [
      "C:\\Users\\xutia\\AppData\\Roaming\\Python\\Python310\\site-packages\\quantstats\\stats.py:294: RuntimeWarning: invalid value encountered in scalar divide\n",
      "  res = returns.mean() / divisor\n",
      "C:\\Users\\xutia\\AppData\\Local\\Temp\\ipykernel_26128\\1019621346.py:71: RuntimeWarning: invalid value encountered in scalar divide\n",
      "  sharpe_ratio = np.mean(excess_returns) / np.std(excess_returns)\n"
     ]
    },
    {
     "name": "stdout",
     "output_type": "stream",
     "text": [
      "Metrics - test_final_value: 100000.0, test_drawdown: 0.0, test_sharpe: nan, test_cumulative: 1.0\n",
      "Training model with TIME_WINDOW=30, K_SIZE=3, CONV_MID=10, CONV_FINAL=10, LEARNING_RATE=0.02\n"
     ]
    },
    {
     "name": "stderr",
     "output_type": "stream",
     "text": [
      "  0%|          | 0/100 [00:00<?, ?it/s]"
     ]
    },
    {
     "name": "stdout",
     "output_type": "stream",
     "text": [
      "=================================\n",
      "Initial portfolio value: 100000\n",
      "Final portfolio value: 273218.4375\n",
      "Final accumulative portfolio return: 2.732184375\n",
      "Maximum DrawDown: -0.3011566354692873\n",
      "Sharpe ratio: 0.8811524168098682\n",
      "=================================\n"
     ]
    },
    {
     "name": "stderr",
     "output_type": "stream",
     "text": [
      "  1%|          | 1/100 [00:40<1:06:59, 40.60s/it]"
     ]
    },
    {
     "name": "stdout",
     "output_type": "stream",
     "text": [
      "=================================\n",
      "Initial portfolio value: 100000\n",
      "Final portfolio value: 547346.75\n",
      "Final accumulative portfolio return: 5.4734675\n",
      "Maximum DrawDown: -0.28038784873735245\n",
      "Sharpe ratio: 1.1547052332609669\n",
      "=================================\n"
     ]
    },
    {
     "name": "stderr",
     "output_type": "stream",
     "text": [
      "  2%|▏         | 2/100 [01:22<1:07:50, 41.53s/it]"
     ]
    },
    {
     "name": "stdout",
     "output_type": "stream",
     "text": [
      "=================================\n",
      "Initial portfolio value: 100000\n",
      "Final portfolio value: 652939.3125\n",
      "Final accumulative portfolio return: 6.529393125\n",
      "Maximum DrawDown: -0.30352920798052074\n",
      "Sharpe ratio: 1.160546522572341\n",
      "=================================\n",
      "=================================\n",
      "Initial portfolio value: 100000\n",
      "Final portfolio value: 202331.65625\n",
      "Final accumulative portfolio return: 2.0233165625\n",
      "Maximum DrawDown: -0.1784441288452535\n",
      "Sharpe ratio: 1.5224951236878315\n",
      "=================================\n"
     ]
    },
    {
     "name": "stderr",
     "output_type": "stream",
     "text": [
      "  3%|▎         | 3/100 [02:17<1:17:09, 47.73s/it]"
     ]
    },
    {
     "name": "stdout",
     "output_type": "stream",
     "text": [
      "Validation performance at episode 3: -1.656407116131917\n",
      "New best validation performance: -1.656407116131917\n",
      "=================================\n",
      "Initial portfolio value: 100000\n",
      "Final portfolio value: 950153.8125\n",
      "Final accumulative portfolio return: 9.501538125\n",
      "Maximum DrawDown: -0.28039270278487116\n",
      "Sharpe ratio: 1.3977192536917216\n",
      "=================================\n"
     ]
    },
    {
     "name": "stderr",
     "output_type": "stream",
     "text": [
      "  4%|▍         | 4/100 [02:58<1:11:41, 44.81s/it]"
     ]
    },
    {
     "name": "stdout",
     "output_type": "stream",
     "text": [
      "=================================\n",
      "Initial portfolio value: 100000\n",
      "Final portfolio value: 718657.375\n",
      "Final accumulative portfolio return: 7.18657375\n",
      "Maximum DrawDown: -0.4326907526206122\n",
      "Sharpe ratio: 1.1778109135959611\n",
      "=================================\n"
     ]
    },
    {
     "name": "stderr",
     "output_type": "stream",
     "text": [
      "  5%|▌         | 5/100 [03:38<1:08:36, 43.33s/it]"
     ]
    },
    {
     "name": "stdout",
     "output_type": "stream",
     "text": [
      "=================================\n",
      "Initial portfolio value: 100000\n",
      "Final portfolio value: 1257061.375\n",
      "Final accumulative portfolio return: 12.57061375\n",
      "Maximum DrawDown: -0.2806645208939763\n",
      "Sharpe ratio: 1.5039691226711032\n",
      "=================================\n",
      "=================================\n",
      "Initial portfolio value: 100000\n",
      "Final portfolio value: 213648.765625\n",
      "Final accumulative portfolio return: 2.13648765625\n",
      "Maximum DrawDown: -0.18357806883100447\n",
      "Sharpe ratio: 1.5839794394448998\n",
      "=================================\n"
     ]
    },
    {
     "name": "stderr",
     "output_type": "stream",
     "text": [
      "  6%|▌         | 6/100 [04:31<1:12:44, 46.43s/it]"
     ]
    },
    {
     "name": "stdout",
     "output_type": "stream",
     "text": [
      "Validation performance at episode 6: -1.599930670984119\n",
      "New best validation performance: -1.599930670984119\n",
      "=================================\n",
      "Initial portfolio value: 100000\n",
      "Final portfolio value: 1406524.0\n",
      "Final accumulative portfolio return: 14.06524\n",
      "Maximum DrawDown: -0.28039012482822434\n",
      "Sharpe ratio: 1.572550907024851\n",
      "=================================\n"
     ]
    },
    {
     "name": "stderr",
     "output_type": "stream",
     "text": [
      "  7%|▋         | 7/100 [05:14<1:10:05, 45.22s/it]"
     ]
    },
    {
     "name": "stdout",
     "output_type": "stream",
     "text": [
      "=================================\n",
      "Initial portfolio value: 100000\n",
      "Final portfolio value: 1313459.25\n",
      "Final accumulative portfolio return: 13.1345925\n",
      "Maximum DrawDown: -0.28039292862893017\n",
      "Sharpe ratio: 1.5507807466578156\n",
      "=================================\n"
     ]
    },
    {
     "name": "stderr",
     "output_type": "stream",
     "text": [
      "  8%|▊         | 8/100 [05:57<1:08:30, 44.68s/it]"
     ]
    },
    {
     "name": "stdout",
     "output_type": "stream",
     "text": [
      "=================================\n",
      "Initial portfolio value: 100000\n",
      "Final portfolio value: 1495488.0\n",
      "Final accumulative portfolio return: 14.95488\n",
      "Maximum DrawDown: -0.28039288129932216\n",
      "Sharpe ratio: 1.6014418548117824\n",
      "=================================\n",
      "=================================\n",
      "Initial portfolio value: 100000\n",
      "Final portfolio value: 172326.296875\n",
      "Final accumulative portfolio return: 1.72326296875\n",
      "Maximum DrawDown: -0.1920502902066693\n",
      "Sharpe ratio: 1.1886083589165268\n",
      "=================================\n"
     ]
    },
    {
     "name": "stderr",
     "output_type": "stream",
     "text": [
      "  9%|▉         | 9/100 [06:52<1:12:25, 47.75s/it]"
     ]
    },
    {
     "name": "stdout",
     "output_type": "stream",
     "text": [
      "Validation performance at episode 9: -2.4649216496370983\n",
      "No improvement for 1 validation(s).\n",
      "=================================\n",
      "Initial portfolio value: 100000\n",
      "Final portfolio value: 1472611.125\n",
      "Final accumulative portfolio return: 14.72611125\n",
      "Maximum DrawDown: -0.2803928738742665\n",
      "Sharpe ratio: 1.5958724458864897\n",
      "=================================\n"
     ]
    },
    {
     "name": "stderr",
     "output_type": "stream",
     "text": [
      " 10%|█         | 10/100 [07:34<1:09:00, 46.01s/it]"
     ]
    },
    {
     "name": "stdout",
     "output_type": "stream",
     "text": [
      "=================================\n",
      "Initial portfolio value: 100000\n",
      "Final portfolio value: 1383311.25\n",
      "Final accumulative portfolio return: 13.8331125\n",
      "Maximum DrawDown: -0.28039206407507133\n",
      "Sharpe ratio: 1.5487638116665554\n",
      "=================================\n"
     ]
    },
    {
     "name": "stderr",
     "output_type": "stream",
     "text": [
      " 11%|█         | 11/100 [08:16<1:06:45, 45.00s/it]"
     ]
    },
    {
     "name": "stdout",
     "output_type": "stream",
     "text": [
      "=================================\n",
      "Initial portfolio value: 100000\n",
      "Final portfolio value: 1452175.5\n",
      "Final accumulative portfolio return: 14.521755\n",
      "Maximum DrawDown: -0.28039306993396396\n",
      "Sharpe ratio: 1.5967966040405677\n",
      "=================================\n",
      "=================================\n",
      "Initial portfolio value: 100000\n",
      "Final portfolio value: 129102.9765625\n",
      "Final accumulative portfolio return: 1.291029765625\n",
      "Maximum DrawDown: -0.2533640742095832\n",
      "Sharpe ratio: 0.6410147420876264\n",
      "=================================\n"
     ]
    },
    {
     "name": "stderr",
     "output_type": "stream",
     "text": [
      " 12%|█▏        | 12/100 [09:11<1:10:27, 48.04s/it]"
     ]
    },
    {
     "name": "stdout",
     "output_type": "stream",
     "text": [
      "Validation performance at episode 12: -4.067797267638933\n",
      "No improvement for 2 validation(s).\n",
      "=================================\n",
      "Initial portfolio value: 100000\n",
      "Final portfolio value: 1272524.625\n",
      "Final accumulative portfolio return: 12.72524625\n",
      "Maximum DrawDown: -0.28039153789302484\n",
      "Sharpe ratio: 1.5083218466811328\n",
      "=================================\n"
     ]
    },
    {
     "name": "stderr",
     "output_type": "stream",
     "text": [
      " 13%|█▎        | 13/100 [09:56<1:07:57, 46.87s/it]"
     ]
    },
    {
     "name": "stdout",
     "output_type": "stream",
     "text": [
      "=================================\n",
      "Initial portfolio value: 100000\n",
      "Final portfolio value: 1574150.125\n",
      "Final accumulative portfolio return: 15.74150125\n",
      "Maximum DrawDown: -0.2803926955648607\n",
      "Sharpe ratio: 1.6157254427877195\n",
      "=================================\n"
     ]
    },
    {
     "name": "stderr",
     "output_type": "stream",
     "text": [
      " 14%|█▍        | 14/100 [10:39<1:05:50, 45.94s/it]"
     ]
    },
    {
     "name": "stdout",
     "output_type": "stream",
     "text": [
      "=================================\n",
      "Initial portfolio value: 100000\n",
      "Final portfolio value: 1663260.125\n",
      "Final accumulative portfolio return: 16.63260125\n",
      "Maximum DrawDown: -0.280392944934165\n",
      "Sharpe ratio: 1.6520844982436689\n",
      "=================================\n",
      "=================================\n",
      "Initial portfolio value: 100000\n",
      "Final portfolio value: 174472.40625\n",
      "Final accumulative portfolio return: 1.7447240625\n",
      "Maximum DrawDown: -0.21964452089757058\n",
      "Sharpe ratio: 1.2116476329766606\n",
      "=================================\n"
     ]
    },
    {
     "name": "stderr",
     "output_type": "stream",
     "text": [
      " 15%|█▌        | 15/100 [11:36<1:09:39, 49.17s/it]"
     ]
    },
    {
     "name": "stdout",
     "output_type": "stream",
     "text": [
      "Validation performance at episode 15: -2.2771316907729107\n",
      "No improvement for 3 validation(s).\n",
      "=================================\n",
      "Initial portfolio value: 100000\n",
      "Final portfolio value: 1710905.75\n",
      "Final accumulative portfolio return: 17.1090575\n",
      "Maximum DrawDown: -0.280393008221412\n",
      "Sharpe ratio: 1.6658186718663295\n",
      "=================================\n"
     ]
    },
    {
     "name": "stderr",
     "output_type": "stream",
     "text": [
      " 16%|█▌        | 16/100 [12:20<1:06:28, 47.48s/it]"
     ]
    },
    {
     "name": "stdout",
     "output_type": "stream",
     "text": [
      "=================================\n",
      "Initial portfolio value: 100000\n",
      "Final portfolio value: 1444750.375\n",
      "Final accumulative portfolio return: 14.44750375\n",
      "Maximum DrawDown: -0.280393027384081\n",
      "Sharpe ratio: 1.570117097073911\n",
      "=================================\n"
     ]
    },
    {
     "name": "stderr",
     "output_type": "stream",
     "text": [
      " 17%|█▋        | 17/100 [13:02<1:03:45, 46.09s/it]"
     ]
    },
    {
     "name": "stdout",
     "output_type": "stream",
     "text": [
      "=================================\n",
      "Initial portfolio value: 100000\n",
      "Final portfolio value: 1238814.25\n",
      "Final accumulative portfolio return: 12.3881425\n",
      "Maximum DrawDown: -0.2803985719744885\n",
      "Sharpe ratio: 1.469817183048926\n",
      "=================================\n",
      "=================================\n",
      "Initial portfolio value: 100000\n",
      "Final portfolio value: 198708.34375\n",
      "Final accumulative portfolio return: 1.9870834375\n",
      "Maximum DrawDown: -0.19525828840462844\n",
      "Sharpe ratio: 1.410706677293697\n",
      "=================================\n"
     ]
    },
    {
     "name": "stderr",
     "output_type": "stream",
     "text": [
      " 18%|█▊        | 18/100 [13:57<1:06:29, 48.66s/it]"
     ]
    },
    {
     "name": "stdout",
     "output_type": "stream",
     "text": [
      "Validation performance at episode 18: -1.5976436275161143\n",
      "No improvement for 4 validation(s).\n",
      "=================================\n",
      "Initial portfolio value: 100000\n",
      "Final portfolio value: 995127.875\n",
      "Final accumulative portfolio return: 9.95127875\n",
      "Maximum DrawDown: -0.4106381173519472\n",
      "Sharpe ratio: 1.3085352621323516\n",
      "=================================\n"
     ]
    },
    {
     "name": "stderr",
     "output_type": "stream",
     "text": [
      " 19%|█▉        | 19/100 [14:40<1:03:11, 46.81s/it]"
     ]
    },
    {
     "name": "stdout",
     "output_type": "stream",
     "text": [
      "=================================\n",
      "Initial portfolio value: 100000\n",
      "Final portfolio value: 1255044.5\n",
      "Final accumulative portfolio return: 12.550445\n",
      "Maximum DrawDown: -0.35765447124261773\n",
      "Sharpe ratio: 1.4437997306984187\n",
      "=================================\n"
     ]
    },
    {
     "name": "stderr",
     "output_type": "stream",
     "text": [
      " 20%|██        | 20/100 [15:22<1:00:31, 45.40s/it]"
     ]
    },
    {
     "name": "stdout",
     "output_type": "stream",
     "text": [
      "=================================\n",
      "Initial portfolio value: 100000\n",
      "Final portfolio value: 1623647.875\n",
      "Final accumulative portfolio return: 16.23647875\n",
      "Maximum DrawDown: -0.2803929105767555\n",
      "Sharpe ratio: 1.6233616025491284\n",
      "=================================\n",
      "=================================\n",
      "Initial portfolio value: 100000\n",
      "Final portfolio value: 199783.875\n",
      "Final accumulative portfolio return: 1.99783875\n",
      "Maximum DrawDown: -0.2261515166401099\n",
      "Sharpe ratio: 1.4056980681986098\n",
      "=================================\n"
     ]
    },
    {
     "name": "stderr",
     "output_type": "stream",
     "text": [
      " 21%|██        | 21/100 [16:13<1:01:56, 47.05s/it]"
     ]
    },
    {
     "name": "stdout",
     "output_type": "stream",
     "text": [
      "Validation performance at episode 21: -1.4671627877021998\n",
      "New best validation performance: -1.4671627877021998\n",
      "=================================\n",
      "Initial portfolio value: 100000\n",
      "Final portfolio value: 904726.3125\n",
      "Final accumulative portfolio return: 9.047263125\n",
      "Maximum DrawDown: -0.38066772634293555\n",
      "Sharpe ratio: 1.300637065447419\n",
      "=================================\n"
     ]
    },
    {
     "name": "stderr",
     "output_type": "stream",
     "text": [
      " 22%|██▏       | 22/100 [16:52<58:09, 44.74s/it]  "
     ]
    },
    {
     "name": "stdout",
     "output_type": "stream",
     "text": [
      "=================================\n",
      "Initial portfolio value: 100000\n",
      "Final portfolio value: 966462.4375\n",
      "Final accumulative portfolio return: 9.664624375\n",
      "Maximum DrawDown: -0.38506824104956605\n",
      "Sharpe ratio: 1.320866244216679\n",
      "=================================\n"
     ]
    },
    {
     "name": "stderr",
     "output_type": "stream",
     "text": [
      " 23%|██▎       | 23/100 [17:32<55:34, 43.30s/it]"
     ]
    },
    {
     "name": "stdout",
     "output_type": "stream",
     "text": [
      "=================================\n",
      "Initial portfolio value: 100000\n",
      "Final portfolio value: 1468007.75\n",
      "Final accumulative portfolio return: 14.6800775\n",
      "Maximum DrawDown: -0.287860938687741\n",
      "Sharpe ratio: 1.5556355485054845\n",
      "=================================\n",
      "=================================\n",
      "Initial portfolio value: 100000\n",
      "Final portfolio value: 139972.015625\n",
      "Final accumulative portfolio return: 1.39972015625\n",
      "Maximum DrawDown: -0.24387649643059373\n",
      "Sharpe ratio: 0.7837183189341297\n",
      "=================================\n"
     ]
    },
    {
     "name": "stderr",
     "output_type": "stream",
     "text": [
      " 24%|██▍       | 24/100 [18:22<57:36, 45.48s/it]"
     ]
    },
    {
     "name": "stdout",
     "output_type": "stream",
     "text": [
      "Validation performance at episode 24: -3.4147377855981675\n",
      "No improvement for 1 validation(s).\n",
      "=================================\n",
      "Initial portfolio value: 100000\n",
      "Final portfolio value: 1343732.875\n",
      "Final accumulative portfolio return: 13.43732875\n",
      "Maximum DrawDown: -0.2803929096125485\n",
      "Sharpe ratio: 1.5307006970853336\n",
      "=================================\n"
     ]
    },
    {
     "name": "stderr",
     "output_type": "stream",
     "text": [
      " 25%|██▌       | 25/100 [19:02<54:38, 43.72s/it]"
     ]
    },
    {
     "name": "stdout",
     "output_type": "stream",
     "text": [
      "=================================\n",
      "Initial portfolio value: 100000\n",
      "Final portfolio value: 1247984.375\n",
      "Final accumulative portfolio return: 12.47984375\n",
      "Maximum DrawDown: -0.2803930424242368\n",
      "Sharpe ratio: 1.4997947203878192\n",
      "=================================\n"
     ]
    },
    {
     "name": "stderr",
     "output_type": "stream",
     "text": [
      " 26%|██▌       | 26/100 [19:42<52:24, 42.50s/it]"
     ]
    },
    {
     "name": "stdout",
     "output_type": "stream",
     "text": [
      "=================================\n",
      "Initial portfolio value: 100000\n",
      "Final portfolio value: 1282824.0\n",
      "Final accumulative portfolio return: 12.82824\n",
      "Maximum DrawDown: -0.2803931033812329\n",
      "Sharpe ratio: 1.4946540100568202\n",
      "=================================\n",
      "=================================\n",
      "Initial portfolio value: 100000\n",
      "Final portfolio value: 126260.46875\n",
      "Final accumulative portfolio return: 1.2626046875\n",
      "Maximum DrawDown: -0.27778520268185913\n",
      "Sharpe ratio: 0.5921542147614004\n",
      "=================================\n"
     ]
    },
    {
     "name": "stderr",
     "output_type": "stream",
     "text": [
      " 27%|██▋       | 27/100 [20:33<54:52, 45.10s/it]"
     ]
    },
    {
     "name": "stdout",
     "output_type": "stream",
     "text": [
      "Validation performance at episode 27: -4.217503056298304\n",
      "No improvement for 2 validation(s).\n",
      "=================================\n",
      "Initial portfolio value: 100000\n",
      "Final portfolio value: 1765211.625\n",
      "Final accumulative portfolio return: 17.65211625\n",
      "Maximum DrawDown: -0.28040713120036986\n",
      "Sharpe ratio: 1.6626458247059912\n",
      "=================================\n"
     ]
    },
    {
     "name": "stderr",
     "output_type": "stream",
     "text": [
      " 28%|██▊       | 28/100 [21:12<52:03, 43.38s/it]"
     ]
    },
    {
     "name": "stdout",
     "output_type": "stream",
     "text": [
      "=================================\n",
      "Initial portfolio value: 100000\n",
      "Final portfolio value: 1597732.0\n",
      "Final accumulative portfolio return: 15.97732\n",
      "Maximum DrawDown: -0.28039294526345526\n",
      "Sharpe ratio: 1.615611806286763\n",
      "=================================\n"
     ]
    },
    {
     "name": "stderr",
     "output_type": "stream",
     "text": [
      " 29%|██▉       | 29/100 [21:52<49:59, 42.25s/it]"
     ]
    },
    {
     "name": "stdout",
     "output_type": "stream",
     "text": [
      "=================================\n",
      "Initial portfolio value: 100000\n",
      "Final portfolio value: 1422764.75\n",
      "Final accumulative portfolio return: 14.2276475\n",
      "Maximum DrawDown: -0.2803930149548568\n",
      "Sharpe ratio: 1.555264253744779\n",
      "=================================\n",
      "=================================\n",
      "Initial portfolio value: 100000\n",
      "Final portfolio value: 125885.1796875\n",
      "Final accumulative portfolio return: 1.258851796875\n",
      "Maximum DrawDown: -0.27279353693926045\n",
      "Sharpe ratio: 0.5951380875447475\n",
      "=================================\n"
     ]
    },
    {
     "name": "stderr",
     "output_type": "stream",
     "text": [
      " 30%|███       | 30/100 [22:43<52:18, 44.83s/it]"
     ]
    },
    {
     "name": "stdout",
     "output_type": "stream",
     "text": [
      "Validation performance at episode 30: -3.8238346328983552\n",
      "No improvement for 3 validation(s).\n",
      "=================================\n",
      "Initial portfolio value: 100000\n",
      "Final portfolio value: 1071090.625\n",
      "Final accumulative portfolio return: 10.71090625\n",
      "Maximum DrawDown: -0.28039294988239594\n",
      "Sharpe ratio: 1.4257495787746979\n",
      "=================================\n"
     ]
    },
    {
     "name": "stderr",
     "output_type": "stream",
     "text": [
      " 31%|███       | 31/100 [23:22<49:35, 43.12s/it]"
     ]
    },
    {
     "name": "stdout",
     "output_type": "stream",
     "text": [
      "=================================\n",
      "Initial portfolio value: 100000\n",
      "Final portfolio value: 1294312.125\n",
      "Final accumulative portfolio return: 12.94312125\n",
      "Maximum DrawDown: -0.2803927892972766\n",
      "Sharpe ratio: 1.497415124519695\n",
      "=================================\n"
     ]
    },
    {
     "name": "stderr",
     "output_type": "stream",
     "text": [
      " 32%|███▏      | 32/100 [24:01<47:31, 41.93s/it]"
     ]
    },
    {
     "name": "stdout",
     "output_type": "stream",
     "text": [
      "=================================\n",
      "Initial portfolio value: 100000\n",
      "Final portfolio value: 1579448.875\n",
      "Final accumulative portfolio return: 15.79448875\n",
      "Maximum DrawDown: -0.28039286948275355\n",
      "Sharpe ratio: 1.6018274288757608\n",
      "=================================\n",
      "=================================\n",
      "Initial portfolio value: 100000\n",
      "Final portfolio value: 143590.9375\n",
      "Final accumulative portfolio return: 1.435909375\n",
      "Maximum DrawDown: -0.3136301944652461\n",
      "Sharpe ratio: 0.8118439811397946\n",
      "=================================\n"
     ]
    },
    {
     "name": "stderr",
     "output_type": "stream",
     "text": [
      " 33%|███▎      | 33/100 [24:52<49:51, 44.65s/it]"
     ]
    },
    {
     "name": "stdout",
     "output_type": "stream",
     "text": [
      "Validation performance at episode 33: -2.631860148069235\n",
      "No improvement for 4 validation(s).\n",
      "=================================\n",
      "Initial portfolio value: 100000\n",
      "Final portfolio value: 1817810.5\n",
      "Final accumulative portfolio return: 18.178105\n",
      "Maximum DrawDown: -0.28039481118680487\n",
      "Sharpe ratio: 1.664509780834269\n",
      "=================================\n"
     ]
    },
    {
     "name": "stderr",
     "output_type": "stream",
     "text": [
      " 34%|███▍      | 34/100 [25:36<48:46, 44.34s/it]"
     ]
    },
    {
     "name": "stdout",
     "output_type": "stream",
     "text": [
      "=================================\n",
      "Initial portfolio value: 100000\n",
      "Final portfolio value: 1285917.0\n",
      "Final accumulative portfolio return: 12.85917\n",
      "Maximum DrawDown: -0.420348109892866\n",
      "Sharpe ratio: 1.4364445927919265\n",
      "=================================\n"
     ]
    },
    {
     "name": "stderr",
     "output_type": "stream",
     "text": [
      " 35%|███▌      | 35/100 [26:19<47:39, 43.99s/it]"
     ]
    },
    {
     "name": "stdout",
     "output_type": "stream",
     "text": [
      "=================================\n",
      "Initial portfolio value: 100000\n",
      "Final portfolio value: 1621095.375\n",
      "Final accumulative portfolio return: 16.21095375\n",
      "Maximum DrawDown: -0.289481105389101\n",
      "Sharpe ratio: 1.6090041620641662\n",
      "=================================\n",
      "=================================\n",
      "Initial portfolio value: 100000\n",
      "Final portfolio value: 178286.78125\n",
      "Final accumulative portfolio return: 1.7828678125\n",
      "Maximum DrawDown: -0.2533502598927466\n",
      "Sharpe ratio: 1.1886199281037924\n",
      "=================================\n"
     ]
    },
    {
     "name": "stderr",
     "output_type": "stream",
     "text": [
      " 36%|███▌      | 36/100 [27:13<50:05, 46.96s/it]"
     ]
    },
    {
     "name": "stdout",
     "output_type": "stream",
     "text": [
      "Validation performance at episode 36: -1.5289090205515325\n",
      "No improvement for 5 validation(s).\n",
      "=================================\n",
      "Initial portfolio value: 100000\n",
      "Final portfolio value: 1789252.625\n",
      "Final accumulative portfolio return: 17.89252625\n",
      "Maximum DrawDown: -0.27904340224148805\n",
      "Sharpe ratio: 1.6584980300750107\n",
      "=================================\n"
     ]
    },
    {
     "name": "stderr",
     "output_type": "stream",
     "text": [
      " 37%|███▋      | 37/100 [27:55<47:44, 45.47s/it]"
     ]
    },
    {
     "name": "stdout",
     "output_type": "stream",
     "text": [
      "=================================\n",
      "Initial portfolio value: 100000\n",
      "Final portfolio value: 1834596.0\n",
      "Final accumulative portfolio return: 18.34596\n",
      "Maximum DrawDown: -0.2697671506736341\n",
      "Sharpe ratio: 1.6666708552332001\n",
      "=================================\n"
     ]
    },
    {
     "name": "stderr",
     "output_type": "stream",
     "text": [
      " 38%|███▊      | 38/100 [28:36<45:35, 44.12s/it]"
     ]
    },
    {
     "name": "stdout",
     "output_type": "stream",
     "text": [
      "=================================\n",
      "Initial portfolio value: 100000\n",
      "Final portfolio value: 1636734.5\n",
      "Final accumulative portfolio return: 16.367345\n",
      "Maximum DrawDown: -0.25930476123261526\n",
      "Sharpe ratio: 1.606096741848745\n",
      "=================================\n",
      "=================================\n",
      "Initial portfolio value: 100000\n",
      "Final portfolio value: 148488.5\n",
      "Final accumulative portfolio return: 1.484885\n",
      "Maximum DrawDown: -0.2874117430916523\n",
      "Sharpe ratio: 0.868546185982837\n",
      "=================================\n"
     ]
    },
    {
     "name": "stderr",
     "output_type": "stream",
     "text": [
      " 39%|███▉      | 39/100 [29:30<47:56, 47.16s/it]"
     ]
    },
    {
     "name": "stdout",
     "output_type": "stream",
     "text": [
      "Validation performance at episode 39: -2.055525496086144\n",
      "No improvement for 6 validation(s).\n",
      "=================================\n",
      "Initial portfolio value: 100000\n",
      "Final portfolio value: 1898382.25\n",
      "Final accumulative portfolio return: 18.9838225\n",
      "Maximum DrawDown: -0.2638717571350244\n",
      "Sharpe ratio: 1.6790369138401702\n",
      "=================================\n"
     ]
    },
    {
     "name": "stderr",
     "output_type": "stream",
     "text": [
      " 40%|████      | 40/100 [30:12<45:34, 45.58s/it]"
     ]
    },
    {
     "name": "stdout",
     "output_type": "stream",
     "text": [
      "=================================\n",
      "Initial portfolio value: 100000\n",
      "Final portfolio value: 1988209.125\n",
      "Final accumulative portfolio return: 19.88209125\n",
      "Maximum DrawDown: -0.26046842124227854\n",
      "Sharpe ratio: 1.7045369157428227\n",
      "=================================\n"
     ]
    },
    {
     "name": "stderr",
     "output_type": "stream",
     "text": [
      " 41%|████      | 41/100 [30:52<43:20, 44.08s/it]"
     ]
    },
    {
     "name": "stdout",
     "output_type": "stream",
     "text": [
      "=================================\n",
      "Initial portfolio value: 100000\n",
      "Final portfolio value: 2056631.0\n",
      "Final accumulative portfolio return: 20.56631\n",
      "Maximum DrawDown: -0.2594355421104567\n",
      "Sharpe ratio: 1.7222522981437274\n",
      "=================================\n",
      "=================================\n",
      "Initial portfolio value: 100000\n",
      "Final portfolio value: 148140.3125\n",
      "Final accumulative portfolio return: 1.481403125\n",
      "Maximum DrawDown: -0.2812547775427843\n",
      "Sharpe ratio: 0.8653104761557718\n",
      "=================================\n"
     ]
    },
    {
     "name": "stderr",
     "output_type": "stream",
     "text": [
      " 42%|████▏     | 42/100 [31:52<47:14, 48.87s/it]"
     ]
    },
    {
     "name": "stdout",
     "output_type": "stream",
     "text": [
      "Validation performance at episode 42: -2.0196129228651207\n",
      "No improvement for 7 validation(s).\n",
      "=================================\n",
      "Initial portfolio value: 100000\n",
      "Final portfolio value: 2079198.125\n",
      "Final accumulative portfolio return: 20.79198125\n",
      "Maximum DrawDown: -0.25940004044987686\n",
      "Sharpe ratio: 1.7277586652852392\n",
      "=================================\n"
     ]
    },
    {
     "name": "stderr",
     "output_type": "stream",
     "text": [
      " 43%|████▎     | 43/100 [32:34<44:24, 46.74s/it]"
     ]
    },
    {
     "name": "stdout",
     "output_type": "stream",
     "text": [
      "=================================\n",
      "Initial portfolio value: 100000\n",
      "Final portfolio value: 2117481.25\n",
      "Final accumulative portfolio return: 21.1748125\n",
      "Maximum DrawDown: -0.25945195871888727\n",
      "Sharpe ratio: 1.7365178590367116\n",
      "=================================\n"
     ]
    },
    {
     "name": "stderr",
     "output_type": "stream",
     "text": [
      " 44%|████▍     | 44/100 [33:18<42:44, 45.79s/it]"
     ]
    },
    {
     "name": "stdout",
     "output_type": "stream",
     "text": [
      "=================================\n",
      "Initial portfolio value: 100000\n",
      "Final portfolio value: 2145384.0\n",
      "Final accumulative portfolio return: 21.45384\n",
      "Maximum DrawDown: -0.2595659464685204\n",
      "Sharpe ratio: 1.7419892046662817\n",
      "=================================\n",
      "=================================\n",
      "Initial portfolio value: 100000\n",
      "Final portfolio value: 146586.828125\n",
      "Final accumulative portfolio return: 1.46586828125\n",
      "Maximum DrawDown: -0.28727064776338207\n",
      "Sharpe ratio: 0.8436199533789899\n",
      "=================================\n"
     ]
    },
    {
     "name": "stderr",
     "output_type": "stream",
     "text": [
      " 45%|████▌     | 45/100 [34:13<44:26, 48.49s/it]"
     ]
    },
    {
     "name": "stdout",
     "output_type": "stream",
     "text": [
      "Validation performance at episode 45: -2.0223768544852283\n",
      "No improvement for 8 validation(s).\n",
      "=================================\n",
      "Initial portfolio value: 100000\n",
      "Final portfolio value: 2175294.0\n",
      "Final accumulative portfolio return: 21.75294\n",
      "Maximum DrawDown: -0.25979084523882345\n",
      "Sharpe ratio: 1.7489488153780204\n",
      "=================================\n"
     ]
    },
    {
     "name": "stderr",
     "output_type": "stream",
     "text": [
      " 46%|████▌     | 46/100 [34:55<42:01, 46.69s/it]"
     ]
    },
    {
     "name": "stdout",
     "output_type": "stream",
     "text": [
      "=================================\n",
      "Initial portfolio value: 100000\n",
      "Final portfolio value: 2191597.75\n",
      "Final accumulative portfolio return: 21.9159775\n",
      "Maximum DrawDown: -0.2598260878457227\n",
      "Sharpe ratio: 1.7523308267086017\n",
      "=================================\n"
     ]
    },
    {
     "name": "stderr",
     "output_type": "stream",
     "text": [
      " 47%|████▋     | 47/100 [35:38<40:15, 45.57s/it]"
     ]
    },
    {
     "name": "stdout",
     "output_type": "stream",
     "text": [
      "=================================\n",
      "Initial portfolio value: 100000\n",
      "Final portfolio value: 2203085.0\n",
      "Final accumulative portfolio return: 22.03085\n",
      "Maximum DrawDown: -0.2599124939696308\n",
      "Sharpe ratio: 1.754936140663763\n",
      "=================================\n",
      "=================================\n",
      "Initial portfolio value: 100000\n",
      "Final portfolio value: 146617.625\n",
      "Final accumulative portfolio return: 1.46617625\n",
      "Maximum DrawDown: -0.2909309337753261\n",
      "Sharpe ratio: 0.8440447127530131\n",
      "=================================\n"
     ]
    },
    {
     "name": "stderr",
     "output_type": "stream",
     "text": [
      " 48%|████▊     | 48/100 [36:33<41:57, 48.42s/it]"
     ]
    },
    {
     "name": "stdout",
     "output_type": "stream",
     "text": [
      "Validation performance at episode 48: -1.9987664189409569\n",
      "No improvement for 9 validation(s).\n",
      "=================================\n",
      "Initial portfolio value: 100000\n",
      "Final portfolio value: 2211892.0\n",
      "Final accumulative portfolio return: 22.11892\n",
      "Maximum DrawDown: -0.2600875375042718\n",
      "Sharpe ratio: 1.756962576186938\n",
      "=================================\n"
     ]
    },
    {
     "name": "stderr",
     "output_type": "stream",
     "text": [
      " 49%|████▉     | 49/100 [37:16<39:43, 46.74s/it]"
     ]
    },
    {
     "name": "stdout",
     "output_type": "stream",
     "text": [
      "=================================\n",
      "Initial portfolio value: 100000\n",
      "Final portfolio value: 2218285.75\n",
      "Final accumulative portfolio return: 22.1828575\n",
      "Maximum DrawDown: -0.26021727302742226\n",
      "Sharpe ratio: 1.758440235858764\n",
      "=================================\n"
     ]
    },
    {
     "name": "stderr",
     "output_type": "stream",
     "text": [
      " 50%|█████     | 50/100 [37:58<37:53, 45.47s/it]"
     ]
    },
    {
     "name": "stdout",
     "output_type": "stream",
     "text": [
      "=================================\n",
      "Initial portfolio value: 100000\n",
      "Final portfolio value: 2223755.25\n",
      "Final accumulative portfolio return: 22.2375525\n",
      "Maximum DrawDown: -0.26029565068936955\n",
      "Sharpe ratio: 1.7597334867369778\n",
      "=================================\n",
      "=================================\n",
      "Initial portfolio value: 100000\n",
      "Final portfolio value: 146168.734375\n",
      "Final accumulative portfolio return: 1.46168734375\n",
      "Maximum DrawDown: -0.2929347551467453\n",
      "Sharpe ratio: 0.8387538511344785\n",
      "=================================\n"
     ]
    },
    {
     "name": "stderr",
     "output_type": "stream",
     "text": [
      " 50%|█████     | 50/100 [38:54<38:54, 46.68s/it]"
     ]
    },
    {
     "name": "stdout",
     "output_type": "stream",
     "text": [
      "Validation performance at episode 51: -1.9777450832851613\n",
      "No improvement for 10 validation(s).\n",
      "Early stopping due to no improvement on validation set.\n",
      "Loaded best model based on validation performance.\n"
     ]
    },
    {
     "name": "stderr",
     "output_type": "stream",
     "text": [
      "\n",
      "C:\\Users\\xutia\\AppData\\Local\\Temp\\ipykernel_26128\\4180739837.py:59: FutureWarning: You are using `torch.load` with `weights_only=False` (the current default value), which uses the default pickle module implicitly. It is possible to construct malicious pickle data which will execute arbitrary code during unpickling (See https://github.com/pytorch/pytorch/blob/main/SECURITY.md#untrusted-models for more details). In a future release, the default value for `weights_only` will be flipped to `True`. This limits the functions that could be executed during unpickling. Arbitrary objects will no longer be allowed to be loaded via this mode unless they are explicitly allowlisted by the user via `torch.serialization.add_safe_globals`. We recommend you start setting `weights_only=True` for any use case where you don't have full control of the loaded file. Please open an issue on GitHub for any issues related to this experimental feature.\n",
      "  EIIE_policy.load_state_dict(torch.load(model_filename))\n"
     ]
    },
    {
     "name": "stdout",
     "output_type": "stream",
     "text": [
      "=================================\n",
      "Initial portfolio value: 100000\n",
      "Final portfolio value: 1262231.875\n",
      "Final accumulative portfolio return: 12.62231875\n",
      "Maximum DrawDown: -0.28039192903420884\n",
      "Sharpe ratio: 1.4807610736180699\n",
      "=================================\n",
      "Metrics - train_final_value: 1262231.875, train_drawdown: -0.28039192903420884, train_sharpe: 1.4816187516865078, train_cumulative: 12.62231875\n",
      "=================================\n",
      "Initial portfolio value: 100000\n",
      "Final portfolio value: 128480.71875\n",
      "Final accumulative portfolio return: 1.2848071875\n",
      "Maximum DrawDown: -0.18432842353780854\n",
      "Sharpe ratio: 0.70634245309482\n",
      "=================================\n",
      "Metrics - test_final_value: 128480.71875, test_drawdown: -0.1843284235378085, test_sharpe: 0.7078399934507542, test_cumulative: 1.2848071875\n",
      "Training model with TIME_WINDOW=30, K_SIZE=3, CONV_MID=10, CONV_FINAL=20, LEARNING_RATE=0.01\n"
     ]
    },
    {
     "name": "stderr",
     "output_type": "stream",
     "text": [
      "  0%|          | 0/100 [00:00<?, ?it/s]"
     ]
    },
    {
     "name": "stdout",
     "output_type": "stream",
     "text": [
      "=================================\n",
      "Initial portfolio value: 100000\n",
      "Final portfolio value: 250232.546875\n",
      "Final accumulative portfolio return: 2.50232546875\n",
      "Maximum DrawDown: -0.3199508532955583\n",
      "Sharpe ratio: 0.8242025415163529\n",
      "=================================\n"
     ]
    },
    {
     "name": "stderr",
     "output_type": "stream",
     "text": [
      "  1%|          | 1/100 [00:41<1:09:14, 41.97s/it]"
     ]
    },
    {
     "name": "stdout",
     "output_type": "stream",
     "text": [
      "=================================\n",
      "Initial portfolio value: 100000\n",
      "Final portfolio value: 399293.8125\n",
      "Final accumulative portfolio return: 3.992938125\n",
      "Maximum DrawDown: -0.3113888098386818\n",
      "Sharpe ratio: 1.015380742641572\n",
      "=================================\n"
     ]
    },
    {
     "name": "stderr",
     "output_type": "stream",
     "text": [
      "  2%|▏         | 2/100 [01:23<1:08:25, 41.89s/it]"
     ]
    },
    {
     "name": "stdout",
     "output_type": "stream",
     "text": [
      "=================================\n",
      "Initial portfolio value: 100000\n",
      "Final portfolio value: 536084.6875\n",
      "Final accumulative portfolio return: 5.360846875\n",
      "Maximum DrawDown: -0.31614539094489147\n",
      "Sharpe ratio: 1.1044145654552102\n",
      "=================================\n",
      "=================================\n",
      "Initial portfolio value: 100000\n",
      "Final portfolio value: 166862.921875\n",
      "Final accumulative portfolio return: 1.66862921875\n",
      "Maximum DrawDown: -0.1958936606075974\n",
      "Sharpe ratio: 1.2213358644149526\n",
      "=================================\n"
     ]
    },
    {
     "name": "stderr",
     "output_type": "stream",
     "text": [
      "  3%|▎         | 3/100 [02:19<1:17:55, 48.20s/it]"
     ]
    },
    {
     "name": "stdout",
     "output_type": "stream",
     "text": [
      "Validation performance at episode 3: -1.813947647312577\n",
      "New best validation performance: -1.813947647312577\n",
      "=================================\n",
      "Initial portfolio value: 100000\n",
      "Final portfolio value: 700943.375\n",
      "Final accumulative portfolio return: 7.00943375\n",
      "Maximum DrawDown: -0.2897572748220508\n",
      "Sharpe ratio: 1.2413491825651843\n",
      "=================================\n"
     ]
    },
    {
     "name": "stderr",
     "output_type": "stream",
     "text": [
      "  4%|▍         | 4/100 [03:02<1:13:56, 46.21s/it]"
     ]
    },
    {
     "name": "stdout",
     "output_type": "stream",
     "text": [
      "=================================\n",
      "Initial portfolio value: 100000\n",
      "Final portfolio value: 801779.0625\n",
      "Final accumulative portfolio return: 8.017790625\n",
      "Maximum DrawDown: -0.28163486971971885\n",
      "Sharpe ratio: 1.2960409418623966\n",
      "=================================\n"
     ]
    },
    {
     "name": "stderr",
     "output_type": "stream",
     "text": [
      "  5%|▌         | 5/100 [03:46<1:12:01, 45.49s/it]"
     ]
    },
    {
     "name": "stdout",
     "output_type": "stream",
     "text": [
      "=================================\n",
      "Initial portfolio value: 100000\n",
      "Final portfolio value: 950113.75\n",
      "Final accumulative portfolio return: 9.5011375\n",
      "Maximum DrawDown: -0.28037611148029395\n",
      "Sharpe ratio: 1.406800452326343\n",
      "=================================\n",
      "=================================\n",
      "Initial portfolio value: 100000\n",
      "Final portfolio value: 132752.375\n",
      "Final accumulative portfolio return: 1.32752375\n",
      "Maximum DrawDown: -0.09264370117984755\n",
      "Sharpe ratio: 1.479861945312163\n",
      "=================================\n"
     ]
    },
    {
     "name": "stderr",
     "output_type": "stream",
     "text": [
      "  6%|▌         | 6/100 [04:43<1:17:15, 49.32s/it]"
     ]
    },
    {
     "name": "stdout",
     "output_type": "stream",
     "text": [
      "Validation performance at episode 6: -3.71626637441098\n",
      "No improvement for 1 validation(s).\n",
      "=================================\n",
      "Initial portfolio value: 100000\n",
      "Final portfolio value: 940311.875\n",
      "Final accumulative portfolio return: 9.40311875\n",
      "Maximum DrawDown: -0.294980824706493\n",
      "Sharpe ratio: 1.299034788067756\n",
      "=================================\n"
     ]
    },
    {
     "name": "stderr",
     "output_type": "stream",
     "text": [
      "  7%|▋         | 7/100 [05:27<1:13:41, 47.55s/it]"
     ]
    },
    {
     "name": "stdout",
     "output_type": "stream",
     "text": [
      "=================================\n",
      "Initial portfolio value: 100000\n",
      "Final portfolio value: 1018369.625\n",
      "Final accumulative portfolio return: 10.18369625\n",
      "Maximum DrawDown: -0.29147214168055635\n",
      "Sharpe ratio: 1.3219570352812013\n",
      "=================================\n"
     ]
    },
    {
     "name": "stderr",
     "output_type": "stream",
     "text": [
      "  8%|▊         | 8/100 [06:09<1:10:17, 45.84s/it]"
     ]
    },
    {
     "name": "stdout",
     "output_type": "stream",
     "text": [
      "=================================\n",
      "Initial portfolio value: 100000\n",
      "Final portfolio value: 1083696.0\n",
      "Final accumulative portfolio return: 10.83696\n",
      "Maximum DrawDown: -0.2798137815820325\n",
      "Sharpe ratio: 1.3868054226467936\n",
      "=================================\n",
      "=================================\n",
      "Initial portfolio value: 100000\n",
      "Final portfolio value: 152542.625\n",
      "Final accumulative portfolio return: 1.52542625\n",
      "Maximum DrawDown: -0.3153340612397152\n",
      "Sharpe ratio: 0.9330194031467912\n",
      "=================================\n"
     ]
    },
    {
     "name": "stderr",
     "output_type": "stream",
     "text": [
      "  9%|▉         | 9/100 [07:04<1:13:52, 48.71s/it]"
     ]
    },
    {
     "name": "stdout",
     "output_type": "stream",
     "text": [
      "Validation performance at episode 9: -2.4083976995391962\n",
      "No improvement for 2 validation(s).\n",
      "=================================\n",
      "Initial portfolio value: 100000\n",
      "Final portfolio value: 1171601.625\n",
      "Final accumulative portfolio return: 11.71601625\n",
      "Maximum DrawDown: -0.30622310058440205\n",
      "Sharpe ratio: 1.3891605271821255\n",
      "=================================\n"
     ]
    },
    {
     "name": "stderr",
     "output_type": "stream",
     "text": [
      " 10%|█         | 10/100 [07:47<1:10:17, 46.87s/it]"
     ]
    },
    {
     "name": "stdout",
     "output_type": "stream",
     "text": [
      "=================================\n",
      "Initial portfolio value: 100000\n",
      "Final portfolio value: 1198162.75\n",
      "Final accumulative portfolio return: 11.9816275\n",
      "Maximum DrawDown: -0.2980261317858973\n",
      "Sharpe ratio: 1.3886267550524334\n",
      "=================================\n"
     ]
    },
    {
     "name": "stderr",
     "output_type": "stream",
     "text": [
      " 11%|█         | 11/100 [08:30<1:07:49, 45.72s/it]"
     ]
    },
    {
     "name": "stdout",
     "output_type": "stream",
     "text": [
      "=================================\n",
      "Initial portfolio value: 100000\n",
      "Final portfolio value: 1275319.0\n",
      "Final accumulative portfolio return: 12.75319\n",
      "Maximum DrawDown: -0.29294865295635253\n",
      "Sharpe ratio: 1.3987017974177363\n",
      "=================================\n",
      "=================================\n",
      "Initial portfolio value: 100000\n",
      "Final portfolio value: 161569.140625\n",
      "Final accumulative portfolio return: 1.61569140625\n",
      "Maximum DrawDown: -0.34356127173878714\n",
      "Sharpe ratio: 1.0402595093287919\n",
      "=================================\n"
     ]
    },
    {
     "name": "stderr",
     "output_type": "stream",
     "text": [
      " 12%|█▏        | 12/100 [09:23<1:10:02, 47.76s/it]"
     ]
    },
    {
     "name": "stdout",
     "output_type": "stream",
     "text": [
      "Validation performance at episode 12: -2.7286714862826473\n",
      "No improvement for 3 validation(s).\n",
      "=================================\n",
      "Initial portfolio value: 100000\n",
      "Final portfolio value: 1256140.375\n",
      "Final accumulative portfolio return: 12.56140375\n",
      "Maximum DrawDown: -0.2803643315482389\n",
      "Sharpe ratio: 1.4686759950094697\n",
      "=================================\n"
     ]
    },
    {
     "name": "stderr",
     "output_type": "stream",
     "text": [
      " 13%|█▎        | 13/100 [10:02<1:05:25, 45.12s/it]"
     ]
    },
    {
     "name": "stdout",
     "output_type": "stream",
     "text": [
      "=================================\n",
      "Initial portfolio value: 100000\n",
      "Final portfolio value: 1023350.9375\n",
      "Final accumulative portfolio return: 10.233509375\n",
      "Maximum DrawDown: -0.33922991138803815\n",
      "Sharpe ratio: 1.282511839801767\n",
      "=================================\n"
     ]
    },
    {
     "name": "stderr",
     "output_type": "stream",
     "text": [
      " 14%|█▍        | 14/100 [10:42<1:02:27, 43.58s/it]"
     ]
    },
    {
     "name": "stdout",
     "output_type": "stream",
     "text": [
      "=================================\n",
      "Initial portfolio value: 100000\n",
      "Final portfolio value: 894474.875\n",
      "Final accumulative portfolio return: 8.94474875\n",
      "Maximum DrawDown: -0.2872893272772373\n",
      "Sharpe ratio: 1.2234786267266766\n",
      "=================================\n",
      "=================================\n",
      "Initial portfolio value: 100000\n",
      "Final portfolio value: 154951.59375\n",
      "Final accumulative portfolio return: 1.5495159375\n",
      "Maximum DrawDown: -0.3022712788833546\n",
      "Sharpe ratio: 0.93685468911818\n",
      "=================================\n"
     ]
    },
    {
     "name": "stderr",
     "output_type": "stream",
     "text": [
      " 15%|█▌        | 15/100 [11:33<1:05:12, 46.03s/it]"
     ]
    },
    {
     "name": "stdout",
     "output_type": "stream",
     "text": [
      "Validation performance at episode 15: -1.9121756301320976\n",
      "No improvement for 4 validation(s).\n",
      "=================================\n",
      "Initial portfolio value: 100000\n",
      "Final portfolio value: 847870.0\n",
      "Final accumulative portfolio return: 8.4787\n",
      "Maximum DrawDown: -0.34961379756664135\n",
      "Sharpe ratio: 1.1986822360767455\n",
      "=================================\n"
     ]
    },
    {
     "name": "stderr",
     "output_type": "stream",
     "text": [
      " 16%|█▌        | 16/100 [12:13<1:01:47, 44.14s/it]"
     ]
    },
    {
     "name": "stdout",
     "output_type": "stream",
     "text": [
      "=================================\n",
      "Initial portfolio value: 100000\n",
      "Final portfolio value: 1218014.625\n",
      "Final accumulative portfolio return: 12.18014625\n",
      "Maximum DrawDown: -0.28039334533744287\n",
      "Sharpe ratio: 1.4531586611841385\n",
      "=================================\n"
     ]
    },
    {
     "name": "stderr",
     "output_type": "stream",
     "text": [
      " 17%|█▋        | 17/100 [12:53<59:21, 42.91s/it]  "
     ]
    },
    {
     "name": "stdout",
     "output_type": "stream",
     "text": [
      "=================================\n",
      "Initial portfolio value: 100000\n",
      "Final portfolio value: 1109982.75\n",
      "Final accumulative portfolio return: 11.0998275\n",
      "Maximum DrawDown: -0.3144226233731455\n",
      "Sharpe ratio: 1.3386624847474342\n",
      "=================================\n",
      "=================================\n",
      "Initial portfolio value: 100000\n",
      "Final portfolio value: 162056.25\n",
      "Final accumulative portfolio return: 1.6205625\n",
      "Maximum DrawDown: -0.3036969673848451\n",
      "Sharpe ratio: 1.02526979623331\n",
      "=================================\n"
     ]
    },
    {
     "name": "stderr",
     "output_type": "stream",
     "text": [
      " 18%|█▊        | 18/100 [13:44<1:01:57, 45.33s/it]"
     ]
    },
    {
     "name": "stdout",
     "output_type": "stream",
     "text": [
      "Validation performance at episode 18: -1.9047179123460565\n",
      "No improvement for 5 validation(s).\n",
      "=================================\n",
      "Initial portfolio value: 100000\n",
      "Final portfolio value: 914589.875\n",
      "Final accumulative portfolio return: 9.14589875\n",
      "Maximum DrawDown: -0.3026636926779802\n",
      "Sharpe ratio: 1.2452141975825635\n",
      "=================================\n"
     ]
    },
    {
     "name": "stderr",
     "output_type": "stream",
     "text": [
      " 19%|█▉        | 19/100 [14:24<58:50, 43.58s/it]  "
     ]
    },
    {
     "name": "stdout",
     "output_type": "stream",
     "text": [
      "=================================\n",
      "Initial portfolio value: 100000\n",
      "Final portfolio value: 1103892.25\n",
      "Final accumulative portfolio return: 11.0389225\n",
      "Maximum DrawDown: -0.32124181555602416\n",
      "Sharpe ratio: 1.3089506035932612\n",
      "=================================\n"
     ]
    },
    {
     "name": "stderr",
     "output_type": "stream",
     "text": [
      " 20%|██        | 20/100 [15:04<56:38, 42.49s/it]"
     ]
    },
    {
     "name": "stdout",
     "output_type": "stream",
     "text": [
      "=================================\n",
      "Initial portfolio value: 100000\n",
      "Final portfolio value: 1384175.5\n",
      "Final accumulative portfolio return: 13.841755\n",
      "Maximum DrawDown: -0.28064825705829965\n",
      "Sharpe ratio: 1.4519991367704823\n",
      "=================================\n",
      "=================================\n",
      "Initial portfolio value: 100000\n",
      "Final portfolio value: 160661.6875\n",
      "Final accumulative portfolio return: 1.606616875\n",
      "Maximum DrawDown: -0.30733621128266353\n",
      "Sharpe ratio: 1.0321905453479638\n",
      "=================================\n"
     ]
    },
    {
     "name": "stderr",
     "output_type": "stream",
     "text": [
      " 21%|██        | 21/100 [15:54<59:16, 45.02s/it]"
     ]
    },
    {
     "name": "stdout",
     "output_type": "stream",
     "text": [
      "Validation performance at episode 21: -1.705837164524009\n",
      "New best validation performance: -1.705837164524009\n",
      "=================================\n",
      "Initial portfolio value: 100000\n",
      "Final portfolio value: 1257138.75\n",
      "Final accumulative portfolio return: 12.5713875\n",
      "Maximum DrawDown: -0.2867309216777303\n",
      "Sharpe ratio: 1.3905346259652591\n",
      "=================================\n"
     ]
    },
    {
     "name": "stderr",
     "output_type": "stream",
     "text": [
      " 22%|██▏       | 22/100 [16:34<56:16, 43.28s/it]"
     ]
    },
    {
     "name": "stdout",
     "output_type": "stream",
     "text": [
      "=================================\n",
      "Initial portfolio value: 100000\n",
      "Final portfolio value: 1226021.625\n",
      "Final accumulative portfolio return: 12.26021625\n",
      "Maximum DrawDown: -0.3013286130251207\n",
      "Sharpe ratio: 1.3891485263292225\n",
      "=================================\n"
     ]
    },
    {
     "name": "stderr",
     "output_type": "stream",
     "text": [
      " 23%|██▎       | 23/100 [17:14<54:17, 42.31s/it]"
     ]
    },
    {
     "name": "stdout",
     "output_type": "stream",
     "text": [
      "=================================\n",
      "Initial portfolio value: 100000\n",
      "Final portfolio value: 1358491.375\n",
      "Final accumulative portfolio return: 13.58491375\n",
      "Maximum DrawDown: -0.3195217667460607\n",
      "Sharpe ratio: 1.3979525065186944\n",
      "=================================\n",
      "=================================\n",
      "Initial portfolio value: 100000\n",
      "Final portfolio value: 149758.53125\n",
      "Final accumulative portfolio return: 1.4975853125\n",
      "Maximum DrawDown: -0.358377978493735\n",
      "Sharpe ratio: 0.8997456489988366\n",
      "=================================\n"
     ]
    },
    {
     "name": "stderr",
     "output_type": "stream",
     "text": [
      " 24%|██▍       | 24/100 [18:05<57:01, 45.02s/it]"
     ]
    },
    {
     "name": "stdout",
     "output_type": "stream",
     "text": [
      "Validation performance at episode 24: -2.115928355629808\n",
      "No improvement for 1 validation(s).\n",
      "=================================\n",
      "Initial portfolio value: 100000\n",
      "Final portfolio value: 1374944.875\n",
      "Final accumulative portfolio return: 13.74944875\n",
      "Maximum DrawDown: -0.26614684291060864\n",
      "Sharpe ratio: 1.436949381777461\n",
      "=================================\n"
     ]
    },
    {
     "name": "stderr",
     "output_type": "stream",
     "text": [
      " 25%|██▌       | 25/100 [18:45<54:18, 43.44s/it]"
     ]
    },
    {
     "name": "stdout",
     "output_type": "stream",
     "text": [
      "=================================\n",
      "Initial portfolio value: 100000\n",
      "Final portfolio value: 1284420.375\n",
      "Final accumulative portfolio return: 12.84420375\n",
      "Maximum DrawDown: -0.2665468584145929\n",
      "Sharpe ratio: 1.3943966573062816\n",
      "=================================\n"
     ]
    },
    {
     "name": "stderr",
     "output_type": "stream",
     "text": [
      " 26%|██▌       | 26/100 [19:25<52:14, 42.36s/it]"
     ]
    },
    {
     "name": "stdout",
     "output_type": "stream",
     "text": [
      "=================================\n",
      "Initial portfolio value: 100000\n",
      "Final portfolio value: 1436130.75\n",
      "Final accumulative portfolio return: 14.3613075\n",
      "Maximum DrawDown: -0.28419621102821024\n",
      "Sharpe ratio: 1.4538095521321595\n",
      "=================================\n",
      "=================================\n",
      "Initial portfolio value: 100000\n",
      "Final portfolio value: 135237.359375\n",
      "Final accumulative portfolio return: 1.35237359375\n",
      "Maximum DrawDown: -0.32987311725261315\n",
      "Sharpe ratio: 0.7009040435213605\n",
      "=================================\n"
     ]
    },
    {
     "name": "stderr",
     "output_type": "stream",
     "text": [
      " 27%|██▋       | 27/100 [20:15<54:35, 44.87s/it]"
     ]
    },
    {
     "name": "stdout",
     "output_type": "stream",
     "text": [
      "Validation performance at episode 27: -2.3278754547624154\n",
      "No improvement for 2 validation(s).\n",
      "=================================\n",
      "Initial portfolio value: 100000\n",
      "Final portfolio value: 1578656.25\n",
      "Final accumulative portfolio return: 15.7865625\n",
      "Maximum DrawDown: -0.2571320365600862\n",
      "Sharpe ratio: 1.5017698545560259\n",
      "=================================\n"
     ]
    },
    {
     "name": "stderr",
     "output_type": "stream",
     "text": [
      " 28%|██▊       | 28/100 [20:55<51:49, 43.19s/it]"
     ]
    },
    {
     "name": "stdout",
     "output_type": "stream",
     "text": [
      "=================================\n",
      "Initial portfolio value: 100000\n",
      "Final portfolio value: 1633879.375\n",
      "Final accumulative portfolio return: 16.33879375\n",
      "Maximum DrawDown: -0.2542437690586432\n",
      "Sharpe ratio: 1.5251396822801304\n",
      "=================================\n"
     ]
    },
    {
     "name": "stderr",
     "output_type": "stream",
     "text": [
      " 29%|██▉       | 29/100 [21:34<49:42, 42.01s/it]"
     ]
    },
    {
     "name": "stdout",
     "output_type": "stream",
     "text": [
      "=================================\n",
      "Initial portfolio value: 100000\n",
      "Final portfolio value: 1699529.5\n",
      "Final accumulative portfolio return: 16.995295\n",
      "Maximum DrawDown: -0.25542140194682983\n",
      "Sharpe ratio: 1.5403530494568938\n",
      "=================================\n",
      "=================================\n",
      "Initial portfolio value: 100000\n",
      "Final portfolio value: 135244.203125\n",
      "Final accumulative portfolio return: 1.35244203125\n",
      "Maximum DrawDown: -0.3712117185727092\n",
      "Sharpe ratio: 0.7009857341325696\n",
      "=================================\n"
     ]
    },
    {
     "name": "stderr",
     "output_type": "stream",
     "text": [
      " 30%|███       | 30/100 [22:25<52:02, 44.61s/it]"
     ]
    },
    {
     "name": "stdout",
     "output_type": "stream",
     "text": [
      "Validation performance at episode 30: -2.2991360707629434\n",
      "No improvement for 3 validation(s).\n",
      "=================================\n",
      "Initial portfolio value: 100000\n",
      "Final portfolio value: 1590886.125\n",
      "Final accumulative portfolio return: 15.90886125\n",
      "Maximum DrawDown: -0.252046349207397\n",
      "Sharpe ratio: 1.525959697284029\n",
      "=================================\n"
     ]
    },
    {
     "name": "stderr",
     "output_type": "stream",
     "text": [
      " 31%|███       | 31/100 [23:04<49:23, 42.95s/it]"
     ]
    },
    {
     "name": "stdout",
     "output_type": "stream",
     "text": [
      "=================================\n",
      "Initial portfolio value: 100000\n",
      "Final portfolio value: 1465580.625\n",
      "Final accumulative portfolio return: 14.65580625\n",
      "Maximum DrawDown: -0.26516169259508504\n",
      "Sharpe ratio: 1.455130353486266\n",
      "=================================\n"
     ]
    },
    {
     "name": "stderr",
     "output_type": "stream",
     "text": [
      " 32%|███▏      | 32/100 [23:43<47:27, 41.88s/it]"
     ]
    },
    {
     "name": "stdout",
     "output_type": "stream",
     "text": [
      "=================================\n",
      "Initial portfolio value: 100000\n",
      "Final portfolio value: 1624370.125\n",
      "Final accumulative portfolio return: 16.24370125\n",
      "Maximum DrawDown: -0.2663368737084585\n",
      "Sharpe ratio: 1.5435593197443782\n",
      "=================================\n",
      "=================================\n",
      "Initial portfolio value: 100000\n",
      "Final portfolio value: 129265.6484375\n",
      "Final accumulative portfolio return: 1.292656484375\n",
      "Maximum DrawDown: -0.3925213790736881\n",
      "Sharpe ratio: 0.6181810747393381\n",
      "=================================\n"
     ]
    },
    {
     "name": "stderr",
     "output_type": "stream",
     "text": [
      " 33%|███▎      | 33/100 [24:34<49:46, 44.57s/it]"
     ]
    },
    {
     "name": "stdout",
     "output_type": "stream",
     "text": [
      "Validation performance at episode 33: -2.3642676903322313\n",
      "No improvement for 4 validation(s).\n",
      "=================================\n",
      "Initial portfolio value: 100000\n",
      "Final portfolio value: 1378749.625\n",
      "Final accumulative portfolio return: 13.78749625\n",
      "Maximum DrawDown: -0.29052550382665554\n",
      "Sharpe ratio: 1.4392109642848776\n",
      "=================================\n"
     ]
    },
    {
     "name": "stderr",
     "output_type": "stream",
     "text": [
      " 34%|███▍      | 34/100 [25:13<47:13, 42.93s/it]"
     ]
    },
    {
     "name": "stdout",
     "output_type": "stream",
     "text": [
      "=================================\n",
      "Initial portfolio value: 100000\n",
      "Final portfolio value: 1526193.5\n",
      "Final accumulative portfolio return: 15.261935\n",
      "Maximum DrawDown: -0.25157364563084095\n",
      "Sharpe ratio: 1.547896801364062\n",
      "=================================\n"
     ]
    },
    {
     "name": "stderr",
     "output_type": "stream",
     "text": [
      " 35%|███▌      | 35/100 [25:52<45:16, 41.79s/it]"
     ]
    },
    {
     "name": "stdout",
     "output_type": "stream",
     "text": [
      "=================================\n",
      "Initial portfolio value: 100000\n",
      "Final portfolio value: 2174189.25\n",
      "Final accumulative portfolio return: 21.7418925\n",
      "Maximum DrawDown: -0.24716202901158335\n",
      "Sharpe ratio: 1.7112808062001388\n",
      "=================================\n",
      "=================================\n",
      "Initial portfolio value: 100000\n",
      "Final portfolio value: 121579.1328125\n",
      "Final accumulative portfolio return: 1.215791328125\n",
      "Maximum DrawDown: -0.3989659286875952\n",
      "Sharpe ratio: 0.5064840939697528\n",
      "=================================\n"
     ]
    },
    {
     "name": "stderr",
     "output_type": "stream",
     "text": [
      " 36%|███▌      | 36/100 [26:43<47:24, 44.44s/it]"
     ]
    },
    {
     "name": "stdout",
     "output_type": "stream",
     "text": [
      "Validation performance at episode 36: -2.312016436861454\n",
      "No improvement for 5 validation(s).\n",
      "=================================\n",
      "Initial portfolio value: 100000\n",
      "Final portfolio value: 1721737.625\n",
      "Final accumulative portfolio return: 17.21737625\n",
      "Maximum DrawDown: -0.24813090397134374\n",
      "Sharpe ratio: 1.6167656491692155\n",
      "=================================\n"
     ]
    },
    {
     "name": "stderr",
     "output_type": "stream",
     "text": [
      " 37%|███▋      | 37/100 [27:22<44:52, 42.74s/it]"
     ]
    },
    {
     "name": "stdout",
     "output_type": "stream",
     "text": [
      "=================================\n",
      "Initial portfolio value: 100000\n",
      "Final portfolio value: 1211026.0\n",
      "Final accumulative portfolio return: 12.11026\n",
      "Maximum DrawDown: -0.29194686652077084\n",
      "Sharpe ratio: 1.3725115412286641\n",
      "=================================\n"
     ]
    },
    {
     "name": "stderr",
     "output_type": "stream",
     "text": [
      " 38%|███▊      | 38/100 [28:01<43:12, 41.81s/it]"
     ]
    },
    {
     "name": "stdout",
     "output_type": "stream",
     "text": [
      "=================================\n",
      "Initial portfolio value: 100000\n",
      "Final portfolio value: 1203078.5\n",
      "Final accumulative portfolio return: 12.030785\n",
      "Maximum DrawDown: -0.28917814485844096\n",
      "Sharpe ratio: 1.371524572883805\n",
      "=================================\n",
      "=================================\n",
      "Initial portfolio value: 100000\n",
      "Final portfolio value: 120263.6484375\n",
      "Final accumulative portfolio return: 1.202636484375\n",
      "Maximum DrawDown: -0.34586494789644984\n",
      "Sharpe ratio: 0.48184369808100014\n",
      "=================================\n"
     ]
    },
    {
     "name": "stderr",
     "output_type": "stream",
     "text": [
      " 39%|███▉      | 39/100 [28:52<45:17, 44.55s/it]"
     ]
    },
    {
     "name": "stdout",
     "output_type": "stream",
     "text": [
      "Validation performance at episode 39: -3.0302191542995334\n",
      "No improvement for 6 validation(s).\n",
      "=================================\n",
      "Initial portfolio value: 100000\n",
      "Final portfolio value: 1554598.75\n",
      "Final accumulative portfolio return: 15.5459875\n",
      "Maximum DrawDown: -0.2937763301311668\n",
      "Sharpe ratio: 1.491471854013761\n",
      "=================================\n"
     ]
    },
    {
     "name": "stderr",
     "output_type": "stream",
     "text": [
      " 40%|████      | 40/100 [29:32<43:11, 43.19s/it]"
     ]
    },
    {
     "name": "stdout",
     "output_type": "stream",
     "text": [
      "=================================\n",
      "Initial portfolio value: 100000\n",
      "Final portfolio value: 1580191.375\n",
      "Final accumulative portfolio return: 15.80191375\n",
      "Maximum DrawDown: -0.29411939751223226\n",
      "Sharpe ratio: 1.4992435620341567\n",
      "=================================\n"
     ]
    },
    {
     "name": "stderr",
     "output_type": "stream",
     "text": [
      " 41%|████      | 41/100 [30:12<41:30, 42.21s/it]"
     ]
    },
    {
     "name": "stdout",
     "output_type": "stream",
     "text": [
      "=================================\n",
      "Initial portfolio value: 100000\n",
      "Final portfolio value: 1618855.375\n",
      "Final accumulative portfolio return: 16.18855375\n",
      "Maximum DrawDown: -0.29422257426643994\n",
      "Sharpe ratio: 1.5108251889366533\n",
      "=================================\n",
      "=================================\n",
      "Initial portfolio value: 100000\n",
      "Final portfolio value: 123522.6484375\n",
      "Final accumulative portfolio return: 1.235226484375\n",
      "Maximum DrawDown: -0.34333071570518925\n",
      "Sharpe ratio: 0.5307995988308292\n",
      "=================================\n"
     ]
    },
    {
     "name": "stderr",
     "output_type": "stream",
     "text": [
      " 42%|████▏     | 42/100 [31:04<43:30, 45.02s/it]"
     ]
    },
    {
     "name": "stdout",
     "output_type": "stream",
     "text": [
      "Validation performance at episode 42: -2.737942988793228\n",
      "No improvement for 7 validation(s).\n",
      "=================================\n",
      "Initial portfolio value: 100000\n",
      "Final portfolio value: 1662012.5\n",
      "Final accumulative portfolio return: 16.620125\n",
      "Maximum DrawDown: -0.29401237022758475\n",
      "Sharpe ratio: 1.5231523042020874\n",
      "=================================\n"
     ]
    },
    {
     "name": "stderr",
     "output_type": "stream",
     "text": [
      " 43%|████▎     | 43/100 [31:43<41:12, 43.38s/it]"
     ]
    },
    {
     "name": "stdout",
     "output_type": "stream",
     "text": [
      "=================================\n",
      "Initial portfolio value: 100000\n",
      "Final portfolio value: 1703797.25\n",
      "Final accumulative portfolio return: 17.0379725\n",
      "Maximum DrawDown: -0.2938305953163899\n",
      "Sharpe ratio: 1.5347035213011766\n",
      "=================================\n"
     ]
    },
    {
     "name": "stderr",
     "output_type": "stream",
     "text": [
      " 44%|████▍     | 44/100 [32:22<39:20, 42.16s/it]"
     ]
    },
    {
     "name": "stdout",
     "output_type": "stream",
     "text": [
      "=================================\n",
      "Initial portfolio value: 100000\n",
      "Final portfolio value: 1749631.875\n",
      "Final accumulative portfolio return: 17.49631875\n",
      "Maximum DrawDown: -0.2935408962443796\n",
      "Sharpe ratio: 1.548291581473259\n",
      "=================================\n",
      "=================================\n",
      "Initial portfolio value: 100000\n",
      "Final portfolio value: 121997.6328125\n",
      "Final accumulative portfolio return: 1.219976328125\n",
      "Maximum DrawDown: -0.3456873663862079\n",
      "Sharpe ratio: 0.5092311003269441\n",
      "=================================\n"
     ]
    },
    {
     "name": "stderr",
     "output_type": "stream",
     "text": [
      " 45%|████▌     | 45/100 [33:13<40:52, 44.59s/it]"
     ]
    },
    {
     "name": "stdout",
     "output_type": "stream",
     "text": [
      "Validation performance at episode 45: -2.7731728705624707\n",
      "No improvement for 8 validation(s).\n",
      "=================================\n",
      "Initial portfolio value: 100000\n",
      "Final portfolio value: 1802658.875\n",
      "Final accumulative portfolio return: 18.02658875\n",
      "Maximum DrawDown: -0.293235012261182\n",
      "Sharpe ratio: 1.5635205949415791\n",
      "=================================\n"
     ]
    },
    {
     "name": "stderr",
     "output_type": "stream",
     "text": [
      " 46%|████▌     | 46/100 [33:52<38:40, 42.98s/it]"
     ]
    },
    {
     "name": "stdout",
     "output_type": "stream",
     "text": [
      "=================================\n",
      "Initial portfolio value: 100000\n",
      "Final portfolio value: 1849064.5\n",
      "Final accumulative portfolio return: 18.490645\n",
      "Maximum DrawDown: -0.2930607720411622\n",
      "Sharpe ratio: 1.5761378344443548\n",
      "=================================\n"
     ]
    },
    {
     "name": "stderr",
     "output_type": "stream",
     "text": [
      " 47%|████▋     | 47/100 [34:31<37:02, 41.93s/it]"
     ]
    },
    {
     "name": "stdout",
     "output_type": "stream",
     "text": [
      "=================================\n",
      "Initial portfolio value: 100000\n",
      "Final portfolio value: 1888021.125\n",
      "Final accumulative portfolio return: 18.88021125\n",
      "Maximum DrawDown: -0.2930457144660218\n",
      "Sharpe ratio: 1.5876248534756754\n",
      "=================================\n",
      "=================================\n",
      "Initial portfolio value: 100000\n",
      "Final portfolio value: 133252.328125\n",
      "Final accumulative portfolio return: 1.33252328125\n",
      "Maximum DrawDown: -0.312699408411676\n",
      "Sharpe ratio: 0.6900961391526739\n",
      "=================================\n"
     ]
    },
    {
     "name": "stderr",
     "output_type": "stream",
     "text": [
      " 48%|████▊     | 48/100 [35:22<38:36, 44.55s/it]"
     ]
    },
    {
     "name": "stdout",
     "output_type": "stream",
     "text": [
      "Validation performance at episode 48: -2.509118372311613\n",
      "No improvement for 9 validation(s).\n",
      "=================================\n",
      "Initial portfolio value: 100000\n",
      "Final portfolio value: 1940910.125\n",
      "Final accumulative portfolio return: 19.40910125\n",
      "Maximum DrawDown: -0.2930857071253866\n",
      "Sharpe ratio: 1.603857082409542\n",
      "=================================\n"
     ]
    },
    {
     "name": "stderr",
     "output_type": "stream",
     "text": [
      " 49%|████▉     | 49/100 [36:01<36:31, 42.96s/it]"
     ]
    },
    {
     "name": "stdout",
     "output_type": "stream",
     "text": [
      "=================================\n",
      "Initial portfolio value: 100000\n",
      "Final portfolio value: 2007091.625\n",
      "Final accumulative portfolio return: 20.07091625\n",
      "Maximum DrawDown: -0.2932289322137651\n",
      "Sharpe ratio: 1.625190511416851\n",
      "=================================\n"
     ]
    },
    {
     "name": "stderr",
     "output_type": "stream",
     "text": [
      " 50%|█████     | 50/100 [36:40<34:49, 41.80s/it]"
     ]
    },
    {
     "name": "stdout",
     "output_type": "stream",
     "text": [
      "=================================\n",
      "Initial portfolio value: 100000\n",
      "Final portfolio value: 2111125.5\n",
      "Final accumulative portfolio return: 21.111255\n",
      "Maximum DrawDown: -0.293481733766606\n",
      "Sharpe ratio: 1.6576036950560915\n",
      "=================================\n",
      "=================================\n",
      "Initial portfolio value: 100000\n",
      "Final portfolio value: 144157.921875\n",
      "Final accumulative portfolio return: 1.44157921875\n",
      "Maximum DrawDown: -0.30428726906697756\n",
      "Sharpe ratio: 0.8494219103183184\n",
      "=================================\n"
     ]
    },
    {
     "name": "stderr",
     "output_type": "stream",
     "text": [
      " 50%|█████     | 50/100 [37:31<37:31, 45.04s/it]"
     ]
    },
    {
     "name": "stdout",
     "output_type": "stream",
     "text": [
      "Validation performance at episode 51: -2.2909711518787144\n",
      "No improvement for 10 validation(s).\n",
      "Early stopping due to no improvement on validation set.\n",
      "Loaded best model based on validation performance.\n"
     ]
    },
    {
     "name": "stderr",
     "output_type": "stream",
     "text": [
      "\n",
      "C:\\Users\\xutia\\AppData\\Local\\Temp\\ipykernel_26128\\4180739837.py:59: FutureWarning: You are using `torch.load` with `weights_only=False` (the current default value), which uses the default pickle module implicitly. It is possible to construct malicious pickle data which will execute arbitrary code during unpickling (See https://github.com/pytorch/pytorch/blob/main/SECURITY.md#untrusted-models for more details). In a future release, the default value for `weights_only` will be flipped to `True`. This limits the functions that could be executed during unpickling. Arbitrary objects will no longer be allowed to be loaded via this mode unless they are explicitly allowlisted by the user via `torch.serialization.add_safe_globals`. We recommend you start setting `weights_only=True` for any use case where you don't have full control of the loaded file. Please open an issue on GitHub for any issues related to this experimental feature.\n",
      "  EIIE_policy.load_state_dict(torch.load(model_filename))\n"
     ]
    },
    {
     "name": "stdout",
     "output_type": "stream",
     "text": [
      "=================================\n",
      "Initial portfolio value: 100000\n",
      "Final portfolio value: 689456.625\n",
      "Final accumulative portfolio return: 6.89456625\n",
      "Maximum DrawDown: -0.2808453359451687\n",
      "Sharpe ratio: 1.1411198741949535\n",
      "=================================\n",
      "Metrics - train_final_value: 689456.625, train_drawdown: -0.28084533594516875, train_sharpe: 1.1417786715039586, train_cumulative: 6.89456625\n",
      "=================================\n",
      "Initial portfolio value: 100000\n",
      "Final portfolio value: 158826.75\n",
      "Final accumulative portfolio return: 1.5882675\n",
      "Maximum DrawDown: -0.17215346465820103\n",
      "Sharpe ratio: 1.170647824549041\n",
      "=================================\n",
      "Metrics - test_final_value: 158826.75, test_drawdown: -0.17215346465820103, test_sharpe: 1.1731289457805099, test_cumulative: 1.5882675\n",
      "Training model with TIME_WINDOW=30, K_SIZE=3, CONV_MID=10, CONV_FINAL=20, LEARNING_RATE=0.02\n"
     ]
    },
    {
     "name": "stderr",
     "output_type": "stream",
     "text": [
      "  0%|          | 0/100 [00:00<?, ?it/s]"
     ]
    },
    {
     "name": "stdout",
     "output_type": "stream",
     "text": [
      "=================================\n",
      "Initial portfolio value: 100000\n",
      "Final portfolio value: 311331.78125\n",
      "Final accumulative portfolio return: 3.1133178125\n",
      "Maximum DrawDown: -0.2934440643466846\n",
      "Sharpe ratio: 0.8835977146501174\n",
      "=================================\n"
     ]
    },
    {
     "name": "stderr",
     "output_type": "stream",
     "text": [
      "  1%|          | 1/100 [00:39<1:04:59, 39.39s/it]"
     ]
    },
    {
     "name": "stdout",
     "output_type": "stream",
     "text": [
      "=================================\n",
      "Initial portfolio value: 100000\n",
      "Final portfolio value: 492857.4375\n",
      "Final accumulative portfolio return: 4.928574375\n",
      "Maximum DrawDown: -0.37023142218326666\n",
      "Sharpe ratio: 1.0248027435913207\n",
      "=================================\n"
     ]
    },
    {
     "name": "stderr",
     "output_type": "stream",
     "text": [
      "  2%|▏         | 2/100 [01:18<1:04:30, 39.50s/it]"
     ]
    },
    {
     "name": "stdout",
     "output_type": "stream",
     "text": [
      "=================================\n",
      "Initial portfolio value: 100000\n",
      "Final portfolio value: 775870.3125\n",
      "Final accumulative portfolio return: 7.758703125\n",
      "Maximum DrawDown: -0.28032775596899295\n",
      "Sharpe ratio: 1.311595164243934\n",
      "=================================\n",
      "=================================\n",
      "Initial portfolio value: 100000\n",
      "Final portfolio value: 174380.984375\n",
      "Final accumulative portfolio return: 1.74380984375\n",
      "Maximum DrawDown: -0.2549829179592862\n",
      "Sharpe ratio: 1.354469644139989\n",
      "=================================\n"
     ]
    },
    {
     "name": "stderr",
     "output_type": "stream",
     "text": [
      "  3%|▎         | 3/100 [02:09<1:12:15, 44.69s/it]"
     ]
    },
    {
     "name": "stdout",
     "output_type": "stream",
     "text": [
      "Validation performance at episode 3: -1.7173445507618794\n",
      "New best validation performance: -1.7173445507618794\n",
      "=================================\n",
      "Initial portfolio value: 100000\n",
      "Final portfolio value: 855737.375\n",
      "Final accumulative portfolio return: 8.55737375\n",
      "Maximum DrawDown: -0.3568773155588638\n",
      "Sharpe ratio: 1.3086134692864955\n",
      "=================================\n"
     ]
    },
    {
     "name": "stderr",
     "output_type": "stream",
     "text": [
      "  4%|▍         | 4/100 [02:49<1:08:04, 42.55s/it]"
     ]
    },
    {
     "name": "stdout",
     "output_type": "stream",
     "text": [
      "=================================\n",
      "Initial portfolio value: 100000\n",
      "Final portfolio value: 987083.5\n",
      "Final accumulative portfolio return: 9.870835\n",
      "Maximum DrawDown: -0.280393002764717\n",
      "Sharpe ratio: 1.4049765419309623\n",
      "=================================\n"
     ]
    },
    {
     "name": "stderr",
     "output_type": "stream",
     "text": [
      "  5%|▌         | 5/100 [03:28<1:05:17, 41.24s/it]"
     ]
    },
    {
     "name": "stdout",
     "output_type": "stream",
     "text": [
      "=================================\n",
      "Initial portfolio value: 100000\n",
      "Final portfolio value: 920161.5\n",
      "Final accumulative portfolio return: 9.201615\n",
      "Maximum DrawDown: -0.2803931652449553\n",
      "Sharpe ratio: 1.3719303915381371\n",
      "=================================\n",
      "=================================\n",
      "Initial portfolio value: 100000\n",
      "Final portfolio value: 194972.875\n",
      "Final accumulative portfolio return: 1.94972875\n",
      "Maximum DrawDown: -0.19993164872038138\n",
      "Sharpe ratio: 1.3916607387576925\n",
      "=================================\n"
     ]
    },
    {
     "name": "stderr",
     "output_type": "stream",
     "text": [
      "  6%|▌         | 6/100 [04:18<1:09:39, 44.47s/it]"
     ]
    },
    {
     "name": "stdout",
     "output_type": "stream",
     "text": [
      "Validation performance at episode 6: -1.6176032242989704\n",
      "New best validation performance: -1.6176032242989704\n",
      "=================================\n",
      "Initial portfolio value: 100000\n",
      "Final portfolio value: 1315977.625\n",
      "Final accumulative portfolio return: 13.15977625\n",
      "Maximum DrawDown: -0.2803920353062995\n",
      "Sharpe ratio: 1.5402228063460395\n",
      "=================================\n"
     ]
    },
    {
     "name": "stderr",
     "output_type": "stream",
     "text": [
      "  7%|▋         | 7/100 [04:57<1:06:11, 42.71s/it]"
     ]
    },
    {
     "name": "stdout",
     "output_type": "stream",
     "text": [
      "=================================\n",
      "Initial portfolio value: 100000\n",
      "Final portfolio value: 723098.375\n",
      "Final accumulative portfolio return: 7.23098375\n",
      "Maximum DrawDown: -0.37772741860812564\n",
      "Sharpe ratio: 1.2040128398221475\n",
      "=================================\n"
     ]
    },
    {
     "name": "stderr",
     "output_type": "stream",
     "text": [
      "  8%|▊         | 8/100 [05:37<1:03:54, 41.68s/it]"
     ]
    },
    {
     "name": "stdout",
     "output_type": "stream",
     "text": [
      "=================================\n",
      "Initial portfolio value: 100000\n",
      "Final portfolio value: 1565000.375\n",
      "Final accumulative portfolio return: 15.65000375\n",
      "Maximum DrawDown: -0.2852793018751789\n",
      "Sharpe ratio: 1.6292347175312447\n",
      "=================================\n",
      "=================================\n",
      "Initial portfolio value: 100000\n",
      "Final portfolio value: 160086.015625\n",
      "Final accumulative portfolio return: 1.60086015625\n",
      "Maximum DrawDown: -0.27408861912818894\n",
      "Sharpe ratio: 1.0515005677266729\n",
      "=================================\n"
     ]
    },
    {
     "name": "stderr",
     "output_type": "stream",
     "text": [
      "  9%|▉         | 9/100 [06:28<1:07:42, 44.65s/it]"
     ]
    },
    {
     "name": "stdout",
     "output_type": "stream",
     "text": [
      "Validation performance at episode 9: -2.00657869931992\n",
      "No improvement for 1 validation(s).\n",
      "=================================\n",
      "Initial portfolio value: 100000\n",
      "Final portfolio value: 1078031.875\n",
      "Final accumulative portfolio return: 10.78031875\n",
      "Maximum DrawDown: -0.29196502101249366\n",
      "Sharpe ratio: 1.4018768654355211\n",
      "=================================\n"
     ]
    },
    {
     "name": "stderr",
     "output_type": "stream",
     "text": [
      " 10%|█         | 10/100 [07:08<1:04:37, 43.08s/it]"
     ]
    },
    {
     "name": "stdout",
     "output_type": "stream",
     "text": [
      "=================================\n",
      "Initial portfolio value: 100000\n",
      "Final portfolio value: 1518280.625\n",
      "Final accumulative portfolio return: 15.18280625\n",
      "Maximum DrawDown: -0.28039273232108275\n",
      "Sharpe ratio: 1.5867548586369378\n",
      "=================================\n"
     ]
    },
    {
     "name": "stderr",
     "output_type": "stream",
     "text": [
      " 11%|█         | 11/100 [07:47<1:02:08, 41.90s/it]"
     ]
    },
    {
     "name": "stdout",
     "output_type": "stream",
     "text": [
      "=================================\n",
      "Initial portfolio value: 100000\n",
      "Final portfolio value: 1388682.5\n",
      "Final accumulative portfolio return: 13.886825\n",
      "Maximum DrawDown: -0.3138731749564668\n",
      "Sharpe ratio: 1.5336748849514887\n",
      "=================================\n",
      "=================================\n",
      "Initial portfolio value: 100000\n",
      "Final portfolio value: 181394.59375\n",
      "Final accumulative portfolio return: 1.8139459375\n",
      "Maximum DrawDown: -0.26605255843101183\n",
      "Sharpe ratio: 1.2894044474130644\n",
      "=================================\n"
     ]
    },
    {
     "name": "stderr",
     "output_type": "stream",
     "text": [
      " 12%|█▏        | 12/100 [08:38<1:05:26, 44.62s/it]"
     ]
    },
    {
     "name": "stdout",
     "output_type": "stream",
     "text": [
      "Validation performance at episode 12: -1.8408027775221822\n",
      "No improvement for 2 validation(s).\n",
      "=================================\n",
      "Initial portfolio value: 100000\n",
      "Final portfolio value: 990217.4375\n",
      "Final accumulative portfolio return: 9.902174375\n",
      "Maximum DrawDown: -0.2803928755891304\n",
      "Sharpe ratio: 1.4017702892526784\n",
      "=================================\n"
     ]
    },
    {
     "name": "stderr",
     "output_type": "stream",
     "text": [
      " 13%|█▎        | 13/100 [09:17<1:02:12, 42.90s/it]"
     ]
    },
    {
     "name": "stdout",
     "output_type": "stream",
     "text": [
      "=================================\n",
      "Initial portfolio value: 100000\n",
      "Final portfolio value: 927661.875\n",
      "Final accumulative portfolio return: 9.27661875\n",
      "Maximum DrawDown: -0.28039286465830904\n",
      "Sharpe ratio: 1.3774603214258514\n",
      "=================================\n"
     ]
    },
    {
     "name": "stderr",
     "output_type": "stream",
     "text": [
      " 14%|█▍        | 14/100 [09:56<59:57, 41.83s/it]  "
     ]
    },
    {
     "name": "stdout",
     "output_type": "stream",
     "text": [
      "=================================\n",
      "Initial portfolio value: 100000\n",
      "Final portfolio value: 990520.1875\n",
      "Final accumulative portfolio return: 9.905201875\n",
      "Maximum DrawDown: -0.28039284336142634\n",
      "Sharpe ratio: 1.4116060485474191\n",
      "=================================\n",
      "=================================\n",
      "Initial portfolio value: 100000\n",
      "Final portfolio value: 88229.9296875\n",
      "Final accumulative portfolio return: 0.882299296875\n",
      "Maximum DrawDown: -0.4629020360616458\n",
      "Sharpe ratio: -0.10649363516214531\n",
      "=================================\n"
     ]
    },
    {
     "name": "stderr",
     "output_type": "stream",
     "text": [
      " 15%|█▌        | 15/100 [10:47<1:03:08, 44.57s/it]"
     ]
    },
    {
     "name": "stdout",
     "output_type": "stream",
     "text": [
      "Validation performance at episode 15: -1.8917305313988935\n",
      "No improvement for 3 validation(s).\n",
      "=================================\n",
      "Initial portfolio value: 100000\n",
      "Final portfolio value: 820232.0\n",
      "Final accumulative portfolio return: 8.20232\n",
      "Maximum DrawDown: -0.2803929406422192\n",
      "Sharpe ratio: 1.2739616022164721\n",
      "=================================\n"
     ]
    },
    {
     "name": "stderr",
     "output_type": "stream",
     "text": [
      " 16%|█▌        | 16/100 [11:26<1:00:02, 42.88s/it]"
     ]
    },
    {
     "name": "stdout",
     "output_type": "stream",
     "text": [
      "=================================\n",
      "Initial portfolio value: 100000\n",
      "Final portfolio value: 963686.5625\n",
      "Final accumulative portfolio return: 9.636865625\n",
      "Maximum DrawDown: -0.28039291179184633\n",
      "Sharpe ratio: 1.3973371139563908\n",
      "=================================\n"
     ]
    },
    {
     "name": "stderr",
     "output_type": "stream",
     "text": [
      " 17%|█▋        | 17/100 [12:05<57:43, 41.73s/it]  "
     ]
    },
    {
     "name": "stdout",
     "output_type": "stream",
     "text": [
      "=================================\n",
      "Initial portfolio value: 100000\n",
      "Final portfolio value: 952927.75\n",
      "Final accumulative portfolio return: 9.5292775\n",
      "Maximum DrawDown: -0.2803930215834006\n",
      "Sharpe ratio: 1.375083829332889\n",
      "=================================\n",
      "=================================\n",
      "Initial portfolio value: 100000\n",
      "Final portfolio value: 122150.0\n",
      "Final accumulative portfolio return: 1.2215\n",
      "Maximum DrawDown: -0.3415235273013649\n",
      "Sharpe ratio: 0.524256680678728\n",
      "=================================\n"
     ]
    },
    {
     "name": "stderr",
     "output_type": "stream",
     "text": [
      " 18%|█▊        | 18/100 [12:56<1:00:49, 44.50s/it]"
     ]
    },
    {
     "name": "stdout",
     "output_type": "stream",
     "text": [
      "Validation performance at episode 18: -2.9237254958029992\n",
      "No improvement for 4 validation(s).\n",
      "=================================\n",
      "Initial portfolio value: 100000\n",
      "Final portfolio value: 780075.25\n",
      "Final accumulative portfolio return: 7.8007525\n",
      "Maximum DrawDown: -0.28039302274232725\n",
      "Sharpe ratio: 1.2354366110635073\n",
      "=================================\n"
     ]
    },
    {
     "name": "stderr",
     "output_type": "stream",
     "text": [
      " 19%|█▉        | 19/100 [13:35<58:00, 42.97s/it]  "
     ]
    },
    {
     "name": "stdout",
     "output_type": "stream",
     "text": [
      "=================================\n",
      "Initial portfolio value: 100000\n",
      "Final portfolio value: 885349.625\n",
      "Final accumulative portfolio return: 8.85349625\n",
      "Maximum DrawDown: -0.28039300873202777\n",
      "Sharpe ratio: 1.2975509773644378\n",
      "=================================\n"
     ]
    },
    {
     "name": "stderr",
     "output_type": "stream",
     "text": [
      " 20%|██        | 20/100 [14:16<56:17, 42.22s/it]"
     ]
    },
    {
     "name": "stdout",
     "output_type": "stream",
     "text": [
      "=================================\n",
      "Initial portfolio value: 100000\n",
      "Final portfolio value: 1225977.75\n",
      "Final accumulative portfolio return: 12.2597775\n",
      "Maximum DrawDown: -0.29023240929157257\n",
      "Sharpe ratio: 1.4536650738806216\n",
      "=================================\n",
      "=================================\n",
      "Initial portfolio value: 100000\n",
      "Final portfolio value: 202656.796875\n",
      "Final accumulative portfolio return: 2.02656796875\n",
      "Maximum DrawDown: -0.23221522471220146\n",
      "Sharpe ratio: 1.4774170280794658\n",
      "=================================\n"
     ]
    },
    {
     "name": "stderr",
     "output_type": "stream",
     "text": [
      " 21%|██        | 21/100 [15:06<58:57, 44.78s/it]"
     ]
    },
    {
     "name": "stdout",
     "output_type": "stream",
     "text": [
      "Validation performance at episode 21: -1.570946083002797\n",
      "New best validation performance: -1.570946083002797\n",
      "=================================\n",
      "Initial portfolio value: 100000\n",
      "Final portfolio value: 1470542.375\n",
      "Final accumulative portfolio return: 14.70542375\n",
      "Maximum DrawDown: -0.28085518897996675\n",
      "Sharpe ratio: 1.565896432565315\n",
      "=================================\n"
     ]
    },
    {
     "name": "stderr",
     "output_type": "stream",
     "text": [
      " 22%|██▏       | 22/100 [15:47<56:42, 43.62s/it]"
     ]
    },
    {
     "name": "stdout",
     "output_type": "stream",
     "text": [
      "=================================\n",
      "Initial portfolio value: 100000\n",
      "Final portfolio value: 1524725.5\n",
      "Final accumulative portfolio return: 15.247255\n",
      "Maximum DrawDown: -0.2803911699296743\n",
      "Sharpe ratio: 1.5974273138674862\n",
      "=================================\n"
     ]
    },
    {
     "name": "stderr",
     "output_type": "stream",
     "text": [
      " 23%|██▎       | 23/100 [16:30<55:46, 43.46s/it]"
     ]
    },
    {
     "name": "stdout",
     "output_type": "stream",
     "text": [
      "=================================\n",
      "Initial portfolio value: 100000\n",
      "Final portfolio value: 1654028.0\n",
      "Final accumulative portfolio return: 16.54028\n",
      "Maximum DrawDown: -0.28039302262145993\n",
      "Sharpe ratio: 1.639875303080069\n",
      "=================================\n",
      "=================================\n",
      "Initial portfolio value: 100000\n",
      "Final portfolio value: 152899.40625\n",
      "Final accumulative portfolio return: 1.5289940625\n",
      "Maximum DrawDown: -0.23329185797654284\n",
      "Sharpe ratio: 0.9491631946990632\n",
      "=================================\n"
     ]
    },
    {
     "name": "stderr",
     "output_type": "stream",
     "text": [
      " 24%|██▍       | 24/100 [17:25<59:05, 46.65s/it]"
     ]
    },
    {
     "name": "stdout",
     "output_type": "stream",
     "text": [
      "Validation performance at episode 24: -2.6969875549325404\n",
      "No improvement for 1 validation(s).\n",
      "=================================\n",
      "Initial portfolio value: 100000\n",
      "Final portfolio value: 1755166.0\n",
      "Final accumulative portfolio return: 17.55166\n",
      "Maximum DrawDown: -0.280392940477886\n",
      "Sharpe ratio: 1.6700119875547272\n",
      "=================================\n"
     ]
    },
    {
     "name": "stderr",
     "output_type": "stream",
     "text": [
      " 25%|██▌       | 25/100 [18:06<56:22, 45.10s/it]"
     ]
    },
    {
     "name": "stdout",
     "output_type": "stream",
     "text": [
      "=================================\n",
      "Initial portfolio value: 100000\n",
      "Final portfolio value: 1511523.0\n",
      "Final accumulative portfolio return: 15.11523\n",
      "Maximum DrawDown: -0.28039295668124486\n",
      "Sharpe ratio: 1.599725309144877\n",
      "=================================\n"
     ]
    },
    {
     "name": "stderr",
     "output_type": "stream",
     "text": [
      " 26%|██▌       | 26/100 [18:47<54:14, 43.98s/it]"
     ]
    },
    {
     "name": "stdout",
     "output_type": "stream",
     "text": [
      "=================================\n",
      "Initial portfolio value: 100000\n",
      "Final portfolio value: 1306034.25\n",
      "Final accumulative portfolio return: 13.0603425\n",
      "Maximum DrawDown: -0.310752379755348\n",
      "Sharpe ratio: 1.468532590160807\n",
      "=================================\n",
      "=================================\n",
      "Initial portfolio value: 100000\n",
      "Final portfolio value: 187555.9375\n",
      "Final accumulative portfolio return: 1.875559375\n",
      "Maximum DrawDown: -0.24070825847851274\n",
      "Sharpe ratio: 1.3271871344426422\n",
      "=================================\n"
     ]
    },
    {
     "name": "stderr",
     "output_type": "stream",
     "text": [
      " 27%|██▋       | 27/100 [19:41<57:01, 46.87s/it]"
     ]
    },
    {
     "name": "stdout",
     "output_type": "stream",
     "text": [
      "Validation performance at episode 27: -1.6084438403170804\n",
      "No improvement for 2 validation(s).\n",
      "=================================\n",
      "Initial portfolio value: 100000\n",
      "Final portfolio value: 1575483.375\n",
      "Final accumulative portfolio return: 15.75483375\n",
      "Maximum DrawDown: -0.26436852747736383\n",
      "Sharpe ratio: 1.5695708582459222\n",
      "=================================\n"
     ]
    },
    {
     "name": "stderr",
     "output_type": "stream",
     "text": [
      " 28%|██▊       | 28/100 [20:25<55:04, 45.89s/it]"
     ]
    },
    {
     "name": "stdout",
     "output_type": "stream",
     "text": [
      "=================================\n",
      "Initial portfolio value: 100000\n",
      "Final portfolio value: 1061699.0\n",
      "Final accumulative portfolio return: 10.61699\n",
      "Maximum DrawDown: -0.45070781370367163\n",
      "Sharpe ratio: 1.3346726676119038\n",
      "=================================\n"
     ]
    },
    {
     "name": "stderr",
     "output_type": "stream",
     "text": [
      " 29%|██▉       | 29/100 [21:06<52:52, 44.69s/it]"
     ]
    },
    {
     "name": "stdout",
     "output_type": "stream",
     "text": [
      "=================================\n",
      "Initial portfolio value: 100000\n",
      "Final portfolio value: 1712853.625\n",
      "Final accumulative portfolio return: 17.12853625\n",
      "Maximum DrawDown: -0.27943054121789856\n",
      "Sharpe ratio: 1.652657747157476\n",
      "=================================\n",
      "=================================\n",
      "Initial portfolio value: 100000\n",
      "Final portfolio value: 143494.890625\n",
      "Final accumulative portfolio return: 1.43494890625\n",
      "Maximum DrawDown: -0.20951207564760432\n",
      "Sharpe ratio: 0.8358577178805296\n",
      "=================================\n"
     ]
    },
    {
     "name": "stderr",
     "output_type": "stream",
     "text": [
      " 30%|███       | 30/100 [22:00<55:11, 47.31s/it]"
     ]
    },
    {
     "name": "stdout",
     "output_type": "stream",
     "text": [
      "Validation performance at episode 30: -2.966065891047165\n",
      "No improvement for 3 validation(s).\n",
      "=================================\n",
      "Initial portfolio value: 100000\n",
      "Final portfolio value: 1558988.0\n",
      "Final accumulative portfolio return: 15.58988\n",
      "Maximum DrawDown: -0.27959174180633695\n",
      "Sharpe ratio: 1.5844088024231582\n",
      "=================================\n"
     ]
    },
    {
     "name": "stderr",
     "output_type": "stream",
     "text": [
      " 31%|███       | 31/100 [22:42<52:39, 45.79s/it]"
     ]
    },
    {
     "name": "stdout",
     "output_type": "stream",
     "text": [
      "=================================\n",
      "Initial portfolio value: 100000\n",
      "Final portfolio value: 1297870.625\n",
      "Final accumulative portfolio return: 12.97870625\n",
      "Maximum DrawDown: -0.29809846871349865\n",
      "Sharpe ratio: 1.497588782017045\n",
      "=================================\n"
     ]
    },
    {
     "name": "stderr",
     "output_type": "stream",
     "text": [
      " 32%|███▏      | 32/100 [23:24<50:25, 44.50s/it]"
     ]
    },
    {
     "name": "stdout",
     "output_type": "stream",
     "text": [
      "=================================\n",
      "Initial portfolio value: 100000\n",
      "Final portfolio value: 1182503.125\n",
      "Final accumulative portfolio return: 11.82503125\n",
      "Maximum DrawDown: -0.37319800528125113\n",
      "Sharpe ratio: 1.4171428534729924\n",
      "=================================\n",
      "=================================\n",
      "Initial portfolio value: 100000\n",
      "Final portfolio value: 136957.9375\n",
      "Final accumulative portfolio return: 1.369579375\n",
      "Maximum DrawDown: -0.22819470066823988\n",
      "Sharpe ratio: 0.7229608099551711\n",
      "=================================\n"
     ]
    },
    {
     "name": "stderr",
     "output_type": "stream",
     "text": [
      " 33%|███▎      | 33/100 [24:26<55:42, 49.89s/it]"
     ]
    },
    {
     "name": "stdout",
     "output_type": "stream",
     "text": [
      "Validation performance at episode 33: -3.758986192441255\n",
      "No improvement for 4 validation(s).\n",
      "=================================\n",
      "Initial portfolio value: 100000\n",
      "Final portfolio value: 1300962.0\n",
      "Final accumulative portfolio return: 13.00962\n",
      "Maximum DrawDown: -0.34655970049683604\n",
      "Sharpe ratio: 1.4769758694107231\n",
      "=================================\n"
     ]
    },
    {
     "name": "stderr",
     "output_type": "stream",
     "text": [
      " 34%|███▍      | 34/100 [25:08<52:08, 47.41s/it]"
     ]
    },
    {
     "name": "stdout",
     "output_type": "stream",
     "text": [
      "=================================\n",
      "Initial portfolio value: 100000\n",
      "Final portfolio value: 1795697.25\n",
      "Final accumulative portfolio return: 17.9569725\n",
      "Maximum DrawDown: -0.28678001435380496\n",
      "Sharpe ratio: 1.6833277197641447\n",
      "=================================\n"
     ]
    },
    {
     "name": "stderr",
     "output_type": "stream",
     "text": [
      " 35%|███▌      | 35/100 [25:48<49:00, 45.24s/it]"
     ]
    },
    {
     "name": "stdout",
     "output_type": "stream",
     "text": [
      "=================================\n",
      "Initial portfolio value: 100000\n",
      "Final portfolio value: 1987701.25\n",
      "Final accumulative portfolio return: 19.8770125\n",
      "Maximum DrawDown: -0.2746949818682729\n",
      "Sharpe ratio: 1.7090877023491087\n",
      "=================================\n",
      "=================================\n",
      "Initial portfolio value: 100000\n",
      "Final portfolio value: 100498.6484375\n",
      "Final accumulative portfolio return: 1.004986484375\n",
      "Maximum DrawDown: -0.329108488165876\n",
      "Sharpe ratio: 0.14515664448314672\n",
      "=================================\n"
     ]
    },
    {
     "name": "stderr",
     "output_type": "stream",
     "text": [
      " 36%|███▌      | 36/100 [26:39<50:10, 47.04s/it]"
     ]
    },
    {
     "name": "stdout",
     "output_type": "stream",
     "text": [
      "Validation performance at episode 36: -3.530005152947206\n",
      "No improvement for 5 validation(s).\n",
      "=================================\n",
      "Initial portfolio value: 100000\n",
      "Final portfolio value: 1298562.375\n",
      "Final accumulative portfolio return: 12.98562375\n",
      "Maximum DrawDown: -0.27799900696362967\n",
      "Sharpe ratio: 1.51386818618637\n",
      "=================================\n"
     ]
    },
    {
     "name": "stderr",
     "output_type": "stream",
     "text": [
      " 37%|███▋      | 37/100 [27:20<47:32, 45.28s/it]"
     ]
    },
    {
     "name": "stdout",
     "output_type": "stream",
     "text": [
      "=================================\n",
      "Initial portfolio value: 100000\n",
      "Final portfolio value: 1107734.875\n",
      "Final accumulative portfolio return: 11.07734875\n",
      "Maximum DrawDown: -0.26799758574424193\n",
      "Sharpe ratio: 1.4345405617935316\n",
      "=================================\n"
     ]
    },
    {
     "name": "stderr",
     "output_type": "stream",
     "text": [
      " 38%|███▊      | 38/100 [28:01<45:20, 43.88s/it]"
     ]
    }
   ],
   "source": [
    "# Hyperparameter tuning loop with 5 episodes of training and error handling\n",
    "for TIME_WINDOW, K_SIZE, CONV_MID, CONV_FINAL,LEARNING_RATE in list(product(time_windows, k_sizes, conv_mids, conv_finals, lr)):\n",
    "    try:\n",
    "        print(f\"Training model with TIME_WINDOW={TIME_WINDOW}, K_SIZE={K_SIZE}, CONV_MID={CONV_MID}, CONV_FINAL={CONV_FINAL}, LEARNING_RATE={LEARNING_RATE}\")\n",
    "        # Update the policy_kwargs for the current set of hyperparameters\n",
    "        policy_kwargs = {\n",
    "        \"initial_features\": len(FEATURE_NAMES),\n",
    "        \"k_size\": K_SIZE,\n",
    "        \"time_window\": TIME_WINDOW,\n",
    "        \"conv_mid_features\":CONV_MID,\n",
    "        \"conv_final_features\":CONV_FINAL}\n",
    "\n",
    "        # Create the environment for training and the test years\n",
    "        \n",
    "        environment = PortfolioOptimizationEnv(\n",
    "            df_portfolio_train,\n",
    "            initial_amount=100000,\n",
    "            comission_fee_pct=COMISSION_FEE,\n",
    "            time_window=TIME_WINDOW,\n",
    "            features=FEATURE_NAMES,\n",
    "            normalize_df=None,\n",
    "            reward_function=custom_reward_function,\n",
    "            reward_scaling=1.0\n",
    "        )   \n",
    "\n",
    "        vali_env = PortfolioOptimizationEnv(\n",
    "            df_portfolio_vali,\n",
    "            initial_amount=100000,\n",
    "            comission_fee_pct=COMISSION_FEE,\n",
    "            time_window=TIME_WINDOW,\n",
    "            features=FEATURE_NAMES,\n",
    "            normalize_df=None,\n",
    "            reward_function=custom_reward_function,\n",
    "            reward_scaling=1.0,\n",
    "        )\n",
    "\n",
    "        # Instantiate the model for each combination of hyperparameters\n",
    "        # set PolicyGradient parameters\n",
    "        model_kwargs = {\n",
    "                \"lr\": LEARNING_RATE,\n",
    "                \"policy\": EIIE,\n",
    "                    \"validation_env\": vali_env,\n",
    "                }\n",
    "\n",
    "        EIIE_model = DRLAgent(environment).get_model(\"pg\", device, model_kwargs, policy_kwargs)\n",
    "        EIIE_policy = EIIE(time_window=TIME_WINDOW, device=device, initial_features=len(FEATURE_NAMES),\n",
    "                            k_size=K_SIZE, conv_mid_features=CONV_MID, conv_final_features=CONV_FINAL)\n",
    "\n",
    "        # Train the model for 10 episodes\n",
    "        _, best_checkpoint = DRLAgent.train_model(EIIE_model, episodes=100, validation_freq=3, patience=10, threshold = 0.01)\n",
    "        \n",
    "        # Save the model policy after training\n",
    "        model_filename = f\"policy_EIIE_{TIME_WINDOW}_{K_SIZE}_{CONV_MID}_{CONV_FINAL}_{LEARNING_RATE}.pt\"\n",
    "        torch.save(best_checkpoint, model_filename)\n",
    "        \n",
    "        EIIE_policy = EIIE(time_window = TIME_WINDOW, device = device, initial_features = len(FEATURE_NAMES),\n",
    "                            k_size = K_SIZE, conv_mid_features = CONV_MID,conv_final_features = CONV_FINAL)\n",
    "\n",
    "        EIIE_policy.load_state_dict(torch.load(model_filename))\n",
    "\n",
    "        environment.reset()\n",
    "        DRLAgent.DRL_validation(EIIE_model, environment, policy=EIIE_policy, learning_rate = LEARNING_RATE)\n",
    "        train_final_value, train_drawdown, train_sharpe, train_cumulative = calculate_metrics(environment)\n",
    "\n",
    "        print(f\"Metrics - train_final_value: {train_final_value}, train_drawdown: {train_drawdown}, train_sharpe: {train_sharpe}, train_cumulative: {train_cumulative}\")\n",
    "\n",
    "        # Test evaluation\n",
    "        vali_env.reset()\n",
    "        DRLAgent.DRL_validation(EIIE_model, vali_env, policy=EIIE_policy, learning_rate = LEARNING_RATE)\n",
    "        test_final_value, test_drawdown, test_sharpe, test_cumulative = calculate_metrics(vali_env)\n",
    "\n",
    "        print(f\"Metrics - test_final_value: {test_final_value}, test_drawdown: {test_drawdown}, test_sharpe: {test_sharpe}, test_cumulative: {test_cumulative}\")\n",
    "\n",
    "\n",
    "    except Exception as e:\n",
    "        print(f\"Error encountered with combination policy_EIIE_{TIME_WINDOW}_{K_SIZE}_{CONV_MID}_{CONV_FINAL}: {e}\")\n",
    "        # If an error occurs, store NaN for all the metrics\n",
    "        train_final_value = train_drawdown = train_sharpe = train_cumulative = np.nan\n",
    "        test_final_value = test_drawdown = test_sharpe = test_cumulative = np.nan\n",
    " \n",
    "    # Create a temporary DataFrame to store the current results\n",
    "    temp_df = pd.DataFrame([{\n",
    "        \"TIME_WINDOW\": TIME_WINDOW, \"K_SIZE\": K_SIZE, \"CONV_MID\": CONV_MID, \"CONV_FINAL\": CONV_FINAL, \"LEARNING_RATE\": LEARNING_RATE,\n",
    "        \"train_portfolio_value\": train_final_value, \"train_drawdown\": train_drawdown, \"train_sharpe\": train_sharpe, \"train_cumulative\": train_cumulative,\n",
    "        \"test_portfolio_value\": test_final_value, \"test_drawdown\": test_drawdown, \"test_sharpe\": test_sharpe, \"test_cumulative\": test_cumulative,\n",
    "        }])\n",
    "    \n",
    "    # Use pd.concat instead of append to add the results to the main DataFrame\n",
    "    results_df = pd.concat([results_df, temp_df], ignore_index=True)\n",
    "    \n",
    "    try:\n",
    "        results_df.to_csv('hyperparams.csv', index=False)\n",
    "    except Exception as e:\n",
    "        print(f\"An error occurred: {e}\")\n",
    "        \n",
    "results_df"
   ]
  },
  {
   "cell_type": "code",
   "execution_count": 33,
   "metadata": {
    "scrolled": true
   },
   "outputs": [
    {
     "data": {
      "text/html": [
       "<div>\n",
       "<style scoped>\n",
       "    .dataframe tbody tr th:only-of-type {\n",
       "        vertical-align: middle;\n",
       "    }\n",
       "\n",
       "    .dataframe tbody tr th {\n",
       "        vertical-align: top;\n",
       "    }\n",
       "\n",
       "    .dataframe thead th {\n",
       "        text-align: right;\n",
       "    }\n",
       "</style>\n",
       "<table border=\"1\" class=\"dataframe\">\n",
       "  <thead>\n",
       "    <tr style=\"text-align: right;\">\n",
       "      <th></th>\n",
       "      <th>TIME_WINDOW</th>\n",
       "      <th>K_SIZE</th>\n",
       "      <th>CONV_MID</th>\n",
       "      <th>CONV_FINAL</th>\n",
       "      <th>LEARNING_RATE</th>\n",
       "      <th>train_portfolio_value</th>\n",
       "      <th>train_drawdown</th>\n",
       "      <th>train_sharpe</th>\n",
       "      <th>train_cumulative</th>\n",
       "      <th>test_portfolio_value</th>\n",
       "      <th>test_drawdown</th>\n",
       "      <th>test_sharpe</th>\n",
       "      <th>test_cumulative</th>\n",
       "    </tr>\n",
       "  </thead>\n",
       "  <tbody>\n",
       "    <tr>\n",
       "      <th>0</th>\n",
       "      <td>30</td>\n",
       "      <td>3</td>\n",
       "      <td>5</td>\n",
       "      <td>5</td>\n",
       "      <td>0.01</td>\n",
       "      <td>9.354249e+05</td>\n",
       "      <td>-0.384764</td>\n",
       "      <td>1.331227</td>\n",
       "      <td>9.354249</td>\n",
       "      <td>150983.859375</td>\n",
       "      <td>-0.288262</td>\n",
       "      <td>0.909782</td>\n",
       "      <td>1.509839</td>\n",
       "    </tr>\n",
       "    <tr>\n",
       "      <th>1</th>\n",
       "      <td>30</td>\n",
       "      <td>3</td>\n",
       "      <td>5</td>\n",
       "      <td>5</td>\n",
       "      <td>0.02</td>\n",
       "      <td>8.224098e+05</td>\n",
       "      <td>-0.362296</td>\n",
       "      <td>1.247078</td>\n",
       "      <td>8.224097</td>\n",
       "      <td>190940.890625</td>\n",
       "      <td>-0.210293</td>\n",
       "      <td>1.345313</td>\n",
       "      <td>1.909409</td>\n",
       "    </tr>\n",
       "    <tr>\n",
       "      <th>2</th>\n",
       "      <td>30</td>\n",
       "      <td>3</td>\n",
       "      <td>5</td>\n",
       "      <td>10</td>\n",
       "      <td>0.01</td>\n",
       "      <td>2.374833e+05</td>\n",
       "      <td>-0.342059</td>\n",
       "      <td>0.780448</td>\n",
       "      <td>2.374833</td>\n",
       "      <td>128788.664062</td>\n",
       "      <td>-0.153513</td>\n",
       "      <td>0.888851</td>\n",
       "      <td>1.287887</td>\n",
       "    </tr>\n",
       "    <tr>\n",
       "      <th>3</th>\n",
       "      <td>30</td>\n",
       "      <td>3</td>\n",
       "      <td>5</td>\n",
       "      <td>10</td>\n",
       "      <td>0.02</td>\n",
       "      <td>4.528810e+05</td>\n",
       "      <td>-0.284567</td>\n",
       "      <td>0.942631</td>\n",
       "      <td>4.528810</td>\n",
       "      <td>215230.218750</td>\n",
       "      <td>-0.187788</td>\n",
       "      <td>1.645605</td>\n",
       "      <td>2.152302</td>\n",
       "    </tr>\n",
       "    <tr>\n",
       "      <th>4</th>\n",
       "      <td>30</td>\n",
       "      <td>3</td>\n",
       "      <td>5</td>\n",
       "      <td>20</td>\n",
       "      <td>0.01</td>\n",
       "      <td>2.446373e+05</td>\n",
       "      <td>-0.352521</td>\n",
       "      <td>0.781757</td>\n",
       "      <td>2.446373</td>\n",
       "      <td>130033.421875</td>\n",
       "      <td>-0.159296</td>\n",
       "      <td>0.891152</td>\n",
       "      <td>1.300334</td>\n",
       "    </tr>\n",
       "    <tr>\n",
       "      <th>...</th>\n",
       "      <td>...</td>\n",
       "      <td>...</td>\n",
       "      <td>...</td>\n",
       "      <td>...</td>\n",
       "      <td>...</td>\n",
       "      <td>...</td>\n",
       "      <td>...</td>\n",
       "      <td>...</td>\n",
       "      <td>...</td>\n",
       "      <td>...</td>\n",
       "      <td>...</td>\n",
       "      <td>...</td>\n",
       "      <td>...</td>\n",
       "    </tr>\n",
       "    <tr>\n",
       "      <th>157</th>\n",
       "      <td>90</td>\n",
       "      <td>5</td>\n",
       "      <td>20</td>\n",
       "      <td>5</td>\n",
       "      <td>0.02</td>\n",
       "      <td>7.156793e+05</td>\n",
       "      <td>-0.280393</td>\n",
       "      <td>1.239699</td>\n",
       "      <td>7.156793</td>\n",
       "      <td>199785.375000</td>\n",
       "      <td>-0.217284</td>\n",
       "      <td>1.573390</td>\n",
       "      <td>1.997854</td>\n",
       "    </tr>\n",
       "    <tr>\n",
       "      <th>158</th>\n",
       "      <td>90</td>\n",
       "      <td>5</td>\n",
       "      <td>20</td>\n",
       "      <td>10</td>\n",
       "      <td>0.01</td>\n",
       "      <td>1.143282e+06</td>\n",
       "      <td>-0.314273</td>\n",
       "      <td>1.428601</td>\n",
       "      <td>11.432816</td>\n",
       "      <td>182986.265625</td>\n",
       "      <td>-0.205087</td>\n",
       "      <td>1.344036</td>\n",
       "      <td>1.829863</td>\n",
       "    </tr>\n",
       "    <tr>\n",
       "      <th>159</th>\n",
       "      <td>90</td>\n",
       "      <td>5</td>\n",
       "      <td>20</td>\n",
       "      <td>10</td>\n",
       "      <td>0.02</td>\n",
       "      <td>1.000000e+05</td>\n",
       "      <td>0.000000</td>\n",
       "      <td>NaN</td>\n",
       "      <td>1.000000</td>\n",
       "      <td>100000.000000</td>\n",
       "      <td>0.000000</td>\n",
       "      <td>NaN</td>\n",
       "      <td>1.000000</td>\n",
       "    </tr>\n",
       "    <tr>\n",
       "      <th>160</th>\n",
       "      <td>90</td>\n",
       "      <td>5</td>\n",
       "      <td>20</td>\n",
       "      <td>20</td>\n",
       "      <td>0.01</td>\n",
       "      <td>7.675396e+05</td>\n",
       "      <td>-0.385159</td>\n",
       "      <td>1.227981</td>\n",
       "      <td>7.675396</td>\n",
       "      <td>70939.335938</td>\n",
       "      <td>-0.386138</td>\n",
       "      <td>-0.527137</td>\n",
       "      <td>0.709393</td>\n",
       "    </tr>\n",
       "    <tr>\n",
       "      <th>161</th>\n",
       "      <td>90</td>\n",
       "      <td>5</td>\n",
       "      <td>20</td>\n",
       "      <td>20</td>\n",
       "      <td>0.02</td>\n",
       "      <td>6.507372e+05</td>\n",
       "      <td>-0.313959</td>\n",
       "      <td>1.166785</td>\n",
       "      <td>6.507372</td>\n",
       "      <td>101882.953125</td>\n",
       "      <td>-0.371487</td>\n",
       "      <td>0.188131</td>\n",
       "      <td>1.018830</td>\n",
       "    </tr>\n",
       "  </tbody>\n",
       "</table>\n",
       "<p>162 rows × 13 columns</p>\n",
       "</div>"
      ],
      "text/plain": [
       "    TIME_WINDOW K_SIZE CONV_MID CONV_FINAL  LEARNING_RATE  \\\n",
       "0            30      3        5          5           0.01   \n",
       "1            30      3        5          5           0.02   \n",
       "2            30      3        5         10           0.01   \n",
       "3            30      3        5         10           0.02   \n",
       "4            30      3        5         20           0.01   \n",
       "..          ...    ...      ...        ...            ...   \n",
       "157          90      5       20          5           0.02   \n",
       "158          90      5       20         10           0.01   \n",
       "159          90      5       20         10           0.02   \n",
       "160          90      5       20         20           0.01   \n",
       "161          90      5       20         20           0.02   \n",
       "\n",
       "     train_portfolio_value  train_drawdown  train_sharpe  train_cumulative  \\\n",
       "0             9.354249e+05       -0.384764      1.331227          9.354249   \n",
       "1             8.224098e+05       -0.362296      1.247078          8.224097   \n",
       "2             2.374833e+05       -0.342059      0.780448          2.374833   \n",
       "3             4.528810e+05       -0.284567      0.942631          4.528810   \n",
       "4             2.446373e+05       -0.352521      0.781757          2.446373   \n",
       "..                     ...             ...           ...               ...   \n",
       "157           7.156793e+05       -0.280393      1.239699          7.156793   \n",
       "158           1.143282e+06       -0.314273      1.428601         11.432816   \n",
       "159           1.000000e+05        0.000000           NaN          1.000000   \n",
       "160           7.675396e+05       -0.385159      1.227981          7.675396   \n",
       "161           6.507372e+05       -0.313959      1.166785          6.507372   \n",
       "\n",
       "     test_portfolio_value  test_drawdown  test_sharpe  test_cumulative  \n",
       "0           150983.859375      -0.288262     0.909782         1.509839  \n",
       "1           190940.890625      -0.210293     1.345313         1.909409  \n",
       "2           128788.664062      -0.153513     0.888851         1.287887  \n",
       "3           215230.218750      -0.187788     1.645605         2.152302  \n",
       "4           130033.421875      -0.159296     0.891152         1.300334  \n",
       "..                    ...            ...          ...              ...  \n",
       "157         199785.375000      -0.217284     1.573390         1.997854  \n",
       "158         182986.265625      -0.205087     1.344036         1.829863  \n",
       "159         100000.000000       0.000000          NaN         1.000000  \n",
       "160          70939.335938      -0.386138    -0.527137         0.709393  \n",
       "161         101882.953125      -0.371487     0.188131         1.018830  \n",
       "\n",
       "[162 rows x 13 columns]"
      ]
     },
     "execution_count": 33,
     "metadata": {},
     "output_type": "execute_result"
    }
   ],
   "source": [
    "results_df"
   ]
  },
  {
   "cell_type": "code",
   "execution_count": null,
   "metadata": {},
   "outputs": [],
   "source": [
    "results_df2.to_csv('results_df2.csv', index=False)"
   ]
  },
  {
   "cell_type": "code",
   "execution_count": null,
   "metadata": {},
   "outputs": [],
   "source": []
  },
  {
   "cell_type": "code",
   "execution_count": 35,
   "metadata": {},
   "outputs": [],
   "source": [
    "results_df.to_csv('secondhyperparmatuning.csv', index=False)"
   ]
  },
  {
   "cell_type": "code",
   "execution_count": null,
   "metadata": {},
   "outputs": [],
   "source": []
  },
  {
   "cell_type": "code",
   "execution_count": null,
   "metadata": {},
   "outputs": [],
   "source": []
  },
  {
   "cell_type": "code",
   "execution_count": null,
   "metadata": {},
   "outputs": [],
   "source": []
  },
  {
   "cell_type": "code",
   "execution_count": 36,
   "metadata": {},
   "outputs": [],
   "source": [
    "FEATURE_NAMES = ['close',\n",
    "                 'high',\n",
    "                 'low',\n",
    "                 'High_VIX',\n",
    "                 'Low_VIX',\n",
    "                 'Close_VIX',\n",
    "                 'High_SPY',\n",
    "                 'Low_SPY',\n",
    "                 'Close_SPY',\n",
    "                 'Volume_SPY',\n",
    "                 'Fear Greed', \n",
    "                 'ratingScore',\n",
    "                 'ratingDetailsDCFScore',\n",
    "                 'ratingDetailsROEScore',\n",
    "                 'ratingDetailsROAScore',\n",
    "                 'ratingDetailsPEScore',\n",
    "                 'ratingDetailsPBScore',\n",
    "                 'expenses',\n",
    "                 'GDP', \n",
    "                 'exports', \n",
    "                 'imports',\n",
    "                 'pound_dollar_exchange_rate',\n",
    "                 'unemployment',\n",
    "                 'ics',\n",
    "                 'TTM Revenue(Billion)',\n",
    "                 'TTM EBITDA(Billion)',\n",
    "                 'EBITDA Margin',\n",
    "                 'Price to Book Ratio',\n",
    "                 'PE Ratio',\n",
    "                 'Price to Sales Ratio',\n",
    "                 'Assets',\n",
    "                 'NetIncomeLoss',\n",
    "                 'Return on Equity(%)']\n",
    "\n",
    "TIME_WINDOW = 50\n",
    "COMISSION_FEE = 0.0025\n",
    "K_SIZE = 4\n",
    "CONV_MID = 5\n",
    "CONV_FINAL= 20\n",
    "\n",
    "environment = PortfolioOptimizationEnv(\n",
    "        df_portfolio_train,\n",
    "        initial_amount=100000,\n",
    "        comission_fee_pct=COMISSION_FEE,\n",
    "        time_window=TIME_WINDOW,\n",
    "        features=FEATURE_NAMES,\n",
    "        normalize_df=None,\n",
    "        reward_function=custom_reward_function,\n",
    "        reward_scaling=1.0\n",
    "    )\n",
    "\n",
    "# set PolicyGradient parameters\n",
    "model_kwargs = {\n",
    "    \"lr\": 0.01, \n",
    "    \"policy\": EIIE,\n",
    "}\n",
    "\n",
    "# here, we can set EIIE's parameters\n",
    "policy_kwargs = {\n",
    "    \"initial_features\": len(FEATURE_NAMES),\n",
    "    \"k_size\": K_SIZE,\n",
    "    \"time_window\": TIME_WINDOW,\n",
    "    \"conv_mid_features\":CONV_MID,\n",
    "    \"conv_final_features\":CONV_FINAL}\n",
    "\n",
    "EIIE_model = DRLAgent(environment).get_model(\"pg\", device, model_kwargs, policy_kwargs)"
   ]
  },
  {
   "cell_type": "markdown",
   "metadata": {},
   "source": [
    "# DRL Model Training (Jan 2011- Dec 2020)"
   ]
  },
  {
   "cell_type": "code",
   "execution_count": null,
   "metadata": {
    "scrolled": false
   },
   "outputs": [],
   "source": [
    "DRLAgent.train_model(EIIE_model, episodes=5)\n",
    "torch.save(EIIE_model.train_policy.state_dict(), \"policy_EIIE(test).pt\")"
   ]
  },
  {
   "cell_type": "markdown",
   "metadata": {},
   "source": [
    "# DRL Model Evaluation (Jan 2021-Dec 2023)"
   ]
  },
  {
   "cell_type": "code",
   "execution_count": null,
   "metadata": {},
   "outputs": [],
   "source": [
    "import os\n",
    "import shutil\n",
    "\n",
    "environment_2021 = PortfolioOptimizationEnv(\n",
    "    df_portfolio_2021,\n",
    "    initial_amount=100000,\n",
    "    comission_fee_pct=COMISSION_FEE,\n",
    "    time_window=TIME_WINDOW,\n",
    "    features=FEATURE_NAMES,\n",
    "    normalize_df=None,\n",
    "    reward_function=custom_reward_function,\n",
    "    reward_scaling=1.0\n",
    ")\n",
    "\n",
    "environment_2022 = PortfolioOptimizationEnv(\n",
    "    df_portfolio_2022,\n",
    "    initial_amount=100000,\n",
    "    comission_fee_pct=COMISSION_FEE,\n",
    "    time_window=TIME_WINDOW,\n",
    "    features=FEATURE_NAMES,\n",
    "    normalize_df=None,\n",
    "    reward_function=custom_reward_function,\n",
    "    reward_scaling=1.0\n",
    ")\n",
    "\n",
    "environment_2023 = PortfolioOptimizationEnv(\n",
    "    df_portfolio_2023,\n",
    "    initial_amount=100000,\n",
    "    comission_fee_pct=COMISSION_FEE,\n",
    "    time_window=TIME_WINDOW,\n",
    "    features=FEATURE_NAMES,\n",
    "    normalize_df=None,\n",
    "    reward_function=custom_reward_function,\n",
    "    reward_scaling=1.0\n",
    ")\n",
    "\n",
    "EIIE_results = {\n",
    "    \"train\": {},\n",
    "    \"2021\": {},\n",
    "    \"2022\": {},\n",
    "    \"2023\": {}\n",
    "}\n",
    "# EI3_results = {\n",
    "#     \"train\": {},\n",
    "#     \"2021\": {},\n",
    "#     \"2022\": {},\n",
    "#     \"2023\": {}\n",
    "# }\n",
    "\n",
    "# instantiate an architecture with the same arguments used in training\n",
    "# and load with load_state_dict.\n",
    "\n",
    "EIIE_policy = EIIE(time_window = TIME_WINDOW, device = device, initial_features = len(FEATURE_NAMES),\n",
    "              k_size = K_SIZE, conv_mid_features = CONV_MID,conv_final_features = CONV_FINAL)\n",
    "\n",
    "EIIE_policy.load_state_dict(torch.load(\"policy_EIIE(test).pt\"))\n",
    "\n",
    "environment.reset()\n",
    "src_folder = \"results/rl\"\n",
    "dst_folder = \"results/train\"\n",
    "if not os.path.exists(src_folder):\n",
    "    os.makedirs(src_folder)\n",
    "if os.path.exists(dst_folder):\n",
    "    shutil.rmtree(dst_folder)\n",
    "DRLAgent.DRL_validation(EIIE_model, environment, policy=EIIE_policy)\n",
    "os.rename(src_folder, dst_folder)\n",
    "EIIE_results[\"train\"][\"value\"] = environment._asset_memory[\"final\"]\n",
    "EIIE_results[\"train\"][\"actions\"] = environment._actions_memory\n",
    "\n",
    "src_folder = \"results/rl\"\n",
    "dst_folder = \"results/2021\"\n",
    "if not os.path.exists(src_folder):\n",
    "    os.makedirs(src_folder)\n",
    "if os.path.exists(dst_folder):\n",
    "    shutil.rmtree(dst_folder)\n",
    "DRLAgent.DRL_validation(EIIE_model, environment_2021, policy=EIIE_policy)\n",
    "os.rename(src_folder, dst_folder)\n",
    "EIIE_results[\"2021\"][\"value\"] = environment_2021._asset_memory[\"final\"]\n",
    "EIIE_results[\"2021\"][\"actions\"] = environment_2021._actions_memory\n",
    "\n",
    "src_folder = \"results/rl\"\n",
    "dst_folder = \"results/2022\"\n",
    "if not os.path.exists(src_folder):\n",
    "    os.makedirs(src_folder)\n",
    "if os.path.exists(dst_folder):\n",
    "    shutil.rmtree(dst_folder)\n",
    "DRLAgent.DRL_validation(EIIE_model, environment_2022, policy=EIIE_policy)\n",
    "os.rename(src_folder, dst_folder)\n",
    "EIIE_results[\"2022\"][\"value\"] = environment_2022._asset_memory[\"final\"]\n",
    "EIIE_results[\"2022\"][\"actions\"] = environment_2022._actions_memory\n",
    "\n",
    "src_folder = \"results/rl\"\n",
    "dst_folder = \"results/2023\"\n",
    "if not os.path.exists(src_folder):\n",
    "    os.makedirs(src_folder)\n",
    "if os.path.exists(dst_folder):\n",
    "    shutil.rmtree(dst_folder)\n",
    "DRLAgent.DRL_validation(EIIE_model, environment_2023, policy=EIIE_policy)\n",
    "os.rename(src_folder, dst_folder)\n",
    "EIIE_results[\"2023\"][\"value\"] = environment_2023._asset_memory[\"final\"]\n",
    "EIIE_results[\"2023\"][\"actions\"] = environment_2023._actions_memory\n",
    "\n",
    "\n",
    "# EI3_policy = EI3(time_window=50, device=device)\n",
    "# EI3_policy.load_state_dict(torch.load(\"policy_EI3.pt\"))\n",
    "\n",
    "# environment.reset()\n",
    "# DRLAgent.DRL_validation(EI3_model, environment, policy=EI3_policy)\n",
    "# EI3_results[\"train\"][\"value\"] = environment._asset_memory[\"final\"]\n",
    "# environment_2021.reset()\n",
    "# DRLAgent.DRL_validation(EI3_model, environment_2021, policy=EI3_policy)\n",
    "# EI3_results[\"2021\"][\"value\"] = environment_2021._asset_memory[\"final\"]\n",
    "# environment_2022.reset()\n",
    "# DRLAgent.DRL_validation(EI3_model, environment_2022, policy=EI3_policy)\n",
    "# EI3_results[\"2022\"][\"value\"] = environment_2022._asset_memory[\"final\"]\n",
    "# environment_2023.reset()\n",
    "# DRLAgent.DRL_validation(EI3_model, environment_2023, policy=EI3_policy)\n",
    "# EI3_results[\"2023\"][\"value\"] = environment_2023._asset_memory[\"final\"]\n",
    "\n",
    "#uniform buy n hold\n",
    "if not os.path.exists(src_folder):\n",
    "    os.makedirs(src_folder)\n",
    "UBAH_results = {\n",
    "    \"train\": {\"value\": [], \"actions\": []},\n",
    "    \"2021\": {\"value\": [], \"actions\": []},\n",
    "    \"2022\": {\"value\": [], \"actions\": []},\n",
    "    \"2023\": {\"value\": [], \"actions\": []}\n",
    "}\n",
    "\n",
    "PORTFOLIO_SIZE = len(TEST_SET)\n",
    "\n",
    "# train period\n",
    "terminated = False\n",
    "environment.reset()\n",
    "while not terminated:\n",
    "    action = [0] + [1/PORTFOLIO_SIZE] * PORTFOLIO_SIZE\n",
    "    _, _, terminated, _ = environment.step(action)\n",
    "    UBAH_results[\"train\"][\"actions\"].append(action)\n",
    "UBAH_results[\"train\"][\"value\"] = environment._asset_memory[\"final\"]\n",
    "\n",
    "# 2021\n",
    "terminated = False\n",
    "environment_2021.reset()\n",
    "while not terminated:\n",
    "    action = [0] + [1/PORTFOLIO_SIZE] * PORTFOLIO_SIZE\n",
    "    _, _, terminated, _ = environment_2021.step(action)\n",
    "    UBAH_results[\"2021\"][\"actions\"].append(action)\n",
    "UBAH_results[\"2021\"][\"value\"] = environment_2021._asset_memory[\"final\"]\n",
    "\n",
    "# 2022\n",
    "terminated = False\n",
    "environment_2022.reset()\n",
    "while not terminated:\n",
    "    action = [0] + [1/PORTFOLIO_SIZE] * PORTFOLIO_SIZE\n",
    "    _, _, terminated, _ = environment_2022.step(action)\n",
    "    UBAH_results[\"2022\"][\"actions\"].append(action)\n",
    "UBAH_results[\"2022\"][\"value\"] = environment_2022._asset_memory[\"final\"]\n",
    "\n",
    "# 2023\n",
    "terminated = False\n",
    "environment_2023.reset()\n",
    "while not terminated:\n",
    "    action = [0] + [1/PORTFOLIO_SIZE] * PORTFOLIO_SIZE\n",
    "    _, _, terminated, _ = environment_2023.step(action)\n",
    "    UBAH_results[\"2023\"][\"actions\"].append(action)\n",
    "UBAH_results[\"2023\"][\"value\"] = environment_2023._asset_memory[\"final\"]"
   ]
  },
  {
   "cell_type": "code",
   "execution_count": null,
   "metadata": {
    "scrolled": false
   },
   "outputs": [],
   "source": [
    "import matplotlib.pyplot as plt\n",
    "%matplotlib inline \n",
    "\n",
    "plt.plot(UBAH_results[\"train\"][\"value\"], label=\"Buy and Hold\")\n",
    "plt.plot(EIIE_results[\"train\"][\"value\"], label=\"EIIE\")\n",
    "#plt.plot(EI3_results[\"train\"][\"value\"], label=\"EI3\")\n",
    "\n",
    "plt.xlabel(\"Days\")\n",
    "plt.ylabel(\"Portfolio Value\")\n",
    "plt.title(\"Performance in training period\")\n",
    "plt.legend()\n",
    "\n",
    "plt.show()\n",
    "\n",
    "plt.plot(UBAH_results[\"2021\"][\"value\"], label=\"Buy and Hold\")\n",
    "plt.plot(EIIE_results[\"2021\"][\"value\"], label=\"EIIE\")\n",
    "#plt.plot(EI3_results[\"2021\"][\"value\"], label=\"EI3\")\n",
    "\n",
    "plt.xlabel(\"Days\")\n",
    "plt.ylabel(\"Portfolio Value\")\n",
    "plt.title(\"Performance in 2021\")\n",
    "plt.legend()\n",
    "\n",
    "plt.show()\n",
    "\n",
    "plt.plot(UBAH_results[\"2022\"][\"value\"], label=\"Buy and Hold\")\n",
    "plt.plot(EIIE_results[\"2022\"][\"value\"], label=\"EIIE\")\n",
    "#plt.plot(EI3_results[\"2022\"][\"value\"], label=\"EI3\")\n",
    "\n",
    "plt.xlabel(\"Days\")\n",
    "plt.ylabel(\"Portfolio Value\")\n",
    "plt.title(\"Performance in 2022\")\n",
    "plt.legend()\n",
    "\n",
    "plt.show()\n",
    "\n",
    "plt.plot(UBAH_results[\"2023\"][\"value\"], label=\"Buy and Hold\")\n",
    "plt.plot(EIIE_results[\"2023\"][\"value\"], label=\"EIIE\")\n",
    "#plt.plot(EI3_results[\"2023\"][\"value\"], label=\"EI3\")\n",
    "\n",
    "plt.xlabel(\"Days\")\n",
    "plt.ylabel(\"Portfolio Value\")\n",
    "plt.title(\"Performance in 2023\")\n",
    "plt.legend()\n",
    "\n",
    "plt.show()"
   ]
  },
  {
   "cell_type": "markdown",
   "metadata": {},
   "source": [
    "# Portfolio Allocation by Trained DRL Model"
   ]
  },
  {
   "cell_type": "code",
   "execution_count": null,
   "metadata": {
    "scrolled": false
   },
   "outputs": [],
   "source": [
    "# Function to plot action memory\n",
    "def plot_action_memory(actions, tickers, label):\n",
    "    \"\"\"Visualize portfolio allocation over time.\"\"\"\n",
    "    actions_df = pd.DataFrame(actions, columns=[\"cash\"] + tickers)\n",
    "    actions_df.plot(kind=\"line\", figsize=(12, 8), title=f\"Portfolio Allocation Breakdown - {label}\")\n",
    "    plt.ylabel(\"Portfolio Weight\")\n",
    "    plt.xlabel(\"Time Step\")\n",
    "    plt.legend(loc=\"upper left\", bbox_to_anchor=(1, 1))\n",
    "    plt.grid(True)\n",
    "    plt.tight_layout()\n",
    "    plt.show()\n",
    "\n",
    "# Plot EIIE actions for the training period\n",
    "plot_action_memory(EIIE_results[\"train\"][\"actions\"], TEST_SET, \"EIIE - Train\")\n",
    "\n",
    "# Plot EIIE actions for 2021\n",
    "plot_action_memory(EIIE_results[\"2021\"][\"actions\"], TEST_SET, \"EIIE - 2021\")\n",
    "\n",
    "# Plot EIIE actions for 2022\n",
    "plot_action_memory(EIIE_results[\"2022\"][\"actions\"], TEST_SET, \"EIIE - 2022\")\n",
    "\n",
    "# Plot EIIE actions for 2023\n",
    "plot_action_memory(EIIE_results[\"2023\"][\"actions\"], TEST_SET, \"EIIE - 2023\")\n",
    "\n",
    "# Similarly, plot UBAH actions for each period\n",
    "# plot_action_memory(UBAH_results[\"train\"][\"actions\"], TEST_SET, \"UBAH - Train\")\n",
    "# plot_action_memory(UBAH_results[\"2021\"][\"actions\"], TEST_SET, \"UBAH - 2021\")\n",
    "# plot_action_memory(UBAH_results[\"2022\"][\"actions\"], TEST_SET, \"UBAH - 2022\")\n",
    "# plot_action_memory(UBAH_results[\"2023\"][\"actions\"], TEST_SET, \"UBAH - 2023\")"
   ]
  },
  {
   "cell_type": "code",
   "execution_count": null,
   "metadata": {},
   "outputs": [],
   "source": []
  },
  {
   "cell_type": "code",
   "execution_count": null,
   "metadata": {},
   "outputs": [],
   "source": [
    "results_df2 = results_df2[[\"TIME_WINDOW\", \"K_SIZE\", \"CONV_MID\", \"CONV_FINAL\", \n",
    "            'train_portfolio_value', 'train_drawdown', 'train_sharpe','train_cumulative',\n",
    "            '2021_portfolio_value', '2021_drawdown', '2021_sharpe','2021_cumulative',\n",
    "             '2022_portfolio_value', '2022_drawdown', '2022_sharpe','2022_cumulative',\n",
    "             '2023_portfolio_value', '2023_drawdown', '2023_sharpe','2023_cumulative']]"
   ]
  },
  {
   "cell_type": "code",
   "execution_count": null,
   "metadata": {},
   "outputs": [],
   "source": []
  }
 ],
 "metadata": {
  "kernelspec": {
   "display_name": "Python 3",
   "language": "python",
   "name": "python3"
  },
  "language_info": {
   "codemirror_mode": {
    "name": "ipython",
    "version": 3
   },
   "file_extension": ".py",
   "mimetype": "text/x-python",
   "name": "python",
   "nbconvert_exporter": "python",
   "pygments_lexer": "ipython3",
   "version": "3.10.10"
  }
 },
 "nbformat": 4,
 "nbformat_minor": 2
}

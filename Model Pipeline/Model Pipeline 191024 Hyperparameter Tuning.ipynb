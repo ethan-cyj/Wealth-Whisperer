{
 "cells": [
  {
   "cell_type": "code",
   "execution_count": 1,
   "metadata": {},
   "outputs": [],
   "source": [
    "# !sudo apt install swig"
   ]
  },
  {
   "cell_type": "code",
   "execution_count": 2,
   "metadata": {},
   "outputs": [],
   "source": [
    "# !pip install quantstats\n",
    "# !pip install scikit-learn\n",
    "# !pip install torch\n",
    "# !pip install git+https://github.com/AI4Finance-Foundation/FinRL.git"
   ]
  },
  {
   "cell_type": "markdown",
   "metadata": {},
   "source": [
    "# Initializing"
   ]
  },
  {
   "cell_type": "code",
   "execution_count": 17,
   "metadata": {},
   "outputs": [],
   "source": [
    "import logging\n",
    "logging.getLogger('matplotlib.font_manager').disabled = True\n",
    "import torch\n",
    "\n",
    "import numpy as np\n",
    "import pandas as pd\n",
    "\n",
    "from sklearn.preprocessing import MaxAbsScaler\n",
    "from finrl.meta.preprocessor.yahoodownloader import YahooDownloader\n",
    "from finrl.meta.preprocessor.preprocessors import GroupByScaler\n",
    "from utils import PortfolioOptimizationEnv, custom_reward_function, sharpe_ratio_reward_function\n",
    "from finrl.agents.portfolio_optimization.models import DRLAgent\n",
    "from finrl.agents.portfolio_optimization.architectures import EIIE\n",
    "\n",
    "device = 'cuda:0' if torch.cuda.is_available() else 'cpu'"
   ]
  },
  {
   "cell_type": "markdown",
   "metadata": {},
   "source": [
    "# Data Import and Preprocessing"
   ]
  },
  {
   "cell_type": "code",
   "execution_count": 2,
   "metadata": {},
   "outputs": [
    {
     "name": "stdout",
     "output_type": "stream",
     "text": [
      "10\n",
      "[*********************100%%**********************]  1 of 1 completed"
     ]
    },
    {
     "name": "stderr",
     "output_type": "stream",
     "text": [
      "C:\\Users\\xutia\\AppData\\Roaming\\Python\\Python310\\site-packages\\yfinance\\utils.py:771: FutureWarning: The 'unit' keyword in TimedeltaIndex construction is deprecated and will be removed in a future version. Use pd.to_timedelta instead.\n",
      "  df.index += _pd.TimedeltaIndex(dst_error_hours, 'h')\n",
      "C:\\Users\\xutia\\AppData\\Roaming\\Python\\Python310\\site-packages\\yfinance\\utils.py:771: FutureWarning: The 'unit' keyword in TimedeltaIndex construction is deprecated and will be removed in a future version. Use pd.to_timedelta instead.\n",
      "  df.index += _pd.TimedeltaIndex(dst_error_hours, 'h')\n"
     ]
    },
    {
     "name": "stdout",
     "output_type": "stream",
     "text": [
      "\n",
      "[*********************100%%**********************]  1 of 1 completed\n",
      "[*********************100%%**********************]  1 of 1 completed\n"
     ]
    },
    {
     "name": "stderr",
     "output_type": "stream",
     "text": [
      "C:\\Users\\xutia\\AppData\\Roaming\\Python\\Python310\\site-packages\\yfinance\\utils.py:771: FutureWarning: The 'unit' keyword in TimedeltaIndex construction is deprecated and will be removed in a future version. Use pd.to_timedelta instead.\n",
      "  df.index += _pd.TimedeltaIndex(dst_error_hours, 'h')\n"
     ]
    },
    {
     "name": "stdout",
     "output_type": "stream",
     "text": [
      "[*********************100%%**********************]  1 of 1 completed\n",
      "[*********************100%%**********************]  1 of 1 completed"
     ]
    },
    {
     "name": "stderr",
     "output_type": "stream",
     "text": [
      "C:\\Users\\xutia\\AppData\\Roaming\\Python\\Python310\\site-packages\\yfinance\\utils.py:771: FutureWarning: The 'unit' keyword in TimedeltaIndex construction is deprecated and will be removed in a future version. Use pd.to_timedelta instead.\n",
      "  df.index += _pd.TimedeltaIndex(dst_error_hours, 'h')\n",
      "C:\\Users\\xutia\\AppData\\Roaming\\Python\\Python310\\site-packages\\yfinance\\utils.py:771: FutureWarning: The 'unit' keyword in TimedeltaIndex construction is deprecated and will be removed in a future version. Use pd.to_timedelta instead.\n",
      "  df.index += _pd.TimedeltaIndex(dst_error_hours, 'h')\n"
     ]
    },
    {
     "name": "stdout",
     "output_type": "stream",
     "text": [
      "\n",
      "[*********************100%%**********************]  1 of 1 completed\n"
     ]
    },
    {
     "name": "stderr",
     "output_type": "stream",
     "text": [
      "C:\\Users\\xutia\\AppData\\Roaming\\Python\\Python310\\site-packages\\yfinance\\utils.py:771: FutureWarning: The 'unit' keyword in TimedeltaIndex construction is deprecated and will be removed in a future version. Use pd.to_timedelta instead.\n",
      "  df.index += _pd.TimedeltaIndex(dst_error_hours, 'h')\n",
      "C:\\Users\\xutia\\AppData\\Roaming\\Python\\Python310\\site-packages\\yfinance\\utils.py:771: FutureWarning: The 'unit' keyword in TimedeltaIndex construction is deprecated and will be removed in a future version. Use pd.to_timedelta instead.\n",
      "  df.index += _pd.TimedeltaIndex(dst_error_hours, 'h')\n"
     ]
    },
    {
     "name": "stdout",
     "output_type": "stream",
     "text": [
      "[*********************100%%**********************]  1 of 1 completed\n",
      "[*********************100%%**********************]  1 of 1 completed\n",
      "[*********************100%%**********************]  1 of 1 completed"
     ]
    },
    {
     "name": "stderr",
     "output_type": "stream",
     "text": [
      "C:\\Users\\xutia\\AppData\\Roaming\\Python\\Python310\\site-packages\\yfinance\\utils.py:771: FutureWarning: The 'unit' keyword in TimedeltaIndex construction is deprecated and will be removed in a future version. Use pd.to_timedelta instead.\n",
      "  df.index += _pd.TimedeltaIndex(dst_error_hours, 'h')\n",
      "C:\\Users\\xutia\\AppData\\Roaming\\Python\\Python310\\site-packages\\yfinance\\utils.py:771: FutureWarning: The 'unit' keyword in TimedeltaIndex construction is deprecated and will be removed in a future version. Use pd.to_timedelta instead.\n",
      "  df.index += _pd.TimedeltaIndex(dst_error_hours, 'h')\n"
     ]
    },
    {
     "name": "stdout",
     "output_type": "stream",
     "text": [
      "\n",
      "[*********************100%%**********************]  1 of 1 completed"
     ]
    },
    {
     "name": "stderr",
     "output_type": "stream",
     "text": [
      "C:\\Users\\xutia\\AppData\\Roaming\\Python\\Python310\\site-packages\\yfinance\\utils.py:771: FutureWarning: The 'unit' keyword in TimedeltaIndex construction is deprecated and will be removed in a future version. Use pd.to_timedelta instead.\n",
      "  df.index += _pd.TimedeltaIndex(dst_error_hours, 'h')\n"
     ]
    },
    {
     "name": "stdout",
     "output_type": "stream",
     "text": [
      "\n",
      "Shape of DataFrame:  (32700, 8)\n"
     ]
    }
   ],
   "source": [
    "TEST_SET = [\n",
    "    \"AAPL\", \"CVX\", \"GS\", \"JNJ\",\n",
    "    \"JPM\", \"MSFT\", \"PFE\", \"PG\",\n",
    "    \"GOOG\", \"XOM\"\n",
    "]\n",
    "START_DATE = '2011-01-01'\n",
    "END_DATE = '2023-12-31'\n",
    "print(len(TEST_SET))\n",
    "\n",
    "##COVARIATE 1: PRICES\n",
    "\n",
    "portfolio_raw_df = YahooDownloader(start_date = START_DATE,\n",
    "                                end_date = END_DATE,\n",
    "                                ticker_list = TEST_SET).fetch_data()"
   ]
  },
  {
   "cell_type": "code",
   "execution_count": 5,
   "metadata": {
    "scrolled": false
   },
   "outputs": [],
   "source": [
    "##COVARIATES 2,3: VIX, FEAR/GREED INDEX\n",
    "\n",
    "combined_spy_vix_fear_greed = pd.read_csv('datasets/VIX_feargreed/spy_vix_fear_greed_2011_2023.csv')\n",
    "\n",
    "\n",
    "portfolio_raw_df['date'] = pd.to_datetime(portfolio_raw_df['date'])\n",
    "combined_spy_vix_fear_greed['Date'] = pd.to_datetime(combined_spy_vix_fear_greed['Date'])\n",
    "\n",
    "\n",
    "df_portfolio_comb = pd.merge(portfolio_raw_df, combined_spy_vix_fear_greed, left_on='date', right_on='Date', how='left')\n",
    "\n",
    "\n",
    "df_portfolio_comb = df_portfolio_comb.drop(columns=['Date'])\n",
    "df_portfolio_comb['date'] = df_portfolio_comb['date'].dt.strftime('%Y-%m-%d')"
   ]
  },
  {
   "cell_type": "code",
   "execution_count": 6,
   "metadata": {
    "scrolled": true
   },
   "outputs": [],
   "source": [
    "##COVARIATE 4: STOCK HISTORICAL RATINGS\n",
    "\n",
    "FMP_historical_ratings = pd.read_csv('datasets/historical_ratings/FMP_historical_ratings.csv')\n",
    "\n",
    "df_portfolio_comb_2 = df_portfolio_comb.merge(\n",
    "    FMP_historical_ratings[['date', 'symbol', 'ratingScore', 'ratingDetailsDCFScore', 'ratingDetailsROEScore', 'ratingDetailsROAScore', 'ratingDetailsPEScore', 'ratingDetailsPBScore']],\n",
    "    left_on=['date', 'tic'],\n",
    "    right_on=['date', 'symbol'],\n",
    "    how='left' )\n",
    "\n",
    "df_portfolio_comb_2.drop(columns=['symbol'], inplace=True)"
   ]
  },
  {
   "cell_type": "code",
   "execution_count": 7,
   "metadata": {},
   "outputs": [],
   "source": [
    "##COVARIATE 5: Macro Indicators\n",
    "\n",
    "expenses = pd.read_csv('datasets/macro_indicators/expenses.csv')\n",
    "gdp = pd.read_csv('datasets/macro_indicators/gdp.csv')\n",
    "goods_services = pd.read_csv('datasets/macro_indicators/goods_and_services.csv')\n",
    "pound_dollar = pd.read_csv('datasets/macro_indicators/pound-dollar-exchange-rate-historical-chart.csv')\n",
    "unemployment = pd.read_csv('datasets/macro_indicators/unemployment.csv')\n",
    "index_consumer_services = pd.read_csv('datasets/macro_indicators/index_consumer_services.csv')\n",
    "\n",
    "df_portfolio_comb_2['date'] = pd.to_datetime(df_portfolio_comb_2['date'])\n",
    "expenses['date'] = pd.to_datetime(unemployment['date'])\n",
    "gdp['date'] = pd.to_datetime(gdp['DATE'])\n",
    "goods_services['date'] = pd.to_datetime(goods_services['date'])\n",
    "pound_dollar['date'] = pd.to_datetime(pound_dollar['date'])\n",
    "unemployment['date'] = pd.to_datetime(unemployment['date'])\n",
    "index_consumer_services['date'] = pd.to_datetime(index_consumer_services['date'])\n",
    "\n",
    "df_portfolio_comb_3 = pd.merge(df_portfolio_comb_2, expenses, on='date', how='left')\n",
    "df_portfolio_comb_3 = pd.merge(df_portfolio_comb_3, gdp, on='date', how='left')\n",
    "df_portfolio_comb_3 = pd.merge(df_portfolio_comb_3, goods_services, on='date', how='left')\n",
    "df_portfolio_comb_3 = pd.merge(df_portfolio_comb_3, pound_dollar, on='date', how='left')\n",
    "df_portfolio_comb_3 = pd.merge(df_portfolio_comb_3, unemployment, on='date', how='left')\n",
    "df_portfolio_comb_3 = pd.merge(df_portfolio_comb_3, index_consumer_services, on='date', how='left')\n",
    "\n",
    "# Sort the dataframe by date (and optionally 'tic' if needed)\n",
    "df_portfolio_comb_3 = df_portfolio_comb_3.sort_values(by=['date', 'tic'])\n",
    "\n",
    "# Forward fill missing data\n",
    "df_portfolio_comb_3['expenses'] = df_portfolio_comb_3['expenses'].ffill()\n",
    "df_portfolio_comb_3['GDP'] = df_portfolio_comb_3['GDP'].ffill()\n",
    "df_portfolio_comb_3['exports'] = df_portfolio_comb_3['exports'].ffill()\n",
    "df_portfolio_comb_3['imports'] = df_portfolio_comb_3['imports'].ffill()\n",
    "df_portfolio_comb_3['pound_dollar_exchange_rate'] = df_portfolio_comb_3['pound_dollar_exchange_rate'].ffill()\n",
    "df_portfolio_comb_3['unemployment'] = df_portfolio_comb_3['unemployment'].ffill()\n",
    "df_portfolio_comb_3['ics'] = df_portfolio_comb_3['ics'].ffill()\n",
    "df_portfolio_comb_3.drop(columns=['DATE'], inplace=True)"
   ]
  },
  {
   "cell_type": "code",
   "execution_count": 16,
   "metadata": {
    "scrolled": true
   },
   "outputs": [
    {
     "name": "stderr",
     "output_type": "stream",
     "text": [
      "C:\\Users\\xutia\\AppData\\Local\\Temp\\ipykernel_52124\\1570567354.py:11: UserWarning: Parsing dates in %d/%m/%Y format when dayfirst=False (the default) was specified. Pass `dayfirst=True` or specify a format to silence this warning.\n",
      "  DBITDA_ratio['date'] = pd.to_datetime(DBITDA_ratio['date'])\n",
      "C:\\Users\\xutia\\AppData\\Local\\Temp\\ipykernel_52124\\1570567354.py:12: UserWarning: Parsing dates in %d/%m/%Y format when dayfirst=False (the default) was specified. Pass `dayfirst=True` or specify a format to silence this warning.\n",
      "  PB_ratio['date'] = pd.to_datetime(PB_ratio['date'])\n",
      "C:\\Users\\xutia\\AppData\\Local\\Temp\\ipykernel_52124\\1570567354.py:13: UserWarning: Parsing dates in %d/%m/%Y format when dayfirst=False (the default) was specified. Pass `dayfirst=True` or specify a format to silence this warning.\n",
      "  PE_ratio['date'] = pd.to_datetime(PE_ratio['date'])\n",
      "C:\\Users\\xutia\\AppData\\Local\\Temp\\ipykernel_52124\\1570567354.py:14: UserWarning: Parsing dates in %d/%m/%Y format when dayfirst=False (the default) was specified. Pass `dayfirst=True` or specify a format to silence this warning.\n",
      "  PS_ratio['date'] = pd.to_datetime(PS_ratio['date'])\n",
      "C:\\Users\\xutia\\AppData\\Local\\Temp\\ipykernel_52124\\1570567354.py:15: UserWarning: Parsing dates in %d/%m/%Y format when dayfirst=False (the default) was specified. Pass `dayfirst=True` or specify a format to silence this warning.\n",
      "  quarterly_data['date'] = pd.to_datetime(quarterly_data['date'])\n",
      "C:\\Users\\xutia\\AppData\\Local\\Temp\\ipykernel_52124\\1570567354.py:16: UserWarning: Parsing dates in %d/%m/%Y format when dayfirst=False (the default) was specified. Pass `dayfirst=True` or specify a format to silence this warning.\n",
      "  ROE['date'] = pd.to_datetime(ROE['date'])\n"
     ]
    }
   ],
   "source": [
    "##COVARIATE 6: Fundamental Indicators\n",
    "\n",
    "DBITDA_ratio = pd.read_csv('datasets/fundemental indicators/DBITDA_ratio.csv')\n",
    "PB_ratio = pd.read_csv('datasets/fundemental indicators/PB_ratio.csv')\n",
    "PE_ratio = pd.read_csv('datasets/fundemental indicators/PE_ratio.csv')\n",
    "PS_ratio = pd.read_csv('datasets/fundemental indicators/PS_ratio.csv')\n",
    "quarterly_data = pd.read_csv('datasets/fundemental indicators/quaterlydata.csv')\n",
    "ROE = pd.read_csv('datasets/fundemental indicators/ROE.csv')\n",
    "\n",
    "df_portfolio_comb_3['date'] = pd.to_datetime(df_portfolio_comb_3['date'])\n",
    "DBITDA_ratio['date'] = pd.to_datetime(DBITDA_ratio['date'])\n",
    "PB_ratio['date'] = pd.to_datetime(PB_ratio['date'])\n",
    "PE_ratio['date'] = pd.to_datetime(PE_ratio['date'])\n",
    "PS_ratio['date'] = pd.to_datetime(PS_ratio['date'])\n",
    "quarterly_data['date'] = pd.to_datetime(quarterly_data['date'])\n",
    "ROE['date'] = pd.to_datetime(ROE['date'])\n",
    "\n",
    "df_portfolio_comb_4 = df_portfolio_comb_3\n",
    "\n",
    "df_portfolio_comb_4 = pd.merge(df_portfolio_comb_4, DBITDA_ratio, left_on=['tic', 'date'], right_on=['ticker', 'date'], how='left')\n",
    "df_portfolio_comb_4 = df_portfolio_comb_4.drop(columns=['ticker'])\n",
    "df_portfolio_comb_4 = pd.merge(df_portfolio_comb_4, PB_ratio, left_on=['tic', 'date'], right_on=['ticker', 'date'], how='left')\n",
    "df_portfolio_comb_4 = df_portfolio_comb_4.drop(columns=['ticker','Stock Price'])\n",
    "df_portfolio_comb_4 = pd.merge(df_portfolio_comb_4, PE_ratio, left_on=['tic', 'date'], right_on=['ticker', 'date'], how='left')\n",
    "df_portfolio_comb_4 = df_portfolio_comb_4.drop(columns=['ticker','Stock Price'])\n",
    "df_portfolio_comb_4 = pd.merge(df_portfolio_comb_4, PS_ratio, left_on=['tic', 'date'], right_on=['ticker', 'date'], how='left')\n",
    "df_portfolio_comb_4 = df_portfolio_comb_4.drop(columns=['ticker','Stock Price'])\n",
    "df_portfolio_comb_4 = pd.merge(df_portfolio_comb_4, quarterly_data, left_on=['tic', 'date'], right_on=['ticker', 'date'], how='left')\n",
    "df_portfolio_comb_4 = df_portfolio_comb_4.drop(columns=['ticker'])\n",
    "df_portfolio_comb_4 = pd.merge(df_portfolio_comb_4, ROE, left_on=['tic', 'date'], right_on=['ticker', 'date'], how='left')\n",
    "df_portfolio_comb_4 = df_portfolio_comb_4.drop(columns=['ticker'])\n",
    "\n",
    "# Sort the dataframe by date (and optionally 'tic' if needed)\n",
    "df_portfolio_comb_4 = df_portfolio_comb_4.sort_values(by=['tic', 'date'])\n",
    "\n",
    "# Forward fill missing data\n",
    "df_portfolio_comb_4['TTM Revenue(Billion)'] = df_portfolio_comb_4['TTM Revenue(Billion)'].ffill()\n",
    "df_portfolio_comb_4['TTM EBITDA(Billion)'] = df_portfolio_comb_4['TTM EBITDA(Billion)'].ffill()\n",
    "df_portfolio_comb_4['EBITDA Margin'] = df_portfolio_comb_4['EBITDA Margin'].ffill()\n",
    "df_portfolio_comb_4['Price to Book Ratio'] = df_portfolio_comb_4['Price to Book Ratio'].ffill()\n",
    "df_portfolio_comb_4['PE Ratio'] = df_portfolio_comb_4['PE Ratio'].ffill()\n",
    "df_portfolio_comb_4['Price to Sales Ratio'] = df_portfolio_comb_4['Price to Sales Ratio'].ffill()\n",
    "df_portfolio_comb_4['Assets'] = df_portfolio_comb_4['Assets'].ffill()\n",
    "df_portfolio_comb_4['NetIncomeLoss'] = df_portfolio_comb_4['NetIncomeLoss'].ffill()\n",
    "df_portfolio_comb_4['Return on Equity(%)'] = df_portfolio_comb_4['Return on Equity(%)'].ffill()"
   ]
  },
  {
   "cell_type": "code",
   "execution_count": 9,
   "metadata": {},
   "outputs": [],
   "source": [
    "# ## VMD\n",
    "# from vmdpy import VMD\n",
    "\n",
    "# def apply_vmd_to_ticker(df, alpha=5000, tau=0, K=3, DC=0, init=1, tol=1e-7):\n",
    "#     \"\"\"Applies VMD to the 'close' price for each ticker in the dataframe\n",
    "#     and handles any length mismatch issues.\"\"\"\n",
    "#     vmd_features = []\n",
    "    \n",
    "#     # Apply VMD per ticker\n",
    "#     for tic in df['tic'].unique():\n",
    "#         tic_df = df[df['tic'] == tic].copy()  # Filter data for the current ticker\n",
    "#         close_prices = tic_df['close'].to_numpy()  # Extract close prices\n",
    "        \n",
    "#         # Perform VMD on the close prices\n",
    "#         u, _, _ = VMD(close_prices, alpha, tau, K, DC, init, tol)\n",
    "        \n",
    "#         # Check if the lengths match, and if not, align them\n",
    "#         if u.shape[1] != len(tic_df):\n",
    "#             print(f\"Length mismatch for {tic}: VMD output has {u.shape[1]} points, expected {len(tic_df)}\")\n",
    "#             min_len = min(u.shape[1], len(tic_df))\n",
    "#             tic_df = tic_df.iloc[:min_len]  # Truncate the dataframe to match VMD output length\n",
    "#             u = u[:, :min_len]  # Truncate VMD output if necessary\n",
    "        \n",
    "#         # Assign VMD modes to columns\n",
    "#         for k in range(K):\n",
    "#             tic_df[f'vmd_mode_{k}'] = u[k, :]\n",
    "        \n",
    "#         # Append the dataframe with VMD modes\n",
    "#         vmd_features.append(tic_df)\n",
    "    \n",
    "#     # Concatenate all VMD modes into one dataframe\n",
    "#     vmd_df = pd.concat(vmd_features, axis=0)\n",
    "    \n",
    "#     return vmd_df\n",
    "# #apply VMD separately to each train, 2021, 2022, 2023 data\n",
    "# df_portfolio_comb_5 = apply_vmd_to_ticker(df_portfolio_comb_4)"
   ]
  },
  {
   "cell_type": "code",
   "execution_count": 10,
   "metadata": {},
   "outputs": [],
   "source": [
    "from vmdpy import VMD\n",
    "import pandas as pd\n",
    "import numpy as np\n",
    "\n",
    "def apply_vmd_to_ticker_rolling(df, alpha=5000, tau=0, K=3, DC=0, init=1, tol=1e-7, window=365):\n",
    "    \"\"\"\n",
    "    Applies VMD to the 'close' price for each ticker in the dataframe using a rolling window approach.\n",
    "    This ensures that each VMD decomposition is based only on the previous `window` ticks, avoiding forward leakage.\n",
    "    \n",
    "    Args:\n",
    "        df (pd.DataFrame): Dataframe containing 'close' price data and 'tic' column.\n",
    "        alpha, tau, K, DC, init, tol: Parameters for the VMD decomposition.\n",
    "        window (int): Number of previous ticks to use for the rolling VMD.\n",
    "\n",
    "    Returns:\n",
    "        pd.DataFrame: DataFrame with the VMD modes added for each ticker.\n",
    "    \"\"\"\n",
    "    vmd_features = []\n",
    "    \n",
    "    # Apply VMD for each ticker\n",
    "    for tic in df['tic'].unique():\n",
    "        tic_df = df[df['tic'] == tic].copy()  # Filter data for the current ticker\n",
    "        close_prices = tic_df['close'].to_numpy()  # Extract close prices\n",
    "        \n",
    "        # Initialize empty columns for VMD modes\n",
    "        for k in range(K):\n",
    "            tic_df[f'vmd_mode_{k}'] = np.nan  # Initialize with NaNs\n",
    "\n",
    "        # Apply VMD in a rolling window manner\n",
    "        for i in range(window, len(close_prices)):\n",
    "            close_window = close_prices[i - window:i]  # Select the previous `window` close prices\n",
    "            \n",
    "            # Perform VMD on the window of close prices\n",
    "            u, _, _ = VMD(close_window, alpha, tau, K, DC, init, tol)\n",
    "            \n",
    "            # Assign the latest VMD modes (from the last tick of the window) to the current row\n",
    "            for k in range(K):\n",
    "                tic_df.at[tic_df.index[i], f'vmd_mode_{k}'] = u[k, -1]  # Assign last mode from the VMD result\n",
    "        \n",
    "        # Append the dataframe with VMD modes\n",
    "        vmd_features.append(tic_df)\n",
    "    \n",
    "    # Concatenate all VMD modes into one dataframe\n",
    "    vmd_df = pd.concat(vmd_features, axis=0)\n",
    "    \n",
    "    return vmd_df\n",
    "\n",
    "df_portfolio_comb_5 = apply_vmd_to_ticker_rolling(df_portfolio_comb_4)\n"
   ]
  },
  {
   "cell_type": "code",
   "execution_count": 11,
   "metadata": {},
   "outputs": [],
   "source": [
    "df_portfolio_final = df_portfolio_comb_5"
   ]
  },
  {
   "cell_type": "code",
   "execution_count": 12,
   "metadata": {},
   "outputs": [
    {
     "name": "stdout",
     "output_type": "stream",
     "text": [
      "date                              datetime64[ns]\n",
      "open                                     float64\n",
      "high                                     float64\n",
      "low                                      float64\n",
      "close                                    float64\n",
      "volume                                     int64\n",
      "tic                                       object\n",
      "day                                        int32\n",
      "Open_VIX                                 float64\n",
      "High_VIX                                 float64\n",
      "Low_VIX                                  float64\n",
      "Close_VIX                                float64\n",
      "Adj Close_VIX                            float64\n",
      "Open_SPY                                 float64\n",
      "High_SPY                                 float64\n",
      "Low_SPY                                  float64\n",
      "Close_SPY                                float64\n",
      "Adj Close_SPY                            float64\n",
      "Volume_SPY                                 int64\n",
      "Fear Greed                               float64\n",
      "ratingScore                              float64\n",
      "ratingDetailsDCFScore                    float64\n",
      "ratingDetailsROEScore                    float64\n",
      "ratingDetailsROAScore                    float64\n",
      "ratingDetailsPEScore                     float64\n",
      "ratingDetailsPBScore                     float64\n",
      "expenses                                  object\n",
      "GDP                                      float64\n",
      "net_export_goods_and_services             object\n",
      "exports                                   object\n",
      "exports_goods                             object\n",
      "exports_services                          object\n",
      "imports                                   object\n",
      "imports_goods                             object\n",
      "imports_services                          object\n",
      "pound_dollar_exchange_rate               float64\n",
      "unemployment                             float64\n",
      "ics                                      float64\n",
      "TTM Revenue(Billion)                     float64\n",
      "TTM EBITDA(Billion)                      float64\n",
      "EBITDA Margin                            float64\n",
      "Book Value per Share                     float64\n",
      "Price to Book Ratio                      float64\n",
      "Net EPS                                  float64\n",
      "PE Ratio                                 float64\n",
      "TTM Sales per Share                      float64\n",
      "Price to Sales Ratio                     float64\n",
      "Assets                                   float64\n",
      "NetIncomeLoss                            float64\n",
      "TTM Net Income (Billions)                float64\n",
      "Shareholder's Equity (Billion)           float64\n",
      "Return on Equity(%)                      float64\n",
      "vmd_mode_0                               float64\n",
      "vmd_mode_1                               float64\n",
      "vmd_mode_2                               float64\n",
      "dtype: object\n"
     ]
    }
   ],
   "source": [
    "# Check the data types of all columns in the DataFrame\n",
    "print(df_portfolio_final.dtypes)"
   ]
  },
  {
   "cell_type": "code",
   "execution_count": 13,
   "metadata": {},
   "outputs": [],
   "source": [
    "#Convert Str to Float64\n",
    "df_portfolio_final['net_export_goods_and_services'] = df_portfolio_final['net_export_goods_and_services'].str.replace(',', '').astype('float64')\n",
    "df_portfolio_final['expenses'] = df_portfolio_final['expenses'].str.replace(',', '').astype('float64')\n",
    "df_portfolio_final['exports'] = df_portfolio_final['exports'].str.replace(',', '').astype('float64')\n",
    "df_portfolio_final['exports_goods'] = df_portfolio_final['exports_goods'].str.replace(',', '').astype('float64')\n",
    "df_portfolio_final['exports_services'] = df_portfolio_final['exports_services'].str.replace(',', '').astype('float64')\n",
    "df_portfolio_final['imports'] = df_portfolio_final['imports'].str.replace(',', '').astype('float64')\n",
    "df_portfolio_final['imports_goods'] = df_portfolio_final['imports_goods'].str.replace(',', '').astype('float64')\n",
    "df_portfolio_final['imports_services'] = df_portfolio_final['imports_services'].str.replace(',', '').astype('float64')\n",
    "\n",
    "#Convert rest to Float64\n",
    "df_portfolio_final[df_portfolio_final.columns.difference(['date', 'tic'])] = df_portfolio_final[df_portfolio_final.columns.difference(['date', 'tic'])].astype('float64')\n",
    "\n",
    "#Convert date back\n",
    "df_portfolio_final['date'] = df_portfolio_final['date'].dt.strftime('%Y-%m-%d')"
   ]
  },
  {
   "cell_type": "code",
   "execution_count": 14,
   "metadata": {},
   "outputs": [],
   "source": [
    "# Filling NaN values with 0\n",
    "df_portfolio_final.fillna(0, inplace=True)"
   ]
  },
  {
   "cell_type": "code",
   "execution_count": 15,
   "metadata": {
    "scrolled": true
   },
   "outputs": [
    {
     "data": {
      "text/html": [
       "<div>\n",
       "<style scoped>\n",
       "    .dataframe tbody tr th:only-of-type {\n",
       "        vertical-align: middle;\n",
       "    }\n",
       "\n",
       "    .dataframe tbody tr th {\n",
       "        vertical-align: top;\n",
       "    }\n",
       "\n",
       "    .dataframe thead th {\n",
       "        text-align: right;\n",
       "    }\n",
       "</style>\n",
       "<table border=\"1\" class=\"dataframe\">\n",
       "  <thead>\n",
       "    <tr style=\"text-align: right;\">\n",
       "      <th></th>\n",
       "      <th>date</th>\n",
       "      <th>open</th>\n",
       "      <th>high</th>\n",
       "      <th>low</th>\n",
       "      <th>close</th>\n",
       "      <th>volume</th>\n",
       "      <th>tic</th>\n",
       "      <th>day</th>\n",
       "      <th>Open_VIX</th>\n",
       "      <th>High_VIX</th>\n",
       "      <th>...</th>\n",
       "      <th>TTM Sales per Share</th>\n",
       "      <th>Price to Sales Ratio</th>\n",
       "      <th>Assets</th>\n",
       "      <th>NetIncomeLoss</th>\n",
       "      <th>TTM Net Income (Billions)</th>\n",
       "      <th>Shareholder's Equity (Billion)</th>\n",
       "      <th>Return on Equity(%)</th>\n",
       "      <th>vmd_mode_0</th>\n",
       "      <th>vmd_mode_1</th>\n",
       "      <th>vmd_mode_2</th>\n",
       "    </tr>\n",
       "  </thead>\n",
       "  <tbody>\n",
       "    <tr>\n",
       "      <th>0</th>\n",
       "      <td>2011-01-03</td>\n",
       "      <td>0.058731</td>\n",
       "      <td>0.059087</td>\n",
       "      <td>0.058891</td>\n",
       "      <td>0.050363</td>\n",
       "      <td>0.236650</td>\n",
       "      <td>AAPL</td>\n",
       "      <td>0.00</td>\n",
       "      <td>0.216955</td>\n",
       "      <td>0.210015</td>\n",
       "      <td>...</td>\n",
       "      <td>0.0</td>\n",
       "      <td>0.000000</td>\n",
       "      <td>0.000000</td>\n",
       "      <td>0.000000</td>\n",
       "      <td>0.0</td>\n",
       "      <td>0.0</td>\n",
       "      <td>0.000000</td>\n",
       "      <td>0.000000</td>\n",
       "      <td>0.000000</td>\n",
       "      <td>0.000000</td>\n",
       "    </tr>\n",
       "    <tr>\n",
       "      <th>10</th>\n",
       "      <td>2011-01-04</td>\n",
       "      <td>0.059958</td>\n",
       "      <td>0.059488</td>\n",
       "      <td>0.059491</td>\n",
       "      <td>0.050626</td>\n",
       "      <td>0.164317</td>\n",
       "      <td>AAPL</td>\n",
       "      <td>0.25</td>\n",
       "      <td>0.209699</td>\n",
       "      <td>0.213408</td>\n",
       "      <td>...</td>\n",
       "      <td>0.0</td>\n",
       "      <td>0.000000</td>\n",
       "      <td>0.000000</td>\n",
       "      <td>0.000000</td>\n",
       "      <td>0.0</td>\n",
       "      <td>0.0</td>\n",
       "      <td>0.000000</td>\n",
       "      <td>0.000000</td>\n",
       "      <td>0.000000</td>\n",
       "      <td>0.000000</td>\n",
       "    </tr>\n",
       "    <tr>\n",
       "      <th>20</th>\n",
       "      <td>2011-01-05</td>\n",
       "      <td>0.059437</td>\n",
       "      <td>0.059817</td>\n",
       "      <td>0.059735</td>\n",
       "      <td>0.051040</td>\n",
       "      <td>0.135843</td>\n",
       "      <td>AAPL</td>\n",
       "      <td>0.50</td>\n",
       "      <td>0.215383</td>\n",
       "      <td>0.210015</td>\n",
       "      <td>...</td>\n",
       "      <td>0.0</td>\n",
       "      <td>0.000000</td>\n",
       "      <td>0.000000</td>\n",
       "      <td>0.000000</td>\n",
       "      <td>0.0</td>\n",
       "      <td>0.0</td>\n",
       "      <td>0.000000</td>\n",
       "      <td>0.000000</td>\n",
       "      <td>0.000000</td>\n",
       "      <td>0.000000</td>\n",
       "    </tr>\n",
       "    <tr>\n",
       "      <th>30</th>\n",
       "      <td>2011-01-06</td>\n",
       "      <td>0.060369</td>\n",
       "      <td>0.059980</td>\n",
       "      <td>0.060352</td>\n",
       "      <td>0.050999</td>\n",
       "      <td>0.159718</td>\n",
       "      <td>AAPL</td>\n",
       "      <td>0.75</td>\n",
       "      <td>0.203168</td>\n",
       "      <td>0.205452</td>\n",
       "      <td>...</td>\n",
       "      <td>0.0</td>\n",
       "      <td>0.000000</td>\n",
       "      <td>0.000000</td>\n",
       "      <td>0.000000</td>\n",
       "      <td>0.0</td>\n",
       "      <td>0.0</td>\n",
       "      <td>0.000000</td>\n",
       "      <td>0.000000</td>\n",
       "      <td>0.000000</td>\n",
       "      <td>0.000000</td>\n",
       "    </tr>\n",
       "    <tr>\n",
       "      <th>40</th>\n",
       "      <td>2011-01-07</td>\n",
       "      <td>0.060237</td>\n",
       "      <td>0.060177</td>\n",
       "      <td>0.060170</td>\n",
       "      <td>0.051364</td>\n",
       "      <td>0.165833</td>\n",
       "      <td>AAPL</td>\n",
       "      <td>1.00</td>\n",
       "      <td>0.209336</td>\n",
       "      <td>0.211419</td>\n",
       "      <td>...</td>\n",
       "      <td>0.0</td>\n",
       "      <td>0.000000</td>\n",
       "      <td>0.000000</td>\n",
       "      <td>0.000000</td>\n",
       "      <td>0.0</td>\n",
       "      <td>0.0</td>\n",
       "      <td>0.000000</td>\n",
       "      <td>0.000000</td>\n",
       "      <td>0.000000</td>\n",
       "      <td>0.000000</td>\n",
       "    </tr>\n",
       "    <tr>\n",
       "      <th>...</th>\n",
       "      <td>...</td>\n",
       "      <td>...</td>\n",
       "      <td>...</td>\n",
       "      <td>...</td>\n",
       "      <td>...</td>\n",
       "      <td>...</td>\n",
       "      <td>...</td>\n",
       "      <td>...</td>\n",
       "      <td>...</td>\n",
       "      <td>...</td>\n",
       "      <td>...</td>\n",
       "      <td>...</td>\n",
       "      <td>...</td>\n",
       "      <td>...</td>\n",
       "      <td>...</td>\n",
       "      <td>...</td>\n",
       "      <td>...</td>\n",
       "      <td>...</td>\n",
       "      <td>...</td>\n",
       "      <td>...</td>\n",
       "      <td>...</td>\n",
       "    </tr>\n",
       "    <tr>\n",
       "      <th>32659</th>\n",
       "      <td>2023-12-22</td>\n",
       "      <td>0.852725</td>\n",
       "      <td>0.852858</td>\n",
       "      <td>0.861494</td>\n",
       "      <td>0.855590</td>\n",
       "      <td>0.152474</td>\n",
       "      <td>XOM</td>\n",
       "      <td>1.00</td>\n",
       "      <td>0.165921</td>\n",
       "      <td>0.163332</td>\n",
       "      <td>...</td>\n",
       "      <td>0.0</td>\n",
       "      <td>0.253363</td>\n",
       "      <td>0.963788</td>\n",
       "      <td>0.561798</td>\n",
       "      <td>0.0</td>\n",
       "      <td>0.0</td>\n",
       "      <td>0.807644</td>\n",
       "      <td>0.890019</td>\n",
       "      <td>-0.016307</td>\n",
       "      <td>-0.045132</td>\n",
       "    </tr>\n",
       "    <tr>\n",
       "      <th>32669</th>\n",
       "      <td>2023-12-26</td>\n",
       "      <td>0.856309</td>\n",
       "      <td>0.853604</td>\n",
       "      <td>0.864032</td>\n",
       "      <td>0.857521</td>\n",
       "      <td>0.198649</td>\n",
       "      <td>XOM</td>\n",
       "      <td>0.25</td>\n",
       "      <td>0.166526</td>\n",
       "      <td>0.161460</td>\n",
       "      <td>...</td>\n",
       "      <td>0.0</td>\n",
       "      <td>0.253363</td>\n",
       "      <td>0.963788</td>\n",
       "      <td>0.561798</td>\n",
       "      <td>0.0</td>\n",
       "      <td>0.0</td>\n",
       "      <td>0.807644</td>\n",
       "      <td>0.889950</td>\n",
       "      <td>-0.013535</td>\n",
       "      <td>0.042860</td>\n",
       "    </tr>\n",
       "    <tr>\n",
       "      <th>32679</th>\n",
       "      <td>2023-12-27</td>\n",
       "      <td>0.850475</td>\n",
       "      <td>0.849627</td>\n",
       "      <td>0.857433</td>\n",
       "      <td>0.853491</td>\n",
       "      <td>0.171790</td>\n",
       "      <td>XOM</td>\n",
       "      <td>0.50</td>\n",
       "      <td>0.157456</td>\n",
       "      <td>0.152568</td>\n",
       "      <td>...</td>\n",
       "      <td>0.0</td>\n",
       "      <td>0.253363</td>\n",
       "      <td>0.963788</td>\n",
       "      <td>0.561798</td>\n",
       "      <td>0.0</td>\n",
       "      <td>0.0</td>\n",
       "      <td>0.807644</td>\n",
       "      <td>0.890017</td>\n",
       "      <td>0.003982</td>\n",
       "      <td>-0.009066</td>\n",
       "    </tr>\n",
       "    <tr>\n",
       "      <th>32689</th>\n",
       "      <td>2023-12-28</td>\n",
       "      <td>0.845057</td>\n",
       "      <td>0.841839</td>\n",
       "      <td>0.847195</td>\n",
       "      <td>0.841150</td>\n",
       "      <td>0.192681</td>\n",
       "      <td>XOM</td>\n",
       "      <td>0.75</td>\n",
       "      <td>0.150441</td>\n",
       "      <td>0.148005</td>\n",
       "      <td>...</td>\n",
       "      <td>0.0</td>\n",
       "      <td>0.253363</td>\n",
       "      <td>0.963788</td>\n",
       "      <td>0.561798</td>\n",
       "      <td>0.0</td>\n",
       "      <td>0.0</td>\n",
       "      <td>0.807644</td>\n",
       "      <td>0.890248</td>\n",
       "      <td>0.016329</td>\n",
       "      <td>-0.029956</td>\n",
       "    </tr>\n",
       "    <tr>\n",
       "      <th>32699</th>\n",
       "      <td>2023-12-29</td>\n",
       "      <td>0.836556</td>\n",
       "      <td>0.833389</td>\n",
       "      <td>0.842880</td>\n",
       "      <td>0.839387</td>\n",
       "      <td>0.209343</td>\n",
       "      <td>XOM</td>\n",
       "      <td>1.00</td>\n",
       "      <td>0.151772</td>\n",
       "      <td>0.154323</td>\n",
       "      <td>...</td>\n",
       "      <td>0.0</td>\n",
       "      <td>0.253363</td>\n",
       "      <td>0.963788</td>\n",
       "      <td>0.561798</td>\n",
       "      <td>0.0</td>\n",
       "      <td>0.0</td>\n",
       "      <td>0.807644</td>\n",
       "      <td>0.890121</td>\n",
       "      <td>0.007313</td>\n",
       "      <td>0.030161</td>\n",
       "    </tr>\n",
       "  </tbody>\n",
       "</table>\n",
       "<p>32700 rows × 55 columns</p>\n",
       "</div>"
      ],
      "text/plain": [
       "             date      open      high       low     close    volume   tic  \\\n",
       "0      2011-01-03  0.058731  0.059087  0.058891  0.050363  0.236650  AAPL   \n",
       "10     2011-01-04  0.059958  0.059488  0.059491  0.050626  0.164317  AAPL   \n",
       "20     2011-01-05  0.059437  0.059817  0.059735  0.051040  0.135843  AAPL   \n",
       "30     2011-01-06  0.060369  0.059980  0.060352  0.050999  0.159718  AAPL   \n",
       "40     2011-01-07  0.060237  0.060177  0.060170  0.051364  0.165833  AAPL   \n",
       "...           ...       ...       ...       ...       ...       ...   ...   \n",
       "32659  2023-12-22  0.852725  0.852858  0.861494  0.855590  0.152474   XOM   \n",
       "32669  2023-12-26  0.856309  0.853604  0.864032  0.857521  0.198649   XOM   \n",
       "32679  2023-12-27  0.850475  0.849627  0.857433  0.853491  0.171790   XOM   \n",
       "32689  2023-12-28  0.845057  0.841839  0.847195  0.841150  0.192681   XOM   \n",
       "32699  2023-12-29  0.836556  0.833389  0.842880  0.839387  0.209343   XOM   \n",
       "\n",
       "        day  Open_VIX  High_VIX  ...  TTM Sales per Share  \\\n",
       "0      0.00  0.216955  0.210015  ...                  0.0   \n",
       "10     0.25  0.209699  0.213408  ...                  0.0   \n",
       "20     0.50  0.215383  0.210015  ...                  0.0   \n",
       "30     0.75  0.203168  0.205452  ...                  0.0   \n",
       "40     1.00  0.209336  0.211419  ...                  0.0   \n",
       "...     ...       ...       ...  ...                  ...   \n",
       "32659  1.00  0.165921  0.163332  ...                  0.0   \n",
       "32669  0.25  0.166526  0.161460  ...                  0.0   \n",
       "32679  0.50  0.157456  0.152568  ...                  0.0   \n",
       "32689  0.75  0.150441  0.148005  ...                  0.0   \n",
       "32699  1.00  0.151772  0.154323  ...                  0.0   \n",
       "\n",
       "       Price to Sales Ratio    Assets  NetIncomeLoss  \\\n",
       "0                  0.000000  0.000000       0.000000   \n",
       "10                 0.000000  0.000000       0.000000   \n",
       "20                 0.000000  0.000000       0.000000   \n",
       "30                 0.000000  0.000000       0.000000   \n",
       "40                 0.000000  0.000000       0.000000   \n",
       "...                     ...       ...            ...   \n",
       "32659              0.253363  0.963788       0.561798   \n",
       "32669              0.253363  0.963788       0.561798   \n",
       "32679              0.253363  0.963788       0.561798   \n",
       "32689              0.253363  0.963788       0.561798   \n",
       "32699              0.253363  0.963788       0.561798   \n",
       "\n",
       "       TTM Net Income (Billions)  Shareholder's Equity (Billion)  \\\n",
       "0                            0.0                             0.0   \n",
       "10                           0.0                             0.0   \n",
       "20                           0.0                             0.0   \n",
       "30                           0.0                             0.0   \n",
       "40                           0.0                             0.0   \n",
       "...                          ...                             ...   \n",
       "32659                        0.0                             0.0   \n",
       "32669                        0.0                             0.0   \n",
       "32679                        0.0                             0.0   \n",
       "32689                        0.0                             0.0   \n",
       "32699                        0.0                             0.0   \n",
       "\n",
       "       Return on Equity(%)  vmd_mode_0  vmd_mode_1  vmd_mode_2  \n",
       "0                 0.000000    0.000000    0.000000    0.000000  \n",
       "10                0.000000    0.000000    0.000000    0.000000  \n",
       "20                0.000000    0.000000    0.000000    0.000000  \n",
       "30                0.000000    0.000000    0.000000    0.000000  \n",
       "40                0.000000    0.000000    0.000000    0.000000  \n",
       "...                    ...         ...         ...         ...  \n",
       "32659             0.807644    0.890019   -0.016307   -0.045132  \n",
       "32669             0.807644    0.889950   -0.013535    0.042860  \n",
       "32679             0.807644    0.890017    0.003982   -0.009066  \n",
       "32689             0.807644    0.890248    0.016329   -0.029956  \n",
       "32699             0.807644    0.890121    0.007313    0.030161  \n",
       "\n",
       "[32700 rows x 55 columns]"
      ]
     },
     "execution_count": 15,
     "metadata": {},
     "output_type": "execute_result"
    }
   ],
   "source": [
    "portfolio_norm_df = GroupByScaler(by=\"tic\", scaler=MaxAbsScaler).fit_transform(df_portfolio_final)\n",
    "portfolio_norm_df"
   ]
  },
  {
   "cell_type": "code",
   "execution_count": 35,
   "metadata": {},
   "outputs": [],
   "source": [
    "df_portfolio = portfolio_norm_df[[\"date\", \n",
    "                                  \"tic\", \n",
    "                                  \"close\",\n",
    "                                  \"vmd_mode_0\",\n",
    "                                  \"vmd_mode_1\",\n",
    "                                  \"vmd_mode_2\",\n",
    "                                  \"high\", \n",
    "                                  \"low\",\n",
    "                                  'High_VIX',\n",
    "                                  'Low_VIX',\n",
    "                                  'Close_VIX',\n",
    "                                  'High_SPY',\n",
    "                                  'Low_SPY',\n",
    "                                  'Close_SPY',\n",
    "                                  'Volume_SPY',\n",
    "                                  'Fear Greed', \n",
    "                                  'ratingScore',\n",
    "                                  'ratingDetailsDCFScore',\n",
    "                                  'ratingDetailsROEScore',\n",
    "                                  'ratingDetailsROAScore',\n",
    "                                  'ratingDetailsPEScore',\n",
    "                                  'ratingDetailsPBScore',\n",
    "                                  'expenses',\n",
    "                                  'GDP', \n",
    "                                  'exports', \n",
    "                                  'imports',\n",
    "                                  'pound_dollar_exchange_rate', \n",
    "                                  'unemployment',\n",
    "                                  'ics',\n",
    "                                  'TTM Revenue(Billion)',\n",
    "                                  'TTM EBITDA(Billion)',\n",
    "                                  'EBITDA Margin',\n",
    "                                  'Price to Book Ratio',\n",
    "                                  'PE Ratio',\n",
    "                                  'Price to Sales Ratio',\n",
    "                                  'Assets',\n",
    "                                  'NetIncomeLoss',\n",
    "                                  'Return on Equity(%)']]"
   ]
  },
  {
   "cell_type": "code",
   "execution_count": 26,
   "metadata": {},
   "outputs": [],
   "source": [
    "# df_portfolio_train = df_portfolio[(df_portfolio[\"date\"] >= START_DATE) & (df_portfolio[\"date\"] < \"2020-12-31\")]\n",
    "# df_portfolio_test = df_portfolio[(df_portfolio[\"date\"] >= \"2021-01-01\") & (df_portfolio[\"date\"] < \"2022-12-31\")]\n",
    "\n",
    "\n",
    "df_portfolio = pd.read_parquet('datasets/df_portfolio_train.parquet')\n",
    "df_portfolio_test = pd.read_parquet('datasets/df_portfolio_test.parquet')\n",
    "\n",
    "df_portfolio_train = df_portfolio[df_portfolio['date'] <= \"2020-12-31\"]\n",
    "df_portfolio_vali = df_portfolio[df_portfolio['date'] >= \"2021-01-01\"]"
   ]
  },
  {
   "cell_type": "markdown",
   "metadata": {},
   "source": [
    "# Feature Selection and DRL Model Parameters"
   ]
  },
  {
   "cell_type": "code",
   "execution_count": 36,
   "metadata": {},
   "outputs": [],
   "source": [
    "import pandas as pd\n",
    "from itertools import product\n",
    "import numpy as np  # for NaN\n",
    "import torch\n",
    "\n",
    "FEATURE_NAMES = [\"close\",\n",
    "               \"vmd_mode_0\",\n",
    "                \"vmd_mode_1\",\n",
    "                \"vmd_mode_2\",\n",
    "                  #\"high\", \n",
    "                  #\"low\",\n",
    "                'High_VIX',\n",
    "                'Low_VIX',\n",
    "                  #'Close_VIX',\n",
    "                'High_SPY',\n",
    "                'Low_SPY',\n",
    "                'Close_SPY',\n",
    "                  #'Volume_SPY',\n",
    "                'Fear Greed', \n",
    "                'ratingScore',\n",
    "                  #'ratingDetailsDCFScore',\n",
    "                'ratingDetailsROEScore',\n",
    "                  #'ratingDetailsROAScore',\n",
    "                  #'ratingDetailsPEScore',\n",
    "                  #'ratingDetailsPBScore',\n",
    "                  #'expenses',\n",
    "                  #'GDP', \n",
    "                'exports', \n",
    "                  #'imports',\n",
    "                'pound_dollar_exchange_rate', \n",
    "                'unemployment',\n",
    "                'ics',\n",
    "                'TTM Revenue(Billion)',\n",
    "                  #'TTM EBITDA(Billion)',\n",
    "                  #'EBITDA Margin',\n",
    "                'Price to Book Ratio',\n",
    "                  #'PE Ratio',\n",
    "                'Price to Sales Ratio',\n",
    "                  #'Assets',\n",
    "                  #'NetIncomeLoss',\n",
    "                'Return on Equity(%)']\n",
    "\n",
    "COMISSION_FEE = 0.001\n",
    "\n",
    "# Define hyperparameter ranges\n",
    "time_windows = [30, 60]\n",
    "k_sizes = [3, 4]\n",
    "conv_mids = [5, 20]\n",
    "conv_finals = [5, 10, 20]\n",
    "lr = [0.02]\n",
    "\n",
    "# Function to calculate the final accumulative portfolio value\n",
    "def calculate_cumulative_value(portfolio_values):\n",
    "    initial_value = portfolio_values[0]\n",
    "    final_value = portfolio_values[-1]\n",
    "    return final_value / initial_value\n",
    "\n",
    "# Function to calculate the maximum drawdown\n",
    "def calculate_max_drawdown(portfolio_values):\n",
    "    portfolio_values = np.array(portfolio_values)\n",
    "    running_max = np.maximum.accumulate(portfolio_values)\n",
    "    drawdowns = (portfolio_values - running_max) / running_max\n",
    "    max_drawdown = drawdowns.min()\n",
    "    \n",
    "    return max_drawdown\n",
    "\n",
    "# Function to calculate the Sharpe ratio\n",
    "def calculate_sharpe_ratio(portfolio_values, risk_free_rate=0):\n",
    "    returns = np.diff(portfolio_values) / portfolio_values[:-1]\n",
    "    excess_returns = returns - risk_free_rate\n",
    "    sharpe_ratio = np.mean(excess_returns) / np.std(excess_returns)\n",
    "    sharpe_ratio_annualized = sharpe_ratio * np.sqrt(252)\n",
    "    \n",
    "    return sharpe_ratio_annualized\n",
    "\n",
    "\n",
    "# Define a function to calculate the metrics (this is just a placeholder; replace with actual functions)\n",
    "def calculate_metrics(environment):\n",
    "    final_portfolio_value = environment._asset_memory[\"final\"][-1]\n",
    "    max_drawdown = calculate_max_drawdown(environment._asset_memory[\"final\"])\n",
    "    sharpe_ratio = calculate_sharpe_ratio(environment._asset_memory[\"final\"])\n",
    "    cumulative_value = calculate_cumulative_value(environment._asset_memory[\"final\"])\n",
    "    return final_portfolio_value, max_drawdown, sharpe_ratio, cumulative_value\n",
    "\n",
    "# DataFrame to store results\n",
    "columns = [\"TIME_WINDOW\", \"K_SIZE\", \"CONV_MID\", \"CONV_FINAL\",\"LEARNING_RATE\", \n",
    "        'train_portfolio_value', 'train_drawdown', 'train_sharpe', 'train_cumulative',\n",
    "        'test_portfolio_value', 'test_drawdown', 'test_sharpe', 'test_cumulative']\n",
    "\n",
    "results_df = pd.DataFrame(columns=columns)\n"
   ]
  },
  {
   "cell_type": "code",
   "execution_count": 37,
   "metadata": {},
   "outputs": [
    {
     "name": "stdout",
     "output_type": "stream",
     "text": [
      "Training model with TIME_WINDOW=30, K_SIZE=3, CONV_MID=5, CONV_FINAL=5, LEARNING_RATE=0.02\n"
     ]
    },
    {
     "name": "stderr",
     "output_type": "stream",
     "text": [
      "  0%|          | 0/10 [00:00<?, ?it/s]"
     ]
    },
    {
     "name": "stdout",
     "output_type": "stream",
     "text": [
      "=================================\n",
      "Initial portfolio value:100000\n",
      "Final portfolio value: 230417.75\n",
      "Final accumulative portfolio value: 2.3041775\n",
      "Maximum DrawDown: -0.33658886697202484\n",
      "Sharpe ratio: 0.7651881152589742\n",
      "=================================\n"
     ]
    },
    {
     "name": "stderr",
     "output_type": "stream",
     "text": [
      " 10%|█         | 1/10 [00:29<04:29, 29.97s/it]"
     ]
    },
    {
     "name": "stdout",
     "output_type": "stream",
     "text": [
      "=================================\n",
      "Initial portfolio value:100000\n",
      "Final portfolio value: 236295.296875\n",
      "Final accumulative portfolio value: 2.36295296875\n",
      "Maximum DrawDown: -0.33965957813599523\n",
      "Sharpe ratio: 0.7805589006257778\n",
      "=================================\n"
     ]
    },
    {
     "name": "stderr",
     "output_type": "stream",
     "text": [
      " 20%|██        | 2/10 [01:00<04:01, 30.15s/it]"
     ]
    },
    {
     "name": "stdout",
     "output_type": "stream",
     "text": [
      "=================================\n",
      "Initial portfolio value:100000\n",
      "Final portfolio value: 237763.4375\n",
      "Final accumulative portfolio value: 2.377634375\n",
      "Maximum DrawDown: -0.34183028630903267\n",
      "Sharpe ratio: 0.7808100910962684\n",
      "=================================\n"
     ]
    },
    {
     "name": "stderr",
     "output_type": "stream",
     "text": [
      " 30%|███       | 3/10 [01:32<03:38, 31.25s/it]"
     ]
    },
    {
     "name": "stdout",
     "output_type": "stream",
     "text": [
      "=================================\n",
      "Initial portfolio value:100000\n",
      "Final portfolio value: 238859.1875\n",
      "Final accumulative portfolio value: 2.388591875\n",
      "Maximum DrawDown: -0.34347899790238967\n",
      "Sharpe ratio: 0.7809630242102069\n",
      "=================================\n"
     ]
    },
    {
     "name": "stderr",
     "output_type": "stream",
     "text": [
      " 40%|████      | 4/10 [02:08<03:18, 33.04s/it]"
     ]
    },
    {
     "name": "stdout",
     "output_type": "stream",
     "text": [
      "=================================\n",
      "Initial portfolio value:100000\n",
      "Final portfolio value: 239711.3125\n",
      "Final accumulative portfolio value: 2.397113125\n",
      "Maximum DrawDown: -0.3447617320299434\n",
      "Sharpe ratio: 0.7810799192221982\n",
      "=================================\n"
     ]
    },
    {
     "name": "stderr",
     "output_type": "stream",
     "text": [
      " 50%|█████     | 5/10 [02:41<02:44, 32.91s/it]"
     ]
    },
    {
     "name": "stdout",
     "output_type": "stream",
     "text": [
      "=================================\n",
      "Initial portfolio value:100000\n",
      "Final portfolio value: 240376.546875\n",
      "Final accumulative portfolio value: 2.40376546875\n",
      "Maximum DrawDown: -0.34578067961175374\n",
      "Sharpe ratio: 0.7811368498562312\n",
      "=================================\n"
     ]
    },
    {
     "name": "stderr",
     "output_type": "stream",
     "text": [
      " 60%|██████    | 6/10 [03:13<02:10, 32.75s/it]"
     ]
    },
    {
     "name": "stdout",
     "output_type": "stream",
     "text": [
      "=================================\n",
      "Initial portfolio value:100000\n",
      "Final portfolio value: 240918.9375\n",
      "Final accumulative portfolio value: 2.409189375\n",
      "Maximum DrawDown: -0.3466017867805228\n",
      "Sharpe ratio: 0.7812040091099874\n",
      "=================================\n"
     ]
    },
    {
     "name": "stderr",
     "output_type": "stream",
     "text": [
      " 70%|███████   | 7/10 [03:45<01:37, 32.54s/it]"
     ]
    },
    {
     "name": "stdout",
     "output_type": "stream",
     "text": [
      "=================================\n",
      "Initial portfolio value:100000\n",
      "Final portfolio value: 241357.765625\n",
      "Final accumulative portfolio value: 2.41357765625\n",
      "Maximum DrawDown: -0.34727380391651896\n",
      "Sharpe ratio: 0.7812402532980294\n",
      "=================================\n"
     ]
    },
    {
     "name": "stderr",
     "output_type": "stream",
     "text": [
      " 80%|████████  | 8/10 [04:18<01:04, 32.46s/it]"
     ]
    },
    {
     "name": "stdout",
     "output_type": "stream",
     "text": [
      "=================================\n",
      "Initial portfolio value:100000\n",
      "Final portfolio value: 241734.9375\n",
      "Final accumulative portfolio value: 2.417349375\n",
      "Maximum DrawDown: -0.3478299301189862\n",
      "Sharpe ratio: 0.7813146666726998\n",
      "=================================\n"
     ]
    },
    {
     "name": "stderr",
     "output_type": "stream",
     "text": [
      " 90%|█████████ | 9/10 [04:50<00:32, 32.41s/it]"
     ]
    },
    {
     "name": "stdout",
     "output_type": "stream",
     "text": [
      "=================================\n",
      "Initial portfolio value:100000\n",
      "Final portfolio value: 242025.875\n",
      "Final accumulative portfolio value: 2.42025875\n",
      "Maximum DrawDown: -0.3483007794788492\n",
      "Sharpe ratio: 0.7812968097740068\n",
      "=================================\n"
     ]
    },
    {
     "name": "stderr",
     "output_type": "stream",
     "text": [
      "100%|██████████| 10/10 [05:22<00:00, 32.29s/it]\n",
      "C:\\Users\\xutia\\AppData\\Local\\Temp\\ipykernel_52124\\1506485762.py:43: FutureWarning: You are using `torch.load` with `weights_only=False` (the current default value), which uses the default pickle module implicitly. It is possible to construct malicious pickle data which will execute arbitrary code during unpickling (See https://github.com/pytorch/pytorch/blob/main/SECURITY.md#untrusted-models for more details). In a future release, the default value for `weights_only` will be flipped to `True`. This limits the functions that could be executed during unpickling. Arbitrary objects will no longer be allowed to be loaded via this mode unless they are explicitly allowlisted by the user via `torch.serialization.add_safe_globals`. We recommend you start setting `weights_only=True` for any use case where you don't have full control of the loaded file. Please open an issue on GitHub for any issues related to this experimental feature.\n",
      "  EIIE_policy.load_state_dict(torch.load(model_filename))\n"
     ]
    },
    {
     "name": "stdout",
     "output_type": "stream",
     "text": [
      "=================================\n",
      "Initial portfolio value:100000\n",
      "Final portfolio value: 242710.15625\n",
      "Final accumulative portfolio value: 2.4271015625\n",
      "Maximum DrawDown: -0.3499371349311573\n",
      "Sharpe ratio: 0.7807576573889072\n",
      "=================================\n",
      "=================================\n",
      "Initial portfolio value:100000\n",
      "Final portfolio value: 129690.7578125\n",
      "Final accumulative portfolio value: 1.296907578125\n",
      "Maximum DrawDown: -0.15781995273535387\n",
      "Sharpe ratio: 0.8882500665668617\n",
      "=================================\n"
     ]
    },
    {
     "name": "stderr",
     "output_type": "stream",
     "text": [
      "C:\\Users\\xutia\\AppData\\Local\\Temp\\ipykernel_52124\\1506485762.py:72: FutureWarning: The behavior of DataFrame concatenation with empty or all-NA entries is deprecated. In a future version, this will no longer exclude empty or all-NA columns when determining the result dtypes. To retain the old behavior, exclude the relevant entries before the concat operation.\n",
      "  results_df = pd.concat([results_df, temp_df], ignore_index=True)\n"
     ]
    },
    {
     "name": "stdout",
     "output_type": "stream",
     "text": [
      "Training model with TIME_WINDOW=30, K_SIZE=3, CONV_MID=5, CONV_FINAL=10, LEARNING_RATE=0.02\n"
     ]
    },
    {
     "name": "stderr",
     "output_type": "stream",
     "text": [
      "  0%|          | 0/10 [00:00<?, ?it/s]"
     ]
    },
    {
     "name": "stdout",
     "output_type": "stream",
     "text": [
      "=================================\n",
      "Initial portfolio value:100000\n",
      "Final portfolio value: 208407.921875\n",
      "Final accumulative portfolio value: 2.08407921875\n",
      "Maximum DrawDown: -0.32475440776493003\n",
      "Sharpe ratio: 0.7218077326138239\n",
      "=================================\n"
     ]
    },
    {
     "name": "stderr",
     "output_type": "stream",
     "text": [
      " 10%|█         | 1/10 [00:33<04:57, 33.11s/it]"
     ]
    },
    {
     "name": "stdout",
     "output_type": "stream",
     "text": [
      "=================================\n",
      "Initial portfolio value:100000\n",
      "Final portfolio value: 230393.09375\n",
      "Final accumulative portfolio value: 2.3039309375\n",
      "Maximum DrawDown: -0.33060966784054324\n",
      "Sharpe ratio: 0.7796421083042099\n",
      "=================================\n"
     ]
    },
    {
     "name": "stderr",
     "output_type": "stream",
     "text": [
      " 20%|██        | 2/10 [01:06<04:23, 33.00s/it]"
     ]
    },
    {
     "name": "stdout",
     "output_type": "stream",
     "text": [
      "=================================\n",
      "Initial portfolio value:100000\n",
      "Final portfolio value: 233408.453125\n",
      "Final accumulative portfolio value: 2.33408453125\n",
      "Maximum DrawDown: -0.3355250105181832\n",
      "Sharpe ratio: 0.7798801141965359\n",
      "=================================\n"
     ]
    },
    {
     "name": "stderr",
     "output_type": "stream",
     "text": [
      " 30%|███       | 3/10 [01:38<03:49, 32.84s/it]"
     ]
    },
    {
     "name": "stdout",
     "output_type": "stream",
     "text": [
      "=================================\n",
      "Initial portfolio value:100000\n",
      "Final portfolio value: 236188.5\n",
      "Final accumulative portfolio value: 2.361885\n",
      "Maximum DrawDown: -0.3400754814070537\n",
      "Sharpe ratio: 0.7800093575834256\n",
      "=================================\n"
     ]
    },
    {
     "name": "stderr",
     "output_type": "stream",
     "text": [
      " 40%|████      | 4/10 [02:10<03:15, 32.57s/it]"
     ]
    },
    {
     "name": "stdout",
     "output_type": "stream",
     "text": [
      "=================================\n",
      "Initial portfolio value:100000\n",
      "Final portfolio value: 238675.140625\n",
      "Final accumulative portfolio value: 2.38675140625\n",
      "Maximum DrawDown: -0.3439169618142547\n",
      "Sharpe ratio: 0.7803102008760403\n",
      "=================================\n"
     ]
    },
    {
     "name": "stderr",
     "output_type": "stream",
     "text": [
      " 50%|█████     | 5/10 [02:43<02:42, 32.56s/it]"
     ]
    },
    {
     "name": "stdout",
     "output_type": "stream",
     "text": [
      "=================================\n",
      "Initial portfolio value:100000\n",
      "Final portfolio value: 240615.4375\n",
      "Final accumulative portfolio value: 2.406154375\n",
      "Maximum DrawDown: -0.3467396324508428\n",
      "Sharpe ratio: 0.780658844237828\n",
      "=================================\n"
     ]
    },
    {
     "name": "stderr",
     "output_type": "stream",
     "text": [
      " 60%|██████    | 6/10 [03:16<02:10, 32.64s/it]"
     ]
    },
    {
     "name": "stdout",
     "output_type": "stream",
     "text": [
      "=================================\n",
      "Initial portfolio value:100000\n",
      "Final portfolio value: 241950.40625\n",
      "Final accumulative portfolio value: 2.4195040625\n",
      "Maximum DrawDown: -0.3486094508770591\n",
      "Sharpe ratio: 0.7809300469104904\n",
      "=================================\n"
     ]
    },
    {
     "name": "stderr",
     "output_type": "stream",
     "text": [
      " 70%|███████   | 7/10 [03:48<01:37, 32.54s/it]"
     ]
    },
    {
     "name": "stdout",
     "output_type": "stream",
     "text": [
      "=================================\n",
      "Initial portfolio value:100000\n",
      "Final portfolio value: 242809.875\n",
      "Final accumulative portfolio value: 2.42809875\n",
      "Maximum DrawDown: -0.34979552658519364\n",
      "Sharpe ratio: 0.7811145385695354\n",
      "=================================\n"
     ]
    },
    {
     "name": "stderr",
     "output_type": "stream",
     "text": [
      " 80%|████████  | 8/10 [04:20<01:05, 32.52s/it]"
     ]
    },
    {
     "name": "stdout",
     "output_type": "stream",
     "text": [
      "=================================\n",
      "Initial portfolio value:100000\n",
      "Final portfolio value: 243364.171875\n",
      "Final accumulative portfolio value: 2.43364171875\n",
      "Maximum DrawDown: -0.3505475101096701\n",
      "Sharpe ratio: 0.7812543590793741\n",
      "=================================\n"
     ]
    },
    {
     "name": "stderr",
     "output_type": "stream",
     "text": [
      " 90%|█████████ | 9/10 [04:53<00:32, 32.55s/it]"
     ]
    },
    {
     "name": "stdout",
     "output_type": "stream",
     "text": [
      "=================================\n",
      "Initial portfolio value:100000\n",
      "Final portfolio value: 243714.4375\n",
      "Final accumulative portfolio value: 2.437144375\n",
      "Maximum DrawDown: -0.3510423117827498\n",
      "Sharpe ratio: 0.7813129162288319\n",
      "=================================\n"
     ]
    },
    {
     "name": "stderr",
     "output_type": "stream",
     "text": [
      "100%|██████████| 10/10 [05:26<00:00, 32.65s/it]\n",
      "C:\\Users\\xutia\\AppData\\Local\\Temp\\ipykernel_52124\\1506485762.py:43: FutureWarning: You are using `torch.load` with `weights_only=False` (the current default value), which uses the default pickle module implicitly. It is possible to construct malicious pickle data which will execute arbitrary code during unpickling (See https://github.com/pytorch/pytorch/blob/main/SECURITY.md#untrusted-models for more details). In a future release, the default value for `weights_only` will be flipped to `True`. This limits the functions that could be executed during unpickling. Arbitrary objects will no longer be allowed to be loaded via this mode unless they are explicitly allowlisted by the user via `torch.serialization.add_safe_globals`. We recommend you start setting `weights_only=True` for any use case where you don't have full control of the loaded file. Please open an issue on GitHub for any issues related to this experimental feature.\n",
      "  EIIE_policy.load_state_dict(torch.load(model_filename))\n"
     ]
    },
    {
     "name": "stdout",
     "output_type": "stream",
     "text": [
      "=================================\n",
      "Initial portfolio value:100000\n",
      "Final portfolio value: 244373.71875\n",
      "Final accumulative portfolio value: 2.4437371875\n",
      "Maximum DrawDown: -0.3523114521535472\n",
      "Sharpe ratio: 0.7810897521359154\n",
      "=================================\n",
      "=================================\n",
      "Initial portfolio value:100000\n",
      "Final portfolio value: 129973.921875\n",
      "Final accumulative portfolio value: 1.29973921875\n",
      "Maximum DrawDown: -0.15915948962493387\n",
      "Sharpe ratio: 0.888653366350651\n",
      "=================================\n",
      "Training model with TIME_WINDOW=30, K_SIZE=3, CONV_MID=5, CONV_FINAL=20, LEARNING_RATE=0.02\n"
     ]
    },
    {
     "name": "stderr",
     "output_type": "stream",
     "text": [
      "  0%|          | 0/10 [00:00<?, ?it/s]"
     ]
    },
    {
     "name": "stdout",
     "output_type": "stream",
     "text": [
      "=================================\n",
      "Initial portfolio value:100000\n",
      "Final portfolio value: 289593.59375\n",
      "Final accumulative portfolio value: 2.8959359375\n",
      "Maximum DrawDown: -0.2837470713053083\n",
      "Sharpe ratio: 0.8995333814249229\n",
      "=================================\n"
     ]
    },
    {
     "name": "stderr",
     "output_type": "stream",
     "text": [
      " 10%|█         | 1/10 [00:32<04:56, 32.99s/it]"
     ]
    },
    {
     "name": "stdout",
     "output_type": "stream",
     "text": [
      "=================================\n",
      "Initial portfolio value:100000\n",
      "Final portfolio value: 569210.375\n",
      "Final accumulative portfolio value: 5.69210375\n",
      "Maximum DrawDown: -0.28039340645701116\n",
      "Sharpe ratio: 1.1506803588463226\n",
      "=================================\n"
     ]
    },
    {
     "name": "stderr",
     "output_type": "stream",
     "text": [
      " 20%|██        | 2/10 [01:05<04:23, 32.90s/it]"
     ]
    },
    {
     "name": "stdout",
     "output_type": "stream",
     "text": [
      "=================================\n",
      "Initial portfolio value:100000\n",
      "Final portfolio value: 754430.5\n",
      "Final accumulative portfolio value: 7.544305\n",
      "Maximum DrawDown: -0.28039311582028537\n",
      "Sharpe ratio: 1.3040694656999219\n",
      "=================================\n"
     ]
    },
    {
     "name": "stderr",
     "output_type": "stream",
     "text": [
      " 30%|███       | 3/10 [01:38<03:49, 32.75s/it]"
     ]
    },
    {
     "name": "stdout",
     "output_type": "stream",
     "text": [
      "=================================\n",
      "Initial portfolio value:100000\n",
      "Final portfolio value: 561953.75\n",
      "Final accumulative portfolio value: 5.6195375\n",
      "Maximum DrawDown: -0.28039304151364886\n",
      "Sharpe ratio: 1.1398072404076558\n",
      "=================================\n"
     ]
    },
    {
     "name": "stderr",
     "output_type": "stream",
     "text": [
      " 40%|████      | 4/10 [02:10<03:15, 32.54s/it]"
     ]
    },
    {
     "name": "stdout",
     "output_type": "stream",
     "text": [
      "=================================\n",
      "Initial portfolio value:100000\n",
      "Final portfolio value: 695473.25\n",
      "Final accumulative portfolio value: 6.9547325\n",
      "Maximum DrawDown: -0.2803930707184056\n",
      "Sharpe ratio: 1.2480038936975912\n",
      "=================================\n"
     ]
    },
    {
     "name": "stderr",
     "output_type": "stream",
     "text": [
      " 50%|█████     | 5/10 [02:42<02:42, 32.46s/it]"
     ]
    },
    {
     "name": "stdout",
     "output_type": "stream",
     "text": [
      "=================================\n",
      "Initial portfolio value:100000\n",
      "Final portfolio value: 738245.4375\n",
      "Final accumulative portfolio value: 7.382454375\n",
      "Maximum DrawDown: -0.28039329195169094\n",
      "Sharpe ratio: 1.294177837060131\n",
      "=================================\n"
     ]
    },
    {
     "name": "stderr",
     "output_type": "stream",
     "text": [
      " 60%|██████    | 6/10 [03:15<02:09, 32.47s/it]"
     ]
    },
    {
     "name": "stdout",
     "output_type": "stream",
     "text": [
      "=================================\n",
      "Initial portfolio value:100000\n",
      "Final portfolio value: 824108.6875\n",
      "Final accumulative portfolio value: 8.241086875\n",
      "Maximum DrawDown: -0.2803931024477154\n",
      "Sharpe ratio: 1.3650557044301952\n",
      "=================================\n"
     ]
    },
    {
     "name": "stderr",
     "output_type": "stream",
     "text": [
      " 70%|███████   | 7/10 [03:48<01:37, 32.55s/it]"
     ]
    },
    {
     "name": "stdout",
     "output_type": "stream",
     "text": [
      "=================================\n",
      "Initial portfolio value:100000\n",
      "Final portfolio value: 938928.4375\n",
      "Final accumulative portfolio value: 9.389284375\n",
      "Maximum DrawDown: -0.28039293647706287\n",
      "Sharpe ratio: 1.396684664850861\n",
      "=================================\n"
     ]
    },
    {
     "name": "stderr",
     "output_type": "stream",
     "text": [
      " 80%|████████  | 8/10 [04:20<01:05, 32.61s/it]"
     ]
    },
    {
     "name": "stdout",
     "output_type": "stream",
     "text": [
      "=================================\n",
      "Initial portfolio value:100000\n",
      "Final portfolio value: 899997.25\n",
      "Final accumulative portfolio value: 8.9999725\n",
      "Maximum DrawDown: -0.2803929982492397\n",
      "Sharpe ratio: 1.3683741410072991\n",
      "=================================\n"
     ]
    },
    {
     "name": "stderr",
     "output_type": "stream",
     "text": [
      " 90%|█████████ | 9/10 [04:53<00:32, 32.66s/it]"
     ]
    },
    {
     "name": "stdout",
     "output_type": "stream",
     "text": [
      "=================================\n",
      "Initial portfolio value:100000\n",
      "Final portfolio value: 926389.6875\n",
      "Final accumulative portfolio value: 9.263896875\n",
      "Maximum DrawDown: -0.2803929287168728\n",
      "Sharpe ratio: 1.3733709209940037\n",
      "=================================\n"
     ]
    },
    {
     "name": "stderr",
     "output_type": "stream",
     "text": [
      "100%|██████████| 10/10 [05:26<00:00, 32.62s/it]\n",
      "C:\\Users\\xutia\\AppData\\Local\\Temp\\ipykernel_52124\\1506485762.py:43: FutureWarning: You are using `torch.load` with `weights_only=False` (the current default value), which uses the default pickle module implicitly. It is possible to construct malicious pickle data which will execute arbitrary code during unpickling (See https://github.com/pytorch/pytorch/blob/main/SECURITY.md#untrusted-models for more details). In a future release, the default value for `weights_only` will be flipped to `True`. This limits the functions that could be executed during unpickling. Arbitrary objects will no longer be allowed to be loaded via this mode unless they are explicitly allowlisted by the user via `torch.serialization.add_safe_globals`. We recommend you start setting `weights_only=True` for any use case where you don't have full control of the loaded file. Please open an issue on GitHub for any issues related to this experimental feature.\n",
      "  EIIE_policy.load_state_dict(torch.load(model_filename))\n"
     ]
    },
    {
     "name": "stdout",
     "output_type": "stream",
     "text": [
      "=================================\n",
      "Initial portfolio value:100000\n",
      "Final portfolio value: 482924.1875\n",
      "Final accumulative portfolio value: 4.829241875\n",
      "Maximum DrawDown: -0.2802161319702422\n",
      "Sharpe ratio: 1.0923447086784779\n",
      "=================================\n",
      "=================================\n",
      "Initial portfolio value:100000\n",
      "Final portfolio value: 73052.421875\n",
      "Final accumulative portfolio value: 0.73052421875\n",
      "Maximum DrawDown: -0.5062948552055778\n",
      "Sharpe ratio: -0.5225523950786629\n",
      "=================================\n",
      "Training model with TIME_WINDOW=30, K_SIZE=3, CONV_MID=20, CONV_FINAL=5, LEARNING_RATE=0.02\n"
     ]
    },
    {
     "name": "stderr",
     "output_type": "stream",
     "text": [
      "  0%|          | 0/10 [00:00<?, ?it/s]"
     ]
    },
    {
     "name": "stdout",
     "output_type": "stream",
     "text": [
      "=================================\n",
      "Initial portfolio value:100000\n",
      "Final portfolio value: 225400.09375\n",
      "Final accumulative portfolio value: 2.2540009375\n",
      "Maximum DrawDown: -0.3229054402275555\n",
      "Sharpe ratio: 0.7784878698290242\n",
      "=================================\n"
     ]
    },
    {
     "name": "stderr",
     "output_type": "stream",
     "text": [
      " 10%|█         | 1/10 [00:32<04:56, 32.92s/it]"
     ]
    },
    {
     "name": "stdout",
     "output_type": "stream",
     "text": [
      "=================================\n",
      "Initial portfolio value:100000\n",
      "Final portfolio value: 229240.3125\n",
      "Final accumulative portfolio value: 2.292403125\n",
      "Maximum DrawDown: -0.32861692145800403\n",
      "Sharpe ratio: 0.7796270990253958\n",
      "=================================\n"
     ]
    },
    {
     "name": "stderr",
     "output_type": "stream",
     "text": [
      " 20%|██        | 2/10 [01:05<04:21, 32.69s/it]"
     ]
    },
    {
     "name": "stdout",
     "output_type": "stream",
     "text": [
      "=================================\n",
      "Initial portfolio value:100000\n",
      "Final portfolio value: 232028.796875\n",
      "Final accumulative portfolio value: 2.32028796875\n",
      "Maximum DrawDown: -0.3328747687310094\n",
      "Sharpe ratio: 0.7801564516896338\n",
      "=================================\n"
     ]
    },
    {
     "name": "stderr",
     "output_type": "stream",
     "text": [
      " 30%|███       | 3/10 [01:38<03:48, 32.70s/it]"
     ]
    },
    {
     "name": "stdout",
     "output_type": "stream",
     "text": [
      "=================================\n",
      "Initial portfolio value:100000\n",
      "Final portfolio value: 234115.5625\n",
      "Final accumulative portfolio value: 2.341155625\n",
      "Maximum DrawDown: -0.3360760876718585\n",
      "Sharpe ratio: 0.7804639501143686\n",
      "=================================\n"
     ]
    },
    {
     "name": "stderr",
     "output_type": "stream",
     "text": [
      " 40%|████      | 4/10 [02:11<03:16, 32.78s/it]"
     ]
    },
    {
     "name": "stdout",
     "output_type": "stream",
     "text": [
      "=================================\n",
      "Initial portfolio value:100000\n",
      "Final portfolio value: 235722.015625\n",
      "Final accumulative portfolio value: 2.35722015625\n",
      "Maximum DrawDown: -0.3385283701250795\n",
      "Sharpe ratio: 0.7807009823089037\n",
      "=================================\n"
     ]
    },
    {
     "name": "stderr",
     "output_type": "stream",
     "text": [
      " 50%|█████     | 5/10 [02:43<02:43, 32.72s/it]"
     ]
    },
    {
     "name": "stdout",
     "output_type": "stream",
     "text": [
      "=================================\n",
      "Initial portfolio value:100000\n",
      "Final portfolio value: 236975.5\n",
      "Final accumulative portfolio value: 2.369755\n",
      "Maximum DrawDown: -0.3404501299732996\n",
      "Sharpe ratio: 0.7808593547253022\n",
      "=================================\n"
     ]
    },
    {
     "name": "stderr",
     "output_type": "stream",
     "text": [
      " 60%|██████    | 6/10 [03:16<02:11, 32.83s/it]"
     ]
    },
    {
     "name": "stdout",
     "output_type": "stream",
     "text": [
      "=================================\n",
      "Initial portfolio value:100000\n",
      "Final portfolio value: 237961.40625\n",
      "Final accumulative portfolio value: 2.3796140625\n",
      "Maximum DrawDown: -0.3419854774304232\n",
      "Sharpe ratio: 0.7809334560979964\n",
      "=================================\n"
     ]
    },
    {
     "name": "stderr",
     "output_type": "stream",
     "text": [
      " 70%|███████   | 7/10 [03:49<01:38, 32.78s/it]"
     ]
    },
    {
     "name": "stdout",
     "output_type": "stream",
     "text": [
      "=================================\n",
      "Initial portfolio value:100000\n",
      "Final portfolio value: 238780.28125\n",
      "Final accumulative portfolio value: 2.3878028125\n",
      "Maximum DrawDown: -0.3432290916146742\n",
      "Sharpe ratio: 0.7810547126778427\n",
      "=================================\n"
     ]
    },
    {
     "name": "stderr",
     "output_type": "stream",
     "text": [
      " 80%|████████  | 8/10 [04:21<01:05, 32.66s/it]"
     ]
    },
    {
     "name": "stdout",
     "output_type": "stream",
     "text": [
      "=================================\n",
      "Initial portfolio value:100000\n",
      "Final portfolio value: 239447.15625\n",
      "Final accumulative portfolio value: 2.3944715625\n",
      "Maximum DrawDown: -0.3442523151254101\n",
      "Sharpe ratio: 0.781127773052774\n",
      "=================================\n"
     ]
    },
    {
     "name": "stderr",
     "output_type": "stream",
     "text": [
      " 90%|█████████ | 9/10 [04:54<00:32, 32.65s/it]"
     ]
    },
    {
     "name": "stdout",
     "output_type": "stream",
     "text": [
      "=================================\n",
      "Initial portfolio value:100000\n",
      "Final portfolio value: 239990.53125\n",
      "Final accumulative portfolio value: 2.3999053125\n",
      "Maximum DrawDown: -0.3451079043846489\n",
      "Sharpe ratio: 0.7811467321121173\n",
      "=================================\n"
     ]
    },
    {
     "name": "stderr",
     "output_type": "stream",
     "text": [
      "100%|██████████| 10/10 [05:27<00:00, 32.71s/it]\n",
      "C:\\Users\\xutia\\AppData\\Local\\Temp\\ipykernel_52124\\1506485762.py:43: FutureWarning: You are using `torch.load` with `weights_only=False` (the current default value), which uses the default pickle module implicitly. It is possible to construct malicious pickle data which will execute arbitrary code during unpickling (See https://github.com/pytorch/pytorch/blob/main/SECURITY.md#untrusted-models for more details). In a future release, the default value for `weights_only` will be flipped to `True`. This limits the functions that could be executed during unpickling. Arbitrary objects will no longer be allowed to be loaded via this mode unless they are explicitly allowlisted by the user via `torch.serialization.add_safe_globals`. We recommend you start setting `weights_only=True` for any use case where you don't have full control of the loaded file. Please open an issue on GitHub for any issues related to this experimental feature.\n",
      "  EIIE_policy.load_state_dict(torch.load(model_filename))\n"
     ]
    },
    {
     "name": "stdout",
     "output_type": "stream",
     "text": [
      "=================================\n",
      "Initial portfolio value:100000\n",
      "Final portfolio value: 241217.953125\n",
      "Final accumulative portfolio value: 2.41217953125\n",
      "Maximum DrawDown: -0.34801870860611417\n",
      "Sharpe ratio: 0.7802323498538535\n",
      "=================================\n",
      "=================================\n",
      "Initial portfolio value:100000\n",
      "Final portfolio value: 129411.1171875\n",
      "Final accumulative portfolio value: 1.294111171875\n",
      "Maximum DrawDown: -0.1566828483857794\n",
      "Sharpe ratio: 0.8871365084378499\n",
      "=================================\n",
      "Training model with TIME_WINDOW=30, K_SIZE=3, CONV_MID=20, CONV_FINAL=10, LEARNING_RATE=0.02\n"
     ]
    },
    {
     "name": "stderr",
     "output_type": "stream",
     "text": [
      "  0%|          | 0/10 [00:00<?, ?it/s]"
     ]
    },
    {
     "name": "stdout",
     "output_type": "stream",
     "text": [
      "=================================\n",
      "Initial portfolio value:100000\n",
      "Final portfolio value: 246984.140625\n",
      "Final accumulative portfolio value: 2.46984140625\n",
      "Maximum DrawDown: -0.29477399028363904\n",
      "Sharpe ratio: 0.8398881928185425\n",
      "=================================\n"
     ]
    },
    {
     "name": "stderr",
     "output_type": "stream",
     "text": [
      " 10%|█         | 1/10 [00:32<04:54, 32.68s/it]"
     ]
    },
    {
     "name": "stdout",
     "output_type": "stream",
     "text": [
      "=================================\n",
      "Initial portfolio value:100000\n",
      "Final portfolio value: 423885.1875\n",
      "Final accumulative portfolio value: 4.238851875\n",
      "Maximum DrawDown: -0.276919338589403\n",
      "Sharpe ratio: 1.0266054727418865\n",
      "=================================\n"
     ]
    },
    {
     "name": "stderr",
     "output_type": "stream",
     "text": [
      " 20%|██        | 2/10 [01:05<04:21, 32.63s/it]"
     ]
    },
    {
     "name": "stdout",
     "output_type": "stream",
     "text": [
      "=================================\n",
      "Initial portfolio value:100000\n",
      "Final portfolio value: 568798.75\n",
      "Final accumulative portfolio value: 5.6879875\n",
      "Maximum DrawDown: -0.27912563607680596\n",
      "Sharpe ratio: 1.1600957718036455\n",
      "=================================\n"
     ]
    },
    {
     "name": "stderr",
     "output_type": "stream",
     "text": [
      " 30%|███       | 3/10 [01:42<04:02, 34.65s/it]"
     ]
    },
    {
     "name": "stdout",
     "output_type": "stream",
     "text": [
      "=================================\n",
      "Initial portfolio value:100000\n",
      "Final portfolio value: 722834.875\n",
      "Final accumulative portfolio value: 7.22834875\n",
      "Maximum DrawDown: -0.28038523223140965\n",
      "Sharpe ratio: 1.3202656093092957\n",
      "=================================\n"
     ]
    },
    {
     "name": "stderr",
     "output_type": "stream",
     "text": [
      " 40%|████      | 4/10 [02:18<03:32, 35.42s/it]"
     ]
    },
    {
     "name": "stdout",
     "output_type": "stream",
     "text": [
      "=================================\n",
      "Initial portfolio value:100000\n",
      "Final portfolio value: 818049.4375\n",
      "Final accumulative portfolio value: 8.180494375\n",
      "Maximum DrawDown: -0.2803931332089554\n",
      "Sharpe ratio: 1.3308334876457675\n",
      "=================================\n"
     ]
    },
    {
     "name": "stderr",
     "output_type": "stream",
     "text": [
      " 50%|█████     | 5/10 [02:58<03:05, 37.03s/it]"
     ]
    },
    {
     "name": "stdout",
     "output_type": "stream",
     "text": [
      "=================================\n",
      "Initial portfolio value:100000\n",
      "Final portfolio value: 727153.9375\n",
      "Final accumulative portfolio value: 7.271539375\n",
      "Maximum DrawDown: -0.2803807973450213\n",
      "Sharpe ratio: 1.2566876338228308\n",
      "=================================\n"
     ]
    },
    {
     "name": "stderr",
     "output_type": "stream",
     "text": [
      " 60%|██████    | 6/10 [03:37<02:31, 37.76s/it]"
     ]
    },
    {
     "name": "stdout",
     "output_type": "stream",
     "text": [
      "=================================\n",
      "Initial portfolio value:100000\n",
      "Final portfolio value: 675699.9375\n",
      "Final accumulative portfolio value: 6.756999375\n",
      "Maximum DrawDown: -0.28039268507095927\n",
      "Sharpe ratio: 1.1781595118976183\n",
      "=================================\n"
     ]
    },
    {
     "name": "stderr",
     "output_type": "stream",
     "text": [
      " 70%|███████   | 7/10 [04:17<01:55, 38.38s/it]"
     ]
    },
    {
     "name": "stdout",
     "output_type": "stream",
     "text": [
      "=================================\n",
      "Initial portfolio value:100000\n",
      "Final portfolio value: 1009236.1875\n",
      "Final accumulative portfolio value: 10.092361875\n",
      "Maximum DrawDown: -0.2803901543960422\n",
      "Sharpe ratio: 1.391427646470943\n",
      "=================================\n"
     ]
    },
    {
     "name": "stderr",
     "output_type": "stream",
     "text": [
      " 80%|████████  | 8/10 [04:55<01:16, 38.31s/it]"
     ]
    },
    {
     "name": "stdout",
     "output_type": "stream",
     "text": [
      "=================================\n",
      "Initial portfolio value:100000\n",
      "Final portfolio value: 934649.875\n",
      "Final accumulative portfolio value: 9.34649875\n",
      "Maximum DrawDown: -0.2879061397301025\n",
      "Sharpe ratio: 1.3530915563953299\n",
      "=================================\n"
     ]
    },
    {
     "name": "stderr",
     "output_type": "stream",
     "text": [
      " 90%|█████████ | 9/10 [05:33<00:38, 38.24s/it]"
     ]
    },
    {
     "name": "stdout",
     "output_type": "stream",
     "text": [
      "=================================\n",
      "Initial portfolio value:100000\n",
      "Final portfolio value: 707254.375\n",
      "Final accumulative portfolio value: 7.07254375\n",
      "Maximum DrawDown: -0.28037918218618163\n",
      "Sharpe ratio: 1.210516905295026\n",
      "=================================\n"
     ]
    },
    {
     "name": "stderr",
     "output_type": "stream",
     "text": [
      "100%|██████████| 10/10 [06:13<00:00, 37.36s/it]\n",
      "C:\\Users\\xutia\\AppData\\Local\\Temp\\ipykernel_52124\\1506485762.py:43: FutureWarning: You are using `torch.load` with `weights_only=False` (the current default value), which uses the default pickle module implicitly. It is possible to construct malicious pickle data which will execute arbitrary code during unpickling (See https://github.com/pytorch/pytorch/blob/main/SECURITY.md#untrusted-models for more details). In a future release, the default value for `weights_only` will be flipped to `True`. This limits the functions that could be executed during unpickling. Arbitrary objects will no longer be allowed to be loaded via this mode unless they are explicitly allowlisted by the user via `torch.serialization.add_safe_globals`. We recommend you start setting `weights_only=True` for any use case where you don't have full control of the loaded file. Please open an issue on GitHub for any issues related to this experimental feature.\n",
      "  EIIE_policy.load_state_dict(torch.load(model_filename))\n"
     ]
    },
    {
     "name": "stdout",
     "output_type": "stream",
     "text": [
      "=================================\n",
      "Initial portfolio value:100000\n",
      "Final portfolio value: 916983.625\n",
      "Final accumulative portfolio value: 9.16983625\n",
      "Maximum DrawDown: -0.3536949970252977\n",
      "Sharpe ratio: 1.2897910151916492\n",
      "=================================\n",
      "=================================\n",
      "Initial portfolio value:100000\n",
      "Final portfolio value: 125264.8046875\n",
      "Final accumulative portfolio value: 1.252648046875\n",
      "Maximum DrawDown: -0.32280034154144277\n",
      "Sharpe ratio: 0.5759564095609895\n",
      "=================================\n",
      "Training model with TIME_WINDOW=30, K_SIZE=3, CONV_MID=20, CONV_FINAL=20, LEARNING_RATE=0.02\n"
     ]
    },
    {
     "name": "stderr",
     "output_type": "stream",
     "text": [
      "  0%|          | 0/10 [00:00<?, ?it/s]"
     ]
    },
    {
     "name": "stdout",
     "output_type": "stream",
     "text": [
      "=================================\n",
      "Initial portfolio value:100000\n",
      "Final portfolio value: 225973.0\n",
      "Final accumulative portfolio value: 2.25973\n",
      "Maximum DrawDown: -0.3122457683927615\n",
      "Sharpe ratio: 0.742877682811752\n",
      "=================================\n"
     ]
    },
    {
     "name": "stderr",
     "output_type": "stream",
     "text": [
      " 10%|█         | 1/10 [00:39<05:56, 39.56s/it]"
     ]
    },
    {
     "name": "stdout",
     "output_type": "stream",
     "text": [
      "=================================\n",
      "Initial portfolio value:100000\n",
      "Final portfolio value: 423474.75\n",
      "Final accumulative portfolio value: 4.2347475\n",
      "Maximum DrawDown: -0.30235437717463254\n",
      "Sharpe ratio: 1.0198208253878134\n",
      "=================================\n"
     ]
    },
    {
     "name": "stderr",
     "output_type": "stream",
     "text": [
      " 20%|██        | 2/10 [01:17<05:06, 38.36s/it]"
     ]
    },
    {
     "name": "stdout",
     "output_type": "stream",
     "text": [
      "=================================\n",
      "Initial portfolio value:100000\n",
      "Final portfolio value: 559850.0625\n",
      "Final accumulative portfolio value: 5.598500625\n",
      "Maximum DrawDown: -0.3086894970298475\n",
      "Sharpe ratio: 1.171657620495884\n",
      "=================================\n"
     ]
    },
    {
     "name": "stderr",
     "output_type": "stream",
     "text": [
      " 30%|███       | 3/10 [01:52<04:18, 36.97s/it]"
     ]
    },
    {
     "name": "stdout",
     "output_type": "stream",
     "text": [
      "=================================\n",
      "Initial portfolio value:100000\n",
      "Final portfolio value: 667189.4375\n",
      "Final accumulative portfolio value: 6.671894375\n",
      "Maximum DrawDown: -0.29135436801537395\n",
      "Sharpe ratio: 1.1982777572543821\n",
      "=================================\n"
     ]
    },
    {
     "name": "stderr",
     "output_type": "stream",
     "text": [
      " 40%|████      | 4/10 [02:29<03:42, 37.07s/it]"
     ]
    },
    {
     "name": "stdout",
     "output_type": "stream",
     "text": [
      "=================================\n",
      "Initial portfolio value:100000\n",
      "Final portfolio value: 772298.4375\n",
      "Final accumulative portfolio value: 7.722984375\n",
      "Maximum DrawDown: -0.2797046308691157\n",
      "Sharpe ratio: 1.2407858863795247\n",
      "=================================\n"
     ]
    },
    {
     "name": "stderr",
     "output_type": "stream",
     "text": [
      " 50%|█████     | 5/10 [03:06<03:05, 37.10s/it]"
     ]
    },
    {
     "name": "stdout",
     "output_type": "stream",
     "text": [
      "=================================\n",
      "Initial portfolio value:100000\n",
      "Final portfolio value: 877341.875\n",
      "Final accumulative portfolio value: 8.77341875\n",
      "Maximum DrawDown: -0.2832943387097182\n",
      "Sharpe ratio: 1.2985113268110857\n",
      "=================================\n"
     ]
    },
    {
     "name": "stderr",
     "output_type": "stream",
     "text": [
      " 60%|██████    | 6/10 [03:41<02:24, 36.17s/it]"
     ]
    },
    {
     "name": "stdout",
     "output_type": "stream",
     "text": [
      "=================================\n",
      "Initial portfolio value:100000\n",
      "Final portfolio value: 1051127.0\n",
      "Final accumulative portfolio value: 10.51127\n",
      "Maximum DrawDown: -0.28020826355198336\n",
      "Sharpe ratio: 1.4494248556038103\n",
      "=================================\n"
     ]
    },
    {
     "name": "stderr",
     "output_type": "stream",
     "text": [
      " 70%|███████   | 7/10 [04:14<01:45, 35.22s/it]"
     ]
    },
    {
     "name": "stdout",
     "output_type": "stream",
     "text": [
      "=================================\n",
      "Initial portfolio value:100000\n",
      "Final portfolio value: 862675.0625\n",
      "Final accumulative portfolio value: 8.626750625\n",
      "Maximum DrawDown: -0.2803922892938733\n",
      "Sharpe ratio: 1.316912252648426\n",
      "=================================\n"
     ]
    },
    {
     "name": "stderr",
     "output_type": "stream",
     "text": [
      " 80%|████████  | 8/10 [04:41<01:05, 32.55s/it]"
     ]
    },
    {
     "name": "stdout",
     "output_type": "stream",
     "text": [
      "=================================\n",
      "Initial portfolio value:100000\n",
      "Final portfolio value: 744072.6875\n",
      "Final accumulative portfolio value: 7.440726875\n",
      "Maximum DrawDown: -0.2808157754780103\n",
      "Sharpe ratio: 1.2150404415801175\n",
      "=================================\n"
     ]
    },
    {
     "name": "stderr",
     "output_type": "stream",
     "text": [
      " 90%|█████████ | 9/10 [05:10<00:31, 31.45s/it]"
     ]
    },
    {
     "name": "stdout",
     "output_type": "stream",
     "text": [
      "=================================\n",
      "Initial portfolio value:100000\n",
      "Final portfolio value: 1173735.625\n",
      "Final accumulative portfolio value: 11.73735625\n",
      "Maximum DrawDown: -0.3029749783988498\n",
      "Sharpe ratio: 1.3767776724469922\n",
      "=================================\n"
     ]
    },
    {
     "name": "stderr",
     "output_type": "stream",
     "text": [
      "100%|██████████| 10/10 [05:40<00:00, 34.00s/it]\n",
      "C:\\Users\\xutia\\AppData\\Local\\Temp\\ipykernel_52124\\1506485762.py:43: FutureWarning: You are using `torch.load` with `weights_only=False` (the current default value), which uses the default pickle module implicitly. It is possible to construct malicious pickle data which will execute arbitrary code during unpickling (See https://github.com/pytorch/pytorch/blob/main/SECURITY.md#untrusted-models for more details). In a future release, the default value for `weights_only` will be flipped to `True`. This limits the functions that could be executed during unpickling. Arbitrary objects will no longer be allowed to be loaded via this mode unless they are explicitly allowlisted by the user via `torch.serialization.add_safe_globals`. We recommend you start setting `weights_only=True` for any use case where you don't have full control of the loaded file. Please open an issue on GitHub for any issues related to this experimental feature.\n",
      "  EIIE_policy.load_state_dict(torch.load(model_filename))\n"
     ]
    },
    {
     "name": "stdout",
     "output_type": "stream",
     "text": [
      "=================================\n",
      "Initial portfolio value:100000\n",
      "Final portfolio value: 722769.5625\n",
      "Final accumulative portfolio value: 7.227695625\n",
      "Maximum DrawDown: -0.31733016460501084\n",
      "Sharpe ratio: 1.1775697656336679\n",
      "=================================\n",
      "=================================\n",
      "Initial portfolio value:100000\n",
      "Final portfolio value: 218746.765625\n",
      "Final accumulative portfolio value: 2.18746765625\n",
      "Maximum DrawDown: -0.19215471040319843\n",
      "Sharpe ratio: 1.6942178392592488\n",
      "=================================\n",
      "Training model with TIME_WINDOW=30, K_SIZE=4, CONV_MID=5, CONV_FINAL=5, LEARNING_RATE=0.02\n"
     ]
    },
    {
     "name": "stderr",
     "output_type": "stream",
     "text": [
      "  0%|          | 0/10 [00:00<?, ?it/s]"
     ]
    },
    {
     "name": "stdout",
     "output_type": "stream",
     "text": [
      "=================================\n",
      "Initial portfolio value:100000\n",
      "Final portfolio value: 259011.28125\n",
      "Final accumulative portfolio value: 2.5901128125\n",
      "Maximum DrawDown: -0.3168612080871287\n",
      "Sharpe ratio: 0.844459886926579\n",
      "=================================\n"
     ]
    },
    {
     "name": "stderr",
     "output_type": "stream",
     "text": [
      " 10%|█         | 1/10 [00:31<04:45, 31.72s/it]"
     ]
    },
    {
     "name": "stdout",
     "output_type": "stream",
     "text": [
      "=================================\n",
      "Initial portfolio value:100000\n",
      "Final portfolio value: 417333.6875\n",
      "Final accumulative portfolio value: 4.173336875\n",
      "Maximum DrawDown: -0.3029998544460496\n",
      "Sharpe ratio: 1.0509182802868198\n",
      "=================================\n"
     ]
    },
    {
     "name": "stderr",
     "output_type": "stream",
     "text": [
      " 20%|██        | 2/10 [01:01<04:02, 30.30s/it]"
     ]
    },
    {
     "name": "stdout",
     "output_type": "stream",
     "text": [
      "=================================\n",
      "Initial portfolio value:100000\n",
      "Final portfolio value: 563565.75\n",
      "Final accumulative portfolio value: 5.6356575\n",
      "Maximum DrawDown: -0.30392025359056085\n",
      "Sharpe ratio: 1.1535463874986698\n",
      "=================================\n"
     ]
    },
    {
     "name": "stderr",
     "output_type": "stream",
     "text": [
      " 30%|███       | 3/10 [01:30<03:29, 29.99s/it]"
     ]
    },
    {
     "name": "stdout",
     "output_type": "stream",
     "text": [
      "=================================\n",
      "Initial portfolio value:100000\n",
      "Final portfolio value: 649402.25\n",
      "Final accumulative portfolio value: 6.4940225\n",
      "Maximum DrawDown: -0.2899755203327402\n",
      "Sharpe ratio: 1.1948186573176038\n",
      "=================================\n"
     ]
    },
    {
     "name": "stderr",
     "output_type": "stream",
     "text": [
      " 40%|████      | 4/10 [02:02<03:03, 30.57s/it]"
     ]
    },
    {
     "name": "stdout",
     "output_type": "stream",
     "text": [
      "=================================\n",
      "Initial portfolio value:100000\n",
      "Final portfolio value: 803502.875\n",
      "Final accumulative portfolio value: 8.03502875\n",
      "Maximum DrawDown: -0.280730072648651\n",
      "Sharpe ratio: 1.3085564840248567\n",
      "=================================\n"
     ]
    },
    {
     "name": "stderr",
     "output_type": "stream",
     "text": [
      " 50%|█████     | 5/10 [02:33<02:34, 30.96s/it]"
     ]
    },
    {
     "name": "stdout",
     "output_type": "stream",
     "text": [
      "=================================\n",
      "Initial portfolio value:100000\n",
      "Final portfolio value: 890440.625\n",
      "Final accumulative portfolio value: 8.90440625\n",
      "Maximum DrawDown: -0.2812661013201666\n",
      "Sharpe ratio: 1.3270257621328616\n",
      "=================================\n"
     ]
    },
    {
     "name": "stderr",
     "output_type": "stream",
     "text": [
      " 60%|██████    | 6/10 [03:03<02:01, 30.44s/it]"
     ]
    },
    {
     "name": "stdout",
     "output_type": "stream",
     "text": [
      "=================================\n",
      "Initial portfolio value:100000\n",
      "Final portfolio value: 1063020.125\n",
      "Final accumulative portfolio value: 10.63020125\n",
      "Maximum DrawDown: -0.2801031599021464\n",
      "Sharpe ratio: 1.4111655405488397\n",
      "=================================\n"
     ]
    },
    {
     "name": "stderr",
     "output_type": "stream",
     "text": [
      " 70%|███████   | 7/10 [03:29<01:27, 29.24s/it]"
     ]
    },
    {
     "name": "stdout",
     "output_type": "stream",
     "text": [
      "=================================\n",
      "Initial portfolio value:100000\n",
      "Final portfolio value: 1067081.375\n",
      "Final accumulative portfolio value: 10.67081375\n",
      "Maximum DrawDown: -0.2828924031751905\n",
      "Sharpe ratio: 1.3892007383099758\n",
      "=================================\n"
     ]
    },
    {
     "name": "stderr",
     "output_type": "stream",
     "text": [
      " 80%|████████  | 8/10 [03:57<00:57, 28.81s/it]"
     ]
    },
    {
     "name": "stdout",
     "output_type": "stream",
     "text": [
      "=================================\n",
      "Initial portfolio value:100000\n",
      "Final portfolio value: 926607.0625\n",
      "Final accumulative portfolio value: 9.266070625\n",
      "Maximum DrawDown: -0.2797525552119089\n",
      "Sharpe ratio: 1.3009540521355347\n",
      "=================================\n"
     ]
    },
    {
     "name": "stderr",
     "output_type": "stream",
     "text": [
      " 90%|█████████ | 9/10 [04:28<00:29, 29.28s/it]"
     ]
    },
    {
     "name": "stdout",
     "output_type": "stream",
     "text": [
      "=================================\n",
      "Initial portfolio value:100000\n",
      "Final portfolio value: 1186741.875\n",
      "Final accumulative portfolio value: 11.86741875\n",
      "Maximum DrawDown: -0.2803921295576427\n",
      "Sharpe ratio: 1.4542174627462068\n",
      "=================================\n"
     ]
    },
    {
     "name": "stderr",
     "output_type": "stream",
     "text": [
      "100%|██████████| 10/10 [04:56<00:00, 29.62s/it]\n",
      "C:\\Users\\xutia\\AppData\\Local\\Temp\\ipykernel_52124\\1506485762.py:43: FutureWarning: You are using `torch.load` with `weights_only=False` (the current default value), which uses the default pickle module implicitly. It is possible to construct malicious pickle data which will execute arbitrary code during unpickling (See https://github.com/pytorch/pytorch/blob/main/SECURITY.md#untrusted-models for more details). In a future release, the default value for `weights_only` will be flipped to `True`. This limits the functions that could be executed during unpickling. Arbitrary objects will no longer be allowed to be loaded via this mode unless they are explicitly allowlisted by the user via `torch.serialization.add_safe_globals`. We recommend you start setting `weights_only=True` for any use case where you don't have full control of the loaded file. Please open an issue on GitHub for any issues related to this experimental feature.\n",
      "  EIIE_policy.load_state_dict(torch.load(model_filename))\n"
     ]
    },
    {
     "name": "stdout",
     "output_type": "stream",
     "text": [
      "=================================\n",
      "Initial portfolio value:100000\n",
      "Final portfolio value: 890704.8125\n",
      "Final accumulative portfolio value: 8.907048125\n",
      "Maximum DrawDown: -0.2877645958816486\n",
      "Sharpe ratio: 1.2513951720674394\n",
      "=================================\n",
      "=================================\n",
      "Initial portfolio value:100000\n",
      "Final portfolio value: 213699.015625\n",
      "Final accumulative portfolio value: 2.13699015625\n",
      "Maximum DrawDown: -0.17930150482464247\n",
      "Sharpe ratio: 1.5529744448403318\n",
      "=================================\n",
      "Training model with TIME_WINDOW=30, K_SIZE=4, CONV_MID=5, CONV_FINAL=10, LEARNING_RATE=0.02\n"
     ]
    },
    {
     "name": "stderr",
     "output_type": "stream",
     "text": [
      "  0%|          | 0/10 [00:00<?, ?it/s]"
     ]
    },
    {
     "name": "stdout",
     "output_type": "stream",
     "text": [
      "=================================\n",
      "Initial portfolio value:100000\n",
      "Final portfolio value: 234672.59375\n",
      "Final accumulative portfolio value: 2.3467259375\n",
      "Maximum DrawDown: -0.3392999119573272\n",
      "Sharpe ratio: 0.7781851327312745\n",
      "=================================\n"
     ]
    },
    {
     "name": "stderr",
     "output_type": "stream",
     "text": [
      " 10%|█         | 1/10 [00:27<04:08, 27.63s/it]"
     ]
    },
    {
     "name": "stdout",
     "output_type": "stream",
     "text": [
      "=================================\n",
      "Initial portfolio value:100000\n",
      "Final portfolio value: 239492.0\n",
      "Final accumulative portfolio value: 2.39492\n",
      "Maximum DrawDown: -0.346231966058579\n",
      "Sharpe ratio: 0.7794739903170131\n",
      "=================================\n"
     ]
    },
    {
     "name": "stderr",
     "output_type": "stream",
     "text": [
      " 20%|██        | 2/10 [00:54<03:38, 27.31s/it]"
     ]
    },
    {
     "name": "stdout",
     "output_type": "stream",
     "text": [
      "=================================\n",
      "Initial portfolio value:100000\n",
      "Final portfolio value: 242434.59375\n",
      "Final accumulative portfolio value: 2.4243459375\n",
      "Maximum DrawDown: -0.3498451592330538\n",
      "Sharpe ratio: 0.7805576386150044\n",
      "=================================\n"
     ]
    },
    {
     "name": "stderr",
     "output_type": "stream",
     "text": [
      " 30%|███       | 3/10 [01:22<03:11, 27.31s/it]"
     ]
    },
    {
     "name": "stdout",
     "output_type": "stream",
     "text": [
      "=================================\n",
      "Initial portfolio value:100000\n",
      "Final portfolio value: 243701.25\n",
      "Final accumulative portfolio value: 2.4370125\n",
      "Maximum DrawDown: -0.3512593903878013\n",
      "Sharpe ratio: 0.7811118769571535\n",
      "=================================\n"
     ]
    },
    {
     "name": "stderr",
     "output_type": "stream",
     "text": [
      " 40%|████      | 4/10 [01:50<02:46, 27.70s/it]"
     ]
    },
    {
     "name": "stdout",
     "output_type": "stream",
     "text": [
      "=================================\n",
      "Initial portfolio value:100000\n",
      "Final portfolio value: 244186.96875\n",
      "Final accumulative portfolio value: 2.4418696875\n",
      "Maximum DrawDown: -0.3518211972532218\n",
      "Sharpe ratio: 0.7812924876942965\n",
      "=================================\n"
     ]
    },
    {
     "name": "stderr",
     "output_type": "stream",
     "text": [
      " 50%|█████     | 5/10 [02:20<02:22, 28.59s/it]"
     ]
    },
    {
     "name": "stdout",
     "output_type": "stream",
     "text": [
      "=================================\n",
      "Initial portfolio value:100000\n",
      "Final portfolio value: 244413.6875\n",
      "Final accumulative portfolio value: 2.444136875\n",
      "Maximum DrawDown: -0.3520854123299756\n",
      "Sharpe ratio: 0.7814001955005578\n",
      "=================================\n"
     ]
    },
    {
     "name": "stderr",
     "output_type": "stream",
     "text": [
      " 60%|██████    | 6/10 [02:49<01:55, 28.83s/it]"
     ]
    },
    {
     "name": "stdout",
     "output_type": "stream",
     "text": [
      "=================================\n",
      "Initial portfolio value:100000\n",
      "Final portfolio value: 244515.4375\n",
      "Final accumulative portfolio value: 2.445154375\n",
      "Maximum DrawDown: -0.35223063972183843\n",
      "Sharpe ratio: 0.7814013012303248\n",
      "=================================\n"
     ]
    },
    {
     "name": "stderr",
     "output_type": "stream",
     "text": [
      " 70%|███████   | 7/10 [03:21<01:29, 29.76s/it]"
     ]
    },
    {
     "name": "stdout",
     "output_type": "stream",
     "text": [
      "=================================\n",
      "Initial portfolio value:100000\n",
      "Final portfolio value: 244585.78125\n",
      "Final accumulative portfolio value: 2.4458578125\n",
      "Maximum DrawDown: -0.35232072920876945\n",
      "Sharpe ratio: 0.7814279238450351\n",
      "=================================\n"
     ]
    },
    {
     "name": "stderr",
     "output_type": "stream",
     "text": [
      " 80%|████████  | 8/10 [03:55<01:02, 31.25s/it]"
     ]
    },
    {
     "name": "stdout",
     "output_type": "stream",
     "text": [
      "=================================\n",
      "Initial portfolio value:100000\n",
      "Final portfolio value: 244630.71875\n",
      "Final accumulative portfolio value: 2.4463071875\n",
      "Maximum DrawDown: -0.35238107713202627\n",
      "Sharpe ratio: 0.7814413961729672\n",
      "=================================\n"
     ]
    },
    {
     "name": "stderr",
     "output_type": "stream",
     "text": [
      " 90%|█████████ | 9/10 [04:29<00:31, 31.97s/it]"
     ]
    },
    {
     "name": "stdout",
     "output_type": "stream",
     "text": [
      "=================================\n",
      "Initial portfolio value:100000\n",
      "Final portfolio value: 244656.625\n",
      "Final accumulative portfolio value: 2.44656625\n",
      "Maximum DrawDown: -0.35242293971383143\n",
      "Sharpe ratio: 0.7814338372847621\n",
      "=================================\n"
     ]
    },
    {
     "name": "stderr",
     "output_type": "stream",
     "text": [
      "100%|██████████| 10/10 [05:02<00:00, 30.28s/it]\n",
      "C:\\Users\\xutia\\AppData\\Local\\Temp\\ipykernel_52124\\1506485762.py:43: FutureWarning: You are using `torch.load` with `weights_only=False` (the current default value), which uses the default pickle module implicitly. It is possible to construct malicious pickle data which will execute arbitrary code during unpickling (See https://github.com/pytorch/pytorch/blob/main/SECURITY.md#untrusted-models for more details). In a future release, the default value for `weights_only` will be flipped to `True`. This limits the functions that could be executed during unpickling. Arbitrary objects will no longer be allowed to be loaded via this mode unless they are explicitly allowlisted by the user via `torch.serialization.add_safe_globals`. We recommend you start setting `weights_only=True` for any use case where you don't have full control of the loaded file. Please open an issue on GitHub for any issues related to this experimental feature.\n",
      "  EIIE_policy.load_state_dict(torch.load(model_filename))\n"
     ]
    },
    {
     "name": "stdout",
     "output_type": "stream",
     "text": [
      "=================================\n",
      "Initial portfolio value:100000\n",
      "Final portfolio value: 244762.90625\n",
      "Final accumulative portfolio value: 2.4476290625\n",
      "Maximum DrawDown: -0.35260992600012364\n",
      "Sharpe ratio: 0.781417311619346\n",
      "=================================\n",
      "=================================\n",
      "Initial portfolio value:100000\n",
      "Final portfolio value: 130063.1875\n",
      "Final accumulative portfolio value: 1.300631875\n",
      "Maximum DrawDown: -0.15935892967644194\n",
      "Sharpe ratio: 0.8895849619963295\n",
      "=================================\n",
      "Training model with TIME_WINDOW=30, K_SIZE=4, CONV_MID=5, CONV_FINAL=20, LEARNING_RATE=0.02\n"
     ]
    },
    {
     "name": "stderr",
     "output_type": "stream",
     "text": [
      "  0%|          | 0/10 [00:00<?, ?it/s]"
     ]
    },
    {
     "name": "stdout",
     "output_type": "stream",
     "text": [
      "=================================\n",
      "Initial portfolio value:100000\n",
      "Final portfolio value: 208942.765625\n",
      "Final accumulative portfolio value: 2.08942765625\n",
      "Maximum DrawDown: -0.33039646428750347\n",
      "Sharpe ratio: 0.718160775946733\n",
      "=================================\n"
     ]
    },
    {
     "name": "stderr",
     "output_type": "stream",
     "text": [
      " 10%|█         | 1/10 [00:32<04:53, 32.58s/it]"
     ]
    },
    {
     "name": "stdout",
     "output_type": "stream",
     "text": [
      "=================================\n",
      "Initial portfolio value:100000\n",
      "Final portfolio value: 235805.421875\n",
      "Final accumulative portfolio value: 2.35805421875\n",
      "Maximum DrawDown: -0.3420688913668154\n",
      "Sharpe ratio: 0.7776605174047941\n",
      "=================================\n"
     ]
    },
    {
     "name": "stderr",
     "output_type": "stream",
     "text": [
      " 20%|██        | 2/10 [01:02<04:10, 31.28s/it]"
     ]
    },
    {
     "name": "stdout",
     "output_type": "stream",
     "text": [
      "=================================\n",
      "Initial portfolio value:100000\n",
      "Final portfolio value: 241545.78125\n",
      "Final accumulative portfolio value: 2.4154578125\n",
      "Maximum DrawDown: -0.3493341164614754\n",
      "Sharpe ratio: 0.7797864343791776\n",
      "=================================\n"
     ]
    },
    {
     "name": "stderr",
     "output_type": "stream",
     "text": [
      " 30%|███       | 3/10 [01:32<03:33, 30.56s/it]"
     ]
    },
    {
     "name": "stdout",
     "output_type": "stream",
     "text": [
      "=================================\n",
      "Initial portfolio value:100000\n",
      "Final portfolio value: 243739.671875\n",
      "Final accumulative portfolio value: 2.43739671875\n",
      "Maximum DrawDown: -0.3514395135639713\n",
      "Sharpe ratio: 0.7810267250616398\n",
      "=================================\n"
     ]
    },
    {
     "name": "stderr",
     "output_type": "stream",
     "text": [
      " 40%|████      | 4/10 [02:03<03:04, 30.67s/it]"
     ]
    },
    {
     "name": "stdout",
     "output_type": "stream",
     "text": [
      "=================================\n",
      "Initial portfolio value:100000\n",
      "Final portfolio value: 244320.96875\n",
      "Final accumulative portfolio value: 2.4432096875\n",
      "Maximum DrawDown: -0.35200949320727815\n",
      "Sharpe ratio: 0.7813362397284254\n",
      "=================================\n"
     ]
    },
    {
     "name": "stderr",
     "output_type": "stream",
     "text": [
      " 50%|█████     | 5/10 [02:35<02:36, 31.24s/it]"
     ]
    },
    {
     "name": "stdout",
     "output_type": "stream",
     "text": [
      "=================================\n",
      "Initial portfolio value:100000\n",
      "Final portfolio value: 244499.15625\n",
      "Final accumulative portfolio value: 2.4449915625\n",
      "Maximum DrawDown: -0.35222381025478655\n",
      "Sharpe ratio: 0.7813785476329452\n",
      "=================================\n"
     ]
    },
    {
     "name": "stderr",
     "output_type": "stream",
     "text": [
      " 60%|██████    | 6/10 [03:07<02:05, 31.28s/it]"
     ]
    },
    {
     "name": "stdout",
     "output_type": "stream",
     "text": [
      "=================================\n",
      "Initial portfolio value:100000\n",
      "Final portfolio value: 244591.515625\n",
      "Final accumulative portfolio value: 2.44591515625\n",
      "Maximum DrawDown: -0.3523322333896789\n",
      "Sharpe ratio: 0.7814250565647484\n",
      "=================================\n"
     ]
    },
    {
     "name": "stderr",
     "output_type": "stream",
     "text": [
      " 70%|███████   | 7/10 [03:37<01:32, 30.98s/it]"
     ]
    },
    {
     "name": "stdout",
     "output_type": "stream",
     "text": [
      "=================================\n",
      "Initial portfolio value:100000\n",
      "Final portfolio value: 244637.328125\n",
      "Final accumulative portfolio value: 2.44637328125\n",
      "Maximum DrawDown: -0.35239838322531825\n",
      "Sharpe ratio: 0.7814298814974325\n",
      "=================================\n"
     ]
    },
    {
     "name": "stderr",
     "output_type": "stream",
     "text": [
      " 80%|████████  | 8/10 [04:06<01:00, 30.50s/it]"
     ]
    },
    {
     "name": "stdout",
     "output_type": "stream",
     "text": [
      "=================================\n",
      "Initial portfolio value:100000\n",
      "Final portfolio value: 244673.015625\n",
      "Final accumulative portfolio value: 2.44673015625\n",
      "Maximum DrawDown: -0.3524417302845778\n",
      "Sharpe ratio: 0.7814488697948025\n",
      "=================================\n"
     ]
    },
    {
     "name": "stderr",
     "output_type": "stream",
     "text": [
      " 90%|█████████ | 9/10 [04:36<00:30, 30.24s/it]"
     ]
    },
    {
     "name": "stdout",
     "output_type": "stream",
     "text": [
      "=================================\n",
      "Initial portfolio value:100000\n",
      "Final portfolio value: 244690.796875\n",
      "Final accumulative portfolio value: 2.44690796875\n",
      "Maximum DrawDown: -0.35247116887220376\n",
      "Sharpe ratio: 0.781441023229594\n",
      "=================================\n"
     ]
    },
    {
     "name": "stderr",
     "output_type": "stream",
     "text": [
      "100%|██████████| 10/10 [05:06<00:00, 30.64s/it]\n",
      "C:\\Users\\xutia\\AppData\\Local\\Temp\\ipykernel_52124\\1506485762.py:43: FutureWarning: You are using `torch.load` with `weights_only=False` (the current default value), which uses the default pickle module implicitly. It is possible to construct malicious pickle data which will execute arbitrary code during unpickling (See https://github.com/pytorch/pytorch/blob/main/SECURITY.md#untrusted-models for more details). In a future release, the default value for `weights_only` will be flipped to `True`. This limits the functions that could be executed during unpickling. Arbitrary objects will no longer be allowed to be loaded via this mode unless they are explicitly allowlisted by the user via `torch.serialization.add_safe_globals`. We recommend you start setting `weights_only=True` for any use case where you don't have full control of the loaded file. Please open an issue on GitHub for any issues related to this experimental feature.\n",
      "  EIIE_policy.load_state_dict(torch.load(model_filename))\n"
     ]
    },
    {
     "name": "stdout",
     "output_type": "stream",
     "text": [
      "=================================\n",
      "Initial portfolio value:100000\n",
      "Final portfolio value: 244781.15625\n",
      "Final accumulative portfolio value: 2.4478115625\n",
      "Maximum DrawDown: -0.35262288838974454\n",
      "Sharpe ratio: 0.7814355589216815\n",
      "=================================\n",
      "=================================\n",
      "Initial portfolio value:100000\n",
      "Final portfolio value: 130067.75\n",
      "Final accumulative portfolio value: 1.3006775\n",
      "Maximum DrawDown: -0.1593621745690288\n",
      "Sharpe ratio: 0.8896442723189106\n",
      "=================================\n",
      "Training model with TIME_WINDOW=30, K_SIZE=4, CONV_MID=20, CONV_FINAL=5, LEARNING_RATE=0.02\n"
     ]
    },
    {
     "name": "stderr",
     "output_type": "stream",
     "text": [
      "  0%|          | 0/10 [00:00<?, ?it/s]"
     ]
    },
    {
     "name": "stdout",
     "output_type": "stream",
     "text": [
      "=================================\n",
      "Initial portfolio value:100000\n",
      "Final portfolio value: 283238.40625\n",
      "Final accumulative portfolio value: 2.8323840625\n",
      "Maximum DrawDown: -0.3000562964600637\n",
      "Sharpe ratio: 0.882639298752809\n",
      "=================================\n"
     ]
    },
    {
     "name": "stderr",
     "output_type": "stream",
     "text": [
      " 10%|█         | 1/10 [00:33<04:58, 33.14s/it]"
     ]
    },
    {
     "name": "stdout",
     "output_type": "stream",
     "text": [
      "=================================\n",
      "Initial portfolio value:100000\n",
      "Final portfolio value: 609880.125\n",
      "Final accumulative portfolio value: 6.09880125\n",
      "Maximum DrawDown: -0.2803886472174131\n",
      "Sharpe ratio: 1.1773433294361653\n",
      "=================================\n"
     ]
    },
    {
     "name": "stderr",
     "output_type": "stream",
     "text": [
      " 20%|██        | 2/10 [01:05<04:22, 32.84s/it]"
     ]
    },
    {
     "name": "stdout",
     "output_type": "stream",
     "text": [
      "=================================\n",
      "Initial portfolio value:100000\n",
      "Final portfolio value: 670087.125\n",
      "Final accumulative portfolio value: 6.70087125\n",
      "Maximum DrawDown: -0.28039300604728157\n",
      "Sharpe ratio: 1.2357361599819956\n",
      "=================================\n"
     ]
    },
    {
     "name": "stderr",
     "output_type": "stream",
     "text": [
      " 30%|███       | 3/10 [01:38<03:51, 33.02s/it]"
     ]
    },
    {
     "name": "stdout",
     "output_type": "stream",
     "text": [
      "=================================\n",
      "Initial portfolio value:100000\n",
      "Final portfolio value: 768385.625\n",
      "Final accumulative portfolio value: 7.68385625\n",
      "Maximum DrawDown: -0.28039298081341846\n",
      "Sharpe ratio: 1.2994915863267131\n",
      "=================================\n"
     ]
    },
    {
     "name": "stderr",
     "output_type": "stream",
     "text": [
      " 40%|████      | 4/10 [02:11<03:16, 32.74s/it]"
     ]
    },
    {
     "name": "stdout",
     "output_type": "stream",
     "text": [
      "=================================\n",
      "Initial portfolio value:100000\n",
      "Final portfolio value: 831347.875\n",
      "Final accumulative portfolio value: 8.31347875\n",
      "Maximum DrawDown: -0.28039304673164445\n",
      "Sharpe ratio: 1.3550174860375943\n",
      "=================================\n"
     ]
    },
    {
     "name": "stderr",
     "output_type": "stream",
     "text": [
      " 50%|█████     | 5/10 [02:43<02:42, 32.53s/it]"
     ]
    },
    {
     "name": "stdout",
     "output_type": "stream",
     "text": [
      "=================================\n",
      "Initial portfolio value:100000\n",
      "Final portfolio value: 925566.5\n",
      "Final accumulative portfolio value: 9.255665\n",
      "Maximum DrawDown: -0.280393024399205\n",
      "Sharpe ratio: 1.3942832284656\n",
      "=================================\n"
     ]
    },
    {
     "name": "stderr",
     "output_type": "stream",
     "text": [
      " 60%|██████    | 6/10 [03:13<02:07, 31.78s/it]"
     ]
    },
    {
     "name": "stdout",
     "output_type": "stream",
     "text": [
      "=================================\n",
      "Initial portfolio value:100000\n",
      "Final portfolio value: 709558.9375\n",
      "Final accumulative portfolio value: 7.095589375\n",
      "Maximum DrawDown: -0.2803929149815625\n",
      "Sharpe ratio: 1.2462929045226903\n",
      "=================================\n"
     ]
    },
    {
     "name": "stderr",
     "output_type": "stream",
     "text": [
      " 70%|███████   | 7/10 [03:46<01:36, 32.16s/it]"
     ]
    },
    {
     "name": "stdout",
     "output_type": "stream",
     "text": [
      "=================================\n",
      "Initial portfolio value:100000\n",
      "Final portfolio value: 581869.875\n",
      "Final accumulative portfolio value: 5.81869875\n",
      "Maximum DrawDown: -0.2803929910308738\n",
      "Sharpe ratio: 1.0904017642392296\n",
      "=================================\n"
     ]
    },
    {
     "name": "stderr",
     "output_type": "stream",
     "text": [
      " 80%|████████  | 8/10 [04:19<01:04, 32.50s/it]"
     ]
    },
    {
     "name": "stdout",
     "output_type": "stream",
     "text": [
      "=================================\n",
      "Initial portfolio value:100000\n",
      "Final portfolio value: 754465.75\n",
      "Final accumulative portfolio value: 7.5446575\n",
      "Maximum DrawDown: -0.280392926354629\n",
      "Sharpe ratio: 1.2335230041821375\n",
      "=================================\n"
     ]
    },
    {
     "name": "stderr",
     "output_type": "stream",
     "text": [
      " 90%|█████████ | 9/10 [04:52<00:32, 32.52s/it]"
     ]
    },
    {
     "name": "stdout",
     "output_type": "stream",
     "text": [
      "=================================\n",
      "Initial portfolio value:100000\n",
      "Final portfolio value: 610415.3125\n",
      "Final accumulative portfolio value: 6.104153125\n",
      "Maximum DrawDown: -0.28039292774934077\n",
      "Sharpe ratio: 1.1270140351384967\n",
      "=================================\n"
     ]
    },
    {
     "name": "stderr",
     "output_type": "stream",
     "text": [
      "100%|██████████| 10/10 [05:25<00:00, 32.55s/it]\n",
      "C:\\Users\\xutia\\AppData\\Local\\Temp\\ipykernel_52124\\1506485762.py:43: FutureWarning: You are using `torch.load` with `weights_only=False` (the current default value), which uses the default pickle module implicitly. It is possible to construct malicious pickle data which will execute arbitrary code during unpickling (See https://github.com/pytorch/pytorch/blob/main/SECURITY.md#untrusted-models for more details). In a future release, the default value for `weights_only` will be flipped to `True`. This limits the functions that could be executed during unpickling. Arbitrary objects will no longer be allowed to be loaded via this mode unless they are explicitly allowlisted by the user via `torch.serialization.add_safe_globals`. We recommend you start setting `weights_only=True` for any use case where you don't have full control of the loaded file. Please open an issue on GitHub for any issues related to this experimental feature.\n",
      "  EIIE_policy.load_state_dict(torch.load(model_filename))\n"
     ]
    },
    {
     "name": "stdout",
     "output_type": "stream",
     "text": [
      "=================================\n",
      "Initial portfolio value:100000\n",
      "Final portfolio value: 532263.25\n",
      "Final accumulative portfolio value: 5.3226325\n",
      "Maximum DrawDown: -0.3057597370987294\n",
      "Sharpe ratio: 1.0465880674283916\n",
      "=================================\n",
      "=================================\n",
      "Initial portfolio value:100000\n",
      "Final portfolio value: 123300.0703125\n",
      "Final accumulative portfolio value: 1.233000703125\n",
      "Maximum DrawDown: -0.2547662603541374\n",
      "Sharpe ratio: 0.5546356972061018\n",
      "=================================\n",
      "Training model with TIME_WINDOW=30, K_SIZE=4, CONV_MID=20, CONV_FINAL=10, LEARNING_RATE=0.02\n"
     ]
    },
    {
     "name": "stderr",
     "output_type": "stream",
     "text": [
      "  0%|          | 0/10 [00:00<?, ?it/s]"
     ]
    },
    {
     "name": "stdout",
     "output_type": "stream",
     "text": [
      "=================================\n",
      "Initial portfolio value:100000\n",
      "Final portfolio value: 336989.875\n",
      "Final accumulative portfolio value: 3.36989875\n",
      "Maximum DrawDown: -0.33663971235287027\n",
      "Sharpe ratio: 0.875512304684604\n",
      "=================================\n"
     ]
    },
    {
     "name": "stderr",
     "output_type": "stream",
     "text": [
      " 10%|█         | 1/10 [00:32<04:55, 32.88s/it]"
     ]
    },
    {
     "name": "stdout",
     "output_type": "stream",
     "text": [
      "=================================\n",
      "Initial portfolio value:100000\n",
      "Final portfolio value: 673973.125\n",
      "Final accumulative portfolio value: 6.73973125\n",
      "Maximum DrawDown: -0.38514738450624086\n",
      "Sharpe ratio: 1.150988688876177\n",
      "=================================\n"
     ]
    },
    {
     "name": "stderr",
     "output_type": "stream",
     "text": [
      " 20%|██        | 2/10 [01:06<04:24, 33.10s/it]"
     ]
    },
    {
     "name": "stdout",
     "output_type": "stream",
     "text": [
      "=================================\n",
      "Initial portfolio value:100000\n",
      "Final portfolio value: 737653.0625\n",
      "Final accumulative portfolio value: 7.376530625\n",
      "Maximum DrawDown: -0.3851583732567504\n",
      "Sharpe ratio: 1.1834117111243152\n",
      "=================================\n"
     ]
    },
    {
     "name": "stderr",
     "output_type": "stream",
     "text": [
      " 30%|███       | 3/10 [01:38<03:50, 32.99s/it]"
     ]
    },
    {
     "name": "stdout",
     "output_type": "stream",
     "text": [
      "=================================\n",
      "Initial portfolio value:100000\n",
      "Final portfolio value: 823183.375\n",
      "Final accumulative portfolio value: 8.23183375\n",
      "Maximum DrawDown: -0.3851588041512397\n",
      "Sharpe ratio: 1.2306772289926102\n",
      "=================================\n"
     ]
    },
    {
     "name": "stderr",
     "output_type": "stream",
     "text": [
      " 40%|████      | 4/10 [02:12<03:19, 33.28s/it]"
     ]
    },
    {
     "name": "stdout",
     "output_type": "stream",
     "text": [
      "=================================\n",
      "Initial portfolio value:100000\n",
      "Final portfolio value: 868488.4375\n",
      "Final accumulative portfolio value: 8.684884375\n",
      "Maximum DrawDown: -0.385158966383476\n",
      "Sharpe ratio: 1.261535518590579\n",
      "=================================\n"
     ]
    },
    {
     "name": "stderr",
     "output_type": "stream",
     "text": [
      " 50%|█████     | 5/10 [02:44<02:43, 32.77s/it]"
     ]
    },
    {
     "name": "stdout",
     "output_type": "stream",
     "text": [
      "=================================\n",
      "Initial portfolio value:100000\n",
      "Final portfolio value: 892225.9375\n",
      "Final accumulative portfolio value: 8.922259375\n",
      "Maximum DrawDown: -0.38515879990240076\n",
      "Sharpe ratio: 1.2792690193445377\n",
      "=================================\n"
     ]
    },
    {
     "name": "stderr",
     "output_type": "stream",
     "text": [
      " 60%|██████    | 6/10 [03:19<02:13, 33.42s/it]"
     ]
    },
    {
     "name": "stdout",
     "output_type": "stream",
     "text": [
      "=================================\n",
      "Initial portfolio value:100000\n",
      "Final portfolio value: 843293.5\n",
      "Final accumulative portfolio value: 8.432935\n",
      "Maximum DrawDown: -0.3851588538415096\n",
      "Sharpe ratio: 1.2401388940410514\n",
      "=================================\n"
     ]
    },
    {
     "name": "stderr",
     "output_type": "stream",
     "text": [
      " 70%|███████   | 7/10 [03:51<01:39, 33.15s/it]"
     ]
    },
    {
     "name": "stdout",
     "output_type": "stream",
     "text": [
      "=================================\n",
      "Initial portfolio value:100000\n",
      "Final portfolio value: 861338.4375\n",
      "Final accumulative portfolio value: 8.613384375\n",
      "Maximum DrawDown: -0.3851586720214455\n",
      "Sharpe ratio: 1.2511362291464379\n",
      "=================================\n"
     ]
    },
    {
     "name": "stderr",
     "output_type": "stream",
     "text": [
      " 80%|████████  | 8/10 [04:23<01:05, 32.80s/it]"
     ]
    },
    {
     "name": "stdout",
     "output_type": "stream",
     "text": [
      "=================================\n",
      "Initial portfolio value:100000\n",
      "Final portfolio value: 894247.3125\n",
      "Final accumulative portfolio value: 8.942473125\n",
      "Maximum DrawDown: -0.38515897650899944\n",
      "Sharpe ratio: 1.2721637406583595\n",
      "=================================\n"
     ]
    },
    {
     "name": "stderr",
     "output_type": "stream",
     "text": [
      " 90%|█████████ | 9/10 [05:01<00:34, 34.15s/it]"
     ]
    },
    {
     "name": "stdout",
     "output_type": "stream",
     "text": [
      "=================================\n",
      "Initial portfolio value:100000\n",
      "Final portfolio value: 915848.125\n",
      "Final accumulative portfolio value: 9.15848125\n",
      "Maximum DrawDown: -0.3851587961381351\n",
      "Sharpe ratio: 1.2864729554164183\n",
      "=================================\n"
     ]
    },
    {
     "name": "stderr",
     "output_type": "stream",
     "text": [
      "100%|██████████| 10/10 [05:36<00:00, 33.65s/it]\n",
      "C:\\Users\\xutia\\AppData\\Local\\Temp\\ipykernel_52124\\1506485762.py:43: FutureWarning: You are using `torch.load` with `weights_only=False` (the current default value), which uses the default pickle module implicitly. It is possible to construct malicious pickle data which will execute arbitrary code during unpickling (See https://github.com/pytorch/pytorch/blob/main/SECURITY.md#untrusted-models for more details). In a future release, the default value for `weights_only` will be flipped to `True`. This limits the functions that could be executed during unpickling. Arbitrary objects will no longer be allowed to be loaded via this mode unless they are explicitly allowlisted by the user via `torch.serialization.add_safe_globals`. We recommend you start setting `weights_only=True` for any use case where you don't have full control of the loaded file. Please open an issue on GitHub for any issues related to this experimental feature.\n",
      "  EIIE_policy.load_state_dict(torch.load(model_filename))\n"
     ]
    },
    {
     "name": "stdout",
     "output_type": "stream",
     "text": [
      "=================================\n",
      "Initial portfolio value:100000\n",
      "Final portfolio value: 339953.15625\n",
      "Final accumulative portfolio value: 3.3995315625\n",
      "Maximum DrawDown: -0.32994733827428246\n",
      "Sharpe ratio: 0.8894189538126015\n",
      "=================================\n",
      "=================================\n",
      "Initial portfolio value:100000\n",
      "Final portfolio value: 101068.53125\n",
      "Final accumulative portfolio value: 1.0106853125\n",
      "Maximum DrawDown: -0.3547628828663931\n",
      "Sharpe ratio: 0.16907454205315217\n",
      "=================================\n",
      "Training model with TIME_WINDOW=30, K_SIZE=4, CONV_MID=20, CONV_FINAL=20, LEARNING_RATE=0.02\n"
     ]
    },
    {
     "name": "stderr",
     "output_type": "stream",
     "text": [
      "  0%|          | 0/10 [00:00<?, ?it/s]"
     ]
    },
    {
     "name": "stdout",
     "output_type": "stream",
     "text": [
      "=================================\n",
      "Initial portfolio value:100000\n",
      "Final portfolio value: 220180.078125\n",
      "Final accumulative portfolio value: 2.20180078125\n",
      "Maximum DrawDown: -0.3362408593475753\n",
      "Sharpe ratio: 0.7391572055192948\n",
      "=================================\n"
     ]
    },
    {
     "name": "stderr",
     "output_type": "stream",
     "text": [
      " 10%|█         | 1/10 [00:34<05:14, 34.98s/it]"
     ]
    },
    {
     "name": "stdout",
     "output_type": "stream",
     "text": [
      "=================================\n",
      "Initial portfolio value:100000\n",
      "Final portfolio value: 293278.3125\n",
      "Final accumulative portfolio value: 2.932783125\n",
      "Maximum DrawDown: -0.32830579544360916\n",
      "Sharpe ratio: 0.8894918462934648\n",
      "=================================\n"
     ]
    },
    {
     "name": "stderr",
     "output_type": "stream",
     "text": [
      " 20%|██        | 2/10 [01:09<04:36, 34.60s/it]"
     ]
    },
    {
     "name": "stdout",
     "output_type": "stream",
     "text": [
      "=================================\n",
      "Initial portfolio value:100000\n",
      "Final portfolio value: 578883.0\n",
      "Final accumulative portfolio value: 5.78883\n",
      "Maximum DrawDown: -0.3133943244377967\n",
      "Sharpe ratio: 1.1438220821624288\n",
      "=================================\n"
     ]
    },
    {
     "name": "stderr",
     "output_type": "stream",
     "text": [
      " 30%|███       | 3/10 [01:43<04:01, 34.46s/it]"
     ]
    },
    {
     "name": "stdout",
     "output_type": "stream",
     "text": [
      "=================================\n",
      "Initial portfolio value:100000\n",
      "Final portfolio value: 985758.9375\n",
      "Final accumulative portfolio value: 9.857589375\n",
      "Maximum DrawDown: -0.2805069895421123\n",
      "Sharpe ratio: 1.4031056429687108\n",
      "=================================\n"
     ]
    },
    {
     "name": "stderr",
     "output_type": "stream",
     "text": [
      " 40%|████      | 4/10 [02:26<03:46, 37.70s/it]"
     ]
    },
    {
     "name": "stdout",
     "output_type": "stream",
     "text": [
      "=================================\n",
      "Initial portfolio value:100000\n",
      "Final portfolio value: 1190411.125\n",
      "Final accumulative portfolio value: 11.90411125\n",
      "Maximum DrawDown: -0.3186251122226498\n",
      "Sharpe ratio: 1.4616913255530672\n",
      "=================================\n"
     ]
    },
    {
     "name": "stderr",
     "output_type": "stream",
     "text": [
      " 50%|█████     | 5/10 [03:02<03:06, 37.25s/it]"
     ]
    },
    {
     "name": "stdout",
     "output_type": "stream",
     "text": [
      "=================================\n",
      "Initial portfolio value:100000\n",
      "Final portfolio value: 827748.875\n",
      "Final accumulative portfolio value: 8.27748875\n",
      "Maximum DrawDown: -0.28039299255802386\n",
      "Sharpe ratio: 1.317899665812427\n",
      "=================================\n"
     ]
    },
    {
     "name": "stderr",
     "output_type": "stream",
     "text": [
      " 60%|██████    | 6/10 [03:36<02:23, 35.98s/it]"
     ]
    },
    {
     "name": "stdout",
     "output_type": "stream",
     "text": [
      "=================================\n",
      "Initial portfolio value:100000\n",
      "Final portfolio value: 976801.0625\n",
      "Final accumulative portfolio value: 9.768010625\n",
      "Maximum DrawDown: -0.28039303220590694\n",
      "Sharpe ratio: 1.3990971726264203\n",
      "=================================\n"
     ]
    },
    {
     "name": "stderr",
     "output_type": "stream",
     "text": [
      " 70%|███████   | 7/10 [04:06<01:42, 34.16s/it]"
     ]
    },
    {
     "name": "stdout",
     "output_type": "stream",
     "text": [
      "=================================\n",
      "Initial portfolio value:100000\n",
      "Final portfolio value: 628608.9375\n",
      "Final accumulative portfolio value: 6.286089375\n",
      "Maximum DrawDown: -0.43929366243807255\n",
      "Sharpe ratio: 1.097178820251216\n",
      "=================================\n"
     ]
    },
    {
     "name": "stderr",
     "output_type": "stream",
     "text": [
      " 80%|████████  | 8/10 [04:36<01:05, 32.78s/it]"
     ]
    },
    {
     "name": "stdout",
     "output_type": "stream",
     "text": [
      "=================================\n",
      "Initial portfolio value:100000\n",
      "Final portfolio value: 1653041.625\n",
      "Final accumulative portfolio value: 16.53041625\n",
      "Maximum DrawDown: -0.2803926951709974\n",
      "Sharpe ratio: 1.6369972357602747\n",
      "=================================\n"
     ]
    },
    {
     "name": "stderr",
     "output_type": "stream",
     "text": [
      " 90%|█████████ | 9/10 [05:06<00:31, 31.83s/it]"
     ]
    },
    {
     "name": "stdout",
     "output_type": "stream",
     "text": [
      "=================================\n",
      "Initial portfolio value:100000\n",
      "Final portfolio value: 1725081.5\n",
      "Final accumulative portfolio value: 17.250815\n",
      "Maximum DrawDown: -0.28039302831632906\n",
      "Sharpe ratio: 1.673227978265719\n",
      "=================================\n"
     ]
    },
    {
     "name": "stderr",
     "output_type": "stream",
     "text": [
      "100%|██████████| 10/10 [05:35<00:00, 33.60s/it]\n",
      "C:\\Users\\xutia\\AppData\\Local\\Temp\\ipykernel_52124\\1506485762.py:43: FutureWarning: You are using `torch.load` with `weights_only=False` (the current default value), which uses the default pickle module implicitly. It is possible to construct malicious pickle data which will execute arbitrary code during unpickling (See https://github.com/pytorch/pytorch/blob/main/SECURITY.md#untrusted-models for more details). In a future release, the default value for `weights_only` will be flipped to `True`. This limits the functions that could be executed during unpickling. Arbitrary objects will no longer be allowed to be loaded via this mode unless they are explicitly allowlisted by the user via `torch.serialization.add_safe_globals`. We recommend you start setting `weights_only=True` for any use case where you don't have full control of the loaded file. Please open an issue on GitHub for any issues related to this experimental feature.\n",
      "  EIIE_policy.load_state_dict(torch.load(model_filename))\n"
     ]
    },
    {
     "name": "stdout",
     "output_type": "stream",
     "text": [
      "=================================\n",
      "Initial portfolio value:100000\n",
      "Final portfolio value: 705721.5625\n",
      "Final accumulative portfolio value: 7.057215625\n",
      "Maximum DrawDown: -0.28039291930216836\n",
      "Sharpe ratio: 1.2085252846661017\n",
      "=================================\n",
      "=================================\n",
      "Initial portfolio value:100000\n",
      "Final portfolio value: 110029.734375\n",
      "Final accumulative portfolio value: 1.10029734375\n",
      "Maximum DrawDown: -0.40351153097170867\n",
      "Sharpe ratio: 0.32171221155727775\n",
      "=================================\n",
      "Training model with TIME_WINDOW=60, K_SIZE=3, CONV_MID=5, CONV_FINAL=5, LEARNING_RATE=0.02\n"
     ]
    },
    {
     "name": "stderr",
     "output_type": "stream",
     "text": [
      "  0%|          | 0/10 [00:00<?, ?it/s]"
     ]
    },
    {
     "name": "stdout",
     "output_type": "stream",
     "text": [
      "=================================\n",
      "Initial portfolio value:100000\n",
      "Final portfolio value: 223678.53125\n",
      "Final accumulative portfolio value: 2.2367853125\n",
      "Maximum DrawDown: -0.3123909549309898\n",
      "Sharpe ratio: 0.7863136717830694\n",
      "=================================\n"
     ]
    },
    {
     "name": "stderr",
     "output_type": "stream",
     "text": [
      " 10%|█         | 1/10 [00:33<05:05, 33.90s/it]"
     ]
    },
    {
     "name": "stdout",
     "output_type": "stream",
     "text": [
      "=================================\n",
      "Initial portfolio value:100000\n",
      "Final portfolio value: 228727.96875\n",
      "Final accumulative portfolio value: 2.2872796875\n",
      "Maximum DrawDown: -0.33486528595410947\n",
      "Sharpe ratio: 0.7730981199782871\n",
      "=================================\n"
     ]
    },
    {
     "name": "stderr",
     "output_type": "stream",
     "text": [
      " 20%|██        | 2/10 [01:07<04:27, 33.48s/it]"
     ]
    },
    {
     "name": "stdout",
     "output_type": "stream",
     "text": [
      "=================================\n",
      "Initial portfolio value:100000\n",
      "Final portfolio value: 231019.0625\n",
      "Final accumulative portfolio value: 2.310190625\n",
      "Maximum DrawDown: -0.34038138224446435\n",
      "Sharpe ratio: 0.7698593573043865\n",
      "=================================\n"
     ]
    },
    {
     "name": "stderr",
     "output_type": "stream",
     "text": [
      " 30%|███       | 3/10 [01:43<04:05, 35.05s/it]"
     ]
    },
    {
     "name": "stdout",
     "output_type": "stream",
     "text": [
      "=================================\n",
      "Initial portfolio value:100000\n",
      "Final portfolio value: 233790.15625\n",
      "Final accumulative portfolio value: 2.3379015625\n",
      "Maximum DrawDown: -0.3448389905685376\n",
      "Sharpe ratio: 0.7702005436761585\n",
      "=================================\n"
     ]
    },
    {
     "name": "stderr",
     "output_type": "stream",
     "text": [
      " 40%|████      | 4/10 [02:30<03:57, 39.55s/it]"
     ]
    },
    {
     "name": "stdout",
     "output_type": "stream",
     "text": [
      "=================================\n",
      "Initial portfolio value:100000\n",
      "Final portfolio value: 235771.375\n",
      "Final accumulative portfolio value: 2.35771375\n",
      "Maximum DrawDown: -0.3477905201998296\n",
      "Sharpe ratio: 0.7706026082551075\n",
      "=================================\n"
     ]
    },
    {
     "name": "stderr",
     "output_type": "stream",
     "text": [
      " 50%|█████     | 5/10 [03:08<03:14, 39.00s/it]"
     ]
    },
    {
     "name": "stdout",
     "output_type": "stream",
     "text": [
      "=================================\n",
      "Initial portfolio value:100000\n",
      "Final portfolio value: 236979.984375\n",
      "Final accumulative portfolio value: 2.36979984375\n",
      "Maximum DrawDown: -0.34952822617298385\n",
      "Sharpe ratio: 0.7708713820382287\n",
      "=================================\n"
     ]
    },
    {
     "name": "stderr",
     "output_type": "stream",
     "text": [
      " 60%|██████    | 6/10 [03:44<02:32, 38.06s/it]"
     ]
    },
    {
     "name": "stdout",
     "output_type": "stream",
     "text": [
      "=================================\n",
      "Initial portfolio value:100000\n",
      "Final portfolio value: 237681.09375\n",
      "Final accumulative portfolio value: 2.3768109375\n",
      "Maximum DrawDown: -0.3505228215267777\n",
      "Sharpe ratio: 0.7710389836909868\n",
      "=================================\n"
     ]
    },
    {
     "name": "stderr",
     "output_type": "stream",
     "text": [
      " 70%|███████   | 7/10 [04:18<01:49, 36.66s/it]"
     ]
    },
    {
     "name": "stdout",
     "output_type": "stream",
     "text": [
      "=================================\n",
      "Initial portfolio value:100000\n",
      "Final portfolio value: 238088.0625\n",
      "Final accumulative portfolio value: 2.380880625\n",
      "Maximum DrawDown: -0.35111447208787383\n",
      "Sharpe ratio: 0.7711159816803619\n",
      "=================================\n"
     ]
    },
    {
     "name": "stderr",
     "output_type": "stream",
     "text": [
      " 80%|████████  | 8/10 [04:51<01:10, 35.48s/it]"
     ]
    },
    {
     "name": "stdout",
     "output_type": "stream",
     "text": [
      "=================================\n",
      "Initial portfolio value:100000\n",
      "Final portfolio value: 238338.296875\n",
      "Final accumulative portfolio value: 2.38338296875\n",
      "Maximum DrawDown: -0.3514849343351676\n",
      "Sharpe ratio: 0.7711578902874652\n",
      "=================================\n"
     ]
    },
    {
     "name": "stderr",
     "output_type": "stream",
     "text": [
      " 90%|█████████ | 9/10 [05:24<00:34, 34.81s/it]"
     ]
    },
    {
     "name": "stdout",
     "output_type": "stream",
     "text": [
      "=================================\n",
      "Initial portfolio value:100000\n",
      "Final portfolio value: 238505.8125\n",
      "Final accumulative portfolio value: 2.385058125\n",
      "Maximum DrawDown: -0.35172976221196206\n",
      "Sharpe ratio: 0.7711910774053771\n",
      "=================================\n"
     ]
    },
    {
     "name": "stderr",
     "output_type": "stream",
     "text": [
      "100%|██████████| 10/10 [05:57<00:00, 35.78s/it]\n",
      "C:\\Users\\xutia\\AppData\\Local\\Temp\\ipykernel_52124\\1506485762.py:43: FutureWarning: You are using `torch.load` with `weights_only=False` (the current default value), which uses the default pickle module implicitly. It is possible to construct malicious pickle data which will execute arbitrary code during unpickling (See https://github.com/pytorch/pytorch/blob/main/SECURITY.md#untrusted-models for more details). In a future release, the default value for `weights_only` will be flipped to `True`. This limits the functions that could be executed during unpickling. Arbitrary objects will no longer be allowed to be loaded via this mode unless they are explicitly allowlisted by the user via `torch.serialization.add_safe_globals`. We recommend you start setting `weights_only=True` for any use case where you don't have full control of the loaded file. Please open an issue on GitHub for any issues related to this experimental feature.\n",
      "  EIIE_policy.load_state_dict(torch.load(model_filename))\n"
     ]
    },
    {
     "name": "stdout",
     "output_type": "stream",
     "text": [
      "=================================\n",
      "Initial portfolio value:100000\n",
      "Final portfolio value: 238806.25\n",
      "Final accumulative portfolio value: 2.3880625\n",
      "Maximum DrawDown: -0.3524121641258837\n",
      "Sharpe ratio: 0.771025508946536\n",
      "=================================\n",
      "=================================\n",
      "Initial portfolio value:100000\n",
      "Final portfolio value: 126311.3671875\n",
      "Final accumulative portfolio value: 1.263113671875\n",
      "Maximum DrawDown: -0.15925488436577673\n",
      "Sharpe ratio: 0.8405056465996441\n",
      "=================================\n",
      "Training model with TIME_WINDOW=60, K_SIZE=3, CONV_MID=5, CONV_FINAL=10, LEARNING_RATE=0.02\n"
     ]
    },
    {
     "name": "stderr",
     "output_type": "stream",
     "text": [
      "  0%|          | 0/10 [00:00<?, ?it/s]"
     ]
    },
    {
     "name": "stdout",
     "output_type": "stream",
     "text": [
      "=================================\n",
      "Initial portfolio value:100000\n",
      "Final portfolio value: 208820.359375\n",
      "Final accumulative portfolio value: 2.08820359375\n",
      "Maximum DrawDown: -0.32296550499777676\n",
      "Sharpe ratio: 0.7202103140441556\n",
      "=================================\n"
     ]
    },
    {
     "name": "stderr",
     "output_type": "stream",
     "text": [
      " 10%|█         | 1/10 [00:39<05:53, 39.32s/it]"
     ]
    },
    {
     "name": "stdout",
     "output_type": "stream",
     "text": [
      "=================================\n",
      "Initial portfolio value:100000\n",
      "Final portfolio value: 224107.28125\n",
      "Final accumulative portfolio value: 2.2410728125\n",
      "Maximum DrawDown: -0.3277171966880442\n",
      "Sharpe ratio: 0.770052105572197\n",
      "=================================\n"
     ]
    },
    {
     "name": "stderr",
     "output_type": "stream",
     "text": [
      " 20%|██        | 2/10 [01:20<05:25, 40.70s/it]"
     ]
    },
    {
     "name": "stdout",
     "output_type": "stream",
     "text": [
      "=================================\n",
      "Initial portfolio value:100000\n",
      "Final portfolio value: 226338.984375\n",
      "Final accumulative portfolio value: 2.26338984375\n",
      "Maximum DrawDown: -0.33146456802324775\n",
      "Sharpe ratio: 0.7702898655387687\n",
      "=================================\n"
     ]
    },
    {
     "name": "stderr",
     "output_type": "stream",
     "text": [
      " 30%|███       | 3/10 [02:01<04:43, 40.47s/it]"
     ]
    },
    {
     "name": "stdout",
     "output_type": "stream",
     "text": [
      "=================================\n",
      "Initial portfolio value:100000\n",
      "Final portfolio value: 228139.953125\n",
      "Final accumulative portfolio value: 2.28139953125\n",
      "Maximum DrawDown: -0.33447291193945994\n",
      "Sharpe ratio: 0.7704754236986664\n",
      "=================================\n"
     ]
    },
    {
     "name": "stderr",
     "output_type": "stream",
     "text": [
      " 40%|████      | 4/10 [02:37<03:54, 39.03s/it]"
     ]
    },
    {
     "name": "stdout",
     "output_type": "stream",
     "text": [
      "=================================\n",
      "Initial portfolio value:100000\n",
      "Final portfolio value: 229606.03125\n",
      "Final accumulative portfolio value: 2.2960603125\n",
      "Maximum DrawDown: -0.3368975356171813\n",
      "Sharpe ratio: 0.7706436257056144\n",
      "=================================\n"
     ]
    },
    {
     "name": "stderr",
     "output_type": "stream",
     "text": [
      " 50%|█████     | 5/10 [03:13<03:09, 37.90s/it]"
     ]
    },
    {
     "name": "stdout",
     "output_type": "stream",
     "text": [
      "=================================\n",
      "Initial portfolio value:100000\n",
      "Final portfolio value: 230793.96875\n",
      "Final accumulative portfolio value: 2.3079396875\n",
      "Maximum DrawDown: -0.3388685674687545\n",
      "Sharpe ratio: 0.7707499879261533\n",
      "=================================\n"
     ]
    },
    {
     "name": "stderr",
     "output_type": "stream",
     "text": [
      " 60%|██████    | 6/10 [03:51<02:30, 37.64s/it]"
     ]
    },
    {
     "name": "stdout",
     "output_type": "stream",
     "text": [
      "=================================\n",
      "Initial portfolio value:100000\n",
      "Final portfolio value: 231766.515625\n",
      "Final accumulative portfolio value: 2.31766515625\n",
      "Maximum DrawDown: -0.3404825693924969\n",
      "Sharpe ratio: 0.7708229353787501\n",
      "=================================\n"
     ]
    },
    {
     "name": "stderr",
     "output_type": "stream",
     "text": [
      " 70%|███████   | 7/10 [04:26<01:51, 37.05s/it]"
     ]
    },
    {
     "name": "stdout",
     "output_type": "stream",
     "text": [
      "=================================\n",
      "Initial portfolio value:100000\n",
      "Final portfolio value: 232585.265625\n",
      "Final accumulative portfolio value: 2.32585265625\n",
      "Maximum DrawDown: -0.34182007543358495\n",
      "Sharpe ratio: 0.770922815289064\n",
      "=================================\n"
     ]
    },
    {
     "name": "stderr",
     "output_type": "stream",
     "text": [
      " 80%|████████  | 8/10 [05:00<01:11, 35.94s/it]"
     ]
    },
    {
     "name": "stdout",
     "output_type": "stream",
     "text": [
      "=================================\n",
      "Initial portfolio value:100000\n",
      "Final portfolio value: 233260.75\n",
      "Final accumulative portfolio value: 2.3326075\n",
      "Maximum DrawDown: -0.3429401887881901\n",
      "Sharpe ratio: 0.7709716080666977\n",
      "=================================\n"
     ]
    },
    {
     "name": "stderr",
     "output_type": "stream",
     "text": [
      " 90%|█████████ | 9/10 [05:34<00:35, 35.48s/it]"
     ]
    },
    {
     "name": "stdout",
     "output_type": "stream",
     "text": [
      "=================================\n",
      "Initial portfolio value:100000\n",
      "Final portfolio value: 233834.78125\n",
      "Final accumulative portfolio value: 2.3383478125\n",
      "Maximum DrawDown: -0.3438847654637912\n",
      "Sharpe ratio: 0.7710234829920249\n",
      "=================================\n"
     ]
    },
    {
     "name": "stderr",
     "output_type": "stream",
     "text": [
      "100%|██████████| 10/10 [06:08<00:00, 36.83s/it]\n",
      "C:\\Users\\xutia\\AppData\\Local\\Temp\\ipykernel_52124\\1506485762.py:43: FutureWarning: You are using `torch.load` with `weights_only=False` (the current default value), which uses the default pickle module implicitly. It is possible to construct malicious pickle data which will execute arbitrary code during unpickling (See https://github.com/pytorch/pytorch/blob/main/SECURITY.md#untrusted-models for more details). In a future release, the default value for `weights_only` will be flipped to `True`. This limits the functions that could be executed during unpickling. Arbitrary objects will no longer be allowed to be loaded via this mode unless they are explicitly allowlisted by the user via `torch.serialization.add_safe_globals`. We recommend you start setting `weights_only=True` for any use case where you don't have full control of the loaded file. Please open an issue on GitHub for any issues related to this experimental feature.\n",
      "  EIIE_policy.load_state_dict(torch.load(model_filename))\n"
     ]
    },
    {
     "name": "stdout",
     "output_type": "stream",
     "text": [
      "=================================\n",
      "Initial portfolio value:100000\n",
      "Final portfolio value: 234942.953125\n",
      "Final accumulative portfolio value: 2.34942953125\n",
      "Maximum DrawDown: -0.3469556628471995\n",
      "Sharpe ratio: 0.769862389598668\n",
      "=================================\n",
      "=================================\n",
      "Initial portfolio value:100000\n",
      "Final portfolio value: 125699.4453125\n",
      "Final accumulative portfolio value: 1.256994453125\n",
      "Maximum DrawDown: -0.15620299268421167\n",
      "Sharpe ratio: 0.8383026134571747\n",
      "=================================\n",
      "Training model with TIME_WINDOW=60, K_SIZE=3, CONV_MID=5, CONV_FINAL=20, LEARNING_RATE=0.02\n"
     ]
    },
    {
     "name": "stderr",
     "output_type": "stream",
     "text": [
      "  0%|          | 0/10 [00:00<?, ?it/s]"
     ]
    },
    {
     "name": "stdout",
     "output_type": "stream",
     "text": [
      "=================================\n",
      "Initial portfolio value:100000\n",
      "Final portfolio value: 326429.15625\n",
      "Final accumulative portfolio value: 3.2642915625\n",
      "Maximum DrawDown: -0.348588735889495\n",
      "Sharpe ratio: 0.8807626880491526\n",
      "=================================\n"
     ]
    },
    {
     "name": "stderr",
     "output_type": "stream",
     "text": [
      " 10%|█         | 1/10 [00:32<04:54, 32.72s/it]"
     ]
    },
    {
     "name": "stdout",
     "output_type": "stream",
     "text": [
      "=================================\n",
      "Initial portfolio value:100000\n",
      "Final portfolio value: 530790.1875\n",
      "Final accumulative portfolio value: 5.307901875\n",
      "Maximum DrawDown: -0.36794847707395395\n",
      "Sharpe ratio: 1.0297816263532635\n",
      "=================================\n"
     ]
    },
    {
     "name": "stderr",
     "output_type": "stream",
     "text": [
      " 20%|██        | 2/10 [01:08<04:35, 34.39s/it]"
     ]
    },
    {
     "name": "stdout",
     "output_type": "stream",
     "text": [
      "=================================\n",
      "Initial portfolio value:100000\n",
      "Final portfolio value: 734009.875\n",
      "Final accumulative portfolio value: 7.34009875\n",
      "Maximum DrawDown: -0.30368008138229696\n",
      "Sharpe ratio: 1.2597750567366628\n",
      "=================================\n"
     ]
    },
    {
     "name": "stderr",
     "output_type": "stream",
     "text": [
      " 30%|███       | 3/10 [01:39<03:51, 33.07s/it]"
     ]
    },
    {
     "name": "stdout",
     "output_type": "stream",
     "text": [
      "=================================\n",
      "Initial portfolio value:100000\n",
      "Final portfolio value: 908230.625\n",
      "Final accumulative portfolio value: 9.08230625\n",
      "Maximum DrawDown: -0.2759156420235016\n",
      "Sharpe ratio: 1.3399061941586796\n",
      "=================================\n"
     ]
    },
    {
     "name": "stderr",
     "output_type": "stream",
     "text": [
      " 40%|████      | 4/10 [02:10<03:13, 32.32s/it]"
     ]
    },
    {
     "name": "stdout",
     "output_type": "stream",
     "text": [
      "=================================\n",
      "Initial portfolio value:100000\n",
      "Final portfolio value: 714394.125\n",
      "Final accumulative portfolio value: 7.14394125\n",
      "Maximum DrawDown: -0.28039377636300644\n",
      "Sharpe ratio: 1.256974368239977\n",
      "=================================\n"
     ]
    },
    {
     "name": "stderr",
     "output_type": "stream",
     "text": [
      " 50%|█████     | 5/10 [02:46<02:46, 33.35s/it]"
     ]
    },
    {
     "name": "stdout",
     "output_type": "stream",
     "text": [
      "=================================\n",
      "Initial portfolio value:100000\n",
      "Final portfolio value: 865777.125\n",
      "Final accumulative portfolio value: 8.65777125\n",
      "Maximum DrawDown: -0.28039299807358964\n",
      "Sharpe ratio: 1.329374073190932\n",
      "=================================\n"
     ]
    },
    {
     "name": "stderr",
     "output_type": "stream",
     "text": [
      " 60%|██████    | 6/10 [03:20<02:14, 33.74s/it]"
     ]
    },
    {
     "name": "stdout",
     "output_type": "stream",
     "text": [
      "=================================\n",
      "Initial portfolio value:100000\n",
      "Final portfolio value: 1016941.9375\n",
      "Final accumulative portfolio value: 10.169419375\n",
      "Maximum DrawDown: -0.28039035440979865\n",
      "Sharpe ratio: 1.4117730330405835\n",
      "=================================\n"
     ]
    },
    {
     "name": "stderr",
     "output_type": "stream",
     "text": [
      " 70%|███████   | 7/10 [03:55<01:41, 33.96s/it]"
     ]
    },
    {
     "name": "stdout",
     "output_type": "stream",
     "text": [
      "=================================\n",
      "Initial portfolio value:100000\n",
      "Final portfolio value: 1209865.375\n",
      "Final accumulative portfolio value: 12.09865375\n",
      "Maximum DrawDown: -0.2803931148485185\n",
      "Sharpe ratio: 1.5126040249443815\n",
      "=================================\n"
     ]
    },
    {
     "name": "stderr",
     "output_type": "stream",
     "text": [
      " 80%|████████  | 8/10 [04:28<01:07, 33.83s/it]"
     ]
    },
    {
     "name": "stdout",
     "output_type": "stream",
     "text": [
      "=================================\n",
      "Initial portfolio value:100000\n",
      "Final portfolio value: 903421.875\n",
      "Final accumulative portfolio value: 9.03421875\n",
      "Maximum DrawDown: -0.38668181755138187\n",
      "Sharpe ratio: 1.295347606402323\n",
      "=================================\n"
     ]
    },
    {
     "name": "stderr",
     "output_type": "stream",
     "text": [
      " 90%|█████████ | 9/10 [05:05<00:34, 34.71s/it]"
     ]
    },
    {
     "name": "stdout",
     "output_type": "stream",
     "text": [
      "=================================\n",
      "Initial portfolio value:100000\n",
      "Final portfolio value: 1096871.5\n",
      "Final accumulative portfolio value: 10.968715\n",
      "Maximum DrawDown: -0.28039282756196326\n",
      "Sharpe ratio: 1.4619351066117448\n",
      "=================================\n"
     ]
    },
    {
     "name": "stderr",
     "output_type": "stream",
     "text": [
      "100%|██████████| 10/10 [05:40<00:00, 34.02s/it]\n",
      "C:\\Users\\xutia\\AppData\\Local\\Temp\\ipykernel_52124\\1506485762.py:43: FutureWarning: You are using `torch.load` with `weights_only=False` (the current default value), which uses the default pickle module implicitly. It is possible to construct malicious pickle data which will execute arbitrary code during unpickling (See https://github.com/pytorch/pytorch/blob/main/SECURITY.md#untrusted-models for more details). In a future release, the default value for `weights_only` will be flipped to `True`. This limits the functions that could be executed during unpickling. Arbitrary objects will no longer be allowed to be loaded via this mode unless they are explicitly allowlisted by the user via `torch.serialization.add_safe_globals`. We recommend you start setting `weights_only=True` for any use case where you don't have full control of the loaded file. Please open an issue on GitHub for any issues related to this experimental feature.\n",
      "  EIIE_policy.load_state_dict(torch.load(model_filename))\n"
     ]
    },
    {
     "name": "stdout",
     "output_type": "stream",
     "text": [
      "=================================\n",
      "Initial portfolio value:100000\n",
      "Final portfolio value: 899623.6875\n",
      "Final accumulative portfolio value: 8.996236875\n",
      "Maximum DrawDown: -0.31427283312823096\n",
      "Sharpe ratio: 1.3068900687193847\n",
      "=================================\n",
      "=================================\n",
      "Initial portfolio value:100000\n",
      "Final portfolio value: 142120.46875\n",
      "Final accumulative portfolio value: 1.4212046875\n",
      "Maximum DrawDown: -0.2292459690192582\n",
      "Sharpe ratio: 0.8731345024888936\n",
      "=================================\n",
      "Training model with TIME_WINDOW=60, K_SIZE=3, CONV_MID=20, CONV_FINAL=5, LEARNING_RATE=0.02\n"
     ]
    },
    {
     "name": "stderr",
     "output_type": "stream",
     "text": [
      "  0%|          | 0/10 [00:00<?, ?it/s]"
     ]
    },
    {
     "name": "stdout",
     "output_type": "stream",
     "text": [
      "=================================\n",
      "Initial portfolio value:100000\n",
      "Final portfolio value: 269964.09375\n",
      "Final accumulative portfolio value: 2.6996409375\n",
      "Maximum DrawDown: -0.3208273092663966\n",
      "Sharpe ratio: 0.8607116711290718\n",
      "=================================\n"
     ]
    },
    {
     "name": "stderr",
     "output_type": "stream",
     "text": [
      " 10%|█         | 1/10 [00:31<04:46, 31.79s/it]"
     ]
    },
    {
     "name": "stdout",
     "output_type": "stream",
     "text": [
      "=================================\n",
      "Initial portfolio value:100000\n",
      "Final portfolio value: 441027.375\n",
      "Final accumulative portfolio value: 4.41027375\n",
      "Maximum DrawDown: -0.28948397612203924\n",
      "Sharpe ratio: 1.1266288944229763\n",
      "=================================\n"
     ]
    },
    {
     "name": "stderr",
     "output_type": "stream",
     "text": [
      " 20%|██        | 2/10 [01:02<04:08, 31.09s/it]"
     ]
    },
    {
     "name": "stdout",
     "output_type": "stream",
     "text": [
      "=================================\n",
      "Initial portfolio value:100000\n",
      "Final portfolio value: 500418.34375\n",
      "Final accumulative portfolio value: 5.0041834375\n",
      "Maximum DrawDown: -0.34277858357429747\n",
      "Sharpe ratio: 1.06305056578189\n",
      "=================================\n"
     ]
    },
    {
     "name": "stderr",
     "output_type": "stream",
     "text": [
      " 30%|███       | 3/10 [01:32<03:35, 30.77s/it]"
     ]
    },
    {
     "name": "stdout",
     "output_type": "stream",
     "text": [
      "=================================\n",
      "Initial portfolio value:100000\n",
      "Final portfolio value: 740881.625\n",
      "Final accumulative portfolio value: 7.40881625\n",
      "Maximum DrawDown: -0.28039304766593276\n",
      "Sharpe ratio: 1.3090075334517215\n",
      "=================================\n"
     ]
    },
    {
     "name": "stderr",
     "output_type": "stream",
     "text": [
      " 40%|████      | 4/10 [02:02<03:03, 30.54s/it]"
     ]
    },
    {
     "name": "stdout",
     "output_type": "stream",
     "text": [
      "=================================\n",
      "Initial portfolio value:100000\n",
      "Final portfolio value: 653722.9375\n",
      "Final accumulative portfolio value: 6.537229375\n",
      "Maximum DrawDown: -0.28039296479194864\n",
      "Sharpe ratio: 1.215585133242285\n",
      "=================================\n"
     ]
    },
    {
     "name": "stderr",
     "output_type": "stream",
     "text": [
      " 50%|█████     | 5/10 [02:33<02:32, 30.47s/it]"
     ]
    },
    {
     "name": "stdout",
     "output_type": "stream",
     "text": [
      "=================================\n",
      "Initial portfolio value:100000\n",
      "Final portfolio value: 819001.6875\n",
      "Final accumulative portfolio value: 8.190016875\n",
      "Maximum DrawDown: -0.28039307346476616\n",
      "Sharpe ratio: 1.3190358202239465\n",
      "=================================\n"
     ]
    },
    {
     "name": "stderr",
     "output_type": "stream",
     "text": [
      " 60%|██████    | 6/10 [03:04<02:02, 30.56s/it]"
     ]
    },
    {
     "name": "stdout",
     "output_type": "stream",
     "text": [
      "=================================\n",
      "Initial portfolio value:100000\n",
      "Final portfolio value: 408397.9375\n",
      "Final accumulative portfolio value: 4.083979375\n",
      "Maximum DrawDown: -0.4624782534497247\n",
      "Sharpe ratio: 0.8637994127724216\n",
      "=================================\n"
     ]
    },
    {
     "name": "stderr",
     "output_type": "stream",
     "text": [
      " 70%|███████   | 7/10 [03:36<01:33, 31.17s/it]"
     ]
    },
    {
     "name": "stdout",
     "output_type": "stream",
     "text": [
      "=================================\n",
      "Initial portfolio value:100000\n",
      "Final portfolio value: 713202.75\n",
      "Final accumulative portfolio value: 7.1320275\n",
      "Maximum DrawDown: -0.38515872506561244\n",
      "Sharpe ratio: 1.197232662283226\n",
      "=================================\n"
     ]
    },
    {
     "name": "stderr",
     "output_type": "stream",
     "text": [
      " 80%|████████  | 8/10 [04:10<01:04, 32.07s/it]"
     ]
    },
    {
     "name": "stdout",
     "output_type": "stream",
     "text": [
      "=================================\n",
      "Initial portfolio value:100000\n",
      "Final portfolio value: 714329.5\n",
      "Final accumulative portfolio value: 7.143295\n",
      "Maximum DrawDown: -0.38492424597317254\n",
      "Sharpe ratio: 1.1741677106593187\n",
      "=================================\n"
     ]
    },
    {
     "name": "stderr",
     "output_type": "stream",
     "text": [
      " 90%|█████████ | 9/10 [04:44<00:32, 32.78s/it]"
     ]
    },
    {
     "name": "stdout",
     "output_type": "stream",
     "text": [
      "=================================\n",
      "Initial portfolio value:100000\n",
      "Final portfolio value: 962966.1875\n",
      "Final accumulative portfolio value: 9.629661875\n",
      "Maximum DrawDown: -0.38324178889740035\n",
      "Sharpe ratio: 1.3443334423464948\n",
      "=================================\n"
     ]
    },
    {
     "name": "stderr",
     "output_type": "stream",
     "text": [
      "100%|██████████| 10/10 [05:16<00:00, 31.68s/it]\n",
      "C:\\Users\\xutia\\AppData\\Local\\Temp\\ipykernel_52124\\1506485762.py:43: FutureWarning: You are using `torch.load` with `weights_only=False` (the current default value), which uses the default pickle module implicitly. It is possible to construct malicious pickle data which will execute arbitrary code during unpickling (See https://github.com/pytorch/pytorch/blob/main/SECURITY.md#untrusted-models for more details). In a future release, the default value for `weights_only` will be flipped to `True`. This limits the functions that could be executed during unpickling. Arbitrary objects will no longer be allowed to be loaded via this mode unless they are explicitly allowlisted by the user via `torch.serialization.add_safe_globals`. We recommend you start setting `weights_only=True` for any use case where you don't have full control of the loaded file. Please open an issue on GitHub for any issues related to this experimental feature.\n",
      "  EIIE_policy.load_state_dict(torch.load(model_filename))\n"
     ]
    },
    {
     "name": "stdout",
     "output_type": "stream",
     "text": [
      "=================================\n",
      "Initial portfolio value:100000\n",
      "Final portfolio value: 628014.0\n",
      "Final accumulative portfolio value: 6.28014\n",
      "Maximum DrawDown: -0.3851591887441784\n",
      "Sharpe ratio: 1.0951823789895763\n",
      "=================================\n",
      "=================================\n",
      "Initial portfolio value:100000\n",
      "Final portfolio value: 160993.0625\n",
      "Final accumulative portfolio value: 1.609930625\n",
      "Maximum DrawDown: -0.24730174833571583\n",
      "Sharpe ratio: 1.1135485094073094\n",
      "=================================\n",
      "Training model with TIME_WINDOW=60, K_SIZE=3, CONV_MID=20, CONV_FINAL=10, LEARNING_RATE=0.02\n"
     ]
    },
    {
     "name": "stderr",
     "output_type": "stream",
     "text": [
      "  0%|          | 0/10 [00:00<?, ?it/s]"
     ]
    },
    {
     "name": "stdout",
     "output_type": "stream",
     "text": [
      "=================================\n",
      "Initial portfolio value:100000\n",
      "Final portfolio value: 366426.5\n",
      "Final accumulative portfolio value: 3.664265\n",
      "Maximum DrawDown: -0.36573737299314646\n",
      "Sharpe ratio: 0.8842847751434874\n",
      "=================================\n"
     ]
    },
    {
     "name": "stderr",
     "output_type": "stream",
     "text": [
      " 10%|█         | 1/10 [00:34<05:06, 34.07s/it]"
     ]
    },
    {
     "name": "stdout",
     "output_type": "stream",
     "text": [
      "=================================\n",
      "Initial portfolio value:100000\n",
      "Final portfolio value: 663638.375\n",
      "Final accumulative portfolio value: 6.63638375\n",
      "Maximum DrawDown: -0.38452869934808287\n",
      "Sharpe ratio: 1.1450377668694196\n",
      "=================================\n"
     ]
    },
    {
     "name": "stderr",
     "output_type": "stream",
     "text": [
      " 20%|██        | 2/10 [01:08<04:31, 34.00s/it]"
     ]
    },
    {
     "name": "stdout",
     "output_type": "stream",
     "text": [
      "=================================\n",
      "Initial portfolio value:100000\n",
      "Final portfolio value: 486773.46875\n",
      "Final accumulative portfolio value: 4.8677346875\n",
      "Maximum DrawDown: -0.30790132667922854\n",
      "Sharpe ratio: 1.0511733583579965\n",
      "=================================\n"
     ]
    },
    {
     "name": "stderr",
     "output_type": "stream",
     "text": [
      " 30%|███       | 3/10 [01:51<04:29, 38.54s/it]"
     ]
    },
    {
     "name": "stdout",
     "output_type": "stream",
     "text": [
      "=================================\n",
      "Initial portfolio value:100000\n",
      "Final portfolio value: 351038.3125\n",
      "Final accumulative portfolio value: 3.510383125\n",
      "Maximum DrawDown: -0.3079013982642237\n",
      "Sharpe ratio: 0.845053722027228\n",
      "=================================\n"
     ]
    },
    {
     "name": "stderr",
     "output_type": "stream",
     "text": [
      " 40%|████      | 4/10 [02:39<04:11, 41.90s/it]"
     ]
    },
    {
     "name": "stdout",
     "output_type": "stream",
     "text": [
      "=================================\n",
      "Initial portfolio value:100000\n",
      "Final portfolio value: 269099.0625\n",
      "Final accumulative portfolio value: 2.690990625\n",
      "Maximum DrawDown: -0.30790137163812437\n",
      "Sharpe ratio: 0.689632607594191\n",
      "=================================\n"
     ]
    },
    {
     "name": "stderr",
     "output_type": "stream",
     "text": [
      " 50%|█████     | 5/10 [03:25<03:38, 43.71s/it]"
     ]
    },
    {
     "name": "stdout",
     "output_type": "stream",
     "text": [
      "=================================\n",
      "Initial portfolio value:100000\n",
      "Final portfolio value: 127210.6796875\n",
      "Final accumulative portfolio value: 1.272106796875\n",
      "Maximum DrawDown: -0.17368473089271175\n",
      "Sharpe ratio: 0.3435565539792794\n",
      "=================================\n"
     ]
    },
    {
     "name": "stderr",
     "output_type": "stream",
     "text": [
      " 60%|██████    | 6/10 [04:11<02:57, 44.36s/it]"
     ]
    },
    {
     "name": "stdout",
     "output_type": "stream",
     "text": [
      "=================================\n",
      "Initial portfolio value:100000\n",
      "Final portfolio value: 100000.0\n",
      "Final accumulative portfolio value: 1.0\n",
      "Maximum DrawDown: 0.0\n",
      "Sharpe ratio: nan\n",
      "=================================\n"
     ]
    },
    {
     "name": "stderr",
     "output_type": "stream",
     "text": [
      "C:\\Users\\xutia\\AppData\\Roaming\\Python\\Python310\\site-packages\\quantstats\\stats.py:294: RuntimeWarning: invalid value encountered in scalar divide\n",
      "  res = returns.mean() / divisor\n",
      " 70%|███████   | 7/10 [04:52<02:09, 43.28s/it]"
     ]
    },
    {
     "name": "stdout",
     "output_type": "stream",
     "text": [
      "=================================\n",
      "Initial portfolio value:100000\n",
      "Final portfolio value: 100000.0\n",
      "Final accumulative portfolio value: 1.0\n",
      "Maximum DrawDown: 0.0\n",
      "Sharpe ratio: nan\n",
      "=================================\n"
     ]
    },
    {
     "name": "stderr",
     "output_type": "stream",
     "text": [
      "C:\\Users\\xutia\\AppData\\Roaming\\Python\\Python310\\site-packages\\quantstats\\stats.py:294: RuntimeWarning: invalid value encountered in scalar divide\n",
      "  res = returns.mean() / divisor\n",
      " 80%|████████  | 8/10 [05:35<01:26, 43.03s/it]"
     ]
    },
    {
     "name": "stdout",
     "output_type": "stream",
     "text": [
      "=================================\n",
      "Initial portfolio value:100000\n",
      "Final portfolio value: 100000.0\n",
      "Final accumulative portfolio value: 1.0\n",
      "Maximum DrawDown: 0.0\n",
      "Sharpe ratio: nan\n",
      "=================================\n"
     ]
    },
    {
     "name": "stderr",
     "output_type": "stream",
     "text": [
      "C:\\Users\\xutia\\AppData\\Roaming\\Python\\Python310\\site-packages\\quantstats\\stats.py:294: RuntimeWarning: invalid value encountered in scalar divide\n",
      "  res = returns.mean() / divisor\n",
      " 90%|█████████ | 9/10 [06:15<00:42, 42.35s/it]"
     ]
    },
    {
     "name": "stdout",
     "output_type": "stream",
     "text": [
      "=================================\n",
      "Initial portfolio value:100000\n",
      "Final portfolio value: 100000.0\n",
      "Final accumulative portfolio value: 1.0\n",
      "Maximum DrawDown: 0.0\n",
      "Sharpe ratio: nan\n",
      "=================================\n"
     ]
    },
    {
     "name": "stderr",
     "output_type": "stream",
     "text": [
      "C:\\Users\\xutia\\AppData\\Roaming\\Python\\Python310\\site-packages\\quantstats\\stats.py:294: RuntimeWarning: invalid value encountered in scalar divide\n",
      "  res = returns.mean() / divisor\n",
      "100%|██████████| 10/10 [06:57<00:00, 41.77s/it]\n",
      "C:\\Users\\xutia\\AppData\\Local\\Temp\\ipykernel_52124\\1506485762.py:43: FutureWarning: You are using `torch.load` with `weights_only=False` (the current default value), which uses the default pickle module implicitly. It is possible to construct malicious pickle data which will execute arbitrary code during unpickling (See https://github.com/pytorch/pytorch/blob/main/SECURITY.md#untrusted-models for more details). In a future release, the default value for `weights_only` will be flipped to `True`. This limits the functions that could be executed during unpickling. Arbitrary objects will no longer be allowed to be loaded via this mode unless they are explicitly allowlisted by the user via `torch.serialization.add_safe_globals`. We recommend you start setting `weights_only=True` for any use case where you don't have full control of the loaded file. Please open an issue on GitHub for any issues related to this experimental feature.\n",
      "  EIIE_policy.load_state_dict(torch.load(model_filename))\n"
     ]
    },
    {
     "name": "stdout",
     "output_type": "stream",
     "text": [
      "=================================\n",
      "Initial portfolio value:100000\n",
      "Final portfolio value: 100000.0\n",
      "Final accumulative portfolio value: 1.0\n",
      "Maximum DrawDown: 0.0\n",
      "Sharpe ratio: nan\n",
      "=================================\n"
     ]
    },
    {
     "name": "stderr",
     "output_type": "stream",
     "text": [
      "C:\\Users\\xutia\\AppData\\Roaming\\Python\\Python310\\site-packages\\quantstats\\stats.py:294: RuntimeWarning: invalid value encountered in scalar divide\n",
      "  res = returns.mean() / divisor\n",
      "C:\\Users\\xutia\\AppData\\Local\\Temp\\ipykernel_52124\\1961489708.py:71: RuntimeWarning: invalid value encountered in scalar divide\n",
      "  sharpe_ratio = np.mean(excess_returns) / np.std(excess_returns)\n"
     ]
    },
    {
     "name": "stdout",
     "output_type": "stream",
     "text": [
      "=================================\n",
      "Initial portfolio value:100000\n",
      "Final portfolio value: 100000.0\n",
      "Final accumulative portfolio value: 1.0\n",
      "Maximum DrawDown: 0.0\n",
      "Sharpe ratio: nan\n",
      "=================================\n"
     ]
    },
    {
     "name": "stderr",
     "output_type": "stream",
     "text": [
      "C:\\Users\\xutia\\AppData\\Roaming\\Python\\Python310\\site-packages\\quantstats\\stats.py:294: RuntimeWarning: invalid value encountered in scalar divide\n",
      "  res = returns.mean() / divisor\n",
      "C:\\Users\\xutia\\AppData\\Local\\Temp\\ipykernel_52124\\1961489708.py:71: RuntimeWarning: invalid value encountered in scalar divide\n",
      "  sharpe_ratio = np.mean(excess_returns) / np.std(excess_returns)\n"
     ]
    },
    {
     "name": "stdout",
     "output_type": "stream",
     "text": [
      "Training model with TIME_WINDOW=60, K_SIZE=3, CONV_MID=20, CONV_FINAL=20, LEARNING_RATE=0.02\n"
     ]
    },
    {
     "name": "stderr",
     "output_type": "stream",
     "text": [
      "  0%|          | 0/10 [00:00<?, ?it/s]"
     ]
    },
    {
     "name": "stdout",
     "output_type": "stream",
     "text": [
      "=================================\n",
      "Initial portfolio value:100000\n",
      "Final portfolio value: 328295.09375\n",
      "Final accumulative portfolio value: 3.2829509375\n",
      "Maximum DrawDown: -0.31979531329728894\n",
      "Sharpe ratio: 0.9152448909232758\n",
      "=================================\n"
     ]
    },
    {
     "name": "stderr",
     "output_type": "stream",
     "text": [
      " 10%|█         | 1/10 [00:45<06:50, 45.62s/it]"
     ]
    },
    {
     "name": "stdout",
     "output_type": "stream",
     "text": [
      "=================================\n",
      "Initial portfolio value:100000\n",
      "Final portfolio value: 623923.875\n",
      "Final accumulative portfolio value: 6.23923875\n",
      "Maximum DrawDown: -0.38298912575572586\n",
      "Sharpe ratio: 1.1473826010864765\n",
      "=================================\n"
     ]
    },
    {
     "name": "stderr",
     "output_type": "stream",
     "text": [
      " 20%|██        | 2/10 [01:29<05:54, 44.33s/it]"
     ]
    },
    {
     "name": "stdout",
     "output_type": "stream",
     "text": [
      "=================================\n",
      "Initial portfolio value:100000\n",
      "Final portfolio value: 410244.15625\n",
      "Final accumulative portfolio value: 4.1024415625\n",
      "Maximum DrawDown: -0.44524952856303224\n",
      "Sharpe ratio: 0.8757308410938682\n",
      "=================================\n"
     ]
    },
    {
     "name": "stderr",
     "output_type": "stream",
     "text": [
      " 30%|███       | 3/10 [02:04<04:42, 40.29s/it]"
     ]
    },
    {
     "name": "stdout",
     "output_type": "stream",
     "text": [
      "=================================\n",
      "Initial portfolio value:100000\n",
      "Final portfolio value: 776841.625\n",
      "Final accumulative portfolio value: 7.76841625\n",
      "Maximum DrawDown: -0.28908212100188113\n",
      "Sharpe ratio: 1.314327698042713\n",
      "=================================\n"
     ]
    },
    {
     "name": "stderr",
     "output_type": "stream",
     "text": [
      " 40%|████      | 4/10 [02:40<03:51, 38.60s/it]"
     ]
    },
    {
     "name": "stdout",
     "output_type": "stream",
     "text": [
      "=================================\n",
      "Initial portfolio value:100000\n",
      "Final portfolio value: 487482.40625\n",
      "Final accumulative portfolio value: 4.8748240625\n",
      "Maximum DrawDown: -0.4554872322556843\n",
      "Sharpe ratio: 0.9638369733663698\n",
      "=================================\n"
     ]
    },
    {
     "name": "stderr",
     "output_type": "stream",
     "text": [
      " 50%|█████     | 5/10 [03:20<03:15, 39.10s/it]"
     ]
    },
    {
     "name": "stdout",
     "output_type": "stream",
     "text": [
      "=================================\n",
      "Initial portfolio value:100000\n",
      "Final portfolio value: 400484.75\n",
      "Final accumulative portfolio value: 4.0048475\n",
      "Maximum DrawDown: -0.46915546034500044\n",
      "Sharpe ratio: 0.8484481592242769\n",
      "=================================\n"
     ]
    },
    {
     "name": "stderr",
     "output_type": "stream",
     "text": [
      " 60%|██████    | 6/10 [04:00<02:38, 39.56s/it]"
     ]
    },
    {
     "name": "stdout",
     "output_type": "stream",
     "text": [
      "=================================\n",
      "Initial portfolio value:100000\n",
      "Final portfolio value: 502220.96875\n",
      "Final accumulative portfolio value: 5.0222096875\n",
      "Maximum DrawDown: -0.454905164945411\n",
      "Sharpe ratio: 0.9613247355617182\n",
      "=================================\n"
     ]
    },
    {
     "name": "stderr",
     "output_type": "stream",
     "text": [
      " 70%|███████   | 7/10 [04:40<01:58, 39.57s/it]"
     ]
    },
    {
     "name": "stdout",
     "output_type": "stream",
     "text": [
      "=================================\n",
      "Initial portfolio value:100000\n",
      "Final portfolio value: 823934.9375\n",
      "Final accumulative portfolio value: 8.239349375\n",
      "Maximum DrawDown: -0.3851579113361424\n",
      "Sharpe ratio: 1.240741370869875\n",
      "=================================\n"
     ]
    },
    {
     "name": "stderr",
     "output_type": "stream",
     "text": [
      " 80%|████████  | 8/10 [05:22<01:20, 40.33s/it]"
     ]
    },
    {
     "name": "stdout",
     "output_type": "stream",
     "text": [
      "=================================\n",
      "Initial portfolio value:100000\n",
      "Final portfolio value: 873346.25\n",
      "Final accumulative portfolio value: 8.7334625\n",
      "Maximum DrawDown: -0.38509555582589994\n",
      "Sharpe ratio: 1.2493419094798106\n",
      "=================================\n"
     ]
    },
    {
     "name": "stderr",
     "output_type": "stream",
     "text": [
      " 90%|█████████ | 9/10 [06:03<00:40, 40.66s/it]"
     ]
    },
    {
     "name": "stdout",
     "output_type": "stream",
     "text": [
      "=================================\n",
      "Initial portfolio value:100000\n",
      "Final portfolio value: 924617.4375\n",
      "Final accumulative portfolio value: 9.246174375\n",
      "Maximum DrawDown: -0.3851103886216872\n",
      "Sharpe ratio: 1.2902671701992523\n",
      "=================================\n"
     ]
    },
    {
     "name": "stderr",
     "output_type": "stream",
     "text": [
      "100%|██████████| 10/10 [06:45<00:00, 40.58s/it]\n",
      "C:\\Users\\xutia\\AppData\\Local\\Temp\\ipykernel_52124\\1506485762.py:43: FutureWarning: You are using `torch.load` with `weights_only=False` (the current default value), which uses the default pickle module implicitly. It is possible to construct malicious pickle data which will execute arbitrary code during unpickling (See https://github.com/pytorch/pytorch/blob/main/SECURITY.md#untrusted-models for more details). In a future release, the default value for `weights_only` will be flipped to `True`. This limits the functions that could be executed during unpickling. Arbitrary objects will no longer be allowed to be loaded via this mode unless they are explicitly allowlisted by the user via `torch.serialization.add_safe_globals`. We recommend you start setting `weights_only=True` for any use case where you don't have full control of the loaded file. Please open an issue on GitHub for any issues related to this experimental feature.\n",
      "  EIIE_policy.load_state_dict(torch.load(model_filename))\n"
     ]
    },
    {
     "name": "stdout",
     "output_type": "stream",
     "text": [
      "=================================\n",
      "Initial portfolio value:100000\n",
      "Final portfolio value: 830581.4375\n",
      "Final accumulative portfolio value: 8.305814375\n",
      "Maximum DrawDown: -0.3851589352266763\n",
      "Sharpe ratio: 1.2620682583460674\n",
      "=================================\n",
      "=================================\n",
      "Initial portfolio value:100000\n",
      "Final portfolio value: 213390.875\n",
      "Final accumulative portfolio value: 2.13390875\n",
      "Maximum DrawDown: -0.1721604327840328\n",
      "Sharpe ratio: 1.6135967145166663\n",
      "=================================\n",
      "Training model with TIME_WINDOW=60, K_SIZE=4, CONV_MID=5, CONV_FINAL=5, LEARNING_RATE=0.02\n"
     ]
    },
    {
     "name": "stderr",
     "output_type": "stream",
     "text": [
      "  0%|          | 0/10 [00:00<?, ?it/s]"
     ]
    },
    {
     "name": "stdout",
     "output_type": "stream",
     "text": [
      "=================================\n",
      "Initial portfolio value:100000\n",
      "Final portfolio value: 226721.875\n",
      "Final accumulative portfolio value: 2.26721875\n",
      "Maximum DrawDown: -0.3330675329242394\n",
      "Sharpe ratio: 0.7690255499308979\n",
      "=================================\n"
     ]
    },
    {
     "name": "stderr",
     "output_type": "stream",
     "text": [
      " 10%|█         | 1/10 [00:42<06:23, 42.58s/it]"
     ]
    },
    {
     "name": "stdout",
     "output_type": "stream",
     "text": [
      "=================================\n",
      "Initial portfolio value:100000\n",
      "Final portfolio value: 229279.296875\n",
      "Final accumulative portfolio value: 2.29279296875\n",
      "Maximum DrawDown: -0.3366622055288899\n",
      "Sharpe ratio: 0.7703715574730734\n",
      "=================================\n"
     ]
    },
    {
     "name": "stderr",
     "output_type": "stream",
     "text": [
      " 20%|██        | 2/10 [01:25<05:40, 42.56s/it]"
     ]
    },
    {
     "name": "stdout",
     "output_type": "stream",
     "text": [
      "=================================\n",
      "Initial portfolio value:100000\n",
      "Final portfolio value: 230958.953125\n",
      "Final accumulative portfolio value: 2.30958953125\n",
      "Maximum DrawDown: -0.3393577710047607\n",
      "Sharpe ratio: 0.7706028527810812\n",
      "=================================\n"
     ]
    },
    {
     "name": "stderr",
     "output_type": "stream",
     "text": [
      " 30%|███       | 3/10 [02:06<04:52, 41.83s/it]"
     ]
    },
    {
     "name": "stdout",
     "output_type": "stream",
     "text": [
      "=================================\n",
      "Initial portfolio value:100000\n",
      "Final portfolio value: 232232.71875\n",
      "Final accumulative portfolio value: 2.3223271875\n",
      "Maximum DrawDown: -0.3414037597270422\n",
      "Sharpe ratio: 0.7707677197623236\n",
      "=================================\n"
     ]
    },
    {
     "name": "stderr",
     "output_type": "stream",
     "text": [
      " 40%|████      | 4/10 [02:48<04:11, 41.97s/it]"
     ]
    },
    {
     "name": "stdout",
     "output_type": "stream",
     "text": [
      "=================================\n",
      "Initial portfolio value:100000\n",
      "Final portfolio value: 233217.6875\n",
      "Final accumulative portfolio value: 2.332176875\n",
      "Maximum DrawDown: -0.34298629955288173\n",
      "Sharpe ratio: 0.7708863963368974\n",
      "=================================\n"
     ]
    },
    {
     "name": "stderr",
     "output_type": "stream",
     "text": [
      " 50%|█████     | 5/10 [03:27<03:24, 40.99s/it]"
     ]
    },
    {
     "name": "stdout",
     "output_type": "stream",
     "text": [
      "=================================\n",
      "Initial portfolio value:100000\n",
      "Final portfolio value: 233985.71875\n",
      "Final accumulative portfolio value: 2.3398571875\n",
      "Maximum DrawDown: -0.3442386821088891\n",
      "Sharpe ratio: 0.7709453322317366\n",
      "=================================\n"
     ]
    },
    {
     "name": "stderr",
     "output_type": "stream",
     "text": [
      " 60%|██████    | 6/10 [04:07<02:42, 40.56s/it]"
     ]
    },
    {
     "name": "stdout",
     "output_type": "stream",
     "text": [
      "=================================\n",
      "Initial portfolio value:100000\n",
      "Final portfolio value: 234603.78125\n",
      "Final accumulative portfolio value: 2.3460378125\n",
      "Maximum DrawDown: -0.34525084669501016\n",
      "Sharpe ratio: 0.7709912011794169\n",
      "=================================\n"
     ]
    },
    {
     "name": "stderr",
     "output_type": "stream",
     "text": [
      " 70%|███████   | 7/10 [04:48<02:02, 40.90s/it]"
     ]
    },
    {
     "name": "stdout",
     "output_type": "stream",
     "text": [
      "=================================\n",
      "Initial portfolio value:100000\n",
      "Final portfolio value: 235113.8125\n",
      "Final accumulative portfolio value: 2.351138125\n",
      "Maximum DrawDown: -0.3460737164506409\n",
      "Sharpe ratio: 0.7710463309490292\n",
      "=================================\n"
     ]
    },
    {
     "name": "stderr",
     "output_type": "stream",
     "text": [
      " 80%|████████  | 8/10 [05:33<01:24, 42.15s/it]"
     ]
    },
    {
     "name": "stdout",
     "output_type": "stream",
     "text": [
      "=================================\n",
      "Initial portfolio value:100000\n",
      "Final portfolio value: 235531.078125\n",
      "Final accumulative portfolio value: 2.35531078125\n",
      "Maximum DrawDown: -0.34675813929363786\n",
      "Sharpe ratio: 0.7710713666824597\n",
      "=================================\n"
     ]
    },
    {
     "name": "stderr",
     "output_type": "stream",
     "text": [
      " 90%|█████████ | 9/10 [06:18<00:42, 42.99s/it]"
     ]
    },
    {
     "name": "stdout",
     "output_type": "stream",
     "text": [
      "=================================\n",
      "Initial portfolio value:100000\n",
      "Final portfolio value: 235889.671875\n",
      "Final accumulative portfolio value: 2.35889671875\n",
      "Maximum DrawDown: -0.34733467546470354\n",
      "Sharpe ratio: 0.77112169638732\n",
      "=================================\n"
     ]
    },
    {
     "name": "stderr",
     "output_type": "stream",
     "text": [
      "100%|██████████| 10/10 [07:00<00:00, 42.07s/it]\n",
      "C:\\Users\\xutia\\AppData\\Local\\Temp\\ipykernel_52124\\1506485762.py:43: FutureWarning: You are using `torch.load` with `weights_only=False` (the current default value), which uses the default pickle module implicitly. It is possible to construct malicious pickle data which will execute arbitrary code during unpickling (See https://github.com/pytorch/pytorch/blob/main/SECURITY.md#untrusted-models for more details). In a future release, the default value for `weights_only` will be flipped to `True`. This limits the functions that could be executed during unpickling. Arbitrary objects will no longer be allowed to be loaded via this mode unless they are explicitly allowlisted by the user via `torch.serialization.add_safe_globals`. We recommend you start setting `weights_only=True` for any use case where you don't have full control of the loaded file. Please open an issue on GitHub for any issues related to this experimental feature.\n",
      "  EIIE_policy.load_state_dict(torch.load(model_filename))\n"
     ]
    },
    {
     "name": "stdout",
     "output_type": "stream",
     "text": [
      "=================================\n",
      "Initial portfolio value:100000\n",
      "Final portfolio value: 236543.59375\n",
      "Final accumulative portfolio value: 2.3654359375\n",
      "Maximum DrawDown: -0.34915268375518704\n",
      "Sharpe ratio: 0.770415247651418\n",
      "=================================\n",
      "=================================\n",
      "Initial portfolio value:100000\n",
      "Final portfolio value: 125959.3203125\n",
      "Final accumulative portfolio value: 1.259593203125\n",
      "Maximum DrawDown: -0.15744809440609597\n",
      "Sharpe ratio: 0.8394360839808175\n",
      "=================================\n",
      "Training model with TIME_WINDOW=60, K_SIZE=4, CONV_MID=5, CONV_FINAL=10, LEARNING_RATE=0.02\n"
     ]
    },
    {
     "name": "stderr",
     "output_type": "stream",
     "text": [
      "  0%|          | 0/10 [00:00<?, ?it/s]"
     ]
    },
    {
     "name": "stdout",
     "output_type": "stream",
     "text": [
      "=================================\n",
      "Initial portfolio value:100000\n",
      "Final portfolio value: 251275.734375\n",
      "Final accumulative portfolio value: 2.51275734375\n",
      "Maximum DrawDown: -0.3129308402840688\n",
      "Sharpe ratio: 0.8368540702684153\n",
      "=================================\n"
     ]
    },
    {
     "name": "stderr",
     "output_type": "stream",
     "text": [
      " 10%|█         | 1/10 [00:33<05:03, 33.72s/it]"
     ]
    },
    {
     "name": "stdout",
     "output_type": "stream",
     "text": [
      "=================================\n",
      "Initial portfolio value:100000\n",
      "Final portfolio value: 351352.78125\n",
      "Final accumulative portfolio value: 3.5135278125\n",
      "Maximum DrawDown: -0.26928863390472746\n",
      "Sharpe ratio: 1.0832193133594539\n",
      "=================================\n"
     ]
    },
    {
     "name": "stderr",
     "output_type": "stream",
     "text": [
      " 20%|██        | 2/10 [01:05<04:20, 32.51s/it]"
     ]
    },
    {
     "name": "stdout",
     "output_type": "stream",
     "text": [
      "=================================\n",
      "Initial portfolio value:100000\n",
      "Final portfolio value: 538277.3125\n",
      "Final accumulative portfolio value: 5.382773125\n",
      "Maximum DrawDown: -0.2566795991231261\n",
      "Sharpe ratio: 1.3408493977331963\n",
      "=================================\n"
     ]
    },
    {
     "name": "stderr",
     "output_type": "stream",
     "text": [
      " 30%|███       | 3/10 [01:37<03:45, 32.24s/it]"
     ]
    },
    {
     "name": "stdout",
     "output_type": "stream",
     "text": [
      "=================================\n",
      "Initial portfolio value:100000\n",
      "Final portfolio value: 708925.625\n",
      "Final accumulative portfolio value: 7.08925625\n",
      "Maximum DrawDown: -0.28567154384947147\n",
      "Sharpe ratio: 1.3220280390436363\n",
      "=================================\n"
     ]
    },
    {
     "name": "stderr",
     "output_type": "stream",
     "text": [
      " 40%|████      | 4/10 [02:08<03:12, 32.03s/it]"
     ]
    },
    {
     "name": "stdout",
     "output_type": "stream",
     "text": [
      "=================================\n",
      "Initial portfolio value:100000\n",
      "Final portfolio value: 928174.3125\n",
      "Final accumulative portfolio value: 9.281743125\n",
      "Maximum DrawDown: -0.2798865439174627\n",
      "Sharpe ratio: 1.4288743917607933\n",
      "=================================\n"
     ]
    },
    {
     "name": "stderr",
     "output_type": "stream",
     "text": [
      " 50%|█████     | 5/10 [02:41<02:40, 32.03s/it]"
     ]
    },
    {
     "name": "stdout",
     "output_type": "stream",
     "text": [
      "=================================\n",
      "Initial portfolio value:100000\n",
      "Final portfolio value: 1212981.5\n",
      "Final accumulative portfolio value: 12.129815\n",
      "Maximum DrawDown: -0.2803356611803698\n",
      "Sharpe ratio: 1.578633704012612\n",
      "=================================\n"
     ]
    },
    {
     "name": "stderr",
     "output_type": "stream",
     "text": [
      " 60%|██████    | 6/10 [03:12<02:07, 31.99s/it]"
     ]
    },
    {
     "name": "stdout",
     "output_type": "stream",
     "text": [
      "=================================\n",
      "Initial portfolio value:100000\n",
      "Final portfolio value: 474193.375\n",
      "Final accumulative portfolio value: 4.74193375\n",
      "Maximum DrawDown: -0.4038190220386042\n",
      "Sharpe ratio: 0.9806289163841491\n",
      "=================================\n"
     ]
    },
    {
     "name": "stderr",
     "output_type": "stream",
     "text": [
      " 70%|███████   | 7/10 [03:44<01:35, 31.82s/it]"
     ]
    },
    {
     "name": "stdout",
     "output_type": "stream",
     "text": [
      "=================================\n",
      "Initial portfolio value:100000\n",
      "Final portfolio value: 816506.8125\n",
      "Final accumulative portfolio value: 8.165068125\n",
      "Maximum DrawDown: -0.3124873053183448\n",
      "Sharpe ratio: 1.32880525467955\n",
      "=================================\n"
     ]
    },
    {
     "name": "stderr",
     "output_type": "stream",
     "text": [
      " 80%|████████  | 8/10 [04:16<01:03, 31.94s/it]"
     ]
    },
    {
     "name": "stdout",
     "output_type": "stream",
     "text": [
      "=================================\n",
      "Initial portfolio value:100000\n",
      "Final portfolio value: 813541.0\n",
      "Final accumulative portfolio value: 8.13541\n",
      "Maximum DrawDown: -0.2781975990386053\n",
      "Sharpe ratio: 1.3707988986317294\n",
      "=================================\n"
     ]
    },
    {
     "name": "stderr",
     "output_type": "stream",
     "text": [
      " 90%|█████████ | 9/10 [04:48<00:32, 32.03s/it]"
     ]
    },
    {
     "name": "stdout",
     "output_type": "stream",
     "text": [
      "=================================\n",
      "Initial portfolio value:100000\n",
      "Final portfolio value: 479162.78125\n",
      "Final accumulative portfolio value: 4.7916278125\n",
      "Maximum DrawDown: -0.34420091796416785\n",
      "Sharpe ratio: 1.0085424349103458\n",
      "=================================\n"
     ]
    },
    {
     "name": "stderr",
     "output_type": "stream",
     "text": [
      "100%|██████████| 10/10 [05:20<00:00, 32.10s/it]\n",
      "C:\\Users\\xutia\\AppData\\Local\\Temp\\ipykernel_52124\\1506485762.py:43: FutureWarning: You are using `torch.load` with `weights_only=False` (the current default value), which uses the default pickle module implicitly. It is possible to construct malicious pickle data which will execute arbitrary code during unpickling (See https://github.com/pytorch/pytorch/blob/main/SECURITY.md#untrusted-models for more details). In a future release, the default value for `weights_only` will be flipped to `True`. This limits the functions that could be executed during unpickling. Arbitrary objects will no longer be allowed to be loaded via this mode unless they are explicitly allowlisted by the user via `torch.serialization.add_safe_globals`. We recommend you start setting `weights_only=True` for any use case where you don't have full control of the loaded file. Please open an issue on GitHub for any issues related to this experimental feature.\n",
      "  EIIE_policy.load_state_dict(torch.load(model_filename))\n"
     ]
    },
    {
     "name": "stdout",
     "output_type": "stream",
     "text": [
      "=================================\n",
      "Initial portfolio value:100000\n",
      "Final portfolio value: 624348.375\n",
      "Final accumulative portfolio value: 6.24348375\n",
      "Maximum DrawDown: -0.2844084667153357\n",
      "Sharpe ratio: 1.1857391626876541\n",
      "=================================\n",
      "=================================\n",
      "Initial portfolio value:100000\n",
      "Final portfolio value: 90271.578125\n",
      "Final accumulative portfolio value: 0.90271578125\n",
      "Maximum DrawDown: -0.3273370959555201\n",
      "Sharpe ratio: -0.057102268557698066\n",
      "=================================\n",
      "Training model with TIME_WINDOW=60, K_SIZE=4, CONV_MID=5, CONV_FINAL=20, LEARNING_RATE=0.02\n"
     ]
    },
    {
     "name": "stderr",
     "output_type": "stream",
     "text": [
      "  0%|          | 0/10 [00:00<?, ?it/s]"
     ]
    },
    {
     "name": "stdout",
     "output_type": "stream",
     "text": [
      "=================================\n",
      "Initial portfolio value:100000\n",
      "Final portfolio value: 269318.3125\n",
      "Final accumulative portfolio value: 2.693183125\n",
      "Maximum DrawDown: -0.31122999379765104\n",
      "Sharpe ratio: 0.8641491037452724\n",
      "=================================\n"
     ]
    },
    {
     "name": "stderr",
     "output_type": "stream",
     "text": [
      " 10%|█         | 1/10 [00:32<04:50, 32.27s/it]"
     ]
    },
    {
     "name": "stdout",
     "output_type": "stream",
     "text": [
      "=================================\n",
      "Initial portfolio value:100000\n",
      "Final portfolio value: 438679.0\n",
      "Final accumulative portfolio value: 4.38679\n",
      "Maximum DrawDown: -0.28843601659240004\n",
      "Sharpe ratio: 1.0936151881513199\n",
      "=================================\n"
     ]
    },
    {
     "name": "stderr",
     "output_type": "stream",
     "text": [
      " 20%|██        | 2/10 [01:04<04:18, 32.36s/it]"
     ]
    },
    {
     "name": "stdout",
     "output_type": "stream",
     "text": [
      "=================================\n",
      "Initial portfolio value:100000\n",
      "Final portfolio value: 620374.625\n",
      "Final accumulative portfolio value: 6.20374625\n",
      "Maximum DrawDown: -0.2799020495346328\n",
      "Sharpe ratio: 1.2464363875193922\n",
      "=================================\n"
     ]
    },
    {
     "name": "stderr",
     "output_type": "stream",
     "text": [
      " 30%|███       | 3/10 [01:37<03:47, 32.54s/it]"
     ]
    },
    {
     "name": "stdout",
     "output_type": "stream",
     "text": [
      "=================================\n",
      "Initial portfolio value:100000\n",
      "Final portfolio value: 375424.4375\n",
      "Final accumulative portfolio value: 3.754244375\n",
      "Maximum DrawDown: -0.3852889323676456\n",
      "Sharpe ratio: 0.8792163855509659\n",
      "=================================\n"
     ]
    },
    {
     "name": "stderr",
     "output_type": "stream",
     "text": [
      " 40%|████      | 4/10 [02:10<03:17, 32.90s/it]"
     ]
    },
    {
     "name": "stdout",
     "output_type": "stream",
     "text": [
      "=================================\n",
      "Initial portfolio value:100000\n",
      "Final portfolio value: 891318.25\n",
      "Final accumulative portfolio value: 8.9131825\n",
      "Maximum DrawDown: -0.28025623479785366\n",
      "Sharpe ratio: 1.380806655955523\n",
      "=================================\n"
     ]
    },
    {
     "name": "stderr",
     "output_type": "stream",
     "text": [
      " 50%|█████     | 5/10 [02:43<02:43, 32.80s/it]"
     ]
    },
    {
     "name": "stdout",
     "output_type": "stream",
     "text": [
      "=================================\n",
      "Initial portfolio value:100000\n",
      "Final portfolio value: 771737.0625\n",
      "Final accumulative portfolio value: 7.717370625\n",
      "Maximum DrawDown: -0.28039323501792157\n",
      "Sharpe ratio: 1.291194816782384\n",
      "=================================\n"
     ]
    },
    {
     "name": "stderr",
     "output_type": "stream",
     "text": [
      " 60%|██████    | 6/10 [03:17<02:12, 33.22s/it]"
     ]
    },
    {
     "name": "stdout",
     "output_type": "stream",
     "text": [
      "=================================\n",
      "Initial portfolio value:100000\n",
      "Final portfolio value: 291842.3125\n",
      "Final accumulative portfolio value: 2.918423125\n",
      "Maximum DrawDown: -0.4587655761660365\n",
      "Sharpe ratio: 0.6956342668779608\n",
      "=================================\n"
     ]
    },
    {
     "name": "stderr",
     "output_type": "stream",
     "text": [
      " 70%|███████   | 7/10 [03:52<01:40, 33.64s/it]"
     ]
    },
    {
     "name": "stdout",
     "output_type": "stream",
     "text": [
      "=================================\n",
      "Initial portfolio value:100000\n",
      "Final portfolio value: 615797.875\n",
      "Final accumulative portfolio value: 6.15797875\n",
      "Maximum DrawDown: -0.38514976169792237\n",
      "Sharpe ratio: 1.1104417308703105\n",
      "=================================\n"
     ]
    },
    {
     "name": "stderr",
     "output_type": "stream",
     "text": [
      " 80%|████████  | 8/10 [04:23<01:06, 33.02s/it]"
     ]
    },
    {
     "name": "stdout",
     "output_type": "stream",
     "text": [
      "=================================\n",
      "Initial portfolio value:100000\n",
      "Final portfolio value: 768484.625\n",
      "Final accumulative portfolio value: 7.68484625\n",
      "Maximum DrawDown: -0.3851590342475024\n",
      "Sharpe ratio: 1.2324544334832337\n",
      "=================================\n"
     ]
    },
    {
     "name": "stderr",
     "output_type": "stream",
     "text": [
      " 90%|█████████ | 9/10 [04:58<00:33, 33.61s/it]"
     ]
    },
    {
     "name": "stdout",
     "output_type": "stream",
     "text": [
      "=================================\n",
      "Initial portfolio value:100000\n",
      "Final portfolio value: 790745.25\n",
      "Final accumulative portfolio value: 7.9074525\n",
      "Maximum DrawDown: -0.38515917826139134\n",
      "Sharpe ratio: 1.247343353952171\n",
      "=================================\n"
     ]
    },
    {
     "name": "stderr",
     "output_type": "stream",
     "text": [
      "100%|██████████| 10/10 [05:31<00:00, 33.16s/it]\n",
      "C:\\Users\\xutia\\AppData\\Local\\Temp\\ipykernel_52124\\1506485762.py:43: FutureWarning: You are using `torch.load` with `weights_only=False` (the current default value), which uses the default pickle module implicitly. It is possible to construct malicious pickle data which will execute arbitrary code during unpickling (See https://github.com/pytorch/pytorch/blob/main/SECURITY.md#untrusted-models for more details). In a future release, the default value for `weights_only` will be flipped to `True`. This limits the functions that could be executed during unpickling. Arbitrary objects will no longer be allowed to be loaded via this mode unless they are explicitly allowlisted by the user via `torch.serialization.add_safe_globals`. We recommend you start setting `weights_only=True` for any use case where you don't have full control of the loaded file. Please open an issue on GitHub for any issues related to this experimental feature.\n",
      "  EIIE_policy.load_state_dict(torch.load(model_filename))\n"
     ]
    },
    {
     "name": "stdout",
     "output_type": "stream",
     "text": [
      "=================================\n",
      "Initial portfolio value:100000\n",
      "Final portfolio value: 801118.75\n",
      "Final accumulative portfolio value: 8.0111875\n",
      "Maximum DrawDown: -0.2803929335181007\n",
      "Sharpe ratio: 1.3045421717904224\n",
      "=================================\n",
      "=================================\n",
      "Initial portfolio value:100000\n",
      "Final portfolio value: 194746.640625\n",
      "Final accumulative portfolio value: 1.94746640625\n",
      "Maximum DrawDown: -0.22004554127223142\n",
      "Sharpe ratio: 1.4206515207181984\n",
      "=================================\n",
      "Training model with TIME_WINDOW=60, K_SIZE=4, CONV_MID=20, CONV_FINAL=5, LEARNING_RATE=0.02\n"
     ]
    },
    {
     "name": "stderr",
     "output_type": "stream",
     "text": [
      "  0%|          | 0/10 [00:00<?, ?it/s]"
     ]
    },
    {
     "name": "stdout",
     "output_type": "stream",
     "text": [
      "=================================\n",
      "Initial portfolio value:100000\n",
      "Final portfolio value: 170922.28125\n",
      "Final accumulative portfolio value: 1.7092228125\n",
      "Maximum DrawDown: -0.27366095406535695\n",
      "Sharpe ratio: 0.5260142904810801\n",
      "=================================\n"
     ]
    },
    {
     "name": "stderr",
     "output_type": "stream",
     "text": [
      " 10%|█         | 1/10 [00:32<04:52, 32.51s/it]"
     ]
    },
    {
     "name": "stdout",
     "output_type": "stream",
     "text": [
      "=================================\n",
      "Initial portfolio value:100000\n",
      "Final portfolio value: 192546.625\n",
      "Final accumulative portfolio value: 1.92546625\n",
      "Maximum DrawDown: -0.273662631548779\n",
      "Sharpe ratio: 0.6030890368369938\n",
      "=================================\n"
     ]
    },
    {
     "name": "stderr",
     "output_type": "stream",
     "text": [
      " 20%|██        | 2/10 [01:06<04:29, 33.66s/it]"
     ]
    },
    {
     "name": "stdout",
     "output_type": "stream",
     "text": [
      "=================================\n",
      "Initial portfolio value:100000\n",
      "Final portfolio value: 304166.40625\n",
      "Final accumulative portfolio value: 3.0416640625\n",
      "Maximum DrawDown: -0.2736627520597502\n",
      "Sharpe ratio: 0.8187845616400006\n",
      "=================================\n"
     ]
    },
    {
     "name": "stderr",
     "output_type": "stream",
     "text": [
      " 30%|███       | 3/10 [01:40<03:55, 33.63s/it]"
     ]
    },
    {
     "name": "stdout",
     "output_type": "stream",
     "text": [
      "=================================\n",
      "Initial portfolio value:100000\n",
      "Final portfolio value: 390934.8125\n",
      "Final accumulative portfolio value: 3.909348125\n",
      "Maximum DrawDown: -0.43826482927726906\n",
      "Sharpe ratio: 0.8757501748445152\n",
      "=================================\n"
     ]
    },
    {
     "name": "stderr",
     "output_type": "stream",
     "text": [
      " 40%|████      | 4/10 [02:12<03:16, 32.80s/it]"
     ]
    },
    {
     "name": "stdout",
     "output_type": "stream",
     "text": [
      "=================================\n",
      "Initial portfolio value:100000\n",
      "Final portfolio value: 648185.3125\n",
      "Final accumulative portfolio value: 6.481853125\n",
      "Maximum DrawDown: -0.28004428721055186\n",
      "Sharpe ratio: 1.2042191158820978\n",
      "=================================\n"
     ]
    },
    {
     "name": "stderr",
     "output_type": "stream",
     "text": [
      " 50%|█████     | 5/10 [02:42<02:39, 31.97s/it]"
     ]
    },
    {
     "name": "stdout",
     "output_type": "stream",
     "text": [
      "=================================\n",
      "Initial portfolio value:100000\n",
      "Final portfolio value: 747806.8125\n",
      "Final accumulative portfolio value: 7.478068125\n",
      "Maximum DrawDown: -0.2802580753481929\n",
      "Sharpe ratio: 1.2500004694363673\n",
      "=================================\n"
     ]
    },
    {
     "name": "stderr",
     "output_type": "stream",
     "text": [
      " 60%|██████    | 6/10 [03:13<02:06, 31.51s/it]"
     ]
    },
    {
     "name": "stdout",
     "output_type": "stream",
     "text": [
      "=================================\n",
      "Initial portfolio value:100000\n",
      "Final portfolio value: 641699.0625\n",
      "Final accumulative portfolio value: 6.416990625\n",
      "Maximum DrawDown: -0.25493324309717236\n",
      "Sharpe ratio: 1.2479042156302682\n",
      "=================================\n"
     ]
    },
    {
     "name": "stderr",
     "output_type": "stream",
     "text": [
      " 70%|███████   | 7/10 [03:43<01:33, 31.18s/it]"
     ]
    },
    {
     "name": "stdout",
     "output_type": "stream",
     "text": [
      "=================================\n",
      "Initial portfolio value:100000\n",
      "Final portfolio value: 836305.0\n",
      "Final accumulative portfolio value: 8.36305\n",
      "Maximum DrawDown: -0.2690894297556232\n",
      "Sharpe ratio: 1.2596915564014626\n",
      "=================================\n"
     ]
    },
    {
     "name": "stderr",
     "output_type": "stream",
     "text": [
      " 80%|████████  | 8/10 [04:14<01:01, 30.94s/it]"
     ]
    },
    {
     "name": "stdout",
     "output_type": "stream",
     "text": [
      "=================================\n",
      "Initial portfolio value:100000\n",
      "Final portfolio value: 810136.625\n",
      "Final accumulative portfolio value: 8.10136625\n",
      "Maximum DrawDown: -0.2800206404221506\n",
      "Sharpe ratio: 1.2341602506992442\n",
      "=================================\n"
     ]
    },
    {
     "name": "stderr",
     "output_type": "stream",
     "text": [
      " 90%|█████████ | 9/10 [04:44<00:30, 30.78s/it]"
     ]
    },
    {
     "name": "stdout",
     "output_type": "stream",
     "text": [
      "=================================\n",
      "Initial portfolio value:100000\n",
      "Final portfolio value: 733754.625\n",
      "Final accumulative portfolio value: 7.33754625\n",
      "Maximum DrawDown: -0.31110996067805285\n",
      "Sharpe ratio: 1.1696816164966413\n",
      "=================================\n"
     ]
    },
    {
     "name": "stderr",
     "output_type": "stream",
     "text": [
      "100%|██████████| 10/10 [05:14<00:00, 31.50s/it]\n",
      "C:\\Users\\xutia\\AppData\\Local\\Temp\\ipykernel_52124\\1506485762.py:43: FutureWarning: You are using `torch.load` with `weights_only=False` (the current default value), which uses the default pickle module implicitly. It is possible to construct malicious pickle data which will execute arbitrary code during unpickling (See https://github.com/pytorch/pytorch/blob/main/SECURITY.md#untrusted-models for more details). In a future release, the default value for `weights_only` will be flipped to `True`. This limits the functions that could be executed during unpickling. Arbitrary objects will no longer be allowed to be loaded via this mode unless they are explicitly allowlisted by the user via `torch.serialization.add_safe_globals`. We recommend you start setting `weights_only=True` for any use case where you don't have full control of the loaded file. Please open an issue on GitHub for any issues related to this experimental feature.\n",
      "  EIIE_policy.load_state_dict(torch.load(model_filename))\n"
     ]
    },
    {
     "name": "stdout",
     "output_type": "stream",
     "text": [
      "=================================\n",
      "Initial portfolio value:100000\n",
      "Final portfolio value: 443518.375\n",
      "Final accumulative portfolio value: 4.43518375\n",
      "Maximum DrawDown: -0.38515487706785045\n",
      "Sharpe ratio: 0.8891099839445166\n",
      "=================================\n",
      "=================================\n",
      "Initial portfolio value:100000\n",
      "Final portfolio value: 132750.0\n",
      "Final accumulative portfolio value: 1.3275\n",
      "Maximum DrawDown: -0.3038133827068099\n",
      "Sharpe ratio: 0.7420154562422595\n",
      "=================================\n",
      "Training model with TIME_WINDOW=60, K_SIZE=4, CONV_MID=20, CONV_FINAL=10, LEARNING_RATE=0.02\n"
     ]
    },
    {
     "name": "stderr",
     "output_type": "stream",
     "text": [
      "  0%|          | 0/10 [00:00<?, ?it/s]"
     ]
    },
    {
     "name": "stdout",
     "output_type": "stream",
     "text": [
      "=================================\n",
      "Initial portfolio value:100000\n",
      "Final portfolio value: 348560.1875\n",
      "Final accumulative portfolio value: 3.485601875\n",
      "Maximum DrawDown: -0.30349618648157695\n",
      "Sharpe ratio: 0.9324531415838915\n",
      "=================================\n"
     ]
    },
    {
     "name": "stderr",
     "output_type": "stream",
     "text": [
      " 10%|█         | 1/10 [00:31<04:39, 31.08s/it]"
     ]
    },
    {
     "name": "stdout",
     "output_type": "stream",
     "text": [
      "=================================\n",
      "Initial portfolio value:100000\n",
      "Final portfolio value: 538803.5625\n",
      "Final accumulative portfolio value: 5.388035625\n",
      "Maximum DrawDown: -0.28039312016226214\n",
      "Sharpe ratio: 1.20103369044149\n",
      "=================================\n"
     ]
    },
    {
     "name": "stderr",
     "output_type": "stream",
     "text": [
      " 20%|██        | 2/10 [01:03<04:14, 31.77s/it]"
     ]
    },
    {
     "name": "stdout",
     "output_type": "stream",
     "text": [
      "=================================\n",
      "Initial portfolio value:100000\n",
      "Final portfolio value: 703590.625\n",
      "Final accumulative portfolio value: 7.03590625\n",
      "Maximum DrawDown: -0.28039301955087836\n",
      "Sharpe ratio: 1.2457640587758574\n",
      "=================================\n"
     ]
    },
    {
     "name": "stderr",
     "output_type": "stream",
     "text": [
      " 30%|███       | 3/10 [01:36<03:46, 32.31s/it]"
     ]
    },
    {
     "name": "stdout",
     "output_type": "stream",
     "text": [
      "=================================\n",
      "Initial portfolio value:100000\n",
      "Final portfolio value: 740056.8125\n",
      "Final accumulative portfolio value: 7.400568125\n",
      "Maximum DrawDown: -0.28039299336269286\n",
      "Sharpe ratio: 1.2680013907291976\n",
      "=================================\n"
     ]
    },
    {
     "name": "stderr",
     "output_type": "stream",
     "text": [
      " 40%|████      | 4/10 [02:08<03:13, 32.24s/it]"
     ]
    },
    {
     "name": "stdout",
     "output_type": "stream",
     "text": [
      "=================================\n",
      "Initial portfolio value:100000\n",
      "Final portfolio value: 861979.8125\n",
      "Final accumulative portfolio value: 8.619798125\n",
      "Maximum DrawDown: -0.2803929417832898\n",
      "Sharpe ratio: 1.3462926139944023\n",
      "=================================\n"
     ]
    },
    {
     "name": "stderr",
     "output_type": "stream",
     "text": [
      " 50%|█████     | 5/10 [02:40<02:41, 32.26s/it]"
     ]
    },
    {
     "name": "stdout",
     "output_type": "stream",
     "text": [
      "=================================\n",
      "Initial portfolio value:100000\n",
      "Final portfolio value: 616915.5\n",
      "Final accumulative portfolio value: 6.169155\n",
      "Maximum DrawDown: -0.3996732860359343\n",
      "Sharpe ratio: 1.0910861055299645\n",
      "=================================\n"
     ]
    },
    {
     "name": "stderr",
     "output_type": "stream",
     "text": [
      " 60%|██████    | 6/10 [03:13<02:09, 32.29s/it]"
     ]
    },
    {
     "name": "stdout",
     "output_type": "stream",
     "text": [
      "=================================\n",
      "Initial portfolio value:100000\n",
      "Final portfolio value: 618506.25\n",
      "Final accumulative portfolio value: 6.1850625\n",
      "Maximum DrawDown: -0.38467379032760385\n",
      "Sharpe ratio: 1.1114997647140397\n",
      "=================================\n"
     ]
    },
    {
     "name": "stderr",
     "output_type": "stream",
     "text": [
      " 70%|███████   | 7/10 [03:46<01:37, 32.66s/it]"
     ]
    },
    {
     "name": "stdout",
     "output_type": "stream",
     "text": [
      "=================================\n",
      "Initial portfolio value:100000\n",
      "Final portfolio value: 722646.8125\n",
      "Final accumulative portfolio value: 7.226468125\n",
      "Maximum DrawDown: -0.3850475462397046\n",
      "Sharpe ratio: 1.2046386946379355\n",
      "=================================\n"
     ]
    },
    {
     "name": "stderr",
     "output_type": "stream",
     "text": [
      " 80%|████████  | 8/10 [04:17<01:04, 32.10s/it]"
     ]
    },
    {
     "name": "stdout",
     "output_type": "stream",
     "text": [
      "=================================\n",
      "Initial portfolio value:100000\n",
      "Final portfolio value: 815449.0\n",
      "Final accumulative portfolio value: 8.15449\n",
      "Maximum DrawDown: -0.38515712909397926\n",
      "Sharpe ratio: 1.2533495090529374\n",
      "=================================\n"
     ]
    },
    {
     "name": "stderr",
     "output_type": "stream",
     "text": [
      " 90%|█████████ | 9/10 [04:47<00:31, 31.63s/it]"
     ]
    },
    {
     "name": "stdout",
     "output_type": "stream",
     "text": [
      "=================================\n",
      "Initial portfolio value:100000\n",
      "Final portfolio value: 1011885.625\n",
      "Final accumulative portfolio value: 10.11885625\n",
      "Maximum DrawDown: -0.3851587626256535\n",
      "Sharpe ratio: 1.3639676326795254\n",
      "=================================\n"
     ]
    },
    {
     "name": "stderr",
     "output_type": "stream",
     "text": [
      "100%|██████████| 10/10 [05:18<00:00, 31.85s/it]\n",
      "C:\\Users\\xutia\\AppData\\Local\\Temp\\ipykernel_52124\\1506485762.py:43: FutureWarning: You are using `torch.load` with `weights_only=False` (the current default value), which uses the default pickle module implicitly. It is possible to construct malicious pickle data which will execute arbitrary code during unpickling (See https://github.com/pytorch/pytorch/blob/main/SECURITY.md#untrusted-models for more details). In a future release, the default value for `weights_only` will be flipped to `True`. This limits the functions that could be executed during unpickling. Arbitrary objects will no longer be allowed to be loaded via this mode unless they are explicitly allowlisted by the user via `torch.serialization.add_safe_globals`. We recommend you start setting `weights_only=True` for any use case where you don't have full control of the loaded file. Please open an issue on GitHub for any issues related to this experimental feature.\n",
      "  EIIE_policy.load_state_dict(torch.load(model_filename))\n"
     ]
    },
    {
     "name": "stdout",
     "output_type": "stream",
     "text": [
      "=================================\n",
      "Initial portfolio value:100000\n",
      "Final portfolio value: 406109.71875\n",
      "Final accumulative portfolio value: 4.0610971875\n",
      "Maximum DrawDown: -0.45620885387949295\n",
      "Sharpe ratio: 0.8676211223416908\n",
      "=================================\n",
      "=================================\n",
      "Initial portfolio value:100000\n",
      "Final portfolio value: 189806.046875\n",
      "Final accumulative portfolio value: 1.89806046875\n",
      "Maximum DrawDown: -0.1760323708282574\n",
      "Sharpe ratio: 1.3510577864059348\n",
      "=================================\n",
      "Training model with TIME_WINDOW=60, K_SIZE=4, CONV_MID=20, CONV_FINAL=20, LEARNING_RATE=0.02\n"
     ]
    },
    {
     "name": "stderr",
     "output_type": "stream",
     "text": [
      "  0%|          | 0/10 [00:00<?, ?it/s]"
     ]
    },
    {
     "name": "stdout",
     "output_type": "stream",
     "text": [
      "=================================\n",
      "Initial portfolio value:100000\n",
      "Final portfolio value: 426464.84375\n",
      "Final accumulative portfolio value: 4.2646484375\n",
      "Maximum DrawDown: -0.36160418922112336\n",
      "Sharpe ratio: 0.9689183765745353\n",
      "=================================\n"
     ]
    },
    {
     "name": "stderr",
     "output_type": "stream",
     "text": [
      " 10%|█         | 1/10 [00:32<04:51, 32.40s/it]"
     ]
    },
    {
     "name": "stdout",
     "output_type": "stream",
     "text": [
      "=================================\n",
      "Initial portfolio value:100000\n",
      "Final portfolio value: 727240.6875\n",
      "Final accumulative portfolio value: 7.272406875\n",
      "Maximum DrawDown: -0.3851589603476734\n",
      "Sharpe ratio: 1.1651137751997664\n",
      "=================================\n"
     ]
    },
    {
     "name": "stderr",
     "output_type": "stream",
     "text": [
      " 20%|██        | 2/10 [01:02<04:08, 31.07s/it]"
     ]
    },
    {
     "name": "stdout",
     "output_type": "stream",
     "text": [
      "=================================\n",
      "Initial portfolio value:100000\n",
      "Final portfolio value: 523674.5625\n",
      "Final accumulative portfolio value: 5.236745625\n",
      "Maximum DrawDown: -0.39214604994772584\n",
      "Sharpe ratio: 1.0087933406955742\n",
      "=================================\n"
     ]
    },
    {
     "name": "stderr",
     "output_type": "stream",
     "text": [
      " 30%|███       | 3/10 [01:32<03:35, 30.77s/it]"
     ]
    },
    {
     "name": "stdout",
     "output_type": "stream",
     "text": [
      "=================================\n",
      "Initial portfolio value:100000\n",
      "Final portfolio value: 558224.0\n",
      "Final accumulative portfolio value: 5.58224\n",
      "Maximum DrawDown: -0.3851588600245406\n",
      "Sharpe ratio: 0.9995089136286668\n",
      "=================================\n"
     ]
    },
    {
     "name": "stderr",
     "output_type": "stream",
     "text": [
      " 40%|████      | 4/10 [02:02<03:02, 30.41s/it]"
     ]
    },
    {
     "name": "stdout",
     "output_type": "stream",
     "text": [
      "=================================\n",
      "Initial portfolio value:100000\n",
      "Final portfolio value: 650144.3125\n",
      "Final accumulative portfolio value: 6.501443125\n",
      "Maximum DrawDown: -0.44260179063819116\n",
      "Sharpe ratio: 1.0268682515673098\n",
      "=================================\n"
     ]
    },
    {
     "name": "stderr",
     "output_type": "stream",
     "text": [
      " 50%|█████     | 5/10 [02:32<02:31, 30.21s/it]"
     ]
    },
    {
     "name": "stdout",
     "output_type": "stream",
     "text": [
      "=================================\n",
      "Initial portfolio value:100000\n",
      "Final portfolio value: 668135.5\n",
      "Final accumulative portfolio value: 6.681355\n",
      "Maximum DrawDown: -0.29437269515942543\n",
      "Sharpe ratio: 1.1328887123833815\n",
      "=================================\n"
     ]
    },
    {
     "name": "stderr",
     "output_type": "stream",
     "text": [
      " 60%|██████    | 6/10 [03:02<02:00, 30.12s/it]"
     ]
    },
    {
     "name": "stdout",
     "output_type": "stream",
     "text": [
      "=================================\n",
      "Initial portfolio value:100000\n",
      "Final portfolio value: 727942.625\n",
      "Final accumulative portfolio value: 7.27942625\n",
      "Maximum DrawDown: -0.2803929120916272\n",
      "Sharpe ratio: 1.1825037787770725\n",
      "=================================\n"
     ]
    },
    {
     "name": "stderr",
     "output_type": "stream",
     "text": [
      " 70%|███████   | 7/10 [03:32<01:30, 30.04s/it]"
     ]
    },
    {
     "name": "stdout",
     "output_type": "stream",
     "text": [
      "=================================\n",
      "Initial portfolio value:100000\n",
      "Final portfolio value: 619901.25\n",
      "Final accumulative portfolio value: 6.1990125\n",
      "Maximum DrawDown: -0.2803930358858423\n",
      "Sharpe ratio: 1.1206680128490092\n",
      "=================================\n"
     ]
    },
    {
     "name": "stderr",
     "output_type": "stream",
     "text": [
      " 80%|████████  | 8/10 [04:02<01:00, 30.11s/it]"
     ]
    },
    {
     "name": "stdout",
     "output_type": "stream",
     "text": [
      "=================================\n",
      "Initial portfolio value:100000\n",
      "Final portfolio value: 731511.625\n",
      "Final accumulative portfolio value: 7.31511625\n",
      "Maximum DrawDown: -0.28039297772779403\n",
      "Sharpe ratio: 1.1551476766199285\n",
      "=================================\n"
     ]
    },
    {
     "name": "stderr",
     "output_type": "stream",
     "text": [
      " 90%|█████████ | 9/10 [04:32<00:30, 30.11s/it]"
     ]
    },
    {
     "name": "stdout",
     "output_type": "stream",
     "text": [
      "=================================\n",
      "Initial portfolio value:100000\n",
      "Final portfolio value: 584866.625\n",
      "Final accumulative portfolio value: 5.84866625\n",
      "Maximum DrawDown: -0.2872567052964847\n",
      "Sharpe ratio: 1.021377884181041\n",
      "=================================\n"
     ]
    },
    {
     "name": "stderr",
     "output_type": "stream",
     "text": [
      "100%|██████████| 10/10 [05:02<00:00, 30.29s/it]\n",
      "C:\\Users\\xutia\\AppData\\Local\\Temp\\ipykernel_52124\\1506485762.py:43: FutureWarning: You are using `torch.load` with `weights_only=False` (the current default value), which uses the default pickle module implicitly. It is possible to construct malicious pickle data which will execute arbitrary code during unpickling (See https://github.com/pytorch/pytorch/blob/main/SECURITY.md#untrusted-models for more details). In a future release, the default value for `weights_only` will be flipped to `True`. This limits the functions that could be executed during unpickling. Arbitrary objects will no longer be allowed to be loaded via this mode unless they are explicitly allowlisted by the user via `torch.serialization.add_safe_globals`. We recommend you start setting `weights_only=True` for any use case where you don't have full control of the loaded file. Please open an issue on GitHub for any issues related to this experimental feature.\n",
      "  EIIE_policy.load_state_dict(torch.load(model_filename))\n"
     ]
    },
    {
     "name": "stdout",
     "output_type": "stream",
     "text": [
      "=================================\n",
      "Initial portfolio value:100000\n",
      "Final portfolio value: 605324.9375\n",
      "Final accumulative portfolio value: 6.053249375\n",
      "Maximum DrawDown: -0.38515892983389166\n",
      "Sharpe ratio: 1.0651220654487723\n",
      "=================================\n",
      "=================================\n",
      "Initial portfolio value:100000\n",
      "Final portfolio value: 174059.703125\n",
      "Final accumulative portfolio value: 1.74059703125\n",
      "Maximum DrawDown: -0.2151384313240795\n",
      "Sharpe ratio: 1.2134188343925303\n",
      "=================================\n"
     ]
    },
    {
     "data": {
      "text/html": [
       "<div>\n",
       "<style scoped>\n",
       "    .dataframe tbody tr th:only-of-type {\n",
       "        vertical-align: middle;\n",
       "    }\n",
       "\n",
       "    .dataframe tbody tr th {\n",
       "        vertical-align: top;\n",
       "    }\n",
       "\n",
       "    .dataframe thead th {\n",
       "        text-align: right;\n",
       "    }\n",
       "</style>\n",
       "<table border=\"1\" class=\"dataframe\">\n",
       "  <thead>\n",
       "    <tr style=\"text-align: right;\">\n",
       "      <th></th>\n",
       "      <th>TIME_WINDOW</th>\n",
       "      <th>K_SIZE</th>\n",
       "      <th>CONV_MID</th>\n",
       "      <th>CONV_FINAL</th>\n",
       "      <th>LEARNING_RATE</th>\n",
       "      <th>train_portfolio_value</th>\n",
       "      <th>train_drawdown</th>\n",
       "      <th>train_sharpe</th>\n",
       "      <th>train_cumulative</th>\n",
       "      <th>test_portfolio_value</th>\n",
       "      <th>test_drawdown</th>\n",
       "      <th>test_sharpe</th>\n",
       "      <th>test_cumulative</th>\n",
       "    </tr>\n",
       "  </thead>\n",
       "  <tbody>\n",
       "    <tr>\n",
       "      <th>0</th>\n",
       "      <td>30</td>\n",
       "      <td>3</td>\n",
       "      <td>5</td>\n",
       "      <td>5</td>\n",
       "      <td>0.02</td>\n",
       "      <td>242710.156250</td>\n",
       "      <td>-0.349937</td>\n",
       "      <td>0.781208</td>\n",
       "      <td>2.427102</td>\n",
       "      <td>129690.757812</td>\n",
       "      <td>-0.157820</td>\n",
       "      <td>0.890131</td>\n",
       "      <td>1.296908</td>\n",
       "    </tr>\n",
       "    <tr>\n",
       "      <th>1</th>\n",
       "      <td>30</td>\n",
       "      <td>3</td>\n",
       "      <td>5</td>\n",
       "      <td>10</td>\n",
       "      <td>0.02</td>\n",
       "      <td>244373.718750</td>\n",
       "      <td>-0.352311</td>\n",
       "      <td>0.781539</td>\n",
       "      <td>2.443737</td>\n",
       "      <td>129973.921875</td>\n",
       "      <td>-0.159159</td>\n",
       "      <td>0.890537</td>\n",
       "      <td>1.299739</td>\n",
       "    </tr>\n",
       "    <tr>\n",
       "      <th>2</th>\n",
       "      <td>30</td>\n",
       "      <td>3</td>\n",
       "      <td>5</td>\n",
       "      <td>20</td>\n",
       "      <td>0.02</td>\n",
       "      <td>482924.187500</td>\n",
       "      <td>-0.280216</td>\n",
       "      <td>1.092976</td>\n",
       "      <td>4.829242</td>\n",
       "      <td>73052.421875</td>\n",
       "      <td>-0.506295</td>\n",
       "      <td>-0.523658</td>\n",
       "      <td>0.730524</td>\n",
       "    </tr>\n",
       "    <tr>\n",
       "      <th>3</th>\n",
       "      <td>30</td>\n",
       "      <td>3</td>\n",
       "      <td>20</td>\n",
       "      <td>5</td>\n",
       "      <td>0.02</td>\n",
       "      <td>241217.953125</td>\n",
       "      <td>-0.348019</td>\n",
       "      <td>0.780685</td>\n",
       "      <td>2.412180</td>\n",
       "      <td>129411.117188</td>\n",
       "      <td>-0.156683</td>\n",
       "      <td>0.889012</td>\n",
       "      <td>1.294111</td>\n",
       "    </tr>\n",
       "    <tr>\n",
       "      <th>4</th>\n",
       "      <td>30</td>\n",
       "      <td>3</td>\n",
       "      <td>20</td>\n",
       "      <td>10</td>\n",
       "      <td>0.02</td>\n",
       "      <td>916983.625000</td>\n",
       "      <td>-0.353695</td>\n",
       "      <td>1.290538</td>\n",
       "      <td>9.169836</td>\n",
       "      <td>125264.804688</td>\n",
       "      <td>-0.322800</td>\n",
       "      <td>0.577176</td>\n",
       "      <td>1.252648</td>\n",
       "    </tr>\n",
       "    <tr>\n",
       "      <th>5</th>\n",
       "      <td>30</td>\n",
       "      <td>3</td>\n",
       "      <td>20</td>\n",
       "      <td>20</td>\n",
       "      <td>0.02</td>\n",
       "      <td>722769.562500</td>\n",
       "      <td>-0.317330</td>\n",
       "      <td>1.178251</td>\n",
       "      <td>7.227696</td>\n",
       "      <td>218746.765625</td>\n",
       "      <td>-0.192155</td>\n",
       "      <td>1.697820</td>\n",
       "      <td>2.187468</td>\n",
       "    </tr>\n",
       "    <tr>\n",
       "      <th>6</th>\n",
       "      <td>30</td>\n",
       "      <td>4</td>\n",
       "      <td>5</td>\n",
       "      <td>5</td>\n",
       "      <td>0.02</td>\n",
       "      <td>890704.812500</td>\n",
       "      <td>-0.287765</td>\n",
       "      <td>1.252119</td>\n",
       "      <td>8.907048</td>\n",
       "      <td>213699.015625</td>\n",
       "      <td>-0.179302</td>\n",
       "      <td>1.556274</td>\n",
       "      <td>2.136990</td>\n",
       "    </tr>\n",
       "    <tr>\n",
       "      <th>7</th>\n",
       "      <td>30</td>\n",
       "      <td>4</td>\n",
       "      <td>5</td>\n",
       "      <td>10</td>\n",
       "      <td>0.02</td>\n",
       "      <td>244762.906250</td>\n",
       "      <td>-0.352610</td>\n",
       "      <td>0.781868</td>\n",
       "      <td>2.447629</td>\n",
       "      <td>130063.187500</td>\n",
       "      <td>-0.159359</td>\n",
       "      <td>0.891468</td>\n",
       "      <td>1.300632</td>\n",
       "    </tr>\n",
       "    <tr>\n",
       "      <th>8</th>\n",
       "      <td>30</td>\n",
       "      <td>4</td>\n",
       "      <td>5</td>\n",
       "      <td>20</td>\n",
       "      <td>0.02</td>\n",
       "      <td>244781.156250</td>\n",
       "      <td>-0.352623</td>\n",
       "      <td>0.781886</td>\n",
       "      <td>2.447812</td>\n",
       "      <td>130067.750000</td>\n",
       "      <td>-0.159362</td>\n",
       "      <td>0.891532</td>\n",
       "      <td>1.300677</td>\n",
       "    </tr>\n",
       "    <tr>\n",
       "      <th>9</th>\n",
       "      <td>30</td>\n",
       "      <td>4</td>\n",
       "      <td>20</td>\n",
       "      <td>5</td>\n",
       "      <td>0.02</td>\n",
       "      <td>532263.250000</td>\n",
       "      <td>-0.305760</td>\n",
       "      <td>1.047193</td>\n",
       "      <td>5.322633</td>\n",
       "      <td>123300.070312</td>\n",
       "      <td>-0.254766</td>\n",
       "      <td>0.555809</td>\n",
       "      <td>1.233001</td>\n",
       "    </tr>\n",
       "    <tr>\n",
       "      <th>10</th>\n",
       "      <td>30</td>\n",
       "      <td>4</td>\n",
       "      <td>20</td>\n",
       "      <td>10</td>\n",
       "      <td>0.02</td>\n",
       "      <td>339953.156250</td>\n",
       "      <td>-0.329947</td>\n",
       "      <td>0.889933</td>\n",
       "      <td>3.399532</td>\n",
       "      <td>101068.531250</td>\n",
       "      <td>-0.354763</td>\n",
       "      <td>0.169432</td>\n",
       "      <td>1.010685</td>\n",
       "    </tr>\n",
       "    <tr>\n",
       "      <th>11</th>\n",
       "      <td>30</td>\n",
       "      <td>4</td>\n",
       "      <td>20</td>\n",
       "      <td>20</td>\n",
       "      <td>0.02</td>\n",
       "      <td>705721.562500</td>\n",
       "      <td>-0.280393</td>\n",
       "      <td>1.209223</td>\n",
       "      <td>7.057216</td>\n",
       "      <td>110029.734375</td>\n",
       "      <td>-0.403512</td>\n",
       "      <td>0.322393</td>\n",
       "      <td>1.100297</td>\n",
       "    </tr>\n",
       "    <tr>\n",
       "      <th>12</th>\n",
       "      <td>60</td>\n",
       "      <td>3</td>\n",
       "      <td>5</td>\n",
       "      <td>5</td>\n",
       "      <td>0.02</td>\n",
       "      <td>238806.250000</td>\n",
       "      <td>-0.352412</td>\n",
       "      <td>0.771478</td>\n",
       "      <td>2.388063</td>\n",
       "      <td>126311.367188</td>\n",
       "      <td>-0.159255</td>\n",
       "      <td>0.842405</td>\n",
       "      <td>1.263114</td>\n",
       "    </tr>\n",
       "    <tr>\n",
       "      <th>13</th>\n",
       "      <td>60</td>\n",
       "      <td>3</td>\n",
       "      <td>5</td>\n",
       "      <td>10</td>\n",
       "      <td>0.02</td>\n",
       "      <td>234942.953125</td>\n",
       "      <td>-0.346956</td>\n",
       "      <td>0.770315</td>\n",
       "      <td>2.349430</td>\n",
       "      <td>125699.445312</td>\n",
       "      <td>-0.156203</td>\n",
       "      <td>0.840198</td>\n",
       "      <td>1.256994</td>\n",
       "    </tr>\n",
       "    <tr>\n",
       "      <th>14</th>\n",
       "      <td>60</td>\n",
       "      <td>3</td>\n",
       "      <td>5</td>\n",
       "      <td>20</td>\n",
       "      <td>0.02</td>\n",
       "      <td>899623.687500</td>\n",
       "      <td>-0.314273</td>\n",
       "      <td>1.307660</td>\n",
       "      <td>8.996237</td>\n",
       "      <td>142120.468750</td>\n",
       "      <td>-0.229246</td>\n",
       "      <td>0.875110</td>\n",
       "      <td>1.421205</td>\n",
       "    </tr>\n",
       "    <tr>\n",
       "      <th>15</th>\n",
       "      <td>60</td>\n",
       "      <td>3</td>\n",
       "      <td>20</td>\n",
       "      <td>5</td>\n",
       "      <td>0.02</td>\n",
       "      <td>628014.000000</td>\n",
       "      <td>-0.385159</td>\n",
       "      <td>1.095827</td>\n",
       "      <td>6.280140</td>\n",
       "      <td>160993.062500</td>\n",
       "      <td>-0.247302</td>\n",
       "      <td>1.116065</td>\n",
       "      <td>1.609931</td>\n",
       "    </tr>\n",
       "    <tr>\n",
       "      <th>16</th>\n",
       "      <td>60</td>\n",
       "      <td>3</td>\n",
       "      <td>20</td>\n",
       "      <td>10</td>\n",
       "      <td>0.02</td>\n",
       "      <td>100000.000000</td>\n",
       "      <td>0.000000</td>\n",
       "      <td>NaN</td>\n",
       "      <td>1.000000</td>\n",
       "      <td>100000.000000</td>\n",
       "      <td>0.000000</td>\n",
       "      <td>NaN</td>\n",
       "      <td>1.000000</td>\n",
       "    </tr>\n",
       "    <tr>\n",
       "      <th>17</th>\n",
       "      <td>60</td>\n",
       "      <td>3</td>\n",
       "      <td>20</td>\n",
       "      <td>20</td>\n",
       "      <td>0.02</td>\n",
       "      <td>830581.437500</td>\n",
       "      <td>-0.385159</td>\n",
       "      <td>1.262811</td>\n",
       "      <td>8.305814</td>\n",
       "      <td>213390.875000</td>\n",
       "      <td>-0.172160</td>\n",
       "      <td>1.617259</td>\n",
       "      <td>2.133909</td>\n",
       "    </tr>\n",
       "    <tr>\n",
       "      <th>18</th>\n",
       "      <td>60</td>\n",
       "      <td>4</td>\n",
       "      <td>5</td>\n",
       "      <td>5</td>\n",
       "      <td>0.02</td>\n",
       "      <td>236543.593750</td>\n",
       "      <td>-0.349153</td>\n",
       "      <td>0.770868</td>\n",
       "      <td>2.365436</td>\n",
       "      <td>125959.320312</td>\n",
       "      <td>-0.157448</td>\n",
       "      <td>0.841332</td>\n",
       "      <td>1.259593</td>\n",
       "    </tr>\n",
       "    <tr>\n",
       "      <th>19</th>\n",
       "      <td>60</td>\n",
       "      <td>4</td>\n",
       "      <td>5</td>\n",
       "      <td>10</td>\n",
       "      <td>0.02</td>\n",
       "      <td>624348.375000</td>\n",
       "      <td>-0.284408</td>\n",
       "      <td>1.186437</td>\n",
       "      <td>6.243484</td>\n",
       "      <td>90271.578125</td>\n",
       "      <td>-0.327337</td>\n",
       "      <td>-0.057234</td>\n",
       "      <td>0.902716</td>\n",
       "    </tr>\n",
       "    <tr>\n",
       "      <th>20</th>\n",
       "      <td>60</td>\n",
       "      <td>4</td>\n",
       "      <td>5</td>\n",
       "      <td>20</td>\n",
       "      <td>0.02</td>\n",
       "      <td>801118.750000</td>\n",
       "      <td>-0.280393</td>\n",
       "      <td>1.305311</td>\n",
       "      <td>8.011188</td>\n",
       "      <td>194746.640625</td>\n",
       "      <td>-0.220046</td>\n",
       "      <td>1.423872</td>\n",
       "      <td>1.947466</td>\n",
       "    </tr>\n",
       "    <tr>\n",
       "      <th>21</th>\n",
       "      <td>60</td>\n",
       "      <td>4</td>\n",
       "      <td>20</td>\n",
       "      <td>5</td>\n",
       "      <td>0.02</td>\n",
       "      <td>443518.375000</td>\n",
       "      <td>-0.385155</td>\n",
       "      <td>0.889633</td>\n",
       "      <td>4.435184</td>\n",
       "      <td>132750.000000</td>\n",
       "      <td>-0.303813</td>\n",
       "      <td>0.743693</td>\n",
       "      <td>1.327500</td>\n",
       "    </tr>\n",
       "    <tr>\n",
       "      <th>22</th>\n",
       "      <td>60</td>\n",
       "      <td>4</td>\n",
       "      <td>20</td>\n",
       "      <td>10</td>\n",
       "      <td>0.02</td>\n",
       "      <td>406109.718750</td>\n",
       "      <td>-0.456209</td>\n",
       "      <td>0.868132</td>\n",
       "      <td>4.061097</td>\n",
       "      <td>189806.046875</td>\n",
       "      <td>-0.176032</td>\n",
       "      <td>1.354119</td>\n",
       "      <td>1.898060</td>\n",
       "    </tr>\n",
       "    <tr>\n",
       "      <th>23</th>\n",
       "      <td>60</td>\n",
       "      <td>4</td>\n",
       "      <td>20</td>\n",
       "      <td>20</td>\n",
       "      <td>0.02</td>\n",
       "      <td>605324.937500</td>\n",
       "      <td>-0.385159</td>\n",
       "      <td>1.065749</td>\n",
       "      <td>6.053249</td>\n",
       "      <td>174059.703125</td>\n",
       "      <td>-0.215138</td>\n",
       "      <td>1.216167</td>\n",
       "      <td>1.740597</td>\n",
       "    </tr>\n",
       "  </tbody>\n",
       "</table>\n",
       "</div>"
      ],
      "text/plain": [
       "   TIME_WINDOW K_SIZE CONV_MID CONV_FINAL  LEARNING_RATE  \\\n",
       "0           30      3        5          5           0.02   \n",
       "1           30      3        5         10           0.02   \n",
       "2           30      3        5         20           0.02   \n",
       "3           30      3       20          5           0.02   \n",
       "4           30      3       20         10           0.02   \n",
       "5           30      3       20         20           0.02   \n",
       "6           30      4        5          5           0.02   \n",
       "7           30      4        5         10           0.02   \n",
       "8           30      4        5         20           0.02   \n",
       "9           30      4       20          5           0.02   \n",
       "10          30      4       20         10           0.02   \n",
       "11          30      4       20         20           0.02   \n",
       "12          60      3        5          5           0.02   \n",
       "13          60      3        5         10           0.02   \n",
       "14          60      3        5         20           0.02   \n",
       "15          60      3       20          5           0.02   \n",
       "16          60      3       20         10           0.02   \n",
       "17          60      3       20         20           0.02   \n",
       "18          60      4        5          5           0.02   \n",
       "19          60      4        5         10           0.02   \n",
       "20          60      4        5         20           0.02   \n",
       "21          60      4       20          5           0.02   \n",
       "22          60      4       20         10           0.02   \n",
       "23          60      4       20         20           0.02   \n",
       "\n",
       "    train_portfolio_value  train_drawdown  train_sharpe  train_cumulative  \\\n",
       "0           242710.156250       -0.349937      0.781208          2.427102   \n",
       "1           244373.718750       -0.352311      0.781539          2.443737   \n",
       "2           482924.187500       -0.280216      1.092976          4.829242   \n",
       "3           241217.953125       -0.348019      0.780685          2.412180   \n",
       "4           916983.625000       -0.353695      1.290538          9.169836   \n",
       "5           722769.562500       -0.317330      1.178251          7.227696   \n",
       "6           890704.812500       -0.287765      1.252119          8.907048   \n",
       "7           244762.906250       -0.352610      0.781868          2.447629   \n",
       "8           244781.156250       -0.352623      0.781886          2.447812   \n",
       "9           532263.250000       -0.305760      1.047193          5.322633   \n",
       "10          339953.156250       -0.329947      0.889933          3.399532   \n",
       "11          705721.562500       -0.280393      1.209223          7.057216   \n",
       "12          238806.250000       -0.352412      0.771478          2.388063   \n",
       "13          234942.953125       -0.346956      0.770315          2.349430   \n",
       "14          899623.687500       -0.314273      1.307660          8.996237   \n",
       "15          628014.000000       -0.385159      1.095827          6.280140   \n",
       "16          100000.000000        0.000000           NaN          1.000000   \n",
       "17          830581.437500       -0.385159      1.262811          8.305814   \n",
       "18          236543.593750       -0.349153      0.770868          2.365436   \n",
       "19          624348.375000       -0.284408      1.186437          6.243484   \n",
       "20          801118.750000       -0.280393      1.305311          8.011188   \n",
       "21          443518.375000       -0.385155      0.889633          4.435184   \n",
       "22          406109.718750       -0.456209      0.868132          4.061097   \n",
       "23          605324.937500       -0.385159      1.065749          6.053249   \n",
       "\n",
       "    test_portfolio_value  test_drawdown  test_sharpe  test_cumulative  \n",
       "0          129690.757812      -0.157820     0.890131         1.296908  \n",
       "1          129973.921875      -0.159159     0.890537         1.299739  \n",
       "2           73052.421875      -0.506295    -0.523658         0.730524  \n",
       "3          129411.117188      -0.156683     0.889012         1.294111  \n",
       "4          125264.804688      -0.322800     0.577176         1.252648  \n",
       "5          218746.765625      -0.192155     1.697820         2.187468  \n",
       "6          213699.015625      -0.179302     1.556274         2.136990  \n",
       "7          130063.187500      -0.159359     0.891468         1.300632  \n",
       "8          130067.750000      -0.159362     0.891532         1.300677  \n",
       "9          123300.070312      -0.254766     0.555809         1.233001  \n",
       "10         101068.531250      -0.354763     0.169432         1.010685  \n",
       "11         110029.734375      -0.403512     0.322393         1.100297  \n",
       "12         126311.367188      -0.159255     0.842405         1.263114  \n",
       "13         125699.445312      -0.156203     0.840198         1.256994  \n",
       "14         142120.468750      -0.229246     0.875110         1.421205  \n",
       "15         160993.062500      -0.247302     1.116065         1.609931  \n",
       "16         100000.000000       0.000000          NaN         1.000000  \n",
       "17         213390.875000      -0.172160     1.617259         2.133909  \n",
       "18         125959.320312      -0.157448     0.841332         1.259593  \n",
       "19          90271.578125      -0.327337    -0.057234         0.902716  \n",
       "20         194746.640625      -0.220046     1.423872         1.947466  \n",
       "21         132750.000000      -0.303813     0.743693         1.327500  \n",
       "22         189806.046875      -0.176032     1.354119         1.898060  \n",
       "23         174059.703125      -0.215138     1.216167         1.740597  "
      ]
     },
     "execution_count": 37,
     "metadata": {},
     "output_type": "execute_result"
    }
   ],
   "source": [
    "# Hyperparameter tuning loop with 5 episodes of training and error handling\n",
    "for TIME_WINDOW, K_SIZE, CONV_MID, CONV_FINAL,LEARNING_RATE in product(time_windows, k_sizes, conv_mids, conv_finals, lr):\n",
    "    try:\n",
    "        print(f\"Training model with TIME_WINDOW={TIME_WINDOW}, K_SIZE={K_SIZE}, CONV_MID={CONV_MID}, CONV_FINAL={CONV_FINAL}, LEARNING_RATE={LEARNING_RATE}\")\n",
    "        # Update the policy_kwargs for the current set of hyperparameters\n",
    "        policy_kwargs = {\n",
    "        \"initial_features\": len(FEATURE_NAMES),\n",
    "        \"k_size\": K_SIZE,\n",
    "        \"time_window\": TIME_WINDOW,\n",
    "        \"conv_mid_features\":CONV_MID,\n",
    "        \"conv_final_features\":CONV_FINAL}\n",
    "\n",
    "        # Create the environment for training and the test years\n",
    "        environment = PortfolioOptimizationEnv(df_portfolio_train, initial_amount=100000, comission_fee_pct=COMISSION_FEE,\n",
    "                                               time_window=TIME_WINDOW, features=FEATURE_NAMES, normalize_df=None,\n",
    "                                               reward_function=custom_reward_function, reward_scaling=1.0)\n",
    "\n",
    "        environment_test = PortfolioOptimizationEnv(df_portfolio_vali, initial_amount=100000, comission_fee_pct=COMISSION_FEE,\n",
    "                                                    time_window=TIME_WINDOW, features=FEATURE_NAMES, normalize_df=None,\n",
    "                                                    reward_function=custom_reward_function, reward_scaling=1.0)\n",
    "\n",
    "        # Instantiate the model for each combination of hyperparameters\n",
    "        # set PolicyGradient parameters\n",
    "        model_kwargs = {\n",
    "                \"lr\": LEARNING_RATE,\n",
    "                \"policy\": EIIE,\n",
    "                }\n",
    "\n",
    "        EIIE_model = DRLAgent(environment).get_model(\"pg\", device, model_kwargs, policy_kwargs)\n",
    "        EIIE_policy = EIIE(time_window=TIME_WINDOW, device=device, initial_features=len(FEATURE_NAMES),\n",
    "                           k_size=K_SIZE, conv_mid_features=CONV_MID, conv_final_features=CONV_FINAL)\n",
    "\n",
    "        # Train the model for 10 episodes\n",
    "        DRLAgent.train_model(EIIE_model, episodes=10)\n",
    "        \n",
    "        # Save the model policy after training\n",
    "        model_filename = f\"policy_EIIE_{TIME_WINDOW}_{K_SIZE}_{CONV_MID}_{CONV_FINAL}_{LEARNING_RATE}.pt\"\n",
    "        torch.save(EIIE_model.train_policy.state_dict(), model_filename)\n",
    "        \n",
    "        EIIE_policy = EIIE(time_window = TIME_WINDOW, device = device, initial_features = len(FEATURE_NAMES),\n",
    "                          k_size = K_SIZE, conv_mid_features = CONV_MID,conv_final_features = CONV_FINAL)\n",
    "\n",
    "        EIIE_policy.load_state_dict(torch.load(model_filename))\n",
    "\n",
    "        # Training evaluation\n",
    "        environment.reset()\n",
    "        DRLAgent.DRL_validation(EIIE_model, environment, policy=EIIE_policy)\n",
    "        train_final_value, train_drawdown, train_sharpe, train_cumulative = calculate_metrics(environment)\n",
    "\n",
    "        # Test evaluation\n",
    "        environment_test.reset()\n",
    "        DRLAgent.DRL_validation(EIIE_model, environment_test, policy=EIIE_policy)\n",
    "        test_final_value, test_drawdown, test_sharpe, test_cumulative = calculate_metrics(environment_test)\n",
    "\n",
    " \n",
    "\n",
    "    except Exception as e:\n",
    "        print(f\"Error encountered with combination policy_EIIE_{TIME_WINDOW}_{K_SIZE}_{CONV_MID}_{CONV_FINAL}: {e}\")\n",
    "        # If an error occurs, store NaN for all the metrics\n",
    "        train_final_value = train_drawdown = train_sharpe = train_cumulative = np.nan\n",
    "        test_final_value = test_drawdown = test_sharpe = test_cumulative = np.nan\n",
    " \n",
    "\n",
    "    # Create a temporary DataFrame to store the current results\n",
    "    temp_df = pd.DataFrame([{\n",
    "        \"TIME_WINDOW\": TIME_WINDOW, \"K_SIZE\": K_SIZE, \"CONV_MID\": CONV_MID, \"CONV_FINAL\": CONV_FINAL, \"LEARNING_RATE\": LEARNING_RATE,\n",
    "        \"train_portfolio_value\": train_final_value, \"train_drawdown\": train_drawdown, \"train_sharpe\": train_sharpe, \"train_cumulative\": train_cumulative,\n",
    "        \"test_portfolio_value\": test_final_value, \"test_drawdown\": test_drawdown, \"test_sharpe\": test_sharpe, \"test_cumulative\": test_cumulative,\n",
    "        }])\n",
    "    \n",
    "    # Use pd.concat instead of append to add the results to the main DataFrame\n",
    "    results_df = pd.concat([results_df, temp_df], ignore_index=True)\n",
    "    \n",
    "    try:\n",
    "        results_df.to_csv('doublecheck.csv', index=False)\n",
    "    except Exception as e:\n",
    "        print(f\"An error occurred: {e}\")\n",
    "        \n",
    "    \n",
    "results_df"
   ]
  },
  {
   "cell_type": "code",
   "execution_count": 33,
   "metadata": {
    "scrolled": true
   },
   "outputs": [
    {
     "data": {
      "text/html": [
       "<div>\n",
       "<style scoped>\n",
       "    .dataframe tbody tr th:only-of-type {\n",
       "        vertical-align: middle;\n",
       "    }\n",
       "\n",
       "    .dataframe tbody tr th {\n",
       "        vertical-align: top;\n",
       "    }\n",
       "\n",
       "    .dataframe thead th {\n",
       "        text-align: right;\n",
       "    }\n",
       "</style>\n",
       "<table border=\"1\" class=\"dataframe\">\n",
       "  <thead>\n",
       "    <tr style=\"text-align: right;\">\n",
       "      <th></th>\n",
       "      <th>TIME_WINDOW</th>\n",
       "      <th>K_SIZE</th>\n",
       "      <th>CONV_MID</th>\n",
       "      <th>CONV_FINAL</th>\n",
       "      <th>LEARNING_RATE</th>\n",
       "      <th>train_portfolio_value</th>\n",
       "      <th>train_drawdown</th>\n",
       "      <th>train_sharpe</th>\n",
       "      <th>train_cumulative</th>\n",
       "      <th>test_portfolio_value</th>\n",
       "      <th>test_drawdown</th>\n",
       "      <th>test_sharpe</th>\n",
       "      <th>test_cumulative</th>\n",
       "    </tr>\n",
       "  </thead>\n",
       "  <tbody>\n",
       "    <tr>\n",
       "      <th>0</th>\n",
       "      <td>30</td>\n",
       "      <td>3</td>\n",
       "      <td>5</td>\n",
       "      <td>5</td>\n",
       "      <td>0.01</td>\n",
       "      <td>9.354249e+05</td>\n",
       "      <td>-0.384764</td>\n",
       "      <td>1.331227</td>\n",
       "      <td>9.354249</td>\n",
       "      <td>150983.859375</td>\n",
       "      <td>-0.288262</td>\n",
       "      <td>0.909782</td>\n",
       "      <td>1.509839</td>\n",
       "    </tr>\n",
       "    <tr>\n",
       "      <th>1</th>\n",
       "      <td>30</td>\n",
       "      <td>3</td>\n",
       "      <td>5</td>\n",
       "      <td>5</td>\n",
       "      <td>0.02</td>\n",
       "      <td>8.224098e+05</td>\n",
       "      <td>-0.362296</td>\n",
       "      <td>1.247078</td>\n",
       "      <td>8.224097</td>\n",
       "      <td>190940.890625</td>\n",
       "      <td>-0.210293</td>\n",
       "      <td>1.345313</td>\n",
       "      <td>1.909409</td>\n",
       "    </tr>\n",
       "    <tr>\n",
       "      <th>2</th>\n",
       "      <td>30</td>\n",
       "      <td>3</td>\n",
       "      <td>5</td>\n",
       "      <td>10</td>\n",
       "      <td>0.01</td>\n",
       "      <td>2.374833e+05</td>\n",
       "      <td>-0.342059</td>\n",
       "      <td>0.780448</td>\n",
       "      <td>2.374833</td>\n",
       "      <td>128788.664062</td>\n",
       "      <td>-0.153513</td>\n",
       "      <td>0.888851</td>\n",
       "      <td>1.287887</td>\n",
       "    </tr>\n",
       "    <tr>\n",
       "      <th>3</th>\n",
       "      <td>30</td>\n",
       "      <td>3</td>\n",
       "      <td>5</td>\n",
       "      <td>10</td>\n",
       "      <td>0.02</td>\n",
       "      <td>4.528810e+05</td>\n",
       "      <td>-0.284567</td>\n",
       "      <td>0.942631</td>\n",
       "      <td>4.528810</td>\n",
       "      <td>215230.218750</td>\n",
       "      <td>-0.187788</td>\n",
       "      <td>1.645605</td>\n",
       "      <td>2.152302</td>\n",
       "    </tr>\n",
       "    <tr>\n",
       "      <th>4</th>\n",
       "      <td>30</td>\n",
       "      <td>3</td>\n",
       "      <td>5</td>\n",
       "      <td>20</td>\n",
       "      <td>0.01</td>\n",
       "      <td>2.446373e+05</td>\n",
       "      <td>-0.352521</td>\n",
       "      <td>0.781757</td>\n",
       "      <td>2.446373</td>\n",
       "      <td>130033.421875</td>\n",
       "      <td>-0.159296</td>\n",
       "      <td>0.891152</td>\n",
       "      <td>1.300334</td>\n",
       "    </tr>\n",
       "    <tr>\n",
       "      <th>...</th>\n",
       "      <td>...</td>\n",
       "      <td>...</td>\n",
       "      <td>...</td>\n",
       "      <td>...</td>\n",
       "      <td>...</td>\n",
       "      <td>...</td>\n",
       "      <td>...</td>\n",
       "      <td>...</td>\n",
       "      <td>...</td>\n",
       "      <td>...</td>\n",
       "      <td>...</td>\n",
       "      <td>...</td>\n",
       "      <td>...</td>\n",
       "    </tr>\n",
       "    <tr>\n",
       "      <th>157</th>\n",
       "      <td>90</td>\n",
       "      <td>5</td>\n",
       "      <td>20</td>\n",
       "      <td>5</td>\n",
       "      <td>0.02</td>\n",
       "      <td>7.156793e+05</td>\n",
       "      <td>-0.280393</td>\n",
       "      <td>1.239699</td>\n",
       "      <td>7.156793</td>\n",
       "      <td>199785.375000</td>\n",
       "      <td>-0.217284</td>\n",
       "      <td>1.573390</td>\n",
       "      <td>1.997854</td>\n",
       "    </tr>\n",
       "    <tr>\n",
       "      <th>158</th>\n",
       "      <td>90</td>\n",
       "      <td>5</td>\n",
       "      <td>20</td>\n",
       "      <td>10</td>\n",
       "      <td>0.01</td>\n",
       "      <td>1.143282e+06</td>\n",
       "      <td>-0.314273</td>\n",
       "      <td>1.428601</td>\n",
       "      <td>11.432816</td>\n",
       "      <td>182986.265625</td>\n",
       "      <td>-0.205087</td>\n",
       "      <td>1.344036</td>\n",
       "      <td>1.829863</td>\n",
       "    </tr>\n",
       "    <tr>\n",
       "      <th>159</th>\n",
       "      <td>90</td>\n",
       "      <td>5</td>\n",
       "      <td>20</td>\n",
       "      <td>10</td>\n",
       "      <td>0.02</td>\n",
       "      <td>1.000000e+05</td>\n",
       "      <td>0.000000</td>\n",
       "      <td>NaN</td>\n",
       "      <td>1.000000</td>\n",
       "      <td>100000.000000</td>\n",
       "      <td>0.000000</td>\n",
       "      <td>NaN</td>\n",
       "      <td>1.000000</td>\n",
       "    </tr>\n",
       "    <tr>\n",
       "      <th>160</th>\n",
       "      <td>90</td>\n",
       "      <td>5</td>\n",
       "      <td>20</td>\n",
       "      <td>20</td>\n",
       "      <td>0.01</td>\n",
       "      <td>7.675396e+05</td>\n",
       "      <td>-0.385159</td>\n",
       "      <td>1.227981</td>\n",
       "      <td>7.675396</td>\n",
       "      <td>70939.335938</td>\n",
       "      <td>-0.386138</td>\n",
       "      <td>-0.527137</td>\n",
       "      <td>0.709393</td>\n",
       "    </tr>\n",
       "    <tr>\n",
       "      <th>161</th>\n",
       "      <td>90</td>\n",
       "      <td>5</td>\n",
       "      <td>20</td>\n",
       "      <td>20</td>\n",
       "      <td>0.02</td>\n",
       "      <td>6.507372e+05</td>\n",
       "      <td>-0.313959</td>\n",
       "      <td>1.166785</td>\n",
       "      <td>6.507372</td>\n",
       "      <td>101882.953125</td>\n",
       "      <td>-0.371487</td>\n",
       "      <td>0.188131</td>\n",
       "      <td>1.018830</td>\n",
       "    </tr>\n",
       "  </tbody>\n",
       "</table>\n",
       "<p>162 rows × 13 columns</p>\n",
       "</div>"
      ],
      "text/plain": [
       "    TIME_WINDOW K_SIZE CONV_MID CONV_FINAL  LEARNING_RATE  \\\n",
       "0            30      3        5          5           0.01   \n",
       "1            30      3        5          5           0.02   \n",
       "2            30      3        5         10           0.01   \n",
       "3            30      3        5         10           0.02   \n",
       "4            30      3        5         20           0.01   \n",
       "..          ...    ...      ...        ...            ...   \n",
       "157          90      5       20          5           0.02   \n",
       "158          90      5       20         10           0.01   \n",
       "159          90      5       20         10           0.02   \n",
       "160          90      5       20         20           0.01   \n",
       "161          90      5       20         20           0.02   \n",
       "\n",
       "     train_portfolio_value  train_drawdown  train_sharpe  train_cumulative  \\\n",
       "0             9.354249e+05       -0.384764      1.331227          9.354249   \n",
       "1             8.224098e+05       -0.362296      1.247078          8.224097   \n",
       "2             2.374833e+05       -0.342059      0.780448          2.374833   \n",
       "3             4.528810e+05       -0.284567      0.942631          4.528810   \n",
       "4             2.446373e+05       -0.352521      0.781757          2.446373   \n",
       "..                     ...             ...           ...               ...   \n",
       "157           7.156793e+05       -0.280393      1.239699          7.156793   \n",
       "158           1.143282e+06       -0.314273      1.428601         11.432816   \n",
       "159           1.000000e+05        0.000000           NaN          1.000000   \n",
       "160           7.675396e+05       -0.385159      1.227981          7.675396   \n",
       "161           6.507372e+05       -0.313959      1.166785          6.507372   \n",
       "\n",
       "     test_portfolio_value  test_drawdown  test_sharpe  test_cumulative  \n",
       "0           150983.859375      -0.288262     0.909782         1.509839  \n",
       "1           190940.890625      -0.210293     1.345313         1.909409  \n",
       "2           128788.664062      -0.153513     0.888851         1.287887  \n",
       "3           215230.218750      -0.187788     1.645605         2.152302  \n",
       "4           130033.421875      -0.159296     0.891152         1.300334  \n",
       "..                    ...            ...          ...              ...  \n",
       "157         199785.375000      -0.217284     1.573390         1.997854  \n",
       "158         182986.265625      -0.205087     1.344036         1.829863  \n",
       "159         100000.000000       0.000000          NaN         1.000000  \n",
       "160          70939.335938      -0.386138    -0.527137         0.709393  \n",
       "161         101882.953125      -0.371487     0.188131         1.018830  \n",
       "\n",
       "[162 rows x 13 columns]"
      ]
     },
     "execution_count": 33,
     "metadata": {},
     "output_type": "execute_result"
    }
   ],
   "source": [
    "results_df"
   ]
  },
  {
   "cell_type": "code",
   "execution_count": null,
   "metadata": {},
   "outputs": [],
   "source": [
    "results_df2.to_csv('results_df2.csv', index=False)"
   ]
  },
  {
   "cell_type": "code",
   "execution_count": null,
   "metadata": {},
   "outputs": [],
   "source": []
  },
  {
   "cell_type": "code",
   "execution_count": 35,
   "metadata": {},
   "outputs": [],
   "source": [
    "results_df.to_csv('secondhyperparmatuning.csv', index=False)"
   ]
  },
  {
   "cell_type": "code",
   "execution_count": null,
   "metadata": {},
   "outputs": [],
   "source": []
  },
  {
   "cell_type": "code",
   "execution_count": null,
   "metadata": {},
   "outputs": [],
   "source": []
  },
  {
   "cell_type": "code",
   "execution_count": null,
   "metadata": {},
   "outputs": [],
   "source": []
  },
  {
   "cell_type": "code",
   "execution_count": 36,
   "metadata": {},
   "outputs": [],
   "source": [
    "FEATURE_NAMES = ['close',\n",
    "                 'high',\n",
    "                 'low',\n",
    "                 'High_VIX',\n",
    "                 'Low_VIX',\n",
    "                 'Close_VIX',\n",
    "                 'High_SPY',\n",
    "                 'Low_SPY',\n",
    "                 'Close_SPY',\n",
    "                 'Volume_SPY',\n",
    "                 'Fear Greed', \n",
    "                 'ratingScore',\n",
    "                 'ratingDetailsDCFScore',\n",
    "                 'ratingDetailsROEScore',\n",
    "                 'ratingDetailsROAScore',\n",
    "                 'ratingDetailsPEScore',\n",
    "                 'ratingDetailsPBScore',\n",
    "                 'expenses',\n",
    "                 'GDP', \n",
    "                 'exports', \n",
    "                 'imports',\n",
    "                 'pound_dollar_exchange_rate',\n",
    "                 'unemployment',\n",
    "                 'ics',\n",
    "                 'TTM Revenue(Billion)',\n",
    "                 'TTM EBITDA(Billion)',\n",
    "                 'EBITDA Margin',\n",
    "                 'Price to Book Ratio',\n",
    "                 'PE Ratio',\n",
    "                 'Price to Sales Ratio',\n",
    "                 'Assets',\n",
    "                 'NetIncomeLoss',\n",
    "                 'Return on Equity(%)']\n",
    "\n",
    "TIME_WINDOW = 50\n",
    "COMISSION_FEE = 0.0025\n",
    "K_SIZE = 4\n",
    "CONV_MID = 5\n",
    "CONV_FINAL= 20\n",
    "\n",
    "environment = PortfolioOptimizationEnv(\n",
    "        df_portfolio_train,\n",
    "        initial_amount=100000,\n",
    "        comission_fee_pct=COMISSION_FEE,\n",
    "        time_window=TIME_WINDOW,\n",
    "        features=FEATURE_NAMES,\n",
    "        normalize_df=None,\n",
    "        reward_function=custom_reward_function,\n",
    "        reward_scaling=1.0\n",
    "    )\n",
    "\n",
    "# set PolicyGradient parameters\n",
    "model_kwargs = {\n",
    "    \"lr\": 0.01, \n",
    "    \"policy\": EIIE,\n",
    "}\n",
    "\n",
    "# here, we can set EIIE's parameters\n",
    "policy_kwargs = {\n",
    "    \"initial_features\": len(FEATURE_NAMES),\n",
    "    \"k_size\": K_SIZE,\n",
    "    \"time_window\": TIME_WINDOW,\n",
    "    \"conv_mid_features\":CONV_MID,\n",
    "    \"conv_final_features\":CONV_FINAL}\n",
    "\n",
    "EIIE_model = DRLAgent(environment).get_model(\"pg\", device, model_kwargs, policy_kwargs)"
   ]
  },
  {
   "cell_type": "markdown",
   "metadata": {},
   "source": [
    "# DRL Model Training (Jan 2011- Dec 2020)"
   ]
  },
  {
   "cell_type": "code",
   "execution_count": null,
   "metadata": {
    "scrolled": false
   },
   "outputs": [],
   "source": [
    "DRLAgent.train_model(EIIE_model, episodes=5)\n",
    "torch.save(EIIE_model.train_policy.state_dict(), \"policy_EIIE(test).pt\")"
   ]
  },
  {
   "cell_type": "markdown",
   "metadata": {},
   "source": [
    "# DRL Model Evaluation (Jan 2021-Dec 2023)"
   ]
  },
  {
   "cell_type": "code",
   "execution_count": null,
   "metadata": {},
   "outputs": [],
   "source": [
    "import os\n",
    "import shutil\n",
    "\n",
    "environment_2021 = PortfolioOptimizationEnv(\n",
    "    df_portfolio_2021,\n",
    "    initial_amount=100000,\n",
    "    comission_fee_pct=COMISSION_FEE,\n",
    "    time_window=TIME_WINDOW,\n",
    "    features=FEATURE_NAMES,\n",
    "    normalize_df=None,\n",
    "    reward_function=custom_reward_function,\n",
    "    reward_scaling=1.0\n",
    ")\n",
    "\n",
    "environment_2022 = PortfolioOptimizationEnv(\n",
    "    df_portfolio_2022,\n",
    "    initial_amount=100000,\n",
    "    comission_fee_pct=COMISSION_FEE,\n",
    "    time_window=TIME_WINDOW,\n",
    "    features=FEATURE_NAMES,\n",
    "    normalize_df=None,\n",
    "    reward_function=custom_reward_function,\n",
    "    reward_scaling=1.0\n",
    ")\n",
    "\n",
    "environment_2023 = PortfolioOptimizationEnv(\n",
    "    df_portfolio_2023,\n",
    "    initial_amount=100000,\n",
    "    comission_fee_pct=COMISSION_FEE,\n",
    "    time_window=TIME_WINDOW,\n",
    "    features=FEATURE_NAMES,\n",
    "    normalize_df=None,\n",
    "    reward_function=custom_reward_function,\n",
    "    reward_scaling=1.0\n",
    ")\n",
    "\n",
    "EIIE_results = {\n",
    "    \"train\": {},\n",
    "    \"2021\": {},\n",
    "    \"2022\": {},\n",
    "    \"2023\": {}\n",
    "}\n",
    "# EI3_results = {\n",
    "#     \"train\": {},\n",
    "#     \"2021\": {},\n",
    "#     \"2022\": {},\n",
    "#     \"2023\": {}\n",
    "# }\n",
    "\n",
    "# instantiate an architecture with the same arguments used in training\n",
    "# and load with load_state_dict.\n",
    "\n",
    "EIIE_policy = EIIE(time_window = TIME_WINDOW, device = device, initial_features = len(FEATURE_NAMES),\n",
    "              k_size = K_SIZE, conv_mid_features = CONV_MID,conv_final_features = CONV_FINAL)\n",
    "\n",
    "EIIE_policy.load_state_dict(torch.load(\"policy_EIIE(test).pt\"))\n",
    "\n",
    "environment.reset()\n",
    "src_folder = \"results/rl\"\n",
    "dst_folder = \"results/train\"\n",
    "if not os.path.exists(src_folder):\n",
    "    os.makedirs(src_folder)\n",
    "if os.path.exists(dst_folder):\n",
    "    shutil.rmtree(dst_folder)\n",
    "DRLAgent.DRL_validation(EIIE_model, environment, policy=EIIE_policy)\n",
    "os.rename(src_folder, dst_folder)\n",
    "EIIE_results[\"train\"][\"value\"] = environment._asset_memory[\"final\"]\n",
    "EIIE_results[\"train\"][\"actions\"] = environment._actions_memory\n",
    "\n",
    "src_folder = \"results/rl\"\n",
    "dst_folder = \"results/2021\"\n",
    "if not os.path.exists(src_folder):\n",
    "    os.makedirs(src_folder)\n",
    "if os.path.exists(dst_folder):\n",
    "    shutil.rmtree(dst_folder)\n",
    "DRLAgent.DRL_validation(EIIE_model, environment_2021, policy=EIIE_policy)\n",
    "os.rename(src_folder, dst_folder)\n",
    "EIIE_results[\"2021\"][\"value\"] = environment_2021._asset_memory[\"final\"]\n",
    "EIIE_results[\"2021\"][\"actions\"] = environment_2021._actions_memory\n",
    "\n",
    "src_folder = \"results/rl\"\n",
    "dst_folder = \"results/2022\"\n",
    "if not os.path.exists(src_folder):\n",
    "    os.makedirs(src_folder)\n",
    "if os.path.exists(dst_folder):\n",
    "    shutil.rmtree(dst_folder)\n",
    "DRLAgent.DRL_validation(EIIE_model, environment_2022, policy=EIIE_policy)\n",
    "os.rename(src_folder, dst_folder)\n",
    "EIIE_results[\"2022\"][\"value\"] = environment_2022._asset_memory[\"final\"]\n",
    "EIIE_results[\"2022\"][\"actions\"] = environment_2022._actions_memory\n",
    "\n",
    "src_folder = \"results/rl\"\n",
    "dst_folder = \"results/2023\"\n",
    "if not os.path.exists(src_folder):\n",
    "    os.makedirs(src_folder)\n",
    "if os.path.exists(dst_folder):\n",
    "    shutil.rmtree(dst_folder)\n",
    "DRLAgent.DRL_validation(EIIE_model, environment_2023, policy=EIIE_policy)\n",
    "os.rename(src_folder, dst_folder)\n",
    "EIIE_results[\"2023\"][\"value\"] = environment_2023._asset_memory[\"final\"]\n",
    "EIIE_results[\"2023\"][\"actions\"] = environment_2023._actions_memory\n",
    "\n",
    "\n",
    "# EI3_policy = EI3(time_window=50, device=device)\n",
    "# EI3_policy.load_state_dict(torch.load(\"policy_EI3.pt\"))\n",
    "\n",
    "# environment.reset()\n",
    "# DRLAgent.DRL_validation(EI3_model, environment, policy=EI3_policy)\n",
    "# EI3_results[\"train\"][\"value\"] = environment._asset_memory[\"final\"]\n",
    "# environment_2021.reset()\n",
    "# DRLAgent.DRL_validation(EI3_model, environment_2021, policy=EI3_policy)\n",
    "# EI3_results[\"2021\"][\"value\"] = environment_2021._asset_memory[\"final\"]\n",
    "# environment_2022.reset()\n",
    "# DRLAgent.DRL_validation(EI3_model, environment_2022, policy=EI3_policy)\n",
    "# EI3_results[\"2022\"][\"value\"] = environment_2022._asset_memory[\"final\"]\n",
    "# environment_2023.reset()\n",
    "# DRLAgent.DRL_validation(EI3_model, environment_2023, policy=EI3_policy)\n",
    "# EI3_results[\"2023\"][\"value\"] = environment_2023._asset_memory[\"final\"]\n",
    "\n",
    "#uniform buy n hold\n",
    "if not os.path.exists(src_folder):\n",
    "    os.makedirs(src_folder)\n",
    "UBAH_results = {\n",
    "    \"train\": {\"value\": [], \"actions\": []},\n",
    "    \"2021\": {\"value\": [], \"actions\": []},\n",
    "    \"2022\": {\"value\": [], \"actions\": []},\n",
    "    \"2023\": {\"value\": [], \"actions\": []}\n",
    "}\n",
    "\n",
    "PORTFOLIO_SIZE = len(TEST_SET)\n",
    "\n",
    "# train period\n",
    "terminated = False\n",
    "environment.reset()\n",
    "while not terminated:\n",
    "    action = [0] + [1/PORTFOLIO_SIZE] * PORTFOLIO_SIZE\n",
    "    _, _, terminated, _ = environment.step(action)\n",
    "    UBAH_results[\"train\"][\"actions\"].append(action)\n",
    "UBAH_results[\"train\"][\"value\"] = environment._asset_memory[\"final\"]\n",
    "\n",
    "# 2021\n",
    "terminated = False\n",
    "environment_2021.reset()\n",
    "while not terminated:\n",
    "    action = [0] + [1/PORTFOLIO_SIZE] * PORTFOLIO_SIZE\n",
    "    _, _, terminated, _ = environment_2021.step(action)\n",
    "    UBAH_results[\"2021\"][\"actions\"].append(action)\n",
    "UBAH_results[\"2021\"][\"value\"] = environment_2021._asset_memory[\"final\"]\n",
    "\n",
    "# 2022\n",
    "terminated = False\n",
    "environment_2022.reset()\n",
    "while not terminated:\n",
    "    action = [0] + [1/PORTFOLIO_SIZE] * PORTFOLIO_SIZE\n",
    "    _, _, terminated, _ = environment_2022.step(action)\n",
    "    UBAH_results[\"2022\"][\"actions\"].append(action)\n",
    "UBAH_results[\"2022\"][\"value\"] = environment_2022._asset_memory[\"final\"]\n",
    "\n",
    "# 2023\n",
    "terminated = False\n",
    "environment_2023.reset()\n",
    "while not terminated:\n",
    "    action = [0] + [1/PORTFOLIO_SIZE] * PORTFOLIO_SIZE\n",
    "    _, _, terminated, _ = environment_2023.step(action)\n",
    "    UBAH_results[\"2023\"][\"actions\"].append(action)\n",
    "UBAH_results[\"2023\"][\"value\"] = environment_2023._asset_memory[\"final\"]"
   ]
  },
  {
   "cell_type": "code",
   "execution_count": null,
   "metadata": {
    "scrolled": false
   },
   "outputs": [],
   "source": [
    "import matplotlib.pyplot as plt\n",
    "%matplotlib inline \n",
    "\n",
    "plt.plot(UBAH_results[\"train\"][\"value\"], label=\"Buy and Hold\")\n",
    "plt.plot(EIIE_results[\"train\"][\"value\"], label=\"EIIE\")\n",
    "#plt.plot(EI3_results[\"train\"][\"value\"], label=\"EI3\")\n",
    "\n",
    "plt.xlabel(\"Days\")\n",
    "plt.ylabel(\"Portfolio Value\")\n",
    "plt.title(\"Performance in training period\")\n",
    "plt.legend()\n",
    "\n",
    "plt.show()\n",
    "\n",
    "plt.plot(UBAH_results[\"2021\"][\"value\"], label=\"Buy and Hold\")\n",
    "plt.plot(EIIE_results[\"2021\"][\"value\"], label=\"EIIE\")\n",
    "#plt.plot(EI3_results[\"2021\"][\"value\"], label=\"EI3\")\n",
    "\n",
    "plt.xlabel(\"Days\")\n",
    "plt.ylabel(\"Portfolio Value\")\n",
    "plt.title(\"Performance in 2021\")\n",
    "plt.legend()\n",
    "\n",
    "plt.show()\n",
    "\n",
    "plt.plot(UBAH_results[\"2022\"][\"value\"], label=\"Buy and Hold\")\n",
    "plt.plot(EIIE_results[\"2022\"][\"value\"], label=\"EIIE\")\n",
    "#plt.plot(EI3_results[\"2022\"][\"value\"], label=\"EI3\")\n",
    "\n",
    "plt.xlabel(\"Days\")\n",
    "plt.ylabel(\"Portfolio Value\")\n",
    "plt.title(\"Performance in 2022\")\n",
    "plt.legend()\n",
    "\n",
    "plt.show()\n",
    "\n",
    "plt.plot(UBAH_results[\"2023\"][\"value\"], label=\"Buy and Hold\")\n",
    "plt.plot(EIIE_results[\"2023\"][\"value\"], label=\"EIIE\")\n",
    "#plt.plot(EI3_results[\"2023\"][\"value\"], label=\"EI3\")\n",
    "\n",
    "plt.xlabel(\"Days\")\n",
    "plt.ylabel(\"Portfolio Value\")\n",
    "plt.title(\"Performance in 2023\")\n",
    "plt.legend()\n",
    "\n",
    "plt.show()"
   ]
  },
  {
   "cell_type": "markdown",
   "metadata": {},
   "source": [
    "# Portfolio Allocation by Trained DRL Model"
   ]
  },
  {
   "cell_type": "code",
   "execution_count": null,
   "metadata": {
    "scrolled": false
   },
   "outputs": [],
   "source": [
    "# Function to plot action memory\n",
    "def plot_action_memory(actions, tickers, label):\n",
    "    \"\"\"Visualize portfolio allocation over time.\"\"\"\n",
    "    actions_df = pd.DataFrame(actions, columns=[\"cash\"] + tickers)\n",
    "    actions_df.plot(kind=\"line\", figsize=(12, 8), title=f\"Portfolio Allocation Breakdown - {label}\")\n",
    "    plt.ylabel(\"Portfolio Weight\")\n",
    "    plt.xlabel(\"Time Step\")\n",
    "    plt.legend(loc=\"upper left\", bbox_to_anchor=(1, 1))\n",
    "    plt.grid(True)\n",
    "    plt.tight_layout()\n",
    "    plt.show()\n",
    "\n",
    "# Plot EIIE actions for the training period\n",
    "plot_action_memory(EIIE_results[\"train\"][\"actions\"], TEST_SET, \"EIIE - Train\")\n",
    "\n",
    "# Plot EIIE actions for 2021\n",
    "plot_action_memory(EIIE_results[\"2021\"][\"actions\"], TEST_SET, \"EIIE - 2021\")\n",
    "\n",
    "# Plot EIIE actions for 2022\n",
    "plot_action_memory(EIIE_results[\"2022\"][\"actions\"], TEST_SET, \"EIIE - 2022\")\n",
    "\n",
    "# Plot EIIE actions for 2023\n",
    "plot_action_memory(EIIE_results[\"2023\"][\"actions\"], TEST_SET, \"EIIE - 2023\")\n",
    "\n",
    "# Similarly, plot UBAH actions for each period\n",
    "# plot_action_memory(UBAH_results[\"train\"][\"actions\"], TEST_SET, \"UBAH - Train\")\n",
    "# plot_action_memory(UBAH_results[\"2021\"][\"actions\"], TEST_SET, \"UBAH - 2021\")\n",
    "# plot_action_memory(UBAH_results[\"2022\"][\"actions\"], TEST_SET, \"UBAH - 2022\")\n",
    "# plot_action_memory(UBAH_results[\"2023\"][\"actions\"], TEST_SET, \"UBAH - 2023\")"
   ]
  },
  {
   "cell_type": "code",
   "execution_count": null,
   "metadata": {},
   "outputs": [],
   "source": []
  },
  {
   "cell_type": "code",
   "execution_count": null,
   "metadata": {},
   "outputs": [],
   "source": [
    "results_df2 = results_df2[[\"TIME_WINDOW\", \"K_SIZE\", \"CONV_MID\", \"CONV_FINAL\", \n",
    "            'train_portfolio_value', 'train_drawdown', 'train_sharpe','train_cumulative',\n",
    "            '2021_portfolio_value', '2021_drawdown', '2021_sharpe','2021_cumulative',\n",
    "             '2022_portfolio_value', '2022_drawdown', '2022_sharpe','2022_cumulative',\n",
    "             '2023_portfolio_value', '2023_drawdown', '2023_sharpe','2023_cumulative']]"
   ]
  },
  {
   "cell_type": "code",
   "execution_count": null,
   "metadata": {},
   "outputs": [],
   "source": []
  }
 ],
 "metadata": {
  "kernelspec": {
   "display_name": "Python 3",
   "language": "python",
   "name": "python3"
  },
  "language_info": {
   "codemirror_mode": {
    "name": "ipython",
    "version": 3
   },
   "file_extension": ".py",
   "mimetype": "text/x-python",
   "name": "python",
   "nbconvert_exporter": "python",
   "pygments_lexer": "ipython3",
   "version": "3.10.10"
  }
 },
 "nbformat": 4,
 "nbformat_minor": 2
}

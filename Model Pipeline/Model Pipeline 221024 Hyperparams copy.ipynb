{
 "cells": [
  {
   "cell_type": "code",
   "execution_count": 1,
   "metadata": {},
   "outputs": [],
   "source": [
    "# !sudo apt install swig"
   ]
  },
  {
   "cell_type": "code",
   "execution_count": 2,
   "metadata": {},
   "outputs": [],
   "source": [
    "# !pip install quantstats\n",
    "# !pip install scikit-learn\n",
    "# !pip install torch\n",
    "# !pip install git+https://github.com/AI4Finance-Foundation/FinRL.git"
   ]
  },
  {
   "cell_type": "markdown",
   "metadata": {},
   "source": [
    "# Initializing"
   ]
  },
  {
   "cell_type": "code",
   "execution_count": 1,
   "metadata": {},
   "outputs": [],
   "source": [
    "import logging\n",
    "logging.getLogger('matplotlib.font_manager').disabled = True\n",
    "import torch\n",
    "\n",
    "import numpy as np\n",
    "import pandas as pd\n",
    "\n",
    "from sklearn.preprocessing import MaxAbsScaler\n",
    "from finrl.meta.preprocessor.yahoodownloader import YahooDownloader\n",
    "from finrl.meta.preprocessor.preprocessors import GroupByScaler\n",
    "from utils import PortfolioOptimizationEnv, custom_reward_function, sharpe_ratio_reward_function\n",
    "from finrl.agents.portfolio_optimization.models import DRLAgent\n",
    "from finrl.agents.portfolio_optimization.architectures import EIIE\n",
    "\n",
    "device = 'cuda:0' if torch.cuda.is_available() else 'cpu'"
   ]
  },
  {
   "cell_type": "markdown",
   "metadata": {},
   "source": [
    "# Data Import and Preprocessing"
   ]
  },
  {
   "cell_type": "code",
   "execution_count": 2,
   "metadata": {},
   "outputs": [
    {
     "name": "stdout",
     "output_type": "stream",
     "text": [
      "10\n",
      "[*********************100%%**********************]  1 of 1 completed"
     ]
    },
    {
     "name": "stderr",
     "output_type": "stream",
     "text": [
      "C:\\Users\\xutia\\AppData\\Roaming\\Python\\Python310\\site-packages\\yfinance\\utils.py:771: FutureWarning: The 'unit' keyword in TimedeltaIndex construction is deprecated and will be removed in a future version. Use pd.to_timedelta instead.\n",
      "  df.index += _pd.TimedeltaIndex(dst_error_hours, 'h')\n",
      "C:\\Users\\xutia\\AppData\\Roaming\\Python\\Python310\\site-packages\\yfinance\\utils.py:771: FutureWarning: The 'unit' keyword in TimedeltaIndex construction is deprecated and will be removed in a future version. Use pd.to_timedelta instead.\n",
      "  df.index += _pd.TimedeltaIndex(dst_error_hours, 'h')\n"
     ]
    },
    {
     "name": "stdout",
     "output_type": "stream",
     "text": [
      "\n",
      "[*********************100%%**********************]  1 of 1 completed\n",
      "[*********************100%%**********************]  1 of 1 completed\n",
      "[*********************100%%**********************]  1 of 1 completed"
     ]
    },
    {
     "name": "stderr",
     "output_type": "stream",
     "text": [
      "C:\\Users\\xutia\\AppData\\Roaming\\Python\\Python310\\site-packages\\yfinance\\utils.py:771: FutureWarning: The 'unit' keyword in TimedeltaIndex construction is deprecated and will be removed in a future version. Use pd.to_timedelta instead.\n",
      "  df.index += _pd.TimedeltaIndex(dst_error_hours, 'h')\n",
      "C:\\Users\\xutia\\AppData\\Roaming\\Python\\Python310\\site-packages\\yfinance\\utils.py:771: FutureWarning: The 'unit' keyword in TimedeltaIndex construction is deprecated and will be removed in a future version. Use pd.to_timedelta instead.\n",
      "  df.index += _pd.TimedeltaIndex(dst_error_hours, 'h')\n"
     ]
    },
    {
     "name": "stdout",
     "output_type": "stream",
     "text": [
      "\n",
      "[*********************100%%**********************]  1 of 1 completed"
     ]
    },
    {
     "name": "stderr",
     "output_type": "stream",
     "text": [
      "C:\\Users\\xutia\\AppData\\Roaming\\Python\\Python310\\site-packages\\yfinance\\utils.py:771: FutureWarning: The 'unit' keyword in TimedeltaIndex construction is deprecated and will be removed in a future version. Use pd.to_timedelta instead.\n",
      "  df.index += _pd.TimedeltaIndex(dst_error_hours, 'h')\n",
      "C:\\Users\\xutia\\AppData\\Roaming\\Python\\Python310\\site-packages\\yfinance\\utils.py:771: FutureWarning: The 'unit' keyword in TimedeltaIndex construction is deprecated and will be removed in a future version. Use pd.to_timedelta instead.\n",
      "  df.index += _pd.TimedeltaIndex(dst_error_hours, 'h')\n"
     ]
    },
    {
     "name": "stdout",
     "output_type": "stream",
     "text": [
      "\n",
      "[*********************100%%**********************]  1 of 1 completed\n",
      "[*********************100%%**********************]  1 of 1 completed"
     ]
    },
    {
     "name": "stderr",
     "output_type": "stream",
     "text": [
      "C:\\Users\\xutia\\AppData\\Roaming\\Python\\Python310\\site-packages\\yfinance\\utils.py:771: FutureWarning: The 'unit' keyword in TimedeltaIndex construction is deprecated and will be removed in a future version. Use pd.to_timedelta instead.\n",
      "  df.index += _pd.TimedeltaIndex(dst_error_hours, 'h')\n"
     ]
    },
    {
     "name": "stdout",
     "output_type": "stream",
     "text": [
      "\n",
      "[*********************100%%**********************]  1 of 1 completed\n",
      "[*********************100%%**********************]  1 of 1 completed"
     ]
    },
    {
     "name": "stderr",
     "output_type": "stream",
     "text": [
      "C:\\Users\\xutia\\AppData\\Roaming\\Python\\Python310\\site-packages\\yfinance\\utils.py:771: FutureWarning: The 'unit' keyword in TimedeltaIndex construction is deprecated and will be removed in a future version. Use pd.to_timedelta instead.\n",
      "  df.index += _pd.TimedeltaIndex(dst_error_hours, 'h')\n",
      "C:\\Users\\xutia\\AppData\\Roaming\\Python\\Python310\\site-packages\\yfinance\\utils.py:771: FutureWarning: The 'unit' keyword in TimedeltaIndex construction is deprecated and will be removed in a future version. Use pd.to_timedelta instead.\n",
      "  df.index += _pd.TimedeltaIndex(dst_error_hours, 'h')\n"
     ]
    },
    {
     "name": "stdout",
     "output_type": "stream",
     "text": [
      "\n",
      "[*********************100%%**********************]  1 of 1 completed"
     ]
    },
    {
     "name": "stderr",
     "output_type": "stream",
     "text": [
      "C:\\Users\\xutia\\AppData\\Roaming\\Python\\Python310\\site-packages\\yfinance\\utils.py:771: FutureWarning: The 'unit' keyword in TimedeltaIndex construction is deprecated and will be removed in a future version. Use pd.to_timedelta instead.\n",
      "  df.index += _pd.TimedeltaIndex(dst_error_hours, 'h')\n"
     ]
    },
    {
     "name": "stdout",
     "output_type": "stream",
     "text": [
      "\n",
      "Shape of DataFrame:  (32700, 8)\n"
     ]
    }
   ],
   "source": [
    "TEST_SET = [\n",
    "    \"AAPL\", \"CVX\", \"GS\", \"JNJ\",\n",
    "    \"JPM\", \"MSFT\", \"PFE\", \"PG\",\n",
    "    \"GOOG\", \"XOM\"\n",
    "]\n",
    "START_DATE = '2011-01-01'\n",
    "END_DATE = '2023-12-31'\n",
    "print(len(TEST_SET))\n",
    "\n",
    "##COVARIATE 1: PRICES\n",
    "\n",
    "portfolio_raw_df = YahooDownloader(start_date = START_DATE,\n",
    "                                end_date = END_DATE,\n",
    "                                ticker_list = TEST_SET).fetch_data()"
   ]
  },
  {
   "cell_type": "code",
   "execution_count": 5,
   "metadata": {
    "scrolled": false
   },
   "outputs": [],
   "source": [
    "##COVARIATES 2,3: VIX, FEAR/GREED INDEX\n",
    "\n",
    "combined_spy_vix_fear_greed = pd.read_csv('datasets/VIX_feargreed/spy_vix_fear_greed_2011_2023.csv')\n",
    "\n",
    "\n",
    "portfolio_raw_df['date'] = pd.to_datetime(portfolio_raw_df['date'])\n",
    "combined_spy_vix_fear_greed['Date'] = pd.to_datetime(combined_spy_vix_fear_greed['Date'])\n",
    "\n",
    "\n",
    "df_portfolio_comb = pd.merge(portfolio_raw_df, combined_spy_vix_fear_greed, left_on='date', right_on='Date', how='left')\n",
    "\n",
    "\n",
    "df_portfolio_comb = df_portfolio_comb.drop(columns=['Date'])\n",
    "df_portfolio_comb['date'] = df_portfolio_comb['date'].dt.strftime('%Y-%m-%d')"
   ]
  },
  {
   "cell_type": "code",
   "execution_count": 6,
   "metadata": {
    "scrolled": true
   },
   "outputs": [],
   "source": [
    "##COVARIATE 4: STOCK HISTORICAL RATINGS\n",
    "\n",
    "FMP_historical_ratings = pd.read_csv('datasets/historical_ratings/FMP_historical_ratings.csv')\n",
    "\n",
    "df_portfolio_comb_2 = df_portfolio_comb.merge(\n",
    "    FMP_historical_ratings[['date', 'symbol', 'ratingScore', 'ratingDetailsDCFScore', 'ratingDetailsROEScore', 'ratingDetailsROAScore', 'ratingDetailsPEScore', 'ratingDetailsPBScore']],\n",
    "    left_on=['date', 'tic'],\n",
    "    right_on=['date', 'symbol'],\n",
    "    how='left' )\n",
    "\n",
    "df_portfolio_comb_2.drop(columns=['symbol'], inplace=True)"
   ]
  },
  {
   "cell_type": "code",
   "execution_count": 7,
   "metadata": {},
   "outputs": [],
   "source": [
    "##COVARIATE 5: Macro Indicators\n",
    "\n",
    "expenses = pd.read_csv('datasets/macro_indicators/expenses.csv')\n",
    "gdp = pd.read_csv('datasets/macro_indicators/gdp.csv')\n",
    "goods_services = pd.read_csv('datasets/macro_indicators/goods_and_services.csv')\n",
    "pound_dollar = pd.read_csv('datasets/macro_indicators/pound-dollar-exchange-rate-historical-chart.csv')\n",
    "unemployment = pd.read_csv('datasets/macro_indicators/unemployment.csv')\n",
    "index_consumer_services = pd.read_csv('datasets/macro_indicators/index_consumer_services.csv')\n",
    "\n",
    "df_portfolio_comb_2['date'] = pd.to_datetime(df_portfolio_comb_2['date'])\n",
    "expenses['date'] = pd.to_datetime(unemployment['date'])\n",
    "gdp['date'] = pd.to_datetime(gdp['DATE'])\n",
    "goods_services['date'] = pd.to_datetime(goods_services['date'])\n",
    "pound_dollar['date'] = pd.to_datetime(pound_dollar['date'])\n",
    "unemployment['date'] = pd.to_datetime(unemployment['date'])\n",
    "index_consumer_services['date'] = pd.to_datetime(index_consumer_services['date'])\n",
    "\n",
    "df_portfolio_comb_3 = pd.merge(df_portfolio_comb_2, expenses, on='date', how='left')\n",
    "df_portfolio_comb_3 = pd.merge(df_portfolio_comb_3, gdp, on='date', how='left')\n",
    "df_portfolio_comb_3 = pd.merge(df_portfolio_comb_3, goods_services, on='date', how='left')\n",
    "df_portfolio_comb_3 = pd.merge(df_portfolio_comb_3, pound_dollar, on='date', how='left')\n",
    "df_portfolio_comb_3 = pd.merge(df_portfolio_comb_3, unemployment, on='date', how='left')\n",
    "df_portfolio_comb_3 = pd.merge(df_portfolio_comb_3, index_consumer_services, on='date', how='left')\n",
    "\n",
    "# Sort the dataframe by date (and optionally 'tic' if needed)\n",
    "df_portfolio_comb_3 = df_portfolio_comb_3.sort_values(by=['date', 'tic'])\n",
    "\n",
    "# Forward fill missing data\n",
    "df_portfolio_comb_3['expenses'] = df_portfolio_comb_3['expenses'].ffill()\n",
    "df_portfolio_comb_3['GDP'] = df_portfolio_comb_3['GDP'].ffill()\n",
    "df_portfolio_comb_3['exports'] = df_portfolio_comb_3['exports'].ffill()\n",
    "df_portfolio_comb_3['imports'] = df_portfolio_comb_3['imports'].ffill()\n",
    "df_portfolio_comb_3['pound_dollar_exchange_rate'] = df_portfolio_comb_3['pound_dollar_exchange_rate'].ffill()\n",
    "df_portfolio_comb_3['unemployment'] = df_portfolio_comb_3['unemployment'].ffill()\n",
    "df_portfolio_comb_3['ics'] = df_portfolio_comb_3['ics'].ffill()\n",
    "df_portfolio_comb_3.drop(columns=['DATE'], inplace=True)"
   ]
  },
  {
   "cell_type": "code",
   "execution_count": 16,
   "metadata": {
    "scrolled": true
   },
   "outputs": [
    {
     "name": "stderr",
     "output_type": "stream",
     "text": [
      "C:\\Users\\xutia\\AppData\\Local\\Temp\\ipykernel_52124\\1570567354.py:11: UserWarning: Parsing dates in %d/%m/%Y format when dayfirst=False (the default) was specified. Pass `dayfirst=True` or specify a format to silence this warning.\n",
      "  DBITDA_ratio['date'] = pd.to_datetime(DBITDA_ratio['date'])\n",
      "C:\\Users\\xutia\\AppData\\Local\\Temp\\ipykernel_52124\\1570567354.py:12: UserWarning: Parsing dates in %d/%m/%Y format when dayfirst=False (the default) was specified. Pass `dayfirst=True` or specify a format to silence this warning.\n",
      "  PB_ratio['date'] = pd.to_datetime(PB_ratio['date'])\n",
      "C:\\Users\\xutia\\AppData\\Local\\Temp\\ipykernel_52124\\1570567354.py:13: UserWarning: Parsing dates in %d/%m/%Y format when dayfirst=False (the default) was specified. Pass `dayfirst=True` or specify a format to silence this warning.\n",
      "  PE_ratio['date'] = pd.to_datetime(PE_ratio['date'])\n",
      "C:\\Users\\xutia\\AppData\\Local\\Temp\\ipykernel_52124\\1570567354.py:14: UserWarning: Parsing dates in %d/%m/%Y format when dayfirst=False (the default) was specified. Pass `dayfirst=True` or specify a format to silence this warning.\n",
      "  PS_ratio['date'] = pd.to_datetime(PS_ratio['date'])\n",
      "C:\\Users\\xutia\\AppData\\Local\\Temp\\ipykernel_52124\\1570567354.py:15: UserWarning: Parsing dates in %d/%m/%Y format when dayfirst=False (the default) was specified. Pass `dayfirst=True` or specify a format to silence this warning.\n",
      "  quarterly_data['date'] = pd.to_datetime(quarterly_data['date'])\n",
      "C:\\Users\\xutia\\AppData\\Local\\Temp\\ipykernel_52124\\1570567354.py:16: UserWarning: Parsing dates in %d/%m/%Y format when dayfirst=False (the default) was specified. Pass `dayfirst=True` or specify a format to silence this warning.\n",
      "  ROE['date'] = pd.to_datetime(ROE['date'])\n"
     ]
    }
   ],
   "source": [
    "##COVARIATE 6: Fundamental Indicators\n",
    "\n",
    "DBITDA_ratio = pd.read_csv('datasets/fundemental indicators/DBITDA_ratio.csv')\n",
    "PB_ratio = pd.read_csv('datasets/fundemental indicators/PB_ratio.csv')\n",
    "PE_ratio = pd.read_csv('datasets/fundemental indicators/PE_ratio.csv')\n",
    "PS_ratio = pd.read_csv('datasets/fundemental indicators/PS_ratio.csv')\n",
    "quarterly_data = pd.read_csv('datasets/fundemental indicators/quaterlydata.csv')\n",
    "ROE = pd.read_csv('datasets/fundemental indicators/ROE.csv')\n",
    "\n",
    "df_portfolio_comb_3['date'] = pd.to_datetime(df_portfolio_comb_3['date'])\n",
    "DBITDA_ratio['date'] = pd.to_datetime(DBITDA_ratio['date'])\n",
    "PB_ratio['date'] = pd.to_datetime(PB_ratio['date'])\n",
    "PE_ratio['date'] = pd.to_datetime(PE_ratio['date'])\n",
    "PS_ratio['date'] = pd.to_datetime(PS_ratio['date'])\n",
    "quarterly_data['date'] = pd.to_datetime(quarterly_data['date'])\n",
    "ROE['date'] = pd.to_datetime(ROE['date'])\n",
    "\n",
    "df_portfolio_comb_4 = df_portfolio_comb_3\n",
    "\n",
    "df_portfolio_comb_4 = pd.merge(df_portfolio_comb_4, DBITDA_ratio, left_on=['tic', 'date'], right_on=['ticker', 'date'], how='left')\n",
    "df_portfolio_comb_4 = df_portfolio_comb_4.drop(columns=['ticker'])\n",
    "df_portfolio_comb_4 = pd.merge(df_portfolio_comb_4, PB_ratio, left_on=['tic', 'date'], right_on=['ticker', 'date'], how='left')\n",
    "df_portfolio_comb_4 = df_portfolio_comb_4.drop(columns=['ticker','Stock Price'])\n",
    "df_portfolio_comb_4 = pd.merge(df_portfolio_comb_4, PE_ratio, left_on=['tic', 'date'], right_on=['ticker', 'date'], how='left')\n",
    "df_portfolio_comb_4 = df_portfolio_comb_4.drop(columns=['ticker','Stock Price'])\n",
    "df_portfolio_comb_4 = pd.merge(df_portfolio_comb_4, PS_ratio, left_on=['tic', 'date'], right_on=['ticker', 'date'], how='left')\n",
    "df_portfolio_comb_4 = df_portfolio_comb_4.drop(columns=['ticker','Stock Price'])\n",
    "df_portfolio_comb_4 = pd.merge(df_portfolio_comb_4, quarterly_data, left_on=['tic', 'date'], right_on=['ticker', 'date'], how='left')\n",
    "df_portfolio_comb_4 = df_portfolio_comb_4.drop(columns=['ticker'])\n",
    "df_portfolio_comb_4 = pd.merge(df_portfolio_comb_4, ROE, left_on=['tic', 'date'], right_on=['ticker', 'date'], how='left')\n",
    "df_portfolio_comb_4 = df_portfolio_comb_4.drop(columns=['ticker'])\n",
    "\n",
    "# Sort the dataframe by date (and optionally 'tic' if needed)\n",
    "df_portfolio_comb_4 = df_portfolio_comb_4.sort_values(by=['tic', 'date'])\n",
    "\n",
    "# Forward fill missing data\n",
    "df_portfolio_comb_4['TTM Revenue(Billion)'] = df_portfolio_comb_4['TTM Revenue(Billion)'].ffill()\n",
    "df_portfolio_comb_4['TTM EBITDA(Billion)'] = df_portfolio_comb_4['TTM EBITDA(Billion)'].ffill()\n",
    "df_portfolio_comb_4['EBITDA Margin'] = df_portfolio_comb_4['EBITDA Margin'].ffill()\n",
    "df_portfolio_comb_4['Price to Book Ratio'] = df_portfolio_comb_4['Price to Book Ratio'].ffill()\n",
    "df_portfolio_comb_4['PE Ratio'] = df_portfolio_comb_4['PE Ratio'].ffill()\n",
    "df_portfolio_comb_4['Price to Sales Ratio'] = df_portfolio_comb_4['Price to Sales Ratio'].ffill()\n",
    "df_portfolio_comb_4['Assets'] = df_portfolio_comb_4['Assets'].ffill()\n",
    "df_portfolio_comb_4['NetIncomeLoss'] = df_portfolio_comb_4['NetIncomeLoss'].ffill()\n",
    "df_portfolio_comb_4['Return on Equity(%)'] = df_portfolio_comb_4['Return on Equity(%)'].ffill()"
   ]
  },
  {
   "cell_type": "code",
   "execution_count": 9,
   "metadata": {},
   "outputs": [],
   "source": [
    "# ## VMD\n",
    "# from vmdpy import VMD\n",
    "\n",
    "# def apply_vmd_to_ticker(df, alpha=5000, tau=0, K=3, DC=0, init=1, tol=1e-7):\n",
    "#     \"\"\"Applies VMD to the 'close' price for each ticker in the dataframe\n",
    "#     and handles any length mismatch issues.\"\"\"\n",
    "#     vmd_features = []\n",
    "    \n",
    "#     # Apply VMD per ticker\n",
    "#     for tic in df['tic'].unique():\n",
    "#         tic_df = df[df['tic'] == tic].copy()  # Filter data for the current ticker\n",
    "#         close_prices = tic_df['close'].to_numpy()  # Extract close prices\n",
    "        \n",
    "#         # Perform VMD on the close prices\n",
    "#         u, _, _ = VMD(close_prices, alpha, tau, K, DC, init, tol)\n",
    "        \n",
    "#         # Check if the lengths match, and if not, align them\n",
    "#         if u.shape[1] != len(tic_df):\n",
    "#             print(f\"Length mismatch for {tic}: VMD output has {u.shape[1]} points, expected {len(tic_df)}\")\n",
    "#             min_len = min(u.shape[1], len(tic_df))\n",
    "#             tic_df = tic_df.iloc[:min_len]  # Truncate the dataframe to match VMD output length\n",
    "#             u = u[:, :min_len]  # Truncate VMD output if necessary\n",
    "        \n",
    "#         # Assign VMD modes to columns\n",
    "#         for k in range(K):\n",
    "#             tic_df[f'vmd_mode_{k}'] = u[k, :]\n",
    "        \n",
    "#         # Append the dataframe with VMD modes\n",
    "#         vmd_features.append(tic_df)\n",
    "    \n",
    "#     # Concatenate all VMD modes into one dataframe\n",
    "#     vmd_df = pd.concat(vmd_features, axis=0)\n",
    "    \n",
    "#     return vmd_df\n",
    "# #apply VMD separately to each train, 2021, 2022, 2023 data\n",
    "# df_portfolio_comb_5 = apply_vmd_to_ticker(df_portfolio_comb_4)"
   ]
  },
  {
   "cell_type": "code",
   "execution_count": 10,
   "metadata": {},
   "outputs": [],
   "source": [
    "from vmdpy import VMD\n",
    "import pandas as pd\n",
    "import numpy as np\n",
    "\n",
    "def apply_vmd_to_ticker_rolling(df, alpha=5000, tau=0, K=3, DC=0, init=1, tol=1e-7, window=365):\n",
    "    \"\"\"\n",
    "    Applies VMD to the 'close' price for each ticker in the dataframe using a rolling window approach.\n",
    "    This ensures that each VMD decomposition is based only on the previous `window` ticks, avoiding forward leakage.\n",
    "    \n",
    "    Args:\n",
    "        df (pd.DataFrame): Dataframe containing 'close' price data and 'tic' column.\n",
    "        alpha, tau, K, DC, init, tol: Parameters for the VMD decomposition.\n",
    "        window (int): Number of previous ticks to use for the rolling VMD.\n",
    "\n",
    "    Returns:\n",
    "        pd.DataFrame: DataFrame with the VMD modes added for each ticker.\n",
    "    \"\"\"\n",
    "    vmd_features = []\n",
    "    \n",
    "    # Apply VMD for each ticker\n",
    "    for tic in df['tic'].unique():\n",
    "        tic_df = df[df['tic'] == tic].copy()  # Filter data for the current ticker\n",
    "        close_prices = tic_df['close'].to_numpy()  # Extract close prices\n",
    "        \n",
    "        # Initialize empty columns for VMD modes\n",
    "        for k in range(K):\n",
    "            tic_df[f'vmd_mode_{k}'] = np.nan  # Initialize with NaNs\n",
    "\n",
    "        # Apply VMD in a rolling window manner\n",
    "        for i in range(window, len(close_prices)):\n",
    "            close_window = close_prices[i - window:i]  # Select the previous `window` close prices\n",
    "            \n",
    "            # Perform VMD on the window of close prices\n",
    "            u, _, _ = VMD(close_window, alpha, tau, K, DC, init, tol)\n",
    "            \n",
    "            # Assign the latest VMD modes (from the last tick of the window) to the current row\n",
    "            for k in range(K):\n",
    "                tic_df.at[tic_df.index[i], f'vmd_mode_{k}'] = u[k, -1]  # Assign last mode from the VMD result\n",
    "        \n",
    "        # Append the dataframe with VMD modes\n",
    "        vmd_features.append(tic_df)\n",
    "    \n",
    "    # Concatenate all VMD modes into one dataframe\n",
    "    vmd_df = pd.concat(vmd_features, axis=0)\n",
    "    \n",
    "    return vmd_df\n",
    "\n",
    "df_portfolio_comb_5 = apply_vmd_to_ticker_rolling(df_portfolio_comb_4)\n"
   ]
  },
  {
   "cell_type": "code",
   "execution_count": 11,
   "metadata": {},
   "outputs": [],
   "source": [
    "df_portfolio_final = df_portfolio_comb_5"
   ]
  },
  {
   "cell_type": "code",
   "execution_count": 12,
   "metadata": {},
   "outputs": [
    {
     "name": "stdout",
     "output_type": "stream",
     "text": [
      "date                              datetime64[ns]\n",
      "open                                     float64\n",
      "high                                     float64\n",
      "low                                      float64\n",
      "close                                    float64\n",
      "volume                                     int64\n",
      "tic                                       object\n",
      "day                                        int32\n",
      "Open_VIX                                 float64\n",
      "High_VIX                                 float64\n",
      "Low_VIX                                  float64\n",
      "Close_VIX                                float64\n",
      "Adj Close_VIX                            float64\n",
      "Open_SPY                                 float64\n",
      "High_SPY                                 float64\n",
      "Low_SPY                                  float64\n",
      "Close_SPY                                float64\n",
      "Adj Close_SPY                            float64\n",
      "Volume_SPY                                 int64\n",
      "Fear Greed                               float64\n",
      "ratingScore                              float64\n",
      "ratingDetailsDCFScore                    float64\n",
      "ratingDetailsROEScore                    float64\n",
      "ratingDetailsROAScore                    float64\n",
      "ratingDetailsPEScore                     float64\n",
      "ratingDetailsPBScore                     float64\n",
      "expenses                                  object\n",
      "GDP                                      float64\n",
      "net_export_goods_and_services             object\n",
      "exports                                   object\n",
      "exports_goods                             object\n",
      "exports_services                          object\n",
      "imports                                   object\n",
      "imports_goods                             object\n",
      "imports_services                          object\n",
      "pound_dollar_exchange_rate               float64\n",
      "unemployment                             float64\n",
      "ics                                      float64\n",
      "TTM Revenue(Billion)                     float64\n",
      "TTM EBITDA(Billion)                      float64\n",
      "EBITDA Margin                            float64\n",
      "Book Value per Share                     float64\n",
      "Price to Book Ratio                      float64\n",
      "Net EPS                                  float64\n",
      "PE Ratio                                 float64\n",
      "TTM Sales per Share                      float64\n",
      "Price to Sales Ratio                     float64\n",
      "Assets                                   float64\n",
      "NetIncomeLoss                            float64\n",
      "TTM Net Income (Billions)                float64\n",
      "Shareholder's Equity (Billion)           float64\n",
      "Return on Equity(%)                      float64\n",
      "vmd_mode_0                               float64\n",
      "vmd_mode_1                               float64\n",
      "vmd_mode_2                               float64\n",
      "dtype: object\n"
     ]
    }
   ],
   "source": [
    "# Check the data types of all columns in the DataFrame\n",
    "print(df_portfolio_final.dtypes)"
   ]
  },
  {
   "cell_type": "code",
   "execution_count": 13,
   "metadata": {},
   "outputs": [],
   "source": [
    "#Convert Str to Float64\n",
    "df_portfolio_final['net_export_goods_and_services'] = df_portfolio_final['net_export_goods_and_services'].str.replace(',', '').astype('float64')\n",
    "df_portfolio_final['expenses'] = df_portfolio_final['expenses'].str.replace(',', '').astype('float64')\n",
    "df_portfolio_final['exports'] = df_portfolio_final['exports'].str.replace(',', '').astype('float64')\n",
    "df_portfolio_final['exports_goods'] = df_portfolio_final['exports_goods'].str.replace(',', '').astype('float64')\n",
    "df_portfolio_final['exports_services'] = df_portfolio_final['exports_services'].str.replace(',', '').astype('float64')\n",
    "df_portfolio_final['imports'] = df_portfolio_final['imports'].str.replace(',', '').astype('float64')\n",
    "df_portfolio_final['imports_goods'] = df_portfolio_final['imports_goods'].str.replace(',', '').astype('float64')\n",
    "df_portfolio_final['imports_services'] = df_portfolio_final['imports_services'].str.replace(',', '').astype('float64')\n",
    "\n",
    "#Convert rest to Float64\n",
    "df_portfolio_final[df_portfolio_final.columns.difference(['date', 'tic'])] = df_portfolio_final[df_portfolio_final.columns.difference(['date', 'tic'])].astype('float64')\n",
    "\n",
    "#Convert date back\n",
    "df_portfolio_final['date'] = df_portfolio_final['date'].dt.strftime('%Y-%m-%d')"
   ]
  },
  {
   "cell_type": "code",
   "execution_count": 14,
   "metadata": {},
   "outputs": [],
   "source": [
    "# Filling NaN values with 0\n",
    "df_portfolio_final.fillna(0, inplace=True)"
   ]
  },
  {
   "cell_type": "code",
   "execution_count": 15,
   "metadata": {
    "scrolled": true
   },
   "outputs": [
    {
     "data": {
      "text/html": [
       "<div>\n",
       "<style scoped>\n",
       "    .dataframe tbody tr th:only-of-type {\n",
       "        vertical-align: middle;\n",
       "    }\n",
       "\n",
       "    .dataframe tbody tr th {\n",
       "        vertical-align: top;\n",
       "    }\n",
       "\n",
       "    .dataframe thead th {\n",
       "        text-align: right;\n",
       "    }\n",
       "</style>\n",
       "<table border=\"1\" class=\"dataframe\">\n",
       "  <thead>\n",
       "    <tr style=\"text-align: right;\">\n",
       "      <th></th>\n",
       "      <th>date</th>\n",
       "      <th>open</th>\n",
       "      <th>high</th>\n",
       "      <th>low</th>\n",
       "      <th>close</th>\n",
       "      <th>volume</th>\n",
       "      <th>tic</th>\n",
       "      <th>day</th>\n",
       "      <th>Open_VIX</th>\n",
       "      <th>High_VIX</th>\n",
       "      <th>...</th>\n",
       "      <th>TTM Sales per Share</th>\n",
       "      <th>Price to Sales Ratio</th>\n",
       "      <th>Assets</th>\n",
       "      <th>NetIncomeLoss</th>\n",
       "      <th>TTM Net Income (Billions)</th>\n",
       "      <th>Shareholder's Equity (Billion)</th>\n",
       "      <th>Return on Equity(%)</th>\n",
       "      <th>vmd_mode_0</th>\n",
       "      <th>vmd_mode_1</th>\n",
       "      <th>vmd_mode_2</th>\n",
       "    </tr>\n",
       "  </thead>\n",
       "  <tbody>\n",
       "    <tr>\n",
       "      <th>0</th>\n",
       "      <td>2011-01-03</td>\n",
       "      <td>0.058731</td>\n",
       "      <td>0.059087</td>\n",
       "      <td>0.058891</td>\n",
       "      <td>0.050363</td>\n",
       "      <td>0.236650</td>\n",
       "      <td>AAPL</td>\n",
       "      <td>0.00</td>\n",
       "      <td>0.216955</td>\n",
       "      <td>0.210015</td>\n",
       "      <td>...</td>\n",
       "      <td>0.0</td>\n",
       "      <td>0.000000</td>\n",
       "      <td>0.000000</td>\n",
       "      <td>0.000000</td>\n",
       "      <td>0.0</td>\n",
       "      <td>0.0</td>\n",
       "      <td>0.000000</td>\n",
       "      <td>0.000000</td>\n",
       "      <td>0.000000</td>\n",
       "      <td>0.000000</td>\n",
       "    </tr>\n",
       "    <tr>\n",
       "      <th>10</th>\n",
       "      <td>2011-01-04</td>\n",
       "      <td>0.059958</td>\n",
       "      <td>0.059488</td>\n",
       "      <td>0.059491</td>\n",
       "      <td>0.050626</td>\n",
       "      <td>0.164317</td>\n",
       "      <td>AAPL</td>\n",
       "      <td>0.25</td>\n",
       "      <td>0.209699</td>\n",
       "      <td>0.213408</td>\n",
       "      <td>...</td>\n",
       "      <td>0.0</td>\n",
       "      <td>0.000000</td>\n",
       "      <td>0.000000</td>\n",
       "      <td>0.000000</td>\n",
       "      <td>0.0</td>\n",
       "      <td>0.0</td>\n",
       "      <td>0.000000</td>\n",
       "      <td>0.000000</td>\n",
       "      <td>0.000000</td>\n",
       "      <td>0.000000</td>\n",
       "    </tr>\n",
       "    <tr>\n",
       "      <th>20</th>\n",
       "      <td>2011-01-05</td>\n",
       "      <td>0.059437</td>\n",
       "      <td>0.059817</td>\n",
       "      <td>0.059735</td>\n",
       "      <td>0.051040</td>\n",
       "      <td>0.135843</td>\n",
       "      <td>AAPL</td>\n",
       "      <td>0.50</td>\n",
       "      <td>0.215383</td>\n",
       "      <td>0.210015</td>\n",
       "      <td>...</td>\n",
       "      <td>0.0</td>\n",
       "      <td>0.000000</td>\n",
       "      <td>0.000000</td>\n",
       "      <td>0.000000</td>\n",
       "      <td>0.0</td>\n",
       "      <td>0.0</td>\n",
       "      <td>0.000000</td>\n",
       "      <td>0.000000</td>\n",
       "      <td>0.000000</td>\n",
       "      <td>0.000000</td>\n",
       "    </tr>\n",
       "    <tr>\n",
       "      <th>30</th>\n",
       "      <td>2011-01-06</td>\n",
       "      <td>0.060369</td>\n",
       "      <td>0.059980</td>\n",
       "      <td>0.060352</td>\n",
       "      <td>0.050999</td>\n",
       "      <td>0.159718</td>\n",
       "      <td>AAPL</td>\n",
       "      <td>0.75</td>\n",
       "      <td>0.203168</td>\n",
       "      <td>0.205452</td>\n",
       "      <td>...</td>\n",
       "      <td>0.0</td>\n",
       "      <td>0.000000</td>\n",
       "      <td>0.000000</td>\n",
       "      <td>0.000000</td>\n",
       "      <td>0.0</td>\n",
       "      <td>0.0</td>\n",
       "      <td>0.000000</td>\n",
       "      <td>0.000000</td>\n",
       "      <td>0.000000</td>\n",
       "      <td>0.000000</td>\n",
       "    </tr>\n",
       "    <tr>\n",
       "      <th>40</th>\n",
       "      <td>2011-01-07</td>\n",
       "      <td>0.060237</td>\n",
       "      <td>0.060177</td>\n",
       "      <td>0.060170</td>\n",
       "      <td>0.051364</td>\n",
       "      <td>0.165833</td>\n",
       "      <td>AAPL</td>\n",
       "      <td>1.00</td>\n",
       "      <td>0.209336</td>\n",
       "      <td>0.211419</td>\n",
       "      <td>...</td>\n",
       "      <td>0.0</td>\n",
       "      <td>0.000000</td>\n",
       "      <td>0.000000</td>\n",
       "      <td>0.000000</td>\n",
       "      <td>0.0</td>\n",
       "      <td>0.0</td>\n",
       "      <td>0.000000</td>\n",
       "      <td>0.000000</td>\n",
       "      <td>0.000000</td>\n",
       "      <td>0.000000</td>\n",
       "    </tr>\n",
       "    <tr>\n",
       "      <th>...</th>\n",
       "      <td>...</td>\n",
       "      <td>...</td>\n",
       "      <td>...</td>\n",
       "      <td>...</td>\n",
       "      <td>...</td>\n",
       "      <td>...</td>\n",
       "      <td>...</td>\n",
       "      <td>...</td>\n",
       "      <td>...</td>\n",
       "      <td>...</td>\n",
       "      <td>...</td>\n",
       "      <td>...</td>\n",
       "      <td>...</td>\n",
       "      <td>...</td>\n",
       "      <td>...</td>\n",
       "      <td>...</td>\n",
       "      <td>...</td>\n",
       "      <td>...</td>\n",
       "      <td>...</td>\n",
       "      <td>...</td>\n",
       "      <td>...</td>\n",
       "    </tr>\n",
       "    <tr>\n",
       "      <th>32659</th>\n",
       "      <td>2023-12-22</td>\n",
       "      <td>0.852725</td>\n",
       "      <td>0.852858</td>\n",
       "      <td>0.861494</td>\n",
       "      <td>0.855590</td>\n",
       "      <td>0.152474</td>\n",
       "      <td>XOM</td>\n",
       "      <td>1.00</td>\n",
       "      <td>0.165921</td>\n",
       "      <td>0.163332</td>\n",
       "      <td>...</td>\n",
       "      <td>0.0</td>\n",
       "      <td>0.253363</td>\n",
       "      <td>0.963788</td>\n",
       "      <td>0.561798</td>\n",
       "      <td>0.0</td>\n",
       "      <td>0.0</td>\n",
       "      <td>0.807644</td>\n",
       "      <td>0.890019</td>\n",
       "      <td>-0.016307</td>\n",
       "      <td>-0.045132</td>\n",
       "    </tr>\n",
       "    <tr>\n",
       "      <th>32669</th>\n",
       "      <td>2023-12-26</td>\n",
       "      <td>0.856309</td>\n",
       "      <td>0.853604</td>\n",
       "      <td>0.864032</td>\n",
       "      <td>0.857521</td>\n",
       "      <td>0.198649</td>\n",
       "      <td>XOM</td>\n",
       "      <td>0.25</td>\n",
       "      <td>0.166526</td>\n",
       "      <td>0.161460</td>\n",
       "      <td>...</td>\n",
       "      <td>0.0</td>\n",
       "      <td>0.253363</td>\n",
       "      <td>0.963788</td>\n",
       "      <td>0.561798</td>\n",
       "      <td>0.0</td>\n",
       "      <td>0.0</td>\n",
       "      <td>0.807644</td>\n",
       "      <td>0.889950</td>\n",
       "      <td>-0.013535</td>\n",
       "      <td>0.042860</td>\n",
       "    </tr>\n",
       "    <tr>\n",
       "      <th>32679</th>\n",
       "      <td>2023-12-27</td>\n",
       "      <td>0.850475</td>\n",
       "      <td>0.849627</td>\n",
       "      <td>0.857433</td>\n",
       "      <td>0.853491</td>\n",
       "      <td>0.171790</td>\n",
       "      <td>XOM</td>\n",
       "      <td>0.50</td>\n",
       "      <td>0.157456</td>\n",
       "      <td>0.152568</td>\n",
       "      <td>...</td>\n",
       "      <td>0.0</td>\n",
       "      <td>0.253363</td>\n",
       "      <td>0.963788</td>\n",
       "      <td>0.561798</td>\n",
       "      <td>0.0</td>\n",
       "      <td>0.0</td>\n",
       "      <td>0.807644</td>\n",
       "      <td>0.890017</td>\n",
       "      <td>0.003982</td>\n",
       "      <td>-0.009066</td>\n",
       "    </tr>\n",
       "    <tr>\n",
       "      <th>32689</th>\n",
       "      <td>2023-12-28</td>\n",
       "      <td>0.845057</td>\n",
       "      <td>0.841839</td>\n",
       "      <td>0.847195</td>\n",
       "      <td>0.841150</td>\n",
       "      <td>0.192681</td>\n",
       "      <td>XOM</td>\n",
       "      <td>0.75</td>\n",
       "      <td>0.150441</td>\n",
       "      <td>0.148005</td>\n",
       "      <td>...</td>\n",
       "      <td>0.0</td>\n",
       "      <td>0.253363</td>\n",
       "      <td>0.963788</td>\n",
       "      <td>0.561798</td>\n",
       "      <td>0.0</td>\n",
       "      <td>0.0</td>\n",
       "      <td>0.807644</td>\n",
       "      <td>0.890248</td>\n",
       "      <td>0.016329</td>\n",
       "      <td>-0.029956</td>\n",
       "    </tr>\n",
       "    <tr>\n",
       "      <th>32699</th>\n",
       "      <td>2023-12-29</td>\n",
       "      <td>0.836556</td>\n",
       "      <td>0.833389</td>\n",
       "      <td>0.842880</td>\n",
       "      <td>0.839387</td>\n",
       "      <td>0.209343</td>\n",
       "      <td>XOM</td>\n",
       "      <td>1.00</td>\n",
       "      <td>0.151772</td>\n",
       "      <td>0.154323</td>\n",
       "      <td>...</td>\n",
       "      <td>0.0</td>\n",
       "      <td>0.253363</td>\n",
       "      <td>0.963788</td>\n",
       "      <td>0.561798</td>\n",
       "      <td>0.0</td>\n",
       "      <td>0.0</td>\n",
       "      <td>0.807644</td>\n",
       "      <td>0.890121</td>\n",
       "      <td>0.007313</td>\n",
       "      <td>0.030161</td>\n",
       "    </tr>\n",
       "  </tbody>\n",
       "</table>\n",
       "<p>32700 rows × 55 columns</p>\n",
       "</div>"
      ],
      "text/plain": [
       "             date      open      high       low     close    volume   tic  \\\n",
       "0      2011-01-03  0.058731  0.059087  0.058891  0.050363  0.236650  AAPL   \n",
       "10     2011-01-04  0.059958  0.059488  0.059491  0.050626  0.164317  AAPL   \n",
       "20     2011-01-05  0.059437  0.059817  0.059735  0.051040  0.135843  AAPL   \n",
       "30     2011-01-06  0.060369  0.059980  0.060352  0.050999  0.159718  AAPL   \n",
       "40     2011-01-07  0.060237  0.060177  0.060170  0.051364  0.165833  AAPL   \n",
       "...           ...       ...       ...       ...       ...       ...   ...   \n",
       "32659  2023-12-22  0.852725  0.852858  0.861494  0.855590  0.152474   XOM   \n",
       "32669  2023-12-26  0.856309  0.853604  0.864032  0.857521  0.198649   XOM   \n",
       "32679  2023-12-27  0.850475  0.849627  0.857433  0.853491  0.171790   XOM   \n",
       "32689  2023-12-28  0.845057  0.841839  0.847195  0.841150  0.192681   XOM   \n",
       "32699  2023-12-29  0.836556  0.833389  0.842880  0.839387  0.209343   XOM   \n",
       "\n",
       "        day  Open_VIX  High_VIX  ...  TTM Sales per Share  \\\n",
       "0      0.00  0.216955  0.210015  ...                  0.0   \n",
       "10     0.25  0.209699  0.213408  ...                  0.0   \n",
       "20     0.50  0.215383  0.210015  ...                  0.0   \n",
       "30     0.75  0.203168  0.205452  ...                  0.0   \n",
       "40     1.00  0.209336  0.211419  ...                  0.0   \n",
       "...     ...       ...       ...  ...                  ...   \n",
       "32659  1.00  0.165921  0.163332  ...                  0.0   \n",
       "32669  0.25  0.166526  0.161460  ...                  0.0   \n",
       "32679  0.50  0.157456  0.152568  ...                  0.0   \n",
       "32689  0.75  0.150441  0.148005  ...                  0.0   \n",
       "32699  1.00  0.151772  0.154323  ...                  0.0   \n",
       "\n",
       "       Price to Sales Ratio    Assets  NetIncomeLoss  \\\n",
       "0                  0.000000  0.000000       0.000000   \n",
       "10                 0.000000  0.000000       0.000000   \n",
       "20                 0.000000  0.000000       0.000000   \n",
       "30                 0.000000  0.000000       0.000000   \n",
       "40                 0.000000  0.000000       0.000000   \n",
       "...                     ...       ...            ...   \n",
       "32659              0.253363  0.963788       0.561798   \n",
       "32669              0.253363  0.963788       0.561798   \n",
       "32679              0.253363  0.963788       0.561798   \n",
       "32689              0.253363  0.963788       0.561798   \n",
       "32699              0.253363  0.963788       0.561798   \n",
       "\n",
       "       TTM Net Income (Billions)  Shareholder's Equity (Billion)  \\\n",
       "0                            0.0                             0.0   \n",
       "10                           0.0                             0.0   \n",
       "20                           0.0                             0.0   \n",
       "30                           0.0                             0.0   \n",
       "40                           0.0                             0.0   \n",
       "...                          ...                             ...   \n",
       "32659                        0.0                             0.0   \n",
       "32669                        0.0                             0.0   \n",
       "32679                        0.0                             0.0   \n",
       "32689                        0.0                             0.0   \n",
       "32699                        0.0                             0.0   \n",
       "\n",
       "       Return on Equity(%)  vmd_mode_0  vmd_mode_1  vmd_mode_2  \n",
       "0                 0.000000    0.000000    0.000000    0.000000  \n",
       "10                0.000000    0.000000    0.000000    0.000000  \n",
       "20                0.000000    0.000000    0.000000    0.000000  \n",
       "30                0.000000    0.000000    0.000000    0.000000  \n",
       "40                0.000000    0.000000    0.000000    0.000000  \n",
       "...                    ...         ...         ...         ...  \n",
       "32659             0.807644    0.890019   -0.016307   -0.045132  \n",
       "32669             0.807644    0.889950   -0.013535    0.042860  \n",
       "32679             0.807644    0.890017    0.003982   -0.009066  \n",
       "32689             0.807644    0.890248    0.016329   -0.029956  \n",
       "32699             0.807644    0.890121    0.007313    0.030161  \n",
       "\n",
       "[32700 rows x 55 columns]"
      ]
     },
     "execution_count": 15,
     "metadata": {},
     "output_type": "execute_result"
    }
   ],
   "source": [
    "portfolio_norm_df = GroupByScaler(by=\"tic\", scaler=MaxAbsScaler).fit_transform(df_portfolio_final)\n",
    "portfolio_norm_df"
   ]
  },
  {
   "cell_type": "code",
   "execution_count": 35,
   "metadata": {},
   "outputs": [],
   "source": [
    "df_portfolio = portfolio_norm_df[[\"date\", \n",
    "                                  \"tic\", \n",
    "                                  \"close\",\n",
    "                                  \"vmd_mode_0\",\n",
    "                                  \"vmd_mode_1\",\n",
    "                                  \"vmd_mode_2\",\n",
    "                                  \"high\", \n",
    "                                  \"low\",\n",
    "                                  'High_VIX',\n",
    "                                  'Low_VIX',\n",
    "                                  'Close_VIX',\n",
    "                                  'High_SPY',\n",
    "                                  'Low_SPY',\n",
    "                                  'Close_SPY',\n",
    "                                  'Volume_SPY',\n",
    "                                  'Fear Greed', \n",
    "                                  'ratingScore',\n",
    "                                  'ratingDetailsDCFScore',\n",
    "                                  'ratingDetailsROEScore',\n",
    "                                  'ratingDetailsROAScore',\n",
    "                                  'ratingDetailsPEScore',\n",
    "                                  'ratingDetailsPBScore',\n",
    "                                  'expenses',\n",
    "                                  'GDP', \n",
    "                                  'exports', \n",
    "                                  'imports',\n",
    "                                  'pound_dollar_exchange_rate', \n",
    "                                  'unemployment',\n",
    "                                  'ics',\n",
    "                                  'TTM Revenue(Billion)',\n",
    "                                  'TTM EBITDA(Billion)',\n",
    "                                  'EBITDA Margin',\n",
    "                                  'Price to Book Ratio',\n",
    "                                  'PE Ratio',\n",
    "                                  'Price to Sales Ratio',\n",
    "                                  'Assets',\n",
    "                                  'NetIncomeLoss',\n",
    "                                  'Return on Equity(%)']]"
   ]
  },
  {
   "cell_type": "code",
   "execution_count": 8,
   "metadata": {},
   "outputs": [],
   "source": [
    "# df_portfolio_train = df_portfolio[(df_portfolio[\"date\"] >= START_DATE) & (df_portfolio[\"date\"] < \"2020-12-31\")]\n",
    "# df_portfolio_test = df_portfolio[(df_portfolio[\"date\"] >= \"2021-01-01\") & (df_portfolio[\"date\"] < \"2022-12-31\")]\n",
    "\n",
    "\n",
    "df_portfolio = pd.read_parquet('datasets/df_portfolio_train.parquet')\n",
    "df_portfolio_test = pd.read_parquet('datasets/df_portfolio_test.parquet')\n",
    "\n",
    "df_portfolio_train = df_portfolio[df_portfolio['date'] <= \"2020-12-31\"]\n",
    "df_portfolio_vali = df_portfolio[df_portfolio['date'] >= \"2021-01-01\"]"
   ]
  },
  {
   "cell_type": "markdown",
   "metadata": {},
   "source": [
    "# Feature Selection and DRL Model Parameters"
   ]
  },
  {
   "cell_type": "code",
   "execution_count": 10,
   "metadata": {},
   "outputs": [],
   "source": [
    "import pandas as pd\n",
    "from itertools import product\n",
    "import numpy as np  # for NaN\n",
    "import torch\n",
    "\n",
    "FEATURE_NAMES = [\"close\",\n",
    "               \"vmd_mode_0\",\n",
    "                \"vmd_mode_1\",\n",
    "                \"vmd_mode_2\",\n",
    "                  #\"high\", \n",
    "                  #\"low\",\n",
    "                'High_VIX',\n",
    "                'Low_VIX',\n",
    "                  #'Close_VIX',\n",
    "                'High_SPY',\n",
    "                'Low_SPY',\n",
    "                'Close_SPY',\n",
    "                  #'Volume_SPY',\n",
    "                'Fear Greed', \n",
    "                'ratingScore',\n",
    "                  #'ratingDetailsDCFScore',\n",
    "                'ratingDetailsROEScore',\n",
    "                  #'ratingDetailsROAScore',\n",
    "                  #'ratingDetailsPEScore',\n",
    "                  #'ratingDetailsPBScore',\n",
    "                  #'expenses',\n",
    "                  #'GDP', \n",
    "                'exports', \n",
    "                  #'imports',\n",
    "                'pound_dollar_exchange_rate', \n",
    "                'unemployment',\n",
    "                'ics',\n",
    "                'TTM Revenue(Billion)',\n",
    "                  #'TTM EBITDA(Billion)',\n",
    "                  #'EBITDA Margin',\n",
    "                'Price to Book Ratio',\n",
    "                  #'PE Ratio',\n",
    "                'Price to Sales Ratio',\n",
    "                  #'Assets',\n",
    "                  #'NetIncomeLoss',\n",
    "                'Return on Equity(%)']\n",
    "\n",
    "COMISSION_FEE = 0.001\n",
    "\n",
    "# Define hyperparameter ranges\n",
    "time_windows = [60]\n",
    "k_sizes = [3, 4, 5]\n",
    "conv_mids = [5 , 10, 20]\n",
    "conv_finals = [5, 10, 20]\n",
    "lr = [0.02]\n",
    "\n",
    "# Function to calculate the final accumulative portfolio value\n",
    "def calculate_cumulative_value(portfolio_values):\n",
    "    initial_value = portfolio_values[0]\n",
    "    final_value = portfolio_values[-1]\n",
    "    return final_value / initial_value\n",
    "\n",
    "# Function to calculate the maximum drawdown\n",
    "def calculate_max_drawdown(portfolio_values):\n",
    "    portfolio_values = np.array(portfolio_values)\n",
    "    running_max = np.maximum.accumulate(portfolio_values)\n",
    "    drawdowns = (portfolio_values - running_max) / running_max\n",
    "    max_drawdown = drawdowns.min()\n",
    "    \n",
    "    return max_drawdown\n",
    "\n",
    "# Function to calculate the Sharpe ratio\n",
    "def calculate_sharpe_ratio(portfolio_values, risk_free_rate=0):\n",
    "    returns = np.diff(portfolio_values) / portfolio_values[:-1]\n",
    "    excess_returns = returns - risk_free_rate\n",
    "    sharpe_ratio = np.mean(excess_returns) / np.std(excess_returns)\n",
    "    sharpe_ratio_annualized = sharpe_ratio * np.sqrt(252)\n",
    "    \n",
    "    return sharpe_ratio_annualized\n",
    "\n",
    "\n",
    "# Define a function to calculate the metrics (this is just a placeholder; replace with actual functions)\n",
    "def calculate_metrics(environment):\n",
    "    final_portfolio_value = environment._asset_memory[\"final\"][-1]\n",
    "    max_drawdown = calculate_max_drawdown(environment._asset_memory[\"final\"])\n",
    "    sharpe_ratio = calculate_sharpe_ratio(environment._asset_memory[\"final\"])\n",
    "    cumulative_value = calculate_cumulative_value(environment._asset_memory[\"final\"])\n",
    "    return final_portfolio_value, max_drawdown, sharpe_ratio, cumulative_value\n",
    "\n",
    "# DataFrame to store results\n",
    "columns = [\"TIME_WINDOW\", \"K_SIZE\", \"CONV_MID\", \"CONV_FINAL\",\"LEARNING_RATE\", \n",
    "        'train_portfolio_value', 'train_drawdown', 'train_sharpe', 'train_cumulative',\n",
    "        'test_portfolio_value', 'test_drawdown', 'test_sharpe', 'test_cumulative']\n",
    "\n",
    "results_df = pd.DataFrame(columns=columns)\n"
   ]
  },
  {
   "cell_type": "code",
   "execution_count": 12,
   "metadata": {},
   "outputs": [
    {
     "name": "stdout",
     "output_type": "stream",
     "text": [
      "Training model with TIME_WINDOW=60, K_SIZE=3, CONV_MID=5, CONV_FINAL=5, LEARNING_RATE=0.02\n"
     ]
    },
    {
     "name": "stderr",
     "output_type": "stream",
     "text": [
      "  0%|          | 0/25 [00:00<?, ?it/s]"
     ]
    },
    {
     "name": "stdout",
     "output_type": "stream",
     "text": [
      "=================================\n",
      "Initial portfolio value: 100000\n",
      "Final portfolio value: 225579.046875\n",
      "Final accumulative portfolio return: 2.25579046875\n",
      "Maximum DrawDown: -0.33093055752335365\n",
      "Sharpe ratio: 0.7694429040925047\n",
      "=================================\n"
     ]
    },
    {
     "name": "stderr",
     "output_type": "stream",
     "text": [
      "  4%|▍         | 1/25 [00:27<11:04, 27.67s/it]"
     ]
    },
    {
     "name": "stdout",
     "output_type": "stream",
     "text": [
      "=================================\n",
      "Initial portfolio value: 100000\n",
      "Final portfolio value: 228228.203125\n",
      "Final accumulative portfolio return: 2.28228203125\n",
      "Maximum DrawDown: -0.3349048176962024\n",
      "Sharpe ratio: 0.7702749987377095\n",
      "=================================\n"
     ]
    },
    {
     "name": "stderr",
     "output_type": "stream",
     "text": [
      "  8%|▊         | 2/25 [01:00<11:45, 30.66s/it]"
     ]
    },
    {
     "name": "stdout",
     "output_type": "stream",
     "text": [
      "=================================\n",
      "Initial portfolio value: 100000\n",
      "Final portfolio value: 230079.921875\n",
      "Final accumulative portfolio return: 2.30079921875\n",
      "Maximum DrawDown: -0.3378954526232464\n",
      "Sharpe ratio: 0.7705233171528099\n",
      "=================================\n"
     ]
    },
    {
     "name": "stderr",
     "output_type": "stream",
     "text": [
      " 12%|█▏        | 3/25 [01:34<11:45, 32.06s/it]"
     ]
    },
    {
     "name": "stdout",
     "output_type": "stream",
     "text": [
      "=================================\n",
      "Initial portfolio value: 100000\n",
      "Final portfolio value: 231479.546875\n",
      "Final accumulative portfolio return: 2.31479546875\n",
      "Maximum DrawDown: -0.34016882039087815\n",
      "Sharpe ratio: 0.7706719631954022\n",
      "=================================\n"
     ]
    },
    {
     "name": "stderr",
     "output_type": "stream",
     "text": [
      " 16%|█▌        | 4/25 [02:06<11:17, 32.27s/it]"
     ]
    },
    {
     "name": "stdout",
     "output_type": "stream",
     "text": [
      "=================================\n",
      "Initial portfolio value: 100000\n",
      "Final portfolio value: 232577.5625\n",
      "Final accumulative portfolio return: 2.325775625\n",
      "Maximum DrawDown: -0.34192893142274694\n",
      "Sharpe ratio: 0.7708241194927254\n",
      "=================================\n"
     ]
    },
    {
     "name": "stderr",
     "output_type": "stream",
     "text": [
      " 20%|██        | 5/25 [02:39<10:48, 32.42s/it]"
     ]
    },
    {
     "name": "stdout",
     "output_type": "stream",
     "text": [
      "=================================\n",
      "Initial portfolio value: 100000\n",
      "Final portfolio value: 233439.5625\n",
      "Final accumulative portfolio return: 2.334395625\n",
      "Maximum DrawDown: -0.3433213332267955\n",
      "Sharpe ratio: 0.770923973769502\n",
      "=================================\n"
     ]
    },
    {
     "name": "stderr",
     "output_type": "stream",
     "text": [
      " 24%|██▍       | 6/25 [03:16<10:43, 33.87s/it]"
     ]
    },
    {
     "name": "stdout",
     "output_type": "stream",
     "text": [
      "=================================\n",
      "Initial portfolio value: 100000\n",
      "Final portfolio value: 234127.875\n",
      "Final accumulative portfolio return: 2.34127875\n",
      "Maximum DrawDown: -0.34444569030232075\n",
      "Sharpe ratio: 0.770982954939046\n",
      "=================================\n"
     ]
    },
    {
     "name": "stderr",
     "output_type": "stream",
     "text": [
      " 28%|██▊       | 7/25 [03:54<10:35, 35.30s/it]"
     ]
    },
    {
     "name": "stdout",
     "output_type": "stream",
     "text": [
      "=================================\n",
      "Initial portfolio value: 100000\n",
      "Final portfolio value: 234692.203125\n",
      "Final accumulative portfolio return: 2.34692203125\n",
      "Maximum DrawDown: -0.3453626043691681\n",
      "Sharpe ratio: 0.7710371768854597\n",
      "=================================\n"
     ]
    },
    {
     "name": "stderr",
     "output_type": "stream",
     "text": [
      " 32%|███▏      | 8/25 [04:33<10:20, 36.52s/it]"
     ]
    },
    {
     "name": "stdout",
     "output_type": "stream",
     "text": [
      "=================================\n",
      "Initial portfolio value: 100000\n",
      "Final portfolio value: 235149.75\n",
      "Final accumulative portfolio return: 2.3514975\n",
      "Maximum DrawDown: -0.34612502615591767\n",
      "Sharpe ratio: 0.7710465924616784\n",
      "=================================\n"
     ]
    },
    {
     "name": "stderr",
     "output_type": "stream",
     "text": [
      " 36%|███▌      | 9/25 [05:11<09:54, 37.14s/it]"
     ]
    },
    {
     "name": "stdout",
     "output_type": "stream",
     "text": [
      "=================================\n",
      "Initial portfolio value: 100000\n",
      "Final portfolio value: 235539.46875\n",
      "Final accumulative portfolio return: 2.3553946875\n",
      "Maximum DrawDown: -0.346764302072739\n",
      "Sharpe ratio: 0.7710738730380206\n",
      "=================================\n"
     ]
    },
    {
     "name": "stderr",
     "output_type": "stream",
     "text": [
      " 40%|████      | 10/25 [05:50<09:22, 37.52s/it]"
     ]
    },
    {
     "name": "stdout",
     "output_type": "stream",
     "text": [
      "=================================\n",
      "Initial portfolio value: 100000\n",
      "Final portfolio value: 235870.28125\n",
      "Final accumulative portfolio return: 2.3587028125\n",
      "Maximum DrawDown: -0.3473083194208094\n",
      "Sharpe ratio: 0.7710971032431803\n",
      "=================================\n"
     ]
    },
    {
     "name": "stderr",
     "output_type": "stream",
     "text": [
      " 44%|████▍     | 11/25 [06:29<08:52, 38.03s/it]"
     ]
    },
    {
     "name": "stdout",
     "output_type": "stream",
     "text": [
      "=================================\n",
      "Initial portfolio value: 100000\n",
      "Final portfolio value: 236152.8125\n",
      "Final accumulative portfolio return: 2.361528125\n",
      "Maximum DrawDown: -0.34776996052957887\n",
      "Sharpe ratio: 0.771114631844457\n",
      "=================================\n"
     ]
    },
    {
     "name": "stderr",
     "output_type": "stream",
     "text": [
      " 48%|████▊     | 12/25 [07:07<08:13, 37.93s/it]"
     ]
    },
    {
     "name": "stdout",
     "output_type": "stream",
     "text": [
      "=================================\n",
      "Initial portfolio value: 100000\n",
      "Final portfolio value: 236403.1875\n",
      "Final accumulative portfolio return: 2.364031875\n",
      "Maximum DrawDown: -0.34817082286193557\n",
      "Sharpe ratio: 0.7711542656964695\n",
      "=================================\n"
     ]
    },
    {
     "name": "stderr",
     "output_type": "stream",
     "text": [
      " 52%|█████▏    | 13/25 [07:44<07:33, 37.82s/it]"
     ]
    },
    {
     "name": "stdout",
     "output_type": "stream",
     "text": [
      "=================================\n",
      "Initial portfolio value: 100000\n",
      "Final portfolio value: 236611.515625\n",
      "Final accumulative portfolio return: 2.36611515625\n",
      "Maximum DrawDown: -0.34851946389742317\n",
      "Sharpe ratio: 0.7711573983439461\n",
      "=================================\n"
     ]
    },
    {
     "name": "stderr",
     "output_type": "stream",
     "text": [
      " 56%|█████▌    | 14/25 [08:22<06:55, 37.80s/it]"
     ]
    },
    {
     "name": "stdout",
     "output_type": "stream",
     "text": [
      "=================================\n",
      "Initial portfolio value: 100000\n",
      "Final portfolio value: 236801.296875\n",
      "Final accumulative portfolio return: 2.36801296875\n",
      "Maximum DrawDown: -0.3488259698873346\n",
      "Sharpe ratio: 0.7711839410514936\n",
      "=================================\n"
     ]
    },
    {
     "name": "stderr",
     "output_type": "stream",
     "text": [
      " 60%|██████    | 15/25 [08:59<06:15, 37.54s/it]"
     ]
    },
    {
     "name": "stdout",
     "output_type": "stream",
     "text": [
      "=================================\n",
      "Initial portfolio value: 100000\n",
      "Final portfolio value: 236965.5625\n",
      "Final accumulative portfolio return: 2.369655625\n",
      "Maximum DrawDown: -0.3490931758008292\n",
      "Sharpe ratio: 0.7711974317533924\n",
      "=================================\n"
     ]
    },
    {
     "name": "stderr",
     "output_type": "stream",
     "text": [
      " 64%|██████▍   | 16/25 [09:37<05:40, 37.78s/it]"
     ]
    },
    {
     "name": "stdout",
     "output_type": "stream",
     "text": [
      "=================================\n",
      "Initial portfolio value: 100000\n",
      "Final portfolio value: 237107.453125\n",
      "Final accumulative portfolio return: 2.37107453125\n",
      "Maximum DrawDown: -0.34933234017224024\n",
      "Sharpe ratio: 0.7711973286919728\n",
      "=================================\n"
     ]
    },
    {
     "name": "stderr",
     "output_type": "stream",
     "text": [
      " 68%|██████▊   | 17/25 [10:15<05:02, 37.87s/it]"
     ]
    },
    {
     "name": "stdout",
     "output_type": "stream",
     "text": [
      "=================================\n",
      "Initial portfolio value: 100000\n",
      "Final portfolio value: 237233.53125\n",
      "Final accumulative portfolio return: 2.3723353125\n",
      "Maximum DrawDown: -0.3495435755706078\n",
      "Sharpe ratio: 0.7711969563088519\n",
      "=================================\n"
     ]
    },
    {
     "name": "stderr",
     "output_type": "stream",
     "text": [
      " 72%|███████▏  | 18/25 [10:53<04:23, 37.68s/it]"
     ]
    },
    {
     "name": "stdout",
     "output_type": "stream",
     "text": [
      "=================================\n",
      "Initial portfolio value: 100000\n",
      "Final portfolio value: 237353.59375\n",
      "Final accumulative portfolio return: 2.3735359375\n",
      "Maximum DrawDown: -0.34973645847752755\n",
      "Sharpe ratio: 0.7712190153191124\n",
      "=================================\n"
     ]
    },
    {
     "name": "stderr",
     "output_type": "stream",
     "text": [
      " 76%|███████▌  | 19/25 [11:31<03:47, 37.83s/it]"
     ]
    },
    {
     "name": "stdout",
     "output_type": "stream",
     "text": [
      "=================================\n",
      "Initial portfolio value: 100000\n",
      "Final portfolio value: 237457.6875\n",
      "Final accumulative portfolio return: 2.374576875\n",
      "Maximum DrawDown: -0.34990592335169934\n",
      "Sharpe ratio: 0.7712262224251932\n",
      "=================================\n"
     ]
    },
    {
     "name": "stderr",
     "output_type": "stream",
     "text": [
      " 80%|████████  | 20/25 [12:08<03:07, 37.59s/it]"
     ]
    },
    {
     "name": "stdout",
     "output_type": "stream",
     "text": [
      "=================================\n",
      "Initial portfolio value: 100000\n",
      "Final portfolio value: 237545.9375\n",
      "Final accumulative portfolio return: 2.375459375\n",
      "Maximum DrawDown: -0.3500596746718826\n",
      "Sharpe ratio: 0.7712161174958725\n",
      "=================================\n"
     ]
    },
    {
     "name": "stderr",
     "output_type": "stream",
     "text": [
      " 84%|████████▍ | 21/25 [12:45<02:30, 37.56s/it]"
     ]
    },
    {
     "name": "stdout",
     "output_type": "stream",
     "text": [
      "=================================\n",
      "Initial portfolio value: 100000\n",
      "Final portfolio value: 237633.515625\n",
      "Final accumulative portfolio return: 2.37633515625\n",
      "Maximum DrawDown: -0.3502010306879192\n",
      "Sharpe ratio: 0.7712312270671076\n",
      "=================================\n"
     ]
    },
    {
     "name": "stderr",
     "output_type": "stream",
     "text": [
      " 88%|████████▊ | 22/25 [13:23<01:52, 37.53s/it]"
     ]
    },
    {
     "name": "stdout",
     "output_type": "stream",
     "text": [
      "=================================\n",
      "Initial portfolio value: 100000\n",
      "Final portfolio value: 237707.390625\n",
      "Final accumulative portfolio return: 2.37707390625\n",
      "Maximum DrawDown: -0.3503281396234851\n",
      "Sharpe ratio: 0.771224760171959\n",
      "=================================\n"
     ]
    },
    {
     "name": "stderr",
     "output_type": "stream",
     "text": [
      " 92%|█████████▏| 23/25 [14:00<01:15, 37.55s/it]"
     ]
    },
    {
     "name": "stdout",
     "output_type": "stream",
     "text": [
      "=================================\n",
      "Initial portfolio value: 100000\n",
      "Final portfolio value: 237779.5\n",
      "Final accumulative portfolio return: 2.377795\n",
      "Maximum DrawDown: -0.3504464970451896\n",
      "Sharpe ratio: 0.771233700252168\n",
      "=================================\n"
     ]
    },
    {
     "name": "stderr",
     "output_type": "stream",
     "text": [
      " 96%|█████████▌| 24/25 [14:38<00:37, 37.67s/it]"
     ]
    },
    {
     "name": "stdout",
     "output_type": "stream",
     "text": [
      "=================================\n",
      "Initial portfolio value: 100000\n",
      "Final portfolio value: 237833.03125\n",
      "Final accumulative portfolio return: 2.3783303125\n",
      "Maximum DrawDown: -0.35055439105980646\n",
      "Sharpe ratio: 0.7712016329021484\n",
      "=================================\n"
     ]
    },
    {
     "name": "stderr",
     "output_type": "stream",
     "text": [
      "100%|██████████| 25/25 [15:16<00:00, 36.66s/it]\n",
      "C:\\Users\\xutia\\AppData\\Local\\Temp\\ipykernel_36848\\1259870935.py:43: FutureWarning: You are using `torch.load` with `weights_only=False` (the current default value), which uses the default pickle module implicitly. It is possible to construct malicious pickle data which will execute arbitrary code during unpickling (See https://github.com/pytorch/pytorch/blob/main/SECURITY.md#untrusted-models for more details). In a future release, the default value for `weights_only` will be flipped to `True`. This limits the functions that could be executed during unpickling. Arbitrary objects will no longer be allowed to be loaded via this mode unless they are explicitly allowlisted by the user via `torch.serialization.add_safe_globals`. We recommend you start setting `weights_only=True` for any use case where you don't have full control of the loaded file. Please open an issue on GitHub for any issues related to this experimental feature.\n",
      "  EIIE_policy.load_state_dict(torch.load(model_filename))\n"
     ]
    },
    {
     "name": "stdout",
     "output_type": "stream",
     "text": [
      "=================================\n",
      "Initial portfolio value: 100000\n",
      "Final portfolio value: 238056.625\n",
      "Final accumulative portfolio return: 2.38056625\n",
      "Maximum DrawDown: -0.35122264784124013\n",
      "Sharpe ratio: 0.7709297908950146\n",
      "=================================\n",
      "=================================\n",
      "Initial portfolio value: 100000\n",
      "Final portfolio value: 126201.5546875\n",
      "Final accumulative portfolio return: 1.262015546875\n",
      "Maximum DrawDown: -0.15860270595316084\n",
      "Sharpe ratio: 0.8404885451305841\n",
      "=================================\n"
     ]
    },
    {
     "name": "stderr",
     "output_type": "stream",
     "text": [
      "C:\\Users\\xutia\\AppData\\Local\\Temp\\ipykernel_36848\\1259870935.py:72: FutureWarning: The behavior of DataFrame concatenation with empty or all-NA entries is deprecated. In a future version, this will no longer exclude empty or all-NA columns when determining the result dtypes. To retain the old behavior, exclude the relevant entries before the concat operation.\n",
      "  results_df = pd.concat([results_df, temp_df], ignore_index=True)\n"
     ]
    },
    {
     "name": "stdout",
     "output_type": "stream",
     "text": [
      "Training model with TIME_WINDOW=60, K_SIZE=3, CONV_MID=5, CONV_FINAL=10, LEARNING_RATE=0.02\n"
     ]
    },
    {
     "name": "stderr",
     "output_type": "stream",
     "text": [
      "  0%|          | 0/25 [00:00<?, ?it/s]"
     ]
    },
    {
     "name": "stdout",
     "output_type": "stream",
     "text": [
      "=================================\n",
      "Initial portfolio value: 100000\n",
      "Final portfolio value: 228909.765625\n",
      "Final accumulative portfolio return: 2.28909765625\n",
      "Maximum DrawDown: -0.3291211300860877\n",
      "Sharpe ratio: 0.7793811075814913\n",
      "=================================\n"
     ]
    },
    {
     "name": "stderr",
     "output_type": "stream",
     "text": [
      "  4%|▍         | 1/25 [00:37<14:52, 37.17s/it]"
     ]
    },
    {
     "name": "stdout",
     "output_type": "stream",
     "text": [
      "=================================\n",
      "Initial portfolio value: 100000\n",
      "Final portfolio value: 237084.015625\n",
      "Final accumulative portfolio return: 2.37084015625\n",
      "Maximum DrawDown: -0.28193054412027463\n",
      "Sharpe ratio: 0.831023994933886\n",
      "=================================\n"
     ]
    },
    {
     "name": "stderr",
     "output_type": "stream",
     "text": [
      "  8%|▊         | 2/25 [01:14<14:18, 37.34s/it]"
     ]
    },
    {
     "name": "stdout",
     "output_type": "stream",
     "text": [
      "=================================\n",
      "Initial portfolio value: 100000\n",
      "Final portfolio value: 287173.3125\n",
      "Final accumulative portfolio return: 2.871733125\n",
      "Maximum DrawDown: -0.26536503289990687\n",
      "Sharpe ratio: 0.9888626953699677\n",
      "=================================\n"
     ]
    },
    {
     "name": "stderr",
     "output_type": "stream",
     "text": [
      " 12%|█▏        | 3/25 [01:52<13:47, 37.59s/it]"
     ]
    },
    {
     "name": "stdout",
     "output_type": "stream",
     "text": [
      "=================================\n",
      "Initial portfolio value: 100000\n",
      "Final portfolio value: 396400.09375\n",
      "Final accumulative portfolio return: 3.9640009375\n",
      "Maximum DrawDown: -0.25667625274146233\n",
      "Sharpe ratio: 1.1937612113381184\n",
      "=================================\n"
     ]
    },
    {
     "name": "stderr",
     "output_type": "stream",
     "text": [
      " 16%|█▌        | 4/25 [02:30<13:10, 37.63s/it]"
     ]
    },
    {
     "name": "stdout",
     "output_type": "stream",
     "text": [
      "=================================\n",
      "Initial portfolio value: 100000\n",
      "Final portfolio value: 515609.1875\n",
      "Final accumulative portfolio return: 5.156091875\n",
      "Maximum DrawDown: -0.24709273339800764\n",
      "Sharpe ratio: 1.2629079722246705\n",
      "=================================\n"
     ]
    },
    {
     "name": "stderr",
     "output_type": "stream",
     "text": [
      " 20%|██        | 5/25 [03:07<12:32, 37.64s/it]"
     ]
    },
    {
     "name": "stdout",
     "output_type": "stream",
     "text": [
      "=================================\n",
      "Initial portfolio value: 100000\n",
      "Final portfolio value: 623056.8125\n",
      "Final accumulative portfolio return: 6.230568125\n",
      "Maximum DrawDown: -0.22738232559902372\n",
      "Sharpe ratio: 1.3196236198515525\n",
      "=================================\n"
     ]
    },
    {
     "name": "stderr",
     "output_type": "stream",
     "text": [
      " 24%|██▍       | 6/25 [03:45<11:55, 37.66s/it]"
     ]
    },
    {
     "name": "stdout",
     "output_type": "stream",
     "text": [
      "=================================\n",
      "Initial portfolio value: 100000\n",
      "Final portfolio value: 750120.9375\n",
      "Final accumulative portfolio return: 7.501209375\n",
      "Maximum DrawDown: -0.22623150017904192\n",
      "Sharpe ratio: 1.3376830091611098\n",
      "=================================\n"
     ]
    },
    {
     "name": "stderr",
     "output_type": "stream",
     "text": [
      " 28%|██▊       | 7/25 [04:22<11:16, 37.57s/it]"
     ]
    },
    {
     "name": "stdout",
     "output_type": "stream",
     "text": [
      "=================================\n",
      "Initial portfolio value: 100000\n",
      "Final portfolio value: 812668.75\n",
      "Final accumulative portfolio return: 8.1266875\n",
      "Maximum DrawDown: -0.22255849444750786\n",
      "Sharpe ratio: 1.3800811872823577\n",
      "=================================\n"
     ]
    },
    {
     "name": "stderr",
     "output_type": "stream",
     "text": [
      " 32%|███▏      | 8/25 [05:00<10:39, 37.60s/it]"
     ]
    },
    {
     "name": "stdout",
     "output_type": "stream",
     "text": [
      "=================================\n",
      "Initial portfolio value: 100000\n",
      "Final portfolio value: 780121.5\n",
      "Final accumulative portfolio return: 7.801215\n",
      "Maximum DrawDown: -0.2198067260772174\n",
      "Sharpe ratio: 1.416587081380774\n",
      "=================================\n"
     ]
    },
    {
     "name": "stderr",
     "output_type": "stream",
     "text": [
      " 36%|███▌      | 9/25 [05:38<10:03, 37.69s/it]"
     ]
    },
    {
     "name": "stdout",
     "output_type": "stream",
     "text": [
      "=================================\n",
      "Initial portfolio value: 100000\n",
      "Final portfolio value: 547449.875\n",
      "Final accumulative portfolio return: 5.47449875\n",
      "Maximum DrawDown: -0.2718628560629972\n",
      "Sharpe ratio: 1.0560654238166969\n",
      "=================================\n"
     ]
    },
    {
     "name": "stderr",
     "output_type": "stream",
     "text": [
      " 40%|████      | 10/25 [06:14<09:18, 37.20s/it]"
     ]
    },
    {
     "name": "stdout",
     "output_type": "stream",
     "text": [
      "=================================\n",
      "Initial portfolio value: 100000\n",
      "Final portfolio value: 664160.125\n",
      "Final accumulative portfolio return: 6.64160125\n",
      "Maximum DrawDown: -0.2113721198812989\n",
      "Sharpe ratio: 1.2355655349103742\n",
      "=================================\n"
     ]
    },
    {
     "name": "stderr",
     "output_type": "stream",
     "text": [
      " 44%|████▍     | 11/25 [06:48<08:28, 36.31s/it]"
     ]
    },
    {
     "name": "stdout",
     "output_type": "stream",
     "text": [
      "=================================\n",
      "Initial portfolio value: 100000\n",
      "Final portfolio value: 642500.75\n",
      "Final accumulative portfolio return: 6.4250075\n",
      "Maximum DrawDown: -0.2202488149041797\n",
      "Sharpe ratio: 1.2502025088102553\n",
      "=================================\n"
     ]
    },
    {
     "name": "stderr",
     "output_type": "stream",
     "text": [
      " 48%|████▊     | 12/25 [07:20<07:32, 34.84s/it]"
     ]
    },
    {
     "name": "stdout",
     "output_type": "stream",
     "text": [
      "=================================\n",
      "Initial portfolio value: 100000\n",
      "Final portfolio value: 704564.5625\n",
      "Final accumulative portfolio return: 7.045645625\n",
      "Maximum DrawDown: -0.27826122557510724\n",
      "Sharpe ratio: 1.2108445335436928\n",
      "=================================\n"
     ]
    },
    {
     "name": "stderr",
     "output_type": "stream",
     "text": [
      " 52%|█████▏    | 13/25 [07:52<06:46, 33.89s/it]"
     ]
    },
    {
     "name": "stdout",
     "output_type": "stream",
     "text": [
      "=================================\n",
      "Initial portfolio value: 100000\n",
      "Final portfolio value: 848565.9375\n",
      "Final accumulative portfolio return: 8.485659375\n",
      "Maximum DrawDown: -0.26524923378943266\n",
      "Sharpe ratio: 1.3418925504141535\n",
      "=================================\n"
     ]
    },
    {
     "name": "stderr",
     "output_type": "stream",
     "text": [
      " 56%|█████▌    | 14/25 [08:23<06:04, 33.15s/it]"
     ]
    },
    {
     "name": "stdout",
     "output_type": "stream",
     "text": [
      "=================================\n",
      "Initial portfolio value: 100000\n",
      "Final portfolio value: 982329.375\n",
      "Final accumulative portfolio return: 9.82329375\n",
      "Maximum DrawDown: -0.22417583000620145\n",
      "Sharpe ratio: 1.4434279176402383\n",
      "=================================\n"
     ]
    },
    {
     "name": "stderr",
     "output_type": "stream",
     "text": [
      " 60%|██████    | 15/25 [08:55<05:27, 32.74s/it]"
     ]
    },
    {
     "name": "stdout",
     "output_type": "stream",
     "text": [
      "=================================\n",
      "Initial portfolio value: 100000\n",
      "Final portfolio value: 1056623.625\n",
      "Final accumulative portfolio return: 10.56623625\n",
      "Maximum DrawDown: -0.21694152804463163\n",
      "Sharpe ratio: 1.4843935831975337\n",
      "=================================\n"
     ]
    },
    {
     "name": "stderr",
     "output_type": "stream",
     "text": [
      " 64%|██████▍   | 16/25 [09:27<04:52, 32.45s/it]"
     ]
    },
    {
     "name": "stdout",
     "output_type": "stream",
     "text": [
      "=================================\n",
      "Initial portfolio value: 100000\n",
      "Final portfolio value: 984951.5625\n",
      "Final accumulative portfolio return: 9.849515625\n",
      "Maximum DrawDown: -0.2723579593682943\n",
      "Sharpe ratio: 1.4078186777544301\n",
      "=================================\n"
     ]
    },
    {
     "name": "stderr",
     "output_type": "stream",
     "text": [
      " 68%|██████▊   | 17/25 [09:58<04:17, 32.22s/it]"
     ]
    },
    {
     "name": "stdout",
     "output_type": "stream",
     "text": [
      "=================================\n",
      "Initial portfolio value: 100000\n",
      "Final portfolio value: 1418795.875\n",
      "Final accumulative portfolio return: 14.18795875\n",
      "Maximum DrawDown: -0.2618543526928324\n",
      "Sharpe ratio: 1.5585855256288779\n",
      "=================================\n"
     ]
    },
    {
     "name": "stderr",
     "output_type": "stream",
     "text": [
      " 72%|███████▏  | 18/25 [10:30<03:43, 31.99s/it]"
     ]
    },
    {
     "name": "stdout",
     "output_type": "stream",
     "text": [
      "=================================\n",
      "Initial portfolio value: 100000\n",
      "Final portfolio value: 1453899.5\n",
      "Final accumulative portfolio return: 14.538995\n",
      "Maximum DrawDown: -0.2741183301968716\n",
      "Sharpe ratio: 1.5713225908188375\n",
      "=================================\n"
     ]
    },
    {
     "name": "stderr",
     "output_type": "stream",
     "text": [
      " 76%|███████▌  | 19/25 [11:01<03:11, 31.92s/it]"
     ]
    },
    {
     "name": "stdout",
     "output_type": "stream",
     "text": [
      "=================================\n",
      "Initial portfolio value: 100000\n",
      "Final portfolio value: 1441882.0\n",
      "Final accumulative portfolio return: 14.41882\n",
      "Maximum DrawDown: -0.24538328245391938\n",
      "Sharpe ratio: 1.5737741923154995\n",
      "=================================\n"
     ]
    },
    {
     "name": "stderr",
     "output_type": "stream",
     "text": [
      " 80%|████████  | 20/25 [11:33<02:39, 31.90s/it]"
     ]
    },
    {
     "name": "stdout",
     "output_type": "stream",
     "text": [
      "=================================\n",
      "Initial portfolio value: 100000\n",
      "Final portfolio value: 1398726.625\n",
      "Final accumulative portfolio return: 13.98726625\n",
      "Maximum DrawDown: -0.2875703734781353\n",
      "Sharpe ratio: 1.5028797559785738\n",
      "=================================\n"
     ]
    },
    {
     "name": "stderr",
     "output_type": "stream",
     "text": [
      " 84%|████████▍ | 21/25 [12:05<02:07, 31.86s/it]"
     ]
    },
    {
     "name": "stdout",
     "output_type": "stream",
     "text": [
      "=================================\n",
      "Initial portfolio value: 100000\n",
      "Final portfolio value: 1883327.375\n",
      "Final accumulative portfolio return: 18.83327375\n",
      "Maximum DrawDown: -0.2523046413793505\n",
      "Sharpe ratio: 1.6684170797201938\n",
      "=================================\n"
     ]
    },
    {
     "name": "stderr",
     "output_type": "stream",
     "text": [
      " 88%|████████▊ | 22/25 [12:37<01:35, 31.90s/it]"
     ]
    },
    {
     "name": "stdout",
     "output_type": "stream",
     "text": [
      "=================================\n",
      "Initial portfolio value: 100000\n",
      "Final portfolio value: 1710904.625\n",
      "Final accumulative portfolio return: 17.10904625\n",
      "Maximum DrawDown: -0.2633377695401655\n",
      "Sharpe ratio: 1.6031071927112217\n",
      "=================================\n"
     ]
    },
    {
     "name": "stderr",
     "output_type": "stream",
     "text": [
      " 92%|█████████▏| 23/25 [13:09<01:03, 31.82s/it]"
     ]
    },
    {
     "name": "stdout",
     "output_type": "stream",
     "text": [
      "=================================\n",
      "Initial portfolio value: 100000\n",
      "Final portfolio value: 1924081.625\n",
      "Final accumulative portfolio return: 19.24081625\n",
      "Maximum DrawDown: -0.22960742334623785\n",
      "Sharpe ratio: 1.6588501333831387\n",
      "=================================\n"
     ]
    },
    {
     "name": "stderr",
     "output_type": "stream",
     "text": [
      " 96%|█████████▌| 24/25 [13:41<00:31, 31.84s/it]"
     ]
    },
    {
     "name": "stdout",
     "output_type": "stream",
     "text": [
      "=================================\n",
      "Initial portfolio value: 100000\n",
      "Final portfolio value: 1775562.5\n",
      "Final accumulative portfolio return: 17.755625\n",
      "Maximum DrawDown: -0.2615374301518628\n",
      "Sharpe ratio: 1.6165409114163516\n",
      "=================================\n"
     ]
    },
    {
     "name": "stderr",
     "output_type": "stream",
     "text": [
      "100%|██████████| 25/25 [14:13<00:00, 34.14s/it]\n",
      "C:\\Users\\xutia\\AppData\\Local\\Temp\\ipykernel_36848\\1259870935.py:43: FutureWarning: You are using `torch.load` with `weights_only=False` (the current default value), which uses the default pickle module implicitly. It is possible to construct malicious pickle data which will execute arbitrary code during unpickling (See https://github.com/pytorch/pytorch/blob/main/SECURITY.md#untrusted-models for more details). In a future release, the default value for `weights_only` will be flipped to `True`. This limits the functions that could be executed during unpickling. Arbitrary objects will no longer be allowed to be loaded via this mode unless they are explicitly allowlisted by the user via `torch.serialization.add_safe_globals`. We recommend you start setting `weights_only=True` for any use case where you don't have full control of the loaded file. Please open an issue on GitHub for any issues related to this experimental feature.\n",
      "  EIIE_policy.load_state_dict(torch.load(model_filename))\n"
     ]
    },
    {
     "name": "stdout",
     "output_type": "stream",
     "text": [
      "=================================\n",
      "Initial portfolio value: 100000\n",
      "Final portfolio value: 369306.375\n",
      "Final accumulative portfolio return: 3.69306375\n",
      "Maximum DrawDown: -0.3420451918954317\n",
      "Sharpe ratio: 0.8184850449452173\n",
      "=================================\n",
      "=================================\n",
      "Initial portfolio value: 100000\n",
      "Final portfolio value: 85508.6875\n",
      "Final accumulative portfolio return: 0.855086875\n",
      "Maximum DrawDown: -0.38876463203619105\n",
      "Sharpe ratio: -0.16760686571639916\n",
      "=================================\n",
      "Training model with TIME_WINDOW=60, K_SIZE=3, CONV_MID=5, CONV_FINAL=20, LEARNING_RATE=0.02\n"
     ]
    },
    {
     "name": "stderr",
     "output_type": "stream",
     "text": [
      "  0%|          | 0/25 [00:00<?, ?it/s]"
     ]
    },
    {
     "name": "stdout",
     "output_type": "stream",
     "text": [
      "=================================\n",
      "Initial portfolio value: 100000\n",
      "Final portfolio value: 296031.5625\n",
      "Final accumulative portfolio return: 2.960315625\n",
      "Maximum DrawDown: -0.29117192804567793\n",
      "Sharpe ratio: 0.9136857771084144\n",
      "=================================\n"
     ]
    },
    {
     "name": "stderr",
     "output_type": "stream",
     "text": [
      "  4%|▍         | 1/25 [00:31<12:44, 31.87s/it]"
     ]
    },
    {
     "name": "stdout",
     "output_type": "stream",
     "text": [
      "=================================\n",
      "Initial portfolio value: 100000\n",
      "Final portfolio value: 541563.5625\n",
      "Final accumulative portfolio return: 5.415635625\n",
      "Maximum DrawDown: -0.27999810618988685\n",
      "Sharpe ratio: 1.2176012703933747\n",
      "=================================\n"
     ]
    },
    {
     "name": "stderr",
     "output_type": "stream",
     "text": [
      "  8%|▊         | 2/25 [01:03<12:13, 31.90s/it]"
     ]
    },
    {
     "name": "stdout",
     "output_type": "stream",
     "text": [
      "=================================\n",
      "Initial portfolio value: 100000\n",
      "Final portfolio value: 484638.46875\n",
      "Final accumulative portfolio return: 4.8463846875\n",
      "Maximum DrawDown: -0.32914326858353826\n",
      "Sharpe ratio: 1.054632827364033\n",
      "=================================\n"
     ]
    },
    {
     "name": "stderr",
     "output_type": "stream",
     "text": [
      " 12%|█▏        | 3/25 [01:35<11:40, 31.84s/it]"
     ]
    },
    {
     "name": "stdout",
     "output_type": "stream",
     "text": [
      "=================================\n",
      "Initial portfolio value: 100000\n",
      "Final portfolio value: 719198.5625\n",
      "Final accumulative portfolio return: 7.191985625\n",
      "Maximum DrawDown: -0.28047111785233303\n",
      "Sharpe ratio: 1.344637261824221\n",
      "=================================\n"
     ]
    },
    {
     "name": "stderr",
     "output_type": "stream",
     "text": [
      " 16%|█▌        | 4/25 [02:07<11:09, 31.86s/it]"
     ]
    },
    {
     "name": "stdout",
     "output_type": "stream",
     "text": [
      "=================================\n",
      "Initial portfolio value: 100000\n",
      "Final portfolio value: 663480.625\n",
      "Final accumulative portfolio return: 6.63480625\n",
      "Maximum DrawDown: -0.27897846634025236\n",
      "Sharpe ratio: 1.23571003195534\n",
      "=================================\n"
     ]
    },
    {
     "name": "stderr",
     "output_type": "stream",
     "text": [
      " 20%|██        | 5/25 [02:39<10:38, 31.94s/it]"
     ]
    },
    {
     "name": "stdout",
     "output_type": "stream",
     "text": [
      "=================================\n",
      "Initial portfolio value: 100000\n",
      "Final portfolio value: 925036.75\n",
      "Final accumulative portfolio return: 9.2503675\n",
      "Maximum DrawDown: -0.28039233839248134\n",
      "Sharpe ratio: 1.424538560628385\n",
      "=================================\n"
     ]
    },
    {
     "name": "stderr",
     "output_type": "stream",
     "text": [
      " 24%|██▍       | 6/25 [03:11<10:08, 32.00s/it]"
     ]
    },
    {
     "name": "stdout",
     "output_type": "stream",
     "text": [
      "=================================\n",
      "Initial portfolio value: 100000\n",
      "Final portfolio value: 612555.625\n",
      "Final accumulative portfolio return: 6.12555625\n",
      "Maximum DrawDown: -0.27771233213779023\n",
      "Sharpe ratio: 1.1997670424673605\n",
      "=================================\n"
     ]
    },
    {
     "name": "stderr",
     "output_type": "stream",
     "text": [
      " 28%|██▊       | 7/25 [03:43<09:35, 31.97s/it]"
     ]
    },
    {
     "name": "stdout",
     "output_type": "stream",
     "text": [
      "=================================\n",
      "Initial portfolio value: 100000\n",
      "Final portfolio value: 1049587.0\n",
      "Final accumulative portfolio return: 10.49587\n",
      "Maximum DrawDown: -0.2803923830388322\n",
      "Sharpe ratio: 1.4992930027935492\n",
      "=================================\n"
     ]
    },
    {
     "name": "stderr",
     "output_type": "stream",
     "text": [
      " 32%|███▏      | 8/25 [04:15<09:03, 32.00s/it]"
     ]
    },
    {
     "name": "stdout",
     "output_type": "stream",
     "text": [
      "=================================\n",
      "Initial portfolio value: 100000\n",
      "Final portfolio value: 677940.3125\n",
      "Final accumulative portfolio return: 6.779403125\n",
      "Maximum DrawDown: -0.31240479463186344\n",
      "Sharpe ratio: 1.2309202389572882\n",
      "=================================\n"
     ]
    },
    {
     "name": "stderr",
     "output_type": "stream",
     "text": [
      " 36%|███▌      | 9/25 [04:47<08:31, 31.95s/it]"
     ]
    },
    {
     "name": "stdout",
     "output_type": "stream",
     "text": [
      "=================================\n",
      "Initial portfolio value: 100000\n",
      "Final portfolio value: 1006257.0\n",
      "Final accumulative portfolio return: 10.06257\n",
      "Maximum DrawDown: -0.2803245313818785\n",
      "Sharpe ratio: 1.466581039956146\n",
      "=================================\n"
     ]
    },
    {
     "name": "stderr",
     "output_type": "stream",
     "text": [
      " 40%|████      | 10/25 [05:19<08:00, 32.00s/it]"
     ]
    },
    {
     "name": "stdout",
     "output_type": "stream",
     "text": [
      "=================================\n",
      "Initial portfolio value: 100000\n",
      "Final portfolio value: 1129508.0\n",
      "Final accumulative portfolio return: 11.29508\n",
      "Maximum DrawDown: -0.28039306901800254\n",
      "Sharpe ratio: 1.5216708482130064\n",
      "=================================\n"
     ]
    },
    {
     "name": "stderr",
     "output_type": "stream",
     "text": [
      " 44%|████▍     | 11/25 [05:51<07:28, 32.00s/it]"
     ]
    },
    {
     "name": "stdout",
     "output_type": "stream",
     "text": [
      "=================================\n",
      "Initial portfolio value: 100000\n",
      "Final portfolio value: 1111101.5\n",
      "Final accumulative portfolio return: 11.111015\n",
      "Maximum DrawDown: -0.2803930547875457\n",
      "Sharpe ratio: 1.5007695251850788\n",
      "=================================\n"
     ]
    },
    {
     "name": "stderr",
     "output_type": "stream",
     "text": [
      " 48%|████▊     | 12/25 [06:23<06:54, 31.87s/it]"
     ]
    },
    {
     "name": "stdout",
     "output_type": "stream",
     "text": [
      "=================================\n",
      "Initial portfolio value: 100000\n",
      "Final portfolio value: 1061564.75\n",
      "Final accumulative portfolio return: 10.6156475\n",
      "Maximum DrawDown: -0.2803928468750555\n",
      "Sharpe ratio: 1.4536664559954613\n",
      "=================================\n"
     ]
    },
    {
     "name": "stderr",
     "output_type": "stream",
     "text": [
      " 52%|█████▏    | 13/25 [06:55<06:23, 31.96s/it]"
     ]
    },
    {
     "name": "stdout",
     "output_type": "stream",
     "text": [
      "=================================\n",
      "Initial portfolio value: 100000\n",
      "Final portfolio value: 1421971.625\n",
      "Final accumulative portfolio return: 14.21971625\n",
      "Maximum DrawDown: -0.2803930956031455\n",
      "Sharpe ratio: 1.6112047159507712\n",
      "=================================\n"
     ]
    },
    {
     "name": "stderr",
     "output_type": "stream",
     "text": [
      " 56%|█████▌    | 14/25 [07:27<05:51, 31.91s/it]"
     ]
    },
    {
     "name": "stdout",
     "output_type": "stream",
     "text": [
      "=================================\n",
      "Initial portfolio value: 100000\n",
      "Final portfolio value: 1561481.75\n",
      "Final accumulative portfolio return: 15.6148175\n",
      "Maximum DrawDown: -0.28039290091756086\n",
      "Sharpe ratio: 1.6719375993274777\n",
      "=================================\n"
     ]
    },
    {
     "name": "stderr",
     "output_type": "stream",
     "text": [
      " 60%|██████    | 15/25 [07:59<05:19, 31.92s/it]"
     ]
    },
    {
     "name": "stdout",
     "output_type": "stream",
     "text": [
      "=================================\n",
      "Initial portfolio value: 100000\n",
      "Final portfolio value: 1411063.625\n",
      "Final accumulative portfolio return: 14.11063625\n",
      "Maximum DrawDown: -0.28039295881100024\n",
      "Sharpe ratio: 1.6334649219340558\n",
      "=================================\n"
     ]
    },
    {
     "name": "stderr",
     "output_type": "stream",
     "text": [
      " 64%|██████▍   | 16/25 [08:31<04:49, 32.17s/it]"
     ]
    },
    {
     "name": "stdout",
     "output_type": "stream",
     "text": [
      "=================================\n",
      "Initial portfolio value: 100000\n",
      "Final portfolio value: 1398305.5\n",
      "Final accumulative portfolio return: 13.983055\n",
      "Maximum DrawDown: -0.2803929201938584\n",
      "Sharpe ratio: 1.6056360793960882\n",
      "=================================\n"
     ]
    },
    {
     "name": "stderr",
     "output_type": "stream",
     "text": [
      " 68%|██████▊   | 17/25 [09:03<04:16, 32.09s/it]"
     ]
    },
    {
     "name": "stdout",
     "output_type": "stream",
     "text": [
      "=================================\n",
      "Initial portfolio value: 100000\n",
      "Final portfolio value: 1366590.625\n",
      "Final accumulative portfolio return: 13.66590625\n",
      "Maximum DrawDown: -0.28039297857046785\n",
      "Sharpe ratio: 1.610983558354673\n",
      "=================================\n"
     ]
    },
    {
     "name": "stderr",
     "output_type": "stream",
     "text": [
      " 72%|███████▏  | 18/25 [09:35<03:44, 32.10s/it]"
     ]
    },
    {
     "name": "stdout",
     "output_type": "stream",
     "text": [
      "=================================\n",
      "Initial portfolio value: 100000\n",
      "Final portfolio value: 1293931.75\n",
      "Final accumulative portfolio return: 12.9393175\n",
      "Maximum DrawDown: -0.2803927918472958\n",
      "Sharpe ratio: 1.561652741712205\n",
      "=================================\n"
     ]
    },
    {
     "name": "stderr",
     "output_type": "stream",
     "text": [
      " 76%|███████▌  | 19/25 [10:07<03:12, 32.09s/it]"
     ]
    },
    {
     "name": "stdout",
     "output_type": "stream",
     "text": [
      "=================================\n",
      "Initial portfolio value: 100000\n",
      "Final portfolio value: 971711.125\n",
      "Final accumulative portfolio return: 9.71711125\n",
      "Maximum DrawDown: -0.3035824229309908\n",
      "Sharpe ratio: 1.352773165968068\n",
      "=================================\n"
     ]
    },
    {
     "name": "stderr",
     "output_type": "stream",
     "text": [
      " 80%|████████  | 20/25 [10:39<02:40, 32.04s/it]"
     ]
    },
    {
     "name": "stdout",
     "output_type": "stream",
     "text": [
      "=================================\n",
      "Initial portfolio value: 100000\n",
      "Final portfolio value: 566436.125\n",
      "Final accumulative portfolio return: 5.66436125\n",
      "Maximum DrawDown: -0.3223230334553121\n",
      "Sharpe ratio: 1.050960852950954\n",
      "=================================\n"
     ]
    },
    {
     "name": "stderr",
     "output_type": "stream",
     "text": [
      " 84%|████████▍ | 21/25 [11:11<02:07, 31.95s/it]"
     ]
    },
    {
     "name": "stdout",
     "output_type": "stream",
     "text": [
      "=================================\n",
      "Initial portfolio value: 100000\n",
      "Final portfolio value: 960820.5625\n",
      "Final accumulative portfolio return: 9.608205625\n",
      "Maximum DrawDown: -0.28039302885997375\n",
      "Sharpe ratio: 1.3679905286369527\n",
      "=================================\n"
     ]
    },
    {
     "name": "stderr",
     "output_type": "stream",
     "text": [
      " 88%|████████▊ | 22/25 [11:43<01:36, 32.05s/it]"
     ]
    },
    {
     "name": "stdout",
     "output_type": "stream",
     "text": [
      "=================================\n",
      "Initial portfolio value: 100000\n",
      "Final portfolio value: 945293.0625\n",
      "Final accumulative portfolio return: 9.452930625\n",
      "Maximum DrawDown: -0.28039301864286703\n",
      "Sharpe ratio: 1.368612276898279\n",
      "=================================\n"
     ]
    },
    {
     "name": "stderr",
     "output_type": "stream",
     "text": [
      " 92%|█████████▏| 23/25 [12:16<01:04, 32.10s/it]"
     ]
    },
    {
     "name": "stdout",
     "output_type": "stream",
     "text": [
      "=================================\n",
      "Initial portfolio value: 100000\n",
      "Final portfolio value: 1222573.5\n",
      "Final accumulative portfolio return: 12.225735\n",
      "Maximum DrawDown: -0.2803929651549074\n",
      "Sharpe ratio: 1.5147881699913983\n",
      "=================================\n"
     ]
    },
    {
     "name": "stderr",
     "output_type": "stream",
     "text": [
      " 96%|█████████▌| 24/25 [12:48<00:32, 32.17s/it]"
     ]
    },
    {
     "name": "stdout",
     "output_type": "stream",
     "text": [
      "=================================\n",
      "Initial portfolio value: 100000\n",
      "Final portfolio value: 1188287.875\n",
      "Final accumulative portfolio return: 11.88287875\n",
      "Maximum DrawDown: -0.2803929895640178\n",
      "Sharpe ratio: 1.4956391761081977\n",
      "=================================\n"
     ]
    },
    {
     "name": "stderr",
     "output_type": "stream",
     "text": [
      "100%|██████████| 25/25 [13:20<00:00, 32.02s/it]\n",
      "C:\\Users\\xutia\\AppData\\Local\\Temp\\ipykernel_36848\\1259870935.py:43: FutureWarning: You are using `torch.load` with `weights_only=False` (the current default value), which uses the default pickle module implicitly. It is possible to construct malicious pickle data which will execute arbitrary code during unpickling (See https://github.com/pytorch/pytorch/blob/main/SECURITY.md#untrusted-models for more details). In a future release, the default value for `weights_only` will be flipped to `True`. This limits the functions that could be executed during unpickling. Arbitrary objects will no longer be allowed to be loaded via this mode unless they are explicitly allowlisted by the user via `torch.serialization.add_safe_globals`. We recommend you start setting `weights_only=True` for any use case where you don't have full control of the loaded file. Please open an issue on GitHub for any issues related to this experimental feature.\n",
      "  EIIE_policy.load_state_dict(torch.load(model_filename))\n"
     ]
    },
    {
     "name": "stdout",
     "output_type": "stream",
     "text": [
      "=================================\n",
      "Initial portfolio value: 100000\n",
      "Final portfolio value: 420084.3125\n",
      "Final accumulative portfolio return: 4.200843125\n",
      "Maximum DrawDown: -0.347250887602095\n",
      "Sharpe ratio: 0.9077442379997817\n",
      "=================================\n",
      "=================================\n",
      "Initial portfolio value: 100000\n",
      "Final portfolio value: 97444.84375\n",
      "Final accumulative portfolio return: 0.9744484375\n",
      "Maximum DrawDown: -0.33993009365217175\n",
      "Sharpe ratio: 0.09235807293268795\n",
      "=================================\n",
      "Training model with TIME_WINDOW=60, K_SIZE=3, CONV_MID=10, CONV_FINAL=5, LEARNING_RATE=0.02\n"
     ]
    },
    {
     "name": "stderr",
     "output_type": "stream",
     "text": [
      "  0%|          | 0/25 [00:00<?, ?it/s]"
     ]
    },
    {
     "name": "stdout",
     "output_type": "stream",
     "text": [
      "=================================\n",
      "Initial portfolio value: 100000\n",
      "Final portfolio value: 223797.0625\n",
      "Final accumulative portfolio return: 2.237970625\n",
      "Maximum DrawDown: -0.3262073991574701\n",
      "Sharpe ratio: 0.7688984903688327\n",
      "=================================\n"
     ]
    },
    {
     "name": "stderr",
     "output_type": "stream",
     "text": [
      "  4%|▍         | 1/25 [00:32<12:49, 32.08s/it]"
     ]
    },
    {
     "name": "stdout",
     "output_type": "stream",
     "text": [
      "=================================\n",
      "Initial portfolio value: 100000\n",
      "Final portfolio value: 229172.859375\n",
      "Final accumulative portfolio return: 2.29172859375\n",
      "Maximum DrawDown: -0.33658883734012746\n",
      "Sharpe ratio: 0.7700486110566465\n",
      "=================================\n"
     ]
    },
    {
     "name": "stderr",
     "output_type": "stream",
     "text": [
      "  8%|▊         | 2/25 [01:04<12:17, 32.08s/it]"
     ]
    },
    {
     "name": "stdout",
     "output_type": "stream",
     "text": [
      "=================================\n",
      "Initial portfolio value: 100000\n",
      "Final portfolio value: 230804.03125\n",
      "Final accumulative portfolio return: 2.3080403125\n",
      "Maximum DrawDown: -0.339013087578657\n",
      "Sharpe ratio: 0.7706481761085592\n",
      "=================================\n"
     ]
    },
    {
     "name": "stderr",
     "output_type": "stream",
     "text": [
      " 12%|█▏        | 3/25 [01:36<11:43, 31.99s/it]"
     ]
    },
    {
     "name": "stdout",
     "output_type": "stream",
     "text": [
      "=================================\n",
      "Initial portfolio value: 100000\n",
      "Final portfolio value: 231967.796875\n",
      "Final accumulative portfolio return: 2.31967796875\n",
      "Maximum DrawDown: -0.34091911457254576\n",
      "Sharpe ratio: 0.7707595287062117\n",
      "=================================\n"
     ]
    },
    {
     "name": "stderr",
     "output_type": "stream",
     "text": [
      " 16%|█▌        | 4/25 [02:07<11:10, 31.92s/it]"
     ]
    },
    {
     "name": "stdout",
     "output_type": "stream",
     "text": [
      "=================================\n",
      "Initial portfolio value: 100000\n",
      "Final portfolio value: 232911.84375\n",
      "Final accumulative portfolio return: 2.3291184375\n",
      "Maximum DrawDown: -0.3424484833415302\n",
      "Sharpe ratio: 0.7708787241438756\n",
      "=================================\n"
     ]
    },
    {
     "name": "stderr",
     "output_type": "stream",
     "text": [
      " 20%|██        | 5/25 [02:39<10:38, 31.91s/it]"
     ]
    },
    {
     "name": "stdout",
     "output_type": "stream",
     "text": [
      "=================================\n",
      "Initial portfolio value: 100000\n",
      "Final portfolio value: 233672.8125\n",
      "Final accumulative portfolio return: 2.336728125\n",
      "Maximum DrawDown: -0.34369167101878684\n",
      "Sharpe ratio: 0.7709469200824052\n",
      "=================================\n"
     ]
    },
    {
     "name": "stderr",
     "output_type": "stream",
     "text": [
      " 24%|██▍       | 6/25 [03:11<10:08, 32.01s/it]"
     ]
    },
    {
     "name": "stdout",
     "output_type": "stream",
     "text": [
      "=================================\n",
      "Initial portfolio value: 100000\n",
      "Final portfolio value: 234295.015625\n",
      "Final accumulative portfolio return: 2.34295015625\n",
      "Maximum DrawDown: -0.3447162979347762\n",
      "Sharpe ratio: 0.7709888608140024\n",
      "=================================\n"
     ]
    },
    {
     "name": "stderr",
     "output_type": "stream",
     "text": [
      " 28%|██▊       | 7/25 [03:43<09:35, 31.96s/it]"
     ]
    },
    {
     "name": "stdout",
     "output_type": "stream",
     "text": [
      "=================================\n",
      "Initial portfolio value: 100000\n",
      "Final portfolio value: 234820.53125\n",
      "Final accumulative portfolio return: 2.3482053125\n",
      "Maximum DrawDown: -0.34556622715428753\n",
      "Sharpe ratio: 0.771052863309294\n",
      "=================================\n"
     ]
    },
    {
     "name": "stderr",
     "output_type": "stream",
     "text": [
      " 32%|███▏      | 8/25 [04:15<09:04, 32.03s/it]"
     ]
    },
    {
     "name": "stdout",
     "output_type": "stream",
     "text": [
      "=================================\n",
      "Initial portfolio value: 100000\n",
      "Final portfolio value: 235256.109375\n",
      "Final accumulative portfolio return: 2.35256109375\n",
      "Maximum DrawDown: -0.34627623309734024\n",
      "Sharpe ratio: 0.7710896048845117\n",
      "=================================\n"
     ]
    },
    {
     "name": "stderr",
     "output_type": "stream",
     "text": [
      " 36%|███▌      | 9/25 [04:48<08:33, 32.11s/it]"
     ]
    },
    {
     "name": "stdout",
     "output_type": "stream",
     "text": [
      "=================================\n",
      "Initial portfolio value: 100000\n",
      "Final portfolio value: 235621.40625\n",
      "Final accumulative portfolio return: 2.3562140625\n",
      "Maximum DrawDown: -0.3468802333899853\n",
      "Sharpe ratio: 0.771108968059383\n",
      "=================================\n"
     ]
    },
    {
     "name": "stderr",
     "output_type": "stream",
     "text": [
      " 40%|████      | 10/25 [05:20<08:01, 32.11s/it]"
     ]
    },
    {
     "name": "stdout",
     "output_type": "stream",
     "text": [
      "=================================\n",
      "Initial portfolio value: 100000\n",
      "Final portfolio value: 235924.203125\n",
      "Final accumulative portfolio return: 2.35924203125\n",
      "Maximum DrawDown: -0.3473980352086269\n",
      "Sharpe ratio: 0.7710953450878453\n",
      "=================================\n"
     ]
    },
    {
     "name": "stderr",
     "output_type": "stream",
     "text": [
      " 44%|████▍     | 11/25 [05:53<07:32, 32.35s/it]"
     ]
    },
    {
     "name": "stdout",
     "output_type": "stream",
     "text": [
      "=================================\n",
      "Initial portfolio value: 100000\n",
      "Final portfolio value: 236198.265625\n",
      "Final accumulative portfolio return: 2.36198265625\n",
      "Maximum DrawDown: -0.3478409196332328\n",
      "Sharpe ratio: 0.7711242391705432\n",
      "=================================\n"
     ]
    },
    {
     "name": "stderr",
     "output_type": "stream",
     "text": [
      " 48%|████▊     | 12/25 [06:25<06:59, 32.25s/it]"
     ]
    },
    {
     "name": "stdout",
     "output_type": "stream",
     "text": [
      "=================================\n",
      "Initial portfolio value: 100000\n",
      "Final portfolio value: 236432.359375\n",
      "Final accumulative portfolio return: 2.36432359375\n",
      "Maximum DrawDown: -0.348228004276109\n",
      "Sharpe ratio: 0.7711394036230086\n",
      "=================================\n"
     ]
    },
    {
     "name": "stderr",
     "output_type": "stream",
     "text": [
      " 52%|█████▏    | 13/25 [06:57<06:25, 32.12s/it]"
     ]
    },
    {
     "name": "stdout",
     "output_type": "stream",
     "text": [
      "=================================\n",
      "Initial portfolio value: 100000\n",
      "Final portfolio value: 236633.046875\n",
      "Final accumulative portfolio return: 2.36633046875\n",
      "Maximum DrawDown: -0.34856626727000906\n",
      "Sharpe ratio: 0.7711384343297046\n",
      "=================================\n"
     ]
    },
    {
     "name": "stderr",
     "output_type": "stream",
     "text": [
      " 56%|█████▌    | 14/25 [07:29<05:52, 32.08s/it]"
     ]
    },
    {
     "name": "stdout",
     "output_type": "stream",
     "text": [
      "=================================\n",
      "Initial portfolio value: 100000\n",
      "Final portfolio value: 236826.390625\n",
      "Final accumulative portfolio return: 2.36826390625\n",
      "Maximum DrawDown: -0.3488605308070526\n",
      "Sharpe ratio: 0.7711955629263231\n",
      "=================================\n"
     ]
    },
    {
     "name": "stderr",
     "output_type": "stream",
     "text": [
      " 60%|██████    | 15/25 [08:01<05:20, 32.08s/it]"
     ]
    },
    {
     "name": "stdout",
     "output_type": "stream",
     "text": [
      "=================================\n",
      "Initial portfolio value: 100000\n",
      "Final portfolio value: 236976.09375\n",
      "Final accumulative portfolio return: 2.3697609375\n",
      "Maximum DrawDown: -0.34912442043725367\n",
      "Sharpe ratio: 0.7711743228718984\n",
      "=================================\n"
     ]
    },
    {
     "name": "stderr",
     "output_type": "stream",
     "text": [
      " 64%|██████▍   | 16/25 [08:33<04:49, 32.13s/it]"
     ]
    },
    {
     "name": "stdout",
     "output_type": "stream",
     "text": [
      "=================================\n",
      "Initial portfolio value: 100000\n",
      "Final portfolio value: 237117.59375\n",
      "Final accumulative portfolio return: 2.3711759375\n",
      "Maximum DrawDown: -0.3493546410962779\n",
      "Sharpe ratio: 0.77118484214652\n",
      "=================================\n"
     ]
    },
    {
     "name": "stderr",
     "output_type": "stream",
     "text": [
      " 68%|██████▊   | 17/25 [09:05<04:17, 32.15s/it]"
     ]
    },
    {
     "name": "stdout",
     "output_type": "stream",
     "text": [
      "=================================\n",
      "Initial portfolio value: 100000\n",
      "Final portfolio value: 237233.359375\n",
      "Final accumulative portfolio return: 2.37233359375\n",
      "Maximum DrawDown: -0.34956514980551845\n",
      "Sharpe ratio: 0.7711599607912317\n",
      "=================================\n"
     ]
    },
    {
     "name": "stderr",
     "output_type": "stream",
     "text": [
      " 72%|███████▏  | 18/25 [09:38<03:45, 32.26s/it]"
     ]
    },
    {
     "name": "stdout",
     "output_type": "stream",
     "text": [
      "=================================\n",
      "Initial portfolio value: 100000\n",
      "Final portfolio value: 237355.78125\n",
      "Final accumulative portfolio return: 2.3735578125\n",
      "Maximum DrawDown: -0.3497519615407204\n",
      "Sharpe ratio: 0.7711965443192771\n",
      "=================================\n"
     ]
    },
    {
     "name": "stderr",
     "output_type": "stream",
     "text": [
      " 76%|███████▌  | 19/25 [10:10<03:14, 32.34s/it]"
     ]
    },
    {
     "name": "stdout",
     "output_type": "stream",
     "text": [
      "=================================\n",
      "Initial portfolio value: 100000\n",
      "Final portfolio value: 237451.71875\n",
      "Final accumulative portfolio return: 2.3745171875\n",
      "Maximum DrawDown: -0.34992003866334986\n",
      "Sharpe ratio: 0.7711829230227016\n",
      "=================================\n"
     ]
    },
    {
     "name": "stderr",
     "output_type": "stream",
     "text": [
      " 80%|████████  | 20/25 [10:42<02:41, 32.32s/it]"
     ]
    },
    {
     "name": "stdout",
     "output_type": "stream",
     "text": [
      "=================================\n",
      "Initial portfolio value: 100000\n",
      "Final portfolio value: 237551.921875\n",
      "Final accumulative portfolio return: 2.37551921875\n",
      "Maximum DrawDown: -0.3500726653364178\n",
      "Sharpe ratio: 0.7712130050958407\n",
      "=================================\n"
     ]
    },
    {
     "name": "stderr",
     "output_type": "stream",
     "text": [
      " 84%|████████▍ | 21/25 [11:15<02:09, 32.39s/it]"
     ]
    },
    {
     "name": "stdout",
     "output_type": "stream",
     "text": [
      "=================================\n",
      "Initial portfolio value: 100000\n",
      "Final portfolio value: 237639.296875\n",
      "Final accumulative portfolio return: 2.37639296875\n",
      "Maximum DrawDown: -0.35020983907568537\n",
      "Sharpe ratio: 0.7712318908045077\n",
      "=================================\n"
     ]
    },
    {
     "name": "stderr",
     "output_type": "stream",
     "text": [
      " 88%|████████▊ | 22/25 [11:47<01:36, 32.31s/it]"
     ]
    },
    {
     "name": "stdout",
     "output_type": "stream",
     "text": [
      "=================================\n",
      "Initial portfolio value: 100000\n",
      "Final portfolio value: 237712.671875\n",
      "Final accumulative portfolio return: 2.37712671875\n",
      "Maximum DrawDown: -0.35033606539336226\n",
      "Sharpe ratio: 0.7712283473860808\n",
      "=================================\n"
     ]
    },
    {
     "name": "stderr",
     "output_type": "stream",
     "text": [
      " 92%|█████████▏| 23/25 [12:19<01:04, 32.25s/it]"
     ]
    },
    {
     "name": "stdout",
     "output_type": "stream",
     "text": [
      "=================================\n",
      "Initial portfolio value: 100000\n",
      "Final portfolio value: 237780.8125\n",
      "Final accumulative portfolio return: 2.377808125\n",
      "Maximum DrawDown: -0.3504501723476442\n",
      "Sharpe ratio: 0.7712275405905413\n",
      "=================================\n"
     ]
    },
    {
     "name": "stderr",
     "output_type": "stream",
     "text": [
      " 96%|█████████▌| 24/25 [12:51<00:32, 32.12s/it]"
     ]
    },
    {
     "name": "stdout",
     "output_type": "stream",
     "text": [
      "=================================\n",
      "Initial portfolio value: 100000\n",
      "Final portfolio value: 237844.828125\n",
      "Final accumulative portfolio return: 2.37844828125\n",
      "Maximum DrawDown: -0.3505552617321581\n",
      "Sharpe ratio: 0.7712336040848431\n",
      "=================================\n"
     ]
    },
    {
     "name": "stderr",
     "output_type": "stream",
     "text": [
      "100%|██████████| 25/25 [13:24<00:00, 32.16s/it]\n",
      "C:\\Users\\xutia\\AppData\\Local\\Temp\\ipykernel_36848\\1259870935.py:43: FutureWarning: You are using `torch.load` with `weights_only=False` (the current default value), which uses the default pickle module implicitly. It is possible to construct malicious pickle data which will execute arbitrary code during unpickling (See https://github.com/pytorch/pytorch/blob/main/SECURITY.md#untrusted-models for more details). In a future release, the default value for `weights_only` will be flipped to `True`. This limits the functions that could be executed during unpickling. Arbitrary objects will no longer be allowed to be loaded via this mode unless they are explicitly allowlisted by the user via `torch.serialization.add_safe_globals`. We recommend you start setting `weights_only=True` for any use case where you don't have full control of the loaded file. Please open an issue on GitHub for any issues related to this experimental feature.\n",
      "  EIIE_policy.load_state_dict(torch.load(model_filename))\n"
     ]
    },
    {
     "name": "stdout",
     "output_type": "stream",
     "text": [
      "=================================\n",
      "Initial portfolio value: 100000\n",
      "Final portfolio value: 238058.203125\n",
      "Final accumulative portfolio return: 2.38058203125\n",
      "Maximum DrawDown: -0.3512242643471448\n",
      "Sharpe ratio: 0.7709289242447074\n",
      "=================================\n",
      "=================================\n",
      "Initial portfolio value: 100000\n",
      "Final portfolio value: 126201.375\n",
      "Final accumulative portfolio return: 1.26201375\n",
      "Maximum DrawDown: -0.15860547793887203\n",
      "Sharpe ratio: 0.840477041546174\n",
      "=================================\n",
      "Training model with TIME_WINDOW=60, K_SIZE=3, CONV_MID=10, CONV_FINAL=10, LEARNING_RATE=0.02\n"
     ]
    },
    {
     "name": "stderr",
     "output_type": "stream",
     "text": [
      "  0%|          | 0/25 [00:00<?, ?it/s]"
     ]
    },
    {
     "name": "stdout",
     "output_type": "stream",
     "text": [
      "=================================\n",
      "Initial portfolio value: 100000\n",
      "Final portfolio value: 302014.6875\n",
      "Final accumulative portfolio return: 3.020146875\n",
      "Maximum DrawDown: -0.32621963823217726\n",
      "Sharpe ratio: 0.8714315661998228\n",
      "=================================\n"
     ]
    },
    {
     "name": "stderr",
     "output_type": "stream",
     "text": [
      "  4%|▍         | 1/25 [00:32<13:04, 32.68s/it]"
     ]
    },
    {
     "name": "stdout",
     "output_type": "stream",
     "text": [
      "=================================\n",
      "Initial portfolio value: 100000\n",
      "Final portfolio value: 478681.5\n",
      "Final accumulative portfolio return: 4.786815\n",
      "Maximum DrawDown: -0.34623471387824134\n",
      "Sharpe ratio: 1.0425922197546607\n",
      "=================================\n"
     ]
    },
    {
     "name": "stderr",
     "output_type": "stream",
     "text": [
      "  8%|▊         | 2/25 [01:04<12:24, 32.39s/it]"
     ]
    },
    {
     "name": "stdout",
     "output_type": "stream",
     "text": [
      "=================================\n",
      "Initial portfolio value: 100000\n",
      "Final portfolio value: 711614.0\n",
      "Final accumulative portfolio return: 7.11614\n",
      "Maximum DrawDown: -0.3851519058744244\n",
      "Sharpe ratio: 1.1683891910214605\n",
      "=================================\n"
     ]
    },
    {
     "name": "stderr",
     "output_type": "stream",
     "text": [
      " 12%|█▏        | 3/25 [01:36<11:49, 32.23s/it]"
     ]
    },
    {
     "name": "stdout",
     "output_type": "stream",
     "text": [
      "=================================\n",
      "Initial portfolio value: 100000\n",
      "Final portfolio value: 843054.3125\n",
      "Final accumulative portfolio return: 8.430543125\n",
      "Maximum DrawDown: -0.38515657742959175\n",
      "Sharpe ratio: 1.2603280338611151\n",
      "=================================\n"
     ]
    },
    {
     "name": "stderr",
     "output_type": "stream",
     "text": [
      " 16%|█▌        | 4/25 [02:08<11:15, 32.17s/it]"
     ]
    },
    {
     "name": "stdout",
     "output_type": "stream",
     "text": [
      "=================================\n",
      "Initial portfolio value: 100000\n",
      "Final portfolio value: 871452.25\n",
      "Final accumulative portfolio return: 8.7145225\n",
      "Maximum DrawDown: -0.3848221771034027\n",
      "Sharpe ratio: 1.2978561134920792\n",
      "=================================\n"
     ]
    },
    {
     "name": "stderr",
     "output_type": "stream",
     "text": [
      " 20%|██        | 5/25 [02:41<10:44, 32.23s/it]"
     ]
    },
    {
     "name": "stdout",
     "output_type": "stream",
     "text": [
      "=================================\n",
      "Initial portfolio value: 100000\n",
      "Final portfolio value: 911323.4375\n",
      "Final accumulative portfolio return: 9.113234375\n",
      "Maximum DrawDown: -0.3849677687503037\n",
      "Sharpe ratio: 1.3156601392730387\n",
      "=================================\n"
     ]
    },
    {
     "name": "stderr",
     "output_type": "stream",
     "text": [
      " 24%|██▍       | 6/25 [03:13<10:12, 32.22s/it]"
     ]
    },
    {
     "name": "stdout",
     "output_type": "stream",
     "text": [
      "=================================\n",
      "Initial portfolio value: 100000\n",
      "Final portfolio value: 1015847.5\n",
      "Final accumulative portfolio return: 10.158475\n",
      "Maximum DrawDown: -0.38515244520141334\n",
      "Sharpe ratio: 1.3696548611559156\n",
      "=================================\n"
     ]
    },
    {
     "name": "stderr",
     "output_type": "stream",
     "text": [
      " 28%|██▊       | 7/25 [03:46<09:41, 32.33s/it]"
     ]
    },
    {
     "name": "stdout",
     "output_type": "stream",
     "text": [
      "=================================\n",
      "Initial portfolio value: 100000\n",
      "Final portfolio value: 1037406.625\n",
      "Final accumulative portfolio return: 10.37406625\n",
      "Maximum DrawDown: -0.3851582269003119\n",
      "Sharpe ratio: 1.3690023822920578\n",
      "=================================\n"
     ]
    },
    {
     "name": "stderr",
     "output_type": "stream",
     "text": [
      " 32%|███▏      | 8/25 [04:18<09:09, 32.33s/it]"
     ]
    },
    {
     "name": "stdout",
     "output_type": "stream",
     "text": [
      "=================================\n",
      "Initial portfolio value: 100000\n",
      "Final portfolio value: 655065.1875\n",
      "Final accumulative portfolio return: 6.550651875\n",
      "Maximum DrawDown: -0.43892514894989576\n",
      "Sharpe ratio: 1.1197570610709076\n",
      "=================================\n"
     ]
    },
    {
     "name": "stderr",
     "output_type": "stream",
     "text": [
      " 36%|███▌      | 9/25 [04:52<08:43, 32.75s/it]"
     ]
    },
    {
     "name": "stdout",
     "output_type": "stream",
     "text": [
      "=================================\n",
      "Initial portfolio value: 100000\n",
      "Final portfolio value: 1020590.8125\n",
      "Final accumulative portfolio return: 10.205908125\n",
      "Maximum DrawDown: -0.2803930433555055\n",
      "Sharpe ratio: 1.4338379790166784\n",
      "=================================\n"
     ]
    },
    {
     "name": "stderr",
     "output_type": "stream",
     "text": [
      " 40%|████      | 10/25 [05:24<08:10, 32.72s/it]"
     ]
    },
    {
     "name": "stdout",
     "output_type": "stream",
     "text": [
      "=================================\n",
      "Initial portfolio value: 100000\n",
      "Final portfolio value: 207406.703125\n",
      "Final accumulative portfolio return: 2.07406703125\n",
      "Maximum DrawDown: -0.16575080161076539\n",
      "Sharpe ratio: 0.817368598496489\n",
      "=================================\n"
     ]
    },
    {
     "name": "stderr",
     "output_type": "stream",
     "text": [
      " 44%|████▍     | 11/25 [05:58<07:41, 32.98s/it]"
     ]
    },
    {
     "name": "stdout",
     "output_type": "stream",
     "text": [
      "=================================\n",
      "Initial portfolio value: 100000\n",
      "Final portfolio value: 100000.0\n",
      "Final accumulative portfolio return: 1.0\n",
      "Maximum DrawDown: 0.0\n",
      "Sharpe ratio: nan\n",
      "=================================\n"
     ]
    },
    {
     "name": "stderr",
     "output_type": "stream",
     "text": [
      "C:\\Users\\xutia\\AppData\\Roaming\\Python\\Python310\\site-packages\\quantstats\\stats.py:294: RuntimeWarning: invalid value encountered in scalar divide\n",
      "  res = returns.mean() / divisor\n",
      " 48%|████▊     | 12/25 [06:31<07:08, 33.00s/it]"
     ]
    },
    {
     "name": "stdout",
     "output_type": "stream",
     "text": [
      "=================================\n",
      "Initial portfolio value: 100000\n",
      "Final portfolio value: 100000.0\n",
      "Final accumulative portfolio return: 1.0\n",
      "Maximum DrawDown: 0.0\n",
      "Sharpe ratio: nan\n",
      "=================================\n"
     ]
    },
    {
     "name": "stderr",
     "output_type": "stream",
     "text": [
      "C:\\Users\\xutia\\AppData\\Roaming\\Python\\Python310\\site-packages\\quantstats\\stats.py:294: RuntimeWarning: invalid value encountered in scalar divide\n",
      "  res = returns.mean() / divisor\n",
      " 52%|█████▏    | 13/25 [07:04<06:35, 32.95s/it]"
     ]
    },
    {
     "name": "stdout",
     "output_type": "stream",
     "text": [
      "=================================\n",
      "Initial portfolio value: 100000\n",
      "Final portfolio value: 100000.0\n",
      "Final accumulative portfolio return: 1.0\n",
      "Maximum DrawDown: 0.0\n",
      "Sharpe ratio: nan\n",
      "=================================\n"
     ]
    },
    {
     "name": "stderr",
     "output_type": "stream",
     "text": [
      "C:\\Users\\xutia\\AppData\\Roaming\\Python\\Python310\\site-packages\\quantstats\\stats.py:294: RuntimeWarning: invalid value encountered in scalar divide\n",
      "  res = returns.mean() / divisor\n",
      " 56%|█████▌    | 14/25 [07:36<06:01, 32.86s/it]"
     ]
    },
    {
     "name": "stdout",
     "output_type": "stream",
     "text": [
      "=================================\n",
      "Initial portfolio value: 100000\n",
      "Final portfolio value: 100000.0\n",
      "Final accumulative portfolio return: 1.0\n",
      "Maximum DrawDown: 0.0\n",
      "Sharpe ratio: nan\n",
      "=================================\n"
     ]
    },
    {
     "name": "stderr",
     "output_type": "stream",
     "text": [
      "C:\\Users\\xutia\\AppData\\Roaming\\Python\\Python310\\site-packages\\quantstats\\stats.py:294: RuntimeWarning: invalid value encountered in scalar divide\n",
      "  res = returns.mean() / divisor\n",
      " 60%|██████    | 15/25 [08:09<05:28, 32.82s/it]"
     ]
    },
    {
     "name": "stdout",
     "output_type": "stream",
     "text": [
      "=================================\n",
      "Initial portfolio value: 100000\n",
      "Final portfolio value: 100000.0\n",
      "Final accumulative portfolio return: 1.0\n",
      "Maximum DrawDown: 0.0\n",
      "Sharpe ratio: nan\n",
      "=================================\n"
     ]
    },
    {
     "name": "stderr",
     "output_type": "stream",
     "text": [
      "C:\\Users\\xutia\\AppData\\Roaming\\Python\\Python310\\site-packages\\quantstats\\stats.py:294: RuntimeWarning: invalid value encountered in scalar divide\n",
      "  res = returns.mean() / divisor\n",
      " 64%|██████▍   | 16/25 [08:42<04:55, 32.85s/it]"
     ]
    },
    {
     "name": "stdout",
     "output_type": "stream",
     "text": [
      "=================================\n",
      "Initial portfolio value: 100000\n",
      "Final portfolio value: 100000.0\n",
      "Final accumulative portfolio return: 1.0\n",
      "Maximum DrawDown: 0.0\n",
      "Sharpe ratio: nan\n",
      "=================================\n"
     ]
    },
    {
     "name": "stderr",
     "output_type": "stream",
     "text": [
      "C:\\Users\\xutia\\AppData\\Roaming\\Python\\Python310\\site-packages\\quantstats\\stats.py:294: RuntimeWarning: invalid value encountered in scalar divide\n",
      "  res = returns.mean() / divisor\n",
      " 68%|██████▊   | 17/25 [09:16<04:26, 33.33s/it]"
     ]
    },
    {
     "name": "stdout",
     "output_type": "stream",
     "text": [
      "=================================\n",
      "Initial portfolio value: 100000\n",
      "Final portfolio value: 100000.0\n",
      "Final accumulative portfolio return: 1.0\n",
      "Maximum DrawDown: 0.0\n",
      "Sharpe ratio: nan\n",
      "=================================\n"
     ]
    },
    {
     "name": "stderr",
     "output_type": "stream",
     "text": [
      "C:\\Users\\xutia\\AppData\\Roaming\\Python\\Python310\\site-packages\\quantstats\\stats.py:294: RuntimeWarning: invalid value encountered in scalar divide\n",
      "  res = returns.mean() / divisor\n",
      " 72%|███████▏  | 18/25 [09:49<03:51, 33.01s/it]"
     ]
    },
    {
     "name": "stdout",
     "output_type": "stream",
     "text": [
      "=================================\n",
      "Initial portfolio value: 100000\n",
      "Final portfolio value: 100000.0\n",
      "Final accumulative portfolio return: 1.0\n",
      "Maximum DrawDown: 0.0\n",
      "Sharpe ratio: nan\n",
      "=================================\n"
     ]
    },
    {
     "name": "stderr",
     "output_type": "stream",
     "text": [
      "C:\\Users\\xutia\\AppData\\Roaming\\Python\\Python310\\site-packages\\quantstats\\stats.py:294: RuntimeWarning: invalid value encountered in scalar divide\n",
      "  res = returns.mean() / divisor\n",
      " 76%|███████▌  | 19/25 [10:21<03:17, 32.90s/it]"
     ]
    },
    {
     "name": "stdout",
     "output_type": "stream",
     "text": [
      "=================================\n",
      "Initial portfolio value: 100000\n",
      "Final portfolio value: 100000.0\n",
      "Final accumulative portfolio return: 1.0\n",
      "Maximum DrawDown: 0.0\n",
      "Sharpe ratio: nan\n",
      "=================================\n"
     ]
    },
    {
     "name": "stderr",
     "output_type": "stream",
     "text": [
      "C:\\Users\\xutia\\AppData\\Roaming\\Python\\Python310\\site-packages\\quantstats\\stats.py:294: RuntimeWarning: invalid value encountered in scalar divide\n",
      "  res = returns.mean() / divisor\n",
      " 80%|████████  | 20/25 [10:54<02:43, 32.76s/it]"
     ]
    },
    {
     "name": "stdout",
     "output_type": "stream",
     "text": [
      "=================================\n",
      "Initial portfolio value: 100000\n",
      "Final portfolio value: 100000.0\n",
      "Final accumulative portfolio return: 1.0\n",
      "Maximum DrawDown: 0.0\n",
      "Sharpe ratio: nan\n",
      "=================================\n"
     ]
    },
    {
     "name": "stderr",
     "output_type": "stream",
     "text": [
      "C:\\Users\\xutia\\AppData\\Roaming\\Python\\Python310\\site-packages\\quantstats\\stats.py:294: RuntimeWarning: invalid value encountered in scalar divide\n",
      "  res = returns.mean() / divisor\n",
      " 84%|████████▍ | 21/25 [11:26<02:10, 32.61s/it]"
     ]
    },
    {
     "name": "stdout",
     "output_type": "stream",
     "text": [
      "=================================\n",
      "Initial portfolio value: 100000\n",
      "Final portfolio value: 100000.0\n",
      "Final accumulative portfolio return: 1.0\n",
      "Maximum DrawDown: 0.0\n",
      "Sharpe ratio: nan\n",
      "=================================\n"
     ]
    },
    {
     "name": "stderr",
     "output_type": "stream",
     "text": [
      "C:\\Users\\xutia\\AppData\\Roaming\\Python\\Python310\\site-packages\\quantstats\\stats.py:294: RuntimeWarning: invalid value encountered in scalar divide\n",
      "  res = returns.mean() / divisor\n",
      " 88%|████████▊ | 22/25 [11:58<01:37, 32.41s/it]"
     ]
    },
    {
     "name": "stdout",
     "output_type": "stream",
     "text": [
      "=================================\n",
      "Initial portfolio value: 100000\n",
      "Final portfolio value: 100000.0\n",
      "Final accumulative portfolio return: 1.0\n",
      "Maximum DrawDown: 0.0\n",
      "Sharpe ratio: nan\n",
      "=================================\n"
     ]
    },
    {
     "name": "stderr",
     "output_type": "stream",
     "text": [
      "C:\\Users\\xutia\\AppData\\Roaming\\Python\\Python310\\site-packages\\quantstats\\stats.py:294: RuntimeWarning: invalid value encountered in scalar divide\n",
      "  res = returns.mean() / divisor\n",
      " 92%|█████████▏| 23/25 [12:30<01:04, 32.41s/it]"
     ]
    },
    {
     "name": "stdout",
     "output_type": "stream",
     "text": [
      "=================================\n",
      "Initial portfolio value: 100000\n",
      "Final portfolio value: 100000.0\n",
      "Final accumulative portfolio return: 1.0\n",
      "Maximum DrawDown: 0.0\n",
      "Sharpe ratio: nan\n",
      "=================================\n"
     ]
    },
    {
     "name": "stderr",
     "output_type": "stream",
     "text": [
      "C:\\Users\\xutia\\AppData\\Roaming\\Python\\Python310\\site-packages\\quantstats\\stats.py:294: RuntimeWarning: invalid value encountered in scalar divide\n",
      "  res = returns.mean() / divisor\n",
      " 96%|█████████▌| 24/25 [13:02<00:32, 32.28s/it]"
     ]
    },
    {
     "name": "stdout",
     "output_type": "stream",
     "text": [
      "=================================\n",
      "Initial portfolio value: 100000\n",
      "Final portfolio value: 100000.0\n",
      "Final accumulative portfolio return: 1.0\n",
      "Maximum DrawDown: 0.0\n",
      "Sharpe ratio: nan\n",
      "=================================\n"
     ]
    },
    {
     "name": "stderr",
     "output_type": "stream",
     "text": [
      "C:\\Users\\xutia\\AppData\\Roaming\\Python\\Python310\\site-packages\\quantstats\\stats.py:294: RuntimeWarning: invalid value encountered in scalar divide\n",
      "  res = returns.mean() / divisor\n",
      "100%|██████████| 25/25 [13:35<00:00, 32.61s/it]\n",
      "C:\\Users\\xutia\\AppData\\Local\\Temp\\ipykernel_36848\\1259870935.py:43: FutureWarning: You are using `torch.load` with `weights_only=False` (the current default value), which uses the default pickle module implicitly. It is possible to construct malicious pickle data which will execute arbitrary code during unpickling (See https://github.com/pytorch/pytorch/blob/main/SECURITY.md#untrusted-models for more details). In a future release, the default value for `weights_only` will be flipped to `True`. This limits the functions that could be executed during unpickling. Arbitrary objects will no longer be allowed to be loaded via this mode unless they are explicitly allowlisted by the user via `torch.serialization.add_safe_globals`. We recommend you start setting `weights_only=True` for any use case where you don't have full control of the loaded file. Please open an issue on GitHub for any issues related to this experimental feature.\n",
      "  EIIE_policy.load_state_dict(torch.load(model_filename))\n"
     ]
    },
    {
     "name": "stdout",
     "output_type": "stream",
     "text": [
      "=================================\n",
      "Initial portfolio value: 100000\n",
      "Final portfolio value: 100000.0\n",
      "Final accumulative portfolio return: 1.0\n",
      "Maximum DrawDown: 0.0\n",
      "Sharpe ratio: nan\n",
      "=================================\n"
     ]
    },
    {
     "name": "stderr",
     "output_type": "stream",
     "text": [
      "C:\\Users\\xutia\\AppData\\Roaming\\Python\\Python310\\site-packages\\quantstats\\stats.py:294: RuntimeWarning: invalid value encountered in scalar divide\n",
      "  res = returns.mean() / divisor\n",
      "C:\\Users\\xutia\\AppData\\Local\\Temp\\ipykernel_36848\\4156095020.py:71: RuntimeWarning: invalid value encountered in scalar divide\n",
      "  sharpe_ratio = np.mean(excess_returns) / np.std(excess_returns)\n"
     ]
    },
    {
     "name": "stdout",
     "output_type": "stream",
     "text": [
      "=================================\n",
      "Initial portfolio value: 100000\n",
      "Final portfolio value: 100000.0\n",
      "Final accumulative portfolio return: 1.0\n",
      "Maximum DrawDown: 0.0\n",
      "Sharpe ratio: nan\n",
      "=================================\n"
     ]
    },
    {
     "name": "stderr",
     "output_type": "stream",
     "text": [
      "C:\\Users\\xutia\\AppData\\Roaming\\Python\\Python310\\site-packages\\quantstats\\stats.py:294: RuntimeWarning: invalid value encountered in scalar divide\n",
      "  res = returns.mean() / divisor\n",
      "C:\\Users\\xutia\\AppData\\Local\\Temp\\ipykernel_36848\\4156095020.py:71: RuntimeWarning: invalid value encountered in scalar divide\n",
      "  sharpe_ratio = np.mean(excess_returns) / np.std(excess_returns)\n"
     ]
    },
    {
     "name": "stdout",
     "output_type": "stream",
     "text": [
      "Training model with TIME_WINDOW=60, K_SIZE=3, CONV_MID=10, CONV_FINAL=20, LEARNING_RATE=0.02\n"
     ]
    },
    {
     "name": "stderr",
     "output_type": "stream",
     "text": [
      "  0%|          | 0/25 [00:00<?, ?it/s]"
     ]
    },
    {
     "name": "stdout",
     "output_type": "stream",
     "text": [
      "=================================\n",
      "Initial portfolio value: 100000\n",
      "Final portfolio value: 278570.78125\n",
      "Final accumulative portfolio return: 2.7857078125\n",
      "Maximum DrawDown: -0.3066536874240555\n",
      "Sharpe ratio: 0.8894132597243675\n",
      "=================================\n"
     ]
    },
    {
     "name": "stderr",
     "output_type": "stream",
     "text": [
      "  4%|▍         | 1/25 [00:32<12:58, 32.44s/it]"
     ]
    },
    {
     "name": "stdout",
     "output_type": "stream",
     "text": [
      "=================================\n",
      "Initial portfolio value: 100000\n",
      "Final portfolio value: 508072.59375\n",
      "Final accumulative portfolio return: 5.0807259375\n",
      "Maximum DrawDown: -0.2793165735324431\n",
      "Sharpe ratio: 1.2263232900420185\n",
      "=================================\n"
     ]
    },
    {
     "name": "stderr",
     "output_type": "stream",
     "text": [
      "  8%|▊         | 2/25 [01:05<12:30, 32.64s/it]"
     ]
    },
    {
     "name": "stdout",
     "output_type": "stream",
     "text": [
      "=================================\n",
      "Initial portfolio value: 100000\n",
      "Final portfolio value: 458649.875\n",
      "Final accumulative portfolio return: 4.58649875\n",
      "Maximum DrawDown: -0.3146587453750749\n",
      "Sharpe ratio: 1.0256578284031133\n",
      "=================================\n"
     ]
    },
    {
     "name": "stderr",
     "output_type": "stream",
     "text": [
      " 12%|█▏        | 3/25 [01:38<12:01, 32.80s/it]"
     ]
    },
    {
     "name": "stdout",
     "output_type": "stream",
     "text": [
      "=================================\n",
      "Initial portfolio value: 100000\n",
      "Final portfolio value: 760245.5625\n",
      "Final accumulative portfolio return: 7.602455625\n",
      "Maximum DrawDown: -0.2771769789126176\n",
      "Sharpe ratio: 1.38103633318087\n",
      "=================================\n"
     ]
    },
    {
     "name": "stderr",
     "output_type": "stream",
     "text": [
      " 16%|█▌        | 4/25 [02:10<11:24, 32.58s/it]"
     ]
    },
    {
     "name": "stdout",
     "output_type": "stream",
     "text": [
      "=================================\n",
      "Initial portfolio value: 100000\n",
      "Final portfolio value: 565298.3125\n",
      "Final accumulative portfolio return: 5.652983125\n",
      "Maximum DrawDown: -0.3892269828730587\n",
      "Sharpe ratio: 1.1480080667325374\n",
      "=================================\n"
     ]
    },
    {
     "name": "stderr",
     "output_type": "stream",
     "text": [
      " 20%|██        | 5/25 [02:42<10:48, 32.41s/it]"
     ]
    },
    {
     "name": "stdout",
     "output_type": "stream",
     "text": [
      "=================================\n",
      "Initial portfolio value: 100000\n",
      "Final portfolio value: 937002.0\n",
      "Final accumulative portfolio return: 9.37002\n",
      "Maximum DrawDown: -0.3132583997236881\n",
      "Sharpe ratio: 1.4275158938690444\n",
      "=================================\n"
     ]
    },
    {
     "name": "stderr",
     "output_type": "stream",
     "text": [
      " 24%|██▍       | 6/25 [03:15<10:16, 32.44s/it]"
     ]
    },
    {
     "name": "stdout",
     "output_type": "stream",
     "text": [
      "=================================\n",
      "Initial portfolio value: 100000\n",
      "Final portfolio value: 1103717.625\n",
      "Final accumulative portfolio return: 11.03717625\n",
      "Maximum DrawDown: -0.2730680028147189\n",
      "Sharpe ratio: 1.5185822649886735\n",
      "=================================\n"
     ]
    },
    {
     "name": "stderr",
     "output_type": "stream",
     "text": [
      " 28%|██▊       | 7/25 [03:47<09:42, 32.36s/it]"
     ]
    },
    {
     "name": "stdout",
     "output_type": "stream",
     "text": [
      "=================================\n",
      "Initial portfolio value: 100000\n",
      "Final portfolio value: 1117114.875\n",
      "Final accumulative portfolio return: 11.17114875\n",
      "Maximum DrawDown: -0.2813266685910799\n",
      "Sharpe ratio: 1.5459635275494594\n",
      "=================================\n"
     ]
    },
    {
     "name": "stderr",
     "output_type": "stream",
     "text": [
      " 32%|███▏      | 8/25 [04:19<09:08, 32.28s/it]"
     ]
    },
    {
     "name": "stdout",
     "output_type": "stream",
     "text": [
      "=================================\n",
      "Initial portfolio value: 100000\n",
      "Final portfolio value: 1479974.75\n",
      "Final accumulative portfolio return: 14.7997475\n",
      "Maximum DrawDown: -0.2744916543758342\n",
      "Sharpe ratio: 1.6836085980266695\n",
      "=================================\n"
     ]
    },
    {
     "name": "stderr",
     "output_type": "stream",
     "text": [
      " 36%|███▌      | 9/25 [04:51<08:37, 32.32s/it]"
     ]
    },
    {
     "name": "stdout",
     "output_type": "stream",
     "text": [
      "=================================\n",
      "Initial portfolio value: 100000\n",
      "Final portfolio value: 1207455.5\n",
      "Final accumulative portfolio return: 12.074555\n",
      "Maximum DrawDown: -0.27790503704984226\n",
      "Sharpe ratio: 1.561894775666457\n",
      "=================================\n"
     ]
    },
    {
     "name": "stderr",
     "output_type": "stream",
     "text": [
      " 40%|████      | 10/25 [05:24<08:04, 32.33s/it]"
     ]
    },
    {
     "name": "stdout",
     "output_type": "stream",
     "text": [
      "=================================\n",
      "Initial portfolio value: 100000\n",
      "Final portfolio value: 1706502.5\n",
      "Final accumulative portfolio return: 17.065025\n",
      "Maximum DrawDown: -0.26644646187659304\n",
      "Sharpe ratio: 1.7683296401437945\n",
      "=================================\n"
     ]
    },
    {
     "name": "stderr",
     "output_type": "stream",
     "text": [
      " 44%|████▍     | 11/25 [05:56<07:32, 32.36s/it]"
     ]
    },
    {
     "name": "stdout",
     "output_type": "stream",
     "text": [
      "=================================\n",
      "Initial portfolio value: 100000\n",
      "Final portfolio value: 642448.5625\n",
      "Final accumulative portfolio return: 6.424485625\n",
      "Maximum DrawDown: -0.37203098849574645\n",
      "Sharpe ratio: 1.123308660422978\n",
      "=================================\n"
     ]
    },
    {
     "name": "stderr",
     "output_type": "stream",
     "text": [
      " 48%|████▊     | 12/25 [06:28<06:59, 32.30s/it]"
     ]
    },
    {
     "name": "stdout",
     "output_type": "stream",
     "text": [
      "=================================\n",
      "Initial portfolio value: 100000\n",
      "Final portfolio value: 1387135.0\n",
      "Final accumulative portfolio return: 13.87135\n",
      "Maximum DrawDown: -0.265778583306459\n",
      "Sharpe ratio: 1.6008181376149546\n",
      "=================================\n"
     ]
    },
    {
     "name": "stderr",
     "output_type": "stream",
     "text": [
      " 52%|█████▏    | 13/25 [07:01<06:27, 32.33s/it]"
     ]
    },
    {
     "name": "stdout",
     "output_type": "stream",
     "text": [
      "=================================\n",
      "Initial portfolio value: 100000\n",
      "Final portfolio value: 1139647.125\n",
      "Final accumulative portfolio return: 11.39647125\n",
      "Maximum DrawDown: -0.2803478147703561\n",
      "Sharpe ratio: 1.5067788172971326\n",
      "=================================\n"
     ]
    },
    {
     "name": "stderr",
     "output_type": "stream",
     "text": [
      " 56%|█████▌    | 14/25 [07:33<05:57, 32.48s/it]"
     ]
    },
    {
     "name": "stdout",
     "output_type": "stream",
     "text": [
      "=================================\n",
      "Initial portfolio value: 100000\n",
      "Final portfolio value: 1110421.375\n",
      "Final accumulative portfolio return: 11.10421375\n",
      "Maximum DrawDown: -0.2802083707245262\n",
      "Sharpe ratio: 1.5009990684121186\n",
      "=================================\n"
     ]
    },
    {
     "name": "stderr",
     "output_type": "stream",
     "text": [
      " 60%|██████    | 15/25 [08:06<05:23, 32.39s/it]"
     ]
    },
    {
     "name": "stdout",
     "output_type": "stream",
     "text": [
      "=================================\n",
      "Initial portfolio value: 100000\n",
      "Final portfolio value: 1332711.125\n",
      "Final accumulative portfolio return: 13.32711125\n",
      "Maximum DrawDown: -0.28030969704818\n",
      "Sharpe ratio: 1.595909437193101\n",
      "=================================\n"
     ]
    },
    {
     "name": "stderr",
     "output_type": "stream",
     "text": [
      " 64%|██████▍   | 16/25 [08:38<04:52, 32.48s/it]"
     ]
    },
    {
     "name": "stdout",
     "output_type": "stream",
     "text": [
      "=================================\n",
      "Initial portfolio value: 100000\n",
      "Final portfolio value: 1290150.0\n",
      "Final accumulative portfolio return: 12.9015\n",
      "Maximum DrawDown: -0.280306004521509\n",
      "Sharpe ratio: 1.5834075653365374\n",
      "=================================\n"
     ]
    },
    {
     "name": "stderr",
     "output_type": "stream",
     "text": [
      " 68%|██████▊   | 17/25 [09:10<04:18, 32.37s/it]"
     ]
    },
    {
     "name": "stdout",
     "output_type": "stream",
     "text": [
      "=================================\n",
      "Initial portfolio value: 100000\n",
      "Final portfolio value: 1339494.625\n",
      "Final accumulative portfolio return: 13.39494625\n",
      "Maximum DrawDown: -0.2700099499414389\n",
      "Sharpe ratio: 1.6071872905600253\n",
      "=================================\n"
     ]
    },
    {
     "name": "stderr",
     "output_type": "stream",
     "text": [
      " 72%|███████▏  | 18/25 [09:44<03:49, 32.79s/it]"
     ]
    },
    {
     "name": "stdout",
     "output_type": "stream",
     "text": [
      "=================================\n",
      "Initial portfolio value: 100000\n",
      "Final portfolio value: 1459532.25\n",
      "Final accumulative portfolio return: 14.5953225\n",
      "Maximum DrawDown: -0.27810034966588193\n",
      "Sharpe ratio: 1.6406175516120114\n",
      "=================================\n"
     ]
    },
    {
     "name": "stderr",
     "output_type": "stream",
     "text": [
      " 76%|███████▌  | 19/25 [10:17<03:16, 32.76s/it]"
     ]
    },
    {
     "name": "stdout",
     "output_type": "stream",
     "text": [
      "=================================\n",
      "Initial portfolio value: 100000\n",
      "Final portfolio value: 1084316.875\n",
      "Final accumulative portfolio return: 10.84316875\n",
      "Maximum DrawDown: -0.2673767524029338\n",
      "Sharpe ratio: 1.4846043557324478\n",
      "=================================\n"
     ]
    },
    {
     "name": "stderr",
     "output_type": "stream",
     "text": [
      " 80%|████████  | 20/25 [10:49<02:43, 32.71s/it]"
     ]
    },
    {
     "name": "stdout",
     "output_type": "stream",
     "text": [
      "=================================\n",
      "Initial portfolio value: 100000\n",
      "Final portfolio value: 1128767.25\n",
      "Final accumulative portfolio return: 11.2876725\n",
      "Maximum DrawDown: -0.24959151576795924\n",
      "Sharpe ratio: 1.5226649741467801\n",
      "=================================\n"
     ]
    },
    {
     "name": "stderr",
     "output_type": "stream",
     "text": [
      " 84%|████████▍ | 21/25 [11:22<02:11, 32.75s/it]"
     ]
    },
    {
     "name": "stdout",
     "output_type": "stream",
     "text": [
      "=================================\n",
      "Initial portfolio value: 100000\n",
      "Final portfolio value: 1267935.875\n",
      "Final accumulative portfolio return: 12.67935875\n",
      "Maximum DrawDown: -0.2605039176126218\n",
      "Sharpe ratio: 1.5905730654555261\n",
      "=================================\n"
     ]
    },
    {
     "name": "stderr",
     "output_type": "stream",
     "text": [
      " 88%|████████▊ | 22/25 [11:55<01:38, 32.76s/it]"
     ]
    },
    {
     "name": "stdout",
     "output_type": "stream",
     "text": [
      "=================================\n",
      "Initial portfolio value: 100000\n",
      "Final portfolio value: 1294681.0\n",
      "Final accumulative portfolio return: 12.94681\n",
      "Maximum DrawDown: -0.26332786912826545\n",
      "Sharpe ratio: 1.5909531930437473\n",
      "=================================\n"
     ]
    },
    {
     "name": "stderr",
     "output_type": "stream",
     "text": [
      " 92%|█████████▏| 23/25 [12:27<01:05, 32.64s/it]"
     ]
    },
    {
     "name": "stdout",
     "output_type": "stream",
     "text": [
      "=================================\n",
      "Initial portfolio value: 100000\n",
      "Final portfolio value: 1461561.125\n",
      "Final accumulative portfolio return: 14.61561125\n",
      "Maximum DrawDown: -0.253170679926894\n",
      "Sharpe ratio: 1.6650473095237\n",
      "=================================\n"
     ]
    },
    {
     "name": "stderr",
     "output_type": "stream",
     "text": [
      " 96%|█████████▌| 24/25 [13:01<00:32, 32.86s/it]"
     ]
    },
    {
     "name": "stdout",
     "output_type": "stream",
     "text": [
      "=================================\n",
      "Initial portfolio value: 100000\n",
      "Final portfolio value: 1558083.375\n",
      "Final accumulative portfolio return: 15.58083375\n",
      "Maximum DrawDown: -0.2622501182951751\n",
      "Sharpe ratio: 1.7066311321257388\n",
      "=================================\n"
     ]
    },
    {
     "name": "stderr",
     "output_type": "stream",
     "text": [
      "100%|██████████| 25/25 [13:33<00:00, 32.55s/it]\n",
      "C:\\Users\\xutia\\AppData\\Local\\Temp\\ipykernel_36848\\1259870935.py:43: FutureWarning: You are using `torch.load` with `weights_only=False` (the current default value), which uses the default pickle module implicitly. It is possible to construct malicious pickle data which will execute arbitrary code during unpickling (See https://github.com/pytorch/pytorch/blob/main/SECURITY.md#untrusted-models for more details). In a future release, the default value for `weights_only` will be flipped to `True`. This limits the functions that could be executed during unpickling. Arbitrary objects will no longer be allowed to be loaded via this mode unless they are explicitly allowlisted by the user via `torch.serialization.add_safe_globals`. We recommend you start setting `weights_only=True` for any use case where you don't have full control of the loaded file. Please open an issue on GitHub for any issues related to this experimental feature.\n",
      "  EIIE_policy.load_state_dict(torch.load(model_filename))\n"
     ]
    },
    {
     "name": "stdout",
     "output_type": "stream",
     "text": [
      "=================================\n",
      "Initial portfolio value: 100000\n",
      "Final portfolio value: 655367.25\n",
      "Final accumulative portfolio return: 6.5536725\n",
      "Maximum DrawDown: -0.3286124540944091\n",
      "Sharpe ratio: 1.264521401590623\n",
      "=================================\n",
      "=================================\n",
      "Initial portfolio value: 100000\n",
      "Final portfolio value: 92322.421875\n",
      "Final accumulative portfolio return: 0.92322421875\n",
      "Maximum DrawDown: -0.30069127224209136\n",
      "Sharpe ratio: -0.02516170875196312\n",
      "=================================\n",
      "Training model with TIME_WINDOW=60, K_SIZE=3, CONV_MID=20, CONV_FINAL=5, LEARNING_RATE=0.02\n"
     ]
    },
    {
     "name": "stderr",
     "output_type": "stream",
     "text": [
      "  0%|          | 0/25 [00:00<?, ?it/s]"
     ]
    },
    {
     "name": "stdout",
     "output_type": "stream",
     "text": [
      "=================================\n",
      "Initial portfolio value: 100000\n",
      "Final portfolio value: 309302.0\n",
      "Final accumulative portfolio return: 3.09302\n",
      "Maximum DrawDown: -0.3586505423685239\n",
      "Sharpe ratio: 0.8290487743319525\n",
      "=================================\n"
     ]
    },
    {
     "name": "stderr",
     "output_type": "stream",
     "text": [
      "  4%|▍         | 1/25 [00:32<12:54, 32.26s/it]"
     ]
    },
    {
     "name": "stdout",
     "output_type": "stream",
     "text": [
      "=================================\n",
      "Initial portfolio value: 100000\n",
      "Final portfolio value: 546784.3125\n",
      "Final accumulative portfolio return: 5.467843125\n",
      "Maximum DrawDown: -0.3819718917147721\n",
      "Sharpe ratio: 1.0429918153414948\n",
      "=================================\n"
     ]
    },
    {
     "name": "stderr",
     "output_type": "stream",
     "text": [
      "  8%|▊         | 2/25 [01:04<12:25, 32.39s/it]"
     ]
    },
    {
     "name": "stdout",
     "output_type": "stream",
     "text": [
      "=================================\n",
      "Initial portfolio value: 100000\n",
      "Final portfolio value: 814320.875\n",
      "Final accumulative portfolio return: 8.14320875\n",
      "Maximum DrawDown: -0.37918362154119556\n",
      "Sharpe ratio: 1.2663797009881141\n",
      "=================================\n"
     ]
    },
    {
     "name": "stderr",
     "output_type": "stream",
     "text": [
      " 12%|█▏        | 3/25 [01:37<11:55, 32.54s/it]"
     ]
    },
    {
     "name": "stdout",
     "output_type": "stream",
     "text": [
      "=================================\n",
      "Initial portfolio value: 100000\n",
      "Final portfolio value: 752338.6875\n",
      "Final accumulative portfolio return: 7.523386875\n",
      "Maximum DrawDown: -0.3295421195389524\n",
      "Sharpe ratio: 1.2843488124087707\n",
      "=================================\n"
     ]
    },
    {
     "name": "stderr",
     "output_type": "stream",
     "text": [
      " 16%|█▌        | 4/25 [02:10<11:23, 32.57s/it]"
     ]
    },
    {
     "name": "stdout",
     "output_type": "stream",
     "text": [
      "=================================\n",
      "Initial portfolio value: 100000\n",
      "Final portfolio value: 392968.96875\n",
      "Final accumulative portfolio return: 3.9296896875\n",
      "Maximum DrawDown: -0.4557547166553011\n",
      "Sharpe ratio: 0.871843350205552\n",
      "=================================\n"
     ]
    },
    {
     "name": "stderr",
     "output_type": "stream",
     "text": [
      " 20%|██        | 5/25 [02:42<10:51, 32.59s/it]"
     ]
    },
    {
     "name": "stdout",
     "output_type": "stream",
     "text": [
      "=================================\n",
      "Initial portfolio value: 100000\n",
      "Final portfolio value: 484603.4375\n",
      "Final accumulative portfolio return: 4.846034375\n",
      "Maximum DrawDown: -0.4561048153750701\n",
      "Sharpe ratio: 0.9681456294361018\n",
      "=================================\n"
     ]
    },
    {
     "name": "stderr",
     "output_type": "stream",
     "text": [
      " 24%|██▍       | 6/25 [03:15<10:17, 32.51s/it]"
     ]
    },
    {
     "name": "stdout",
     "output_type": "stream",
     "text": [
      "=================================\n",
      "Initial portfolio value: 100000\n",
      "Final portfolio value: 642457.25\n",
      "Final accumulative portfolio return: 6.4245725\n",
      "Maximum DrawDown: -0.45596880490796177\n",
      "Sharpe ratio: 1.074289127438291\n",
      "=================================\n"
     ]
    },
    {
     "name": "stderr",
     "output_type": "stream",
     "text": [
      " 28%|██▊       | 7/25 [03:47<09:44, 32.48s/it]"
     ]
    },
    {
     "name": "stdout",
     "output_type": "stream",
     "text": [
      "=================================\n",
      "Initial portfolio value: 100000\n",
      "Final portfolio value: 1161728.25\n",
      "Final accumulative portfolio return: 11.6172825\n",
      "Maximum DrawDown: -0.38515872154328235\n",
      "Sharpe ratio: 1.420845988399902\n",
      "=================================\n"
     ]
    },
    {
     "name": "stderr",
     "output_type": "stream",
     "text": [
      " 32%|███▏      | 8/25 [04:19<09:12, 32.49s/it]"
     ]
    },
    {
     "name": "stdout",
     "output_type": "stream",
     "text": [
      "=================================\n",
      "Initial portfolio value: 100000\n",
      "Final portfolio value: 1043863.875\n",
      "Final accumulative portfolio return: 10.43863875\n",
      "Maximum DrawDown: -0.3851573320453944\n",
      "Sharpe ratio: 1.3403445439888124\n",
      "=================================\n"
     ]
    },
    {
     "name": "stderr",
     "output_type": "stream",
     "text": [
      " 36%|███▌      | 9/25 [04:52<08:41, 32.57s/it]"
     ]
    },
    {
     "name": "stdout",
     "output_type": "stream",
     "text": [
      "=================================\n",
      "Initial portfolio value: 100000\n",
      "Final portfolio value: 1193886.25\n",
      "Final accumulative portfolio return: 11.9388625\n",
      "Maximum DrawDown: -0.38515887029390083\n",
      "Sharpe ratio: 1.4225378473804797\n",
      "=================================\n"
     ]
    },
    {
     "name": "stderr",
     "output_type": "stream",
     "text": [
      " 40%|████      | 10/25 [05:27<08:17, 33.16s/it]"
     ]
    },
    {
     "name": "stdout",
     "output_type": "stream",
     "text": [
      "=================================\n",
      "Initial portfolio value: 100000\n",
      "Final portfolio value: 1147093.0\n",
      "Final accumulative portfolio return: 11.47093\n",
      "Maximum DrawDown: -0.3851585245415149\n",
      "Sharpe ratio: 1.3800186318175793\n",
      "=================================\n"
     ]
    },
    {
     "name": "stderr",
     "output_type": "stream",
     "text": [
      " 44%|████▍     | 11/25 [06:01<07:48, 33.50s/it]"
     ]
    },
    {
     "name": "stdout",
     "output_type": "stream",
     "text": [
      "=================================\n",
      "Initial portfolio value: 100000\n",
      "Final portfolio value: 1062333.625\n",
      "Final accumulative portfolio return: 10.62333625\n",
      "Maximum DrawDown: -0.3851588866601203\n",
      "Sharpe ratio: 1.343291844373676\n",
      "=================================\n"
     ]
    },
    {
     "name": "stderr",
     "output_type": "stream",
     "text": [
      " 48%|████▊     | 12/25 [06:34<07:11, 33.20s/it]"
     ]
    },
    {
     "name": "stdout",
     "output_type": "stream",
     "text": [
      "=================================\n",
      "Initial portfolio value: 100000\n",
      "Final portfolio value: 1499173.625\n",
      "Final accumulative portfolio return: 14.99173625\n",
      "Maximum DrawDown: -0.38515884701746717\n",
      "Sharpe ratio: 1.5286202257874475\n",
      "=================================\n"
     ]
    },
    {
     "name": "stderr",
     "output_type": "stream",
     "text": [
      " 52%|█████▏    | 13/25 [07:06<06:35, 32.99s/it]"
     ]
    },
    {
     "name": "stdout",
     "output_type": "stream",
     "text": [
      "=================================\n",
      "Initial portfolio value: 100000\n",
      "Final portfolio value: 1462548.75\n",
      "Final accumulative portfolio return: 14.6254875\n",
      "Maximum DrawDown: -0.3851589381303524\n",
      "Sharpe ratio: 1.5105857202193045\n",
      "=================================\n"
     ]
    },
    {
     "name": "stderr",
     "output_type": "stream",
     "text": [
      " 56%|█████▌    | 14/25 [07:38<06:00, 32.81s/it]"
     ]
    },
    {
     "name": "stdout",
     "output_type": "stream",
     "text": [
      "=================================\n",
      "Initial portfolio value: 100000\n",
      "Final portfolio value: 1509453.625\n",
      "Final accumulative portfolio return: 15.09453625\n",
      "Maximum DrawDown: -0.3851586781365832\n",
      "Sharpe ratio: 1.5094792306293556\n",
      "=================================\n"
     ]
    },
    {
     "name": "stderr",
     "output_type": "stream",
     "text": [
      " 60%|██████    | 15/25 [08:11<05:26, 32.69s/it]"
     ]
    },
    {
     "name": "stdout",
     "output_type": "stream",
     "text": [
      "=================================\n",
      "Initial portfolio value: 100000\n",
      "Final portfolio value: 1254291.5\n",
      "Final accumulative portfolio return: 12.542915\n",
      "Maximum DrawDown: -0.3851588865243939\n",
      "Sharpe ratio: 1.4285899396534012\n",
      "=================================\n"
     ]
    },
    {
     "name": "stderr",
     "output_type": "stream",
     "text": [
      " 64%|██████▍   | 16/25 [08:43<04:53, 32.66s/it]"
     ]
    },
    {
     "name": "stdout",
     "output_type": "stream",
     "text": [
      "=================================\n",
      "Initial portfolio value: 100000\n",
      "Final portfolio value: 1219687.0\n",
      "Final accumulative portfolio return: 12.19687\n",
      "Maximum DrawDown: -0.3851584861351349\n",
      "Sharpe ratio: 1.431963384960783\n",
      "=================================\n"
     ]
    },
    {
     "name": "stderr",
     "output_type": "stream",
     "text": [
      " 68%|██████▊   | 17/25 [09:16<04:20, 32.55s/it]"
     ]
    },
    {
     "name": "stdout",
     "output_type": "stream",
     "text": [
      "=================================\n",
      "Initial portfolio value: 100000\n",
      "Final portfolio value: 1500505.0\n",
      "Final accumulative portfolio return: 15.00505\n",
      "Maximum DrawDown: -0.3851588083515888\n",
      "Sharpe ratio: 1.5135461655445688\n",
      "=================================\n"
     ]
    },
    {
     "name": "stderr",
     "output_type": "stream",
     "text": [
      " 72%|███████▏  | 18/25 [09:48<03:47, 32.55s/it]"
     ]
    },
    {
     "name": "stdout",
     "output_type": "stream",
     "text": [
      "=================================\n",
      "Initial portfolio value: 100000\n",
      "Final portfolio value: 1108900.0\n",
      "Final accumulative portfolio return: 11.089\n",
      "Maximum DrawDown: -0.38515883713523236\n",
      "Sharpe ratio: 1.368781421092821\n",
      "=================================\n"
     ]
    },
    {
     "name": "stderr",
     "output_type": "stream",
     "text": [
      " 76%|███████▌  | 19/25 [10:21<03:16, 32.67s/it]"
     ]
    },
    {
     "name": "stdout",
     "output_type": "stream",
     "text": [
      "=================================\n",
      "Initial portfolio value: 100000\n",
      "Final portfolio value: 1544731.0\n",
      "Final accumulative portfolio return: 15.44731\n",
      "Maximum DrawDown: -0.3851588771363166\n",
      "Sharpe ratio: 1.5325734683127616\n",
      "=================================\n"
     ]
    },
    {
     "name": "stderr",
     "output_type": "stream",
     "text": [
      " 80%|████████  | 20/25 [10:54<02:43, 32.62s/it]"
     ]
    },
    {
     "name": "stdout",
     "output_type": "stream",
     "text": [
      "=================================\n",
      "Initial portfolio value: 100000\n",
      "Final portfolio value: 1749364.5\n",
      "Final accumulative portfolio return: 17.493645\n",
      "Maximum DrawDown: -0.38515874505761794\n",
      "Sharpe ratio: 1.5937488387367593\n",
      "=================================\n"
     ]
    },
    {
     "name": "stderr",
     "output_type": "stream",
     "text": [
      " 84%|████████▍ | 21/25 [11:26<02:10, 32.55s/it]"
     ]
    },
    {
     "name": "stdout",
     "output_type": "stream",
     "text": [
      "=================================\n",
      "Initial portfolio value: 100000\n",
      "Final portfolio value: 1603832.75\n",
      "Final accumulative portfolio return: 16.0383275\n",
      "Maximum DrawDown: -0.38515902171964744\n",
      "Sharpe ratio: 1.5671187088850886\n",
      "=================================\n"
     ]
    },
    {
     "name": "stderr",
     "output_type": "stream",
     "text": [
      " 88%|████████▊ | 22/25 [11:59<01:37, 32.56s/it]"
     ]
    },
    {
     "name": "stdout",
     "output_type": "stream",
     "text": [
      "=================================\n",
      "Initial portfolio value: 100000\n",
      "Final portfolio value: 1485243.0\n",
      "Final accumulative portfolio return: 14.85243\n",
      "Maximum DrawDown: -0.3851586948652531\n",
      "Sharpe ratio: 1.5491049325000377\n",
      "=================================\n"
     ]
    },
    {
     "name": "stderr",
     "output_type": "stream",
     "text": [
      " 92%|█████████▏| 23/25 [12:31<01:05, 32.62s/it]"
     ]
    },
    {
     "name": "stdout",
     "output_type": "stream",
     "text": [
      "=================================\n",
      "Initial portfolio value: 100000\n",
      "Final portfolio value: 1044969.0625\n",
      "Final accumulative portfolio return: 10.449690625\n",
      "Maximum DrawDown: -0.3851588788849649\n",
      "Sharpe ratio: 1.3706407716930804\n",
      "=================================\n"
     ]
    },
    {
     "name": "stderr",
     "output_type": "stream",
     "text": [
      " 96%|█████████▌| 24/25 [13:05<00:32, 32.78s/it]"
     ]
    },
    {
     "name": "stdout",
     "output_type": "stream",
     "text": [
      "=================================\n",
      "Initial portfolio value: 100000\n",
      "Final portfolio value: 153839.53125\n",
      "Final accumulative portfolio return: 1.5383953125\n",
      "Maximum DrawDown: -0.5206359922308923\n",
      "Sharpe ratio: 0.3628838715846045\n",
      "=================================\n"
     ]
    },
    {
     "name": "stderr",
     "output_type": "stream",
     "text": [
      "100%|██████████| 25/25 [13:37<00:00, 32.71s/it]\n",
      "C:\\Users\\xutia\\AppData\\Local\\Temp\\ipykernel_36848\\1259870935.py:43: FutureWarning: You are using `torch.load` with `weights_only=False` (the current default value), which uses the default pickle module implicitly. It is possible to construct malicious pickle data which will execute arbitrary code during unpickling (See https://github.com/pytorch/pytorch/blob/main/SECURITY.md#untrusted-models for more details). In a future release, the default value for `weights_only` will be flipped to `True`. This limits the functions that could be executed during unpickling. Arbitrary objects will no longer be allowed to be loaded via this mode unless they are explicitly allowlisted by the user via `torch.serialization.add_safe_globals`. We recommend you start setting `weights_only=True` for any use case where you don't have full control of the loaded file. Please open an issue on GitHub for any issues related to this experimental feature.\n",
      "  EIIE_policy.load_state_dict(torch.load(model_filename))\n"
     ]
    },
    {
     "name": "stdout",
     "output_type": "stream",
     "text": [
      "=================================\n",
      "Initial portfolio value: 100000\n",
      "Final portfolio value: 262048.109375\n",
      "Final accumulative portfolio return: 2.62048109375\n",
      "Maximum DrawDown: -0.4563069716233723\n",
      "Sharpe ratio: 0.6219755576878039\n",
      "=================================\n",
      "=================================\n",
      "Initial portfolio value: 100000\n",
      "Final portfolio value: 171522.5\n",
      "Final accumulative portfolio return: 1.715225\n",
      "Maximum DrawDown: -0.21730601950966943\n",
      "Sharpe ratio: 1.2124391887033\n",
      "=================================\n",
      "Training model with TIME_WINDOW=60, K_SIZE=3, CONV_MID=20, CONV_FINAL=10, LEARNING_RATE=0.02\n"
     ]
    },
    {
     "name": "stderr",
     "output_type": "stream",
     "text": [
      "  0%|          | 0/25 [00:00<?, ?it/s]"
     ]
    },
    {
     "name": "stdout",
     "output_type": "stream",
     "text": [
      "=================================\n",
      "Initial portfolio value: 100000\n",
      "Final portfolio value: 273226.96875\n",
      "Final accumulative portfolio return: 2.7322696875\n",
      "Maximum DrawDown: -0.30662794901488455\n",
      "Sharpe ratio: 0.8402133815192986\n",
      "=================================\n"
     ]
    },
    {
     "name": "stderr",
     "output_type": "stream",
     "text": [
      "  4%|▍         | 1/25 [00:32<13:09, 32.91s/it]"
     ]
    },
    {
     "name": "stdout",
     "output_type": "stream",
     "text": [
      "=================================\n",
      "Initial portfolio value: 100000\n",
      "Final portfolio value: 495215.4375\n",
      "Final accumulative portfolio return: 4.952154375\n",
      "Maximum DrawDown: -0.28003678855782643\n",
      "Sharpe ratio: 1.1398289775477628\n",
      "=================================\n"
     ]
    },
    {
     "name": "stderr",
     "output_type": "stream",
     "text": [
      "  8%|▊         | 2/25 [01:05<12:28, 32.53s/it]"
     ]
    },
    {
     "name": "stdout",
     "output_type": "stream",
     "text": [
      "=================================\n",
      "Initial portfolio value: 100000\n",
      "Final portfolio value: 432748.21875\n",
      "Final accumulative portfolio return: 4.3274821875\n",
      "Maximum DrawDown: -0.34785497254356834\n",
      "Sharpe ratio: 0.9545778298940518\n",
      "=================================\n"
     ]
    },
    {
     "name": "stderr",
     "output_type": "stream",
     "text": [
      " 12%|█▏        | 3/25 [01:38<11:58, 32.67s/it]"
     ]
    },
    {
     "name": "stdout",
     "output_type": "stream",
     "text": [
      "=================================\n",
      "Initial portfolio value: 100000\n",
      "Final portfolio value: 621815.75\n",
      "Final accumulative portfolio return: 6.2181575\n",
      "Maximum DrawDown: -0.30403996171531145\n",
      "Sharpe ratio: 1.2571792911130908\n",
      "=================================\n"
     ]
    },
    {
     "name": "stderr",
     "output_type": "stream",
     "text": [
      " 16%|█▌        | 4/25 [02:10<11:25, 32.62s/it]"
     ]
    },
    {
     "name": "stdout",
     "output_type": "stream",
     "text": [
      "=================================\n",
      "Initial portfolio value: 100000\n",
      "Final portfolio value: 618966.1875\n",
      "Final accumulative portfolio return: 6.189661875\n",
      "Maximum DrawDown: -0.3161742010619417\n",
      "Sharpe ratio: 1.1618954938284285\n",
      "=================================\n"
     ]
    },
    {
     "name": "stderr",
     "output_type": "stream",
     "text": [
      " 20%|██        | 5/25 [02:45<11:06, 33.32s/it]"
     ]
    },
    {
     "name": "stdout",
     "output_type": "stream",
     "text": [
      "=================================\n",
      "Initial portfolio value: 100000\n",
      "Final portfolio value: 1073711.625\n",
      "Final accumulative portfolio return: 10.73711625\n",
      "Maximum DrawDown: -0.28039303177347685\n",
      "Sharpe ratio: 1.444604196801276\n",
      "=================================\n"
     ]
    },
    {
     "name": "stderr",
     "output_type": "stream",
     "text": [
      " 24%|██▍       | 6/25 [03:17<10:29, 33.15s/it]"
     ]
    },
    {
     "name": "stdout",
     "output_type": "stream",
     "text": [
      "=================================\n",
      "Initial portfolio value: 100000\n",
      "Final portfolio value: 831523.375\n",
      "Final accumulative portfolio return: 8.31523375\n",
      "Maximum DrawDown: -0.29435125392148\n",
      "Sharpe ratio: 1.2954384995474129\n",
      "=================================\n"
     ]
    },
    {
     "name": "stderr",
     "output_type": "stream",
     "text": [
      " 28%|██▊       | 7/25 [03:50<09:53, 32.97s/it]"
     ]
    },
    {
     "name": "stdout",
     "output_type": "stream",
     "text": [
      "=================================\n",
      "Initial portfolio value: 100000\n",
      "Final portfolio value: 1032197.125\n",
      "Final accumulative portfolio return: 10.32197125\n",
      "Maximum DrawDown: -0.29620675671460206\n",
      "Sharpe ratio: 1.4031079598166476\n",
      "=================================\n"
     ]
    },
    {
     "name": "stderr",
     "output_type": "stream",
     "text": [
      " 32%|███▏      | 8/25 [04:23<09:18, 32.84s/it]"
     ]
    },
    {
     "name": "stdout",
     "output_type": "stream",
     "text": [
      "=================================\n",
      "Initial portfolio value: 100000\n",
      "Final portfolio value: 1122078.625\n",
      "Final accumulative portfolio return: 11.22078625\n",
      "Maximum DrawDown: -0.28921949133759517\n",
      "Sharpe ratio: 1.4444116626903638\n",
      "=================================\n"
     ]
    },
    {
     "name": "stderr",
     "output_type": "stream",
     "text": [
      " 36%|███▌      | 9/25 [04:56<08:47, 32.95s/it]"
     ]
    },
    {
     "name": "stdout",
     "output_type": "stream",
     "text": [
      "=================================\n",
      "Initial portfolio value: 100000\n",
      "Final portfolio value: 803386.3125\n",
      "Final accumulative portfolio return: 8.033863125\n",
      "Maximum DrawDown: -0.3189196422408991\n",
      "Sharpe ratio: 1.268617199544544\n",
      "=================================\n"
     ]
    },
    {
     "name": "stderr",
     "output_type": "stream",
     "text": [
      " 40%|████      | 10/25 [05:28<08:12, 32.85s/it]"
     ]
    },
    {
     "name": "stdout",
     "output_type": "stream",
     "text": [
      "=================================\n",
      "Initial portfolio value: 100000\n",
      "Final portfolio value: 1094975.25\n",
      "Final accumulative portfolio return: 10.9497525\n",
      "Maximum DrawDown: -0.28282017863482634\n",
      "Sharpe ratio: 1.4299960684288144\n",
      "=================================\n"
     ]
    },
    {
     "name": "stderr",
     "output_type": "stream",
     "text": [
      " 44%|████▍     | 11/25 [06:01<07:37, 32.66s/it]"
     ]
    },
    {
     "name": "stdout",
     "output_type": "stream",
     "text": [
      "=================================\n",
      "Initial portfolio value: 100000\n",
      "Final portfolio value: 1082884.875\n",
      "Final accumulative portfolio return: 10.82884875\n",
      "Maximum DrawDown: -0.29690637209603576\n",
      "Sharpe ratio: 1.4260354932986814\n",
      "=================================\n"
     ]
    },
    {
     "name": "stderr",
     "output_type": "stream",
     "text": [
      " 48%|████▊     | 12/25 [06:33<07:04, 32.68s/it]"
     ]
    },
    {
     "name": "stdout",
     "output_type": "stream",
     "text": [
      "=================================\n",
      "Initial portfolio value: 100000\n",
      "Final portfolio value: 1203957.75\n",
      "Final accumulative portfolio return: 12.0395775\n",
      "Maximum DrawDown: -0.2890006684914328\n",
      "Sharpe ratio: 1.4870103053810968\n",
      "=================================\n"
     ]
    },
    {
     "name": "stderr",
     "output_type": "stream",
     "text": [
      " 52%|█████▏    | 13/25 [07:06<06:32, 32.70s/it]"
     ]
    },
    {
     "name": "stdout",
     "output_type": "stream",
     "text": [
      "=================================\n",
      "Initial portfolio value: 100000\n",
      "Final portfolio value: 1149942.875\n",
      "Final accumulative portfolio return: 11.49942875\n",
      "Maximum DrawDown: -0.28039287089124776\n",
      "Sharpe ratio: 1.4803379145124298\n",
      "=================================\n"
     ]
    },
    {
     "name": "stderr",
     "output_type": "stream",
     "text": [
      " 56%|█████▌    | 14/25 [07:39<05:58, 32.63s/it]"
     ]
    },
    {
     "name": "stdout",
     "output_type": "stream",
     "text": [
      "=================================\n",
      "Initial portfolio value: 100000\n",
      "Final portfolio value: 524160.375\n",
      "Final accumulative portfolio return: 5.24160375\n",
      "Maximum DrawDown: -0.4347504458697976\n",
      "Sharpe ratio: 0.9733297239511886\n",
      "=================================\n"
     ]
    },
    {
     "name": "stderr",
     "output_type": "stream",
     "text": [
      " 60%|██████    | 15/25 [08:11<05:25, 32.51s/it]"
     ]
    },
    {
     "name": "stdout",
     "output_type": "stream",
     "text": [
      "=================================\n",
      "Initial portfolio value: 100000\n",
      "Final portfolio value: 369692.1875\n",
      "Final accumulative portfolio return: 3.696921875\n",
      "Maximum DrawDown: -0.45620940308292024\n",
      "Sharpe ratio: 0.7963407183654095\n",
      "=================================\n"
     ]
    },
    {
     "name": "stderr",
     "output_type": "stream",
     "text": [
      " 64%|██████▍   | 16/25 [08:43<04:52, 32.51s/it]"
     ]
    },
    {
     "name": "stdout",
     "output_type": "stream",
     "text": [
      "=================================\n",
      "Initial portfolio value: 100000\n",
      "Final portfolio value: 601752.9375\n",
      "Final accumulative portfolio return: 6.017529375\n",
      "Maximum DrawDown: -0.45457590280497984\n",
      "Sharpe ratio: 1.045145611189695\n",
      "=================================\n"
     ]
    },
    {
     "name": "stderr",
     "output_type": "stream",
     "text": [
      " 68%|██████▊   | 17/25 [09:16<04:19, 32.47s/it]"
     ]
    },
    {
     "name": "stdout",
     "output_type": "stream",
     "text": [
      "=================================\n",
      "Initial portfolio value: 100000\n",
      "Final portfolio value: 907709.5\n",
      "Final accumulative portfolio return: 9.077095\n",
      "Maximum DrawDown: -0.3608933795606156\n",
      "Sharpe ratio: 1.3015645660899213\n",
      "=================================\n"
     ]
    },
    {
     "name": "stderr",
     "output_type": "stream",
     "text": [
      " 72%|███████▏  | 18/25 [09:49<03:48, 32.64s/it]"
     ]
    },
    {
     "name": "stdout",
     "output_type": "stream",
     "text": [
      "=================================\n",
      "Initial portfolio value: 100000\n",
      "Final portfolio value: 1159292.875\n",
      "Final accumulative portfolio return: 11.59292875\n",
      "Maximum DrawDown: -0.28412302231111985\n",
      "Sharpe ratio: 1.4496340250974336\n",
      "=================================\n"
     ]
    },
    {
     "name": "stderr",
     "output_type": "stream",
     "text": [
      " 76%|███████▌  | 19/25 [10:21<03:15, 32.57s/it]"
     ]
    },
    {
     "name": "stdout",
     "output_type": "stream",
     "text": [
      "=================================\n",
      "Initial portfolio value: 100000\n",
      "Final portfolio value: 1238097.875\n",
      "Final accumulative portfolio return: 12.38097875\n",
      "Maximum DrawDown: -0.2841268030948805\n",
      "Sharpe ratio: 1.4519154867352604\n",
      "=================================\n"
     ]
    },
    {
     "name": "stderr",
     "output_type": "stream",
     "text": [
      " 80%|████████  | 20/25 [10:53<02:42, 32.47s/it]"
     ]
    },
    {
     "name": "stdout",
     "output_type": "stream",
     "text": [
      "=================================\n",
      "Initial portfolio value: 100000\n",
      "Final portfolio value: 1233008.375\n",
      "Final accumulative portfolio return: 12.33008375\n",
      "Maximum DrawDown: -0.30201014127114256\n",
      "Sharpe ratio: 1.4928321031915734\n",
      "=================================\n"
     ]
    },
    {
     "name": "stderr",
     "output_type": "stream",
     "text": [
      " 84%|████████▍ | 21/25 [11:26<02:09, 32.48s/it]"
     ]
    },
    {
     "name": "stdout",
     "output_type": "stream",
     "text": [
      "=================================\n",
      "Initial portfolio value: 100000\n",
      "Final portfolio value: 1222881.25\n",
      "Final accumulative portfolio return: 12.2288125\n",
      "Maximum DrawDown: -0.293550943043835\n",
      "Sharpe ratio: 1.504960347599272\n",
      "=================================\n"
     ]
    },
    {
     "name": "stderr",
     "output_type": "stream",
     "text": [
      " 88%|████████▊ | 22/25 [11:58<01:37, 32.50s/it]"
     ]
    },
    {
     "name": "stdout",
     "output_type": "stream",
     "text": [
      "=================================\n",
      "Initial portfolio value: 100000\n",
      "Final portfolio value: 1159054.125\n",
      "Final accumulative portfolio return: 11.59054125\n",
      "Maximum DrawDown: -0.30902918335459795\n",
      "Sharpe ratio: 1.4796632648740289\n",
      "=================================\n"
     ]
    },
    {
     "name": "stderr",
     "output_type": "stream",
     "text": [
      " 92%|█████████▏| 23/25 [12:31<01:05, 32.52s/it]"
     ]
    },
    {
     "name": "stdout",
     "output_type": "stream",
     "text": [
      "=================================\n",
      "Initial portfolio value: 100000\n",
      "Final portfolio value: 1517893.25\n",
      "Final accumulative portfolio return: 15.1789325\n",
      "Maximum DrawDown: -0.2803929932282695\n",
      "Sharpe ratio: 1.6024341124764072\n",
      "=================================\n"
     ]
    },
    {
     "name": "stderr",
     "output_type": "stream",
     "text": [
      " 96%|█████████▌| 24/25 [13:04<00:32, 32.58s/it]"
     ]
    },
    {
     "name": "stdout",
     "output_type": "stream",
     "text": [
      "=================================\n",
      "Initial portfolio value: 100000\n",
      "Final portfolio value: 1043552.4375\n",
      "Final accumulative portfolio return: 10.435524375\n",
      "Maximum DrawDown: -0.30300939538781235\n",
      "Sharpe ratio: 1.408767441897595\n",
      "=================================\n"
     ]
    },
    {
     "name": "stderr",
     "output_type": "stream",
     "text": [
      "100%|██████████| 25/25 [13:37<00:00, 32.68s/it]\n",
      "C:\\Users\\xutia\\AppData\\Local\\Temp\\ipykernel_36848\\1259870935.py:43: FutureWarning: You are using `torch.load` with `weights_only=False` (the current default value), which uses the default pickle module implicitly. It is possible to construct malicious pickle data which will execute arbitrary code during unpickling (See https://github.com/pytorch/pytorch/blob/main/SECURITY.md#untrusted-models for more details). In a future release, the default value for `weights_only` will be flipped to `True`. This limits the functions that could be executed during unpickling. Arbitrary objects will no longer be allowed to be loaded via this mode unless they are explicitly allowlisted by the user via `torch.serialization.add_safe_globals`. We recommend you start setting `weights_only=True` for any use case where you don't have full control of the loaded file. Please open an issue on GitHub for any issues related to this experimental feature.\n",
      "  EIIE_policy.load_state_dict(torch.load(model_filename))\n"
     ]
    },
    {
     "name": "stdout",
     "output_type": "stream",
     "text": [
      "=================================\n",
      "Initial portfolio value: 100000\n",
      "Final portfolio value: 1018254.9375\n",
      "Final accumulative portfolio return: 10.182549375\n",
      "Maximum DrawDown: -0.2872789624984694\n",
      "Sharpe ratio: 1.379116607253926\n",
      "=================================\n",
      "=================================\n",
      "Initial portfolio value: 100000\n",
      "Final portfolio value: 133215.84375\n",
      "Final accumulative portfolio return: 1.3321584375\n",
      "Maximum DrawDown: -0.2293912036171598\n",
      "Sharpe ratio: 0.7112395141314367\n",
      "=================================\n",
      "Training model with TIME_WINDOW=60, K_SIZE=3, CONV_MID=20, CONV_FINAL=20, LEARNING_RATE=0.02\n"
     ]
    },
    {
     "name": "stderr",
     "output_type": "stream",
     "text": [
      "  0%|          | 0/25 [00:00<?, ?it/s]"
     ]
    },
    {
     "name": "stdout",
     "output_type": "stream",
     "text": [
      "=================================\n",
      "Initial portfolio value: 100000\n",
      "Final portfolio value: 272428.34375\n",
      "Final accumulative portfolio return: 2.7242834375\n",
      "Maximum DrawDown: -0.31714763977592364\n",
      "Sharpe ratio: 0.8302922543374953\n",
      "=================================\n"
     ]
    },
    {
     "name": "stderr",
     "output_type": "stream",
     "text": [
      "  4%|▍         | 1/25 [00:32<13:05, 32.73s/it]"
     ]
    },
    {
     "name": "stdout",
     "output_type": "stream",
     "text": [
      "=================================\n",
      "Initial portfolio value: 100000\n",
      "Final portfolio value: 459428.6875\n",
      "Final accumulative portfolio return: 4.594286875\n",
      "Maximum DrawDown: -0.32363843976960993\n",
      "Sharpe ratio: 1.0670096345431181\n",
      "=================================\n"
     ]
    },
    {
     "name": "stderr",
     "output_type": "stream",
     "text": [
      "  8%|▊         | 2/25 [01:05<12:30, 32.64s/it]"
     ]
    },
    {
     "name": "stdout",
     "output_type": "stream",
     "text": [
      "=================================\n",
      "Initial portfolio value: 100000\n",
      "Final portfolio value: 599315.8125\n",
      "Final accumulative portfolio return: 5.993158125\n",
      "Maximum DrawDown: -0.2803598239563526\n",
      "Sharpe ratio: 1.2069060584825135\n",
      "=================================\n"
     ]
    },
    {
     "name": "stderr",
     "output_type": "stream",
     "text": [
      " 12%|█▏        | 3/25 [01:38<11:59, 32.69s/it]"
     ]
    },
    {
     "name": "stdout",
     "output_type": "stream",
     "text": [
      "=================================\n",
      "Initial portfolio value: 100000\n",
      "Final portfolio value: 697885.25\n",
      "Final accumulative portfolio return: 6.9788525\n",
      "Maximum DrawDown: -0.2791220216389019\n",
      "Sharpe ratio: 1.2670646345091776\n",
      "=================================\n"
     ]
    },
    {
     "name": "stderr",
     "output_type": "stream",
     "text": [
      " 16%|█▌        | 4/25 [02:10<11:27, 32.71s/it]"
     ]
    },
    {
     "name": "stdout",
     "output_type": "stream",
     "text": [
      "=================================\n",
      "Initial portfolio value: 100000\n",
      "Final portfolio value: 305819.125\n",
      "Final accumulative portfolio return: 3.05819125\n",
      "Maximum DrawDown: -0.43767893385312984\n",
      "Sharpe ratio: 0.7408710247370313\n",
      "=================================\n"
     ]
    },
    {
     "name": "stderr",
     "output_type": "stream",
     "text": [
      " 20%|██        | 5/25 [02:43<10:53, 32.65s/it]"
     ]
    },
    {
     "name": "stdout",
     "output_type": "stream",
     "text": [
      "=================================\n",
      "Initial portfolio value: 100000\n",
      "Final portfolio value: 960998.4375\n",
      "Final accumulative portfolio return: 9.609984375\n",
      "Maximum DrawDown: -0.27934832693760225\n",
      "Sharpe ratio: 1.4506790216629606\n",
      "=================================\n"
     ]
    },
    {
     "name": "stderr",
     "output_type": "stream",
     "text": [
      " 24%|██▍       | 6/25 [03:16<10:21, 32.73s/it]"
     ]
    },
    {
     "name": "stdout",
     "output_type": "stream",
     "text": [
      "=================================\n",
      "Initial portfolio value: 100000\n",
      "Final portfolio value: 1173391.875\n",
      "Final accumulative portfolio return: 11.73391875\n",
      "Maximum DrawDown: -0.2803325920669403\n",
      "Sharpe ratio: 1.5653119670772158\n",
      "=================================\n"
     ]
    },
    {
     "name": "stderr",
     "output_type": "stream",
     "text": [
      " 28%|██▊       | 7/25 [03:48<09:49, 32.73s/it]"
     ]
    },
    {
     "name": "stdout",
     "output_type": "stream",
     "text": [
      "=================================\n",
      "Initial portfolio value: 100000\n",
      "Final portfolio value: 1397654.25\n",
      "Final accumulative portfolio return: 13.9765425\n",
      "Maximum DrawDown: -0.2803676247063237\n",
      "Sharpe ratio: 1.6465358830508992\n",
      "=================================\n"
     ]
    },
    {
     "name": "stderr",
     "output_type": "stream",
     "text": [
      " 32%|███▏      | 8/25 [04:22<09:20, 32.96s/it]"
     ]
    },
    {
     "name": "stdout",
     "output_type": "stream",
     "text": [
      "=================================\n",
      "Initial portfolio value: 100000\n",
      "Final portfolio value: 1532312.125\n",
      "Final accumulative portfolio return: 15.32312125\n",
      "Maximum DrawDown: -0.28037358231550935\n",
      "Sharpe ratio: 1.6900856110248381\n",
      "=================================\n"
     ]
    },
    {
     "name": "stderr",
     "output_type": "stream",
     "text": [
      " 36%|███▌      | 9/25 [04:55<08:46, 32.90s/it]"
     ]
    },
    {
     "name": "stdout",
     "output_type": "stream",
     "text": [
      "=================================\n",
      "Initial portfolio value: 100000\n",
      "Final portfolio value: 1692864.75\n",
      "Final accumulative portfolio return: 16.9286475\n",
      "Maximum DrawDown: -0.28038193685761525\n",
      "Sharpe ratio: 1.7262169441993902\n",
      "=================================\n"
     ]
    },
    {
     "name": "stderr",
     "output_type": "stream",
     "text": [
      " 40%|████      | 10/25 [05:28<08:13, 32.88s/it]"
     ]
    },
    {
     "name": "stdout",
     "output_type": "stream",
     "text": [
      "=================================\n",
      "Initial portfolio value: 100000\n",
      "Final portfolio value: 1317076.25\n",
      "Final accumulative portfolio return: 13.1707625\n",
      "Maximum DrawDown: -0.28036488925262804\n",
      "Sharpe ratio: 1.5864460528512772\n",
      "=================================\n"
     ]
    },
    {
     "name": "stderr",
     "output_type": "stream",
     "text": [
      " 44%|████▍     | 11/25 [06:00<07:40, 32.86s/it]"
     ]
    },
    {
     "name": "stdout",
     "output_type": "stream",
     "text": [
      "=================================\n",
      "Initial portfolio value: 100000\n",
      "Final portfolio value: 1346561.125\n",
      "Final accumulative portfolio return: 13.46561125\n",
      "Maximum DrawDown: -0.28039306222826155\n",
      "Sharpe ratio: 1.6065534487350168\n",
      "=================================\n"
     ]
    },
    {
     "name": "stderr",
     "output_type": "stream",
     "text": [
      " 48%|████▊     | 12/25 [06:33<07:06, 32.84s/it]"
     ]
    },
    {
     "name": "stdout",
     "output_type": "stream",
     "text": [
      "=================================\n",
      "Initial portfolio value: 100000\n",
      "Final portfolio value: 1579889.625\n",
      "Final accumulative portfolio return: 15.79889625\n",
      "Maximum DrawDown: -0.28033786985647513\n",
      "Sharpe ratio: 1.6714239456278195\n",
      "=================================\n"
     ]
    },
    {
     "name": "stderr",
     "output_type": "stream",
     "text": [
      " 52%|█████▏    | 13/25 [07:06<06:33, 32.83s/it]"
     ]
    },
    {
     "name": "stdout",
     "output_type": "stream",
     "text": [
      "=================================\n",
      "Initial portfolio value: 100000\n",
      "Final portfolio value: 1623909.5\n",
      "Final accumulative portfolio return: 16.239095\n",
      "Maximum DrawDown: -0.2762142624315702\n",
      "Sharpe ratio: 1.689875389319819\n",
      "=================================\n"
     ]
    },
    {
     "name": "stderr",
     "output_type": "stream",
     "text": [
      " 56%|█████▌    | 14/25 [07:39<06:01, 32.84s/it]"
     ]
    },
    {
     "name": "stdout",
     "output_type": "stream",
     "text": [
      "=================================\n",
      "Initial portfolio value: 100000\n",
      "Final portfolio value: 1311302.5\n",
      "Final accumulative portfolio return: 13.113025\n",
      "Maximum DrawDown: -0.28039304629933715\n",
      "Sharpe ratio: 1.6008244609175952\n",
      "=================================\n"
     ]
    },
    {
     "name": "stderr",
     "output_type": "stream",
     "text": [
      " 60%|██████    | 15/25 [08:12<05:28, 32.83s/it]"
     ]
    },
    {
     "name": "stdout",
     "output_type": "stream",
     "text": [
      "=================================\n",
      "Initial portfolio value: 100000\n",
      "Final portfolio value: 537981.5625\n",
      "Final accumulative portfolio return: 5.379815625\n",
      "Maximum DrawDown: -0.3393024417603344\n",
      "Sharpe ratio: 1.0466329099680827\n",
      "=================================\n"
     ]
    },
    {
     "name": "stderr",
     "output_type": "stream",
     "text": [
      " 64%|██████▍   | 16/25 [08:44<04:55, 32.81s/it]"
     ]
    },
    {
     "name": "stdout",
     "output_type": "stream",
     "text": [
      "=================================\n",
      "Initial portfolio value: 100000\n",
      "Final portfolio value: 527000.5625\n",
      "Final accumulative portfolio return: 5.270005625\n",
      "Maximum DrawDown: -0.3851576817347059\n",
      "Sharpe ratio: 1.020545249470022\n",
      "=================================\n"
     ]
    },
    {
     "name": "stderr",
     "output_type": "stream",
     "text": [
      " 68%|██████▊   | 17/25 [09:17<04:22, 32.83s/it]"
     ]
    },
    {
     "name": "stdout",
     "output_type": "stream",
     "text": [
      "=================================\n",
      "Initial portfolio value: 100000\n",
      "Final portfolio value: 531683.5625\n",
      "Final accumulative portfolio return: 5.316835625\n",
      "Maximum DrawDown: -0.3308534229062736\n",
      "Sharpe ratio: 1.0522062186963723\n",
      "=================================\n"
     ]
    },
    {
     "name": "stderr",
     "output_type": "stream",
     "text": [
      " 72%|███████▏  | 18/25 [09:50<03:50, 32.87s/it]"
     ]
    },
    {
     "name": "stdout",
     "output_type": "stream",
     "text": [
      "=================================\n",
      "Initial portfolio value: 100000\n",
      "Final portfolio value: 833827.625\n",
      "Final accumulative portfolio return: 8.33827625\n",
      "Maximum DrawDown: -0.31427299228609784\n",
      "Sharpe ratio: 1.287238578112676\n",
      "=================================\n"
     ]
    },
    {
     "name": "stderr",
     "output_type": "stream",
     "text": [
      " 76%|███████▌  | 19/25 [10:23<03:17, 32.91s/it]"
     ]
    },
    {
     "name": "stdout",
     "output_type": "stream",
     "text": [
      "=================================\n",
      "Initial portfolio value: 100000\n",
      "Final portfolio value: 785321.875\n",
      "Final accumulative portfolio return: 7.85321875\n",
      "Maximum DrawDown: -0.3193608734968044\n",
      "Sharpe ratio: 1.2365429228764713\n",
      "=================================\n"
     ]
    },
    {
     "name": "stderr",
     "output_type": "stream",
     "text": [
      " 80%|████████  | 20/25 [10:56<02:44, 32.93s/it]"
     ]
    },
    {
     "name": "stdout",
     "output_type": "stream",
     "text": [
      "=================================\n",
      "Initial portfolio value: 100000\n",
      "Final portfolio value: 916733.25\n",
      "Final accumulative portfolio return: 9.1673325\n",
      "Maximum DrawDown: -0.3142729282059704\n",
      "Sharpe ratio: 1.34449406922305\n",
      "=================================\n"
     ]
    },
    {
     "name": "stderr",
     "output_type": "stream",
     "text": [
      " 84%|████████▍ | 21/25 [11:29<02:11, 32.99s/it]"
     ]
    },
    {
     "name": "stdout",
     "output_type": "stream",
     "text": [
      "=================================\n",
      "Initial portfolio value: 100000\n",
      "Final portfolio value: 790751.25\n",
      "Final accumulative portfolio return: 7.9075125\n",
      "Maximum DrawDown: -0.34834172972509814\n",
      "Sharpe ratio: 1.2518237197383655\n",
      "=================================\n"
     ]
    },
    {
     "name": "stderr",
     "output_type": "stream",
     "text": [
      " 88%|████████▊ | 22/25 [12:03<01:39, 33.07s/it]"
     ]
    },
    {
     "name": "stdout",
     "output_type": "stream",
     "text": [
      "=================================\n",
      "Initial portfolio value: 100000\n",
      "Final portfolio value: 1106589.0\n",
      "Final accumulative portfolio return: 11.06589\n",
      "Maximum DrawDown: -0.31477474207493006\n",
      "Sharpe ratio: 1.4459080079110669\n",
      "=================================\n"
     ]
    },
    {
     "name": "stderr",
     "output_type": "stream",
     "text": [
      " 92%|█████████▏| 23/25 [12:36<01:06, 33.07s/it]"
     ]
    },
    {
     "name": "stdout",
     "output_type": "stream",
     "text": [
      "=================================\n",
      "Initial portfolio value: 100000\n",
      "Final portfolio value: 887350.875\n",
      "Final accumulative portfolio return: 8.87350875\n",
      "Maximum DrawDown: -0.3663683646438699\n",
      "Sharpe ratio: 1.298887632918877\n",
      "=================================\n"
     ]
    },
    {
     "name": "stderr",
     "output_type": "stream",
     "text": [
      " 96%|█████████▌| 24/25 [13:09<00:33, 33.07s/it]"
     ]
    },
    {
     "name": "stdout",
     "output_type": "stream",
     "text": [
      "=================================\n",
      "Initial portfolio value: 100000\n",
      "Final portfolio value: 849245.75\n",
      "Final accumulative portfolio return: 8.4924575\n",
      "Maximum DrawDown: -0.3851597272508286\n",
      "Sharpe ratio: 1.2611823495125243\n",
      "=================================\n"
     ]
    },
    {
     "name": "stderr",
     "output_type": "stream",
     "text": [
      "100%|██████████| 25/25 [13:42<00:00, 32.90s/it]\n",
      "C:\\Users\\xutia\\AppData\\Local\\Temp\\ipykernel_36848\\1259870935.py:43: FutureWarning: You are using `torch.load` with `weights_only=False` (the current default value), which uses the default pickle module implicitly. It is possible to construct malicious pickle data which will execute arbitrary code during unpickling (See https://github.com/pytorch/pytorch/blob/main/SECURITY.md#untrusted-models for more details). In a future release, the default value for `weights_only` will be flipped to `True`. This limits the functions that could be executed during unpickling. Arbitrary objects will no longer be allowed to be loaded via this mode unless they are explicitly allowlisted by the user via `torch.serialization.add_safe_globals`. We recommend you start setting `weights_only=True` for any use case where you don't have full control of the loaded file. Please open an issue on GitHub for any issues related to this experimental feature.\n",
      "  EIIE_policy.load_state_dict(torch.load(model_filename))\n"
     ]
    },
    {
     "name": "stdout",
     "output_type": "stream",
     "text": [
      "=================================\n",
      "Initial portfolio value: 100000\n",
      "Final portfolio value: 638576.0\n",
      "Final accumulative portfolio return: 6.38576\n",
      "Maximum DrawDown: -0.3851586694517797\n",
      "Sharpe ratio: 1.117166848665696\n",
      "=================================\n",
      "=================================\n",
      "Initial portfolio value: 100000\n",
      "Final portfolio value: 132942.28125\n",
      "Final accumulative portfolio return: 1.3294228125\n",
      "Maximum DrawDown: -0.33156714509395535\n",
      "Sharpe ratio: 0.6787072096708726\n",
      "=================================\n",
      "Training model with TIME_WINDOW=60, K_SIZE=4, CONV_MID=5, CONV_FINAL=5, LEARNING_RATE=0.02\n"
     ]
    },
    {
     "name": "stderr",
     "output_type": "stream",
     "text": [
      "  0%|          | 0/25 [00:00<?, ?it/s]"
     ]
    },
    {
     "name": "stdout",
     "output_type": "stream",
     "text": [
      "=================================\n",
      "Initial portfolio value: 100000\n",
      "Final portfolio value: 266779.78125\n",
      "Final accumulative portfolio return: 2.6677978125\n",
      "Maximum DrawDown: -0.2917210194789792\n",
      "Sharpe ratio: 0.8717491896356244\n",
      "=================================\n"
     ]
    },
    {
     "name": "stderr",
     "output_type": "stream",
     "text": [
      "  4%|▍         | 1/25 [00:32<13:11, 32.97s/it]"
     ]
    },
    {
     "name": "stdout",
     "output_type": "stream",
     "text": [
      "=================================\n",
      "Initial portfolio value: 100000\n",
      "Final portfolio value: 355669.1875\n",
      "Final accumulative portfolio return: 3.556691875\n",
      "Maximum DrawDown: -0.2667847152334596\n",
      "Sharpe ratio: 1.0576110076566654\n",
      "=================================\n"
     ]
    },
    {
     "name": "stderr",
     "output_type": "stream",
     "text": [
      "  8%|▊         | 2/25 [01:05<12:32, 32.73s/it]"
     ]
    },
    {
     "name": "stdout",
     "output_type": "stream",
     "text": [
      "=================================\n",
      "Initial portfolio value: 100000\n",
      "Final portfolio value: 488292.65625\n",
      "Final accumulative portfolio return: 4.8829265625\n",
      "Maximum DrawDown: -0.25539377890113\n",
      "Sharpe ratio: 1.2469588992083172\n",
      "=================================\n"
     ]
    },
    {
     "name": "stderr",
     "output_type": "stream",
     "text": [
      " 12%|█▏        | 3/25 [01:39<12:08, 33.11s/it]"
     ]
    },
    {
     "name": "stdout",
     "output_type": "stream",
     "text": [
      "=================================\n",
      "Initial portfolio value: 100000\n",
      "Final portfolio value: 566525.75\n",
      "Final accumulative portfolio return: 5.6652575\n",
      "Maximum DrawDown: -0.2542536305884613\n",
      "Sharpe ratio: 1.2937056842252639\n",
      "=================================\n"
     ]
    },
    {
     "name": "stderr",
     "output_type": "stream",
     "text": [
      " 16%|█▌        | 4/25 [02:12<11:34, 33.05s/it]"
     ]
    },
    {
     "name": "stdout",
     "output_type": "stream",
     "text": [
      "=================================\n",
      "Initial portfolio value: 100000\n",
      "Final portfolio value: 623684.6875\n",
      "Final accumulative portfolio return: 6.236846875\n",
      "Maximum DrawDown: -0.26929670567727026\n",
      "Sharpe ratio: 1.2702674635288314\n",
      "=================================\n"
     ]
    },
    {
     "name": "stderr",
     "output_type": "stream",
     "text": [
      " 20%|██        | 5/25 [02:44<10:58, 32.93s/it]"
     ]
    },
    {
     "name": "stdout",
     "output_type": "stream",
     "text": [
      "=================================\n",
      "Initial portfolio value: 100000\n",
      "Final portfolio value: 844909.125\n",
      "Final accumulative portfolio return: 8.44909125\n",
      "Maximum DrawDown: -0.2764657949580255\n",
      "Sharpe ratio: 1.4181316018639032\n",
      "=================================\n"
     ]
    },
    {
     "name": "stderr",
     "output_type": "stream",
     "text": [
      " 24%|██▍       | 6/25 [03:17<10:25, 32.91s/it]"
     ]
    },
    {
     "name": "stdout",
     "output_type": "stream",
     "text": [
      "=================================\n",
      "Initial portfolio value: 100000\n",
      "Final portfolio value: 958644.0625\n",
      "Final accumulative portfolio return: 9.586440625\n",
      "Maximum DrawDown: -0.280096808713861\n",
      "Sharpe ratio: 1.4459542584929013\n",
      "=================================\n"
     ]
    },
    {
     "name": "stderr",
     "output_type": "stream",
     "text": [
      " 28%|██▊       | 7/25 [03:50<09:52, 32.90s/it]"
     ]
    },
    {
     "name": "stdout",
     "output_type": "stream",
     "text": [
      "=================================\n",
      "Initial portfolio value: 100000\n",
      "Final portfolio value: 905401.0625\n",
      "Final accumulative portfolio return: 9.054010625\n",
      "Maximum DrawDown: -0.3226406610145547\n",
      "Sharpe ratio: 1.4234293172288792\n",
      "=================================\n"
     ]
    },
    {
     "name": "stderr",
     "output_type": "stream",
     "text": [
      " 32%|███▏      | 8/25 [04:23<09:20, 32.95s/it]"
     ]
    },
    {
     "name": "stdout",
     "output_type": "stream",
     "text": [
      "=================================\n",
      "Initial portfolio value: 100000\n",
      "Final portfolio value: 858435.0625\n",
      "Final accumulative portfolio return: 8.584350625\n",
      "Maximum DrawDown: -0.28039181464135443\n",
      "Sharpe ratio: 1.3899784990269262\n",
      "=================================\n"
     ]
    },
    {
     "name": "stderr",
     "output_type": "stream",
     "text": [
      " 36%|███▌      | 9/25 [04:56<08:46, 32.93s/it]"
     ]
    },
    {
     "name": "stdout",
     "output_type": "stream",
     "text": [
      "=================================\n",
      "Initial portfolio value: 100000\n",
      "Final portfolio value: 1117652.75\n",
      "Final accumulative portfolio return: 11.1765275\n",
      "Maximum DrawDown: -0.27608436179507445\n",
      "Sharpe ratio: 1.5196108081206963\n",
      "=================================\n"
     ]
    },
    {
     "name": "stderr",
     "output_type": "stream",
     "text": [
      " 40%|████      | 10/25 [05:29<08:15, 33.01s/it]"
     ]
    },
    {
     "name": "stdout",
     "output_type": "stream",
     "text": [
      "=================================\n",
      "Initial portfolio value: 100000\n",
      "Final portfolio value: 1302129.875\n",
      "Final accumulative portfolio return: 13.02129875\n",
      "Maximum DrawDown: -0.2799523354128779\n",
      "Sharpe ratio: 1.6069083842676442\n",
      "=================================\n"
     ]
    },
    {
     "name": "stderr",
     "output_type": "stream",
     "text": [
      " 44%|████▍     | 11/25 [06:02<07:42, 33.05s/it]"
     ]
    },
    {
     "name": "stdout",
     "output_type": "stream",
     "text": [
      "=================================\n",
      "Initial portfolio value: 100000\n",
      "Final portfolio value: 1386376.0\n",
      "Final accumulative portfolio return: 13.86376\n",
      "Maximum DrawDown: -0.2801771167793875\n",
      "Sharpe ratio: 1.618002341074543\n",
      "=================================\n"
     ]
    },
    {
     "name": "stderr",
     "output_type": "stream",
     "text": [
      " 48%|████▊     | 12/25 [06:36<07:11, 33.22s/it]"
     ]
    },
    {
     "name": "stdout",
     "output_type": "stream",
     "text": [
      "=================================\n",
      "Initial portfolio value: 100000\n",
      "Final portfolio value: 1288025.625\n",
      "Final accumulative portfolio return: 12.88025625\n",
      "Maximum DrawDown: -0.2810154961893977\n",
      "Sharpe ratio: 1.5999468632195144\n",
      "=================================\n"
     ]
    },
    {
     "name": "stderr",
     "output_type": "stream",
     "text": [
      " 52%|█████▏    | 13/25 [07:09<06:39, 33.31s/it]"
     ]
    },
    {
     "name": "stdout",
     "output_type": "stream",
     "text": [
      "=================================\n",
      "Initial portfolio value: 100000\n",
      "Final portfolio value: 1243905.125\n",
      "Final accumulative portfolio return: 12.43905125\n",
      "Maximum DrawDown: -0.28040708487828414\n",
      "Sharpe ratio: 1.5456878087441952\n",
      "=================================\n"
     ]
    },
    {
     "name": "stderr",
     "output_type": "stream",
     "text": [
      " 56%|█████▌    | 14/25 [07:43<06:05, 33.25s/it]"
     ]
    },
    {
     "name": "stdout",
     "output_type": "stream",
     "text": [
      "=================================\n",
      "Initial portfolio value: 100000\n",
      "Final portfolio value: 555831.5625\n",
      "Final accumulative portfolio return: 5.558315625\n",
      "Maximum DrawDown: -0.30437607026140145\n",
      "Sharpe ratio: 1.071581913590549\n",
      "=================================\n"
     ]
    },
    {
     "name": "stderr",
     "output_type": "stream",
     "text": [
      " 60%|██████    | 15/25 [08:16<05:32, 33.22s/it]"
     ]
    },
    {
     "name": "stdout",
     "output_type": "stream",
     "text": [
      "=================================\n",
      "Initial portfolio value: 100000\n",
      "Final portfolio value: 937264.3125\n",
      "Final accumulative portfolio return: 9.372643125\n",
      "Maximum DrawDown: -0.28519696532771843\n",
      "Sharpe ratio: 1.37482365909347\n",
      "=================================\n"
     ]
    },
    {
     "name": "stderr",
     "output_type": "stream",
     "text": [
      " 64%|██████▍   | 16/25 [08:49<04:58, 33.11s/it]"
     ]
    },
    {
     "name": "stdout",
     "output_type": "stream",
     "text": [
      "=================================\n",
      "Initial portfolio value: 100000\n",
      "Final portfolio value: 916192.5625\n",
      "Final accumulative portfolio return: 9.161925625\n",
      "Maximum DrawDown: -0.2886180186273922\n",
      "Sharpe ratio: 1.3631564695366152\n",
      "=================================\n"
     ]
    },
    {
     "name": "stderr",
     "output_type": "stream",
     "text": [
      " 68%|██████▊   | 17/25 [09:22<04:24, 33.12s/it]"
     ]
    },
    {
     "name": "stdout",
     "output_type": "stream",
     "text": [
      "=================================\n",
      "Initial portfolio value: 100000\n",
      "Final portfolio value: 953964.4375\n",
      "Final accumulative portfolio return: 9.539644375\n",
      "Maximum DrawDown: -0.2803930190141347\n",
      "Sharpe ratio: 1.3737265894193345\n",
      "=================================\n"
     ]
    },
    {
     "name": "stderr",
     "output_type": "stream",
     "text": [
      " 72%|███████▏  | 18/25 [09:55<03:52, 33.24s/it]"
     ]
    },
    {
     "name": "stdout",
     "output_type": "stream",
     "text": [
      "=================================\n",
      "Initial portfolio value: 100000\n",
      "Final portfolio value: 1101057.25\n",
      "Final accumulative portfolio return: 11.0105725\n",
      "Maximum DrawDown: -0.293282190510718\n",
      "Sharpe ratio: 1.466410030365441\n",
      "=================================\n"
     ]
    },
    {
     "name": "stderr",
     "output_type": "stream",
     "text": [
      " 76%|███████▌  | 19/25 [10:28<03:19, 33.24s/it]"
     ]
    },
    {
     "name": "stdout",
     "output_type": "stream",
     "text": [
      "=================================\n",
      "Initial portfolio value: 100000\n",
      "Final portfolio value: 1060564.625\n",
      "Final accumulative portfolio return: 10.60564625\n",
      "Maximum DrawDown: -0.28039284089099825\n",
      "Sharpe ratio: 1.4443084055180084\n",
      "=================================\n"
     ]
    },
    {
     "name": "stderr",
     "output_type": "stream",
     "text": [
      " 80%|████████  | 20/25 [11:01<02:45, 33.15s/it]"
     ]
    },
    {
     "name": "stdout",
     "output_type": "stream",
     "text": [
      "=================================\n",
      "Initial portfolio value: 100000\n",
      "Final portfolio value: 561006.125\n",
      "Final accumulative portfolio return: 5.61006125\n",
      "Maximum DrawDown: -0.3883772188810892\n",
      "Sharpe ratio: 1.0637401329256897\n",
      "=================================\n"
     ]
    },
    {
     "name": "stderr",
     "output_type": "stream",
     "text": [
      " 84%|████████▍ | 21/25 [11:34<02:12, 33.07s/it]"
     ]
    },
    {
     "name": "stdout",
     "output_type": "stream",
     "text": [
      "=================================\n",
      "Initial portfolio value: 100000\n",
      "Final portfolio value: 1057327.25\n",
      "Final accumulative portfolio return: 10.5732725\n",
      "Maximum DrawDown: -0.2858511747810337\n",
      "Sharpe ratio: 1.4332108111977628\n",
      "=================================\n"
     ]
    },
    {
     "name": "stderr",
     "output_type": "stream",
     "text": [
      " 88%|████████▊ | 22/25 [12:07<01:39, 33.07s/it]"
     ]
    },
    {
     "name": "stdout",
     "output_type": "stream",
     "text": [
      "=================================\n",
      "Initial portfolio value: 100000\n",
      "Final portfolio value: 1104021.625\n",
      "Final accumulative portfolio return: 11.04021625\n",
      "Maximum DrawDown: -0.2930169787758634\n",
      "Sharpe ratio: 1.4472597733495636\n",
      "=================================\n"
     ]
    },
    {
     "name": "stderr",
     "output_type": "stream",
     "text": [
      " 92%|█████████▏| 23/25 [12:41<01:06, 33.14s/it]"
     ]
    },
    {
     "name": "stdout",
     "output_type": "stream",
     "text": [
      "=================================\n",
      "Initial portfolio value: 100000\n",
      "Final portfolio value: 1876135.75\n",
      "Final accumulative portfolio return: 18.7613575\n",
      "Maximum DrawDown: -0.2840132401179529\n",
      "Sharpe ratio: 1.743527430169993\n",
      "=================================\n"
     ]
    },
    {
     "name": "stderr",
     "output_type": "stream",
     "text": [
      " 96%|█████████▌| 24/25 [13:14<00:33, 33.12s/it]"
     ]
    },
    {
     "name": "stdout",
     "output_type": "stream",
     "text": [
      "=================================\n",
      "Initial portfolio value: 100000\n",
      "Final portfolio value: 932300.75\n",
      "Final accumulative portfolio return: 9.3230075\n",
      "Maximum DrawDown: -0.30109234179068367\n",
      "Sharpe ratio: 1.342447592244072\n",
      "=================================\n"
     ]
    },
    {
     "name": "stderr",
     "output_type": "stream",
     "text": [
      "100%|██████████| 25/25 [13:47<00:00, 33.09s/it]\n",
      "C:\\Users\\xutia\\AppData\\Local\\Temp\\ipykernel_36848\\1259870935.py:43: FutureWarning: You are using `torch.load` with `weights_only=False` (the current default value), which uses the default pickle module implicitly. It is possible to construct malicious pickle data which will execute arbitrary code during unpickling (See https://github.com/pytorch/pytorch/blob/main/SECURITY.md#untrusted-models for more details). In a future release, the default value for `weights_only` will be flipped to `True`. This limits the functions that could be executed during unpickling. Arbitrary objects will no longer be allowed to be loaded via this mode unless they are explicitly allowlisted by the user via `torch.serialization.add_safe_globals`. We recommend you start setting `weights_only=True` for any use case where you don't have full control of the loaded file. Please open an issue on GitHub for any issues related to this experimental feature.\n",
      "  EIIE_policy.load_state_dict(torch.load(model_filename))\n"
     ]
    },
    {
     "name": "stdout",
     "output_type": "stream",
     "text": [
      "=================================\n",
      "Initial portfolio value: 100000\n",
      "Final portfolio value: 644492.75\n",
      "Final accumulative portfolio return: 6.4449275\n",
      "Maximum DrawDown: -0.32258929664363667\n",
      "Sharpe ratio: 1.1331902513698404\n",
      "=================================\n",
      "=================================\n",
      "Initial portfolio value: 100000\n",
      "Final portfolio value: 54166.01171875\n",
      "Final accumulative portfolio return: 0.5416601171875\n",
      "Maximum DrawDown: -0.5891589420490895\n",
      "Sharpe ratio: -0.9805332637135983\n",
      "=================================\n",
      "Training model with TIME_WINDOW=60, K_SIZE=4, CONV_MID=5, CONV_FINAL=10, LEARNING_RATE=0.02\n"
     ]
    },
    {
     "name": "stderr",
     "output_type": "stream",
     "text": [
      "  0%|          | 0/25 [00:00<?, ?it/s]"
     ]
    },
    {
     "name": "stdout",
     "output_type": "stream",
     "text": [
      "=================================\n",
      "Initial portfolio value: 100000\n",
      "Final portfolio value: 230207.125\n",
      "Final accumulative portfolio return: 2.30207125\n",
      "Maximum DrawDown: -0.3342027663273762\n",
      "Sharpe ratio: 0.7740360667320332\n",
      "=================================\n"
     ]
    },
    {
     "name": "stderr",
     "output_type": "stream",
     "text": [
      "  4%|▍         | 1/25 [00:33<13:12, 33.01s/it]"
     ]
    },
    {
     "name": "stdout",
     "output_type": "stream",
     "text": [
      "=================================\n",
      "Initial portfolio value: 100000\n",
      "Final portfolio value: 311893.0\n",
      "Final accumulative portfolio return: 3.11893\n",
      "Maximum DrawDown: -0.28072092075004196\n",
      "Sharpe ratio: 0.9885465357237923\n",
      "=================================\n"
     ]
    },
    {
     "name": "stderr",
     "output_type": "stream",
     "text": [
      "  8%|▊         | 2/25 [01:05<12:38, 32.98s/it]"
     ]
    },
    {
     "name": "stdout",
     "output_type": "stream",
     "text": [
      "=================================\n",
      "Initial portfolio value: 100000\n",
      "Final portfolio value: 509624.0\n",
      "Final accumulative portfolio return: 5.09624\n",
      "Maximum DrawDown: -0.2680867613961758\n",
      "Sharpe ratio: 1.276682275333602\n",
      "=================================\n"
     ]
    },
    {
     "name": "stderr",
     "output_type": "stream",
     "text": [
      " 12%|█▏        | 3/25 [01:38<12:03, 32.88s/it]"
     ]
    },
    {
     "name": "stdout",
     "output_type": "stream",
     "text": [
      "=================================\n",
      "Initial portfolio value: 100000\n",
      "Final portfolio value: 672989.625\n",
      "Final accumulative portfolio return: 6.72989625\n",
      "Maximum DrawDown: -0.2862739250664209\n",
      "Sharpe ratio: 1.283855054352142\n",
      "=================================\n"
     ]
    },
    {
     "name": "stderr",
     "output_type": "stream",
     "text": [
      " 16%|█▌        | 4/25 [02:11<11:31, 32.92s/it]"
     ]
    },
    {
     "name": "stdout",
     "output_type": "stream",
     "text": [
      "=================================\n",
      "Initial portfolio value: 100000\n",
      "Final portfolio value: 839845.3125\n",
      "Final accumulative portfolio return: 8.398453125\n",
      "Maximum DrawDown: -0.27980275373821395\n",
      "Sharpe ratio: 1.386457067795915\n",
      "=================================\n"
     ]
    },
    {
     "name": "stderr",
     "output_type": "stream",
     "text": [
      " 20%|██        | 5/25 [02:44<11:00, 33.01s/it]"
     ]
    },
    {
     "name": "stdout",
     "output_type": "stream",
     "text": [
      "=================================\n",
      "Initial portfolio value: 100000\n",
      "Final portfolio value: 1033691.0625\n",
      "Final accumulative portfolio return: 10.336910625\n",
      "Maximum DrawDown: -0.2785219332270559\n",
      "Sharpe ratio: 1.4943207376056318\n",
      "=================================\n"
     ]
    },
    {
     "name": "stderr",
     "output_type": "stream",
     "text": [
      " 24%|██▍       | 6/25 [03:17<10:27, 33.02s/it]"
     ]
    },
    {
     "name": "stdout",
     "output_type": "stream",
     "text": [
      "=================================\n",
      "Initial portfolio value: 100000\n",
      "Final portfolio value: 1128466.125\n",
      "Final accumulative portfolio return: 11.28466125\n",
      "Maximum DrawDown: -0.28022601107580414\n",
      "Sharpe ratio: 1.5230015110282131\n",
      "=================================\n"
     ]
    },
    {
     "name": "stderr",
     "output_type": "stream",
     "text": [
      " 28%|██▊       | 7/25 [03:50<09:51, 32.85s/it]"
     ]
    },
    {
     "name": "stdout",
     "output_type": "stream",
     "text": [
      "=================================\n",
      "Initial portfolio value: 100000\n",
      "Final portfolio value: 1050583.0\n",
      "Final accumulative portfolio return: 10.50583\n",
      "Maximum DrawDown: -0.2886886701807361\n",
      "Sharpe ratio: 1.497235543278617\n",
      "=================================\n"
     ]
    },
    {
     "name": "stderr",
     "output_type": "stream",
     "text": [
      " 32%|███▏      | 8/25 [04:23<09:22, 33.07s/it]"
     ]
    },
    {
     "name": "stdout",
     "output_type": "stream",
     "text": [
      "=================================\n",
      "Initial portfolio value: 100000\n",
      "Final portfolio value: 1235434.875\n",
      "Final accumulative portfolio return: 12.35434875\n",
      "Maximum DrawDown: -0.28038859231028324\n",
      "Sharpe ratio: 1.567478232402991\n",
      "=================================\n"
     ]
    },
    {
     "name": "stderr",
     "output_type": "stream",
     "text": [
      " 36%|███▌      | 9/25 [04:56<08:46, 32.91s/it]"
     ]
    },
    {
     "name": "stdout",
     "output_type": "stream",
     "text": [
      "=================================\n",
      "Initial portfolio value: 100000\n",
      "Final portfolio value: 1255644.875\n",
      "Final accumulative portfolio return: 12.55644875\n",
      "Maximum DrawDown: -0.2865718327789495\n",
      "Sharpe ratio: 1.5767057086490834\n",
      "=================================\n"
     ]
    },
    {
     "name": "stderr",
     "output_type": "stream",
     "text": [
      " 40%|████      | 10/25 [05:29<08:12, 32.84s/it]"
     ]
    },
    {
     "name": "stdout",
     "output_type": "stream",
     "text": [
      "=================================\n",
      "Initial portfolio value: 100000\n",
      "Final portfolio value: 1266253.875\n",
      "Final accumulative portfolio return: 12.66253875\n",
      "Maximum DrawDown: -0.27706386814686956\n",
      "Sharpe ratio: 1.5800451392151031\n",
      "=================================\n"
     ]
    },
    {
     "name": "stderr",
     "output_type": "stream",
     "text": [
      " 44%|████▍     | 11/25 [06:02<07:40, 32.87s/it]"
     ]
    },
    {
     "name": "stdout",
     "output_type": "stream",
     "text": [
      "=================================\n",
      "Initial portfolio value: 100000\n",
      "Final portfolio value: 1037165.125\n",
      "Final accumulative portfolio return: 10.37165125\n",
      "Maximum DrawDown: -0.2822987587682725\n",
      "Sharpe ratio: 1.4724923652437358\n",
      "=================================\n"
     ]
    },
    {
     "name": "stderr",
     "output_type": "stream",
     "text": [
      " 48%|████▊     | 12/25 [06:35<07:08, 32.99s/it]"
     ]
    },
    {
     "name": "stdout",
     "output_type": "stream",
     "text": [
      "=================================\n",
      "Initial portfolio value: 100000\n",
      "Final portfolio value: 1517908.75\n",
      "Final accumulative portfolio return: 15.1790875\n",
      "Maximum DrawDown: -0.28027710279643514\n",
      "Sharpe ratio: 1.6764020703407203\n",
      "=================================\n"
     ]
    },
    {
     "name": "stderr",
     "output_type": "stream",
     "text": [
      " 52%|█████▏    | 13/25 [07:08<06:34, 32.91s/it]"
     ]
    },
    {
     "name": "stdout",
     "output_type": "stream",
     "text": [
      "=================================\n",
      "Initial portfolio value: 100000\n",
      "Final portfolio value: 1118239.5\n",
      "Final accumulative portfolio return: 11.182395\n",
      "Maximum DrawDown: -0.28180753730687913\n",
      "Sharpe ratio: 1.481255351089645\n",
      "=================================\n"
     ]
    },
    {
     "name": "stderr",
     "output_type": "stream",
     "text": [
      " 56%|█████▌    | 14/25 [07:41<06:02, 33.00s/it]"
     ]
    },
    {
     "name": "stdout",
     "output_type": "stream",
     "text": [
      "=================================\n",
      "Initial portfolio value: 100000\n",
      "Final portfolio value: 965749.1875\n",
      "Final accumulative portfolio return: 9.657491875\n",
      "Maximum DrawDown: -0.28041236884612586\n",
      "Sharpe ratio: 1.4346480130963515\n",
      "=================================\n"
     ]
    },
    {
     "name": "stderr",
     "output_type": "stream",
     "text": [
      " 60%|██████    | 15/25 [08:14<05:31, 33.11s/it]"
     ]
    },
    {
     "name": "stdout",
     "output_type": "stream",
     "text": [
      "=================================\n",
      "Initial portfolio value: 100000\n",
      "Final portfolio value: 1371805.0\n",
      "Final accumulative portfolio return: 13.71805\n",
      "Maximum DrawDown: -0.27938540292473224\n",
      "Sharpe ratio: 1.606359332067266\n",
      "=================================\n"
     ]
    },
    {
     "name": "stderr",
     "output_type": "stream",
     "text": [
      " 64%|██████▍   | 16/25 [08:47<04:58, 33.17s/it]"
     ]
    },
    {
     "name": "stdout",
     "output_type": "stream",
     "text": [
      "=================================\n",
      "Initial portfolio value: 100000\n",
      "Final portfolio value: 1508277.125\n",
      "Final accumulative portfolio return: 15.08277125\n",
      "Maximum DrawDown: -0.2676363196567234\n",
      "Sharpe ratio: 1.6566368622474392\n",
      "=================================\n"
     ]
    },
    {
     "name": "stderr",
     "output_type": "stream",
     "text": [
      " 68%|██████▊   | 17/25 [09:21<04:26, 33.34s/it]"
     ]
    },
    {
     "name": "stdout",
     "output_type": "stream",
     "text": [
      "=================================\n",
      "Initial portfolio value: 100000\n",
      "Final portfolio value: 1651156.875\n",
      "Final accumulative portfolio return: 16.51156875\n",
      "Maximum DrawDown: -0.30480221989722633\n",
      "Sharpe ratio: 1.7168214302711253\n",
      "=================================\n"
     ]
    },
    {
     "name": "stderr",
     "output_type": "stream",
     "text": [
      " 72%|███████▏  | 18/25 [09:55<03:54, 33.51s/it]"
     ]
    },
    {
     "name": "stdout",
     "output_type": "stream",
     "text": [
      "=================================\n",
      "Initial portfolio value: 100000\n",
      "Final portfolio value: 1562512.25\n",
      "Final accumulative portfolio return: 15.6251225\n",
      "Maximum DrawDown: -0.28073376044197185\n",
      "Sharpe ratio: 1.6724118165836008\n",
      "=================================\n"
     ]
    },
    {
     "name": "stderr",
     "output_type": "stream",
     "text": [
      " 76%|███████▌  | 19/25 [10:29<03:21, 33.57s/it]"
     ]
    },
    {
     "name": "stdout",
     "output_type": "stream",
     "text": [
      "=================================\n",
      "Initial portfolio value: 100000\n",
      "Final portfolio value: 1497440.125\n",
      "Final accumulative portfolio return: 14.97440125\n",
      "Maximum DrawDown: -0.27618942167231475\n",
      "Sharpe ratio: 1.6662794221719894\n",
      "=================================\n"
     ]
    },
    {
     "name": "stderr",
     "output_type": "stream",
     "text": [
      " 80%|████████  | 20/25 [11:02<02:47, 33.41s/it]"
     ]
    },
    {
     "name": "stdout",
     "output_type": "stream",
     "text": [
      "=================================\n",
      "Initial portfolio value: 100000\n",
      "Final portfolio value: 1600133.875\n",
      "Final accumulative portfolio return: 16.00133875\n",
      "Maximum DrawDown: -0.2889297668956412\n",
      "Sharpe ratio: 1.7318572529154115\n",
      "=================================\n"
     ]
    },
    {
     "name": "stderr",
     "output_type": "stream",
     "text": [
      " 84%|████████▍ | 21/25 [11:35<02:13, 33.30s/it]"
     ]
    },
    {
     "name": "stdout",
     "output_type": "stream",
     "text": [
      "=================================\n",
      "Initial portfolio value: 100000\n",
      "Final portfolio value: 1321709.75\n",
      "Final accumulative portfolio return: 13.2170975\n",
      "Maximum DrawDown: -0.27058853907666125\n",
      "Sharpe ratio: 1.5849377972726966\n",
      "=================================\n"
     ]
    },
    {
     "name": "stderr",
     "output_type": "stream",
     "text": [
      " 88%|████████▊ | 22/25 [12:08<01:39, 33.24s/it]"
     ]
    },
    {
     "name": "stdout",
     "output_type": "stream",
     "text": [
      "=================================\n",
      "Initial portfolio value: 100000\n",
      "Final portfolio value: 1188896.75\n",
      "Final accumulative portfolio return: 11.8889675\n",
      "Maximum DrawDown: -0.2845865466524885\n",
      "Sharpe ratio: 1.539447543294661\n",
      "=================================\n"
     ]
    },
    {
     "name": "stderr",
     "output_type": "stream",
     "text": [
      " 92%|█████████▏| 23/25 [12:41<01:06, 33.30s/it]"
     ]
    },
    {
     "name": "stdout",
     "output_type": "stream",
     "text": [
      "=================================\n",
      "Initial portfolio value: 100000\n",
      "Final portfolio value: 1728832.75\n",
      "Final accumulative portfolio return: 17.2883275\n",
      "Maximum DrawDown: -0.2688385660351237\n",
      "Sharpe ratio: 1.7183780534182518\n",
      "=================================\n"
     ]
    },
    {
     "name": "stderr",
     "output_type": "stream",
     "text": [
      " 96%|█████████▌| 24/25 [13:15<00:33, 33.45s/it]"
     ]
    },
    {
     "name": "stdout",
     "output_type": "stream",
     "text": [
      "=================================\n",
      "Initial portfolio value: 100000\n",
      "Final portfolio value: 1785995.625\n",
      "Final accumulative portfolio return: 17.85995625\n",
      "Maximum DrawDown: -0.2877863209526953\n",
      "Sharpe ratio: 1.7558913090604211\n",
      "=================================\n"
     ]
    },
    {
     "name": "stderr",
     "output_type": "stream",
     "text": [
      "100%|██████████| 25/25 [13:48<00:00, 33.16s/it]\n",
      "C:\\Users\\xutia\\AppData\\Local\\Temp\\ipykernel_36848\\1259870935.py:43: FutureWarning: You are using `torch.load` with `weights_only=False` (the current default value), which uses the default pickle module implicitly. It is possible to construct malicious pickle data which will execute arbitrary code during unpickling (See https://github.com/pytorch/pytorch/blob/main/SECURITY.md#untrusted-models for more details). In a future release, the default value for `weights_only` will be flipped to `True`. This limits the functions that could be executed during unpickling. Arbitrary objects will no longer be allowed to be loaded via this mode unless they are explicitly allowlisted by the user via `torch.serialization.add_safe_globals`. We recommend you start setting `weights_only=True` for any use case where you don't have full control of the loaded file. Please open an issue on GitHub for any issues related to this experimental feature.\n",
      "  EIIE_policy.load_state_dict(torch.load(model_filename))\n"
     ]
    },
    {
     "name": "stdout",
     "output_type": "stream",
     "text": [
      "=================================\n",
      "Initial portfolio value: 100000\n",
      "Final portfolio value: 782511.5\n",
      "Final accumulative portfolio return: 7.825115\n",
      "Maximum DrawDown: -0.2803930481017056\n",
      "Sharpe ratio: 1.3860225187316728\n",
      "=================================\n",
      "=================================\n",
      "Initial portfolio value: 100000\n",
      "Final portfolio value: 90170.125\n",
      "Final accumulative portfolio return: 0.90170125\n",
      "Maximum DrawDown: -0.36738038983200394\n",
      "Sharpe ratio: -0.067471358891464\n",
      "=================================\n",
      "Training model with TIME_WINDOW=60, K_SIZE=4, CONV_MID=5, CONV_FINAL=20, LEARNING_RATE=0.02\n"
     ]
    },
    {
     "name": "stderr",
     "output_type": "stream",
     "text": [
      "  0%|          | 0/25 [00:00<?, ?it/s]"
     ]
    },
    {
     "name": "stdout",
     "output_type": "stream",
     "text": [
      "=================================\n",
      "Initial portfolio value: 100000\n",
      "Final portfolio value: 300879.34375\n",
      "Final accumulative portfolio return: 3.0087934375\n",
      "Maximum DrawDown: -0.3196357147168919\n",
      "Sharpe ratio: 0.8952111208775679\n",
      "=================================\n"
     ]
    },
    {
     "name": "stderr",
     "output_type": "stream",
     "text": [
      "  4%|▍         | 1/25 [00:33<13:31, 33.80s/it]"
     ]
    },
    {
     "name": "stdout",
     "output_type": "stream",
     "text": [
      "=================================\n",
      "Initial portfolio value: 100000\n",
      "Final portfolio value: 556604.1875\n",
      "Final accumulative portfolio return: 5.566041875\n",
      "Maximum DrawDown: -0.2900683151351633\n",
      "Sharpe ratio: 1.19509865021541\n",
      "=================================\n"
     ]
    },
    {
     "name": "stderr",
     "output_type": "stream",
     "text": [
      "  8%|▊         | 2/25 [01:07<12:49, 33.45s/it]"
     ]
    },
    {
     "name": "stdout",
     "output_type": "stream",
     "text": [
      "=================================\n",
      "Initial portfolio value: 100000\n",
      "Final portfolio value: 576793.5625\n",
      "Final accumulative portfolio return: 5.767935625\n",
      "Maximum DrawDown: -0.27984092176117437\n",
      "Sharpe ratio: 1.1855828795140277\n",
      "=================================\n"
     ]
    },
    {
     "name": "stderr",
     "output_type": "stream",
     "text": [
      " 12%|█▏        | 3/25 [01:39<12:09, 33.14s/it]"
     ]
    },
    {
     "name": "stdout",
     "output_type": "stream",
     "text": [
      "=================================\n",
      "Initial portfolio value: 100000\n",
      "Final portfolio value: 608425.8125\n",
      "Final accumulative portfolio return: 6.084258125\n",
      "Maximum DrawDown: -0.280060862729249\n",
      "Sharpe ratio: 1.1985892804782186\n",
      "=================================\n"
     ]
    },
    {
     "name": "stderr",
     "output_type": "stream",
     "text": [
      " 16%|█▌        | 4/25 [02:13<11:38, 33.25s/it]"
     ]
    },
    {
     "name": "stdout",
     "output_type": "stream",
     "text": [
      "=================================\n",
      "Initial portfolio value: 100000\n",
      "Final portfolio value: 750270.3125\n",
      "Final accumulative portfolio return: 7.502703125\n",
      "Maximum DrawDown: -0.2793057648489359\n",
      "Sharpe ratio: 1.2953675674077563\n",
      "=================================\n"
     ]
    },
    {
     "name": "stderr",
     "output_type": "stream",
     "text": [
      " 20%|██        | 5/25 [02:46<11:03, 33.19s/it]"
     ]
    },
    {
     "name": "stdout",
     "output_type": "stream",
     "text": [
      "=================================\n",
      "Initial portfolio value: 100000\n",
      "Final portfolio value: 485824.78125\n",
      "Final accumulative portfolio return: 4.8582478125\n",
      "Maximum DrawDown: -0.38801113281930444\n",
      "Sharpe ratio: 1.0083918404793757\n",
      "=================================\n"
     ]
    },
    {
     "name": "stderr",
     "output_type": "stream",
     "text": [
      " 24%|██▍       | 6/25 [03:19<10:31, 33.25s/it]"
     ]
    },
    {
     "name": "stdout",
     "output_type": "stream",
     "text": [
      "=================================\n",
      "Initial portfolio value: 100000\n",
      "Final portfolio value: 914612.75\n",
      "Final accumulative portfolio return: 9.1461275\n",
      "Maximum DrawDown: -0.2917428577928274\n",
      "Sharpe ratio: 1.3891582590948617\n",
      "=================================\n"
     ]
    },
    {
     "name": "stderr",
     "output_type": "stream",
     "text": [
      " 28%|██▊       | 7/25 [03:55<10:13, 34.07s/it]"
     ]
    },
    {
     "name": "stdout",
     "output_type": "stream",
     "text": [
      "=================================\n",
      "Initial portfolio value: 100000\n",
      "Final portfolio value: 607627.5625\n",
      "Final accumulative portfolio return: 6.076275625\n",
      "Maximum DrawDown: -0.37817657491658296\n",
      "Sharpe ratio: 1.1087841037068737\n",
      "=================================\n"
     ]
    },
    {
     "name": "stderr",
     "output_type": "stream",
     "text": [
      " 32%|███▏      | 8/25 [04:28<09:36, 33.91s/it]"
     ]
    },
    {
     "name": "stdout",
     "output_type": "stream",
     "text": [
      "=================================\n",
      "Initial portfolio value: 100000\n",
      "Final portfolio value: 776398.375\n",
      "Final accumulative portfolio return: 7.76398375\n",
      "Maximum DrawDown: -0.38513138475265907\n",
      "Sharpe ratio: 1.2581575546061006\n",
      "=================================\n"
     ]
    },
    {
     "name": "stderr",
     "output_type": "stream",
     "text": [
      " 36%|███▌      | 9/25 [05:02<08:59, 33.72s/it]"
     ]
    },
    {
     "name": "stdout",
     "output_type": "stream",
     "text": [
      "=================================\n",
      "Initial portfolio value: 100000\n",
      "Final portfolio value: 826860.5\n",
      "Final accumulative portfolio return: 8.268605\n",
      "Maximum DrawDown: -0.38515292895194975\n",
      "Sharpe ratio: 1.2795107667220527\n",
      "=================================\n"
     ]
    },
    {
     "name": "stderr",
     "output_type": "stream",
     "text": [
      " 40%|████      | 10/25 [05:35<08:23, 33.56s/it]"
     ]
    },
    {
     "name": "stdout",
     "output_type": "stream",
     "text": [
      "=================================\n",
      "Initial portfolio value: 100000\n",
      "Final portfolio value: 883926.9375\n",
      "Final accumulative portfolio return: 8.839269375\n",
      "Maximum DrawDown: -0.38515731004390663\n",
      "Sharpe ratio: 1.310664568642763\n",
      "=================================\n"
     ]
    },
    {
     "name": "stderr",
     "output_type": "stream",
     "text": [
      " 44%|████▍     | 11/25 [06:08<07:47, 33.42s/it]"
     ]
    },
    {
     "name": "stdout",
     "output_type": "stream",
     "text": [
      "=================================\n",
      "Initial portfolio value: 100000\n",
      "Final portfolio value: 622650.0\n",
      "Final accumulative portfolio return: 6.2265\n",
      "Maximum DrawDown: -0.4391283776580819\n",
      "Sharpe ratio: 1.0775365197172744\n",
      "=================================\n"
     ]
    },
    {
     "name": "stderr",
     "output_type": "stream",
     "text": [
      " 48%|████▊     | 12/25 [06:41<07:13, 33.37s/it]"
     ]
    },
    {
     "name": "stdout",
     "output_type": "stream",
     "text": [
      "=================================\n",
      "Initial portfolio value: 100000\n",
      "Final portfolio value: 863392.0\n",
      "Final accumulative portfolio return: 8.63392\n",
      "Maximum DrawDown: -0.38515859961759746\n",
      "Sharpe ratio: 1.2882221513866952\n",
      "=================================\n"
     ]
    },
    {
     "name": "stderr",
     "output_type": "stream",
     "text": [
      " 52%|█████▏    | 13/25 [07:15<06:40, 33.36s/it]"
     ]
    },
    {
     "name": "stdout",
     "output_type": "stream",
     "text": [
      "=================================\n",
      "Initial portfolio value: 100000\n",
      "Final portfolio value: 884929.75\n",
      "Final accumulative portfolio return: 8.8492975\n",
      "Maximum DrawDown: -0.38515894211723845\n",
      "Sharpe ratio: 1.2948636458876597\n",
      "=================================\n"
     ]
    },
    {
     "name": "stderr",
     "output_type": "stream",
     "text": [
      " 56%|█████▌    | 14/25 [07:48<06:06, 33.28s/it]"
     ]
    },
    {
     "name": "stdout",
     "output_type": "stream",
     "text": [
      "=================================\n",
      "Initial portfolio value: 100000\n",
      "Final portfolio value: 905852.375\n",
      "Final accumulative portfolio return: 9.05852375\n",
      "Maximum DrawDown: -0.3851588230970504\n",
      "Sharpe ratio: 1.305713307578415\n",
      "=================================\n"
     ]
    },
    {
     "name": "stderr",
     "output_type": "stream",
     "text": [
      " 60%|██████    | 15/25 [08:21<05:32, 33.30s/it]"
     ]
    },
    {
     "name": "stdout",
     "output_type": "stream",
     "text": [
      "=================================\n",
      "Initial portfolio value: 100000\n",
      "Final portfolio value: 775324.4375\n",
      "Final accumulative portfolio return: 7.753244375\n",
      "Maximum DrawDown: -0.38515852112268567\n",
      "Sharpe ratio: 1.2014941020783714\n",
      "=================================\n"
     ]
    },
    {
     "name": "stderr",
     "output_type": "stream",
     "text": [
      " 64%|██████▍   | 16/25 [08:55<04:59, 33.33s/it]"
     ]
    },
    {
     "name": "stdout",
     "output_type": "stream",
     "text": [
      "=================================\n",
      "Initial portfolio value: 100000\n",
      "Final portfolio value: 784862.125\n",
      "Final accumulative portfolio return: 7.84862125\n",
      "Maximum DrawDown: -0.3851580955256576\n",
      "Sharpe ratio: 1.2062895411863177\n",
      "=================================\n"
     ]
    },
    {
     "name": "stderr",
     "output_type": "stream",
     "text": [
      " 68%|██████▊   | 17/25 [09:28<04:26, 33.37s/it]"
     ]
    },
    {
     "name": "stdout",
     "output_type": "stream",
     "text": [
      "=================================\n",
      "Initial portfolio value: 100000\n",
      "Final portfolio value: 933176.25\n",
      "Final accumulative portfolio return: 9.3317625\n",
      "Maximum DrawDown: -0.37665896834648427\n",
      "Sharpe ratio: 1.3137957105294786\n",
      "=================================\n"
     ]
    },
    {
     "name": "stderr",
     "output_type": "stream",
     "text": [
      " 72%|███████▏  | 18/25 [10:02<03:55, 33.65s/it]"
     ]
    },
    {
     "name": "stdout",
     "output_type": "stream",
     "text": [
      "=================================\n",
      "Initial portfolio value: 100000\n",
      "Final portfolio value: 1006954.3125\n",
      "Final accumulative portfolio return: 10.069543125\n",
      "Maximum DrawDown: -0.36195647347831306\n",
      "Sharpe ratio: 1.3724216754575362\n",
      "=================================\n"
     ]
    },
    {
     "name": "stderr",
     "output_type": "stream",
     "text": [
      " 76%|███████▌  | 19/25 [10:36<03:21, 33.58s/it]"
     ]
    },
    {
     "name": "stdout",
     "output_type": "stream",
     "text": [
      "=================================\n",
      "Initial portfolio value: 100000\n",
      "Final portfolio value: 845295.125\n",
      "Final accumulative portfolio return: 8.45295125\n",
      "Maximum DrawDown: -0.3851578175844734\n",
      "Sharpe ratio: 1.257813399381371\n",
      "=================================\n"
     ]
    },
    {
     "name": "stderr",
     "output_type": "stream",
     "text": [
      " 80%|████████  | 20/25 [11:09<02:47, 33.46s/it]"
     ]
    },
    {
     "name": "stdout",
     "output_type": "stream",
     "text": [
      "=================================\n",
      "Initial portfolio value: 100000\n",
      "Final portfolio value: 1146155.125\n",
      "Final accumulative portfolio return: 11.46155125\n",
      "Maximum DrawDown: -0.3851590368885235\n",
      "Sharpe ratio: 1.4279213054936455\n",
      "=================================\n"
     ]
    },
    {
     "name": "stderr",
     "output_type": "stream",
     "text": [
      " 84%|████████▍ | 21/25 [11:42<02:13, 33.36s/it]"
     ]
    },
    {
     "name": "stdout",
     "output_type": "stream",
     "text": [
      "=================================\n",
      "Initial portfolio value: 100000\n",
      "Final portfolio value: 546635.9375\n",
      "Final accumulative portfolio return: 5.466359375\n",
      "Maximum DrawDown: -0.42175048331015597\n",
      "Sharpe ratio: 0.9941087436797642\n",
      "=================================\n"
     ]
    },
    {
     "name": "stderr",
     "output_type": "stream",
     "text": [
      " 88%|████████▊ | 22/25 [12:15<01:40, 33.39s/it]"
     ]
    },
    {
     "name": "stdout",
     "output_type": "stream",
     "text": [
      "=================================\n",
      "Initial portfolio value: 100000\n",
      "Final portfolio value: 952359.9375\n",
      "Final accumulative portfolio return: 9.523599375\n",
      "Maximum DrawDown: -0.38513610646397145\n",
      "Sharpe ratio: 1.3031206997082574\n",
      "=================================\n"
     ]
    },
    {
     "name": "stderr",
     "output_type": "stream",
     "text": [
      " 92%|█████████▏| 23/25 [12:49<01:06, 33.34s/it]"
     ]
    },
    {
     "name": "stdout",
     "output_type": "stream",
     "text": [
      "=================================\n",
      "Initial portfolio value: 100000\n",
      "Final portfolio value: 1290945.875\n",
      "Final accumulative portfolio return: 12.90945875\n",
      "Maximum DrawDown: -0.3851565677133718\n",
      "Sharpe ratio: 1.4606731940396491\n",
      "=================================\n"
     ]
    },
    {
     "name": "stderr",
     "output_type": "stream",
     "text": [
      " 96%|█████████▌| 24/25 [13:22<00:33, 33.28s/it]"
     ]
    },
    {
     "name": "stdout",
     "output_type": "stream",
     "text": [
      "=================================\n",
      "Initial portfolio value: 100000\n",
      "Final portfolio value: 1503288.5\n",
      "Final accumulative portfolio return: 15.032885\n",
      "Maximum DrawDown: -0.38515292915604715\n",
      "Sharpe ratio: 1.5476705910057615\n",
      "=================================\n"
     ]
    },
    {
     "name": "stderr",
     "output_type": "stream",
     "text": [
      "100%|██████████| 25/25 [13:55<00:00, 33.42s/it]\n",
      "C:\\Users\\xutia\\AppData\\Local\\Temp\\ipykernel_36848\\1259870935.py:43: FutureWarning: You are using `torch.load` with `weights_only=False` (the current default value), which uses the default pickle module implicitly. It is possible to construct malicious pickle data which will execute arbitrary code during unpickling (See https://github.com/pytorch/pytorch/blob/main/SECURITY.md#untrusted-models for more details). In a future release, the default value for `weights_only` will be flipped to `True`. This limits the functions that could be executed during unpickling. Arbitrary objects will no longer be allowed to be loaded via this mode unless they are explicitly allowlisted by the user via `torch.serialization.add_safe_globals`. We recommend you start setting `weights_only=True` for any use case where you don't have full control of the loaded file. Please open an issue on GitHub for any issues related to this experimental feature.\n",
      "  EIIE_policy.load_state_dict(torch.load(model_filename))\n"
     ]
    },
    {
     "name": "stdout",
     "output_type": "stream",
     "text": [
      "=================================\n",
      "Initial portfolio value: 100000\n",
      "Final portfolio value: 768291.375\n",
      "Final accumulative portfolio return: 7.68291375\n",
      "Maximum DrawDown: -0.3851588956333525\n",
      "Sharpe ratio: 1.2016430397535738\n",
      "=================================\n",
      "=================================\n",
      "Initial portfolio value: 100000\n",
      "Final portfolio value: 176157.578125\n",
      "Final accumulative portfolio return: 1.76157578125\n",
      "Maximum DrawDown: -0.17495083163670422\n",
      "Sharpe ratio: 1.2524332138664396\n",
      "=================================\n",
      "Training model with TIME_WINDOW=60, K_SIZE=4, CONV_MID=10, CONV_FINAL=5, LEARNING_RATE=0.02\n"
     ]
    },
    {
     "name": "stderr",
     "output_type": "stream",
     "text": [
      "  0%|          | 0/25 [00:00<?, ?it/s]"
     ]
    },
    {
     "name": "stdout",
     "output_type": "stream",
     "text": [
      "=================================\n",
      "Initial portfolio value: 100000\n",
      "Final portfolio value: 176870.953125\n",
      "Final accumulative portfolio return: 1.76870953125\n",
      "Maximum DrawDown: -0.33304147213530755\n",
      "Sharpe ratio: 0.5966775197418579\n",
      "=================================\n"
     ]
    },
    {
     "name": "stderr",
     "output_type": "stream",
     "text": [
      "  4%|▍         | 1/25 [00:33<13:13, 33.07s/it]"
     ]
    },
    {
     "name": "stdout",
     "output_type": "stream",
     "text": [
      "=================================\n",
      "Initial portfolio value: 100000\n",
      "Final portfolio value: 229076.8125\n",
      "Final accumulative portfolio return: 2.290768125\n",
      "Maximum DrawDown: -0.3360923590100595\n",
      "Sharpe ratio: 0.7705377151884824\n",
      "=================================\n"
     ]
    },
    {
     "name": "stderr",
     "output_type": "stream",
     "text": [
      "  8%|▊         | 2/25 [01:06<12:39, 33.04s/it]"
     ]
    },
    {
     "name": "stdout",
     "output_type": "stream",
     "text": [
      "=================================\n",
      "Initial portfolio value: 100000\n",
      "Final portfolio value: 230428.296875\n",
      "Final accumulative portfolio return: 2.30428296875\n",
      "Maximum DrawDown: -0.338280432281027\n",
      "Sharpe ratio: 0.7707120331550898\n",
      "=================================\n"
     ]
    },
    {
     "name": "stderr",
     "output_type": "stream",
     "text": [
      " 12%|█▏        | 3/25 [01:39<12:07, 33.05s/it]"
     ]
    },
    {
     "name": "stdout",
     "output_type": "stream",
     "text": [
      "=================================\n",
      "Initial portfolio value: 100000\n",
      "Final portfolio value: 231508.96875\n",
      "Final accumulative portfolio return: 2.3150896875\n",
      "Maximum DrawDown: -0.340078650453032\n",
      "Sharpe ratio: 0.7707935052864712\n",
      "=================================\n"
     ]
    },
    {
     "name": "stderr",
     "output_type": "stream",
     "text": [
      " 16%|█▌        | 4/25 [02:12<11:33, 33.04s/it]"
     ]
    },
    {
     "name": "stdout",
     "output_type": "stream",
     "text": [
      "=================================\n",
      "Initial portfolio value: 100000\n",
      "Final portfolio value: 232413.6875\n",
      "Final accumulative portfolio return: 2.324136875\n",
      "Maximum DrawDown: -0.341585991940051\n",
      "Sharpe ratio: 0.7708547535036958\n",
      "=================================\n"
     ]
    },
    {
     "name": "stderr",
     "output_type": "stream",
     "text": [
      " 20%|██        | 5/25 [02:45<11:01, 33.05s/it]"
     ]
    },
    {
     "name": "stdout",
     "output_type": "stream",
     "text": [
      "=================================\n",
      "Initial portfolio value: 100000\n",
      "Final portfolio value: 233180.375\n",
      "Final accumulative portfolio return: 2.33180375\n",
      "Maximum DrawDown: -0.3428476401617053\n",
      "Sharpe ratio: 0.7709269702379464\n",
      "=================================\n"
     ]
    },
    {
     "name": "stderr",
     "output_type": "stream",
     "text": [
      " 24%|██▍       | 6/25 [03:18<10:28, 33.06s/it]"
     ]
    },
    {
     "name": "stdout",
     "output_type": "stream",
     "text": [
      "=================================\n",
      "Initial portfolio value: 100000\n",
      "Final portfolio value: 233826.1875\n",
      "Final accumulative portfolio return: 2.338261875\n",
      "Maximum DrawDown: -0.3439064158638784\n",
      "Sharpe ratio: 0.7709898382501432\n",
      "=================================\n"
     ]
    },
    {
     "name": "stderr",
     "output_type": "stream",
     "text": [
      " 28%|██▊       | 7/25 [03:51<09:53, 32.97s/it]"
     ]
    },
    {
     "name": "stdout",
     "output_type": "stream",
     "text": [
      "=================================\n",
      "Initial portfolio value: 100000\n",
      "Final portfolio value: 234363.328125\n",
      "Final accumulative portfolio return: 2.34363328125\n",
      "Maximum DrawDown: -0.3448002944858912\n",
      "Sharpe ratio: 0.7710155985542022\n",
      "=================================\n"
     ]
    },
    {
     "name": "stderr",
     "output_type": "stream",
     "text": [
      " 32%|███▏      | 8/25 [04:24<09:22, 33.06s/it]"
     ]
    },
    {
     "name": "stdout",
     "output_type": "stream",
     "text": [
      "=================================\n",
      "Initial portfolio value: 100000\n",
      "Final portfolio value: 234825.3125\n",
      "Final accumulative portfolio return: 2.348253125\n",
      "Maximum DrawDown: -0.3455612586220419\n",
      "Sharpe ratio: 0.7710501287021325\n",
      "=================================\n"
     ]
    },
    {
     "name": "stderr",
     "output_type": "stream",
     "text": [
      " 36%|███▌      | 9/25 [04:57<08:50, 33.14s/it]"
     ]
    },
    {
     "name": "stdout",
     "output_type": "stream",
     "text": [
      "=================================\n",
      "Initial portfolio value: 100000\n",
      "Final portfolio value: 235220.1875\n",
      "Final accumulative portfolio return: 2.352201875\n",
      "Maximum DrawDown: -0.3462093182944178\n",
      "Sharpe ratio: 0.7710804965366219\n",
      "=================================\n"
     ]
    },
    {
     "name": "stderr",
     "output_type": "stream",
     "text": [
      " 40%|████      | 10/25 [05:30<08:17, 33.16s/it]"
     ]
    },
    {
     "name": "stdout",
     "output_type": "stream",
     "text": [
      "=================================\n",
      "Initial portfolio value: 100000\n",
      "Final portfolio value: 235559.96875\n",
      "Final accumulative portfolio return: 2.3555996875\n",
      "Maximum DrawDown: -0.34677004793158994\n",
      "Sharpe ratio: 0.7711032828273348\n",
      "=================================\n"
     ]
    },
    {
     "name": "stderr",
     "output_type": "stream",
     "text": [
      " 44%|████▍     | 11/25 [06:04<07:45, 33.24s/it]"
     ]
    },
    {
     "name": "stdout",
     "output_type": "stream",
     "text": [
      "=================================\n",
      "Initial portfolio value: 100000\n",
      "Final portfolio value: 235851.140625\n",
      "Final accumulative portfolio return: 2.35851140625\n",
      "Maximum DrawDown: -0.34725533897908967\n",
      "Sharpe ratio: 0.7711138118378873\n",
      "=================================\n"
     ]
    },
    {
     "name": "stderr",
     "output_type": "stream",
     "text": [
      " 48%|████▊     | 12/25 [06:37<07:11, 33.16s/it]"
     ]
    },
    {
     "name": "stdout",
     "output_type": "stream",
     "text": [
      "=================================\n",
      "Initial portfolio value: 100000\n",
      "Final portfolio value: 236107.515625\n",
      "Final accumulative portfolio return: 2.36107515625\n",
      "Maximum DrawDown: -0.3476805480191124\n",
      "Sharpe ratio: 0.7711306176070302\n",
      "=================================\n"
     ]
    },
    {
     "name": "stderr",
     "output_type": "stream",
     "text": [
      " 52%|█████▏    | 13/25 [07:10<06:37, 33.17s/it]"
     ]
    },
    {
     "name": "stdout",
     "output_type": "stream",
     "text": [
      "=================================\n",
      "Initial portfolio value: 100000\n",
      "Final portfolio value: 236328.203125\n",
      "Final accumulative portfolio return: 2.36328203125\n",
      "Maximum DrawDown: -0.3480530439963265\n",
      "Sharpe ratio: 0.7711259365109326\n",
      "=================================\n"
     ]
    },
    {
     "name": "stderr",
     "output_type": "stream",
     "text": [
      " 56%|█████▌    | 14/25 [07:43<06:04, 33.17s/it]"
     ]
    },
    {
     "name": "stdout",
     "output_type": "stream",
     "text": [
      "=================================\n",
      "Initial portfolio value: 100000\n",
      "Final portfolio value: 236532.15625\n",
      "Final accumulative portfolio return: 2.3653215625\n",
      "Maximum DrawDown: -0.34838014650278826\n",
      "Sharpe ratio: 0.7711574840149558\n",
      "=================================\n"
     ]
    },
    {
     "name": "stderr",
     "output_type": "stream",
     "text": [
      " 60%|██████    | 15/25 [08:17<05:34, 33.46s/it]"
     ]
    },
    {
     "name": "stdout",
     "output_type": "stream",
     "text": [
      "=================================\n",
      "Initial portfolio value: 100000\n",
      "Final portfolio value: 236716.796875\n",
      "Final accumulative portfolio return: 2.36716796875\n",
      "Maximum DrawDown: -0.34867120358484494\n",
      "Sharpe ratio: 0.7711960041869639\n",
      "=================================\n"
     ]
    },
    {
     "name": "stderr",
     "output_type": "stream",
     "text": [
      " 64%|██████▍   | 16/25 [08:51<05:00, 33.44s/it]"
     ]
    },
    {
     "name": "stdout",
     "output_type": "stream",
     "text": [
      "=================================\n",
      "Initial portfolio value: 100000\n",
      "Final portfolio value: 236859.609375\n",
      "Final accumulative portfolio return: 2.36859609375\n",
      "Maximum DrawDown: -0.3489312682404412\n",
      "Sharpe ratio: 0.7711578094387086\n",
      "=================================\n"
     ]
    },
    {
     "name": "stderr",
     "output_type": "stream",
     "text": [
      " 68%|██████▊   | 17/25 [09:24<04:27, 33.46s/it]"
     ]
    },
    {
     "name": "stdout",
     "output_type": "stream",
     "text": [
      "=================================\n",
      "Initial portfolio value: 100000\n",
      "Final portfolio value: 237007.8125\n",
      "Final accumulative portfolio return: 2.370078125\n",
      "Maximum DrawDown: -0.3491641426714863\n",
      "Sharpe ratio: 0.7711924710573346\n",
      "=================================\n"
     ]
    },
    {
     "name": "stderr",
     "output_type": "stream",
     "text": [
      " 72%|███████▏  | 18/25 [09:57<03:53, 33.38s/it]"
     ]
    },
    {
     "name": "stdout",
     "output_type": "stream",
     "text": [
      "=================================\n",
      "Initial portfolio value: 100000\n",
      "Final portfolio value: 237131.375\n",
      "Final accumulative portfolio return: 2.37131375\n",
      "Maximum DrawDown: -0.34937129164404157\n",
      "Sharpe ratio: 0.7711921568471581\n",
      "=================================\n"
     ]
    },
    {
     "name": "stderr",
     "output_type": "stream",
     "text": [
      " 76%|███████▌  | 19/25 [10:30<03:19, 33.27s/it]"
     ]
    },
    {
     "name": "stdout",
     "output_type": "stream",
     "text": [
      "=================================\n",
      "Initial portfolio value: 100000\n",
      "Final portfolio value: 237249.9375\n",
      "Final accumulative portfolio return: 2.372499375\n",
      "Maximum DrawDown: -0.349560205224154\n",
      "Sharpe ratio: 0.7712133950517611\n",
      "=================================\n"
     ]
    },
    {
     "name": "stderr",
     "output_type": "stream",
     "text": [
      " 80%|████████  | 20/25 [11:04<02:46, 33.36s/it]"
     ]
    },
    {
     "name": "stdout",
     "output_type": "stream",
     "text": [
      "=================================\n",
      "Initial portfolio value: 100000\n",
      "Final portfolio value: 237345.375\n",
      "Final accumulative portfolio return: 2.37345375\n",
      "Maximum DrawDown: -0.34973203546992937\n",
      "Sharpe ratio: 0.7711927215564681\n",
      "=================================\n"
     ]
    },
    {
     "name": "stderr",
     "output_type": "stream",
     "text": [
      " 84%|████████▍ | 21/25 [11:37<02:12, 33.22s/it]"
     ]
    },
    {
     "name": "stdout",
     "output_type": "stream",
     "text": [
      "=================================\n",
      "Initial portfolio value: 100000\n",
      "Final portfolio value: 237438.546875\n",
      "Final accumulative portfolio return: 2.37438546875\n",
      "Maximum DrawDown: -0.3498887157561408\n",
      "Sharpe ratio: 0.7711966555623632\n",
      "=================================\n"
     ]
    },
    {
     "name": "stderr",
     "output_type": "stream",
     "text": [
      " 88%|████████▊ | 22/25 [12:10<01:39, 33.28s/it]"
     ]
    },
    {
     "name": "stdout",
     "output_type": "stream",
     "text": [
      "=================================\n",
      "Initial portfolio value: 100000\n",
      "Final portfolio value: 237528.0\n",
      "Final accumulative portfolio return: 2.37528\n",
      "Maximum DrawDown: -0.35002853400094913\n",
      "Sharpe ratio: 0.771214900586066\n",
      "=================================\n"
     ]
    },
    {
     "name": "stderr",
     "output_type": "stream",
     "text": [
      " 92%|█████████▏| 23/25 [12:43<01:06, 33.22s/it]"
     ]
    },
    {
     "name": "stdout",
     "output_type": "stream",
     "text": [
      "=================================\n",
      "Initial portfolio value: 100000\n",
      "Final portfolio value: 237607.390625\n",
      "Final accumulative portfolio return: 2.37607390625\n",
      "Maximum DrawDown: -0.350157415565977\n",
      "Sharpe ratio: 0.771221598115085\n",
      "=================================\n"
     ]
    },
    {
     "name": "stderr",
     "output_type": "stream",
     "text": [
      " 96%|█████████▌| 24/25 [13:17<00:33, 33.22s/it]"
     ]
    },
    {
     "name": "stdout",
     "output_type": "stream",
     "text": [
      "=================================\n",
      "Initial portfolio value: 100000\n",
      "Final portfolio value: 237674.921875\n",
      "Final accumulative portfolio return: 2.37674921875\n",
      "Maximum DrawDown: -0.35028002485540566\n",
      "Sharpe ratio: 0.771211683790037\n",
      "=================================\n"
     ]
    },
    {
     "name": "stderr",
     "output_type": "stream",
     "text": [
      "100%|██████████| 25/25 [13:50<00:00, 33.21s/it]\n",
      "C:\\Users\\xutia\\AppData\\Local\\Temp\\ipykernel_36848\\1259870935.py:43: FutureWarning: You are using `torch.load` with `weights_only=False` (the current default value), which uses the default pickle module implicitly. It is possible to construct malicious pickle data which will execute arbitrary code during unpickling (See https://github.com/pytorch/pytorch/blob/main/SECURITY.md#untrusted-models for more details). In a future release, the default value for `weights_only` will be flipped to `True`. This limits the functions that could be executed during unpickling. Arbitrary objects will no longer be allowed to be loaded via this mode unless they are explicitly allowlisted by the user via `torch.serialization.add_safe_globals`. We recommend you start setting `weights_only=True` for any use case where you don't have full control of the loaded file. Please open an issue on GitHub for any issues related to this experimental feature.\n",
      "  EIIE_policy.load_state_dict(torch.load(model_filename))\n"
     ]
    },
    {
     "name": "stdout",
     "output_type": "stream",
     "text": [
      "=================================\n",
      "Initial portfolio value: 100000\n",
      "Final portfolio value: 237925.5625\n",
      "Final accumulative portfolio return: 2.379255625\n",
      "Maximum DrawDown: -0.35103952266944105\n",
      "Sharpe ratio: 0.7708923748930125\n",
      "=================================\n",
      "=================================\n",
      "Initial portfolio value: 100000\n",
      "Final portfolio value: 126179.921875\n",
      "Final accumulative portfolio return: 1.26179921875\n",
      "Maximum DrawDown: -0.15850598649925096\n",
      "Sharpe ratio: 0.8403777824227157\n",
      "=================================\n",
      "Training model with TIME_WINDOW=60, K_SIZE=4, CONV_MID=10, CONV_FINAL=10, LEARNING_RATE=0.02\n"
     ]
    },
    {
     "name": "stderr",
     "output_type": "stream",
     "text": [
      "  0%|          | 0/25 [00:00<?, ?it/s]"
     ]
    },
    {
     "name": "stdout",
     "output_type": "stream",
     "text": [
      "=================================\n",
      "Initial portfolio value: 100000\n",
      "Final portfolio value: 268134.90625\n",
      "Final accumulative portfolio return: 2.6813490625\n",
      "Maximum DrawDown: -0.32743674928048305\n",
      "Sharpe ratio: 0.8266506468180763\n",
      "=================================\n"
     ]
    },
    {
     "name": "stderr",
     "output_type": "stream",
     "text": [
      "  4%|▍         | 1/25 [00:33<13:24, 33.51s/it]"
     ]
    },
    {
     "name": "stdout",
     "output_type": "stream",
     "text": [
      "=================================\n",
      "Initial portfolio value: 100000\n",
      "Final portfolio value: 554669.875\n",
      "Final accumulative portfolio return: 5.54669875\n",
      "Maximum DrawDown: -0.2803698327601717\n",
      "Sharpe ratio: 1.190899006763448\n",
      "=================================\n"
     ]
    },
    {
     "name": "stderr",
     "output_type": "stream",
     "text": [
      "  8%|▊         | 2/25 [01:06<12:45, 33.29s/it]"
     ]
    },
    {
     "name": "stdout",
     "output_type": "stream",
     "text": [
      "=================================\n",
      "Initial portfolio value: 100000\n",
      "Final portfolio value: 347738.53125\n",
      "Final accumulative portfolio return: 3.4773853125\n",
      "Maximum DrawDown: -0.44089981207159823\n",
      "Sharpe ratio: 0.7945096176578804\n",
      "=================================\n"
     ]
    },
    {
     "name": "stderr",
     "output_type": "stream",
     "text": [
      " 12%|█▏        | 3/25 [01:39<12:11, 33.24s/it]"
     ]
    },
    {
     "name": "stdout",
     "output_type": "stream",
     "text": [
      "=================================\n",
      "Initial portfolio value: 100000\n",
      "Final portfolio value: 492160.8125\n",
      "Final accumulative portfolio return: 4.921608125\n",
      "Maximum DrawDown: -0.39560208357246374\n",
      "Sharpe ratio: 0.9945834057887514\n",
      "=================================\n"
     ]
    },
    {
     "name": "stderr",
     "output_type": "stream",
     "text": [
      " 16%|█▌        | 4/25 [02:13<11:40, 33.35s/it]"
     ]
    },
    {
     "name": "stdout",
     "output_type": "stream",
     "text": [
      "=================================\n",
      "Initial portfolio value: 100000\n",
      "Final portfolio value: 587112.5\n",
      "Final accumulative portfolio return: 5.871125\n",
      "Maximum DrawDown: -0.3661970848734222\n",
      "Sharpe ratio: 1.1131908531623682\n",
      "=================================\n"
     ]
    },
    {
     "name": "stderr",
     "output_type": "stream",
     "text": [
      " 20%|██        | 5/25 [02:46<11:04, 33.23s/it]"
     ]
    },
    {
     "name": "stdout",
     "output_type": "stream",
     "text": [
      "=================================\n",
      "Initial portfolio value: 100000\n",
      "Final portfolio value: 785082.8125\n",
      "Final accumulative portfolio return: 7.850828125\n",
      "Maximum DrawDown: -0.3564898365155207\n",
      "Sharpe ratio: 1.2639590246361043\n",
      "=================================\n"
     ]
    },
    {
     "name": "stderr",
     "output_type": "stream",
     "text": [
      " 24%|██▍       | 6/25 [03:19<10:27, 33.04s/it]"
     ]
    },
    {
     "name": "stdout",
     "output_type": "stream",
     "text": [
      "=================================\n",
      "Initial portfolio value: 100000\n",
      "Final portfolio value: 1008604.8125\n",
      "Final accumulative portfolio return: 10.086048125\n",
      "Maximum DrawDown: -0.3085981125255064\n",
      "Sharpe ratio: 1.3770196008005267\n",
      "=================================\n"
     ]
    },
    {
     "name": "stderr",
     "output_type": "stream",
     "text": [
      " 28%|██▊       | 7/25 [03:51<09:53, 32.98s/it]"
     ]
    },
    {
     "name": "stdout",
     "output_type": "stream",
     "text": [
      "=================================\n",
      "Initial portfolio value: 100000\n",
      "Final portfolio value: 1086018.0\n",
      "Final accumulative portfolio return: 10.86018\n",
      "Maximum DrawDown: -0.27784888437198607\n",
      "Sharpe ratio: 1.4409251943164414\n",
      "=================================\n"
     ]
    },
    {
     "name": "stderr",
     "output_type": "stream",
     "text": [
      " 32%|███▏      | 8/25 [04:25<09:21, 33.05s/it]"
     ]
    },
    {
     "name": "stdout",
     "output_type": "stream",
     "text": [
      "=================================\n",
      "Initial portfolio value: 100000\n",
      "Final portfolio value: 765413.0\n",
      "Final accumulative portfolio return: 7.65413\n",
      "Maximum DrawDown: -0.36585320465748306\n",
      "Sharpe ratio: 1.2219417472557492\n",
      "=================================\n"
     ]
    },
    {
     "name": "stderr",
     "output_type": "stream",
     "text": [
      " 36%|███▌      | 9/25 [04:58<08:49, 33.08s/it]"
     ]
    },
    {
     "name": "stdout",
     "output_type": "stream",
     "text": [
      "=================================\n",
      "Initial portfolio value: 100000\n",
      "Final portfolio value: 1032587.5\n",
      "Final accumulative portfolio return: 10.325875\n",
      "Maximum DrawDown: -0.38236340275462977\n",
      "Sharpe ratio: 1.3685721092708412\n",
      "=================================\n"
     ]
    },
    {
     "name": "stderr",
     "output_type": "stream",
     "text": [
      " 40%|████      | 10/25 [05:31<08:18, 33.21s/it]"
     ]
    },
    {
     "name": "stdout",
     "output_type": "stream",
     "text": [
      "=================================\n",
      "Initial portfolio value: 100000\n",
      "Final portfolio value: 1155178.0\n",
      "Final accumulative portfolio return: 11.55178\n",
      "Maximum DrawDown: -0.38350976188714325\n",
      "Sharpe ratio: 1.4248731317916297\n",
      "=================================\n"
     ]
    },
    {
     "name": "stderr",
     "output_type": "stream",
     "text": [
      " 44%|████▍     | 11/25 [06:04<07:43, 33.13s/it]"
     ]
    },
    {
     "name": "stdout",
     "output_type": "stream",
     "text": [
      "=================================\n",
      "Initial portfolio value: 100000\n",
      "Final portfolio value: 1185298.125\n",
      "Final accumulative portfolio return: 11.85298125\n",
      "Maximum DrawDown: -0.3851259410137762\n",
      "Sharpe ratio: 1.4748257312645943\n",
      "=================================\n"
     ]
    },
    {
     "name": "stderr",
     "output_type": "stream",
     "text": [
      " 48%|████▊     | 12/25 [06:37<07:10, 33.14s/it]"
     ]
    },
    {
     "name": "stdout",
     "output_type": "stream",
     "text": [
      "=================================\n",
      "Initial portfolio value: 100000\n",
      "Final portfolio value: 1400291.5\n",
      "Final accumulative portfolio return: 14.002915\n",
      "Maximum DrawDown: -0.38508377097093993\n",
      "Sharpe ratio: 1.534217482033173\n",
      "=================================\n"
     ]
    },
    {
     "name": "stderr",
     "output_type": "stream",
     "text": [
      " 52%|█████▏    | 13/25 [07:10<06:36, 33.06s/it]"
     ]
    },
    {
     "name": "stdout",
     "output_type": "stream",
     "text": [
      "=================================\n",
      "Initial portfolio value: 100000\n",
      "Final portfolio value: 1176895.375\n",
      "Final accumulative portfolio return: 11.76895375\n",
      "Maximum DrawDown: -0.38514188153632023\n",
      "Sharpe ratio: 1.4417708659970296\n",
      "=================================\n"
     ]
    },
    {
     "name": "stderr",
     "output_type": "stream",
     "text": [
      " 56%|█████▌    | 14/25 [07:43<06:03, 33.01s/it]"
     ]
    },
    {
     "name": "stdout",
     "output_type": "stream",
     "text": [
      "=================================\n",
      "Initial portfolio value: 100000\n",
      "Final portfolio value: 1343669.375\n",
      "Final accumulative portfolio return: 13.43669375\n",
      "Maximum DrawDown: -0.3851589646056395\n",
      "Sharpe ratio: 1.5106908460363337\n",
      "=================================\n"
     ]
    },
    {
     "name": "stderr",
     "output_type": "stream",
     "text": [
      " 60%|██████    | 15/25 [08:16<05:30, 33.08s/it]"
     ]
    },
    {
     "name": "stdout",
     "output_type": "stream",
     "text": [
      "=================================\n",
      "Initial portfolio value: 100000\n",
      "Final portfolio value: 1504151.25\n",
      "Final accumulative portfolio return: 15.0415125\n",
      "Maximum DrawDown: -0.38515893216622066\n",
      "Sharpe ratio: 1.5631837904379142\n",
      "=================================\n"
     ]
    },
    {
     "name": "stderr",
     "output_type": "stream",
     "text": [
      " 64%|██████▍   | 16/25 [08:50<04:58, 33.13s/it]"
     ]
    },
    {
     "name": "stdout",
     "output_type": "stream",
     "text": [
      "=================================\n",
      "Initial portfolio value: 100000\n",
      "Final portfolio value: 1775340.5\n",
      "Final accumulative portfolio return: 17.753405\n",
      "Maximum DrawDown: -0.38515861964714326\n",
      "Sharpe ratio: 1.6552257689672325\n",
      "=================================\n"
     ]
    },
    {
     "name": "stderr",
     "output_type": "stream",
     "text": [
      " 68%|██████▊   | 17/25 [09:23<04:25, 33.14s/it]"
     ]
    },
    {
     "name": "stdout",
     "output_type": "stream",
     "text": [
      "=================================\n",
      "Initial portfolio value: 100000\n",
      "Final portfolio value: 1400221.5\n",
      "Final accumulative portfolio return: 14.002215\n",
      "Maximum DrawDown: -0.3851585348667885\n",
      "Sharpe ratio: 1.4994097116795215\n",
      "=================================\n"
     ]
    },
    {
     "name": "stderr",
     "output_type": "stream",
     "text": [
      " 72%|███████▏  | 18/25 [09:56<03:52, 33.21s/it]"
     ]
    },
    {
     "name": "stdout",
     "output_type": "stream",
     "text": [
      "=================================\n",
      "Initial portfolio value: 100000\n",
      "Final portfolio value: 1066470.5\n",
      "Final accumulative portfolio return: 10.664705\n",
      "Maximum DrawDown: -0.38515886957164946\n",
      "Sharpe ratio: 1.3995583036191463\n",
      "=================================\n"
     ]
    },
    {
     "name": "stderr",
     "output_type": "stream",
     "text": [
      " 76%|███████▌  | 19/25 [10:30<03:19, 33.28s/it]"
     ]
    },
    {
     "name": "stdout",
     "output_type": "stream",
     "text": [
      "=================================\n",
      "Initial portfolio value: 100000\n",
      "Final portfolio value: 1153746.5\n",
      "Final accumulative portfolio return: 11.537465\n",
      "Maximum DrawDown: -0.385158830189951\n",
      "Sharpe ratio: 1.4392075771960557\n",
      "=================================\n"
     ]
    },
    {
     "name": "stderr",
     "output_type": "stream",
     "text": [
      " 80%|████████  | 20/25 [11:03<02:46, 33.25s/it]"
     ]
    },
    {
     "name": "stdout",
     "output_type": "stream",
     "text": [
      "=================================\n",
      "Initial portfolio value: 100000\n",
      "Final portfolio value: 1262225.875\n",
      "Final accumulative portfolio return: 12.62225875\n",
      "Maximum DrawDown: -0.38515828911651895\n",
      "Sharpe ratio: 1.4821228975889962\n",
      "=================================\n"
     ]
    },
    {
     "name": "stderr",
     "output_type": "stream",
     "text": [
      " 84%|████████▍ | 21/25 [11:37<02:13, 33.40s/it]"
     ]
    },
    {
     "name": "stdout",
     "output_type": "stream",
     "text": [
      "=================================\n",
      "Initial portfolio value: 100000\n",
      "Final portfolio value: 1285986.0\n",
      "Final accumulative portfolio return: 12.85986\n",
      "Maximum DrawDown: -0.38515885093922386\n",
      "Sharpe ratio: 1.4981750234136215\n",
      "=================================\n"
     ]
    },
    {
     "name": "stderr",
     "output_type": "stream",
     "text": [
      " 88%|████████▊ | 22/25 [12:10<01:40, 33.51s/it]"
     ]
    },
    {
     "name": "stdout",
     "output_type": "stream",
     "text": [
      "=================================\n",
      "Initial portfolio value: 100000\n",
      "Final portfolio value: 1562997.75\n",
      "Final accumulative portfolio return: 15.6299775\n",
      "Maximum DrawDown: -0.3851589360724169\n",
      "Sharpe ratio: 1.5654729819769526\n",
      "=================================\n"
     ]
    },
    {
     "name": "stderr",
     "output_type": "stream",
     "text": [
      " 92%|█████████▏| 23/25 [12:44<01:06, 33.50s/it]"
     ]
    },
    {
     "name": "stdout",
     "output_type": "stream",
     "text": [
      "=================================\n",
      "Initial portfolio value: 100000\n",
      "Final portfolio value: 1583664.875\n",
      "Final accumulative portfolio return: 15.83664875\n",
      "Maximum DrawDown: -0.38515747348930673\n",
      "Sharpe ratio: 1.5757134577283305\n",
      "=================================\n"
     ]
    },
    {
     "name": "stderr",
     "output_type": "stream",
     "text": [
      " 96%|█████████▌| 24/25 [13:17<00:33, 33.37s/it]"
     ]
    },
    {
     "name": "stdout",
     "output_type": "stream",
     "text": [
      "=================================\n",
      "Initial portfolio value: 100000\n",
      "Final portfolio value: 1377429.875\n",
      "Final accumulative portfolio return: 13.77429875\n",
      "Maximum DrawDown: -0.3851586500777734\n",
      "Sharpe ratio: 1.5005122312739645\n",
      "=================================\n"
     ]
    },
    {
     "name": "stderr",
     "output_type": "stream",
     "text": [
      "100%|██████████| 25/25 [13:50<00:00, 33.23s/it]\n",
      "C:\\Users\\xutia\\AppData\\Local\\Temp\\ipykernel_36848\\1259870935.py:43: FutureWarning: You are using `torch.load` with `weights_only=False` (the current default value), which uses the default pickle module implicitly. It is possible to construct malicious pickle data which will execute arbitrary code during unpickling (See https://github.com/pytorch/pytorch/blob/main/SECURITY.md#untrusted-models for more details). In a future release, the default value for `weights_only` will be flipped to `True`. This limits the functions that could be executed during unpickling. Arbitrary objects will no longer be allowed to be loaded via this mode unless they are explicitly allowlisted by the user via `torch.serialization.add_safe_globals`. We recommend you start setting `weights_only=True` for any use case where you don't have full control of the loaded file. Please open an issue on GitHub for any issues related to this experimental feature.\n",
      "  EIIE_policy.load_state_dict(torch.load(model_filename))\n"
     ]
    },
    {
     "name": "stdout",
     "output_type": "stream",
     "text": [
      "=================================\n",
      "Initial portfolio value: 100000\n",
      "Final portfolio value: 840080.1875\n",
      "Final accumulative portfolio return: 8.400801875\n",
      "Maximum DrawDown: -0.28039288528128936\n",
      "Sharpe ratio: 1.3305574883903681\n",
      "=================================\n",
      "=================================\n",
      "Initial portfolio value: 100000\n",
      "Final portfolio value: 175355.96875\n",
      "Final accumulative portfolio return: 1.7535596875\n",
      "Maximum DrawDown: -0.1958450988871968\n",
      "Sharpe ratio: 1.2372651076995038\n",
      "=================================\n",
      "Training model with TIME_WINDOW=60, K_SIZE=4, CONV_MID=10, CONV_FINAL=20, LEARNING_RATE=0.02\n"
     ]
    },
    {
     "name": "stderr",
     "output_type": "stream",
     "text": [
      "  0%|          | 0/25 [00:00<?, ?it/s]"
     ]
    },
    {
     "name": "stdout",
     "output_type": "stream",
     "text": [
      "=================================\n",
      "Initial portfolio value: 100000\n",
      "Final portfolio value: 294074.5625\n",
      "Final accumulative portfolio return: 2.940745625\n",
      "Maximum DrawDown: -0.31348877725570257\n",
      "Sharpe ratio: 0.8787394529592141\n",
      "=================================\n"
     ]
    },
    {
     "name": "stderr",
     "output_type": "stream",
     "text": [
      "  4%|▍         | 1/25 [00:33<13:29, 33.74s/it]"
     ]
    },
    {
     "name": "stdout",
     "output_type": "stream",
     "text": [
      "=================================\n",
      "Initial portfolio value: 100000\n",
      "Final portfolio value: 670749.0\n",
      "Final accumulative portfolio return: 6.70749\n",
      "Maximum DrawDown: -0.28034278540539037\n",
      "Sharpe ratio: 1.2486339663407187\n",
      "=================================\n"
     ]
    },
    {
     "name": "stderr",
     "output_type": "stream",
     "text": [
      "  8%|▊         | 2/25 [01:07<12:52, 33.60s/it]"
     ]
    },
    {
     "name": "stdout",
     "output_type": "stream",
     "text": [
      "=================================\n",
      "Initial portfolio value: 100000\n",
      "Final portfolio value: 638793.1875\n",
      "Final accumulative portfolio return: 6.387931875\n",
      "Maximum DrawDown: -0.385156407530195\n",
      "Sharpe ratio: 1.146804732436967\n",
      "=================================\n"
     ]
    },
    {
     "name": "stderr",
     "output_type": "stream",
     "text": [
      " 12%|█▏        | 3/25 [01:40<12:18, 33.57s/it]"
     ]
    },
    {
     "name": "stdout",
     "output_type": "stream",
     "text": [
      "=================================\n",
      "Initial portfolio value: 100000\n",
      "Final portfolio value: 812240.75\n",
      "Final accumulative portfolio return: 8.1224075\n",
      "Maximum DrawDown: -0.3851590263936039\n",
      "Sharpe ratio: 1.2554461804925232\n",
      "=================================\n"
     ]
    },
    {
     "name": "stderr",
     "output_type": "stream",
     "text": [
      " 16%|█▌        | 4/25 [02:14<11:43, 33.51s/it]"
     ]
    },
    {
     "name": "stdout",
     "output_type": "stream",
     "text": [
      "=================================\n",
      "Initial portfolio value: 100000\n",
      "Final portfolio value: 653588.3125\n",
      "Final accumulative portfolio return: 6.535883125\n",
      "Maximum DrawDown: -0.3851588460960219\n",
      "Sharpe ratio: 1.144699188373479\n",
      "=================================\n"
     ]
    },
    {
     "name": "stderr",
     "output_type": "stream",
     "text": [
      " 20%|██        | 5/25 [02:47<11:09, 33.48s/it]"
     ]
    },
    {
     "name": "stdout",
     "output_type": "stream",
     "text": [
      "=================================\n",
      "Initial portfolio value: 100000\n",
      "Final portfolio value: 605321.3125\n",
      "Final accumulative portfolio return: 6.053213125\n",
      "Maximum DrawDown: -0.3851589524957768\n",
      "Sharpe ratio: 1.104704290336252\n",
      "=================================\n"
     ]
    },
    {
     "name": "stderr",
     "output_type": "stream",
     "text": [
      " 24%|██▍       | 6/25 [03:21<10:35, 33.46s/it]"
     ]
    },
    {
     "name": "stdout",
     "output_type": "stream",
     "text": [
      "=================================\n",
      "Initial portfolio value: 100000\n",
      "Final portfolio value: 661943.25\n",
      "Final accumulative portfolio return: 6.6194325\n",
      "Maximum DrawDown: -0.3851551280465785\n",
      "Sharpe ratio: 1.1436366843182928\n",
      "=================================\n"
     ]
    },
    {
     "name": "stderr",
     "output_type": "stream",
     "text": [
      " 28%|██▊       | 7/25 [03:54<10:01, 33.44s/it]"
     ]
    },
    {
     "name": "stdout",
     "output_type": "stream",
     "text": [
      "=================================\n",
      "Initial portfolio value: 100000\n",
      "Final portfolio value: 758694.8125\n",
      "Final accumulative portfolio return: 7.586948125\n",
      "Maximum DrawDown: -0.3851587628038218\n",
      "Sharpe ratio: 1.2230042513744974\n",
      "=================================\n"
     ]
    },
    {
     "name": "stderr",
     "output_type": "stream",
     "text": [
      " 32%|███▏      | 8/25 [04:27<09:28, 33.46s/it]"
     ]
    },
    {
     "name": "stdout",
     "output_type": "stream",
     "text": [
      "=================================\n",
      "Initial portfolio value: 100000\n",
      "Final portfolio value: 880026.8125\n",
      "Final accumulative portfolio return: 8.800268125\n",
      "Maximum DrawDown: -0.38515772001725435\n",
      "Sharpe ratio: 1.2979879158923988\n",
      "=================================\n"
     ]
    },
    {
     "name": "stderr",
     "output_type": "stream",
     "text": [
      " 36%|███▌      | 9/25 [05:01<08:54, 33.43s/it]"
     ]
    },
    {
     "name": "stdout",
     "output_type": "stream",
     "text": [
      "=================================\n",
      "Initial portfolio value: 100000\n",
      "Final portfolio value: 900791.4375\n",
      "Final accumulative portfolio return: 9.007914375\n",
      "Maximum DrawDown: -0.38515863481352586\n",
      "Sharpe ratio: 1.3154881419417095\n",
      "=================================\n"
     ]
    },
    {
     "name": "stderr",
     "output_type": "stream",
     "text": [
      " 40%|████      | 10/25 [05:34<08:20, 33.37s/it]"
     ]
    },
    {
     "name": "stdout",
     "output_type": "stream",
     "text": [
      "=================================\n",
      "Initial portfolio value: 100000\n",
      "Final portfolio value: 1093150.375\n",
      "Final accumulative portfolio return: 10.93150375\n",
      "Maximum DrawDown: -0.38515843351491097\n",
      "Sharpe ratio: 1.4133482158084614\n",
      "=================================\n"
     ]
    },
    {
     "name": "stderr",
     "output_type": "stream",
     "text": [
      " 44%|████▍     | 11/25 [06:07<07:47, 33.37s/it]"
     ]
    },
    {
     "name": "stdout",
     "output_type": "stream",
     "text": [
      "=================================\n",
      "Initial portfolio value: 100000\n",
      "Final portfolio value: 1280295.875\n",
      "Final accumulative portfolio return: 12.80295875\n",
      "Maximum DrawDown: -0.38515854504869207\n",
      "Sharpe ratio: 1.4939282045988616\n",
      "=================================\n"
     ]
    },
    {
     "name": "stderr",
     "output_type": "stream",
     "text": [
      " 48%|████▊     | 12/25 [06:41<07:13, 33.32s/it]"
     ]
    },
    {
     "name": "stdout",
     "output_type": "stream",
     "text": [
      "=================================\n",
      "Initial portfolio value: 100000\n",
      "Final portfolio value: 1579792.125\n",
      "Final accumulative portfolio return: 15.79792125\n",
      "Maximum DrawDown: -0.38515890155358445\n",
      "Sharpe ratio: 1.5927953117585336\n",
      "=================================\n"
     ]
    },
    {
     "name": "stderr",
     "output_type": "stream",
     "text": [
      " 52%|█████▏    | 13/25 [07:14<06:39, 33.32s/it]"
     ]
    },
    {
     "name": "stdout",
     "output_type": "stream",
     "text": [
      "=================================\n",
      "Initial portfolio value: 100000\n",
      "Final portfolio value: 1550250.875\n",
      "Final accumulative portfolio return: 15.50250875\n",
      "Maximum DrawDown: -0.3847634537285024\n",
      "Sharpe ratio: 1.5719266061543042\n",
      "=================================\n"
     ]
    },
    {
     "name": "stderr",
     "output_type": "stream",
     "text": [
      " 56%|█████▌    | 14/25 [07:47<06:06, 33.31s/it]"
     ]
    },
    {
     "name": "stdout",
     "output_type": "stream",
     "text": [
      "=================================\n",
      "Initial portfolio value: 100000\n",
      "Final portfolio value: 1321573.375\n",
      "Final accumulative portfolio return: 13.21573375\n",
      "Maximum DrawDown: -0.38515885087056867\n",
      "Sharpe ratio: 1.512432432248803\n",
      "=================================\n"
     ]
    },
    {
     "name": "stderr",
     "output_type": "stream",
     "text": [
      " 60%|██████    | 15/25 [08:20<05:32, 33.29s/it]"
     ]
    },
    {
     "name": "stdout",
     "output_type": "stream",
     "text": [
      "=================================\n",
      "Initial portfolio value: 100000\n",
      "Final portfolio value: 1435488.5\n",
      "Final accumulative portfolio return: 14.354885\n",
      "Maximum DrawDown: -0.3851587958452569\n",
      "Sharpe ratio: 1.5601020686813167\n",
      "=================================\n"
     ]
    },
    {
     "name": "stderr",
     "output_type": "stream",
     "text": [
      " 64%|██████▍   | 16/25 [08:54<05:00, 33.41s/it]"
     ]
    },
    {
     "name": "stdout",
     "output_type": "stream",
     "text": [
      "=================================\n",
      "Initial portfolio value: 100000\n",
      "Final portfolio value: 1245768.5\n",
      "Final accumulative portfolio return: 12.457685\n",
      "Maximum DrawDown: -0.3851586088815996\n",
      "Sharpe ratio: 1.4877484174727997\n",
      "=================================\n"
     ]
    },
    {
     "name": "stderr",
     "output_type": "stream",
     "text": [
      " 68%|██████▊   | 17/25 [09:27<04:27, 33.38s/it]"
     ]
    },
    {
     "name": "stdout",
     "output_type": "stream",
     "text": [
      "=================================\n",
      "Initial portfolio value: 100000\n",
      "Final portfolio value: 810297.875\n",
      "Final accumulative portfolio return: 8.10297875\n",
      "Maximum DrawDown: -0.45620710498000194\n",
      "Sharpe ratio: 1.1845109449942017\n",
      "=================================\n"
     ]
    },
    {
     "name": "stderr",
     "output_type": "stream",
     "text": [
      " 72%|███████▏  | 18/25 [10:01<03:53, 33.37s/it]"
     ]
    },
    {
     "name": "stdout",
     "output_type": "stream",
     "text": [
      "=================================\n",
      "Initial portfolio value: 100000\n",
      "Final portfolio value: 938223.75\n",
      "Final accumulative portfolio return: 9.3822375\n",
      "Maximum DrawDown: -0.4561950761989292\n",
      "Sharpe ratio: 1.2641460249192853\n",
      "=================================\n"
     ]
    },
    {
     "name": "stderr",
     "output_type": "stream",
     "text": [
      " 76%|███████▌  | 19/25 [10:34<03:19, 33.31s/it]"
     ]
    },
    {
     "name": "stdout",
     "output_type": "stream",
     "text": [
      "=================================\n",
      "Initial portfolio value: 100000\n",
      "Final portfolio value: 1336533.25\n",
      "Final accumulative portfolio return: 13.3653325\n",
      "Maximum DrawDown: -0.38515863067161193\n",
      "Sharpe ratio: 1.4923462526282258\n",
      "=================================\n"
     ]
    },
    {
     "name": "stderr",
     "output_type": "stream",
     "text": [
      " 80%|████████  | 20/25 [11:07<02:46, 33.23s/it]"
     ]
    },
    {
     "name": "stdout",
     "output_type": "stream",
     "text": [
      "=================================\n",
      "Initial portfolio value: 100000\n",
      "Final portfolio value: 1549351.75\n",
      "Final accumulative portfolio return: 15.4935175\n",
      "Maximum DrawDown: -0.3851587928360267\n",
      "Sharpe ratio: 1.5698573854620799\n",
      "=================================\n"
     ]
    },
    {
     "name": "stderr",
     "output_type": "stream",
     "text": [
      " 84%|████████▍ | 21/25 [11:40<02:13, 33.28s/it]"
     ]
    },
    {
     "name": "stdout",
     "output_type": "stream",
     "text": [
      "=================================\n",
      "Initial portfolio value: 100000\n",
      "Final portfolio value: 1313095.375\n",
      "Final accumulative portfolio return: 13.13095375\n",
      "Maximum DrawDown: -0.3851588221804698\n",
      "Sharpe ratio: 1.5053009216942257\n",
      "=================================\n"
     ]
    },
    {
     "name": "stderr",
     "output_type": "stream",
     "text": [
      " 88%|████████▊ | 22/25 [12:14<01:39, 33.32s/it]"
     ]
    },
    {
     "name": "stdout",
     "output_type": "stream",
     "text": [
      "=================================\n",
      "Initial portfolio value: 100000\n",
      "Final portfolio value: 1257585.625\n",
      "Final accumulative portfolio return: 12.57585625\n",
      "Maximum DrawDown: -0.38515894584404486\n",
      "Sharpe ratio: 1.467171891428974\n",
      "=================================\n"
     ]
    },
    {
     "name": "stderr",
     "output_type": "stream",
     "text": [
      " 92%|█████████▏| 23/25 [12:47<01:06, 33.26s/it]"
     ]
    },
    {
     "name": "stdout",
     "output_type": "stream",
     "text": [
      "=================================\n",
      "Initial portfolio value: 100000\n",
      "Final portfolio value: 1032041.625\n",
      "Final accumulative portfolio return: 10.32041625\n",
      "Maximum DrawDown: -0.40167966507579267\n",
      "Sharpe ratio: 1.3790008887697043\n",
      "=================================\n"
     ]
    },
    {
     "name": "stderr",
     "output_type": "stream",
     "text": [
      " 96%|█████████▌| 24/25 [13:20<00:33, 33.23s/it]"
     ]
    },
    {
     "name": "stdout",
     "output_type": "stream",
     "text": [
      "=================================\n",
      "Initial portfolio value: 100000\n",
      "Final portfolio value: 2040262.5\n",
      "Final accumulative portfolio return: 20.402625\n",
      "Maximum DrawDown: -0.38515876632999335\n",
      "Sharpe ratio: 1.7058561750309627\n",
      "=================================\n"
     ]
    },
    {
     "name": "stderr",
     "output_type": "stream",
     "text": [
      "100%|██████████| 25/25 [13:54<00:00, 33.37s/it]\n",
      "C:\\Users\\xutia\\AppData\\Local\\Temp\\ipykernel_36848\\1259870935.py:43: FutureWarning: You are using `torch.load` with `weights_only=False` (the current default value), which uses the default pickle module implicitly. It is possible to construct malicious pickle data which will execute arbitrary code during unpickling (See https://github.com/pytorch/pytorch/blob/main/SECURITY.md#untrusted-models for more details). In a future release, the default value for `weights_only` will be flipped to `True`. This limits the functions that could be executed during unpickling. Arbitrary objects will no longer be allowed to be loaded via this mode unless they are explicitly allowlisted by the user via `torch.serialization.add_safe_globals`. We recommend you start setting `weights_only=True` for any use case where you don't have full control of the loaded file. Please open an issue on GitHub for any issues related to this experimental feature.\n",
      "  EIIE_policy.load_state_dict(torch.load(model_filename))\n"
     ]
    },
    {
     "name": "stdout",
     "output_type": "stream",
     "text": [
      "=================================\n",
      "Initial portfolio value: 100000\n",
      "Final portfolio value: 563419.4375\n",
      "Final accumulative portfolio return: 5.634194375\n",
      "Maximum DrawDown: -0.3143398587588113\n",
      "Sharpe ratio: 1.0788210885815444\n",
      "=================================\n",
      "=================================\n",
      "Initial portfolio value: 100000\n",
      "Final portfolio value: 195516.859375\n",
      "Final accumulative portfolio return: 1.95516859375\n",
      "Maximum DrawDown: -0.18258659936642108\n",
      "Sharpe ratio: 1.4336153913217762\n",
      "=================================\n",
      "Training model with TIME_WINDOW=60, K_SIZE=4, CONV_MID=20, CONV_FINAL=5, LEARNING_RATE=0.02\n"
     ]
    },
    {
     "name": "stderr",
     "output_type": "stream",
     "text": [
      "  0%|          | 0/25 [00:00<?, ?it/s]"
     ]
    },
    {
     "name": "stdout",
     "output_type": "stream",
     "text": [
      "=================================\n",
      "Initial portfolio value: 100000\n",
      "Final portfolio value: 341249.0\n",
      "Final accumulative portfolio return: 3.41249\n",
      "Maximum DrawDown: -0.30533383653274004\n",
      "Sharpe ratio: 0.940329817886628\n",
      "=================================\n"
     ]
    },
    {
     "name": "stderr",
     "output_type": "stream",
     "text": [
      "  4%|▍         | 1/25 [00:33<13:21, 33.38s/it]"
     ]
    },
    {
     "name": "stdout",
     "output_type": "stream",
     "text": [
      "=================================\n",
      "Initial portfolio value: 100000\n",
      "Final portfolio value: 594676.0625\n",
      "Final accumulative portfolio return: 5.946760625\n",
      "Maximum DrawDown: -0.29156250588012056\n",
      "Sharpe ratio: 1.2041728649427277\n",
      "=================================\n"
     ]
    },
    {
     "name": "stderr",
     "output_type": "stream",
     "text": [
      "  8%|▊         | 2/25 [01:06<12:47, 33.38s/it]"
     ]
    },
    {
     "name": "stdout",
     "output_type": "stream",
     "text": [
      "=================================\n",
      "Initial portfolio value: 100000\n",
      "Final portfolio value: 440295.71875\n",
      "Final accumulative portfolio return: 4.4029571875\n",
      "Maximum DrawDown: -0.3837996487880855\n",
      "Sharpe ratio: 0.9470182576121413\n",
      "=================================\n"
     ]
    },
    {
     "name": "stderr",
     "output_type": "stream",
     "text": [
      " 12%|█▏        | 3/25 [01:40<12:13, 33.33s/it]"
     ]
    },
    {
     "name": "stdout",
     "output_type": "stream",
     "text": [
      "=================================\n",
      "Initial portfolio value: 100000\n",
      "Final portfolio value: 772346.25\n",
      "Final accumulative portfolio return: 7.7234625\n",
      "Maximum DrawDown: -0.38514555356169466\n",
      "Sharpe ratio: 1.2332425694988993\n",
      "=================================\n"
     ]
    },
    {
     "name": "stderr",
     "output_type": "stream",
     "text": [
      " 16%|█▌        | 4/25 [02:13<11:39, 33.31s/it]"
     ]
    },
    {
     "name": "stdout",
     "output_type": "stream",
     "text": [
      "=================================\n",
      "Initial portfolio value: 100000\n",
      "Final portfolio value: 798647.375\n",
      "Final accumulative portfolio return: 7.98647375\n",
      "Maximum DrawDown: -0.38514962125713437\n",
      "Sharpe ratio: 1.2355493274625888\n",
      "=================================\n"
     ]
    },
    {
     "name": "stderr",
     "output_type": "stream",
     "text": [
      " 20%|██        | 5/25 [02:47<11:10, 33.54s/it]"
     ]
    },
    {
     "name": "stdout",
     "output_type": "stream",
     "text": [
      "=================================\n",
      "Initial portfolio value: 100000\n",
      "Final portfolio value: 952412.5\n",
      "Final accumulative portfolio return: 9.524125\n",
      "Maximum DrawDown: -0.384974034053592\n",
      "Sharpe ratio: 1.3190240785254348\n",
      "=================================\n"
     ]
    },
    {
     "name": "stderr",
     "output_type": "stream",
     "text": [
      " 24%|██▍       | 6/25 [03:20<10:35, 33.47s/it]"
     ]
    },
    {
     "name": "stdout",
     "output_type": "stream",
     "text": [
      "=================================\n",
      "Initial portfolio value: 100000\n",
      "Final portfolio value: 894139.1875\n",
      "Final accumulative portfolio return: 8.941391875\n",
      "Maximum DrawDown: -0.37148621779087077\n",
      "Sharpe ratio: 1.293451916535947\n",
      "=================================\n"
     ]
    },
    {
     "name": "stderr",
     "output_type": "stream",
     "text": [
      " 28%|██▊       | 7/25 [03:53<10:01, 33.40s/it]"
     ]
    },
    {
     "name": "stdout",
     "output_type": "stream",
     "text": [
      "=================================\n",
      "Initial portfolio value: 100000\n",
      "Final portfolio value: 1336513.125\n",
      "Final accumulative portfolio return: 13.36513125\n",
      "Maximum DrawDown: -0.38430952317132117\n",
      "Sharpe ratio: 1.5007089306758645\n",
      "=================================\n"
     ]
    },
    {
     "name": "stderr",
     "output_type": "stream",
     "text": [
      " 32%|███▏      | 8/25 [04:26<09:25, 33.26s/it]"
     ]
    },
    {
     "name": "stdout",
     "output_type": "stream",
     "text": [
      "=================================\n",
      "Initial portfolio value: 100000\n",
      "Final portfolio value: 1270542.75\n",
      "Final accumulative portfolio return: 12.7054275\n",
      "Maximum DrawDown: -0.3850598420721323\n",
      "Sharpe ratio: 1.4918284744348542\n",
      "=================================\n"
     ]
    },
    {
     "name": "stderr",
     "output_type": "stream",
     "text": [
      " 36%|███▌      | 9/25 [05:00<08:53, 33.32s/it]"
     ]
    },
    {
     "name": "stdout",
     "output_type": "stream",
     "text": [
      "=================================\n",
      "Initial portfolio value: 100000\n",
      "Final portfolio value: 883327.1875\n",
      "Final accumulative portfolio return: 8.833271875\n",
      "Maximum DrawDown: -0.3586890898205586\n",
      "Sharpe ratio: 1.253507972885606\n",
      "=================================\n"
     ]
    },
    {
     "name": "stderr",
     "output_type": "stream",
     "text": [
      " 40%|████      | 10/25 [05:33<08:20, 33.40s/it]"
     ]
    },
    {
     "name": "stdout",
     "output_type": "stream",
     "text": [
      "=================================\n",
      "Initial portfolio value: 100000\n",
      "Final portfolio value: 1105288.625\n",
      "Final accumulative portfolio return: 11.05288625\n",
      "Maximum DrawDown: -0.27563549822200406\n",
      "Sharpe ratio: 1.381992618828909\n",
      "=================================\n"
     ]
    },
    {
     "name": "stderr",
     "output_type": "stream",
     "text": [
      " 44%|████▍     | 11/25 [06:07<07:47, 33.40s/it]"
     ]
    },
    {
     "name": "stdout",
     "output_type": "stream",
     "text": [
      "=================================\n",
      "Initial portfolio value: 100000\n",
      "Final portfolio value: 876676.8125\n",
      "Final accumulative portfolio return: 8.766768125\n",
      "Maximum DrawDown: -0.3444268024458288\n",
      "Sharpe ratio: 1.251573961511645\n",
      "=================================\n"
     ]
    },
    {
     "name": "stderr",
     "output_type": "stream",
     "text": [
      " 48%|████▊     | 12/25 [06:40<07:14, 33.44s/it]"
     ]
    },
    {
     "name": "stdout",
     "output_type": "stream",
     "text": [
      "=================================\n",
      "Initial portfolio value: 100000\n",
      "Final portfolio value: 978100.625\n",
      "Final accumulative portfolio return: 9.78100625\n",
      "Maximum DrawDown: -0.28192581438084297\n",
      "Sharpe ratio: 1.3254938090060753\n",
      "=================================\n"
     ]
    },
    {
     "name": "stderr",
     "output_type": "stream",
     "text": [
      " 52%|█████▏    | 13/25 [07:14<06:41, 33.42s/it]"
     ]
    },
    {
     "name": "stdout",
     "output_type": "stream",
     "text": [
      "=================================\n",
      "Initial portfolio value: 100000\n",
      "Final portfolio value: 1061392.25\n",
      "Final accumulative portfolio return: 10.6139225\n",
      "Maximum DrawDown: -0.3292264623424437\n",
      "Sharpe ratio: 1.3500694496520245\n",
      "=================================\n"
     ]
    },
    {
     "name": "stderr",
     "output_type": "stream",
     "text": [
      " 56%|█████▌    | 14/25 [07:47<06:06, 33.35s/it]"
     ]
    },
    {
     "name": "stdout",
     "output_type": "stream",
     "text": [
      "=================================\n",
      "Initial portfolio value: 100000\n",
      "Final portfolio value: 1282207.875\n",
      "Final accumulative portfolio return: 12.82207875\n",
      "Maximum DrawDown: -0.2743606922379064\n",
      "Sharpe ratio: 1.4293714239283617\n",
      "=================================\n"
     ]
    },
    {
     "name": "stderr",
     "output_type": "stream",
     "text": [
      " 60%|██████    | 15/25 [08:20<05:34, 33.44s/it]"
     ]
    },
    {
     "name": "stdout",
     "output_type": "stream",
     "text": [
      "=================================\n",
      "Initial portfolio value: 100000\n",
      "Final portfolio value: 916169.875\n",
      "Final accumulative portfolio return: 9.16169875\n",
      "Maximum DrawDown: -0.28938296614302195\n",
      "Sharpe ratio: 1.3185026279421934\n",
      "=================================\n"
     ]
    },
    {
     "name": "stderr",
     "output_type": "stream",
     "text": [
      " 64%|██████▍   | 16/25 [08:54<05:00, 33.36s/it]"
     ]
    },
    {
     "name": "stdout",
     "output_type": "stream",
     "text": [
      "=================================\n",
      "Initial portfolio value: 100000\n",
      "Final portfolio value: 1251289.875\n",
      "Final accumulative portfolio return: 12.51289875\n",
      "Maximum DrawDown: -0.27551277542513053\n",
      "Sharpe ratio: 1.4388595386901004\n",
      "=================================\n"
     ]
    },
    {
     "name": "stderr",
     "output_type": "stream",
     "text": [
      " 68%|██████▊   | 17/25 [09:27<04:26, 33.28s/it]"
     ]
    },
    {
     "name": "stdout",
     "output_type": "stream",
     "text": [
      "=================================\n",
      "Initial portfolio value: 100000\n",
      "Final portfolio value: 1103604.0\n",
      "Final accumulative portfolio return: 11.03604\n",
      "Maximum DrawDown: -0.38513523664982363\n",
      "Sharpe ratio: 1.4078490745204573\n",
      "=================================\n"
     ]
    },
    {
     "name": "stderr",
     "output_type": "stream",
     "text": [
      " 72%|███████▏  | 18/25 [10:00<03:53, 33.42s/it]"
     ]
    },
    {
     "name": "stdout",
     "output_type": "stream",
     "text": [
      "=================================\n",
      "Initial portfolio value: 100000\n",
      "Final portfolio value: 1073739.25\n",
      "Final accumulative portfolio return: 10.7373925\n",
      "Maximum DrawDown: -0.38515847165655803\n",
      "Sharpe ratio: 1.3802106478049765\n",
      "=================================\n"
     ]
    },
    {
     "name": "stderr",
     "output_type": "stream",
     "text": [
      " 76%|███████▌  | 19/25 [10:34<03:19, 33.32s/it]"
     ]
    },
    {
     "name": "stdout",
     "output_type": "stream",
     "text": [
      "=================================\n",
      "Initial portfolio value: 100000\n",
      "Final portfolio value: 1657248.75\n",
      "Final accumulative portfolio return: 16.5724875\n",
      "Maximum DrawDown: -0.3851586378635061\n",
      "Sharpe ratio: 1.6169204215121318\n",
      "=================================\n"
     ]
    },
    {
     "name": "stderr",
     "output_type": "stream",
     "text": [
      " 80%|████████  | 20/25 [11:07<02:47, 33.44s/it]"
     ]
    },
    {
     "name": "stdout",
     "output_type": "stream",
     "text": [
      "=================================\n",
      "Initial portfolio value: 100000\n",
      "Final portfolio value: 1277679.125\n",
      "Final accumulative portfolio return: 12.77679125\n",
      "Maximum DrawDown: -0.3849710551517749\n",
      "Sharpe ratio: 1.426445353868044\n",
      "=================================\n"
     ]
    },
    {
     "name": "stderr",
     "output_type": "stream",
     "text": [
      " 84%|████████▍ | 21/25 [11:41<02:13, 33.46s/it]"
     ]
    },
    {
     "name": "stdout",
     "output_type": "stream",
     "text": [
      "=================================\n",
      "Initial portfolio value: 100000\n",
      "Final portfolio value: 1158085.375\n",
      "Final accumulative portfolio return: 11.58085375\n",
      "Maximum DrawDown: -0.385143902979047\n",
      "Sharpe ratio: 1.402943974183286\n",
      "=================================\n"
     ]
    },
    {
     "name": "stderr",
     "output_type": "stream",
     "text": [
      " 88%|████████▊ | 22/25 [12:14<01:40, 33.42s/it]"
     ]
    },
    {
     "name": "stdout",
     "output_type": "stream",
     "text": [
      "=================================\n",
      "Initial portfolio value: 100000\n",
      "Final portfolio value: 1230624.5\n",
      "Final accumulative portfolio return: 12.306245\n",
      "Maximum DrawDown: -0.38515492476616753\n",
      "Sharpe ratio: 1.4400777682927886\n",
      "=================================\n"
     ]
    },
    {
     "name": "stderr",
     "output_type": "stream",
     "text": [
      " 92%|█████████▏| 23/25 [12:48<01:06, 33.45s/it]"
     ]
    },
    {
     "name": "stdout",
     "output_type": "stream",
     "text": [
      "=================================\n",
      "Initial portfolio value: 100000\n",
      "Final portfolio value: 1607025.625\n",
      "Final accumulative portfolio return: 16.07025625\n",
      "Maximum DrawDown: -0.3851400105688767\n",
      "Sharpe ratio: 1.570949987937797\n",
      "=================================\n"
     ]
    },
    {
     "name": "stderr",
     "output_type": "stream",
     "text": [
      " 96%|█████████▌| 24/25 [13:21<00:33, 33.55s/it]"
     ]
    },
    {
     "name": "stdout",
     "output_type": "stream",
     "text": [
      "=================================\n",
      "Initial portfolio value: 100000\n",
      "Final portfolio value: 1326254.375\n",
      "Final accumulative portfolio return: 13.26254375\n",
      "Maximum DrawDown: -0.3851561706886104\n",
      "Sharpe ratio: 1.4676543374945104\n",
      "=================================\n"
     ]
    },
    {
     "name": "stderr",
     "output_type": "stream",
     "text": [
      "100%|██████████| 25/25 [13:55<00:00, 33.42s/it]\n",
      "C:\\Users\\xutia\\AppData\\Local\\Temp\\ipykernel_36848\\1259870935.py:43: FutureWarning: You are using `torch.load` with `weights_only=False` (the current default value), which uses the default pickle module implicitly. It is possible to construct malicious pickle data which will execute arbitrary code during unpickling (See https://github.com/pytorch/pytorch/blob/main/SECURITY.md#untrusted-models for more details). In a future release, the default value for `weights_only` will be flipped to `True`. This limits the functions that could be executed during unpickling. Arbitrary objects will no longer be allowed to be loaded via this mode unless they are explicitly allowlisted by the user via `torch.serialization.add_safe_globals`. We recommend you start setting `weights_only=True` for any use case where you don't have full control of the loaded file. Please open an issue on GitHub for any issues related to this experimental feature.\n",
      "  EIIE_policy.load_state_dict(torch.load(model_filename))\n"
     ]
    },
    {
     "name": "stdout",
     "output_type": "stream",
     "text": [
      "=================================\n",
      "Initial portfolio value: 100000\n",
      "Final portfolio value: 866636.9375\n",
      "Final accumulative portfolio return: 8.666369375\n",
      "Maximum DrawDown: -0.3189626419260644\n",
      "Sharpe ratio: 1.2388395593128971\n",
      "=================================\n",
      "=================================\n",
      "Initial portfolio value: 100000\n",
      "Final portfolio value: 173176.234375\n",
      "Final accumulative portfolio return: 1.73176234375\n",
      "Maximum DrawDown: -0.2221185558269848\n",
      "Sharpe ratio: 1.2321716678309667\n",
      "=================================\n",
      "Training model with TIME_WINDOW=60, K_SIZE=4, CONV_MID=20, CONV_FINAL=10, LEARNING_RATE=0.02\n"
     ]
    },
    {
     "name": "stderr",
     "output_type": "stream",
     "text": [
      "  0%|          | 0/25 [00:00<?, ?it/s]"
     ]
    },
    {
     "name": "stdout",
     "output_type": "stream",
     "text": [
      "=================================\n",
      "Initial portfolio value: 100000\n",
      "Final portfolio value: 312397.28125\n",
      "Final accumulative portfolio return: 3.1239728125\n",
      "Maximum DrawDown: -0.3381210958606877\n",
      "Sharpe ratio: 0.8447575640151173\n",
      "=================================\n"
     ]
    },
    {
     "name": "stderr",
     "output_type": "stream",
     "text": [
      "  4%|▍         | 1/25 [00:33<13:25, 33.58s/it]"
     ]
    },
    {
     "name": "stdout",
     "output_type": "stream",
     "text": [
      "=================================\n",
      "Initial portfolio value: 100000\n",
      "Final portfolio value: 718184.3125\n",
      "Final accumulative portfolio return: 7.181843125\n",
      "Maximum DrawDown: -0.3830402676371726\n",
      "Sharpe ratio: 1.2239549827190217\n",
      "=================================\n"
     ]
    },
    {
     "name": "stderr",
     "output_type": "stream",
     "text": [
      "  8%|▊         | 2/25 [01:06<12:46, 33.33s/it]"
     ]
    },
    {
     "name": "stdout",
     "output_type": "stream",
     "text": [
      "=================================\n",
      "Initial portfolio value: 100000\n",
      "Final portfolio value: 415916.875\n",
      "Final accumulative portfolio return: 4.15916875\n",
      "Maximum DrawDown: -0.4156374854815551\n",
      "Sharpe ratio: 0.8700889793218994\n",
      "=================================\n"
     ]
    },
    {
     "name": "stderr",
     "output_type": "stream",
     "text": [
      " 12%|█▏        | 3/25 [01:39<12:12, 33.28s/it]"
     ]
    },
    {
     "name": "stdout",
     "output_type": "stream",
     "text": [
      "=================================\n",
      "Initial portfolio value: 100000\n",
      "Final portfolio value: 750721.0625\n",
      "Final accumulative portfolio return: 7.507210625\n",
      "Maximum DrawDown: -0.28043241559364707\n",
      "Sharpe ratio: 1.302027440917186\n",
      "=================================\n"
     ]
    },
    {
     "name": "stderr",
     "output_type": "stream",
     "text": [
      " 16%|█▌        | 4/25 [02:13<11:43, 33.51s/it]"
     ]
    },
    {
     "name": "stdout",
     "output_type": "stream",
     "text": [
      "=================================\n",
      "Initial portfolio value: 100000\n",
      "Final portfolio value: 319537.09375\n",
      "Final accumulative portfolio return: 3.1953709375\n",
      "Maximum DrawDown: -0.45418141660153544\n",
      "Sharpe ratio: 0.7595302449549742\n",
      "=================================\n"
     ]
    },
    {
     "name": "stderr",
     "output_type": "stream",
     "text": [
      " 20%|██        | 5/25 [02:47<11:11, 33.57s/it]"
     ]
    },
    {
     "name": "stdout",
     "output_type": "stream",
     "text": [
      "=================================\n",
      "Initial portfolio value: 100000\n",
      "Final portfolio value: 577481.3125\n",
      "Final accumulative portfolio return: 5.774813125\n",
      "Maximum DrawDown: -0.4102515145869229\n",
      "Sharpe ratio: 1.0843303768553516\n",
      "=================================\n"
     ]
    },
    {
     "name": "stderr",
     "output_type": "stream",
     "text": [
      " 24%|██▍       | 6/25 [03:20<10:36, 33.52s/it]"
     ]
    },
    {
     "name": "stdout",
     "output_type": "stream",
     "text": [
      "=================================\n",
      "Initial portfolio value: 100000\n",
      "Final portfolio value: 938125.875\n",
      "Final accumulative portfolio return: 9.38125875\n",
      "Maximum DrawDown: -0.27585334733476896\n",
      "Sharpe ratio: 1.3744385097458378\n",
      "=================================\n"
     ]
    },
    {
     "name": "stderr",
     "output_type": "stream",
     "text": [
      " 28%|██▊       | 7/25 [03:54<10:02, 33.49s/it]"
     ]
    },
    {
     "name": "stdout",
     "output_type": "stream",
     "text": [
      "=================================\n",
      "Initial portfolio value: 100000\n",
      "Final portfolio value: 1195360.75\n",
      "Final accumulative portfolio return: 11.9536075\n",
      "Maximum DrawDown: -0.27897188595951605\n",
      "Sharpe ratio: 1.4652580416434344\n",
      "=================================\n"
     ]
    },
    {
     "name": "stderr",
     "output_type": "stream",
     "text": [
      " 32%|███▏      | 8/25 [04:27<09:29, 33.49s/it]"
     ]
    },
    {
     "name": "stdout",
     "output_type": "stream",
     "text": [
      "=================================\n",
      "Initial portfolio value: 100000\n",
      "Final portfolio value: 1325040.75\n",
      "Final accumulative portfolio return: 13.2504075\n",
      "Maximum DrawDown: -0.28370846568902475\n",
      "Sharpe ratio: 1.4873433753508325\n",
      "=================================\n"
     ]
    },
    {
     "name": "stderr",
     "output_type": "stream",
     "text": [
      " 36%|███▌      | 9/25 [05:01<08:57, 33.62s/it]"
     ]
    },
    {
     "name": "stdout",
     "output_type": "stream",
     "text": [
      "=================================\n",
      "Initial portfolio value: 100000\n",
      "Final portfolio value: 1332823.75\n",
      "Final accumulative portfolio return: 13.3282375\n",
      "Maximum DrawDown: -0.2839879501744089\n",
      "Sharpe ratio: 1.4889516665570592\n",
      "=================================\n"
     ]
    },
    {
     "name": "stderr",
     "output_type": "stream",
     "text": [
      " 40%|████      | 10/25 [05:35<08:24, 33.60s/it]"
     ]
    },
    {
     "name": "stdout",
     "output_type": "stream",
     "text": [
      "=================================\n",
      "Initial portfolio value: 100000\n",
      "Final portfolio value: 1370729.625\n",
      "Final accumulative portfolio return: 13.70729625\n",
      "Maximum DrawDown: -0.28391105223546953\n",
      "Sharpe ratio: 1.507512912388782\n",
      "=================================\n"
     ]
    },
    {
     "name": "stderr",
     "output_type": "stream",
     "text": [
      " 44%|████▍     | 11/25 [06:09<07:50, 33.63s/it]"
     ]
    },
    {
     "name": "stdout",
     "output_type": "stream",
     "text": [
      "=================================\n",
      "Initial portfolio value: 100000\n",
      "Final portfolio value: 1041260.5625\n",
      "Final accumulative portfolio return: 10.412605625\n",
      "Maximum DrawDown: -0.28039289336114637\n",
      "Sharpe ratio: 1.4253688353854599\n",
      "=================================\n"
     ]
    },
    {
     "name": "stderr",
     "output_type": "stream",
     "text": [
      " 48%|████▊     | 12/25 [06:42<07:17, 33.63s/it]"
     ]
    },
    {
     "name": "stdout",
     "output_type": "stream",
     "text": [
      "=================================\n",
      "Initial portfolio value: 100000\n",
      "Final portfolio value: 1038895.625\n",
      "Final accumulative portfolio return: 10.38895625\n",
      "Maximum DrawDown: -0.2885464151488235\n",
      "Sharpe ratio: 1.373424935304227\n",
      "=================================\n"
     ]
    },
    {
     "name": "stderr",
     "output_type": "stream",
     "text": [
      " 52%|█████▏    | 13/25 [07:16<06:43, 33.65s/it]"
     ]
    },
    {
     "name": "stdout",
     "output_type": "stream",
     "text": [
      "=================================\n",
      "Initial portfolio value: 100000\n",
      "Final portfolio value: 1423353.625\n",
      "Final accumulative portfolio return: 14.23353625\n",
      "Maximum DrawDown: -0.28412570661270264\n",
      "Sharpe ratio: 1.4995148683859216\n",
      "=================================\n"
     ]
    },
    {
     "name": "stderr",
     "output_type": "stream",
     "text": [
      " 56%|█████▌    | 14/25 [07:50<06:10, 33.67s/it]"
     ]
    },
    {
     "name": "stdout",
     "output_type": "stream",
     "text": [
      "=================================\n",
      "Initial portfolio value: 100000\n",
      "Final portfolio value: 1498995.25\n",
      "Final accumulative portfolio return: 14.9899525\n",
      "Maximum DrawDown: -0.2841039039142934\n",
      "Sharpe ratio: 1.545011153194502\n",
      "=================================\n"
     ]
    },
    {
     "name": "stderr",
     "output_type": "stream",
     "text": [
      " 60%|██████    | 15/25 [08:24<05:40, 34.04s/it]"
     ]
    },
    {
     "name": "stdout",
     "output_type": "stream",
     "text": [
      "=================================\n",
      "Initial portfolio value: 100000\n",
      "Final portfolio value: 1592123.125\n",
      "Final accumulative portfolio return: 15.92123125\n",
      "Maximum DrawDown: -0.2929438314616388\n",
      "Sharpe ratio: 1.5525740475453964\n",
      "=================================\n"
     ]
    },
    {
     "name": "stderr",
     "output_type": "stream",
     "text": [
      " 64%|██████▍   | 16/25 [08:59<05:06, 34.10s/it]"
     ]
    },
    {
     "name": "stdout",
     "output_type": "stream",
     "text": [
      "=================================\n",
      "Initial portfolio value: 100000\n",
      "Final portfolio value: 1450807.875\n",
      "Final accumulative portfolio return: 14.50807875\n",
      "Maximum DrawDown: -0.2805159111159279\n",
      "Sharpe ratio: 1.5424574833726996\n",
      "=================================\n"
     ]
    },
    {
     "name": "stderr",
     "output_type": "stream",
     "text": [
      " 68%|██████▊   | 17/25 [09:32<04:31, 33.93s/it]"
     ]
    },
    {
     "name": "stdout",
     "output_type": "stream",
     "text": [
      "=================================\n",
      "Initial portfolio value: 100000\n",
      "Final portfolio value: 862832.9375\n",
      "Final accumulative portfolio return: 8.628329375\n",
      "Maximum DrawDown: -0.3663761631973178\n",
      "Sharpe ratio: 1.2647224000638093\n",
      "=================================\n"
     ]
    },
    {
     "name": "stderr",
     "output_type": "stream",
     "text": [
      " 72%|███████▏  | 18/25 [10:06<03:56, 33.82s/it]"
     ]
    },
    {
     "name": "stdout",
     "output_type": "stream",
     "text": [
      "=================================\n",
      "Initial portfolio value: 100000\n",
      "Final portfolio value: 1469767.625\n",
      "Final accumulative portfolio return: 14.69767625\n",
      "Maximum DrawDown: -0.33753768388865146\n",
      "Sharpe ratio: 1.558669505526015\n",
      "=================================\n"
     ]
    },
    {
     "name": "stderr",
     "output_type": "stream",
     "text": [
      " 76%|███████▌  | 19/25 [10:39<03:22, 33.73s/it]"
     ]
    },
    {
     "name": "stdout",
     "output_type": "stream",
     "text": [
      "=================================\n",
      "Initial portfolio value: 100000\n",
      "Final portfolio value: 1449711.0\n",
      "Final accumulative portfolio return: 14.49711\n",
      "Maximum DrawDown: -0.2819201932455334\n",
      "Sharpe ratio: 1.5650827577838944\n",
      "=================================\n"
     ]
    },
    {
     "name": "stderr",
     "output_type": "stream",
     "text": [
      " 80%|████████  | 20/25 [11:13<02:48, 33.69s/it]"
     ]
    },
    {
     "name": "stdout",
     "output_type": "stream",
     "text": [
      "=================================\n",
      "Initial portfolio value: 100000\n",
      "Final portfolio value: 1440264.25\n",
      "Final accumulative portfolio return: 14.4026425\n",
      "Maximum DrawDown: -0.3131222656299447\n",
      "Sharpe ratio: 1.5288890074817783\n",
      "=================================\n"
     ]
    },
    {
     "name": "stderr",
     "output_type": "stream",
     "text": [
      " 84%|████████▍ | 21/25 [11:46<02:14, 33.66s/it]"
     ]
    },
    {
     "name": "stdout",
     "output_type": "stream",
     "text": [
      "=================================\n",
      "Initial portfolio value: 100000\n",
      "Final portfolio value: 1507653.75\n",
      "Final accumulative portfolio return: 15.0765375\n",
      "Maximum DrawDown: -0.28318895874455896\n",
      "Sharpe ratio: 1.5496970360248303\n",
      "=================================\n"
     ]
    },
    {
     "name": "stderr",
     "output_type": "stream",
     "text": [
      " 88%|████████▊ | 22/25 [12:20<01:40, 33.66s/it]"
     ]
    },
    {
     "name": "stdout",
     "output_type": "stream",
     "text": [
      "=================================\n",
      "Initial portfolio value: 100000\n",
      "Final portfolio value: 1612192.5\n",
      "Final accumulative portfolio return: 16.121925\n",
      "Maximum DrawDown: -0.28407337913183217\n",
      "Sharpe ratio: 1.5755673775310364\n",
      "=================================\n"
     ]
    },
    {
     "name": "stderr",
     "output_type": "stream",
     "text": [
      " 92%|█████████▏| 23/25 [12:54<01:07, 33.65s/it]"
     ]
    },
    {
     "name": "stdout",
     "output_type": "stream",
     "text": [
      "=================================\n",
      "Initial portfolio value: 100000\n",
      "Final portfolio value: 1181916.875\n",
      "Final accumulative portfolio return: 11.81916875\n",
      "Maximum DrawDown: -0.3145612630341087\n",
      "Sharpe ratio: 1.4034453879344213\n",
      "=================================\n"
     ]
    },
    {
     "name": "stderr",
     "output_type": "stream",
     "text": [
      " 96%|█████████▌| 24/25 [13:27<00:33, 33.58s/it]"
     ]
    },
    {
     "name": "stdout",
     "output_type": "stream",
     "text": [
      "=================================\n",
      "Initial portfolio value: 100000\n",
      "Final portfolio value: 1025584.125\n",
      "Final accumulative portfolio return: 10.25584125\n",
      "Maximum DrawDown: -0.2945286959423451\n",
      "Sharpe ratio: 1.3585693683590832\n",
      "=================================\n"
     ]
    },
    {
     "name": "stderr",
     "output_type": "stream",
     "text": [
      "100%|██████████| 25/25 [14:01<00:00, 33.68s/it]\n",
      "C:\\Users\\xutia\\AppData\\Local\\Temp\\ipykernel_36848\\1259870935.py:43: FutureWarning: You are using `torch.load` with `weights_only=False` (the current default value), which uses the default pickle module implicitly. It is possible to construct malicious pickle data which will execute arbitrary code during unpickling (See https://github.com/pytorch/pytorch/blob/main/SECURITY.md#untrusted-models for more details). In a future release, the default value for `weights_only` will be flipped to `True`. This limits the functions that could be executed during unpickling. Arbitrary objects will no longer be allowed to be loaded via this mode unless they are explicitly allowlisted by the user via `torch.serialization.add_safe_globals`. We recommend you start setting `weights_only=True` for any use case where you don't have full control of the loaded file. Please open an issue on GitHub for any issues related to this experimental feature.\n",
      "  EIIE_policy.load_state_dict(torch.load(model_filename))\n"
     ]
    },
    {
     "name": "stdout",
     "output_type": "stream",
     "text": [
      "=================================\n",
      "Initial portfolio value: 100000\n",
      "Final portfolio value: 966106.5625\n",
      "Final accumulative portfolio return: 9.661065625\n",
      "Maximum DrawDown: -0.2769152602454972\n",
      "Sharpe ratio: 1.3734423137479266\n",
      "=================================\n",
      "=================================\n",
      "Initial portfolio value: 100000\n",
      "Final portfolio value: 107304.078125\n",
      "Final accumulative portfolio return: 1.07304078125\n",
      "Maximum DrawDown: -0.2794348000025171\n",
      "Sharpe ratio: 0.28249391771237725\n",
      "=================================\n",
      "Training model with TIME_WINDOW=60, K_SIZE=4, CONV_MID=20, CONV_FINAL=20, LEARNING_RATE=0.02\n"
     ]
    },
    {
     "name": "stderr",
     "output_type": "stream",
     "text": [
      "  0%|          | 0/25 [00:00<?, ?it/s]"
     ]
    },
    {
     "name": "stdout",
     "output_type": "stream",
     "text": [
      "=================================\n",
      "Initial portfolio value: 100000\n",
      "Final portfolio value: 292938.90625\n",
      "Final accumulative portfolio return: 2.9293890625\n",
      "Maximum DrawDown: -0.29849597833744235\n",
      "Sharpe ratio: 0.8614615981021353\n",
      "=================================\n"
     ]
    },
    {
     "name": "stderr",
     "output_type": "stream",
     "text": [
      "  4%|▍         | 1/25 [00:34<13:38, 34.09s/it]"
     ]
    },
    {
     "name": "stdout",
     "output_type": "stream",
     "text": [
      "=================================\n",
      "Initial portfolio value: 100000\n",
      "Final portfolio value: 558056.5\n",
      "Final accumulative portfolio return: 5.580565\n",
      "Maximum DrawDown: -0.2804887718005581\n",
      "Sharpe ratio: 1.120433762723159\n",
      "=================================\n"
     ]
    },
    {
     "name": "stderr",
     "output_type": "stream",
     "text": [
      "  8%|▊         | 2/25 [01:07<12:56, 33.76s/it]"
     ]
    },
    {
     "name": "stdout",
     "output_type": "stream",
     "text": [
      "=================================\n",
      "Initial portfolio value: 100000\n",
      "Final portfolio value: 808963.875\n",
      "Final accumulative portfolio return: 8.08963875\n",
      "Maximum DrawDown: -0.28039352233861226\n",
      "Sharpe ratio: 1.3170211385277493\n",
      "=================================\n"
     ]
    },
    {
     "name": "stderr",
     "output_type": "stream",
     "text": [
      " 12%|█▏        | 3/25 [01:41<12:23, 33.78s/it]"
     ]
    },
    {
     "name": "stdout",
     "output_type": "stream",
     "text": [
      "=================================\n",
      "Initial portfolio value: 100000\n",
      "Final portfolio value: 269369.96875\n",
      "Final accumulative portfolio return: 2.6936996875\n",
      "Maximum DrawDown: -0.45620959730747557\n",
      "Sharpe ratio: 0.655116094532987\n",
      "=================================\n"
     ]
    },
    {
     "name": "stderr",
     "output_type": "stream",
     "text": [
      " 16%|█▌        | 4/25 [02:15<11:47, 33.71s/it]"
     ]
    },
    {
     "name": "stdout",
     "output_type": "stream",
     "text": [
      "=================================\n",
      "Initial portfolio value: 100000\n",
      "Final portfolio value: 316749.625\n",
      "Final accumulative portfolio return: 3.16749625\n",
      "Maximum DrawDown: -0.4562098827894904\n",
      "Sharpe ratio: 0.7291224783834217\n",
      "=================================\n"
     ]
    },
    {
     "name": "stderr",
     "output_type": "stream",
     "text": [
      " 20%|██        | 5/25 [02:48<11:13, 33.67s/it]"
     ]
    },
    {
     "name": "stdout",
     "output_type": "stream",
     "text": [
      "=================================\n",
      "Initial portfolio value: 100000\n",
      "Final portfolio value: 530435.375\n",
      "Final accumulative portfolio return: 5.30435375\n",
      "Maximum DrawDown: -0.45620960247018716\n",
      "Sharpe ratio: 0.9995087219881388\n",
      "=================================\n"
     ]
    },
    {
     "name": "stderr",
     "output_type": "stream",
     "text": [
      " 24%|██▍       | 6/25 [03:22<10:40, 33.70s/it]"
     ]
    },
    {
     "name": "stdout",
     "output_type": "stream",
     "text": [
      "=================================\n",
      "Initial portfolio value: 100000\n",
      "Final portfolio value: 519300.53125\n",
      "Final accumulative portfolio return: 5.1930053125\n",
      "Maximum DrawDown: -0.45576600182249927\n",
      "Sharpe ratio: 0.9802147520984341\n",
      "=================================\n"
     ]
    },
    {
     "name": "stderr",
     "output_type": "stream",
     "text": [
      " 28%|██▊       | 7/25 [03:55<10:05, 33.65s/it]"
     ]
    },
    {
     "name": "stdout",
     "output_type": "stream",
     "text": [
      "=================================\n",
      "Initial portfolio value: 100000\n",
      "Final portfolio value: 704672.875\n",
      "Final accumulative portfolio return: 7.04672875\n",
      "Maximum DrawDown: -0.32963793638542405\n",
      "Sharpe ratio: 1.1529472494857294\n",
      "=================================\n"
     ]
    },
    {
     "name": "stderr",
     "output_type": "stream",
     "text": [
      " 32%|███▏      | 8/25 [04:29<09:32, 33.66s/it]"
     ]
    },
    {
     "name": "stdout",
     "output_type": "stream",
     "text": [
      "=================================\n",
      "Initial portfolio value: 100000\n",
      "Final portfolio value: 1133303.5\n",
      "Final accumulative portfolio return: 11.333035\n",
      "Maximum DrawDown: -0.28039269262829525\n",
      "Sharpe ratio: 1.420726260430456\n",
      "=================================\n"
     ]
    },
    {
     "name": "stderr",
     "output_type": "stream",
     "text": [
      " 36%|███▌      | 9/25 [05:08<09:25, 35.37s/it]"
     ]
    },
    {
     "name": "stdout",
     "output_type": "stream",
     "text": [
      "=================================\n",
      "Initial portfolio value: 100000\n",
      "Final portfolio value: 210588.796875\n",
      "Final accumulative portfolio return: 2.10588796875\n",
      "Maximum DrawDown: -0.28039315089002403\n",
      "Sharpe ratio: 0.5916383309528539\n",
      "=================================\n"
     ]
    },
    {
     "name": "stderr",
     "output_type": "stream",
     "text": [
      " 40%|████      | 10/25 [05:42<08:43, 34.88s/it]"
     ]
    },
    {
     "name": "stdout",
     "output_type": "stream",
     "text": [
      "=================================\n",
      "Initial portfolio value: 100000\n",
      "Final portfolio value: 825097.0\n",
      "Final accumulative portfolio return: 8.25097\n",
      "Maximum DrawDown: -0.2803929462905189\n",
      "Sharpe ratio: 1.3624938814345697\n",
      "=================================\n"
     ]
    },
    {
     "name": "stderr",
     "output_type": "stream",
     "text": [
      " 44%|████▍     | 11/25 [06:16<08:02, 34.46s/it]"
     ]
    },
    {
     "name": "stdout",
     "output_type": "stream",
     "text": [
      "=================================\n",
      "Initial portfolio value: 100000\n",
      "Final portfolio value: 800040.6875\n",
      "Final accumulative portfolio return: 8.000406875\n",
      "Maximum DrawDown: -0.2803929326980432\n",
      "Sharpe ratio: 1.3629546053272865\n",
      "=================================\n"
     ]
    },
    {
     "name": "stderr",
     "output_type": "stream",
     "text": [
      " 48%|████▊     | 12/25 [06:49<07:24, 34.19s/it]"
     ]
    },
    {
     "name": "stdout",
     "output_type": "stream",
     "text": [
      "=================================\n",
      "Initial portfolio value: 100000\n",
      "Final portfolio value: 734035.625\n",
      "Final accumulative portfolio return: 7.34035625\n",
      "Maximum DrawDown: -0.2803930002040671\n",
      "Sharpe ratio: 1.3272084739693335\n",
      "=================================\n"
     ]
    },
    {
     "name": "stderr",
     "output_type": "stream",
     "text": [
      " 52%|█████▏    | 13/25 [07:23<06:50, 34.20s/it]"
     ]
    },
    {
     "name": "stdout",
     "output_type": "stream",
     "text": [
      "=================================\n",
      "Initial portfolio value: 100000\n",
      "Final portfolio value: 667686.9375\n",
      "Final accumulative portfolio return: 6.676869375\n",
      "Maximum DrawDown: -0.35941518698574804\n",
      "Sharpe ratio: 1.1488863615365394\n",
      "=================================\n"
     ]
    },
    {
     "name": "stderr",
     "output_type": "stream",
     "text": [
      " 56%|█████▌    | 14/25 [07:57<06:15, 34.10s/it]"
     ]
    },
    {
     "name": "stdout",
     "output_type": "stream",
     "text": [
      "=================================\n",
      "Initial portfolio value: 100000\n",
      "Final portfolio value: 718969.375\n",
      "Final accumulative portfolio return: 7.18969375\n",
      "Maximum DrawDown: -0.38515908291135037\n",
      "Sharpe ratio: 1.1750953680830878\n",
      "=================================\n"
     ]
    },
    {
     "name": "stderr",
     "output_type": "stream",
     "text": [
      " 60%|██████    | 15/25 [08:31<05:39, 33.92s/it]"
     ]
    },
    {
     "name": "stdout",
     "output_type": "stream",
     "text": [
      "=================================\n",
      "Initial portfolio value: 100000\n",
      "Final portfolio value: 624888.25\n",
      "Final accumulative portfolio return: 6.2488825\n",
      "Maximum DrawDown: -0.38515881294523113\n",
      "Sharpe ratio: 1.0895255377488828\n",
      "=================================\n"
     ]
    },
    {
     "name": "stderr",
     "output_type": "stream",
     "text": [
      " 64%|██████▍   | 16/25 [09:04<05:04, 33.86s/it]"
     ]
    },
    {
     "name": "stdout",
     "output_type": "stream",
     "text": [
      "=================================\n",
      "Initial portfolio value: 100000\n",
      "Final portfolio value: 513279.21875\n",
      "Final accumulative portfolio return: 5.1327921875\n",
      "Maximum DrawDown: -0.37021918421696265\n",
      "Sharpe ratio: 1.0075122071937488\n",
      "=================================\n"
     ]
    },
    {
     "name": "stderr",
     "output_type": "stream",
     "text": [
      " 68%|██████▊   | 17/25 [09:38<04:29, 33.71s/it]"
     ]
    },
    {
     "name": "stdout",
     "output_type": "stream",
     "text": [
      "=================================\n",
      "Initial portfolio value: 100000\n",
      "Final portfolio value: 929992.1875\n",
      "Final accumulative portfolio return: 9.299921875\n",
      "Maximum DrawDown: -0.28108253647863046\n",
      "Sharpe ratio: 1.3210456853717556\n",
      "=================================\n"
     ]
    },
    {
     "name": "stderr",
     "output_type": "stream",
     "text": [
      " 72%|███████▏  | 18/25 [10:11<03:55, 33.65s/it]"
     ]
    },
    {
     "name": "stdout",
     "output_type": "stream",
     "text": [
      "=================================\n",
      "Initial portfolio value: 100000\n",
      "Final portfolio value: 521973.46875\n",
      "Final accumulative portfolio return: 5.2197346875\n",
      "Maximum DrawDown: -0.3850490118314319\n",
      "Sharpe ratio: 1.0098032236819392\n",
      "=================================\n"
     ]
    },
    {
     "name": "stderr",
     "output_type": "stream",
     "text": [
      " 76%|███████▌  | 19/25 [10:45<03:21, 33.64s/it]"
     ]
    },
    {
     "name": "stdout",
     "output_type": "stream",
     "text": [
      "=================================\n",
      "Initial portfolio value: 100000\n",
      "Final portfolio value: 596011.8125\n",
      "Final accumulative portfolio return: 5.960118125\n",
      "Maximum DrawDown: -0.38515447894903576\n",
      "Sharpe ratio: 1.0830650756764224\n",
      "=================================\n"
     ]
    },
    {
     "name": "stderr",
     "output_type": "stream",
     "text": [
      " 80%|████████  | 20/25 [11:18<02:47, 33.59s/it]"
     ]
    },
    {
     "name": "stdout",
     "output_type": "stream",
     "text": [
      "=================================\n",
      "Initial portfolio value: 100000\n",
      "Final portfolio value: 561312.875\n",
      "Final accumulative portfolio return: 5.61312875\n",
      "Maximum DrawDown: -0.38515789660312283\n",
      "Sharpe ratio: 1.0416691439065315\n",
      "=================================\n"
     ]
    },
    {
     "name": "stderr",
     "output_type": "stream",
     "text": [
      " 84%|████████▍ | 21/25 [11:52<02:14, 33.56s/it]"
     ]
    },
    {
     "name": "stdout",
     "output_type": "stream",
     "text": [
      "=================================\n",
      "Initial portfolio value: 100000\n",
      "Final portfolio value: 630330.4375\n",
      "Final accumulative portfolio return: 6.303304375\n",
      "Maximum DrawDown: -0.38515845872053045\n",
      "Sharpe ratio: 1.110693162593465\n",
      "=================================\n"
     ]
    },
    {
     "name": "stderr",
     "output_type": "stream",
     "text": [
      " 88%|████████▊ | 22/25 [12:26<01:40, 33.64s/it]"
     ]
    },
    {
     "name": "stdout",
     "output_type": "stream",
     "text": [
      "=================================\n",
      "Initial portfolio value: 100000\n",
      "Final portfolio value: 741963.25\n",
      "Final accumulative portfolio return: 7.4196325\n",
      "Maximum DrawDown: -0.3851589085691104\n",
      "Sharpe ratio: 1.1893207357408206\n",
      "=================================\n"
     ]
    },
    {
     "name": "stderr",
     "output_type": "stream",
     "text": [
      " 92%|█████████▏| 23/25 [12:59<01:07, 33.64s/it]"
     ]
    },
    {
     "name": "stdout",
     "output_type": "stream",
     "text": [
      "=================================\n",
      "Initial portfolio value: 100000\n",
      "Final portfolio value: 838562.3125\n",
      "Final accumulative portfolio return: 8.385623125\n",
      "Maximum DrawDown: -0.38515865258309534\n",
      "Sharpe ratio: 1.2626453786581977\n",
      "=================================\n"
     ]
    },
    {
     "name": "stderr",
     "output_type": "stream",
     "text": [
      " 96%|█████████▌| 24/25 [13:33<00:33, 33.68s/it]"
     ]
    },
    {
     "name": "stdout",
     "output_type": "stream",
     "text": [
      "=================================\n",
      "Initial portfolio value: 100000\n",
      "Final portfolio value: 596502.3125\n",
      "Final accumulative portfolio return: 5.965023125\n",
      "Maximum DrawDown: -0.38515831428711655\n",
      "Sharpe ratio: 1.0671448743263154\n",
      "=================================\n"
     ]
    },
    {
     "name": "stderr",
     "output_type": "stream",
     "text": [
      "100%|██████████| 25/25 [14:07<00:00, 33.89s/it]\n",
      "C:\\Users\\xutia\\AppData\\Local\\Temp\\ipykernel_36848\\1259870935.py:43: FutureWarning: You are using `torch.load` with `weights_only=False` (the current default value), which uses the default pickle module implicitly. It is possible to construct malicious pickle data which will execute arbitrary code during unpickling (See https://github.com/pytorch/pytorch/blob/main/SECURITY.md#untrusted-models for more details). In a future release, the default value for `weights_only` will be flipped to `True`. This limits the functions that could be executed during unpickling. Arbitrary objects will no longer be allowed to be loaded via this mode unless they are explicitly allowlisted by the user via `torch.serialization.add_safe_globals`. We recommend you start setting `weights_only=True` for any use case where you don't have full control of the loaded file. Please open an issue on GitHub for any issues related to this experimental feature.\n",
      "  EIIE_policy.load_state_dict(torch.load(model_filename))\n"
     ]
    },
    {
     "name": "stdout",
     "output_type": "stream",
     "text": [
      "=================================\n",
      "Initial portfolio value: 100000\n",
      "Final portfolio value: 615072.75\n",
      "Final accumulative portfolio return: 6.1507275\n",
      "Maximum DrawDown: -0.2803929367588316\n",
      "Sharpe ratio: 1.1544731243656503\n",
      "=================================\n",
      "=================================\n",
      "Initial portfolio value: 100000\n",
      "Final portfolio value: 122571.21875\n",
      "Final accumulative portfolio return: 1.2257121875\n",
      "Maximum DrawDown: -0.3241597746171513\n",
      "Sharpe ratio: 0.5412137970983891\n",
      "=================================\n",
      "Training model with TIME_WINDOW=60, K_SIZE=5, CONV_MID=5, CONV_FINAL=5, LEARNING_RATE=0.02\n"
     ]
    },
    {
     "name": "stderr",
     "output_type": "stream",
     "text": [
      "  0%|          | 0/25 [00:00<?, ?it/s]"
     ]
    },
    {
     "name": "stdout",
     "output_type": "stream",
     "text": [
      "=================================\n",
      "Initial portfolio value: 100000\n",
      "Final portfolio value: 295642.78125\n",
      "Final accumulative portfolio return: 2.9564278125\n",
      "Maximum DrawDown: -0.3124311036860793\n",
      "Sharpe ratio: 0.9021443206068225\n",
      "=================================\n"
     ]
    },
    {
     "name": "stderr",
     "output_type": "stream",
     "text": [
      "  4%|▍         | 1/25 [00:33<13:28, 33.69s/it]"
     ]
    },
    {
     "name": "stdout",
     "output_type": "stream",
     "text": [
      "=================================\n",
      "Initial portfolio value: 100000\n",
      "Final portfolio value: 589613.5\n",
      "Final accumulative portfolio return: 5.896135\n",
      "Maximum DrawDown: -0.2831962397179788\n",
      "Sharpe ratio: 1.2202465679107937\n",
      "=================================\n"
     ]
    },
    {
     "name": "stderr",
     "output_type": "stream",
     "text": [
      "  8%|▊         | 2/25 [01:07<12:52, 33.60s/it]"
     ]
    },
    {
     "name": "stdout",
     "output_type": "stream",
     "text": [
      "=================================\n",
      "Initial portfolio value: 100000\n",
      "Final portfolio value: 689995.0625\n",
      "Final accumulative portfolio return: 6.899950625\n",
      "Maximum DrawDown: -0.2802629508145815\n",
      "Sharpe ratio: 1.2739315921571297\n",
      "=================================\n"
     ]
    },
    {
     "name": "stderr",
     "output_type": "stream",
     "text": [
      " 12%|█▏        | 3/25 [01:41<12:27, 33.98s/it]"
     ]
    },
    {
     "name": "stdout",
     "output_type": "stream",
     "text": [
      "=================================\n",
      "Initial portfolio value: 100000\n",
      "Final portfolio value: 331834.875\n",
      "Final accumulative portfolio return: 3.31834875\n",
      "Maximum DrawDown: -0.42767093317665184\n",
      "Sharpe ratio: 0.7986377406924507\n",
      "=================================\n"
     ]
    },
    {
     "name": "stderr",
     "output_type": "stream",
     "text": [
      " 16%|█▌        | 4/25 [02:15<11:52, 33.92s/it]"
     ]
    },
    {
     "name": "stdout",
     "output_type": "stream",
     "text": [
      "=================================\n",
      "Initial portfolio value: 100000\n",
      "Final portfolio value: 521739.1875\n",
      "Final accumulative portfolio return: 5.217391875\n",
      "Maximum DrawDown: -0.38186785445466964\n",
      "Sharpe ratio: 1.0594417359969033\n",
      "=================================\n"
     ]
    },
    {
     "name": "stderr",
     "output_type": "stream",
     "text": [
      " 20%|██        | 5/25 [02:49<11:19, 33.96s/it]"
     ]
    },
    {
     "name": "stdout",
     "output_type": "stream",
     "text": [
      "=================================\n",
      "Initial portfolio value: 100000\n",
      "Final portfolio value: 740600.6875\n",
      "Final accumulative portfolio return: 7.406006875\n",
      "Maximum DrawDown: -0.311277950843873\n",
      "Sharpe ratio: 1.273338982855796\n",
      "=================================\n"
     ]
    },
    {
     "name": "stderr",
     "output_type": "stream",
     "text": [
      " 24%|██▍       | 6/25 [03:23<10:44, 33.91s/it]"
     ]
    },
    {
     "name": "stdout",
     "output_type": "stream",
     "text": [
      "=================================\n",
      "Initial portfolio value: 100000\n",
      "Final portfolio value: 924695.3125\n",
      "Final accumulative portfolio return: 9.246953125\n",
      "Maximum DrawDown: -0.28235797779294913\n",
      "Sharpe ratio: 1.372788950624533\n",
      "=================================\n"
     ]
    },
    {
     "name": "stderr",
     "output_type": "stream",
     "text": [
      " 28%|██▊       | 7/25 [03:57<10:10, 33.92s/it]"
     ]
    },
    {
     "name": "stdout",
     "output_type": "stream",
     "text": [
      "=================================\n",
      "Initial portfolio value: 100000\n",
      "Final portfolio value: 1021264.125\n",
      "Final accumulative portfolio return: 10.21264125\n",
      "Maximum DrawDown: -0.2846348752552913\n",
      "Sharpe ratio: 1.4096056133842068\n",
      "=================================\n"
     ]
    },
    {
     "name": "stderr",
     "output_type": "stream",
     "text": [
      " 32%|███▏      | 8/25 [04:31<09:38, 34.01s/it]"
     ]
    },
    {
     "name": "stdout",
     "output_type": "stream",
     "text": [
      "=================================\n",
      "Initial portfolio value: 100000\n",
      "Final portfolio value: 1187605.5\n",
      "Final accumulative portfolio return: 11.876055\n",
      "Maximum DrawDown: -0.28394944151283885\n",
      "Sharpe ratio: 1.454922214681923\n",
      "=================================\n"
     ]
    },
    {
     "name": "stderr",
     "output_type": "stream",
     "text": [
      " 36%|███▌      | 9/25 [05:05<09:02, 33.89s/it]"
     ]
    },
    {
     "name": "stdout",
     "output_type": "stream",
     "text": [
      "=================================\n",
      "Initial portfolio value: 100000\n",
      "Final portfolio value: 1329986.25\n",
      "Final accumulative portfolio return: 13.2998625\n",
      "Maximum DrawDown: -0.2839409466826234\n",
      "Sharpe ratio: 1.4991885926194144\n",
      "=================================\n"
     ]
    },
    {
     "name": "stderr",
     "output_type": "stream",
     "text": [
      " 40%|████      | 10/25 [05:38<08:27, 33.81s/it]"
     ]
    },
    {
     "name": "stdout",
     "output_type": "stream",
     "text": [
      "=================================\n",
      "Initial portfolio value: 100000\n",
      "Final portfolio value: 1439930.25\n",
      "Final accumulative portfolio return: 14.3993025\n",
      "Maximum DrawDown: -0.283909011545887\n",
      "Sharpe ratio: 1.534911197235254\n",
      "=================================\n"
     ]
    },
    {
     "name": "stderr",
     "output_type": "stream",
     "text": [
      " 44%|████▍     | 11/25 [06:13<07:56, 34.01s/it]"
     ]
    },
    {
     "name": "stdout",
     "output_type": "stream",
     "text": [
      "=================================\n",
      "Initial portfolio value: 100000\n",
      "Final portfolio value: 1267494.125\n",
      "Final accumulative portfolio return: 12.67494125\n",
      "Maximum DrawDown: -0.2834170383032856\n",
      "Sharpe ratio: 1.4342410275311488\n",
      "=================================\n"
     ]
    },
    {
     "name": "stderr",
     "output_type": "stream",
     "text": [
      " 48%|████▊     | 12/25 [06:46<07:20, 33.89s/it]"
     ]
    },
    {
     "name": "stdout",
     "output_type": "stream",
     "text": [
      "=================================\n",
      "Initial portfolio value: 100000\n",
      "Final portfolio value: 1115710.125\n",
      "Final accumulative portfolio return: 11.15710125\n",
      "Maximum DrawDown: -0.3052310078485302\n",
      "Sharpe ratio: 1.4427207200939796\n",
      "=================================\n"
     ]
    },
    {
     "name": "stderr",
     "output_type": "stream",
     "text": [
      " 52%|█████▏    | 13/25 [07:21<06:48, 34.06s/it]"
     ]
    },
    {
     "name": "stdout",
     "output_type": "stream",
     "text": [
      "=================================\n",
      "Initial portfolio value: 100000\n",
      "Final portfolio value: 1012861.0625\n",
      "Final accumulative portfolio return: 10.128610625\n",
      "Maximum DrawDown: -0.3537601823366482\n",
      "Sharpe ratio: 1.2864255765469563\n",
      "=================================\n"
     ]
    },
    {
     "name": "stderr",
     "output_type": "stream",
     "text": [
      " 56%|█████▌    | 14/25 [07:54<06:13, 33.95s/it]"
     ]
    },
    {
     "name": "stdout",
     "output_type": "stream",
     "text": [
      "=================================\n",
      "Initial portfolio value: 100000\n",
      "Final portfolio value: 1304630.375\n",
      "Final accumulative portfolio return: 13.04630375\n",
      "Maximum DrawDown: -0.30460402553123667\n",
      "Sharpe ratio: 1.4744316835882674\n",
      "=================================\n"
     ]
    },
    {
     "name": "stderr",
     "output_type": "stream",
     "text": [
      " 60%|██████    | 15/25 [08:28<05:38, 33.87s/it]"
     ]
    },
    {
     "name": "stdout",
     "output_type": "stream",
     "text": [
      "=================================\n",
      "Initial portfolio value: 100000\n",
      "Final portfolio value: 1209245.375\n",
      "Final accumulative portfolio return: 12.09245375\n",
      "Maximum DrawDown: -0.29636253501035703\n",
      "Sharpe ratio: 1.4265122751586048\n",
      "=================================\n"
     ]
    },
    {
     "name": "stderr",
     "output_type": "stream",
     "text": [
      " 64%|██████▍   | 16/25 [09:02<05:04, 33.85s/it]"
     ]
    },
    {
     "name": "stdout",
     "output_type": "stream",
     "text": [
      "=================================\n",
      "Initial portfolio value: 100000\n",
      "Final portfolio value: 902054.1875\n",
      "Final accumulative portfolio return: 9.020541875\n",
      "Maximum DrawDown: -0.36194919330149766\n",
      "Sharpe ratio: 1.263238893852288\n",
      "=================================\n"
     ]
    },
    {
     "name": "stderr",
     "output_type": "stream",
     "text": [
      " 68%|██████▊   | 17/25 [09:36<04:30, 33.85s/it]"
     ]
    },
    {
     "name": "stdout",
     "output_type": "stream",
     "text": [
      "=================================\n",
      "Initial portfolio value: 100000\n",
      "Final portfolio value: 1133481.5\n",
      "Final accumulative portfolio return: 11.334815\n",
      "Maximum DrawDown: -0.3061924692856358\n",
      "Sharpe ratio: 1.3726690675745632\n",
      "=================================\n"
     ]
    },
    {
     "name": "stderr",
     "output_type": "stream",
     "text": [
      " 72%|███████▏  | 18/25 [10:09<03:56, 33.72s/it]"
     ]
    },
    {
     "name": "stdout",
     "output_type": "stream",
     "text": [
      "=================================\n",
      "Initial portfolio value: 100000\n",
      "Final portfolio value: 854512.9375\n",
      "Final accumulative portfolio return: 8.545129375\n",
      "Maximum DrawDown: -0.36558668817892526\n",
      "Sharpe ratio: 1.21519544407609\n",
      "=================================\n"
     ]
    },
    {
     "name": "stderr",
     "output_type": "stream",
     "text": [
      " 76%|███████▌  | 19/25 [10:43<03:22, 33.69s/it]"
     ]
    },
    {
     "name": "stdout",
     "output_type": "stream",
     "text": [
      "=================================\n",
      "Initial portfolio value: 100000\n",
      "Final portfolio value: 1080156.75\n",
      "Final accumulative portfolio return: 10.8015675\n",
      "Maximum DrawDown: -0.3782417406548293\n",
      "Sharpe ratio: 1.3560830377791955\n",
      "=================================\n"
     ]
    },
    {
     "name": "stderr",
     "output_type": "stream",
     "text": [
      " 80%|████████  | 20/25 [11:17<02:49, 33.81s/it]"
     ]
    },
    {
     "name": "stdout",
     "output_type": "stream",
     "text": [
      "=================================\n",
      "Initial portfolio value: 100000\n",
      "Final portfolio value: 1062456.25\n",
      "Final accumulative portfolio return: 10.6245625\n",
      "Maximum DrawDown: -0.3318164480378474\n",
      "Sharpe ratio: 1.3232743167872156\n",
      "=================================\n"
     ]
    },
    {
     "name": "stderr",
     "output_type": "stream",
     "text": [
      " 84%|████████▍ | 21/25 [11:51<02:15, 33.76s/it]"
     ]
    },
    {
     "name": "stdout",
     "output_type": "stream",
     "text": [
      "=================================\n",
      "Initial portfolio value: 100000\n",
      "Final portfolio value: 759665.625\n",
      "Final accumulative portfolio return: 7.59665625\n",
      "Maximum DrawDown: -0.3257406913381803\n",
      "Sharpe ratio: 1.2103072345301724\n",
      "=================================\n"
     ]
    },
    {
     "name": "stderr",
     "output_type": "stream",
     "text": [
      " 88%|████████▊ | 22/25 [12:24<01:41, 33.69s/it]"
     ]
    },
    {
     "name": "stdout",
     "output_type": "stream",
     "text": [
      "=================================\n",
      "Initial portfolio value: 100000\n",
      "Final portfolio value: 747136.0625\n",
      "Final accumulative portfolio return: 7.471360625\n",
      "Maximum DrawDown: -0.30938400595572135\n",
      "Sharpe ratio: 1.1871411101148233\n",
      "=================================\n"
     ]
    },
    {
     "name": "stderr",
     "output_type": "stream",
     "text": [
      " 92%|█████████▏| 23/25 [12:58<01:07, 33.83s/it]"
     ]
    },
    {
     "name": "stdout",
     "output_type": "stream",
     "text": [
      "=================================\n",
      "Initial portfolio value: 100000\n",
      "Final portfolio value: 867644.4375\n",
      "Final accumulative portfolio return: 8.676444375\n",
      "Maximum DrawDown: -0.2798593582406138\n",
      "Sharpe ratio: 1.2581549782564725\n",
      "=================================\n"
     ]
    },
    {
     "name": "stderr",
     "output_type": "stream",
     "text": [
      " 96%|█████████▌| 24/25 [13:32<00:33, 33.78s/it]"
     ]
    },
    {
     "name": "stdout",
     "output_type": "stream",
     "text": [
      "=================================\n",
      "Initial portfolio value: 100000\n",
      "Final portfolio value: 1031292.875\n",
      "Final accumulative portfolio return: 10.31292875\n",
      "Maximum DrawDown: -0.28412604598784574\n",
      "Sharpe ratio: 1.3392823848941335\n",
      "=================================\n"
     ]
    },
    {
     "name": "stderr",
     "output_type": "stream",
     "text": [
      "100%|██████████| 25/25 [14:05<00:00, 33.83s/it]\n",
      "C:\\Users\\xutia\\AppData\\Local\\Temp\\ipykernel_36848\\1259870935.py:43: FutureWarning: You are using `torch.load` with `weights_only=False` (the current default value), which uses the default pickle module implicitly. It is possible to construct malicious pickle data which will execute arbitrary code during unpickling (See https://github.com/pytorch/pytorch/blob/main/SECURITY.md#untrusted-models for more details). In a future release, the default value for `weights_only` will be flipped to `True`. This limits the functions that could be executed during unpickling. Arbitrary objects will no longer be allowed to be loaded via this mode unless they are explicitly allowlisted by the user via `torch.serialization.add_safe_globals`. We recommend you start setting `weights_only=True` for any use case where you don't have full control of the loaded file. Please open an issue on GitHub for any issues related to this experimental feature.\n",
      "  EIIE_policy.load_state_dict(torch.load(model_filename))\n"
     ]
    },
    {
     "name": "stdout",
     "output_type": "stream",
     "text": [
      "=================================\n",
      "Initial portfolio value: 100000\n",
      "Final portfolio value: 667090.3125\n",
      "Final accumulative portfolio return: 6.670903125\n",
      "Maximum DrawDown: -0.3851588048491553\n",
      "Sharpe ratio: 1.1137574442341265\n",
      "=================================\n",
      "=================================\n",
      "Initial portfolio value: 100000\n",
      "Final portfolio value: 195187.671875\n",
      "Final accumulative portfolio return: 1.95187671875\n",
      "Maximum DrawDown: -0.24561787113253764\n",
      "Sharpe ratio: 1.4077776467290948\n",
      "=================================\n",
      "Training model with TIME_WINDOW=60, K_SIZE=5, CONV_MID=5, CONV_FINAL=10, LEARNING_RATE=0.02\n"
     ]
    },
    {
     "name": "stderr",
     "output_type": "stream",
     "text": [
      "  0%|          | 0/25 [00:00<?, ?it/s]"
     ]
    },
    {
     "name": "stdout",
     "output_type": "stream",
     "text": [
      "=================================\n",
      "Initial portfolio value: 100000\n",
      "Final portfolio value: 258600.265625\n",
      "Final accumulative portfolio return: 2.58600265625\n",
      "Maximum DrawDown: -0.30657068930271814\n",
      "Sharpe ratio: 0.8591905305136376\n",
      "=================================\n"
     ]
    },
    {
     "name": "stderr",
     "output_type": "stream",
     "text": [
      "  4%|▍         | 1/25 [00:33<13:30, 33.77s/it]"
     ]
    },
    {
     "name": "stdout",
     "output_type": "stream",
     "text": [
      "=================================\n",
      "Initial portfolio value: 100000\n",
      "Final portfolio value: 361259.40625\n",
      "Final accumulative portfolio return: 3.6125940625\n",
      "Maximum DrawDown: -0.27781124177534766\n",
      "Sharpe ratio: 1.062262664121204\n",
      "=================================\n"
     ]
    },
    {
     "name": "stderr",
     "output_type": "stream",
     "text": [
      "  8%|▊         | 2/25 [01:07<13:01, 33.96s/it]"
     ]
    },
    {
     "name": "stdout",
     "output_type": "stream",
     "text": [
      "=================================\n",
      "Initial portfolio value: 100000\n",
      "Final portfolio value: 582015.5625\n",
      "Final accumulative portfolio return: 5.820155625\n",
      "Maximum DrawDown: -0.27949111015268346\n",
      "Sharpe ratio: 1.3010419819069694\n",
      "=================================\n"
     ]
    },
    {
     "name": "stderr",
     "output_type": "stream",
     "text": [
      " 12%|█▏        | 3/25 [01:41<12:20, 33.65s/it]"
     ]
    },
    {
     "name": "stdout",
     "output_type": "stream",
     "text": [
      "=================================\n",
      "Initial portfolio value: 100000\n",
      "Final portfolio value: 812529.0625\n",
      "Final accumulative portfolio return: 8.125290625\n",
      "Maximum DrawDown: -0.280324849373337\n",
      "Sharpe ratio: 1.3934459299489412\n",
      "=================================\n"
     ]
    },
    {
     "name": "stderr",
     "output_type": "stream",
     "text": [
      " 16%|█▌        | 4/25 [02:14<11:46, 33.66s/it]"
     ]
    },
    {
     "name": "stdout",
     "output_type": "stream",
     "text": [
      "=================================\n",
      "Initial portfolio value: 100000\n",
      "Final portfolio value: 335794.15625\n",
      "Final accumulative portfolio return: 3.3579415625\n",
      "Maximum DrawDown: -0.4310296720390824\n",
      "Sharpe ratio: 0.8126606640328656\n",
      "=================================\n"
     ]
    },
    {
     "name": "stderr",
     "output_type": "stream",
     "text": [
      " 20%|██        | 5/25 [02:48<11:12, 33.65s/it]"
     ]
    },
    {
     "name": "stdout",
     "output_type": "stream",
     "text": [
      "=================================\n",
      "Initial portfolio value: 100000\n",
      "Final portfolio value: 971955.3125\n",
      "Final accumulative portfolio return: 9.719553125\n",
      "Maximum DrawDown: -0.32477620405443497\n",
      "Sharpe ratio: 1.4816179004266536\n",
      "=================================\n"
     ]
    },
    {
     "name": "stderr",
     "output_type": "stream",
     "text": [
      " 24%|██▍       | 6/25 [03:22<10:39, 33.68s/it]"
     ]
    },
    {
     "name": "stdout",
     "output_type": "stream",
     "text": [
      "=================================\n",
      "Initial portfolio value: 100000\n",
      "Final portfolio value: 966803.375\n",
      "Final accumulative portfolio return: 9.66803375\n",
      "Maximum DrawDown: -0.30768068254636805\n",
      "Sharpe ratio: 1.4485010904336943\n",
      "=================================\n"
     ]
    },
    {
     "name": "stderr",
     "output_type": "stream",
     "text": [
      " 28%|██▊       | 7/25 [03:55<10:04, 33.60s/it]"
     ]
    },
    {
     "name": "stdout",
     "output_type": "stream",
     "text": [
      "=================================\n",
      "Initial portfolio value: 100000\n",
      "Final portfolio value: 970878.3125\n",
      "Final accumulative portfolio return: 9.708783125\n",
      "Maximum DrawDown: -0.2777852179316479\n",
      "Sharpe ratio: 1.4564673485209612\n",
      "=================================\n"
     ]
    },
    {
     "name": "stderr",
     "output_type": "stream",
     "text": [
      " 32%|███▏      | 8/25 [04:29<09:31, 33.61s/it]"
     ]
    },
    {
     "name": "stdout",
     "output_type": "stream",
     "text": [
      "=================================\n",
      "Initial portfolio value: 100000\n",
      "Final portfolio value: 672535.3125\n",
      "Final accumulative portfolio return: 6.725353125\n",
      "Maximum DrawDown: -0.2803313334963352\n",
      "Sharpe ratio: 1.3060762899536413\n",
      "=================================\n"
     ]
    },
    {
     "name": "stderr",
     "output_type": "stream",
     "text": [
      " 36%|███▌      | 9/25 [05:03<08:58, 33.66s/it]"
     ]
    },
    {
     "name": "stdout",
     "output_type": "stream",
     "text": [
      "=================================\n",
      "Initial portfolio value: 100000\n",
      "Final portfolio value: 846494.9375\n",
      "Final accumulative portfolio return: 8.464949375\n",
      "Maximum DrawDown: -0.28083314476111754\n",
      "Sharpe ratio: 1.3871618890270405\n",
      "=================================\n"
     ]
    },
    {
     "name": "stderr",
     "output_type": "stream",
     "text": [
      " 40%|████      | 10/25 [05:37<08:26, 33.77s/it]"
     ]
    },
    {
     "name": "stdout",
     "output_type": "stream",
     "text": [
      "=================================\n",
      "Initial portfolio value: 100000\n",
      "Final portfolio value: 1091469.25\n",
      "Final accumulative portfolio return: 10.9146925\n",
      "Maximum DrawDown: -0.28039274951460935\n",
      "Sharpe ratio: 1.4898444262890504\n",
      "=================================\n"
     ]
    },
    {
     "name": "stderr",
     "output_type": "stream",
     "text": [
      " 44%|████▍     | 11/25 [06:10<07:53, 33.83s/it]"
     ]
    },
    {
     "name": "stdout",
     "output_type": "stream",
     "text": [
      "=================================\n",
      "Initial portfolio value: 100000\n",
      "Final portfolio value: 1176849.25\n",
      "Final accumulative portfolio return: 11.7684925\n",
      "Maximum DrawDown: -0.28039271275109523\n",
      "Sharpe ratio: 1.5290099135265103\n",
      "=================================\n"
     ]
    },
    {
     "name": "stderr",
     "output_type": "stream",
     "text": [
      " 48%|████▊     | 12/25 [06:44<07:18, 33.77s/it]"
     ]
    },
    {
     "name": "stdout",
     "output_type": "stream",
     "text": [
      "=================================\n",
      "Initial portfolio value: 100000\n",
      "Final portfolio value: 1181267.625\n",
      "Final accumulative portfolio return: 11.81267625\n",
      "Maximum DrawDown: -0.2803319814224531\n",
      "Sharpe ratio: 1.5328561722226184\n",
      "=================================\n"
     ]
    },
    {
     "name": "stderr",
     "output_type": "stream",
     "text": [
      " 52%|█████▏    | 13/25 [07:18<06:44, 33.74s/it]"
     ]
    },
    {
     "name": "stdout",
     "output_type": "stream",
     "text": [
      "=================================\n",
      "Initial portfolio value: 100000\n",
      "Final portfolio value: 1063301.25\n",
      "Final accumulative portfolio return: 10.6330125\n",
      "Maximum DrawDown: -0.37452712383955034\n",
      "Sharpe ratio: 1.453782691521496\n",
      "=================================\n"
     ]
    },
    {
     "name": "stderr",
     "output_type": "stream",
     "text": [
      " 56%|█████▌    | 14/25 [07:52<06:11, 33.75s/it]"
     ]
    },
    {
     "name": "stdout",
     "output_type": "stream",
     "text": [
      "=================================\n",
      "Initial portfolio value: 100000\n",
      "Final portfolio value: 1105533.0\n",
      "Final accumulative portfolio return: 11.05533\n",
      "Maximum DrawDown: -0.31378574725733055\n",
      "Sharpe ratio: 1.4905132714413707\n",
      "=================================\n"
     ]
    },
    {
     "name": "stderr",
     "output_type": "stream",
     "text": [
      " 60%|██████    | 15/25 [08:25<05:36, 33.67s/it]"
     ]
    },
    {
     "name": "stdout",
     "output_type": "stream",
     "text": [
      "=================================\n",
      "Initial portfolio value: 100000\n",
      "Final portfolio value: 1213684.75\n",
      "Final accumulative portfolio return: 12.1368475\n",
      "Maximum DrawDown: -0.31354462537066263\n",
      "Sharpe ratio: 1.5670739811656358\n",
      "=================================\n"
     ]
    },
    {
     "name": "stderr",
     "output_type": "stream",
     "text": [
      " 64%|██████▍   | 16/25 [08:59<05:02, 33.62s/it]"
     ]
    },
    {
     "name": "stdout",
     "output_type": "stream",
     "text": [
      "=================================\n",
      "Initial portfolio value: 100000\n",
      "Final portfolio value: 1246449.5\n",
      "Final accumulative portfolio return: 12.464495\n",
      "Maximum DrawDown: -0.2689116632175905\n",
      "Sharpe ratio: 1.5498393618531041\n",
      "=================================\n"
     ]
    },
    {
     "name": "stderr",
     "output_type": "stream",
     "text": [
      " 68%|██████▊   | 17/25 [09:33<04:30, 33.77s/it]"
     ]
    },
    {
     "name": "stdout",
     "output_type": "stream",
     "text": [
      "=================================\n",
      "Initial portfolio value: 100000\n",
      "Final portfolio value: 1216418.125\n",
      "Final accumulative portfolio return: 12.16418125\n",
      "Maximum DrawDown: -0.2803897550748605\n",
      "Sharpe ratio: 1.5585328504155396\n",
      "=================================\n"
     ]
    },
    {
     "name": "stderr",
     "output_type": "stream",
     "text": [
      " 72%|███████▏  | 18/25 [10:07<03:56, 33.80s/it]"
     ]
    },
    {
     "name": "stdout",
     "output_type": "stream",
     "text": [
      "=================================\n",
      "Initial portfolio value: 100000\n",
      "Final portfolio value: 1362756.375\n",
      "Final accumulative portfolio return: 13.62756375\n",
      "Maximum DrawDown: -0.2803933355437688\n",
      "Sharpe ratio: 1.6230383463695548\n",
      "=================================\n"
     ]
    },
    {
     "name": "stderr",
     "output_type": "stream",
     "text": [
      " 76%|███████▌  | 19/25 [10:40<03:22, 33.78s/it]"
     ]
    },
    {
     "name": "stdout",
     "output_type": "stream",
     "text": [
      "=================================\n",
      "Initial portfolio value: 100000\n",
      "Final portfolio value: 1091569.5\n",
      "Final accumulative portfolio return: 10.915695\n",
      "Maximum DrawDown: -0.3034775094515647\n",
      "Sharpe ratio: 1.4864118842203287\n",
      "=================================\n"
     ]
    },
    {
     "name": "stderr",
     "output_type": "stream",
     "text": [
      " 80%|████████  | 20/25 [11:14<02:48, 33.78s/it]"
     ]
    },
    {
     "name": "stdout",
     "output_type": "stream",
     "text": [
      "=================================\n",
      "Initial portfolio value: 100000\n",
      "Final portfolio value: 1542534.625\n",
      "Final accumulative portfolio return: 15.42534625\n",
      "Maximum DrawDown: -0.2803858221032649\n",
      "Sharpe ratio: 1.6767722160475542\n",
      "=================================\n"
     ]
    },
    {
     "name": "stderr",
     "output_type": "stream",
     "text": [
      " 84%|████████▍ | 21/25 [11:48<02:14, 33.74s/it]"
     ]
    },
    {
     "name": "stdout",
     "output_type": "stream",
     "text": [
      "=================================\n",
      "Initial portfolio value: 100000\n",
      "Final portfolio value: 1509266.75\n",
      "Final accumulative portfolio return: 15.0926675\n",
      "Maximum DrawDown: -0.27722796219395696\n",
      "Sharpe ratio: 1.6910774335501433\n",
      "=================================\n"
     ]
    },
    {
     "name": "stderr",
     "output_type": "stream",
     "text": [
      " 88%|████████▊ | 22/25 [12:22<01:41, 33.77s/it]"
     ]
    },
    {
     "name": "stdout",
     "output_type": "stream",
     "text": [
      "=================================\n",
      "Initial portfolio value: 100000\n",
      "Final portfolio value: 1602320.375\n",
      "Final accumulative portfolio return: 16.02320375\n",
      "Maximum DrawDown: -0.2821980660023916\n",
      "Sharpe ratio: 1.7072372243819538\n",
      "=================================\n"
     ]
    },
    {
     "name": "stderr",
     "output_type": "stream",
     "text": [
      " 92%|█████████▏| 23/25 [12:56<01:07, 33.83s/it]"
     ]
    },
    {
     "name": "stdout",
     "output_type": "stream",
     "text": [
      "=================================\n",
      "Initial portfolio value: 100000\n",
      "Final portfolio value: 1699294.75\n",
      "Final accumulative portfolio return: 16.9929475\n",
      "Maximum DrawDown: -0.28039098870742196\n",
      "Sharpe ratio: 1.7099093784928923\n",
      "=================================\n"
     ]
    },
    {
     "name": "stderr",
     "output_type": "stream",
     "text": [
      " 96%|█████████▌| 24/25 [13:30<00:33, 33.96s/it]"
     ]
    },
    {
     "name": "stdout",
     "output_type": "stream",
     "text": [
      "=================================\n",
      "Initial portfolio value: 100000\n",
      "Final portfolio value: 1351060.125\n",
      "Final accumulative portfolio return: 13.51060125\n",
      "Maximum DrawDown: -0.28039299453512\n",
      "Sharpe ratio: 1.5926422103767048\n",
      "=================================\n"
     ]
    },
    {
     "name": "stderr",
     "output_type": "stream",
     "text": [
      "100%|██████████| 25/25 [14:03<00:00, 33.75s/it]\n",
      "C:\\Users\\xutia\\AppData\\Local\\Temp\\ipykernel_36848\\1259870935.py:43: FutureWarning: You are using `torch.load` with `weights_only=False` (the current default value), which uses the default pickle module implicitly. It is possible to construct malicious pickle data which will execute arbitrary code during unpickling (See https://github.com/pytorch/pytorch/blob/main/SECURITY.md#untrusted-models for more details). In a future release, the default value for `weights_only` will be flipped to `True`. This limits the functions that could be executed during unpickling. Arbitrary objects will no longer be allowed to be loaded via this mode unless they are explicitly allowlisted by the user via `torch.serialization.add_safe_globals`. We recommend you start setting `weights_only=True` for any use case where you don't have full control of the loaded file. Please open an issue on GitHub for any issues related to this experimental feature.\n",
      "  EIIE_policy.load_state_dict(torch.load(model_filename))\n"
     ]
    },
    {
     "name": "stdout",
     "output_type": "stream",
     "text": [
      "=================================\n",
      "Initial portfolio value: 100000\n",
      "Final portfolio value: 787789.0\n",
      "Final accumulative portfolio return: 7.87789\n",
      "Maximum DrawDown: -0.33343504869618856\n",
      "Sharpe ratio: 1.3647337724640631\n",
      "=================================\n",
      "=================================\n",
      "Initial portfolio value: 100000\n",
      "Final portfolio value: 95157.703125\n",
      "Final accumulative portfolio return: 0.95157703125\n",
      "Maximum DrawDown: -0.3099152565220644\n",
      "Sharpe ratio: 0.044623787608259635\n",
      "=================================\n",
      "Training model with TIME_WINDOW=60, K_SIZE=5, CONV_MID=5, CONV_FINAL=20, LEARNING_RATE=0.02\n"
     ]
    },
    {
     "name": "stderr",
     "output_type": "stream",
     "text": [
      "  0%|          | 0/25 [00:00<?, ?it/s]"
     ]
    },
    {
     "name": "stdout",
     "output_type": "stream",
     "text": [
      "=================================\n",
      "Initial portfolio value: 100000\n",
      "Final portfolio value: 395504.34375\n",
      "Final accumulative portfolio return: 3.9550434375\n",
      "Maximum DrawDown: -0.334416837521222\n",
      "Sharpe ratio: 0.9696655582088775\n",
      "=================================\n"
     ]
    },
    {
     "name": "stderr",
     "output_type": "stream",
     "text": [
      "  4%|▍         | 1/25 [00:33<13:30, 33.78s/it]"
     ]
    },
    {
     "name": "stdout",
     "output_type": "stream",
     "text": [
      "=================================\n",
      "Initial portfolio value: 100000\n",
      "Final portfolio value: 721921.625\n",
      "Final accumulative portfolio return: 7.21921625\n",
      "Maximum DrawDown: -0.38515756821776115\n",
      "Sharpe ratio: 1.1827083984954812\n",
      "=================================\n"
     ]
    },
    {
     "name": "stderr",
     "output_type": "stream",
     "text": [
      "  8%|▊         | 2/25 [01:07<12:58, 33.83s/it]"
     ]
    },
    {
     "name": "stdout",
     "output_type": "stream",
     "text": [
      "=================================\n",
      "Initial portfolio value: 100000\n",
      "Final portfolio value: 881342.875\n",
      "Final accumulative portfolio return: 8.81342875\n",
      "Maximum DrawDown: -0.3851590542475002\n",
      "Sharpe ratio: 1.2648431033359435\n",
      "=================================\n"
     ]
    },
    {
     "name": "stderr",
     "output_type": "stream",
     "text": [
      " 12%|█▏        | 3/25 [01:41<12:25, 33.90s/it]"
     ]
    },
    {
     "name": "stdout",
     "output_type": "stream",
     "text": [
      "=================================\n",
      "Initial portfolio value: 100000\n",
      "Final portfolio value: 980888.9375\n",
      "Final accumulative portfolio return: 9.808889375\n",
      "Maximum DrawDown: -0.3851587430191731\n",
      "Sharpe ratio: 1.3306728406148287\n",
      "=================================\n"
     ]
    },
    {
     "name": "stderr",
     "output_type": "stream",
     "text": [
      " 16%|█▌        | 4/25 [02:16<11:57, 34.14s/it]"
     ]
    },
    {
     "name": "stdout",
     "output_type": "stream",
     "text": [
      "=================================\n",
      "Initial portfolio value: 100000\n",
      "Final portfolio value: 760109.75\n",
      "Final accumulative portfolio return: 7.6010975\n",
      "Maximum DrawDown: -0.3620862115265151\n",
      "Sharpe ratio: 1.1679909044523817\n",
      "=================================\n"
     ]
    },
    {
     "name": "stderr",
     "output_type": "stream",
     "text": [
      " 20%|██        | 5/25 [02:49<11:20, 34.04s/it]"
     ]
    },
    {
     "name": "stdout",
     "output_type": "stream",
     "text": [
      "=================================\n",
      "Initial portfolio value: 100000\n",
      "Final portfolio value: 713660.375\n",
      "Final accumulative portfolio return: 7.13660375\n",
      "Maximum DrawDown: -0.2803931112431307\n",
      "Sharpe ratio: 1.1807491110784398\n",
      "=================================\n"
     ]
    },
    {
     "name": "stderr",
     "output_type": "stream",
     "text": [
      " 24%|██▍       | 6/25 [03:23<10:44, 33.94s/it]"
     ]
    },
    {
     "name": "stdout",
     "output_type": "stream",
     "text": [
      "=================================\n",
      "Initial portfolio value: 100000\n",
      "Final portfolio value: 585685.1875\n",
      "Final accumulative portfolio return: 5.856851875\n",
      "Maximum DrawDown: -0.2803930226601472\n",
      "Sharpe ratio: 1.1147602023779946\n",
      "=================================\n"
     ]
    },
    {
     "name": "stderr",
     "output_type": "stream",
     "text": [
      " 28%|██▊       | 7/25 [03:57<10:12, 34.03s/it]"
     ]
    },
    {
     "name": "stdout",
     "output_type": "stream",
     "text": [
      "=================================\n",
      "Initial portfolio value: 100000\n",
      "Final portfolio value: 587678.125\n",
      "Final accumulative portfolio return: 5.87678125\n",
      "Maximum DrawDown: -0.28039306369525385\n",
      "Sharpe ratio: 1.1180816917125806\n",
      "=================================\n"
     ]
    },
    {
     "name": "stderr",
     "output_type": "stream",
     "text": [
      " 32%|███▏      | 8/25 [04:32<09:38, 34.05s/it]"
     ]
    },
    {
     "name": "stdout",
     "output_type": "stream",
     "text": [
      "=================================\n",
      "Initial portfolio value: 100000\n",
      "Final portfolio value: 587524.4375\n",
      "Final accumulative portfolio return: 5.875244375\n",
      "Maximum DrawDown: -0.28039294618388777\n",
      "Sharpe ratio: 1.112237620318031\n",
      "=================================\n"
     ]
    },
    {
     "name": "stderr",
     "output_type": "stream",
     "text": [
      " 36%|███▌      | 9/25 [05:05<09:03, 33.99s/it]"
     ]
    },
    {
     "name": "stdout",
     "output_type": "stream",
     "text": [
      "=================================\n",
      "Initial portfolio value: 100000\n",
      "Final portfolio value: 574094.1875\n",
      "Final accumulative portfolio return: 5.740941875\n",
      "Maximum DrawDown: -0.28039285970128114\n",
      "Sharpe ratio: 1.1033265885543266\n",
      "=================================\n"
     ]
    },
    {
     "name": "stderr",
     "output_type": "stream",
     "text": [
      " 40%|████      | 10/25 [05:39<08:29, 33.99s/it]"
     ]
    },
    {
     "name": "stdout",
     "output_type": "stream",
     "text": [
      "=================================\n",
      "Initial portfolio value: 100000\n",
      "Final portfolio value: 565268.3125\n",
      "Final accumulative portfolio return: 5.652683125\n",
      "Maximum DrawDown: -0.2803932654029765\n",
      "Sharpe ratio: 1.0962830161497654\n",
      "=================================\n"
     ]
    },
    {
     "name": "stderr",
     "output_type": "stream",
     "text": [
      " 44%|████▍     | 11/25 [06:14<07:56, 34.05s/it]"
     ]
    },
    {
     "name": "stdout",
     "output_type": "stream",
     "text": [
      "=================================\n",
      "Initial portfolio value: 100000\n",
      "Final portfolio value: 595684.1875\n",
      "Final accumulative portfolio return: 5.956841875\n",
      "Maximum DrawDown: -0.2803936987349094\n",
      "Sharpe ratio: 1.1171607922631224\n",
      "=================================\n"
     ]
    },
    {
     "name": "stderr",
     "output_type": "stream",
     "text": [
      " 48%|████▊     | 12/25 [06:48<07:22, 34.07s/it]"
     ]
    },
    {
     "name": "stdout",
     "output_type": "stream",
     "text": [
      "=================================\n",
      "Initial portfolio value: 100000\n",
      "Final portfolio value: 608115.4375\n",
      "Final accumulative portfolio return: 6.081154375\n",
      "Maximum DrawDown: -0.280397374554074\n",
      "Sharpe ratio: 1.1261317421600607\n",
      "=================================\n"
     ]
    },
    {
     "name": "stderr",
     "output_type": "stream",
     "text": [
      " 52%|█████▏    | 13/25 [07:21<06:47, 33.98s/it]"
     ]
    },
    {
     "name": "stdout",
     "output_type": "stream",
     "text": [
      "=================================\n",
      "Initial portfolio value: 100000\n",
      "Final portfolio value: 600732.5625\n",
      "Final accumulative portfolio return: 6.007325625\n",
      "Maximum DrawDown: -0.27952918404424587\n",
      "Sharpe ratio: 1.1180161031142872\n",
      "=================================\n"
     ]
    },
    {
     "name": "stderr",
     "output_type": "stream",
     "text": [
      " 56%|█████▌    | 14/25 [07:55<06:13, 33.92s/it]"
     ]
    },
    {
     "name": "stdout",
     "output_type": "stream",
     "text": [
      "=================================\n",
      "Initial portfolio value: 100000\n",
      "Final portfolio value: 304030.71875\n",
      "Final accumulative portfolio return: 3.0403071875\n",
      "Maximum DrawDown: -0.30799913786586497\n",
      "Sharpe ratio: 0.7603191023872213\n",
      "=================================\n"
     ]
    },
    {
     "name": "stderr",
     "output_type": "stream",
     "text": [
      " 60%|██████    | 15/25 [08:29<05:39, 33.99s/it]"
     ]
    },
    {
     "name": "stdout",
     "output_type": "stream",
     "text": [
      "=================================\n",
      "Initial portfolio value: 100000\n",
      "Final portfolio value: 490248.71875\n",
      "Final accumulative portfolio return: 4.9024871875\n",
      "Maximum DrawDown: -0.28039310353526636\n",
      "Sharpe ratio: 1.0143296448007884\n",
      "=================================\n"
     ]
    },
    {
     "name": "stderr",
     "output_type": "stream",
     "text": [
      " 64%|██████▍   | 16/25 [09:03<05:05, 33.92s/it]"
     ]
    },
    {
     "name": "stdout",
     "output_type": "stream",
     "text": [
      "=================================\n",
      "Initial portfolio value: 100000\n",
      "Final portfolio value: 583768.1875\n",
      "Final accumulative portfolio return: 5.837681875\n",
      "Maximum DrawDown: -0.28039291742662253\n",
      "Sharpe ratio: 1.1040537198400366\n",
      "=================================\n"
     ]
    },
    {
     "name": "stderr",
     "output_type": "stream",
     "text": [
      " 68%|██████▊   | 17/25 [09:37<04:31, 33.93s/it]"
     ]
    },
    {
     "name": "stdout",
     "output_type": "stream",
     "text": [
      "=================================\n",
      "Initial portfolio value: 100000\n",
      "Final portfolio value: 701420.3125\n",
      "Final accumulative portfolio return: 7.014203125\n",
      "Maximum DrawDown: -0.2803927951607711\n",
      "Sharpe ratio: 1.2330800031051226\n",
      "=================================\n"
     ]
    },
    {
     "name": "stderr",
     "output_type": "stream",
     "text": [
      " 72%|███████▏  | 18/25 [10:11<03:58, 34.02s/it]"
     ]
    },
    {
     "name": "stdout",
     "output_type": "stream",
     "text": [
      "=================================\n",
      "Initial portfolio value: 100000\n",
      "Final portfolio value: 740476.4375\n",
      "Final accumulative portfolio return: 7.404764375\n",
      "Maximum DrawDown: -0.2803928835243311\n",
      "Sharpe ratio: 1.2613698256180113\n",
      "=================================\n"
     ]
    },
    {
     "name": "stderr",
     "output_type": "stream",
     "text": [
      " 76%|███████▌  | 19/25 [10:46<03:24, 34.12s/it]"
     ]
    },
    {
     "name": "stdout",
     "output_type": "stream",
     "text": [
      "=================================\n",
      "Initial portfolio value: 100000\n",
      "Final portfolio value: 742419.625\n",
      "Final accumulative portfolio return: 7.42419625\n",
      "Maximum DrawDown: -0.2803930988935438\n",
      "Sharpe ratio: 1.2574120249194312\n",
      "=================================\n"
     ]
    },
    {
     "name": "stderr",
     "output_type": "stream",
     "text": [
      " 80%|████████  | 20/25 [11:20<02:50, 34.10s/it]"
     ]
    },
    {
     "name": "stdout",
     "output_type": "stream",
     "text": [
      "=================================\n",
      "Initial portfolio value: 100000\n",
      "Final portfolio value: 753566.3125\n",
      "Final accumulative portfolio return: 7.535663125\n",
      "Maximum DrawDown: -0.280393023937732\n",
      "Sharpe ratio: 1.2616738076546845\n",
      "=================================\n"
     ]
    },
    {
     "name": "stderr",
     "output_type": "stream",
     "text": [
      " 84%|████████▍ | 21/25 [11:55<02:18, 34.54s/it]"
     ]
    },
    {
     "name": "stdout",
     "output_type": "stream",
     "text": [
      "=================================\n",
      "Initial portfolio value: 100000\n",
      "Final portfolio value: 757560.75\n",
      "Final accumulative portfolio return: 7.5756075\n",
      "Maximum DrawDown: -0.2803929232114232\n",
      "Sharpe ratio: 1.2636621612227932\n",
      "=================================\n"
     ]
    },
    {
     "name": "stderr",
     "output_type": "stream",
     "text": [
      " 88%|████████▊ | 22/25 [12:29<01:42, 34.29s/it]"
     ]
    },
    {
     "name": "stdout",
     "output_type": "stream",
     "text": [
      "=================================\n",
      "Initial portfolio value: 100000\n",
      "Final portfolio value: 759183.9375\n",
      "Final accumulative portfolio return: 7.591839375\n",
      "Maximum DrawDown: -0.2803929561844911\n",
      "Sharpe ratio: 1.2648412973162948\n",
      "=================================\n"
     ]
    },
    {
     "name": "stderr",
     "output_type": "stream",
     "text": [
      " 92%|█████████▏| 23/25 [13:03<01:08, 34.13s/it]"
     ]
    },
    {
     "name": "stdout",
     "output_type": "stream",
     "text": [
      "=================================\n",
      "Initial portfolio value: 100000\n",
      "Final portfolio value: 760290.6875\n",
      "Final accumulative portfolio return: 7.602906875\n",
      "Maximum DrawDown: -0.2803929127798688\n",
      "Sharpe ratio: 1.2655823410061549\n",
      "=================================\n"
     ]
    },
    {
     "name": "stderr",
     "output_type": "stream",
     "text": [
      " 96%|█████████▌| 24/25 [13:37<00:34, 34.04s/it]"
     ]
    },
    {
     "name": "stdout",
     "output_type": "stream",
     "text": [
      "=================================\n",
      "Initial portfolio value: 100000\n",
      "Final portfolio value: 761395.9375\n",
      "Final accumulative portfolio return: 7.613959375\n",
      "Maximum DrawDown: -0.2803931710846672\n",
      "Sharpe ratio: 1.2663792111366692\n",
      "=================================\n"
     ]
    },
    {
     "name": "stderr",
     "output_type": "stream",
     "text": [
      "100%|██████████| 25/25 [14:11<00:00, 34.04s/it]\n",
      "C:\\Users\\xutia\\AppData\\Local\\Temp\\ipykernel_36848\\1259870935.py:43: FutureWarning: You are using `torch.load` with `weights_only=False` (the current default value), which uses the default pickle module implicitly. It is possible to construct malicious pickle data which will execute arbitrary code during unpickling (See https://github.com/pytorch/pytorch/blob/main/SECURITY.md#untrusted-models for more details). In a future release, the default value for `weights_only` will be flipped to `True`. This limits the functions that could be executed during unpickling. Arbitrary objects will no longer be allowed to be loaded via this mode unless they are explicitly allowlisted by the user via `torch.serialization.add_safe_globals`. We recommend you start setting `weights_only=True` for any use case where you don't have full control of the loaded file. Please open an issue on GitHub for any issues related to this experimental feature.\n",
      "  EIIE_policy.load_state_dict(torch.load(model_filename))\n"
     ]
    },
    {
     "name": "stdout",
     "output_type": "stream",
     "text": [
      "=================================\n",
      "Initial portfolio value: 100000\n",
      "Final portfolio value: 711020.125\n",
      "Final accumulative portfolio return: 7.11020125\n",
      "Maximum DrawDown: -0.28039312140160333\n",
      "Sharpe ratio: 1.2382900849391512\n",
      "=================================\n",
      "=================================\n",
      "Initial portfolio value: 100000\n",
      "Final portfolio value: 98479.875\n",
      "Final accumulative portfolio return: 0.98479875\n",
      "Maximum DrawDown: -0.3714850835520066\n",
      "Sharpe ratio: 0.1193458526133795\n",
      "=================================\n",
      "Training model with TIME_WINDOW=60, K_SIZE=5, CONV_MID=10, CONV_FINAL=5, LEARNING_RATE=0.02\n"
     ]
    },
    {
     "name": "stderr",
     "output_type": "stream",
     "text": [
      "  0%|          | 0/25 [00:00<?, ?it/s]"
     ]
    },
    {
     "name": "stdout",
     "output_type": "stream",
     "text": [
      "=================================\n",
      "Initial portfolio value: 100000\n",
      "Final portfolio value: 249717.140625\n",
      "Final accumulative portfolio return: 2.49717140625\n",
      "Maximum DrawDown: -0.315640638206378\n",
      "Sharpe ratio: 0.8355514811172033\n",
      "=================================\n"
     ]
    },
    {
     "name": "stderr",
     "output_type": "stream",
     "text": [
      "  4%|▍         | 1/25 [00:34<13:36, 34.01s/it]"
     ]
    },
    {
     "name": "stdout",
     "output_type": "stream",
     "text": [
      "=================================\n",
      "Initial portfolio value: 100000\n",
      "Final portfolio value: 326043.4375\n",
      "Final accumulative portfolio return: 3.260434375\n",
      "Maximum DrawDown: -0.286061943835368\n",
      "Sharpe ratio: 1.012012197715443\n",
      "=================================\n"
     ]
    },
    {
     "name": "stderr",
     "output_type": "stream",
     "text": [
      "  8%|▊         | 2/25 [01:07<13:00, 33.91s/it]"
     ]
    },
    {
     "name": "stdout",
     "output_type": "stream",
     "text": [
      "=================================\n",
      "Initial portfolio value: 100000\n",
      "Final portfolio value: 465260.59375\n",
      "Final accumulative portfolio return: 4.6526059375\n",
      "Maximum DrawDown: -0.2630428892069837\n",
      "Sharpe ratio: 1.2336961616670425\n",
      "=================================\n"
     ]
    },
    {
     "name": "stderr",
     "output_type": "stream",
     "text": [
      " 12%|█▏        | 3/25 [01:41<12:24, 33.86s/it]"
     ]
    },
    {
     "name": "stdout",
     "output_type": "stream",
     "text": [
      "=================================\n",
      "Initial portfolio value: 100000\n",
      "Final portfolio value: 603368.1875\n",
      "Final accumulative portfolio return: 6.033681875\n",
      "Maximum DrawDown: -0.26392343954027897\n",
      "Sharpe ratio: 1.344020079130066\n",
      "=================================\n"
     ]
    },
    {
     "name": "stderr",
     "output_type": "stream",
     "text": [
      " 16%|█▌        | 4/25 [02:15<11:52, 33.94s/it]"
     ]
    },
    {
     "name": "stdout",
     "output_type": "stream",
     "text": [
      "=================================\n",
      "Initial portfolio value: 100000\n",
      "Final portfolio value: 810088.25\n",
      "Final accumulative portfolio return: 8.1008825\n",
      "Maximum DrawDown: -0.27921701302850543\n",
      "Sharpe ratio: 1.395216347612646\n",
      "=================================\n"
     ]
    },
    {
     "name": "stderr",
     "output_type": "stream",
     "text": [
      " 20%|██        | 5/25 [02:49<11:18, 33.92s/it]"
     ]
    },
    {
     "name": "stdout",
     "output_type": "stream",
     "text": [
      "=================================\n",
      "Initial portfolio value: 100000\n",
      "Final portfolio value: 954382.8125\n",
      "Final accumulative portfolio return: 9.543828125\n",
      "Maximum DrawDown: -0.28468029732099553\n",
      "Sharpe ratio: 1.4566393022227722\n",
      "=================================\n"
     ]
    },
    {
     "name": "stderr",
     "output_type": "stream",
     "text": [
      " 24%|██▍       | 6/25 [03:23<10:47, 34.08s/it]"
     ]
    },
    {
     "name": "stdout",
     "output_type": "stream",
     "text": [
      "=================================\n",
      "Initial portfolio value: 100000\n",
      "Final portfolio value: 410410.40625\n",
      "Final accumulative portfolio return: 4.1041040625\n",
      "Maximum DrawDown: -0.4185852194169377\n",
      "Sharpe ratio: 0.8937792867664336\n",
      "=================================\n"
     ]
    },
    {
     "name": "stderr",
     "output_type": "stream",
     "text": [
      " 28%|██▊       | 7/25 [03:54<09:52, 32.93s/it]"
     ]
    },
    {
     "name": "stdout",
     "output_type": "stream",
     "text": [
      "=================================\n",
      "Initial portfolio value: 100000\n",
      "Final portfolio value: 791456.4375\n",
      "Final accumulative portfolio return: 7.914564375\n",
      "Maximum DrawDown: -0.37176752428904714\n",
      "Sharpe ratio: 1.2603767082443902\n",
      "=================================\n"
     ]
    },
    {
     "name": "stderr",
     "output_type": "stream",
     "text": [
      " 32%|███▏      | 8/25 [04:21<08:48, 31.09s/it]"
     ]
    },
    {
     "name": "stdout",
     "output_type": "stream",
     "text": [
      "=================================\n",
      "Initial portfolio value: 100000\n",
      "Final portfolio value: 760018.1875\n",
      "Final accumulative portfolio return: 7.600181875\n",
      "Maximum DrawDown: -0.38515765557964665\n",
      "Sharpe ratio: 1.2335996855693285\n",
      "=================================\n"
     ]
    },
    {
     "name": "stderr",
     "output_type": "stream",
     "text": [
      " 36%|███▌      | 9/25 [04:48<07:58, 29.91s/it]"
     ]
    },
    {
     "name": "stdout",
     "output_type": "stream",
     "text": [
      "=================================\n",
      "Initial portfolio value: 100000\n",
      "Final portfolio value: 908008.625\n",
      "Final accumulative portfolio return: 9.08008625\n",
      "Maximum DrawDown: -0.38515866389002684\n",
      "Sharpe ratio: 1.330583639413682\n",
      "=================================\n"
     ]
    },
    {
     "name": "stderr",
     "output_type": "stream",
     "text": [
      " 40%|████      | 10/25 [05:16<07:16, 29.10s/it]"
     ]
    },
    {
     "name": "stdout",
     "output_type": "stream",
     "text": [
      "=================================\n",
      "Initial portfolio value: 100000\n",
      "Final portfolio value: 926061.8125\n",
      "Final accumulative portfolio return: 9.260618125\n",
      "Maximum DrawDown: -0.38515836170662554\n",
      "Sharpe ratio: 1.3410921974748935\n",
      "=================================\n"
     ]
    },
    {
     "name": "stderr",
     "output_type": "stream",
     "text": [
      " 44%|████▍     | 11/25 [05:43<06:39, 28.51s/it]"
     ]
    },
    {
     "name": "stdout",
     "output_type": "stream",
     "text": [
      "=================================\n",
      "Initial portfolio value: 100000\n",
      "Final portfolio value: 919786.1875\n",
      "Final accumulative portfolio return: 9.197861875\n",
      "Maximum DrawDown: -0.3851587630777593\n",
      "Sharpe ratio: 1.3411634825715621\n",
      "=================================\n"
     ]
    },
    {
     "name": "stderr",
     "output_type": "stream",
     "text": [
      " 48%|████▊     | 12/25 [06:14<06:20, 29.29s/it]"
     ]
    },
    {
     "name": "stdout",
     "output_type": "stream",
     "text": [
      "=================================\n",
      "Initial portfolio value: 100000\n",
      "Final portfolio value: 1020538.25\n",
      "Final accumulative portfolio return: 10.2053825\n",
      "Maximum DrawDown: -0.38515812170975305\n",
      "Sharpe ratio: 1.349332562218707\n",
      "=================================\n"
     ]
    },
    {
     "name": "stderr",
     "output_type": "stream",
     "text": [
      " 52%|█████▏    | 13/25 [06:41<05:44, 28.69s/it]"
     ]
    },
    {
     "name": "stdout",
     "output_type": "stream",
     "text": [
      "=================================\n",
      "Initial portfolio value: 100000\n",
      "Final portfolio value: 1123339.625\n",
      "Final accumulative portfolio return: 11.23339625\n",
      "Maximum DrawDown: -0.38515866787371045\n",
      "Sharpe ratio: 1.4210857300638957\n",
      "=================================\n"
     ]
    },
    {
     "name": "stderr",
     "output_type": "stream",
     "text": [
      " 56%|█████▌    | 14/25 [07:10<05:14, 28.56s/it]"
     ]
    },
    {
     "name": "stdout",
     "output_type": "stream",
     "text": [
      "=================================\n",
      "Initial portfolio value: 100000\n",
      "Final portfolio value: 964742.1875\n",
      "Final accumulative portfolio return: 9.647421875\n",
      "Maximum DrawDown: -0.38515928439871183\n",
      "Sharpe ratio: 1.3211103995708786\n",
      "=================================\n"
     ]
    },
    {
     "name": "stderr",
     "output_type": "stream",
     "text": [
      " 60%|██████    | 15/25 [07:39<04:47, 28.80s/it]"
     ]
    },
    {
     "name": "stdout",
     "output_type": "stream",
     "text": [
      "=================================\n",
      "Initial portfolio value: 100000\n",
      "Final portfolio value: 987000.9375\n",
      "Final accumulative portfolio return: 9.870009375\n",
      "Maximum DrawDown: -0.38515866582865566\n",
      "Sharpe ratio: 1.3530780526987103\n",
      "=================================\n"
     ]
    },
    {
     "name": "stderr",
     "output_type": "stream",
     "text": [
      " 64%|██████▍   | 16/25 [08:08<04:19, 28.88s/it]"
     ]
    },
    {
     "name": "stdout",
     "output_type": "stream",
     "text": [
      "=================================\n",
      "Initial portfolio value: 100000\n",
      "Final portfolio value: 1118063.5\n",
      "Final accumulative portfolio return: 11.180635\n",
      "Maximum DrawDown: -0.3851585486696609\n",
      "Sharpe ratio: 1.4129080311956674\n",
      "=================================\n"
     ]
    },
    {
     "name": "stderr",
     "output_type": "stream",
     "text": [
      " 68%|██████▊   | 17/25 [08:38<03:52, 29.08s/it]"
     ]
    },
    {
     "name": "stdout",
     "output_type": "stream",
     "text": [
      "=================================\n",
      "Initial portfolio value: 100000\n",
      "Final portfolio value: 712335.75\n",
      "Final accumulative portfolio return: 7.1233575\n",
      "Maximum DrawDown: -0.4356558537600118\n",
      "Sharpe ratio: 1.1370703818851635\n",
      "=================================\n"
     ]
    },
    {
     "name": "stderr",
     "output_type": "stream",
     "text": [
      " 72%|███████▏  | 18/25 [09:05<03:19, 28.48s/it]"
     ]
    },
    {
     "name": "stdout",
     "output_type": "stream",
     "text": [
      "=================================\n",
      "Initial portfolio value: 100000\n",
      "Final portfolio value: 1040972.625\n",
      "Final accumulative portfolio return: 10.40972625\n",
      "Maximum DrawDown: -0.3851588611700518\n",
      "Sharpe ratio: 1.3231843049547136\n",
      "=================================\n"
     ]
    },
    {
     "name": "stderr",
     "output_type": "stream",
     "text": [
      " 76%|███████▌  | 19/25 [09:32<02:48, 28.09s/it]"
     ]
    },
    {
     "name": "stdout",
     "output_type": "stream",
     "text": [
      "=================================\n",
      "Initial portfolio value: 100000\n",
      "Final portfolio value: 787018.6875\n",
      "Final accumulative portfolio return: 7.870186875\n",
      "Maximum DrawDown: -0.3851590305638708\n",
      "Sharpe ratio: 1.2252058315328382\n",
      "=================================\n"
     ]
    },
    {
     "name": "stderr",
     "output_type": "stream",
     "text": [
      " 80%|████████  | 20/25 [09:59<02:18, 27.79s/it]"
     ]
    },
    {
     "name": "stdout",
     "output_type": "stream",
     "text": [
      "=================================\n",
      "Initial portfolio value: 100000\n",
      "Final portfolio value: 719460.4375\n",
      "Final accumulative portfolio return: 7.194604375\n",
      "Maximum DrawDown: -0.38515911713216144\n",
      "Sharpe ratio: 1.1880202501269208\n",
      "=================================\n"
     ]
    },
    {
     "name": "stderr",
     "output_type": "stream",
     "text": [
      " 84%|████████▍ | 21/25 [10:27<01:51, 27.97s/it]"
     ]
    },
    {
     "name": "stdout",
     "output_type": "stream",
     "text": [
      "=================================\n",
      "Initial portfolio value: 100000\n",
      "Final portfolio value: 618458.125\n",
      "Final accumulative portfolio return: 6.18458125\n",
      "Maximum DrawDown: -0.38316689599064047\n",
      "Sharpe ratio: 1.086974477972286\n",
      "=================================\n"
     ]
    },
    {
     "name": "stderr",
     "output_type": "stream",
     "text": [
      " 88%|████████▊ | 22/25 [10:56<01:24, 28.10s/it]"
     ]
    },
    {
     "name": "stdout",
     "output_type": "stream",
     "text": [
      "=================================\n",
      "Initial portfolio value: 100000\n",
      "Final portfolio value: 814612.125\n",
      "Final accumulative portfolio return: 8.14612125\n",
      "Maximum DrawDown: -0.3596183006580831\n",
      "Sharpe ratio: 1.1976000724720741\n",
      "=================================\n"
     ]
    },
    {
     "name": "stderr",
     "output_type": "stream",
     "text": [
      " 92%|█████████▏| 23/25 [11:24<00:56, 28.24s/it]"
     ]
    },
    {
     "name": "stdout",
     "output_type": "stream",
     "text": [
      "=================================\n",
      "Initial portfolio value: 100000\n",
      "Final portfolio value: 660546.375\n",
      "Final accumulative portfolio return: 6.60546375\n",
      "Maximum DrawDown: -0.29085859003817227\n",
      "Sharpe ratio: 1.1320037249462271\n",
      "=================================\n"
     ]
    },
    {
     "name": "stderr",
     "output_type": "stream",
     "text": [
      " 96%|█████████▌| 24/25 [11:53<00:28, 28.36s/it]"
     ]
    },
    {
     "name": "stdout",
     "output_type": "stream",
     "text": [
      "=================================\n",
      "Initial portfolio value: 100000\n",
      "Final portfolio value: 963178.125\n",
      "Final accumulative portfolio return: 9.63178125\n",
      "Maximum DrawDown: -0.3371398401966097\n",
      "Sharpe ratio: 1.3140189313427408\n",
      "=================================\n"
     ]
    },
    {
     "name": "stderr",
     "output_type": "stream",
     "text": [
      "100%|██████████| 25/25 [12:22<00:00, 29.71s/it]\n",
      "C:\\Users\\xutia\\AppData\\Local\\Temp\\ipykernel_36848\\1259870935.py:43: FutureWarning: You are using `torch.load` with `weights_only=False` (the current default value), which uses the default pickle module implicitly. It is possible to construct malicious pickle data which will execute arbitrary code during unpickling (See https://github.com/pytorch/pytorch/blob/main/SECURITY.md#untrusted-models for more details). In a future release, the default value for `weights_only` will be flipped to `True`. This limits the functions that could be executed during unpickling. Arbitrary objects will no longer be allowed to be loaded via this mode unless they are explicitly allowlisted by the user via `torch.serialization.add_safe_globals`. We recommend you start setting `weights_only=True` for any use case where you don't have full control of the loaded file. Please open an issue on GitHub for any issues related to this experimental feature.\n",
      "  EIIE_policy.load_state_dict(torch.load(model_filename))\n"
     ]
    },
    {
     "name": "stdout",
     "output_type": "stream",
     "text": [
      "=================================\n",
      "Initial portfolio value: 100000\n",
      "Final portfolio value: 721308.6875\n",
      "Final accumulative portfolio return: 7.213086875\n",
      "Maximum DrawDown: -0.2996896166135158\n",
      "Sharpe ratio: 1.204799691182622\n",
      "=================================\n",
      "=================================\n",
      "Initial portfolio value: 100000\n",
      "Final portfolio value: 136939.5625\n",
      "Final accumulative portfolio return: 1.369395625\n",
      "Maximum DrawDown: -0.20452139051858953\n",
      "Sharpe ratio: 0.8045076462210302\n",
      "=================================\n",
      "Training model with TIME_WINDOW=60, K_SIZE=5, CONV_MID=10, CONV_FINAL=10, LEARNING_RATE=0.02\n"
     ]
    },
    {
     "name": "stderr",
     "output_type": "stream",
     "text": [
      "  0%|          | 0/25 [00:00<?, ?it/s]"
     ]
    },
    {
     "name": "stdout",
     "output_type": "stream",
     "text": [
      "=================================\n",
      "Initial portfolio value: 100000\n",
      "Final portfolio value: 280969.78125\n",
      "Final accumulative portfolio return: 2.8096978125\n",
      "Maximum DrawDown: -0.29085640604005625\n",
      "Sharpe ratio: 0.8831623672539355\n",
      "=================================\n"
     ]
    },
    {
     "name": "stderr",
     "output_type": "stream",
     "text": [
      "  4%|▍         | 1/25 [00:27<10:57, 27.40s/it]"
     ]
    },
    {
     "name": "stdout",
     "output_type": "stream",
     "text": [
      "=================================\n",
      "Initial portfolio value: 100000\n",
      "Final portfolio value: 501741.78125\n",
      "Final accumulative portfolio return: 5.0174178125\n",
      "Maximum DrawDown: -0.2749686569266644\n",
      "Sharpe ratio: 1.1881556644720814\n",
      "=================================\n"
     ]
    },
    {
     "name": "stderr",
     "output_type": "stream",
     "text": [
      "  8%|▊         | 2/25 [00:54<10:27, 27.29s/it]"
     ]
    },
    {
     "name": "stdout",
     "output_type": "stream",
     "text": [
      "=================================\n",
      "Initial portfolio value: 100000\n",
      "Final portfolio value: 563364.5\n",
      "Final accumulative portfolio return: 5.633645\n",
      "Maximum DrawDown: -0.27952327676843625\n",
      "Sharpe ratio: 1.2247253957934714\n",
      "=================================\n"
     ]
    },
    {
     "name": "stderr",
     "output_type": "stream",
     "text": [
      " 12%|█▏        | 3/25 [01:21<09:57, 27.18s/it]"
     ]
    },
    {
     "name": "stdout",
     "output_type": "stream",
     "text": [
      "=================================\n",
      "Initial portfolio value: 100000\n",
      "Final portfolio value: 510657.90625\n",
      "Final accumulative portfolio return: 5.1065790625\n",
      "Maximum DrawDown: -0.27985818375226545\n",
      "Sharpe ratio: 1.1385554155677717\n",
      "=================================\n"
     ]
    },
    {
     "name": "stderr",
     "output_type": "stream",
     "text": [
      " 16%|█▌        | 4/25 [01:48<09:29, 27.10s/it]"
     ]
    },
    {
     "name": "stdout",
     "output_type": "stream",
     "text": [
      "=================================\n",
      "Initial portfolio value: 100000\n",
      "Final portfolio value: 845579.75\n",
      "Final accumulative portfolio return: 8.4557975\n",
      "Maximum DrawDown: -0.2803508355836597\n",
      "Sharpe ratio: 1.4335768427661955\n",
      "=================================\n"
     ]
    },
    {
     "name": "stderr",
     "output_type": "stream",
     "text": [
      " 20%|██        | 5/25 [02:15<09:02, 27.11s/it]"
     ]
    },
    {
     "name": "stdout",
     "output_type": "stream",
     "text": [
      "=================================\n",
      "Initial portfolio value: 100000\n",
      "Final portfolio value: 274734.84375\n",
      "Final accumulative portfolio return: 2.7473484375\n",
      "Maximum DrawDown: -0.4344348102493205\n",
      "Sharpe ratio: 0.6757143004219097\n",
      "=================================\n"
     ]
    },
    {
     "name": "stderr",
     "output_type": "stream",
     "text": [
      " 24%|██▍       | 6/25 [02:42<08:34, 27.09s/it]"
     ]
    },
    {
     "name": "stdout",
     "output_type": "stream",
     "text": [
      "=================================\n",
      "Initial portfolio value: 100000\n",
      "Final portfolio value: 1244407.875\n",
      "Final accumulative portfolio return: 12.44407875\n",
      "Maximum DrawDown: -0.28030293923386806\n",
      "Sharpe ratio: 1.5881595200997467\n",
      "=================================\n"
     ]
    },
    {
     "name": "stderr",
     "output_type": "stream",
     "text": [
      " 28%|██▊       | 7/25 [03:10<08:08, 27.13s/it]"
     ]
    },
    {
     "name": "stdout",
     "output_type": "stream",
     "text": [
      "=================================\n",
      "Initial portfolio value: 100000\n",
      "Final portfolio value: 1142745.125\n",
      "Final accumulative portfolio return: 11.42745125\n",
      "Maximum DrawDown: -0.27827430236109796\n",
      "Sharpe ratio: 1.538153983595443\n",
      "=================================\n"
     ]
    },
    {
     "name": "stderr",
     "output_type": "stream",
     "text": [
      " 32%|███▏      | 8/25 [03:37<07:41, 27.16s/it]"
     ]
    },
    {
     "name": "stdout",
     "output_type": "stream",
     "text": [
      "=================================\n",
      "Initial portfolio value: 100000\n",
      "Final portfolio value: 1318017.25\n",
      "Final accumulative portfolio return: 13.1801725\n",
      "Maximum DrawDown: -0.2887364807933571\n",
      "Sharpe ratio: 1.6128995844336649\n",
      "=================================\n"
     ]
    },
    {
     "name": "stderr",
     "output_type": "stream",
     "text": [
      " 36%|███▌      | 9/25 [04:04<07:14, 27.18s/it]"
     ]
    },
    {
     "name": "stdout",
     "output_type": "stream",
     "text": [
      "=================================\n",
      "Initial portfolio value: 100000\n",
      "Final portfolio value: 472852.0625\n",
      "Final accumulative portfolio return: 4.728520625\n",
      "Maximum DrawDown: -0.44384167412924524\n",
      "Sharpe ratio: 0.9667301124720982\n",
      "=================================\n"
     ]
    },
    {
     "name": "stderr",
     "output_type": "stream",
     "text": [
      " 40%|████      | 10/25 [04:31<06:47, 27.19s/it]"
     ]
    },
    {
     "name": "stdout",
     "output_type": "stream",
     "text": [
      "=================================\n",
      "Initial portfolio value: 100000\n",
      "Final portfolio value: 1663593.0\n",
      "Final accumulative portfolio return: 16.63593\n",
      "Maximum DrawDown: -0.2736370216235634\n",
      "Sharpe ratio: 1.7067388736942781\n",
      "=================================\n"
     ]
    },
    {
     "name": "stderr",
     "output_type": "stream",
     "text": [
      " 44%|████▍     | 11/25 [04:58<06:20, 27.17s/it]"
     ]
    },
    {
     "name": "stdout",
     "output_type": "stream",
     "text": [
      "=================================\n",
      "Initial portfolio value: 100000\n",
      "Final portfolio value: 1145915.75\n",
      "Final accumulative portfolio return: 11.4591575\n",
      "Maximum DrawDown: -0.27585454209849414\n",
      "Sharpe ratio: 1.5047732621756122\n",
      "=================================\n"
     ]
    },
    {
     "name": "stderr",
     "output_type": "stream",
     "text": [
      " 48%|████▊     | 12/25 [05:26<05:53, 27.19s/it]"
     ]
    },
    {
     "name": "stdout",
     "output_type": "stream",
     "text": [
      "=================================\n",
      "Initial portfolio value: 100000\n",
      "Final portfolio value: 991604.0\n",
      "Final accumulative portfolio return: 9.91604\n",
      "Maximum DrawDown: -0.38593548361030705\n",
      "Sharpe ratio: 1.3438239286493354\n",
      "=================================\n"
     ]
    },
    {
     "name": "stderr",
     "output_type": "stream",
     "text": [
      " 52%|█████▏    | 13/25 [05:53<05:26, 27.21s/it]"
     ]
    },
    {
     "name": "stdout",
     "output_type": "stream",
     "text": [
      "=================================\n",
      "Initial portfolio value: 100000\n",
      "Final portfolio value: 930560.625\n",
      "Final accumulative portfolio return: 9.30560625\n",
      "Maximum DrawDown: -0.3656672142686552\n",
      "Sharpe ratio: 1.3226467062335534\n",
      "=================================\n"
     ]
    },
    {
     "name": "stderr",
     "output_type": "stream",
     "text": [
      " 56%|█████▌    | 14/25 [06:20<04:58, 27.18s/it]"
     ]
    },
    {
     "name": "stdout",
     "output_type": "stream",
     "text": [
      "=================================\n",
      "Initial portfolio value: 100000\n",
      "Final portfolio value: 1046538.625\n",
      "Final accumulative portfolio return: 10.46538625\n",
      "Maximum DrawDown: -0.28039261229105295\n",
      "Sharpe ratio: 1.4520057830026813\n",
      "=================================\n"
     ]
    },
    {
     "name": "stderr",
     "output_type": "stream",
     "text": [
      " 60%|██████    | 15/25 [06:47<04:30, 27.09s/it]"
     ]
    },
    {
     "name": "stdout",
     "output_type": "stream",
     "text": [
      "=================================\n",
      "Initial portfolio value: 100000\n",
      "Final portfolio value: 1199101.0\n",
      "Final accumulative portfolio return: 11.99101\n",
      "Maximum DrawDown: -0.26102262151907796\n",
      "Sharpe ratio: 1.5136840270899428\n",
      "=================================\n"
     ]
    },
    {
     "name": "stderr",
     "output_type": "stream",
     "text": [
      " 64%|██████▍   | 16/25 [07:14<04:04, 27.15s/it]"
     ]
    },
    {
     "name": "stdout",
     "output_type": "stream",
     "text": [
      "=================================\n",
      "Initial portfolio value: 100000\n",
      "Final portfolio value: 1113423.875\n",
      "Final accumulative portfolio return: 11.13423875\n",
      "Maximum DrawDown: -0.276957957774956\n",
      "Sharpe ratio: 1.4771873496093608\n",
      "=================================\n"
     ]
    },
    {
     "name": "stderr",
     "output_type": "stream",
     "text": [
      " 68%|██████▊   | 17/25 [07:41<03:36, 27.09s/it]"
     ]
    },
    {
     "name": "stdout",
     "output_type": "stream",
     "text": [
      "=================================\n",
      "Initial portfolio value: 100000\n",
      "Final portfolio value: 1401786.75\n",
      "Final accumulative portfolio return: 14.0178675\n",
      "Maximum DrawDown: -0.2896853276581062\n",
      "Sharpe ratio: 1.6217949636923046\n",
      "=================================\n"
     ]
    },
    {
     "name": "stderr",
     "output_type": "stream",
     "text": [
      " 72%|███████▏  | 18/25 [08:08<03:09, 27.11s/it]"
     ]
    },
    {
     "name": "stdout",
     "output_type": "stream",
     "text": [
      "=================================\n",
      "Initial portfolio value: 100000\n",
      "Final portfolio value: 756889.4375\n",
      "Final accumulative portfolio return: 7.568894375\n",
      "Maximum DrawDown: -0.30770864295787304\n",
      "Sharpe ratio: 1.2505513044458625\n",
      "=================================\n"
     ]
    },
    {
     "name": "stderr",
     "output_type": "stream",
     "text": [
      " 76%|███████▌  | 19/25 [08:35<02:42, 27.11s/it]"
     ]
    },
    {
     "name": "stdout",
     "output_type": "stream",
     "text": [
      "=================================\n",
      "Initial portfolio value: 100000\n",
      "Final portfolio value: 1215369.375\n",
      "Final accumulative portfolio return: 12.15369375\n",
      "Maximum DrawDown: -0.27877228385108055\n",
      "Sharpe ratio: 1.5207403127009056\n",
      "=================================\n"
     ]
    },
    {
     "name": "stderr",
     "output_type": "stream",
     "text": [
      " 80%|████████  | 20/25 [09:02<02:15, 27.10s/it]"
     ]
    },
    {
     "name": "stdout",
     "output_type": "stream",
     "text": [
      "=================================\n",
      "Initial portfolio value: 100000\n",
      "Final portfolio value: 1426915.5\n",
      "Final accumulative portfolio return: 14.269155\n",
      "Maximum DrawDown: -0.2783396388083704\n",
      "Sharpe ratio: 1.6231482954925125\n",
      "=================================\n"
     ]
    },
    {
     "name": "stderr",
     "output_type": "stream",
     "text": [
      " 84%|████████▍ | 21/25 [09:30<01:48, 27.11s/it]"
     ]
    },
    {
     "name": "stdout",
     "output_type": "stream",
     "text": [
      "=================================\n",
      "Initial portfolio value: 100000\n",
      "Final portfolio value: 1159704.875\n",
      "Final accumulative portfolio return: 11.59704875\n",
      "Maximum DrawDown: -0.3202649186715252\n",
      "Sharpe ratio: 1.5149395144266995\n",
      "=================================\n"
     ]
    },
    {
     "name": "stderr",
     "output_type": "stream",
     "text": [
      " 88%|████████▊ | 22/25 [09:57<01:21, 27.09s/it]"
     ]
    },
    {
     "name": "stdout",
     "output_type": "stream",
     "text": [
      "=================================\n",
      "Initial portfolio value: 100000\n",
      "Final portfolio value: 1600382.375\n",
      "Final accumulative portfolio return: 16.00382375\n",
      "Maximum DrawDown: -0.29212380894509415\n",
      "Sharpe ratio: 1.694024227124142\n",
      "=================================\n"
     ]
    },
    {
     "name": "stderr",
     "output_type": "stream",
     "text": [
      " 92%|█████████▏| 23/25 [10:24<00:54, 27.09s/it]"
     ]
    },
    {
     "name": "stdout",
     "output_type": "stream",
     "text": [
      "=================================\n",
      "Initial portfolio value: 100000\n",
      "Final portfolio value: 933513.3125\n",
      "Final accumulative portfolio return: 9.335133125\n",
      "Maximum DrawDown: -0.3350890748721349\n",
      "Sharpe ratio: 1.3757356647459469\n",
      "=================================\n"
     ]
    },
    {
     "name": "stderr",
     "output_type": "stream",
     "text": [
      " 96%|█████████▌| 24/25 [10:51<00:27, 27.13s/it]"
     ]
    },
    {
     "name": "stdout",
     "output_type": "stream",
     "text": [
      "=================================\n",
      "Initial portfolio value: 100000\n",
      "Final portfolio value: 1452093.0\n",
      "Final accumulative portfolio return: 14.52093\n",
      "Maximum DrawDown: -0.28521217851571246\n",
      "Sharpe ratio: 1.639384468272528\n",
      "=================================\n"
     ]
    },
    {
     "name": "stderr",
     "output_type": "stream",
     "text": [
      "100%|██████████| 25/25 [11:18<00:00, 27.14s/it]\n",
      "C:\\Users\\xutia\\AppData\\Local\\Temp\\ipykernel_36848\\1259870935.py:43: FutureWarning: You are using `torch.load` with `weights_only=False` (the current default value), which uses the default pickle module implicitly. It is possible to construct malicious pickle data which will execute arbitrary code during unpickling (See https://github.com/pytorch/pytorch/blob/main/SECURITY.md#untrusted-models for more details). In a future release, the default value for `weights_only` will be flipped to `True`. This limits the functions that could be executed during unpickling. Arbitrary objects will no longer be allowed to be loaded via this mode unless they are explicitly allowlisted by the user via `torch.serialization.add_safe_globals`. We recommend you start setting `weights_only=True` for any use case where you don't have full control of the loaded file. Please open an issue on GitHub for any issues related to this experimental feature.\n",
      "  EIIE_policy.load_state_dict(torch.load(model_filename))\n"
     ]
    },
    {
     "name": "stdout",
     "output_type": "stream",
     "text": [
      "=================================\n",
      "Initial portfolio value: 100000\n",
      "Final portfolio value: 242514.40625\n",
      "Final accumulative portfolio return: 2.4251440625\n",
      "Maximum DrawDown: -0.34407605950668707\n",
      "Sharpe ratio: 0.7190853759004032\n",
      "=================================\n",
      "=================================\n",
      "Initial portfolio value: 100000\n",
      "Final portfolio value: 89791.6171875\n",
      "Final accumulative portfolio return: 0.897916171875\n",
      "Maximum DrawDown: -0.4083856669495822\n",
      "Sharpe ratio: -0.08069824227475604\n",
      "=================================\n",
      "Training model with TIME_WINDOW=60, K_SIZE=5, CONV_MID=10, CONV_FINAL=20, LEARNING_RATE=0.02\n"
     ]
    },
    {
     "name": "stderr",
     "output_type": "stream",
     "text": [
      "  0%|          | 0/25 [00:00<?, ?it/s]"
     ]
    },
    {
     "name": "stdout",
     "output_type": "stream",
     "text": [
      "=================================\n",
      "Initial portfolio value: 100000\n",
      "Final portfolio value: 279881.4375\n",
      "Final accumulative portfolio return: 2.798814375\n",
      "Maximum DrawDown: -0.3038314301897088\n",
      "Sharpe ratio: 0.8362358464084169\n",
      "=================================\n"
     ]
    },
    {
     "name": "stderr",
     "output_type": "stream",
     "text": [
      "  4%|▍         | 1/25 [00:27<10:50, 27.09s/it]"
     ]
    },
    {
     "name": "stdout",
     "output_type": "stream",
     "text": [
      "=================================\n",
      "Initial portfolio value: 100000\n",
      "Final portfolio value: 493843.0625\n",
      "Final accumulative portfolio return: 4.938430625\n",
      "Maximum DrawDown: -0.2766622014914374\n",
      "Sharpe ratio: 1.1160456913086583\n",
      "=================================\n"
     ]
    },
    {
     "name": "stderr",
     "output_type": "stream",
     "text": [
      "  8%|▊         | 2/25 [00:54<10:22, 27.07s/it]"
     ]
    },
    {
     "name": "stdout",
     "output_type": "stream",
     "text": [
      "=================================\n",
      "Initial portfolio value: 100000\n",
      "Final portfolio value: 703756.0625\n",
      "Final accumulative portfolio return: 7.037560625\n",
      "Maximum DrawDown: -0.28027808215074246\n",
      "Sharpe ratio: 1.2838501902866988\n",
      "=================================\n"
     ]
    },
    {
     "name": "stderr",
     "output_type": "stream",
     "text": [
      " 12%|█▏        | 3/25 [01:21<09:56, 27.10s/it]"
     ]
    },
    {
     "name": "stdout",
     "output_type": "stream",
     "text": [
      "=================================\n",
      "Initial portfolio value: 100000\n",
      "Final portfolio value: 751649.3125\n",
      "Final accumulative portfolio return: 7.516493125\n",
      "Maximum DrawDown: -0.28038153216870443\n",
      "Sharpe ratio: 1.273282208015888\n",
      "=================================\n"
     ]
    },
    {
     "name": "stderr",
     "output_type": "stream",
     "text": [
      " 16%|█▌        | 4/25 [01:48<09:28, 27.07s/it]"
     ]
    },
    {
     "name": "stdout",
     "output_type": "stream",
     "text": [
      "=================================\n",
      "Initial portfolio value: 100000\n",
      "Final portfolio value: 736041.5\n",
      "Final accumulative portfolio return: 7.360415\n",
      "Maximum DrawDown: -0.28039114060896786\n",
      "Sharpe ratio: 1.2831325795508157\n",
      "=================================\n"
     ]
    },
    {
     "name": "stderr",
     "output_type": "stream",
     "text": [
      " 20%|██        | 5/25 [02:15<09:03, 27.19s/it]"
     ]
    },
    {
     "name": "stdout",
     "output_type": "stream",
     "text": [
      "=================================\n",
      "Initial portfolio value: 100000\n",
      "Final portfolio value: 746548.1875\n",
      "Final accumulative portfolio return: 7.465481875\n",
      "Maximum DrawDown: -0.2803923823230995\n",
      "Sharpe ratio: 1.2623441310712957\n",
      "=================================\n"
     ]
    },
    {
     "name": "stderr",
     "output_type": "stream",
     "text": [
      " 24%|██▍       | 6/25 [02:43<08:37, 27.24s/it]"
     ]
    },
    {
     "name": "stdout",
     "output_type": "stream",
     "text": [
      "=================================\n",
      "Initial portfolio value: 100000\n",
      "Final portfolio value: 706688.0625\n",
      "Final accumulative portfolio return: 7.066880625\n",
      "Maximum DrawDown: -0.28039095482395093\n",
      "Sharpe ratio: 1.2434716991252914\n",
      "=================================\n"
     ]
    },
    {
     "name": "stderr",
     "output_type": "stream",
     "text": [
      " 28%|██▊       | 7/25 [03:10<08:10, 27.25s/it]"
     ]
    },
    {
     "name": "stdout",
     "output_type": "stream",
     "text": [
      "=================================\n",
      "Initial portfolio value: 100000\n",
      "Final portfolio value: 728088.1875\n",
      "Final accumulative portfolio return: 7.280881875\n",
      "Maximum DrawDown: -0.28039321710011944\n",
      "Sharpe ratio: 1.2585863049842645\n",
      "=================================\n"
     ]
    },
    {
     "name": "stderr",
     "output_type": "stream",
     "text": [
      " 32%|███▏      | 8/25 [03:37<07:43, 27.28s/it]"
     ]
    },
    {
     "name": "stdout",
     "output_type": "stream",
     "text": [
      "=================================\n",
      "Initial portfolio value: 100000\n",
      "Final portfolio value: 708483.625\n",
      "Final accumulative portfolio return: 7.08483625\n",
      "Maximum DrawDown: -0.2803913784653346\n",
      "Sharpe ratio: 1.2685227883171704\n",
      "=================================\n"
     ]
    },
    {
     "name": "stderr",
     "output_type": "stream",
     "text": [
      " 36%|███▌      | 9/25 [04:04<07:14, 27.16s/it]"
     ]
    },
    {
     "name": "stdout",
     "output_type": "stream",
     "text": [
      "=================================\n",
      "Initial portfolio value: 100000\n",
      "Final portfolio value: 752592.6875\n",
      "Final accumulative portfolio return: 7.525926875\n",
      "Maximum DrawDown: -0.28039274088887944\n",
      "Sharpe ratio: 1.275003327858287\n",
      "=================================\n"
     ]
    },
    {
     "name": "stderr",
     "output_type": "stream",
     "text": [
      " 40%|████      | 10/25 [04:31<06:47, 27.19s/it]"
     ]
    },
    {
     "name": "stdout",
     "output_type": "stream",
     "text": [
      "=================================\n",
      "Initial portfolio value: 100000\n",
      "Final portfolio value: 753807.0\n",
      "Final accumulative portfolio return: 7.53807\n",
      "Maximum DrawDown: -0.280392888409861\n",
      "Sharpe ratio: 1.26925496859265\n",
      "=================================\n"
     ]
    },
    {
     "name": "stderr",
     "output_type": "stream",
     "text": [
      " 44%|████▍     | 11/25 [04:59<06:21, 27.22s/it]"
     ]
    },
    {
     "name": "stdout",
     "output_type": "stream",
     "text": [
      "=================================\n",
      "Initial portfolio value: 100000\n",
      "Final portfolio value: 496182.84375\n",
      "Final accumulative portfolio return: 4.9618284375\n",
      "Maximum DrawDown: -0.28038077498018177\n",
      "Sharpe ratio: 1.0808449924569365\n",
      "=================================\n"
     ]
    },
    {
     "name": "stderr",
     "output_type": "stream",
     "text": [
      " 48%|████▊     | 12/25 [05:26<05:54, 27.24s/it]"
     ]
    },
    {
     "name": "stdout",
     "output_type": "stream",
     "text": [
      "=================================\n",
      "Initial portfolio value: 100000\n",
      "Final portfolio value: 690747.4375\n",
      "Final accumulative portfolio return: 6.907474375\n",
      "Maximum DrawDown: -0.2803929785351772\n",
      "Sharpe ratio: 1.2520869735861864\n",
      "=================================\n"
     ]
    },
    {
     "name": "stderr",
     "output_type": "stream",
     "text": [
      " 52%|█████▏    | 13/25 [05:53<05:26, 27.24s/it]"
     ]
    },
    {
     "name": "stdout",
     "output_type": "stream",
     "text": [
      "=================================\n",
      "Initial portfolio value: 100000\n",
      "Final portfolio value: 544790.375\n",
      "Final accumulative portfolio return: 5.44790375\n",
      "Maximum DrawDown: -0.2803929004336103\n",
      "Sharpe ratio: 1.0758720722750408\n",
      "=================================\n"
     ]
    },
    {
     "name": "stderr",
     "output_type": "stream",
     "text": [
      " 56%|█████▌    | 14/25 [06:21<05:02, 27.52s/it]"
     ]
    },
    {
     "name": "stdout",
     "output_type": "stream",
     "text": [
      "=================================\n",
      "Initial portfolio value: 100000\n",
      "Final portfolio value: 718888.0\n",
      "Final accumulative portfolio return: 7.18888\n",
      "Maximum DrawDown: -0.28039319917598404\n",
      "Sharpe ratio: 1.2392871581188278\n",
      "=================================\n"
     ]
    },
    {
     "name": "stderr",
     "output_type": "stream",
     "text": [
      " 60%|██████    | 15/25 [06:49<04:34, 27.44s/it]"
     ]
    },
    {
     "name": "stdout",
     "output_type": "stream",
     "text": [
      "=================================\n",
      "Initial portfolio value: 100000\n",
      "Final portfolio value: 739377.5\n",
      "Final accumulative portfolio return: 7.393775\n",
      "Maximum DrawDown: -0.28039300642138987\n",
      "Sharpe ratio: 1.2783658260182351\n",
      "=================================\n"
     ]
    },
    {
     "name": "stderr",
     "output_type": "stream",
     "text": [
      " 64%|██████▍   | 16/25 [07:16<04:06, 27.34s/it]"
     ]
    },
    {
     "name": "stdout",
     "output_type": "stream",
     "text": [
      "=================================\n",
      "Initial portfolio value: 100000\n",
      "Final portfolio value: 751040.9375\n",
      "Final accumulative portfolio return: 7.510409375\n",
      "Maximum DrawDown: -0.2803929430832254\n",
      "Sharpe ratio: 1.2669705061285437\n",
      "=================================\n"
     ]
    },
    {
     "name": "stderr",
     "output_type": "stream",
     "text": [
      " 68%|██████▊   | 17/25 [07:43<03:38, 27.28s/it]"
     ]
    },
    {
     "name": "stdout",
     "output_type": "stream",
     "text": [
      "=================================\n",
      "Initial portfolio value: 100000\n",
      "Final portfolio value: 752240.375\n",
      "Final accumulative portfolio return: 7.52240375\n",
      "Maximum DrawDown: -0.28039316926521685\n",
      "Sharpe ratio: 1.2678152381047152\n",
      "=================================\n"
     ]
    },
    {
     "name": "stderr",
     "output_type": "stream",
     "text": [
      " 72%|███████▏  | 18/25 [08:10<03:10, 27.22s/it]"
     ]
    },
    {
     "name": "stdout",
     "output_type": "stream",
     "text": [
      "=================================\n",
      "Initial portfolio value: 100000\n",
      "Final portfolio value: 755647.75\n",
      "Final accumulative portfolio return: 7.5564775\n",
      "Maximum DrawDown: -0.28039291085942886\n",
      "Sharpe ratio: 1.2704622975333915\n",
      "=================================\n"
     ]
    },
    {
     "name": "stderr",
     "output_type": "stream",
     "text": [
      " 76%|███████▌  | 19/25 [08:37<02:43, 27.27s/it]"
     ]
    },
    {
     "name": "stdout",
     "output_type": "stream",
     "text": [
      "=================================\n",
      "Initial portfolio value: 100000\n",
      "Final portfolio value: 747094.5\n",
      "Final accumulative portfolio return: 7.470945\n",
      "Maximum DrawDown: -0.2803930802741097\n",
      "Sharpe ratio: 1.2619194075603022\n",
      "=================================\n"
     ]
    },
    {
     "name": "stderr",
     "output_type": "stream",
     "text": [
      " 80%|████████  | 20/25 [09:04<02:16, 27.26s/it]"
     ]
    },
    {
     "name": "stdout",
     "output_type": "stream",
     "text": [
      "=================================\n",
      "Initial portfolio value: 100000\n",
      "Final portfolio value: 766663.0625\n",
      "Final accumulative portfolio return: 7.666630625\n",
      "Maximum DrawDown: -0.28039299204293955\n",
      "Sharpe ratio: 1.2746549686608368\n",
      "=================================\n"
     ]
    },
    {
     "name": "stderr",
     "output_type": "stream",
     "text": [
      " 84%|████████▍ | 21/25 [09:32<01:48, 27.23s/it]"
     ]
    },
    {
     "name": "stdout",
     "output_type": "stream",
     "text": [
      "=================================\n",
      "Initial portfolio value: 100000\n",
      "Final portfolio value: 799955.8125\n",
      "Final accumulative portfolio return: 7.999558125\n",
      "Maximum DrawDown: -0.2803929203714425\n",
      "Sharpe ratio: 1.2992184282756403\n",
      "=================================\n"
     ]
    },
    {
     "name": "stderr",
     "output_type": "stream",
     "text": [
      " 88%|████████▊ | 22/25 [09:59<01:21, 27.25s/it]"
     ]
    },
    {
     "name": "stdout",
     "output_type": "stream",
     "text": [
      "=================================\n",
      "Initial portfolio value: 100000\n",
      "Final portfolio value: 763783.9375\n",
      "Final accumulative portfolio return: 7.637839375\n",
      "Maximum DrawDown: -0.28039318759970344\n",
      "Sharpe ratio: 1.2602286406511745\n",
      "=================================\n"
     ]
    },
    {
     "name": "stderr",
     "output_type": "stream",
     "text": [
      " 92%|█████████▏| 23/25 [10:26<00:54, 27.25s/it]"
     ]
    },
    {
     "name": "stdout",
     "output_type": "stream",
     "text": [
      "=================================\n",
      "Initial portfolio value: 100000\n",
      "Final portfolio value: 599995.375\n",
      "Final accumulative portfolio return: 5.99995375\n",
      "Maximum DrawDown: -0.2803929741038672\n",
      "Sharpe ratio: 1.113719141321393\n",
      "=================================\n"
     ]
    },
    {
     "name": "stderr",
     "output_type": "stream",
     "text": [
      " 96%|█████████▌| 24/25 [10:53<00:27, 27.25s/it]"
     ]
    },
    {
     "name": "stdout",
     "output_type": "stream",
     "text": [
      "=================================\n",
      "Initial portfolio value: 100000\n",
      "Final portfolio value: 631142.125\n",
      "Final accumulative portfolio return: 6.31142125\n",
      "Maximum DrawDown: -0.28039299460302136\n",
      "Sharpe ratio: 1.1472006121778393\n",
      "=================================\n"
     ]
    },
    {
     "name": "stderr",
     "output_type": "stream",
     "text": [
      "100%|██████████| 25/25 [11:21<00:00, 27.25s/it]\n",
      "C:\\Users\\xutia\\AppData\\Local\\Temp\\ipykernel_36848\\1259870935.py:43: FutureWarning: You are using `torch.load` with `weights_only=False` (the current default value), which uses the default pickle module implicitly. It is possible to construct malicious pickle data which will execute arbitrary code during unpickling (See https://github.com/pytorch/pytorch/blob/main/SECURITY.md#untrusted-models for more details). In a future release, the default value for `weights_only` will be flipped to `True`. This limits the functions that could be executed during unpickling. Arbitrary objects will no longer be allowed to be loaded via this mode unless they are explicitly allowlisted by the user via `torch.serialization.add_safe_globals`. We recommend you start setting `weights_only=True` for any use case where you don't have full control of the loaded file. Please open an issue on GitHub for any issues related to this experimental feature.\n",
      "  EIIE_policy.load_state_dict(torch.load(model_filename))\n"
     ]
    },
    {
     "name": "stdout",
     "output_type": "stream",
     "text": [
      "=================================\n",
      "Initial portfolio value: 100000\n",
      "Final portfolio value: 511893.8125\n",
      "Final accumulative portfolio return: 5.118938125\n",
      "Maximum DrawDown: -0.27366263599497287\n",
      "Sharpe ratio: 1.1421709070466175\n",
      "=================================\n",
      "=================================\n",
      "Initial portfolio value: 100000\n",
      "Final portfolio value: 177075.59375\n",
      "Final accumulative portfolio return: 1.7707559375\n",
      "Maximum DrawDown: -0.1588427540821642\n",
      "Sharpe ratio: 1.5761255960555196\n",
      "=================================\n",
      "Training model with TIME_WINDOW=60, K_SIZE=5, CONV_MID=20, CONV_FINAL=5, LEARNING_RATE=0.02\n"
     ]
    },
    {
     "name": "stderr",
     "output_type": "stream",
     "text": [
      "  0%|          | 0/25 [00:00<?, ?it/s]"
     ]
    },
    {
     "name": "stdout",
     "output_type": "stream",
     "text": [
      "=================================\n",
      "Initial portfolio value: 100000\n",
      "Final portfolio value: 220955.65625\n",
      "Final accumulative portfolio return: 2.2095565625\n",
      "Maximum DrawDown: -0.330700096345265\n",
      "Sharpe ratio: 0.7662940503414679\n",
      "=================================\n"
     ]
    },
    {
     "name": "stderr",
     "output_type": "stream",
     "text": [
      "  4%|▍         | 1/25 [00:27<11:01, 27.55s/it]"
     ]
    },
    {
     "name": "stdout",
     "output_type": "stream",
     "text": [
      "=================================\n",
      "Initial portfolio value: 100000\n",
      "Final portfolio value: 228034.65625\n",
      "Final accumulative portfolio return: 2.2803465625\n",
      "Maximum DrawDown: -0.33453190846077185\n",
      "Sharpe ratio: 0.7702647808155456\n",
      "=================================\n"
     ]
    },
    {
     "name": "stderr",
     "output_type": "stream",
     "text": [
      "  8%|▊         | 2/25 [00:55<10:32, 27.50s/it]"
     ]
    },
    {
     "name": "stdout",
     "output_type": "stream",
     "text": [
      "=================================\n",
      "Initial portfolio value: 100000\n",
      "Final portfolio value: 229834.40625\n",
      "Final accumulative portfolio return: 2.2983440625\n",
      "Maximum DrawDown: -0.3374420676609122\n",
      "Sharpe ratio: 0.7705335112737679\n",
      "=================================\n"
     ]
    },
    {
     "name": "stderr",
     "output_type": "stream",
     "text": [
      " 12%|█▏        | 3/25 [01:22<10:02, 27.39s/it]"
     ]
    },
    {
     "name": "stdout",
     "output_type": "stream",
     "text": [
      "=================================\n",
      "Initial portfolio value: 100000\n",
      "Final portfolio value: 231220.015625\n",
      "Final accumulative portfolio return: 2.31220015625\n",
      "Maximum DrawDown: -0.339697060869546\n",
      "Sharpe ratio: 0.7706917144358736\n",
      "=================================\n"
     ]
    },
    {
     "name": "stderr",
     "output_type": "stream",
     "text": [
      " 16%|█▌        | 4/25 [01:49<09:35, 27.41s/it]"
     ]
    },
    {
     "name": "stdout",
     "output_type": "stream",
     "text": [
      "=================================\n",
      "Initial portfolio value: 100000\n",
      "Final portfolio value: 232309.984375\n",
      "Final accumulative portfolio return: 2.32309984375\n",
      "Maximum DrawDown: -0.34147545102540544\n",
      "Sharpe ratio: 0.7708023811389355\n",
      "=================================\n"
     ]
    },
    {
     "name": "stderr",
     "output_type": "stream",
     "text": [
      " 20%|██        | 5/25 [02:17<09:07, 27.38s/it]"
     ]
    },
    {
     "name": "stdout",
     "output_type": "stream",
     "text": [
      "=================================\n",
      "Initial portfolio value: 100000\n",
      "Final portfolio value: 233179.5625\n",
      "Final accumulative portfolio return: 2.331795625\n",
      "Maximum DrawDown: -0.34289806369965925\n",
      "Sharpe ratio: 0.7708778394945348\n",
      "=================================\n"
     ]
    },
    {
     "name": "stderr",
     "output_type": "stream",
     "text": [
      " 24%|██▍       | 6/25 [02:44<08:39, 27.35s/it]"
     ]
    },
    {
     "name": "stdout",
     "output_type": "stream",
     "text": [
      "=================================\n",
      "Initial portfolio value: 100000\n",
      "Final portfolio value: 233898.203125\n",
      "Final accumulative portfolio return: 2.33898203125\n",
      "Maximum DrawDown: -0.3440521984504832\n",
      "Sharpe ratio: 0.7709822834586936\n",
      "=================================\n"
     ]
    },
    {
     "name": "stderr",
     "output_type": "stream",
     "text": [
      " 28%|██▊       | 7/25 [03:11<08:12, 27.36s/it]"
     ]
    },
    {
     "name": "stdout",
     "output_type": "stream",
     "text": [
      "=================================\n",
      "Initial portfolio value: 100000\n",
      "Final portfolio value: 234476.515625\n",
      "Final accumulative portfolio return: 2.34476515625\n",
      "Maximum DrawDown: -0.34499932755849827\n",
      "Sharpe ratio: 0.7710255533710675\n",
      "=================================\n"
     ]
    },
    {
     "name": "stderr",
     "output_type": "stream",
     "text": [
      " 32%|███▏      | 8/25 [03:39<07:45, 27.37s/it]"
     ]
    },
    {
     "name": "stdout",
     "output_type": "stream",
     "text": [
      "=================================\n",
      "Initial portfolio value: 100000\n",
      "Final portfolio value: 234957.390625\n",
      "Final accumulative portfolio return: 2.34957390625\n",
      "Maximum DrawDown: -0.3457887202786397\n",
      "Sharpe ratio: 0.7710588745003155\n",
      "=================================\n"
     ]
    },
    {
     "name": "stderr",
     "output_type": "stream",
     "text": [
      " 36%|███▌      | 9/25 [04:06<07:17, 27.34s/it]"
     ]
    },
    {
     "name": "stdout",
     "output_type": "stream",
     "text": [
      "=================================\n",
      "Initial portfolio value: 100000\n",
      "Final portfolio value: 235362.421875\n",
      "Final accumulative portfolio return: 2.35362421875\n",
      "Maximum DrawDown: -0.3464554086927213\n",
      "Sharpe ratio: 0.7710856408154905\n",
      "=================================\n"
     ]
    },
    {
     "name": "stderr",
     "output_type": "stream",
     "text": [
      " 40%|████      | 10/25 [04:33<06:50, 27.34s/it]"
     ]
    },
    {
     "name": "stdout",
     "output_type": "stream",
     "text": [
      "=================================\n",
      "Initial portfolio value: 100000\n",
      "Final portfolio value: 235701.84375\n",
      "Final accumulative portfolio return: 2.3570184375\n",
      "Maximum DrawDown: -0.3470204762088237\n",
      "Sharpe ratio: 0.7710941497157965\n",
      "=================================\n"
     ]
    },
    {
     "name": "stderr",
     "output_type": "stream",
     "text": [
      " 44%|████▍     | 11/25 [05:01<06:22, 27.34s/it]"
     ]
    },
    {
     "name": "stdout",
     "output_type": "stream",
     "text": [
      "=================================\n",
      "Initial portfolio value: 100000\n",
      "Final portfolio value: 236002.6875\n",
      "Final accumulative portfolio return: 2.360026875\n",
      "Maximum DrawDown: -0.3475060623871933\n",
      "Sharpe ratio: 0.7711348496179063\n",
      "=================================\n"
     ]
    },
    {
     "name": "stderr",
     "output_type": "stream",
     "text": [
      " 48%|████▊     | 12/25 [05:28<05:55, 27.32s/it]"
     ]
    },
    {
     "name": "stdout",
     "output_type": "stream",
     "text": [
      "=================================\n",
      "Initial portfolio value: 100000\n",
      "Final portfolio value: 236251.359375\n",
      "Final accumulative portfolio return: 2.36251359375\n",
      "Maximum DrawDown: -0.34792757001880514\n",
      "Sharpe ratio: 0.7711294126513768\n",
      "=================================\n"
     ]
    },
    {
     "name": "stderr",
     "output_type": "stream",
     "text": [
      " 52%|█████▏    | 13/25 [05:56<05:29, 27.45s/it]"
     ]
    },
    {
     "name": "stdout",
     "output_type": "stream",
     "text": [
      "=================================\n",
      "Initial portfolio value: 100000\n",
      "Final portfolio value: 236476.5625\n",
      "Final accumulative portfolio return: 2.364765625\n",
      "Maximum DrawDown: -0.34829291983810107\n",
      "Sharpe ratio: 0.7711519214623908\n",
      "=================================\n"
     ]
    },
    {
     "name": "stderr",
     "output_type": "stream",
     "text": [
      " 56%|█████▌    | 14/25 [06:23<05:02, 27.49s/it]"
     ]
    },
    {
     "name": "stdout",
     "output_type": "stream",
     "text": [
      "=================================\n",
      "Initial portfolio value: 100000\n",
      "Final portfolio value: 236680.046875\n",
      "Final accumulative portfolio return: 2.36680046875\n",
      "Maximum DrawDown: -0.34861325634189744\n",
      "Sharpe ratio: 0.7711963501125986\n",
      "=================================\n"
     ]
    },
    {
     "name": "stderr",
     "output_type": "stream",
     "text": [
      " 60%|██████    | 15/25 [06:51<04:34, 27.49s/it]"
     ]
    },
    {
     "name": "stdout",
     "output_type": "stream",
     "text": [
      "=================================\n",
      "Initial portfolio value: 100000\n",
      "Final portfolio value: 236835.390625\n",
      "Final accumulative portfolio return: 2.36835390625\n",
      "Maximum DrawDown: -0.3488952923931018\n",
      "Sharpe ratio: 0.7711518234592046\n",
      "=================================\n"
     ]
    },
    {
     "name": "stderr",
     "output_type": "stream",
     "text": [
      " 64%|██████▍   | 16/25 [07:18<04:07, 27.51s/it]"
     ]
    },
    {
     "name": "stdout",
     "output_type": "stream",
     "text": [
      "=================================\n",
      "Initial portfolio value: 100000\n",
      "Final portfolio value: 236989.75\n",
      "Final accumulative portfolio return: 2.3698975\n",
      "Maximum DrawDown: -0.34914768474236835\n",
      "Sharpe ratio: 0.7711687760184579\n",
      "=================================\n"
     ]
    },
    {
     "name": "stderr",
     "output_type": "stream",
     "text": [
      " 68%|██████▊   | 17/25 [07:46<03:39, 27.49s/it]"
     ]
    },
    {
     "name": "stdout",
     "output_type": "stream",
     "text": [
      "=================================\n",
      "Initial portfolio value: 100000\n",
      "Final portfolio value: 237127.515625\n",
      "Final accumulative portfolio return: 2.37127515625\n",
      "Maximum DrawDown: -0.3493717190609609\n",
      "Sharpe ratio: 0.7711831749515209\n",
      "=================================\n"
     ]
    },
    {
     "name": "stderr",
     "output_type": "stream",
     "text": [
      " 72%|███████▏  | 18/25 [08:13<03:11, 27.43s/it]"
     ]
    },
    {
     "name": "stdout",
     "output_type": "stream",
     "text": [
      "=================================\n",
      "Initial portfolio value: 100000\n",
      "Final portfolio value: 237246.46875\n",
      "Final accumulative portfolio return: 2.3724646875\n",
      "Maximum DrawDown: -0.34957302026514214\n",
      "Sharpe ratio: 0.7711818488399287\n",
      "=================================\n"
     ]
    },
    {
     "name": "stderr",
     "output_type": "stream",
     "text": [
      " 76%|███████▌  | 19/25 [08:40<02:44, 27.47s/it]"
     ]
    },
    {
     "name": "stdout",
     "output_type": "stream",
     "text": [
      "=================================\n",
      "Initial portfolio value: 100000\n",
      "Final portfolio value: 237359.3125\n",
      "Final accumulative portfolio return: 2.373593125\n",
      "Maximum DrawDown: -0.3497532192423297\n",
      "Sharpe ratio: 0.7712002725556388\n",
      "=================================\n"
     ]
    },
    {
     "name": "stderr",
     "output_type": "stream",
     "text": [
      " 80%|████████  | 20/25 [09:08<02:17, 27.44s/it]"
     ]
    },
    {
     "name": "stdout",
     "output_type": "stream",
     "text": [
      "=================================\n",
      "Initial portfolio value: 100000\n",
      "Final portfolio value: 237453.84375\n",
      "Final accumulative portfolio return: 2.3745384375\n",
      "Maximum DrawDown: -0.34991749461518873\n",
      "Sharpe ratio: 0.771190504048558\n",
      "=================================\n"
     ]
    },
    {
     "name": "stderr",
     "output_type": "stream",
     "text": [
      " 84%|████████▍ | 21/25 [09:35<01:49, 27.42s/it]"
     ]
    },
    {
     "name": "stdout",
     "output_type": "stream",
     "text": [
      "=================================\n",
      "Initial portfolio value: 100000\n",
      "Final portfolio value: 237553.671875\n",
      "Final accumulative portfolio return: 2.37553671875\n",
      "Maximum DrawDown: -0.35006442919008895\n",
      "Sharpe ratio: 0.7712310852635186\n",
      "=================================\n"
     ]
    },
    {
     "name": "stderr",
     "output_type": "stream",
     "text": [
      " 88%|████████▊ | 22/25 [10:02<01:22, 27.37s/it]"
     ]
    },
    {
     "name": "stdout",
     "output_type": "stream",
     "text": [
      "=================================\n",
      "Initial portfolio value: 100000\n",
      "Final portfolio value: 237619.96875\n",
      "Final accumulative portfolio return: 2.3761996875\n",
      "Maximum DrawDown: -0.3502004000829657\n",
      "Sharpe ratio: 0.7711866234158942\n",
      "=================================\n"
     ]
    },
    {
     "name": "stderr",
     "output_type": "stream",
     "text": [
      " 92%|█████████▏| 23/25 [10:30<00:54, 27.41s/it]"
     ]
    },
    {
     "name": "stdout",
     "output_type": "stream",
     "text": [
      "=================================\n",
      "Initial portfolio value: 100000\n",
      "Final portfolio value: 237703.109375\n",
      "Final accumulative portfolio return: 2.37703109375\n",
      "Maximum DrawDown: -0.35032286941567325\n",
      "Sharpe ratio: 0.7712191860319697\n",
      "=================================\n"
     ]
    },
    {
     "name": "stderr",
     "output_type": "stream",
     "text": [
      " 96%|█████████▌| 24/25 [10:57<00:27, 27.41s/it]"
     ]
    },
    {
     "name": "stdout",
     "output_type": "stream",
     "text": [
      "=================================\n",
      "Initial portfolio value: 100000\n",
      "Final portfolio value: 237774.765625\n",
      "Final accumulative portfolio return: 2.37774765625\n",
      "Maximum DrawDown: -0.3504355776988862\n",
      "Sharpe ratio: 0.7712348098038456\n",
      "=================================\n"
     ]
    },
    {
     "name": "stderr",
     "output_type": "stream",
     "text": [
      "100%|██████████| 25/25 [11:25<00:00, 27.41s/it]\n",
      "C:\\Users\\xutia\\AppData\\Local\\Temp\\ipykernel_36848\\1259870935.py:43: FutureWarning: You are using `torch.load` with `weights_only=False` (the current default value), which uses the default pickle module implicitly. It is possible to construct malicious pickle data which will execute arbitrary code during unpickling (See https://github.com/pytorch/pytorch/blob/main/SECURITY.md#untrusted-models for more details). In a future release, the default value for `weights_only` will be flipped to `True`. This limits the functions that could be executed during unpickling. Arbitrary objects will no longer be allowed to be loaded via this mode unless they are explicitly allowlisted by the user via `torch.serialization.add_safe_globals`. We recommend you start setting `weights_only=True` for any use case where you don't have full control of the loaded file. Please open an issue on GitHub for any issues related to this experimental feature.\n",
      "  EIIE_policy.load_state_dict(torch.load(model_filename))\n"
     ]
    },
    {
     "name": "stdout",
     "output_type": "stream",
     "text": [
      "=================================\n",
      "Initial portfolio value: 100000\n",
      "Final portfolio value: 238000.1875\n",
      "Final accumulative portfolio return: 2.380001875\n",
      "Maximum DrawDown: -0.35114740993177895\n",
      "Sharpe ratio: 0.7709060316607115\n",
      "=================================\n",
      "=================================\n",
      "Initial portfolio value: 100000\n",
      "Final portfolio value: 126192.5859375\n",
      "Final accumulative portfolio return: 1.261925859375\n",
      "Maximum DrawDown: -0.15856005930954253\n",
      "Sharpe ratio: 0.8404467951933386\n",
      "=================================\n",
      "Training model with TIME_WINDOW=60, K_SIZE=5, CONV_MID=20, CONV_FINAL=10, LEARNING_RATE=0.02\n"
     ]
    },
    {
     "name": "stderr",
     "output_type": "stream",
     "text": [
      "  0%|          | 0/25 [00:00<?, ?it/s]"
     ]
    },
    {
     "name": "stdout",
     "output_type": "stream",
     "text": [
      "=================================\n",
      "Initial portfolio value: 100000\n",
      "Final portfolio value: 353118.3125\n",
      "Final accumulative portfolio return: 3.531183125\n",
      "Maximum DrawDown: -0.33976820299119503\n",
      "Sharpe ratio: 0.9172653741478927\n",
      "=================================\n"
     ]
    },
    {
     "name": "stderr",
     "output_type": "stream",
     "text": [
      "  4%|▍         | 1/25 [00:29<11:36, 29.03s/it]"
     ]
    },
    {
     "name": "stdout",
     "output_type": "stream",
     "text": [
      "=================================\n",
      "Initial portfolio value: 100000\n",
      "Final portfolio value: 637347.8125\n",
      "Final accumulative portfolio return: 6.373478125\n",
      "Maximum DrawDown: -0.3850129897890031\n",
      "Sharpe ratio: 1.1624559011625566\n",
      "=================================\n"
     ]
    },
    {
     "name": "stderr",
     "output_type": "stream",
     "text": [
      "  8%|▊         | 2/25 [00:58<11:10, 29.16s/it]"
     ]
    },
    {
     "name": "stdout",
     "output_type": "stream",
     "text": [
      "=================================\n",
      "Initial portfolio value: 100000\n",
      "Final portfolio value: 865165.25\n",
      "Final accumulative portfolio return: 8.6516525\n",
      "Maximum DrawDown: -0.3812790241576971\n",
      "Sharpe ratio: 1.3018983686181276\n",
      "=================================\n"
     ]
    },
    {
     "name": "stderr",
     "output_type": "stream",
     "text": [
      " 12%|█▏        | 3/25 [01:27<10:38, 29.04s/it]"
     ]
    },
    {
     "name": "stdout",
     "output_type": "stream",
     "text": [
      "=================================\n",
      "Initial portfolio value: 100000\n",
      "Final portfolio value: 634502.125\n",
      "Final accumulative portfolio return: 6.34502125\n",
      "Maximum DrawDown: -0.3851588674353117\n",
      "Sharpe ratio: 1.1212972885656747\n",
      "=================================\n"
     ]
    },
    {
     "name": "stderr",
     "output_type": "stream",
     "text": [
      " 16%|█▌        | 4/25 [01:57<10:16, 29.37s/it]"
     ]
    },
    {
     "name": "stdout",
     "output_type": "stream",
     "text": [
      "=================================\n",
      "Initial portfolio value: 100000\n",
      "Final portfolio value: 981133.25\n",
      "Final accumulative portfolio return: 9.8113325\n",
      "Maximum DrawDown: -0.3851587440239641\n",
      "Sharpe ratio: 1.3459149383351536\n",
      "=================================\n"
     ]
    },
    {
     "name": "stderr",
     "output_type": "stream",
     "text": [
      " 20%|██        | 5/25 [02:25<09:41, 29.06s/it]"
     ]
    },
    {
     "name": "stdout",
     "output_type": "stream",
     "text": [
      "=================================\n",
      "Initial portfolio value: 100000\n",
      "Final portfolio value: 935389.5625\n",
      "Final accumulative portfolio return: 9.353895625\n",
      "Maximum DrawDown: -0.38515891643039313\n",
      "Sharpe ratio: 1.3168910127636144\n",
      "=================================\n"
     ]
    },
    {
     "name": "stderr",
     "output_type": "stream",
     "text": [
      " 24%|██▍       | 6/25 [02:52<09:01, 28.48s/it]"
     ]
    },
    {
     "name": "stdout",
     "output_type": "stream",
     "text": [
      "=================================\n",
      "Initial portfolio value: 100000\n",
      "Final portfolio value: 971965.9375\n",
      "Final accumulative portfolio return: 9.719659375\n",
      "Maximum DrawDown: -0.38515890409096165\n",
      "Sharpe ratio: 1.338815815580532\n",
      "=================================\n"
     ]
    },
    {
     "name": "stderr",
     "output_type": "stream",
     "text": [
      " 28%|██▊       | 7/25 [03:20<08:27, 28.18s/it]"
     ]
    },
    {
     "name": "stdout",
     "output_type": "stream",
     "text": [
      "=================================\n",
      "Initial portfolio value: 100000\n",
      "Final portfolio value: 1034626.3125\n",
      "Final accumulative portfolio return: 10.346263125\n",
      "Maximum DrawDown: -0.38515891605866737\n",
      "Sharpe ratio: 1.3702469843957634\n",
      "=================================\n"
     ]
    },
    {
     "name": "stderr",
     "output_type": "stream",
     "text": [
      " 32%|███▏      | 8/25 [03:47<07:54, 27.92s/it]"
     ]
    },
    {
     "name": "stdout",
     "output_type": "stream",
     "text": [
      "=================================\n",
      "Initial portfolio value: 100000\n",
      "Final portfolio value: 1078810.25\n",
      "Final accumulative portfolio return: 10.7881025\n",
      "Maximum DrawDown: -0.38515896394295346\n",
      "Sharpe ratio: 1.3935015424281585\n",
      "=================================\n"
     ]
    },
    {
     "name": "stderr",
     "output_type": "stream",
     "text": [
      " 36%|███▌      | 9/25 [04:15<07:24, 27.77s/it]"
     ]
    },
    {
     "name": "stdout",
     "output_type": "stream",
     "text": [
      "=================================\n",
      "Initial portfolio value: 100000\n",
      "Final portfolio value: 1101923.25\n",
      "Final accumulative portfolio return: 11.0192325\n",
      "Maximum DrawDown: -0.38515891618148046\n",
      "Sharpe ratio: 1.4024305712404812\n",
      "=================================\n"
     ]
    },
    {
     "name": "stderr",
     "output_type": "stream",
     "text": [
      " 40%|████      | 10/25 [04:43<06:59, 27.95s/it]"
     ]
    },
    {
     "name": "stdout",
     "output_type": "stream",
     "text": [
      "=================================\n",
      "Initial portfolio value: 100000\n",
      "Final portfolio value: 976006.3125\n",
      "Final accumulative portfolio return: 9.760063125\n",
      "Maximum DrawDown: -0.38515877467083304\n",
      "Sharpe ratio: 1.316082650128355\n",
      "=================================\n"
     ]
    },
    {
     "name": "stderr",
     "output_type": "stream",
     "text": [
      " 44%|████▍     | 11/25 [05:10<06:28, 27.76s/it]"
     ]
    },
    {
     "name": "stdout",
     "output_type": "stream",
     "text": [
      "=================================\n",
      "Initial portfolio value: 100000\n",
      "Final portfolio value: 779162.8125\n",
      "Final accumulative portfolio return: 7.791628125\n",
      "Maximum DrawDown: -0.38515884492151176\n",
      "Sharpe ratio: 1.2031154990051118\n",
      "=================================\n"
     ]
    },
    {
     "name": "stderr",
     "output_type": "stream",
     "text": [
      " 48%|████▊     | 12/25 [05:38<05:58, 27.61s/it]"
     ]
    },
    {
     "name": "stdout",
     "output_type": "stream",
     "text": [
      "=================================\n",
      "Initial portfolio value: 100000\n",
      "Final portfolio value: 1327670.875\n",
      "Final accumulative portfolio return: 13.27670875\n",
      "Maximum DrawDown: -0.3851591119635023\n",
      "Sharpe ratio: 1.4943781743137614\n",
      "=================================\n"
     ]
    },
    {
     "name": "stderr",
     "output_type": "stream",
     "text": [
      " 52%|█████▏    | 13/25 [06:05<05:30, 27.56s/it]"
     ]
    },
    {
     "name": "stdout",
     "output_type": "stream",
     "text": [
      "=================================\n",
      "Initial portfolio value: 100000\n",
      "Final portfolio value: 774940.125\n",
      "Final accumulative portfolio return: 7.74940125\n",
      "Maximum DrawDown: -0.38515899904973794\n",
      "Sharpe ratio: 1.2001575285522843\n",
      "=================================\n"
     ]
    },
    {
     "name": "stderr",
     "output_type": "stream",
     "text": [
      " 56%|█████▌    | 14/25 [06:33<05:02, 27.53s/it]"
     ]
    },
    {
     "name": "stdout",
     "output_type": "stream",
     "text": [
      "=================================\n",
      "Initial portfolio value: 100000\n",
      "Final portfolio value: 789257.4375\n",
      "Final accumulative portfolio return: 7.892574375\n",
      "Maximum DrawDown: -0.3851589954788024\n",
      "Sharpe ratio: 1.2122486456927044\n",
      "=================================\n"
     ]
    },
    {
     "name": "stderr",
     "output_type": "stream",
     "text": [
      " 60%|██████    | 15/25 [07:00<04:35, 27.52s/it]"
     ]
    },
    {
     "name": "stdout",
     "output_type": "stream",
     "text": [
      "=================================\n",
      "Initial portfolio value: 100000\n",
      "Final portfolio value: 768635.375\n",
      "Final accumulative portfolio return: 7.68635375\n",
      "Maximum DrawDown: -0.38515878387003444\n",
      "Sharpe ratio: 1.2112808292703208\n",
      "=================================\n"
     ]
    },
    {
     "name": "stderr",
     "output_type": "stream",
     "text": [
      " 64%|██████▍   | 16/25 [07:28<04:07, 27.52s/it]"
     ]
    },
    {
     "name": "stdout",
     "output_type": "stream",
     "text": [
      "=================================\n",
      "Initial portfolio value: 100000\n",
      "Final portfolio value: 278473.59375\n",
      "Final accumulative portfolio return: 2.7847359375\n",
      "Maximum DrawDown: -0.5090999473013671\n",
      "Sharpe ratio: 0.6602974902553377\n",
      "=================================\n"
     ]
    },
    {
     "name": "stderr",
     "output_type": "stream",
     "text": [
      " 68%|██████▊   | 17/25 [07:55<03:40, 27.51s/it]"
     ]
    },
    {
     "name": "stdout",
     "output_type": "stream",
     "text": [
      "=================================\n",
      "Initial portfolio value: 100000\n",
      "Final portfolio value: 303917.9375\n",
      "Final accumulative portfolio return: 3.039179375\n",
      "Maximum DrawDown: -0.4770534877787599\n",
      "Sharpe ratio: 0.697497098020987\n",
      "=================================\n"
     ]
    },
    {
     "name": "stderr",
     "output_type": "stream",
     "text": [
      " 72%|███████▏  | 18/25 [08:23<03:12, 27.52s/it]"
     ]
    },
    {
     "name": "stdout",
     "output_type": "stream",
     "text": [
      "=================================\n",
      "Initial portfolio value: 100000\n",
      "Final portfolio value: 310688.75\n",
      "Final accumulative portfolio return: 3.1068875\n",
      "Maximum DrawDown: -0.4562098083834666\n",
      "Sharpe ratio: 0.7119197618861672\n",
      "=================================\n"
     ]
    },
    {
     "name": "stderr",
     "output_type": "stream",
     "text": [
      " 76%|███████▌  | 19/25 [08:50<02:45, 27.57s/it]"
     ]
    },
    {
     "name": "stdout",
     "output_type": "stream",
     "text": [
      "=================================\n",
      "Initial portfolio value: 100000\n",
      "Final portfolio value: 375981.3125\n",
      "Final accumulative portfolio return: 3.759813125\n",
      "Maximum DrawDown: -0.4836531633438724\n",
      "Sharpe ratio: 0.822608813873762\n",
      "=================================\n"
     ]
    },
    {
     "name": "stderr",
     "output_type": "stream",
     "text": [
      " 80%|████████  | 20/25 [09:18<02:17, 27.60s/it]"
     ]
    },
    {
     "name": "stdout",
     "output_type": "stream",
     "text": [
      "=================================\n",
      "Initial portfolio value: 100000\n",
      "Final portfolio value: 395287.0625\n",
      "Final accumulative portfolio return: 3.952870625\n",
      "Maximum DrawDown: -0.4562093320181859\n",
      "Sharpe ratio: 0.8220540847405167\n",
      "=================================\n"
     ]
    },
    {
     "name": "stderr",
     "output_type": "stream",
     "text": [
      " 84%|████████▍ | 21/25 [09:46<01:50, 27.64s/it]"
     ]
    },
    {
     "name": "stdout",
     "output_type": "stream",
     "text": [
      "=================================\n",
      "Initial portfolio value: 100000\n",
      "Final portfolio value: 588869.625\n",
      "Final accumulative portfolio return: 5.88869625\n",
      "Maximum DrawDown: -0.39546233086463767\n",
      "Sharpe ratio: 1.0247769536865536\n",
      "=================================\n"
     ]
    },
    {
     "name": "stderr",
     "output_type": "stream",
     "text": [
      " 88%|████████▊ | 22/25 [10:14<01:22, 27.66s/it]"
     ]
    },
    {
     "name": "stdout",
     "output_type": "stream",
     "text": [
      "=================================\n",
      "Initial portfolio value: 100000\n",
      "Final portfolio value: 453048.25\n",
      "Final accumulative portfolio return: 4.5304825\n",
      "Maximum DrawDown: -0.38818305287392296\n",
      "Sharpe ratio: 0.8832761293616688\n",
      "=================================\n"
     ]
    },
    {
     "name": "stderr",
     "output_type": "stream",
     "text": [
      " 92%|█████████▏| 23/25 [10:41<00:55, 27.58s/it]"
     ]
    },
    {
     "name": "stdout",
     "output_type": "stream",
     "text": [
      "=================================\n",
      "Initial portfolio value: 100000\n",
      "Final portfolio value: 547746.0625\n",
      "Final accumulative portfolio return: 5.477460625\n",
      "Maximum DrawDown: -0.3851586223011212\n",
      "Sharpe ratio: 0.980587662380483\n",
      "=================================\n"
     ]
    },
    {
     "name": "stderr",
     "output_type": "stream",
     "text": [
      " 96%|█████████▌| 24/25 [11:08<00:27, 27.54s/it]"
     ]
    },
    {
     "name": "stdout",
     "output_type": "stream",
     "text": [
      "=================================\n",
      "Initial portfolio value: 100000\n",
      "Final portfolio value: 529450.375\n",
      "Final accumulative portfolio return: 5.29450375\n",
      "Maximum DrawDown: -0.38515892399703455\n",
      "Sharpe ratio: 0.964997040257235\n",
      "=================================\n"
     ]
    },
    {
     "name": "stderr",
     "output_type": "stream",
     "text": [
      "100%|██████████| 25/25 [11:36<00:00, 27.85s/it]\n",
      "C:\\Users\\xutia\\AppData\\Local\\Temp\\ipykernel_36848\\1259870935.py:43: FutureWarning: You are using `torch.load` with `weights_only=False` (the current default value), which uses the default pickle module implicitly. It is possible to construct malicious pickle data which will execute arbitrary code during unpickling (See https://github.com/pytorch/pytorch/blob/main/SECURITY.md#untrusted-models for more details). In a future release, the default value for `weights_only` will be flipped to `True`. This limits the functions that could be executed during unpickling. Arbitrary objects will no longer be allowed to be loaded via this mode unless they are explicitly allowlisted by the user via `torch.serialization.add_safe_globals`. We recommend you start setting `weights_only=True` for any use case where you don't have full control of the loaded file. Please open an issue on GitHub for any issues related to this experimental feature.\n",
      "  EIIE_policy.load_state_dict(torch.load(model_filename))\n"
     ]
    },
    {
     "name": "stdout",
     "output_type": "stream",
     "text": [
      "=================================\n",
      "Initial portfolio value: 100000\n",
      "Final portfolio value: 429610.78125\n",
      "Final accumulative portfolio return: 4.2961078125\n",
      "Maximum DrawDown: -0.39600030938935904\n",
      "Sharpe ratio: 0.8851192781986373\n",
      "=================================\n",
      "=================================\n",
      "Initial portfolio value: 100000\n",
      "Final portfolio value: 188461.703125\n",
      "Final accumulative portfolio return: 1.88461703125\n",
      "Maximum DrawDown: -0.17216032591450792\n",
      "Sharpe ratio: 1.3668091603554315\n",
      "=================================\n",
      "Training model with TIME_WINDOW=60, K_SIZE=5, CONV_MID=20, CONV_FINAL=20, LEARNING_RATE=0.02\n"
     ]
    },
    {
     "name": "stderr",
     "output_type": "stream",
     "text": [
      "  0%|          | 0/25 [00:00<?, ?it/s]"
     ]
    },
    {
     "name": "stdout",
     "output_type": "stream",
     "text": [
      "=================================\n",
      "Initial portfolio value: 100000\n",
      "Final portfolio value: 355816.46875\n",
      "Final accumulative portfolio return: 3.5581646875\n",
      "Maximum DrawDown: -0.3521653437190079\n",
      "Sharpe ratio: 0.9095416815317707\n",
      "=================================\n"
     ]
    },
    {
     "name": "stderr",
     "output_type": "stream",
     "text": [
      "  4%|▍         | 1/25 [00:27<11:00, 27.52s/it]"
     ]
    },
    {
     "name": "stdout",
     "output_type": "stream",
     "text": [
      "=================================\n",
      "Initial portfolio value: 100000\n",
      "Final portfolio value: 718251.875\n",
      "Final accumulative portfolio return: 7.18251875\n",
      "Maximum DrawDown: -0.3851581196104997\n",
      "Sharpe ratio: 1.1762998747014008\n",
      "=================================\n"
     ]
    },
    {
     "name": "stderr",
     "output_type": "stream",
     "text": [
      "  8%|▊         | 2/25 [00:54<10:31, 27.44s/it]"
     ]
    },
    {
     "name": "stdout",
     "output_type": "stream",
     "text": [
      "=================================\n",
      "Initial portfolio value: 100000\n",
      "Final portfolio value: 862638.6875\n",
      "Final accumulative portfolio return: 8.626386875\n",
      "Maximum DrawDown: -0.38515631563192065\n",
      "Sharpe ratio: 1.260394378203559\n",
      "=================================\n"
     ]
    },
    {
     "name": "stderr",
     "output_type": "stream",
     "text": [
      " 12%|█▏        | 3/25 [01:22<10:05, 27.51s/it]"
     ]
    },
    {
     "name": "stdout",
     "output_type": "stream",
     "text": [
      "=================================\n",
      "Initial portfolio value: 100000\n",
      "Final portfolio value: 1070565.875\n",
      "Final accumulative portfolio return: 10.70565875\n",
      "Maximum DrawDown: -0.3851587545686116\n",
      "Sharpe ratio: 1.3959221605693484\n",
      "=================================\n"
     ]
    },
    {
     "name": "stderr",
     "output_type": "stream",
     "text": [
      " 16%|█▌        | 4/25 [01:49<09:37, 27.50s/it]"
     ]
    },
    {
     "name": "stdout",
     "output_type": "stream",
     "text": [
      "=================================\n",
      "Initial portfolio value: 100000\n",
      "Final portfolio value: 503188.71875\n",
      "Final accumulative portfolio return: 5.0318871875\n",
      "Maximum DrawDown: -0.3851587122895287\n",
      "Sharpe ratio: 0.9547616933400813\n",
      "=================================\n"
     ]
    },
    {
     "name": "stderr",
     "output_type": "stream",
     "text": [
      " 20%|██        | 5/25 [02:18<09:15, 27.75s/it]"
     ]
    },
    {
     "name": "stdout",
     "output_type": "stream",
     "text": [
      "=================================\n",
      "Initial portfolio value: 100000\n",
      "Final portfolio value: 324968.0625\n",
      "Final accumulative portfolio return: 3.249680625\n",
      "Maximum DrawDown: -0.5375750280282596\n",
      "Sharpe ratio: 0.707827641268534\n",
      "=================================\n"
     ]
    },
    {
     "name": "stderr",
     "output_type": "stream",
     "text": [
      " 24%|██▍       | 6/25 [02:45<08:46, 27.71s/it]"
     ]
    },
    {
     "name": "stdout",
     "output_type": "stream",
     "text": [
      "=================================\n",
      "Initial portfolio value: 100000\n",
      "Final portfolio value: 564511.0\n",
      "Final accumulative portfolio return: 5.64511\n",
      "Maximum DrawDown: -0.5437231114048011\n",
      "Sharpe ratio: 0.9399821382272785\n",
      "=================================\n"
     ]
    },
    {
     "name": "stderr",
     "output_type": "stream",
     "text": [
      " 28%|██▊       | 7/25 [03:13<08:18, 27.67s/it]"
     ]
    },
    {
     "name": "stdout",
     "output_type": "stream",
     "text": [
      "=================================\n",
      "Initial portfolio value: 100000\n",
      "Final portfolio value: 664338.3125\n",
      "Final accumulative portfolio return: 6.643383125\n",
      "Maximum DrawDown: -0.3851548097577575\n",
      "Sharpe ratio: 1.0820417876388357\n",
      "=================================\n"
     ]
    },
    {
     "name": "stderr",
     "output_type": "stream",
     "text": [
      " 32%|███▏      | 8/25 [03:41<07:50, 27.65s/it]"
     ]
    },
    {
     "name": "stdout",
     "output_type": "stream",
     "text": [
      "=================================\n",
      "Initial portfolio value: 100000\n",
      "Final portfolio value: 785996.0625\n",
      "Final accumulative portfolio return: 7.859960625\n",
      "Maximum DrawDown: -0.3483319516336485\n",
      "Sharpe ratio: 1.1699519197665413\n",
      "=================================\n"
     ]
    },
    {
     "name": "stderr",
     "output_type": "stream",
     "text": [
      " 36%|███▌      | 9/25 [04:08<07:22, 27.65s/it]"
     ]
    },
    {
     "name": "stdout",
     "output_type": "stream",
     "text": [
      "=================================\n",
      "Initial portfolio value: 100000\n",
      "Final portfolio value: 645365.375\n",
      "Final accumulative portfolio return: 6.45365375\n",
      "Maximum DrawDown: -0.307901382648081\n",
      "Sharpe ratio: 1.1115383243124997\n",
      "=================================\n"
     ]
    },
    {
     "name": "stderr",
     "output_type": "stream",
     "text": [
      " 40%|████      | 10/25 [04:36<06:54, 27.62s/it]"
     ]
    },
    {
     "name": "stdout",
     "output_type": "stream",
     "text": [
      "=================================\n",
      "Initial portfolio value: 100000\n",
      "Final portfolio value: 576101.75\n",
      "Final accumulative portfolio return: 5.7610175\n",
      "Maximum DrawDown: -0.3079014911574802\n",
      "Sharpe ratio: 1.0553900378781735\n",
      "=================================\n"
     ]
    },
    {
     "name": "stderr",
     "output_type": "stream",
     "text": [
      " 44%|████▍     | 11/25 [05:03<06:26, 27.61s/it]"
     ]
    },
    {
     "name": "stdout",
     "output_type": "stream",
     "text": [
      "=================================\n",
      "Initial portfolio value: 100000\n",
      "Final portfolio value: 642162.6875\n",
      "Final accumulative portfolio return: 6.421626875\n",
      "Maximum DrawDown: -0.3090040556339815\n",
      "Sharpe ratio: 1.1160528746356906\n",
      "=================================\n"
     ]
    },
    {
     "name": "stderr",
     "output_type": "stream",
     "text": [
      " 48%|████▊     | 12/25 [05:36<06:17, 29.05s/it]"
     ]
    },
    {
     "name": "stdout",
     "output_type": "stream",
     "text": [
      "=================================\n",
      "Initial portfolio value: 100000\n",
      "Final portfolio value: 664908.875\n",
      "Final accumulative portfolio return: 6.64908875\n",
      "Maximum DrawDown: -0.280392982814341\n",
      "Sharpe ratio: 1.1394429870924356\n",
      "=================================\n"
     ]
    },
    {
     "name": "stderr",
     "output_type": "stream",
     "text": [
      " 52%|█████▏    | 13/25 [06:03<05:43, 28.65s/it]"
     ]
    },
    {
     "name": "stdout",
     "output_type": "stream",
     "text": [
      "=================================\n",
      "Initial portfolio value: 100000\n",
      "Final portfolio value: 680344.3125\n",
      "Final accumulative portfolio return: 6.803443125\n",
      "Maximum DrawDown: -0.28039298495187714\n",
      "Sharpe ratio: 1.1511984680425955\n",
      "=================================\n"
     ]
    },
    {
     "name": "stderr",
     "output_type": "stream",
     "text": [
      " 56%|█████▌    | 14/25 [06:31<05:12, 28.37s/it]"
     ]
    },
    {
     "name": "stdout",
     "output_type": "stream",
     "text": [
      "=================================\n",
      "Initial portfolio value: 100000\n",
      "Final portfolio value: 575114.1875\n",
      "Final accumulative portfolio return: 5.751141875\n",
      "Maximum DrawDown: -0.28039292202279464\n",
      "Sharpe ratio: 1.047563453107034\n",
      "=================================\n"
     ]
    },
    {
     "name": "stderr",
     "output_type": "stream",
     "text": [
      " 60%|██████    | 15/25 [06:59<04:41, 28.15s/it]"
     ]
    },
    {
     "name": "stdout",
     "output_type": "stream",
     "text": [
      "=================================\n",
      "Initial portfolio value: 100000\n",
      "Final portfolio value: 665727.0625\n",
      "Final accumulative portfolio return: 6.657270625\n",
      "Maximum DrawDown: -0.2803928872075029\n",
      "Sharpe ratio: 1.1181289460205177\n",
      "=================================\n"
     ]
    },
    {
     "name": "stderr",
     "output_type": "stream",
     "text": [
      " 64%|██████▍   | 16/25 [07:26<04:11, 27.97s/it]"
     ]
    },
    {
     "name": "stdout",
     "output_type": "stream",
     "text": [
      "=================================\n",
      "Initial portfolio value: 100000\n",
      "Final portfolio value: 742513.625\n",
      "Final accumulative portfolio return: 7.42513625\n",
      "Maximum DrawDown: -0.2803930018033238\n",
      "Sharpe ratio: 1.1573246356466556\n",
      "=================================\n"
     ]
    },
    {
     "name": "stderr",
     "output_type": "stream",
     "text": [
      " 68%|██████▊   | 17/25 [07:54<03:42, 27.84s/it]"
     ]
    },
    {
     "name": "stdout",
     "output_type": "stream",
     "text": [
      "=================================\n",
      "Initial portfolio value: 100000\n",
      "Final portfolio value: 629078.3125\n",
      "Final accumulative portfolio return: 6.290783125\n",
      "Maximum DrawDown: -0.2792359113821157\n",
      "Sharpe ratio: 1.054281354427347\n",
      "=================================\n"
     ]
    },
    {
     "name": "stderr",
     "output_type": "stream",
     "text": [
      " 72%|███████▏  | 18/25 [08:21<03:14, 27.74s/it]"
     ]
    },
    {
     "name": "stdout",
     "output_type": "stream",
     "text": [
      "=================================\n",
      "Initial portfolio value: 100000\n",
      "Final portfolio value: 825046.9375\n",
      "Final accumulative portfolio return: 8.250469375\n",
      "Maximum DrawDown: -0.28039328941701547\n",
      "Sharpe ratio: 1.2052824823755157\n",
      "=================================\n"
     ]
    },
    {
     "name": "stderr",
     "output_type": "stream",
     "text": [
      " 76%|███████▌  | 19/25 [08:49<02:46, 27.70s/it]"
     ]
    },
    {
     "name": "stdout",
     "output_type": "stream",
     "text": [
      "=================================\n",
      "Initial portfolio value: 100000\n",
      "Final portfolio value: 861703.0\n",
      "Final accumulative portfolio return: 8.61703\n",
      "Maximum DrawDown: -0.2803928436301866\n",
      "Sharpe ratio: 1.2286667442419283\n",
      "=================================\n"
     ]
    },
    {
     "name": "stderr",
     "output_type": "stream",
     "text": [
      " 80%|████████  | 20/25 [09:17<02:18, 27.68s/it]"
     ]
    },
    {
     "name": "stdout",
     "output_type": "stream",
     "text": [
      "=================================\n",
      "Initial portfolio value: 100000\n",
      "Final portfolio value: 529363.1875\n",
      "Final accumulative portfolio return: 5.293631875\n",
      "Maximum DrawDown: -0.4646004178536266\n",
      "Sharpe ratio: 0.9604343885669998\n",
      "=================================\n"
     ]
    },
    {
     "name": "stderr",
     "output_type": "stream",
     "text": [
      " 84%|████████▍ | 21/25 [09:44<01:50, 27.69s/it]"
     ]
    },
    {
     "name": "stdout",
     "output_type": "stream",
     "text": [
      "=================================\n",
      "Initial portfolio value: 100000\n",
      "Final portfolio value: 455841.8125\n",
      "Final accumulative portfolio return: 4.558418125\n",
      "Maximum DrawDown: -0.4690210859340985\n",
      "Sharpe ratio: 0.9019634800292292\n",
      "=================================\n"
     ]
    },
    {
     "name": "stderr",
     "output_type": "stream",
     "text": [
      " 88%|████████▊ | 22/25 [10:12<01:22, 27.60s/it]"
     ]
    },
    {
     "name": "stdout",
     "output_type": "stream",
     "text": [
      "=================================\n",
      "Initial portfolio value: 100000\n",
      "Final portfolio value: 494707.6875\n",
      "Final accumulative portfolio return: 4.947076875\n",
      "Maximum DrawDown: -0.45620980439874037\n",
      "Sharpe ratio: 0.9260571646713718\n",
      "=================================\n"
     ]
    },
    {
     "name": "stderr",
     "output_type": "stream",
     "text": [
      " 92%|█████████▏| 23/25 [10:39<00:55, 27.62s/it]"
     ]
    },
    {
     "name": "stdout",
     "output_type": "stream",
     "text": [
      "=================================\n",
      "Initial portfolio value: 100000\n",
      "Final portfolio value: 653539.8125\n",
      "Final accumulative portfolio return: 6.535398125\n",
      "Maximum DrawDown: -0.4560990509570647\n",
      "Sharpe ratio: 1.0586693520220243\n",
      "=================================\n"
     ]
    },
    {
     "name": "stderr",
     "output_type": "stream",
     "text": [
      " 96%|█████████▌| 24/25 [11:07<00:27, 27.62s/it]"
     ]
    },
    {
     "name": "stdout",
     "output_type": "stream",
     "text": [
      "=================================\n",
      "Initial portfolio value: 100000\n",
      "Final portfolio value: 702046.6875\n",
      "Final accumulative portfolio return: 7.020466875\n",
      "Maximum DrawDown: -0.44789773427946766\n",
      "Sharpe ratio: 1.0912489464202453\n",
      "=================================\n"
     ]
    },
    {
     "name": "stderr",
     "output_type": "stream",
     "text": [
      "100%|██████████| 25/25 [11:35<00:00, 27.80s/it]\n",
      "C:\\Users\\xutia\\AppData\\Local\\Temp\\ipykernel_36848\\1259870935.py:43: FutureWarning: You are using `torch.load` with `weights_only=False` (the current default value), which uses the default pickle module implicitly. It is possible to construct malicious pickle data which will execute arbitrary code during unpickling (See https://github.com/pytorch/pytorch/blob/main/SECURITY.md#untrusted-models for more details). In a future release, the default value for `weights_only` will be flipped to `True`. This limits the functions that could be executed during unpickling. Arbitrary objects will no longer be allowed to be loaded via this mode unless they are explicitly allowlisted by the user via `torch.serialization.add_safe_globals`. We recommend you start setting `weights_only=True` for any use case where you don't have full control of the loaded file. Please open an issue on GitHub for any issues related to this experimental feature.\n",
      "  EIIE_policy.load_state_dict(torch.load(model_filename))\n"
     ]
    },
    {
     "name": "stdout",
     "output_type": "stream",
     "text": [
      "=================================\n",
      "Initial portfolio value: 100000\n",
      "Final portfolio value: 621644.0625\n",
      "Final accumulative portfolio return: 6.216440625\n",
      "Maximum DrawDown: -0.30790142231335127\n",
      "Sharpe ratio: 1.1139706135231697\n",
      "=================================\n",
      "=================================\n",
      "Initial portfolio value: 100000\n",
      "Final portfolio value: 200760.015625\n",
      "Final accumulative portfolio return: 2.00760015625\n",
      "Maximum DrawDown: -0.1961074257155252\n",
      "Sharpe ratio: 1.4982962749027082\n",
      "=================================\n"
     ]
    },
    {
     "data": {
      "text/html": [
       "<div>\n",
       "<style scoped>\n",
       "    .dataframe tbody tr th:only-of-type {\n",
       "        vertical-align: middle;\n",
       "    }\n",
       "\n",
       "    .dataframe tbody tr th {\n",
       "        vertical-align: top;\n",
       "    }\n",
       "\n",
       "    .dataframe thead th {\n",
       "        text-align: right;\n",
       "    }\n",
       "</style>\n",
       "<table border=\"1\" class=\"dataframe\">\n",
       "  <thead>\n",
       "    <tr style=\"text-align: right;\">\n",
       "      <th></th>\n",
       "      <th>TIME_WINDOW</th>\n",
       "      <th>K_SIZE</th>\n",
       "      <th>CONV_MID</th>\n",
       "      <th>CONV_FINAL</th>\n",
       "      <th>LEARNING_RATE</th>\n",
       "      <th>train_portfolio_value</th>\n",
       "      <th>train_drawdown</th>\n",
       "      <th>train_sharpe</th>\n",
       "      <th>train_cumulative</th>\n",
       "      <th>test_portfolio_value</th>\n",
       "      <th>test_drawdown</th>\n",
       "      <th>test_sharpe</th>\n",
       "      <th>test_cumulative</th>\n",
       "    </tr>\n",
       "  </thead>\n",
       "  <tbody>\n",
       "    <tr>\n",
       "      <th>0</th>\n",
       "      <td>60</td>\n",
       "      <td>3</td>\n",
       "      <td>5</td>\n",
       "      <td>5</td>\n",
       "      <td>0.02</td>\n",
       "      <td>2.380566e+05</td>\n",
       "      <td>-0.351223</td>\n",
       "      <td>0.771384</td>\n",
       "      <td>2.380566</td>\n",
       "      <td>126201.554688</td>\n",
       "      <td>-0.158603</td>\n",
       "      <td>0.842385</td>\n",
       "      <td>1.262016</td>\n",
       "    </tr>\n",
       "    <tr>\n",
       "      <th>1</th>\n",
       "      <td>60</td>\n",
       "      <td>3</td>\n",
       "      <td>5</td>\n",
       "      <td>10</td>\n",
       "      <td>0.02</td>\n",
       "      <td>3.693064e+05</td>\n",
       "      <td>-0.342045</td>\n",
       "      <td>0.818966</td>\n",
       "      <td>3.693064</td>\n",
       "      <td>85508.687500</td>\n",
       "      <td>-0.388765</td>\n",
       "      <td>-0.167985</td>\n",
       "      <td>0.855087</td>\n",
       "    </tr>\n",
       "    <tr>\n",
       "      <th>2</th>\n",
       "      <td>60</td>\n",
       "      <td>3</td>\n",
       "      <td>5</td>\n",
       "      <td>20</td>\n",
       "      <td>0.02</td>\n",
       "      <td>4.200843e+05</td>\n",
       "      <td>-0.347251</td>\n",
       "      <td>0.908278</td>\n",
       "      <td>4.200843</td>\n",
       "      <td>97444.843750</td>\n",
       "      <td>-0.339930</td>\n",
       "      <td>0.092566</td>\n",
       "      <td>0.974448</td>\n",
       "    </tr>\n",
       "    <tr>\n",
       "      <th>3</th>\n",
       "      <td>60</td>\n",
       "      <td>3</td>\n",
       "      <td>10</td>\n",
       "      <td>5</td>\n",
       "      <td>0.02</td>\n",
       "      <td>2.380582e+05</td>\n",
       "      <td>-0.351224</td>\n",
       "      <td>0.771384</td>\n",
       "      <td>2.380582</td>\n",
       "      <td>126201.375000</td>\n",
       "      <td>-0.158605</td>\n",
       "      <td>0.842375</td>\n",
       "      <td>1.262014</td>\n",
       "    </tr>\n",
       "    <tr>\n",
       "      <th>4</th>\n",
       "      <td>60</td>\n",
       "      <td>3</td>\n",
       "      <td>10</td>\n",
       "      <td>10</td>\n",
       "      <td>0.02</td>\n",
       "      <td>1.000000e+05</td>\n",
       "      <td>0.000000</td>\n",
       "      <td>NaN</td>\n",
       "      <td>1.000000</td>\n",
       "      <td>100000.000000</td>\n",
       "      <td>0.000000</td>\n",
       "      <td>NaN</td>\n",
       "      <td>1.000000</td>\n",
       "    </tr>\n",
       "    <tr>\n",
       "      <th>5</th>\n",
       "      <td>60</td>\n",
       "      <td>3</td>\n",
       "      <td>10</td>\n",
       "      <td>20</td>\n",
       "      <td>0.02</td>\n",
       "      <td>6.553672e+05</td>\n",
       "      <td>-0.328612</td>\n",
       "      <td>1.265267</td>\n",
       "      <td>6.553673</td>\n",
       "      <td>92322.421875</td>\n",
       "      <td>-0.300691</td>\n",
       "      <td>-0.025217</td>\n",
       "      <td>0.923224</td>\n",
       "    </tr>\n",
       "    <tr>\n",
       "      <th>6</th>\n",
       "      <td>60</td>\n",
       "      <td>3</td>\n",
       "      <td>20</td>\n",
       "      <td>5</td>\n",
       "      <td>0.02</td>\n",
       "      <td>2.620481e+05</td>\n",
       "      <td>-0.456307</td>\n",
       "      <td>0.622341</td>\n",
       "      <td>2.620481</td>\n",
       "      <td>171522.500000</td>\n",
       "      <td>-0.217306</td>\n",
       "      <td>1.215183</td>\n",
       "      <td>1.715225</td>\n",
       "    </tr>\n",
       "    <tr>\n",
       "      <th>7</th>\n",
       "      <td>60</td>\n",
       "      <td>3</td>\n",
       "      <td>20</td>\n",
       "      <td>10</td>\n",
       "      <td>0.02</td>\n",
       "      <td>1.018255e+06</td>\n",
       "      <td>-0.287279</td>\n",
       "      <td>1.379930</td>\n",
       "      <td>10.182549</td>\n",
       "      <td>133215.843750</td>\n",
       "      <td>-0.229391</td>\n",
       "      <td>0.712847</td>\n",
       "      <td>1.332158</td>\n",
       "    </tr>\n",
       "    <tr>\n",
       "      <th>8</th>\n",
       "      <td>60</td>\n",
       "      <td>3</td>\n",
       "      <td>20</td>\n",
       "      <td>20</td>\n",
       "      <td>0.02</td>\n",
       "      <td>6.385760e+05</td>\n",
       "      <td>-0.385159</td>\n",
       "      <td>1.117825</td>\n",
       "      <td>6.385760</td>\n",
       "      <td>132942.281250</td>\n",
       "      <td>-0.331567</td>\n",
       "      <td>0.680240</td>\n",
       "      <td>1.329423</td>\n",
       "    </tr>\n",
       "    <tr>\n",
       "      <th>9</th>\n",
       "      <td>60</td>\n",
       "      <td>4</td>\n",
       "      <td>5</td>\n",
       "      <td>5</td>\n",
       "      <td>0.02</td>\n",
       "      <td>6.444928e+05</td>\n",
       "      <td>-0.322589</td>\n",
       "      <td>1.133857</td>\n",
       "      <td>6.444928</td>\n",
       "      <td>54166.011719</td>\n",
       "      <td>-0.589159</td>\n",
       "      <td>-0.982752</td>\n",
       "      <td>0.541660</td>\n",
       "    </tr>\n",
       "    <tr>\n",
       "      <th>10</th>\n",
       "      <td>60</td>\n",
       "      <td>4</td>\n",
       "      <td>5</td>\n",
       "      <td>10</td>\n",
       "      <td>0.02</td>\n",
       "      <td>7.825115e+05</td>\n",
       "      <td>-0.280393</td>\n",
       "      <td>1.386840</td>\n",
       "      <td>7.825115</td>\n",
       "      <td>90170.125000</td>\n",
       "      <td>-0.367380</td>\n",
       "      <td>-0.067625</td>\n",
       "      <td>0.901701</td>\n",
       "    </tr>\n",
       "    <tr>\n",
       "      <th>11</th>\n",
       "      <td>60</td>\n",
       "      <td>4</td>\n",
       "      <td>5</td>\n",
       "      <td>20</td>\n",
       "      <td>0.02</td>\n",
       "      <td>7.682914e+05</td>\n",
       "      <td>-0.385159</td>\n",
       "      <td>1.202350</td>\n",
       "      <td>7.682914</td>\n",
       "      <td>176157.578125</td>\n",
       "      <td>-0.174951</td>\n",
       "      <td>1.255269</td>\n",
       "      <td>1.761576</td>\n",
       "    </tr>\n",
       "    <tr>\n",
       "      <th>12</th>\n",
       "      <td>60</td>\n",
       "      <td>4</td>\n",
       "      <td>10</td>\n",
       "      <td>5</td>\n",
       "      <td>0.02</td>\n",
       "      <td>2.379256e+05</td>\n",
       "      <td>-0.351040</td>\n",
       "      <td>0.771345</td>\n",
       "      <td>2.379256</td>\n",
       "      <td>126179.921875</td>\n",
       "      <td>-0.158506</td>\n",
       "      <td>0.842279</td>\n",
       "      <td>1.261799</td>\n",
       "    </tr>\n",
       "    <tr>\n",
       "      <th>13</th>\n",
       "      <td>60</td>\n",
       "      <td>4</td>\n",
       "      <td>10</td>\n",
       "      <td>10</td>\n",
       "      <td>0.02</td>\n",
       "      <td>8.400802e+05</td>\n",
       "      <td>-0.280393</td>\n",
       "      <td>1.331342</td>\n",
       "      <td>8.400802</td>\n",
       "      <td>175355.968750</td>\n",
       "      <td>-0.195845</td>\n",
       "      <td>1.240065</td>\n",
       "      <td>1.753560</td>\n",
       "    </tr>\n",
       "    <tr>\n",
       "      <th>14</th>\n",
       "      <td>60</td>\n",
       "      <td>4</td>\n",
       "      <td>10</td>\n",
       "      <td>20</td>\n",
       "      <td>0.02</td>\n",
       "      <td>5.634194e+05</td>\n",
       "      <td>-0.314340</td>\n",
       "      <td>1.079456</td>\n",
       "      <td>5.634194</td>\n",
       "      <td>195516.859375</td>\n",
       "      <td>-0.182587</td>\n",
       "      <td>1.436863</td>\n",
       "      <td>1.955169</td>\n",
       "    </tr>\n",
       "    <tr>\n",
       "      <th>15</th>\n",
       "      <td>60</td>\n",
       "      <td>4</td>\n",
       "      <td>20</td>\n",
       "      <td>5</td>\n",
       "      <td>0.02</td>\n",
       "      <td>8.666369e+05</td>\n",
       "      <td>-0.318963</td>\n",
       "      <td>1.239569</td>\n",
       "      <td>8.666369</td>\n",
       "      <td>173176.234375</td>\n",
       "      <td>-0.222119</td>\n",
       "      <td>1.234963</td>\n",
       "      <td>1.731762</td>\n",
       "    </tr>\n",
       "    <tr>\n",
       "      <th>16</th>\n",
       "      <td>60</td>\n",
       "      <td>4</td>\n",
       "      <td>20</td>\n",
       "      <td>10</td>\n",
       "      <td>0.02</td>\n",
       "      <td>9.661066e+05</td>\n",
       "      <td>-0.276915</td>\n",
       "      <td>1.374251</td>\n",
       "      <td>9.661066</td>\n",
       "      <td>107304.078125</td>\n",
       "      <td>-0.279435</td>\n",
       "      <td>0.283131</td>\n",
       "      <td>1.073041</td>\n",
       "    </tr>\n",
       "    <tr>\n",
       "      <th>17</th>\n",
       "      <td>60</td>\n",
       "      <td>4</td>\n",
       "      <td>20</td>\n",
       "      <td>20</td>\n",
       "      <td>0.02</td>\n",
       "      <td>6.150728e+05</td>\n",
       "      <td>-0.280393</td>\n",
       "      <td>1.155153</td>\n",
       "      <td>6.150728</td>\n",
       "      <td>122571.218750</td>\n",
       "      <td>-0.324160</td>\n",
       "      <td>0.542437</td>\n",
       "      <td>1.225712</td>\n",
       "    </tr>\n",
       "    <tr>\n",
       "      <th>18</th>\n",
       "      <td>60</td>\n",
       "      <td>5</td>\n",
       "      <td>5</td>\n",
       "      <td>5</td>\n",
       "      <td>0.02</td>\n",
       "      <td>6.670903e+05</td>\n",
       "      <td>-0.385159</td>\n",
       "      <td>1.114413</td>\n",
       "      <td>6.670903</td>\n",
       "      <td>195187.671875</td>\n",
       "      <td>-0.245618</td>\n",
       "      <td>1.410968</td>\n",
       "      <td>1.951877</td>\n",
       "    </tr>\n",
       "    <tr>\n",
       "      <th>19</th>\n",
       "      <td>60</td>\n",
       "      <td>5</td>\n",
       "      <td>5</td>\n",
       "      <td>10</td>\n",
       "      <td>0.02</td>\n",
       "      <td>7.877890e+05</td>\n",
       "      <td>-0.333435</td>\n",
       "      <td>1.365538</td>\n",
       "      <td>7.877890</td>\n",
       "      <td>95157.703125</td>\n",
       "      <td>-0.309915</td>\n",
       "      <td>0.044727</td>\n",
       "      <td>0.951577</td>\n",
       "    </tr>\n",
       "    <tr>\n",
       "      <th>20</th>\n",
       "      <td>60</td>\n",
       "      <td>5</td>\n",
       "      <td>5</td>\n",
       "      <td>20</td>\n",
       "      <td>0.02</td>\n",
       "      <td>7.110201e+05</td>\n",
       "      <td>-0.280393</td>\n",
       "      <td>1.239019</td>\n",
       "      <td>7.110201</td>\n",
       "      <td>98479.875000</td>\n",
       "      <td>-0.371485</td>\n",
       "      <td>0.119615</td>\n",
       "      <td>0.984799</td>\n",
       "    </tr>\n",
       "    <tr>\n",
       "      <th>21</th>\n",
       "      <td>60</td>\n",
       "      <td>5</td>\n",
       "      <td>10</td>\n",
       "      <td>5</td>\n",
       "      <td>0.02</td>\n",
       "      <td>7.213087e+05</td>\n",
       "      <td>-0.299690</td>\n",
       "      <td>1.205509</td>\n",
       "      <td>7.213087</td>\n",
       "      <td>136939.562500</td>\n",
       "      <td>-0.204521</td>\n",
       "      <td>0.806325</td>\n",
       "      <td>1.369396</td>\n",
       "    </tr>\n",
       "    <tr>\n",
       "      <th>22</th>\n",
       "      <td>60</td>\n",
       "      <td>5</td>\n",
       "      <td>10</td>\n",
       "      <td>10</td>\n",
       "      <td>0.02</td>\n",
       "      <td>2.425144e+05</td>\n",
       "      <td>-0.344076</td>\n",
       "      <td>0.719507</td>\n",
       "      <td>2.425144</td>\n",
       "      <td>89791.617188</td>\n",
       "      <td>-0.408386</td>\n",
       "      <td>-0.080880</td>\n",
       "      <td>0.897916</td>\n",
       "    </tr>\n",
       "    <tr>\n",
       "      <th>23</th>\n",
       "      <td>60</td>\n",
       "      <td>5</td>\n",
       "      <td>10</td>\n",
       "      <td>20</td>\n",
       "      <td>0.02</td>\n",
       "      <td>5.118938e+05</td>\n",
       "      <td>-0.273663</td>\n",
       "      <td>1.142843</td>\n",
       "      <td>5.118938</td>\n",
       "      <td>177075.593750</td>\n",
       "      <td>-0.158843</td>\n",
       "      <td>1.579702</td>\n",
       "      <td>1.770756</td>\n",
       "    </tr>\n",
       "    <tr>\n",
       "      <th>24</th>\n",
       "      <td>60</td>\n",
       "      <td>5</td>\n",
       "      <td>20</td>\n",
       "      <td>5</td>\n",
       "      <td>0.02</td>\n",
       "      <td>2.380002e+05</td>\n",
       "      <td>-0.351147</td>\n",
       "      <td>0.771360</td>\n",
       "      <td>2.380002</td>\n",
       "      <td>126192.585938</td>\n",
       "      <td>-0.158560</td>\n",
       "      <td>0.842345</td>\n",
       "      <td>1.261926</td>\n",
       "    </tr>\n",
       "    <tr>\n",
       "      <th>25</th>\n",
       "      <td>60</td>\n",
       "      <td>5</td>\n",
       "      <td>20</td>\n",
       "      <td>10</td>\n",
       "      <td>0.02</td>\n",
       "      <td>4.296108e+05</td>\n",
       "      <td>-0.396000</td>\n",
       "      <td>0.885640</td>\n",
       "      <td>4.296108</td>\n",
       "      <td>188461.703125</td>\n",
       "      <td>-0.172160</td>\n",
       "      <td>1.369906</td>\n",
       "      <td>1.884617</td>\n",
       "    </tr>\n",
       "    <tr>\n",
       "      <th>26</th>\n",
       "      <td>60</td>\n",
       "      <td>5</td>\n",
       "      <td>20</td>\n",
       "      <td>20</td>\n",
       "      <td>0.02</td>\n",
       "      <td>6.216441e+05</td>\n",
       "      <td>-0.307901</td>\n",
       "      <td>1.114626</td>\n",
       "      <td>6.216441</td>\n",
       "      <td>200760.015625</td>\n",
       "      <td>-0.196107</td>\n",
       "      <td>1.501693</td>\n",
       "      <td>2.007600</td>\n",
       "    </tr>\n",
       "  </tbody>\n",
       "</table>\n",
       "</div>"
      ],
      "text/plain": [
       "   TIME_WINDOW K_SIZE CONV_MID CONV_FINAL  LEARNING_RATE  \\\n",
       "0           60      3        5          5           0.02   \n",
       "1           60      3        5         10           0.02   \n",
       "2           60      3        5         20           0.02   \n",
       "3           60      3       10          5           0.02   \n",
       "4           60      3       10         10           0.02   \n",
       "5           60      3       10         20           0.02   \n",
       "6           60      3       20          5           0.02   \n",
       "7           60      3       20         10           0.02   \n",
       "8           60      3       20         20           0.02   \n",
       "9           60      4        5          5           0.02   \n",
       "10          60      4        5         10           0.02   \n",
       "11          60      4        5         20           0.02   \n",
       "12          60      4       10          5           0.02   \n",
       "13          60      4       10         10           0.02   \n",
       "14          60      4       10         20           0.02   \n",
       "15          60      4       20          5           0.02   \n",
       "16          60      4       20         10           0.02   \n",
       "17          60      4       20         20           0.02   \n",
       "18          60      5        5          5           0.02   \n",
       "19          60      5        5         10           0.02   \n",
       "20          60      5        5         20           0.02   \n",
       "21          60      5       10          5           0.02   \n",
       "22          60      5       10         10           0.02   \n",
       "23          60      5       10         20           0.02   \n",
       "24          60      5       20          5           0.02   \n",
       "25          60      5       20         10           0.02   \n",
       "26          60      5       20         20           0.02   \n",
       "\n",
       "    train_portfolio_value  train_drawdown  train_sharpe  train_cumulative  \\\n",
       "0            2.380566e+05       -0.351223      0.771384          2.380566   \n",
       "1            3.693064e+05       -0.342045      0.818966          3.693064   \n",
       "2            4.200843e+05       -0.347251      0.908278          4.200843   \n",
       "3            2.380582e+05       -0.351224      0.771384          2.380582   \n",
       "4            1.000000e+05        0.000000           NaN          1.000000   \n",
       "5            6.553672e+05       -0.328612      1.265267          6.553673   \n",
       "6            2.620481e+05       -0.456307      0.622341          2.620481   \n",
       "7            1.018255e+06       -0.287279      1.379930         10.182549   \n",
       "8            6.385760e+05       -0.385159      1.117825          6.385760   \n",
       "9            6.444928e+05       -0.322589      1.133857          6.444928   \n",
       "10           7.825115e+05       -0.280393      1.386840          7.825115   \n",
       "11           7.682914e+05       -0.385159      1.202350          7.682914   \n",
       "12           2.379256e+05       -0.351040      0.771345          2.379256   \n",
       "13           8.400802e+05       -0.280393      1.331342          8.400802   \n",
       "14           5.634194e+05       -0.314340      1.079456          5.634194   \n",
       "15           8.666369e+05       -0.318963      1.239569          8.666369   \n",
       "16           9.661066e+05       -0.276915      1.374251          9.661066   \n",
       "17           6.150728e+05       -0.280393      1.155153          6.150728   \n",
       "18           6.670903e+05       -0.385159      1.114413          6.670903   \n",
       "19           7.877890e+05       -0.333435      1.365538          7.877890   \n",
       "20           7.110201e+05       -0.280393      1.239019          7.110201   \n",
       "21           7.213087e+05       -0.299690      1.205509          7.213087   \n",
       "22           2.425144e+05       -0.344076      0.719507          2.425144   \n",
       "23           5.118938e+05       -0.273663      1.142843          5.118938   \n",
       "24           2.380002e+05       -0.351147      0.771360          2.380002   \n",
       "25           4.296108e+05       -0.396000      0.885640          4.296108   \n",
       "26           6.216441e+05       -0.307901      1.114626          6.216441   \n",
       "\n",
       "    test_portfolio_value  test_drawdown  test_sharpe  test_cumulative  \n",
       "0          126201.554688      -0.158603     0.842385         1.262016  \n",
       "1           85508.687500      -0.388765    -0.167985         0.855087  \n",
       "2           97444.843750      -0.339930     0.092566         0.974448  \n",
       "3          126201.375000      -0.158605     0.842375         1.262014  \n",
       "4          100000.000000       0.000000          NaN         1.000000  \n",
       "5           92322.421875      -0.300691    -0.025217         0.923224  \n",
       "6          171522.500000      -0.217306     1.215183         1.715225  \n",
       "7          133215.843750      -0.229391     0.712847         1.332158  \n",
       "8          132942.281250      -0.331567     0.680240         1.329423  \n",
       "9           54166.011719      -0.589159    -0.982752         0.541660  \n",
       "10          90170.125000      -0.367380    -0.067625         0.901701  \n",
       "11         176157.578125      -0.174951     1.255269         1.761576  \n",
       "12         126179.921875      -0.158506     0.842279         1.261799  \n",
       "13         175355.968750      -0.195845     1.240065         1.753560  \n",
       "14         195516.859375      -0.182587     1.436863         1.955169  \n",
       "15         173176.234375      -0.222119     1.234963         1.731762  \n",
       "16         107304.078125      -0.279435     0.283131         1.073041  \n",
       "17         122571.218750      -0.324160     0.542437         1.225712  \n",
       "18         195187.671875      -0.245618     1.410968         1.951877  \n",
       "19          95157.703125      -0.309915     0.044727         0.951577  \n",
       "20          98479.875000      -0.371485     0.119615         0.984799  \n",
       "21         136939.562500      -0.204521     0.806325         1.369396  \n",
       "22          89791.617188      -0.408386    -0.080880         0.897916  \n",
       "23         177075.593750      -0.158843     1.579702         1.770756  \n",
       "24         126192.585938      -0.158560     0.842345         1.261926  \n",
       "25         188461.703125      -0.172160     1.369906         1.884617  \n",
       "26         200760.015625      -0.196107     1.501693         2.007600  "
      ]
     },
     "execution_count": 12,
     "metadata": {},
     "output_type": "execute_result"
    }
   ],
   "source": [
    "# Hyperparameter tuning loop with 5 episodes of training and error handling\n",
    "for TIME_WINDOW, K_SIZE, CONV_MID, CONV_FINAL,LEARNING_RATE in product(time_windows, k_sizes, conv_mids, conv_finals, lr):\n",
    "    try:\n",
    "        print(f\"Training model with TIME_WINDOW={TIME_WINDOW}, K_SIZE={K_SIZE}, CONV_MID={CONV_MID}, CONV_FINAL={CONV_FINAL}, LEARNING_RATE={LEARNING_RATE}\")\n",
    "        # Update the policy_kwargs for the current set of hyperparameters\n",
    "        policy_kwargs = {\n",
    "        \"initial_features\": len(FEATURE_NAMES),\n",
    "        \"k_size\": K_SIZE,\n",
    "        \"time_window\": TIME_WINDOW,\n",
    "        \"conv_mid_features\":CONV_MID,\n",
    "        \"conv_final_features\":CONV_FINAL}\n",
    "\n",
    "        # Create the environment for training and the test years\n",
    "        environment = PortfolioOptimizationEnv(df_portfolio_train, initial_amount=100000, comission_fee_pct=COMISSION_FEE,\n",
    "                                               time_window=TIME_WINDOW, features=FEATURE_NAMES, normalize_df=None,\n",
    "                                               reward_function=custom_reward_function, reward_scaling=2.0)\n",
    "\n",
    "        environment_test = PortfolioOptimizationEnv(df_portfolio_vali, initial_amount=100000, comission_fee_pct=COMISSION_FEE,\n",
    "                                                    time_window=TIME_WINDOW, features=FEATURE_NAMES, normalize_df=None,\n",
    "                                                    reward_function=custom_reward_function, reward_scaling=2.0)\n",
    "\n",
    "        # Instantiate the model for each combination of hyperparameters\n",
    "        # set PolicyGradient parameters\n",
    "        model_kwargs = {\n",
    "                \"lr\": LEARNING_RATE,\n",
    "                \"policy\": EIIE,\n",
    "                }\n",
    "\n",
    "        EIIE_model = DRLAgent(environment).get_model(\"pg\", device, model_kwargs, policy_kwargs)\n",
    "        EIIE_policy = EIIE(time_window=TIME_WINDOW, device=device, initial_features=len(FEATURE_NAMES),\n",
    "                           k_size=K_SIZE, conv_mid_features=CONV_MID, conv_final_features=CONV_FINAL)\n",
    "\n",
    "        # Train the model for 10 episodes\n",
    "        DRLAgent.train_model(EIIE_model, episodes=25)\n",
    "        \n",
    "        # Save the model policy after training\n",
    "        model_filename = f\"policy_EIIE_{TIME_WINDOW}_{K_SIZE}_{CONV_MID}_{CONV_FINAL}_{LEARNING_RATE}.pt\"\n",
    "        torch.save(EIIE_model.train_policy.state_dict(), model_filename)\n",
    "        \n",
    "        EIIE_policy = EIIE(time_window = TIME_WINDOW, device = device, initial_features = len(FEATURE_NAMES),\n",
    "                          k_size = K_SIZE, conv_mid_features = CONV_MID,conv_final_features = CONV_FINAL)\n",
    "\n",
    "        EIIE_policy.load_state_dict(torch.load(model_filename))\n",
    "\n",
    "        # Training evaluation\n",
    "        environment.reset()\n",
    "        DRLAgent.DRL_validation(EIIE_model, environment, policy=EIIE_policy)\n",
    "        train_final_value, train_drawdown, train_sharpe, train_cumulative = calculate_metrics(environment)\n",
    "\n",
    "        # Test evaluation\n",
    "        environment_test.reset()\n",
    "        DRLAgent.DRL_validation(EIIE_model, environment_test, policy=EIIE_policy)\n",
    "        test_final_value, test_drawdown, test_sharpe, test_cumulative = calculate_metrics(environment_test)\n",
    "\n",
    " \n",
    "\n",
    "    except Exception as e:\n",
    "        print(f\"Error encountered with combination policy_EIIE_{TIME_WINDOW}_{K_SIZE}_{CONV_MID}_{CONV_FINAL}: {e}\")\n",
    "        # If an error occurs, store NaN for all the metrics\n",
    "        train_final_value = train_drawdown = train_sharpe = train_cumulative = np.nan\n",
    "        test_final_value = test_drawdown = test_sharpe = test_cumulative = np.nan\n",
    " \n",
    "\n",
    "    # Create a temporary DataFrame to store the current results\n",
    "    temp_df = pd.DataFrame([{\n",
    "        \"TIME_WINDOW\": TIME_WINDOW, \"K_SIZE\": K_SIZE, \"CONV_MID\": CONV_MID, \"CONV_FINAL\": CONV_FINAL, \"LEARNING_RATE\": LEARNING_RATE,\n",
    "        \"train_portfolio_value\": train_final_value, \"train_drawdown\": train_drawdown, \"train_sharpe\": train_sharpe, \"train_cumulative\": train_cumulative,\n",
    "        \"test_portfolio_value\": test_final_value, \"test_drawdown\": test_drawdown, \"test_sharpe\": test_sharpe, \"test_cumulative\": test_cumulative,\n",
    "        }])\n",
    "    \n",
    "    # Use pd.concat instead of append to add the results to the main DataFrame\n",
    "    results_df = pd.concat([results_df, temp_df], ignore_index=True)\n",
    "    \n",
    "    try:\n",
    "        results_df.to_csv('hyperparamstuning60.csv', index=False)\n",
    "    except Exception as e:\n",
    "        print(f\"An error occurred: {e}\")\n",
    "        \n",
    "    \n",
    "results_df"
   ]
  },
  {
   "cell_type": "code",
   "execution_count": null,
   "metadata": {},
   "outputs": [],
   "source": [
    "# =(M2-MIN($M$2:$M$163))/((MAX($M$2:$M$163)-MIN($M$2:$M$163)))\n",
    "# =(L2-MIN($L$2:$L$163))/((MAX($L$2:$L$163)-MIN($L$2:$L$163)))\n",
    "# =(K2-MIN($K$2:$K$163))/((MAX($K$2:$K$163)-MIN($K$2:$K$163)))\n",
    "# =(N2+O2+P2)/3"
   ]
  },
  {
   "cell_type": "code",
   "execution_count": 7,
   "metadata": {
    "scrolled": true
   },
   "outputs": [
    {
     "data": {
      "text/html": [
       "<div>\n",
       "<style scoped>\n",
       "    .dataframe tbody tr th:only-of-type {\n",
       "        vertical-align: middle;\n",
       "    }\n",
       "\n",
       "    .dataframe tbody tr th {\n",
       "        vertical-align: top;\n",
       "    }\n",
       "\n",
       "    .dataframe thead th {\n",
       "        text-align: right;\n",
       "    }\n",
       "</style>\n",
       "<table border=\"1\" class=\"dataframe\">\n",
       "  <thead>\n",
       "    <tr style=\"text-align: right;\">\n",
       "      <th></th>\n",
       "      <th>TIME_WINDOW</th>\n",
       "      <th>K_SIZE</th>\n",
       "      <th>CONV_MID</th>\n",
       "      <th>CONV_FINAL</th>\n",
       "      <th>LEARNING_RATE</th>\n",
       "      <th>train_portfolio_value</th>\n",
       "      <th>train_drawdown</th>\n",
       "      <th>train_sharpe</th>\n",
       "      <th>train_cumulative</th>\n",
       "      <th>test_portfolio_value</th>\n",
       "      <th>test_drawdown</th>\n",
       "      <th>test_sharpe</th>\n",
       "      <th>test_cumulative</th>\n",
       "    </tr>\n",
       "  </thead>\n",
       "  <tbody>\n",
       "    <tr>\n",
       "      <th>0</th>\n",
       "      <td>60</td>\n",
       "      <td>3</td>\n",
       "      <td>5</td>\n",
       "      <td>5</td>\n",
       "      <td>0.02</td>\n",
       "      <td>669630.37500</td>\n",
       "      <td>-0.323755</td>\n",
       "      <td>1.162123</td>\n",
       "      <td>6.696304</td>\n",
       "      <td>58291.769531</td>\n",
       "      <td>-0.468099</td>\n",
       "      <td>-1.035075</td>\n",
       "      <td>0.582918</td>\n",
       "    </tr>\n",
       "    <tr>\n",
       "      <th>1</th>\n",
       "      <td>60</td>\n",
       "      <td>3</td>\n",
       "      <td>5</td>\n",
       "      <td>10</td>\n",
       "      <td>0.02</td>\n",
       "      <td>401553.78125</td>\n",
       "      <td>-0.307901</td>\n",
       "      <td>0.935154</td>\n",
       "      <td>4.015538</td>\n",
       "      <td>201765.078125</td>\n",
       "      <td>-0.202645</td>\n",
       "      <td>1.477121</td>\n",
       "      <td>2.017651</td>\n",
       "    </tr>\n",
       "    <tr>\n",
       "      <th>2</th>\n",
       "      <td>60</td>\n",
       "      <td>3</td>\n",
       "      <td>10</td>\n",
       "      <td>5</td>\n",
       "      <td>0.02</td>\n",
       "      <td>851647.00000</td>\n",
       "      <td>-0.385159</td>\n",
       "      <td>1.276073</td>\n",
       "      <td>8.516470</td>\n",
       "      <td>205044.046875</td>\n",
       "      <td>-0.216669</td>\n",
       "      <td>1.483678</td>\n",
       "      <td>2.050440</td>\n",
       "    </tr>\n",
       "    <tr>\n",
       "      <th>3</th>\n",
       "      <td>60</td>\n",
       "      <td>3</td>\n",
       "      <td>10</td>\n",
       "      <td>10</td>\n",
       "      <td>0.02</td>\n",
       "      <td>800436.93750</td>\n",
       "      <td>-0.333297</td>\n",
       "      <td>1.279539</td>\n",
       "      <td>8.004369</td>\n",
       "      <td>210115.593750</td>\n",
       "      <td>-0.206187</td>\n",
       "      <td>1.644595</td>\n",
       "      <td>2.101156</td>\n",
       "    </tr>\n",
       "    <tr>\n",
       "      <th>4</th>\n",
       "      <td>60</td>\n",
       "      <td>3</td>\n",
       "      <td>20</td>\n",
       "      <td>5</td>\n",
       "      <td>0.02</td>\n",
       "      <td>795419.31250</td>\n",
       "      <td>-0.385159</td>\n",
       "      <td>1.216382</td>\n",
       "      <td>7.954193</td>\n",
       "      <td>138230.015625</td>\n",
       "      <td>-0.272178</td>\n",
       "      <td>0.764831</td>\n",
       "      <td>1.382300</td>\n",
       "    </tr>\n",
       "    <tr>\n",
       "      <th>5</th>\n",
       "      <td>60</td>\n",
       "      <td>3</td>\n",
       "      <td>20</td>\n",
       "      <td>10</td>\n",
       "      <td>0.02</td>\n",
       "      <td>757926.06250</td>\n",
       "      <td>-0.385159</td>\n",
       "      <td>1.209615</td>\n",
       "      <td>7.579261</td>\n",
       "      <td>81028.585938</td>\n",
       "      <td>-0.342613</td>\n",
       "      <td>-0.331577</td>\n",
       "      <td>0.810286</td>\n",
       "    </tr>\n",
       "    <tr>\n",
       "      <th>6</th>\n",
       "      <td>60</td>\n",
       "      <td>4</td>\n",
       "      <td>5</td>\n",
       "      <td>5</td>\n",
       "      <td>0.02</td>\n",
       "      <td>235260.15625</td>\n",
       "      <td>-0.347388</td>\n",
       "      <td>0.770433</td>\n",
       "      <td>2.352602</td>\n",
       "      <td>125748.773438</td>\n",
       "      <td>-0.156451</td>\n",
       "      <td>0.840368</td>\n",
       "      <td>1.257488</td>\n",
       "    </tr>\n",
       "    <tr>\n",
       "      <th>7</th>\n",
       "      <td>60</td>\n",
       "      <td>4</td>\n",
       "      <td>5</td>\n",
       "      <td>10</td>\n",
       "      <td>0.02</td>\n",
       "      <td>614110.93750</td>\n",
       "      <td>-0.385159</td>\n",
       "      <td>1.115737</td>\n",
       "      <td>6.141109</td>\n",
       "      <td>195518.640625</td>\n",
       "      <td>-0.214764</td>\n",
       "      <td>1.401475</td>\n",
       "      <td>1.955186</td>\n",
       "    </tr>\n",
       "    <tr>\n",
       "      <th>8</th>\n",
       "      <td>60</td>\n",
       "      <td>4</td>\n",
       "      <td>10</td>\n",
       "      <td>5</td>\n",
       "      <td>0.02</td>\n",
       "      <td>687353.68750</td>\n",
       "      <td>-0.280393</td>\n",
       "      <td>1.209436</td>\n",
       "      <td>6.873537</td>\n",
       "      <td>174014.312500</td>\n",
       "      <td>-0.205600</td>\n",
       "      <td>1.243291</td>\n",
       "      <td>1.740143</td>\n",
       "    </tr>\n",
       "    <tr>\n",
       "      <th>9</th>\n",
       "      <td>60</td>\n",
       "      <td>4</td>\n",
       "      <td>10</td>\n",
       "      <td>10</td>\n",
       "      <td>0.02</td>\n",
       "      <td>340560.84375</td>\n",
       "      <td>-0.296457</td>\n",
       "      <td>0.860082</td>\n",
       "      <td>3.405608</td>\n",
       "      <td>95031.023438</td>\n",
       "      <td>-0.306015</td>\n",
       "      <td>0.038745</td>\n",
       "      <td>0.950310</td>\n",
       "    </tr>\n",
       "    <tr>\n",
       "      <th>10</th>\n",
       "      <td>60</td>\n",
       "      <td>4</td>\n",
       "      <td>20</td>\n",
       "      <td>5</td>\n",
       "      <td>0.02</td>\n",
       "      <td>236811.34375</td>\n",
       "      <td>-0.349514</td>\n",
       "      <td>0.770971</td>\n",
       "      <td>2.368113</td>\n",
       "      <td>126001.656250</td>\n",
       "      <td>-0.157652</td>\n",
       "      <td>0.841510</td>\n",
       "      <td>1.260017</td>\n",
       "    </tr>\n",
       "    <tr>\n",
       "      <th>11</th>\n",
       "      <td>60</td>\n",
       "      <td>4</td>\n",
       "      <td>20</td>\n",
       "      <td>10</td>\n",
       "      <td>0.02</td>\n",
       "      <td>413856.43750</td>\n",
       "      <td>-0.385159</td>\n",
       "      <td>0.875422</td>\n",
       "      <td>4.138564</td>\n",
       "      <td>85096.367188</td>\n",
       "      <td>-0.351396</td>\n",
       "      <td>-0.159545</td>\n",
       "      <td>0.850964</td>\n",
       "    </tr>\n",
       "  </tbody>\n",
       "</table>\n",
       "</div>"
      ],
      "text/plain": [
       "   TIME_WINDOW K_SIZE CONV_MID CONV_FINAL  LEARNING_RATE  \\\n",
       "0           60      3        5          5           0.02   \n",
       "1           60      3        5         10           0.02   \n",
       "2           60      3       10          5           0.02   \n",
       "3           60      3       10         10           0.02   \n",
       "4           60      3       20          5           0.02   \n",
       "5           60      3       20         10           0.02   \n",
       "6           60      4        5          5           0.02   \n",
       "7           60      4        5         10           0.02   \n",
       "8           60      4       10          5           0.02   \n",
       "9           60      4       10         10           0.02   \n",
       "10          60      4       20          5           0.02   \n",
       "11          60      4       20         10           0.02   \n",
       "\n",
       "    train_portfolio_value  train_drawdown  train_sharpe  train_cumulative  \\\n",
       "0            669630.37500       -0.323755      1.162123          6.696304   \n",
       "1            401553.78125       -0.307901      0.935154          4.015538   \n",
       "2            851647.00000       -0.385159      1.276073          8.516470   \n",
       "3            800436.93750       -0.333297      1.279539          8.004369   \n",
       "4            795419.31250       -0.385159      1.216382          7.954193   \n",
       "5            757926.06250       -0.385159      1.209615          7.579261   \n",
       "6            235260.15625       -0.347388      0.770433          2.352602   \n",
       "7            614110.93750       -0.385159      1.115737          6.141109   \n",
       "8            687353.68750       -0.280393      1.209436          6.873537   \n",
       "9            340560.84375       -0.296457      0.860082          3.405608   \n",
       "10           236811.34375       -0.349514      0.770971          2.368113   \n",
       "11           413856.43750       -0.385159      0.875422          4.138564   \n",
       "\n",
       "    test_portfolio_value  test_drawdown  test_sharpe  test_cumulative  \n",
       "0           58291.769531      -0.468099    -1.035075         0.582918  \n",
       "1          201765.078125      -0.202645     1.477121         2.017651  \n",
       "2          205044.046875      -0.216669     1.483678         2.050440  \n",
       "3          210115.593750      -0.206187     1.644595         2.101156  \n",
       "4          138230.015625      -0.272178     0.764831         1.382300  \n",
       "5           81028.585938      -0.342613    -0.331577         0.810286  \n",
       "6          125748.773438      -0.156451     0.840368         1.257488  \n",
       "7          195518.640625      -0.214764     1.401475         1.955186  \n",
       "8          174014.312500      -0.205600     1.243291         1.740143  \n",
       "9           95031.023438      -0.306015     0.038745         0.950310  \n",
       "10         126001.656250      -0.157652     0.841510         1.260017  \n",
       "11          85096.367188      -0.351396    -0.159545         0.850964  "
      ]
     },
     "execution_count": 7,
     "metadata": {},
     "output_type": "execute_result"
    }
   ],
   "source": [
    "results_df"
   ]
  },
  {
   "cell_type": "code",
   "execution_count": null,
   "metadata": {},
   "outputs": [],
   "source": [
    "results_df2.to_csv('results_df2.csv', index=False)"
   ]
  },
  {
   "cell_type": "code",
   "execution_count": null,
   "metadata": {},
   "outputs": [],
   "source": []
  },
  {
   "cell_type": "code",
   "execution_count": 35,
   "metadata": {},
   "outputs": [],
   "source": [
    "results_df.to_csv('secondhyperparmatuning.csv', index=False)"
   ]
  },
  {
   "cell_type": "code",
   "execution_count": null,
   "metadata": {},
   "outputs": [],
   "source": []
  },
  {
   "cell_type": "code",
   "execution_count": null,
   "metadata": {},
   "outputs": [],
   "source": []
  },
  {
   "cell_type": "code",
   "execution_count": null,
   "metadata": {},
   "outputs": [],
   "source": []
  },
  {
   "cell_type": "code",
   "execution_count": 36,
   "metadata": {},
   "outputs": [],
   "source": [
    "FEATURE_NAMES = ['close',\n",
    "                 'high',\n",
    "                 'low',\n",
    "                 'High_VIX',\n",
    "                 'Low_VIX',\n",
    "                 'Close_VIX',\n",
    "                 'High_SPY',\n",
    "                 'Low_SPY',\n",
    "                 'Close_SPY',\n",
    "                 'Volume_SPY',\n",
    "                 'Fear Greed', \n",
    "                 'ratingScore',\n",
    "                 'ratingDetailsDCFScore',\n",
    "                 'ratingDetailsROEScore',\n",
    "                 'ratingDetailsROAScore',\n",
    "                 'ratingDetailsPEScore',\n",
    "                 'ratingDetailsPBScore',\n",
    "                 'expenses',\n",
    "                 'GDP', \n",
    "                 'exports', \n",
    "                 'imports',\n",
    "                 'pound_dollar_exchange_rate',\n",
    "                 'unemployment',\n",
    "                 'ics',\n",
    "                 'TTM Revenue(Billion)',\n",
    "                 'TTM EBITDA(Billion)',\n",
    "                 'EBITDA Margin',\n",
    "                 'Price to Book Ratio',\n",
    "                 'PE Ratio',\n",
    "                 'Price to Sales Ratio',\n",
    "                 'Assets',\n",
    "                 'NetIncomeLoss',\n",
    "                 'Return on Equity(%)']\n",
    "\n",
    "TIME_WINDOW = 50\n",
    "COMISSION_FEE = 0.0025\n",
    "K_SIZE = 4\n",
    "CONV_MID = 5\n",
    "CONV_FINAL= 20\n",
    "\n",
    "environment = PortfolioOptimizationEnv(\n",
    "        df_portfolio_train,\n",
    "        initial_amount=100000,\n",
    "        comission_fee_pct=COMISSION_FEE,\n",
    "        time_window=TIME_WINDOW,\n",
    "        features=FEATURE_NAMES,\n",
    "        normalize_df=None,\n",
    "        reward_function=custom_reward_function,\n",
    "        reward_scaling=1.0\n",
    "    )\n",
    "\n",
    "# set PolicyGradient parameters\n",
    "model_kwargs = {\n",
    "    \"lr\": 0.01, \n",
    "    \"policy\": EIIE,\n",
    "}\n",
    "\n",
    "# here, we can set EIIE's parameters\n",
    "policy_kwargs = {\n",
    "    \"initial_features\": len(FEATURE_NAMES),\n",
    "    \"k_size\": K_SIZE,\n",
    "    \"time_window\": TIME_WINDOW,\n",
    "    \"conv_mid_features\":CONV_MID,\n",
    "    \"conv_final_features\":CONV_FINAL}\n",
    "\n",
    "EIIE_model = DRLAgent(environment).get_model(\"pg\", device, model_kwargs, policy_kwargs)"
   ]
  },
  {
   "cell_type": "markdown",
   "metadata": {},
   "source": [
    "# DRL Model Training (Jan 2011- Dec 2020)"
   ]
  },
  {
   "cell_type": "code",
   "execution_count": null,
   "metadata": {
    "scrolled": false
   },
   "outputs": [],
   "source": [
    "DRLAgent.train_model(EIIE_model, episodes=5)\n",
    "torch.save(EIIE_model.train_policy.state_dict(), \"policy_EIIE(test).pt\")"
   ]
  },
  {
   "cell_type": "markdown",
   "metadata": {},
   "source": [
    "# DRL Model Evaluation (Jan 2021-Dec 2023)"
   ]
  },
  {
   "cell_type": "code",
   "execution_count": null,
   "metadata": {},
   "outputs": [],
   "source": [
    "import os\n",
    "import shutil\n",
    "\n",
    "environment_2021 = PortfolioOptimizationEnv(\n",
    "    df_portfolio_2021,\n",
    "    initial_amount=100000,\n",
    "    comission_fee_pct=COMISSION_FEE,\n",
    "    time_window=TIME_WINDOW,\n",
    "    features=FEATURE_NAMES,\n",
    "    normalize_df=None,\n",
    "    reward_function=custom_reward_function,\n",
    "    reward_scaling=1.0\n",
    ")\n",
    "\n",
    "environment_2022 = PortfolioOptimizationEnv(\n",
    "    df_portfolio_2022,\n",
    "    initial_amount=100000,\n",
    "    comission_fee_pct=COMISSION_FEE,\n",
    "    time_window=TIME_WINDOW,\n",
    "    features=FEATURE_NAMES,\n",
    "    normalize_df=None,\n",
    "    reward_function=custom_reward_function,\n",
    "    reward_scaling=1.0\n",
    ")\n",
    "\n",
    "environment_2023 = PortfolioOptimizationEnv(\n",
    "    df_portfolio_2023,\n",
    "    initial_amount=100000,\n",
    "    comission_fee_pct=COMISSION_FEE,\n",
    "    time_window=TIME_WINDOW,\n",
    "    features=FEATURE_NAMES,\n",
    "    normalize_df=None,\n",
    "    reward_function=custom_reward_function,\n",
    "    reward_scaling=1.0\n",
    ")\n",
    "\n",
    "EIIE_results = {\n",
    "    \"train\": {},\n",
    "    \"2021\": {},\n",
    "    \"2022\": {},\n",
    "    \"2023\": {}\n",
    "}\n",
    "# EI3_results = {\n",
    "#     \"train\": {},\n",
    "#     \"2021\": {},\n",
    "#     \"2022\": {},\n",
    "#     \"2023\": {}\n",
    "# }\n",
    "\n",
    "# instantiate an architecture with the same arguments used in training\n",
    "# and load with load_state_dict.\n",
    "\n",
    "EIIE_policy = EIIE(time_window = TIME_WINDOW, device = device, initial_features = len(FEATURE_NAMES),\n",
    "              k_size = K_SIZE, conv_mid_features = CONV_MID,conv_final_features = CONV_FINAL)\n",
    "\n",
    "EIIE_policy.load_state_dict(torch.load(\"policy_EIIE(test).pt\"))\n",
    "\n",
    "environment.reset()\n",
    "src_folder = \"results/rl\"\n",
    "dst_folder = \"results/train\"\n",
    "if not os.path.exists(src_folder):\n",
    "    os.makedirs(src_folder)\n",
    "if os.path.exists(dst_folder):\n",
    "    shutil.rmtree(dst_folder)\n",
    "DRLAgent.DRL_validation(EIIE_model, environment, policy=EIIE_policy)\n",
    "os.rename(src_folder, dst_folder)\n",
    "EIIE_results[\"train\"][\"value\"] = environment._asset_memory[\"final\"]\n",
    "EIIE_results[\"train\"][\"actions\"] = environment._actions_memory\n",
    "\n",
    "src_folder = \"results/rl\"\n",
    "dst_folder = \"results/2021\"\n",
    "if not os.path.exists(src_folder):\n",
    "    os.makedirs(src_folder)\n",
    "if os.path.exists(dst_folder):\n",
    "    shutil.rmtree(dst_folder)\n",
    "DRLAgent.DRL_validation(EIIE_model, environment_2021, policy=EIIE_policy)\n",
    "os.rename(src_folder, dst_folder)\n",
    "EIIE_results[\"2021\"][\"value\"] = environment_2021._asset_memory[\"final\"]\n",
    "EIIE_results[\"2021\"][\"actions\"] = environment_2021._actions_memory\n",
    "\n",
    "src_folder = \"results/rl\"\n",
    "dst_folder = \"results/2022\"\n",
    "if not os.path.exists(src_folder):\n",
    "    os.makedirs(src_folder)\n",
    "if os.path.exists(dst_folder):\n",
    "    shutil.rmtree(dst_folder)\n",
    "DRLAgent.DRL_validation(EIIE_model, environment_2022, policy=EIIE_policy)\n",
    "os.rename(src_folder, dst_folder)\n",
    "EIIE_results[\"2022\"][\"value\"] = environment_2022._asset_memory[\"final\"]\n",
    "EIIE_results[\"2022\"][\"actions\"] = environment_2022._actions_memory\n",
    "\n",
    "src_folder = \"results/rl\"\n",
    "dst_folder = \"results/2023\"\n",
    "if not os.path.exists(src_folder):\n",
    "    os.makedirs(src_folder)\n",
    "if os.path.exists(dst_folder):\n",
    "    shutil.rmtree(dst_folder)\n",
    "DRLAgent.DRL_validation(EIIE_model, environment_2023, policy=EIIE_policy)\n",
    "os.rename(src_folder, dst_folder)\n",
    "EIIE_results[\"2023\"][\"value\"] = environment_2023._asset_memory[\"final\"]\n",
    "EIIE_results[\"2023\"][\"actions\"] = environment_2023._actions_memory\n",
    "\n",
    "\n",
    "# EI3_policy = EI3(time_window=50, device=device)\n",
    "# EI3_policy.load_state_dict(torch.load(\"policy_EI3.pt\"))\n",
    "\n",
    "# environment.reset()\n",
    "# DRLAgent.DRL_validation(EI3_model, environment, policy=EI3_policy)\n",
    "# EI3_results[\"train\"][\"value\"] = environment._asset_memory[\"final\"]\n",
    "# environment_2021.reset()\n",
    "# DRLAgent.DRL_validation(EI3_model, environment_2021, policy=EI3_policy)\n",
    "# EI3_results[\"2021\"][\"value\"] = environment_2021._asset_memory[\"final\"]\n",
    "# environment_2022.reset()\n",
    "# DRLAgent.DRL_validation(EI3_model, environment_2022, policy=EI3_policy)\n",
    "# EI3_results[\"2022\"][\"value\"] = environment_2022._asset_memory[\"final\"]\n",
    "# environment_2023.reset()\n",
    "# DRLAgent.DRL_validation(EI3_model, environment_2023, policy=EI3_policy)\n",
    "# EI3_results[\"2023\"][\"value\"] = environment_2023._asset_memory[\"final\"]\n",
    "\n",
    "#uniform buy n hold\n",
    "if not os.path.exists(src_folder):\n",
    "    os.makedirs(src_folder)\n",
    "UBAH_results = {\n",
    "    \"train\": {\"value\": [], \"actions\": []},\n",
    "    \"2021\": {\"value\": [], \"actions\": []},\n",
    "    \"2022\": {\"value\": [], \"actions\": []},\n",
    "    \"2023\": {\"value\": [], \"actions\": []}\n",
    "}\n",
    "\n",
    "PORTFOLIO_SIZE = len(TEST_SET)\n",
    "\n",
    "# train period\n",
    "terminated = False\n",
    "environment.reset()\n",
    "while not terminated:\n",
    "    action = [0] + [1/PORTFOLIO_SIZE] * PORTFOLIO_SIZE\n",
    "    _, _, terminated, _ = environment.step(action)\n",
    "    UBAH_results[\"train\"][\"actions\"].append(action)\n",
    "UBAH_results[\"train\"][\"value\"] = environment._asset_memory[\"final\"]\n",
    "\n",
    "# 2021\n",
    "terminated = False\n",
    "environment_2021.reset()\n",
    "while not terminated:\n",
    "    action = [0] + [1/PORTFOLIO_SIZE] * PORTFOLIO_SIZE\n",
    "    _, _, terminated, _ = environment_2021.step(action)\n",
    "    UBAH_results[\"2021\"][\"actions\"].append(action)\n",
    "UBAH_results[\"2021\"][\"value\"] = environment_2021._asset_memory[\"final\"]\n",
    "\n",
    "# 2022\n",
    "terminated = False\n",
    "environment_2022.reset()\n",
    "while not terminated:\n",
    "    action = [0] + [1/PORTFOLIO_SIZE] * PORTFOLIO_SIZE\n",
    "    _, _, terminated, _ = environment_2022.step(action)\n",
    "    UBAH_results[\"2022\"][\"actions\"].append(action)\n",
    "UBAH_results[\"2022\"][\"value\"] = environment_2022._asset_memory[\"final\"]\n",
    "\n",
    "# 2023\n",
    "terminated = False\n",
    "environment_2023.reset()\n",
    "while not terminated:\n",
    "    action = [0] + [1/PORTFOLIO_SIZE] * PORTFOLIO_SIZE\n",
    "    _, _, terminated, _ = environment_2023.step(action)\n",
    "    UBAH_results[\"2023\"][\"actions\"].append(action)\n",
    "UBAH_results[\"2023\"][\"value\"] = environment_2023._asset_memory[\"final\"]"
   ]
  },
  {
   "cell_type": "code",
   "execution_count": null,
   "metadata": {
    "scrolled": false
   },
   "outputs": [],
   "source": [
    "import matplotlib.pyplot as plt\n",
    "%matplotlib inline \n",
    "\n",
    "plt.plot(UBAH_results[\"train\"][\"value\"], label=\"Buy and Hold\")\n",
    "plt.plot(EIIE_results[\"train\"][\"value\"], label=\"EIIE\")\n",
    "#plt.plot(EI3_results[\"train\"][\"value\"], label=\"EI3\")\n",
    "\n",
    "plt.xlabel(\"Days\")\n",
    "plt.ylabel(\"Portfolio Value\")\n",
    "plt.title(\"Performance in training period\")\n",
    "plt.legend()\n",
    "\n",
    "plt.show()\n",
    "\n",
    "plt.plot(UBAH_results[\"2021\"][\"value\"], label=\"Buy and Hold\")\n",
    "plt.plot(EIIE_results[\"2021\"][\"value\"], label=\"EIIE\")\n",
    "#plt.plot(EI3_results[\"2021\"][\"value\"], label=\"EI3\")\n",
    "\n",
    "plt.xlabel(\"Days\")\n",
    "plt.ylabel(\"Portfolio Value\")\n",
    "plt.title(\"Performance in 2021\")\n",
    "plt.legend()\n",
    "\n",
    "plt.show()\n",
    "\n",
    "plt.plot(UBAH_results[\"2022\"][\"value\"], label=\"Buy and Hold\")\n",
    "plt.plot(EIIE_results[\"2022\"][\"value\"], label=\"EIIE\")\n",
    "#plt.plot(EI3_results[\"2022\"][\"value\"], label=\"EI3\")\n",
    "\n",
    "plt.xlabel(\"Days\")\n",
    "plt.ylabel(\"Portfolio Value\")\n",
    "plt.title(\"Performance in 2022\")\n",
    "plt.legend()\n",
    "\n",
    "plt.show()\n",
    "\n",
    "plt.plot(UBAH_results[\"2023\"][\"value\"], label=\"Buy and Hold\")\n",
    "plt.plot(EIIE_results[\"2023\"][\"value\"], label=\"EIIE\")\n",
    "#plt.plot(EI3_results[\"2023\"][\"value\"], label=\"EI3\")\n",
    "\n",
    "plt.xlabel(\"Days\")\n",
    "plt.ylabel(\"Portfolio Value\")\n",
    "plt.title(\"Performance in 2023\")\n",
    "plt.legend()\n",
    "\n",
    "plt.show()"
   ]
  },
  {
   "cell_type": "markdown",
   "metadata": {},
   "source": [
    "# Portfolio Allocation by Trained DRL Model"
   ]
  },
  {
   "cell_type": "code",
   "execution_count": null,
   "metadata": {
    "scrolled": false
   },
   "outputs": [],
   "source": [
    "# Function to plot action memory\n",
    "def plot_action_memory(actions, tickers, label):\n",
    "    \"\"\"Visualize portfolio allocation over time.\"\"\"\n",
    "    actions_df = pd.DataFrame(actions, columns=[\"cash\"] + tickers)\n",
    "    actions_df.plot(kind=\"line\", figsize=(12, 8), title=f\"Portfolio Allocation Breakdown - {label}\")\n",
    "    plt.ylabel(\"Portfolio Weight\")\n",
    "    plt.xlabel(\"Time Step\")\n",
    "    plt.legend(loc=\"upper left\", bbox_to_anchor=(1, 1))\n",
    "    plt.grid(True)\n",
    "    plt.tight_layout()\n",
    "    plt.show()\n",
    "\n",
    "# Plot EIIE actions for the training period\n",
    "plot_action_memory(EIIE_results[\"train\"][\"actions\"], TEST_SET, \"EIIE - Train\")\n",
    "\n",
    "# Plot EIIE actions for 2021\n",
    "plot_action_memory(EIIE_results[\"2021\"][\"actions\"], TEST_SET, \"EIIE - 2021\")\n",
    "\n",
    "# Plot EIIE actions for 2022\n",
    "plot_action_memory(EIIE_results[\"2022\"][\"actions\"], TEST_SET, \"EIIE - 2022\")\n",
    "\n",
    "# Plot EIIE actions for 2023\n",
    "plot_action_memory(EIIE_results[\"2023\"][\"actions\"], TEST_SET, \"EIIE - 2023\")\n",
    "\n",
    "# Similarly, plot UBAH actions for each period\n",
    "# plot_action_memory(UBAH_results[\"train\"][\"actions\"], TEST_SET, \"UBAH - Train\")\n",
    "# plot_action_memory(UBAH_results[\"2021\"][\"actions\"], TEST_SET, \"UBAH - 2021\")\n",
    "# plot_action_memory(UBAH_results[\"2022\"][\"actions\"], TEST_SET, \"UBAH - 2022\")\n",
    "# plot_action_memory(UBAH_results[\"2023\"][\"actions\"], TEST_SET, \"UBAH - 2023\")"
   ]
  },
  {
   "cell_type": "code",
   "execution_count": null,
   "metadata": {},
   "outputs": [],
   "source": []
  },
  {
   "cell_type": "code",
   "execution_count": null,
   "metadata": {},
   "outputs": [],
   "source": [
    "results_df2 = results_df2[[\"TIME_WINDOW\", \"K_SIZE\", \"CONV_MID\", \"CONV_FINAL\", \n",
    "            'train_portfolio_value', 'train_drawdown', 'train_sharpe','train_cumulative',\n",
    "            '2021_portfolio_value', '2021_drawdown', '2021_sharpe','2021_cumulative',\n",
    "             '2022_portfolio_value', '2022_drawdown', '2022_sharpe','2022_cumulative',\n",
    "             '2023_portfolio_value', '2023_drawdown', '2023_sharpe','2023_cumulative']]"
   ]
  },
  {
   "cell_type": "code",
   "execution_count": null,
   "metadata": {},
   "outputs": [],
   "source": []
  }
 ],
 "metadata": {
  "kernelspec": {
   "display_name": "Python 3",
   "language": "python",
   "name": "python3"
  },
  "language_info": {
   "codemirror_mode": {
    "name": "ipython",
    "version": 3
   },
   "file_extension": ".py",
   "mimetype": "text/x-python",
   "name": "python",
   "nbconvert_exporter": "python",
   "pygments_lexer": "ipython3",
   "version": "3.10.10"
  }
 },
 "nbformat": 4,
 "nbformat_minor": 2
}

{
 "cells": [
  {
   "cell_type": "code",
   "execution_count": 43,
   "metadata": {},
   "outputs": [
    {
     "data": {
      "text/plain": [
       "[{'label': 'positive', 'score': 0.7386977672576904},\n",
       " {'label': 'positive', 'score': 0.9481564164161682},\n",
       " {'label': 'neutral', 'score': 0.8471661806106567}]"
      ]
     },
     "execution_count": 43,
     "metadata": {},
     "output_type": "execute_result"
    }
   ],
   "source": [
    "# Use a pipeline as a high-level helper\n",
    "#!pip install git+https://github.com/huggingface/transformers\n",
    "\n",
    "# Accepts list of texts as arguments\n",
    "from transformers import pipeline\n",
    "\n",
    "pipe = pipeline(\"text-classification\", model=\"ProsusAI/finbert\")\n",
    "\n",
    "pipe([\"In terms of the entire fiscal year, the Zacks Consensus Estimates predict earnings of $6.70 per share and a revenue of $390.63 billion, indicating changes of +9.3% and +1.92%, respectively, from the former year.\",\n",
    "      \"Within the past 30 days, our consensus EPS projection has moved 0.1% higher.\",\n",
    "      \"This industry, currently bearing a Zacks Industry Rank of 181, finds itself in the bottom 29% echelons of all 250+ industries.\"])"
   ]
  },
  {
   "cell_type": "code",
   "execution_count": 40,
   "metadata": {},
   "outputs": [
    {
     "data": {
      "text/plain": [
       "'positive'"
      ]
     },
     "execution_count": 40,
     "metadata": {},
     "output_type": "execute_result"
    }
   ],
   "source": [
    "# Loading model directly\n",
    "\n",
    "import torch\n",
    "from transformers import AutoTokenizer, AutoModelForSequenceClassification\n",
    "\n",
    "tokenizer = AutoTokenizer.from_pretrained(\"ProsusAI/finbert\")\n",
    "model = AutoModelForSequenceClassification.from_pretrained(\"ProsusAI/finbert\")\n",
    "# Example input text (financial sentiment)\n",
    "# input_text = \"there is a drop in profits\"\n",
    "inputs = tokenizer(\"In terms of the entire fiscal year, the Zacks Consensus Estimates predict earnings of $6.70 per share and a revenue of $390.63 billion, indicating changes of +9.3% and +1.92%, respectively, from the former year.\", return_tensors=\"pt\")\n",
    "\n",
    "# Run the model\n",
    "with torch.no_grad():\n",
    "    logits = model(**inputs).logits\n",
    "\n",
    "predicted_class_id = logits.argmax().item()\n",
    "model.config.id2label[predicted_class_id]"
   ]
  }
 ],
 "metadata": {
  "kernelspec": {
   "display_name": "Python 3",
   "language": "python",
   "name": "python3"
  },
  "language_info": {
   "codemirror_mode": {
    "name": "ipython",
    "version": 3
   },
   "file_extension": ".py",
   "mimetype": "text/x-python",
   "name": "python",
   "nbconvert_exporter": "python",
   "pygments_lexer": "ipython3",
   "version": "3.10.11"
  }
 },
 "nbformat": 4,
 "nbformat_minor": 2
}
